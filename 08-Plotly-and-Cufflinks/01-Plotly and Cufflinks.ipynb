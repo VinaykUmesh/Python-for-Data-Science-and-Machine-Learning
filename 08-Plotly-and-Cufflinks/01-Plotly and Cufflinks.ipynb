{
 "cells": [
  {
   "cell_type": "markdown",
   "metadata": {},
   "source": [
    "# Plotly and Cufflinks"
   ]
  },
  {
   "cell_type": "markdown",
   "metadata": {},
   "source": [
    "Plotly is a library that allows you to create interactive plots that you can use in dashboards or websites (you can save them as html files or static images).\n",
    "\n",
    "## Installation\n",
    "\n",
    "In order for this all to work, you'll need to install plotly and cufflinks to call plots directly off of a pandas dataframe. These libraries are not currently available through **conda** but are available through **pip**. Install the libraries at your command line/terminal using:\n",
    "\n",
    "    pip install plotly\n",
    "    pip install cufflinks\n",
    "\n",
    "** NOTE: Make sure you only have one installation of Python on your computer when you do this, otherwise the installation may not work. **\n",
    "\n",
    "## Imports and Set-up"
   ]
  },
  {
   "cell_type": "code",
   "execution_count": 1,
   "metadata": {},
   "outputs": [],
   "source": [
    "import pandas as pd\n",
    "import numpy as np\n",
    "%matplotlib inline"
   ]
  },
  {
   "cell_type": "code",
   "execution_count": 2,
   "metadata": {},
   "outputs": [
    {
     "name": "stdout",
     "output_type": "stream",
     "text": [
      "4.10.0\n"
     ]
    }
   ],
   "source": [
    "from plotly import __version__\n",
    "from plotly.offline import download_plotlyjs, init_notebook_mode, plot, iplot\n",
    "\n",
    "print(__version__) # requires version >= 1.9.0"
   ]
  },
  {
   "cell_type": "code",
   "execution_count": 3,
   "metadata": {},
   "outputs": [],
   "source": [
    "import cufflinks as cf"
   ]
  },
  {
   "cell_type": "code",
   "execution_count": 4,
   "metadata": {},
   "outputs": [
    {
     "data": {
      "text/html": [
       "        <script type=\"text/javascript\">\n",
       "        window.PlotlyConfig = {MathJaxConfig: 'local'};\n",
       "        if (window.MathJax) {MathJax.Hub.Config({SVG: {font: \"STIX-Web\"}});}\n",
       "        if (typeof require !== 'undefined') {\n",
       "        require.undef(\"plotly\");\n",
       "        requirejs.config({\n",
       "            paths: {\n",
       "                'plotly': ['https://cdn.plot.ly/plotly-latest.min']\n",
       "            }\n",
       "        });\n",
       "        require(['plotly'], function(Plotly) {\n",
       "            window._Plotly = Plotly;\n",
       "        });\n",
       "        }\n",
       "        </script>\n",
       "        "
      ]
     },
     "metadata": {},
     "output_type": "display_data"
    }
   ],
   "source": [
    "# For Notebooks\n",
    "init_notebook_mode(connected=True)"
   ]
  },
  {
   "cell_type": "code",
   "execution_count": 5,
   "metadata": {},
   "outputs": [
    {
     "data": {
      "text/html": [
       "        <script type=\"text/javascript\">\n",
       "        window.PlotlyConfig = {MathJaxConfig: 'local'};\n",
       "        if (window.MathJax) {MathJax.Hub.Config({SVG: {font: \"STIX-Web\"}});}\n",
       "        if (typeof require !== 'undefined') {\n",
       "        require.undef(\"plotly\");\n",
       "        requirejs.config({\n",
       "            paths: {\n",
       "                'plotly': ['https://cdn.plot.ly/plotly-latest.min']\n",
       "            }\n",
       "        });\n",
       "        require(['plotly'], function(Plotly) {\n",
       "            window._Plotly = Plotly;\n",
       "        });\n",
       "        }\n",
       "        </script>\n",
       "        "
      ]
     },
     "metadata": {},
     "output_type": "display_data"
    }
   ],
   "source": [
    "# For offline use\n",
    "cf.go_offline()"
   ]
  },
  {
   "cell_type": "markdown",
   "metadata": {},
   "source": [
    "### Fake Data"
   ]
  },
  {
   "cell_type": "code",
   "execution_count": 6,
   "metadata": {},
   "outputs": [],
   "source": [
    "df = pd.DataFrame(np.random.randn(100,4),columns='A B C D'.split())"
   ]
  },
  {
   "cell_type": "code",
   "execution_count": 7,
   "metadata": {},
   "outputs": [
    {
     "data": {
      "text/html": [
       "<div>\n",
       "<style scoped>\n",
       "    .dataframe tbody tr th:only-of-type {\n",
       "        vertical-align: middle;\n",
       "    }\n",
       "\n",
       "    .dataframe tbody tr th {\n",
       "        vertical-align: top;\n",
       "    }\n",
       "\n",
       "    .dataframe thead th {\n",
       "        text-align: right;\n",
       "    }\n",
       "</style>\n",
       "<table border=\"1\" class=\"dataframe\">\n",
       "  <thead>\n",
       "    <tr style=\"text-align: right;\">\n",
       "      <th></th>\n",
       "      <th>A</th>\n",
       "      <th>B</th>\n",
       "      <th>C</th>\n",
       "      <th>D</th>\n",
       "    </tr>\n",
       "  </thead>\n",
       "  <tbody>\n",
       "    <tr>\n",
       "      <th>0</th>\n",
       "      <td>1.423128</td>\n",
       "      <td>-1.315915</td>\n",
       "      <td>-0.132376</td>\n",
       "      <td>0.738529</td>\n",
       "    </tr>\n",
       "    <tr>\n",
       "      <th>1</th>\n",
       "      <td>0.751660</td>\n",
       "      <td>-0.671173</td>\n",
       "      <td>-0.052348</td>\n",
       "      <td>-1.517658</td>\n",
       "    </tr>\n",
       "    <tr>\n",
       "      <th>2</th>\n",
       "      <td>-0.040698</td>\n",
       "      <td>0.938031</td>\n",
       "      <td>0.469253</td>\n",
       "      <td>0.512595</td>\n",
       "    </tr>\n",
       "    <tr>\n",
       "      <th>3</th>\n",
       "      <td>0.849453</td>\n",
       "      <td>-0.883173</td>\n",
       "      <td>0.316138</td>\n",
       "      <td>-0.976569</td>\n",
       "    </tr>\n",
       "    <tr>\n",
       "      <th>4</th>\n",
       "      <td>0.797765</td>\n",
       "      <td>-1.155954</td>\n",
       "      <td>0.038078</td>\n",
       "      <td>0.259738</td>\n",
       "    </tr>\n",
       "  </tbody>\n",
       "</table>\n",
       "</div>"
      ],
      "text/plain": [
       "          A         B         C         D\n",
       "0  1.423128 -1.315915 -0.132376  0.738529\n",
       "1  0.751660 -0.671173 -0.052348 -1.517658\n",
       "2 -0.040698  0.938031  0.469253  0.512595\n",
       "3  0.849453 -0.883173  0.316138 -0.976569\n",
       "4  0.797765 -1.155954  0.038078  0.259738"
      ]
     },
     "execution_count": 7,
     "metadata": {},
     "output_type": "execute_result"
    }
   ],
   "source": [
    "df.head()"
   ]
  },
  {
   "cell_type": "code",
   "execution_count": 8,
   "metadata": {},
   "outputs": [],
   "source": [
    "df2 = pd.DataFrame({'Category':['A','B','C'],'Values':[32,43,50]})"
   ]
  },
  {
   "cell_type": "code",
   "execution_count": 9,
   "metadata": {},
   "outputs": [
    {
     "data": {
      "text/html": [
       "<div>\n",
       "<style scoped>\n",
       "    .dataframe tbody tr th:only-of-type {\n",
       "        vertical-align: middle;\n",
       "    }\n",
       "\n",
       "    .dataframe tbody tr th {\n",
       "        vertical-align: top;\n",
       "    }\n",
       "\n",
       "    .dataframe thead th {\n",
       "        text-align: right;\n",
       "    }\n",
       "</style>\n",
       "<table border=\"1\" class=\"dataframe\">\n",
       "  <thead>\n",
       "    <tr style=\"text-align: right;\">\n",
       "      <th></th>\n",
       "      <th>Category</th>\n",
       "      <th>Values</th>\n",
       "    </tr>\n",
       "  </thead>\n",
       "  <tbody>\n",
       "    <tr>\n",
       "      <th>0</th>\n",
       "      <td>A</td>\n",
       "      <td>32</td>\n",
       "    </tr>\n",
       "    <tr>\n",
       "      <th>1</th>\n",
       "      <td>B</td>\n",
       "      <td>43</td>\n",
       "    </tr>\n",
       "    <tr>\n",
       "      <th>2</th>\n",
       "      <td>C</td>\n",
       "      <td>50</td>\n",
       "    </tr>\n",
       "  </tbody>\n",
       "</table>\n",
       "</div>"
      ],
      "text/plain": [
       "  Category  Values\n",
       "0        A      32\n",
       "1        B      43\n",
       "2        C      50"
      ]
     },
     "execution_count": 9,
     "metadata": {},
     "output_type": "execute_result"
    }
   ],
   "source": [
    "df2.head()"
   ]
  },
  {
   "cell_type": "markdown",
   "metadata": {},
   "source": [
    "## Using Cufflinks and iplot()\n",
    "\n",
    "* scatter\n",
    "* bar\n",
    "* box\n",
    "* spread\n",
    "* ratio\n",
    "* heatmap\n",
    "* surface\n",
    "* histogram\n",
    "* bubble"
   ]
  },
  {
   "cell_type": "markdown",
   "metadata": {},
   "source": [
    "## Scatter"
   ]
  },
  {
   "cell_type": "code",
   "execution_count": 10,
   "metadata": {},
   "outputs": [
    {
     "data": {
      "application/vnd.plotly.v1+json": {
       "config": {
        "linkText": "Export to plot.ly",
        "plotlyServerURL": "https://plot.ly",
        "showLink": true
       },
       "data": [
        {
         "line": {
          "color": "rgba(255, 153, 51, 1.0)",
          "dash": "solid",
          "shape": "linear",
          "width": 1.3
         },
         "marker": {
          "size": 10,
          "symbol": "circle"
         },
         "mode": "markers",
         "name": "B",
         "text": "",
         "type": "scatter",
         "x": [
          1.4231283587146955,
          0.7516603116190158,
          -0.04069831395129999,
          0.8494525246784042,
          0.7977645931831729,
          -2.424491651018319,
          -1.2582093110568149,
          -0.15529258970936946,
          -0.45312148704220795,
          -2.2775610915462363,
          0.1332429602222429,
          0.3998857890171944,
          -0.14904950186615676,
          1.1931908500642565,
          0.783776424506487,
          -0.13860290912962892,
          0.7664731049270755,
          -0.14547497275331425,
          -0.40802584839016576,
          1.0711888545925605,
          -0.642313308372773,
          0.049879911918071174,
          1.8009405803668426,
          -1.469579438518773,
          2.211475339175111,
          -0.38394754230209527,
          -0.8483588357454597,
          -0.4233808984906991,
          0.8970171336936127,
          -0.46309218292344384,
          -1.540708272987029,
          -0.22011844093930893,
          1.2626125439114022,
          -0.8599224592696124,
          0.7620320340247184,
          0.6063787747519568,
          -0.5021325565790095,
          -0.4042442991222263,
          0.6378712352966499,
          -0.32475739002353093,
          -1.355471592482026,
          0.8188916405081248,
          -0.7136407597534036,
          1.4530169466066432,
          0.12437035702819564,
          0.34380998064207186,
          0.3670261299236814,
          -0.7087328956200836,
          -1.258067366257801,
          0.12928804837990635,
          -0.31603283402669446,
          0.6408530470104912,
          1.194512576723845,
          -1.5542148592170382,
          -0.3180623240226567,
          -0.26232905958765823,
          -2.5250678931764288,
          0.03021518574286839,
          0.8782566747525722,
          0.06805291179027405,
          -0.7800434613277817,
          0.30587770196971614,
          -1.527764831789569,
          -1.2455255738078197,
          0.8708789079885804,
          -2.277781652216472,
          -0.961085083474282,
          0.7480604179254391,
          -1.132740550097753,
          -0.21494270061498336,
          0.26326840794947803,
          1.9435527095905965,
          0.6633014767479828,
          -0.33967376673719074,
          -1.0005256175729227,
          1.033839740834173,
          -0.1344938358004172,
          -1.8377909653802171,
          0.4862090693094273,
          0.019117224110497474,
          1.4381775613316357,
          1.0022419802726958,
          0.6177486704087491,
          0.2238116198272653,
          -0.3792759330228207,
          1.5642561450343315,
          -1.4797684734922998,
          1.0732977102841788,
          -1.0993447775978227,
          0.6133786466992118,
          -1.7069242684336634,
          1.2751028892789205,
          0.401432572330607,
          0.8652760480066986,
          -0.019418977081185895,
          0.9807867122167452,
          1.6018808310985337,
          0.13459144877490167,
          0.9626180719042506,
          0.9937757289990029
         ],
         "y": [
          -1.3159148036125334,
          -0.6711729334327814,
          0.938030616343648,
          -0.883172519923497,
          -1.1559543838137716,
          -0.21362938182096808,
          1.1865996630899105,
          -0.13503942410931474,
          0.702379722654413,
          2.1627358962212906,
          0.2707271260340421,
          -0.08373718813127257,
          -1.4246125339918407,
          0.19285853601533218,
          0.6007247164853516,
          -0.8692022129422258,
          0.101009847359833,
          1.446347405489576,
          1.4241402916808978,
          0.09233934005602447,
          2.1859187944191194,
          0.7649775110539025,
          0.6796053495705884,
          -0.554852071312288,
          1.1130260106970804,
          -1.5297190221801549,
          0.22693985504789704,
          -0.9814227313037053,
          1.3706959453569925,
          2.0683730411899925,
          0.4586619732815214,
          1.2190858388012593,
          -1.1004677584045799,
          -0.28434856410119347,
          0.2926406015415052,
          -0.4334229059903361,
          -1.4806843754448946,
          -0.9910248686250521,
          0.13800914672309186,
          -1.034345016229925,
          -1.3875499683950403,
          -0.2839718128545817,
          0.40723721037804944,
          1.2103459308374067,
          -0.6544666001268368,
          -1.323283032466016,
          -0.9338408253711902,
          -1.3657749261666121,
          -0.22670230951583553,
          1.673174411862094,
          -0.7392250392494247,
          -0.5977251424426647,
          -0.8798250439172343,
          0.848483523562618,
          -0.8373298454739747,
          -0.4928515836198017,
          0.7567630417126984,
          1.7191358646363109,
          1.9142309523473156,
          0.7116906418838965,
          -0.6317604607877776,
          -0.3603533087907271,
          0.06537406356420647,
          -0.2362899962772877,
          0.30910863432263014,
          -0.3106251550628561,
          -0.425735266645392,
          -0.16654657872439244,
          1.0279927804245697,
          0.6154531545225654,
          0.38133211748851936,
          0.7107218250480805,
          0.6169978660921006,
          0.35961602170113527,
          0.3529418612584008,
          -2.4210794154829363,
          0.21751336076725786,
          0.13751215145474693,
          1.8218497869401669,
          -1.026045419410824,
          -0.17358063387533523,
          -0.12941743078398793,
          -0.10898435004964954,
          -0.9815145765089636,
          -0.712956213176565,
          0.45861126534718105,
          -1.35549152949366,
          0.261728135661618,
          0.44365502505321674,
          -0.4299447790444871,
          1.4603204442829751,
          -2.77607709870146,
          -0.11281905305207801,
          0.4503284425976104,
          -0.6363703760997098,
          0.706131730762392,
          -0.5553440039407791,
          -0.5558337541696055,
          1.1021535193467047,
          -0.10646954349882545
         ]
        }
       ],
       "layout": {
        "legend": {
         "bgcolor": "#F5F6F9",
         "font": {
          "color": "#4D5663"
         }
        },
        "paper_bgcolor": "#F5F6F9",
        "plot_bgcolor": "#F5F6F9",
        "template": {
         "data": {
          "bar": [
           {
            "error_x": {
             "color": "#2a3f5f"
            },
            "error_y": {
             "color": "#2a3f5f"
            },
            "marker": {
             "line": {
              "color": "#E5ECF6",
              "width": 0.5
             }
            },
            "type": "bar"
           }
          ],
          "barpolar": [
           {
            "marker": {
             "line": {
              "color": "#E5ECF6",
              "width": 0.5
             }
            },
            "type": "barpolar"
           }
          ],
          "carpet": [
           {
            "aaxis": {
             "endlinecolor": "#2a3f5f",
             "gridcolor": "white",
             "linecolor": "white",
             "minorgridcolor": "white",
             "startlinecolor": "#2a3f5f"
            },
            "baxis": {
             "endlinecolor": "#2a3f5f",
             "gridcolor": "white",
             "linecolor": "white",
             "minorgridcolor": "white",
             "startlinecolor": "#2a3f5f"
            },
            "type": "carpet"
           }
          ],
          "choropleth": [
           {
            "colorbar": {
             "outlinewidth": 0,
             "ticks": ""
            },
            "type": "choropleth"
           }
          ],
          "contour": [
           {
            "colorbar": {
             "outlinewidth": 0,
             "ticks": ""
            },
            "colorscale": [
             [
              0,
              "#0d0887"
             ],
             [
              0.1111111111111111,
              "#46039f"
             ],
             [
              0.2222222222222222,
              "#7201a8"
             ],
             [
              0.3333333333333333,
              "#9c179e"
             ],
             [
              0.4444444444444444,
              "#bd3786"
             ],
             [
              0.5555555555555556,
              "#d8576b"
             ],
             [
              0.6666666666666666,
              "#ed7953"
             ],
             [
              0.7777777777777778,
              "#fb9f3a"
             ],
             [
              0.8888888888888888,
              "#fdca26"
             ],
             [
              1,
              "#f0f921"
             ]
            ],
            "type": "contour"
           }
          ],
          "contourcarpet": [
           {
            "colorbar": {
             "outlinewidth": 0,
             "ticks": ""
            },
            "type": "contourcarpet"
           }
          ],
          "heatmap": [
           {
            "colorbar": {
             "outlinewidth": 0,
             "ticks": ""
            },
            "colorscale": [
             [
              0,
              "#0d0887"
             ],
             [
              0.1111111111111111,
              "#46039f"
             ],
             [
              0.2222222222222222,
              "#7201a8"
             ],
             [
              0.3333333333333333,
              "#9c179e"
             ],
             [
              0.4444444444444444,
              "#bd3786"
             ],
             [
              0.5555555555555556,
              "#d8576b"
             ],
             [
              0.6666666666666666,
              "#ed7953"
             ],
             [
              0.7777777777777778,
              "#fb9f3a"
             ],
             [
              0.8888888888888888,
              "#fdca26"
             ],
             [
              1,
              "#f0f921"
             ]
            ],
            "type": "heatmap"
           }
          ],
          "heatmapgl": [
           {
            "colorbar": {
             "outlinewidth": 0,
             "ticks": ""
            },
            "colorscale": [
             [
              0,
              "#0d0887"
             ],
             [
              0.1111111111111111,
              "#46039f"
             ],
             [
              0.2222222222222222,
              "#7201a8"
             ],
             [
              0.3333333333333333,
              "#9c179e"
             ],
             [
              0.4444444444444444,
              "#bd3786"
             ],
             [
              0.5555555555555556,
              "#d8576b"
             ],
             [
              0.6666666666666666,
              "#ed7953"
             ],
             [
              0.7777777777777778,
              "#fb9f3a"
             ],
             [
              0.8888888888888888,
              "#fdca26"
             ],
             [
              1,
              "#f0f921"
             ]
            ],
            "type": "heatmapgl"
           }
          ],
          "histogram": [
           {
            "marker": {
             "colorbar": {
              "outlinewidth": 0,
              "ticks": ""
             }
            },
            "type": "histogram"
           }
          ],
          "histogram2d": [
           {
            "colorbar": {
             "outlinewidth": 0,
             "ticks": ""
            },
            "colorscale": [
             [
              0,
              "#0d0887"
             ],
             [
              0.1111111111111111,
              "#46039f"
             ],
             [
              0.2222222222222222,
              "#7201a8"
             ],
             [
              0.3333333333333333,
              "#9c179e"
             ],
             [
              0.4444444444444444,
              "#bd3786"
             ],
             [
              0.5555555555555556,
              "#d8576b"
             ],
             [
              0.6666666666666666,
              "#ed7953"
             ],
             [
              0.7777777777777778,
              "#fb9f3a"
             ],
             [
              0.8888888888888888,
              "#fdca26"
             ],
             [
              1,
              "#f0f921"
             ]
            ],
            "type": "histogram2d"
           }
          ],
          "histogram2dcontour": [
           {
            "colorbar": {
             "outlinewidth": 0,
             "ticks": ""
            },
            "colorscale": [
             [
              0,
              "#0d0887"
             ],
             [
              0.1111111111111111,
              "#46039f"
             ],
             [
              0.2222222222222222,
              "#7201a8"
             ],
             [
              0.3333333333333333,
              "#9c179e"
             ],
             [
              0.4444444444444444,
              "#bd3786"
             ],
             [
              0.5555555555555556,
              "#d8576b"
             ],
             [
              0.6666666666666666,
              "#ed7953"
             ],
             [
              0.7777777777777778,
              "#fb9f3a"
             ],
             [
              0.8888888888888888,
              "#fdca26"
             ],
             [
              1,
              "#f0f921"
             ]
            ],
            "type": "histogram2dcontour"
           }
          ],
          "mesh3d": [
           {
            "colorbar": {
             "outlinewidth": 0,
             "ticks": ""
            },
            "type": "mesh3d"
           }
          ],
          "parcoords": [
           {
            "line": {
             "colorbar": {
              "outlinewidth": 0,
              "ticks": ""
             }
            },
            "type": "parcoords"
           }
          ],
          "pie": [
           {
            "automargin": true,
            "type": "pie"
           }
          ],
          "scatter": [
           {
            "marker": {
             "colorbar": {
              "outlinewidth": 0,
              "ticks": ""
             }
            },
            "type": "scatter"
           }
          ],
          "scatter3d": [
           {
            "line": {
             "colorbar": {
              "outlinewidth": 0,
              "ticks": ""
             }
            },
            "marker": {
             "colorbar": {
              "outlinewidth": 0,
              "ticks": ""
             }
            },
            "type": "scatter3d"
           }
          ],
          "scattercarpet": [
           {
            "marker": {
             "colorbar": {
              "outlinewidth": 0,
              "ticks": ""
             }
            },
            "type": "scattercarpet"
           }
          ],
          "scattergeo": [
           {
            "marker": {
             "colorbar": {
              "outlinewidth": 0,
              "ticks": ""
             }
            },
            "type": "scattergeo"
           }
          ],
          "scattergl": [
           {
            "marker": {
             "colorbar": {
              "outlinewidth": 0,
              "ticks": ""
             }
            },
            "type": "scattergl"
           }
          ],
          "scattermapbox": [
           {
            "marker": {
             "colorbar": {
              "outlinewidth": 0,
              "ticks": ""
             }
            },
            "type": "scattermapbox"
           }
          ],
          "scatterpolar": [
           {
            "marker": {
             "colorbar": {
              "outlinewidth": 0,
              "ticks": ""
             }
            },
            "type": "scatterpolar"
           }
          ],
          "scatterpolargl": [
           {
            "marker": {
             "colorbar": {
              "outlinewidth": 0,
              "ticks": ""
             }
            },
            "type": "scatterpolargl"
           }
          ],
          "scatterternary": [
           {
            "marker": {
             "colorbar": {
              "outlinewidth": 0,
              "ticks": ""
             }
            },
            "type": "scatterternary"
           }
          ],
          "surface": [
           {
            "colorbar": {
             "outlinewidth": 0,
             "ticks": ""
            },
            "colorscale": [
             [
              0,
              "#0d0887"
             ],
             [
              0.1111111111111111,
              "#46039f"
             ],
             [
              0.2222222222222222,
              "#7201a8"
             ],
             [
              0.3333333333333333,
              "#9c179e"
             ],
             [
              0.4444444444444444,
              "#bd3786"
             ],
             [
              0.5555555555555556,
              "#d8576b"
             ],
             [
              0.6666666666666666,
              "#ed7953"
             ],
             [
              0.7777777777777778,
              "#fb9f3a"
             ],
             [
              0.8888888888888888,
              "#fdca26"
             ],
             [
              1,
              "#f0f921"
             ]
            ],
            "type": "surface"
           }
          ],
          "table": [
           {
            "cells": {
             "fill": {
              "color": "#EBF0F8"
             },
             "line": {
              "color": "white"
             }
            },
            "header": {
             "fill": {
              "color": "#C8D4E3"
             },
             "line": {
              "color": "white"
             }
            },
            "type": "table"
           }
          ]
         },
         "layout": {
          "annotationdefaults": {
           "arrowcolor": "#2a3f5f",
           "arrowhead": 0,
           "arrowwidth": 1
          },
          "coloraxis": {
           "colorbar": {
            "outlinewidth": 0,
            "ticks": ""
           }
          },
          "colorscale": {
           "diverging": [
            [
             0,
             "#8e0152"
            ],
            [
             0.1,
             "#c51b7d"
            ],
            [
             0.2,
             "#de77ae"
            ],
            [
             0.3,
             "#f1b6da"
            ],
            [
             0.4,
             "#fde0ef"
            ],
            [
             0.5,
             "#f7f7f7"
            ],
            [
             0.6,
             "#e6f5d0"
            ],
            [
             0.7,
             "#b8e186"
            ],
            [
             0.8,
             "#7fbc41"
            ],
            [
             0.9,
             "#4d9221"
            ],
            [
             1,
             "#276419"
            ]
           ],
           "sequential": [
            [
             0,
             "#0d0887"
            ],
            [
             0.1111111111111111,
             "#46039f"
            ],
            [
             0.2222222222222222,
             "#7201a8"
            ],
            [
             0.3333333333333333,
             "#9c179e"
            ],
            [
             0.4444444444444444,
             "#bd3786"
            ],
            [
             0.5555555555555556,
             "#d8576b"
            ],
            [
             0.6666666666666666,
             "#ed7953"
            ],
            [
             0.7777777777777778,
             "#fb9f3a"
            ],
            [
             0.8888888888888888,
             "#fdca26"
            ],
            [
             1,
             "#f0f921"
            ]
           ],
           "sequentialminus": [
            [
             0,
             "#0d0887"
            ],
            [
             0.1111111111111111,
             "#46039f"
            ],
            [
             0.2222222222222222,
             "#7201a8"
            ],
            [
             0.3333333333333333,
             "#9c179e"
            ],
            [
             0.4444444444444444,
             "#bd3786"
            ],
            [
             0.5555555555555556,
             "#d8576b"
            ],
            [
             0.6666666666666666,
             "#ed7953"
            ],
            [
             0.7777777777777778,
             "#fb9f3a"
            ],
            [
             0.8888888888888888,
             "#fdca26"
            ],
            [
             1,
             "#f0f921"
            ]
           ]
          },
          "colorway": [
           "#636efa",
           "#EF553B",
           "#00cc96",
           "#ab63fa",
           "#FFA15A",
           "#19d3f3",
           "#FF6692",
           "#B6E880",
           "#FF97FF",
           "#FECB52"
          ],
          "font": {
           "color": "#2a3f5f"
          },
          "geo": {
           "bgcolor": "white",
           "lakecolor": "white",
           "landcolor": "#E5ECF6",
           "showlakes": true,
           "showland": true,
           "subunitcolor": "white"
          },
          "hoverlabel": {
           "align": "left"
          },
          "hovermode": "closest",
          "mapbox": {
           "style": "light"
          },
          "paper_bgcolor": "white",
          "plot_bgcolor": "#E5ECF6",
          "polar": {
           "angularaxis": {
            "gridcolor": "white",
            "linecolor": "white",
            "ticks": ""
           },
           "bgcolor": "#E5ECF6",
           "radialaxis": {
            "gridcolor": "white",
            "linecolor": "white",
            "ticks": ""
           }
          },
          "scene": {
           "xaxis": {
            "backgroundcolor": "#E5ECF6",
            "gridcolor": "white",
            "gridwidth": 2,
            "linecolor": "white",
            "showbackground": true,
            "ticks": "",
            "zerolinecolor": "white"
           },
           "yaxis": {
            "backgroundcolor": "#E5ECF6",
            "gridcolor": "white",
            "gridwidth": 2,
            "linecolor": "white",
            "showbackground": true,
            "ticks": "",
            "zerolinecolor": "white"
           },
           "zaxis": {
            "backgroundcolor": "#E5ECF6",
            "gridcolor": "white",
            "gridwidth": 2,
            "linecolor": "white",
            "showbackground": true,
            "ticks": "",
            "zerolinecolor": "white"
           }
          },
          "shapedefaults": {
           "line": {
            "color": "#2a3f5f"
           }
          },
          "ternary": {
           "aaxis": {
            "gridcolor": "white",
            "linecolor": "white",
            "ticks": ""
           },
           "baxis": {
            "gridcolor": "white",
            "linecolor": "white",
            "ticks": ""
           },
           "bgcolor": "#E5ECF6",
           "caxis": {
            "gridcolor": "white",
            "linecolor": "white",
            "ticks": ""
           }
          },
          "title": {
           "x": 0.05
          },
          "xaxis": {
           "automargin": true,
           "gridcolor": "white",
           "linecolor": "white",
           "ticks": "",
           "title": {
            "standoff": 15
           },
           "zerolinecolor": "white",
           "zerolinewidth": 2
          },
          "yaxis": {
           "automargin": true,
           "gridcolor": "white",
           "linecolor": "white",
           "ticks": "",
           "title": {
            "standoff": 15
           },
           "zerolinecolor": "white",
           "zerolinewidth": 2
          }
         }
        },
        "title": {
         "font": {
          "color": "#4D5663"
         }
        },
        "xaxis": {
         "gridcolor": "#E1E5ED",
         "showgrid": true,
         "tickfont": {
          "color": "#4D5663"
         },
         "title": {
          "font": {
           "color": "#4D5663"
          },
          "text": ""
         },
         "zerolinecolor": "#E1E5ED"
        },
        "yaxis": {
         "gridcolor": "#E1E5ED",
         "showgrid": true,
         "tickfont": {
          "color": "#4D5663"
         },
         "title": {
          "font": {
           "color": "#4D5663"
          },
          "text": ""
         },
         "zerolinecolor": "#E1E5ED"
        }
       }
      },
      "text/html": [
       "<div>                            <div id=\"d622a25d-9668-4b62-85ad-6a1e93ae0a35\" class=\"plotly-graph-div\" style=\"height:525px; width:100%;\"></div>            <script type=\"text/javascript\">                require([\"plotly\"], function(Plotly) {                    window.PLOTLYENV=window.PLOTLYENV || {};\n",
       "                    window.PLOTLYENV.BASE_URL='https://plot.ly';                                    if (document.getElementById(\"d622a25d-9668-4b62-85ad-6a1e93ae0a35\")) {                    Plotly.newPlot(                        \"d622a25d-9668-4b62-85ad-6a1e93ae0a35\",                        [{\"line\": {\"color\": \"rgba(255, 153, 51, 1.0)\", \"dash\": \"solid\", \"shape\": \"linear\", \"width\": 1.3}, \"marker\": {\"size\": 10, \"symbol\": \"circle\"}, \"mode\": \"markers\", \"name\": \"B\", \"text\": \"\", \"type\": \"scatter\", \"x\": [1.4231283587146955, 0.7516603116190158, -0.04069831395129999, 0.8494525246784042, 0.7977645931831729, -2.424491651018319, -1.2582093110568149, -0.15529258970936946, -0.45312148704220795, -2.2775610915462363, 0.1332429602222429, 0.3998857890171944, -0.14904950186615676, 1.1931908500642565, 0.783776424506487, -0.13860290912962892, 0.7664731049270755, -0.14547497275331425, -0.40802584839016576, 1.0711888545925605, -0.642313308372773, 0.049879911918071174, 1.8009405803668426, -1.469579438518773, 2.211475339175111, -0.38394754230209527, -0.8483588357454597, -0.4233808984906991, 0.8970171336936127, -0.46309218292344384, -1.540708272987029, -0.22011844093930893, 1.2626125439114022, -0.8599224592696124, 0.7620320340247184, 0.6063787747519568, -0.5021325565790095, -0.4042442991222263, 0.6378712352966499, -0.32475739002353093, -1.355471592482026, 0.8188916405081248, -0.7136407597534036, 1.4530169466066432, 0.12437035702819564, 0.34380998064207186, 0.3670261299236814, -0.7087328956200836, -1.258067366257801, 0.12928804837990635, -0.31603283402669446, 0.6408530470104912, 1.194512576723845, -1.5542148592170382, -0.3180623240226567, -0.26232905958765823, -2.5250678931764288, 0.03021518574286839, 0.8782566747525722, 0.06805291179027405, -0.7800434613277817, 0.30587770196971614, -1.527764831789569, -1.2455255738078197, 0.8708789079885804, -2.277781652216472, -0.961085083474282, 0.7480604179254391, -1.132740550097753, -0.21494270061498336, 0.26326840794947803, 1.9435527095905965, 0.6633014767479828, -0.33967376673719074, -1.0005256175729227, 1.033839740834173, -0.1344938358004172, -1.8377909653802171, 0.4862090693094273, 0.019117224110497474, 1.4381775613316357, 1.0022419802726958, 0.6177486704087491, 0.2238116198272653, -0.3792759330228207, 1.5642561450343315, -1.4797684734922998, 1.0732977102841788, -1.0993447775978227, 0.6133786466992118, -1.7069242684336634, 1.2751028892789205, 0.401432572330607, 0.8652760480066986, -0.019418977081185895, 0.9807867122167452, 1.6018808310985337, 0.13459144877490167, 0.9626180719042506, 0.9937757289990029], \"y\": [-1.3159148036125334, -0.6711729334327814, 0.938030616343648, -0.883172519923497, -1.1559543838137716, -0.21362938182096808, 1.1865996630899105, -0.13503942410931474, 0.702379722654413, 2.1627358962212906, 0.2707271260340421, -0.08373718813127257, -1.4246125339918407, 0.19285853601533218, 0.6007247164853516, -0.8692022129422258, 0.101009847359833, 1.446347405489576, 1.4241402916808978, 0.09233934005602447, 2.1859187944191194, 0.7649775110539025, 0.6796053495705884, -0.554852071312288, 1.1130260106970804, -1.5297190221801549, 0.22693985504789704, -0.9814227313037053, 1.3706959453569925, 2.0683730411899925, 0.4586619732815214, 1.2190858388012593, -1.1004677584045799, -0.28434856410119347, 0.2926406015415052, -0.4334229059903361, -1.4806843754448946, -0.9910248686250521, 0.13800914672309186, -1.034345016229925, -1.3875499683950403, -0.2839718128545817, 0.40723721037804944, 1.2103459308374067, -0.6544666001268368, -1.323283032466016, -0.9338408253711902, -1.3657749261666121, -0.22670230951583553, 1.673174411862094, -0.7392250392494247, -0.5977251424426647, -0.8798250439172343, 0.848483523562618, -0.8373298454739747, -0.4928515836198017, 0.7567630417126984, 1.7191358646363109, 1.9142309523473156, 0.7116906418838965, -0.6317604607877776, -0.3603533087907271, 0.06537406356420647, -0.2362899962772877, 0.30910863432263014, -0.3106251550628561, -0.425735266645392, -0.16654657872439244, 1.0279927804245697, 0.6154531545225654, 0.38133211748851936, 0.7107218250480805, 0.6169978660921006, 0.35961602170113527, 0.3529418612584008, -2.4210794154829363, 0.21751336076725786, 0.13751215145474693, 1.8218497869401669, -1.026045419410824, -0.17358063387533523, -0.12941743078398793, -0.10898435004964954, -0.9815145765089636, -0.712956213176565, 0.45861126534718105, -1.35549152949366, 0.261728135661618, 0.44365502505321674, -0.4299447790444871, 1.4603204442829751, -2.77607709870146, -0.11281905305207801, 0.4503284425976104, -0.6363703760997098, 0.706131730762392, -0.5553440039407791, -0.5558337541696055, 1.1021535193467047, -0.10646954349882545]}],                        {\"legend\": {\"bgcolor\": \"#F5F6F9\", \"font\": {\"color\": \"#4D5663\"}}, \"paper_bgcolor\": \"#F5F6F9\", \"plot_bgcolor\": \"#F5F6F9\", \"template\": {\"data\": {\"bar\": [{\"error_x\": {\"color\": \"#2a3f5f\"}, \"error_y\": {\"color\": \"#2a3f5f\"}, \"marker\": {\"line\": {\"color\": \"#E5ECF6\", \"width\": 0.5}}, \"type\": \"bar\"}], \"barpolar\": [{\"marker\": {\"line\": {\"color\": \"#E5ECF6\", \"width\": 0.5}}, \"type\": \"barpolar\"}], \"carpet\": [{\"aaxis\": {\"endlinecolor\": \"#2a3f5f\", \"gridcolor\": \"white\", \"linecolor\": \"white\", \"minorgridcolor\": \"white\", \"startlinecolor\": \"#2a3f5f\"}, \"baxis\": {\"endlinecolor\": \"#2a3f5f\", \"gridcolor\": \"white\", \"linecolor\": \"white\", \"minorgridcolor\": \"white\", \"startlinecolor\": \"#2a3f5f\"}, \"type\": \"carpet\"}], \"choropleth\": [{\"colorbar\": {\"outlinewidth\": 0, \"ticks\": \"\"}, \"type\": \"choropleth\"}], \"contour\": [{\"colorbar\": {\"outlinewidth\": 0, \"ticks\": \"\"}, \"colorscale\": [[0.0, \"#0d0887\"], [0.1111111111111111, \"#46039f\"], [0.2222222222222222, \"#7201a8\"], [0.3333333333333333, \"#9c179e\"], [0.4444444444444444, \"#bd3786\"], [0.5555555555555556, \"#d8576b\"], [0.6666666666666666, \"#ed7953\"], [0.7777777777777778, \"#fb9f3a\"], [0.8888888888888888, \"#fdca26\"], [1.0, \"#f0f921\"]], \"type\": \"contour\"}], \"contourcarpet\": [{\"colorbar\": {\"outlinewidth\": 0, \"ticks\": \"\"}, \"type\": \"contourcarpet\"}], \"heatmap\": [{\"colorbar\": {\"outlinewidth\": 0, \"ticks\": \"\"}, \"colorscale\": [[0.0, \"#0d0887\"], [0.1111111111111111, \"#46039f\"], [0.2222222222222222, \"#7201a8\"], [0.3333333333333333, \"#9c179e\"], [0.4444444444444444, \"#bd3786\"], [0.5555555555555556, \"#d8576b\"], [0.6666666666666666, \"#ed7953\"], [0.7777777777777778, \"#fb9f3a\"], [0.8888888888888888, \"#fdca26\"], [1.0, \"#f0f921\"]], \"type\": \"heatmap\"}], \"heatmapgl\": [{\"colorbar\": {\"outlinewidth\": 0, \"ticks\": \"\"}, \"colorscale\": [[0.0, \"#0d0887\"], [0.1111111111111111, \"#46039f\"], [0.2222222222222222, \"#7201a8\"], [0.3333333333333333, \"#9c179e\"], [0.4444444444444444, \"#bd3786\"], [0.5555555555555556, \"#d8576b\"], [0.6666666666666666, \"#ed7953\"], [0.7777777777777778, \"#fb9f3a\"], [0.8888888888888888, \"#fdca26\"], [1.0, \"#f0f921\"]], \"type\": \"heatmapgl\"}], \"histogram\": [{\"marker\": {\"colorbar\": {\"outlinewidth\": 0, \"ticks\": \"\"}}, \"type\": \"histogram\"}], \"histogram2d\": [{\"colorbar\": {\"outlinewidth\": 0, \"ticks\": \"\"}, \"colorscale\": [[0.0, \"#0d0887\"], [0.1111111111111111, \"#46039f\"], [0.2222222222222222, \"#7201a8\"], [0.3333333333333333, \"#9c179e\"], [0.4444444444444444, \"#bd3786\"], [0.5555555555555556, \"#d8576b\"], [0.6666666666666666, \"#ed7953\"], [0.7777777777777778, \"#fb9f3a\"], [0.8888888888888888, \"#fdca26\"], [1.0, \"#f0f921\"]], \"type\": \"histogram2d\"}], \"histogram2dcontour\": [{\"colorbar\": {\"outlinewidth\": 0, \"ticks\": \"\"}, \"colorscale\": [[0.0, \"#0d0887\"], [0.1111111111111111, \"#46039f\"], [0.2222222222222222, \"#7201a8\"], [0.3333333333333333, \"#9c179e\"], [0.4444444444444444, \"#bd3786\"], [0.5555555555555556, \"#d8576b\"], [0.6666666666666666, \"#ed7953\"], [0.7777777777777778, \"#fb9f3a\"], [0.8888888888888888, \"#fdca26\"], [1.0, \"#f0f921\"]], \"type\": \"histogram2dcontour\"}], \"mesh3d\": [{\"colorbar\": {\"outlinewidth\": 0, \"ticks\": \"\"}, \"type\": \"mesh3d\"}], \"parcoords\": [{\"line\": {\"colorbar\": {\"outlinewidth\": 0, \"ticks\": \"\"}}, \"type\": \"parcoords\"}], \"pie\": [{\"automargin\": true, \"type\": \"pie\"}], \"scatter\": [{\"marker\": {\"colorbar\": {\"outlinewidth\": 0, \"ticks\": \"\"}}, \"type\": \"scatter\"}], \"scatter3d\": [{\"line\": {\"colorbar\": {\"outlinewidth\": 0, \"ticks\": \"\"}}, \"marker\": {\"colorbar\": {\"outlinewidth\": 0, \"ticks\": \"\"}}, \"type\": \"scatter3d\"}], \"scattercarpet\": [{\"marker\": {\"colorbar\": {\"outlinewidth\": 0, \"ticks\": \"\"}}, \"type\": \"scattercarpet\"}], \"scattergeo\": [{\"marker\": {\"colorbar\": {\"outlinewidth\": 0, \"ticks\": \"\"}}, \"type\": \"scattergeo\"}], \"scattergl\": [{\"marker\": {\"colorbar\": {\"outlinewidth\": 0, \"ticks\": \"\"}}, \"type\": \"scattergl\"}], \"scattermapbox\": [{\"marker\": {\"colorbar\": {\"outlinewidth\": 0, \"ticks\": \"\"}}, \"type\": \"scattermapbox\"}], \"scatterpolar\": [{\"marker\": {\"colorbar\": {\"outlinewidth\": 0, \"ticks\": \"\"}}, \"type\": \"scatterpolar\"}], \"scatterpolargl\": [{\"marker\": {\"colorbar\": {\"outlinewidth\": 0, \"ticks\": \"\"}}, \"type\": \"scatterpolargl\"}], \"scatterternary\": [{\"marker\": {\"colorbar\": {\"outlinewidth\": 0, \"ticks\": \"\"}}, \"type\": \"scatterternary\"}], \"surface\": [{\"colorbar\": {\"outlinewidth\": 0, \"ticks\": \"\"}, \"colorscale\": [[0.0, \"#0d0887\"], [0.1111111111111111, \"#46039f\"], [0.2222222222222222, \"#7201a8\"], [0.3333333333333333, \"#9c179e\"], [0.4444444444444444, \"#bd3786\"], [0.5555555555555556, \"#d8576b\"], [0.6666666666666666, \"#ed7953\"], [0.7777777777777778, \"#fb9f3a\"], [0.8888888888888888, \"#fdca26\"], [1.0, \"#f0f921\"]], \"type\": \"surface\"}], \"table\": [{\"cells\": {\"fill\": {\"color\": \"#EBF0F8\"}, \"line\": {\"color\": \"white\"}}, \"header\": {\"fill\": {\"color\": \"#C8D4E3\"}, \"line\": {\"color\": \"white\"}}, \"type\": \"table\"}]}, \"layout\": {\"annotationdefaults\": {\"arrowcolor\": \"#2a3f5f\", \"arrowhead\": 0, \"arrowwidth\": 1}, \"coloraxis\": {\"colorbar\": {\"outlinewidth\": 0, \"ticks\": \"\"}}, \"colorscale\": {\"diverging\": [[0, \"#8e0152\"], [0.1, \"#c51b7d\"], [0.2, \"#de77ae\"], [0.3, \"#f1b6da\"], [0.4, \"#fde0ef\"], [0.5, \"#f7f7f7\"], [0.6, \"#e6f5d0\"], [0.7, \"#b8e186\"], [0.8, \"#7fbc41\"], [0.9, \"#4d9221\"], [1, \"#276419\"]], \"sequential\": [[0.0, \"#0d0887\"], [0.1111111111111111, \"#46039f\"], [0.2222222222222222, \"#7201a8\"], [0.3333333333333333, \"#9c179e\"], [0.4444444444444444, \"#bd3786\"], [0.5555555555555556, \"#d8576b\"], [0.6666666666666666, \"#ed7953\"], [0.7777777777777778, \"#fb9f3a\"], [0.8888888888888888, \"#fdca26\"], [1.0, \"#f0f921\"]], \"sequentialminus\": [[0.0, \"#0d0887\"], [0.1111111111111111, \"#46039f\"], [0.2222222222222222, \"#7201a8\"], [0.3333333333333333, \"#9c179e\"], [0.4444444444444444, \"#bd3786\"], [0.5555555555555556, \"#d8576b\"], [0.6666666666666666, \"#ed7953\"], [0.7777777777777778, \"#fb9f3a\"], [0.8888888888888888, \"#fdca26\"], [1.0, \"#f0f921\"]]}, \"colorway\": [\"#636efa\", \"#EF553B\", \"#00cc96\", \"#ab63fa\", \"#FFA15A\", \"#19d3f3\", \"#FF6692\", \"#B6E880\", \"#FF97FF\", \"#FECB52\"], \"font\": {\"color\": \"#2a3f5f\"}, \"geo\": {\"bgcolor\": \"white\", \"lakecolor\": \"white\", \"landcolor\": \"#E5ECF6\", \"showlakes\": true, \"showland\": true, \"subunitcolor\": \"white\"}, \"hoverlabel\": {\"align\": \"left\"}, \"hovermode\": \"closest\", \"mapbox\": {\"style\": \"light\"}, \"paper_bgcolor\": \"white\", \"plot_bgcolor\": \"#E5ECF6\", \"polar\": {\"angularaxis\": {\"gridcolor\": \"white\", \"linecolor\": \"white\", \"ticks\": \"\"}, \"bgcolor\": \"#E5ECF6\", \"radialaxis\": {\"gridcolor\": \"white\", \"linecolor\": \"white\", \"ticks\": \"\"}}, \"scene\": {\"xaxis\": {\"backgroundcolor\": \"#E5ECF6\", \"gridcolor\": \"white\", \"gridwidth\": 2, \"linecolor\": \"white\", \"showbackground\": true, \"ticks\": \"\", \"zerolinecolor\": \"white\"}, \"yaxis\": {\"backgroundcolor\": \"#E5ECF6\", \"gridcolor\": \"white\", \"gridwidth\": 2, \"linecolor\": \"white\", \"showbackground\": true, \"ticks\": \"\", \"zerolinecolor\": \"white\"}, \"zaxis\": {\"backgroundcolor\": \"#E5ECF6\", \"gridcolor\": \"white\", \"gridwidth\": 2, \"linecolor\": \"white\", \"showbackground\": true, \"ticks\": \"\", \"zerolinecolor\": \"white\"}}, \"shapedefaults\": {\"line\": {\"color\": \"#2a3f5f\"}}, \"ternary\": {\"aaxis\": {\"gridcolor\": \"white\", \"linecolor\": \"white\", \"ticks\": \"\"}, \"baxis\": {\"gridcolor\": \"white\", \"linecolor\": \"white\", \"ticks\": \"\"}, \"bgcolor\": \"#E5ECF6\", \"caxis\": {\"gridcolor\": \"white\", \"linecolor\": \"white\", \"ticks\": \"\"}}, \"title\": {\"x\": 0.05}, \"xaxis\": {\"automargin\": true, \"gridcolor\": \"white\", \"linecolor\": \"white\", \"ticks\": \"\", \"title\": {\"standoff\": 15}, \"zerolinecolor\": \"white\", \"zerolinewidth\": 2}, \"yaxis\": {\"automargin\": true, \"gridcolor\": \"white\", \"linecolor\": \"white\", \"ticks\": \"\", \"title\": {\"standoff\": 15}, \"zerolinecolor\": \"white\", \"zerolinewidth\": 2}}}, \"title\": {\"font\": {\"color\": \"#4D5663\"}}, \"xaxis\": {\"gridcolor\": \"#E1E5ED\", \"showgrid\": true, \"tickfont\": {\"color\": \"#4D5663\"}, \"title\": {\"font\": {\"color\": \"#4D5663\"}, \"text\": \"\"}, \"zerolinecolor\": \"#E1E5ED\"}, \"yaxis\": {\"gridcolor\": \"#E1E5ED\", \"showgrid\": true, \"tickfont\": {\"color\": \"#4D5663\"}, \"title\": {\"font\": {\"color\": \"#4D5663\"}, \"text\": \"\"}, \"zerolinecolor\": \"#E1E5ED\"}},                        {\"showLink\": true, \"linkText\": \"Export to plot.ly\", \"plotlyServerURL\": \"https://plot.ly\", \"responsive\": true}                    ).then(function(){\n",
       "                            \n",
       "var gd = document.getElementById('d622a25d-9668-4b62-85ad-6a1e93ae0a35');\n",
       "var x = new MutationObserver(function (mutations, observer) {{\n",
       "        var display = window.getComputedStyle(gd).display;\n",
       "        if (!display || display === 'none') {{\n",
       "            console.log([gd, 'removed!']);\n",
       "            Plotly.purge(gd);\n",
       "            observer.disconnect();\n",
       "        }}\n",
       "}});\n",
       "\n",
       "// Listen for the removal of the full notebook cells\n",
       "var notebookContainer = gd.closest('#notebook-container');\n",
       "if (notebookContainer) {{\n",
       "    x.observe(notebookContainer, {childList: true});\n",
       "}}\n",
       "\n",
       "// Listen for the clearing of the current output cell\n",
       "var outputEl = gd.closest('.output');\n",
       "if (outputEl) {{\n",
       "    x.observe(outputEl, {childList: true});\n",
       "}}\n",
       "\n",
       "                        })                };                });            </script>        </div>"
      ]
     },
     "metadata": {},
     "output_type": "display_data"
    }
   ],
   "source": [
    "df.iplot(kind='scatter',x='A',y='B',mode='markers',size=10)"
   ]
  },
  {
   "cell_type": "markdown",
   "metadata": {},
   "source": [
    "## Bar Plots"
   ]
  },
  {
   "cell_type": "code",
   "execution_count": 11,
   "metadata": {},
   "outputs": [
    {
     "data": {
      "application/vnd.plotly.v1+json": {
       "config": {
        "linkText": "Export to plot.ly",
        "plotlyServerURL": "https://plot.ly",
        "showLink": true
       },
       "data": [
        {
         "marker": {
          "color": "rgba(255, 153, 51, 0.6)",
          "line": {
           "color": "rgba(255, 153, 51, 1.0)",
           "width": 1
          }
         },
         "name": "Values",
         "orientation": "v",
         "text": "",
         "type": "bar",
         "x": [
          "A",
          "B",
          "C"
         ],
         "y": [
          32,
          43,
          50
         ]
        }
       ],
       "layout": {
        "legend": {
         "bgcolor": "#F5F6F9",
         "font": {
          "color": "#4D5663"
         }
        },
        "paper_bgcolor": "#F5F6F9",
        "plot_bgcolor": "#F5F6F9",
        "template": {
         "data": {
          "bar": [
           {
            "error_x": {
             "color": "#2a3f5f"
            },
            "error_y": {
             "color": "#2a3f5f"
            },
            "marker": {
             "line": {
              "color": "#E5ECF6",
              "width": 0.5
             }
            },
            "type": "bar"
           }
          ],
          "barpolar": [
           {
            "marker": {
             "line": {
              "color": "#E5ECF6",
              "width": 0.5
             }
            },
            "type": "barpolar"
           }
          ],
          "carpet": [
           {
            "aaxis": {
             "endlinecolor": "#2a3f5f",
             "gridcolor": "white",
             "linecolor": "white",
             "minorgridcolor": "white",
             "startlinecolor": "#2a3f5f"
            },
            "baxis": {
             "endlinecolor": "#2a3f5f",
             "gridcolor": "white",
             "linecolor": "white",
             "minorgridcolor": "white",
             "startlinecolor": "#2a3f5f"
            },
            "type": "carpet"
           }
          ],
          "choropleth": [
           {
            "colorbar": {
             "outlinewidth": 0,
             "ticks": ""
            },
            "type": "choropleth"
           }
          ],
          "contour": [
           {
            "colorbar": {
             "outlinewidth": 0,
             "ticks": ""
            },
            "colorscale": [
             [
              0,
              "#0d0887"
             ],
             [
              0.1111111111111111,
              "#46039f"
             ],
             [
              0.2222222222222222,
              "#7201a8"
             ],
             [
              0.3333333333333333,
              "#9c179e"
             ],
             [
              0.4444444444444444,
              "#bd3786"
             ],
             [
              0.5555555555555556,
              "#d8576b"
             ],
             [
              0.6666666666666666,
              "#ed7953"
             ],
             [
              0.7777777777777778,
              "#fb9f3a"
             ],
             [
              0.8888888888888888,
              "#fdca26"
             ],
             [
              1,
              "#f0f921"
             ]
            ],
            "type": "contour"
           }
          ],
          "contourcarpet": [
           {
            "colorbar": {
             "outlinewidth": 0,
             "ticks": ""
            },
            "type": "contourcarpet"
           }
          ],
          "heatmap": [
           {
            "colorbar": {
             "outlinewidth": 0,
             "ticks": ""
            },
            "colorscale": [
             [
              0,
              "#0d0887"
             ],
             [
              0.1111111111111111,
              "#46039f"
             ],
             [
              0.2222222222222222,
              "#7201a8"
             ],
             [
              0.3333333333333333,
              "#9c179e"
             ],
             [
              0.4444444444444444,
              "#bd3786"
             ],
             [
              0.5555555555555556,
              "#d8576b"
             ],
             [
              0.6666666666666666,
              "#ed7953"
             ],
             [
              0.7777777777777778,
              "#fb9f3a"
             ],
             [
              0.8888888888888888,
              "#fdca26"
             ],
             [
              1,
              "#f0f921"
             ]
            ],
            "type": "heatmap"
           }
          ],
          "heatmapgl": [
           {
            "colorbar": {
             "outlinewidth": 0,
             "ticks": ""
            },
            "colorscale": [
             [
              0,
              "#0d0887"
             ],
             [
              0.1111111111111111,
              "#46039f"
             ],
             [
              0.2222222222222222,
              "#7201a8"
             ],
             [
              0.3333333333333333,
              "#9c179e"
             ],
             [
              0.4444444444444444,
              "#bd3786"
             ],
             [
              0.5555555555555556,
              "#d8576b"
             ],
             [
              0.6666666666666666,
              "#ed7953"
             ],
             [
              0.7777777777777778,
              "#fb9f3a"
             ],
             [
              0.8888888888888888,
              "#fdca26"
             ],
             [
              1,
              "#f0f921"
             ]
            ],
            "type": "heatmapgl"
           }
          ],
          "histogram": [
           {
            "marker": {
             "colorbar": {
              "outlinewidth": 0,
              "ticks": ""
             }
            },
            "type": "histogram"
           }
          ],
          "histogram2d": [
           {
            "colorbar": {
             "outlinewidth": 0,
             "ticks": ""
            },
            "colorscale": [
             [
              0,
              "#0d0887"
             ],
             [
              0.1111111111111111,
              "#46039f"
             ],
             [
              0.2222222222222222,
              "#7201a8"
             ],
             [
              0.3333333333333333,
              "#9c179e"
             ],
             [
              0.4444444444444444,
              "#bd3786"
             ],
             [
              0.5555555555555556,
              "#d8576b"
             ],
             [
              0.6666666666666666,
              "#ed7953"
             ],
             [
              0.7777777777777778,
              "#fb9f3a"
             ],
             [
              0.8888888888888888,
              "#fdca26"
             ],
             [
              1,
              "#f0f921"
             ]
            ],
            "type": "histogram2d"
           }
          ],
          "histogram2dcontour": [
           {
            "colorbar": {
             "outlinewidth": 0,
             "ticks": ""
            },
            "colorscale": [
             [
              0,
              "#0d0887"
             ],
             [
              0.1111111111111111,
              "#46039f"
             ],
             [
              0.2222222222222222,
              "#7201a8"
             ],
             [
              0.3333333333333333,
              "#9c179e"
             ],
             [
              0.4444444444444444,
              "#bd3786"
             ],
             [
              0.5555555555555556,
              "#d8576b"
             ],
             [
              0.6666666666666666,
              "#ed7953"
             ],
             [
              0.7777777777777778,
              "#fb9f3a"
             ],
             [
              0.8888888888888888,
              "#fdca26"
             ],
             [
              1,
              "#f0f921"
             ]
            ],
            "type": "histogram2dcontour"
           }
          ],
          "mesh3d": [
           {
            "colorbar": {
             "outlinewidth": 0,
             "ticks": ""
            },
            "type": "mesh3d"
           }
          ],
          "parcoords": [
           {
            "line": {
             "colorbar": {
              "outlinewidth": 0,
              "ticks": ""
             }
            },
            "type": "parcoords"
           }
          ],
          "pie": [
           {
            "automargin": true,
            "type": "pie"
           }
          ],
          "scatter": [
           {
            "marker": {
             "colorbar": {
              "outlinewidth": 0,
              "ticks": ""
             }
            },
            "type": "scatter"
           }
          ],
          "scatter3d": [
           {
            "line": {
             "colorbar": {
              "outlinewidth": 0,
              "ticks": ""
             }
            },
            "marker": {
             "colorbar": {
              "outlinewidth": 0,
              "ticks": ""
             }
            },
            "type": "scatter3d"
           }
          ],
          "scattercarpet": [
           {
            "marker": {
             "colorbar": {
              "outlinewidth": 0,
              "ticks": ""
             }
            },
            "type": "scattercarpet"
           }
          ],
          "scattergeo": [
           {
            "marker": {
             "colorbar": {
              "outlinewidth": 0,
              "ticks": ""
             }
            },
            "type": "scattergeo"
           }
          ],
          "scattergl": [
           {
            "marker": {
             "colorbar": {
              "outlinewidth": 0,
              "ticks": ""
             }
            },
            "type": "scattergl"
           }
          ],
          "scattermapbox": [
           {
            "marker": {
             "colorbar": {
              "outlinewidth": 0,
              "ticks": ""
             }
            },
            "type": "scattermapbox"
           }
          ],
          "scatterpolar": [
           {
            "marker": {
             "colorbar": {
              "outlinewidth": 0,
              "ticks": ""
             }
            },
            "type": "scatterpolar"
           }
          ],
          "scatterpolargl": [
           {
            "marker": {
             "colorbar": {
              "outlinewidth": 0,
              "ticks": ""
             }
            },
            "type": "scatterpolargl"
           }
          ],
          "scatterternary": [
           {
            "marker": {
             "colorbar": {
              "outlinewidth": 0,
              "ticks": ""
             }
            },
            "type": "scatterternary"
           }
          ],
          "surface": [
           {
            "colorbar": {
             "outlinewidth": 0,
             "ticks": ""
            },
            "colorscale": [
             [
              0,
              "#0d0887"
             ],
             [
              0.1111111111111111,
              "#46039f"
             ],
             [
              0.2222222222222222,
              "#7201a8"
             ],
             [
              0.3333333333333333,
              "#9c179e"
             ],
             [
              0.4444444444444444,
              "#bd3786"
             ],
             [
              0.5555555555555556,
              "#d8576b"
             ],
             [
              0.6666666666666666,
              "#ed7953"
             ],
             [
              0.7777777777777778,
              "#fb9f3a"
             ],
             [
              0.8888888888888888,
              "#fdca26"
             ],
             [
              1,
              "#f0f921"
             ]
            ],
            "type": "surface"
           }
          ],
          "table": [
           {
            "cells": {
             "fill": {
              "color": "#EBF0F8"
             },
             "line": {
              "color": "white"
             }
            },
            "header": {
             "fill": {
              "color": "#C8D4E3"
             },
             "line": {
              "color": "white"
             }
            },
            "type": "table"
           }
          ]
         },
         "layout": {
          "annotationdefaults": {
           "arrowcolor": "#2a3f5f",
           "arrowhead": 0,
           "arrowwidth": 1
          },
          "coloraxis": {
           "colorbar": {
            "outlinewidth": 0,
            "ticks": ""
           }
          },
          "colorscale": {
           "diverging": [
            [
             0,
             "#8e0152"
            ],
            [
             0.1,
             "#c51b7d"
            ],
            [
             0.2,
             "#de77ae"
            ],
            [
             0.3,
             "#f1b6da"
            ],
            [
             0.4,
             "#fde0ef"
            ],
            [
             0.5,
             "#f7f7f7"
            ],
            [
             0.6,
             "#e6f5d0"
            ],
            [
             0.7,
             "#b8e186"
            ],
            [
             0.8,
             "#7fbc41"
            ],
            [
             0.9,
             "#4d9221"
            ],
            [
             1,
             "#276419"
            ]
           ],
           "sequential": [
            [
             0,
             "#0d0887"
            ],
            [
             0.1111111111111111,
             "#46039f"
            ],
            [
             0.2222222222222222,
             "#7201a8"
            ],
            [
             0.3333333333333333,
             "#9c179e"
            ],
            [
             0.4444444444444444,
             "#bd3786"
            ],
            [
             0.5555555555555556,
             "#d8576b"
            ],
            [
             0.6666666666666666,
             "#ed7953"
            ],
            [
             0.7777777777777778,
             "#fb9f3a"
            ],
            [
             0.8888888888888888,
             "#fdca26"
            ],
            [
             1,
             "#f0f921"
            ]
           ],
           "sequentialminus": [
            [
             0,
             "#0d0887"
            ],
            [
             0.1111111111111111,
             "#46039f"
            ],
            [
             0.2222222222222222,
             "#7201a8"
            ],
            [
             0.3333333333333333,
             "#9c179e"
            ],
            [
             0.4444444444444444,
             "#bd3786"
            ],
            [
             0.5555555555555556,
             "#d8576b"
            ],
            [
             0.6666666666666666,
             "#ed7953"
            ],
            [
             0.7777777777777778,
             "#fb9f3a"
            ],
            [
             0.8888888888888888,
             "#fdca26"
            ],
            [
             1,
             "#f0f921"
            ]
           ]
          },
          "colorway": [
           "#636efa",
           "#EF553B",
           "#00cc96",
           "#ab63fa",
           "#FFA15A",
           "#19d3f3",
           "#FF6692",
           "#B6E880",
           "#FF97FF",
           "#FECB52"
          ],
          "font": {
           "color": "#2a3f5f"
          },
          "geo": {
           "bgcolor": "white",
           "lakecolor": "white",
           "landcolor": "#E5ECF6",
           "showlakes": true,
           "showland": true,
           "subunitcolor": "white"
          },
          "hoverlabel": {
           "align": "left"
          },
          "hovermode": "closest",
          "mapbox": {
           "style": "light"
          },
          "paper_bgcolor": "white",
          "plot_bgcolor": "#E5ECF6",
          "polar": {
           "angularaxis": {
            "gridcolor": "white",
            "linecolor": "white",
            "ticks": ""
           },
           "bgcolor": "#E5ECF6",
           "radialaxis": {
            "gridcolor": "white",
            "linecolor": "white",
            "ticks": ""
           }
          },
          "scene": {
           "xaxis": {
            "backgroundcolor": "#E5ECF6",
            "gridcolor": "white",
            "gridwidth": 2,
            "linecolor": "white",
            "showbackground": true,
            "ticks": "",
            "zerolinecolor": "white"
           },
           "yaxis": {
            "backgroundcolor": "#E5ECF6",
            "gridcolor": "white",
            "gridwidth": 2,
            "linecolor": "white",
            "showbackground": true,
            "ticks": "",
            "zerolinecolor": "white"
           },
           "zaxis": {
            "backgroundcolor": "#E5ECF6",
            "gridcolor": "white",
            "gridwidth": 2,
            "linecolor": "white",
            "showbackground": true,
            "ticks": "",
            "zerolinecolor": "white"
           }
          },
          "shapedefaults": {
           "line": {
            "color": "#2a3f5f"
           }
          },
          "ternary": {
           "aaxis": {
            "gridcolor": "white",
            "linecolor": "white",
            "ticks": ""
           },
           "baxis": {
            "gridcolor": "white",
            "linecolor": "white",
            "ticks": ""
           },
           "bgcolor": "#E5ECF6",
           "caxis": {
            "gridcolor": "white",
            "linecolor": "white",
            "ticks": ""
           }
          },
          "title": {
           "x": 0.05
          },
          "xaxis": {
           "automargin": true,
           "gridcolor": "white",
           "linecolor": "white",
           "ticks": "",
           "title": {
            "standoff": 15
           },
           "zerolinecolor": "white",
           "zerolinewidth": 2
          },
          "yaxis": {
           "automargin": true,
           "gridcolor": "white",
           "linecolor": "white",
           "ticks": "",
           "title": {
            "standoff": 15
           },
           "zerolinecolor": "white",
           "zerolinewidth": 2
          }
         }
        },
        "title": {
         "font": {
          "color": "#4D5663"
         }
        },
        "xaxis": {
         "gridcolor": "#E1E5ED",
         "showgrid": true,
         "tickfont": {
          "color": "#4D5663"
         },
         "title": {
          "font": {
           "color": "#4D5663"
          },
          "text": ""
         },
         "zerolinecolor": "#E1E5ED"
        },
        "yaxis": {
         "gridcolor": "#E1E5ED",
         "showgrid": true,
         "tickfont": {
          "color": "#4D5663"
         },
         "title": {
          "font": {
           "color": "#4D5663"
          },
          "text": ""
         },
         "zerolinecolor": "#E1E5ED"
        }
       }
      },
      "text/html": [
       "<div>                            <div id=\"edaf6683-d043-4577-99cf-8e107022d2ee\" class=\"plotly-graph-div\" style=\"height:525px; width:100%;\"></div>            <script type=\"text/javascript\">                require([\"plotly\"], function(Plotly) {                    window.PLOTLYENV=window.PLOTLYENV || {};\n",
       "                    window.PLOTLYENV.BASE_URL='https://plot.ly';                                    if (document.getElementById(\"edaf6683-d043-4577-99cf-8e107022d2ee\")) {                    Plotly.newPlot(                        \"edaf6683-d043-4577-99cf-8e107022d2ee\",                        [{\"marker\": {\"color\": \"rgba(255, 153, 51, 0.6)\", \"line\": {\"color\": \"rgba(255, 153, 51, 1.0)\", \"width\": 1}}, \"name\": \"Values\", \"orientation\": \"v\", \"text\": \"\", \"type\": \"bar\", \"x\": [\"A\", \"B\", \"C\"], \"y\": [32, 43, 50]}],                        {\"legend\": {\"bgcolor\": \"#F5F6F9\", \"font\": {\"color\": \"#4D5663\"}}, \"paper_bgcolor\": \"#F5F6F9\", \"plot_bgcolor\": \"#F5F6F9\", \"template\": {\"data\": {\"bar\": [{\"error_x\": {\"color\": \"#2a3f5f\"}, \"error_y\": {\"color\": \"#2a3f5f\"}, \"marker\": {\"line\": {\"color\": \"#E5ECF6\", \"width\": 0.5}}, \"type\": \"bar\"}], \"barpolar\": [{\"marker\": {\"line\": {\"color\": \"#E5ECF6\", \"width\": 0.5}}, \"type\": \"barpolar\"}], \"carpet\": [{\"aaxis\": {\"endlinecolor\": \"#2a3f5f\", \"gridcolor\": \"white\", \"linecolor\": \"white\", \"minorgridcolor\": \"white\", \"startlinecolor\": \"#2a3f5f\"}, \"baxis\": {\"endlinecolor\": \"#2a3f5f\", \"gridcolor\": \"white\", \"linecolor\": \"white\", \"minorgridcolor\": \"white\", \"startlinecolor\": \"#2a3f5f\"}, \"type\": \"carpet\"}], \"choropleth\": [{\"colorbar\": {\"outlinewidth\": 0, \"ticks\": \"\"}, \"type\": \"choropleth\"}], \"contour\": [{\"colorbar\": {\"outlinewidth\": 0, \"ticks\": \"\"}, \"colorscale\": [[0.0, \"#0d0887\"], [0.1111111111111111, \"#46039f\"], [0.2222222222222222, \"#7201a8\"], [0.3333333333333333, \"#9c179e\"], [0.4444444444444444, \"#bd3786\"], [0.5555555555555556, \"#d8576b\"], [0.6666666666666666, \"#ed7953\"], [0.7777777777777778, \"#fb9f3a\"], [0.8888888888888888, \"#fdca26\"], [1.0, \"#f0f921\"]], \"type\": \"contour\"}], \"contourcarpet\": [{\"colorbar\": {\"outlinewidth\": 0, \"ticks\": \"\"}, \"type\": \"contourcarpet\"}], \"heatmap\": [{\"colorbar\": {\"outlinewidth\": 0, \"ticks\": \"\"}, \"colorscale\": [[0.0, \"#0d0887\"], [0.1111111111111111, \"#46039f\"], [0.2222222222222222, \"#7201a8\"], [0.3333333333333333, \"#9c179e\"], [0.4444444444444444, \"#bd3786\"], [0.5555555555555556, \"#d8576b\"], [0.6666666666666666, \"#ed7953\"], [0.7777777777777778, \"#fb9f3a\"], [0.8888888888888888, \"#fdca26\"], [1.0, \"#f0f921\"]], \"type\": \"heatmap\"}], \"heatmapgl\": [{\"colorbar\": {\"outlinewidth\": 0, \"ticks\": \"\"}, \"colorscale\": [[0.0, \"#0d0887\"], [0.1111111111111111, \"#46039f\"], [0.2222222222222222, \"#7201a8\"], [0.3333333333333333, \"#9c179e\"], [0.4444444444444444, \"#bd3786\"], [0.5555555555555556, \"#d8576b\"], [0.6666666666666666, \"#ed7953\"], [0.7777777777777778, \"#fb9f3a\"], [0.8888888888888888, \"#fdca26\"], [1.0, \"#f0f921\"]], \"type\": \"heatmapgl\"}], \"histogram\": [{\"marker\": {\"colorbar\": {\"outlinewidth\": 0, \"ticks\": \"\"}}, \"type\": \"histogram\"}], \"histogram2d\": [{\"colorbar\": {\"outlinewidth\": 0, \"ticks\": \"\"}, \"colorscale\": [[0.0, \"#0d0887\"], [0.1111111111111111, \"#46039f\"], [0.2222222222222222, \"#7201a8\"], [0.3333333333333333, \"#9c179e\"], [0.4444444444444444, \"#bd3786\"], [0.5555555555555556, \"#d8576b\"], [0.6666666666666666, \"#ed7953\"], [0.7777777777777778, \"#fb9f3a\"], [0.8888888888888888, \"#fdca26\"], [1.0, \"#f0f921\"]], \"type\": \"histogram2d\"}], \"histogram2dcontour\": [{\"colorbar\": {\"outlinewidth\": 0, \"ticks\": \"\"}, \"colorscale\": [[0.0, \"#0d0887\"], [0.1111111111111111, \"#46039f\"], [0.2222222222222222, \"#7201a8\"], [0.3333333333333333, \"#9c179e\"], [0.4444444444444444, \"#bd3786\"], [0.5555555555555556, \"#d8576b\"], [0.6666666666666666, \"#ed7953\"], [0.7777777777777778, \"#fb9f3a\"], [0.8888888888888888, \"#fdca26\"], [1.0, \"#f0f921\"]], \"type\": \"histogram2dcontour\"}], \"mesh3d\": [{\"colorbar\": {\"outlinewidth\": 0, \"ticks\": \"\"}, \"type\": \"mesh3d\"}], \"parcoords\": [{\"line\": {\"colorbar\": {\"outlinewidth\": 0, \"ticks\": \"\"}}, \"type\": \"parcoords\"}], \"pie\": [{\"automargin\": true, \"type\": \"pie\"}], \"scatter\": [{\"marker\": {\"colorbar\": {\"outlinewidth\": 0, \"ticks\": \"\"}}, \"type\": \"scatter\"}], \"scatter3d\": [{\"line\": {\"colorbar\": {\"outlinewidth\": 0, \"ticks\": \"\"}}, \"marker\": {\"colorbar\": {\"outlinewidth\": 0, \"ticks\": \"\"}}, \"type\": \"scatter3d\"}], \"scattercarpet\": [{\"marker\": {\"colorbar\": {\"outlinewidth\": 0, \"ticks\": \"\"}}, \"type\": \"scattercarpet\"}], \"scattergeo\": [{\"marker\": {\"colorbar\": {\"outlinewidth\": 0, \"ticks\": \"\"}}, \"type\": \"scattergeo\"}], \"scattergl\": [{\"marker\": {\"colorbar\": {\"outlinewidth\": 0, \"ticks\": \"\"}}, \"type\": \"scattergl\"}], \"scattermapbox\": [{\"marker\": {\"colorbar\": {\"outlinewidth\": 0, \"ticks\": \"\"}}, \"type\": \"scattermapbox\"}], \"scatterpolar\": [{\"marker\": {\"colorbar\": {\"outlinewidth\": 0, \"ticks\": \"\"}}, \"type\": \"scatterpolar\"}], \"scatterpolargl\": [{\"marker\": {\"colorbar\": {\"outlinewidth\": 0, \"ticks\": \"\"}}, \"type\": \"scatterpolargl\"}], \"scatterternary\": [{\"marker\": {\"colorbar\": {\"outlinewidth\": 0, \"ticks\": \"\"}}, \"type\": \"scatterternary\"}], \"surface\": [{\"colorbar\": {\"outlinewidth\": 0, \"ticks\": \"\"}, \"colorscale\": [[0.0, \"#0d0887\"], [0.1111111111111111, \"#46039f\"], [0.2222222222222222, \"#7201a8\"], [0.3333333333333333, \"#9c179e\"], [0.4444444444444444, \"#bd3786\"], [0.5555555555555556, \"#d8576b\"], [0.6666666666666666, \"#ed7953\"], [0.7777777777777778, \"#fb9f3a\"], [0.8888888888888888, \"#fdca26\"], [1.0, \"#f0f921\"]], \"type\": \"surface\"}], \"table\": [{\"cells\": {\"fill\": {\"color\": \"#EBF0F8\"}, \"line\": {\"color\": \"white\"}}, \"header\": {\"fill\": {\"color\": \"#C8D4E3\"}, \"line\": {\"color\": \"white\"}}, \"type\": \"table\"}]}, \"layout\": {\"annotationdefaults\": {\"arrowcolor\": \"#2a3f5f\", \"arrowhead\": 0, \"arrowwidth\": 1}, \"coloraxis\": {\"colorbar\": {\"outlinewidth\": 0, \"ticks\": \"\"}}, \"colorscale\": {\"diverging\": [[0, \"#8e0152\"], [0.1, \"#c51b7d\"], [0.2, \"#de77ae\"], [0.3, \"#f1b6da\"], [0.4, \"#fde0ef\"], [0.5, \"#f7f7f7\"], [0.6, \"#e6f5d0\"], [0.7, \"#b8e186\"], [0.8, \"#7fbc41\"], [0.9, \"#4d9221\"], [1, \"#276419\"]], \"sequential\": [[0.0, \"#0d0887\"], [0.1111111111111111, \"#46039f\"], [0.2222222222222222, \"#7201a8\"], [0.3333333333333333, \"#9c179e\"], [0.4444444444444444, \"#bd3786\"], [0.5555555555555556, \"#d8576b\"], [0.6666666666666666, \"#ed7953\"], [0.7777777777777778, \"#fb9f3a\"], [0.8888888888888888, \"#fdca26\"], [1.0, \"#f0f921\"]], \"sequentialminus\": [[0.0, \"#0d0887\"], [0.1111111111111111, \"#46039f\"], [0.2222222222222222, \"#7201a8\"], [0.3333333333333333, \"#9c179e\"], [0.4444444444444444, \"#bd3786\"], [0.5555555555555556, \"#d8576b\"], [0.6666666666666666, \"#ed7953\"], [0.7777777777777778, \"#fb9f3a\"], [0.8888888888888888, \"#fdca26\"], [1.0, \"#f0f921\"]]}, \"colorway\": [\"#636efa\", \"#EF553B\", \"#00cc96\", \"#ab63fa\", \"#FFA15A\", \"#19d3f3\", \"#FF6692\", \"#B6E880\", \"#FF97FF\", \"#FECB52\"], \"font\": {\"color\": \"#2a3f5f\"}, \"geo\": {\"bgcolor\": \"white\", \"lakecolor\": \"white\", \"landcolor\": \"#E5ECF6\", \"showlakes\": true, \"showland\": true, \"subunitcolor\": \"white\"}, \"hoverlabel\": {\"align\": \"left\"}, \"hovermode\": \"closest\", \"mapbox\": {\"style\": \"light\"}, \"paper_bgcolor\": \"white\", \"plot_bgcolor\": \"#E5ECF6\", \"polar\": {\"angularaxis\": {\"gridcolor\": \"white\", \"linecolor\": \"white\", \"ticks\": \"\"}, \"bgcolor\": \"#E5ECF6\", \"radialaxis\": {\"gridcolor\": \"white\", \"linecolor\": \"white\", \"ticks\": \"\"}}, \"scene\": {\"xaxis\": {\"backgroundcolor\": \"#E5ECF6\", \"gridcolor\": \"white\", \"gridwidth\": 2, \"linecolor\": \"white\", \"showbackground\": true, \"ticks\": \"\", \"zerolinecolor\": \"white\"}, \"yaxis\": {\"backgroundcolor\": \"#E5ECF6\", \"gridcolor\": \"white\", \"gridwidth\": 2, \"linecolor\": \"white\", \"showbackground\": true, \"ticks\": \"\", \"zerolinecolor\": \"white\"}, \"zaxis\": {\"backgroundcolor\": \"#E5ECF6\", \"gridcolor\": \"white\", \"gridwidth\": 2, \"linecolor\": \"white\", \"showbackground\": true, \"ticks\": \"\", \"zerolinecolor\": \"white\"}}, \"shapedefaults\": {\"line\": {\"color\": \"#2a3f5f\"}}, \"ternary\": {\"aaxis\": {\"gridcolor\": \"white\", \"linecolor\": \"white\", \"ticks\": \"\"}, \"baxis\": {\"gridcolor\": \"white\", \"linecolor\": \"white\", \"ticks\": \"\"}, \"bgcolor\": \"#E5ECF6\", \"caxis\": {\"gridcolor\": \"white\", \"linecolor\": \"white\", \"ticks\": \"\"}}, \"title\": {\"x\": 0.05}, \"xaxis\": {\"automargin\": true, \"gridcolor\": \"white\", \"linecolor\": \"white\", \"ticks\": \"\", \"title\": {\"standoff\": 15}, \"zerolinecolor\": \"white\", \"zerolinewidth\": 2}, \"yaxis\": {\"automargin\": true, \"gridcolor\": \"white\", \"linecolor\": \"white\", \"ticks\": \"\", \"title\": {\"standoff\": 15}, \"zerolinecolor\": \"white\", \"zerolinewidth\": 2}}}, \"title\": {\"font\": {\"color\": \"#4D5663\"}}, \"xaxis\": {\"gridcolor\": \"#E1E5ED\", \"showgrid\": true, \"tickfont\": {\"color\": \"#4D5663\"}, \"title\": {\"font\": {\"color\": \"#4D5663\"}, \"text\": \"\"}, \"zerolinecolor\": \"#E1E5ED\"}, \"yaxis\": {\"gridcolor\": \"#E1E5ED\", \"showgrid\": true, \"tickfont\": {\"color\": \"#4D5663\"}, \"title\": {\"font\": {\"color\": \"#4D5663\"}, \"text\": \"\"}, \"zerolinecolor\": \"#E1E5ED\"}},                        {\"showLink\": true, \"linkText\": \"Export to plot.ly\", \"plotlyServerURL\": \"https://plot.ly\", \"responsive\": true}                    ).then(function(){\n",
       "                            \n",
       "var gd = document.getElementById('edaf6683-d043-4577-99cf-8e107022d2ee');\n",
       "var x = new MutationObserver(function (mutations, observer) {{\n",
       "        var display = window.getComputedStyle(gd).display;\n",
       "        if (!display || display === 'none') {{\n",
       "            console.log([gd, 'removed!']);\n",
       "            Plotly.purge(gd);\n",
       "            observer.disconnect();\n",
       "        }}\n",
       "}});\n",
       "\n",
       "// Listen for the removal of the full notebook cells\n",
       "var notebookContainer = gd.closest('#notebook-container');\n",
       "if (notebookContainer) {{\n",
       "    x.observe(notebookContainer, {childList: true});\n",
       "}}\n",
       "\n",
       "// Listen for the clearing of the current output cell\n",
       "var outputEl = gd.closest('.output');\n",
       "if (outputEl) {{\n",
       "    x.observe(outputEl, {childList: true});\n",
       "}}\n",
       "\n",
       "                        })                };                });            </script>        </div>"
      ]
     },
     "metadata": {},
     "output_type": "display_data"
    }
   ],
   "source": [
    "df2.iplot(kind='bar',x='Category',y='Values')"
   ]
  },
  {
   "cell_type": "code",
   "execution_count": 12,
   "metadata": {},
   "outputs": [
    {
     "data": {
      "application/vnd.plotly.v1+json": {
       "config": {
        "linkText": "Export to plot.ly",
        "plotlyServerURL": "https://plot.ly",
        "showLink": true
       },
       "data": [
        {
         "marker": {
          "color": "rgba(255, 153, 51, 0.6)",
          "line": {
           "color": "rgba(255, 153, 51, 1.0)",
           "width": 1
          }
         },
         "name": "None",
         "orientation": "v",
         "text": "",
         "type": "bar",
         "x": [
          "A",
          "B",
          "C",
          "D"
         ],
         "y": [
          100,
          100,
          100,
          100
         ]
        }
       ],
       "layout": {
        "legend": {
         "bgcolor": "#F5F6F9",
         "font": {
          "color": "#4D5663"
         }
        },
        "paper_bgcolor": "#F5F6F9",
        "plot_bgcolor": "#F5F6F9",
        "template": {
         "data": {
          "bar": [
           {
            "error_x": {
             "color": "#2a3f5f"
            },
            "error_y": {
             "color": "#2a3f5f"
            },
            "marker": {
             "line": {
              "color": "#E5ECF6",
              "width": 0.5
             }
            },
            "type": "bar"
           }
          ],
          "barpolar": [
           {
            "marker": {
             "line": {
              "color": "#E5ECF6",
              "width": 0.5
             }
            },
            "type": "barpolar"
           }
          ],
          "carpet": [
           {
            "aaxis": {
             "endlinecolor": "#2a3f5f",
             "gridcolor": "white",
             "linecolor": "white",
             "minorgridcolor": "white",
             "startlinecolor": "#2a3f5f"
            },
            "baxis": {
             "endlinecolor": "#2a3f5f",
             "gridcolor": "white",
             "linecolor": "white",
             "minorgridcolor": "white",
             "startlinecolor": "#2a3f5f"
            },
            "type": "carpet"
           }
          ],
          "choropleth": [
           {
            "colorbar": {
             "outlinewidth": 0,
             "ticks": ""
            },
            "type": "choropleth"
           }
          ],
          "contour": [
           {
            "colorbar": {
             "outlinewidth": 0,
             "ticks": ""
            },
            "colorscale": [
             [
              0,
              "#0d0887"
             ],
             [
              0.1111111111111111,
              "#46039f"
             ],
             [
              0.2222222222222222,
              "#7201a8"
             ],
             [
              0.3333333333333333,
              "#9c179e"
             ],
             [
              0.4444444444444444,
              "#bd3786"
             ],
             [
              0.5555555555555556,
              "#d8576b"
             ],
             [
              0.6666666666666666,
              "#ed7953"
             ],
             [
              0.7777777777777778,
              "#fb9f3a"
             ],
             [
              0.8888888888888888,
              "#fdca26"
             ],
             [
              1,
              "#f0f921"
             ]
            ],
            "type": "contour"
           }
          ],
          "contourcarpet": [
           {
            "colorbar": {
             "outlinewidth": 0,
             "ticks": ""
            },
            "type": "contourcarpet"
           }
          ],
          "heatmap": [
           {
            "colorbar": {
             "outlinewidth": 0,
             "ticks": ""
            },
            "colorscale": [
             [
              0,
              "#0d0887"
             ],
             [
              0.1111111111111111,
              "#46039f"
             ],
             [
              0.2222222222222222,
              "#7201a8"
             ],
             [
              0.3333333333333333,
              "#9c179e"
             ],
             [
              0.4444444444444444,
              "#bd3786"
             ],
             [
              0.5555555555555556,
              "#d8576b"
             ],
             [
              0.6666666666666666,
              "#ed7953"
             ],
             [
              0.7777777777777778,
              "#fb9f3a"
             ],
             [
              0.8888888888888888,
              "#fdca26"
             ],
             [
              1,
              "#f0f921"
             ]
            ],
            "type": "heatmap"
           }
          ],
          "heatmapgl": [
           {
            "colorbar": {
             "outlinewidth": 0,
             "ticks": ""
            },
            "colorscale": [
             [
              0,
              "#0d0887"
             ],
             [
              0.1111111111111111,
              "#46039f"
             ],
             [
              0.2222222222222222,
              "#7201a8"
             ],
             [
              0.3333333333333333,
              "#9c179e"
             ],
             [
              0.4444444444444444,
              "#bd3786"
             ],
             [
              0.5555555555555556,
              "#d8576b"
             ],
             [
              0.6666666666666666,
              "#ed7953"
             ],
             [
              0.7777777777777778,
              "#fb9f3a"
             ],
             [
              0.8888888888888888,
              "#fdca26"
             ],
             [
              1,
              "#f0f921"
             ]
            ],
            "type": "heatmapgl"
           }
          ],
          "histogram": [
           {
            "marker": {
             "colorbar": {
              "outlinewidth": 0,
              "ticks": ""
             }
            },
            "type": "histogram"
           }
          ],
          "histogram2d": [
           {
            "colorbar": {
             "outlinewidth": 0,
             "ticks": ""
            },
            "colorscale": [
             [
              0,
              "#0d0887"
             ],
             [
              0.1111111111111111,
              "#46039f"
             ],
             [
              0.2222222222222222,
              "#7201a8"
             ],
             [
              0.3333333333333333,
              "#9c179e"
             ],
             [
              0.4444444444444444,
              "#bd3786"
             ],
             [
              0.5555555555555556,
              "#d8576b"
             ],
             [
              0.6666666666666666,
              "#ed7953"
             ],
             [
              0.7777777777777778,
              "#fb9f3a"
             ],
             [
              0.8888888888888888,
              "#fdca26"
             ],
             [
              1,
              "#f0f921"
             ]
            ],
            "type": "histogram2d"
           }
          ],
          "histogram2dcontour": [
           {
            "colorbar": {
             "outlinewidth": 0,
             "ticks": ""
            },
            "colorscale": [
             [
              0,
              "#0d0887"
             ],
             [
              0.1111111111111111,
              "#46039f"
             ],
             [
              0.2222222222222222,
              "#7201a8"
             ],
             [
              0.3333333333333333,
              "#9c179e"
             ],
             [
              0.4444444444444444,
              "#bd3786"
             ],
             [
              0.5555555555555556,
              "#d8576b"
             ],
             [
              0.6666666666666666,
              "#ed7953"
             ],
             [
              0.7777777777777778,
              "#fb9f3a"
             ],
             [
              0.8888888888888888,
              "#fdca26"
             ],
             [
              1,
              "#f0f921"
             ]
            ],
            "type": "histogram2dcontour"
           }
          ],
          "mesh3d": [
           {
            "colorbar": {
             "outlinewidth": 0,
             "ticks": ""
            },
            "type": "mesh3d"
           }
          ],
          "parcoords": [
           {
            "line": {
             "colorbar": {
              "outlinewidth": 0,
              "ticks": ""
             }
            },
            "type": "parcoords"
           }
          ],
          "pie": [
           {
            "automargin": true,
            "type": "pie"
           }
          ],
          "scatter": [
           {
            "marker": {
             "colorbar": {
              "outlinewidth": 0,
              "ticks": ""
             }
            },
            "type": "scatter"
           }
          ],
          "scatter3d": [
           {
            "line": {
             "colorbar": {
              "outlinewidth": 0,
              "ticks": ""
             }
            },
            "marker": {
             "colorbar": {
              "outlinewidth": 0,
              "ticks": ""
             }
            },
            "type": "scatter3d"
           }
          ],
          "scattercarpet": [
           {
            "marker": {
             "colorbar": {
              "outlinewidth": 0,
              "ticks": ""
             }
            },
            "type": "scattercarpet"
           }
          ],
          "scattergeo": [
           {
            "marker": {
             "colorbar": {
              "outlinewidth": 0,
              "ticks": ""
             }
            },
            "type": "scattergeo"
           }
          ],
          "scattergl": [
           {
            "marker": {
             "colorbar": {
              "outlinewidth": 0,
              "ticks": ""
             }
            },
            "type": "scattergl"
           }
          ],
          "scattermapbox": [
           {
            "marker": {
             "colorbar": {
              "outlinewidth": 0,
              "ticks": ""
             }
            },
            "type": "scattermapbox"
           }
          ],
          "scatterpolar": [
           {
            "marker": {
             "colorbar": {
              "outlinewidth": 0,
              "ticks": ""
             }
            },
            "type": "scatterpolar"
           }
          ],
          "scatterpolargl": [
           {
            "marker": {
             "colorbar": {
              "outlinewidth": 0,
              "ticks": ""
             }
            },
            "type": "scatterpolargl"
           }
          ],
          "scatterternary": [
           {
            "marker": {
             "colorbar": {
              "outlinewidth": 0,
              "ticks": ""
             }
            },
            "type": "scatterternary"
           }
          ],
          "surface": [
           {
            "colorbar": {
             "outlinewidth": 0,
             "ticks": ""
            },
            "colorscale": [
             [
              0,
              "#0d0887"
             ],
             [
              0.1111111111111111,
              "#46039f"
             ],
             [
              0.2222222222222222,
              "#7201a8"
             ],
             [
              0.3333333333333333,
              "#9c179e"
             ],
             [
              0.4444444444444444,
              "#bd3786"
             ],
             [
              0.5555555555555556,
              "#d8576b"
             ],
             [
              0.6666666666666666,
              "#ed7953"
             ],
             [
              0.7777777777777778,
              "#fb9f3a"
             ],
             [
              0.8888888888888888,
              "#fdca26"
             ],
             [
              1,
              "#f0f921"
             ]
            ],
            "type": "surface"
           }
          ],
          "table": [
           {
            "cells": {
             "fill": {
              "color": "#EBF0F8"
             },
             "line": {
              "color": "white"
             }
            },
            "header": {
             "fill": {
              "color": "#C8D4E3"
             },
             "line": {
              "color": "white"
             }
            },
            "type": "table"
           }
          ]
         },
         "layout": {
          "annotationdefaults": {
           "arrowcolor": "#2a3f5f",
           "arrowhead": 0,
           "arrowwidth": 1
          },
          "coloraxis": {
           "colorbar": {
            "outlinewidth": 0,
            "ticks": ""
           }
          },
          "colorscale": {
           "diverging": [
            [
             0,
             "#8e0152"
            ],
            [
             0.1,
             "#c51b7d"
            ],
            [
             0.2,
             "#de77ae"
            ],
            [
             0.3,
             "#f1b6da"
            ],
            [
             0.4,
             "#fde0ef"
            ],
            [
             0.5,
             "#f7f7f7"
            ],
            [
             0.6,
             "#e6f5d0"
            ],
            [
             0.7,
             "#b8e186"
            ],
            [
             0.8,
             "#7fbc41"
            ],
            [
             0.9,
             "#4d9221"
            ],
            [
             1,
             "#276419"
            ]
           ],
           "sequential": [
            [
             0,
             "#0d0887"
            ],
            [
             0.1111111111111111,
             "#46039f"
            ],
            [
             0.2222222222222222,
             "#7201a8"
            ],
            [
             0.3333333333333333,
             "#9c179e"
            ],
            [
             0.4444444444444444,
             "#bd3786"
            ],
            [
             0.5555555555555556,
             "#d8576b"
            ],
            [
             0.6666666666666666,
             "#ed7953"
            ],
            [
             0.7777777777777778,
             "#fb9f3a"
            ],
            [
             0.8888888888888888,
             "#fdca26"
            ],
            [
             1,
             "#f0f921"
            ]
           ],
           "sequentialminus": [
            [
             0,
             "#0d0887"
            ],
            [
             0.1111111111111111,
             "#46039f"
            ],
            [
             0.2222222222222222,
             "#7201a8"
            ],
            [
             0.3333333333333333,
             "#9c179e"
            ],
            [
             0.4444444444444444,
             "#bd3786"
            ],
            [
             0.5555555555555556,
             "#d8576b"
            ],
            [
             0.6666666666666666,
             "#ed7953"
            ],
            [
             0.7777777777777778,
             "#fb9f3a"
            ],
            [
             0.8888888888888888,
             "#fdca26"
            ],
            [
             1,
             "#f0f921"
            ]
           ]
          },
          "colorway": [
           "#636efa",
           "#EF553B",
           "#00cc96",
           "#ab63fa",
           "#FFA15A",
           "#19d3f3",
           "#FF6692",
           "#B6E880",
           "#FF97FF",
           "#FECB52"
          ],
          "font": {
           "color": "#2a3f5f"
          },
          "geo": {
           "bgcolor": "white",
           "lakecolor": "white",
           "landcolor": "#E5ECF6",
           "showlakes": true,
           "showland": true,
           "subunitcolor": "white"
          },
          "hoverlabel": {
           "align": "left"
          },
          "hovermode": "closest",
          "mapbox": {
           "style": "light"
          },
          "paper_bgcolor": "white",
          "plot_bgcolor": "#E5ECF6",
          "polar": {
           "angularaxis": {
            "gridcolor": "white",
            "linecolor": "white",
            "ticks": ""
           },
           "bgcolor": "#E5ECF6",
           "radialaxis": {
            "gridcolor": "white",
            "linecolor": "white",
            "ticks": ""
           }
          },
          "scene": {
           "xaxis": {
            "backgroundcolor": "#E5ECF6",
            "gridcolor": "white",
            "gridwidth": 2,
            "linecolor": "white",
            "showbackground": true,
            "ticks": "",
            "zerolinecolor": "white"
           },
           "yaxis": {
            "backgroundcolor": "#E5ECF6",
            "gridcolor": "white",
            "gridwidth": 2,
            "linecolor": "white",
            "showbackground": true,
            "ticks": "",
            "zerolinecolor": "white"
           },
           "zaxis": {
            "backgroundcolor": "#E5ECF6",
            "gridcolor": "white",
            "gridwidth": 2,
            "linecolor": "white",
            "showbackground": true,
            "ticks": "",
            "zerolinecolor": "white"
           }
          },
          "shapedefaults": {
           "line": {
            "color": "#2a3f5f"
           }
          },
          "ternary": {
           "aaxis": {
            "gridcolor": "white",
            "linecolor": "white",
            "ticks": ""
           },
           "baxis": {
            "gridcolor": "white",
            "linecolor": "white",
            "ticks": ""
           },
           "bgcolor": "#E5ECF6",
           "caxis": {
            "gridcolor": "white",
            "linecolor": "white",
            "ticks": ""
           }
          },
          "title": {
           "x": 0.05
          },
          "xaxis": {
           "automargin": true,
           "gridcolor": "white",
           "linecolor": "white",
           "ticks": "",
           "title": {
            "standoff": 15
           },
           "zerolinecolor": "white",
           "zerolinewidth": 2
          },
          "yaxis": {
           "automargin": true,
           "gridcolor": "white",
           "linecolor": "white",
           "ticks": "",
           "title": {
            "standoff": 15
           },
           "zerolinecolor": "white",
           "zerolinewidth": 2
          }
         }
        },
        "title": {
         "font": {
          "color": "#4D5663"
         }
        },
        "xaxis": {
         "gridcolor": "#E1E5ED",
         "showgrid": true,
         "tickfont": {
          "color": "#4D5663"
         },
         "title": {
          "font": {
           "color": "#4D5663"
          },
          "text": ""
         },
         "zerolinecolor": "#E1E5ED"
        },
        "yaxis": {
         "gridcolor": "#E1E5ED",
         "showgrid": true,
         "tickfont": {
          "color": "#4D5663"
         },
         "title": {
          "font": {
           "color": "#4D5663"
          },
          "text": ""
         },
         "zerolinecolor": "#E1E5ED"
        }
       }
      },
      "text/html": [
       "<div>                            <div id=\"bd50f5fc-6996-4134-b372-c55db23fafb5\" class=\"plotly-graph-div\" style=\"height:525px; width:100%;\"></div>            <script type=\"text/javascript\">                require([\"plotly\"], function(Plotly) {                    window.PLOTLYENV=window.PLOTLYENV || {};\n",
       "                    window.PLOTLYENV.BASE_URL='https://plot.ly';                                    if (document.getElementById(\"bd50f5fc-6996-4134-b372-c55db23fafb5\")) {                    Plotly.newPlot(                        \"bd50f5fc-6996-4134-b372-c55db23fafb5\",                        [{\"marker\": {\"color\": \"rgba(255, 153, 51, 0.6)\", \"line\": {\"color\": \"rgba(255, 153, 51, 1.0)\", \"width\": 1}}, \"name\": \"None\", \"orientation\": \"v\", \"text\": \"\", \"type\": \"bar\", \"x\": [\"A\", \"B\", \"C\", \"D\"], \"y\": [100, 100, 100, 100]}],                        {\"legend\": {\"bgcolor\": \"#F5F6F9\", \"font\": {\"color\": \"#4D5663\"}}, \"paper_bgcolor\": \"#F5F6F9\", \"plot_bgcolor\": \"#F5F6F9\", \"template\": {\"data\": {\"bar\": [{\"error_x\": {\"color\": \"#2a3f5f\"}, \"error_y\": {\"color\": \"#2a3f5f\"}, \"marker\": {\"line\": {\"color\": \"#E5ECF6\", \"width\": 0.5}}, \"type\": \"bar\"}], \"barpolar\": [{\"marker\": {\"line\": {\"color\": \"#E5ECF6\", \"width\": 0.5}}, \"type\": \"barpolar\"}], \"carpet\": [{\"aaxis\": {\"endlinecolor\": \"#2a3f5f\", \"gridcolor\": \"white\", \"linecolor\": \"white\", \"minorgridcolor\": \"white\", \"startlinecolor\": \"#2a3f5f\"}, \"baxis\": {\"endlinecolor\": \"#2a3f5f\", \"gridcolor\": \"white\", \"linecolor\": \"white\", \"minorgridcolor\": \"white\", \"startlinecolor\": \"#2a3f5f\"}, \"type\": \"carpet\"}], \"choropleth\": [{\"colorbar\": {\"outlinewidth\": 0, \"ticks\": \"\"}, \"type\": \"choropleth\"}], \"contour\": [{\"colorbar\": {\"outlinewidth\": 0, \"ticks\": \"\"}, \"colorscale\": [[0.0, \"#0d0887\"], [0.1111111111111111, \"#46039f\"], [0.2222222222222222, \"#7201a8\"], [0.3333333333333333, \"#9c179e\"], [0.4444444444444444, \"#bd3786\"], [0.5555555555555556, \"#d8576b\"], [0.6666666666666666, \"#ed7953\"], [0.7777777777777778, \"#fb9f3a\"], [0.8888888888888888, \"#fdca26\"], [1.0, \"#f0f921\"]], \"type\": \"contour\"}], \"contourcarpet\": [{\"colorbar\": {\"outlinewidth\": 0, \"ticks\": \"\"}, \"type\": \"contourcarpet\"}], \"heatmap\": [{\"colorbar\": {\"outlinewidth\": 0, \"ticks\": \"\"}, \"colorscale\": [[0.0, \"#0d0887\"], [0.1111111111111111, \"#46039f\"], [0.2222222222222222, \"#7201a8\"], [0.3333333333333333, \"#9c179e\"], [0.4444444444444444, \"#bd3786\"], [0.5555555555555556, \"#d8576b\"], [0.6666666666666666, \"#ed7953\"], [0.7777777777777778, \"#fb9f3a\"], [0.8888888888888888, \"#fdca26\"], [1.0, \"#f0f921\"]], \"type\": \"heatmap\"}], \"heatmapgl\": [{\"colorbar\": {\"outlinewidth\": 0, \"ticks\": \"\"}, \"colorscale\": [[0.0, \"#0d0887\"], [0.1111111111111111, \"#46039f\"], [0.2222222222222222, \"#7201a8\"], [0.3333333333333333, \"#9c179e\"], [0.4444444444444444, \"#bd3786\"], [0.5555555555555556, \"#d8576b\"], [0.6666666666666666, \"#ed7953\"], [0.7777777777777778, \"#fb9f3a\"], [0.8888888888888888, \"#fdca26\"], [1.0, \"#f0f921\"]], \"type\": \"heatmapgl\"}], \"histogram\": [{\"marker\": {\"colorbar\": {\"outlinewidth\": 0, \"ticks\": \"\"}}, \"type\": \"histogram\"}], \"histogram2d\": [{\"colorbar\": {\"outlinewidth\": 0, \"ticks\": \"\"}, \"colorscale\": [[0.0, \"#0d0887\"], [0.1111111111111111, \"#46039f\"], [0.2222222222222222, \"#7201a8\"], [0.3333333333333333, \"#9c179e\"], [0.4444444444444444, \"#bd3786\"], [0.5555555555555556, \"#d8576b\"], [0.6666666666666666, \"#ed7953\"], [0.7777777777777778, \"#fb9f3a\"], [0.8888888888888888, \"#fdca26\"], [1.0, \"#f0f921\"]], \"type\": \"histogram2d\"}], \"histogram2dcontour\": [{\"colorbar\": {\"outlinewidth\": 0, \"ticks\": \"\"}, \"colorscale\": [[0.0, \"#0d0887\"], [0.1111111111111111, \"#46039f\"], [0.2222222222222222, \"#7201a8\"], [0.3333333333333333, \"#9c179e\"], [0.4444444444444444, \"#bd3786\"], [0.5555555555555556, \"#d8576b\"], [0.6666666666666666, \"#ed7953\"], [0.7777777777777778, \"#fb9f3a\"], [0.8888888888888888, \"#fdca26\"], [1.0, \"#f0f921\"]], \"type\": \"histogram2dcontour\"}], \"mesh3d\": [{\"colorbar\": {\"outlinewidth\": 0, \"ticks\": \"\"}, \"type\": \"mesh3d\"}], \"parcoords\": [{\"line\": {\"colorbar\": {\"outlinewidth\": 0, \"ticks\": \"\"}}, \"type\": \"parcoords\"}], \"pie\": [{\"automargin\": true, \"type\": \"pie\"}], \"scatter\": [{\"marker\": {\"colorbar\": {\"outlinewidth\": 0, \"ticks\": \"\"}}, \"type\": \"scatter\"}], \"scatter3d\": [{\"line\": {\"colorbar\": {\"outlinewidth\": 0, \"ticks\": \"\"}}, \"marker\": {\"colorbar\": {\"outlinewidth\": 0, \"ticks\": \"\"}}, \"type\": \"scatter3d\"}], \"scattercarpet\": [{\"marker\": {\"colorbar\": {\"outlinewidth\": 0, \"ticks\": \"\"}}, \"type\": \"scattercarpet\"}], \"scattergeo\": [{\"marker\": {\"colorbar\": {\"outlinewidth\": 0, \"ticks\": \"\"}}, \"type\": \"scattergeo\"}], \"scattergl\": [{\"marker\": {\"colorbar\": {\"outlinewidth\": 0, \"ticks\": \"\"}}, \"type\": \"scattergl\"}], \"scattermapbox\": [{\"marker\": {\"colorbar\": {\"outlinewidth\": 0, \"ticks\": \"\"}}, \"type\": \"scattermapbox\"}], \"scatterpolar\": [{\"marker\": {\"colorbar\": {\"outlinewidth\": 0, \"ticks\": \"\"}}, \"type\": \"scatterpolar\"}], \"scatterpolargl\": [{\"marker\": {\"colorbar\": {\"outlinewidth\": 0, \"ticks\": \"\"}}, \"type\": \"scatterpolargl\"}], \"scatterternary\": [{\"marker\": {\"colorbar\": {\"outlinewidth\": 0, \"ticks\": \"\"}}, \"type\": \"scatterternary\"}], \"surface\": [{\"colorbar\": {\"outlinewidth\": 0, \"ticks\": \"\"}, \"colorscale\": [[0.0, \"#0d0887\"], [0.1111111111111111, \"#46039f\"], [0.2222222222222222, \"#7201a8\"], [0.3333333333333333, \"#9c179e\"], [0.4444444444444444, \"#bd3786\"], [0.5555555555555556, \"#d8576b\"], [0.6666666666666666, \"#ed7953\"], [0.7777777777777778, \"#fb9f3a\"], [0.8888888888888888, \"#fdca26\"], [1.0, \"#f0f921\"]], \"type\": \"surface\"}], \"table\": [{\"cells\": {\"fill\": {\"color\": \"#EBF0F8\"}, \"line\": {\"color\": \"white\"}}, \"header\": {\"fill\": {\"color\": \"#C8D4E3\"}, \"line\": {\"color\": \"white\"}}, \"type\": \"table\"}]}, \"layout\": {\"annotationdefaults\": {\"arrowcolor\": \"#2a3f5f\", \"arrowhead\": 0, \"arrowwidth\": 1}, \"coloraxis\": {\"colorbar\": {\"outlinewidth\": 0, \"ticks\": \"\"}}, \"colorscale\": {\"diverging\": [[0, \"#8e0152\"], [0.1, \"#c51b7d\"], [0.2, \"#de77ae\"], [0.3, \"#f1b6da\"], [0.4, \"#fde0ef\"], [0.5, \"#f7f7f7\"], [0.6, \"#e6f5d0\"], [0.7, \"#b8e186\"], [0.8, \"#7fbc41\"], [0.9, \"#4d9221\"], [1, \"#276419\"]], \"sequential\": [[0.0, \"#0d0887\"], [0.1111111111111111, \"#46039f\"], [0.2222222222222222, \"#7201a8\"], [0.3333333333333333, \"#9c179e\"], [0.4444444444444444, \"#bd3786\"], [0.5555555555555556, \"#d8576b\"], [0.6666666666666666, \"#ed7953\"], [0.7777777777777778, \"#fb9f3a\"], [0.8888888888888888, \"#fdca26\"], [1.0, \"#f0f921\"]], \"sequentialminus\": [[0.0, \"#0d0887\"], [0.1111111111111111, \"#46039f\"], [0.2222222222222222, \"#7201a8\"], [0.3333333333333333, \"#9c179e\"], [0.4444444444444444, \"#bd3786\"], [0.5555555555555556, \"#d8576b\"], [0.6666666666666666, \"#ed7953\"], [0.7777777777777778, \"#fb9f3a\"], [0.8888888888888888, \"#fdca26\"], [1.0, \"#f0f921\"]]}, \"colorway\": [\"#636efa\", \"#EF553B\", \"#00cc96\", \"#ab63fa\", \"#FFA15A\", \"#19d3f3\", \"#FF6692\", \"#B6E880\", \"#FF97FF\", \"#FECB52\"], \"font\": {\"color\": \"#2a3f5f\"}, \"geo\": {\"bgcolor\": \"white\", \"lakecolor\": \"white\", \"landcolor\": \"#E5ECF6\", \"showlakes\": true, \"showland\": true, \"subunitcolor\": \"white\"}, \"hoverlabel\": {\"align\": \"left\"}, \"hovermode\": \"closest\", \"mapbox\": {\"style\": \"light\"}, \"paper_bgcolor\": \"white\", \"plot_bgcolor\": \"#E5ECF6\", \"polar\": {\"angularaxis\": {\"gridcolor\": \"white\", \"linecolor\": \"white\", \"ticks\": \"\"}, \"bgcolor\": \"#E5ECF6\", \"radialaxis\": {\"gridcolor\": \"white\", \"linecolor\": \"white\", \"ticks\": \"\"}}, \"scene\": {\"xaxis\": {\"backgroundcolor\": \"#E5ECF6\", \"gridcolor\": \"white\", \"gridwidth\": 2, \"linecolor\": \"white\", \"showbackground\": true, \"ticks\": \"\", \"zerolinecolor\": \"white\"}, \"yaxis\": {\"backgroundcolor\": \"#E5ECF6\", \"gridcolor\": \"white\", \"gridwidth\": 2, \"linecolor\": \"white\", \"showbackground\": true, \"ticks\": \"\", \"zerolinecolor\": \"white\"}, \"zaxis\": {\"backgroundcolor\": \"#E5ECF6\", \"gridcolor\": \"white\", \"gridwidth\": 2, \"linecolor\": \"white\", \"showbackground\": true, \"ticks\": \"\", \"zerolinecolor\": \"white\"}}, \"shapedefaults\": {\"line\": {\"color\": \"#2a3f5f\"}}, \"ternary\": {\"aaxis\": {\"gridcolor\": \"white\", \"linecolor\": \"white\", \"ticks\": \"\"}, \"baxis\": {\"gridcolor\": \"white\", \"linecolor\": \"white\", \"ticks\": \"\"}, \"bgcolor\": \"#E5ECF6\", \"caxis\": {\"gridcolor\": \"white\", \"linecolor\": \"white\", \"ticks\": \"\"}}, \"title\": {\"x\": 0.05}, \"xaxis\": {\"automargin\": true, \"gridcolor\": \"white\", \"linecolor\": \"white\", \"ticks\": \"\", \"title\": {\"standoff\": 15}, \"zerolinecolor\": \"white\", \"zerolinewidth\": 2}, \"yaxis\": {\"automargin\": true, \"gridcolor\": \"white\", \"linecolor\": \"white\", \"ticks\": \"\", \"title\": {\"standoff\": 15}, \"zerolinecolor\": \"white\", \"zerolinewidth\": 2}}}, \"title\": {\"font\": {\"color\": \"#4D5663\"}}, \"xaxis\": {\"gridcolor\": \"#E1E5ED\", \"showgrid\": true, \"tickfont\": {\"color\": \"#4D5663\"}, \"title\": {\"font\": {\"color\": \"#4D5663\"}, \"text\": \"\"}, \"zerolinecolor\": \"#E1E5ED\"}, \"yaxis\": {\"gridcolor\": \"#E1E5ED\", \"showgrid\": true, \"tickfont\": {\"color\": \"#4D5663\"}, \"title\": {\"font\": {\"color\": \"#4D5663\"}, \"text\": \"\"}, \"zerolinecolor\": \"#E1E5ED\"}},                        {\"showLink\": true, \"linkText\": \"Export to plot.ly\", \"plotlyServerURL\": \"https://plot.ly\", \"responsive\": true}                    ).then(function(){\n",
       "                            \n",
       "var gd = document.getElementById('bd50f5fc-6996-4134-b372-c55db23fafb5');\n",
       "var x = new MutationObserver(function (mutations, observer) {{\n",
       "        var display = window.getComputedStyle(gd).display;\n",
       "        if (!display || display === 'none') {{\n",
       "            console.log([gd, 'removed!']);\n",
       "            Plotly.purge(gd);\n",
       "            observer.disconnect();\n",
       "        }}\n",
       "}});\n",
       "\n",
       "// Listen for the removal of the full notebook cells\n",
       "var notebookContainer = gd.closest('#notebook-container');\n",
       "if (notebookContainer) {{\n",
       "    x.observe(notebookContainer, {childList: true});\n",
       "}}\n",
       "\n",
       "// Listen for the clearing of the current output cell\n",
       "var outputEl = gd.closest('.output');\n",
       "if (outputEl) {{\n",
       "    x.observe(outputEl, {childList: true});\n",
       "}}\n",
       "\n",
       "                        })                };                });            </script>        </div>"
      ]
     },
     "metadata": {},
     "output_type": "display_data"
    }
   ],
   "source": [
    "df.count().iplot(kind='bar')"
   ]
  },
  {
   "cell_type": "markdown",
   "metadata": {},
   "source": [
    "## Boxplots"
   ]
  },
  {
   "cell_type": "code",
   "execution_count": 13,
   "metadata": {},
   "outputs": [
    {
     "data": {
      "application/vnd.plotly.v1+json": {
       "config": {
        "linkText": "Export to plot.ly",
        "plotlyServerURL": "https://plot.ly",
        "showLink": true
       },
       "data": [
        {
         "boxpoints": false,
         "line": {
          "width": 1.3
         },
         "marker": {
          "color": "rgba(255, 153, 51, 1.0)"
         },
         "name": "A",
         "orientation": "v",
         "type": "box",
         "y": [
          1.4231283587146955,
          0.7516603116190158,
          -0.04069831395129999,
          0.8494525246784042,
          0.7977645931831729,
          -2.424491651018319,
          -1.2582093110568149,
          -0.15529258970936946,
          -0.45312148704220795,
          -2.2775610915462363,
          0.1332429602222429,
          0.3998857890171944,
          -0.14904950186615676,
          1.1931908500642565,
          0.783776424506487,
          -0.13860290912962892,
          0.7664731049270755,
          -0.14547497275331425,
          -0.40802584839016576,
          1.0711888545925605,
          -0.642313308372773,
          0.049879911918071174,
          1.8009405803668426,
          -1.469579438518773,
          2.211475339175111,
          -0.38394754230209527,
          -0.8483588357454597,
          -0.4233808984906991,
          0.8970171336936127,
          -0.46309218292344384,
          -1.540708272987029,
          -0.22011844093930893,
          1.2626125439114022,
          -0.8599224592696124,
          0.7620320340247184,
          0.6063787747519568,
          -0.5021325565790095,
          -0.4042442991222263,
          0.6378712352966499,
          -0.32475739002353093,
          -1.355471592482026,
          0.8188916405081248,
          -0.7136407597534036,
          1.4530169466066432,
          0.12437035702819564,
          0.34380998064207186,
          0.3670261299236814,
          -0.7087328956200836,
          -1.258067366257801,
          0.12928804837990635,
          -0.31603283402669446,
          0.6408530470104912,
          1.194512576723845,
          -1.5542148592170382,
          -0.3180623240226567,
          -0.26232905958765823,
          -2.5250678931764288,
          0.03021518574286839,
          0.8782566747525722,
          0.06805291179027405,
          -0.7800434613277817,
          0.30587770196971614,
          -1.527764831789569,
          -1.2455255738078197,
          0.8708789079885804,
          -2.277781652216472,
          -0.961085083474282,
          0.7480604179254391,
          -1.132740550097753,
          -0.21494270061498336,
          0.26326840794947803,
          1.9435527095905965,
          0.6633014767479828,
          -0.33967376673719074,
          -1.0005256175729227,
          1.033839740834173,
          -0.1344938358004172,
          -1.8377909653802171,
          0.4862090693094273,
          0.019117224110497474,
          1.4381775613316357,
          1.0022419802726958,
          0.6177486704087491,
          0.2238116198272653,
          -0.3792759330228207,
          1.5642561450343315,
          -1.4797684734922998,
          1.0732977102841788,
          -1.0993447775978227,
          0.6133786466992118,
          -1.7069242684336634,
          1.2751028892789205,
          0.401432572330607,
          0.8652760480066986,
          -0.019418977081185895,
          0.9807867122167452,
          1.6018808310985337,
          0.13459144877490167,
          0.9626180719042506,
          0.9937757289990029
         ]
        },
        {
         "boxpoints": false,
         "line": {
          "width": 1.3
         },
         "marker": {
          "color": "rgba(55, 128, 191, 1.0)"
         },
         "name": "B",
         "orientation": "v",
         "type": "box",
         "y": [
          -1.3159148036125334,
          -0.6711729334327814,
          0.938030616343648,
          -0.883172519923497,
          -1.1559543838137716,
          -0.21362938182096808,
          1.1865996630899105,
          -0.13503942410931474,
          0.702379722654413,
          2.1627358962212906,
          0.2707271260340421,
          -0.08373718813127257,
          -1.4246125339918407,
          0.19285853601533218,
          0.6007247164853516,
          -0.8692022129422258,
          0.101009847359833,
          1.446347405489576,
          1.4241402916808978,
          0.09233934005602447,
          2.1859187944191194,
          0.7649775110539025,
          0.6796053495705884,
          -0.554852071312288,
          1.1130260106970804,
          -1.5297190221801549,
          0.22693985504789704,
          -0.9814227313037053,
          1.3706959453569925,
          2.0683730411899925,
          0.4586619732815214,
          1.2190858388012593,
          -1.1004677584045799,
          -0.28434856410119347,
          0.2926406015415052,
          -0.4334229059903361,
          -1.4806843754448946,
          -0.9910248686250521,
          0.13800914672309186,
          -1.034345016229925,
          -1.3875499683950403,
          -0.2839718128545817,
          0.40723721037804944,
          1.2103459308374067,
          -0.6544666001268368,
          -1.323283032466016,
          -0.9338408253711902,
          -1.3657749261666121,
          -0.22670230951583553,
          1.673174411862094,
          -0.7392250392494247,
          -0.5977251424426647,
          -0.8798250439172343,
          0.848483523562618,
          -0.8373298454739747,
          -0.4928515836198017,
          0.7567630417126984,
          1.7191358646363109,
          1.9142309523473156,
          0.7116906418838965,
          -0.6317604607877776,
          -0.3603533087907271,
          0.06537406356420647,
          -0.2362899962772877,
          0.30910863432263014,
          -0.3106251550628561,
          -0.425735266645392,
          -0.16654657872439244,
          1.0279927804245697,
          0.6154531545225654,
          0.38133211748851936,
          0.7107218250480805,
          0.6169978660921006,
          0.35961602170113527,
          0.3529418612584008,
          -2.4210794154829363,
          0.21751336076725786,
          0.13751215145474693,
          1.8218497869401669,
          -1.026045419410824,
          -0.17358063387533523,
          -0.12941743078398793,
          -0.10898435004964954,
          -0.9815145765089636,
          -0.712956213176565,
          0.45861126534718105,
          -1.35549152949366,
          0.261728135661618,
          0.44365502505321674,
          -0.4299447790444871,
          1.4603204442829751,
          -2.77607709870146,
          -0.11281905305207801,
          0.4503284425976104,
          -0.6363703760997098,
          0.706131730762392,
          -0.5553440039407791,
          -0.5558337541696055,
          1.1021535193467047,
          -0.10646954349882545
         ]
        },
        {
         "boxpoints": false,
         "line": {
          "width": 1.3
         },
         "marker": {
          "color": "rgba(50, 171, 96, 1.0)"
         },
         "name": "C",
         "orientation": "v",
         "type": "box",
         "y": [
          -0.13237579222541013,
          -0.052347829704393126,
          0.4692526299940617,
          0.31613759897620036,
          0.038077627669812375,
          1.5011192659797281,
          -0.29842974623082363,
          -0.6135580924459909,
          0.06592428522592648,
          1.3603710179272264,
          -2.3409190663165464,
          -0.2889958922051712,
          1.978389322463096,
          0.5813553904840633,
          -1.888732642009797,
          -0.5018245258341147,
          -0.0489213899629533,
          0.5371642503245256,
          1.1016891114589598,
          0.9666620958063254,
          0.694573206426251,
          0.2478258235386552,
          0.8195615195552352,
          0.6205339681382519,
          -0.8050729161790104,
          1.6231169796230278,
          -1.7579390663376324,
          0.7523004931694655,
          2.5550957009229145,
          -0.16043494088364257,
          -1.5126796219247454,
          1.1408972343680064,
          0.029819705381316952,
          0.7312165813450313,
          0.07373317269178083,
          -0.2849716167860715,
          0.023478680449609938,
          -1.2236177266917754,
          1.3666823261506365,
          -0.9286665847654201,
          0.10599810305490082,
          -0.43841601974518873,
          -0.353627868945709,
          -0.9318346325943048,
          1.7066007515376558,
          -0.11443002079209948,
          0.611898576384863,
          -1.6980193319777221,
          -1.7557760172017405,
          1.1859346187066266,
          0.35278967968166297,
          -0.6625442040702696,
          -0.4316534763318296,
          -0.8553573752349162,
          0.419361435533611,
          0.3050586495992559,
          -0.5654831979495469,
          0.23505406461487433,
          0.2824194464623127,
          -0.23280675726503214,
          -0.18403686480620848,
          1.3806881575057637,
          0.22839093562968843,
          -0.7779119845767521,
          -0.212027223863369,
          -1.1557481827178329,
          -0.08080240184313331,
          0.019360151832484428,
          -1.059697548621927,
          0.33387705641420945,
          -1.2637904918675884,
          0.8925279544822788,
          -1.967577246484591,
          -1.5402676423006545,
          -0.6636279606621213,
          0.20823708740936742,
          -0.11780854016506509,
          0.1645481697701134,
          -0.09450343044520912,
          0.43063323328726044,
          -1.5621942064559213,
          -1.278464936613575,
          0.9229912359708183,
          0.6992700227549166,
          0.6040142131825644,
          -0.9377269609438603,
          -1.0082577364982552,
          -0.13914798114251678,
          -2.0678577173120836,
          1.4000324476157366,
          0.8889606602303802,
          -0.8135337263237251,
          -0.01290035882819455,
          -1.0931618685607598,
          -0.29562697230604573,
          0.7013912694029035,
          1.2202457243437268,
          -0.03618334178095662,
          -0.6835029620743883,
          -0.31693575222433584
         ]
        },
        {
         "boxpoints": false,
         "line": {
          "width": 1.3
         },
         "marker": {
          "color": "rgba(128, 0, 128, 1.0)"
         },
         "name": "D",
         "orientation": "v",
         "type": "box",
         "y": [
          0.73852935833334,
          -1.5176580227009084,
          0.512594517331452,
          -0.9765693441549024,
          0.2597380646455681,
          0.2005281674647245,
          -0.43222083383021487,
          0.28264608068641234,
          -2.353290595895701,
          -1.8926961644530766,
          2.27093306437956,
          1.2066485053430889,
          0.7054562289187188,
          1.0055452928207518,
          -0.4681460091213367,
          -1.2944114494644843,
          1.3607689933983973,
          0.09725199606574048,
          1.83736969115192,
          -1.1587227224422534,
          1.1090726500218338,
          -0.7225013349844344,
          -0.9137980221576838,
          -1.0601686685049398,
          1.4026374642411892,
          0.7902606455214161,
          -0.9667653313329032,
          0.39019832840791346,
          0.8797628220128945,
          -0.3215103633202152,
          0.45125592139847504,
          0.5414061119409422,
          0.7658140963443745,
          1.9675578763616768,
          0.6289659039244848,
          -0.32953287186860414,
          -1.1046035644406151,
          -0.5017107675914297,
          -0.050135588577950634,
          0.1156013888140175,
          1.817026403682867,
          -0.5822754037947193,
          -1.1159809283681592,
          0.5829597663270446,
          1.525546490741131,
          -0.7870451502160626,
          -0.07801027556160016,
          -0.09916614697687562,
          -0.6484936684020154,
          0.9061275439005156,
          -1.1977397401901584,
          0.07216530006961856,
          -0.09471364186907975,
          -0.33168597889227824,
          1.3856210920715732,
          0.29228648402712515,
          -0.31506805736201177,
          0.26406938841327465,
          0.1214991679754779,
          -1.4589964130764155,
          -0.2960215475269721,
          -0.08473609173871421,
          -0.24788889268351452,
          -0.4012651394180614,
          -0.11119053847235782,
          0.032618335709918636,
          2.302025450805792,
          1.0351623471019253,
          -0.7274030283028319,
          0.16223023965662992,
          0.3275178990919996,
          -0.8248485244343083,
          0.320470268526574,
          0.24774868235903783,
          -1.1422354828286703,
          -0.9544307180899267,
          0.03015949233702071,
          -0.29061097551377707,
          0.587152578186654,
          -1.2663987789455702,
          -0.1760172926593463,
          2.1270370895124264,
          -1.2136800421158462,
          -0.08958940819583555,
          -2.9392124879873895,
          0.2209583862426302,
          0.9049504073046822,
          1.7660163025166824,
          0.2979790504197034,
          1.4258052202184266,
          0.12340898475312499,
          2.5323839720634402,
          -1.3844333428579232,
          2.2457544603669746,
          -1.1848977721498695,
          0.6082307057013913,
          -0.24041896437186125,
          -0.6704452551959191,
          -0.7461529444354846,
          -0.6875391663565866
         ]
        }
       ],
       "layout": {
        "legend": {
         "bgcolor": "#F5F6F9",
         "font": {
          "color": "#4D5663"
         }
        },
        "paper_bgcolor": "#F5F6F9",
        "plot_bgcolor": "#F5F6F9",
        "template": {
         "data": {
          "bar": [
           {
            "error_x": {
             "color": "#2a3f5f"
            },
            "error_y": {
             "color": "#2a3f5f"
            },
            "marker": {
             "line": {
              "color": "#E5ECF6",
              "width": 0.5
             }
            },
            "type": "bar"
           }
          ],
          "barpolar": [
           {
            "marker": {
             "line": {
              "color": "#E5ECF6",
              "width": 0.5
             }
            },
            "type": "barpolar"
           }
          ],
          "carpet": [
           {
            "aaxis": {
             "endlinecolor": "#2a3f5f",
             "gridcolor": "white",
             "linecolor": "white",
             "minorgridcolor": "white",
             "startlinecolor": "#2a3f5f"
            },
            "baxis": {
             "endlinecolor": "#2a3f5f",
             "gridcolor": "white",
             "linecolor": "white",
             "minorgridcolor": "white",
             "startlinecolor": "#2a3f5f"
            },
            "type": "carpet"
           }
          ],
          "choropleth": [
           {
            "colorbar": {
             "outlinewidth": 0,
             "ticks": ""
            },
            "type": "choropleth"
           }
          ],
          "contour": [
           {
            "colorbar": {
             "outlinewidth": 0,
             "ticks": ""
            },
            "colorscale": [
             [
              0,
              "#0d0887"
             ],
             [
              0.1111111111111111,
              "#46039f"
             ],
             [
              0.2222222222222222,
              "#7201a8"
             ],
             [
              0.3333333333333333,
              "#9c179e"
             ],
             [
              0.4444444444444444,
              "#bd3786"
             ],
             [
              0.5555555555555556,
              "#d8576b"
             ],
             [
              0.6666666666666666,
              "#ed7953"
             ],
             [
              0.7777777777777778,
              "#fb9f3a"
             ],
             [
              0.8888888888888888,
              "#fdca26"
             ],
             [
              1,
              "#f0f921"
             ]
            ],
            "type": "contour"
           }
          ],
          "contourcarpet": [
           {
            "colorbar": {
             "outlinewidth": 0,
             "ticks": ""
            },
            "type": "contourcarpet"
           }
          ],
          "heatmap": [
           {
            "colorbar": {
             "outlinewidth": 0,
             "ticks": ""
            },
            "colorscale": [
             [
              0,
              "#0d0887"
             ],
             [
              0.1111111111111111,
              "#46039f"
             ],
             [
              0.2222222222222222,
              "#7201a8"
             ],
             [
              0.3333333333333333,
              "#9c179e"
             ],
             [
              0.4444444444444444,
              "#bd3786"
             ],
             [
              0.5555555555555556,
              "#d8576b"
             ],
             [
              0.6666666666666666,
              "#ed7953"
             ],
             [
              0.7777777777777778,
              "#fb9f3a"
             ],
             [
              0.8888888888888888,
              "#fdca26"
             ],
             [
              1,
              "#f0f921"
             ]
            ],
            "type": "heatmap"
           }
          ],
          "heatmapgl": [
           {
            "colorbar": {
             "outlinewidth": 0,
             "ticks": ""
            },
            "colorscale": [
             [
              0,
              "#0d0887"
             ],
             [
              0.1111111111111111,
              "#46039f"
             ],
             [
              0.2222222222222222,
              "#7201a8"
             ],
             [
              0.3333333333333333,
              "#9c179e"
             ],
             [
              0.4444444444444444,
              "#bd3786"
             ],
             [
              0.5555555555555556,
              "#d8576b"
             ],
             [
              0.6666666666666666,
              "#ed7953"
             ],
             [
              0.7777777777777778,
              "#fb9f3a"
             ],
             [
              0.8888888888888888,
              "#fdca26"
             ],
             [
              1,
              "#f0f921"
             ]
            ],
            "type": "heatmapgl"
           }
          ],
          "histogram": [
           {
            "marker": {
             "colorbar": {
              "outlinewidth": 0,
              "ticks": ""
             }
            },
            "type": "histogram"
           }
          ],
          "histogram2d": [
           {
            "colorbar": {
             "outlinewidth": 0,
             "ticks": ""
            },
            "colorscale": [
             [
              0,
              "#0d0887"
             ],
             [
              0.1111111111111111,
              "#46039f"
             ],
             [
              0.2222222222222222,
              "#7201a8"
             ],
             [
              0.3333333333333333,
              "#9c179e"
             ],
             [
              0.4444444444444444,
              "#bd3786"
             ],
             [
              0.5555555555555556,
              "#d8576b"
             ],
             [
              0.6666666666666666,
              "#ed7953"
             ],
             [
              0.7777777777777778,
              "#fb9f3a"
             ],
             [
              0.8888888888888888,
              "#fdca26"
             ],
             [
              1,
              "#f0f921"
             ]
            ],
            "type": "histogram2d"
           }
          ],
          "histogram2dcontour": [
           {
            "colorbar": {
             "outlinewidth": 0,
             "ticks": ""
            },
            "colorscale": [
             [
              0,
              "#0d0887"
             ],
             [
              0.1111111111111111,
              "#46039f"
             ],
             [
              0.2222222222222222,
              "#7201a8"
             ],
             [
              0.3333333333333333,
              "#9c179e"
             ],
             [
              0.4444444444444444,
              "#bd3786"
             ],
             [
              0.5555555555555556,
              "#d8576b"
             ],
             [
              0.6666666666666666,
              "#ed7953"
             ],
             [
              0.7777777777777778,
              "#fb9f3a"
             ],
             [
              0.8888888888888888,
              "#fdca26"
             ],
             [
              1,
              "#f0f921"
             ]
            ],
            "type": "histogram2dcontour"
           }
          ],
          "mesh3d": [
           {
            "colorbar": {
             "outlinewidth": 0,
             "ticks": ""
            },
            "type": "mesh3d"
           }
          ],
          "parcoords": [
           {
            "line": {
             "colorbar": {
              "outlinewidth": 0,
              "ticks": ""
             }
            },
            "type": "parcoords"
           }
          ],
          "pie": [
           {
            "automargin": true,
            "type": "pie"
           }
          ],
          "scatter": [
           {
            "marker": {
             "colorbar": {
              "outlinewidth": 0,
              "ticks": ""
             }
            },
            "type": "scatter"
           }
          ],
          "scatter3d": [
           {
            "line": {
             "colorbar": {
              "outlinewidth": 0,
              "ticks": ""
             }
            },
            "marker": {
             "colorbar": {
              "outlinewidth": 0,
              "ticks": ""
             }
            },
            "type": "scatter3d"
           }
          ],
          "scattercarpet": [
           {
            "marker": {
             "colorbar": {
              "outlinewidth": 0,
              "ticks": ""
             }
            },
            "type": "scattercarpet"
           }
          ],
          "scattergeo": [
           {
            "marker": {
             "colorbar": {
              "outlinewidth": 0,
              "ticks": ""
             }
            },
            "type": "scattergeo"
           }
          ],
          "scattergl": [
           {
            "marker": {
             "colorbar": {
              "outlinewidth": 0,
              "ticks": ""
             }
            },
            "type": "scattergl"
           }
          ],
          "scattermapbox": [
           {
            "marker": {
             "colorbar": {
              "outlinewidth": 0,
              "ticks": ""
             }
            },
            "type": "scattermapbox"
           }
          ],
          "scatterpolar": [
           {
            "marker": {
             "colorbar": {
              "outlinewidth": 0,
              "ticks": ""
             }
            },
            "type": "scatterpolar"
           }
          ],
          "scatterpolargl": [
           {
            "marker": {
             "colorbar": {
              "outlinewidth": 0,
              "ticks": ""
             }
            },
            "type": "scatterpolargl"
           }
          ],
          "scatterternary": [
           {
            "marker": {
             "colorbar": {
              "outlinewidth": 0,
              "ticks": ""
             }
            },
            "type": "scatterternary"
           }
          ],
          "surface": [
           {
            "colorbar": {
             "outlinewidth": 0,
             "ticks": ""
            },
            "colorscale": [
             [
              0,
              "#0d0887"
             ],
             [
              0.1111111111111111,
              "#46039f"
             ],
             [
              0.2222222222222222,
              "#7201a8"
             ],
             [
              0.3333333333333333,
              "#9c179e"
             ],
             [
              0.4444444444444444,
              "#bd3786"
             ],
             [
              0.5555555555555556,
              "#d8576b"
             ],
             [
              0.6666666666666666,
              "#ed7953"
             ],
             [
              0.7777777777777778,
              "#fb9f3a"
             ],
             [
              0.8888888888888888,
              "#fdca26"
             ],
             [
              1,
              "#f0f921"
             ]
            ],
            "type": "surface"
           }
          ],
          "table": [
           {
            "cells": {
             "fill": {
              "color": "#EBF0F8"
             },
             "line": {
              "color": "white"
             }
            },
            "header": {
             "fill": {
              "color": "#C8D4E3"
             },
             "line": {
              "color": "white"
             }
            },
            "type": "table"
           }
          ]
         },
         "layout": {
          "annotationdefaults": {
           "arrowcolor": "#2a3f5f",
           "arrowhead": 0,
           "arrowwidth": 1
          },
          "coloraxis": {
           "colorbar": {
            "outlinewidth": 0,
            "ticks": ""
           }
          },
          "colorscale": {
           "diverging": [
            [
             0,
             "#8e0152"
            ],
            [
             0.1,
             "#c51b7d"
            ],
            [
             0.2,
             "#de77ae"
            ],
            [
             0.3,
             "#f1b6da"
            ],
            [
             0.4,
             "#fde0ef"
            ],
            [
             0.5,
             "#f7f7f7"
            ],
            [
             0.6,
             "#e6f5d0"
            ],
            [
             0.7,
             "#b8e186"
            ],
            [
             0.8,
             "#7fbc41"
            ],
            [
             0.9,
             "#4d9221"
            ],
            [
             1,
             "#276419"
            ]
           ],
           "sequential": [
            [
             0,
             "#0d0887"
            ],
            [
             0.1111111111111111,
             "#46039f"
            ],
            [
             0.2222222222222222,
             "#7201a8"
            ],
            [
             0.3333333333333333,
             "#9c179e"
            ],
            [
             0.4444444444444444,
             "#bd3786"
            ],
            [
             0.5555555555555556,
             "#d8576b"
            ],
            [
             0.6666666666666666,
             "#ed7953"
            ],
            [
             0.7777777777777778,
             "#fb9f3a"
            ],
            [
             0.8888888888888888,
             "#fdca26"
            ],
            [
             1,
             "#f0f921"
            ]
           ],
           "sequentialminus": [
            [
             0,
             "#0d0887"
            ],
            [
             0.1111111111111111,
             "#46039f"
            ],
            [
             0.2222222222222222,
             "#7201a8"
            ],
            [
             0.3333333333333333,
             "#9c179e"
            ],
            [
             0.4444444444444444,
             "#bd3786"
            ],
            [
             0.5555555555555556,
             "#d8576b"
            ],
            [
             0.6666666666666666,
             "#ed7953"
            ],
            [
             0.7777777777777778,
             "#fb9f3a"
            ],
            [
             0.8888888888888888,
             "#fdca26"
            ],
            [
             1,
             "#f0f921"
            ]
           ]
          },
          "colorway": [
           "#636efa",
           "#EF553B",
           "#00cc96",
           "#ab63fa",
           "#FFA15A",
           "#19d3f3",
           "#FF6692",
           "#B6E880",
           "#FF97FF",
           "#FECB52"
          ],
          "font": {
           "color": "#2a3f5f"
          },
          "geo": {
           "bgcolor": "white",
           "lakecolor": "white",
           "landcolor": "#E5ECF6",
           "showlakes": true,
           "showland": true,
           "subunitcolor": "white"
          },
          "hoverlabel": {
           "align": "left"
          },
          "hovermode": "closest",
          "mapbox": {
           "style": "light"
          },
          "paper_bgcolor": "white",
          "plot_bgcolor": "#E5ECF6",
          "polar": {
           "angularaxis": {
            "gridcolor": "white",
            "linecolor": "white",
            "ticks": ""
           },
           "bgcolor": "#E5ECF6",
           "radialaxis": {
            "gridcolor": "white",
            "linecolor": "white",
            "ticks": ""
           }
          },
          "scene": {
           "xaxis": {
            "backgroundcolor": "#E5ECF6",
            "gridcolor": "white",
            "gridwidth": 2,
            "linecolor": "white",
            "showbackground": true,
            "ticks": "",
            "zerolinecolor": "white"
           },
           "yaxis": {
            "backgroundcolor": "#E5ECF6",
            "gridcolor": "white",
            "gridwidth": 2,
            "linecolor": "white",
            "showbackground": true,
            "ticks": "",
            "zerolinecolor": "white"
           },
           "zaxis": {
            "backgroundcolor": "#E5ECF6",
            "gridcolor": "white",
            "gridwidth": 2,
            "linecolor": "white",
            "showbackground": true,
            "ticks": "",
            "zerolinecolor": "white"
           }
          },
          "shapedefaults": {
           "line": {
            "color": "#2a3f5f"
           }
          },
          "ternary": {
           "aaxis": {
            "gridcolor": "white",
            "linecolor": "white",
            "ticks": ""
           },
           "baxis": {
            "gridcolor": "white",
            "linecolor": "white",
            "ticks": ""
           },
           "bgcolor": "#E5ECF6",
           "caxis": {
            "gridcolor": "white",
            "linecolor": "white",
            "ticks": ""
           }
          },
          "title": {
           "x": 0.05
          },
          "xaxis": {
           "automargin": true,
           "gridcolor": "white",
           "linecolor": "white",
           "ticks": "",
           "title": {
            "standoff": 15
           },
           "zerolinecolor": "white",
           "zerolinewidth": 2
          },
          "yaxis": {
           "automargin": true,
           "gridcolor": "white",
           "linecolor": "white",
           "ticks": "",
           "title": {
            "standoff": 15
           },
           "zerolinecolor": "white",
           "zerolinewidth": 2
          }
         }
        },
        "title": {
         "font": {
          "color": "#4D5663"
         }
        },
        "xaxis": {
         "gridcolor": "#E1E5ED",
         "showgrid": true,
         "tickfont": {
          "color": "#4D5663"
         },
         "title": {
          "font": {
           "color": "#4D5663"
          },
          "text": ""
         },
         "zerolinecolor": "#E1E5ED"
        },
        "yaxis": {
         "gridcolor": "#E1E5ED",
         "showgrid": true,
         "tickfont": {
          "color": "#4D5663"
         },
         "title": {
          "font": {
           "color": "#4D5663"
          },
          "text": ""
         },
         "zerolinecolor": "#E1E5ED"
        }
       }
      },
      "text/html": [
       "<div>                            <div id=\"57e05bd4-3c31-4a0b-9331-a560a7f7b7be\" class=\"plotly-graph-div\" style=\"height:525px; width:100%;\"></div>            <script type=\"text/javascript\">                require([\"plotly\"], function(Plotly) {                    window.PLOTLYENV=window.PLOTLYENV || {};\n",
       "                    window.PLOTLYENV.BASE_URL='https://plot.ly';                                    if (document.getElementById(\"57e05bd4-3c31-4a0b-9331-a560a7f7b7be\")) {                    Plotly.newPlot(                        \"57e05bd4-3c31-4a0b-9331-a560a7f7b7be\",                        [{\"boxpoints\": false, \"line\": {\"width\": 1.3}, \"marker\": {\"color\": \"rgba(255, 153, 51, 1.0)\"}, \"name\": \"A\", \"orientation\": \"v\", \"type\": \"box\", \"y\": [1.4231283587146955, 0.7516603116190158, -0.04069831395129999, 0.8494525246784042, 0.7977645931831729, -2.424491651018319, -1.2582093110568149, -0.15529258970936946, -0.45312148704220795, -2.2775610915462363, 0.1332429602222429, 0.3998857890171944, -0.14904950186615676, 1.1931908500642565, 0.783776424506487, -0.13860290912962892, 0.7664731049270755, -0.14547497275331425, -0.40802584839016576, 1.0711888545925605, -0.642313308372773, 0.049879911918071174, 1.8009405803668426, -1.469579438518773, 2.211475339175111, -0.38394754230209527, -0.8483588357454597, -0.4233808984906991, 0.8970171336936127, -0.46309218292344384, -1.540708272987029, -0.22011844093930893, 1.2626125439114022, -0.8599224592696124, 0.7620320340247184, 0.6063787747519568, -0.5021325565790095, -0.4042442991222263, 0.6378712352966499, -0.32475739002353093, -1.355471592482026, 0.8188916405081248, -0.7136407597534036, 1.4530169466066432, 0.12437035702819564, 0.34380998064207186, 0.3670261299236814, -0.7087328956200836, -1.258067366257801, 0.12928804837990635, -0.31603283402669446, 0.6408530470104912, 1.194512576723845, -1.5542148592170382, -0.3180623240226567, -0.26232905958765823, -2.5250678931764288, 0.03021518574286839, 0.8782566747525722, 0.06805291179027405, -0.7800434613277817, 0.30587770196971614, -1.527764831789569, -1.2455255738078197, 0.8708789079885804, -2.277781652216472, -0.961085083474282, 0.7480604179254391, -1.132740550097753, -0.21494270061498336, 0.26326840794947803, 1.9435527095905965, 0.6633014767479828, -0.33967376673719074, -1.0005256175729227, 1.033839740834173, -0.1344938358004172, -1.8377909653802171, 0.4862090693094273, 0.019117224110497474, 1.4381775613316357, 1.0022419802726958, 0.6177486704087491, 0.2238116198272653, -0.3792759330228207, 1.5642561450343315, -1.4797684734922998, 1.0732977102841788, -1.0993447775978227, 0.6133786466992118, -1.7069242684336634, 1.2751028892789205, 0.401432572330607, 0.8652760480066986, -0.019418977081185895, 0.9807867122167452, 1.6018808310985337, 0.13459144877490167, 0.9626180719042506, 0.9937757289990029]}, {\"boxpoints\": false, \"line\": {\"width\": 1.3}, \"marker\": {\"color\": \"rgba(55, 128, 191, 1.0)\"}, \"name\": \"B\", \"orientation\": \"v\", \"type\": \"box\", \"y\": [-1.3159148036125334, -0.6711729334327814, 0.938030616343648, -0.883172519923497, -1.1559543838137716, -0.21362938182096808, 1.1865996630899105, -0.13503942410931474, 0.702379722654413, 2.1627358962212906, 0.2707271260340421, -0.08373718813127257, -1.4246125339918407, 0.19285853601533218, 0.6007247164853516, -0.8692022129422258, 0.101009847359833, 1.446347405489576, 1.4241402916808978, 0.09233934005602447, 2.1859187944191194, 0.7649775110539025, 0.6796053495705884, -0.554852071312288, 1.1130260106970804, -1.5297190221801549, 0.22693985504789704, -0.9814227313037053, 1.3706959453569925, 2.0683730411899925, 0.4586619732815214, 1.2190858388012593, -1.1004677584045799, -0.28434856410119347, 0.2926406015415052, -0.4334229059903361, -1.4806843754448946, -0.9910248686250521, 0.13800914672309186, -1.034345016229925, -1.3875499683950403, -0.2839718128545817, 0.40723721037804944, 1.2103459308374067, -0.6544666001268368, -1.323283032466016, -0.9338408253711902, -1.3657749261666121, -0.22670230951583553, 1.673174411862094, -0.7392250392494247, -0.5977251424426647, -0.8798250439172343, 0.848483523562618, -0.8373298454739747, -0.4928515836198017, 0.7567630417126984, 1.7191358646363109, 1.9142309523473156, 0.7116906418838965, -0.6317604607877776, -0.3603533087907271, 0.06537406356420647, -0.2362899962772877, 0.30910863432263014, -0.3106251550628561, -0.425735266645392, -0.16654657872439244, 1.0279927804245697, 0.6154531545225654, 0.38133211748851936, 0.7107218250480805, 0.6169978660921006, 0.35961602170113527, 0.3529418612584008, -2.4210794154829363, 0.21751336076725786, 0.13751215145474693, 1.8218497869401669, -1.026045419410824, -0.17358063387533523, -0.12941743078398793, -0.10898435004964954, -0.9815145765089636, -0.712956213176565, 0.45861126534718105, -1.35549152949366, 0.261728135661618, 0.44365502505321674, -0.4299447790444871, 1.4603204442829751, -2.77607709870146, -0.11281905305207801, 0.4503284425976104, -0.6363703760997098, 0.706131730762392, -0.5553440039407791, -0.5558337541696055, 1.1021535193467047, -0.10646954349882545]}, {\"boxpoints\": false, \"line\": {\"width\": 1.3}, \"marker\": {\"color\": \"rgba(50, 171, 96, 1.0)\"}, \"name\": \"C\", \"orientation\": \"v\", \"type\": \"box\", \"y\": [-0.13237579222541013, -0.052347829704393126, 0.4692526299940617, 0.31613759897620036, 0.038077627669812375, 1.5011192659797281, -0.29842974623082363, -0.6135580924459909, 0.06592428522592648, 1.3603710179272264, -2.3409190663165464, -0.2889958922051712, 1.978389322463096, 0.5813553904840633, -1.888732642009797, -0.5018245258341147, -0.0489213899629533, 0.5371642503245256, 1.1016891114589598, 0.9666620958063254, 0.694573206426251, 0.2478258235386552, 0.8195615195552352, 0.6205339681382519, -0.8050729161790104, 1.6231169796230278, -1.7579390663376324, 0.7523004931694655, 2.5550957009229145, -0.16043494088364257, -1.5126796219247454, 1.1408972343680064, 0.029819705381316952, 0.7312165813450313, 0.07373317269178083, -0.2849716167860715, 0.023478680449609938, -1.2236177266917754, 1.3666823261506365, -0.9286665847654201, 0.10599810305490082, -0.43841601974518873, -0.353627868945709, -0.9318346325943048, 1.7066007515376558, -0.11443002079209948, 0.611898576384863, -1.6980193319777221, -1.7557760172017405, 1.1859346187066266, 0.35278967968166297, -0.6625442040702696, -0.4316534763318296, -0.8553573752349162, 0.419361435533611, 0.3050586495992559, -0.5654831979495469, 0.23505406461487433, 0.2824194464623127, -0.23280675726503214, -0.18403686480620848, 1.3806881575057637, 0.22839093562968843, -0.7779119845767521, -0.212027223863369, -1.1557481827178329, -0.08080240184313331, 0.019360151832484428, -1.059697548621927, 0.33387705641420945, -1.2637904918675884, 0.8925279544822788, -1.967577246484591, -1.5402676423006545, -0.6636279606621213, 0.20823708740936742, -0.11780854016506509, 0.1645481697701134, -0.09450343044520912, 0.43063323328726044, -1.5621942064559213, -1.278464936613575, 0.9229912359708183, 0.6992700227549166, 0.6040142131825644, -0.9377269609438603, -1.0082577364982552, -0.13914798114251678, -2.0678577173120836, 1.4000324476157366, 0.8889606602303802, -0.8135337263237251, -0.01290035882819455, -1.0931618685607598, -0.29562697230604573, 0.7013912694029035, 1.2202457243437268, -0.03618334178095662, -0.6835029620743883, -0.31693575222433584]}, {\"boxpoints\": false, \"line\": {\"width\": 1.3}, \"marker\": {\"color\": \"rgba(128, 0, 128, 1.0)\"}, \"name\": \"D\", \"orientation\": \"v\", \"type\": \"box\", \"y\": [0.73852935833334, -1.5176580227009084, 0.512594517331452, -0.9765693441549024, 0.2597380646455681, 0.2005281674647245, -0.43222083383021487, 0.28264608068641234, -2.353290595895701, -1.8926961644530766, 2.27093306437956, 1.2066485053430889, 0.7054562289187188, 1.0055452928207518, -0.4681460091213367, -1.2944114494644843, 1.3607689933983973, 0.09725199606574048, 1.83736969115192, -1.1587227224422534, 1.1090726500218338, -0.7225013349844344, -0.9137980221576838, -1.0601686685049398, 1.4026374642411892, 0.7902606455214161, -0.9667653313329032, 0.39019832840791346, 0.8797628220128945, -0.3215103633202152, 0.45125592139847504, 0.5414061119409422, 0.7658140963443745, 1.9675578763616768, 0.6289659039244848, -0.32953287186860414, -1.1046035644406151, -0.5017107675914297, -0.050135588577950634, 0.1156013888140175, 1.817026403682867, -0.5822754037947193, -1.1159809283681592, 0.5829597663270446, 1.525546490741131, -0.7870451502160626, -0.07801027556160016, -0.09916614697687562, -0.6484936684020154, 0.9061275439005156, -1.1977397401901584, 0.07216530006961856, -0.09471364186907975, -0.33168597889227824, 1.3856210920715732, 0.29228648402712515, -0.31506805736201177, 0.26406938841327465, 0.1214991679754779, -1.4589964130764155, -0.2960215475269721, -0.08473609173871421, -0.24788889268351452, -0.4012651394180614, -0.11119053847235782, 0.032618335709918636, 2.302025450805792, 1.0351623471019253, -0.7274030283028319, 0.16223023965662992, 0.3275178990919996, -0.8248485244343083, 0.320470268526574, 0.24774868235903783, -1.1422354828286703, -0.9544307180899267, 0.03015949233702071, -0.29061097551377707, 0.587152578186654, -1.2663987789455702, -0.1760172926593463, 2.1270370895124264, -1.2136800421158462, -0.08958940819583555, -2.9392124879873895, 0.2209583862426302, 0.9049504073046822, 1.7660163025166824, 0.2979790504197034, 1.4258052202184266, 0.12340898475312499, 2.5323839720634402, -1.3844333428579232, 2.2457544603669746, -1.1848977721498695, 0.6082307057013913, -0.24041896437186125, -0.6704452551959191, -0.7461529444354846, -0.6875391663565866]}],                        {\"legend\": {\"bgcolor\": \"#F5F6F9\", \"font\": {\"color\": \"#4D5663\"}}, \"paper_bgcolor\": \"#F5F6F9\", \"plot_bgcolor\": \"#F5F6F9\", \"template\": {\"data\": {\"bar\": [{\"error_x\": {\"color\": \"#2a3f5f\"}, \"error_y\": {\"color\": \"#2a3f5f\"}, \"marker\": {\"line\": {\"color\": \"#E5ECF6\", \"width\": 0.5}}, \"type\": \"bar\"}], \"barpolar\": [{\"marker\": {\"line\": {\"color\": \"#E5ECF6\", \"width\": 0.5}}, \"type\": \"barpolar\"}], \"carpet\": [{\"aaxis\": {\"endlinecolor\": \"#2a3f5f\", \"gridcolor\": \"white\", \"linecolor\": \"white\", \"minorgridcolor\": \"white\", \"startlinecolor\": \"#2a3f5f\"}, \"baxis\": {\"endlinecolor\": \"#2a3f5f\", \"gridcolor\": \"white\", \"linecolor\": \"white\", \"minorgridcolor\": \"white\", \"startlinecolor\": \"#2a3f5f\"}, \"type\": \"carpet\"}], \"choropleth\": [{\"colorbar\": {\"outlinewidth\": 0, \"ticks\": \"\"}, \"type\": \"choropleth\"}], \"contour\": [{\"colorbar\": {\"outlinewidth\": 0, \"ticks\": \"\"}, \"colorscale\": [[0.0, \"#0d0887\"], [0.1111111111111111, \"#46039f\"], [0.2222222222222222, \"#7201a8\"], [0.3333333333333333, \"#9c179e\"], [0.4444444444444444, \"#bd3786\"], [0.5555555555555556, \"#d8576b\"], [0.6666666666666666, \"#ed7953\"], [0.7777777777777778, \"#fb9f3a\"], [0.8888888888888888, \"#fdca26\"], [1.0, \"#f0f921\"]], \"type\": \"contour\"}], \"contourcarpet\": [{\"colorbar\": {\"outlinewidth\": 0, \"ticks\": \"\"}, \"type\": \"contourcarpet\"}], \"heatmap\": [{\"colorbar\": {\"outlinewidth\": 0, \"ticks\": \"\"}, \"colorscale\": [[0.0, \"#0d0887\"], [0.1111111111111111, \"#46039f\"], [0.2222222222222222, \"#7201a8\"], [0.3333333333333333, \"#9c179e\"], [0.4444444444444444, \"#bd3786\"], [0.5555555555555556, \"#d8576b\"], [0.6666666666666666, \"#ed7953\"], [0.7777777777777778, \"#fb9f3a\"], [0.8888888888888888, \"#fdca26\"], [1.0, \"#f0f921\"]], \"type\": \"heatmap\"}], \"heatmapgl\": [{\"colorbar\": {\"outlinewidth\": 0, \"ticks\": \"\"}, \"colorscale\": [[0.0, \"#0d0887\"], [0.1111111111111111, \"#46039f\"], [0.2222222222222222, \"#7201a8\"], [0.3333333333333333, \"#9c179e\"], [0.4444444444444444, \"#bd3786\"], [0.5555555555555556, \"#d8576b\"], [0.6666666666666666, \"#ed7953\"], [0.7777777777777778, \"#fb9f3a\"], [0.8888888888888888, \"#fdca26\"], [1.0, \"#f0f921\"]], \"type\": \"heatmapgl\"}], \"histogram\": [{\"marker\": {\"colorbar\": {\"outlinewidth\": 0, \"ticks\": \"\"}}, \"type\": \"histogram\"}], \"histogram2d\": [{\"colorbar\": {\"outlinewidth\": 0, \"ticks\": \"\"}, \"colorscale\": [[0.0, \"#0d0887\"], [0.1111111111111111, \"#46039f\"], [0.2222222222222222, \"#7201a8\"], [0.3333333333333333, \"#9c179e\"], [0.4444444444444444, \"#bd3786\"], [0.5555555555555556, \"#d8576b\"], [0.6666666666666666, \"#ed7953\"], [0.7777777777777778, \"#fb9f3a\"], [0.8888888888888888, \"#fdca26\"], [1.0, \"#f0f921\"]], \"type\": \"histogram2d\"}], \"histogram2dcontour\": [{\"colorbar\": {\"outlinewidth\": 0, \"ticks\": \"\"}, \"colorscale\": [[0.0, \"#0d0887\"], [0.1111111111111111, \"#46039f\"], [0.2222222222222222, \"#7201a8\"], [0.3333333333333333, \"#9c179e\"], [0.4444444444444444, \"#bd3786\"], [0.5555555555555556, \"#d8576b\"], [0.6666666666666666, \"#ed7953\"], [0.7777777777777778, \"#fb9f3a\"], [0.8888888888888888, \"#fdca26\"], [1.0, \"#f0f921\"]], \"type\": \"histogram2dcontour\"}], \"mesh3d\": [{\"colorbar\": {\"outlinewidth\": 0, \"ticks\": \"\"}, \"type\": \"mesh3d\"}], \"parcoords\": [{\"line\": {\"colorbar\": {\"outlinewidth\": 0, \"ticks\": \"\"}}, \"type\": \"parcoords\"}], \"pie\": [{\"automargin\": true, \"type\": \"pie\"}], \"scatter\": [{\"marker\": {\"colorbar\": {\"outlinewidth\": 0, \"ticks\": \"\"}}, \"type\": \"scatter\"}], \"scatter3d\": [{\"line\": {\"colorbar\": {\"outlinewidth\": 0, \"ticks\": \"\"}}, \"marker\": {\"colorbar\": {\"outlinewidth\": 0, \"ticks\": \"\"}}, \"type\": \"scatter3d\"}], \"scattercarpet\": [{\"marker\": {\"colorbar\": {\"outlinewidth\": 0, \"ticks\": \"\"}}, \"type\": \"scattercarpet\"}], \"scattergeo\": [{\"marker\": {\"colorbar\": {\"outlinewidth\": 0, \"ticks\": \"\"}}, \"type\": \"scattergeo\"}], \"scattergl\": [{\"marker\": {\"colorbar\": {\"outlinewidth\": 0, \"ticks\": \"\"}}, \"type\": \"scattergl\"}], \"scattermapbox\": [{\"marker\": {\"colorbar\": {\"outlinewidth\": 0, \"ticks\": \"\"}}, \"type\": \"scattermapbox\"}], \"scatterpolar\": [{\"marker\": {\"colorbar\": {\"outlinewidth\": 0, \"ticks\": \"\"}}, \"type\": \"scatterpolar\"}], \"scatterpolargl\": [{\"marker\": {\"colorbar\": {\"outlinewidth\": 0, \"ticks\": \"\"}}, \"type\": \"scatterpolargl\"}], \"scatterternary\": [{\"marker\": {\"colorbar\": {\"outlinewidth\": 0, \"ticks\": \"\"}}, \"type\": \"scatterternary\"}], \"surface\": [{\"colorbar\": {\"outlinewidth\": 0, \"ticks\": \"\"}, \"colorscale\": [[0.0, \"#0d0887\"], [0.1111111111111111, \"#46039f\"], [0.2222222222222222, \"#7201a8\"], [0.3333333333333333, \"#9c179e\"], [0.4444444444444444, \"#bd3786\"], [0.5555555555555556, \"#d8576b\"], [0.6666666666666666, \"#ed7953\"], [0.7777777777777778, \"#fb9f3a\"], [0.8888888888888888, \"#fdca26\"], [1.0, \"#f0f921\"]], \"type\": \"surface\"}], \"table\": [{\"cells\": {\"fill\": {\"color\": \"#EBF0F8\"}, \"line\": {\"color\": \"white\"}}, \"header\": {\"fill\": {\"color\": \"#C8D4E3\"}, \"line\": {\"color\": \"white\"}}, \"type\": \"table\"}]}, \"layout\": {\"annotationdefaults\": {\"arrowcolor\": \"#2a3f5f\", \"arrowhead\": 0, \"arrowwidth\": 1}, \"coloraxis\": {\"colorbar\": {\"outlinewidth\": 0, \"ticks\": \"\"}}, \"colorscale\": {\"diverging\": [[0, \"#8e0152\"], [0.1, \"#c51b7d\"], [0.2, \"#de77ae\"], [0.3, \"#f1b6da\"], [0.4, \"#fde0ef\"], [0.5, \"#f7f7f7\"], [0.6, \"#e6f5d0\"], [0.7, \"#b8e186\"], [0.8, \"#7fbc41\"], [0.9, \"#4d9221\"], [1, \"#276419\"]], \"sequential\": [[0.0, \"#0d0887\"], [0.1111111111111111, \"#46039f\"], [0.2222222222222222, \"#7201a8\"], [0.3333333333333333, \"#9c179e\"], [0.4444444444444444, \"#bd3786\"], [0.5555555555555556, \"#d8576b\"], [0.6666666666666666, \"#ed7953\"], [0.7777777777777778, \"#fb9f3a\"], [0.8888888888888888, \"#fdca26\"], [1.0, \"#f0f921\"]], \"sequentialminus\": [[0.0, \"#0d0887\"], [0.1111111111111111, \"#46039f\"], [0.2222222222222222, \"#7201a8\"], [0.3333333333333333, \"#9c179e\"], [0.4444444444444444, \"#bd3786\"], [0.5555555555555556, \"#d8576b\"], [0.6666666666666666, \"#ed7953\"], [0.7777777777777778, \"#fb9f3a\"], [0.8888888888888888, \"#fdca26\"], [1.0, \"#f0f921\"]]}, \"colorway\": [\"#636efa\", \"#EF553B\", \"#00cc96\", \"#ab63fa\", \"#FFA15A\", \"#19d3f3\", \"#FF6692\", \"#B6E880\", \"#FF97FF\", \"#FECB52\"], \"font\": {\"color\": \"#2a3f5f\"}, \"geo\": {\"bgcolor\": \"white\", \"lakecolor\": \"white\", \"landcolor\": \"#E5ECF6\", \"showlakes\": true, \"showland\": true, \"subunitcolor\": \"white\"}, \"hoverlabel\": {\"align\": \"left\"}, \"hovermode\": \"closest\", \"mapbox\": {\"style\": \"light\"}, \"paper_bgcolor\": \"white\", \"plot_bgcolor\": \"#E5ECF6\", \"polar\": {\"angularaxis\": {\"gridcolor\": \"white\", \"linecolor\": \"white\", \"ticks\": \"\"}, \"bgcolor\": \"#E5ECF6\", \"radialaxis\": {\"gridcolor\": \"white\", \"linecolor\": \"white\", \"ticks\": \"\"}}, \"scene\": {\"xaxis\": {\"backgroundcolor\": \"#E5ECF6\", \"gridcolor\": \"white\", \"gridwidth\": 2, \"linecolor\": \"white\", \"showbackground\": true, \"ticks\": \"\", \"zerolinecolor\": \"white\"}, \"yaxis\": {\"backgroundcolor\": \"#E5ECF6\", \"gridcolor\": \"white\", \"gridwidth\": 2, \"linecolor\": \"white\", \"showbackground\": true, \"ticks\": \"\", \"zerolinecolor\": \"white\"}, \"zaxis\": {\"backgroundcolor\": \"#E5ECF6\", \"gridcolor\": \"white\", \"gridwidth\": 2, \"linecolor\": \"white\", \"showbackground\": true, \"ticks\": \"\", \"zerolinecolor\": \"white\"}}, \"shapedefaults\": {\"line\": {\"color\": \"#2a3f5f\"}}, \"ternary\": {\"aaxis\": {\"gridcolor\": \"white\", \"linecolor\": \"white\", \"ticks\": \"\"}, \"baxis\": {\"gridcolor\": \"white\", \"linecolor\": \"white\", \"ticks\": \"\"}, \"bgcolor\": \"#E5ECF6\", \"caxis\": {\"gridcolor\": \"white\", \"linecolor\": \"white\", \"ticks\": \"\"}}, \"title\": {\"x\": 0.05}, \"xaxis\": {\"automargin\": true, \"gridcolor\": \"white\", \"linecolor\": \"white\", \"ticks\": \"\", \"title\": {\"standoff\": 15}, \"zerolinecolor\": \"white\", \"zerolinewidth\": 2}, \"yaxis\": {\"automargin\": true, \"gridcolor\": \"white\", \"linecolor\": \"white\", \"ticks\": \"\", \"title\": {\"standoff\": 15}, \"zerolinecolor\": \"white\", \"zerolinewidth\": 2}}}, \"title\": {\"font\": {\"color\": \"#4D5663\"}}, \"xaxis\": {\"gridcolor\": \"#E1E5ED\", \"showgrid\": true, \"tickfont\": {\"color\": \"#4D5663\"}, \"title\": {\"font\": {\"color\": \"#4D5663\"}, \"text\": \"\"}, \"zerolinecolor\": \"#E1E5ED\"}, \"yaxis\": {\"gridcolor\": \"#E1E5ED\", \"showgrid\": true, \"tickfont\": {\"color\": \"#4D5663\"}, \"title\": {\"font\": {\"color\": \"#4D5663\"}, \"text\": \"\"}, \"zerolinecolor\": \"#E1E5ED\"}},                        {\"showLink\": true, \"linkText\": \"Export to plot.ly\", \"plotlyServerURL\": \"https://plot.ly\", \"responsive\": true}                    ).then(function(){\n",
       "                            \n",
       "var gd = document.getElementById('57e05bd4-3c31-4a0b-9331-a560a7f7b7be');\n",
       "var x = new MutationObserver(function (mutations, observer) {{\n",
       "        var display = window.getComputedStyle(gd).display;\n",
       "        if (!display || display === 'none') {{\n",
       "            console.log([gd, 'removed!']);\n",
       "            Plotly.purge(gd);\n",
       "            observer.disconnect();\n",
       "        }}\n",
       "}});\n",
       "\n",
       "// Listen for the removal of the full notebook cells\n",
       "var notebookContainer = gd.closest('#notebook-container');\n",
       "if (notebookContainer) {{\n",
       "    x.observe(notebookContainer, {childList: true});\n",
       "}}\n",
       "\n",
       "// Listen for the clearing of the current output cell\n",
       "var outputEl = gd.closest('.output');\n",
       "if (outputEl) {{\n",
       "    x.observe(outputEl, {childList: true});\n",
       "}}\n",
       "\n",
       "                        })                };                });            </script>        </div>"
      ]
     },
     "metadata": {},
     "output_type": "display_data"
    }
   ],
   "source": [
    "df.iplot(kind='box')"
   ]
  },
  {
   "cell_type": "markdown",
   "metadata": {},
   "source": [
    "## 3d Surface"
   ]
  },
  {
   "cell_type": "code",
   "execution_count": 14,
   "metadata": {},
   "outputs": [
    {
     "data": {
      "application/vnd.plotly.v1+json": {
       "config": {
        "linkText": "Export to plot.ly",
        "plotlyServerURL": "https://plot.ly",
        "showLink": true
       },
       "data": [
        {
         "colorscale": [
          [
           0,
           "rgb(165,0,38)"
          ],
          [
           0.1,
           "rgb(215,48,39)"
          ],
          [
           0.2,
           "rgb(244,109,67)"
          ],
          [
           0.3,
           "rgb(253,174,97)"
          ],
          [
           0.4,
           "rgb(254,224,144)"
          ],
          [
           0.5,
           "rgb(255,255,191)"
          ],
          [
           0.6,
           "rgb(224,243,248)"
          ],
          [
           0.7,
           "rgb(171,217,233)"
          ],
          [
           0.8,
           "rgb(116,173,209)"
          ],
          [
           0.9,
           "rgb(69,117,180)"
          ],
          [
           1,
           "rgb(49,54,149)"
          ]
         ],
         "type": "surface",
         "x": [
          0,
          1,
          2,
          3,
          4
         ],
         "y": [
          "x",
          "y",
          "z"
         ],
         "z": [
          [
           1,
           2,
           3,
           4,
           5
          ],
          [
           10,
           20,
           30,
           20,
           10
          ],
          [
           5,
           4,
           3,
           2,
           1
          ]
         ]
        }
       ],
       "layout": {
        "legend": {
         "bgcolor": "#F5F6F9",
         "font": {
          "color": "#4D5663"
         }
        },
        "paper_bgcolor": "#F5F6F9",
        "plot_bgcolor": "#F5F6F9",
        "template": {
         "data": {
          "bar": [
           {
            "error_x": {
             "color": "#2a3f5f"
            },
            "error_y": {
             "color": "#2a3f5f"
            },
            "marker": {
             "line": {
              "color": "#E5ECF6",
              "width": 0.5
             }
            },
            "type": "bar"
           }
          ],
          "barpolar": [
           {
            "marker": {
             "line": {
              "color": "#E5ECF6",
              "width": 0.5
             }
            },
            "type": "barpolar"
           }
          ],
          "carpet": [
           {
            "aaxis": {
             "endlinecolor": "#2a3f5f",
             "gridcolor": "white",
             "linecolor": "white",
             "minorgridcolor": "white",
             "startlinecolor": "#2a3f5f"
            },
            "baxis": {
             "endlinecolor": "#2a3f5f",
             "gridcolor": "white",
             "linecolor": "white",
             "minorgridcolor": "white",
             "startlinecolor": "#2a3f5f"
            },
            "type": "carpet"
           }
          ],
          "choropleth": [
           {
            "colorbar": {
             "outlinewidth": 0,
             "ticks": ""
            },
            "type": "choropleth"
           }
          ],
          "contour": [
           {
            "colorbar": {
             "outlinewidth": 0,
             "ticks": ""
            },
            "colorscale": [
             [
              0,
              "#0d0887"
             ],
             [
              0.1111111111111111,
              "#46039f"
             ],
             [
              0.2222222222222222,
              "#7201a8"
             ],
             [
              0.3333333333333333,
              "#9c179e"
             ],
             [
              0.4444444444444444,
              "#bd3786"
             ],
             [
              0.5555555555555556,
              "#d8576b"
             ],
             [
              0.6666666666666666,
              "#ed7953"
             ],
             [
              0.7777777777777778,
              "#fb9f3a"
             ],
             [
              0.8888888888888888,
              "#fdca26"
             ],
             [
              1,
              "#f0f921"
             ]
            ],
            "type": "contour"
           }
          ],
          "contourcarpet": [
           {
            "colorbar": {
             "outlinewidth": 0,
             "ticks": ""
            },
            "type": "contourcarpet"
           }
          ],
          "heatmap": [
           {
            "colorbar": {
             "outlinewidth": 0,
             "ticks": ""
            },
            "colorscale": [
             [
              0,
              "#0d0887"
             ],
             [
              0.1111111111111111,
              "#46039f"
             ],
             [
              0.2222222222222222,
              "#7201a8"
             ],
             [
              0.3333333333333333,
              "#9c179e"
             ],
             [
              0.4444444444444444,
              "#bd3786"
             ],
             [
              0.5555555555555556,
              "#d8576b"
             ],
             [
              0.6666666666666666,
              "#ed7953"
             ],
             [
              0.7777777777777778,
              "#fb9f3a"
             ],
             [
              0.8888888888888888,
              "#fdca26"
             ],
             [
              1,
              "#f0f921"
             ]
            ],
            "type": "heatmap"
           }
          ],
          "heatmapgl": [
           {
            "colorbar": {
             "outlinewidth": 0,
             "ticks": ""
            },
            "colorscale": [
             [
              0,
              "#0d0887"
             ],
             [
              0.1111111111111111,
              "#46039f"
             ],
             [
              0.2222222222222222,
              "#7201a8"
             ],
             [
              0.3333333333333333,
              "#9c179e"
             ],
             [
              0.4444444444444444,
              "#bd3786"
             ],
             [
              0.5555555555555556,
              "#d8576b"
             ],
             [
              0.6666666666666666,
              "#ed7953"
             ],
             [
              0.7777777777777778,
              "#fb9f3a"
             ],
             [
              0.8888888888888888,
              "#fdca26"
             ],
             [
              1,
              "#f0f921"
             ]
            ],
            "type": "heatmapgl"
           }
          ],
          "histogram": [
           {
            "marker": {
             "colorbar": {
              "outlinewidth": 0,
              "ticks": ""
             }
            },
            "type": "histogram"
           }
          ],
          "histogram2d": [
           {
            "colorbar": {
             "outlinewidth": 0,
             "ticks": ""
            },
            "colorscale": [
             [
              0,
              "#0d0887"
             ],
             [
              0.1111111111111111,
              "#46039f"
             ],
             [
              0.2222222222222222,
              "#7201a8"
             ],
             [
              0.3333333333333333,
              "#9c179e"
             ],
             [
              0.4444444444444444,
              "#bd3786"
             ],
             [
              0.5555555555555556,
              "#d8576b"
             ],
             [
              0.6666666666666666,
              "#ed7953"
             ],
             [
              0.7777777777777778,
              "#fb9f3a"
             ],
             [
              0.8888888888888888,
              "#fdca26"
             ],
             [
              1,
              "#f0f921"
             ]
            ],
            "type": "histogram2d"
           }
          ],
          "histogram2dcontour": [
           {
            "colorbar": {
             "outlinewidth": 0,
             "ticks": ""
            },
            "colorscale": [
             [
              0,
              "#0d0887"
             ],
             [
              0.1111111111111111,
              "#46039f"
             ],
             [
              0.2222222222222222,
              "#7201a8"
             ],
             [
              0.3333333333333333,
              "#9c179e"
             ],
             [
              0.4444444444444444,
              "#bd3786"
             ],
             [
              0.5555555555555556,
              "#d8576b"
             ],
             [
              0.6666666666666666,
              "#ed7953"
             ],
             [
              0.7777777777777778,
              "#fb9f3a"
             ],
             [
              0.8888888888888888,
              "#fdca26"
             ],
             [
              1,
              "#f0f921"
             ]
            ],
            "type": "histogram2dcontour"
           }
          ],
          "mesh3d": [
           {
            "colorbar": {
             "outlinewidth": 0,
             "ticks": ""
            },
            "type": "mesh3d"
           }
          ],
          "parcoords": [
           {
            "line": {
             "colorbar": {
              "outlinewidth": 0,
              "ticks": ""
             }
            },
            "type": "parcoords"
           }
          ],
          "pie": [
           {
            "automargin": true,
            "type": "pie"
           }
          ],
          "scatter": [
           {
            "marker": {
             "colorbar": {
              "outlinewidth": 0,
              "ticks": ""
             }
            },
            "type": "scatter"
           }
          ],
          "scatter3d": [
           {
            "line": {
             "colorbar": {
              "outlinewidth": 0,
              "ticks": ""
             }
            },
            "marker": {
             "colorbar": {
              "outlinewidth": 0,
              "ticks": ""
             }
            },
            "type": "scatter3d"
           }
          ],
          "scattercarpet": [
           {
            "marker": {
             "colorbar": {
              "outlinewidth": 0,
              "ticks": ""
             }
            },
            "type": "scattercarpet"
           }
          ],
          "scattergeo": [
           {
            "marker": {
             "colorbar": {
              "outlinewidth": 0,
              "ticks": ""
             }
            },
            "type": "scattergeo"
           }
          ],
          "scattergl": [
           {
            "marker": {
             "colorbar": {
              "outlinewidth": 0,
              "ticks": ""
             }
            },
            "type": "scattergl"
           }
          ],
          "scattermapbox": [
           {
            "marker": {
             "colorbar": {
              "outlinewidth": 0,
              "ticks": ""
             }
            },
            "type": "scattermapbox"
           }
          ],
          "scatterpolar": [
           {
            "marker": {
             "colorbar": {
              "outlinewidth": 0,
              "ticks": ""
             }
            },
            "type": "scatterpolar"
           }
          ],
          "scatterpolargl": [
           {
            "marker": {
             "colorbar": {
              "outlinewidth": 0,
              "ticks": ""
             }
            },
            "type": "scatterpolargl"
           }
          ],
          "scatterternary": [
           {
            "marker": {
             "colorbar": {
              "outlinewidth": 0,
              "ticks": ""
             }
            },
            "type": "scatterternary"
           }
          ],
          "surface": [
           {
            "colorbar": {
             "outlinewidth": 0,
             "ticks": ""
            },
            "colorscale": [
             [
              0,
              "#0d0887"
             ],
             [
              0.1111111111111111,
              "#46039f"
             ],
             [
              0.2222222222222222,
              "#7201a8"
             ],
             [
              0.3333333333333333,
              "#9c179e"
             ],
             [
              0.4444444444444444,
              "#bd3786"
             ],
             [
              0.5555555555555556,
              "#d8576b"
             ],
             [
              0.6666666666666666,
              "#ed7953"
             ],
             [
              0.7777777777777778,
              "#fb9f3a"
             ],
             [
              0.8888888888888888,
              "#fdca26"
             ],
             [
              1,
              "#f0f921"
             ]
            ],
            "type": "surface"
           }
          ],
          "table": [
           {
            "cells": {
             "fill": {
              "color": "#EBF0F8"
             },
             "line": {
              "color": "white"
             }
            },
            "header": {
             "fill": {
              "color": "#C8D4E3"
             },
             "line": {
              "color": "white"
             }
            },
            "type": "table"
           }
          ]
         },
         "layout": {
          "annotationdefaults": {
           "arrowcolor": "#2a3f5f",
           "arrowhead": 0,
           "arrowwidth": 1
          },
          "coloraxis": {
           "colorbar": {
            "outlinewidth": 0,
            "ticks": ""
           }
          },
          "colorscale": {
           "diverging": [
            [
             0,
             "#8e0152"
            ],
            [
             0.1,
             "#c51b7d"
            ],
            [
             0.2,
             "#de77ae"
            ],
            [
             0.3,
             "#f1b6da"
            ],
            [
             0.4,
             "#fde0ef"
            ],
            [
             0.5,
             "#f7f7f7"
            ],
            [
             0.6,
             "#e6f5d0"
            ],
            [
             0.7,
             "#b8e186"
            ],
            [
             0.8,
             "#7fbc41"
            ],
            [
             0.9,
             "#4d9221"
            ],
            [
             1,
             "#276419"
            ]
           ],
           "sequential": [
            [
             0,
             "#0d0887"
            ],
            [
             0.1111111111111111,
             "#46039f"
            ],
            [
             0.2222222222222222,
             "#7201a8"
            ],
            [
             0.3333333333333333,
             "#9c179e"
            ],
            [
             0.4444444444444444,
             "#bd3786"
            ],
            [
             0.5555555555555556,
             "#d8576b"
            ],
            [
             0.6666666666666666,
             "#ed7953"
            ],
            [
             0.7777777777777778,
             "#fb9f3a"
            ],
            [
             0.8888888888888888,
             "#fdca26"
            ],
            [
             1,
             "#f0f921"
            ]
           ],
           "sequentialminus": [
            [
             0,
             "#0d0887"
            ],
            [
             0.1111111111111111,
             "#46039f"
            ],
            [
             0.2222222222222222,
             "#7201a8"
            ],
            [
             0.3333333333333333,
             "#9c179e"
            ],
            [
             0.4444444444444444,
             "#bd3786"
            ],
            [
             0.5555555555555556,
             "#d8576b"
            ],
            [
             0.6666666666666666,
             "#ed7953"
            ],
            [
             0.7777777777777778,
             "#fb9f3a"
            ],
            [
             0.8888888888888888,
             "#fdca26"
            ],
            [
             1,
             "#f0f921"
            ]
           ]
          },
          "colorway": [
           "#636efa",
           "#EF553B",
           "#00cc96",
           "#ab63fa",
           "#FFA15A",
           "#19d3f3",
           "#FF6692",
           "#B6E880",
           "#FF97FF",
           "#FECB52"
          ],
          "font": {
           "color": "#2a3f5f"
          },
          "geo": {
           "bgcolor": "white",
           "lakecolor": "white",
           "landcolor": "#E5ECF6",
           "showlakes": true,
           "showland": true,
           "subunitcolor": "white"
          },
          "hoverlabel": {
           "align": "left"
          },
          "hovermode": "closest",
          "mapbox": {
           "style": "light"
          },
          "paper_bgcolor": "white",
          "plot_bgcolor": "#E5ECF6",
          "polar": {
           "angularaxis": {
            "gridcolor": "white",
            "linecolor": "white",
            "ticks": ""
           },
           "bgcolor": "#E5ECF6",
           "radialaxis": {
            "gridcolor": "white",
            "linecolor": "white",
            "ticks": ""
           }
          },
          "scene": {
           "xaxis": {
            "backgroundcolor": "#E5ECF6",
            "gridcolor": "white",
            "gridwidth": 2,
            "linecolor": "white",
            "showbackground": true,
            "ticks": "",
            "zerolinecolor": "white"
           },
           "yaxis": {
            "backgroundcolor": "#E5ECF6",
            "gridcolor": "white",
            "gridwidth": 2,
            "linecolor": "white",
            "showbackground": true,
            "ticks": "",
            "zerolinecolor": "white"
           },
           "zaxis": {
            "backgroundcolor": "#E5ECF6",
            "gridcolor": "white",
            "gridwidth": 2,
            "linecolor": "white",
            "showbackground": true,
            "ticks": "",
            "zerolinecolor": "white"
           }
          },
          "shapedefaults": {
           "line": {
            "color": "#2a3f5f"
           }
          },
          "ternary": {
           "aaxis": {
            "gridcolor": "white",
            "linecolor": "white",
            "ticks": ""
           },
           "baxis": {
            "gridcolor": "white",
            "linecolor": "white",
            "ticks": ""
           },
           "bgcolor": "#E5ECF6",
           "caxis": {
            "gridcolor": "white",
            "linecolor": "white",
            "ticks": ""
           }
          },
          "title": {
           "x": 0.05
          },
          "xaxis": {
           "automargin": true,
           "gridcolor": "white",
           "linecolor": "white",
           "ticks": "",
           "title": {
            "standoff": 15
           },
           "zerolinecolor": "white",
           "zerolinewidth": 2
          },
          "yaxis": {
           "automargin": true,
           "gridcolor": "white",
           "linecolor": "white",
           "ticks": "",
           "title": {
            "standoff": 15
           },
           "zerolinecolor": "white",
           "zerolinewidth": 2
          }
         }
        },
        "title": {
         "font": {
          "color": "#4D5663"
         }
        },
        "xaxis": {
         "gridcolor": "#E1E5ED",
         "showgrid": true,
         "tickfont": {
          "color": "#4D5663"
         },
         "title": {
          "font": {
           "color": "#4D5663"
          },
          "text": ""
         },
         "zerolinecolor": "#E1E5ED"
        },
        "yaxis": {
         "gridcolor": "#E1E5ED",
         "showgrid": true,
         "tickfont": {
          "color": "#4D5663"
         },
         "title": {
          "font": {
           "color": "#4D5663"
          },
          "text": ""
         },
         "zerolinecolor": "#E1E5ED"
        }
       }
      },
      "text/html": [
       "<div>                            <div id=\"4ddad2af-103d-44ad-9a42-752f2c47a0e9\" class=\"plotly-graph-div\" style=\"height:525px; width:100%;\"></div>            <script type=\"text/javascript\">                require([\"plotly\"], function(Plotly) {                    window.PLOTLYENV=window.PLOTLYENV || {};\n",
       "                    window.PLOTLYENV.BASE_URL='https://plot.ly';                                    if (document.getElementById(\"4ddad2af-103d-44ad-9a42-752f2c47a0e9\")) {                    Plotly.newPlot(                        \"4ddad2af-103d-44ad-9a42-752f2c47a0e9\",                        [{\"colorscale\": [[0.0, \"rgb(165,0,38)\"], [0.1, \"rgb(215,48,39)\"], [0.2, \"rgb(244,109,67)\"], [0.3, \"rgb(253,174,97)\"], [0.4, \"rgb(254,224,144)\"], [0.5, \"rgb(255,255,191)\"], [0.6, \"rgb(224,243,248)\"], [0.7, \"rgb(171,217,233)\"], [0.8, \"rgb(116,173,209)\"], [0.9, \"rgb(69,117,180)\"], [1.0, \"rgb(49,54,149)\"]], \"type\": \"surface\", \"x\": [0, 1, 2, 3, 4], \"y\": [\"x\", \"y\", \"z\"], \"z\": [[1, 2, 3, 4, 5], [10, 20, 30, 20, 10], [5, 4, 3, 2, 1]]}],                        {\"legend\": {\"bgcolor\": \"#F5F6F9\", \"font\": {\"color\": \"#4D5663\"}}, \"paper_bgcolor\": \"#F5F6F9\", \"plot_bgcolor\": \"#F5F6F9\", \"template\": {\"data\": {\"bar\": [{\"error_x\": {\"color\": \"#2a3f5f\"}, \"error_y\": {\"color\": \"#2a3f5f\"}, \"marker\": {\"line\": {\"color\": \"#E5ECF6\", \"width\": 0.5}}, \"type\": \"bar\"}], \"barpolar\": [{\"marker\": {\"line\": {\"color\": \"#E5ECF6\", \"width\": 0.5}}, \"type\": \"barpolar\"}], \"carpet\": [{\"aaxis\": {\"endlinecolor\": \"#2a3f5f\", \"gridcolor\": \"white\", \"linecolor\": \"white\", \"minorgridcolor\": \"white\", \"startlinecolor\": \"#2a3f5f\"}, \"baxis\": {\"endlinecolor\": \"#2a3f5f\", \"gridcolor\": \"white\", \"linecolor\": \"white\", \"minorgridcolor\": \"white\", \"startlinecolor\": \"#2a3f5f\"}, \"type\": \"carpet\"}], \"choropleth\": [{\"colorbar\": {\"outlinewidth\": 0, \"ticks\": \"\"}, \"type\": \"choropleth\"}], \"contour\": [{\"colorbar\": {\"outlinewidth\": 0, \"ticks\": \"\"}, \"colorscale\": [[0.0, \"#0d0887\"], [0.1111111111111111, \"#46039f\"], [0.2222222222222222, \"#7201a8\"], [0.3333333333333333, \"#9c179e\"], [0.4444444444444444, \"#bd3786\"], [0.5555555555555556, \"#d8576b\"], [0.6666666666666666, \"#ed7953\"], [0.7777777777777778, \"#fb9f3a\"], [0.8888888888888888, \"#fdca26\"], [1.0, \"#f0f921\"]], \"type\": \"contour\"}], \"contourcarpet\": [{\"colorbar\": {\"outlinewidth\": 0, \"ticks\": \"\"}, \"type\": \"contourcarpet\"}], \"heatmap\": [{\"colorbar\": {\"outlinewidth\": 0, \"ticks\": \"\"}, \"colorscale\": [[0.0, \"#0d0887\"], [0.1111111111111111, \"#46039f\"], [0.2222222222222222, \"#7201a8\"], [0.3333333333333333, \"#9c179e\"], [0.4444444444444444, \"#bd3786\"], [0.5555555555555556, \"#d8576b\"], [0.6666666666666666, \"#ed7953\"], [0.7777777777777778, \"#fb9f3a\"], [0.8888888888888888, \"#fdca26\"], [1.0, \"#f0f921\"]], \"type\": \"heatmap\"}], \"heatmapgl\": [{\"colorbar\": {\"outlinewidth\": 0, \"ticks\": \"\"}, \"colorscale\": [[0.0, \"#0d0887\"], [0.1111111111111111, \"#46039f\"], [0.2222222222222222, \"#7201a8\"], [0.3333333333333333, \"#9c179e\"], [0.4444444444444444, \"#bd3786\"], [0.5555555555555556, \"#d8576b\"], [0.6666666666666666, \"#ed7953\"], [0.7777777777777778, \"#fb9f3a\"], [0.8888888888888888, \"#fdca26\"], [1.0, \"#f0f921\"]], \"type\": \"heatmapgl\"}], \"histogram\": [{\"marker\": {\"colorbar\": {\"outlinewidth\": 0, \"ticks\": \"\"}}, \"type\": \"histogram\"}], \"histogram2d\": [{\"colorbar\": {\"outlinewidth\": 0, \"ticks\": \"\"}, \"colorscale\": [[0.0, \"#0d0887\"], [0.1111111111111111, \"#46039f\"], [0.2222222222222222, \"#7201a8\"], [0.3333333333333333, \"#9c179e\"], [0.4444444444444444, \"#bd3786\"], [0.5555555555555556, \"#d8576b\"], [0.6666666666666666, \"#ed7953\"], [0.7777777777777778, \"#fb9f3a\"], [0.8888888888888888, \"#fdca26\"], [1.0, \"#f0f921\"]], \"type\": \"histogram2d\"}], \"histogram2dcontour\": [{\"colorbar\": {\"outlinewidth\": 0, \"ticks\": \"\"}, \"colorscale\": [[0.0, \"#0d0887\"], [0.1111111111111111, \"#46039f\"], [0.2222222222222222, \"#7201a8\"], [0.3333333333333333, \"#9c179e\"], [0.4444444444444444, \"#bd3786\"], [0.5555555555555556, \"#d8576b\"], [0.6666666666666666, \"#ed7953\"], [0.7777777777777778, \"#fb9f3a\"], [0.8888888888888888, \"#fdca26\"], [1.0, \"#f0f921\"]], \"type\": \"histogram2dcontour\"}], \"mesh3d\": [{\"colorbar\": {\"outlinewidth\": 0, \"ticks\": \"\"}, \"type\": \"mesh3d\"}], \"parcoords\": [{\"line\": {\"colorbar\": {\"outlinewidth\": 0, \"ticks\": \"\"}}, \"type\": \"parcoords\"}], \"pie\": [{\"automargin\": true, \"type\": \"pie\"}], \"scatter\": [{\"marker\": {\"colorbar\": {\"outlinewidth\": 0, \"ticks\": \"\"}}, \"type\": \"scatter\"}], \"scatter3d\": [{\"line\": {\"colorbar\": {\"outlinewidth\": 0, \"ticks\": \"\"}}, \"marker\": {\"colorbar\": {\"outlinewidth\": 0, \"ticks\": \"\"}}, \"type\": \"scatter3d\"}], \"scattercarpet\": [{\"marker\": {\"colorbar\": {\"outlinewidth\": 0, \"ticks\": \"\"}}, \"type\": \"scattercarpet\"}], \"scattergeo\": [{\"marker\": {\"colorbar\": {\"outlinewidth\": 0, \"ticks\": \"\"}}, \"type\": \"scattergeo\"}], \"scattergl\": [{\"marker\": {\"colorbar\": {\"outlinewidth\": 0, \"ticks\": \"\"}}, \"type\": \"scattergl\"}], \"scattermapbox\": [{\"marker\": {\"colorbar\": {\"outlinewidth\": 0, \"ticks\": \"\"}}, \"type\": \"scattermapbox\"}], \"scatterpolar\": [{\"marker\": {\"colorbar\": {\"outlinewidth\": 0, \"ticks\": \"\"}}, \"type\": \"scatterpolar\"}], \"scatterpolargl\": [{\"marker\": {\"colorbar\": {\"outlinewidth\": 0, \"ticks\": \"\"}}, \"type\": \"scatterpolargl\"}], \"scatterternary\": [{\"marker\": {\"colorbar\": {\"outlinewidth\": 0, \"ticks\": \"\"}}, \"type\": \"scatterternary\"}], \"surface\": [{\"colorbar\": {\"outlinewidth\": 0, \"ticks\": \"\"}, \"colorscale\": [[0.0, \"#0d0887\"], [0.1111111111111111, \"#46039f\"], [0.2222222222222222, \"#7201a8\"], [0.3333333333333333, \"#9c179e\"], [0.4444444444444444, \"#bd3786\"], [0.5555555555555556, \"#d8576b\"], [0.6666666666666666, \"#ed7953\"], [0.7777777777777778, \"#fb9f3a\"], [0.8888888888888888, \"#fdca26\"], [1.0, \"#f0f921\"]], \"type\": \"surface\"}], \"table\": [{\"cells\": {\"fill\": {\"color\": \"#EBF0F8\"}, \"line\": {\"color\": \"white\"}}, \"header\": {\"fill\": {\"color\": \"#C8D4E3\"}, \"line\": {\"color\": \"white\"}}, \"type\": \"table\"}]}, \"layout\": {\"annotationdefaults\": {\"arrowcolor\": \"#2a3f5f\", \"arrowhead\": 0, \"arrowwidth\": 1}, \"coloraxis\": {\"colorbar\": {\"outlinewidth\": 0, \"ticks\": \"\"}}, \"colorscale\": {\"diverging\": [[0, \"#8e0152\"], [0.1, \"#c51b7d\"], [0.2, \"#de77ae\"], [0.3, \"#f1b6da\"], [0.4, \"#fde0ef\"], [0.5, \"#f7f7f7\"], [0.6, \"#e6f5d0\"], [0.7, \"#b8e186\"], [0.8, \"#7fbc41\"], [0.9, \"#4d9221\"], [1, \"#276419\"]], \"sequential\": [[0.0, \"#0d0887\"], [0.1111111111111111, \"#46039f\"], [0.2222222222222222, \"#7201a8\"], [0.3333333333333333, \"#9c179e\"], [0.4444444444444444, \"#bd3786\"], [0.5555555555555556, \"#d8576b\"], [0.6666666666666666, \"#ed7953\"], [0.7777777777777778, \"#fb9f3a\"], [0.8888888888888888, \"#fdca26\"], [1.0, \"#f0f921\"]], \"sequentialminus\": [[0.0, \"#0d0887\"], [0.1111111111111111, \"#46039f\"], [0.2222222222222222, \"#7201a8\"], [0.3333333333333333, \"#9c179e\"], [0.4444444444444444, \"#bd3786\"], [0.5555555555555556, \"#d8576b\"], [0.6666666666666666, \"#ed7953\"], [0.7777777777777778, \"#fb9f3a\"], [0.8888888888888888, \"#fdca26\"], [1.0, \"#f0f921\"]]}, \"colorway\": [\"#636efa\", \"#EF553B\", \"#00cc96\", \"#ab63fa\", \"#FFA15A\", \"#19d3f3\", \"#FF6692\", \"#B6E880\", \"#FF97FF\", \"#FECB52\"], \"font\": {\"color\": \"#2a3f5f\"}, \"geo\": {\"bgcolor\": \"white\", \"lakecolor\": \"white\", \"landcolor\": \"#E5ECF6\", \"showlakes\": true, \"showland\": true, \"subunitcolor\": \"white\"}, \"hoverlabel\": {\"align\": \"left\"}, \"hovermode\": \"closest\", \"mapbox\": {\"style\": \"light\"}, \"paper_bgcolor\": \"white\", \"plot_bgcolor\": \"#E5ECF6\", \"polar\": {\"angularaxis\": {\"gridcolor\": \"white\", \"linecolor\": \"white\", \"ticks\": \"\"}, \"bgcolor\": \"#E5ECF6\", \"radialaxis\": {\"gridcolor\": \"white\", \"linecolor\": \"white\", \"ticks\": \"\"}}, \"scene\": {\"xaxis\": {\"backgroundcolor\": \"#E5ECF6\", \"gridcolor\": \"white\", \"gridwidth\": 2, \"linecolor\": \"white\", \"showbackground\": true, \"ticks\": \"\", \"zerolinecolor\": \"white\"}, \"yaxis\": {\"backgroundcolor\": \"#E5ECF6\", \"gridcolor\": \"white\", \"gridwidth\": 2, \"linecolor\": \"white\", \"showbackground\": true, \"ticks\": \"\", \"zerolinecolor\": \"white\"}, \"zaxis\": {\"backgroundcolor\": \"#E5ECF6\", \"gridcolor\": \"white\", \"gridwidth\": 2, \"linecolor\": \"white\", \"showbackground\": true, \"ticks\": \"\", \"zerolinecolor\": \"white\"}}, \"shapedefaults\": {\"line\": {\"color\": \"#2a3f5f\"}}, \"ternary\": {\"aaxis\": {\"gridcolor\": \"white\", \"linecolor\": \"white\", \"ticks\": \"\"}, \"baxis\": {\"gridcolor\": \"white\", \"linecolor\": \"white\", \"ticks\": \"\"}, \"bgcolor\": \"#E5ECF6\", \"caxis\": {\"gridcolor\": \"white\", \"linecolor\": \"white\", \"ticks\": \"\"}}, \"title\": {\"x\": 0.05}, \"xaxis\": {\"automargin\": true, \"gridcolor\": \"white\", \"linecolor\": \"white\", \"ticks\": \"\", \"title\": {\"standoff\": 15}, \"zerolinecolor\": \"white\", \"zerolinewidth\": 2}, \"yaxis\": {\"automargin\": true, \"gridcolor\": \"white\", \"linecolor\": \"white\", \"ticks\": \"\", \"title\": {\"standoff\": 15}, \"zerolinecolor\": \"white\", \"zerolinewidth\": 2}}}, \"title\": {\"font\": {\"color\": \"#4D5663\"}}, \"xaxis\": {\"gridcolor\": \"#E1E5ED\", \"showgrid\": true, \"tickfont\": {\"color\": \"#4D5663\"}, \"title\": {\"font\": {\"color\": \"#4D5663\"}, \"text\": \"\"}, \"zerolinecolor\": \"#E1E5ED\"}, \"yaxis\": {\"gridcolor\": \"#E1E5ED\", \"showgrid\": true, \"tickfont\": {\"color\": \"#4D5663\"}, \"title\": {\"font\": {\"color\": \"#4D5663\"}, \"text\": \"\"}, \"zerolinecolor\": \"#E1E5ED\"}},                        {\"showLink\": true, \"linkText\": \"Export to plot.ly\", \"plotlyServerURL\": \"https://plot.ly\", \"responsive\": true}                    ).then(function(){\n",
       "                            \n",
       "var gd = document.getElementById('4ddad2af-103d-44ad-9a42-752f2c47a0e9');\n",
       "var x = new MutationObserver(function (mutations, observer) {{\n",
       "        var display = window.getComputedStyle(gd).display;\n",
       "        if (!display || display === 'none') {{\n",
       "            console.log([gd, 'removed!']);\n",
       "            Plotly.purge(gd);\n",
       "            observer.disconnect();\n",
       "        }}\n",
       "}});\n",
       "\n",
       "// Listen for the removal of the full notebook cells\n",
       "var notebookContainer = gd.closest('#notebook-container');\n",
       "if (notebookContainer) {{\n",
       "    x.observe(notebookContainer, {childList: true});\n",
       "}}\n",
       "\n",
       "// Listen for the clearing of the current output cell\n",
       "var outputEl = gd.closest('.output');\n",
       "if (outputEl) {{\n",
       "    x.observe(outputEl, {childList: true});\n",
       "}}\n",
       "\n",
       "                        })                };                });            </script>        </div>"
      ]
     },
     "metadata": {},
     "output_type": "display_data"
    }
   ],
   "source": [
    "df3 = pd.DataFrame({'x':[1,2,3,4,5],'y':[10,20,30,20,10],'z':[5,4,3,2,1]})\n",
    "df3.iplot(kind='surface',colorscale='rdylbu')"
   ]
  },
  {
   "cell_type": "markdown",
   "metadata": {},
   "source": [
    "## Spread"
   ]
  },
  {
   "cell_type": "code",
   "execution_count": 15,
   "metadata": {},
   "outputs": [
    {
     "name": "stderr",
     "output_type": "stream",
     "text": [
      "/home/umesh/.local/lib/python3.8/site-packages/cufflinks/plotlytools.py:849: FutureWarning:\n",
      "\n",
      "The pandas.np module is deprecated and will be removed from pandas in a future version. Import numpy directly instead\n",
      "\n",
      "/home/umesh/.local/lib/python3.8/site-packages/cufflinks/plotlytools.py:850: FutureWarning:\n",
      "\n",
      "The pandas.np module is deprecated and will be removed from pandas in a future version. Import numpy directly instead\n",
      "\n"
     ]
    },
    {
     "data": {
      "application/vnd.plotly.v1+json": {
       "config": {
        "linkText": "Export to plot.ly",
        "plotlyServerURL": "https://plot.ly",
        "showLink": true
       },
       "data": [
        {
         "line": {
          "color": "rgba(255, 153, 51, 1.0)",
          "dash": "solid",
          "shape": "linear",
          "width": 1.3
         },
         "mode": "lines",
         "name": "A",
         "text": "",
         "type": "scatter",
         "x": [
          0,
          1,
          2,
          3,
          4,
          5,
          6,
          7,
          8,
          9,
          10,
          11,
          12,
          13,
          14,
          15,
          16,
          17,
          18,
          19,
          20,
          21,
          22,
          23,
          24,
          25,
          26,
          27,
          28,
          29,
          30,
          31,
          32,
          33,
          34,
          35,
          36,
          37,
          38,
          39,
          40,
          41,
          42,
          43,
          44,
          45,
          46,
          47,
          48,
          49,
          50,
          51,
          52,
          53,
          54,
          55,
          56,
          57,
          58,
          59,
          60,
          61,
          62,
          63,
          64,
          65,
          66,
          67,
          68,
          69,
          70,
          71,
          72,
          73,
          74,
          75,
          76,
          77,
          78,
          79,
          80,
          81,
          82,
          83,
          84,
          85,
          86,
          87,
          88,
          89,
          90,
          91,
          92,
          93,
          94,
          95,
          96,
          97,
          98,
          99
         ],
         "y": [
          1.4231283587146955,
          0.7516603116190158,
          -0.04069831395129999,
          0.8494525246784042,
          0.7977645931831729,
          -2.424491651018319,
          -1.2582093110568149,
          -0.15529258970936946,
          -0.45312148704220795,
          -2.2775610915462363,
          0.1332429602222429,
          0.3998857890171944,
          -0.14904950186615676,
          1.1931908500642565,
          0.783776424506487,
          -0.13860290912962892,
          0.7664731049270755,
          -0.14547497275331425,
          -0.40802584839016576,
          1.0711888545925605,
          -0.642313308372773,
          0.049879911918071174,
          1.8009405803668426,
          -1.469579438518773,
          2.211475339175111,
          -0.38394754230209527,
          -0.8483588357454597,
          -0.4233808984906991,
          0.8970171336936127,
          -0.46309218292344384,
          -1.540708272987029,
          -0.22011844093930893,
          1.2626125439114022,
          -0.8599224592696124,
          0.7620320340247184,
          0.6063787747519568,
          -0.5021325565790095,
          -0.4042442991222263,
          0.6378712352966499,
          -0.32475739002353093,
          -1.355471592482026,
          0.8188916405081248,
          -0.7136407597534036,
          1.4530169466066432,
          0.12437035702819564,
          0.34380998064207186,
          0.3670261299236814,
          -0.7087328956200836,
          -1.258067366257801,
          0.12928804837990635,
          -0.31603283402669446,
          0.6408530470104912,
          1.194512576723845,
          -1.5542148592170382,
          -0.3180623240226567,
          -0.26232905958765823,
          -2.5250678931764288,
          0.03021518574286839,
          0.8782566747525722,
          0.06805291179027405,
          -0.7800434613277817,
          0.30587770196971614,
          -1.527764831789569,
          -1.2455255738078197,
          0.8708789079885804,
          -2.277781652216472,
          -0.961085083474282,
          0.7480604179254391,
          -1.132740550097753,
          -0.21494270061498336,
          0.26326840794947803,
          1.9435527095905965,
          0.6633014767479828,
          -0.33967376673719074,
          -1.0005256175729227,
          1.033839740834173,
          -0.1344938358004172,
          -1.8377909653802171,
          0.4862090693094273,
          0.019117224110497474,
          1.4381775613316357,
          1.0022419802726958,
          0.6177486704087491,
          0.2238116198272653,
          -0.3792759330228207,
          1.5642561450343315,
          -1.4797684734922998,
          1.0732977102841788,
          -1.0993447775978227,
          0.6133786466992118,
          -1.7069242684336634,
          1.2751028892789205,
          0.401432572330607,
          0.8652760480066986,
          -0.019418977081185895,
          0.9807867122167452,
          1.6018808310985337,
          0.13459144877490167,
          0.9626180719042506,
          0.9937757289990029
         ]
        },
        {
         "line": {
          "color": "rgba(55, 128, 191, 1.0)",
          "dash": "solid",
          "shape": "linear",
          "width": 1.3
         },
         "mode": "lines",
         "name": "B",
         "text": "",
         "type": "scatter",
         "x": [
          0,
          1,
          2,
          3,
          4,
          5,
          6,
          7,
          8,
          9,
          10,
          11,
          12,
          13,
          14,
          15,
          16,
          17,
          18,
          19,
          20,
          21,
          22,
          23,
          24,
          25,
          26,
          27,
          28,
          29,
          30,
          31,
          32,
          33,
          34,
          35,
          36,
          37,
          38,
          39,
          40,
          41,
          42,
          43,
          44,
          45,
          46,
          47,
          48,
          49,
          50,
          51,
          52,
          53,
          54,
          55,
          56,
          57,
          58,
          59,
          60,
          61,
          62,
          63,
          64,
          65,
          66,
          67,
          68,
          69,
          70,
          71,
          72,
          73,
          74,
          75,
          76,
          77,
          78,
          79,
          80,
          81,
          82,
          83,
          84,
          85,
          86,
          87,
          88,
          89,
          90,
          91,
          92,
          93,
          94,
          95,
          96,
          97,
          98,
          99
         ],
         "y": [
          -1.3159148036125334,
          -0.6711729334327814,
          0.938030616343648,
          -0.883172519923497,
          -1.1559543838137716,
          -0.21362938182096808,
          1.1865996630899105,
          -0.13503942410931474,
          0.702379722654413,
          2.1627358962212906,
          0.2707271260340421,
          -0.08373718813127257,
          -1.4246125339918407,
          0.19285853601533218,
          0.6007247164853516,
          -0.8692022129422258,
          0.101009847359833,
          1.446347405489576,
          1.4241402916808978,
          0.09233934005602447,
          2.1859187944191194,
          0.7649775110539025,
          0.6796053495705884,
          -0.554852071312288,
          1.1130260106970804,
          -1.5297190221801549,
          0.22693985504789704,
          -0.9814227313037053,
          1.3706959453569925,
          2.0683730411899925,
          0.4586619732815214,
          1.2190858388012593,
          -1.1004677584045799,
          -0.28434856410119347,
          0.2926406015415052,
          -0.4334229059903361,
          -1.4806843754448946,
          -0.9910248686250521,
          0.13800914672309186,
          -1.034345016229925,
          -1.3875499683950403,
          -0.2839718128545817,
          0.40723721037804944,
          1.2103459308374067,
          -0.6544666001268368,
          -1.323283032466016,
          -0.9338408253711902,
          -1.3657749261666121,
          -0.22670230951583553,
          1.673174411862094,
          -0.7392250392494247,
          -0.5977251424426647,
          -0.8798250439172343,
          0.848483523562618,
          -0.8373298454739747,
          -0.4928515836198017,
          0.7567630417126984,
          1.7191358646363109,
          1.9142309523473156,
          0.7116906418838965,
          -0.6317604607877776,
          -0.3603533087907271,
          0.06537406356420647,
          -0.2362899962772877,
          0.30910863432263014,
          -0.3106251550628561,
          -0.425735266645392,
          -0.16654657872439244,
          1.0279927804245697,
          0.6154531545225654,
          0.38133211748851936,
          0.7107218250480805,
          0.6169978660921006,
          0.35961602170113527,
          0.3529418612584008,
          -2.4210794154829363,
          0.21751336076725786,
          0.13751215145474693,
          1.8218497869401669,
          -1.026045419410824,
          -0.17358063387533523,
          -0.12941743078398793,
          -0.10898435004964954,
          -0.9815145765089636,
          -0.712956213176565,
          0.45861126534718105,
          -1.35549152949366,
          0.261728135661618,
          0.44365502505321674,
          -0.4299447790444871,
          1.4603204442829751,
          -2.77607709870146,
          -0.11281905305207801,
          0.4503284425976104,
          -0.6363703760997098,
          0.706131730762392,
          -0.5553440039407791,
          -0.5558337541696055,
          1.1021535193467047,
          -0.10646954349882545
         ]
        },
        {
         "connectgaps": false,
         "fill": "tozeroy",
         "line": {
          "color": "green",
          "dash": "solid",
          "shape": "linear",
          "width": 0.5
         },
         "mode": "lines",
         "name": "Spread",
         "showlegend": false,
         "type": "scatter",
         "x": [
          0,
          1,
          2,
          3,
          4,
          5,
          6,
          7,
          8,
          9,
          10,
          11,
          12,
          13,
          14,
          15,
          16,
          17,
          18,
          19,
          20,
          21,
          22,
          23,
          24,
          25,
          26,
          27,
          28,
          29,
          30,
          31,
          32,
          33,
          34,
          35,
          36,
          37,
          38,
          39,
          40,
          41,
          42,
          43,
          44,
          45,
          46,
          47,
          48,
          49,
          50,
          51,
          52,
          53,
          54,
          55,
          56,
          57,
          58,
          59,
          60,
          61,
          62,
          63,
          64,
          65,
          66,
          67,
          68,
          69,
          70,
          71,
          72,
          73,
          74,
          75,
          76,
          77,
          78,
          79,
          80,
          81,
          82,
          83,
          84,
          85,
          86,
          87,
          88,
          89,
          90,
          91,
          92,
          93,
          94,
          95,
          96,
          97,
          98,
          99
         ],
         "xaxis": "x2",
         "y": [
          2.7390431623272287,
          1.4228332450517973,
          "",
          1.7326250446019011,
          1.9537189769969445,
          "",
          "",
          "",
          "",
          "",
          "",
          0.48362297714846697,
          1.275563032125684,
          1.0003323140489244,
          0.18305170802113535,
          0.7305993038125969,
          0.6654632575672426,
          "",
          "",
          0.978849514536536,
          "",
          "",
          1.1213352307962543,
          "",
          1.0984493284780308,
          1.1457714798780596,
          "",
          0.5580418328130061,
          "",
          "",
          "",
          "",
          2.363080302315982,
          "",
          0.46939143248321324,
          1.039801680742293,
          0.9785518188658852,
          0.5867805695028259,
          0.49986208857355807,
          0.709587626206394,
          0.03207837591301432,
          1.1028634533627064,
          "",
          0.24267101576923644,
          0.7788369571550324,
          1.6670930131080879,
          1.3008669552948715,
          0.6570420305465285,
          "",
          "",
          0.42319220522273027,
          1.2385781894531558,
          2.0743376206410793,
          "",
          0.519267521451318,
          0.23052252403214346,
          "",
          "",
          "",
          "",
          "",
          0.6662310107604432,
          "",
          "",
          0.5617702736659502,
          "",
          "",
          0.9146069966498316,
          "",
          "",
          "",
          1.232830884542516,
          0.04630361065588218,
          "",
          "",
          3.4549191563171093,
          "",
          "",
          "",
          1.0451626435213215,
          1.6117581952069708,
          1.1316594110566838,
          0.7267330204583987,
          1.205326196336229,
          0.3336802801537443,
          1.1056448796871505,
          "",
          0.8115695746225607,
          "",
          1.043323425743699,
          "",
          4.0511799879803805,
          0.514251625382685,
          0.41494760540908815,
          0.6169513990185239,
          0.2746549814543532,
          2.1572248350393126,
          0.6904252029445072,
          "",
          1.1002452724978284
         ],
         "yaxis": "y2"
        },
        {
         "connectgaps": false,
         "fill": "tozeroy",
         "line": {
          "color": "red",
          "dash": "solid",
          "shape": "linear",
          "width": 0.5
         },
         "mode": "lines",
         "name": "Spread",
         "showlegend": false,
         "type": "scatter",
         "x": [
          0,
          1,
          2,
          3,
          4,
          5,
          6,
          7,
          8,
          9,
          10,
          11,
          12,
          13,
          14,
          15,
          16,
          17,
          18,
          19,
          20,
          21,
          22,
          23,
          24,
          25,
          26,
          27,
          28,
          29,
          30,
          31,
          32,
          33,
          34,
          35,
          36,
          37,
          38,
          39,
          40,
          41,
          42,
          43,
          44,
          45,
          46,
          47,
          48,
          49,
          50,
          51,
          52,
          53,
          54,
          55,
          56,
          57,
          58,
          59,
          60,
          61,
          62,
          63,
          64,
          65,
          66,
          67,
          68,
          69,
          70,
          71,
          72,
          73,
          74,
          75,
          76,
          77,
          78,
          79,
          80,
          81,
          82,
          83,
          84,
          85,
          86,
          87,
          88,
          89,
          90,
          91,
          92,
          93,
          94,
          95,
          96,
          97,
          98,
          99
         ],
         "xaxis": "x2",
         "y": [
          "",
          "",
          -0.978728930294948,
          "",
          "",
          -2.2108622691973507,
          -2.444808974146725,
          -0.020253165600054718,
          -1.1555012096966208,
          -4.4402969877675265,
          -0.13748416581179917,
          "",
          "",
          "",
          "",
          "",
          "",
          -1.5918223782428902,
          -1.8321661400710636,
          "",
          -2.828232102791892,
          -0.7150975991358314,
          "",
          -0.9147273672064851,
          "",
          "",
          -1.0752986907933568,
          "",
          -0.4736788116633798,
          -2.5314652241134366,
          -1.9993702462685503,
          -1.4392042797405682,
          "",
          -0.575573895168419,
          "",
          "",
          "",
          "",
          "",
          "",
          "",
          "",
          -1.120877970131453,
          "",
          "",
          "",
          "",
          "",
          -1.0313650567419654,
          -1.5438863634821876,
          "",
          "",
          "",
          -2.402698382779656,
          "",
          "",
          -3.2818309348891272,
          -1.6889206788934426,
          -1.0359742775947434,
          -0.6436377300936225,
          -0.1482830005400041,
          "",
          -1.5931388953537753,
          -1.009235577530532,
          "",
          -1.967156497153616,
          -0.5353498168288899,
          "",
          -2.160733330522323,
          -0.8303958551375488,
          -0.11806370953904133,
          "",
          "",
          -0.699289788438326,
          -1.3534674788313235,
          "",
          -0.3520071965676751,
          -1.9753031168349642,
          -1.3356407176307394,
          "",
          "",
          "",
          "",
          "",
          "",
          "",
          -0.12427694399863976,
          "",
          -1.5429998026510394,
          "",
          -3.1672447127166388,
          "",
          "",
          "",
          "",
          "",
          "",
          "",
          -0.13953544744245405,
          ""
         ],
         "yaxis": "y2"
        }
       ],
       "layout": {
        "hovermode": "x",
        "legend": {
         "bgcolor": "#F5F6F9",
         "font": {
          "color": "#4D5663"
         }
        },
        "paper_bgcolor": "#F5F6F9",
        "plot_bgcolor": "#F5F6F9",
        "template": {
         "data": {
          "bar": [
           {
            "error_x": {
             "color": "#2a3f5f"
            },
            "error_y": {
             "color": "#2a3f5f"
            },
            "marker": {
             "line": {
              "color": "#E5ECF6",
              "width": 0.5
             }
            },
            "type": "bar"
           }
          ],
          "barpolar": [
           {
            "marker": {
             "line": {
              "color": "#E5ECF6",
              "width": 0.5
             }
            },
            "type": "barpolar"
           }
          ],
          "carpet": [
           {
            "aaxis": {
             "endlinecolor": "#2a3f5f",
             "gridcolor": "white",
             "linecolor": "white",
             "minorgridcolor": "white",
             "startlinecolor": "#2a3f5f"
            },
            "baxis": {
             "endlinecolor": "#2a3f5f",
             "gridcolor": "white",
             "linecolor": "white",
             "minorgridcolor": "white",
             "startlinecolor": "#2a3f5f"
            },
            "type": "carpet"
           }
          ],
          "choropleth": [
           {
            "colorbar": {
             "outlinewidth": 0,
             "ticks": ""
            },
            "type": "choropleth"
           }
          ],
          "contour": [
           {
            "colorbar": {
             "outlinewidth": 0,
             "ticks": ""
            },
            "colorscale": [
             [
              0,
              "#0d0887"
             ],
             [
              0.1111111111111111,
              "#46039f"
             ],
             [
              0.2222222222222222,
              "#7201a8"
             ],
             [
              0.3333333333333333,
              "#9c179e"
             ],
             [
              0.4444444444444444,
              "#bd3786"
             ],
             [
              0.5555555555555556,
              "#d8576b"
             ],
             [
              0.6666666666666666,
              "#ed7953"
             ],
             [
              0.7777777777777778,
              "#fb9f3a"
             ],
             [
              0.8888888888888888,
              "#fdca26"
             ],
             [
              1,
              "#f0f921"
             ]
            ],
            "type": "contour"
           }
          ],
          "contourcarpet": [
           {
            "colorbar": {
             "outlinewidth": 0,
             "ticks": ""
            },
            "type": "contourcarpet"
           }
          ],
          "heatmap": [
           {
            "colorbar": {
             "outlinewidth": 0,
             "ticks": ""
            },
            "colorscale": [
             [
              0,
              "#0d0887"
             ],
             [
              0.1111111111111111,
              "#46039f"
             ],
             [
              0.2222222222222222,
              "#7201a8"
             ],
             [
              0.3333333333333333,
              "#9c179e"
             ],
             [
              0.4444444444444444,
              "#bd3786"
             ],
             [
              0.5555555555555556,
              "#d8576b"
             ],
             [
              0.6666666666666666,
              "#ed7953"
             ],
             [
              0.7777777777777778,
              "#fb9f3a"
             ],
             [
              0.8888888888888888,
              "#fdca26"
             ],
             [
              1,
              "#f0f921"
             ]
            ],
            "type": "heatmap"
           }
          ],
          "heatmapgl": [
           {
            "colorbar": {
             "outlinewidth": 0,
             "ticks": ""
            },
            "colorscale": [
             [
              0,
              "#0d0887"
             ],
             [
              0.1111111111111111,
              "#46039f"
             ],
             [
              0.2222222222222222,
              "#7201a8"
             ],
             [
              0.3333333333333333,
              "#9c179e"
             ],
             [
              0.4444444444444444,
              "#bd3786"
             ],
             [
              0.5555555555555556,
              "#d8576b"
             ],
             [
              0.6666666666666666,
              "#ed7953"
             ],
             [
              0.7777777777777778,
              "#fb9f3a"
             ],
             [
              0.8888888888888888,
              "#fdca26"
             ],
             [
              1,
              "#f0f921"
             ]
            ],
            "type": "heatmapgl"
           }
          ],
          "histogram": [
           {
            "marker": {
             "colorbar": {
              "outlinewidth": 0,
              "ticks": ""
             }
            },
            "type": "histogram"
           }
          ],
          "histogram2d": [
           {
            "colorbar": {
             "outlinewidth": 0,
             "ticks": ""
            },
            "colorscale": [
             [
              0,
              "#0d0887"
             ],
             [
              0.1111111111111111,
              "#46039f"
             ],
             [
              0.2222222222222222,
              "#7201a8"
             ],
             [
              0.3333333333333333,
              "#9c179e"
             ],
             [
              0.4444444444444444,
              "#bd3786"
             ],
             [
              0.5555555555555556,
              "#d8576b"
             ],
             [
              0.6666666666666666,
              "#ed7953"
             ],
             [
              0.7777777777777778,
              "#fb9f3a"
             ],
             [
              0.8888888888888888,
              "#fdca26"
             ],
             [
              1,
              "#f0f921"
             ]
            ],
            "type": "histogram2d"
           }
          ],
          "histogram2dcontour": [
           {
            "colorbar": {
             "outlinewidth": 0,
             "ticks": ""
            },
            "colorscale": [
             [
              0,
              "#0d0887"
             ],
             [
              0.1111111111111111,
              "#46039f"
             ],
             [
              0.2222222222222222,
              "#7201a8"
             ],
             [
              0.3333333333333333,
              "#9c179e"
             ],
             [
              0.4444444444444444,
              "#bd3786"
             ],
             [
              0.5555555555555556,
              "#d8576b"
             ],
             [
              0.6666666666666666,
              "#ed7953"
             ],
             [
              0.7777777777777778,
              "#fb9f3a"
             ],
             [
              0.8888888888888888,
              "#fdca26"
             ],
             [
              1,
              "#f0f921"
             ]
            ],
            "type": "histogram2dcontour"
           }
          ],
          "mesh3d": [
           {
            "colorbar": {
             "outlinewidth": 0,
             "ticks": ""
            },
            "type": "mesh3d"
           }
          ],
          "parcoords": [
           {
            "line": {
             "colorbar": {
              "outlinewidth": 0,
              "ticks": ""
             }
            },
            "type": "parcoords"
           }
          ],
          "pie": [
           {
            "automargin": true,
            "type": "pie"
           }
          ],
          "scatter": [
           {
            "marker": {
             "colorbar": {
              "outlinewidth": 0,
              "ticks": ""
             }
            },
            "type": "scatter"
           }
          ],
          "scatter3d": [
           {
            "line": {
             "colorbar": {
              "outlinewidth": 0,
              "ticks": ""
             }
            },
            "marker": {
             "colorbar": {
              "outlinewidth": 0,
              "ticks": ""
             }
            },
            "type": "scatter3d"
           }
          ],
          "scattercarpet": [
           {
            "marker": {
             "colorbar": {
              "outlinewidth": 0,
              "ticks": ""
             }
            },
            "type": "scattercarpet"
           }
          ],
          "scattergeo": [
           {
            "marker": {
             "colorbar": {
              "outlinewidth": 0,
              "ticks": ""
             }
            },
            "type": "scattergeo"
           }
          ],
          "scattergl": [
           {
            "marker": {
             "colorbar": {
              "outlinewidth": 0,
              "ticks": ""
             }
            },
            "type": "scattergl"
           }
          ],
          "scattermapbox": [
           {
            "marker": {
             "colorbar": {
              "outlinewidth": 0,
              "ticks": ""
             }
            },
            "type": "scattermapbox"
           }
          ],
          "scatterpolar": [
           {
            "marker": {
             "colorbar": {
              "outlinewidth": 0,
              "ticks": ""
             }
            },
            "type": "scatterpolar"
           }
          ],
          "scatterpolargl": [
           {
            "marker": {
             "colorbar": {
              "outlinewidth": 0,
              "ticks": ""
             }
            },
            "type": "scatterpolargl"
           }
          ],
          "scatterternary": [
           {
            "marker": {
             "colorbar": {
              "outlinewidth": 0,
              "ticks": ""
             }
            },
            "type": "scatterternary"
           }
          ],
          "surface": [
           {
            "colorbar": {
             "outlinewidth": 0,
             "ticks": ""
            },
            "colorscale": [
             [
              0,
              "#0d0887"
             ],
             [
              0.1111111111111111,
              "#46039f"
             ],
             [
              0.2222222222222222,
              "#7201a8"
             ],
             [
              0.3333333333333333,
              "#9c179e"
             ],
             [
              0.4444444444444444,
              "#bd3786"
             ],
             [
              0.5555555555555556,
              "#d8576b"
             ],
             [
              0.6666666666666666,
              "#ed7953"
             ],
             [
              0.7777777777777778,
              "#fb9f3a"
             ],
             [
              0.8888888888888888,
              "#fdca26"
             ],
             [
              1,
              "#f0f921"
             ]
            ],
            "type": "surface"
           }
          ],
          "table": [
           {
            "cells": {
             "fill": {
              "color": "#EBF0F8"
             },
             "line": {
              "color": "white"
             }
            },
            "header": {
             "fill": {
              "color": "#C8D4E3"
             },
             "line": {
              "color": "white"
             }
            },
            "type": "table"
           }
          ]
         },
         "layout": {
          "annotationdefaults": {
           "arrowcolor": "#2a3f5f",
           "arrowhead": 0,
           "arrowwidth": 1
          },
          "coloraxis": {
           "colorbar": {
            "outlinewidth": 0,
            "ticks": ""
           }
          },
          "colorscale": {
           "diverging": [
            [
             0,
             "#8e0152"
            ],
            [
             0.1,
             "#c51b7d"
            ],
            [
             0.2,
             "#de77ae"
            ],
            [
             0.3,
             "#f1b6da"
            ],
            [
             0.4,
             "#fde0ef"
            ],
            [
             0.5,
             "#f7f7f7"
            ],
            [
             0.6,
             "#e6f5d0"
            ],
            [
             0.7,
             "#b8e186"
            ],
            [
             0.8,
             "#7fbc41"
            ],
            [
             0.9,
             "#4d9221"
            ],
            [
             1,
             "#276419"
            ]
           ],
           "sequential": [
            [
             0,
             "#0d0887"
            ],
            [
             0.1111111111111111,
             "#46039f"
            ],
            [
             0.2222222222222222,
             "#7201a8"
            ],
            [
             0.3333333333333333,
             "#9c179e"
            ],
            [
             0.4444444444444444,
             "#bd3786"
            ],
            [
             0.5555555555555556,
             "#d8576b"
            ],
            [
             0.6666666666666666,
             "#ed7953"
            ],
            [
             0.7777777777777778,
             "#fb9f3a"
            ],
            [
             0.8888888888888888,
             "#fdca26"
            ],
            [
             1,
             "#f0f921"
            ]
           ],
           "sequentialminus": [
            [
             0,
             "#0d0887"
            ],
            [
             0.1111111111111111,
             "#46039f"
            ],
            [
             0.2222222222222222,
             "#7201a8"
            ],
            [
             0.3333333333333333,
             "#9c179e"
            ],
            [
             0.4444444444444444,
             "#bd3786"
            ],
            [
             0.5555555555555556,
             "#d8576b"
            ],
            [
             0.6666666666666666,
             "#ed7953"
            ],
            [
             0.7777777777777778,
             "#fb9f3a"
            ],
            [
             0.8888888888888888,
             "#fdca26"
            ],
            [
             1,
             "#f0f921"
            ]
           ]
          },
          "colorway": [
           "#636efa",
           "#EF553B",
           "#00cc96",
           "#ab63fa",
           "#FFA15A",
           "#19d3f3",
           "#FF6692",
           "#B6E880",
           "#FF97FF",
           "#FECB52"
          ],
          "font": {
           "color": "#2a3f5f"
          },
          "geo": {
           "bgcolor": "white",
           "lakecolor": "white",
           "landcolor": "#E5ECF6",
           "showlakes": true,
           "showland": true,
           "subunitcolor": "white"
          },
          "hoverlabel": {
           "align": "left"
          },
          "hovermode": "closest",
          "mapbox": {
           "style": "light"
          },
          "paper_bgcolor": "white",
          "plot_bgcolor": "#E5ECF6",
          "polar": {
           "angularaxis": {
            "gridcolor": "white",
            "linecolor": "white",
            "ticks": ""
           },
           "bgcolor": "#E5ECF6",
           "radialaxis": {
            "gridcolor": "white",
            "linecolor": "white",
            "ticks": ""
           }
          },
          "scene": {
           "xaxis": {
            "backgroundcolor": "#E5ECF6",
            "gridcolor": "white",
            "gridwidth": 2,
            "linecolor": "white",
            "showbackground": true,
            "ticks": "",
            "zerolinecolor": "white"
           },
           "yaxis": {
            "backgroundcolor": "#E5ECF6",
            "gridcolor": "white",
            "gridwidth": 2,
            "linecolor": "white",
            "showbackground": true,
            "ticks": "",
            "zerolinecolor": "white"
           },
           "zaxis": {
            "backgroundcolor": "#E5ECF6",
            "gridcolor": "white",
            "gridwidth": 2,
            "linecolor": "white",
            "showbackground": true,
            "ticks": "",
            "zerolinecolor": "white"
           }
          },
          "shapedefaults": {
           "line": {
            "color": "#2a3f5f"
           }
          },
          "ternary": {
           "aaxis": {
            "gridcolor": "white",
            "linecolor": "white",
            "ticks": ""
           },
           "baxis": {
            "gridcolor": "white",
            "linecolor": "white",
            "ticks": ""
           },
           "bgcolor": "#E5ECF6",
           "caxis": {
            "gridcolor": "white",
            "linecolor": "white",
            "ticks": ""
           }
          },
          "title": {
           "x": 0.05
          },
          "xaxis": {
           "automargin": true,
           "gridcolor": "white",
           "linecolor": "white",
           "ticks": "",
           "title": {
            "standoff": 15
           },
           "zerolinecolor": "white",
           "zerolinewidth": 2
          },
          "yaxis": {
           "automargin": true,
           "gridcolor": "white",
           "linecolor": "white",
           "ticks": "",
           "title": {
            "standoff": 15
           },
           "zerolinecolor": "white",
           "zerolinewidth": 2
          }
         }
        },
        "title": {
         "font": {
          "color": "#4D5663"
         }
        },
        "xaxis": {
         "gridcolor": "#E1E5ED",
         "showgrid": true,
         "tickfont": {
          "color": "#4D5663"
         },
         "title": {
          "font": {
           "color": "#4D5663"
          },
          "text": ""
         },
         "zerolinecolor": "#E1E5ED"
        },
        "xaxis2": {
         "anchor": "y2",
         "gridcolor": "#E1E5ED",
         "showgrid": true,
         "showticklabels": false,
         "tickfont": {
          "color": "#4D5663"
         },
         "title": {
          "font": {
           "color": "#4D5663"
          },
          "text": ""
         },
         "zerolinecolor": "#E1E5ED"
        },
        "yaxis": {
         "domain": [
          0.3,
          1
         ],
         "gridcolor": "#E1E5ED",
         "showgrid": true,
         "tickfont": {
          "color": "#4D5663"
         },
         "title": {
          "font": {
           "color": "#4D5663"
          },
          "text": ""
         },
         "zerolinecolor": "#E1E5ED"
        },
        "yaxis2": {
         "domain": [
          0,
          0.25
         ],
         "gridcolor": "#E1E5ED",
         "showgrid": true,
         "tickfont": {
          "color": "#4D5663"
         },
         "title": {
          "font": {
           "color": "#4D5663"
          },
          "text": "Spread"
         },
         "zerolinecolor": "#E1E5ED"
        }
       }
      },
      "text/html": [
       "<div>                            <div id=\"9f343b7e-0d9a-434b-8ae3-ccc274582907\" class=\"plotly-graph-div\" style=\"height:525px; width:100%;\"></div>            <script type=\"text/javascript\">                require([\"plotly\"], function(Plotly) {                    window.PLOTLYENV=window.PLOTLYENV || {};\n",
       "                    window.PLOTLYENV.BASE_URL='https://plot.ly';                                    if (document.getElementById(\"9f343b7e-0d9a-434b-8ae3-ccc274582907\")) {                    Plotly.newPlot(                        \"9f343b7e-0d9a-434b-8ae3-ccc274582907\",                        [{\"line\": {\"color\": \"rgba(255, 153, 51, 1.0)\", \"dash\": \"solid\", \"shape\": \"linear\", \"width\": 1.3}, \"mode\": \"lines\", \"name\": \"A\", \"text\": \"\", \"type\": \"scatter\", \"x\": [0, 1, 2, 3, 4, 5, 6, 7, 8, 9, 10, 11, 12, 13, 14, 15, 16, 17, 18, 19, 20, 21, 22, 23, 24, 25, 26, 27, 28, 29, 30, 31, 32, 33, 34, 35, 36, 37, 38, 39, 40, 41, 42, 43, 44, 45, 46, 47, 48, 49, 50, 51, 52, 53, 54, 55, 56, 57, 58, 59, 60, 61, 62, 63, 64, 65, 66, 67, 68, 69, 70, 71, 72, 73, 74, 75, 76, 77, 78, 79, 80, 81, 82, 83, 84, 85, 86, 87, 88, 89, 90, 91, 92, 93, 94, 95, 96, 97, 98, 99], \"y\": [1.4231283587146955, 0.7516603116190158, -0.04069831395129999, 0.8494525246784042, 0.7977645931831729, -2.424491651018319, -1.2582093110568149, -0.15529258970936946, -0.45312148704220795, -2.2775610915462363, 0.1332429602222429, 0.3998857890171944, -0.14904950186615676, 1.1931908500642565, 0.783776424506487, -0.13860290912962892, 0.7664731049270755, -0.14547497275331425, -0.40802584839016576, 1.0711888545925605, -0.642313308372773, 0.049879911918071174, 1.8009405803668426, -1.469579438518773, 2.211475339175111, -0.38394754230209527, -0.8483588357454597, -0.4233808984906991, 0.8970171336936127, -0.46309218292344384, -1.540708272987029, -0.22011844093930893, 1.2626125439114022, -0.8599224592696124, 0.7620320340247184, 0.6063787747519568, -0.5021325565790095, -0.4042442991222263, 0.6378712352966499, -0.32475739002353093, -1.355471592482026, 0.8188916405081248, -0.7136407597534036, 1.4530169466066432, 0.12437035702819564, 0.34380998064207186, 0.3670261299236814, -0.7087328956200836, -1.258067366257801, 0.12928804837990635, -0.31603283402669446, 0.6408530470104912, 1.194512576723845, -1.5542148592170382, -0.3180623240226567, -0.26232905958765823, -2.5250678931764288, 0.03021518574286839, 0.8782566747525722, 0.06805291179027405, -0.7800434613277817, 0.30587770196971614, -1.527764831789569, -1.2455255738078197, 0.8708789079885804, -2.277781652216472, -0.961085083474282, 0.7480604179254391, -1.132740550097753, -0.21494270061498336, 0.26326840794947803, 1.9435527095905965, 0.6633014767479828, -0.33967376673719074, -1.0005256175729227, 1.033839740834173, -0.1344938358004172, -1.8377909653802171, 0.4862090693094273, 0.019117224110497474, 1.4381775613316357, 1.0022419802726958, 0.6177486704087491, 0.2238116198272653, -0.3792759330228207, 1.5642561450343315, -1.4797684734922998, 1.0732977102841788, -1.0993447775978227, 0.6133786466992118, -1.7069242684336634, 1.2751028892789205, 0.401432572330607, 0.8652760480066986, -0.019418977081185895, 0.9807867122167452, 1.6018808310985337, 0.13459144877490167, 0.9626180719042506, 0.9937757289990029]}, {\"line\": {\"color\": \"rgba(55, 128, 191, 1.0)\", \"dash\": \"solid\", \"shape\": \"linear\", \"width\": 1.3}, \"mode\": \"lines\", \"name\": \"B\", \"text\": \"\", \"type\": \"scatter\", \"x\": [0, 1, 2, 3, 4, 5, 6, 7, 8, 9, 10, 11, 12, 13, 14, 15, 16, 17, 18, 19, 20, 21, 22, 23, 24, 25, 26, 27, 28, 29, 30, 31, 32, 33, 34, 35, 36, 37, 38, 39, 40, 41, 42, 43, 44, 45, 46, 47, 48, 49, 50, 51, 52, 53, 54, 55, 56, 57, 58, 59, 60, 61, 62, 63, 64, 65, 66, 67, 68, 69, 70, 71, 72, 73, 74, 75, 76, 77, 78, 79, 80, 81, 82, 83, 84, 85, 86, 87, 88, 89, 90, 91, 92, 93, 94, 95, 96, 97, 98, 99], \"y\": [-1.3159148036125334, -0.6711729334327814, 0.938030616343648, -0.883172519923497, -1.1559543838137716, -0.21362938182096808, 1.1865996630899105, -0.13503942410931474, 0.702379722654413, 2.1627358962212906, 0.2707271260340421, -0.08373718813127257, -1.4246125339918407, 0.19285853601533218, 0.6007247164853516, -0.8692022129422258, 0.101009847359833, 1.446347405489576, 1.4241402916808978, 0.09233934005602447, 2.1859187944191194, 0.7649775110539025, 0.6796053495705884, -0.554852071312288, 1.1130260106970804, -1.5297190221801549, 0.22693985504789704, -0.9814227313037053, 1.3706959453569925, 2.0683730411899925, 0.4586619732815214, 1.2190858388012593, -1.1004677584045799, -0.28434856410119347, 0.2926406015415052, -0.4334229059903361, -1.4806843754448946, -0.9910248686250521, 0.13800914672309186, -1.034345016229925, -1.3875499683950403, -0.2839718128545817, 0.40723721037804944, 1.2103459308374067, -0.6544666001268368, -1.323283032466016, -0.9338408253711902, -1.3657749261666121, -0.22670230951583553, 1.673174411862094, -0.7392250392494247, -0.5977251424426647, -0.8798250439172343, 0.848483523562618, -0.8373298454739747, -0.4928515836198017, 0.7567630417126984, 1.7191358646363109, 1.9142309523473156, 0.7116906418838965, -0.6317604607877776, -0.3603533087907271, 0.06537406356420647, -0.2362899962772877, 0.30910863432263014, -0.3106251550628561, -0.425735266645392, -0.16654657872439244, 1.0279927804245697, 0.6154531545225654, 0.38133211748851936, 0.7107218250480805, 0.6169978660921006, 0.35961602170113527, 0.3529418612584008, -2.4210794154829363, 0.21751336076725786, 0.13751215145474693, 1.8218497869401669, -1.026045419410824, -0.17358063387533523, -0.12941743078398793, -0.10898435004964954, -0.9815145765089636, -0.712956213176565, 0.45861126534718105, -1.35549152949366, 0.261728135661618, 0.44365502505321674, -0.4299447790444871, 1.4603204442829751, -2.77607709870146, -0.11281905305207801, 0.4503284425976104, -0.6363703760997098, 0.706131730762392, -0.5553440039407791, -0.5558337541696055, 1.1021535193467047, -0.10646954349882545]}, {\"connectgaps\": false, \"fill\": \"tozeroy\", \"line\": {\"color\": \"green\", \"dash\": \"solid\", \"shape\": \"linear\", \"width\": 0.5}, \"mode\": \"lines\", \"name\": \"Spread\", \"showlegend\": false, \"type\": \"scatter\", \"x\": [0, 1, 2, 3, 4, 5, 6, 7, 8, 9, 10, 11, 12, 13, 14, 15, 16, 17, 18, 19, 20, 21, 22, 23, 24, 25, 26, 27, 28, 29, 30, 31, 32, 33, 34, 35, 36, 37, 38, 39, 40, 41, 42, 43, 44, 45, 46, 47, 48, 49, 50, 51, 52, 53, 54, 55, 56, 57, 58, 59, 60, 61, 62, 63, 64, 65, 66, 67, 68, 69, 70, 71, 72, 73, 74, 75, 76, 77, 78, 79, 80, 81, 82, 83, 84, 85, 86, 87, 88, 89, 90, 91, 92, 93, 94, 95, 96, 97, 98, 99], \"xaxis\": \"x2\", \"y\": [2.7390431623272287, 1.4228332450517973, \"\", 1.7326250446019011, 1.9537189769969445, \"\", \"\", \"\", \"\", \"\", \"\", 0.48362297714846697, 1.275563032125684, 1.0003323140489244, 0.18305170802113535, 0.7305993038125969, 0.6654632575672426, \"\", \"\", 0.978849514536536, \"\", \"\", 1.1213352307962543, \"\", 1.0984493284780308, 1.1457714798780596, \"\", 0.5580418328130061, \"\", \"\", \"\", \"\", 2.363080302315982, \"\", 0.46939143248321324, 1.039801680742293, 0.9785518188658852, 0.5867805695028259, 0.49986208857355807, 0.709587626206394, 0.03207837591301432, 1.1028634533627064, \"\", 0.24267101576923644, 0.7788369571550324, 1.6670930131080879, 1.3008669552948715, 0.6570420305465285, \"\", \"\", 0.42319220522273027, 1.2385781894531558, 2.0743376206410793, \"\", 0.519267521451318, 0.23052252403214346, \"\", \"\", \"\", \"\", \"\", 0.6662310107604432, \"\", \"\", 0.5617702736659502, \"\", \"\", 0.9146069966498316, \"\", \"\", \"\", 1.232830884542516, 0.04630361065588218, \"\", \"\", 3.4549191563171093, \"\", \"\", \"\", 1.0451626435213215, 1.6117581952069708, 1.1316594110566838, 0.7267330204583987, 1.205326196336229, 0.3336802801537443, 1.1056448796871505, \"\", 0.8115695746225607, \"\", 1.043323425743699, \"\", 4.0511799879803805, 0.514251625382685, 0.41494760540908815, 0.6169513990185239, 0.2746549814543532, 2.1572248350393126, 0.6904252029445072, \"\", 1.1002452724978284], \"yaxis\": \"y2\"}, {\"connectgaps\": false, \"fill\": \"tozeroy\", \"line\": {\"color\": \"red\", \"dash\": \"solid\", \"shape\": \"linear\", \"width\": 0.5}, \"mode\": \"lines\", \"name\": \"Spread\", \"showlegend\": false, \"type\": \"scatter\", \"x\": [0, 1, 2, 3, 4, 5, 6, 7, 8, 9, 10, 11, 12, 13, 14, 15, 16, 17, 18, 19, 20, 21, 22, 23, 24, 25, 26, 27, 28, 29, 30, 31, 32, 33, 34, 35, 36, 37, 38, 39, 40, 41, 42, 43, 44, 45, 46, 47, 48, 49, 50, 51, 52, 53, 54, 55, 56, 57, 58, 59, 60, 61, 62, 63, 64, 65, 66, 67, 68, 69, 70, 71, 72, 73, 74, 75, 76, 77, 78, 79, 80, 81, 82, 83, 84, 85, 86, 87, 88, 89, 90, 91, 92, 93, 94, 95, 96, 97, 98, 99], \"xaxis\": \"x2\", \"y\": [\"\", \"\", -0.978728930294948, \"\", \"\", -2.2108622691973507, -2.444808974146725, -0.020253165600054718, -1.1555012096966208, -4.4402969877675265, -0.13748416581179917, \"\", \"\", \"\", \"\", \"\", \"\", -1.5918223782428902, -1.8321661400710636, \"\", -2.828232102791892, -0.7150975991358314, \"\", -0.9147273672064851, \"\", \"\", -1.0752986907933568, \"\", -0.4736788116633798, -2.5314652241134366, -1.9993702462685503, -1.4392042797405682, \"\", -0.575573895168419, \"\", \"\", \"\", \"\", \"\", \"\", \"\", \"\", -1.120877970131453, \"\", \"\", \"\", \"\", \"\", -1.0313650567419654, -1.5438863634821876, \"\", \"\", \"\", -2.402698382779656, \"\", \"\", -3.2818309348891272, -1.6889206788934426, -1.0359742775947434, -0.6436377300936225, -0.1482830005400041, \"\", -1.5931388953537753, -1.009235577530532, \"\", -1.967156497153616, -0.5353498168288899, \"\", -2.160733330522323, -0.8303958551375488, -0.11806370953904133, \"\", \"\", -0.699289788438326, -1.3534674788313235, \"\", -0.3520071965676751, -1.9753031168349642, -1.3356407176307394, \"\", \"\", \"\", \"\", \"\", \"\", \"\", -0.12427694399863976, \"\", -1.5429998026510394, \"\", -3.1672447127166388, \"\", \"\", \"\", \"\", \"\", \"\", \"\", -0.13953544744245405, \"\"], \"yaxis\": \"y2\"}],                        {\"hovermode\": \"x\", \"legend\": {\"bgcolor\": \"#F5F6F9\", \"font\": {\"color\": \"#4D5663\"}}, \"paper_bgcolor\": \"#F5F6F9\", \"plot_bgcolor\": \"#F5F6F9\", \"template\": {\"data\": {\"bar\": [{\"error_x\": {\"color\": \"#2a3f5f\"}, \"error_y\": {\"color\": \"#2a3f5f\"}, \"marker\": {\"line\": {\"color\": \"#E5ECF6\", \"width\": 0.5}}, \"type\": \"bar\"}], \"barpolar\": [{\"marker\": {\"line\": {\"color\": \"#E5ECF6\", \"width\": 0.5}}, \"type\": \"barpolar\"}], \"carpet\": [{\"aaxis\": {\"endlinecolor\": \"#2a3f5f\", \"gridcolor\": \"white\", \"linecolor\": \"white\", \"minorgridcolor\": \"white\", \"startlinecolor\": \"#2a3f5f\"}, \"baxis\": {\"endlinecolor\": \"#2a3f5f\", \"gridcolor\": \"white\", \"linecolor\": \"white\", \"minorgridcolor\": \"white\", \"startlinecolor\": \"#2a3f5f\"}, \"type\": \"carpet\"}], \"choropleth\": [{\"colorbar\": {\"outlinewidth\": 0, \"ticks\": \"\"}, \"type\": \"choropleth\"}], \"contour\": [{\"colorbar\": {\"outlinewidth\": 0, \"ticks\": \"\"}, \"colorscale\": [[0.0, \"#0d0887\"], [0.1111111111111111, \"#46039f\"], [0.2222222222222222, \"#7201a8\"], [0.3333333333333333, \"#9c179e\"], [0.4444444444444444, \"#bd3786\"], [0.5555555555555556, \"#d8576b\"], [0.6666666666666666, \"#ed7953\"], [0.7777777777777778, \"#fb9f3a\"], [0.8888888888888888, \"#fdca26\"], [1.0, \"#f0f921\"]], \"type\": \"contour\"}], \"contourcarpet\": [{\"colorbar\": {\"outlinewidth\": 0, \"ticks\": \"\"}, \"type\": \"contourcarpet\"}], \"heatmap\": [{\"colorbar\": {\"outlinewidth\": 0, \"ticks\": \"\"}, \"colorscale\": [[0.0, \"#0d0887\"], [0.1111111111111111, \"#46039f\"], [0.2222222222222222, \"#7201a8\"], [0.3333333333333333, \"#9c179e\"], [0.4444444444444444, \"#bd3786\"], [0.5555555555555556, \"#d8576b\"], [0.6666666666666666, \"#ed7953\"], [0.7777777777777778, \"#fb9f3a\"], [0.8888888888888888, \"#fdca26\"], [1.0, \"#f0f921\"]], \"type\": \"heatmap\"}], \"heatmapgl\": [{\"colorbar\": {\"outlinewidth\": 0, \"ticks\": \"\"}, \"colorscale\": [[0.0, \"#0d0887\"], [0.1111111111111111, \"#46039f\"], [0.2222222222222222, \"#7201a8\"], [0.3333333333333333, \"#9c179e\"], [0.4444444444444444, \"#bd3786\"], [0.5555555555555556, \"#d8576b\"], [0.6666666666666666, \"#ed7953\"], [0.7777777777777778, \"#fb9f3a\"], [0.8888888888888888, \"#fdca26\"], [1.0, \"#f0f921\"]], \"type\": \"heatmapgl\"}], \"histogram\": [{\"marker\": {\"colorbar\": {\"outlinewidth\": 0, \"ticks\": \"\"}}, \"type\": \"histogram\"}], \"histogram2d\": [{\"colorbar\": {\"outlinewidth\": 0, \"ticks\": \"\"}, \"colorscale\": [[0.0, \"#0d0887\"], [0.1111111111111111, \"#46039f\"], [0.2222222222222222, \"#7201a8\"], [0.3333333333333333, \"#9c179e\"], [0.4444444444444444, \"#bd3786\"], [0.5555555555555556, \"#d8576b\"], [0.6666666666666666, \"#ed7953\"], [0.7777777777777778, \"#fb9f3a\"], [0.8888888888888888, \"#fdca26\"], [1.0, \"#f0f921\"]], \"type\": \"histogram2d\"}], \"histogram2dcontour\": [{\"colorbar\": {\"outlinewidth\": 0, \"ticks\": \"\"}, \"colorscale\": [[0.0, \"#0d0887\"], [0.1111111111111111, \"#46039f\"], [0.2222222222222222, \"#7201a8\"], [0.3333333333333333, \"#9c179e\"], [0.4444444444444444, \"#bd3786\"], [0.5555555555555556, \"#d8576b\"], [0.6666666666666666, \"#ed7953\"], [0.7777777777777778, \"#fb9f3a\"], [0.8888888888888888, \"#fdca26\"], [1.0, \"#f0f921\"]], \"type\": \"histogram2dcontour\"}], \"mesh3d\": [{\"colorbar\": {\"outlinewidth\": 0, \"ticks\": \"\"}, \"type\": \"mesh3d\"}], \"parcoords\": [{\"line\": {\"colorbar\": {\"outlinewidth\": 0, \"ticks\": \"\"}}, \"type\": \"parcoords\"}], \"pie\": [{\"automargin\": true, \"type\": \"pie\"}], \"scatter\": [{\"marker\": {\"colorbar\": {\"outlinewidth\": 0, \"ticks\": \"\"}}, \"type\": \"scatter\"}], \"scatter3d\": [{\"line\": {\"colorbar\": {\"outlinewidth\": 0, \"ticks\": \"\"}}, \"marker\": {\"colorbar\": {\"outlinewidth\": 0, \"ticks\": \"\"}}, \"type\": \"scatter3d\"}], \"scattercarpet\": [{\"marker\": {\"colorbar\": {\"outlinewidth\": 0, \"ticks\": \"\"}}, \"type\": \"scattercarpet\"}], \"scattergeo\": [{\"marker\": {\"colorbar\": {\"outlinewidth\": 0, \"ticks\": \"\"}}, \"type\": \"scattergeo\"}], \"scattergl\": [{\"marker\": {\"colorbar\": {\"outlinewidth\": 0, \"ticks\": \"\"}}, \"type\": \"scattergl\"}], \"scattermapbox\": [{\"marker\": {\"colorbar\": {\"outlinewidth\": 0, \"ticks\": \"\"}}, \"type\": \"scattermapbox\"}], \"scatterpolar\": [{\"marker\": {\"colorbar\": {\"outlinewidth\": 0, \"ticks\": \"\"}}, \"type\": \"scatterpolar\"}], \"scatterpolargl\": [{\"marker\": {\"colorbar\": {\"outlinewidth\": 0, \"ticks\": \"\"}}, \"type\": \"scatterpolargl\"}], \"scatterternary\": [{\"marker\": {\"colorbar\": {\"outlinewidth\": 0, \"ticks\": \"\"}}, \"type\": \"scatterternary\"}], \"surface\": [{\"colorbar\": {\"outlinewidth\": 0, \"ticks\": \"\"}, \"colorscale\": [[0.0, \"#0d0887\"], [0.1111111111111111, \"#46039f\"], [0.2222222222222222, \"#7201a8\"], [0.3333333333333333, \"#9c179e\"], [0.4444444444444444, \"#bd3786\"], [0.5555555555555556, \"#d8576b\"], [0.6666666666666666, \"#ed7953\"], [0.7777777777777778, \"#fb9f3a\"], [0.8888888888888888, \"#fdca26\"], [1.0, \"#f0f921\"]], \"type\": \"surface\"}], \"table\": [{\"cells\": {\"fill\": {\"color\": \"#EBF0F8\"}, \"line\": {\"color\": \"white\"}}, \"header\": {\"fill\": {\"color\": \"#C8D4E3\"}, \"line\": {\"color\": \"white\"}}, \"type\": \"table\"}]}, \"layout\": {\"annotationdefaults\": {\"arrowcolor\": \"#2a3f5f\", \"arrowhead\": 0, \"arrowwidth\": 1}, \"coloraxis\": {\"colorbar\": {\"outlinewidth\": 0, \"ticks\": \"\"}}, \"colorscale\": {\"diverging\": [[0, \"#8e0152\"], [0.1, \"#c51b7d\"], [0.2, \"#de77ae\"], [0.3, \"#f1b6da\"], [0.4, \"#fde0ef\"], [0.5, \"#f7f7f7\"], [0.6, \"#e6f5d0\"], [0.7, \"#b8e186\"], [0.8, \"#7fbc41\"], [0.9, \"#4d9221\"], [1, \"#276419\"]], \"sequential\": [[0.0, \"#0d0887\"], [0.1111111111111111, \"#46039f\"], [0.2222222222222222, \"#7201a8\"], [0.3333333333333333, \"#9c179e\"], [0.4444444444444444, \"#bd3786\"], [0.5555555555555556, \"#d8576b\"], [0.6666666666666666, \"#ed7953\"], [0.7777777777777778, \"#fb9f3a\"], [0.8888888888888888, \"#fdca26\"], [1.0, \"#f0f921\"]], \"sequentialminus\": [[0.0, \"#0d0887\"], [0.1111111111111111, \"#46039f\"], [0.2222222222222222, \"#7201a8\"], [0.3333333333333333, \"#9c179e\"], [0.4444444444444444, \"#bd3786\"], [0.5555555555555556, \"#d8576b\"], [0.6666666666666666, \"#ed7953\"], [0.7777777777777778, \"#fb9f3a\"], [0.8888888888888888, \"#fdca26\"], [1.0, \"#f0f921\"]]}, \"colorway\": [\"#636efa\", \"#EF553B\", \"#00cc96\", \"#ab63fa\", \"#FFA15A\", \"#19d3f3\", \"#FF6692\", \"#B6E880\", \"#FF97FF\", \"#FECB52\"], \"font\": {\"color\": \"#2a3f5f\"}, \"geo\": {\"bgcolor\": \"white\", \"lakecolor\": \"white\", \"landcolor\": \"#E5ECF6\", \"showlakes\": true, \"showland\": true, \"subunitcolor\": \"white\"}, \"hoverlabel\": {\"align\": \"left\"}, \"hovermode\": \"closest\", \"mapbox\": {\"style\": \"light\"}, \"paper_bgcolor\": \"white\", \"plot_bgcolor\": \"#E5ECF6\", \"polar\": {\"angularaxis\": {\"gridcolor\": \"white\", \"linecolor\": \"white\", \"ticks\": \"\"}, \"bgcolor\": \"#E5ECF6\", \"radialaxis\": {\"gridcolor\": \"white\", \"linecolor\": \"white\", \"ticks\": \"\"}}, \"scene\": {\"xaxis\": {\"backgroundcolor\": \"#E5ECF6\", \"gridcolor\": \"white\", \"gridwidth\": 2, \"linecolor\": \"white\", \"showbackground\": true, \"ticks\": \"\", \"zerolinecolor\": \"white\"}, \"yaxis\": {\"backgroundcolor\": \"#E5ECF6\", \"gridcolor\": \"white\", \"gridwidth\": 2, \"linecolor\": \"white\", \"showbackground\": true, \"ticks\": \"\", \"zerolinecolor\": \"white\"}, \"zaxis\": {\"backgroundcolor\": \"#E5ECF6\", \"gridcolor\": \"white\", \"gridwidth\": 2, \"linecolor\": \"white\", \"showbackground\": true, \"ticks\": \"\", \"zerolinecolor\": \"white\"}}, \"shapedefaults\": {\"line\": {\"color\": \"#2a3f5f\"}}, \"ternary\": {\"aaxis\": {\"gridcolor\": \"white\", \"linecolor\": \"white\", \"ticks\": \"\"}, \"baxis\": {\"gridcolor\": \"white\", \"linecolor\": \"white\", \"ticks\": \"\"}, \"bgcolor\": \"#E5ECF6\", \"caxis\": {\"gridcolor\": \"white\", \"linecolor\": \"white\", \"ticks\": \"\"}}, \"title\": {\"x\": 0.05}, \"xaxis\": {\"automargin\": true, \"gridcolor\": \"white\", \"linecolor\": \"white\", \"ticks\": \"\", \"title\": {\"standoff\": 15}, \"zerolinecolor\": \"white\", \"zerolinewidth\": 2}, \"yaxis\": {\"automargin\": true, \"gridcolor\": \"white\", \"linecolor\": \"white\", \"ticks\": \"\", \"title\": {\"standoff\": 15}, \"zerolinecolor\": \"white\", \"zerolinewidth\": 2}}}, \"title\": {\"font\": {\"color\": \"#4D5663\"}}, \"xaxis\": {\"gridcolor\": \"#E1E5ED\", \"showgrid\": true, \"tickfont\": {\"color\": \"#4D5663\"}, \"title\": {\"font\": {\"color\": \"#4D5663\"}, \"text\": \"\"}, \"zerolinecolor\": \"#E1E5ED\"}, \"xaxis2\": {\"anchor\": \"y2\", \"gridcolor\": \"#E1E5ED\", \"showgrid\": true, \"showticklabels\": false, \"tickfont\": {\"color\": \"#4D5663\"}, \"title\": {\"font\": {\"color\": \"#4D5663\"}, \"text\": \"\"}, \"zerolinecolor\": \"#E1E5ED\"}, \"yaxis\": {\"domain\": [0.3, 1], \"gridcolor\": \"#E1E5ED\", \"showgrid\": true, \"tickfont\": {\"color\": \"#4D5663\"}, \"title\": {\"font\": {\"color\": \"#4D5663\"}, \"text\": \"\"}, \"zerolinecolor\": \"#E1E5ED\"}, \"yaxis2\": {\"domain\": [0, 0.25], \"gridcolor\": \"#E1E5ED\", \"showgrid\": true, \"tickfont\": {\"color\": \"#4D5663\"}, \"title\": {\"font\": {\"color\": \"#4D5663\"}, \"text\": \"Spread\"}, \"zerolinecolor\": \"#E1E5ED\"}},                        {\"showLink\": true, \"linkText\": \"Export to plot.ly\", \"plotlyServerURL\": \"https://plot.ly\", \"responsive\": true}                    ).then(function(){\n",
       "                            \n",
       "var gd = document.getElementById('9f343b7e-0d9a-434b-8ae3-ccc274582907');\n",
       "var x = new MutationObserver(function (mutations, observer) {{\n",
       "        var display = window.getComputedStyle(gd).display;\n",
       "        if (!display || display === 'none') {{\n",
       "            console.log([gd, 'removed!']);\n",
       "            Plotly.purge(gd);\n",
       "            observer.disconnect();\n",
       "        }}\n",
       "}});\n",
       "\n",
       "// Listen for the removal of the full notebook cells\n",
       "var notebookContainer = gd.closest('#notebook-container');\n",
       "if (notebookContainer) {{\n",
       "    x.observe(notebookContainer, {childList: true});\n",
       "}}\n",
       "\n",
       "// Listen for the clearing of the current output cell\n",
       "var outputEl = gd.closest('.output');\n",
       "if (outputEl) {{\n",
       "    x.observe(outputEl, {childList: true});\n",
       "}}\n",
       "\n",
       "                        })                };                });            </script>        </div>"
      ]
     },
     "metadata": {},
     "output_type": "display_data"
    }
   ],
   "source": [
    "df[['A','B']].iplot(kind='spread')"
   ]
  },
  {
   "cell_type": "markdown",
   "metadata": {},
   "source": [
    "## histogram"
   ]
  },
  {
   "cell_type": "code",
   "execution_count": 16,
   "metadata": {},
   "outputs": [
    {
     "data": {
      "application/vnd.plotly.v1+json": {
       "config": {
        "linkText": "Export to plot.ly",
        "plotlyServerURL": "https://plot.ly",
        "showLink": true
       },
       "data": [
        {
         "histfunc": "count",
         "histnorm": "",
         "marker": {
          "color": "rgba(255, 153, 51, 1.0)",
          "line": {
           "color": "#4D5663",
           "width": 1.3
          }
         },
         "name": "A",
         "nbinsx": 25,
         "opacity": 0.8,
         "orientation": "v",
         "type": "histogram",
         "x": [
          1.4231283587146955,
          0.7516603116190158,
          -0.04069831395129999,
          0.8494525246784042,
          0.7977645931831729,
          -2.424491651018319,
          -1.2582093110568149,
          -0.15529258970936946,
          -0.45312148704220795,
          -2.2775610915462363,
          0.1332429602222429,
          0.3998857890171944,
          -0.14904950186615676,
          1.1931908500642565,
          0.783776424506487,
          -0.13860290912962892,
          0.7664731049270755,
          -0.14547497275331425,
          -0.40802584839016576,
          1.0711888545925605,
          -0.642313308372773,
          0.049879911918071174,
          1.8009405803668426,
          -1.469579438518773,
          2.211475339175111,
          -0.38394754230209527,
          -0.8483588357454597,
          -0.4233808984906991,
          0.8970171336936127,
          -0.46309218292344384,
          -1.540708272987029,
          -0.22011844093930893,
          1.2626125439114022,
          -0.8599224592696124,
          0.7620320340247184,
          0.6063787747519568,
          -0.5021325565790095,
          -0.4042442991222263,
          0.6378712352966499,
          -0.32475739002353093,
          -1.355471592482026,
          0.8188916405081248,
          -0.7136407597534036,
          1.4530169466066432,
          0.12437035702819564,
          0.34380998064207186,
          0.3670261299236814,
          -0.7087328956200836,
          -1.258067366257801,
          0.12928804837990635,
          -0.31603283402669446,
          0.6408530470104912,
          1.194512576723845,
          -1.5542148592170382,
          -0.3180623240226567,
          -0.26232905958765823,
          -2.5250678931764288,
          0.03021518574286839,
          0.8782566747525722,
          0.06805291179027405,
          -0.7800434613277817,
          0.30587770196971614,
          -1.527764831789569,
          -1.2455255738078197,
          0.8708789079885804,
          -2.277781652216472,
          -0.961085083474282,
          0.7480604179254391,
          -1.132740550097753,
          -0.21494270061498336,
          0.26326840794947803,
          1.9435527095905965,
          0.6633014767479828,
          -0.33967376673719074,
          -1.0005256175729227,
          1.033839740834173,
          -0.1344938358004172,
          -1.8377909653802171,
          0.4862090693094273,
          0.019117224110497474,
          1.4381775613316357,
          1.0022419802726958,
          0.6177486704087491,
          0.2238116198272653,
          -0.3792759330228207,
          1.5642561450343315,
          -1.4797684734922998,
          1.0732977102841788,
          -1.0993447775978227,
          0.6133786466992118,
          -1.7069242684336634,
          1.2751028892789205,
          0.401432572330607,
          0.8652760480066986,
          -0.019418977081185895,
          0.9807867122167452,
          1.6018808310985337,
          0.13459144877490167,
          0.9626180719042506,
          0.9937757289990029
         ]
        }
       ],
       "layout": {
        "barmode": "overlay",
        "legend": {
         "bgcolor": "#F5F6F9",
         "font": {
          "color": "#4D5663"
         }
        },
        "paper_bgcolor": "#F5F6F9",
        "plot_bgcolor": "#F5F6F9",
        "template": {
         "data": {
          "bar": [
           {
            "error_x": {
             "color": "#2a3f5f"
            },
            "error_y": {
             "color": "#2a3f5f"
            },
            "marker": {
             "line": {
              "color": "#E5ECF6",
              "width": 0.5
             }
            },
            "type": "bar"
           }
          ],
          "barpolar": [
           {
            "marker": {
             "line": {
              "color": "#E5ECF6",
              "width": 0.5
             }
            },
            "type": "barpolar"
           }
          ],
          "carpet": [
           {
            "aaxis": {
             "endlinecolor": "#2a3f5f",
             "gridcolor": "white",
             "linecolor": "white",
             "minorgridcolor": "white",
             "startlinecolor": "#2a3f5f"
            },
            "baxis": {
             "endlinecolor": "#2a3f5f",
             "gridcolor": "white",
             "linecolor": "white",
             "minorgridcolor": "white",
             "startlinecolor": "#2a3f5f"
            },
            "type": "carpet"
           }
          ],
          "choropleth": [
           {
            "colorbar": {
             "outlinewidth": 0,
             "ticks": ""
            },
            "type": "choropleth"
           }
          ],
          "contour": [
           {
            "colorbar": {
             "outlinewidth": 0,
             "ticks": ""
            },
            "colorscale": [
             [
              0,
              "#0d0887"
             ],
             [
              0.1111111111111111,
              "#46039f"
             ],
             [
              0.2222222222222222,
              "#7201a8"
             ],
             [
              0.3333333333333333,
              "#9c179e"
             ],
             [
              0.4444444444444444,
              "#bd3786"
             ],
             [
              0.5555555555555556,
              "#d8576b"
             ],
             [
              0.6666666666666666,
              "#ed7953"
             ],
             [
              0.7777777777777778,
              "#fb9f3a"
             ],
             [
              0.8888888888888888,
              "#fdca26"
             ],
             [
              1,
              "#f0f921"
             ]
            ],
            "type": "contour"
           }
          ],
          "contourcarpet": [
           {
            "colorbar": {
             "outlinewidth": 0,
             "ticks": ""
            },
            "type": "contourcarpet"
           }
          ],
          "heatmap": [
           {
            "colorbar": {
             "outlinewidth": 0,
             "ticks": ""
            },
            "colorscale": [
             [
              0,
              "#0d0887"
             ],
             [
              0.1111111111111111,
              "#46039f"
             ],
             [
              0.2222222222222222,
              "#7201a8"
             ],
             [
              0.3333333333333333,
              "#9c179e"
             ],
             [
              0.4444444444444444,
              "#bd3786"
             ],
             [
              0.5555555555555556,
              "#d8576b"
             ],
             [
              0.6666666666666666,
              "#ed7953"
             ],
             [
              0.7777777777777778,
              "#fb9f3a"
             ],
             [
              0.8888888888888888,
              "#fdca26"
             ],
             [
              1,
              "#f0f921"
             ]
            ],
            "type": "heatmap"
           }
          ],
          "heatmapgl": [
           {
            "colorbar": {
             "outlinewidth": 0,
             "ticks": ""
            },
            "colorscale": [
             [
              0,
              "#0d0887"
             ],
             [
              0.1111111111111111,
              "#46039f"
             ],
             [
              0.2222222222222222,
              "#7201a8"
             ],
             [
              0.3333333333333333,
              "#9c179e"
             ],
             [
              0.4444444444444444,
              "#bd3786"
             ],
             [
              0.5555555555555556,
              "#d8576b"
             ],
             [
              0.6666666666666666,
              "#ed7953"
             ],
             [
              0.7777777777777778,
              "#fb9f3a"
             ],
             [
              0.8888888888888888,
              "#fdca26"
             ],
             [
              1,
              "#f0f921"
             ]
            ],
            "type": "heatmapgl"
           }
          ],
          "histogram": [
           {
            "marker": {
             "colorbar": {
              "outlinewidth": 0,
              "ticks": ""
             }
            },
            "type": "histogram"
           }
          ],
          "histogram2d": [
           {
            "colorbar": {
             "outlinewidth": 0,
             "ticks": ""
            },
            "colorscale": [
             [
              0,
              "#0d0887"
             ],
             [
              0.1111111111111111,
              "#46039f"
             ],
             [
              0.2222222222222222,
              "#7201a8"
             ],
             [
              0.3333333333333333,
              "#9c179e"
             ],
             [
              0.4444444444444444,
              "#bd3786"
             ],
             [
              0.5555555555555556,
              "#d8576b"
             ],
             [
              0.6666666666666666,
              "#ed7953"
             ],
             [
              0.7777777777777778,
              "#fb9f3a"
             ],
             [
              0.8888888888888888,
              "#fdca26"
             ],
             [
              1,
              "#f0f921"
             ]
            ],
            "type": "histogram2d"
           }
          ],
          "histogram2dcontour": [
           {
            "colorbar": {
             "outlinewidth": 0,
             "ticks": ""
            },
            "colorscale": [
             [
              0,
              "#0d0887"
             ],
             [
              0.1111111111111111,
              "#46039f"
             ],
             [
              0.2222222222222222,
              "#7201a8"
             ],
             [
              0.3333333333333333,
              "#9c179e"
             ],
             [
              0.4444444444444444,
              "#bd3786"
             ],
             [
              0.5555555555555556,
              "#d8576b"
             ],
             [
              0.6666666666666666,
              "#ed7953"
             ],
             [
              0.7777777777777778,
              "#fb9f3a"
             ],
             [
              0.8888888888888888,
              "#fdca26"
             ],
             [
              1,
              "#f0f921"
             ]
            ],
            "type": "histogram2dcontour"
           }
          ],
          "mesh3d": [
           {
            "colorbar": {
             "outlinewidth": 0,
             "ticks": ""
            },
            "type": "mesh3d"
           }
          ],
          "parcoords": [
           {
            "line": {
             "colorbar": {
              "outlinewidth": 0,
              "ticks": ""
             }
            },
            "type": "parcoords"
           }
          ],
          "pie": [
           {
            "automargin": true,
            "type": "pie"
           }
          ],
          "scatter": [
           {
            "marker": {
             "colorbar": {
              "outlinewidth": 0,
              "ticks": ""
             }
            },
            "type": "scatter"
           }
          ],
          "scatter3d": [
           {
            "line": {
             "colorbar": {
              "outlinewidth": 0,
              "ticks": ""
             }
            },
            "marker": {
             "colorbar": {
              "outlinewidth": 0,
              "ticks": ""
             }
            },
            "type": "scatter3d"
           }
          ],
          "scattercarpet": [
           {
            "marker": {
             "colorbar": {
              "outlinewidth": 0,
              "ticks": ""
             }
            },
            "type": "scattercarpet"
           }
          ],
          "scattergeo": [
           {
            "marker": {
             "colorbar": {
              "outlinewidth": 0,
              "ticks": ""
             }
            },
            "type": "scattergeo"
           }
          ],
          "scattergl": [
           {
            "marker": {
             "colorbar": {
              "outlinewidth": 0,
              "ticks": ""
             }
            },
            "type": "scattergl"
           }
          ],
          "scattermapbox": [
           {
            "marker": {
             "colorbar": {
              "outlinewidth": 0,
              "ticks": ""
             }
            },
            "type": "scattermapbox"
           }
          ],
          "scatterpolar": [
           {
            "marker": {
             "colorbar": {
              "outlinewidth": 0,
              "ticks": ""
             }
            },
            "type": "scatterpolar"
           }
          ],
          "scatterpolargl": [
           {
            "marker": {
             "colorbar": {
              "outlinewidth": 0,
              "ticks": ""
             }
            },
            "type": "scatterpolargl"
           }
          ],
          "scatterternary": [
           {
            "marker": {
             "colorbar": {
              "outlinewidth": 0,
              "ticks": ""
             }
            },
            "type": "scatterternary"
           }
          ],
          "surface": [
           {
            "colorbar": {
             "outlinewidth": 0,
             "ticks": ""
            },
            "colorscale": [
             [
              0,
              "#0d0887"
             ],
             [
              0.1111111111111111,
              "#46039f"
             ],
             [
              0.2222222222222222,
              "#7201a8"
             ],
             [
              0.3333333333333333,
              "#9c179e"
             ],
             [
              0.4444444444444444,
              "#bd3786"
             ],
             [
              0.5555555555555556,
              "#d8576b"
             ],
             [
              0.6666666666666666,
              "#ed7953"
             ],
             [
              0.7777777777777778,
              "#fb9f3a"
             ],
             [
              0.8888888888888888,
              "#fdca26"
             ],
             [
              1,
              "#f0f921"
             ]
            ],
            "type": "surface"
           }
          ],
          "table": [
           {
            "cells": {
             "fill": {
              "color": "#EBF0F8"
             },
             "line": {
              "color": "white"
             }
            },
            "header": {
             "fill": {
              "color": "#C8D4E3"
             },
             "line": {
              "color": "white"
             }
            },
            "type": "table"
           }
          ]
         },
         "layout": {
          "annotationdefaults": {
           "arrowcolor": "#2a3f5f",
           "arrowhead": 0,
           "arrowwidth": 1
          },
          "coloraxis": {
           "colorbar": {
            "outlinewidth": 0,
            "ticks": ""
           }
          },
          "colorscale": {
           "diverging": [
            [
             0,
             "#8e0152"
            ],
            [
             0.1,
             "#c51b7d"
            ],
            [
             0.2,
             "#de77ae"
            ],
            [
             0.3,
             "#f1b6da"
            ],
            [
             0.4,
             "#fde0ef"
            ],
            [
             0.5,
             "#f7f7f7"
            ],
            [
             0.6,
             "#e6f5d0"
            ],
            [
             0.7,
             "#b8e186"
            ],
            [
             0.8,
             "#7fbc41"
            ],
            [
             0.9,
             "#4d9221"
            ],
            [
             1,
             "#276419"
            ]
           ],
           "sequential": [
            [
             0,
             "#0d0887"
            ],
            [
             0.1111111111111111,
             "#46039f"
            ],
            [
             0.2222222222222222,
             "#7201a8"
            ],
            [
             0.3333333333333333,
             "#9c179e"
            ],
            [
             0.4444444444444444,
             "#bd3786"
            ],
            [
             0.5555555555555556,
             "#d8576b"
            ],
            [
             0.6666666666666666,
             "#ed7953"
            ],
            [
             0.7777777777777778,
             "#fb9f3a"
            ],
            [
             0.8888888888888888,
             "#fdca26"
            ],
            [
             1,
             "#f0f921"
            ]
           ],
           "sequentialminus": [
            [
             0,
             "#0d0887"
            ],
            [
             0.1111111111111111,
             "#46039f"
            ],
            [
             0.2222222222222222,
             "#7201a8"
            ],
            [
             0.3333333333333333,
             "#9c179e"
            ],
            [
             0.4444444444444444,
             "#bd3786"
            ],
            [
             0.5555555555555556,
             "#d8576b"
            ],
            [
             0.6666666666666666,
             "#ed7953"
            ],
            [
             0.7777777777777778,
             "#fb9f3a"
            ],
            [
             0.8888888888888888,
             "#fdca26"
            ],
            [
             1,
             "#f0f921"
            ]
           ]
          },
          "colorway": [
           "#636efa",
           "#EF553B",
           "#00cc96",
           "#ab63fa",
           "#FFA15A",
           "#19d3f3",
           "#FF6692",
           "#B6E880",
           "#FF97FF",
           "#FECB52"
          ],
          "font": {
           "color": "#2a3f5f"
          },
          "geo": {
           "bgcolor": "white",
           "lakecolor": "white",
           "landcolor": "#E5ECF6",
           "showlakes": true,
           "showland": true,
           "subunitcolor": "white"
          },
          "hoverlabel": {
           "align": "left"
          },
          "hovermode": "closest",
          "mapbox": {
           "style": "light"
          },
          "paper_bgcolor": "white",
          "plot_bgcolor": "#E5ECF6",
          "polar": {
           "angularaxis": {
            "gridcolor": "white",
            "linecolor": "white",
            "ticks": ""
           },
           "bgcolor": "#E5ECF6",
           "radialaxis": {
            "gridcolor": "white",
            "linecolor": "white",
            "ticks": ""
           }
          },
          "scene": {
           "xaxis": {
            "backgroundcolor": "#E5ECF6",
            "gridcolor": "white",
            "gridwidth": 2,
            "linecolor": "white",
            "showbackground": true,
            "ticks": "",
            "zerolinecolor": "white"
           },
           "yaxis": {
            "backgroundcolor": "#E5ECF6",
            "gridcolor": "white",
            "gridwidth": 2,
            "linecolor": "white",
            "showbackground": true,
            "ticks": "",
            "zerolinecolor": "white"
           },
           "zaxis": {
            "backgroundcolor": "#E5ECF6",
            "gridcolor": "white",
            "gridwidth": 2,
            "linecolor": "white",
            "showbackground": true,
            "ticks": "",
            "zerolinecolor": "white"
           }
          },
          "shapedefaults": {
           "line": {
            "color": "#2a3f5f"
           }
          },
          "ternary": {
           "aaxis": {
            "gridcolor": "white",
            "linecolor": "white",
            "ticks": ""
           },
           "baxis": {
            "gridcolor": "white",
            "linecolor": "white",
            "ticks": ""
           },
           "bgcolor": "#E5ECF6",
           "caxis": {
            "gridcolor": "white",
            "linecolor": "white",
            "ticks": ""
           }
          },
          "title": {
           "x": 0.05
          },
          "xaxis": {
           "automargin": true,
           "gridcolor": "white",
           "linecolor": "white",
           "ticks": "",
           "title": {
            "standoff": 15
           },
           "zerolinecolor": "white",
           "zerolinewidth": 2
          },
          "yaxis": {
           "automargin": true,
           "gridcolor": "white",
           "linecolor": "white",
           "ticks": "",
           "title": {
            "standoff": 15
           },
           "zerolinecolor": "white",
           "zerolinewidth": 2
          }
         }
        },
        "title": {
         "font": {
          "color": "#4D5663"
         }
        },
        "xaxis": {
         "gridcolor": "#E1E5ED",
         "showgrid": true,
         "tickfont": {
          "color": "#4D5663"
         },
         "title": {
          "font": {
           "color": "#4D5663"
          },
          "text": ""
         },
         "zerolinecolor": "#E1E5ED"
        },
        "yaxis": {
         "gridcolor": "#E1E5ED",
         "showgrid": true,
         "tickfont": {
          "color": "#4D5663"
         },
         "title": {
          "font": {
           "color": "#4D5663"
          },
          "text": ""
         },
         "zerolinecolor": "#E1E5ED"
        }
       }
      },
      "text/html": [
       "<div>                            <div id=\"395228b7-b458-4a80-916b-53b97da6b9f1\" class=\"plotly-graph-div\" style=\"height:525px; width:100%;\"></div>            <script type=\"text/javascript\">                require([\"plotly\"], function(Plotly) {                    window.PLOTLYENV=window.PLOTLYENV || {};\n",
       "                    window.PLOTLYENV.BASE_URL='https://plot.ly';                                    if (document.getElementById(\"395228b7-b458-4a80-916b-53b97da6b9f1\")) {                    Plotly.newPlot(                        \"395228b7-b458-4a80-916b-53b97da6b9f1\",                        [{\"histfunc\": \"count\", \"histnorm\": \"\", \"marker\": {\"color\": \"rgba(255, 153, 51, 1.0)\", \"line\": {\"color\": \"#4D5663\", \"width\": 1.3}}, \"name\": \"A\", \"nbinsx\": 25, \"opacity\": 0.8, \"orientation\": \"v\", \"type\": \"histogram\", \"x\": [1.4231283587146955, 0.7516603116190158, -0.04069831395129999, 0.8494525246784042, 0.7977645931831729, -2.424491651018319, -1.2582093110568149, -0.15529258970936946, -0.45312148704220795, -2.2775610915462363, 0.1332429602222429, 0.3998857890171944, -0.14904950186615676, 1.1931908500642565, 0.783776424506487, -0.13860290912962892, 0.7664731049270755, -0.14547497275331425, -0.40802584839016576, 1.0711888545925605, -0.642313308372773, 0.049879911918071174, 1.8009405803668426, -1.469579438518773, 2.211475339175111, -0.38394754230209527, -0.8483588357454597, -0.4233808984906991, 0.8970171336936127, -0.46309218292344384, -1.540708272987029, -0.22011844093930893, 1.2626125439114022, -0.8599224592696124, 0.7620320340247184, 0.6063787747519568, -0.5021325565790095, -0.4042442991222263, 0.6378712352966499, -0.32475739002353093, -1.355471592482026, 0.8188916405081248, -0.7136407597534036, 1.4530169466066432, 0.12437035702819564, 0.34380998064207186, 0.3670261299236814, -0.7087328956200836, -1.258067366257801, 0.12928804837990635, -0.31603283402669446, 0.6408530470104912, 1.194512576723845, -1.5542148592170382, -0.3180623240226567, -0.26232905958765823, -2.5250678931764288, 0.03021518574286839, 0.8782566747525722, 0.06805291179027405, -0.7800434613277817, 0.30587770196971614, -1.527764831789569, -1.2455255738078197, 0.8708789079885804, -2.277781652216472, -0.961085083474282, 0.7480604179254391, -1.132740550097753, -0.21494270061498336, 0.26326840794947803, 1.9435527095905965, 0.6633014767479828, -0.33967376673719074, -1.0005256175729227, 1.033839740834173, -0.1344938358004172, -1.8377909653802171, 0.4862090693094273, 0.019117224110497474, 1.4381775613316357, 1.0022419802726958, 0.6177486704087491, 0.2238116198272653, -0.3792759330228207, 1.5642561450343315, -1.4797684734922998, 1.0732977102841788, -1.0993447775978227, 0.6133786466992118, -1.7069242684336634, 1.2751028892789205, 0.401432572330607, 0.8652760480066986, -0.019418977081185895, 0.9807867122167452, 1.6018808310985337, 0.13459144877490167, 0.9626180719042506, 0.9937757289990029]}],                        {\"barmode\": \"overlay\", \"legend\": {\"bgcolor\": \"#F5F6F9\", \"font\": {\"color\": \"#4D5663\"}}, \"paper_bgcolor\": \"#F5F6F9\", \"plot_bgcolor\": \"#F5F6F9\", \"template\": {\"data\": {\"bar\": [{\"error_x\": {\"color\": \"#2a3f5f\"}, \"error_y\": {\"color\": \"#2a3f5f\"}, \"marker\": {\"line\": {\"color\": \"#E5ECF6\", \"width\": 0.5}}, \"type\": \"bar\"}], \"barpolar\": [{\"marker\": {\"line\": {\"color\": \"#E5ECF6\", \"width\": 0.5}}, \"type\": \"barpolar\"}], \"carpet\": [{\"aaxis\": {\"endlinecolor\": \"#2a3f5f\", \"gridcolor\": \"white\", \"linecolor\": \"white\", \"minorgridcolor\": \"white\", \"startlinecolor\": \"#2a3f5f\"}, \"baxis\": {\"endlinecolor\": \"#2a3f5f\", \"gridcolor\": \"white\", \"linecolor\": \"white\", \"minorgridcolor\": \"white\", \"startlinecolor\": \"#2a3f5f\"}, \"type\": \"carpet\"}], \"choropleth\": [{\"colorbar\": {\"outlinewidth\": 0, \"ticks\": \"\"}, \"type\": \"choropleth\"}], \"contour\": [{\"colorbar\": {\"outlinewidth\": 0, \"ticks\": \"\"}, \"colorscale\": [[0.0, \"#0d0887\"], [0.1111111111111111, \"#46039f\"], [0.2222222222222222, \"#7201a8\"], [0.3333333333333333, \"#9c179e\"], [0.4444444444444444, \"#bd3786\"], [0.5555555555555556, \"#d8576b\"], [0.6666666666666666, \"#ed7953\"], [0.7777777777777778, \"#fb9f3a\"], [0.8888888888888888, \"#fdca26\"], [1.0, \"#f0f921\"]], \"type\": \"contour\"}], \"contourcarpet\": [{\"colorbar\": {\"outlinewidth\": 0, \"ticks\": \"\"}, \"type\": \"contourcarpet\"}], \"heatmap\": [{\"colorbar\": {\"outlinewidth\": 0, \"ticks\": \"\"}, \"colorscale\": [[0.0, \"#0d0887\"], [0.1111111111111111, \"#46039f\"], [0.2222222222222222, \"#7201a8\"], [0.3333333333333333, \"#9c179e\"], [0.4444444444444444, \"#bd3786\"], [0.5555555555555556, \"#d8576b\"], [0.6666666666666666, \"#ed7953\"], [0.7777777777777778, \"#fb9f3a\"], [0.8888888888888888, \"#fdca26\"], [1.0, \"#f0f921\"]], \"type\": \"heatmap\"}], \"heatmapgl\": [{\"colorbar\": {\"outlinewidth\": 0, \"ticks\": \"\"}, \"colorscale\": [[0.0, \"#0d0887\"], [0.1111111111111111, \"#46039f\"], [0.2222222222222222, \"#7201a8\"], [0.3333333333333333, \"#9c179e\"], [0.4444444444444444, \"#bd3786\"], [0.5555555555555556, \"#d8576b\"], [0.6666666666666666, \"#ed7953\"], [0.7777777777777778, \"#fb9f3a\"], [0.8888888888888888, \"#fdca26\"], [1.0, \"#f0f921\"]], \"type\": \"heatmapgl\"}], \"histogram\": [{\"marker\": {\"colorbar\": {\"outlinewidth\": 0, \"ticks\": \"\"}}, \"type\": \"histogram\"}], \"histogram2d\": [{\"colorbar\": {\"outlinewidth\": 0, \"ticks\": \"\"}, \"colorscale\": [[0.0, \"#0d0887\"], [0.1111111111111111, \"#46039f\"], [0.2222222222222222, \"#7201a8\"], [0.3333333333333333, \"#9c179e\"], [0.4444444444444444, \"#bd3786\"], [0.5555555555555556, \"#d8576b\"], [0.6666666666666666, \"#ed7953\"], [0.7777777777777778, \"#fb9f3a\"], [0.8888888888888888, \"#fdca26\"], [1.0, \"#f0f921\"]], \"type\": \"histogram2d\"}], \"histogram2dcontour\": [{\"colorbar\": {\"outlinewidth\": 0, \"ticks\": \"\"}, \"colorscale\": [[0.0, \"#0d0887\"], [0.1111111111111111, \"#46039f\"], [0.2222222222222222, \"#7201a8\"], [0.3333333333333333, \"#9c179e\"], [0.4444444444444444, \"#bd3786\"], [0.5555555555555556, \"#d8576b\"], [0.6666666666666666, \"#ed7953\"], [0.7777777777777778, \"#fb9f3a\"], [0.8888888888888888, \"#fdca26\"], [1.0, \"#f0f921\"]], \"type\": \"histogram2dcontour\"}], \"mesh3d\": [{\"colorbar\": {\"outlinewidth\": 0, \"ticks\": \"\"}, \"type\": \"mesh3d\"}], \"parcoords\": [{\"line\": {\"colorbar\": {\"outlinewidth\": 0, \"ticks\": \"\"}}, \"type\": \"parcoords\"}], \"pie\": [{\"automargin\": true, \"type\": \"pie\"}], \"scatter\": [{\"marker\": {\"colorbar\": {\"outlinewidth\": 0, \"ticks\": \"\"}}, \"type\": \"scatter\"}], \"scatter3d\": [{\"line\": {\"colorbar\": {\"outlinewidth\": 0, \"ticks\": \"\"}}, \"marker\": {\"colorbar\": {\"outlinewidth\": 0, \"ticks\": \"\"}}, \"type\": \"scatter3d\"}], \"scattercarpet\": [{\"marker\": {\"colorbar\": {\"outlinewidth\": 0, \"ticks\": \"\"}}, \"type\": \"scattercarpet\"}], \"scattergeo\": [{\"marker\": {\"colorbar\": {\"outlinewidth\": 0, \"ticks\": \"\"}}, \"type\": \"scattergeo\"}], \"scattergl\": [{\"marker\": {\"colorbar\": {\"outlinewidth\": 0, \"ticks\": \"\"}}, \"type\": \"scattergl\"}], \"scattermapbox\": [{\"marker\": {\"colorbar\": {\"outlinewidth\": 0, \"ticks\": \"\"}}, \"type\": \"scattermapbox\"}], \"scatterpolar\": [{\"marker\": {\"colorbar\": {\"outlinewidth\": 0, \"ticks\": \"\"}}, \"type\": \"scatterpolar\"}], \"scatterpolargl\": [{\"marker\": {\"colorbar\": {\"outlinewidth\": 0, \"ticks\": \"\"}}, \"type\": \"scatterpolargl\"}], \"scatterternary\": [{\"marker\": {\"colorbar\": {\"outlinewidth\": 0, \"ticks\": \"\"}}, \"type\": \"scatterternary\"}], \"surface\": [{\"colorbar\": {\"outlinewidth\": 0, \"ticks\": \"\"}, \"colorscale\": [[0.0, \"#0d0887\"], [0.1111111111111111, \"#46039f\"], [0.2222222222222222, \"#7201a8\"], [0.3333333333333333, \"#9c179e\"], [0.4444444444444444, \"#bd3786\"], [0.5555555555555556, \"#d8576b\"], [0.6666666666666666, \"#ed7953\"], [0.7777777777777778, \"#fb9f3a\"], [0.8888888888888888, \"#fdca26\"], [1.0, \"#f0f921\"]], \"type\": \"surface\"}], \"table\": [{\"cells\": {\"fill\": {\"color\": \"#EBF0F8\"}, \"line\": {\"color\": \"white\"}}, \"header\": {\"fill\": {\"color\": \"#C8D4E3\"}, \"line\": {\"color\": \"white\"}}, \"type\": \"table\"}]}, \"layout\": {\"annotationdefaults\": {\"arrowcolor\": \"#2a3f5f\", \"arrowhead\": 0, \"arrowwidth\": 1}, \"coloraxis\": {\"colorbar\": {\"outlinewidth\": 0, \"ticks\": \"\"}}, \"colorscale\": {\"diverging\": [[0, \"#8e0152\"], [0.1, \"#c51b7d\"], [0.2, \"#de77ae\"], [0.3, \"#f1b6da\"], [0.4, \"#fde0ef\"], [0.5, \"#f7f7f7\"], [0.6, \"#e6f5d0\"], [0.7, \"#b8e186\"], [0.8, \"#7fbc41\"], [0.9, \"#4d9221\"], [1, \"#276419\"]], \"sequential\": [[0.0, \"#0d0887\"], [0.1111111111111111, \"#46039f\"], [0.2222222222222222, \"#7201a8\"], [0.3333333333333333, \"#9c179e\"], [0.4444444444444444, \"#bd3786\"], [0.5555555555555556, \"#d8576b\"], [0.6666666666666666, \"#ed7953\"], [0.7777777777777778, \"#fb9f3a\"], [0.8888888888888888, \"#fdca26\"], [1.0, \"#f0f921\"]], \"sequentialminus\": [[0.0, \"#0d0887\"], [0.1111111111111111, \"#46039f\"], [0.2222222222222222, \"#7201a8\"], [0.3333333333333333, \"#9c179e\"], [0.4444444444444444, \"#bd3786\"], [0.5555555555555556, \"#d8576b\"], [0.6666666666666666, \"#ed7953\"], [0.7777777777777778, \"#fb9f3a\"], [0.8888888888888888, \"#fdca26\"], [1.0, \"#f0f921\"]]}, \"colorway\": [\"#636efa\", \"#EF553B\", \"#00cc96\", \"#ab63fa\", \"#FFA15A\", \"#19d3f3\", \"#FF6692\", \"#B6E880\", \"#FF97FF\", \"#FECB52\"], \"font\": {\"color\": \"#2a3f5f\"}, \"geo\": {\"bgcolor\": \"white\", \"lakecolor\": \"white\", \"landcolor\": \"#E5ECF6\", \"showlakes\": true, \"showland\": true, \"subunitcolor\": \"white\"}, \"hoverlabel\": {\"align\": \"left\"}, \"hovermode\": \"closest\", \"mapbox\": {\"style\": \"light\"}, \"paper_bgcolor\": \"white\", \"plot_bgcolor\": \"#E5ECF6\", \"polar\": {\"angularaxis\": {\"gridcolor\": \"white\", \"linecolor\": \"white\", \"ticks\": \"\"}, \"bgcolor\": \"#E5ECF6\", \"radialaxis\": {\"gridcolor\": \"white\", \"linecolor\": \"white\", \"ticks\": \"\"}}, \"scene\": {\"xaxis\": {\"backgroundcolor\": \"#E5ECF6\", \"gridcolor\": \"white\", \"gridwidth\": 2, \"linecolor\": \"white\", \"showbackground\": true, \"ticks\": \"\", \"zerolinecolor\": \"white\"}, \"yaxis\": {\"backgroundcolor\": \"#E5ECF6\", \"gridcolor\": \"white\", \"gridwidth\": 2, \"linecolor\": \"white\", \"showbackground\": true, \"ticks\": \"\", \"zerolinecolor\": \"white\"}, \"zaxis\": {\"backgroundcolor\": \"#E5ECF6\", \"gridcolor\": \"white\", \"gridwidth\": 2, \"linecolor\": \"white\", \"showbackground\": true, \"ticks\": \"\", \"zerolinecolor\": \"white\"}}, \"shapedefaults\": {\"line\": {\"color\": \"#2a3f5f\"}}, \"ternary\": {\"aaxis\": {\"gridcolor\": \"white\", \"linecolor\": \"white\", \"ticks\": \"\"}, \"baxis\": {\"gridcolor\": \"white\", \"linecolor\": \"white\", \"ticks\": \"\"}, \"bgcolor\": \"#E5ECF6\", \"caxis\": {\"gridcolor\": \"white\", \"linecolor\": \"white\", \"ticks\": \"\"}}, \"title\": {\"x\": 0.05}, \"xaxis\": {\"automargin\": true, \"gridcolor\": \"white\", \"linecolor\": \"white\", \"ticks\": \"\", \"title\": {\"standoff\": 15}, \"zerolinecolor\": \"white\", \"zerolinewidth\": 2}, \"yaxis\": {\"automargin\": true, \"gridcolor\": \"white\", \"linecolor\": \"white\", \"ticks\": \"\", \"title\": {\"standoff\": 15}, \"zerolinecolor\": \"white\", \"zerolinewidth\": 2}}}, \"title\": {\"font\": {\"color\": \"#4D5663\"}}, \"xaxis\": {\"gridcolor\": \"#E1E5ED\", \"showgrid\": true, \"tickfont\": {\"color\": \"#4D5663\"}, \"title\": {\"font\": {\"color\": \"#4D5663\"}, \"text\": \"\"}, \"zerolinecolor\": \"#E1E5ED\"}, \"yaxis\": {\"gridcolor\": \"#E1E5ED\", \"showgrid\": true, \"tickfont\": {\"color\": \"#4D5663\"}, \"title\": {\"font\": {\"color\": \"#4D5663\"}, \"text\": \"\"}, \"zerolinecolor\": \"#E1E5ED\"}},                        {\"showLink\": true, \"linkText\": \"Export to plot.ly\", \"plotlyServerURL\": \"https://plot.ly\", \"responsive\": true}                    ).then(function(){\n",
       "                            \n",
       "var gd = document.getElementById('395228b7-b458-4a80-916b-53b97da6b9f1');\n",
       "var x = new MutationObserver(function (mutations, observer) {{\n",
       "        var display = window.getComputedStyle(gd).display;\n",
       "        if (!display || display === 'none') {{\n",
       "            console.log([gd, 'removed!']);\n",
       "            Plotly.purge(gd);\n",
       "            observer.disconnect();\n",
       "        }}\n",
       "}});\n",
       "\n",
       "// Listen for the removal of the full notebook cells\n",
       "var notebookContainer = gd.closest('#notebook-container');\n",
       "if (notebookContainer) {{\n",
       "    x.observe(notebookContainer, {childList: true});\n",
       "}}\n",
       "\n",
       "// Listen for the clearing of the current output cell\n",
       "var outputEl = gd.closest('.output');\n",
       "if (outputEl) {{\n",
       "    x.observe(outputEl, {childList: true});\n",
       "}}\n",
       "\n",
       "                        })                };                });            </script>        </div>"
      ]
     },
     "metadata": {},
     "output_type": "display_data"
    }
   ],
   "source": [
    "df['A'].iplot(kind='hist',bins=25)"
   ]
  },
  {
   "cell_type": "code",
   "execution_count": 17,
   "metadata": {},
   "outputs": [
    {
     "data": {
      "application/vnd.plotly.v1+json": {
       "config": {
        "linkText": "Export to plot.ly",
        "plotlyServerURL": "https://plot.ly",
        "showLink": true
       },
       "data": [
        {
         "marker": {
          "color": [
           "rgb(255, 153, 51)",
           "rgb(55, 128, 191)",
           "rgb(50, 171, 96)",
           "rgb(128, 0, 128)",
           "rgb(219, 64, 82)",
           "rgb(0, 128, 128)",
           "rgb(255, 255, 51)",
           "rgb(128, 128, 0)",
           "rgb(251, 128, 114)",
           "rgb(128, 177, 211)"
          ],
          "line": {
           "width": 1.3
          },
          "size": [
           57,
           58,
           69,
           66,
           60,
           90,
           53,
           47,
           61,
           87,
           12,
           53,
           100,
           71,
           21,
           49,
           58,
           70,
           82,
           79,
           73,
           64,
           76,
           72,
           43,
           92,
           23,
           75,
           112,
           56,
           28,
           83,
           60,
           74,
           61,
           53,
           60,
           34,
           87,
           40,
           61,
           50,
           52,
           40,
           94,
           57,
           72,
           25,
           23,
           84,
           67,
           46,
           50,
           42,
           68,
           66,
           48,
           64,
           65,
           55,
           56,
           88,
           64,
           43,
           55,
           36,
           58,
           60,
           38,
           66,
           34,
           78,
           19,
           28,
           46,
           64,
           57,
           63,
           57,
           68,
           27,
           33,
           78,
           74,
           72,
           40,
           39,
           56,
           17,
           88,
           77,
           43,
           59,
           37,
           53,
           74,
           84,
           59,
           45,
           53
          ],
          "symbol": "circle"
         },
         "mode": "markers",
         "text": "",
         "type": "scatter",
         "x": [
          1.4231283587146955,
          0.7516603116190158,
          -0.04069831395129999,
          0.8494525246784042,
          0.7977645931831729,
          -2.424491651018319,
          -1.2582093110568149,
          -0.15529258970936946,
          -0.45312148704220795,
          -2.2775610915462363,
          0.1332429602222429,
          0.3998857890171944,
          -0.14904950186615676,
          1.1931908500642565,
          0.783776424506487,
          -0.13860290912962892,
          0.7664731049270755,
          -0.14547497275331425,
          -0.40802584839016576,
          1.0711888545925605,
          -0.642313308372773,
          0.049879911918071174,
          1.8009405803668426,
          -1.469579438518773,
          2.211475339175111,
          -0.38394754230209527,
          -0.8483588357454597,
          -0.4233808984906991,
          0.8970171336936127,
          -0.46309218292344384,
          -1.540708272987029,
          -0.22011844093930893,
          1.2626125439114022,
          -0.8599224592696124,
          0.7620320340247184,
          0.6063787747519568,
          -0.5021325565790095,
          -0.4042442991222263,
          0.6378712352966499,
          -0.32475739002353093,
          -1.355471592482026,
          0.8188916405081248,
          -0.7136407597534036,
          1.4530169466066432,
          0.12437035702819564,
          0.34380998064207186,
          0.3670261299236814,
          -0.7087328956200836,
          -1.258067366257801,
          0.12928804837990635,
          -0.31603283402669446,
          0.6408530470104912,
          1.194512576723845,
          -1.5542148592170382,
          -0.3180623240226567,
          -0.26232905958765823,
          -2.5250678931764288,
          0.03021518574286839,
          0.8782566747525722,
          0.06805291179027405,
          -0.7800434613277817,
          0.30587770196971614,
          -1.527764831789569,
          -1.2455255738078197,
          0.8708789079885804,
          -2.277781652216472,
          -0.961085083474282,
          0.7480604179254391,
          -1.132740550097753,
          -0.21494270061498336,
          0.26326840794947803,
          1.9435527095905965,
          0.6633014767479828,
          -0.33967376673719074,
          -1.0005256175729227,
          1.033839740834173,
          -0.1344938358004172,
          -1.8377909653802171,
          0.4862090693094273,
          0.019117224110497474,
          1.4381775613316357,
          1.0022419802726958,
          0.6177486704087491,
          0.2238116198272653,
          -0.3792759330228207,
          1.5642561450343315,
          -1.4797684734922998,
          1.0732977102841788,
          -1.0993447775978227,
          0.6133786466992118,
          -1.7069242684336634,
          1.2751028892789205,
          0.401432572330607,
          0.8652760480066986,
          -0.019418977081185895,
          0.9807867122167452,
          1.6018808310985337,
          0.13459144877490167,
          0.9626180719042506,
          0.9937757289990029
         ],
         "y": [
          -1.3159148036125334,
          -0.6711729334327814,
          0.938030616343648,
          -0.883172519923497,
          -1.1559543838137716,
          -0.21362938182096808,
          1.1865996630899105,
          -0.13503942410931474,
          0.702379722654413,
          2.1627358962212906,
          0.2707271260340421,
          -0.08373718813127257,
          -1.4246125339918407,
          0.19285853601533218,
          0.6007247164853516,
          -0.8692022129422258,
          0.101009847359833,
          1.446347405489576,
          1.4241402916808978,
          0.09233934005602447,
          2.1859187944191194,
          0.7649775110539025,
          0.6796053495705884,
          -0.554852071312288,
          1.1130260106970804,
          -1.5297190221801549,
          0.22693985504789704,
          -0.9814227313037053,
          1.3706959453569925,
          2.0683730411899925,
          0.4586619732815214,
          1.2190858388012593,
          -1.1004677584045799,
          -0.28434856410119347,
          0.2926406015415052,
          -0.4334229059903361,
          -1.4806843754448946,
          -0.9910248686250521,
          0.13800914672309186,
          -1.034345016229925,
          -1.3875499683950403,
          -0.2839718128545817,
          0.40723721037804944,
          1.2103459308374067,
          -0.6544666001268368,
          -1.323283032466016,
          -0.9338408253711902,
          -1.3657749261666121,
          -0.22670230951583553,
          1.673174411862094,
          -0.7392250392494247,
          -0.5977251424426647,
          -0.8798250439172343,
          0.848483523562618,
          -0.8373298454739747,
          -0.4928515836198017,
          0.7567630417126984,
          1.7191358646363109,
          1.9142309523473156,
          0.7116906418838965,
          -0.6317604607877776,
          -0.3603533087907271,
          0.06537406356420647,
          -0.2362899962772877,
          0.30910863432263014,
          -0.3106251550628561,
          -0.425735266645392,
          -0.16654657872439244,
          1.0279927804245697,
          0.6154531545225654,
          0.38133211748851936,
          0.7107218250480805,
          0.6169978660921006,
          0.35961602170113527,
          0.3529418612584008,
          -2.4210794154829363,
          0.21751336076725786,
          0.13751215145474693,
          1.8218497869401669,
          -1.026045419410824,
          -0.17358063387533523,
          -0.12941743078398793,
          -0.10898435004964954,
          -0.9815145765089636,
          -0.712956213176565,
          0.45861126534718105,
          -1.35549152949366,
          0.261728135661618,
          0.44365502505321674,
          -0.4299447790444871,
          1.4603204442829751,
          -2.77607709870146,
          -0.11281905305207801,
          0.4503284425976104,
          -0.6363703760997098,
          0.706131730762392,
          -0.5553440039407791,
          -0.5558337541696055,
          1.1021535193467047,
          -0.10646954349882545
         ]
        }
       ],
       "layout": {
        "legend": {
         "bgcolor": "#F5F6F9",
         "font": {
          "color": "#4D5663"
         }
        },
        "paper_bgcolor": "#F5F6F9",
        "plot_bgcolor": "#F5F6F9",
        "template": {
         "data": {
          "bar": [
           {
            "error_x": {
             "color": "#2a3f5f"
            },
            "error_y": {
             "color": "#2a3f5f"
            },
            "marker": {
             "line": {
              "color": "#E5ECF6",
              "width": 0.5
             }
            },
            "type": "bar"
           }
          ],
          "barpolar": [
           {
            "marker": {
             "line": {
              "color": "#E5ECF6",
              "width": 0.5
             }
            },
            "type": "barpolar"
           }
          ],
          "carpet": [
           {
            "aaxis": {
             "endlinecolor": "#2a3f5f",
             "gridcolor": "white",
             "linecolor": "white",
             "minorgridcolor": "white",
             "startlinecolor": "#2a3f5f"
            },
            "baxis": {
             "endlinecolor": "#2a3f5f",
             "gridcolor": "white",
             "linecolor": "white",
             "minorgridcolor": "white",
             "startlinecolor": "#2a3f5f"
            },
            "type": "carpet"
           }
          ],
          "choropleth": [
           {
            "colorbar": {
             "outlinewidth": 0,
             "ticks": ""
            },
            "type": "choropleth"
           }
          ],
          "contour": [
           {
            "colorbar": {
             "outlinewidth": 0,
             "ticks": ""
            },
            "colorscale": [
             [
              0,
              "#0d0887"
             ],
             [
              0.1111111111111111,
              "#46039f"
             ],
             [
              0.2222222222222222,
              "#7201a8"
             ],
             [
              0.3333333333333333,
              "#9c179e"
             ],
             [
              0.4444444444444444,
              "#bd3786"
             ],
             [
              0.5555555555555556,
              "#d8576b"
             ],
             [
              0.6666666666666666,
              "#ed7953"
             ],
             [
              0.7777777777777778,
              "#fb9f3a"
             ],
             [
              0.8888888888888888,
              "#fdca26"
             ],
             [
              1,
              "#f0f921"
             ]
            ],
            "type": "contour"
           }
          ],
          "contourcarpet": [
           {
            "colorbar": {
             "outlinewidth": 0,
             "ticks": ""
            },
            "type": "contourcarpet"
           }
          ],
          "heatmap": [
           {
            "colorbar": {
             "outlinewidth": 0,
             "ticks": ""
            },
            "colorscale": [
             [
              0,
              "#0d0887"
             ],
             [
              0.1111111111111111,
              "#46039f"
             ],
             [
              0.2222222222222222,
              "#7201a8"
             ],
             [
              0.3333333333333333,
              "#9c179e"
             ],
             [
              0.4444444444444444,
              "#bd3786"
             ],
             [
              0.5555555555555556,
              "#d8576b"
             ],
             [
              0.6666666666666666,
              "#ed7953"
             ],
             [
              0.7777777777777778,
              "#fb9f3a"
             ],
             [
              0.8888888888888888,
              "#fdca26"
             ],
             [
              1,
              "#f0f921"
             ]
            ],
            "type": "heatmap"
           }
          ],
          "heatmapgl": [
           {
            "colorbar": {
             "outlinewidth": 0,
             "ticks": ""
            },
            "colorscale": [
             [
              0,
              "#0d0887"
             ],
             [
              0.1111111111111111,
              "#46039f"
             ],
             [
              0.2222222222222222,
              "#7201a8"
             ],
             [
              0.3333333333333333,
              "#9c179e"
             ],
             [
              0.4444444444444444,
              "#bd3786"
             ],
             [
              0.5555555555555556,
              "#d8576b"
             ],
             [
              0.6666666666666666,
              "#ed7953"
             ],
             [
              0.7777777777777778,
              "#fb9f3a"
             ],
             [
              0.8888888888888888,
              "#fdca26"
             ],
             [
              1,
              "#f0f921"
             ]
            ],
            "type": "heatmapgl"
           }
          ],
          "histogram": [
           {
            "marker": {
             "colorbar": {
              "outlinewidth": 0,
              "ticks": ""
             }
            },
            "type": "histogram"
           }
          ],
          "histogram2d": [
           {
            "colorbar": {
             "outlinewidth": 0,
             "ticks": ""
            },
            "colorscale": [
             [
              0,
              "#0d0887"
             ],
             [
              0.1111111111111111,
              "#46039f"
             ],
             [
              0.2222222222222222,
              "#7201a8"
             ],
             [
              0.3333333333333333,
              "#9c179e"
             ],
             [
              0.4444444444444444,
              "#bd3786"
             ],
             [
              0.5555555555555556,
              "#d8576b"
             ],
             [
              0.6666666666666666,
              "#ed7953"
             ],
             [
              0.7777777777777778,
              "#fb9f3a"
             ],
             [
              0.8888888888888888,
              "#fdca26"
             ],
             [
              1,
              "#f0f921"
             ]
            ],
            "type": "histogram2d"
           }
          ],
          "histogram2dcontour": [
           {
            "colorbar": {
             "outlinewidth": 0,
             "ticks": ""
            },
            "colorscale": [
             [
              0,
              "#0d0887"
             ],
             [
              0.1111111111111111,
              "#46039f"
             ],
             [
              0.2222222222222222,
              "#7201a8"
             ],
             [
              0.3333333333333333,
              "#9c179e"
             ],
             [
              0.4444444444444444,
              "#bd3786"
             ],
             [
              0.5555555555555556,
              "#d8576b"
             ],
             [
              0.6666666666666666,
              "#ed7953"
             ],
             [
              0.7777777777777778,
              "#fb9f3a"
             ],
             [
              0.8888888888888888,
              "#fdca26"
             ],
             [
              1,
              "#f0f921"
             ]
            ],
            "type": "histogram2dcontour"
           }
          ],
          "mesh3d": [
           {
            "colorbar": {
             "outlinewidth": 0,
             "ticks": ""
            },
            "type": "mesh3d"
           }
          ],
          "parcoords": [
           {
            "line": {
             "colorbar": {
              "outlinewidth": 0,
              "ticks": ""
             }
            },
            "type": "parcoords"
           }
          ],
          "pie": [
           {
            "automargin": true,
            "type": "pie"
           }
          ],
          "scatter": [
           {
            "marker": {
             "colorbar": {
              "outlinewidth": 0,
              "ticks": ""
             }
            },
            "type": "scatter"
           }
          ],
          "scatter3d": [
           {
            "line": {
             "colorbar": {
              "outlinewidth": 0,
              "ticks": ""
             }
            },
            "marker": {
             "colorbar": {
              "outlinewidth": 0,
              "ticks": ""
             }
            },
            "type": "scatter3d"
           }
          ],
          "scattercarpet": [
           {
            "marker": {
             "colorbar": {
              "outlinewidth": 0,
              "ticks": ""
             }
            },
            "type": "scattercarpet"
           }
          ],
          "scattergeo": [
           {
            "marker": {
             "colorbar": {
              "outlinewidth": 0,
              "ticks": ""
             }
            },
            "type": "scattergeo"
           }
          ],
          "scattergl": [
           {
            "marker": {
             "colorbar": {
              "outlinewidth": 0,
              "ticks": ""
             }
            },
            "type": "scattergl"
           }
          ],
          "scattermapbox": [
           {
            "marker": {
             "colorbar": {
              "outlinewidth": 0,
              "ticks": ""
             }
            },
            "type": "scattermapbox"
           }
          ],
          "scatterpolar": [
           {
            "marker": {
             "colorbar": {
              "outlinewidth": 0,
              "ticks": ""
             }
            },
            "type": "scatterpolar"
           }
          ],
          "scatterpolargl": [
           {
            "marker": {
             "colorbar": {
              "outlinewidth": 0,
              "ticks": ""
             }
            },
            "type": "scatterpolargl"
           }
          ],
          "scatterternary": [
           {
            "marker": {
             "colorbar": {
              "outlinewidth": 0,
              "ticks": ""
             }
            },
            "type": "scatterternary"
           }
          ],
          "surface": [
           {
            "colorbar": {
             "outlinewidth": 0,
             "ticks": ""
            },
            "colorscale": [
             [
              0,
              "#0d0887"
             ],
             [
              0.1111111111111111,
              "#46039f"
             ],
             [
              0.2222222222222222,
              "#7201a8"
             ],
             [
              0.3333333333333333,
              "#9c179e"
             ],
             [
              0.4444444444444444,
              "#bd3786"
             ],
             [
              0.5555555555555556,
              "#d8576b"
             ],
             [
              0.6666666666666666,
              "#ed7953"
             ],
             [
              0.7777777777777778,
              "#fb9f3a"
             ],
             [
              0.8888888888888888,
              "#fdca26"
             ],
             [
              1,
              "#f0f921"
             ]
            ],
            "type": "surface"
           }
          ],
          "table": [
           {
            "cells": {
             "fill": {
              "color": "#EBF0F8"
             },
             "line": {
              "color": "white"
             }
            },
            "header": {
             "fill": {
              "color": "#C8D4E3"
             },
             "line": {
              "color": "white"
             }
            },
            "type": "table"
           }
          ]
         },
         "layout": {
          "annotationdefaults": {
           "arrowcolor": "#2a3f5f",
           "arrowhead": 0,
           "arrowwidth": 1
          },
          "coloraxis": {
           "colorbar": {
            "outlinewidth": 0,
            "ticks": ""
           }
          },
          "colorscale": {
           "diverging": [
            [
             0,
             "#8e0152"
            ],
            [
             0.1,
             "#c51b7d"
            ],
            [
             0.2,
             "#de77ae"
            ],
            [
             0.3,
             "#f1b6da"
            ],
            [
             0.4,
             "#fde0ef"
            ],
            [
             0.5,
             "#f7f7f7"
            ],
            [
             0.6,
             "#e6f5d0"
            ],
            [
             0.7,
             "#b8e186"
            ],
            [
             0.8,
             "#7fbc41"
            ],
            [
             0.9,
             "#4d9221"
            ],
            [
             1,
             "#276419"
            ]
           ],
           "sequential": [
            [
             0,
             "#0d0887"
            ],
            [
             0.1111111111111111,
             "#46039f"
            ],
            [
             0.2222222222222222,
             "#7201a8"
            ],
            [
             0.3333333333333333,
             "#9c179e"
            ],
            [
             0.4444444444444444,
             "#bd3786"
            ],
            [
             0.5555555555555556,
             "#d8576b"
            ],
            [
             0.6666666666666666,
             "#ed7953"
            ],
            [
             0.7777777777777778,
             "#fb9f3a"
            ],
            [
             0.8888888888888888,
             "#fdca26"
            ],
            [
             1,
             "#f0f921"
            ]
           ],
           "sequentialminus": [
            [
             0,
             "#0d0887"
            ],
            [
             0.1111111111111111,
             "#46039f"
            ],
            [
             0.2222222222222222,
             "#7201a8"
            ],
            [
             0.3333333333333333,
             "#9c179e"
            ],
            [
             0.4444444444444444,
             "#bd3786"
            ],
            [
             0.5555555555555556,
             "#d8576b"
            ],
            [
             0.6666666666666666,
             "#ed7953"
            ],
            [
             0.7777777777777778,
             "#fb9f3a"
            ],
            [
             0.8888888888888888,
             "#fdca26"
            ],
            [
             1,
             "#f0f921"
            ]
           ]
          },
          "colorway": [
           "#636efa",
           "#EF553B",
           "#00cc96",
           "#ab63fa",
           "#FFA15A",
           "#19d3f3",
           "#FF6692",
           "#B6E880",
           "#FF97FF",
           "#FECB52"
          ],
          "font": {
           "color": "#2a3f5f"
          },
          "geo": {
           "bgcolor": "white",
           "lakecolor": "white",
           "landcolor": "#E5ECF6",
           "showlakes": true,
           "showland": true,
           "subunitcolor": "white"
          },
          "hoverlabel": {
           "align": "left"
          },
          "hovermode": "closest",
          "mapbox": {
           "style": "light"
          },
          "paper_bgcolor": "white",
          "plot_bgcolor": "#E5ECF6",
          "polar": {
           "angularaxis": {
            "gridcolor": "white",
            "linecolor": "white",
            "ticks": ""
           },
           "bgcolor": "#E5ECF6",
           "radialaxis": {
            "gridcolor": "white",
            "linecolor": "white",
            "ticks": ""
           }
          },
          "scene": {
           "xaxis": {
            "backgroundcolor": "#E5ECF6",
            "gridcolor": "white",
            "gridwidth": 2,
            "linecolor": "white",
            "showbackground": true,
            "ticks": "",
            "zerolinecolor": "white"
           },
           "yaxis": {
            "backgroundcolor": "#E5ECF6",
            "gridcolor": "white",
            "gridwidth": 2,
            "linecolor": "white",
            "showbackground": true,
            "ticks": "",
            "zerolinecolor": "white"
           },
           "zaxis": {
            "backgroundcolor": "#E5ECF6",
            "gridcolor": "white",
            "gridwidth": 2,
            "linecolor": "white",
            "showbackground": true,
            "ticks": "",
            "zerolinecolor": "white"
           }
          },
          "shapedefaults": {
           "line": {
            "color": "#2a3f5f"
           }
          },
          "ternary": {
           "aaxis": {
            "gridcolor": "white",
            "linecolor": "white",
            "ticks": ""
           },
           "baxis": {
            "gridcolor": "white",
            "linecolor": "white",
            "ticks": ""
           },
           "bgcolor": "#E5ECF6",
           "caxis": {
            "gridcolor": "white",
            "linecolor": "white",
            "ticks": ""
           }
          },
          "title": {
           "x": 0.05
          },
          "xaxis": {
           "automargin": true,
           "gridcolor": "white",
           "linecolor": "white",
           "ticks": "",
           "title": {
            "standoff": 15
           },
           "zerolinecolor": "white",
           "zerolinewidth": 2
          },
          "yaxis": {
           "automargin": true,
           "gridcolor": "white",
           "linecolor": "white",
           "ticks": "",
           "title": {
            "standoff": 15
           },
           "zerolinecolor": "white",
           "zerolinewidth": 2
          }
         }
        },
        "title": {
         "font": {
          "color": "#4D5663"
         }
        },
        "xaxis": {
         "gridcolor": "#E1E5ED",
         "showgrid": true,
         "tickfont": {
          "color": "#4D5663"
         },
         "title": {
          "font": {
           "color": "#4D5663"
          },
          "text": ""
         },
         "zerolinecolor": "#E1E5ED"
        },
        "yaxis": {
         "gridcolor": "#E1E5ED",
         "showgrid": true,
         "tickfont": {
          "color": "#4D5663"
         },
         "title": {
          "font": {
           "color": "#4D5663"
          },
          "text": ""
         },
         "zerolinecolor": "#E1E5ED"
        }
       }
      },
      "text/html": [
       "<div>                            <div id=\"d6139490-a049-4843-86e9-c3126a90d1bd\" class=\"plotly-graph-div\" style=\"height:525px; width:100%;\"></div>            <script type=\"text/javascript\">                require([\"plotly\"], function(Plotly) {                    window.PLOTLYENV=window.PLOTLYENV || {};\n",
       "                    window.PLOTLYENV.BASE_URL='https://plot.ly';                                    if (document.getElementById(\"d6139490-a049-4843-86e9-c3126a90d1bd\")) {                    Plotly.newPlot(                        \"d6139490-a049-4843-86e9-c3126a90d1bd\",                        [{\"marker\": {\"color\": [\"rgb(255, 153, 51)\", \"rgb(55, 128, 191)\", \"rgb(50, 171, 96)\", \"rgb(128, 0, 128)\", \"rgb(219, 64, 82)\", \"rgb(0, 128, 128)\", \"rgb(255, 255, 51)\", \"rgb(128, 128, 0)\", \"rgb(251, 128, 114)\", \"rgb(128, 177, 211)\"], \"line\": {\"width\": 1.3}, \"size\": [57, 58, 69, 66, 60, 90, 53, 47, 61, 87, 12, 53, 100, 71, 21, 49, 58, 70, 82, 79, 73, 64, 76, 72, 43, 92, 23, 75, 112, 56, 28, 83, 60, 74, 61, 53, 60, 34, 87, 40, 61, 50, 52, 40, 94, 57, 72, 25, 23, 84, 67, 46, 50, 42, 68, 66, 48, 64, 65, 55, 56, 88, 64, 43, 55, 36, 58, 60, 38, 66, 34, 78, 19, 28, 46, 64, 57, 63, 57, 68, 27, 33, 78, 74, 72, 40, 39, 56, 17, 88, 77, 43, 59, 37, 53, 74, 84, 59, 45, 53], \"symbol\": \"circle\"}, \"mode\": \"markers\", \"text\": \"\", \"type\": \"scatter\", \"x\": [1.4231283587146955, 0.7516603116190158, -0.04069831395129999, 0.8494525246784042, 0.7977645931831729, -2.424491651018319, -1.2582093110568149, -0.15529258970936946, -0.45312148704220795, -2.2775610915462363, 0.1332429602222429, 0.3998857890171944, -0.14904950186615676, 1.1931908500642565, 0.783776424506487, -0.13860290912962892, 0.7664731049270755, -0.14547497275331425, -0.40802584839016576, 1.0711888545925605, -0.642313308372773, 0.049879911918071174, 1.8009405803668426, -1.469579438518773, 2.211475339175111, -0.38394754230209527, -0.8483588357454597, -0.4233808984906991, 0.8970171336936127, -0.46309218292344384, -1.540708272987029, -0.22011844093930893, 1.2626125439114022, -0.8599224592696124, 0.7620320340247184, 0.6063787747519568, -0.5021325565790095, -0.4042442991222263, 0.6378712352966499, -0.32475739002353093, -1.355471592482026, 0.8188916405081248, -0.7136407597534036, 1.4530169466066432, 0.12437035702819564, 0.34380998064207186, 0.3670261299236814, -0.7087328956200836, -1.258067366257801, 0.12928804837990635, -0.31603283402669446, 0.6408530470104912, 1.194512576723845, -1.5542148592170382, -0.3180623240226567, -0.26232905958765823, -2.5250678931764288, 0.03021518574286839, 0.8782566747525722, 0.06805291179027405, -0.7800434613277817, 0.30587770196971614, -1.527764831789569, -1.2455255738078197, 0.8708789079885804, -2.277781652216472, -0.961085083474282, 0.7480604179254391, -1.132740550097753, -0.21494270061498336, 0.26326840794947803, 1.9435527095905965, 0.6633014767479828, -0.33967376673719074, -1.0005256175729227, 1.033839740834173, -0.1344938358004172, -1.8377909653802171, 0.4862090693094273, 0.019117224110497474, 1.4381775613316357, 1.0022419802726958, 0.6177486704087491, 0.2238116198272653, -0.3792759330228207, 1.5642561450343315, -1.4797684734922998, 1.0732977102841788, -1.0993447775978227, 0.6133786466992118, -1.7069242684336634, 1.2751028892789205, 0.401432572330607, 0.8652760480066986, -0.019418977081185895, 0.9807867122167452, 1.6018808310985337, 0.13459144877490167, 0.9626180719042506, 0.9937757289990029], \"y\": [-1.3159148036125334, -0.6711729334327814, 0.938030616343648, -0.883172519923497, -1.1559543838137716, -0.21362938182096808, 1.1865996630899105, -0.13503942410931474, 0.702379722654413, 2.1627358962212906, 0.2707271260340421, -0.08373718813127257, -1.4246125339918407, 0.19285853601533218, 0.6007247164853516, -0.8692022129422258, 0.101009847359833, 1.446347405489576, 1.4241402916808978, 0.09233934005602447, 2.1859187944191194, 0.7649775110539025, 0.6796053495705884, -0.554852071312288, 1.1130260106970804, -1.5297190221801549, 0.22693985504789704, -0.9814227313037053, 1.3706959453569925, 2.0683730411899925, 0.4586619732815214, 1.2190858388012593, -1.1004677584045799, -0.28434856410119347, 0.2926406015415052, -0.4334229059903361, -1.4806843754448946, -0.9910248686250521, 0.13800914672309186, -1.034345016229925, -1.3875499683950403, -0.2839718128545817, 0.40723721037804944, 1.2103459308374067, -0.6544666001268368, -1.323283032466016, -0.9338408253711902, -1.3657749261666121, -0.22670230951583553, 1.673174411862094, -0.7392250392494247, -0.5977251424426647, -0.8798250439172343, 0.848483523562618, -0.8373298454739747, -0.4928515836198017, 0.7567630417126984, 1.7191358646363109, 1.9142309523473156, 0.7116906418838965, -0.6317604607877776, -0.3603533087907271, 0.06537406356420647, -0.2362899962772877, 0.30910863432263014, -0.3106251550628561, -0.425735266645392, -0.16654657872439244, 1.0279927804245697, 0.6154531545225654, 0.38133211748851936, 0.7107218250480805, 0.6169978660921006, 0.35961602170113527, 0.3529418612584008, -2.4210794154829363, 0.21751336076725786, 0.13751215145474693, 1.8218497869401669, -1.026045419410824, -0.17358063387533523, -0.12941743078398793, -0.10898435004964954, -0.9815145765089636, -0.712956213176565, 0.45861126534718105, -1.35549152949366, 0.261728135661618, 0.44365502505321674, -0.4299447790444871, 1.4603204442829751, -2.77607709870146, -0.11281905305207801, 0.4503284425976104, -0.6363703760997098, 0.706131730762392, -0.5553440039407791, -0.5558337541696055, 1.1021535193467047, -0.10646954349882545]}],                        {\"legend\": {\"bgcolor\": \"#F5F6F9\", \"font\": {\"color\": \"#4D5663\"}}, \"paper_bgcolor\": \"#F5F6F9\", \"plot_bgcolor\": \"#F5F6F9\", \"template\": {\"data\": {\"bar\": [{\"error_x\": {\"color\": \"#2a3f5f\"}, \"error_y\": {\"color\": \"#2a3f5f\"}, \"marker\": {\"line\": {\"color\": \"#E5ECF6\", \"width\": 0.5}}, \"type\": \"bar\"}], \"barpolar\": [{\"marker\": {\"line\": {\"color\": \"#E5ECF6\", \"width\": 0.5}}, \"type\": \"barpolar\"}], \"carpet\": [{\"aaxis\": {\"endlinecolor\": \"#2a3f5f\", \"gridcolor\": \"white\", \"linecolor\": \"white\", \"minorgridcolor\": \"white\", \"startlinecolor\": \"#2a3f5f\"}, \"baxis\": {\"endlinecolor\": \"#2a3f5f\", \"gridcolor\": \"white\", \"linecolor\": \"white\", \"minorgridcolor\": \"white\", \"startlinecolor\": \"#2a3f5f\"}, \"type\": \"carpet\"}], \"choropleth\": [{\"colorbar\": {\"outlinewidth\": 0, \"ticks\": \"\"}, \"type\": \"choropleth\"}], \"contour\": [{\"colorbar\": {\"outlinewidth\": 0, \"ticks\": \"\"}, \"colorscale\": [[0.0, \"#0d0887\"], [0.1111111111111111, \"#46039f\"], [0.2222222222222222, \"#7201a8\"], [0.3333333333333333, \"#9c179e\"], [0.4444444444444444, \"#bd3786\"], [0.5555555555555556, \"#d8576b\"], [0.6666666666666666, \"#ed7953\"], [0.7777777777777778, \"#fb9f3a\"], [0.8888888888888888, \"#fdca26\"], [1.0, \"#f0f921\"]], \"type\": \"contour\"}], \"contourcarpet\": [{\"colorbar\": {\"outlinewidth\": 0, \"ticks\": \"\"}, \"type\": \"contourcarpet\"}], \"heatmap\": [{\"colorbar\": {\"outlinewidth\": 0, \"ticks\": \"\"}, \"colorscale\": [[0.0, \"#0d0887\"], [0.1111111111111111, \"#46039f\"], [0.2222222222222222, \"#7201a8\"], [0.3333333333333333, \"#9c179e\"], [0.4444444444444444, \"#bd3786\"], [0.5555555555555556, \"#d8576b\"], [0.6666666666666666, \"#ed7953\"], [0.7777777777777778, \"#fb9f3a\"], [0.8888888888888888, \"#fdca26\"], [1.0, \"#f0f921\"]], \"type\": \"heatmap\"}], \"heatmapgl\": [{\"colorbar\": {\"outlinewidth\": 0, \"ticks\": \"\"}, \"colorscale\": [[0.0, \"#0d0887\"], [0.1111111111111111, \"#46039f\"], [0.2222222222222222, \"#7201a8\"], [0.3333333333333333, \"#9c179e\"], [0.4444444444444444, \"#bd3786\"], [0.5555555555555556, \"#d8576b\"], [0.6666666666666666, \"#ed7953\"], [0.7777777777777778, \"#fb9f3a\"], [0.8888888888888888, \"#fdca26\"], [1.0, \"#f0f921\"]], \"type\": \"heatmapgl\"}], \"histogram\": [{\"marker\": {\"colorbar\": {\"outlinewidth\": 0, \"ticks\": \"\"}}, \"type\": \"histogram\"}], \"histogram2d\": [{\"colorbar\": {\"outlinewidth\": 0, \"ticks\": \"\"}, \"colorscale\": [[0.0, \"#0d0887\"], [0.1111111111111111, \"#46039f\"], [0.2222222222222222, \"#7201a8\"], [0.3333333333333333, \"#9c179e\"], [0.4444444444444444, \"#bd3786\"], [0.5555555555555556, \"#d8576b\"], [0.6666666666666666, \"#ed7953\"], [0.7777777777777778, \"#fb9f3a\"], [0.8888888888888888, \"#fdca26\"], [1.0, \"#f0f921\"]], \"type\": \"histogram2d\"}], \"histogram2dcontour\": [{\"colorbar\": {\"outlinewidth\": 0, \"ticks\": \"\"}, \"colorscale\": [[0.0, \"#0d0887\"], [0.1111111111111111, \"#46039f\"], [0.2222222222222222, \"#7201a8\"], [0.3333333333333333, \"#9c179e\"], [0.4444444444444444, \"#bd3786\"], [0.5555555555555556, \"#d8576b\"], [0.6666666666666666, \"#ed7953\"], [0.7777777777777778, \"#fb9f3a\"], [0.8888888888888888, \"#fdca26\"], [1.0, \"#f0f921\"]], \"type\": \"histogram2dcontour\"}], \"mesh3d\": [{\"colorbar\": {\"outlinewidth\": 0, \"ticks\": \"\"}, \"type\": \"mesh3d\"}], \"parcoords\": [{\"line\": {\"colorbar\": {\"outlinewidth\": 0, \"ticks\": \"\"}}, \"type\": \"parcoords\"}], \"pie\": [{\"automargin\": true, \"type\": \"pie\"}], \"scatter\": [{\"marker\": {\"colorbar\": {\"outlinewidth\": 0, \"ticks\": \"\"}}, \"type\": \"scatter\"}], \"scatter3d\": [{\"line\": {\"colorbar\": {\"outlinewidth\": 0, \"ticks\": \"\"}}, \"marker\": {\"colorbar\": {\"outlinewidth\": 0, \"ticks\": \"\"}}, \"type\": \"scatter3d\"}], \"scattercarpet\": [{\"marker\": {\"colorbar\": {\"outlinewidth\": 0, \"ticks\": \"\"}}, \"type\": \"scattercarpet\"}], \"scattergeo\": [{\"marker\": {\"colorbar\": {\"outlinewidth\": 0, \"ticks\": \"\"}}, \"type\": \"scattergeo\"}], \"scattergl\": [{\"marker\": {\"colorbar\": {\"outlinewidth\": 0, \"ticks\": \"\"}}, \"type\": \"scattergl\"}], \"scattermapbox\": [{\"marker\": {\"colorbar\": {\"outlinewidth\": 0, \"ticks\": \"\"}}, \"type\": \"scattermapbox\"}], \"scatterpolar\": [{\"marker\": {\"colorbar\": {\"outlinewidth\": 0, \"ticks\": \"\"}}, \"type\": \"scatterpolar\"}], \"scatterpolargl\": [{\"marker\": {\"colorbar\": {\"outlinewidth\": 0, \"ticks\": \"\"}}, \"type\": \"scatterpolargl\"}], \"scatterternary\": [{\"marker\": {\"colorbar\": {\"outlinewidth\": 0, \"ticks\": \"\"}}, \"type\": \"scatterternary\"}], \"surface\": [{\"colorbar\": {\"outlinewidth\": 0, \"ticks\": \"\"}, \"colorscale\": [[0.0, \"#0d0887\"], [0.1111111111111111, \"#46039f\"], [0.2222222222222222, \"#7201a8\"], [0.3333333333333333, \"#9c179e\"], [0.4444444444444444, \"#bd3786\"], [0.5555555555555556, \"#d8576b\"], [0.6666666666666666, \"#ed7953\"], [0.7777777777777778, \"#fb9f3a\"], [0.8888888888888888, \"#fdca26\"], [1.0, \"#f0f921\"]], \"type\": \"surface\"}], \"table\": [{\"cells\": {\"fill\": {\"color\": \"#EBF0F8\"}, \"line\": {\"color\": \"white\"}}, \"header\": {\"fill\": {\"color\": \"#C8D4E3\"}, \"line\": {\"color\": \"white\"}}, \"type\": \"table\"}]}, \"layout\": {\"annotationdefaults\": {\"arrowcolor\": \"#2a3f5f\", \"arrowhead\": 0, \"arrowwidth\": 1}, \"coloraxis\": {\"colorbar\": {\"outlinewidth\": 0, \"ticks\": \"\"}}, \"colorscale\": {\"diverging\": [[0, \"#8e0152\"], [0.1, \"#c51b7d\"], [0.2, \"#de77ae\"], [0.3, \"#f1b6da\"], [0.4, \"#fde0ef\"], [0.5, \"#f7f7f7\"], [0.6, \"#e6f5d0\"], [0.7, \"#b8e186\"], [0.8, \"#7fbc41\"], [0.9, \"#4d9221\"], [1, \"#276419\"]], \"sequential\": [[0.0, \"#0d0887\"], [0.1111111111111111, \"#46039f\"], [0.2222222222222222, \"#7201a8\"], [0.3333333333333333, \"#9c179e\"], [0.4444444444444444, \"#bd3786\"], [0.5555555555555556, \"#d8576b\"], [0.6666666666666666, \"#ed7953\"], [0.7777777777777778, \"#fb9f3a\"], [0.8888888888888888, \"#fdca26\"], [1.0, \"#f0f921\"]], \"sequentialminus\": [[0.0, \"#0d0887\"], [0.1111111111111111, \"#46039f\"], [0.2222222222222222, \"#7201a8\"], [0.3333333333333333, \"#9c179e\"], [0.4444444444444444, \"#bd3786\"], [0.5555555555555556, \"#d8576b\"], [0.6666666666666666, \"#ed7953\"], [0.7777777777777778, \"#fb9f3a\"], [0.8888888888888888, \"#fdca26\"], [1.0, \"#f0f921\"]]}, \"colorway\": [\"#636efa\", \"#EF553B\", \"#00cc96\", \"#ab63fa\", \"#FFA15A\", \"#19d3f3\", \"#FF6692\", \"#B6E880\", \"#FF97FF\", \"#FECB52\"], \"font\": {\"color\": \"#2a3f5f\"}, \"geo\": {\"bgcolor\": \"white\", \"lakecolor\": \"white\", \"landcolor\": \"#E5ECF6\", \"showlakes\": true, \"showland\": true, \"subunitcolor\": \"white\"}, \"hoverlabel\": {\"align\": \"left\"}, \"hovermode\": \"closest\", \"mapbox\": {\"style\": \"light\"}, \"paper_bgcolor\": \"white\", \"plot_bgcolor\": \"#E5ECF6\", \"polar\": {\"angularaxis\": {\"gridcolor\": \"white\", \"linecolor\": \"white\", \"ticks\": \"\"}, \"bgcolor\": \"#E5ECF6\", \"radialaxis\": {\"gridcolor\": \"white\", \"linecolor\": \"white\", \"ticks\": \"\"}}, \"scene\": {\"xaxis\": {\"backgroundcolor\": \"#E5ECF6\", \"gridcolor\": \"white\", \"gridwidth\": 2, \"linecolor\": \"white\", \"showbackground\": true, \"ticks\": \"\", \"zerolinecolor\": \"white\"}, \"yaxis\": {\"backgroundcolor\": \"#E5ECF6\", \"gridcolor\": \"white\", \"gridwidth\": 2, \"linecolor\": \"white\", \"showbackground\": true, \"ticks\": \"\", \"zerolinecolor\": \"white\"}, \"zaxis\": {\"backgroundcolor\": \"#E5ECF6\", \"gridcolor\": \"white\", \"gridwidth\": 2, \"linecolor\": \"white\", \"showbackground\": true, \"ticks\": \"\", \"zerolinecolor\": \"white\"}}, \"shapedefaults\": {\"line\": {\"color\": \"#2a3f5f\"}}, \"ternary\": {\"aaxis\": {\"gridcolor\": \"white\", \"linecolor\": \"white\", \"ticks\": \"\"}, \"baxis\": {\"gridcolor\": \"white\", \"linecolor\": \"white\", \"ticks\": \"\"}, \"bgcolor\": \"#E5ECF6\", \"caxis\": {\"gridcolor\": \"white\", \"linecolor\": \"white\", \"ticks\": \"\"}}, \"title\": {\"x\": 0.05}, \"xaxis\": {\"automargin\": true, \"gridcolor\": \"white\", \"linecolor\": \"white\", \"ticks\": \"\", \"title\": {\"standoff\": 15}, \"zerolinecolor\": \"white\", \"zerolinewidth\": 2}, \"yaxis\": {\"automargin\": true, \"gridcolor\": \"white\", \"linecolor\": \"white\", \"ticks\": \"\", \"title\": {\"standoff\": 15}, \"zerolinecolor\": \"white\", \"zerolinewidth\": 2}}}, \"title\": {\"font\": {\"color\": \"#4D5663\"}}, \"xaxis\": {\"gridcolor\": \"#E1E5ED\", \"showgrid\": true, \"tickfont\": {\"color\": \"#4D5663\"}, \"title\": {\"font\": {\"color\": \"#4D5663\"}, \"text\": \"\"}, \"zerolinecolor\": \"#E1E5ED\"}, \"yaxis\": {\"gridcolor\": \"#E1E5ED\", \"showgrid\": true, \"tickfont\": {\"color\": \"#4D5663\"}, \"title\": {\"font\": {\"color\": \"#4D5663\"}, \"text\": \"\"}, \"zerolinecolor\": \"#E1E5ED\"}},                        {\"showLink\": true, \"linkText\": \"Export to plot.ly\", \"plotlyServerURL\": \"https://plot.ly\", \"responsive\": true}                    ).then(function(){\n",
       "                            \n",
       "var gd = document.getElementById('d6139490-a049-4843-86e9-c3126a90d1bd');\n",
       "var x = new MutationObserver(function (mutations, observer) {{\n",
       "        var display = window.getComputedStyle(gd).display;\n",
       "        if (!display || display === 'none') {{\n",
       "            console.log([gd, 'removed!']);\n",
       "            Plotly.purge(gd);\n",
       "            observer.disconnect();\n",
       "        }}\n",
       "}});\n",
       "\n",
       "// Listen for the removal of the full notebook cells\n",
       "var notebookContainer = gd.closest('#notebook-container');\n",
       "if (notebookContainer) {{\n",
       "    x.observe(notebookContainer, {childList: true});\n",
       "}}\n",
       "\n",
       "// Listen for the clearing of the current output cell\n",
       "var outputEl = gd.closest('.output');\n",
       "if (outputEl) {{\n",
       "    x.observe(outputEl, {childList: true});\n",
       "}}\n",
       "\n",
       "                        })                };                });            </script>        </div>"
      ]
     },
     "metadata": {},
     "output_type": "display_data"
    }
   ],
   "source": [
    "df.iplot(kind='bubble',x='A',y='B',size='C')"
   ]
  },
  {
   "cell_type": "markdown",
   "metadata": {},
   "source": [
    "## scatter_matrix()\n",
    "\n",
    "Similar to sns.pairplot()"
   ]
  },
  {
   "cell_type": "code",
   "execution_count": 18,
   "metadata": {},
   "outputs": [
    {
     "data": {
      "application/vnd.plotly.v1+json": {
       "config": {
        "linkText": "Export to plot.ly",
        "plotlyServerURL": "https://plot.ly",
        "showLink": true
       },
       "data": [
        {
         "histfunc": "count",
         "histnorm": "",
         "marker": {
          "color": "rgba(255, 153, 51, 1.0)",
          "line": {
           "color": "#4D5663",
           "width": 1.3
          }
         },
         "name": "A",
         "nbinsx": 10,
         "opacity": 0.8,
         "orientation": "v",
         "type": "histogram",
         "x": [
          1.4231283587146955,
          0.7516603116190158,
          -0.04069831395129999,
          0.8494525246784042,
          0.7977645931831729,
          -2.424491651018319,
          -1.2582093110568149,
          -0.15529258970936946,
          -0.45312148704220795,
          -2.2775610915462363,
          0.1332429602222429,
          0.3998857890171944,
          -0.14904950186615676,
          1.1931908500642565,
          0.783776424506487,
          -0.13860290912962892,
          0.7664731049270755,
          -0.14547497275331425,
          -0.40802584839016576,
          1.0711888545925605,
          -0.642313308372773,
          0.049879911918071174,
          1.8009405803668426,
          -1.469579438518773,
          2.211475339175111,
          -0.38394754230209527,
          -0.8483588357454597,
          -0.4233808984906991,
          0.8970171336936127,
          -0.46309218292344384,
          -1.540708272987029,
          -0.22011844093930893,
          1.2626125439114022,
          -0.8599224592696124,
          0.7620320340247184,
          0.6063787747519568,
          -0.5021325565790095,
          -0.4042442991222263,
          0.6378712352966499,
          -0.32475739002353093,
          -1.355471592482026,
          0.8188916405081248,
          -0.7136407597534036,
          1.4530169466066432,
          0.12437035702819564,
          0.34380998064207186,
          0.3670261299236814,
          -0.7087328956200836,
          -1.258067366257801,
          0.12928804837990635,
          -0.31603283402669446,
          0.6408530470104912,
          1.194512576723845,
          -1.5542148592170382,
          -0.3180623240226567,
          -0.26232905958765823,
          -2.5250678931764288,
          0.03021518574286839,
          0.8782566747525722,
          0.06805291179027405,
          -0.7800434613277817,
          0.30587770196971614,
          -1.527764831789569,
          -1.2455255738078197,
          0.8708789079885804,
          -2.277781652216472,
          -0.961085083474282,
          0.7480604179254391,
          -1.132740550097753,
          -0.21494270061498336,
          0.26326840794947803,
          1.9435527095905965,
          0.6633014767479828,
          -0.33967376673719074,
          -1.0005256175729227,
          1.033839740834173,
          -0.1344938358004172,
          -1.8377909653802171,
          0.4862090693094273,
          0.019117224110497474,
          1.4381775613316357,
          1.0022419802726958,
          0.6177486704087491,
          0.2238116198272653,
          -0.3792759330228207,
          1.5642561450343315,
          -1.4797684734922998,
          1.0732977102841788,
          -1.0993447775978227,
          0.6133786466992118,
          -1.7069242684336634,
          1.2751028892789205,
          0.401432572330607,
          0.8652760480066986,
          -0.019418977081185895,
          0.9807867122167452,
          1.6018808310985337,
          0.13459144877490167,
          0.9626180719042506,
          0.9937757289990029
         ],
         "xaxis": "x",
         "yaxis": "y"
        },
        {
         "line": {
          "color": "rgba(128, 128, 128, 1.0)",
          "dash": "solid",
          "shape": "linear",
          "width": 1.3
         },
         "marker": {
          "size": 2,
          "symbol": "circle"
         },
         "mode": "markers",
         "name": "A",
         "text": "",
         "type": "scatter",
         "x": [
          -1.3159148036125334,
          -0.6711729334327814,
          0.938030616343648,
          -0.883172519923497,
          -1.1559543838137716,
          -0.21362938182096808,
          1.1865996630899105,
          -0.13503942410931474,
          0.702379722654413,
          2.1627358962212906,
          0.2707271260340421,
          -0.08373718813127257,
          -1.4246125339918407,
          0.19285853601533218,
          0.6007247164853516,
          -0.8692022129422258,
          0.101009847359833,
          1.446347405489576,
          1.4241402916808978,
          0.09233934005602447,
          2.1859187944191194,
          0.7649775110539025,
          0.6796053495705884,
          -0.554852071312288,
          1.1130260106970804,
          -1.5297190221801549,
          0.22693985504789704,
          -0.9814227313037053,
          1.3706959453569925,
          2.0683730411899925,
          0.4586619732815214,
          1.2190858388012593,
          -1.1004677584045799,
          -0.28434856410119347,
          0.2926406015415052,
          -0.4334229059903361,
          -1.4806843754448946,
          -0.9910248686250521,
          0.13800914672309186,
          -1.034345016229925,
          -1.3875499683950403,
          -0.2839718128545817,
          0.40723721037804944,
          1.2103459308374067,
          -0.6544666001268368,
          -1.323283032466016,
          -0.9338408253711902,
          -1.3657749261666121,
          -0.22670230951583553,
          1.673174411862094,
          -0.7392250392494247,
          -0.5977251424426647,
          -0.8798250439172343,
          0.848483523562618,
          -0.8373298454739747,
          -0.4928515836198017,
          0.7567630417126984,
          1.7191358646363109,
          1.9142309523473156,
          0.7116906418838965,
          -0.6317604607877776,
          -0.3603533087907271,
          0.06537406356420647,
          -0.2362899962772877,
          0.30910863432263014,
          -0.3106251550628561,
          -0.425735266645392,
          -0.16654657872439244,
          1.0279927804245697,
          0.6154531545225654,
          0.38133211748851936,
          0.7107218250480805,
          0.6169978660921006,
          0.35961602170113527,
          0.3529418612584008,
          -2.4210794154829363,
          0.21751336076725786,
          0.13751215145474693,
          1.8218497869401669,
          -1.026045419410824,
          -0.17358063387533523,
          -0.12941743078398793,
          -0.10898435004964954,
          -0.9815145765089636,
          -0.712956213176565,
          0.45861126534718105,
          -1.35549152949366,
          0.261728135661618,
          0.44365502505321674,
          -0.4299447790444871,
          1.4603204442829751,
          -2.77607709870146,
          -0.11281905305207801,
          0.4503284425976104,
          -0.6363703760997098,
          0.706131730762392,
          -0.5553440039407791,
          -0.5558337541696055,
          1.1021535193467047,
          -0.10646954349882545
         ],
         "xaxis": "x2",
         "y": [
          1.4231283587146955,
          0.7516603116190158,
          -0.04069831395129999,
          0.8494525246784042,
          0.7977645931831729,
          -2.424491651018319,
          -1.2582093110568149,
          -0.15529258970936946,
          -0.45312148704220795,
          -2.2775610915462363,
          0.1332429602222429,
          0.3998857890171944,
          -0.14904950186615676,
          1.1931908500642565,
          0.783776424506487,
          -0.13860290912962892,
          0.7664731049270755,
          -0.14547497275331425,
          -0.40802584839016576,
          1.0711888545925605,
          -0.642313308372773,
          0.049879911918071174,
          1.8009405803668426,
          -1.469579438518773,
          2.211475339175111,
          -0.38394754230209527,
          -0.8483588357454597,
          -0.4233808984906991,
          0.8970171336936127,
          -0.46309218292344384,
          -1.540708272987029,
          -0.22011844093930893,
          1.2626125439114022,
          -0.8599224592696124,
          0.7620320340247184,
          0.6063787747519568,
          -0.5021325565790095,
          -0.4042442991222263,
          0.6378712352966499,
          -0.32475739002353093,
          -1.355471592482026,
          0.8188916405081248,
          -0.7136407597534036,
          1.4530169466066432,
          0.12437035702819564,
          0.34380998064207186,
          0.3670261299236814,
          -0.7087328956200836,
          -1.258067366257801,
          0.12928804837990635,
          -0.31603283402669446,
          0.6408530470104912,
          1.194512576723845,
          -1.5542148592170382,
          -0.3180623240226567,
          -0.26232905958765823,
          -2.5250678931764288,
          0.03021518574286839,
          0.8782566747525722,
          0.06805291179027405,
          -0.7800434613277817,
          0.30587770196971614,
          -1.527764831789569,
          -1.2455255738078197,
          0.8708789079885804,
          -2.277781652216472,
          -0.961085083474282,
          0.7480604179254391,
          -1.132740550097753,
          -0.21494270061498336,
          0.26326840794947803,
          1.9435527095905965,
          0.6633014767479828,
          -0.33967376673719074,
          -1.0005256175729227,
          1.033839740834173,
          -0.1344938358004172,
          -1.8377909653802171,
          0.4862090693094273,
          0.019117224110497474,
          1.4381775613316357,
          1.0022419802726958,
          0.6177486704087491,
          0.2238116198272653,
          -0.3792759330228207,
          1.5642561450343315,
          -1.4797684734922998,
          1.0732977102841788,
          -1.0993447775978227,
          0.6133786466992118,
          -1.7069242684336634,
          1.2751028892789205,
          0.401432572330607,
          0.8652760480066986,
          -0.019418977081185895,
          0.9807867122167452,
          1.6018808310985337,
          0.13459144877490167,
          0.9626180719042506,
          0.9937757289990029
         ],
         "yaxis": "y2"
        },
        {
         "line": {
          "color": "rgba(128, 128, 128, 1.0)",
          "dash": "solid",
          "shape": "linear",
          "width": 1.3
         },
         "marker": {
          "size": 2,
          "symbol": "circle"
         },
         "mode": "markers",
         "name": "A",
         "text": "",
         "type": "scatter",
         "x": [
          -0.13237579222541013,
          -0.052347829704393126,
          0.4692526299940617,
          0.31613759897620036,
          0.038077627669812375,
          1.5011192659797281,
          -0.29842974623082363,
          -0.6135580924459909,
          0.06592428522592648,
          1.3603710179272264,
          -2.3409190663165464,
          -0.2889958922051712,
          1.978389322463096,
          0.5813553904840633,
          -1.888732642009797,
          -0.5018245258341147,
          -0.0489213899629533,
          0.5371642503245256,
          1.1016891114589598,
          0.9666620958063254,
          0.694573206426251,
          0.2478258235386552,
          0.8195615195552352,
          0.6205339681382519,
          -0.8050729161790104,
          1.6231169796230278,
          -1.7579390663376324,
          0.7523004931694655,
          2.5550957009229145,
          -0.16043494088364257,
          -1.5126796219247454,
          1.1408972343680064,
          0.029819705381316952,
          0.7312165813450313,
          0.07373317269178083,
          -0.2849716167860715,
          0.023478680449609938,
          -1.2236177266917754,
          1.3666823261506365,
          -0.9286665847654201,
          0.10599810305490082,
          -0.43841601974518873,
          -0.353627868945709,
          -0.9318346325943048,
          1.7066007515376558,
          -0.11443002079209948,
          0.611898576384863,
          -1.6980193319777221,
          -1.7557760172017405,
          1.1859346187066266,
          0.35278967968166297,
          -0.6625442040702696,
          -0.4316534763318296,
          -0.8553573752349162,
          0.419361435533611,
          0.3050586495992559,
          -0.5654831979495469,
          0.23505406461487433,
          0.2824194464623127,
          -0.23280675726503214,
          -0.18403686480620848,
          1.3806881575057637,
          0.22839093562968843,
          -0.7779119845767521,
          -0.212027223863369,
          -1.1557481827178329,
          -0.08080240184313331,
          0.019360151832484428,
          -1.059697548621927,
          0.33387705641420945,
          -1.2637904918675884,
          0.8925279544822788,
          -1.967577246484591,
          -1.5402676423006545,
          -0.6636279606621213,
          0.20823708740936742,
          -0.11780854016506509,
          0.1645481697701134,
          -0.09450343044520912,
          0.43063323328726044,
          -1.5621942064559213,
          -1.278464936613575,
          0.9229912359708183,
          0.6992700227549166,
          0.6040142131825644,
          -0.9377269609438603,
          -1.0082577364982552,
          -0.13914798114251678,
          -2.0678577173120836,
          1.4000324476157366,
          0.8889606602303802,
          -0.8135337263237251,
          -0.01290035882819455,
          -1.0931618685607598,
          -0.29562697230604573,
          0.7013912694029035,
          1.2202457243437268,
          -0.03618334178095662,
          -0.6835029620743883,
          -0.31693575222433584
         ],
         "xaxis": "x3",
         "y": [
          1.4231283587146955,
          0.7516603116190158,
          -0.04069831395129999,
          0.8494525246784042,
          0.7977645931831729,
          -2.424491651018319,
          -1.2582093110568149,
          -0.15529258970936946,
          -0.45312148704220795,
          -2.2775610915462363,
          0.1332429602222429,
          0.3998857890171944,
          -0.14904950186615676,
          1.1931908500642565,
          0.783776424506487,
          -0.13860290912962892,
          0.7664731049270755,
          -0.14547497275331425,
          -0.40802584839016576,
          1.0711888545925605,
          -0.642313308372773,
          0.049879911918071174,
          1.8009405803668426,
          -1.469579438518773,
          2.211475339175111,
          -0.38394754230209527,
          -0.8483588357454597,
          -0.4233808984906991,
          0.8970171336936127,
          -0.46309218292344384,
          -1.540708272987029,
          -0.22011844093930893,
          1.2626125439114022,
          -0.8599224592696124,
          0.7620320340247184,
          0.6063787747519568,
          -0.5021325565790095,
          -0.4042442991222263,
          0.6378712352966499,
          -0.32475739002353093,
          -1.355471592482026,
          0.8188916405081248,
          -0.7136407597534036,
          1.4530169466066432,
          0.12437035702819564,
          0.34380998064207186,
          0.3670261299236814,
          -0.7087328956200836,
          -1.258067366257801,
          0.12928804837990635,
          -0.31603283402669446,
          0.6408530470104912,
          1.194512576723845,
          -1.5542148592170382,
          -0.3180623240226567,
          -0.26232905958765823,
          -2.5250678931764288,
          0.03021518574286839,
          0.8782566747525722,
          0.06805291179027405,
          -0.7800434613277817,
          0.30587770196971614,
          -1.527764831789569,
          -1.2455255738078197,
          0.8708789079885804,
          -2.277781652216472,
          -0.961085083474282,
          0.7480604179254391,
          -1.132740550097753,
          -0.21494270061498336,
          0.26326840794947803,
          1.9435527095905965,
          0.6633014767479828,
          -0.33967376673719074,
          -1.0005256175729227,
          1.033839740834173,
          -0.1344938358004172,
          -1.8377909653802171,
          0.4862090693094273,
          0.019117224110497474,
          1.4381775613316357,
          1.0022419802726958,
          0.6177486704087491,
          0.2238116198272653,
          -0.3792759330228207,
          1.5642561450343315,
          -1.4797684734922998,
          1.0732977102841788,
          -1.0993447775978227,
          0.6133786466992118,
          -1.7069242684336634,
          1.2751028892789205,
          0.401432572330607,
          0.8652760480066986,
          -0.019418977081185895,
          0.9807867122167452,
          1.6018808310985337,
          0.13459144877490167,
          0.9626180719042506,
          0.9937757289990029
         ],
         "yaxis": "y3"
        },
        {
         "line": {
          "color": "rgba(128, 128, 128, 1.0)",
          "dash": "solid",
          "shape": "linear",
          "width": 1.3
         },
         "marker": {
          "size": 2,
          "symbol": "circle"
         },
         "mode": "markers",
         "name": "A",
         "text": "",
         "type": "scatter",
         "x": [
          0.73852935833334,
          -1.5176580227009084,
          0.512594517331452,
          -0.9765693441549024,
          0.2597380646455681,
          0.2005281674647245,
          -0.43222083383021487,
          0.28264608068641234,
          -2.353290595895701,
          -1.8926961644530766,
          2.27093306437956,
          1.2066485053430889,
          0.7054562289187188,
          1.0055452928207518,
          -0.4681460091213367,
          -1.2944114494644843,
          1.3607689933983973,
          0.09725199606574048,
          1.83736969115192,
          -1.1587227224422534,
          1.1090726500218338,
          -0.7225013349844344,
          -0.9137980221576838,
          -1.0601686685049398,
          1.4026374642411892,
          0.7902606455214161,
          -0.9667653313329032,
          0.39019832840791346,
          0.8797628220128945,
          -0.3215103633202152,
          0.45125592139847504,
          0.5414061119409422,
          0.7658140963443745,
          1.9675578763616768,
          0.6289659039244848,
          -0.32953287186860414,
          -1.1046035644406151,
          -0.5017107675914297,
          -0.050135588577950634,
          0.1156013888140175,
          1.817026403682867,
          -0.5822754037947193,
          -1.1159809283681592,
          0.5829597663270446,
          1.525546490741131,
          -0.7870451502160626,
          -0.07801027556160016,
          -0.09916614697687562,
          -0.6484936684020154,
          0.9061275439005156,
          -1.1977397401901584,
          0.07216530006961856,
          -0.09471364186907975,
          -0.33168597889227824,
          1.3856210920715732,
          0.29228648402712515,
          -0.31506805736201177,
          0.26406938841327465,
          0.1214991679754779,
          -1.4589964130764155,
          -0.2960215475269721,
          -0.08473609173871421,
          -0.24788889268351452,
          -0.4012651394180614,
          -0.11119053847235782,
          0.032618335709918636,
          2.302025450805792,
          1.0351623471019253,
          -0.7274030283028319,
          0.16223023965662992,
          0.3275178990919996,
          -0.8248485244343083,
          0.320470268526574,
          0.24774868235903783,
          -1.1422354828286703,
          -0.9544307180899267,
          0.03015949233702071,
          -0.29061097551377707,
          0.587152578186654,
          -1.2663987789455702,
          -0.1760172926593463,
          2.1270370895124264,
          -1.2136800421158462,
          -0.08958940819583555,
          -2.9392124879873895,
          0.2209583862426302,
          0.9049504073046822,
          1.7660163025166824,
          0.2979790504197034,
          1.4258052202184266,
          0.12340898475312499,
          2.5323839720634402,
          -1.3844333428579232,
          2.2457544603669746,
          -1.1848977721498695,
          0.6082307057013913,
          -0.24041896437186125,
          -0.6704452551959191,
          -0.7461529444354846,
          -0.6875391663565866
         ],
         "xaxis": "x4",
         "y": [
          1.4231283587146955,
          0.7516603116190158,
          -0.04069831395129999,
          0.8494525246784042,
          0.7977645931831729,
          -2.424491651018319,
          -1.2582093110568149,
          -0.15529258970936946,
          -0.45312148704220795,
          -2.2775610915462363,
          0.1332429602222429,
          0.3998857890171944,
          -0.14904950186615676,
          1.1931908500642565,
          0.783776424506487,
          -0.13860290912962892,
          0.7664731049270755,
          -0.14547497275331425,
          -0.40802584839016576,
          1.0711888545925605,
          -0.642313308372773,
          0.049879911918071174,
          1.8009405803668426,
          -1.469579438518773,
          2.211475339175111,
          -0.38394754230209527,
          -0.8483588357454597,
          -0.4233808984906991,
          0.8970171336936127,
          -0.46309218292344384,
          -1.540708272987029,
          -0.22011844093930893,
          1.2626125439114022,
          -0.8599224592696124,
          0.7620320340247184,
          0.6063787747519568,
          -0.5021325565790095,
          -0.4042442991222263,
          0.6378712352966499,
          -0.32475739002353093,
          -1.355471592482026,
          0.8188916405081248,
          -0.7136407597534036,
          1.4530169466066432,
          0.12437035702819564,
          0.34380998064207186,
          0.3670261299236814,
          -0.7087328956200836,
          -1.258067366257801,
          0.12928804837990635,
          -0.31603283402669446,
          0.6408530470104912,
          1.194512576723845,
          -1.5542148592170382,
          -0.3180623240226567,
          -0.26232905958765823,
          -2.5250678931764288,
          0.03021518574286839,
          0.8782566747525722,
          0.06805291179027405,
          -0.7800434613277817,
          0.30587770196971614,
          -1.527764831789569,
          -1.2455255738078197,
          0.8708789079885804,
          -2.277781652216472,
          -0.961085083474282,
          0.7480604179254391,
          -1.132740550097753,
          -0.21494270061498336,
          0.26326840794947803,
          1.9435527095905965,
          0.6633014767479828,
          -0.33967376673719074,
          -1.0005256175729227,
          1.033839740834173,
          -0.1344938358004172,
          -1.8377909653802171,
          0.4862090693094273,
          0.019117224110497474,
          1.4381775613316357,
          1.0022419802726958,
          0.6177486704087491,
          0.2238116198272653,
          -0.3792759330228207,
          1.5642561450343315,
          -1.4797684734922998,
          1.0732977102841788,
          -1.0993447775978227,
          0.6133786466992118,
          -1.7069242684336634,
          1.2751028892789205,
          0.401432572330607,
          0.8652760480066986,
          -0.019418977081185895,
          0.9807867122167452,
          1.6018808310985337,
          0.13459144877490167,
          0.9626180719042506,
          0.9937757289990029
         ],
         "yaxis": "y4"
        },
        {
         "line": {
          "color": "rgba(128, 128, 128, 1.0)",
          "dash": "solid",
          "shape": "linear",
          "width": 1.3
         },
         "marker": {
          "size": 2,
          "symbol": "circle"
         },
         "mode": "markers",
         "name": "B",
         "text": "",
         "type": "scatter",
         "x": [
          1.4231283587146955,
          0.7516603116190158,
          -0.04069831395129999,
          0.8494525246784042,
          0.7977645931831729,
          -2.424491651018319,
          -1.2582093110568149,
          -0.15529258970936946,
          -0.45312148704220795,
          -2.2775610915462363,
          0.1332429602222429,
          0.3998857890171944,
          -0.14904950186615676,
          1.1931908500642565,
          0.783776424506487,
          -0.13860290912962892,
          0.7664731049270755,
          -0.14547497275331425,
          -0.40802584839016576,
          1.0711888545925605,
          -0.642313308372773,
          0.049879911918071174,
          1.8009405803668426,
          -1.469579438518773,
          2.211475339175111,
          -0.38394754230209527,
          -0.8483588357454597,
          -0.4233808984906991,
          0.8970171336936127,
          -0.46309218292344384,
          -1.540708272987029,
          -0.22011844093930893,
          1.2626125439114022,
          -0.8599224592696124,
          0.7620320340247184,
          0.6063787747519568,
          -0.5021325565790095,
          -0.4042442991222263,
          0.6378712352966499,
          -0.32475739002353093,
          -1.355471592482026,
          0.8188916405081248,
          -0.7136407597534036,
          1.4530169466066432,
          0.12437035702819564,
          0.34380998064207186,
          0.3670261299236814,
          -0.7087328956200836,
          -1.258067366257801,
          0.12928804837990635,
          -0.31603283402669446,
          0.6408530470104912,
          1.194512576723845,
          -1.5542148592170382,
          -0.3180623240226567,
          -0.26232905958765823,
          -2.5250678931764288,
          0.03021518574286839,
          0.8782566747525722,
          0.06805291179027405,
          -0.7800434613277817,
          0.30587770196971614,
          -1.527764831789569,
          -1.2455255738078197,
          0.8708789079885804,
          -2.277781652216472,
          -0.961085083474282,
          0.7480604179254391,
          -1.132740550097753,
          -0.21494270061498336,
          0.26326840794947803,
          1.9435527095905965,
          0.6633014767479828,
          -0.33967376673719074,
          -1.0005256175729227,
          1.033839740834173,
          -0.1344938358004172,
          -1.8377909653802171,
          0.4862090693094273,
          0.019117224110497474,
          1.4381775613316357,
          1.0022419802726958,
          0.6177486704087491,
          0.2238116198272653,
          -0.3792759330228207,
          1.5642561450343315,
          -1.4797684734922998,
          1.0732977102841788,
          -1.0993447775978227,
          0.6133786466992118,
          -1.7069242684336634,
          1.2751028892789205,
          0.401432572330607,
          0.8652760480066986,
          -0.019418977081185895,
          0.9807867122167452,
          1.6018808310985337,
          0.13459144877490167,
          0.9626180719042506,
          0.9937757289990029
         ],
         "xaxis": "x5",
         "y": [
          -1.3159148036125334,
          -0.6711729334327814,
          0.938030616343648,
          -0.883172519923497,
          -1.1559543838137716,
          -0.21362938182096808,
          1.1865996630899105,
          -0.13503942410931474,
          0.702379722654413,
          2.1627358962212906,
          0.2707271260340421,
          -0.08373718813127257,
          -1.4246125339918407,
          0.19285853601533218,
          0.6007247164853516,
          -0.8692022129422258,
          0.101009847359833,
          1.446347405489576,
          1.4241402916808978,
          0.09233934005602447,
          2.1859187944191194,
          0.7649775110539025,
          0.6796053495705884,
          -0.554852071312288,
          1.1130260106970804,
          -1.5297190221801549,
          0.22693985504789704,
          -0.9814227313037053,
          1.3706959453569925,
          2.0683730411899925,
          0.4586619732815214,
          1.2190858388012593,
          -1.1004677584045799,
          -0.28434856410119347,
          0.2926406015415052,
          -0.4334229059903361,
          -1.4806843754448946,
          -0.9910248686250521,
          0.13800914672309186,
          -1.034345016229925,
          -1.3875499683950403,
          -0.2839718128545817,
          0.40723721037804944,
          1.2103459308374067,
          -0.6544666001268368,
          -1.323283032466016,
          -0.9338408253711902,
          -1.3657749261666121,
          -0.22670230951583553,
          1.673174411862094,
          -0.7392250392494247,
          -0.5977251424426647,
          -0.8798250439172343,
          0.848483523562618,
          -0.8373298454739747,
          -0.4928515836198017,
          0.7567630417126984,
          1.7191358646363109,
          1.9142309523473156,
          0.7116906418838965,
          -0.6317604607877776,
          -0.3603533087907271,
          0.06537406356420647,
          -0.2362899962772877,
          0.30910863432263014,
          -0.3106251550628561,
          -0.425735266645392,
          -0.16654657872439244,
          1.0279927804245697,
          0.6154531545225654,
          0.38133211748851936,
          0.7107218250480805,
          0.6169978660921006,
          0.35961602170113527,
          0.3529418612584008,
          -2.4210794154829363,
          0.21751336076725786,
          0.13751215145474693,
          1.8218497869401669,
          -1.026045419410824,
          -0.17358063387533523,
          -0.12941743078398793,
          -0.10898435004964954,
          -0.9815145765089636,
          -0.712956213176565,
          0.45861126534718105,
          -1.35549152949366,
          0.261728135661618,
          0.44365502505321674,
          -0.4299447790444871,
          1.4603204442829751,
          -2.77607709870146,
          -0.11281905305207801,
          0.4503284425976104,
          -0.6363703760997098,
          0.706131730762392,
          -0.5553440039407791,
          -0.5558337541696055,
          1.1021535193467047,
          -0.10646954349882545
         ],
         "yaxis": "y5"
        },
        {
         "histfunc": "count",
         "histnorm": "",
         "marker": {
          "color": "rgba(55, 128, 191, 1.0)",
          "line": {
           "color": "#4D5663",
           "width": 1.3
          }
         },
         "name": "B",
         "nbinsx": 10,
         "opacity": 0.8,
         "orientation": "v",
         "type": "histogram",
         "x": [
          -1.3159148036125334,
          -0.6711729334327814,
          0.938030616343648,
          -0.883172519923497,
          -1.1559543838137716,
          -0.21362938182096808,
          1.1865996630899105,
          -0.13503942410931474,
          0.702379722654413,
          2.1627358962212906,
          0.2707271260340421,
          -0.08373718813127257,
          -1.4246125339918407,
          0.19285853601533218,
          0.6007247164853516,
          -0.8692022129422258,
          0.101009847359833,
          1.446347405489576,
          1.4241402916808978,
          0.09233934005602447,
          2.1859187944191194,
          0.7649775110539025,
          0.6796053495705884,
          -0.554852071312288,
          1.1130260106970804,
          -1.5297190221801549,
          0.22693985504789704,
          -0.9814227313037053,
          1.3706959453569925,
          2.0683730411899925,
          0.4586619732815214,
          1.2190858388012593,
          -1.1004677584045799,
          -0.28434856410119347,
          0.2926406015415052,
          -0.4334229059903361,
          -1.4806843754448946,
          -0.9910248686250521,
          0.13800914672309186,
          -1.034345016229925,
          -1.3875499683950403,
          -0.2839718128545817,
          0.40723721037804944,
          1.2103459308374067,
          -0.6544666001268368,
          -1.323283032466016,
          -0.9338408253711902,
          -1.3657749261666121,
          -0.22670230951583553,
          1.673174411862094,
          -0.7392250392494247,
          -0.5977251424426647,
          -0.8798250439172343,
          0.848483523562618,
          -0.8373298454739747,
          -0.4928515836198017,
          0.7567630417126984,
          1.7191358646363109,
          1.9142309523473156,
          0.7116906418838965,
          -0.6317604607877776,
          -0.3603533087907271,
          0.06537406356420647,
          -0.2362899962772877,
          0.30910863432263014,
          -0.3106251550628561,
          -0.425735266645392,
          -0.16654657872439244,
          1.0279927804245697,
          0.6154531545225654,
          0.38133211748851936,
          0.7107218250480805,
          0.6169978660921006,
          0.35961602170113527,
          0.3529418612584008,
          -2.4210794154829363,
          0.21751336076725786,
          0.13751215145474693,
          1.8218497869401669,
          -1.026045419410824,
          -0.17358063387533523,
          -0.12941743078398793,
          -0.10898435004964954,
          -0.9815145765089636,
          -0.712956213176565,
          0.45861126534718105,
          -1.35549152949366,
          0.261728135661618,
          0.44365502505321674,
          -0.4299447790444871,
          1.4603204442829751,
          -2.77607709870146,
          -0.11281905305207801,
          0.4503284425976104,
          -0.6363703760997098,
          0.706131730762392,
          -0.5553440039407791,
          -0.5558337541696055,
          1.1021535193467047,
          -0.10646954349882545
         ],
         "xaxis": "x6",
         "yaxis": "y6"
        },
        {
         "line": {
          "color": "rgba(128, 128, 128, 1.0)",
          "dash": "solid",
          "shape": "linear",
          "width": 1.3
         },
         "marker": {
          "size": 2,
          "symbol": "circle"
         },
         "mode": "markers",
         "name": "B",
         "text": "",
         "type": "scatter",
         "x": [
          -0.13237579222541013,
          -0.052347829704393126,
          0.4692526299940617,
          0.31613759897620036,
          0.038077627669812375,
          1.5011192659797281,
          -0.29842974623082363,
          -0.6135580924459909,
          0.06592428522592648,
          1.3603710179272264,
          -2.3409190663165464,
          -0.2889958922051712,
          1.978389322463096,
          0.5813553904840633,
          -1.888732642009797,
          -0.5018245258341147,
          -0.0489213899629533,
          0.5371642503245256,
          1.1016891114589598,
          0.9666620958063254,
          0.694573206426251,
          0.2478258235386552,
          0.8195615195552352,
          0.6205339681382519,
          -0.8050729161790104,
          1.6231169796230278,
          -1.7579390663376324,
          0.7523004931694655,
          2.5550957009229145,
          -0.16043494088364257,
          -1.5126796219247454,
          1.1408972343680064,
          0.029819705381316952,
          0.7312165813450313,
          0.07373317269178083,
          -0.2849716167860715,
          0.023478680449609938,
          -1.2236177266917754,
          1.3666823261506365,
          -0.9286665847654201,
          0.10599810305490082,
          -0.43841601974518873,
          -0.353627868945709,
          -0.9318346325943048,
          1.7066007515376558,
          -0.11443002079209948,
          0.611898576384863,
          -1.6980193319777221,
          -1.7557760172017405,
          1.1859346187066266,
          0.35278967968166297,
          -0.6625442040702696,
          -0.4316534763318296,
          -0.8553573752349162,
          0.419361435533611,
          0.3050586495992559,
          -0.5654831979495469,
          0.23505406461487433,
          0.2824194464623127,
          -0.23280675726503214,
          -0.18403686480620848,
          1.3806881575057637,
          0.22839093562968843,
          -0.7779119845767521,
          -0.212027223863369,
          -1.1557481827178329,
          -0.08080240184313331,
          0.019360151832484428,
          -1.059697548621927,
          0.33387705641420945,
          -1.2637904918675884,
          0.8925279544822788,
          -1.967577246484591,
          -1.5402676423006545,
          -0.6636279606621213,
          0.20823708740936742,
          -0.11780854016506509,
          0.1645481697701134,
          -0.09450343044520912,
          0.43063323328726044,
          -1.5621942064559213,
          -1.278464936613575,
          0.9229912359708183,
          0.6992700227549166,
          0.6040142131825644,
          -0.9377269609438603,
          -1.0082577364982552,
          -0.13914798114251678,
          -2.0678577173120836,
          1.4000324476157366,
          0.8889606602303802,
          -0.8135337263237251,
          -0.01290035882819455,
          -1.0931618685607598,
          -0.29562697230604573,
          0.7013912694029035,
          1.2202457243437268,
          -0.03618334178095662,
          -0.6835029620743883,
          -0.31693575222433584
         ],
         "xaxis": "x7",
         "y": [
          -1.3159148036125334,
          -0.6711729334327814,
          0.938030616343648,
          -0.883172519923497,
          -1.1559543838137716,
          -0.21362938182096808,
          1.1865996630899105,
          -0.13503942410931474,
          0.702379722654413,
          2.1627358962212906,
          0.2707271260340421,
          -0.08373718813127257,
          -1.4246125339918407,
          0.19285853601533218,
          0.6007247164853516,
          -0.8692022129422258,
          0.101009847359833,
          1.446347405489576,
          1.4241402916808978,
          0.09233934005602447,
          2.1859187944191194,
          0.7649775110539025,
          0.6796053495705884,
          -0.554852071312288,
          1.1130260106970804,
          -1.5297190221801549,
          0.22693985504789704,
          -0.9814227313037053,
          1.3706959453569925,
          2.0683730411899925,
          0.4586619732815214,
          1.2190858388012593,
          -1.1004677584045799,
          -0.28434856410119347,
          0.2926406015415052,
          -0.4334229059903361,
          -1.4806843754448946,
          -0.9910248686250521,
          0.13800914672309186,
          -1.034345016229925,
          -1.3875499683950403,
          -0.2839718128545817,
          0.40723721037804944,
          1.2103459308374067,
          -0.6544666001268368,
          -1.323283032466016,
          -0.9338408253711902,
          -1.3657749261666121,
          -0.22670230951583553,
          1.673174411862094,
          -0.7392250392494247,
          -0.5977251424426647,
          -0.8798250439172343,
          0.848483523562618,
          -0.8373298454739747,
          -0.4928515836198017,
          0.7567630417126984,
          1.7191358646363109,
          1.9142309523473156,
          0.7116906418838965,
          -0.6317604607877776,
          -0.3603533087907271,
          0.06537406356420647,
          -0.2362899962772877,
          0.30910863432263014,
          -0.3106251550628561,
          -0.425735266645392,
          -0.16654657872439244,
          1.0279927804245697,
          0.6154531545225654,
          0.38133211748851936,
          0.7107218250480805,
          0.6169978660921006,
          0.35961602170113527,
          0.3529418612584008,
          -2.4210794154829363,
          0.21751336076725786,
          0.13751215145474693,
          1.8218497869401669,
          -1.026045419410824,
          -0.17358063387533523,
          -0.12941743078398793,
          -0.10898435004964954,
          -0.9815145765089636,
          -0.712956213176565,
          0.45861126534718105,
          -1.35549152949366,
          0.261728135661618,
          0.44365502505321674,
          -0.4299447790444871,
          1.4603204442829751,
          -2.77607709870146,
          -0.11281905305207801,
          0.4503284425976104,
          -0.6363703760997098,
          0.706131730762392,
          -0.5553440039407791,
          -0.5558337541696055,
          1.1021535193467047,
          -0.10646954349882545
         ],
         "yaxis": "y7"
        },
        {
         "line": {
          "color": "rgba(128, 128, 128, 1.0)",
          "dash": "solid",
          "shape": "linear",
          "width": 1.3
         },
         "marker": {
          "size": 2,
          "symbol": "circle"
         },
         "mode": "markers",
         "name": "B",
         "text": "",
         "type": "scatter",
         "x": [
          0.73852935833334,
          -1.5176580227009084,
          0.512594517331452,
          -0.9765693441549024,
          0.2597380646455681,
          0.2005281674647245,
          -0.43222083383021487,
          0.28264608068641234,
          -2.353290595895701,
          -1.8926961644530766,
          2.27093306437956,
          1.2066485053430889,
          0.7054562289187188,
          1.0055452928207518,
          -0.4681460091213367,
          -1.2944114494644843,
          1.3607689933983973,
          0.09725199606574048,
          1.83736969115192,
          -1.1587227224422534,
          1.1090726500218338,
          -0.7225013349844344,
          -0.9137980221576838,
          -1.0601686685049398,
          1.4026374642411892,
          0.7902606455214161,
          -0.9667653313329032,
          0.39019832840791346,
          0.8797628220128945,
          -0.3215103633202152,
          0.45125592139847504,
          0.5414061119409422,
          0.7658140963443745,
          1.9675578763616768,
          0.6289659039244848,
          -0.32953287186860414,
          -1.1046035644406151,
          -0.5017107675914297,
          -0.050135588577950634,
          0.1156013888140175,
          1.817026403682867,
          -0.5822754037947193,
          -1.1159809283681592,
          0.5829597663270446,
          1.525546490741131,
          -0.7870451502160626,
          -0.07801027556160016,
          -0.09916614697687562,
          -0.6484936684020154,
          0.9061275439005156,
          -1.1977397401901584,
          0.07216530006961856,
          -0.09471364186907975,
          -0.33168597889227824,
          1.3856210920715732,
          0.29228648402712515,
          -0.31506805736201177,
          0.26406938841327465,
          0.1214991679754779,
          -1.4589964130764155,
          -0.2960215475269721,
          -0.08473609173871421,
          -0.24788889268351452,
          -0.4012651394180614,
          -0.11119053847235782,
          0.032618335709918636,
          2.302025450805792,
          1.0351623471019253,
          -0.7274030283028319,
          0.16223023965662992,
          0.3275178990919996,
          -0.8248485244343083,
          0.320470268526574,
          0.24774868235903783,
          -1.1422354828286703,
          -0.9544307180899267,
          0.03015949233702071,
          -0.29061097551377707,
          0.587152578186654,
          -1.2663987789455702,
          -0.1760172926593463,
          2.1270370895124264,
          -1.2136800421158462,
          -0.08958940819583555,
          -2.9392124879873895,
          0.2209583862426302,
          0.9049504073046822,
          1.7660163025166824,
          0.2979790504197034,
          1.4258052202184266,
          0.12340898475312499,
          2.5323839720634402,
          -1.3844333428579232,
          2.2457544603669746,
          -1.1848977721498695,
          0.6082307057013913,
          -0.24041896437186125,
          -0.6704452551959191,
          -0.7461529444354846,
          -0.6875391663565866
         ],
         "xaxis": "x8",
         "y": [
          -1.3159148036125334,
          -0.6711729334327814,
          0.938030616343648,
          -0.883172519923497,
          -1.1559543838137716,
          -0.21362938182096808,
          1.1865996630899105,
          -0.13503942410931474,
          0.702379722654413,
          2.1627358962212906,
          0.2707271260340421,
          -0.08373718813127257,
          -1.4246125339918407,
          0.19285853601533218,
          0.6007247164853516,
          -0.8692022129422258,
          0.101009847359833,
          1.446347405489576,
          1.4241402916808978,
          0.09233934005602447,
          2.1859187944191194,
          0.7649775110539025,
          0.6796053495705884,
          -0.554852071312288,
          1.1130260106970804,
          -1.5297190221801549,
          0.22693985504789704,
          -0.9814227313037053,
          1.3706959453569925,
          2.0683730411899925,
          0.4586619732815214,
          1.2190858388012593,
          -1.1004677584045799,
          -0.28434856410119347,
          0.2926406015415052,
          -0.4334229059903361,
          -1.4806843754448946,
          -0.9910248686250521,
          0.13800914672309186,
          -1.034345016229925,
          -1.3875499683950403,
          -0.2839718128545817,
          0.40723721037804944,
          1.2103459308374067,
          -0.6544666001268368,
          -1.323283032466016,
          -0.9338408253711902,
          -1.3657749261666121,
          -0.22670230951583553,
          1.673174411862094,
          -0.7392250392494247,
          -0.5977251424426647,
          -0.8798250439172343,
          0.848483523562618,
          -0.8373298454739747,
          -0.4928515836198017,
          0.7567630417126984,
          1.7191358646363109,
          1.9142309523473156,
          0.7116906418838965,
          -0.6317604607877776,
          -0.3603533087907271,
          0.06537406356420647,
          -0.2362899962772877,
          0.30910863432263014,
          -0.3106251550628561,
          -0.425735266645392,
          -0.16654657872439244,
          1.0279927804245697,
          0.6154531545225654,
          0.38133211748851936,
          0.7107218250480805,
          0.6169978660921006,
          0.35961602170113527,
          0.3529418612584008,
          -2.4210794154829363,
          0.21751336076725786,
          0.13751215145474693,
          1.8218497869401669,
          -1.026045419410824,
          -0.17358063387533523,
          -0.12941743078398793,
          -0.10898435004964954,
          -0.9815145765089636,
          -0.712956213176565,
          0.45861126534718105,
          -1.35549152949366,
          0.261728135661618,
          0.44365502505321674,
          -0.4299447790444871,
          1.4603204442829751,
          -2.77607709870146,
          -0.11281905305207801,
          0.4503284425976104,
          -0.6363703760997098,
          0.706131730762392,
          -0.5553440039407791,
          -0.5558337541696055,
          1.1021535193467047,
          -0.10646954349882545
         ],
         "yaxis": "y8"
        },
        {
         "line": {
          "color": "rgba(128, 128, 128, 1.0)",
          "dash": "solid",
          "shape": "linear",
          "width": 1.3
         },
         "marker": {
          "size": 2,
          "symbol": "circle"
         },
         "mode": "markers",
         "name": "C",
         "text": "",
         "type": "scatter",
         "x": [
          1.4231283587146955,
          0.7516603116190158,
          -0.04069831395129999,
          0.8494525246784042,
          0.7977645931831729,
          -2.424491651018319,
          -1.2582093110568149,
          -0.15529258970936946,
          -0.45312148704220795,
          -2.2775610915462363,
          0.1332429602222429,
          0.3998857890171944,
          -0.14904950186615676,
          1.1931908500642565,
          0.783776424506487,
          -0.13860290912962892,
          0.7664731049270755,
          -0.14547497275331425,
          -0.40802584839016576,
          1.0711888545925605,
          -0.642313308372773,
          0.049879911918071174,
          1.8009405803668426,
          -1.469579438518773,
          2.211475339175111,
          -0.38394754230209527,
          -0.8483588357454597,
          -0.4233808984906991,
          0.8970171336936127,
          -0.46309218292344384,
          -1.540708272987029,
          -0.22011844093930893,
          1.2626125439114022,
          -0.8599224592696124,
          0.7620320340247184,
          0.6063787747519568,
          -0.5021325565790095,
          -0.4042442991222263,
          0.6378712352966499,
          -0.32475739002353093,
          -1.355471592482026,
          0.8188916405081248,
          -0.7136407597534036,
          1.4530169466066432,
          0.12437035702819564,
          0.34380998064207186,
          0.3670261299236814,
          -0.7087328956200836,
          -1.258067366257801,
          0.12928804837990635,
          -0.31603283402669446,
          0.6408530470104912,
          1.194512576723845,
          -1.5542148592170382,
          -0.3180623240226567,
          -0.26232905958765823,
          -2.5250678931764288,
          0.03021518574286839,
          0.8782566747525722,
          0.06805291179027405,
          -0.7800434613277817,
          0.30587770196971614,
          -1.527764831789569,
          -1.2455255738078197,
          0.8708789079885804,
          -2.277781652216472,
          -0.961085083474282,
          0.7480604179254391,
          -1.132740550097753,
          -0.21494270061498336,
          0.26326840794947803,
          1.9435527095905965,
          0.6633014767479828,
          -0.33967376673719074,
          -1.0005256175729227,
          1.033839740834173,
          -0.1344938358004172,
          -1.8377909653802171,
          0.4862090693094273,
          0.019117224110497474,
          1.4381775613316357,
          1.0022419802726958,
          0.6177486704087491,
          0.2238116198272653,
          -0.3792759330228207,
          1.5642561450343315,
          -1.4797684734922998,
          1.0732977102841788,
          -1.0993447775978227,
          0.6133786466992118,
          -1.7069242684336634,
          1.2751028892789205,
          0.401432572330607,
          0.8652760480066986,
          -0.019418977081185895,
          0.9807867122167452,
          1.6018808310985337,
          0.13459144877490167,
          0.9626180719042506,
          0.9937757289990029
         ],
         "xaxis": "x9",
         "y": [
          -0.13237579222541013,
          -0.052347829704393126,
          0.4692526299940617,
          0.31613759897620036,
          0.038077627669812375,
          1.5011192659797281,
          -0.29842974623082363,
          -0.6135580924459909,
          0.06592428522592648,
          1.3603710179272264,
          -2.3409190663165464,
          -0.2889958922051712,
          1.978389322463096,
          0.5813553904840633,
          -1.888732642009797,
          -0.5018245258341147,
          -0.0489213899629533,
          0.5371642503245256,
          1.1016891114589598,
          0.9666620958063254,
          0.694573206426251,
          0.2478258235386552,
          0.8195615195552352,
          0.6205339681382519,
          -0.8050729161790104,
          1.6231169796230278,
          -1.7579390663376324,
          0.7523004931694655,
          2.5550957009229145,
          -0.16043494088364257,
          -1.5126796219247454,
          1.1408972343680064,
          0.029819705381316952,
          0.7312165813450313,
          0.07373317269178083,
          -0.2849716167860715,
          0.023478680449609938,
          -1.2236177266917754,
          1.3666823261506365,
          -0.9286665847654201,
          0.10599810305490082,
          -0.43841601974518873,
          -0.353627868945709,
          -0.9318346325943048,
          1.7066007515376558,
          -0.11443002079209948,
          0.611898576384863,
          -1.6980193319777221,
          -1.7557760172017405,
          1.1859346187066266,
          0.35278967968166297,
          -0.6625442040702696,
          -0.4316534763318296,
          -0.8553573752349162,
          0.419361435533611,
          0.3050586495992559,
          -0.5654831979495469,
          0.23505406461487433,
          0.2824194464623127,
          -0.23280675726503214,
          -0.18403686480620848,
          1.3806881575057637,
          0.22839093562968843,
          -0.7779119845767521,
          -0.212027223863369,
          -1.1557481827178329,
          -0.08080240184313331,
          0.019360151832484428,
          -1.059697548621927,
          0.33387705641420945,
          -1.2637904918675884,
          0.8925279544822788,
          -1.967577246484591,
          -1.5402676423006545,
          -0.6636279606621213,
          0.20823708740936742,
          -0.11780854016506509,
          0.1645481697701134,
          -0.09450343044520912,
          0.43063323328726044,
          -1.5621942064559213,
          -1.278464936613575,
          0.9229912359708183,
          0.6992700227549166,
          0.6040142131825644,
          -0.9377269609438603,
          -1.0082577364982552,
          -0.13914798114251678,
          -2.0678577173120836,
          1.4000324476157366,
          0.8889606602303802,
          -0.8135337263237251,
          -0.01290035882819455,
          -1.0931618685607598,
          -0.29562697230604573,
          0.7013912694029035,
          1.2202457243437268,
          -0.03618334178095662,
          -0.6835029620743883,
          -0.31693575222433584
         ],
         "yaxis": "y9"
        },
        {
         "line": {
          "color": "rgba(128, 128, 128, 1.0)",
          "dash": "solid",
          "shape": "linear",
          "width": 1.3
         },
         "marker": {
          "size": 2,
          "symbol": "circle"
         },
         "mode": "markers",
         "name": "C",
         "text": "",
         "type": "scatter",
         "x": [
          -1.3159148036125334,
          -0.6711729334327814,
          0.938030616343648,
          -0.883172519923497,
          -1.1559543838137716,
          -0.21362938182096808,
          1.1865996630899105,
          -0.13503942410931474,
          0.702379722654413,
          2.1627358962212906,
          0.2707271260340421,
          -0.08373718813127257,
          -1.4246125339918407,
          0.19285853601533218,
          0.6007247164853516,
          -0.8692022129422258,
          0.101009847359833,
          1.446347405489576,
          1.4241402916808978,
          0.09233934005602447,
          2.1859187944191194,
          0.7649775110539025,
          0.6796053495705884,
          -0.554852071312288,
          1.1130260106970804,
          -1.5297190221801549,
          0.22693985504789704,
          -0.9814227313037053,
          1.3706959453569925,
          2.0683730411899925,
          0.4586619732815214,
          1.2190858388012593,
          -1.1004677584045799,
          -0.28434856410119347,
          0.2926406015415052,
          -0.4334229059903361,
          -1.4806843754448946,
          -0.9910248686250521,
          0.13800914672309186,
          -1.034345016229925,
          -1.3875499683950403,
          -0.2839718128545817,
          0.40723721037804944,
          1.2103459308374067,
          -0.6544666001268368,
          -1.323283032466016,
          -0.9338408253711902,
          -1.3657749261666121,
          -0.22670230951583553,
          1.673174411862094,
          -0.7392250392494247,
          -0.5977251424426647,
          -0.8798250439172343,
          0.848483523562618,
          -0.8373298454739747,
          -0.4928515836198017,
          0.7567630417126984,
          1.7191358646363109,
          1.9142309523473156,
          0.7116906418838965,
          -0.6317604607877776,
          -0.3603533087907271,
          0.06537406356420647,
          -0.2362899962772877,
          0.30910863432263014,
          -0.3106251550628561,
          -0.425735266645392,
          -0.16654657872439244,
          1.0279927804245697,
          0.6154531545225654,
          0.38133211748851936,
          0.7107218250480805,
          0.6169978660921006,
          0.35961602170113527,
          0.3529418612584008,
          -2.4210794154829363,
          0.21751336076725786,
          0.13751215145474693,
          1.8218497869401669,
          -1.026045419410824,
          -0.17358063387533523,
          -0.12941743078398793,
          -0.10898435004964954,
          -0.9815145765089636,
          -0.712956213176565,
          0.45861126534718105,
          -1.35549152949366,
          0.261728135661618,
          0.44365502505321674,
          -0.4299447790444871,
          1.4603204442829751,
          -2.77607709870146,
          -0.11281905305207801,
          0.4503284425976104,
          -0.6363703760997098,
          0.706131730762392,
          -0.5553440039407791,
          -0.5558337541696055,
          1.1021535193467047,
          -0.10646954349882545
         ],
         "xaxis": "x10",
         "y": [
          -0.13237579222541013,
          -0.052347829704393126,
          0.4692526299940617,
          0.31613759897620036,
          0.038077627669812375,
          1.5011192659797281,
          -0.29842974623082363,
          -0.6135580924459909,
          0.06592428522592648,
          1.3603710179272264,
          -2.3409190663165464,
          -0.2889958922051712,
          1.978389322463096,
          0.5813553904840633,
          -1.888732642009797,
          -0.5018245258341147,
          -0.0489213899629533,
          0.5371642503245256,
          1.1016891114589598,
          0.9666620958063254,
          0.694573206426251,
          0.2478258235386552,
          0.8195615195552352,
          0.6205339681382519,
          -0.8050729161790104,
          1.6231169796230278,
          -1.7579390663376324,
          0.7523004931694655,
          2.5550957009229145,
          -0.16043494088364257,
          -1.5126796219247454,
          1.1408972343680064,
          0.029819705381316952,
          0.7312165813450313,
          0.07373317269178083,
          -0.2849716167860715,
          0.023478680449609938,
          -1.2236177266917754,
          1.3666823261506365,
          -0.9286665847654201,
          0.10599810305490082,
          -0.43841601974518873,
          -0.353627868945709,
          -0.9318346325943048,
          1.7066007515376558,
          -0.11443002079209948,
          0.611898576384863,
          -1.6980193319777221,
          -1.7557760172017405,
          1.1859346187066266,
          0.35278967968166297,
          -0.6625442040702696,
          -0.4316534763318296,
          -0.8553573752349162,
          0.419361435533611,
          0.3050586495992559,
          -0.5654831979495469,
          0.23505406461487433,
          0.2824194464623127,
          -0.23280675726503214,
          -0.18403686480620848,
          1.3806881575057637,
          0.22839093562968843,
          -0.7779119845767521,
          -0.212027223863369,
          -1.1557481827178329,
          -0.08080240184313331,
          0.019360151832484428,
          -1.059697548621927,
          0.33387705641420945,
          -1.2637904918675884,
          0.8925279544822788,
          -1.967577246484591,
          -1.5402676423006545,
          -0.6636279606621213,
          0.20823708740936742,
          -0.11780854016506509,
          0.1645481697701134,
          -0.09450343044520912,
          0.43063323328726044,
          -1.5621942064559213,
          -1.278464936613575,
          0.9229912359708183,
          0.6992700227549166,
          0.6040142131825644,
          -0.9377269609438603,
          -1.0082577364982552,
          -0.13914798114251678,
          -2.0678577173120836,
          1.4000324476157366,
          0.8889606602303802,
          -0.8135337263237251,
          -0.01290035882819455,
          -1.0931618685607598,
          -0.29562697230604573,
          0.7013912694029035,
          1.2202457243437268,
          -0.03618334178095662,
          -0.6835029620743883,
          -0.31693575222433584
         ],
         "yaxis": "y10"
        },
        {
         "histfunc": "count",
         "histnorm": "",
         "marker": {
          "color": "rgba(50, 171, 96, 1.0)",
          "line": {
           "color": "#4D5663",
           "width": 1.3
          }
         },
         "name": "C",
         "nbinsx": 10,
         "opacity": 0.8,
         "orientation": "v",
         "type": "histogram",
         "x": [
          -0.13237579222541013,
          -0.052347829704393126,
          0.4692526299940617,
          0.31613759897620036,
          0.038077627669812375,
          1.5011192659797281,
          -0.29842974623082363,
          -0.6135580924459909,
          0.06592428522592648,
          1.3603710179272264,
          -2.3409190663165464,
          -0.2889958922051712,
          1.978389322463096,
          0.5813553904840633,
          -1.888732642009797,
          -0.5018245258341147,
          -0.0489213899629533,
          0.5371642503245256,
          1.1016891114589598,
          0.9666620958063254,
          0.694573206426251,
          0.2478258235386552,
          0.8195615195552352,
          0.6205339681382519,
          -0.8050729161790104,
          1.6231169796230278,
          -1.7579390663376324,
          0.7523004931694655,
          2.5550957009229145,
          -0.16043494088364257,
          -1.5126796219247454,
          1.1408972343680064,
          0.029819705381316952,
          0.7312165813450313,
          0.07373317269178083,
          -0.2849716167860715,
          0.023478680449609938,
          -1.2236177266917754,
          1.3666823261506365,
          -0.9286665847654201,
          0.10599810305490082,
          -0.43841601974518873,
          -0.353627868945709,
          -0.9318346325943048,
          1.7066007515376558,
          -0.11443002079209948,
          0.611898576384863,
          -1.6980193319777221,
          -1.7557760172017405,
          1.1859346187066266,
          0.35278967968166297,
          -0.6625442040702696,
          -0.4316534763318296,
          -0.8553573752349162,
          0.419361435533611,
          0.3050586495992559,
          -0.5654831979495469,
          0.23505406461487433,
          0.2824194464623127,
          -0.23280675726503214,
          -0.18403686480620848,
          1.3806881575057637,
          0.22839093562968843,
          -0.7779119845767521,
          -0.212027223863369,
          -1.1557481827178329,
          -0.08080240184313331,
          0.019360151832484428,
          -1.059697548621927,
          0.33387705641420945,
          -1.2637904918675884,
          0.8925279544822788,
          -1.967577246484591,
          -1.5402676423006545,
          -0.6636279606621213,
          0.20823708740936742,
          -0.11780854016506509,
          0.1645481697701134,
          -0.09450343044520912,
          0.43063323328726044,
          -1.5621942064559213,
          -1.278464936613575,
          0.9229912359708183,
          0.6992700227549166,
          0.6040142131825644,
          -0.9377269609438603,
          -1.0082577364982552,
          -0.13914798114251678,
          -2.0678577173120836,
          1.4000324476157366,
          0.8889606602303802,
          -0.8135337263237251,
          -0.01290035882819455,
          -1.0931618685607598,
          -0.29562697230604573,
          0.7013912694029035,
          1.2202457243437268,
          -0.03618334178095662,
          -0.6835029620743883,
          -0.31693575222433584
         ],
         "xaxis": "x11",
         "yaxis": "y11"
        },
        {
         "line": {
          "color": "rgba(128, 128, 128, 1.0)",
          "dash": "solid",
          "shape": "linear",
          "width": 1.3
         },
         "marker": {
          "size": 2,
          "symbol": "circle"
         },
         "mode": "markers",
         "name": "C",
         "text": "",
         "type": "scatter",
         "x": [
          0.73852935833334,
          -1.5176580227009084,
          0.512594517331452,
          -0.9765693441549024,
          0.2597380646455681,
          0.2005281674647245,
          -0.43222083383021487,
          0.28264608068641234,
          -2.353290595895701,
          -1.8926961644530766,
          2.27093306437956,
          1.2066485053430889,
          0.7054562289187188,
          1.0055452928207518,
          -0.4681460091213367,
          -1.2944114494644843,
          1.3607689933983973,
          0.09725199606574048,
          1.83736969115192,
          -1.1587227224422534,
          1.1090726500218338,
          -0.7225013349844344,
          -0.9137980221576838,
          -1.0601686685049398,
          1.4026374642411892,
          0.7902606455214161,
          -0.9667653313329032,
          0.39019832840791346,
          0.8797628220128945,
          -0.3215103633202152,
          0.45125592139847504,
          0.5414061119409422,
          0.7658140963443745,
          1.9675578763616768,
          0.6289659039244848,
          -0.32953287186860414,
          -1.1046035644406151,
          -0.5017107675914297,
          -0.050135588577950634,
          0.1156013888140175,
          1.817026403682867,
          -0.5822754037947193,
          -1.1159809283681592,
          0.5829597663270446,
          1.525546490741131,
          -0.7870451502160626,
          -0.07801027556160016,
          -0.09916614697687562,
          -0.6484936684020154,
          0.9061275439005156,
          -1.1977397401901584,
          0.07216530006961856,
          -0.09471364186907975,
          -0.33168597889227824,
          1.3856210920715732,
          0.29228648402712515,
          -0.31506805736201177,
          0.26406938841327465,
          0.1214991679754779,
          -1.4589964130764155,
          -0.2960215475269721,
          -0.08473609173871421,
          -0.24788889268351452,
          -0.4012651394180614,
          -0.11119053847235782,
          0.032618335709918636,
          2.302025450805792,
          1.0351623471019253,
          -0.7274030283028319,
          0.16223023965662992,
          0.3275178990919996,
          -0.8248485244343083,
          0.320470268526574,
          0.24774868235903783,
          -1.1422354828286703,
          -0.9544307180899267,
          0.03015949233702071,
          -0.29061097551377707,
          0.587152578186654,
          -1.2663987789455702,
          -0.1760172926593463,
          2.1270370895124264,
          -1.2136800421158462,
          -0.08958940819583555,
          -2.9392124879873895,
          0.2209583862426302,
          0.9049504073046822,
          1.7660163025166824,
          0.2979790504197034,
          1.4258052202184266,
          0.12340898475312499,
          2.5323839720634402,
          -1.3844333428579232,
          2.2457544603669746,
          -1.1848977721498695,
          0.6082307057013913,
          -0.24041896437186125,
          -0.6704452551959191,
          -0.7461529444354846,
          -0.6875391663565866
         ],
         "xaxis": "x12",
         "y": [
          -0.13237579222541013,
          -0.052347829704393126,
          0.4692526299940617,
          0.31613759897620036,
          0.038077627669812375,
          1.5011192659797281,
          -0.29842974623082363,
          -0.6135580924459909,
          0.06592428522592648,
          1.3603710179272264,
          -2.3409190663165464,
          -0.2889958922051712,
          1.978389322463096,
          0.5813553904840633,
          -1.888732642009797,
          -0.5018245258341147,
          -0.0489213899629533,
          0.5371642503245256,
          1.1016891114589598,
          0.9666620958063254,
          0.694573206426251,
          0.2478258235386552,
          0.8195615195552352,
          0.6205339681382519,
          -0.8050729161790104,
          1.6231169796230278,
          -1.7579390663376324,
          0.7523004931694655,
          2.5550957009229145,
          -0.16043494088364257,
          -1.5126796219247454,
          1.1408972343680064,
          0.029819705381316952,
          0.7312165813450313,
          0.07373317269178083,
          -0.2849716167860715,
          0.023478680449609938,
          -1.2236177266917754,
          1.3666823261506365,
          -0.9286665847654201,
          0.10599810305490082,
          -0.43841601974518873,
          -0.353627868945709,
          -0.9318346325943048,
          1.7066007515376558,
          -0.11443002079209948,
          0.611898576384863,
          -1.6980193319777221,
          -1.7557760172017405,
          1.1859346187066266,
          0.35278967968166297,
          -0.6625442040702696,
          -0.4316534763318296,
          -0.8553573752349162,
          0.419361435533611,
          0.3050586495992559,
          -0.5654831979495469,
          0.23505406461487433,
          0.2824194464623127,
          -0.23280675726503214,
          -0.18403686480620848,
          1.3806881575057637,
          0.22839093562968843,
          -0.7779119845767521,
          -0.212027223863369,
          -1.1557481827178329,
          -0.08080240184313331,
          0.019360151832484428,
          -1.059697548621927,
          0.33387705641420945,
          -1.2637904918675884,
          0.8925279544822788,
          -1.967577246484591,
          -1.5402676423006545,
          -0.6636279606621213,
          0.20823708740936742,
          -0.11780854016506509,
          0.1645481697701134,
          -0.09450343044520912,
          0.43063323328726044,
          -1.5621942064559213,
          -1.278464936613575,
          0.9229912359708183,
          0.6992700227549166,
          0.6040142131825644,
          -0.9377269609438603,
          -1.0082577364982552,
          -0.13914798114251678,
          -2.0678577173120836,
          1.4000324476157366,
          0.8889606602303802,
          -0.8135337263237251,
          -0.01290035882819455,
          -1.0931618685607598,
          -0.29562697230604573,
          0.7013912694029035,
          1.2202457243437268,
          -0.03618334178095662,
          -0.6835029620743883,
          -0.31693575222433584
         ],
         "yaxis": "y12"
        },
        {
         "line": {
          "color": "rgba(128, 128, 128, 1.0)",
          "dash": "solid",
          "shape": "linear",
          "width": 1.3
         },
         "marker": {
          "size": 2,
          "symbol": "circle"
         },
         "mode": "markers",
         "name": "D",
         "text": "",
         "type": "scatter",
         "x": [
          1.4231283587146955,
          0.7516603116190158,
          -0.04069831395129999,
          0.8494525246784042,
          0.7977645931831729,
          -2.424491651018319,
          -1.2582093110568149,
          -0.15529258970936946,
          -0.45312148704220795,
          -2.2775610915462363,
          0.1332429602222429,
          0.3998857890171944,
          -0.14904950186615676,
          1.1931908500642565,
          0.783776424506487,
          -0.13860290912962892,
          0.7664731049270755,
          -0.14547497275331425,
          -0.40802584839016576,
          1.0711888545925605,
          -0.642313308372773,
          0.049879911918071174,
          1.8009405803668426,
          -1.469579438518773,
          2.211475339175111,
          -0.38394754230209527,
          -0.8483588357454597,
          -0.4233808984906991,
          0.8970171336936127,
          -0.46309218292344384,
          -1.540708272987029,
          -0.22011844093930893,
          1.2626125439114022,
          -0.8599224592696124,
          0.7620320340247184,
          0.6063787747519568,
          -0.5021325565790095,
          -0.4042442991222263,
          0.6378712352966499,
          -0.32475739002353093,
          -1.355471592482026,
          0.8188916405081248,
          -0.7136407597534036,
          1.4530169466066432,
          0.12437035702819564,
          0.34380998064207186,
          0.3670261299236814,
          -0.7087328956200836,
          -1.258067366257801,
          0.12928804837990635,
          -0.31603283402669446,
          0.6408530470104912,
          1.194512576723845,
          -1.5542148592170382,
          -0.3180623240226567,
          -0.26232905958765823,
          -2.5250678931764288,
          0.03021518574286839,
          0.8782566747525722,
          0.06805291179027405,
          -0.7800434613277817,
          0.30587770196971614,
          -1.527764831789569,
          -1.2455255738078197,
          0.8708789079885804,
          -2.277781652216472,
          -0.961085083474282,
          0.7480604179254391,
          -1.132740550097753,
          -0.21494270061498336,
          0.26326840794947803,
          1.9435527095905965,
          0.6633014767479828,
          -0.33967376673719074,
          -1.0005256175729227,
          1.033839740834173,
          -0.1344938358004172,
          -1.8377909653802171,
          0.4862090693094273,
          0.019117224110497474,
          1.4381775613316357,
          1.0022419802726958,
          0.6177486704087491,
          0.2238116198272653,
          -0.3792759330228207,
          1.5642561450343315,
          -1.4797684734922998,
          1.0732977102841788,
          -1.0993447775978227,
          0.6133786466992118,
          -1.7069242684336634,
          1.2751028892789205,
          0.401432572330607,
          0.8652760480066986,
          -0.019418977081185895,
          0.9807867122167452,
          1.6018808310985337,
          0.13459144877490167,
          0.9626180719042506,
          0.9937757289990029
         ],
         "xaxis": "x13",
         "y": [
          0.73852935833334,
          -1.5176580227009084,
          0.512594517331452,
          -0.9765693441549024,
          0.2597380646455681,
          0.2005281674647245,
          -0.43222083383021487,
          0.28264608068641234,
          -2.353290595895701,
          -1.8926961644530766,
          2.27093306437956,
          1.2066485053430889,
          0.7054562289187188,
          1.0055452928207518,
          -0.4681460091213367,
          -1.2944114494644843,
          1.3607689933983973,
          0.09725199606574048,
          1.83736969115192,
          -1.1587227224422534,
          1.1090726500218338,
          -0.7225013349844344,
          -0.9137980221576838,
          -1.0601686685049398,
          1.4026374642411892,
          0.7902606455214161,
          -0.9667653313329032,
          0.39019832840791346,
          0.8797628220128945,
          -0.3215103633202152,
          0.45125592139847504,
          0.5414061119409422,
          0.7658140963443745,
          1.9675578763616768,
          0.6289659039244848,
          -0.32953287186860414,
          -1.1046035644406151,
          -0.5017107675914297,
          -0.050135588577950634,
          0.1156013888140175,
          1.817026403682867,
          -0.5822754037947193,
          -1.1159809283681592,
          0.5829597663270446,
          1.525546490741131,
          -0.7870451502160626,
          -0.07801027556160016,
          -0.09916614697687562,
          -0.6484936684020154,
          0.9061275439005156,
          -1.1977397401901584,
          0.07216530006961856,
          -0.09471364186907975,
          -0.33168597889227824,
          1.3856210920715732,
          0.29228648402712515,
          -0.31506805736201177,
          0.26406938841327465,
          0.1214991679754779,
          -1.4589964130764155,
          -0.2960215475269721,
          -0.08473609173871421,
          -0.24788889268351452,
          -0.4012651394180614,
          -0.11119053847235782,
          0.032618335709918636,
          2.302025450805792,
          1.0351623471019253,
          -0.7274030283028319,
          0.16223023965662992,
          0.3275178990919996,
          -0.8248485244343083,
          0.320470268526574,
          0.24774868235903783,
          -1.1422354828286703,
          -0.9544307180899267,
          0.03015949233702071,
          -0.29061097551377707,
          0.587152578186654,
          -1.2663987789455702,
          -0.1760172926593463,
          2.1270370895124264,
          -1.2136800421158462,
          -0.08958940819583555,
          -2.9392124879873895,
          0.2209583862426302,
          0.9049504073046822,
          1.7660163025166824,
          0.2979790504197034,
          1.4258052202184266,
          0.12340898475312499,
          2.5323839720634402,
          -1.3844333428579232,
          2.2457544603669746,
          -1.1848977721498695,
          0.6082307057013913,
          -0.24041896437186125,
          -0.6704452551959191,
          -0.7461529444354846,
          -0.6875391663565866
         ],
         "yaxis": "y13"
        },
        {
         "line": {
          "color": "rgba(128, 128, 128, 1.0)",
          "dash": "solid",
          "shape": "linear",
          "width": 1.3
         },
         "marker": {
          "size": 2,
          "symbol": "circle"
         },
         "mode": "markers",
         "name": "D",
         "text": "",
         "type": "scatter",
         "x": [
          -1.3159148036125334,
          -0.6711729334327814,
          0.938030616343648,
          -0.883172519923497,
          -1.1559543838137716,
          -0.21362938182096808,
          1.1865996630899105,
          -0.13503942410931474,
          0.702379722654413,
          2.1627358962212906,
          0.2707271260340421,
          -0.08373718813127257,
          -1.4246125339918407,
          0.19285853601533218,
          0.6007247164853516,
          -0.8692022129422258,
          0.101009847359833,
          1.446347405489576,
          1.4241402916808978,
          0.09233934005602447,
          2.1859187944191194,
          0.7649775110539025,
          0.6796053495705884,
          -0.554852071312288,
          1.1130260106970804,
          -1.5297190221801549,
          0.22693985504789704,
          -0.9814227313037053,
          1.3706959453569925,
          2.0683730411899925,
          0.4586619732815214,
          1.2190858388012593,
          -1.1004677584045799,
          -0.28434856410119347,
          0.2926406015415052,
          -0.4334229059903361,
          -1.4806843754448946,
          -0.9910248686250521,
          0.13800914672309186,
          -1.034345016229925,
          -1.3875499683950403,
          -0.2839718128545817,
          0.40723721037804944,
          1.2103459308374067,
          -0.6544666001268368,
          -1.323283032466016,
          -0.9338408253711902,
          -1.3657749261666121,
          -0.22670230951583553,
          1.673174411862094,
          -0.7392250392494247,
          -0.5977251424426647,
          -0.8798250439172343,
          0.848483523562618,
          -0.8373298454739747,
          -0.4928515836198017,
          0.7567630417126984,
          1.7191358646363109,
          1.9142309523473156,
          0.7116906418838965,
          -0.6317604607877776,
          -0.3603533087907271,
          0.06537406356420647,
          -0.2362899962772877,
          0.30910863432263014,
          -0.3106251550628561,
          -0.425735266645392,
          -0.16654657872439244,
          1.0279927804245697,
          0.6154531545225654,
          0.38133211748851936,
          0.7107218250480805,
          0.6169978660921006,
          0.35961602170113527,
          0.3529418612584008,
          -2.4210794154829363,
          0.21751336076725786,
          0.13751215145474693,
          1.8218497869401669,
          -1.026045419410824,
          -0.17358063387533523,
          -0.12941743078398793,
          -0.10898435004964954,
          -0.9815145765089636,
          -0.712956213176565,
          0.45861126534718105,
          -1.35549152949366,
          0.261728135661618,
          0.44365502505321674,
          -0.4299447790444871,
          1.4603204442829751,
          -2.77607709870146,
          -0.11281905305207801,
          0.4503284425976104,
          -0.6363703760997098,
          0.706131730762392,
          -0.5553440039407791,
          -0.5558337541696055,
          1.1021535193467047,
          -0.10646954349882545
         ],
         "xaxis": "x14",
         "y": [
          0.73852935833334,
          -1.5176580227009084,
          0.512594517331452,
          -0.9765693441549024,
          0.2597380646455681,
          0.2005281674647245,
          -0.43222083383021487,
          0.28264608068641234,
          -2.353290595895701,
          -1.8926961644530766,
          2.27093306437956,
          1.2066485053430889,
          0.7054562289187188,
          1.0055452928207518,
          -0.4681460091213367,
          -1.2944114494644843,
          1.3607689933983973,
          0.09725199606574048,
          1.83736969115192,
          -1.1587227224422534,
          1.1090726500218338,
          -0.7225013349844344,
          -0.9137980221576838,
          -1.0601686685049398,
          1.4026374642411892,
          0.7902606455214161,
          -0.9667653313329032,
          0.39019832840791346,
          0.8797628220128945,
          -0.3215103633202152,
          0.45125592139847504,
          0.5414061119409422,
          0.7658140963443745,
          1.9675578763616768,
          0.6289659039244848,
          -0.32953287186860414,
          -1.1046035644406151,
          -0.5017107675914297,
          -0.050135588577950634,
          0.1156013888140175,
          1.817026403682867,
          -0.5822754037947193,
          -1.1159809283681592,
          0.5829597663270446,
          1.525546490741131,
          -0.7870451502160626,
          -0.07801027556160016,
          -0.09916614697687562,
          -0.6484936684020154,
          0.9061275439005156,
          -1.1977397401901584,
          0.07216530006961856,
          -0.09471364186907975,
          -0.33168597889227824,
          1.3856210920715732,
          0.29228648402712515,
          -0.31506805736201177,
          0.26406938841327465,
          0.1214991679754779,
          -1.4589964130764155,
          -0.2960215475269721,
          -0.08473609173871421,
          -0.24788889268351452,
          -0.4012651394180614,
          -0.11119053847235782,
          0.032618335709918636,
          2.302025450805792,
          1.0351623471019253,
          -0.7274030283028319,
          0.16223023965662992,
          0.3275178990919996,
          -0.8248485244343083,
          0.320470268526574,
          0.24774868235903783,
          -1.1422354828286703,
          -0.9544307180899267,
          0.03015949233702071,
          -0.29061097551377707,
          0.587152578186654,
          -1.2663987789455702,
          -0.1760172926593463,
          2.1270370895124264,
          -1.2136800421158462,
          -0.08958940819583555,
          -2.9392124879873895,
          0.2209583862426302,
          0.9049504073046822,
          1.7660163025166824,
          0.2979790504197034,
          1.4258052202184266,
          0.12340898475312499,
          2.5323839720634402,
          -1.3844333428579232,
          2.2457544603669746,
          -1.1848977721498695,
          0.6082307057013913,
          -0.24041896437186125,
          -0.6704452551959191,
          -0.7461529444354846,
          -0.6875391663565866
         ],
         "yaxis": "y14"
        },
        {
         "line": {
          "color": "rgba(128, 128, 128, 1.0)",
          "dash": "solid",
          "shape": "linear",
          "width": 1.3
         },
         "marker": {
          "size": 2,
          "symbol": "circle"
         },
         "mode": "markers",
         "name": "D",
         "text": "",
         "type": "scatter",
         "x": [
          -0.13237579222541013,
          -0.052347829704393126,
          0.4692526299940617,
          0.31613759897620036,
          0.038077627669812375,
          1.5011192659797281,
          -0.29842974623082363,
          -0.6135580924459909,
          0.06592428522592648,
          1.3603710179272264,
          -2.3409190663165464,
          -0.2889958922051712,
          1.978389322463096,
          0.5813553904840633,
          -1.888732642009797,
          -0.5018245258341147,
          -0.0489213899629533,
          0.5371642503245256,
          1.1016891114589598,
          0.9666620958063254,
          0.694573206426251,
          0.2478258235386552,
          0.8195615195552352,
          0.6205339681382519,
          -0.8050729161790104,
          1.6231169796230278,
          -1.7579390663376324,
          0.7523004931694655,
          2.5550957009229145,
          -0.16043494088364257,
          -1.5126796219247454,
          1.1408972343680064,
          0.029819705381316952,
          0.7312165813450313,
          0.07373317269178083,
          -0.2849716167860715,
          0.023478680449609938,
          -1.2236177266917754,
          1.3666823261506365,
          -0.9286665847654201,
          0.10599810305490082,
          -0.43841601974518873,
          -0.353627868945709,
          -0.9318346325943048,
          1.7066007515376558,
          -0.11443002079209948,
          0.611898576384863,
          -1.6980193319777221,
          -1.7557760172017405,
          1.1859346187066266,
          0.35278967968166297,
          -0.6625442040702696,
          -0.4316534763318296,
          -0.8553573752349162,
          0.419361435533611,
          0.3050586495992559,
          -0.5654831979495469,
          0.23505406461487433,
          0.2824194464623127,
          -0.23280675726503214,
          -0.18403686480620848,
          1.3806881575057637,
          0.22839093562968843,
          -0.7779119845767521,
          -0.212027223863369,
          -1.1557481827178329,
          -0.08080240184313331,
          0.019360151832484428,
          -1.059697548621927,
          0.33387705641420945,
          -1.2637904918675884,
          0.8925279544822788,
          -1.967577246484591,
          -1.5402676423006545,
          -0.6636279606621213,
          0.20823708740936742,
          -0.11780854016506509,
          0.1645481697701134,
          -0.09450343044520912,
          0.43063323328726044,
          -1.5621942064559213,
          -1.278464936613575,
          0.9229912359708183,
          0.6992700227549166,
          0.6040142131825644,
          -0.9377269609438603,
          -1.0082577364982552,
          -0.13914798114251678,
          -2.0678577173120836,
          1.4000324476157366,
          0.8889606602303802,
          -0.8135337263237251,
          -0.01290035882819455,
          -1.0931618685607598,
          -0.29562697230604573,
          0.7013912694029035,
          1.2202457243437268,
          -0.03618334178095662,
          -0.6835029620743883,
          -0.31693575222433584
         ],
         "xaxis": "x15",
         "y": [
          0.73852935833334,
          -1.5176580227009084,
          0.512594517331452,
          -0.9765693441549024,
          0.2597380646455681,
          0.2005281674647245,
          -0.43222083383021487,
          0.28264608068641234,
          -2.353290595895701,
          -1.8926961644530766,
          2.27093306437956,
          1.2066485053430889,
          0.7054562289187188,
          1.0055452928207518,
          -0.4681460091213367,
          -1.2944114494644843,
          1.3607689933983973,
          0.09725199606574048,
          1.83736969115192,
          -1.1587227224422534,
          1.1090726500218338,
          -0.7225013349844344,
          -0.9137980221576838,
          -1.0601686685049398,
          1.4026374642411892,
          0.7902606455214161,
          -0.9667653313329032,
          0.39019832840791346,
          0.8797628220128945,
          -0.3215103633202152,
          0.45125592139847504,
          0.5414061119409422,
          0.7658140963443745,
          1.9675578763616768,
          0.6289659039244848,
          -0.32953287186860414,
          -1.1046035644406151,
          -0.5017107675914297,
          -0.050135588577950634,
          0.1156013888140175,
          1.817026403682867,
          -0.5822754037947193,
          -1.1159809283681592,
          0.5829597663270446,
          1.525546490741131,
          -0.7870451502160626,
          -0.07801027556160016,
          -0.09916614697687562,
          -0.6484936684020154,
          0.9061275439005156,
          -1.1977397401901584,
          0.07216530006961856,
          -0.09471364186907975,
          -0.33168597889227824,
          1.3856210920715732,
          0.29228648402712515,
          -0.31506805736201177,
          0.26406938841327465,
          0.1214991679754779,
          -1.4589964130764155,
          -0.2960215475269721,
          -0.08473609173871421,
          -0.24788889268351452,
          -0.4012651394180614,
          -0.11119053847235782,
          0.032618335709918636,
          2.302025450805792,
          1.0351623471019253,
          -0.7274030283028319,
          0.16223023965662992,
          0.3275178990919996,
          -0.8248485244343083,
          0.320470268526574,
          0.24774868235903783,
          -1.1422354828286703,
          -0.9544307180899267,
          0.03015949233702071,
          -0.29061097551377707,
          0.587152578186654,
          -1.2663987789455702,
          -0.1760172926593463,
          2.1270370895124264,
          -1.2136800421158462,
          -0.08958940819583555,
          -2.9392124879873895,
          0.2209583862426302,
          0.9049504073046822,
          1.7660163025166824,
          0.2979790504197034,
          1.4258052202184266,
          0.12340898475312499,
          2.5323839720634402,
          -1.3844333428579232,
          2.2457544603669746,
          -1.1848977721498695,
          0.6082307057013913,
          -0.24041896437186125,
          -0.6704452551959191,
          -0.7461529444354846,
          -0.6875391663565866
         ],
         "yaxis": "y15"
        },
        {
         "histfunc": "count",
         "histnorm": "",
         "marker": {
          "color": "rgba(128, 0, 128, 1.0)",
          "line": {
           "color": "#4D5663",
           "width": 1.3
          }
         },
         "name": "D",
         "nbinsx": 10,
         "opacity": 0.8,
         "orientation": "v",
         "type": "histogram",
         "x": [
          0.73852935833334,
          -1.5176580227009084,
          0.512594517331452,
          -0.9765693441549024,
          0.2597380646455681,
          0.2005281674647245,
          -0.43222083383021487,
          0.28264608068641234,
          -2.353290595895701,
          -1.8926961644530766,
          2.27093306437956,
          1.2066485053430889,
          0.7054562289187188,
          1.0055452928207518,
          -0.4681460091213367,
          -1.2944114494644843,
          1.3607689933983973,
          0.09725199606574048,
          1.83736969115192,
          -1.1587227224422534,
          1.1090726500218338,
          -0.7225013349844344,
          -0.9137980221576838,
          -1.0601686685049398,
          1.4026374642411892,
          0.7902606455214161,
          -0.9667653313329032,
          0.39019832840791346,
          0.8797628220128945,
          -0.3215103633202152,
          0.45125592139847504,
          0.5414061119409422,
          0.7658140963443745,
          1.9675578763616768,
          0.6289659039244848,
          -0.32953287186860414,
          -1.1046035644406151,
          -0.5017107675914297,
          -0.050135588577950634,
          0.1156013888140175,
          1.817026403682867,
          -0.5822754037947193,
          -1.1159809283681592,
          0.5829597663270446,
          1.525546490741131,
          -0.7870451502160626,
          -0.07801027556160016,
          -0.09916614697687562,
          -0.6484936684020154,
          0.9061275439005156,
          -1.1977397401901584,
          0.07216530006961856,
          -0.09471364186907975,
          -0.33168597889227824,
          1.3856210920715732,
          0.29228648402712515,
          -0.31506805736201177,
          0.26406938841327465,
          0.1214991679754779,
          -1.4589964130764155,
          -0.2960215475269721,
          -0.08473609173871421,
          -0.24788889268351452,
          -0.4012651394180614,
          -0.11119053847235782,
          0.032618335709918636,
          2.302025450805792,
          1.0351623471019253,
          -0.7274030283028319,
          0.16223023965662992,
          0.3275178990919996,
          -0.8248485244343083,
          0.320470268526574,
          0.24774868235903783,
          -1.1422354828286703,
          -0.9544307180899267,
          0.03015949233702071,
          -0.29061097551377707,
          0.587152578186654,
          -1.2663987789455702,
          -0.1760172926593463,
          2.1270370895124264,
          -1.2136800421158462,
          -0.08958940819583555,
          -2.9392124879873895,
          0.2209583862426302,
          0.9049504073046822,
          1.7660163025166824,
          0.2979790504197034,
          1.4258052202184266,
          0.12340898475312499,
          2.5323839720634402,
          -1.3844333428579232,
          2.2457544603669746,
          -1.1848977721498695,
          0.6082307057013913,
          -0.24041896437186125,
          -0.6704452551959191,
          -0.7461529444354846,
          -0.6875391663565866
         ],
         "xaxis": "x16",
         "yaxis": "y16"
        }
       ],
       "layout": {
        "bargap": 0.02,
        "legend": {
         "bgcolor": "#F5F6F9",
         "font": {
          "color": "#4D5663"
         }
        },
        "paper_bgcolor": "#F5F6F9",
        "plot_bgcolor": "#F5F6F9",
        "showlegend": false,
        "template": {
         "data": {
          "bar": [
           {
            "error_x": {
             "color": "#2a3f5f"
            },
            "error_y": {
             "color": "#2a3f5f"
            },
            "marker": {
             "line": {
              "color": "#E5ECF6",
              "width": 0.5
             }
            },
            "type": "bar"
           }
          ],
          "barpolar": [
           {
            "marker": {
             "line": {
              "color": "#E5ECF6",
              "width": 0.5
             }
            },
            "type": "barpolar"
           }
          ],
          "carpet": [
           {
            "aaxis": {
             "endlinecolor": "#2a3f5f",
             "gridcolor": "white",
             "linecolor": "white",
             "minorgridcolor": "white",
             "startlinecolor": "#2a3f5f"
            },
            "baxis": {
             "endlinecolor": "#2a3f5f",
             "gridcolor": "white",
             "linecolor": "white",
             "minorgridcolor": "white",
             "startlinecolor": "#2a3f5f"
            },
            "type": "carpet"
           }
          ],
          "choropleth": [
           {
            "colorbar": {
             "outlinewidth": 0,
             "ticks": ""
            },
            "type": "choropleth"
           }
          ],
          "contour": [
           {
            "colorbar": {
             "outlinewidth": 0,
             "ticks": ""
            },
            "colorscale": [
             [
              0,
              "#0d0887"
             ],
             [
              0.1111111111111111,
              "#46039f"
             ],
             [
              0.2222222222222222,
              "#7201a8"
             ],
             [
              0.3333333333333333,
              "#9c179e"
             ],
             [
              0.4444444444444444,
              "#bd3786"
             ],
             [
              0.5555555555555556,
              "#d8576b"
             ],
             [
              0.6666666666666666,
              "#ed7953"
             ],
             [
              0.7777777777777778,
              "#fb9f3a"
             ],
             [
              0.8888888888888888,
              "#fdca26"
             ],
             [
              1,
              "#f0f921"
             ]
            ],
            "type": "contour"
           }
          ],
          "contourcarpet": [
           {
            "colorbar": {
             "outlinewidth": 0,
             "ticks": ""
            },
            "type": "contourcarpet"
           }
          ],
          "heatmap": [
           {
            "colorbar": {
             "outlinewidth": 0,
             "ticks": ""
            },
            "colorscale": [
             [
              0,
              "#0d0887"
             ],
             [
              0.1111111111111111,
              "#46039f"
             ],
             [
              0.2222222222222222,
              "#7201a8"
             ],
             [
              0.3333333333333333,
              "#9c179e"
             ],
             [
              0.4444444444444444,
              "#bd3786"
             ],
             [
              0.5555555555555556,
              "#d8576b"
             ],
             [
              0.6666666666666666,
              "#ed7953"
             ],
             [
              0.7777777777777778,
              "#fb9f3a"
             ],
             [
              0.8888888888888888,
              "#fdca26"
             ],
             [
              1,
              "#f0f921"
             ]
            ],
            "type": "heatmap"
           }
          ],
          "heatmapgl": [
           {
            "colorbar": {
             "outlinewidth": 0,
             "ticks": ""
            },
            "colorscale": [
             [
              0,
              "#0d0887"
             ],
             [
              0.1111111111111111,
              "#46039f"
             ],
             [
              0.2222222222222222,
              "#7201a8"
             ],
             [
              0.3333333333333333,
              "#9c179e"
             ],
             [
              0.4444444444444444,
              "#bd3786"
             ],
             [
              0.5555555555555556,
              "#d8576b"
             ],
             [
              0.6666666666666666,
              "#ed7953"
             ],
             [
              0.7777777777777778,
              "#fb9f3a"
             ],
             [
              0.8888888888888888,
              "#fdca26"
             ],
             [
              1,
              "#f0f921"
             ]
            ],
            "type": "heatmapgl"
           }
          ],
          "histogram": [
           {
            "marker": {
             "colorbar": {
              "outlinewidth": 0,
              "ticks": ""
             }
            },
            "type": "histogram"
           }
          ],
          "histogram2d": [
           {
            "colorbar": {
             "outlinewidth": 0,
             "ticks": ""
            },
            "colorscale": [
             [
              0,
              "#0d0887"
             ],
             [
              0.1111111111111111,
              "#46039f"
             ],
             [
              0.2222222222222222,
              "#7201a8"
             ],
             [
              0.3333333333333333,
              "#9c179e"
             ],
             [
              0.4444444444444444,
              "#bd3786"
             ],
             [
              0.5555555555555556,
              "#d8576b"
             ],
             [
              0.6666666666666666,
              "#ed7953"
             ],
             [
              0.7777777777777778,
              "#fb9f3a"
             ],
             [
              0.8888888888888888,
              "#fdca26"
             ],
             [
              1,
              "#f0f921"
             ]
            ],
            "type": "histogram2d"
           }
          ],
          "histogram2dcontour": [
           {
            "colorbar": {
             "outlinewidth": 0,
             "ticks": ""
            },
            "colorscale": [
             [
              0,
              "#0d0887"
             ],
             [
              0.1111111111111111,
              "#46039f"
             ],
             [
              0.2222222222222222,
              "#7201a8"
             ],
             [
              0.3333333333333333,
              "#9c179e"
             ],
             [
              0.4444444444444444,
              "#bd3786"
             ],
             [
              0.5555555555555556,
              "#d8576b"
             ],
             [
              0.6666666666666666,
              "#ed7953"
             ],
             [
              0.7777777777777778,
              "#fb9f3a"
             ],
             [
              0.8888888888888888,
              "#fdca26"
             ],
             [
              1,
              "#f0f921"
             ]
            ],
            "type": "histogram2dcontour"
           }
          ],
          "mesh3d": [
           {
            "colorbar": {
             "outlinewidth": 0,
             "ticks": ""
            },
            "type": "mesh3d"
           }
          ],
          "parcoords": [
           {
            "line": {
             "colorbar": {
              "outlinewidth": 0,
              "ticks": ""
             }
            },
            "type": "parcoords"
           }
          ],
          "pie": [
           {
            "automargin": true,
            "type": "pie"
           }
          ],
          "scatter": [
           {
            "marker": {
             "colorbar": {
              "outlinewidth": 0,
              "ticks": ""
             }
            },
            "type": "scatter"
           }
          ],
          "scatter3d": [
           {
            "line": {
             "colorbar": {
              "outlinewidth": 0,
              "ticks": ""
             }
            },
            "marker": {
             "colorbar": {
              "outlinewidth": 0,
              "ticks": ""
             }
            },
            "type": "scatter3d"
           }
          ],
          "scattercarpet": [
           {
            "marker": {
             "colorbar": {
              "outlinewidth": 0,
              "ticks": ""
             }
            },
            "type": "scattercarpet"
           }
          ],
          "scattergeo": [
           {
            "marker": {
             "colorbar": {
              "outlinewidth": 0,
              "ticks": ""
             }
            },
            "type": "scattergeo"
           }
          ],
          "scattergl": [
           {
            "marker": {
             "colorbar": {
              "outlinewidth": 0,
              "ticks": ""
             }
            },
            "type": "scattergl"
           }
          ],
          "scattermapbox": [
           {
            "marker": {
             "colorbar": {
              "outlinewidth": 0,
              "ticks": ""
             }
            },
            "type": "scattermapbox"
           }
          ],
          "scatterpolar": [
           {
            "marker": {
             "colorbar": {
              "outlinewidth": 0,
              "ticks": ""
             }
            },
            "type": "scatterpolar"
           }
          ],
          "scatterpolargl": [
           {
            "marker": {
             "colorbar": {
              "outlinewidth": 0,
              "ticks": ""
             }
            },
            "type": "scatterpolargl"
           }
          ],
          "scatterternary": [
           {
            "marker": {
             "colorbar": {
              "outlinewidth": 0,
              "ticks": ""
             }
            },
            "type": "scatterternary"
           }
          ],
          "surface": [
           {
            "colorbar": {
             "outlinewidth": 0,
             "ticks": ""
            },
            "colorscale": [
             [
              0,
              "#0d0887"
             ],
             [
              0.1111111111111111,
              "#46039f"
             ],
             [
              0.2222222222222222,
              "#7201a8"
             ],
             [
              0.3333333333333333,
              "#9c179e"
             ],
             [
              0.4444444444444444,
              "#bd3786"
             ],
             [
              0.5555555555555556,
              "#d8576b"
             ],
             [
              0.6666666666666666,
              "#ed7953"
             ],
             [
              0.7777777777777778,
              "#fb9f3a"
             ],
             [
              0.8888888888888888,
              "#fdca26"
             ],
             [
              1,
              "#f0f921"
             ]
            ],
            "type": "surface"
           }
          ],
          "table": [
           {
            "cells": {
             "fill": {
              "color": "#EBF0F8"
             },
             "line": {
              "color": "white"
             }
            },
            "header": {
             "fill": {
              "color": "#C8D4E3"
             },
             "line": {
              "color": "white"
             }
            },
            "type": "table"
           }
          ]
         },
         "layout": {
          "annotationdefaults": {
           "arrowcolor": "#2a3f5f",
           "arrowhead": 0,
           "arrowwidth": 1
          },
          "coloraxis": {
           "colorbar": {
            "outlinewidth": 0,
            "ticks": ""
           }
          },
          "colorscale": {
           "diverging": [
            [
             0,
             "#8e0152"
            ],
            [
             0.1,
             "#c51b7d"
            ],
            [
             0.2,
             "#de77ae"
            ],
            [
             0.3,
             "#f1b6da"
            ],
            [
             0.4,
             "#fde0ef"
            ],
            [
             0.5,
             "#f7f7f7"
            ],
            [
             0.6,
             "#e6f5d0"
            ],
            [
             0.7,
             "#b8e186"
            ],
            [
             0.8,
             "#7fbc41"
            ],
            [
             0.9,
             "#4d9221"
            ],
            [
             1,
             "#276419"
            ]
           ],
           "sequential": [
            [
             0,
             "#0d0887"
            ],
            [
             0.1111111111111111,
             "#46039f"
            ],
            [
             0.2222222222222222,
             "#7201a8"
            ],
            [
             0.3333333333333333,
             "#9c179e"
            ],
            [
             0.4444444444444444,
             "#bd3786"
            ],
            [
             0.5555555555555556,
             "#d8576b"
            ],
            [
             0.6666666666666666,
             "#ed7953"
            ],
            [
             0.7777777777777778,
             "#fb9f3a"
            ],
            [
             0.8888888888888888,
             "#fdca26"
            ],
            [
             1,
             "#f0f921"
            ]
           ],
           "sequentialminus": [
            [
             0,
             "#0d0887"
            ],
            [
             0.1111111111111111,
             "#46039f"
            ],
            [
             0.2222222222222222,
             "#7201a8"
            ],
            [
             0.3333333333333333,
             "#9c179e"
            ],
            [
             0.4444444444444444,
             "#bd3786"
            ],
            [
             0.5555555555555556,
             "#d8576b"
            ],
            [
             0.6666666666666666,
             "#ed7953"
            ],
            [
             0.7777777777777778,
             "#fb9f3a"
            ],
            [
             0.8888888888888888,
             "#fdca26"
            ],
            [
             1,
             "#f0f921"
            ]
           ]
          },
          "colorway": [
           "#636efa",
           "#EF553B",
           "#00cc96",
           "#ab63fa",
           "#FFA15A",
           "#19d3f3",
           "#FF6692",
           "#B6E880",
           "#FF97FF",
           "#FECB52"
          ],
          "font": {
           "color": "#2a3f5f"
          },
          "geo": {
           "bgcolor": "white",
           "lakecolor": "white",
           "landcolor": "#E5ECF6",
           "showlakes": true,
           "showland": true,
           "subunitcolor": "white"
          },
          "hoverlabel": {
           "align": "left"
          },
          "hovermode": "closest",
          "mapbox": {
           "style": "light"
          },
          "paper_bgcolor": "white",
          "plot_bgcolor": "#E5ECF6",
          "polar": {
           "angularaxis": {
            "gridcolor": "white",
            "linecolor": "white",
            "ticks": ""
           },
           "bgcolor": "#E5ECF6",
           "radialaxis": {
            "gridcolor": "white",
            "linecolor": "white",
            "ticks": ""
           }
          },
          "scene": {
           "xaxis": {
            "backgroundcolor": "#E5ECF6",
            "gridcolor": "white",
            "gridwidth": 2,
            "linecolor": "white",
            "showbackground": true,
            "ticks": "",
            "zerolinecolor": "white"
           },
           "yaxis": {
            "backgroundcolor": "#E5ECF6",
            "gridcolor": "white",
            "gridwidth": 2,
            "linecolor": "white",
            "showbackground": true,
            "ticks": "",
            "zerolinecolor": "white"
           },
           "zaxis": {
            "backgroundcolor": "#E5ECF6",
            "gridcolor": "white",
            "gridwidth": 2,
            "linecolor": "white",
            "showbackground": true,
            "ticks": "",
            "zerolinecolor": "white"
           }
          },
          "shapedefaults": {
           "line": {
            "color": "#2a3f5f"
           }
          },
          "ternary": {
           "aaxis": {
            "gridcolor": "white",
            "linecolor": "white",
            "ticks": ""
           },
           "baxis": {
            "gridcolor": "white",
            "linecolor": "white",
            "ticks": ""
           },
           "bgcolor": "#E5ECF6",
           "caxis": {
            "gridcolor": "white",
            "linecolor": "white",
            "ticks": ""
           }
          },
          "title": {
           "x": 0.05
          },
          "xaxis": {
           "automargin": true,
           "gridcolor": "white",
           "linecolor": "white",
           "ticks": "",
           "title": {
            "standoff": 15
           },
           "zerolinecolor": "white",
           "zerolinewidth": 2
          },
          "yaxis": {
           "automargin": true,
           "gridcolor": "white",
           "linecolor": "white",
           "ticks": "",
           "title": {
            "standoff": 15
           },
           "zerolinecolor": "white",
           "zerolinewidth": 2
          }
         }
        },
        "title": {
         "font": {
          "color": "#4D5663"
         }
        },
        "xaxis": {
         "anchor": "y",
         "domain": [
          0,
          0.2125
         ],
         "gridcolor": "#E1E5ED",
         "showgrid": false,
         "tickfont": {
          "color": "#4D5663"
         },
         "title": {
          "font": {
           "color": "#4D5663"
          },
          "text": ""
         },
         "zerolinecolor": "#E1E5ED"
        },
        "xaxis10": {
         "anchor": "y10",
         "domain": [
          0.2625,
          0.475
         ],
         "gridcolor": "#E1E5ED",
         "showgrid": false,
         "tickfont": {
          "color": "#4D5663"
         },
         "title": {
          "font": {
           "color": "#4D5663"
          },
          "text": ""
         },
         "zerolinecolor": "#E1E5ED"
        },
        "xaxis11": {
         "anchor": "y11",
         "domain": [
          0.525,
          0.7375
         ],
         "gridcolor": "#E1E5ED",
         "showgrid": false,
         "tickfont": {
          "color": "#4D5663"
         },
         "title": {
          "font": {
           "color": "#4D5663"
          },
          "text": ""
         },
         "zerolinecolor": "#E1E5ED"
        },
        "xaxis12": {
         "anchor": "y12",
         "domain": [
          0.7875,
          1
         ],
         "gridcolor": "#E1E5ED",
         "showgrid": false,
         "tickfont": {
          "color": "#4D5663"
         },
         "title": {
          "font": {
           "color": "#4D5663"
          },
          "text": ""
         },
         "zerolinecolor": "#E1E5ED"
        },
        "xaxis13": {
         "anchor": "y13",
         "domain": [
          0,
          0.2125
         ],
         "gridcolor": "#E1E5ED",
         "showgrid": false,
         "tickfont": {
          "color": "#4D5663"
         },
         "title": {
          "font": {
           "color": "#4D5663"
          },
          "text": ""
         },
         "zerolinecolor": "#E1E5ED"
        },
        "xaxis14": {
         "anchor": "y14",
         "domain": [
          0.2625,
          0.475
         ],
         "gridcolor": "#E1E5ED",
         "showgrid": false,
         "tickfont": {
          "color": "#4D5663"
         },
         "title": {
          "font": {
           "color": "#4D5663"
          },
          "text": ""
         },
         "zerolinecolor": "#E1E5ED"
        },
        "xaxis15": {
         "anchor": "y15",
         "domain": [
          0.525,
          0.7375
         ],
         "gridcolor": "#E1E5ED",
         "showgrid": false,
         "tickfont": {
          "color": "#4D5663"
         },
         "title": {
          "font": {
           "color": "#4D5663"
          },
          "text": ""
         },
         "zerolinecolor": "#E1E5ED"
        },
        "xaxis16": {
         "anchor": "y16",
         "domain": [
          0.7875,
          1
         ],
         "gridcolor": "#E1E5ED",
         "showgrid": false,
         "tickfont": {
          "color": "#4D5663"
         },
         "title": {
          "font": {
           "color": "#4D5663"
          },
          "text": ""
         },
         "zerolinecolor": "#E1E5ED"
        },
        "xaxis2": {
         "anchor": "y2",
         "domain": [
          0.2625,
          0.475
         ],
         "gridcolor": "#E1E5ED",
         "showgrid": false,
         "tickfont": {
          "color": "#4D5663"
         },
         "title": {
          "font": {
           "color": "#4D5663"
          },
          "text": ""
         },
         "zerolinecolor": "#E1E5ED"
        },
        "xaxis3": {
         "anchor": "y3",
         "domain": [
          0.525,
          0.7375
         ],
         "gridcolor": "#E1E5ED",
         "showgrid": false,
         "tickfont": {
          "color": "#4D5663"
         },
         "title": {
          "font": {
           "color": "#4D5663"
          },
          "text": ""
         },
         "zerolinecolor": "#E1E5ED"
        },
        "xaxis4": {
         "anchor": "y4",
         "domain": [
          0.7875,
          1
         ],
         "gridcolor": "#E1E5ED",
         "showgrid": false,
         "tickfont": {
          "color": "#4D5663"
         },
         "title": {
          "font": {
           "color": "#4D5663"
          },
          "text": ""
         },
         "zerolinecolor": "#E1E5ED"
        },
        "xaxis5": {
         "anchor": "y5",
         "domain": [
          0,
          0.2125
         ],
         "gridcolor": "#E1E5ED",
         "showgrid": false,
         "tickfont": {
          "color": "#4D5663"
         },
         "title": {
          "font": {
           "color": "#4D5663"
          },
          "text": ""
         },
         "zerolinecolor": "#E1E5ED"
        },
        "xaxis6": {
         "anchor": "y6",
         "domain": [
          0.2625,
          0.475
         ],
         "gridcolor": "#E1E5ED",
         "showgrid": false,
         "tickfont": {
          "color": "#4D5663"
         },
         "title": {
          "font": {
           "color": "#4D5663"
          },
          "text": ""
         },
         "zerolinecolor": "#E1E5ED"
        },
        "xaxis7": {
         "anchor": "y7",
         "domain": [
          0.525,
          0.7375
         ],
         "gridcolor": "#E1E5ED",
         "showgrid": false,
         "tickfont": {
          "color": "#4D5663"
         },
         "title": {
          "font": {
           "color": "#4D5663"
          },
          "text": ""
         },
         "zerolinecolor": "#E1E5ED"
        },
        "xaxis8": {
         "anchor": "y8",
         "domain": [
          0.7875,
          1
         ],
         "gridcolor": "#E1E5ED",
         "showgrid": false,
         "tickfont": {
          "color": "#4D5663"
         },
         "title": {
          "font": {
           "color": "#4D5663"
          },
          "text": ""
         },
         "zerolinecolor": "#E1E5ED"
        },
        "xaxis9": {
         "anchor": "y9",
         "domain": [
          0,
          0.2125
         ],
         "gridcolor": "#E1E5ED",
         "showgrid": false,
         "tickfont": {
          "color": "#4D5663"
         },
         "title": {
          "font": {
           "color": "#4D5663"
          },
          "text": ""
         },
         "zerolinecolor": "#E1E5ED"
        },
        "yaxis": {
         "anchor": "x",
         "domain": [
          0.8025,
          1
         ],
         "gridcolor": "#E1E5ED",
         "showgrid": false,
         "tickfont": {
          "color": "#4D5663"
         },
         "title": {
          "font": {
           "color": "#4D5663"
          },
          "text": ""
         },
         "zerolinecolor": "#E1E5ED"
        },
        "yaxis10": {
         "anchor": "x10",
         "domain": [
          0.2675,
          0.465
         ],
         "gridcolor": "#E1E5ED",
         "showgrid": false,
         "tickfont": {
          "color": "#4D5663"
         },
         "title": {
          "font": {
           "color": "#4D5663"
          },
          "text": ""
         },
         "zerolinecolor": "#E1E5ED"
        },
        "yaxis11": {
         "anchor": "x11",
         "domain": [
          0.2675,
          0.465
         ],
         "gridcolor": "#E1E5ED",
         "showgrid": false,
         "tickfont": {
          "color": "#4D5663"
         },
         "title": {
          "font": {
           "color": "#4D5663"
          },
          "text": ""
         },
         "zerolinecolor": "#E1E5ED"
        },
        "yaxis12": {
         "anchor": "x12",
         "domain": [
          0.2675,
          0.465
         ],
         "gridcolor": "#E1E5ED",
         "showgrid": false,
         "tickfont": {
          "color": "#4D5663"
         },
         "title": {
          "font": {
           "color": "#4D5663"
          },
          "text": ""
         },
         "zerolinecolor": "#E1E5ED"
        },
        "yaxis13": {
         "anchor": "x13",
         "domain": [
          0,
          0.1975
         ],
         "gridcolor": "#E1E5ED",
         "showgrid": false,
         "tickfont": {
          "color": "#4D5663"
         },
         "title": {
          "font": {
           "color": "#4D5663"
          },
          "text": ""
         },
         "zerolinecolor": "#E1E5ED"
        },
        "yaxis14": {
         "anchor": "x14",
         "domain": [
          0,
          0.1975
         ],
         "gridcolor": "#E1E5ED",
         "showgrid": false,
         "tickfont": {
          "color": "#4D5663"
         },
         "title": {
          "font": {
           "color": "#4D5663"
          },
          "text": ""
         },
         "zerolinecolor": "#E1E5ED"
        },
        "yaxis15": {
         "anchor": "x15",
         "domain": [
          0,
          0.1975
         ],
         "gridcolor": "#E1E5ED",
         "showgrid": false,
         "tickfont": {
          "color": "#4D5663"
         },
         "title": {
          "font": {
           "color": "#4D5663"
          },
          "text": ""
         },
         "zerolinecolor": "#E1E5ED"
        },
        "yaxis16": {
         "anchor": "x16",
         "domain": [
          0,
          0.1975
         ],
         "gridcolor": "#E1E5ED",
         "showgrid": false,
         "tickfont": {
          "color": "#4D5663"
         },
         "title": {
          "font": {
           "color": "#4D5663"
          },
          "text": ""
         },
         "zerolinecolor": "#E1E5ED"
        },
        "yaxis2": {
         "anchor": "x2",
         "domain": [
          0.8025,
          1
         ],
         "gridcolor": "#E1E5ED",
         "showgrid": false,
         "tickfont": {
          "color": "#4D5663"
         },
         "title": {
          "font": {
           "color": "#4D5663"
          },
          "text": ""
         },
         "zerolinecolor": "#E1E5ED"
        },
        "yaxis3": {
         "anchor": "x3",
         "domain": [
          0.8025,
          1
         ],
         "gridcolor": "#E1E5ED",
         "showgrid": false,
         "tickfont": {
          "color": "#4D5663"
         },
         "title": {
          "font": {
           "color": "#4D5663"
          },
          "text": ""
         },
         "zerolinecolor": "#E1E5ED"
        },
        "yaxis4": {
         "anchor": "x4",
         "domain": [
          0.8025,
          1
         ],
         "gridcolor": "#E1E5ED",
         "showgrid": false,
         "tickfont": {
          "color": "#4D5663"
         },
         "title": {
          "font": {
           "color": "#4D5663"
          },
          "text": ""
         },
         "zerolinecolor": "#E1E5ED"
        },
        "yaxis5": {
         "anchor": "x5",
         "domain": [
          0.535,
          0.7325
         ],
         "gridcolor": "#E1E5ED",
         "showgrid": false,
         "tickfont": {
          "color": "#4D5663"
         },
         "title": {
          "font": {
           "color": "#4D5663"
          },
          "text": ""
         },
         "zerolinecolor": "#E1E5ED"
        },
        "yaxis6": {
         "anchor": "x6",
         "domain": [
          0.535,
          0.7325
         ],
         "gridcolor": "#E1E5ED",
         "showgrid": false,
         "tickfont": {
          "color": "#4D5663"
         },
         "title": {
          "font": {
           "color": "#4D5663"
          },
          "text": ""
         },
         "zerolinecolor": "#E1E5ED"
        },
        "yaxis7": {
         "anchor": "x7",
         "domain": [
          0.535,
          0.7325
         ],
         "gridcolor": "#E1E5ED",
         "showgrid": false,
         "tickfont": {
          "color": "#4D5663"
         },
         "title": {
          "font": {
           "color": "#4D5663"
          },
          "text": ""
         },
         "zerolinecolor": "#E1E5ED"
        },
        "yaxis8": {
         "anchor": "x8",
         "domain": [
          0.535,
          0.7325
         ],
         "gridcolor": "#E1E5ED",
         "showgrid": false,
         "tickfont": {
          "color": "#4D5663"
         },
         "title": {
          "font": {
           "color": "#4D5663"
          },
          "text": ""
         },
         "zerolinecolor": "#E1E5ED"
        },
        "yaxis9": {
         "anchor": "x9",
         "domain": [
          0.2675,
          0.465
         ],
         "gridcolor": "#E1E5ED",
         "showgrid": false,
         "tickfont": {
          "color": "#4D5663"
         },
         "title": {
          "font": {
           "color": "#4D5663"
          },
          "text": ""
         },
         "zerolinecolor": "#E1E5ED"
        }
       }
      },
      "text/html": [
       "<div>                            <div id=\"63c25a52-7f71-4da4-b48b-2a2f65dc3c25\" class=\"plotly-graph-div\" style=\"height:525px; width:100%;\"></div>            <script type=\"text/javascript\">                require([\"plotly\"], function(Plotly) {                    window.PLOTLYENV=window.PLOTLYENV || {};\n",
       "                    window.PLOTLYENV.BASE_URL='https://plot.ly';                                    if (document.getElementById(\"63c25a52-7f71-4da4-b48b-2a2f65dc3c25\")) {                    Plotly.newPlot(                        \"63c25a52-7f71-4da4-b48b-2a2f65dc3c25\",                        [{\"histfunc\": \"count\", \"histnorm\": \"\", \"marker\": {\"color\": \"rgba(255, 153, 51, 1.0)\", \"line\": {\"color\": \"#4D5663\", \"width\": 1.3}}, \"name\": \"A\", \"nbinsx\": 10, \"opacity\": 0.8, \"orientation\": \"v\", \"type\": \"histogram\", \"x\": [1.4231283587146955, 0.7516603116190158, -0.04069831395129999, 0.8494525246784042, 0.7977645931831729, -2.424491651018319, -1.2582093110568149, -0.15529258970936946, -0.45312148704220795, -2.2775610915462363, 0.1332429602222429, 0.3998857890171944, -0.14904950186615676, 1.1931908500642565, 0.783776424506487, -0.13860290912962892, 0.7664731049270755, -0.14547497275331425, -0.40802584839016576, 1.0711888545925605, -0.642313308372773, 0.049879911918071174, 1.8009405803668426, -1.469579438518773, 2.211475339175111, -0.38394754230209527, -0.8483588357454597, -0.4233808984906991, 0.8970171336936127, -0.46309218292344384, -1.540708272987029, -0.22011844093930893, 1.2626125439114022, -0.8599224592696124, 0.7620320340247184, 0.6063787747519568, -0.5021325565790095, -0.4042442991222263, 0.6378712352966499, -0.32475739002353093, -1.355471592482026, 0.8188916405081248, -0.7136407597534036, 1.4530169466066432, 0.12437035702819564, 0.34380998064207186, 0.3670261299236814, -0.7087328956200836, -1.258067366257801, 0.12928804837990635, -0.31603283402669446, 0.6408530470104912, 1.194512576723845, -1.5542148592170382, -0.3180623240226567, -0.26232905958765823, -2.5250678931764288, 0.03021518574286839, 0.8782566747525722, 0.06805291179027405, -0.7800434613277817, 0.30587770196971614, -1.527764831789569, -1.2455255738078197, 0.8708789079885804, -2.277781652216472, -0.961085083474282, 0.7480604179254391, -1.132740550097753, -0.21494270061498336, 0.26326840794947803, 1.9435527095905965, 0.6633014767479828, -0.33967376673719074, -1.0005256175729227, 1.033839740834173, -0.1344938358004172, -1.8377909653802171, 0.4862090693094273, 0.019117224110497474, 1.4381775613316357, 1.0022419802726958, 0.6177486704087491, 0.2238116198272653, -0.3792759330228207, 1.5642561450343315, -1.4797684734922998, 1.0732977102841788, -1.0993447775978227, 0.6133786466992118, -1.7069242684336634, 1.2751028892789205, 0.401432572330607, 0.8652760480066986, -0.019418977081185895, 0.9807867122167452, 1.6018808310985337, 0.13459144877490167, 0.9626180719042506, 0.9937757289990029], \"xaxis\": \"x\", \"yaxis\": \"y\"}, {\"line\": {\"color\": \"rgba(128, 128, 128, 1.0)\", \"dash\": \"solid\", \"shape\": \"linear\", \"width\": 1.3}, \"marker\": {\"size\": 2, \"symbol\": \"circle\"}, \"mode\": \"markers\", \"name\": \"A\", \"text\": \"\", \"type\": \"scatter\", \"x\": [-1.3159148036125334, -0.6711729334327814, 0.938030616343648, -0.883172519923497, -1.1559543838137716, -0.21362938182096808, 1.1865996630899105, -0.13503942410931474, 0.702379722654413, 2.1627358962212906, 0.2707271260340421, -0.08373718813127257, -1.4246125339918407, 0.19285853601533218, 0.6007247164853516, -0.8692022129422258, 0.101009847359833, 1.446347405489576, 1.4241402916808978, 0.09233934005602447, 2.1859187944191194, 0.7649775110539025, 0.6796053495705884, -0.554852071312288, 1.1130260106970804, -1.5297190221801549, 0.22693985504789704, -0.9814227313037053, 1.3706959453569925, 2.0683730411899925, 0.4586619732815214, 1.2190858388012593, -1.1004677584045799, -0.28434856410119347, 0.2926406015415052, -0.4334229059903361, -1.4806843754448946, -0.9910248686250521, 0.13800914672309186, -1.034345016229925, -1.3875499683950403, -0.2839718128545817, 0.40723721037804944, 1.2103459308374067, -0.6544666001268368, -1.323283032466016, -0.9338408253711902, -1.3657749261666121, -0.22670230951583553, 1.673174411862094, -0.7392250392494247, -0.5977251424426647, -0.8798250439172343, 0.848483523562618, -0.8373298454739747, -0.4928515836198017, 0.7567630417126984, 1.7191358646363109, 1.9142309523473156, 0.7116906418838965, -0.6317604607877776, -0.3603533087907271, 0.06537406356420647, -0.2362899962772877, 0.30910863432263014, -0.3106251550628561, -0.425735266645392, -0.16654657872439244, 1.0279927804245697, 0.6154531545225654, 0.38133211748851936, 0.7107218250480805, 0.6169978660921006, 0.35961602170113527, 0.3529418612584008, -2.4210794154829363, 0.21751336076725786, 0.13751215145474693, 1.8218497869401669, -1.026045419410824, -0.17358063387533523, -0.12941743078398793, -0.10898435004964954, -0.9815145765089636, -0.712956213176565, 0.45861126534718105, -1.35549152949366, 0.261728135661618, 0.44365502505321674, -0.4299447790444871, 1.4603204442829751, -2.77607709870146, -0.11281905305207801, 0.4503284425976104, -0.6363703760997098, 0.706131730762392, -0.5553440039407791, -0.5558337541696055, 1.1021535193467047, -0.10646954349882545], \"xaxis\": \"x2\", \"y\": [1.4231283587146955, 0.7516603116190158, -0.04069831395129999, 0.8494525246784042, 0.7977645931831729, -2.424491651018319, -1.2582093110568149, -0.15529258970936946, -0.45312148704220795, -2.2775610915462363, 0.1332429602222429, 0.3998857890171944, -0.14904950186615676, 1.1931908500642565, 0.783776424506487, -0.13860290912962892, 0.7664731049270755, -0.14547497275331425, -0.40802584839016576, 1.0711888545925605, -0.642313308372773, 0.049879911918071174, 1.8009405803668426, -1.469579438518773, 2.211475339175111, -0.38394754230209527, -0.8483588357454597, -0.4233808984906991, 0.8970171336936127, -0.46309218292344384, -1.540708272987029, -0.22011844093930893, 1.2626125439114022, -0.8599224592696124, 0.7620320340247184, 0.6063787747519568, -0.5021325565790095, -0.4042442991222263, 0.6378712352966499, -0.32475739002353093, -1.355471592482026, 0.8188916405081248, -0.7136407597534036, 1.4530169466066432, 0.12437035702819564, 0.34380998064207186, 0.3670261299236814, -0.7087328956200836, -1.258067366257801, 0.12928804837990635, -0.31603283402669446, 0.6408530470104912, 1.194512576723845, -1.5542148592170382, -0.3180623240226567, -0.26232905958765823, -2.5250678931764288, 0.03021518574286839, 0.8782566747525722, 0.06805291179027405, -0.7800434613277817, 0.30587770196971614, -1.527764831789569, -1.2455255738078197, 0.8708789079885804, -2.277781652216472, -0.961085083474282, 0.7480604179254391, -1.132740550097753, -0.21494270061498336, 0.26326840794947803, 1.9435527095905965, 0.6633014767479828, -0.33967376673719074, -1.0005256175729227, 1.033839740834173, -0.1344938358004172, -1.8377909653802171, 0.4862090693094273, 0.019117224110497474, 1.4381775613316357, 1.0022419802726958, 0.6177486704087491, 0.2238116198272653, -0.3792759330228207, 1.5642561450343315, -1.4797684734922998, 1.0732977102841788, -1.0993447775978227, 0.6133786466992118, -1.7069242684336634, 1.2751028892789205, 0.401432572330607, 0.8652760480066986, -0.019418977081185895, 0.9807867122167452, 1.6018808310985337, 0.13459144877490167, 0.9626180719042506, 0.9937757289990029], \"yaxis\": \"y2\"}, {\"line\": {\"color\": \"rgba(128, 128, 128, 1.0)\", \"dash\": \"solid\", \"shape\": \"linear\", \"width\": 1.3}, \"marker\": {\"size\": 2, \"symbol\": \"circle\"}, \"mode\": \"markers\", \"name\": \"A\", \"text\": \"\", \"type\": \"scatter\", \"x\": [-0.13237579222541013, -0.052347829704393126, 0.4692526299940617, 0.31613759897620036, 0.038077627669812375, 1.5011192659797281, -0.29842974623082363, -0.6135580924459909, 0.06592428522592648, 1.3603710179272264, -2.3409190663165464, -0.2889958922051712, 1.978389322463096, 0.5813553904840633, -1.888732642009797, -0.5018245258341147, -0.0489213899629533, 0.5371642503245256, 1.1016891114589598, 0.9666620958063254, 0.694573206426251, 0.2478258235386552, 0.8195615195552352, 0.6205339681382519, -0.8050729161790104, 1.6231169796230278, -1.7579390663376324, 0.7523004931694655, 2.5550957009229145, -0.16043494088364257, -1.5126796219247454, 1.1408972343680064, 0.029819705381316952, 0.7312165813450313, 0.07373317269178083, -0.2849716167860715, 0.023478680449609938, -1.2236177266917754, 1.3666823261506365, -0.9286665847654201, 0.10599810305490082, -0.43841601974518873, -0.353627868945709, -0.9318346325943048, 1.7066007515376558, -0.11443002079209948, 0.611898576384863, -1.6980193319777221, -1.7557760172017405, 1.1859346187066266, 0.35278967968166297, -0.6625442040702696, -0.4316534763318296, -0.8553573752349162, 0.419361435533611, 0.3050586495992559, -0.5654831979495469, 0.23505406461487433, 0.2824194464623127, -0.23280675726503214, -0.18403686480620848, 1.3806881575057637, 0.22839093562968843, -0.7779119845767521, -0.212027223863369, -1.1557481827178329, -0.08080240184313331, 0.019360151832484428, -1.059697548621927, 0.33387705641420945, -1.2637904918675884, 0.8925279544822788, -1.967577246484591, -1.5402676423006545, -0.6636279606621213, 0.20823708740936742, -0.11780854016506509, 0.1645481697701134, -0.09450343044520912, 0.43063323328726044, -1.5621942064559213, -1.278464936613575, 0.9229912359708183, 0.6992700227549166, 0.6040142131825644, -0.9377269609438603, -1.0082577364982552, -0.13914798114251678, -2.0678577173120836, 1.4000324476157366, 0.8889606602303802, -0.8135337263237251, -0.01290035882819455, -1.0931618685607598, -0.29562697230604573, 0.7013912694029035, 1.2202457243437268, -0.03618334178095662, -0.6835029620743883, -0.31693575222433584], \"xaxis\": \"x3\", \"y\": [1.4231283587146955, 0.7516603116190158, -0.04069831395129999, 0.8494525246784042, 0.7977645931831729, -2.424491651018319, -1.2582093110568149, -0.15529258970936946, -0.45312148704220795, -2.2775610915462363, 0.1332429602222429, 0.3998857890171944, -0.14904950186615676, 1.1931908500642565, 0.783776424506487, -0.13860290912962892, 0.7664731049270755, -0.14547497275331425, -0.40802584839016576, 1.0711888545925605, -0.642313308372773, 0.049879911918071174, 1.8009405803668426, -1.469579438518773, 2.211475339175111, -0.38394754230209527, -0.8483588357454597, -0.4233808984906991, 0.8970171336936127, -0.46309218292344384, -1.540708272987029, -0.22011844093930893, 1.2626125439114022, -0.8599224592696124, 0.7620320340247184, 0.6063787747519568, -0.5021325565790095, -0.4042442991222263, 0.6378712352966499, -0.32475739002353093, -1.355471592482026, 0.8188916405081248, -0.7136407597534036, 1.4530169466066432, 0.12437035702819564, 0.34380998064207186, 0.3670261299236814, -0.7087328956200836, -1.258067366257801, 0.12928804837990635, -0.31603283402669446, 0.6408530470104912, 1.194512576723845, -1.5542148592170382, -0.3180623240226567, -0.26232905958765823, -2.5250678931764288, 0.03021518574286839, 0.8782566747525722, 0.06805291179027405, -0.7800434613277817, 0.30587770196971614, -1.527764831789569, -1.2455255738078197, 0.8708789079885804, -2.277781652216472, -0.961085083474282, 0.7480604179254391, -1.132740550097753, -0.21494270061498336, 0.26326840794947803, 1.9435527095905965, 0.6633014767479828, -0.33967376673719074, -1.0005256175729227, 1.033839740834173, -0.1344938358004172, -1.8377909653802171, 0.4862090693094273, 0.019117224110497474, 1.4381775613316357, 1.0022419802726958, 0.6177486704087491, 0.2238116198272653, -0.3792759330228207, 1.5642561450343315, -1.4797684734922998, 1.0732977102841788, -1.0993447775978227, 0.6133786466992118, -1.7069242684336634, 1.2751028892789205, 0.401432572330607, 0.8652760480066986, -0.019418977081185895, 0.9807867122167452, 1.6018808310985337, 0.13459144877490167, 0.9626180719042506, 0.9937757289990029], \"yaxis\": \"y3\"}, {\"line\": {\"color\": \"rgba(128, 128, 128, 1.0)\", \"dash\": \"solid\", \"shape\": \"linear\", \"width\": 1.3}, \"marker\": {\"size\": 2, \"symbol\": \"circle\"}, \"mode\": \"markers\", \"name\": \"A\", \"text\": \"\", \"type\": \"scatter\", \"x\": [0.73852935833334, -1.5176580227009084, 0.512594517331452, -0.9765693441549024, 0.2597380646455681, 0.2005281674647245, -0.43222083383021487, 0.28264608068641234, -2.353290595895701, -1.8926961644530766, 2.27093306437956, 1.2066485053430889, 0.7054562289187188, 1.0055452928207518, -0.4681460091213367, -1.2944114494644843, 1.3607689933983973, 0.09725199606574048, 1.83736969115192, -1.1587227224422534, 1.1090726500218338, -0.7225013349844344, -0.9137980221576838, -1.0601686685049398, 1.4026374642411892, 0.7902606455214161, -0.9667653313329032, 0.39019832840791346, 0.8797628220128945, -0.3215103633202152, 0.45125592139847504, 0.5414061119409422, 0.7658140963443745, 1.9675578763616768, 0.6289659039244848, -0.32953287186860414, -1.1046035644406151, -0.5017107675914297, -0.050135588577950634, 0.1156013888140175, 1.817026403682867, -0.5822754037947193, -1.1159809283681592, 0.5829597663270446, 1.525546490741131, -0.7870451502160626, -0.07801027556160016, -0.09916614697687562, -0.6484936684020154, 0.9061275439005156, -1.1977397401901584, 0.07216530006961856, -0.09471364186907975, -0.33168597889227824, 1.3856210920715732, 0.29228648402712515, -0.31506805736201177, 0.26406938841327465, 0.1214991679754779, -1.4589964130764155, -0.2960215475269721, -0.08473609173871421, -0.24788889268351452, -0.4012651394180614, -0.11119053847235782, 0.032618335709918636, 2.302025450805792, 1.0351623471019253, -0.7274030283028319, 0.16223023965662992, 0.3275178990919996, -0.8248485244343083, 0.320470268526574, 0.24774868235903783, -1.1422354828286703, -0.9544307180899267, 0.03015949233702071, -0.29061097551377707, 0.587152578186654, -1.2663987789455702, -0.1760172926593463, 2.1270370895124264, -1.2136800421158462, -0.08958940819583555, -2.9392124879873895, 0.2209583862426302, 0.9049504073046822, 1.7660163025166824, 0.2979790504197034, 1.4258052202184266, 0.12340898475312499, 2.5323839720634402, -1.3844333428579232, 2.2457544603669746, -1.1848977721498695, 0.6082307057013913, -0.24041896437186125, -0.6704452551959191, -0.7461529444354846, -0.6875391663565866], \"xaxis\": \"x4\", \"y\": [1.4231283587146955, 0.7516603116190158, -0.04069831395129999, 0.8494525246784042, 0.7977645931831729, -2.424491651018319, -1.2582093110568149, -0.15529258970936946, -0.45312148704220795, -2.2775610915462363, 0.1332429602222429, 0.3998857890171944, -0.14904950186615676, 1.1931908500642565, 0.783776424506487, -0.13860290912962892, 0.7664731049270755, -0.14547497275331425, -0.40802584839016576, 1.0711888545925605, -0.642313308372773, 0.049879911918071174, 1.8009405803668426, -1.469579438518773, 2.211475339175111, -0.38394754230209527, -0.8483588357454597, -0.4233808984906991, 0.8970171336936127, -0.46309218292344384, -1.540708272987029, -0.22011844093930893, 1.2626125439114022, -0.8599224592696124, 0.7620320340247184, 0.6063787747519568, -0.5021325565790095, -0.4042442991222263, 0.6378712352966499, -0.32475739002353093, -1.355471592482026, 0.8188916405081248, -0.7136407597534036, 1.4530169466066432, 0.12437035702819564, 0.34380998064207186, 0.3670261299236814, -0.7087328956200836, -1.258067366257801, 0.12928804837990635, -0.31603283402669446, 0.6408530470104912, 1.194512576723845, -1.5542148592170382, -0.3180623240226567, -0.26232905958765823, -2.5250678931764288, 0.03021518574286839, 0.8782566747525722, 0.06805291179027405, -0.7800434613277817, 0.30587770196971614, -1.527764831789569, -1.2455255738078197, 0.8708789079885804, -2.277781652216472, -0.961085083474282, 0.7480604179254391, -1.132740550097753, -0.21494270061498336, 0.26326840794947803, 1.9435527095905965, 0.6633014767479828, -0.33967376673719074, -1.0005256175729227, 1.033839740834173, -0.1344938358004172, -1.8377909653802171, 0.4862090693094273, 0.019117224110497474, 1.4381775613316357, 1.0022419802726958, 0.6177486704087491, 0.2238116198272653, -0.3792759330228207, 1.5642561450343315, -1.4797684734922998, 1.0732977102841788, -1.0993447775978227, 0.6133786466992118, -1.7069242684336634, 1.2751028892789205, 0.401432572330607, 0.8652760480066986, -0.019418977081185895, 0.9807867122167452, 1.6018808310985337, 0.13459144877490167, 0.9626180719042506, 0.9937757289990029], \"yaxis\": \"y4\"}, {\"line\": {\"color\": \"rgba(128, 128, 128, 1.0)\", \"dash\": \"solid\", \"shape\": \"linear\", \"width\": 1.3}, \"marker\": {\"size\": 2, \"symbol\": \"circle\"}, \"mode\": \"markers\", \"name\": \"B\", \"text\": \"\", \"type\": \"scatter\", \"x\": [1.4231283587146955, 0.7516603116190158, -0.04069831395129999, 0.8494525246784042, 0.7977645931831729, -2.424491651018319, -1.2582093110568149, -0.15529258970936946, -0.45312148704220795, -2.2775610915462363, 0.1332429602222429, 0.3998857890171944, -0.14904950186615676, 1.1931908500642565, 0.783776424506487, -0.13860290912962892, 0.7664731049270755, -0.14547497275331425, -0.40802584839016576, 1.0711888545925605, -0.642313308372773, 0.049879911918071174, 1.8009405803668426, -1.469579438518773, 2.211475339175111, -0.38394754230209527, -0.8483588357454597, -0.4233808984906991, 0.8970171336936127, -0.46309218292344384, -1.540708272987029, -0.22011844093930893, 1.2626125439114022, -0.8599224592696124, 0.7620320340247184, 0.6063787747519568, -0.5021325565790095, -0.4042442991222263, 0.6378712352966499, -0.32475739002353093, -1.355471592482026, 0.8188916405081248, -0.7136407597534036, 1.4530169466066432, 0.12437035702819564, 0.34380998064207186, 0.3670261299236814, -0.7087328956200836, -1.258067366257801, 0.12928804837990635, -0.31603283402669446, 0.6408530470104912, 1.194512576723845, -1.5542148592170382, -0.3180623240226567, -0.26232905958765823, -2.5250678931764288, 0.03021518574286839, 0.8782566747525722, 0.06805291179027405, -0.7800434613277817, 0.30587770196971614, -1.527764831789569, -1.2455255738078197, 0.8708789079885804, -2.277781652216472, -0.961085083474282, 0.7480604179254391, -1.132740550097753, -0.21494270061498336, 0.26326840794947803, 1.9435527095905965, 0.6633014767479828, -0.33967376673719074, -1.0005256175729227, 1.033839740834173, -0.1344938358004172, -1.8377909653802171, 0.4862090693094273, 0.019117224110497474, 1.4381775613316357, 1.0022419802726958, 0.6177486704087491, 0.2238116198272653, -0.3792759330228207, 1.5642561450343315, -1.4797684734922998, 1.0732977102841788, -1.0993447775978227, 0.6133786466992118, -1.7069242684336634, 1.2751028892789205, 0.401432572330607, 0.8652760480066986, -0.019418977081185895, 0.9807867122167452, 1.6018808310985337, 0.13459144877490167, 0.9626180719042506, 0.9937757289990029], \"xaxis\": \"x5\", \"y\": [-1.3159148036125334, -0.6711729334327814, 0.938030616343648, -0.883172519923497, -1.1559543838137716, -0.21362938182096808, 1.1865996630899105, -0.13503942410931474, 0.702379722654413, 2.1627358962212906, 0.2707271260340421, -0.08373718813127257, -1.4246125339918407, 0.19285853601533218, 0.6007247164853516, -0.8692022129422258, 0.101009847359833, 1.446347405489576, 1.4241402916808978, 0.09233934005602447, 2.1859187944191194, 0.7649775110539025, 0.6796053495705884, -0.554852071312288, 1.1130260106970804, -1.5297190221801549, 0.22693985504789704, -0.9814227313037053, 1.3706959453569925, 2.0683730411899925, 0.4586619732815214, 1.2190858388012593, -1.1004677584045799, -0.28434856410119347, 0.2926406015415052, -0.4334229059903361, -1.4806843754448946, -0.9910248686250521, 0.13800914672309186, -1.034345016229925, -1.3875499683950403, -0.2839718128545817, 0.40723721037804944, 1.2103459308374067, -0.6544666001268368, -1.323283032466016, -0.9338408253711902, -1.3657749261666121, -0.22670230951583553, 1.673174411862094, -0.7392250392494247, -0.5977251424426647, -0.8798250439172343, 0.848483523562618, -0.8373298454739747, -0.4928515836198017, 0.7567630417126984, 1.7191358646363109, 1.9142309523473156, 0.7116906418838965, -0.6317604607877776, -0.3603533087907271, 0.06537406356420647, -0.2362899962772877, 0.30910863432263014, -0.3106251550628561, -0.425735266645392, -0.16654657872439244, 1.0279927804245697, 0.6154531545225654, 0.38133211748851936, 0.7107218250480805, 0.6169978660921006, 0.35961602170113527, 0.3529418612584008, -2.4210794154829363, 0.21751336076725786, 0.13751215145474693, 1.8218497869401669, -1.026045419410824, -0.17358063387533523, -0.12941743078398793, -0.10898435004964954, -0.9815145765089636, -0.712956213176565, 0.45861126534718105, -1.35549152949366, 0.261728135661618, 0.44365502505321674, -0.4299447790444871, 1.4603204442829751, -2.77607709870146, -0.11281905305207801, 0.4503284425976104, -0.6363703760997098, 0.706131730762392, -0.5553440039407791, -0.5558337541696055, 1.1021535193467047, -0.10646954349882545], \"yaxis\": \"y5\"}, {\"histfunc\": \"count\", \"histnorm\": \"\", \"marker\": {\"color\": \"rgba(55, 128, 191, 1.0)\", \"line\": {\"color\": \"#4D5663\", \"width\": 1.3}}, \"name\": \"B\", \"nbinsx\": 10, \"opacity\": 0.8, \"orientation\": \"v\", \"type\": \"histogram\", \"x\": [-1.3159148036125334, -0.6711729334327814, 0.938030616343648, -0.883172519923497, -1.1559543838137716, -0.21362938182096808, 1.1865996630899105, -0.13503942410931474, 0.702379722654413, 2.1627358962212906, 0.2707271260340421, -0.08373718813127257, -1.4246125339918407, 0.19285853601533218, 0.6007247164853516, -0.8692022129422258, 0.101009847359833, 1.446347405489576, 1.4241402916808978, 0.09233934005602447, 2.1859187944191194, 0.7649775110539025, 0.6796053495705884, -0.554852071312288, 1.1130260106970804, -1.5297190221801549, 0.22693985504789704, -0.9814227313037053, 1.3706959453569925, 2.0683730411899925, 0.4586619732815214, 1.2190858388012593, -1.1004677584045799, -0.28434856410119347, 0.2926406015415052, -0.4334229059903361, -1.4806843754448946, -0.9910248686250521, 0.13800914672309186, -1.034345016229925, -1.3875499683950403, -0.2839718128545817, 0.40723721037804944, 1.2103459308374067, -0.6544666001268368, -1.323283032466016, -0.9338408253711902, -1.3657749261666121, -0.22670230951583553, 1.673174411862094, -0.7392250392494247, -0.5977251424426647, -0.8798250439172343, 0.848483523562618, -0.8373298454739747, -0.4928515836198017, 0.7567630417126984, 1.7191358646363109, 1.9142309523473156, 0.7116906418838965, -0.6317604607877776, -0.3603533087907271, 0.06537406356420647, -0.2362899962772877, 0.30910863432263014, -0.3106251550628561, -0.425735266645392, -0.16654657872439244, 1.0279927804245697, 0.6154531545225654, 0.38133211748851936, 0.7107218250480805, 0.6169978660921006, 0.35961602170113527, 0.3529418612584008, -2.4210794154829363, 0.21751336076725786, 0.13751215145474693, 1.8218497869401669, -1.026045419410824, -0.17358063387533523, -0.12941743078398793, -0.10898435004964954, -0.9815145765089636, -0.712956213176565, 0.45861126534718105, -1.35549152949366, 0.261728135661618, 0.44365502505321674, -0.4299447790444871, 1.4603204442829751, -2.77607709870146, -0.11281905305207801, 0.4503284425976104, -0.6363703760997098, 0.706131730762392, -0.5553440039407791, -0.5558337541696055, 1.1021535193467047, -0.10646954349882545], \"xaxis\": \"x6\", \"yaxis\": \"y6\"}, {\"line\": {\"color\": \"rgba(128, 128, 128, 1.0)\", \"dash\": \"solid\", \"shape\": \"linear\", \"width\": 1.3}, \"marker\": {\"size\": 2, \"symbol\": \"circle\"}, \"mode\": \"markers\", \"name\": \"B\", \"text\": \"\", \"type\": \"scatter\", \"x\": [-0.13237579222541013, -0.052347829704393126, 0.4692526299940617, 0.31613759897620036, 0.038077627669812375, 1.5011192659797281, -0.29842974623082363, -0.6135580924459909, 0.06592428522592648, 1.3603710179272264, -2.3409190663165464, -0.2889958922051712, 1.978389322463096, 0.5813553904840633, -1.888732642009797, -0.5018245258341147, -0.0489213899629533, 0.5371642503245256, 1.1016891114589598, 0.9666620958063254, 0.694573206426251, 0.2478258235386552, 0.8195615195552352, 0.6205339681382519, -0.8050729161790104, 1.6231169796230278, -1.7579390663376324, 0.7523004931694655, 2.5550957009229145, -0.16043494088364257, -1.5126796219247454, 1.1408972343680064, 0.029819705381316952, 0.7312165813450313, 0.07373317269178083, -0.2849716167860715, 0.023478680449609938, -1.2236177266917754, 1.3666823261506365, -0.9286665847654201, 0.10599810305490082, -0.43841601974518873, -0.353627868945709, -0.9318346325943048, 1.7066007515376558, -0.11443002079209948, 0.611898576384863, -1.6980193319777221, -1.7557760172017405, 1.1859346187066266, 0.35278967968166297, -0.6625442040702696, -0.4316534763318296, -0.8553573752349162, 0.419361435533611, 0.3050586495992559, -0.5654831979495469, 0.23505406461487433, 0.2824194464623127, -0.23280675726503214, -0.18403686480620848, 1.3806881575057637, 0.22839093562968843, -0.7779119845767521, -0.212027223863369, -1.1557481827178329, -0.08080240184313331, 0.019360151832484428, -1.059697548621927, 0.33387705641420945, -1.2637904918675884, 0.8925279544822788, -1.967577246484591, -1.5402676423006545, -0.6636279606621213, 0.20823708740936742, -0.11780854016506509, 0.1645481697701134, -0.09450343044520912, 0.43063323328726044, -1.5621942064559213, -1.278464936613575, 0.9229912359708183, 0.6992700227549166, 0.6040142131825644, -0.9377269609438603, -1.0082577364982552, -0.13914798114251678, -2.0678577173120836, 1.4000324476157366, 0.8889606602303802, -0.8135337263237251, -0.01290035882819455, -1.0931618685607598, -0.29562697230604573, 0.7013912694029035, 1.2202457243437268, -0.03618334178095662, -0.6835029620743883, -0.31693575222433584], \"xaxis\": \"x7\", \"y\": [-1.3159148036125334, -0.6711729334327814, 0.938030616343648, -0.883172519923497, -1.1559543838137716, -0.21362938182096808, 1.1865996630899105, -0.13503942410931474, 0.702379722654413, 2.1627358962212906, 0.2707271260340421, -0.08373718813127257, -1.4246125339918407, 0.19285853601533218, 0.6007247164853516, -0.8692022129422258, 0.101009847359833, 1.446347405489576, 1.4241402916808978, 0.09233934005602447, 2.1859187944191194, 0.7649775110539025, 0.6796053495705884, -0.554852071312288, 1.1130260106970804, -1.5297190221801549, 0.22693985504789704, -0.9814227313037053, 1.3706959453569925, 2.0683730411899925, 0.4586619732815214, 1.2190858388012593, -1.1004677584045799, -0.28434856410119347, 0.2926406015415052, -0.4334229059903361, -1.4806843754448946, -0.9910248686250521, 0.13800914672309186, -1.034345016229925, -1.3875499683950403, -0.2839718128545817, 0.40723721037804944, 1.2103459308374067, -0.6544666001268368, -1.323283032466016, -0.9338408253711902, -1.3657749261666121, -0.22670230951583553, 1.673174411862094, -0.7392250392494247, -0.5977251424426647, -0.8798250439172343, 0.848483523562618, -0.8373298454739747, -0.4928515836198017, 0.7567630417126984, 1.7191358646363109, 1.9142309523473156, 0.7116906418838965, -0.6317604607877776, -0.3603533087907271, 0.06537406356420647, -0.2362899962772877, 0.30910863432263014, -0.3106251550628561, -0.425735266645392, -0.16654657872439244, 1.0279927804245697, 0.6154531545225654, 0.38133211748851936, 0.7107218250480805, 0.6169978660921006, 0.35961602170113527, 0.3529418612584008, -2.4210794154829363, 0.21751336076725786, 0.13751215145474693, 1.8218497869401669, -1.026045419410824, -0.17358063387533523, -0.12941743078398793, -0.10898435004964954, -0.9815145765089636, -0.712956213176565, 0.45861126534718105, -1.35549152949366, 0.261728135661618, 0.44365502505321674, -0.4299447790444871, 1.4603204442829751, -2.77607709870146, -0.11281905305207801, 0.4503284425976104, -0.6363703760997098, 0.706131730762392, -0.5553440039407791, -0.5558337541696055, 1.1021535193467047, -0.10646954349882545], \"yaxis\": \"y7\"}, {\"line\": {\"color\": \"rgba(128, 128, 128, 1.0)\", \"dash\": \"solid\", \"shape\": \"linear\", \"width\": 1.3}, \"marker\": {\"size\": 2, \"symbol\": \"circle\"}, \"mode\": \"markers\", \"name\": \"B\", \"text\": \"\", \"type\": \"scatter\", \"x\": [0.73852935833334, -1.5176580227009084, 0.512594517331452, -0.9765693441549024, 0.2597380646455681, 0.2005281674647245, -0.43222083383021487, 0.28264608068641234, -2.353290595895701, -1.8926961644530766, 2.27093306437956, 1.2066485053430889, 0.7054562289187188, 1.0055452928207518, -0.4681460091213367, -1.2944114494644843, 1.3607689933983973, 0.09725199606574048, 1.83736969115192, -1.1587227224422534, 1.1090726500218338, -0.7225013349844344, -0.9137980221576838, -1.0601686685049398, 1.4026374642411892, 0.7902606455214161, -0.9667653313329032, 0.39019832840791346, 0.8797628220128945, -0.3215103633202152, 0.45125592139847504, 0.5414061119409422, 0.7658140963443745, 1.9675578763616768, 0.6289659039244848, -0.32953287186860414, -1.1046035644406151, -0.5017107675914297, -0.050135588577950634, 0.1156013888140175, 1.817026403682867, -0.5822754037947193, -1.1159809283681592, 0.5829597663270446, 1.525546490741131, -0.7870451502160626, -0.07801027556160016, -0.09916614697687562, -0.6484936684020154, 0.9061275439005156, -1.1977397401901584, 0.07216530006961856, -0.09471364186907975, -0.33168597889227824, 1.3856210920715732, 0.29228648402712515, -0.31506805736201177, 0.26406938841327465, 0.1214991679754779, -1.4589964130764155, -0.2960215475269721, -0.08473609173871421, -0.24788889268351452, -0.4012651394180614, -0.11119053847235782, 0.032618335709918636, 2.302025450805792, 1.0351623471019253, -0.7274030283028319, 0.16223023965662992, 0.3275178990919996, -0.8248485244343083, 0.320470268526574, 0.24774868235903783, -1.1422354828286703, -0.9544307180899267, 0.03015949233702071, -0.29061097551377707, 0.587152578186654, -1.2663987789455702, -0.1760172926593463, 2.1270370895124264, -1.2136800421158462, -0.08958940819583555, -2.9392124879873895, 0.2209583862426302, 0.9049504073046822, 1.7660163025166824, 0.2979790504197034, 1.4258052202184266, 0.12340898475312499, 2.5323839720634402, -1.3844333428579232, 2.2457544603669746, -1.1848977721498695, 0.6082307057013913, -0.24041896437186125, -0.6704452551959191, -0.7461529444354846, -0.6875391663565866], \"xaxis\": \"x8\", \"y\": [-1.3159148036125334, -0.6711729334327814, 0.938030616343648, -0.883172519923497, -1.1559543838137716, -0.21362938182096808, 1.1865996630899105, -0.13503942410931474, 0.702379722654413, 2.1627358962212906, 0.2707271260340421, -0.08373718813127257, -1.4246125339918407, 0.19285853601533218, 0.6007247164853516, -0.8692022129422258, 0.101009847359833, 1.446347405489576, 1.4241402916808978, 0.09233934005602447, 2.1859187944191194, 0.7649775110539025, 0.6796053495705884, -0.554852071312288, 1.1130260106970804, -1.5297190221801549, 0.22693985504789704, -0.9814227313037053, 1.3706959453569925, 2.0683730411899925, 0.4586619732815214, 1.2190858388012593, -1.1004677584045799, -0.28434856410119347, 0.2926406015415052, -0.4334229059903361, -1.4806843754448946, -0.9910248686250521, 0.13800914672309186, -1.034345016229925, -1.3875499683950403, -0.2839718128545817, 0.40723721037804944, 1.2103459308374067, -0.6544666001268368, -1.323283032466016, -0.9338408253711902, -1.3657749261666121, -0.22670230951583553, 1.673174411862094, -0.7392250392494247, -0.5977251424426647, -0.8798250439172343, 0.848483523562618, -0.8373298454739747, -0.4928515836198017, 0.7567630417126984, 1.7191358646363109, 1.9142309523473156, 0.7116906418838965, -0.6317604607877776, -0.3603533087907271, 0.06537406356420647, -0.2362899962772877, 0.30910863432263014, -0.3106251550628561, -0.425735266645392, -0.16654657872439244, 1.0279927804245697, 0.6154531545225654, 0.38133211748851936, 0.7107218250480805, 0.6169978660921006, 0.35961602170113527, 0.3529418612584008, -2.4210794154829363, 0.21751336076725786, 0.13751215145474693, 1.8218497869401669, -1.026045419410824, -0.17358063387533523, -0.12941743078398793, -0.10898435004964954, -0.9815145765089636, -0.712956213176565, 0.45861126534718105, -1.35549152949366, 0.261728135661618, 0.44365502505321674, -0.4299447790444871, 1.4603204442829751, -2.77607709870146, -0.11281905305207801, 0.4503284425976104, -0.6363703760997098, 0.706131730762392, -0.5553440039407791, -0.5558337541696055, 1.1021535193467047, -0.10646954349882545], \"yaxis\": \"y8\"}, {\"line\": {\"color\": \"rgba(128, 128, 128, 1.0)\", \"dash\": \"solid\", \"shape\": \"linear\", \"width\": 1.3}, \"marker\": {\"size\": 2, \"symbol\": \"circle\"}, \"mode\": \"markers\", \"name\": \"C\", \"text\": \"\", \"type\": \"scatter\", \"x\": [1.4231283587146955, 0.7516603116190158, -0.04069831395129999, 0.8494525246784042, 0.7977645931831729, -2.424491651018319, -1.2582093110568149, -0.15529258970936946, -0.45312148704220795, -2.2775610915462363, 0.1332429602222429, 0.3998857890171944, -0.14904950186615676, 1.1931908500642565, 0.783776424506487, -0.13860290912962892, 0.7664731049270755, -0.14547497275331425, -0.40802584839016576, 1.0711888545925605, -0.642313308372773, 0.049879911918071174, 1.8009405803668426, -1.469579438518773, 2.211475339175111, -0.38394754230209527, -0.8483588357454597, -0.4233808984906991, 0.8970171336936127, -0.46309218292344384, -1.540708272987029, -0.22011844093930893, 1.2626125439114022, -0.8599224592696124, 0.7620320340247184, 0.6063787747519568, -0.5021325565790095, -0.4042442991222263, 0.6378712352966499, -0.32475739002353093, -1.355471592482026, 0.8188916405081248, -0.7136407597534036, 1.4530169466066432, 0.12437035702819564, 0.34380998064207186, 0.3670261299236814, -0.7087328956200836, -1.258067366257801, 0.12928804837990635, -0.31603283402669446, 0.6408530470104912, 1.194512576723845, -1.5542148592170382, -0.3180623240226567, -0.26232905958765823, -2.5250678931764288, 0.03021518574286839, 0.8782566747525722, 0.06805291179027405, -0.7800434613277817, 0.30587770196971614, -1.527764831789569, -1.2455255738078197, 0.8708789079885804, -2.277781652216472, -0.961085083474282, 0.7480604179254391, -1.132740550097753, -0.21494270061498336, 0.26326840794947803, 1.9435527095905965, 0.6633014767479828, -0.33967376673719074, -1.0005256175729227, 1.033839740834173, -0.1344938358004172, -1.8377909653802171, 0.4862090693094273, 0.019117224110497474, 1.4381775613316357, 1.0022419802726958, 0.6177486704087491, 0.2238116198272653, -0.3792759330228207, 1.5642561450343315, -1.4797684734922998, 1.0732977102841788, -1.0993447775978227, 0.6133786466992118, -1.7069242684336634, 1.2751028892789205, 0.401432572330607, 0.8652760480066986, -0.019418977081185895, 0.9807867122167452, 1.6018808310985337, 0.13459144877490167, 0.9626180719042506, 0.9937757289990029], \"xaxis\": \"x9\", \"y\": [-0.13237579222541013, -0.052347829704393126, 0.4692526299940617, 0.31613759897620036, 0.038077627669812375, 1.5011192659797281, -0.29842974623082363, -0.6135580924459909, 0.06592428522592648, 1.3603710179272264, -2.3409190663165464, -0.2889958922051712, 1.978389322463096, 0.5813553904840633, -1.888732642009797, -0.5018245258341147, -0.0489213899629533, 0.5371642503245256, 1.1016891114589598, 0.9666620958063254, 0.694573206426251, 0.2478258235386552, 0.8195615195552352, 0.6205339681382519, -0.8050729161790104, 1.6231169796230278, -1.7579390663376324, 0.7523004931694655, 2.5550957009229145, -0.16043494088364257, -1.5126796219247454, 1.1408972343680064, 0.029819705381316952, 0.7312165813450313, 0.07373317269178083, -0.2849716167860715, 0.023478680449609938, -1.2236177266917754, 1.3666823261506365, -0.9286665847654201, 0.10599810305490082, -0.43841601974518873, -0.353627868945709, -0.9318346325943048, 1.7066007515376558, -0.11443002079209948, 0.611898576384863, -1.6980193319777221, -1.7557760172017405, 1.1859346187066266, 0.35278967968166297, -0.6625442040702696, -0.4316534763318296, -0.8553573752349162, 0.419361435533611, 0.3050586495992559, -0.5654831979495469, 0.23505406461487433, 0.2824194464623127, -0.23280675726503214, -0.18403686480620848, 1.3806881575057637, 0.22839093562968843, -0.7779119845767521, -0.212027223863369, -1.1557481827178329, -0.08080240184313331, 0.019360151832484428, -1.059697548621927, 0.33387705641420945, -1.2637904918675884, 0.8925279544822788, -1.967577246484591, -1.5402676423006545, -0.6636279606621213, 0.20823708740936742, -0.11780854016506509, 0.1645481697701134, -0.09450343044520912, 0.43063323328726044, -1.5621942064559213, -1.278464936613575, 0.9229912359708183, 0.6992700227549166, 0.6040142131825644, -0.9377269609438603, -1.0082577364982552, -0.13914798114251678, -2.0678577173120836, 1.4000324476157366, 0.8889606602303802, -0.8135337263237251, -0.01290035882819455, -1.0931618685607598, -0.29562697230604573, 0.7013912694029035, 1.2202457243437268, -0.03618334178095662, -0.6835029620743883, -0.31693575222433584], \"yaxis\": \"y9\"}, {\"line\": {\"color\": \"rgba(128, 128, 128, 1.0)\", \"dash\": \"solid\", \"shape\": \"linear\", \"width\": 1.3}, \"marker\": {\"size\": 2, \"symbol\": \"circle\"}, \"mode\": \"markers\", \"name\": \"C\", \"text\": \"\", \"type\": \"scatter\", \"x\": [-1.3159148036125334, -0.6711729334327814, 0.938030616343648, -0.883172519923497, -1.1559543838137716, -0.21362938182096808, 1.1865996630899105, -0.13503942410931474, 0.702379722654413, 2.1627358962212906, 0.2707271260340421, -0.08373718813127257, -1.4246125339918407, 0.19285853601533218, 0.6007247164853516, -0.8692022129422258, 0.101009847359833, 1.446347405489576, 1.4241402916808978, 0.09233934005602447, 2.1859187944191194, 0.7649775110539025, 0.6796053495705884, -0.554852071312288, 1.1130260106970804, -1.5297190221801549, 0.22693985504789704, -0.9814227313037053, 1.3706959453569925, 2.0683730411899925, 0.4586619732815214, 1.2190858388012593, -1.1004677584045799, -0.28434856410119347, 0.2926406015415052, -0.4334229059903361, -1.4806843754448946, -0.9910248686250521, 0.13800914672309186, -1.034345016229925, -1.3875499683950403, -0.2839718128545817, 0.40723721037804944, 1.2103459308374067, -0.6544666001268368, -1.323283032466016, -0.9338408253711902, -1.3657749261666121, -0.22670230951583553, 1.673174411862094, -0.7392250392494247, -0.5977251424426647, -0.8798250439172343, 0.848483523562618, -0.8373298454739747, -0.4928515836198017, 0.7567630417126984, 1.7191358646363109, 1.9142309523473156, 0.7116906418838965, -0.6317604607877776, -0.3603533087907271, 0.06537406356420647, -0.2362899962772877, 0.30910863432263014, -0.3106251550628561, -0.425735266645392, -0.16654657872439244, 1.0279927804245697, 0.6154531545225654, 0.38133211748851936, 0.7107218250480805, 0.6169978660921006, 0.35961602170113527, 0.3529418612584008, -2.4210794154829363, 0.21751336076725786, 0.13751215145474693, 1.8218497869401669, -1.026045419410824, -0.17358063387533523, -0.12941743078398793, -0.10898435004964954, -0.9815145765089636, -0.712956213176565, 0.45861126534718105, -1.35549152949366, 0.261728135661618, 0.44365502505321674, -0.4299447790444871, 1.4603204442829751, -2.77607709870146, -0.11281905305207801, 0.4503284425976104, -0.6363703760997098, 0.706131730762392, -0.5553440039407791, -0.5558337541696055, 1.1021535193467047, -0.10646954349882545], \"xaxis\": \"x10\", \"y\": [-0.13237579222541013, -0.052347829704393126, 0.4692526299940617, 0.31613759897620036, 0.038077627669812375, 1.5011192659797281, -0.29842974623082363, -0.6135580924459909, 0.06592428522592648, 1.3603710179272264, -2.3409190663165464, -0.2889958922051712, 1.978389322463096, 0.5813553904840633, -1.888732642009797, -0.5018245258341147, -0.0489213899629533, 0.5371642503245256, 1.1016891114589598, 0.9666620958063254, 0.694573206426251, 0.2478258235386552, 0.8195615195552352, 0.6205339681382519, -0.8050729161790104, 1.6231169796230278, -1.7579390663376324, 0.7523004931694655, 2.5550957009229145, -0.16043494088364257, -1.5126796219247454, 1.1408972343680064, 0.029819705381316952, 0.7312165813450313, 0.07373317269178083, -0.2849716167860715, 0.023478680449609938, -1.2236177266917754, 1.3666823261506365, -0.9286665847654201, 0.10599810305490082, -0.43841601974518873, -0.353627868945709, -0.9318346325943048, 1.7066007515376558, -0.11443002079209948, 0.611898576384863, -1.6980193319777221, -1.7557760172017405, 1.1859346187066266, 0.35278967968166297, -0.6625442040702696, -0.4316534763318296, -0.8553573752349162, 0.419361435533611, 0.3050586495992559, -0.5654831979495469, 0.23505406461487433, 0.2824194464623127, -0.23280675726503214, -0.18403686480620848, 1.3806881575057637, 0.22839093562968843, -0.7779119845767521, -0.212027223863369, -1.1557481827178329, -0.08080240184313331, 0.019360151832484428, -1.059697548621927, 0.33387705641420945, -1.2637904918675884, 0.8925279544822788, -1.967577246484591, -1.5402676423006545, -0.6636279606621213, 0.20823708740936742, -0.11780854016506509, 0.1645481697701134, -0.09450343044520912, 0.43063323328726044, -1.5621942064559213, -1.278464936613575, 0.9229912359708183, 0.6992700227549166, 0.6040142131825644, -0.9377269609438603, -1.0082577364982552, -0.13914798114251678, -2.0678577173120836, 1.4000324476157366, 0.8889606602303802, -0.8135337263237251, -0.01290035882819455, -1.0931618685607598, -0.29562697230604573, 0.7013912694029035, 1.2202457243437268, -0.03618334178095662, -0.6835029620743883, -0.31693575222433584], \"yaxis\": \"y10\"}, {\"histfunc\": \"count\", \"histnorm\": \"\", \"marker\": {\"color\": \"rgba(50, 171, 96, 1.0)\", \"line\": {\"color\": \"#4D5663\", \"width\": 1.3}}, \"name\": \"C\", \"nbinsx\": 10, \"opacity\": 0.8, \"orientation\": \"v\", \"type\": \"histogram\", \"x\": [-0.13237579222541013, -0.052347829704393126, 0.4692526299940617, 0.31613759897620036, 0.038077627669812375, 1.5011192659797281, -0.29842974623082363, -0.6135580924459909, 0.06592428522592648, 1.3603710179272264, -2.3409190663165464, -0.2889958922051712, 1.978389322463096, 0.5813553904840633, -1.888732642009797, -0.5018245258341147, -0.0489213899629533, 0.5371642503245256, 1.1016891114589598, 0.9666620958063254, 0.694573206426251, 0.2478258235386552, 0.8195615195552352, 0.6205339681382519, -0.8050729161790104, 1.6231169796230278, -1.7579390663376324, 0.7523004931694655, 2.5550957009229145, -0.16043494088364257, -1.5126796219247454, 1.1408972343680064, 0.029819705381316952, 0.7312165813450313, 0.07373317269178083, -0.2849716167860715, 0.023478680449609938, -1.2236177266917754, 1.3666823261506365, -0.9286665847654201, 0.10599810305490082, -0.43841601974518873, -0.353627868945709, -0.9318346325943048, 1.7066007515376558, -0.11443002079209948, 0.611898576384863, -1.6980193319777221, -1.7557760172017405, 1.1859346187066266, 0.35278967968166297, -0.6625442040702696, -0.4316534763318296, -0.8553573752349162, 0.419361435533611, 0.3050586495992559, -0.5654831979495469, 0.23505406461487433, 0.2824194464623127, -0.23280675726503214, -0.18403686480620848, 1.3806881575057637, 0.22839093562968843, -0.7779119845767521, -0.212027223863369, -1.1557481827178329, -0.08080240184313331, 0.019360151832484428, -1.059697548621927, 0.33387705641420945, -1.2637904918675884, 0.8925279544822788, -1.967577246484591, -1.5402676423006545, -0.6636279606621213, 0.20823708740936742, -0.11780854016506509, 0.1645481697701134, -0.09450343044520912, 0.43063323328726044, -1.5621942064559213, -1.278464936613575, 0.9229912359708183, 0.6992700227549166, 0.6040142131825644, -0.9377269609438603, -1.0082577364982552, -0.13914798114251678, -2.0678577173120836, 1.4000324476157366, 0.8889606602303802, -0.8135337263237251, -0.01290035882819455, -1.0931618685607598, -0.29562697230604573, 0.7013912694029035, 1.2202457243437268, -0.03618334178095662, -0.6835029620743883, -0.31693575222433584], \"xaxis\": \"x11\", \"yaxis\": \"y11\"}, {\"line\": {\"color\": \"rgba(128, 128, 128, 1.0)\", \"dash\": \"solid\", \"shape\": \"linear\", \"width\": 1.3}, \"marker\": {\"size\": 2, \"symbol\": \"circle\"}, \"mode\": \"markers\", \"name\": \"C\", \"text\": \"\", \"type\": \"scatter\", \"x\": [0.73852935833334, -1.5176580227009084, 0.512594517331452, -0.9765693441549024, 0.2597380646455681, 0.2005281674647245, -0.43222083383021487, 0.28264608068641234, -2.353290595895701, -1.8926961644530766, 2.27093306437956, 1.2066485053430889, 0.7054562289187188, 1.0055452928207518, -0.4681460091213367, -1.2944114494644843, 1.3607689933983973, 0.09725199606574048, 1.83736969115192, -1.1587227224422534, 1.1090726500218338, -0.7225013349844344, -0.9137980221576838, -1.0601686685049398, 1.4026374642411892, 0.7902606455214161, -0.9667653313329032, 0.39019832840791346, 0.8797628220128945, -0.3215103633202152, 0.45125592139847504, 0.5414061119409422, 0.7658140963443745, 1.9675578763616768, 0.6289659039244848, -0.32953287186860414, -1.1046035644406151, -0.5017107675914297, -0.050135588577950634, 0.1156013888140175, 1.817026403682867, -0.5822754037947193, -1.1159809283681592, 0.5829597663270446, 1.525546490741131, -0.7870451502160626, -0.07801027556160016, -0.09916614697687562, -0.6484936684020154, 0.9061275439005156, -1.1977397401901584, 0.07216530006961856, -0.09471364186907975, -0.33168597889227824, 1.3856210920715732, 0.29228648402712515, -0.31506805736201177, 0.26406938841327465, 0.1214991679754779, -1.4589964130764155, -0.2960215475269721, -0.08473609173871421, -0.24788889268351452, -0.4012651394180614, -0.11119053847235782, 0.032618335709918636, 2.302025450805792, 1.0351623471019253, -0.7274030283028319, 0.16223023965662992, 0.3275178990919996, -0.8248485244343083, 0.320470268526574, 0.24774868235903783, -1.1422354828286703, -0.9544307180899267, 0.03015949233702071, -0.29061097551377707, 0.587152578186654, -1.2663987789455702, -0.1760172926593463, 2.1270370895124264, -1.2136800421158462, -0.08958940819583555, -2.9392124879873895, 0.2209583862426302, 0.9049504073046822, 1.7660163025166824, 0.2979790504197034, 1.4258052202184266, 0.12340898475312499, 2.5323839720634402, -1.3844333428579232, 2.2457544603669746, -1.1848977721498695, 0.6082307057013913, -0.24041896437186125, -0.6704452551959191, -0.7461529444354846, -0.6875391663565866], \"xaxis\": \"x12\", \"y\": [-0.13237579222541013, -0.052347829704393126, 0.4692526299940617, 0.31613759897620036, 0.038077627669812375, 1.5011192659797281, -0.29842974623082363, -0.6135580924459909, 0.06592428522592648, 1.3603710179272264, -2.3409190663165464, -0.2889958922051712, 1.978389322463096, 0.5813553904840633, -1.888732642009797, -0.5018245258341147, -0.0489213899629533, 0.5371642503245256, 1.1016891114589598, 0.9666620958063254, 0.694573206426251, 0.2478258235386552, 0.8195615195552352, 0.6205339681382519, -0.8050729161790104, 1.6231169796230278, -1.7579390663376324, 0.7523004931694655, 2.5550957009229145, -0.16043494088364257, -1.5126796219247454, 1.1408972343680064, 0.029819705381316952, 0.7312165813450313, 0.07373317269178083, -0.2849716167860715, 0.023478680449609938, -1.2236177266917754, 1.3666823261506365, -0.9286665847654201, 0.10599810305490082, -0.43841601974518873, -0.353627868945709, -0.9318346325943048, 1.7066007515376558, -0.11443002079209948, 0.611898576384863, -1.6980193319777221, -1.7557760172017405, 1.1859346187066266, 0.35278967968166297, -0.6625442040702696, -0.4316534763318296, -0.8553573752349162, 0.419361435533611, 0.3050586495992559, -0.5654831979495469, 0.23505406461487433, 0.2824194464623127, -0.23280675726503214, -0.18403686480620848, 1.3806881575057637, 0.22839093562968843, -0.7779119845767521, -0.212027223863369, -1.1557481827178329, -0.08080240184313331, 0.019360151832484428, -1.059697548621927, 0.33387705641420945, -1.2637904918675884, 0.8925279544822788, -1.967577246484591, -1.5402676423006545, -0.6636279606621213, 0.20823708740936742, -0.11780854016506509, 0.1645481697701134, -0.09450343044520912, 0.43063323328726044, -1.5621942064559213, -1.278464936613575, 0.9229912359708183, 0.6992700227549166, 0.6040142131825644, -0.9377269609438603, -1.0082577364982552, -0.13914798114251678, -2.0678577173120836, 1.4000324476157366, 0.8889606602303802, -0.8135337263237251, -0.01290035882819455, -1.0931618685607598, -0.29562697230604573, 0.7013912694029035, 1.2202457243437268, -0.03618334178095662, -0.6835029620743883, -0.31693575222433584], \"yaxis\": \"y12\"}, {\"line\": {\"color\": \"rgba(128, 128, 128, 1.0)\", \"dash\": \"solid\", \"shape\": \"linear\", \"width\": 1.3}, \"marker\": {\"size\": 2, \"symbol\": \"circle\"}, \"mode\": \"markers\", \"name\": \"D\", \"text\": \"\", \"type\": \"scatter\", \"x\": [1.4231283587146955, 0.7516603116190158, -0.04069831395129999, 0.8494525246784042, 0.7977645931831729, -2.424491651018319, -1.2582093110568149, -0.15529258970936946, -0.45312148704220795, -2.2775610915462363, 0.1332429602222429, 0.3998857890171944, -0.14904950186615676, 1.1931908500642565, 0.783776424506487, -0.13860290912962892, 0.7664731049270755, -0.14547497275331425, -0.40802584839016576, 1.0711888545925605, -0.642313308372773, 0.049879911918071174, 1.8009405803668426, -1.469579438518773, 2.211475339175111, -0.38394754230209527, -0.8483588357454597, -0.4233808984906991, 0.8970171336936127, -0.46309218292344384, -1.540708272987029, -0.22011844093930893, 1.2626125439114022, -0.8599224592696124, 0.7620320340247184, 0.6063787747519568, -0.5021325565790095, -0.4042442991222263, 0.6378712352966499, -0.32475739002353093, -1.355471592482026, 0.8188916405081248, -0.7136407597534036, 1.4530169466066432, 0.12437035702819564, 0.34380998064207186, 0.3670261299236814, -0.7087328956200836, -1.258067366257801, 0.12928804837990635, -0.31603283402669446, 0.6408530470104912, 1.194512576723845, -1.5542148592170382, -0.3180623240226567, -0.26232905958765823, -2.5250678931764288, 0.03021518574286839, 0.8782566747525722, 0.06805291179027405, -0.7800434613277817, 0.30587770196971614, -1.527764831789569, -1.2455255738078197, 0.8708789079885804, -2.277781652216472, -0.961085083474282, 0.7480604179254391, -1.132740550097753, -0.21494270061498336, 0.26326840794947803, 1.9435527095905965, 0.6633014767479828, -0.33967376673719074, -1.0005256175729227, 1.033839740834173, -0.1344938358004172, -1.8377909653802171, 0.4862090693094273, 0.019117224110497474, 1.4381775613316357, 1.0022419802726958, 0.6177486704087491, 0.2238116198272653, -0.3792759330228207, 1.5642561450343315, -1.4797684734922998, 1.0732977102841788, -1.0993447775978227, 0.6133786466992118, -1.7069242684336634, 1.2751028892789205, 0.401432572330607, 0.8652760480066986, -0.019418977081185895, 0.9807867122167452, 1.6018808310985337, 0.13459144877490167, 0.9626180719042506, 0.9937757289990029], \"xaxis\": \"x13\", \"y\": [0.73852935833334, -1.5176580227009084, 0.512594517331452, -0.9765693441549024, 0.2597380646455681, 0.2005281674647245, -0.43222083383021487, 0.28264608068641234, -2.353290595895701, -1.8926961644530766, 2.27093306437956, 1.2066485053430889, 0.7054562289187188, 1.0055452928207518, -0.4681460091213367, -1.2944114494644843, 1.3607689933983973, 0.09725199606574048, 1.83736969115192, -1.1587227224422534, 1.1090726500218338, -0.7225013349844344, -0.9137980221576838, -1.0601686685049398, 1.4026374642411892, 0.7902606455214161, -0.9667653313329032, 0.39019832840791346, 0.8797628220128945, -0.3215103633202152, 0.45125592139847504, 0.5414061119409422, 0.7658140963443745, 1.9675578763616768, 0.6289659039244848, -0.32953287186860414, -1.1046035644406151, -0.5017107675914297, -0.050135588577950634, 0.1156013888140175, 1.817026403682867, -0.5822754037947193, -1.1159809283681592, 0.5829597663270446, 1.525546490741131, -0.7870451502160626, -0.07801027556160016, -0.09916614697687562, -0.6484936684020154, 0.9061275439005156, -1.1977397401901584, 0.07216530006961856, -0.09471364186907975, -0.33168597889227824, 1.3856210920715732, 0.29228648402712515, -0.31506805736201177, 0.26406938841327465, 0.1214991679754779, -1.4589964130764155, -0.2960215475269721, -0.08473609173871421, -0.24788889268351452, -0.4012651394180614, -0.11119053847235782, 0.032618335709918636, 2.302025450805792, 1.0351623471019253, -0.7274030283028319, 0.16223023965662992, 0.3275178990919996, -0.8248485244343083, 0.320470268526574, 0.24774868235903783, -1.1422354828286703, -0.9544307180899267, 0.03015949233702071, -0.29061097551377707, 0.587152578186654, -1.2663987789455702, -0.1760172926593463, 2.1270370895124264, -1.2136800421158462, -0.08958940819583555, -2.9392124879873895, 0.2209583862426302, 0.9049504073046822, 1.7660163025166824, 0.2979790504197034, 1.4258052202184266, 0.12340898475312499, 2.5323839720634402, -1.3844333428579232, 2.2457544603669746, -1.1848977721498695, 0.6082307057013913, -0.24041896437186125, -0.6704452551959191, -0.7461529444354846, -0.6875391663565866], \"yaxis\": \"y13\"}, {\"line\": {\"color\": \"rgba(128, 128, 128, 1.0)\", \"dash\": \"solid\", \"shape\": \"linear\", \"width\": 1.3}, \"marker\": {\"size\": 2, \"symbol\": \"circle\"}, \"mode\": \"markers\", \"name\": \"D\", \"text\": \"\", \"type\": \"scatter\", \"x\": [-1.3159148036125334, -0.6711729334327814, 0.938030616343648, -0.883172519923497, -1.1559543838137716, -0.21362938182096808, 1.1865996630899105, -0.13503942410931474, 0.702379722654413, 2.1627358962212906, 0.2707271260340421, -0.08373718813127257, -1.4246125339918407, 0.19285853601533218, 0.6007247164853516, -0.8692022129422258, 0.101009847359833, 1.446347405489576, 1.4241402916808978, 0.09233934005602447, 2.1859187944191194, 0.7649775110539025, 0.6796053495705884, -0.554852071312288, 1.1130260106970804, -1.5297190221801549, 0.22693985504789704, -0.9814227313037053, 1.3706959453569925, 2.0683730411899925, 0.4586619732815214, 1.2190858388012593, -1.1004677584045799, -0.28434856410119347, 0.2926406015415052, -0.4334229059903361, -1.4806843754448946, -0.9910248686250521, 0.13800914672309186, -1.034345016229925, -1.3875499683950403, -0.2839718128545817, 0.40723721037804944, 1.2103459308374067, -0.6544666001268368, -1.323283032466016, -0.9338408253711902, -1.3657749261666121, -0.22670230951583553, 1.673174411862094, -0.7392250392494247, -0.5977251424426647, -0.8798250439172343, 0.848483523562618, -0.8373298454739747, -0.4928515836198017, 0.7567630417126984, 1.7191358646363109, 1.9142309523473156, 0.7116906418838965, -0.6317604607877776, -0.3603533087907271, 0.06537406356420647, -0.2362899962772877, 0.30910863432263014, -0.3106251550628561, -0.425735266645392, -0.16654657872439244, 1.0279927804245697, 0.6154531545225654, 0.38133211748851936, 0.7107218250480805, 0.6169978660921006, 0.35961602170113527, 0.3529418612584008, -2.4210794154829363, 0.21751336076725786, 0.13751215145474693, 1.8218497869401669, -1.026045419410824, -0.17358063387533523, -0.12941743078398793, -0.10898435004964954, -0.9815145765089636, -0.712956213176565, 0.45861126534718105, -1.35549152949366, 0.261728135661618, 0.44365502505321674, -0.4299447790444871, 1.4603204442829751, -2.77607709870146, -0.11281905305207801, 0.4503284425976104, -0.6363703760997098, 0.706131730762392, -0.5553440039407791, -0.5558337541696055, 1.1021535193467047, -0.10646954349882545], \"xaxis\": \"x14\", \"y\": [0.73852935833334, -1.5176580227009084, 0.512594517331452, -0.9765693441549024, 0.2597380646455681, 0.2005281674647245, -0.43222083383021487, 0.28264608068641234, -2.353290595895701, -1.8926961644530766, 2.27093306437956, 1.2066485053430889, 0.7054562289187188, 1.0055452928207518, -0.4681460091213367, -1.2944114494644843, 1.3607689933983973, 0.09725199606574048, 1.83736969115192, -1.1587227224422534, 1.1090726500218338, -0.7225013349844344, -0.9137980221576838, -1.0601686685049398, 1.4026374642411892, 0.7902606455214161, -0.9667653313329032, 0.39019832840791346, 0.8797628220128945, -0.3215103633202152, 0.45125592139847504, 0.5414061119409422, 0.7658140963443745, 1.9675578763616768, 0.6289659039244848, -0.32953287186860414, -1.1046035644406151, -0.5017107675914297, -0.050135588577950634, 0.1156013888140175, 1.817026403682867, -0.5822754037947193, -1.1159809283681592, 0.5829597663270446, 1.525546490741131, -0.7870451502160626, -0.07801027556160016, -0.09916614697687562, -0.6484936684020154, 0.9061275439005156, -1.1977397401901584, 0.07216530006961856, -0.09471364186907975, -0.33168597889227824, 1.3856210920715732, 0.29228648402712515, -0.31506805736201177, 0.26406938841327465, 0.1214991679754779, -1.4589964130764155, -0.2960215475269721, -0.08473609173871421, -0.24788889268351452, -0.4012651394180614, -0.11119053847235782, 0.032618335709918636, 2.302025450805792, 1.0351623471019253, -0.7274030283028319, 0.16223023965662992, 0.3275178990919996, -0.8248485244343083, 0.320470268526574, 0.24774868235903783, -1.1422354828286703, -0.9544307180899267, 0.03015949233702071, -0.29061097551377707, 0.587152578186654, -1.2663987789455702, -0.1760172926593463, 2.1270370895124264, -1.2136800421158462, -0.08958940819583555, -2.9392124879873895, 0.2209583862426302, 0.9049504073046822, 1.7660163025166824, 0.2979790504197034, 1.4258052202184266, 0.12340898475312499, 2.5323839720634402, -1.3844333428579232, 2.2457544603669746, -1.1848977721498695, 0.6082307057013913, -0.24041896437186125, -0.6704452551959191, -0.7461529444354846, -0.6875391663565866], \"yaxis\": \"y14\"}, {\"line\": {\"color\": \"rgba(128, 128, 128, 1.0)\", \"dash\": \"solid\", \"shape\": \"linear\", \"width\": 1.3}, \"marker\": {\"size\": 2, \"symbol\": \"circle\"}, \"mode\": \"markers\", \"name\": \"D\", \"text\": \"\", \"type\": \"scatter\", \"x\": [-0.13237579222541013, -0.052347829704393126, 0.4692526299940617, 0.31613759897620036, 0.038077627669812375, 1.5011192659797281, -0.29842974623082363, -0.6135580924459909, 0.06592428522592648, 1.3603710179272264, -2.3409190663165464, -0.2889958922051712, 1.978389322463096, 0.5813553904840633, -1.888732642009797, -0.5018245258341147, -0.0489213899629533, 0.5371642503245256, 1.1016891114589598, 0.9666620958063254, 0.694573206426251, 0.2478258235386552, 0.8195615195552352, 0.6205339681382519, -0.8050729161790104, 1.6231169796230278, -1.7579390663376324, 0.7523004931694655, 2.5550957009229145, -0.16043494088364257, -1.5126796219247454, 1.1408972343680064, 0.029819705381316952, 0.7312165813450313, 0.07373317269178083, -0.2849716167860715, 0.023478680449609938, -1.2236177266917754, 1.3666823261506365, -0.9286665847654201, 0.10599810305490082, -0.43841601974518873, -0.353627868945709, -0.9318346325943048, 1.7066007515376558, -0.11443002079209948, 0.611898576384863, -1.6980193319777221, -1.7557760172017405, 1.1859346187066266, 0.35278967968166297, -0.6625442040702696, -0.4316534763318296, -0.8553573752349162, 0.419361435533611, 0.3050586495992559, -0.5654831979495469, 0.23505406461487433, 0.2824194464623127, -0.23280675726503214, -0.18403686480620848, 1.3806881575057637, 0.22839093562968843, -0.7779119845767521, -0.212027223863369, -1.1557481827178329, -0.08080240184313331, 0.019360151832484428, -1.059697548621927, 0.33387705641420945, -1.2637904918675884, 0.8925279544822788, -1.967577246484591, -1.5402676423006545, -0.6636279606621213, 0.20823708740936742, -0.11780854016506509, 0.1645481697701134, -0.09450343044520912, 0.43063323328726044, -1.5621942064559213, -1.278464936613575, 0.9229912359708183, 0.6992700227549166, 0.6040142131825644, -0.9377269609438603, -1.0082577364982552, -0.13914798114251678, -2.0678577173120836, 1.4000324476157366, 0.8889606602303802, -0.8135337263237251, -0.01290035882819455, -1.0931618685607598, -0.29562697230604573, 0.7013912694029035, 1.2202457243437268, -0.03618334178095662, -0.6835029620743883, -0.31693575222433584], \"xaxis\": \"x15\", \"y\": [0.73852935833334, -1.5176580227009084, 0.512594517331452, -0.9765693441549024, 0.2597380646455681, 0.2005281674647245, -0.43222083383021487, 0.28264608068641234, -2.353290595895701, -1.8926961644530766, 2.27093306437956, 1.2066485053430889, 0.7054562289187188, 1.0055452928207518, -0.4681460091213367, -1.2944114494644843, 1.3607689933983973, 0.09725199606574048, 1.83736969115192, -1.1587227224422534, 1.1090726500218338, -0.7225013349844344, -0.9137980221576838, -1.0601686685049398, 1.4026374642411892, 0.7902606455214161, -0.9667653313329032, 0.39019832840791346, 0.8797628220128945, -0.3215103633202152, 0.45125592139847504, 0.5414061119409422, 0.7658140963443745, 1.9675578763616768, 0.6289659039244848, -0.32953287186860414, -1.1046035644406151, -0.5017107675914297, -0.050135588577950634, 0.1156013888140175, 1.817026403682867, -0.5822754037947193, -1.1159809283681592, 0.5829597663270446, 1.525546490741131, -0.7870451502160626, -0.07801027556160016, -0.09916614697687562, -0.6484936684020154, 0.9061275439005156, -1.1977397401901584, 0.07216530006961856, -0.09471364186907975, -0.33168597889227824, 1.3856210920715732, 0.29228648402712515, -0.31506805736201177, 0.26406938841327465, 0.1214991679754779, -1.4589964130764155, -0.2960215475269721, -0.08473609173871421, -0.24788889268351452, -0.4012651394180614, -0.11119053847235782, 0.032618335709918636, 2.302025450805792, 1.0351623471019253, -0.7274030283028319, 0.16223023965662992, 0.3275178990919996, -0.8248485244343083, 0.320470268526574, 0.24774868235903783, -1.1422354828286703, -0.9544307180899267, 0.03015949233702071, -0.29061097551377707, 0.587152578186654, -1.2663987789455702, -0.1760172926593463, 2.1270370895124264, -1.2136800421158462, -0.08958940819583555, -2.9392124879873895, 0.2209583862426302, 0.9049504073046822, 1.7660163025166824, 0.2979790504197034, 1.4258052202184266, 0.12340898475312499, 2.5323839720634402, -1.3844333428579232, 2.2457544603669746, -1.1848977721498695, 0.6082307057013913, -0.24041896437186125, -0.6704452551959191, -0.7461529444354846, -0.6875391663565866], \"yaxis\": \"y15\"}, {\"histfunc\": \"count\", \"histnorm\": \"\", \"marker\": {\"color\": \"rgba(128, 0, 128, 1.0)\", \"line\": {\"color\": \"#4D5663\", \"width\": 1.3}}, \"name\": \"D\", \"nbinsx\": 10, \"opacity\": 0.8, \"orientation\": \"v\", \"type\": \"histogram\", \"x\": [0.73852935833334, -1.5176580227009084, 0.512594517331452, -0.9765693441549024, 0.2597380646455681, 0.2005281674647245, -0.43222083383021487, 0.28264608068641234, -2.353290595895701, -1.8926961644530766, 2.27093306437956, 1.2066485053430889, 0.7054562289187188, 1.0055452928207518, -0.4681460091213367, -1.2944114494644843, 1.3607689933983973, 0.09725199606574048, 1.83736969115192, -1.1587227224422534, 1.1090726500218338, -0.7225013349844344, -0.9137980221576838, -1.0601686685049398, 1.4026374642411892, 0.7902606455214161, -0.9667653313329032, 0.39019832840791346, 0.8797628220128945, -0.3215103633202152, 0.45125592139847504, 0.5414061119409422, 0.7658140963443745, 1.9675578763616768, 0.6289659039244848, -0.32953287186860414, -1.1046035644406151, -0.5017107675914297, -0.050135588577950634, 0.1156013888140175, 1.817026403682867, -0.5822754037947193, -1.1159809283681592, 0.5829597663270446, 1.525546490741131, -0.7870451502160626, -0.07801027556160016, -0.09916614697687562, -0.6484936684020154, 0.9061275439005156, -1.1977397401901584, 0.07216530006961856, -0.09471364186907975, -0.33168597889227824, 1.3856210920715732, 0.29228648402712515, -0.31506805736201177, 0.26406938841327465, 0.1214991679754779, -1.4589964130764155, -0.2960215475269721, -0.08473609173871421, -0.24788889268351452, -0.4012651394180614, -0.11119053847235782, 0.032618335709918636, 2.302025450805792, 1.0351623471019253, -0.7274030283028319, 0.16223023965662992, 0.3275178990919996, -0.8248485244343083, 0.320470268526574, 0.24774868235903783, -1.1422354828286703, -0.9544307180899267, 0.03015949233702071, -0.29061097551377707, 0.587152578186654, -1.2663987789455702, -0.1760172926593463, 2.1270370895124264, -1.2136800421158462, -0.08958940819583555, -2.9392124879873895, 0.2209583862426302, 0.9049504073046822, 1.7660163025166824, 0.2979790504197034, 1.4258052202184266, 0.12340898475312499, 2.5323839720634402, -1.3844333428579232, 2.2457544603669746, -1.1848977721498695, 0.6082307057013913, -0.24041896437186125, -0.6704452551959191, -0.7461529444354846, -0.6875391663565866], \"xaxis\": \"x16\", \"yaxis\": \"y16\"}],                        {\"bargap\": 0.02, \"legend\": {\"bgcolor\": \"#F5F6F9\", \"font\": {\"color\": \"#4D5663\"}}, \"paper_bgcolor\": \"#F5F6F9\", \"plot_bgcolor\": \"#F5F6F9\", \"showlegend\": false, \"template\": {\"data\": {\"bar\": [{\"error_x\": {\"color\": \"#2a3f5f\"}, \"error_y\": {\"color\": \"#2a3f5f\"}, \"marker\": {\"line\": {\"color\": \"#E5ECF6\", \"width\": 0.5}}, \"type\": \"bar\"}], \"barpolar\": [{\"marker\": {\"line\": {\"color\": \"#E5ECF6\", \"width\": 0.5}}, \"type\": \"barpolar\"}], \"carpet\": [{\"aaxis\": {\"endlinecolor\": \"#2a3f5f\", \"gridcolor\": \"white\", \"linecolor\": \"white\", \"minorgridcolor\": \"white\", \"startlinecolor\": \"#2a3f5f\"}, \"baxis\": {\"endlinecolor\": \"#2a3f5f\", \"gridcolor\": \"white\", \"linecolor\": \"white\", \"minorgridcolor\": \"white\", \"startlinecolor\": \"#2a3f5f\"}, \"type\": \"carpet\"}], \"choropleth\": [{\"colorbar\": {\"outlinewidth\": 0, \"ticks\": \"\"}, \"type\": \"choropleth\"}], \"contour\": [{\"colorbar\": {\"outlinewidth\": 0, \"ticks\": \"\"}, \"colorscale\": [[0.0, \"#0d0887\"], [0.1111111111111111, \"#46039f\"], [0.2222222222222222, \"#7201a8\"], [0.3333333333333333, \"#9c179e\"], [0.4444444444444444, \"#bd3786\"], [0.5555555555555556, \"#d8576b\"], [0.6666666666666666, \"#ed7953\"], [0.7777777777777778, \"#fb9f3a\"], [0.8888888888888888, \"#fdca26\"], [1.0, \"#f0f921\"]], \"type\": \"contour\"}], \"contourcarpet\": [{\"colorbar\": {\"outlinewidth\": 0, \"ticks\": \"\"}, \"type\": \"contourcarpet\"}], \"heatmap\": [{\"colorbar\": {\"outlinewidth\": 0, \"ticks\": \"\"}, \"colorscale\": [[0.0, \"#0d0887\"], [0.1111111111111111, \"#46039f\"], [0.2222222222222222, \"#7201a8\"], [0.3333333333333333, \"#9c179e\"], [0.4444444444444444, \"#bd3786\"], [0.5555555555555556, \"#d8576b\"], [0.6666666666666666, \"#ed7953\"], [0.7777777777777778, \"#fb9f3a\"], [0.8888888888888888, \"#fdca26\"], [1.0, \"#f0f921\"]], \"type\": \"heatmap\"}], \"heatmapgl\": [{\"colorbar\": {\"outlinewidth\": 0, \"ticks\": \"\"}, \"colorscale\": [[0.0, \"#0d0887\"], [0.1111111111111111, \"#46039f\"], [0.2222222222222222, \"#7201a8\"], [0.3333333333333333, \"#9c179e\"], [0.4444444444444444, \"#bd3786\"], [0.5555555555555556, \"#d8576b\"], [0.6666666666666666, \"#ed7953\"], [0.7777777777777778, \"#fb9f3a\"], [0.8888888888888888, \"#fdca26\"], [1.0, \"#f0f921\"]], \"type\": \"heatmapgl\"}], \"histogram\": [{\"marker\": {\"colorbar\": {\"outlinewidth\": 0, \"ticks\": \"\"}}, \"type\": \"histogram\"}], \"histogram2d\": [{\"colorbar\": {\"outlinewidth\": 0, \"ticks\": \"\"}, \"colorscale\": [[0.0, \"#0d0887\"], [0.1111111111111111, \"#46039f\"], [0.2222222222222222, \"#7201a8\"], [0.3333333333333333, \"#9c179e\"], [0.4444444444444444, \"#bd3786\"], [0.5555555555555556, \"#d8576b\"], [0.6666666666666666, \"#ed7953\"], [0.7777777777777778, \"#fb9f3a\"], [0.8888888888888888, \"#fdca26\"], [1.0, \"#f0f921\"]], \"type\": \"histogram2d\"}], \"histogram2dcontour\": [{\"colorbar\": {\"outlinewidth\": 0, \"ticks\": \"\"}, \"colorscale\": [[0.0, \"#0d0887\"], [0.1111111111111111, \"#46039f\"], [0.2222222222222222, \"#7201a8\"], [0.3333333333333333, \"#9c179e\"], [0.4444444444444444, \"#bd3786\"], [0.5555555555555556, \"#d8576b\"], [0.6666666666666666, \"#ed7953\"], [0.7777777777777778, \"#fb9f3a\"], [0.8888888888888888, \"#fdca26\"], [1.0, \"#f0f921\"]], \"type\": \"histogram2dcontour\"}], \"mesh3d\": [{\"colorbar\": {\"outlinewidth\": 0, \"ticks\": \"\"}, \"type\": \"mesh3d\"}], \"parcoords\": [{\"line\": {\"colorbar\": {\"outlinewidth\": 0, \"ticks\": \"\"}}, \"type\": \"parcoords\"}], \"pie\": [{\"automargin\": true, \"type\": \"pie\"}], \"scatter\": [{\"marker\": {\"colorbar\": {\"outlinewidth\": 0, \"ticks\": \"\"}}, \"type\": \"scatter\"}], \"scatter3d\": [{\"line\": {\"colorbar\": {\"outlinewidth\": 0, \"ticks\": \"\"}}, \"marker\": {\"colorbar\": {\"outlinewidth\": 0, \"ticks\": \"\"}}, \"type\": \"scatter3d\"}], \"scattercarpet\": [{\"marker\": {\"colorbar\": {\"outlinewidth\": 0, \"ticks\": \"\"}}, \"type\": \"scattercarpet\"}], \"scattergeo\": [{\"marker\": {\"colorbar\": {\"outlinewidth\": 0, \"ticks\": \"\"}}, \"type\": \"scattergeo\"}], \"scattergl\": [{\"marker\": {\"colorbar\": {\"outlinewidth\": 0, \"ticks\": \"\"}}, \"type\": \"scattergl\"}], \"scattermapbox\": [{\"marker\": {\"colorbar\": {\"outlinewidth\": 0, \"ticks\": \"\"}}, \"type\": \"scattermapbox\"}], \"scatterpolar\": [{\"marker\": {\"colorbar\": {\"outlinewidth\": 0, \"ticks\": \"\"}}, \"type\": \"scatterpolar\"}], \"scatterpolargl\": [{\"marker\": {\"colorbar\": {\"outlinewidth\": 0, \"ticks\": \"\"}}, \"type\": \"scatterpolargl\"}], \"scatterternary\": [{\"marker\": {\"colorbar\": {\"outlinewidth\": 0, \"ticks\": \"\"}}, \"type\": \"scatterternary\"}], \"surface\": [{\"colorbar\": {\"outlinewidth\": 0, \"ticks\": \"\"}, \"colorscale\": [[0.0, \"#0d0887\"], [0.1111111111111111, \"#46039f\"], [0.2222222222222222, \"#7201a8\"], [0.3333333333333333, \"#9c179e\"], [0.4444444444444444, \"#bd3786\"], [0.5555555555555556, \"#d8576b\"], [0.6666666666666666, \"#ed7953\"], [0.7777777777777778, \"#fb9f3a\"], [0.8888888888888888, \"#fdca26\"], [1.0, \"#f0f921\"]], \"type\": \"surface\"}], \"table\": [{\"cells\": {\"fill\": {\"color\": \"#EBF0F8\"}, \"line\": {\"color\": \"white\"}}, \"header\": {\"fill\": {\"color\": \"#C8D4E3\"}, \"line\": {\"color\": \"white\"}}, \"type\": \"table\"}]}, \"layout\": {\"annotationdefaults\": {\"arrowcolor\": \"#2a3f5f\", \"arrowhead\": 0, \"arrowwidth\": 1}, \"coloraxis\": {\"colorbar\": {\"outlinewidth\": 0, \"ticks\": \"\"}}, \"colorscale\": {\"diverging\": [[0, \"#8e0152\"], [0.1, \"#c51b7d\"], [0.2, \"#de77ae\"], [0.3, \"#f1b6da\"], [0.4, \"#fde0ef\"], [0.5, \"#f7f7f7\"], [0.6, \"#e6f5d0\"], [0.7, \"#b8e186\"], [0.8, \"#7fbc41\"], [0.9, \"#4d9221\"], [1, \"#276419\"]], \"sequential\": [[0.0, \"#0d0887\"], [0.1111111111111111, \"#46039f\"], [0.2222222222222222, \"#7201a8\"], [0.3333333333333333, \"#9c179e\"], [0.4444444444444444, \"#bd3786\"], [0.5555555555555556, \"#d8576b\"], [0.6666666666666666, \"#ed7953\"], [0.7777777777777778, \"#fb9f3a\"], [0.8888888888888888, \"#fdca26\"], [1.0, \"#f0f921\"]], \"sequentialminus\": [[0.0, \"#0d0887\"], [0.1111111111111111, \"#46039f\"], [0.2222222222222222, \"#7201a8\"], [0.3333333333333333, \"#9c179e\"], [0.4444444444444444, \"#bd3786\"], [0.5555555555555556, \"#d8576b\"], [0.6666666666666666, \"#ed7953\"], [0.7777777777777778, \"#fb9f3a\"], [0.8888888888888888, \"#fdca26\"], [1.0, \"#f0f921\"]]}, \"colorway\": [\"#636efa\", \"#EF553B\", \"#00cc96\", \"#ab63fa\", \"#FFA15A\", \"#19d3f3\", \"#FF6692\", \"#B6E880\", \"#FF97FF\", \"#FECB52\"], \"font\": {\"color\": \"#2a3f5f\"}, \"geo\": {\"bgcolor\": \"white\", \"lakecolor\": \"white\", \"landcolor\": \"#E5ECF6\", \"showlakes\": true, \"showland\": true, \"subunitcolor\": \"white\"}, \"hoverlabel\": {\"align\": \"left\"}, \"hovermode\": \"closest\", \"mapbox\": {\"style\": \"light\"}, \"paper_bgcolor\": \"white\", \"plot_bgcolor\": \"#E5ECF6\", \"polar\": {\"angularaxis\": {\"gridcolor\": \"white\", \"linecolor\": \"white\", \"ticks\": \"\"}, \"bgcolor\": \"#E5ECF6\", \"radialaxis\": {\"gridcolor\": \"white\", \"linecolor\": \"white\", \"ticks\": \"\"}}, \"scene\": {\"xaxis\": {\"backgroundcolor\": \"#E5ECF6\", \"gridcolor\": \"white\", \"gridwidth\": 2, \"linecolor\": \"white\", \"showbackground\": true, \"ticks\": \"\", \"zerolinecolor\": \"white\"}, \"yaxis\": {\"backgroundcolor\": \"#E5ECF6\", \"gridcolor\": \"white\", \"gridwidth\": 2, \"linecolor\": \"white\", \"showbackground\": true, \"ticks\": \"\", \"zerolinecolor\": \"white\"}, \"zaxis\": {\"backgroundcolor\": \"#E5ECF6\", \"gridcolor\": \"white\", \"gridwidth\": 2, \"linecolor\": \"white\", \"showbackground\": true, \"ticks\": \"\", \"zerolinecolor\": \"white\"}}, \"shapedefaults\": {\"line\": {\"color\": \"#2a3f5f\"}}, \"ternary\": {\"aaxis\": {\"gridcolor\": \"white\", \"linecolor\": \"white\", \"ticks\": \"\"}, \"baxis\": {\"gridcolor\": \"white\", \"linecolor\": \"white\", \"ticks\": \"\"}, \"bgcolor\": \"#E5ECF6\", \"caxis\": {\"gridcolor\": \"white\", \"linecolor\": \"white\", \"ticks\": \"\"}}, \"title\": {\"x\": 0.05}, \"xaxis\": {\"automargin\": true, \"gridcolor\": \"white\", \"linecolor\": \"white\", \"ticks\": \"\", \"title\": {\"standoff\": 15}, \"zerolinecolor\": \"white\", \"zerolinewidth\": 2}, \"yaxis\": {\"automargin\": true, \"gridcolor\": \"white\", \"linecolor\": \"white\", \"ticks\": \"\", \"title\": {\"standoff\": 15}, \"zerolinecolor\": \"white\", \"zerolinewidth\": 2}}}, \"title\": {\"font\": {\"color\": \"#4D5663\"}}, \"xaxis\": {\"anchor\": \"y\", \"domain\": [0.0, 0.2125], \"gridcolor\": \"#E1E5ED\", \"showgrid\": false, \"tickfont\": {\"color\": \"#4D5663\"}, \"title\": {\"font\": {\"color\": \"#4D5663\"}, \"text\": \"\"}, \"zerolinecolor\": \"#E1E5ED\"}, \"xaxis10\": {\"anchor\": \"y10\", \"domain\": [0.2625, 0.475], \"gridcolor\": \"#E1E5ED\", \"showgrid\": false, \"tickfont\": {\"color\": \"#4D5663\"}, \"title\": {\"font\": {\"color\": \"#4D5663\"}, \"text\": \"\"}, \"zerolinecolor\": \"#E1E5ED\"}, \"xaxis11\": {\"anchor\": \"y11\", \"domain\": [0.525, 0.7375], \"gridcolor\": \"#E1E5ED\", \"showgrid\": false, \"tickfont\": {\"color\": \"#4D5663\"}, \"title\": {\"font\": {\"color\": \"#4D5663\"}, \"text\": \"\"}, \"zerolinecolor\": \"#E1E5ED\"}, \"xaxis12\": {\"anchor\": \"y12\", \"domain\": [0.7875, 1.0], \"gridcolor\": \"#E1E5ED\", \"showgrid\": false, \"tickfont\": {\"color\": \"#4D5663\"}, \"title\": {\"font\": {\"color\": \"#4D5663\"}, \"text\": \"\"}, \"zerolinecolor\": \"#E1E5ED\"}, \"xaxis13\": {\"anchor\": \"y13\", \"domain\": [0.0, 0.2125], \"gridcolor\": \"#E1E5ED\", \"showgrid\": false, \"tickfont\": {\"color\": \"#4D5663\"}, \"title\": {\"font\": {\"color\": \"#4D5663\"}, \"text\": \"\"}, \"zerolinecolor\": \"#E1E5ED\"}, \"xaxis14\": {\"anchor\": \"y14\", \"domain\": [0.2625, 0.475], \"gridcolor\": \"#E1E5ED\", \"showgrid\": false, \"tickfont\": {\"color\": \"#4D5663\"}, \"title\": {\"font\": {\"color\": \"#4D5663\"}, \"text\": \"\"}, \"zerolinecolor\": \"#E1E5ED\"}, \"xaxis15\": {\"anchor\": \"y15\", \"domain\": [0.525, 0.7375], \"gridcolor\": \"#E1E5ED\", \"showgrid\": false, \"tickfont\": {\"color\": \"#4D5663\"}, \"title\": {\"font\": {\"color\": \"#4D5663\"}, \"text\": \"\"}, \"zerolinecolor\": \"#E1E5ED\"}, \"xaxis16\": {\"anchor\": \"y16\", \"domain\": [0.7875, 1.0], \"gridcolor\": \"#E1E5ED\", \"showgrid\": false, \"tickfont\": {\"color\": \"#4D5663\"}, \"title\": {\"font\": {\"color\": \"#4D5663\"}, \"text\": \"\"}, \"zerolinecolor\": \"#E1E5ED\"}, \"xaxis2\": {\"anchor\": \"y2\", \"domain\": [0.2625, 0.475], \"gridcolor\": \"#E1E5ED\", \"showgrid\": false, \"tickfont\": {\"color\": \"#4D5663\"}, \"title\": {\"font\": {\"color\": \"#4D5663\"}, \"text\": \"\"}, \"zerolinecolor\": \"#E1E5ED\"}, \"xaxis3\": {\"anchor\": \"y3\", \"domain\": [0.525, 0.7375], \"gridcolor\": \"#E1E5ED\", \"showgrid\": false, \"tickfont\": {\"color\": \"#4D5663\"}, \"title\": {\"font\": {\"color\": \"#4D5663\"}, \"text\": \"\"}, \"zerolinecolor\": \"#E1E5ED\"}, \"xaxis4\": {\"anchor\": \"y4\", \"domain\": [0.7875, 1.0], \"gridcolor\": \"#E1E5ED\", \"showgrid\": false, \"tickfont\": {\"color\": \"#4D5663\"}, \"title\": {\"font\": {\"color\": \"#4D5663\"}, \"text\": \"\"}, \"zerolinecolor\": \"#E1E5ED\"}, \"xaxis5\": {\"anchor\": \"y5\", \"domain\": [0.0, 0.2125], \"gridcolor\": \"#E1E5ED\", \"showgrid\": false, \"tickfont\": {\"color\": \"#4D5663\"}, \"title\": {\"font\": {\"color\": \"#4D5663\"}, \"text\": \"\"}, \"zerolinecolor\": \"#E1E5ED\"}, \"xaxis6\": {\"anchor\": \"y6\", \"domain\": [0.2625, 0.475], \"gridcolor\": \"#E1E5ED\", \"showgrid\": false, \"tickfont\": {\"color\": \"#4D5663\"}, \"title\": {\"font\": {\"color\": \"#4D5663\"}, \"text\": \"\"}, \"zerolinecolor\": \"#E1E5ED\"}, \"xaxis7\": {\"anchor\": \"y7\", \"domain\": [0.525, 0.7375], \"gridcolor\": \"#E1E5ED\", \"showgrid\": false, \"tickfont\": {\"color\": \"#4D5663\"}, \"title\": {\"font\": {\"color\": \"#4D5663\"}, \"text\": \"\"}, \"zerolinecolor\": \"#E1E5ED\"}, \"xaxis8\": {\"anchor\": \"y8\", \"domain\": [0.7875, 1.0], \"gridcolor\": \"#E1E5ED\", \"showgrid\": false, \"tickfont\": {\"color\": \"#4D5663\"}, \"title\": {\"font\": {\"color\": \"#4D5663\"}, \"text\": \"\"}, \"zerolinecolor\": \"#E1E5ED\"}, \"xaxis9\": {\"anchor\": \"y9\", \"domain\": [0.0, 0.2125], \"gridcolor\": \"#E1E5ED\", \"showgrid\": false, \"tickfont\": {\"color\": \"#4D5663\"}, \"title\": {\"font\": {\"color\": \"#4D5663\"}, \"text\": \"\"}, \"zerolinecolor\": \"#E1E5ED\"}, \"yaxis\": {\"anchor\": \"x\", \"domain\": [0.8025, 1.0], \"gridcolor\": \"#E1E5ED\", \"showgrid\": false, \"tickfont\": {\"color\": \"#4D5663\"}, \"title\": {\"font\": {\"color\": \"#4D5663\"}, \"text\": \"\"}, \"zerolinecolor\": \"#E1E5ED\"}, \"yaxis10\": {\"anchor\": \"x10\", \"domain\": [0.2675, 0.465], \"gridcolor\": \"#E1E5ED\", \"showgrid\": false, \"tickfont\": {\"color\": \"#4D5663\"}, \"title\": {\"font\": {\"color\": \"#4D5663\"}, \"text\": \"\"}, \"zerolinecolor\": \"#E1E5ED\"}, \"yaxis11\": {\"anchor\": \"x11\", \"domain\": [0.2675, 0.465], \"gridcolor\": \"#E1E5ED\", \"showgrid\": false, \"tickfont\": {\"color\": \"#4D5663\"}, \"title\": {\"font\": {\"color\": \"#4D5663\"}, \"text\": \"\"}, \"zerolinecolor\": \"#E1E5ED\"}, \"yaxis12\": {\"anchor\": \"x12\", \"domain\": [0.2675, 0.465], \"gridcolor\": \"#E1E5ED\", \"showgrid\": false, \"tickfont\": {\"color\": \"#4D5663\"}, \"title\": {\"font\": {\"color\": \"#4D5663\"}, \"text\": \"\"}, \"zerolinecolor\": \"#E1E5ED\"}, \"yaxis13\": {\"anchor\": \"x13\", \"domain\": [0.0, 0.1975], \"gridcolor\": \"#E1E5ED\", \"showgrid\": false, \"tickfont\": {\"color\": \"#4D5663\"}, \"title\": {\"font\": {\"color\": \"#4D5663\"}, \"text\": \"\"}, \"zerolinecolor\": \"#E1E5ED\"}, \"yaxis14\": {\"anchor\": \"x14\", \"domain\": [0.0, 0.1975], \"gridcolor\": \"#E1E5ED\", \"showgrid\": false, \"tickfont\": {\"color\": \"#4D5663\"}, \"title\": {\"font\": {\"color\": \"#4D5663\"}, \"text\": \"\"}, \"zerolinecolor\": \"#E1E5ED\"}, \"yaxis15\": {\"anchor\": \"x15\", \"domain\": [0.0, 0.1975], \"gridcolor\": \"#E1E5ED\", \"showgrid\": false, \"tickfont\": {\"color\": \"#4D5663\"}, \"title\": {\"font\": {\"color\": \"#4D5663\"}, \"text\": \"\"}, \"zerolinecolor\": \"#E1E5ED\"}, \"yaxis16\": {\"anchor\": \"x16\", \"domain\": [0.0, 0.1975], \"gridcolor\": \"#E1E5ED\", \"showgrid\": false, \"tickfont\": {\"color\": \"#4D5663\"}, \"title\": {\"font\": {\"color\": \"#4D5663\"}, \"text\": \"\"}, \"zerolinecolor\": \"#E1E5ED\"}, \"yaxis2\": {\"anchor\": \"x2\", \"domain\": [0.8025, 1.0], \"gridcolor\": \"#E1E5ED\", \"showgrid\": false, \"tickfont\": {\"color\": \"#4D5663\"}, \"title\": {\"font\": {\"color\": \"#4D5663\"}, \"text\": \"\"}, \"zerolinecolor\": \"#E1E5ED\"}, \"yaxis3\": {\"anchor\": \"x3\", \"domain\": [0.8025, 1.0], \"gridcolor\": \"#E1E5ED\", \"showgrid\": false, \"tickfont\": {\"color\": \"#4D5663\"}, \"title\": {\"font\": {\"color\": \"#4D5663\"}, \"text\": \"\"}, \"zerolinecolor\": \"#E1E5ED\"}, \"yaxis4\": {\"anchor\": \"x4\", \"domain\": [0.8025, 1.0], \"gridcolor\": \"#E1E5ED\", \"showgrid\": false, \"tickfont\": {\"color\": \"#4D5663\"}, \"title\": {\"font\": {\"color\": \"#4D5663\"}, \"text\": \"\"}, \"zerolinecolor\": \"#E1E5ED\"}, \"yaxis5\": {\"anchor\": \"x5\", \"domain\": [0.535, 0.7325], \"gridcolor\": \"#E1E5ED\", \"showgrid\": false, \"tickfont\": {\"color\": \"#4D5663\"}, \"title\": {\"font\": {\"color\": \"#4D5663\"}, \"text\": \"\"}, \"zerolinecolor\": \"#E1E5ED\"}, \"yaxis6\": {\"anchor\": \"x6\", \"domain\": [0.535, 0.7325], \"gridcolor\": \"#E1E5ED\", \"showgrid\": false, \"tickfont\": {\"color\": \"#4D5663\"}, \"title\": {\"font\": {\"color\": \"#4D5663\"}, \"text\": \"\"}, \"zerolinecolor\": \"#E1E5ED\"}, \"yaxis7\": {\"anchor\": \"x7\", \"domain\": [0.535, 0.7325], \"gridcolor\": \"#E1E5ED\", \"showgrid\": false, \"tickfont\": {\"color\": \"#4D5663\"}, \"title\": {\"font\": {\"color\": \"#4D5663\"}, \"text\": \"\"}, \"zerolinecolor\": \"#E1E5ED\"}, \"yaxis8\": {\"anchor\": \"x8\", \"domain\": [0.535, 0.7325], \"gridcolor\": \"#E1E5ED\", \"showgrid\": false, \"tickfont\": {\"color\": \"#4D5663\"}, \"title\": {\"font\": {\"color\": \"#4D5663\"}, \"text\": \"\"}, \"zerolinecolor\": \"#E1E5ED\"}, \"yaxis9\": {\"anchor\": \"x9\", \"domain\": [0.2675, 0.465], \"gridcolor\": \"#E1E5ED\", \"showgrid\": false, \"tickfont\": {\"color\": \"#4D5663\"}, \"title\": {\"font\": {\"color\": \"#4D5663\"}, \"text\": \"\"}, \"zerolinecolor\": \"#E1E5ED\"}},                        {\"showLink\": true, \"linkText\": \"Export to plot.ly\", \"plotlyServerURL\": \"https://plot.ly\", \"responsive\": true}                    ).then(function(){\n",
       "                            \n",
       "var gd = document.getElementById('63c25a52-7f71-4da4-b48b-2a2f65dc3c25');\n",
       "var x = new MutationObserver(function (mutations, observer) {{\n",
       "        var display = window.getComputedStyle(gd).display;\n",
       "        if (!display || display === 'none') {{\n",
       "            console.log([gd, 'removed!']);\n",
       "            Plotly.purge(gd);\n",
       "            observer.disconnect();\n",
       "        }}\n",
       "}});\n",
       "\n",
       "// Listen for the removal of the full notebook cells\n",
       "var notebookContainer = gd.closest('#notebook-container');\n",
       "if (notebookContainer) {{\n",
       "    x.observe(notebookContainer, {childList: true});\n",
       "}}\n",
       "\n",
       "// Listen for the clearing of the current output cell\n",
       "var outputEl = gd.closest('.output');\n",
       "if (outputEl) {{\n",
       "    x.observe(outputEl, {childList: true});\n",
       "}}\n",
       "\n",
       "                        })                };                });            </script>        </div>"
      ]
     },
     "metadata": {},
     "output_type": "display_data"
    }
   ],
   "source": [
    "df.scatter_matrix()"
   ]
  },
  {
   "cell_type": "markdown",
   "metadata": {
    "collapsed": true
   },
   "source": [
    "# Great Job!"
   ]
  }
 ],
 "metadata": {
  "kernelspec": {
   "display_name": "Python 3",
   "language": "python",
   "name": "python3"
  },
  "language_info": {
   "codemirror_mode": {
    "name": "ipython",
    "version": 3
   },
   "file_extension": ".py",
   "mimetype": "text/x-python",
   "name": "python",
   "nbconvert_exporter": "python",
   "pygments_lexer": "ipython3",
   "version": "3.8.3"
  }
 },
 "nbformat": 4,
 "nbformat_minor": 1
}
