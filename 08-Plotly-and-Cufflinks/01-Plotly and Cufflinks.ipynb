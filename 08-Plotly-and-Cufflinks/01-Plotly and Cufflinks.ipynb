{
 "cells": [
  {
   "cell_type": "markdown",
   "metadata": {},
   "source": [
    "# Plotly and Cufflinks"
   ]
  },
  {
   "cell_type": "markdown",
   "metadata": {},
   "source": [
    "Plotly is a library that allows you to create interactive plots that you can use in dashboards or websites (you can save them as html files or static images).\n",
    "\n",
    "## Installation\n",
    "\n",
    "In order for this all to work, you'll need to install plotly and cufflinks to call plots directly off of a pandas dataframe. These libraries are not currently available through **conda** but are available through **pip**. Install the libraries at your command line/terminal using:\n",
    "\n",
    "    pip install plotly\n",
    "    pip install cufflinks\n",
    "\n",
    "** NOTE: Make sure you only have one installation of Python on your computer when you do this, otherwise the installation may not work. **\n",
    "\n",
    "## Imports and Set-up"
   ]
  },
  {
   "cell_type": "code",
   "execution_count": 1,
   "metadata": {},
   "outputs": [],
   "source": [
    "import pandas as pd\n",
    "import numpy as np\n",
    "%matplotlib inline"
   ]
  },
  {
   "cell_type": "code",
   "execution_count": 2,
   "metadata": {},
   "outputs": [
    {
     "name": "stdout",
     "output_type": "stream",
     "text": [
      "4.10.0\n"
     ]
    }
   ],
   "source": [
    "from plotly import __version__\n",
    "from plotly.offline import download_plotlyjs, init_notebook_mode, plot, iplot\n",
    "\n",
    "print(__version__) # requires version >= 1.9.0"
   ]
  },
  {
   "cell_type": "code",
   "execution_count": 3,
   "metadata": {},
   "outputs": [],
   "source": [
    "import cufflinks as cf"
   ]
  },
  {
   "cell_type": "code",
   "execution_count": 4,
   "metadata": {},
   "outputs": [
    {
     "data": {
      "text/html": [
       "        <script type=\"text/javascript\">\n",
       "        window.PlotlyConfig = {MathJaxConfig: 'local'};\n",
       "        if (window.MathJax) {MathJax.Hub.Config({SVG: {font: \"STIX-Web\"}});}\n",
       "        if (typeof require !== 'undefined') {\n",
       "        require.undef(\"plotly\");\n",
       "        requirejs.config({\n",
       "            paths: {\n",
       "                'plotly': ['https://cdn.plot.ly/plotly-latest.min']\n",
       "            }\n",
       "        });\n",
       "        require(['plotly'], function(Plotly) {\n",
       "            window._Plotly = Plotly;\n",
       "        });\n",
       "        }\n",
       "        </script>\n",
       "        "
      ]
     },
     "metadata": {},
     "output_type": "display_data"
    }
   ],
   "source": [
    "# For Notebooks\n",
    "init_notebook_mode(connected=True)"
   ]
  },
  {
   "cell_type": "code",
   "execution_count": 5,
   "metadata": {},
   "outputs": [
    {
     "data": {
      "text/html": [
       "        <script type=\"text/javascript\">\n",
       "        window.PlotlyConfig = {MathJaxConfig: 'local'};\n",
       "        if (window.MathJax) {MathJax.Hub.Config({SVG: {font: \"STIX-Web\"}});}\n",
       "        if (typeof require !== 'undefined') {\n",
       "        require.undef(\"plotly\");\n",
       "        requirejs.config({\n",
       "            paths: {\n",
       "                'plotly': ['https://cdn.plot.ly/plotly-latest.min']\n",
       "            }\n",
       "        });\n",
       "        require(['plotly'], function(Plotly) {\n",
       "            window._Plotly = Plotly;\n",
       "        });\n",
       "        }\n",
       "        </script>\n",
       "        "
      ]
     },
     "metadata": {},
     "output_type": "display_data"
    }
   ],
   "source": [
    "# For offline use\n",
    "cf.go_offline()"
   ]
  },
  {
   "cell_type": "markdown",
   "metadata": {},
   "source": [
    "### Fake Data"
   ]
  },
  {
   "cell_type": "code",
   "execution_count": 6,
   "metadata": {},
   "outputs": [],
   "source": [
    "df = pd.DataFrame(np.random.randn(100,4),columns='A B C D'.split())"
   ]
  },
  {
   "cell_type": "code",
   "execution_count": 7,
   "metadata": {},
   "outputs": [
    {
     "data": {
      "text/html": [
       "<div>\n",
       "<style scoped>\n",
       "    .dataframe tbody tr th:only-of-type {\n",
       "        vertical-align: middle;\n",
       "    }\n",
       "\n",
       "    .dataframe tbody tr th {\n",
       "        vertical-align: top;\n",
       "    }\n",
       "\n",
       "    .dataframe thead th {\n",
       "        text-align: right;\n",
       "    }\n",
       "</style>\n",
       "<table border=\"1\" class=\"dataframe\">\n",
       "  <thead>\n",
       "    <tr style=\"text-align: right;\">\n",
       "      <th></th>\n",
       "      <th>A</th>\n",
       "      <th>B</th>\n",
       "      <th>C</th>\n",
       "      <th>D</th>\n",
       "    </tr>\n",
       "  </thead>\n",
       "  <tbody>\n",
       "    <tr>\n",
       "      <th>0</th>\n",
       "      <td>0.522556</td>\n",
       "      <td>-1.050237</td>\n",
       "      <td>0.933287</td>\n",
       "      <td>0.158192</td>\n",
       "    </tr>\n",
       "    <tr>\n",
       "      <th>1</th>\n",
       "      <td>0.836647</td>\n",
       "      <td>-0.021961</td>\n",
       "      <td>0.304944</td>\n",
       "      <td>-0.208386</td>\n",
       "    </tr>\n",
       "    <tr>\n",
       "      <th>2</th>\n",
       "      <td>-0.664604</td>\n",
       "      <td>-0.576593</td>\n",
       "      <td>0.441389</td>\n",
       "      <td>-0.822614</td>\n",
       "    </tr>\n",
       "    <tr>\n",
       "      <th>3</th>\n",
       "      <td>-0.661117</td>\n",
       "      <td>2.248966</td>\n",
       "      <td>-0.205287</td>\n",
       "      <td>0.956045</td>\n",
       "    </tr>\n",
       "    <tr>\n",
       "      <th>4</th>\n",
       "      <td>-0.029293</td>\n",
       "      <td>-1.001818</td>\n",
       "      <td>-0.757061</td>\n",
       "      <td>0.270523</td>\n",
       "    </tr>\n",
       "  </tbody>\n",
       "</table>\n",
       "</div>"
      ],
      "text/plain": [
       "          A         B         C         D\n",
       "0  0.522556 -1.050237  0.933287  0.158192\n",
       "1  0.836647 -0.021961  0.304944 -0.208386\n",
       "2 -0.664604 -0.576593  0.441389 -0.822614\n",
       "3 -0.661117  2.248966 -0.205287  0.956045\n",
       "4 -0.029293 -1.001818 -0.757061  0.270523"
      ]
     },
     "execution_count": 7,
     "metadata": {},
     "output_type": "execute_result"
    }
   ],
   "source": [
    "df.head()"
   ]
  },
  {
   "cell_type": "code",
   "execution_count": 8,
   "metadata": {},
   "outputs": [],
   "source": [
    "df2 = pd.DataFrame({'Category':['A','B','C'],'Values':[32,43,50]})"
   ]
  },
  {
   "cell_type": "code",
   "execution_count": 9,
   "metadata": {},
   "outputs": [
    {
     "data": {
      "text/html": [
       "<div>\n",
       "<style scoped>\n",
       "    .dataframe tbody tr th:only-of-type {\n",
       "        vertical-align: middle;\n",
       "    }\n",
       "\n",
       "    .dataframe tbody tr th {\n",
       "        vertical-align: top;\n",
       "    }\n",
       "\n",
       "    .dataframe thead th {\n",
       "        text-align: right;\n",
       "    }\n",
       "</style>\n",
       "<table border=\"1\" class=\"dataframe\">\n",
       "  <thead>\n",
       "    <tr style=\"text-align: right;\">\n",
       "      <th></th>\n",
       "      <th>Category</th>\n",
       "      <th>Values</th>\n",
       "    </tr>\n",
       "  </thead>\n",
       "  <tbody>\n",
       "    <tr>\n",
       "      <th>0</th>\n",
       "      <td>A</td>\n",
       "      <td>32</td>\n",
       "    </tr>\n",
       "    <tr>\n",
       "      <th>1</th>\n",
       "      <td>B</td>\n",
       "      <td>43</td>\n",
       "    </tr>\n",
       "    <tr>\n",
       "      <th>2</th>\n",
       "      <td>C</td>\n",
       "      <td>50</td>\n",
       "    </tr>\n",
       "  </tbody>\n",
       "</table>\n",
       "</div>"
      ],
      "text/plain": [
       "  Category  Values\n",
       "0        A      32\n",
       "1        B      43\n",
       "2        C      50"
      ]
     },
     "execution_count": 9,
     "metadata": {},
     "output_type": "execute_result"
    }
   ],
   "source": [
    "df2.head()"
   ]
  },
  {
   "cell_type": "markdown",
   "metadata": {},
   "source": [
    "## Using Cufflinks and iplot()\n",
    "\n",
    "* scatter\n",
    "* bar\n",
    "* box\n",
    "* spread\n",
    "* ratio\n",
    "* heatmap\n",
    "* surface\n",
    "* histogram\n",
    "* bubble"
   ]
  },
  {
   "cell_type": "markdown",
   "metadata": {},
   "source": [
    "## Scatter"
   ]
  },
  {
   "cell_type": "code",
   "execution_count": 10,
   "metadata": {},
   "outputs": [
    {
     "data": {
      "application/vnd.plotly.v1+json": {
       "config": {
        "linkText": "Export to plot.ly",
        "plotlyServerURL": "https://plot.ly",
        "showLink": true
       },
       "data": [
        {
         "line": {
          "color": "rgba(255, 153, 51, 1.0)",
          "dash": "solid",
          "shape": "linear",
          "width": 1.3
         },
         "marker": {
          "size": 10,
          "symbol": "circle"
         },
         "mode": "markers",
         "name": "B",
         "text": "",
         "type": "scatter",
         "x": [
          0.522556105813715,
          0.8366465175888684,
          -0.664603970479962,
          -0.6611168116320768,
          -0.029293198680295153,
          0.630440914253106,
          0.24536832097911143,
          0.5213441943977241,
          -0.6409830943135116,
          -1.2795322536768938,
          1.5529623456032118,
          -2.303638277851841,
          -0.08246423455366149,
          -0.6603240942134286,
          -1.3320172245876538,
          0.27054147790735356,
          -2.3102127601116957,
          -1.180959337349101,
          -1.6620377976952876,
          1.5467169576834783,
          -0.4169363614353314,
          -0.9631554333059279,
          -1.4560511712205557,
          -2.0404767103485617,
          1.9954182190915115,
          0.5205977940769877,
          -0.6707041858894667,
          1.190860114617754,
          0.4236278788802016,
          0.5951909517408043,
          0.0722911467287905,
          -0.8749298041157985,
          0.9194636594323516,
          1.4883038699736955,
          -3.4230147844322922,
          1.1924595949170957,
          1.4008954471598927,
          -1.1151174087094455,
          -1.1995365117501031,
          0.8110171223718338,
          -1.8292495637863746,
          2.0529700474973525,
          -1.3165906845861155,
          1.667125932294143,
          -1.3404983717729393,
          -0.6267318398612008,
          -1.733235590397368,
          -0.7963674104484132,
          -0.8623741759795556,
          -0.7773317335322487,
          -0.47181762470855554,
          0.07716999711133517,
          0.35817988537598444,
          -0.3295384933143855,
          0.6653512574814932,
          -0.4486369697071627,
          0.7099314026754735,
          -0.4542041749256783,
          -0.0746400765540713,
          0.21189666518828398,
          0.8737431149504534,
          0.4858681671093836,
          0.777834053956173,
          1.2796759802166797,
          -0.019325062343936078,
          -0.7744760972835689,
          -0.6060372583098742,
          1.0343304682727885,
          -1.5922954029379874,
          -0.6296209412783041,
          0.5207527208513598,
          -0.8729548116088645,
          -1.2396683909340585,
          -0.5932494118087088,
          0.0032824444979755235,
          0.5378194907114049,
          0.331241280973708,
          -1.278552728158368,
          -0.0995570035566114,
          -0.2453115203777214,
          0.5485210558743719,
          0.21445941172442826,
          -1.2505565269743624,
          -0.7799754350761642,
          1.3686204262485862,
          0.3353102228299381,
          -0.9002585779060629,
          2.1043905766033024,
          -0.6498677108938995,
          0.5634701912298704,
          -1.6338513008111868,
          -0.36347720593876093,
          1.9520757630587742,
          -0.923410126462932,
          1.203474471477271,
          1.1792980741286028,
          0.17293066836863386,
          -1.1796690199363606,
          -2.055002219050221,
          -1.3653009952725936
         ],
         "y": [
          -1.0502366155422067,
          -0.021961193335135246,
          -0.5765927169777691,
          2.248965683306026,
          -1.0018182265616553,
          -0.894238683015506,
          0.6460866751885185,
          -1.3115427152492027,
          1.3166852659343116,
          1.926211376247639,
          -0.2922318185022914,
          0.09152608733805903,
          -0.7430556408676412,
          -0.578476852932132,
          0.6642732928180614,
          -1.0057961103352402,
          -0.056384208433620034,
          1.0909053059116434,
          0.4734520127620457,
          -0.02676628959820128,
          -0.22708984983508898,
          0.9741417789799731,
          -1.5145327182874229,
          1.2834117079537986,
          0.6741070591221596,
          0.24083067110312012,
          0.8555734521733575,
          0.6306027272359749,
          1.5763162765394942,
          -0.5958029804768725,
          1.568304227917459,
          0.05975424687522171,
          -1.706261214114887,
          1.7312151731908052,
          -1.7080487887071312,
          -0.43781305829364797,
          0.20921487935513305,
          -2.259297390099242,
          1.218643322819174,
          0.32418168737135344,
          0.6564577271674744,
          -1.0721690985177132,
          -0.6557675467597885,
          -0.12441768390177917,
          0.7006888292110914,
          1.7994324854881514,
          -1.1572248539641468,
          -0.20803654802745664,
          0.12223982689574536,
          0.9016669965242321,
          0.02851091151994256,
          -0.04349225640139199,
          -0.8098781338219512,
          -0.12311448162771756,
          0.9760908000146804,
          -1.0199094785959937,
          -0.4571566426231742,
          1.3938270495469804,
          -0.9199946915318254,
          0.8866663856815331,
          0.3058242139615769,
          -0.45665461339037566,
          -0.5152722731281091,
          0.5113151944185977,
          -1.2122833743218226,
          2.8912100887402654,
          -1.0200521532784588,
          0.29861556578277937,
          -1.82601771971382,
          0.2629590316929113,
          -0.24178830164881776,
          0.734374599908883,
          -0.771622179092258,
          -0.9050560338468139,
          -0.36113285074818186,
          0.6688510578903628,
          -1.4846396280995497,
          0.6829643443929462,
          1.3481232854267218,
          -0.3780301066171847,
          -0.21712034615308187,
          0.23588244120169044,
          0.6797192924255304,
          -0.9562785562071007,
          0.5230709190292472,
          0.8152487481197463,
          -0.2461668611776281,
          0.42057386032266425,
          -1.9427434567661108,
          -0.35009411437483956,
          -0.5247859106616706,
          0.9801017518398779,
          0.21683762267305612,
          0.10109849438698844,
          -0.010736076482799084,
          -0.3068822190517889,
          0.1657544349926027,
          -0.5373922231954307,
          1.9009029986905681,
          0.2860674527087954
         ]
        }
       ],
       "layout": {
        "legend": {
         "bgcolor": "#F5F6F9",
         "font": {
          "color": "#4D5663"
         }
        },
        "paper_bgcolor": "#F5F6F9",
        "plot_bgcolor": "#F5F6F9",
        "template": {
         "data": {
          "bar": [
           {
            "error_x": {
             "color": "#2a3f5f"
            },
            "error_y": {
             "color": "#2a3f5f"
            },
            "marker": {
             "line": {
              "color": "#E5ECF6",
              "width": 0.5
             }
            },
            "type": "bar"
           }
          ],
          "barpolar": [
           {
            "marker": {
             "line": {
              "color": "#E5ECF6",
              "width": 0.5
             }
            },
            "type": "barpolar"
           }
          ],
          "carpet": [
           {
            "aaxis": {
             "endlinecolor": "#2a3f5f",
             "gridcolor": "white",
             "linecolor": "white",
             "minorgridcolor": "white",
             "startlinecolor": "#2a3f5f"
            },
            "baxis": {
             "endlinecolor": "#2a3f5f",
             "gridcolor": "white",
             "linecolor": "white",
             "minorgridcolor": "white",
             "startlinecolor": "#2a3f5f"
            },
            "type": "carpet"
           }
          ],
          "choropleth": [
           {
            "colorbar": {
             "outlinewidth": 0,
             "ticks": ""
            },
            "type": "choropleth"
           }
          ],
          "contour": [
           {
            "colorbar": {
             "outlinewidth": 0,
             "ticks": ""
            },
            "colorscale": [
             [
              0,
              "#0d0887"
             ],
             [
              0.1111111111111111,
              "#46039f"
             ],
             [
              0.2222222222222222,
              "#7201a8"
             ],
             [
              0.3333333333333333,
              "#9c179e"
             ],
             [
              0.4444444444444444,
              "#bd3786"
             ],
             [
              0.5555555555555556,
              "#d8576b"
             ],
             [
              0.6666666666666666,
              "#ed7953"
             ],
             [
              0.7777777777777778,
              "#fb9f3a"
             ],
             [
              0.8888888888888888,
              "#fdca26"
             ],
             [
              1,
              "#f0f921"
             ]
            ],
            "type": "contour"
           }
          ],
          "contourcarpet": [
           {
            "colorbar": {
             "outlinewidth": 0,
             "ticks": ""
            },
            "type": "contourcarpet"
           }
          ],
          "heatmap": [
           {
            "colorbar": {
             "outlinewidth": 0,
             "ticks": ""
            },
            "colorscale": [
             [
              0,
              "#0d0887"
             ],
             [
              0.1111111111111111,
              "#46039f"
             ],
             [
              0.2222222222222222,
              "#7201a8"
             ],
             [
              0.3333333333333333,
              "#9c179e"
             ],
             [
              0.4444444444444444,
              "#bd3786"
             ],
             [
              0.5555555555555556,
              "#d8576b"
             ],
             [
              0.6666666666666666,
              "#ed7953"
             ],
             [
              0.7777777777777778,
              "#fb9f3a"
             ],
             [
              0.8888888888888888,
              "#fdca26"
             ],
             [
              1,
              "#f0f921"
             ]
            ],
            "type": "heatmap"
           }
          ],
          "heatmapgl": [
           {
            "colorbar": {
             "outlinewidth": 0,
             "ticks": ""
            },
            "colorscale": [
             [
              0,
              "#0d0887"
             ],
             [
              0.1111111111111111,
              "#46039f"
             ],
             [
              0.2222222222222222,
              "#7201a8"
             ],
             [
              0.3333333333333333,
              "#9c179e"
             ],
             [
              0.4444444444444444,
              "#bd3786"
             ],
             [
              0.5555555555555556,
              "#d8576b"
             ],
             [
              0.6666666666666666,
              "#ed7953"
             ],
             [
              0.7777777777777778,
              "#fb9f3a"
             ],
             [
              0.8888888888888888,
              "#fdca26"
             ],
             [
              1,
              "#f0f921"
             ]
            ],
            "type": "heatmapgl"
           }
          ],
          "histogram": [
           {
            "marker": {
             "colorbar": {
              "outlinewidth": 0,
              "ticks": ""
             }
            },
            "type": "histogram"
           }
          ],
          "histogram2d": [
           {
            "colorbar": {
             "outlinewidth": 0,
             "ticks": ""
            },
            "colorscale": [
             [
              0,
              "#0d0887"
             ],
             [
              0.1111111111111111,
              "#46039f"
             ],
             [
              0.2222222222222222,
              "#7201a8"
             ],
             [
              0.3333333333333333,
              "#9c179e"
             ],
             [
              0.4444444444444444,
              "#bd3786"
             ],
             [
              0.5555555555555556,
              "#d8576b"
             ],
             [
              0.6666666666666666,
              "#ed7953"
             ],
             [
              0.7777777777777778,
              "#fb9f3a"
             ],
             [
              0.8888888888888888,
              "#fdca26"
             ],
             [
              1,
              "#f0f921"
             ]
            ],
            "type": "histogram2d"
           }
          ],
          "histogram2dcontour": [
           {
            "colorbar": {
             "outlinewidth": 0,
             "ticks": ""
            },
            "colorscale": [
             [
              0,
              "#0d0887"
             ],
             [
              0.1111111111111111,
              "#46039f"
             ],
             [
              0.2222222222222222,
              "#7201a8"
             ],
             [
              0.3333333333333333,
              "#9c179e"
             ],
             [
              0.4444444444444444,
              "#bd3786"
             ],
             [
              0.5555555555555556,
              "#d8576b"
             ],
             [
              0.6666666666666666,
              "#ed7953"
             ],
             [
              0.7777777777777778,
              "#fb9f3a"
             ],
             [
              0.8888888888888888,
              "#fdca26"
             ],
             [
              1,
              "#f0f921"
             ]
            ],
            "type": "histogram2dcontour"
           }
          ],
          "mesh3d": [
           {
            "colorbar": {
             "outlinewidth": 0,
             "ticks": ""
            },
            "type": "mesh3d"
           }
          ],
          "parcoords": [
           {
            "line": {
             "colorbar": {
              "outlinewidth": 0,
              "ticks": ""
             }
            },
            "type": "parcoords"
           }
          ],
          "pie": [
           {
            "automargin": true,
            "type": "pie"
           }
          ],
          "scatter": [
           {
            "marker": {
             "colorbar": {
              "outlinewidth": 0,
              "ticks": ""
             }
            },
            "type": "scatter"
           }
          ],
          "scatter3d": [
           {
            "line": {
             "colorbar": {
              "outlinewidth": 0,
              "ticks": ""
             }
            },
            "marker": {
             "colorbar": {
              "outlinewidth": 0,
              "ticks": ""
             }
            },
            "type": "scatter3d"
           }
          ],
          "scattercarpet": [
           {
            "marker": {
             "colorbar": {
              "outlinewidth": 0,
              "ticks": ""
             }
            },
            "type": "scattercarpet"
           }
          ],
          "scattergeo": [
           {
            "marker": {
             "colorbar": {
              "outlinewidth": 0,
              "ticks": ""
             }
            },
            "type": "scattergeo"
           }
          ],
          "scattergl": [
           {
            "marker": {
             "colorbar": {
              "outlinewidth": 0,
              "ticks": ""
             }
            },
            "type": "scattergl"
           }
          ],
          "scattermapbox": [
           {
            "marker": {
             "colorbar": {
              "outlinewidth": 0,
              "ticks": ""
             }
            },
            "type": "scattermapbox"
           }
          ],
          "scatterpolar": [
           {
            "marker": {
             "colorbar": {
              "outlinewidth": 0,
              "ticks": ""
             }
            },
            "type": "scatterpolar"
           }
          ],
          "scatterpolargl": [
           {
            "marker": {
             "colorbar": {
              "outlinewidth": 0,
              "ticks": ""
             }
            },
            "type": "scatterpolargl"
           }
          ],
          "scatterternary": [
           {
            "marker": {
             "colorbar": {
              "outlinewidth": 0,
              "ticks": ""
             }
            },
            "type": "scatterternary"
           }
          ],
          "surface": [
           {
            "colorbar": {
             "outlinewidth": 0,
             "ticks": ""
            },
            "colorscale": [
             [
              0,
              "#0d0887"
             ],
             [
              0.1111111111111111,
              "#46039f"
             ],
             [
              0.2222222222222222,
              "#7201a8"
             ],
             [
              0.3333333333333333,
              "#9c179e"
             ],
             [
              0.4444444444444444,
              "#bd3786"
             ],
             [
              0.5555555555555556,
              "#d8576b"
             ],
             [
              0.6666666666666666,
              "#ed7953"
             ],
             [
              0.7777777777777778,
              "#fb9f3a"
             ],
             [
              0.8888888888888888,
              "#fdca26"
             ],
             [
              1,
              "#f0f921"
             ]
            ],
            "type": "surface"
           }
          ],
          "table": [
           {
            "cells": {
             "fill": {
              "color": "#EBF0F8"
             },
             "line": {
              "color": "white"
             }
            },
            "header": {
             "fill": {
              "color": "#C8D4E3"
             },
             "line": {
              "color": "white"
             }
            },
            "type": "table"
           }
          ]
         },
         "layout": {
          "annotationdefaults": {
           "arrowcolor": "#2a3f5f",
           "arrowhead": 0,
           "arrowwidth": 1
          },
          "coloraxis": {
           "colorbar": {
            "outlinewidth": 0,
            "ticks": ""
           }
          },
          "colorscale": {
           "diverging": [
            [
             0,
             "#8e0152"
            ],
            [
             0.1,
             "#c51b7d"
            ],
            [
             0.2,
             "#de77ae"
            ],
            [
             0.3,
             "#f1b6da"
            ],
            [
             0.4,
             "#fde0ef"
            ],
            [
             0.5,
             "#f7f7f7"
            ],
            [
             0.6,
             "#e6f5d0"
            ],
            [
             0.7,
             "#b8e186"
            ],
            [
             0.8,
             "#7fbc41"
            ],
            [
             0.9,
             "#4d9221"
            ],
            [
             1,
             "#276419"
            ]
           ],
           "sequential": [
            [
             0,
             "#0d0887"
            ],
            [
             0.1111111111111111,
             "#46039f"
            ],
            [
             0.2222222222222222,
             "#7201a8"
            ],
            [
             0.3333333333333333,
             "#9c179e"
            ],
            [
             0.4444444444444444,
             "#bd3786"
            ],
            [
             0.5555555555555556,
             "#d8576b"
            ],
            [
             0.6666666666666666,
             "#ed7953"
            ],
            [
             0.7777777777777778,
             "#fb9f3a"
            ],
            [
             0.8888888888888888,
             "#fdca26"
            ],
            [
             1,
             "#f0f921"
            ]
           ],
           "sequentialminus": [
            [
             0,
             "#0d0887"
            ],
            [
             0.1111111111111111,
             "#46039f"
            ],
            [
             0.2222222222222222,
             "#7201a8"
            ],
            [
             0.3333333333333333,
             "#9c179e"
            ],
            [
             0.4444444444444444,
             "#bd3786"
            ],
            [
             0.5555555555555556,
             "#d8576b"
            ],
            [
             0.6666666666666666,
             "#ed7953"
            ],
            [
             0.7777777777777778,
             "#fb9f3a"
            ],
            [
             0.8888888888888888,
             "#fdca26"
            ],
            [
             1,
             "#f0f921"
            ]
           ]
          },
          "colorway": [
           "#636efa",
           "#EF553B",
           "#00cc96",
           "#ab63fa",
           "#FFA15A",
           "#19d3f3",
           "#FF6692",
           "#B6E880",
           "#FF97FF",
           "#FECB52"
          ],
          "font": {
           "color": "#2a3f5f"
          },
          "geo": {
           "bgcolor": "white",
           "lakecolor": "white",
           "landcolor": "#E5ECF6",
           "showlakes": true,
           "showland": true,
           "subunitcolor": "white"
          },
          "hoverlabel": {
           "align": "left"
          },
          "hovermode": "closest",
          "mapbox": {
           "style": "light"
          },
          "paper_bgcolor": "white",
          "plot_bgcolor": "#E5ECF6",
          "polar": {
           "angularaxis": {
            "gridcolor": "white",
            "linecolor": "white",
            "ticks": ""
           },
           "bgcolor": "#E5ECF6",
           "radialaxis": {
            "gridcolor": "white",
            "linecolor": "white",
            "ticks": ""
           }
          },
          "scene": {
           "xaxis": {
            "backgroundcolor": "#E5ECF6",
            "gridcolor": "white",
            "gridwidth": 2,
            "linecolor": "white",
            "showbackground": true,
            "ticks": "",
            "zerolinecolor": "white"
           },
           "yaxis": {
            "backgroundcolor": "#E5ECF6",
            "gridcolor": "white",
            "gridwidth": 2,
            "linecolor": "white",
            "showbackground": true,
            "ticks": "",
            "zerolinecolor": "white"
           },
           "zaxis": {
            "backgroundcolor": "#E5ECF6",
            "gridcolor": "white",
            "gridwidth": 2,
            "linecolor": "white",
            "showbackground": true,
            "ticks": "",
            "zerolinecolor": "white"
           }
          },
          "shapedefaults": {
           "line": {
            "color": "#2a3f5f"
           }
          },
          "ternary": {
           "aaxis": {
            "gridcolor": "white",
            "linecolor": "white",
            "ticks": ""
           },
           "baxis": {
            "gridcolor": "white",
            "linecolor": "white",
            "ticks": ""
           },
           "bgcolor": "#E5ECF6",
           "caxis": {
            "gridcolor": "white",
            "linecolor": "white",
            "ticks": ""
           }
          },
          "title": {
           "x": 0.05
          },
          "xaxis": {
           "automargin": true,
           "gridcolor": "white",
           "linecolor": "white",
           "ticks": "",
           "title": {
            "standoff": 15
           },
           "zerolinecolor": "white",
           "zerolinewidth": 2
          },
          "yaxis": {
           "automargin": true,
           "gridcolor": "white",
           "linecolor": "white",
           "ticks": "",
           "title": {
            "standoff": 15
           },
           "zerolinecolor": "white",
           "zerolinewidth": 2
          }
         }
        },
        "title": {
         "font": {
          "color": "#4D5663"
         }
        },
        "xaxis": {
         "gridcolor": "#E1E5ED",
         "showgrid": true,
         "tickfont": {
          "color": "#4D5663"
         },
         "title": {
          "font": {
           "color": "#4D5663"
          },
          "text": ""
         },
         "zerolinecolor": "#E1E5ED"
        },
        "yaxis": {
         "gridcolor": "#E1E5ED",
         "showgrid": true,
         "tickfont": {
          "color": "#4D5663"
         },
         "title": {
          "font": {
           "color": "#4D5663"
          },
          "text": ""
         },
         "zerolinecolor": "#E1E5ED"
        }
       }
      },
      "text/html": [
       "<div>                            <div id=\"8a74a9ab-54e5-4a46-908d-4b565b27285d\" class=\"plotly-graph-div\" style=\"height:525px; width:100%;\"></div>            <script type=\"text/javascript\">                require([\"plotly\"], function(Plotly) {                    window.PLOTLYENV=window.PLOTLYENV || {};\n",
       "                    window.PLOTLYENV.BASE_URL='https://plot.ly';                                    if (document.getElementById(\"8a74a9ab-54e5-4a46-908d-4b565b27285d\")) {                    Plotly.newPlot(                        \"8a74a9ab-54e5-4a46-908d-4b565b27285d\",                        [{\"line\": {\"color\": \"rgba(255, 153, 51, 1.0)\", \"dash\": \"solid\", \"shape\": \"linear\", \"width\": 1.3}, \"marker\": {\"size\": 10, \"symbol\": \"circle\"}, \"mode\": \"markers\", \"name\": \"B\", \"text\": \"\", \"type\": \"scatter\", \"x\": [0.522556105813715, 0.8366465175888684, -0.664603970479962, -0.6611168116320768, -0.029293198680295153, 0.630440914253106, 0.24536832097911143, 0.5213441943977241, -0.6409830943135116, -1.2795322536768938, 1.5529623456032118, -2.303638277851841, -0.08246423455366149, -0.6603240942134286, -1.3320172245876538, 0.27054147790735356, -2.3102127601116957, -1.180959337349101, -1.6620377976952876, 1.5467169576834783, -0.4169363614353314, -0.9631554333059279, -1.4560511712205557, -2.0404767103485617, 1.9954182190915115, 0.5205977940769877, -0.6707041858894667, 1.190860114617754, 0.4236278788802016, 0.5951909517408043, 0.0722911467287905, -0.8749298041157985, 0.9194636594323516, 1.4883038699736955, -3.4230147844322922, 1.1924595949170957, 1.4008954471598927, -1.1151174087094455, -1.1995365117501031, 0.8110171223718338, -1.8292495637863746, 2.0529700474973525, -1.3165906845861155, 1.667125932294143, -1.3404983717729393, -0.6267318398612008, -1.733235590397368, -0.7963674104484132, -0.8623741759795556, -0.7773317335322487, -0.47181762470855554, 0.07716999711133517, 0.35817988537598444, -0.3295384933143855, 0.6653512574814932, -0.4486369697071627, 0.7099314026754735, -0.4542041749256783, -0.0746400765540713, 0.21189666518828398, 0.8737431149504534, 0.4858681671093836, 0.777834053956173, 1.2796759802166797, -0.019325062343936078, -0.7744760972835689, -0.6060372583098742, 1.0343304682727885, -1.5922954029379874, -0.6296209412783041, 0.5207527208513598, -0.8729548116088645, -1.2396683909340585, -0.5932494118087088, 0.0032824444979755235, 0.5378194907114049, 0.331241280973708, -1.278552728158368, -0.0995570035566114, -0.2453115203777214, 0.5485210558743719, 0.21445941172442826, -1.2505565269743624, -0.7799754350761642, 1.3686204262485862, 0.3353102228299381, -0.9002585779060629, 2.1043905766033024, -0.6498677108938995, 0.5634701912298704, -1.6338513008111868, -0.36347720593876093, 1.9520757630587742, -0.923410126462932, 1.203474471477271, 1.1792980741286028, 0.17293066836863386, -1.1796690199363606, -2.055002219050221, -1.3653009952725936], \"y\": [-1.0502366155422067, -0.021961193335135246, -0.5765927169777691, 2.248965683306026, -1.0018182265616553, -0.894238683015506, 0.6460866751885185, -1.3115427152492027, 1.3166852659343116, 1.926211376247639, -0.2922318185022914, 0.09152608733805903, -0.7430556408676412, -0.578476852932132, 0.6642732928180614, -1.0057961103352402, -0.056384208433620034, 1.0909053059116434, 0.4734520127620457, -0.02676628959820128, -0.22708984983508898, 0.9741417789799731, -1.5145327182874229, 1.2834117079537986, 0.6741070591221596, 0.24083067110312012, 0.8555734521733575, 0.6306027272359749, 1.5763162765394942, -0.5958029804768725, 1.568304227917459, 0.05975424687522171, -1.706261214114887, 1.7312151731908052, -1.7080487887071312, -0.43781305829364797, 0.20921487935513305, -2.259297390099242, 1.218643322819174, 0.32418168737135344, 0.6564577271674744, -1.0721690985177132, -0.6557675467597885, -0.12441768390177917, 0.7006888292110914, 1.7994324854881514, -1.1572248539641468, -0.20803654802745664, 0.12223982689574536, 0.9016669965242321, 0.02851091151994256, -0.04349225640139199, -0.8098781338219512, -0.12311448162771756, 0.9760908000146804, -1.0199094785959937, -0.4571566426231742, 1.3938270495469804, -0.9199946915318254, 0.8866663856815331, 0.3058242139615769, -0.45665461339037566, -0.5152722731281091, 0.5113151944185977, -1.2122833743218226, 2.8912100887402654, -1.0200521532784588, 0.29861556578277937, -1.82601771971382, 0.2629590316929113, -0.24178830164881776, 0.734374599908883, -0.771622179092258, -0.9050560338468139, -0.36113285074818186, 0.6688510578903628, -1.4846396280995497, 0.6829643443929462, 1.3481232854267218, -0.3780301066171847, -0.21712034615308187, 0.23588244120169044, 0.6797192924255304, -0.9562785562071007, 0.5230709190292472, 0.8152487481197463, -0.2461668611776281, 0.42057386032266425, -1.9427434567661108, -0.35009411437483956, -0.5247859106616706, 0.9801017518398779, 0.21683762267305612, 0.10109849438698844, -0.010736076482799084, -0.3068822190517889, 0.1657544349926027, -0.5373922231954307, 1.9009029986905681, 0.2860674527087954]}],                        {\"legend\": {\"bgcolor\": \"#F5F6F9\", \"font\": {\"color\": \"#4D5663\"}}, \"paper_bgcolor\": \"#F5F6F9\", \"plot_bgcolor\": \"#F5F6F9\", \"template\": {\"data\": {\"bar\": [{\"error_x\": {\"color\": \"#2a3f5f\"}, \"error_y\": {\"color\": \"#2a3f5f\"}, \"marker\": {\"line\": {\"color\": \"#E5ECF6\", \"width\": 0.5}}, \"type\": \"bar\"}], \"barpolar\": [{\"marker\": {\"line\": {\"color\": \"#E5ECF6\", \"width\": 0.5}}, \"type\": \"barpolar\"}], \"carpet\": [{\"aaxis\": {\"endlinecolor\": \"#2a3f5f\", \"gridcolor\": \"white\", \"linecolor\": \"white\", \"minorgridcolor\": \"white\", \"startlinecolor\": \"#2a3f5f\"}, \"baxis\": {\"endlinecolor\": \"#2a3f5f\", \"gridcolor\": \"white\", \"linecolor\": \"white\", \"minorgridcolor\": \"white\", \"startlinecolor\": \"#2a3f5f\"}, \"type\": \"carpet\"}], \"choropleth\": [{\"colorbar\": {\"outlinewidth\": 0, \"ticks\": \"\"}, \"type\": \"choropleth\"}], \"contour\": [{\"colorbar\": {\"outlinewidth\": 0, \"ticks\": \"\"}, \"colorscale\": [[0.0, \"#0d0887\"], [0.1111111111111111, \"#46039f\"], [0.2222222222222222, \"#7201a8\"], [0.3333333333333333, \"#9c179e\"], [0.4444444444444444, \"#bd3786\"], [0.5555555555555556, \"#d8576b\"], [0.6666666666666666, \"#ed7953\"], [0.7777777777777778, \"#fb9f3a\"], [0.8888888888888888, \"#fdca26\"], [1.0, \"#f0f921\"]], \"type\": \"contour\"}], \"contourcarpet\": [{\"colorbar\": {\"outlinewidth\": 0, \"ticks\": \"\"}, \"type\": \"contourcarpet\"}], \"heatmap\": [{\"colorbar\": {\"outlinewidth\": 0, \"ticks\": \"\"}, \"colorscale\": [[0.0, \"#0d0887\"], [0.1111111111111111, \"#46039f\"], [0.2222222222222222, \"#7201a8\"], [0.3333333333333333, \"#9c179e\"], [0.4444444444444444, \"#bd3786\"], [0.5555555555555556, \"#d8576b\"], [0.6666666666666666, \"#ed7953\"], [0.7777777777777778, \"#fb9f3a\"], [0.8888888888888888, \"#fdca26\"], [1.0, \"#f0f921\"]], \"type\": \"heatmap\"}], \"heatmapgl\": [{\"colorbar\": {\"outlinewidth\": 0, \"ticks\": \"\"}, \"colorscale\": [[0.0, \"#0d0887\"], [0.1111111111111111, \"#46039f\"], [0.2222222222222222, \"#7201a8\"], [0.3333333333333333, \"#9c179e\"], [0.4444444444444444, \"#bd3786\"], [0.5555555555555556, \"#d8576b\"], [0.6666666666666666, \"#ed7953\"], [0.7777777777777778, \"#fb9f3a\"], [0.8888888888888888, \"#fdca26\"], [1.0, \"#f0f921\"]], \"type\": \"heatmapgl\"}], \"histogram\": [{\"marker\": {\"colorbar\": {\"outlinewidth\": 0, \"ticks\": \"\"}}, \"type\": \"histogram\"}], \"histogram2d\": [{\"colorbar\": {\"outlinewidth\": 0, \"ticks\": \"\"}, \"colorscale\": [[0.0, \"#0d0887\"], [0.1111111111111111, \"#46039f\"], [0.2222222222222222, \"#7201a8\"], [0.3333333333333333, \"#9c179e\"], [0.4444444444444444, \"#bd3786\"], [0.5555555555555556, \"#d8576b\"], [0.6666666666666666, \"#ed7953\"], [0.7777777777777778, \"#fb9f3a\"], [0.8888888888888888, \"#fdca26\"], [1.0, \"#f0f921\"]], \"type\": \"histogram2d\"}], \"histogram2dcontour\": [{\"colorbar\": {\"outlinewidth\": 0, \"ticks\": \"\"}, \"colorscale\": [[0.0, \"#0d0887\"], [0.1111111111111111, \"#46039f\"], [0.2222222222222222, \"#7201a8\"], [0.3333333333333333, \"#9c179e\"], [0.4444444444444444, \"#bd3786\"], [0.5555555555555556, \"#d8576b\"], [0.6666666666666666, \"#ed7953\"], [0.7777777777777778, \"#fb9f3a\"], [0.8888888888888888, \"#fdca26\"], [1.0, \"#f0f921\"]], \"type\": \"histogram2dcontour\"}], \"mesh3d\": [{\"colorbar\": {\"outlinewidth\": 0, \"ticks\": \"\"}, \"type\": \"mesh3d\"}], \"parcoords\": [{\"line\": {\"colorbar\": {\"outlinewidth\": 0, \"ticks\": \"\"}}, \"type\": \"parcoords\"}], \"pie\": [{\"automargin\": true, \"type\": \"pie\"}], \"scatter\": [{\"marker\": {\"colorbar\": {\"outlinewidth\": 0, \"ticks\": \"\"}}, \"type\": \"scatter\"}], \"scatter3d\": [{\"line\": {\"colorbar\": {\"outlinewidth\": 0, \"ticks\": \"\"}}, \"marker\": {\"colorbar\": {\"outlinewidth\": 0, \"ticks\": \"\"}}, \"type\": \"scatter3d\"}], \"scattercarpet\": [{\"marker\": {\"colorbar\": {\"outlinewidth\": 0, \"ticks\": \"\"}}, \"type\": \"scattercarpet\"}], \"scattergeo\": [{\"marker\": {\"colorbar\": {\"outlinewidth\": 0, \"ticks\": \"\"}}, \"type\": \"scattergeo\"}], \"scattergl\": [{\"marker\": {\"colorbar\": {\"outlinewidth\": 0, \"ticks\": \"\"}}, \"type\": \"scattergl\"}], \"scattermapbox\": [{\"marker\": {\"colorbar\": {\"outlinewidth\": 0, \"ticks\": \"\"}}, \"type\": \"scattermapbox\"}], \"scatterpolar\": [{\"marker\": {\"colorbar\": {\"outlinewidth\": 0, \"ticks\": \"\"}}, \"type\": \"scatterpolar\"}], \"scatterpolargl\": [{\"marker\": {\"colorbar\": {\"outlinewidth\": 0, \"ticks\": \"\"}}, \"type\": \"scatterpolargl\"}], \"scatterternary\": [{\"marker\": {\"colorbar\": {\"outlinewidth\": 0, \"ticks\": \"\"}}, \"type\": \"scatterternary\"}], \"surface\": [{\"colorbar\": {\"outlinewidth\": 0, \"ticks\": \"\"}, \"colorscale\": [[0.0, \"#0d0887\"], [0.1111111111111111, \"#46039f\"], [0.2222222222222222, \"#7201a8\"], [0.3333333333333333, \"#9c179e\"], [0.4444444444444444, \"#bd3786\"], [0.5555555555555556, \"#d8576b\"], [0.6666666666666666, \"#ed7953\"], [0.7777777777777778, \"#fb9f3a\"], [0.8888888888888888, \"#fdca26\"], [1.0, \"#f0f921\"]], \"type\": \"surface\"}], \"table\": [{\"cells\": {\"fill\": {\"color\": \"#EBF0F8\"}, \"line\": {\"color\": \"white\"}}, \"header\": {\"fill\": {\"color\": \"#C8D4E3\"}, \"line\": {\"color\": \"white\"}}, \"type\": \"table\"}]}, \"layout\": {\"annotationdefaults\": {\"arrowcolor\": \"#2a3f5f\", \"arrowhead\": 0, \"arrowwidth\": 1}, \"coloraxis\": {\"colorbar\": {\"outlinewidth\": 0, \"ticks\": \"\"}}, \"colorscale\": {\"diverging\": [[0, \"#8e0152\"], [0.1, \"#c51b7d\"], [0.2, \"#de77ae\"], [0.3, \"#f1b6da\"], [0.4, \"#fde0ef\"], [0.5, \"#f7f7f7\"], [0.6, \"#e6f5d0\"], [0.7, \"#b8e186\"], [0.8, \"#7fbc41\"], [0.9, \"#4d9221\"], [1, \"#276419\"]], \"sequential\": [[0.0, \"#0d0887\"], [0.1111111111111111, \"#46039f\"], [0.2222222222222222, \"#7201a8\"], [0.3333333333333333, \"#9c179e\"], [0.4444444444444444, \"#bd3786\"], [0.5555555555555556, \"#d8576b\"], [0.6666666666666666, \"#ed7953\"], [0.7777777777777778, \"#fb9f3a\"], [0.8888888888888888, \"#fdca26\"], [1.0, \"#f0f921\"]], \"sequentialminus\": [[0.0, \"#0d0887\"], [0.1111111111111111, \"#46039f\"], [0.2222222222222222, \"#7201a8\"], [0.3333333333333333, \"#9c179e\"], [0.4444444444444444, \"#bd3786\"], [0.5555555555555556, \"#d8576b\"], [0.6666666666666666, \"#ed7953\"], [0.7777777777777778, \"#fb9f3a\"], [0.8888888888888888, \"#fdca26\"], [1.0, \"#f0f921\"]]}, \"colorway\": [\"#636efa\", \"#EF553B\", \"#00cc96\", \"#ab63fa\", \"#FFA15A\", \"#19d3f3\", \"#FF6692\", \"#B6E880\", \"#FF97FF\", \"#FECB52\"], \"font\": {\"color\": \"#2a3f5f\"}, \"geo\": {\"bgcolor\": \"white\", \"lakecolor\": \"white\", \"landcolor\": \"#E5ECF6\", \"showlakes\": true, \"showland\": true, \"subunitcolor\": \"white\"}, \"hoverlabel\": {\"align\": \"left\"}, \"hovermode\": \"closest\", \"mapbox\": {\"style\": \"light\"}, \"paper_bgcolor\": \"white\", \"plot_bgcolor\": \"#E5ECF6\", \"polar\": {\"angularaxis\": {\"gridcolor\": \"white\", \"linecolor\": \"white\", \"ticks\": \"\"}, \"bgcolor\": \"#E5ECF6\", \"radialaxis\": {\"gridcolor\": \"white\", \"linecolor\": \"white\", \"ticks\": \"\"}}, \"scene\": {\"xaxis\": {\"backgroundcolor\": \"#E5ECF6\", \"gridcolor\": \"white\", \"gridwidth\": 2, \"linecolor\": \"white\", \"showbackground\": true, \"ticks\": \"\", \"zerolinecolor\": \"white\"}, \"yaxis\": {\"backgroundcolor\": \"#E5ECF6\", \"gridcolor\": \"white\", \"gridwidth\": 2, \"linecolor\": \"white\", \"showbackground\": true, \"ticks\": \"\", \"zerolinecolor\": \"white\"}, \"zaxis\": {\"backgroundcolor\": \"#E5ECF6\", \"gridcolor\": \"white\", \"gridwidth\": 2, \"linecolor\": \"white\", \"showbackground\": true, \"ticks\": \"\", \"zerolinecolor\": \"white\"}}, \"shapedefaults\": {\"line\": {\"color\": \"#2a3f5f\"}}, \"ternary\": {\"aaxis\": {\"gridcolor\": \"white\", \"linecolor\": \"white\", \"ticks\": \"\"}, \"baxis\": {\"gridcolor\": \"white\", \"linecolor\": \"white\", \"ticks\": \"\"}, \"bgcolor\": \"#E5ECF6\", \"caxis\": {\"gridcolor\": \"white\", \"linecolor\": \"white\", \"ticks\": \"\"}}, \"title\": {\"x\": 0.05}, \"xaxis\": {\"automargin\": true, \"gridcolor\": \"white\", \"linecolor\": \"white\", \"ticks\": \"\", \"title\": {\"standoff\": 15}, \"zerolinecolor\": \"white\", \"zerolinewidth\": 2}, \"yaxis\": {\"automargin\": true, \"gridcolor\": \"white\", \"linecolor\": \"white\", \"ticks\": \"\", \"title\": {\"standoff\": 15}, \"zerolinecolor\": \"white\", \"zerolinewidth\": 2}}}, \"title\": {\"font\": {\"color\": \"#4D5663\"}}, \"xaxis\": {\"gridcolor\": \"#E1E5ED\", \"showgrid\": true, \"tickfont\": {\"color\": \"#4D5663\"}, \"title\": {\"font\": {\"color\": \"#4D5663\"}, \"text\": \"\"}, \"zerolinecolor\": \"#E1E5ED\"}, \"yaxis\": {\"gridcolor\": \"#E1E5ED\", \"showgrid\": true, \"tickfont\": {\"color\": \"#4D5663\"}, \"title\": {\"font\": {\"color\": \"#4D5663\"}, \"text\": \"\"}, \"zerolinecolor\": \"#E1E5ED\"}},                        {\"showLink\": true, \"linkText\": \"Export to plot.ly\", \"plotlyServerURL\": \"https://plot.ly\", \"responsive\": true}                    ).then(function(){\n",
       "                            \n",
       "var gd = document.getElementById('8a74a9ab-54e5-4a46-908d-4b565b27285d');\n",
       "var x = new MutationObserver(function (mutations, observer) {{\n",
       "        var display = window.getComputedStyle(gd).display;\n",
       "        if (!display || display === 'none') {{\n",
       "            console.log([gd, 'removed!']);\n",
       "            Plotly.purge(gd);\n",
       "            observer.disconnect();\n",
       "        }}\n",
       "}});\n",
       "\n",
       "// Listen for the removal of the full notebook cells\n",
       "var notebookContainer = gd.closest('#notebook-container');\n",
       "if (notebookContainer) {{\n",
       "    x.observe(notebookContainer, {childList: true});\n",
       "}}\n",
       "\n",
       "// Listen for the clearing of the current output cell\n",
       "var outputEl = gd.closest('.output');\n",
       "if (outputEl) {{\n",
       "    x.observe(outputEl, {childList: true});\n",
       "}}\n",
       "\n",
       "                        })                };                });            </script>        </div>"
      ]
     },
     "metadata": {},
     "output_type": "display_data"
    }
   ],
   "source": [
    "df.iplot(kind='scatter',x='A',y='B',mode='markers',size=10)"
   ]
  },
  {
   "cell_type": "markdown",
   "metadata": {},
   "source": [
    "## Bar Plots"
   ]
  },
  {
   "cell_type": "code",
   "execution_count": 11,
   "metadata": {},
   "outputs": [
    {
     "data": {
      "application/vnd.plotly.v1+json": {
       "config": {
        "linkText": "Export to plot.ly",
        "plotlyServerURL": "https://plot.ly",
        "showLink": true
       },
       "data": [
        {
         "marker": {
          "color": "rgba(255, 153, 51, 0.6)",
          "line": {
           "color": "rgba(255, 153, 51, 1.0)",
           "width": 1
          }
         },
         "name": "Values",
         "orientation": "v",
         "text": "",
         "type": "bar",
         "x": [
          "A",
          "B",
          "C"
         ],
         "y": [
          32,
          43,
          50
         ]
        }
       ],
       "layout": {
        "legend": {
         "bgcolor": "#F5F6F9",
         "font": {
          "color": "#4D5663"
         }
        },
        "paper_bgcolor": "#F5F6F9",
        "plot_bgcolor": "#F5F6F9",
        "template": {
         "data": {
          "bar": [
           {
            "error_x": {
             "color": "#2a3f5f"
            },
            "error_y": {
             "color": "#2a3f5f"
            },
            "marker": {
             "line": {
              "color": "#E5ECF6",
              "width": 0.5
             }
            },
            "type": "bar"
           }
          ],
          "barpolar": [
           {
            "marker": {
             "line": {
              "color": "#E5ECF6",
              "width": 0.5
             }
            },
            "type": "barpolar"
           }
          ],
          "carpet": [
           {
            "aaxis": {
             "endlinecolor": "#2a3f5f",
             "gridcolor": "white",
             "linecolor": "white",
             "minorgridcolor": "white",
             "startlinecolor": "#2a3f5f"
            },
            "baxis": {
             "endlinecolor": "#2a3f5f",
             "gridcolor": "white",
             "linecolor": "white",
             "minorgridcolor": "white",
             "startlinecolor": "#2a3f5f"
            },
            "type": "carpet"
           }
          ],
          "choropleth": [
           {
            "colorbar": {
             "outlinewidth": 0,
             "ticks": ""
            },
            "type": "choropleth"
           }
          ],
          "contour": [
           {
            "colorbar": {
             "outlinewidth": 0,
             "ticks": ""
            },
            "colorscale": [
             [
              0,
              "#0d0887"
             ],
             [
              0.1111111111111111,
              "#46039f"
             ],
             [
              0.2222222222222222,
              "#7201a8"
             ],
             [
              0.3333333333333333,
              "#9c179e"
             ],
             [
              0.4444444444444444,
              "#bd3786"
             ],
             [
              0.5555555555555556,
              "#d8576b"
             ],
             [
              0.6666666666666666,
              "#ed7953"
             ],
             [
              0.7777777777777778,
              "#fb9f3a"
             ],
             [
              0.8888888888888888,
              "#fdca26"
             ],
             [
              1,
              "#f0f921"
             ]
            ],
            "type": "contour"
           }
          ],
          "contourcarpet": [
           {
            "colorbar": {
             "outlinewidth": 0,
             "ticks": ""
            },
            "type": "contourcarpet"
           }
          ],
          "heatmap": [
           {
            "colorbar": {
             "outlinewidth": 0,
             "ticks": ""
            },
            "colorscale": [
             [
              0,
              "#0d0887"
             ],
             [
              0.1111111111111111,
              "#46039f"
             ],
             [
              0.2222222222222222,
              "#7201a8"
             ],
             [
              0.3333333333333333,
              "#9c179e"
             ],
             [
              0.4444444444444444,
              "#bd3786"
             ],
             [
              0.5555555555555556,
              "#d8576b"
             ],
             [
              0.6666666666666666,
              "#ed7953"
             ],
             [
              0.7777777777777778,
              "#fb9f3a"
             ],
             [
              0.8888888888888888,
              "#fdca26"
             ],
             [
              1,
              "#f0f921"
             ]
            ],
            "type": "heatmap"
           }
          ],
          "heatmapgl": [
           {
            "colorbar": {
             "outlinewidth": 0,
             "ticks": ""
            },
            "colorscale": [
             [
              0,
              "#0d0887"
             ],
             [
              0.1111111111111111,
              "#46039f"
             ],
             [
              0.2222222222222222,
              "#7201a8"
             ],
             [
              0.3333333333333333,
              "#9c179e"
             ],
             [
              0.4444444444444444,
              "#bd3786"
             ],
             [
              0.5555555555555556,
              "#d8576b"
             ],
             [
              0.6666666666666666,
              "#ed7953"
             ],
             [
              0.7777777777777778,
              "#fb9f3a"
             ],
             [
              0.8888888888888888,
              "#fdca26"
             ],
             [
              1,
              "#f0f921"
             ]
            ],
            "type": "heatmapgl"
           }
          ],
          "histogram": [
           {
            "marker": {
             "colorbar": {
              "outlinewidth": 0,
              "ticks": ""
             }
            },
            "type": "histogram"
           }
          ],
          "histogram2d": [
           {
            "colorbar": {
             "outlinewidth": 0,
             "ticks": ""
            },
            "colorscale": [
             [
              0,
              "#0d0887"
             ],
             [
              0.1111111111111111,
              "#46039f"
             ],
             [
              0.2222222222222222,
              "#7201a8"
             ],
             [
              0.3333333333333333,
              "#9c179e"
             ],
             [
              0.4444444444444444,
              "#bd3786"
             ],
             [
              0.5555555555555556,
              "#d8576b"
             ],
             [
              0.6666666666666666,
              "#ed7953"
             ],
             [
              0.7777777777777778,
              "#fb9f3a"
             ],
             [
              0.8888888888888888,
              "#fdca26"
             ],
             [
              1,
              "#f0f921"
             ]
            ],
            "type": "histogram2d"
           }
          ],
          "histogram2dcontour": [
           {
            "colorbar": {
             "outlinewidth": 0,
             "ticks": ""
            },
            "colorscale": [
             [
              0,
              "#0d0887"
             ],
             [
              0.1111111111111111,
              "#46039f"
             ],
             [
              0.2222222222222222,
              "#7201a8"
             ],
             [
              0.3333333333333333,
              "#9c179e"
             ],
             [
              0.4444444444444444,
              "#bd3786"
             ],
             [
              0.5555555555555556,
              "#d8576b"
             ],
             [
              0.6666666666666666,
              "#ed7953"
             ],
             [
              0.7777777777777778,
              "#fb9f3a"
             ],
             [
              0.8888888888888888,
              "#fdca26"
             ],
             [
              1,
              "#f0f921"
             ]
            ],
            "type": "histogram2dcontour"
           }
          ],
          "mesh3d": [
           {
            "colorbar": {
             "outlinewidth": 0,
             "ticks": ""
            },
            "type": "mesh3d"
           }
          ],
          "parcoords": [
           {
            "line": {
             "colorbar": {
              "outlinewidth": 0,
              "ticks": ""
             }
            },
            "type": "parcoords"
           }
          ],
          "pie": [
           {
            "automargin": true,
            "type": "pie"
           }
          ],
          "scatter": [
           {
            "marker": {
             "colorbar": {
              "outlinewidth": 0,
              "ticks": ""
             }
            },
            "type": "scatter"
           }
          ],
          "scatter3d": [
           {
            "line": {
             "colorbar": {
              "outlinewidth": 0,
              "ticks": ""
             }
            },
            "marker": {
             "colorbar": {
              "outlinewidth": 0,
              "ticks": ""
             }
            },
            "type": "scatter3d"
           }
          ],
          "scattercarpet": [
           {
            "marker": {
             "colorbar": {
              "outlinewidth": 0,
              "ticks": ""
             }
            },
            "type": "scattercarpet"
           }
          ],
          "scattergeo": [
           {
            "marker": {
             "colorbar": {
              "outlinewidth": 0,
              "ticks": ""
             }
            },
            "type": "scattergeo"
           }
          ],
          "scattergl": [
           {
            "marker": {
             "colorbar": {
              "outlinewidth": 0,
              "ticks": ""
             }
            },
            "type": "scattergl"
           }
          ],
          "scattermapbox": [
           {
            "marker": {
             "colorbar": {
              "outlinewidth": 0,
              "ticks": ""
             }
            },
            "type": "scattermapbox"
           }
          ],
          "scatterpolar": [
           {
            "marker": {
             "colorbar": {
              "outlinewidth": 0,
              "ticks": ""
             }
            },
            "type": "scatterpolar"
           }
          ],
          "scatterpolargl": [
           {
            "marker": {
             "colorbar": {
              "outlinewidth": 0,
              "ticks": ""
             }
            },
            "type": "scatterpolargl"
           }
          ],
          "scatterternary": [
           {
            "marker": {
             "colorbar": {
              "outlinewidth": 0,
              "ticks": ""
             }
            },
            "type": "scatterternary"
           }
          ],
          "surface": [
           {
            "colorbar": {
             "outlinewidth": 0,
             "ticks": ""
            },
            "colorscale": [
             [
              0,
              "#0d0887"
             ],
             [
              0.1111111111111111,
              "#46039f"
             ],
             [
              0.2222222222222222,
              "#7201a8"
             ],
             [
              0.3333333333333333,
              "#9c179e"
             ],
             [
              0.4444444444444444,
              "#bd3786"
             ],
             [
              0.5555555555555556,
              "#d8576b"
             ],
             [
              0.6666666666666666,
              "#ed7953"
             ],
             [
              0.7777777777777778,
              "#fb9f3a"
             ],
             [
              0.8888888888888888,
              "#fdca26"
             ],
             [
              1,
              "#f0f921"
             ]
            ],
            "type": "surface"
           }
          ],
          "table": [
           {
            "cells": {
             "fill": {
              "color": "#EBF0F8"
             },
             "line": {
              "color": "white"
             }
            },
            "header": {
             "fill": {
              "color": "#C8D4E3"
             },
             "line": {
              "color": "white"
             }
            },
            "type": "table"
           }
          ]
         },
         "layout": {
          "annotationdefaults": {
           "arrowcolor": "#2a3f5f",
           "arrowhead": 0,
           "arrowwidth": 1
          },
          "coloraxis": {
           "colorbar": {
            "outlinewidth": 0,
            "ticks": ""
           }
          },
          "colorscale": {
           "diverging": [
            [
             0,
             "#8e0152"
            ],
            [
             0.1,
             "#c51b7d"
            ],
            [
             0.2,
             "#de77ae"
            ],
            [
             0.3,
             "#f1b6da"
            ],
            [
             0.4,
             "#fde0ef"
            ],
            [
             0.5,
             "#f7f7f7"
            ],
            [
             0.6,
             "#e6f5d0"
            ],
            [
             0.7,
             "#b8e186"
            ],
            [
             0.8,
             "#7fbc41"
            ],
            [
             0.9,
             "#4d9221"
            ],
            [
             1,
             "#276419"
            ]
           ],
           "sequential": [
            [
             0,
             "#0d0887"
            ],
            [
             0.1111111111111111,
             "#46039f"
            ],
            [
             0.2222222222222222,
             "#7201a8"
            ],
            [
             0.3333333333333333,
             "#9c179e"
            ],
            [
             0.4444444444444444,
             "#bd3786"
            ],
            [
             0.5555555555555556,
             "#d8576b"
            ],
            [
             0.6666666666666666,
             "#ed7953"
            ],
            [
             0.7777777777777778,
             "#fb9f3a"
            ],
            [
             0.8888888888888888,
             "#fdca26"
            ],
            [
             1,
             "#f0f921"
            ]
           ],
           "sequentialminus": [
            [
             0,
             "#0d0887"
            ],
            [
             0.1111111111111111,
             "#46039f"
            ],
            [
             0.2222222222222222,
             "#7201a8"
            ],
            [
             0.3333333333333333,
             "#9c179e"
            ],
            [
             0.4444444444444444,
             "#bd3786"
            ],
            [
             0.5555555555555556,
             "#d8576b"
            ],
            [
             0.6666666666666666,
             "#ed7953"
            ],
            [
             0.7777777777777778,
             "#fb9f3a"
            ],
            [
             0.8888888888888888,
             "#fdca26"
            ],
            [
             1,
             "#f0f921"
            ]
           ]
          },
          "colorway": [
           "#636efa",
           "#EF553B",
           "#00cc96",
           "#ab63fa",
           "#FFA15A",
           "#19d3f3",
           "#FF6692",
           "#B6E880",
           "#FF97FF",
           "#FECB52"
          ],
          "font": {
           "color": "#2a3f5f"
          },
          "geo": {
           "bgcolor": "white",
           "lakecolor": "white",
           "landcolor": "#E5ECF6",
           "showlakes": true,
           "showland": true,
           "subunitcolor": "white"
          },
          "hoverlabel": {
           "align": "left"
          },
          "hovermode": "closest",
          "mapbox": {
           "style": "light"
          },
          "paper_bgcolor": "white",
          "plot_bgcolor": "#E5ECF6",
          "polar": {
           "angularaxis": {
            "gridcolor": "white",
            "linecolor": "white",
            "ticks": ""
           },
           "bgcolor": "#E5ECF6",
           "radialaxis": {
            "gridcolor": "white",
            "linecolor": "white",
            "ticks": ""
           }
          },
          "scene": {
           "xaxis": {
            "backgroundcolor": "#E5ECF6",
            "gridcolor": "white",
            "gridwidth": 2,
            "linecolor": "white",
            "showbackground": true,
            "ticks": "",
            "zerolinecolor": "white"
           },
           "yaxis": {
            "backgroundcolor": "#E5ECF6",
            "gridcolor": "white",
            "gridwidth": 2,
            "linecolor": "white",
            "showbackground": true,
            "ticks": "",
            "zerolinecolor": "white"
           },
           "zaxis": {
            "backgroundcolor": "#E5ECF6",
            "gridcolor": "white",
            "gridwidth": 2,
            "linecolor": "white",
            "showbackground": true,
            "ticks": "",
            "zerolinecolor": "white"
           }
          },
          "shapedefaults": {
           "line": {
            "color": "#2a3f5f"
           }
          },
          "ternary": {
           "aaxis": {
            "gridcolor": "white",
            "linecolor": "white",
            "ticks": ""
           },
           "baxis": {
            "gridcolor": "white",
            "linecolor": "white",
            "ticks": ""
           },
           "bgcolor": "#E5ECF6",
           "caxis": {
            "gridcolor": "white",
            "linecolor": "white",
            "ticks": ""
           }
          },
          "title": {
           "x": 0.05
          },
          "xaxis": {
           "automargin": true,
           "gridcolor": "white",
           "linecolor": "white",
           "ticks": "",
           "title": {
            "standoff": 15
           },
           "zerolinecolor": "white",
           "zerolinewidth": 2
          },
          "yaxis": {
           "automargin": true,
           "gridcolor": "white",
           "linecolor": "white",
           "ticks": "",
           "title": {
            "standoff": 15
           },
           "zerolinecolor": "white",
           "zerolinewidth": 2
          }
         }
        },
        "title": {
         "font": {
          "color": "#4D5663"
         }
        },
        "xaxis": {
         "gridcolor": "#E1E5ED",
         "showgrid": true,
         "tickfont": {
          "color": "#4D5663"
         },
         "title": {
          "font": {
           "color": "#4D5663"
          },
          "text": ""
         },
         "zerolinecolor": "#E1E5ED"
        },
        "yaxis": {
         "gridcolor": "#E1E5ED",
         "showgrid": true,
         "tickfont": {
          "color": "#4D5663"
         },
         "title": {
          "font": {
           "color": "#4D5663"
          },
          "text": ""
         },
         "zerolinecolor": "#E1E5ED"
        }
       }
      },
      "text/html": [
       "<div>                            <div id=\"39d55ac4-3ba9-45ab-bdab-2495fe20b00a\" class=\"plotly-graph-div\" style=\"height:525px; width:100%;\"></div>            <script type=\"text/javascript\">                require([\"plotly\"], function(Plotly) {                    window.PLOTLYENV=window.PLOTLYENV || {};\n",
       "                    window.PLOTLYENV.BASE_URL='https://plot.ly';                                    if (document.getElementById(\"39d55ac4-3ba9-45ab-bdab-2495fe20b00a\")) {                    Plotly.newPlot(                        \"39d55ac4-3ba9-45ab-bdab-2495fe20b00a\",                        [{\"marker\": {\"color\": \"rgba(255, 153, 51, 0.6)\", \"line\": {\"color\": \"rgba(255, 153, 51, 1.0)\", \"width\": 1}}, \"name\": \"Values\", \"orientation\": \"v\", \"text\": \"\", \"type\": \"bar\", \"x\": [\"A\", \"B\", \"C\"], \"y\": [32, 43, 50]}],                        {\"legend\": {\"bgcolor\": \"#F5F6F9\", \"font\": {\"color\": \"#4D5663\"}}, \"paper_bgcolor\": \"#F5F6F9\", \"plot_bgcolor\": \"#F5F6F9\", \"template\": {\"data\": {\"bar\": [{\"error_x\": {\"color\": \"#2a3f5f\"}, \"error_y\": {\"color\": \"#2a3f5f\"}, \"marker\": {\"line\": {\"color\": \"#E5ECF6\", \"width\": 0.5}}, \"type\": \"bar\"}], \"barpolar\": [{\"marker\": {\"line\": {\"color\": \"#E5ECF6\", \"width\": 0.5}}, \"type\": \"barpolar\"}], \"carpet\": [{\"aaxis\": {\"endlinecolor\": \"#2a3f5f\", \"gridcolor\": \"white\", \"linecolor\": \"white\", \"minorgridcolor\": \"white\", \"startlinecolor\": \"#2a3f5f\"}, \"baxis\": {\"endlinecolor\": \"#2a3f5f\", \"gridcolor\": \"white\", \"linecolor\": \"white\", \"minorgridcolor\": \"white\", \"startlinecolor\": \"#2a3f5f\"}, \"type\": \"carpet\"}], \"choropleth\": [{\"colorbar\": {\"outlinewidth\": 0, \"ticks\": \"\"}, \"type\": \"choropleth\"}], \"contour\": [{\"colorbar\": {\"outlinewidth\": 0, \"ticks\": \"\"}, \"colorscale\": [[0.0, \"#0d0887\"], [0.1111111111111111, \"#46039f\"], [0.2222222222222222, \"#7201a8\"], [0.3333333333333333, \"#9c179e\"], [0.4444444444444444, \"#bd3786\"], [0.5555555555555556, \"#d8576b\"], [0.6666666666666666, \"#ed7953\"], [0.7777777777777778, \"#fb9f3a\"], [0.8888888888888888, \"#fdca26\"], [1.0, \"#f0f921\"]], \"type\": \"contour\"}], \"contourcarpet\": [{\"colorbar\": {\"outlinewidth\": 0, \"ticks\": \"\"}, \"type\": \"contourcarpet\"}], \"heatmap\": [{\"colorbar\": {\"outlinewidth\": 0, \"ticks\": \"\"}, \"colorscale\": [[0.0, \"#0d0887\"], [0.1111111111111111, \"#46039f\"], [0.2222222222222222, \"#7201a8\"], [0.3333333333333333, \"#9c179e\"], [0.4444444444444444, \"#bd3786\"], [0.5555555555555556, \"#d8576b\"], [0.6666666666666666, \"#ed7953\"], [0.7777777777777778, \"#fb9f3a\"], [0.8888888888888888, \"#fdca26\"], [1.0, \"#f0f921\"]], \"type\": \"heatmap\"}], \"heatmapgl\": [{\"colorbar\": {\"outlinewidth\": 0, \"ticks\": \"\"}, \"colorscale\": [[0.0, \"#0d0887\"], [0.1111111111111111, \"#46039f\"], [0.2222222222222222, \"#7201a8\"], [0.3333333333333333, \"#9c179e\"], [0.4444444444444444, \"#bd3786\"], [0.5555555555555556, \"#d8576b\"], [0.6666666666666666, \"#ed7953\"], [0.7777777777777778, \"#fb9f3a\"], [0.8888888888888888, \"#fdca26\"], [1.0, \"#f0f921\"]], \"type\": \"heatmapgl\"}], \"histogram\": [{\"marker\": {\"colorbar\": {\"outlinewidth\": 0, \"ticks\": \"\"}}, \"type\": \"histogram\"}], \"histogram2d\": [{\"colorbar\": {\"outlinewidth\": 0, \"ticks\": \"\"}, \"colorscale\": [[0.0, \"#0d0887\"], [0.1111111111111111, \"#46039f\"], [0.2222222222222222, \"#7201a8\"], [0.3333333333333333, \"#9c179e\"], [0.4444444444444444, \"#bd3786\"], [0.5555555555555556, \"#d8576b\"], [0.6666666666666666, \"#ed7953\"], [0.7777777777777778, \"#fb9f3a\"], [0.8888888888888888, \"#fdca26\"], [1.0, \"#f0f921\"]], \"type\": \"histogram2d\"}], \"histogram2dcontour\": [{\"colorbar\": {\"outlinewidth\": 0, \"ticks\": \"\"}, \"colorscale\": [[0.0, \"#0d0887\"], [0.1111111111111111, \"#46039f\"], [0.2222222222222222, \"#7201a8\"], [0.3333333333333333, \"#9c179e\"], [0.4444444444444444, \"#bd3786\"], [0.5555555555555556, \"#d8576b\"], [0.6666666666666666, \"#ed7953\"], [0.7777777777777778, \"#fb9f3a\"], [0.8888888888888888, \"#fdca26\"], [1.0, \"#f0f921\"]], \"type\": \"histogram2dcontour\"}], \"mesh3d\": [{\"colorbar\": {\"outlinewidth\": 0, \"ticks\": \"\"}, \"type\": \"mesh3d\"}], \"parcoords\": [{\"line\": {\"colorbar\": {\"outlinewidth\": 0, \"ticks\": \"\"}}, \"type\": \"parcoords\"}], \"pie\": [{\"automargin\": true, \"type\": \"pie\"}], \"scatter\": [{\"marker\": {\"colorbar\": {\"outlinewidth\": 0, \"ticks\": \"\"}}, \"type\": \"scatter\"}], \"scatter3d\": [{\"line\": {\"colorbar\": {\"outlinewidth\": 0, \"ticks\": \"\"}}, \"marker\": {\"colorbar\": {\"outlinewidth\": 0, \"ticks\": \"\"}}, \"type\": \"scatter3d\"}], \"scattercarpet\": [{\"marker\": {\"colorbar\": {\"outlinewidth\": 0, \"ticks\": \"\"}}, \"type\": \"scattercarpet\"}], \"scattergeo\": [{\"marker\": {\"colorbar\": {\"outlinewidth\": 0, \"ticks\": \"\"}}, \"type\": \"scattergeo\"}], \"scattergl\": [{\"marker\": {\"colorbar\": {\"outlinewidth\": 0, \"ticks\": \"\"}}, \"type\": \"scattergl\"}], \"scattermapbox\": [{\"marker\": {\"colorbar\": {\"outlinewidth\": 0, \"ticks\": \"\"}}, \"type\": \"scattermapbox\"}], \"scatterpolar\": [{\"marker\": {\"colorbar\": {\"outlinewidth\": 0, \"ticks\": \"\"}}, \"type\": \"scatterpolar\"}], \"scatterpolargl\": [{\"marker\": {\"colorbar\": {\"outlinewidth\": 0, \"ticks\": \"\"}}, \"type\": \"scatterpolargl\"}], \"scatterternary\": [{\"marker\": {\"colorbar\": {\"outlinewidth\": 0, \"ticks\": \"\"}}, \"type\": \"scatterternary\"}], \"surface\": [{\"colorbar\": {\"outlinewidth\": 0, \"ticks\": \"\"}, \"colorscale\": [[0.0, \"#0d0887\"], [0.1111111111111111, \"#46039f\"], [0.2222222222222222, \"#7201a8\"], [0.3333333333333333, \"#9c179e\"], [0.4444444444444444, \"#bd3786\"], [0.5555555555555556, \"#d8576b\"], [0.6666666666666666, \"#ed7953\"], [0.7777777777777778, \"#fb9f3a\"], [0.8888888888888888, \"#fdca26\"], [1.0, \"#f0f921\"]], \"type\": \"surface\"}], \"table\": [{\"cells\": {\"fill\": {\"color\": \"#EBF0F8\"}, \"line\": {\"color\": \"white\"}}, \"header\": {\"fill\": {\"color\": \"#C8D4E3\"}, \"line\": {\"color\": \"white\"}}, \"type\": \"table\"}]}, \"layout\": {\"annotationdefaults\": {\"arrowcolor\": \"#2a3f5f\", \"arrowhead\": 0, \"arrowwidth\": 1}, \"coloraxis\": {\"colorbar\": {\"outlinewidth\": 0, \"ticks\": \"\"}}, \"colorscale\": {\"diverging\": [[0, \"#8e0152\"], [0.1, \"#c51b7d\"], [0.2, \"#de77ae\"], [0.3, \"#f1b6da\"], [0.4, \"#fde0ef\"], [0.5, \"#f7f7f7\"], [0.6, \"#e6f5d0\"], [0.7, \"#b8e186\"], [0.8, \"#7fbc41\"], [0.9, \"#4d9221\"], [1, \"#276419\"]], \"sequential\": [[0.0, \"#0d0887\"], [0.1111111111111111, \"#46039f\"], [0.2222222222222222, \"#7201a8\"], [0.3333333333333333, \"#9c179e\"], [0.4444444444444444, \"#bd3786\"], [0.5555555555555556, \"#d8576b\"], [0.6666666666666666, \"#ed7953\"], [0.7777777777777778, \"#fb9f3a\"], [0.8888888888888888, \"#fdca26\"], [1.0, \"#f0f921\"]], \"sequentialminus\": [[0.0, \"#0d0887\"], [0.1111111111111111, \"#46039f\"], [0.2222222222222222, \"#7201a8\"], [0.3333333333333333, \"#9c179e\"], [0.4444444444444444, \"#bd3786\"], [0.5555555555555556, \"#d8576b\"], [0.6666666666666666, \"#ed7953\"], [0.7777777777777778, \"#fb9f3a\"], [0.8888888888888888, \"#fdca26\"], [1.0, \"#f0f921\"]]}, \"colorway\": [\"#636efa\", \"#EF553B\", \"#00cc96\", \"#ab63fa\", \"#FFA15A\", \"#19d3f3\", \"#FF6692\", \"#B6E880\", \"#FF97FF\", \"#FECB52\"], \"font\": {\"color\": \"#2a3f5f\"}, \"geo\": {\"bgcolor\": \"white\", \"lakecolor\": \"white\", \"landcolor\": \"#E5ECF6\", \"showlakes\": true, \"showland\": true, \"subunitcolor\": \"white\"}, \"hoverlabel\": {\"align\": \"left\"}, \"hovermode\": \"closest\", \"mapbox\": {\"style\": \"light\"}, \"paper_bgcolor\": \"white\", \"plot_bgcolor\": \"#E5ECF6\", \"polar\": {\"angularaxis\": {\"gridcolor\": \"white\", \"linecolor\": \"white\", \"ticks\": \"\"}, \"bgcolor\": \"#E5ECF6\", \"radialaxis\": {\"gridcolor\": \"white\", \"linecolor\": \"white\", \"ticks\": \"\"}}, \"scene\": {\"xaxis\": {\"backgroundcolor\": \"#E5ECF6\", \"gridcolor\": \"white\", \"gridwidth\": 2, \"linecolor\": \"white\", \"showbackground\": true, \"ticks\": \"\", \"zerolinecolor\": \"white\"}, \"yaxis\": {\"backgroundcolor\": \"#E5ECF6\", \"gridcolor\": \"white\", \"gridwidth\": 2, \"linecolor\": \"white\", \"showbackground\": true, \"ticks\": \"\", \"zerolinecolor\": \"white\"}, \"zaxis\": {\"backgroundcolor\": \"#E5ECF6\", \"gridcolor\": \"white\", \"gridwidth\": 2, \"linecolor\": \"white\", \"showbackground\": true, \"ticks\": \"\", \"zerolinecolor\": \"white\"}}, \"shapedefaults\": {\"line\": {\"color\": \"#2a3f5f\"}}, \"ternary\": {\"aaxis\": {\"gridcolor\": \"white\", \"linecolor\": \"white\", \"ticks\": \"\"}, \"baxis\": {\"gridcolor\": \"white\", \"linecolor\": \"white\", \"ticks\": \"\"}, \"bgcolor\": \"#E5ECF6\", \"caxis\": {\"gridcolor\": \"white\", \"linecolor\": \"white\", \"ticks\": \"\"}}, \"title\": {\"x\": 0.05}, \"xaxis\": {\"automargin\": true, \"gridcolor\": \"white\", \"linecolor\": \"white\", \"ticks\": \"\", \"title\": {\"standoff\": 15}, \"zerolinecolor\": \"white\", \"zerolinewidth\": 2}, \"yaxis\": {\"automargin\": true, \"gridcolor\": \"white\", \"linecolor\": \"white\", \"ticks\": \"\", \"title\": {\"standoff\": 15}, \"zerolinecolor\": \"white\", \"zerolinewidth\": 2}}}, \"title\": {\"font\": {\"color\": \"#4D5663\"}}, \"xaxis\": {\"gridcolor\": \"#E1E5ED\", \"showgrid\": true, \"tickfont\": {\"color\": \"#4D5663\"}, \"title\": {\"font\": {\"color\": \"#4D5663\"}, \"text\": \"\"}, \"zerolinecolor\": \"#E1E5ED\"}, \"yaxis\": {\"gridcolor\": \"#E1E5ED\", \"showgrid\": true, \"tickfont\": {\"color\": \"#4D5663\"}, \"title\": {\"font\": {\"color\": \"#4D5663\"}, \"text\": \"\"}, \"zerolinecolor\": \"#E1E5ED\"}},                        {\"showLink\": true, \"linkText\": \"Export to plot.ly\", \"plotlyServerURL\": \"https://plot.ly\", \"responsive\": true}                    ).then(function(){\n",
       "                            \n",
       "var gd = document.getElementById('39d55ac4-3ba9-45ab-bdab-2495fe20b00a');\n",
       "var x = new MutationObserver(function (mutations, observer) {{\n",
       "        var display = window.getComputedStyle(gd).display;\n",
       "        if (!display || display === 'none') {{\n",
       "            console.log([gd, 'removed!']);\n",
       "            Plotly.purge(gd);\n",
       "            observer.disconnect();\n",
       "        }}\n",
       "}});\n",
       "\n",
       "// Listen for the removal of the full notebook cells\n",
       "var notebookContainer = gd.closest('#notebook-container');\n",
       "if (notebookContainer) {{\n",
       "    x.observe(notebookContainer, {childList: true});\n",
       "}}\n",
       "\n",
       "// Listen for the clearing of the current output cell\n",
       "var outputEl = gd.closest('.output');\n",
       "if (outputEl) {{\n",
       "    x.observe(outputEl, {childList: true});\n",
       "}}\n",
       "\n",
       "                        })                };                });            </script>        </div>"
      ]
     },
     "metadata": {},
     "output_type": "display_data"
    }
   ],
   "source": [
    "df2.iplot(kind='bar',x='Category',y='Values')"
   ]
  },
  {
   "cell_type": "code",
   "execution_count": 12,
   "metadata": {},
   "outputs": [
    {
     "data": {
      "application/vnd.plotly.v1+json": {
       "config": {
        "linkText": "Export to plot.ly",
        "plotlyServerURL": "https://plot.ly",
        "showLink": true
       },
       "data": [
        {
         "marker": {
          "color": "rgba(255, 153, 51, 0.6)",
          "line": {
           "color": "rgba(255, 153, 51, 1.0)",
           "width": 1
          }
         },
         "name": "None",
         "orientation": "v",
         "text": "",
         "type": "bar",
         "x": [
          "A",
          "B",
          "C",
          "D"
         ],
         "y": [
          100,
          100,
          100,
          100
         ]
        }
       ],
       "layout": {
        "legend": {
         "bgcolor": "#F5F6F9",
         "font": {
          "color": "#4D5663"
         }
        },
        "paper_bgcolor": "#F5F6F9",
        "plot_bgcolor": "#F5F6F9",
        "template": {
         "data": {
          "bar": [
           {
            "error_x": {
             "color": "#2a3f5f"
            },
            "error_y": {
             "color": "#2a3f5f"
            },
            "marker": {
             "line": {
              "color": "#E5ECF6",
              "width": 0.5
             }
            },
            "type": "bar"
           }
          ],
          "barpolar": [
           {
            "marker": {
             "line": {
              "color": "#E5ECF6",
              "width": 0.5
             }
            },
            "type": "barpolar"
           }
          ],
          "carpet": [
           {
            "aaxis": {
             "endlinecolor": "#2a3f5f",
             "gridcolor": "white",
             "linecolor": "white",
             "minorgridcolor": "white",
             "startlinecolor": "#2a3f5f"
            },
            "baxis": {
             "endlinecolor": "#2a3f5f",
             "gridcolor": "white",
             "linecolor": "white",
             "minorgridcolor": "white",
             "startlinecolor": "#2a3f5f"
            },
            "type": "carpet"
           }
          ],
          "choropleth": [
           {
            "colorbar": {
             "outlinewidth": 0,
             "ticks": ""
            },
            "type": "choropleth"
           }
          ],
          "contour": [
           {
            "colorbar": {
             "outlinewidth": 0,
             "ticks": ""
            },
            "colorscale": [
             [
              0,
              "#0d0887"
             ],
             [
              0.1111111111111111,
              "#46039f"
             ],
             [
              0.2222222222222222,
              "#7201a8"
             ],
             [
              0.3333333333333333,
              "#9c179e"
             ],
             [
              0.4444444444444444,
              "#bd3786"
             ],
             [
              0.5555555555555556,
              "#d8576b"
             ],
             [
              0.6666666666666666,
              "#ed7953"
             ],
             [
              0.7777777777777778,
              "#fb9f3a"
             ],
             [
              0.8888888888888888,
              "#fdca26"
             ],
             [
              1,
              "#f0f921"
             ]
            ],
            "type": "contour"
           }
          ],
          "contourcarpet": [
           {
            "colorbar": {
             "outlinewidth": 0,
             "ticks": ""
            },
            "type": "contourcarpet"
           }
          ],
          "heatmap": [
           {
            "colorbar": {
             "outlinewidth": 0,
             "ticks": ""
            },
            "colorscale": [
             [
              0,
              "#0d0887"
             ],
             [
              0.1111111111111111,
              "#46039f"
             ],
             [
              0.2222222222222222,
              "#7201a8"
             ],
             [
              0.3333333333333333,
              "#9c179e"
             ],
             [
              0.4444444444444444,
              "#bd3786"
             ],
             [
              0.5555555555555556,
              "#d8576b"
             ],
             [
              0.6666666666666666,
              "#ed7953"
             ],
             [
              0.7777777777777778,
              "#fb9f3a"
             ],
             [
              0.8888888888888888,
              "#fdca26"
             ],
             [
              1,
              "#f0f921"
             ]
            ],
            "type": "heatmap"
           }
          ],
          "heatmapgl": [
           {
            "colorbar": {
             "outlinewidth": 0,
             "ticks": ""
            },
            "colorscale": [
             [
              0,
              "#0d0887"
             ],
             [
              0.1111111111111111,
              "#46039f"
             ],
             [
              0.2222222222222222,
              "#7201a8"
             ],
             [
              0.3333333333333333,
              "#9c179e"
             ],
             [
              0.4444444444444444,
              "#bd3786"
             ],
             [
              0.5555555555555556,
              "#d8576b"
             ],
             [
              0.6666666666666666,
              "#ed7953"
             ],
             [
              0.7777777777777778,
              "#fb9f3a"
             ],
             [
              0.8888888888888888,
              "#fdca26"
             ],
             [
              1,
              "#f0f921"
             ]
            ],
            "type": "heatmapgl"
           }
          ],
          "histogram": [
           {
            "marker": {
             "colorbar": {
              "outlinewidth": 0,
              "ticks": ""
             }
            },
            "type": "histogram"
           }
          ],
          "histogram2d": [
           {
            "colorbar": {
             "outlinewidth": 0,
             "ticks": ""
            },
            "colorscale": [
             [
              0,
              "#0d0887"
             ],
             [
              0.1111111111111111,
              "#46039f"
             ],
             [
              0.2222222222222222,
              "#7201a8"
             ],
             [
              0.3333333333333333,
              "#9c179e"
             ],
             [
              0.4444444444444444,
              "#bd3786"
             ],
             [
              0.5555555555555556,
              "#d8576b"
             ],
             [
              0.6666666666666666,
              "#ed7953"
             ],
             [
              0.7777777777777778,
              "#fb9f3a"
             ],
             [
              0.8888888888888888,
              "#fdca26"
             ],
             [
              1,
              "#f0f921"
             ]
            ],
            "type": "histogram2d"
           }
          ],
          "histogram2dcontour": [
           {
            "colorbar": {
             "outlinewidth": 0,
             "ticks": ""
            },
            "colorscale": [
             [
              0,
              "#0d0887"
             ],
             [
              0.1111111111111111,
              "#46039f"
             ],
             [
              0.2222222222222222,
              "#7201a8"
             ],
             [
              0.3333333333333333,
              "#9c179e"
             ],
             [
              0.4444444444444444,
              "#bd3786"
             ],
             [
              0.5555555555555556,
              "#d8576b"
             ],
             [
              0.6666666666666666,
              "#ed7953"
             ],
             [
              0.7777777777777778,
              "#fb9f3a"
             ],
             [
              0.8888888888888888,
              "#fdca26"
             ],
             [
              1,
              "#f0f921"
             ]
            ],
            "type": "histogram2dcontour"
           }
          ],
          "mesh3d": [
           {
            "colorbar": {
             "outlinewidth": 0,
             "ticks": ""
            },
            "type": "mesh3d"
           }
          ],
          "parcoords": [
           {
            "line": {
             "colorbar": {
              "outlinewidth": 0,
              "ticks": ""
             }
            },
            "type": "parcoords"
           }
          ],
          "pie": [
           {
            "automargin": true,
            "type": "pie"
           }
          ],
          "scatter": [
           {
            "marker": {
             "colorbar": {
              "outlinewidth": 0,
              "ticks": ""
             }
            },
            "type": "scatter"
           }
          ],
          "scatter3d": [
           {
            "line": {
             "colorbar": {
              "outlinewidth": 0,
              "ticks": ""
             }
            },
            "marker": {
             "colorbar": {
              "outlinewidth": 0,
              "ticks": ""
             }
            },
            "type": "scatter3d"
           }
          ],
          "scattercarpet": [
           {
            "marker": {
             "colorbar": {
              "outlinewidth": 0,
              "ticks": ""
             }
            },
            "type": "scattercarpet"
           }
          ],
          "scattergeo": [
           {
            "marker": {
             "colorbar": {
              "outlinewidth": 0,
              "ticks": ""
             }
            },
            "type": "scattergeo"
           }
          ],
          "scattergl": [
           {
            "marker": {
             "colorbar": {
              "outlinewidth": 0,
              "ticks": ""
             }
            },
            "type": "scattergl"
           }
          ],
          "scattermapbox": [
           {
            "marker": {
             "colorbar": {
              "outlinewidth": 0,
              "ticks": ""
             }
            },
            "type": "scattermapbox"
           }
          ],
          "scatterpolar": [
           {
            "marker": {
             "colorbar": {
              "outlinewidth": 0,
              "ticks": ""
             }
            },
            "type": "scatterpolar"
           }
          ],
          "scatterpolargl": [
           {
            "marker": {
             "colorbar": {
              "outlinewidth": 0,
              "ticks": ""
             }
            },
            "type": "scatterpolargl"
           }
          ],
          "scatterternary": [
           {
            "marker": {
             "colorbar": {
              "outlinewidth": 0,
              "ticks": ""
             }
            },
            "type": "scatterternary"
           }
          ],
          "surface": [
           {
            "colorbar": {
             "outlinewidth": 0,
             "ticks": ""
            },
            "colorscale": [
             [
              0,
              "#0d0887"
             ],
             [
              0.1111111111111111,
              "#46039f"
             ],
             [
              0.2222222222222222,
              "#7201a8"
             ],
             [
              0.3333333333333333,
              "#9c179e"
             ],
             [
              0.4444444444444444,
              "#bd3786"
             ],
             [
              0.5555555555555556,
              "#d8576b"
             ],
             [
              0.6666666666666666,
              "#ed7953"
             ],
             [
              0.7777777777777778,
              "#fb9f3a"
             ],
             [
              0.8888888888888888,
              "#fdca26"
             ],
             [
              1,
              "#f0f921"
             ]
            ],
            "type": "surface"
           }
          ],
          "table": [
           {
            "cells": {
             "fill": {
              "color": "#EBF0F8"
             },
             "line": {
              "color": "white"
             }
            },
            "header": {
             "fill": {
              "color": "#C8D4E3"
             },
             "line": {
              "color": "white"
             }
            },
            "type": "table"
           }
          ]
         },
         "layout": {
          "annotationdefaults": {
           "arrowcolor": "#2a3f5f",
           "arrowhead": 0,
           "arrowwidth": 1
          },
          "coloraxis": {
           "colorbar": {
            "outlinewidth": 0,
            "ticks": ""
           }
          },
          "colorscale": {
           "diverging": [
            [
             0,
             "#8e0152"
            ],
            [
             0.1,
             "#c51b7d"
            ],
            [
             0.2,
             "#de77ae"
            ],
            [
             0.3,
             "#f1b6da"
            ],
            [
             0.4,
             "#fde0ef"
            ],
            [
             0.5,
             "#f7f7f7"
            ],
            [
             0.6,
             "#e6f5d0"
            ],
            [
             0.7,
             "#b8e186"
            ],
            [
             0.8,
             "#7fbc41"
            ],
            [
             0.9,
             "#4d9221"
            ],
            [
             1,
             "#276419"
            ]
           ],
           "sequential": [
            [
             0,
             "#0d0887"
            ],
            [
             0.1111111111111111,
             "#46039f"
            ],
            [
             0.2222222222222222,
             "#7201a8"
            ],
            [
             0.3333333333333333,
             "#9c179e"
            ],
            [
             0.4444444444444444,
             "#bd3786"
            ],
            [
             0.5555555555555556,
             "#d8576b"
            ],
            [
             0.6666666666666666,
             "#ed7953"
            ],
            [
             0.7777777777777778,
             "#fb9f3a"
            ],
            [
             0.8888888888888888,
             "#fdca26"
            ],
            [
             1,
             "#f0f921"
            ]
           ],
           "sequentialminus": [
            [
             0,
             "#0d0887"
            ],
            [
             0.1111111111111111,
             "#46039f"
            ],
            [
             0.2222222222222222,
             "#7201a8"
            ],
            [
             0.3333333333333333,
             "#9c179e"
            ],
            [
             0.4444444444444444,
             "#bd3786"
            ],
            [
             0.5555555555555556,
             "#d8576b"
            ],
            [
             0.6666666666666666,
             "#ed7953"
            ],
            [
             0.7777777777777778,
             "#fb9f3a"
            ],
            [
             0.8888888888888888,
             "#fdca26"
            ],
            [
             1,
             "#f0f921"
            ]
           ]
          },
          "colorway": [
           "#636efa",
           "#EF553B",
           "#00cc96",
           "#ab63fa",
           "#FFA15A",
           "#19d3f3",
           "#FF6692",
           "#B6E880",
           "#FF97FF",
           "#FECB52"
          ],
          "font": {
           "color": "#2a3f5f"
          },
          "geo": {
           "bgcolor": "white",
           "lakecolor": "white",
           "landcolor": "#E5ECF6",
           "showlakes": true,
           "showland": true,
           "subunitcolor": "white"
          },
          "hoverlabel": {
           "align": "left"
          },
          "hovermode": "closest",
          "mapbox": {
           "style": "light"
          },
          "paper_bgcolor": "white",
          "plot_bgcolor": "#E5ECF6",
          "polar": {
           "angularaxis": {
            "gridcolor": "white",
            "linecolor": "white",
            "ticks": ""
           },
           "bgcolor": "#E5ECF6",
           "radialaxis": {
            "gridcolor": "white",
            "linecolor": "white",
            "ticks": ""
           }
          },
          "scene": {
           "xaxis": {
            "backgroundcolor": "#E5ECF6",
            "gridcolor": "white",
            "gridwidth": 2,
            "linecolor": "white",
            "showbackground": true,
            "ticks": "",
            "zerolinecolor": "white"
           },
           "yaxis": {
            "backgroundcolor": "#E5ECF6",
            "gridcolor": "white",
            "gridwidth": 2,
            "linecolor": "white",
            "showbackground": true,
            "ticks": "",
            "zerolinecolor": "white"
           },
           "zaxis": {
            "backgroundcolor": "#E5ECF6",
            "gridcolor": "white",
            "gridwidth": 2,
            "linecolor": "white",
            "showbackground": true,
            "ticks": "",
            "zerolinecolor": "white"
           }
          },
          "shapedefaults": {
           "line": {
            "color": "#2a3f5f"
           }
          },
          "ternary": {
           "aaxis": {
            "gridcolor": "white",
            "linecolor": "white",
            "ticks": ""
           },
           "baxis": {
            "gridcolor": "white",
            "linecolor": "white",
            "ticks": ""
           },
           "bgcolor": "#E5ECF6",
           "caxis": {
            "gridcolor": "white",
            "linecolor": "white",
            "ticks": ""
           }
          },
          "title": {
           "x": 0.05
          },
          "xaxis": {
           "automargin": true,
           "gridcolor": "white",
           "linecolor": "white",
           "ticks": "",
           "title": {
            "standoff": 15
           },
           "zerolinecolor": "white",
           "zerolinewidth": 2
          },
          "yaxis": {
           "automargin": true,
           "gridcolor": "white",
           "linecolor": "white",
           "ticks": "",
           "title": {
            "standoff": 15
           },
           "zerolinecolor": "white",
           "zerolinewidth": 2
          }
         }
        },
        "title": {
         "font": {
          "color": "#4D5663"
         }
        },
        "xaxis": {
         "gridcolor": "#E1E5ED",
         "showgrid": true,
         "tickfont": {
          "color": "#4D5663"
         },
         "title": {
          "font": {
           "color": "#4D5663"
          },
          "text": ""
         },
         "zerolinecolor": "#E1E5ED"
        },
        "yaxis": {
         "gridcolor": "#E1E5ED",
         "showgrid": true,
         "tickfont": {
          "color": "#4D5663"
         },
         "title": {
          "font": {
           "color": "#4D5663"
          },
          "text": ""
         },
         "zerolinecolor": "#E1E5ED"
        }
       }
      },
      "text/html": [
       "<div>                            <div id=\"6c1d3c43-394e-4849-89f3-c9470a194ac2\" class=\"plotly-graph-div\" style=\"height:525px; width:100%;\"></div>            <script type=\"text/javascript\">                require([\"plotly\"], function(Plotly) {                    window.PLOTLYENV=window.PLOTLYENV || {};\n",
       "                    window.PLOTLYENV.BASE_URL='https://plot.ly';                                    if (document.getElementById(\"6c1d3c43-394e-4849-89f3-c9470a194ac2\")) {                    Plotly.newPlot(                        \"6c1d3c43-394e-4849-89f3-c9470a194ac2\",                        [{\"marker\": {\"color\": \"rgba(255, 153, 51, 0.6)\", \"line\": {\"color\": \"rgba(255, 153, 51, 1.0)\", \"width\": 1}}, \"name\": \"None\", \"orientation\": \"v\", \"text\": \"\", \"type\": \"bar\", \"x\": [\"A\", \"B\", \"C\", \"D\"], \"y\": [100, 100, 100, 100]}],                        {\"legend\": {\"bgcolor\": \"#F5F6F9\", \"font\": {\"color\": \"#4D5663\"}}, \"paper_bgcolor\": \"#F5F6F9\", \"plot_bgcolor\": \"#F5F6F9\", \"template\": {\"data\": {\"bar\": [{\"error_x\": {\"color\": \"#2a3f5f\"}, \"error_y\": {\"color\": \"#2a3f5f\"}, \"marker\": {\"line\": {\"color\": \"#E5ECF6\", \"width\": 0.5}}, \"type\": \"bar\"}], \"barpolar\": [{\"marker\": {\"line\": {\"color\": \"#E5ECF6\", \"width\": 0.5}}, \"type\": \"barpolar\"}], \"carpet\": [{\"aaxis\": {\"endlinecolor\": \"#2a3f5f\", \"gridcolor\": \"white\", \"linecolor\": \"white\", \"minorgridcolor\": \"white\", \"startlinecolor\": \"#2a3f5f\"}, \"baxis\": {\"endlinecolor\": \"#2a3f5f\", \"gridcolor\": \"white\", \"linecolor\": \"white\", \"minorgridcolor\": \"white\", \"startlinecolor\": \"#2a3f5f\"}, \"type\": \"carpet\"}], \"choropleth\": [{\"colorbar\": {\"outlinewidth\": 0, \"ticks\": \"\"}, \"type\": \"choropleth\"}], \"contour\": [{\"colorbar\": {\"outlinewidth\": 0, \"ticks\": \"\"}, \"colorscale\": [[0.0, \"#0d0887\"], [0.1111111111111111, \"#46039f\"], [0.2222222222222222, \"#7201a8\"], [0.3333333333333333, \"#9c179e\"], [0.4444444444444444, \"#bd3786\"], [0.5555555555555556, \"#d8576b\"], [0.6666666666666666, \"#ed7953\"], [0.7777777777777778, \"#fb9f3a\"], [0.8888888888888888, \"#fdca26\"], [1.0, \"#f0f921\"]], \"type\": \"contour\"}], \"contourcarpet\": [{\"colorbar\": {\"outlinewidth\": 0, \"ticks\": \"\"}, \"type\": \"contourcarpet\"}], \"heatmap\": [{\"colorbar\": {\"outlinewidth\": 0, \"ticks\": \"\"}, \"colorscale\": [[0.0, \"#0d0887\"], [0.1111111111111111, \"#46039f\"], [0.2222222222222222, \"#7201a8\"], [0.3333333333333333, \"#9c179e\"], [0.4444444444444444, \"#bd3786\"], [0.5555555555555556, \"#d8576b\"], [0.6666666666666666, \"#ed7953\"], [0.7777777777777778, \"#fb9f3a\"], [0.8888888888888888, \"#fdca26\"], [1.0, \"#f0f921\"]], \"type\": \"heatmap\"}], \"heatmapgl\": [{\"colorbar\": {\"outlinewidth\": 0, \"ticks\": \"\"}, \"colorscale\": [[0.0, \"#0d0887\"], [0.1111111111111111, \"#46039f\"], [0.2222222222222222, \"#7201a8\"], [0.3333333333333333, \"#9c179e\"], [0.4444444444444444, \"#bd3786\"], [0.5555555555555556, \"#d8576b\"], [0.6666666666666666, \"#ed7953\"], [0.7777777777777778, \"#fb9f3a\"], [0.8888888888888888, \"#fdca26\"], [1.0, \"#f0f921\"]], \"type\": \"heatmapgl\"}], \"histogram\": [{\"marker\": {\"colorbar\": {\"outlinewidth\": 0, \"ticks\": \"\"}}, \"type\": \"histogram\"}], \"histogram2d\": [{\"colorbar\": {\"outlinewidth\": 0, \"ticks\": \"\"}, \"colorscale\": [[0.0, \"#0d0887\"], [0.1111111111111111, \"#46039f\"], [0.2222222222222222, \"#7201a8\"], [0.3333333333333333, \"#9c179e\"], [0.4444444444444444, \"#bd3786\"], [0.5555555555555556, \"#d8576b\"], [0.6666666666666666, \"#ed7953\"], [0.7777777777777778, \"#fb9f3a\"], [0.8888888888888888, \"#fdca26\"], [1.0, \"#f0f921\"]], \"type\": \"histogram2d\"}], \"histogram2dcontour\": [{\"colorbar\": {\"outlinewidth\": 0, \"ticks\": \"\"}, \"colorscale\": [[0.0, \"#0d0887\"], [0.1111111111111111, \"#46039f\"], [0.2222222222222222, \"#7201a8\"], [0.3333333333333333, \"#9c179e\"], [0.4444444444444444, \"#bd3786\"], [0.5555555555555556, \"#d8576b\"], [0.6666666666666666, \"#ed7953\"], [0.7777777777777778, \"#fb9f3a\"], [0.8888888888888888, \"#fdca26\"], [1.0, \"#f0f921\"]], \"type\": \"histogram2dcontour\"}], \"mesh3d\": [{\"colorbar\": {\"outlinewidth\": 0, \"ticks\": \"\"}, \"type\": \"mesh3d\"}], \"parcoords\": [{\"line\": {\"colorbar\": {\"outlinewidth\": 0, \"ticks\": \"\"}}, \"type\": \"parcoords\"}], \"pie\": [{\"automargin\": true, \"type\": \"pie\"}], \"scatter\": [{\"marker\": {\"colorbar\": {\"outlinewidth\": 0, \"ticks\": \"\"}}, \"type\": \"scatter\"}], \"scatter3d\": [{\"line\": {\"colorbar\": {\"outlinewidth\": 0, \"ticks\": \"\"}}, \"marker\": {\"colorbar\": {\"outlinewidth\": 0, \"ticks\": \"\"}}, \"type\": \"scatter3d\"}], \"scattercarpet\": [{\"marker\": {\"colorbar\": {\"outlinewidth\": 0, \"ticks\": \"\"}}, \"type\": \"scattercarpet\"}], \"scattergeo\": [{\"marker\": {\"colorbar\": {\"outlinewidth\": 0, \"ticks\": \"\"}}, \"type\": \"scattergeo\"}], \"scattergl\": [{\"marker\": {\"colorbar\": {\"outlinewidth\": 0, \"ticks\": \"\"}}, \"type\": \"scattergl\"}], \"scattermapbox\": [{\"marker\": {\"colorbar\": {\"outlinewidth\": 0, \"ticks\": \"\"}}, \"type\": \"scattermapbox\"}], \"scatterpolar\": [{\"marker\": {\"colorbar\": {\"outlinewidth\": 0, \"ticks\": \"\"}}, \"type\": \"scatterpolar\"}], \"scatterpolargl\": [{\"marker\": {\"colorbar\": {\"outlinewidth\": 0, \"ticks\": \"\"}}, \"type\": \"scatterpolargl\"}], \"scatterternary\": [{\"marker\": {\"colorbar\": {\"outlinewidth\": 0, \"ticks\": \"\"}}, \"type\": \"scatterternary\"}], \"surface\": [{\"colorbar\": {\"outlinewidth\": 0, \"ticks\": \"\"}, \"colorscale\": [[0.0, \"#0d0887\"], [0.1111111111111111, \"#46039f\"], [0.2222222222222222, \"#7201a8\"], [0.3333333333333333, \"#9c179e\"], [0.4444444444444444, \"#bd3786\"], [0.5555555555555556, \"#d8576b\"], [0.6666666666666666, \"#ed7953\"], [0.7777777777777778, \"#fb9f3a\"], [0.8888888888888888, \"#fdca26\"], [1.0, \"#f0f921\"]], \"type\": \"surface\"}], \"table\": [{\"cells\": {\"fill\": {\"color\": \"#EBF0F8\"}, \"line\": {\"color\": \"white\"}}, \"header\": {\"fill\": {\"color\": \"#C8D4E3\"}, \"line\": {\"color\": \"white\"}}, \"type\": \"table\"}]}, \"layout\": {\"annotationdefaults\": {\"arrowcolor\": \"#2a3f5f\", \"arrowhead\": 0, \"arrowwidth\": 1}, \"coloraxis\": {\"colorbar\": {\"outlinewidth\": 0, \"ticks\": \"\"}}, \"colorscale\": {\"diverging\": [[0, \"#8e0152\"], [0.1, \"#c51b7d\"], [0.2, \"#de77ae\"], [0.3, \"#f1b6da\"], [0.4, \"#fde0ef\"], [0.5, \"#f7f7f7\"], [0.6, \"#e6f5d0\"], [0.7, \"#b8e186\"], [0.8, \"#7fbc41\"], [0.9, \"#4d9221\"], [1, \"#276419\"]], \"sequential\": [[0.0, \"#0d0887\"], [0.1111111111111111, \"#46039f\"], [0.2222222222222222, \"#7201a8\"], [0.3333333333333333, \"#9c179e\"], [0.4444444444444444, \"#bd3786\"], [0.5555555555555556, \"#d8576b\"], [0.6666666666666666, \"#ed7953\"], [0.7777777777777778, \"#fb9f3a\"], [0.8888888888888888, \"#fdca26\"], [1.0, \"#f0f921\"]], \"sequentialminus\": [[0.0, \"#0d0887\"], [0.1111111111111111, \"#46039f\"], [0.2222222222222222, \"#7201a8\"], [0.3333333333333333, \"#9c179e\"], [0.4444444444444444, \"#bd3786\"], [0.5555555555555556, \"#d8576b\"], [0.6666666666666666, \"#ed7953\"], [0.7777777777777778, \"#fb9f3a\"], [0.8888888888888888, \"#fdca26\"], [1.0, \"#f0f921\"]]}, \"colorway\": [\"#636efa\", \"#EF553B\", \"#00cc96\", \"#ab63fa\", \"#FFA15A\", \"#19d3f3\", \"#FF6692\", \"#B6E880\", \"#FF97FF\", \"#FECB52\"], \"font\": {\"color\": \"#2a3f5f\"}, \"geo\": {\"bgcolor\": \"white\", \"lakecolor\": \"white\", \"landcolor\": \"#E5ECF6\", \"showlakes\": true, \"showland\": true, \"subunitcolor\": \"white\"}, \"hoverlabel\": {\"align\": \"left\"}, \"hovermode\": \"closest\", \"mapbox\": {\"style\": \"light\"}, \"paper_bgcolor\": \"white\", \"plot_bgcolor\": \"#E5ECF6\", \"polar\": {\"angularaxis\": {\"gridcolor\": \"white\", \"linecolor\": \"white\", \"ticks\": \"\"}, \"bgcolor\": \"#E5ECF6\", \"radialaxis\": {\"gridcolor\": \"white\", \"linecolor\": \"white\", \"ticks\": \"\"}}, \"scene\": {\"xaxis\": {\"backgroundcolor\": \"#E5ECF6\", \"gridcolor\": \"white\", \"gridwidth\": 2, \"linecolor\": \"white\", \"showbackground\": true, \"ticks\": \"\", \"zerolinecolor\": \"white\"}, \"yaxis\": {\"backgroundcolor\": \"#E5ECF6\", \"gridcolor\": \"white\", \"gridwidth\": 2, \"linecolor\": \"white\", \"showbackground\": true, \"ticks\": \"\", \"zerolinecolor\": \"white\"}, \"zaxis\": {\"backgroundcolor\": \"#E5ECF6\", \"gridcolor\": \"white\", \"gridwidth\": 2, \"linecolor\": \"white\", \"showbackground\": true, \"ticks\": \"\", \"zerolinecolor\": \"white\"}}, \"shapedefaults\": {\"line\": {\"color\": \"#2a3f5f\"}}, \"ternary\": {\"aaxis\": {\"gridcolor\": \"white\", \"linecolor\": \"white\", \"ticks\": \"\"}, \"baxis\": {\"gridcolor\": \"white\", \"linecolor\": \"white\", \"ticks\": \"\"}, \"bgcolor\": \"#E5ECF6\", \"caxis\": {\"gridcolor\": \"white\", \"linecolor\": \"white\", \"ticks\": \"\"}}, \"title\": {\"x\": 0.05}, \"xaxis\": {\"automargin\": true, \"gridcolor\": \"white\", \"linecolor\": \"white\", \"ticks\": \"\", \"title\": {\"standoff\": 15}, \"zerolinecolor\": \"white\", \"zerolinewidth\": 2}, \"yaxis\": {\"automargin\": true, \"gridcolor\": \"white\", \"linecolor\": \"white\", \"ticks\": \"\", \"title\": {\"standoff\": 15}, \"zerolinecolor\": \"white\", \"zerolinewidth\": 2}}}, \"title\": {\"font\": {\"color\": \"#4D5663\"}}, \"xaxis\": {\"gridcolor\": \"#E1E5ED\", \"showgrid\": true, \"tickfont\": {\"color\": \"#4D5663\"}, \"title\": {\"font\": {\"color\": \"#4D5663\"}, \"text\": \"\"}, \"zerolinecolor\": \"#E1E5ED\"}, \"yaxis\": {\"gridcolor\": \"#E1E5ED\", \"showgrid\": true, \"tickfont\": {\"color\": \"#4D5663\"}, \"title\": {\"font\": {\"color\": \"#4D5663\"}, \"text\": \"\"}, \"zerolinecolor\": \"#E1E5ED\"}},                        {\"showLink\": true, \"linkText\": \"Export to plot.ly\", \"plotlyServerURL\": \"https://plot.ly\", \"responsive\": true}                    ).then(function(){\n",
       "                            \n",
       "var gd = document.getElementById('6c1d3c43-394e-4849-89f3-c9470a194ac2');\n",
       "var x = new MutationObserver(function (mutations, observer) {{\n",
       "        var display = window.getComputedStyle(gd).display;\n",
       "        if (!display || display === 'none') {{\n",
       "            console.log([gd, 'removed!']);\n",
       "            Plotly.purge(gd);\n",
       "            observer.disconnect();\n",
       "        }}\n",
       "}});\n",
       "\n",
       "// Listen for the removal of the full notebook cells\n",
       "var notebookContainer = gd.closest('#notebook-container');\n",
       "if (notebookContainer) {{\n",
       "    x.observe(notebookContainer, {childList: true});\n",
       "}}\n",
       "\n",
       "// Listen for the clearing of the current output cell\n",
       "var outputEl = gd.closest('.output');\n",
       "if (outputEl) {{\n",
       "    x.observe(outputEl, {childList: true});\n",
       "}}\n",
       "\n",
       "                        })                };                });            </script>        </div>"
      ]
     },
     "metadata": {},
     "output_type": "display_data"
    }
   ],
   "source": [
    "df.count().iplot(kind='bar')"
   ]
  },
  {
   "cell_type": "markdown",
   "metadata": {},
   "source": [
    "## Boxplots"
   ]
  },
  {
   "cell_type": "code",
   "execution_count": 13,
   "metadata": {},
   "outputs": [
    {
     "data": {
      "application/vnd.plotly.v1+json": {
       "config": {
        "linkText": "Export to plot.ly",
        "plotlyServerURL": "https://plot.ly",
        "showLink": true
       },
       "data": [
        {
         "boxpoints": false,
         "line": {
          "width": 1.3
         },
         "marker": {
          "color": "rgba(255, 153, 51, 1.0)"
         },
         "name": "A",
         "orientation": "v",
         "type": "box",
         "y": [
          0.522556105813715,
          0.8366465175888684,
          -0.664603970479962,
          -0.6611168116320768,
          -0.029293198680295153,
          0.630440914253106,
          0.24536832097911143,
          0.5213441943977241,
          -0.6409830943135116,
          -1.2795322536768938,
          1.5529623456032118,
          -2.303638277851841,
          -0.08246423455366149,
          -0.6603240942134286,
          -1.3320172245876538,
          0.27054147790735356,
          -2.3102127601116957,
          -1.180959337349101,
          -1.6620377976952876,
          1.5467169576834783,
          -0.4169363614353314,
          -0.9631554333059279,
          -1.4560511712205557,
          -2.0404767103485617,
          1.9954182190915115,
          0.5205977940769877,
          -0.6707041858894667,
          1.190860114617754,
          0.4236278788802016,
          0.5951909517408043,
          0.0722911467287905,
          -0.8749298041157985,
          0.9194636594323516,
          1.4883038699736955,
          -3.4230147844322922,
          1.1924595949170957,
          1.4008954471598927,
          -1.1151174087094455,
          -1.1995365117501031,
          0.8110171223718338,
          -1.8292495637863746,
          2.0529700474973525,
          -1.3165906845861155,
          1.667125932294143,
          -1.3404983717729393,
          -0.6267318398612008,
          -1.733235590397368,
          -0.7963674104484132,
          -0.8623741759795556,
          -0.7773317335322487,
          -0.47181762470855554,
          0.07716999711133517,
          0.35817988537598444,
          -0.3295384933143855,
          0.6653512574814932,
          -0.4486369697071627,
          0.7099314026754735,
          -0.4542041749256783,
          -0.0746400765540713,
          0.21189666518828398,
          0.8737431149504534,
          0.4858681671093836,
          0.777834053956173,
          1.2796759802166797,
          -0.019325062343936078,
          -0.7744760972835689,
          -0.6060372583098742,
          1.0343304682727885,
          -1.5922954029379874,
          -0.6296209412783041,
          0.5207527208513598,
          -0.8729548116088645,
          -1.2396683909340585,
          -0.5932494118087088,
          0.0032824444979755235,
          0.5378194907114049,
          0.331241280973708,
          -1.278552728158368,
          -0.0995570035566114,
          -0.2453115203777214,
          0.5485210558743719,
          0.21445941172442826,
          -1.2505565269743624,
          -0.7799754350761642,
          1.3686204262485862,
          0.3353102228299381,
          -0.9002585779060629,
          2.1043905766033024,
          -0.6498677108938995,
          0.5634701912298704,
          -1.6338513008111868,
          -0.36347720593876093,
          1.9520757630587742,
          -0.923410126462932,
          1.203474471477271,
          1.1792980741286028,
          0.17293066836863386,
          -1.1796690199363606,
          -2.055002219050221,
          -1.3653009952725936
         ]
        },
        {
         "boxpoints": false,
         "line": {
          "width": 1.3
         },
         "marker": {
          "color": "rgba(55, 128, 191, 1.0)"
         },
         "name": "B",
         "orientation": "v",
         "type": "box",
         "y": [
          -1.0502366155422067,
          -0.021961193335135246,
          -0.5765927169777691,
          2.248965683306026,
          -1.0018182265616553,
          -0.894238683015506,
          0.6460866751885185,
          -1.3115427152492027,
          1.3166852659343116,
          1.926211376247639,
          -0.2922318185022914,
          0.09152608733805903,
          -0.7430556408676412,
          -0.578476852932132,
          0.6642732928180614,
          -1.0057961103352402,
          -0.056384208433620034,
          1.0909053059116434,
          0.4734520127620457,
          -0.02676628959820128,
          -0.22708984983508898,
          0.9741417789799731,
          -1.5145327182874229,
          1.2834117079537986,
          0.6741070591221596,
          0.24083067110312012,
          0.8555734521733575,
          0.6306027272359749,
          1.5763162765394942,
          -0.5958029804768725,
          1.568304227917459,
          0.05975424687522171,
          -1.706261214114887,
          1.7312151731908052,
          -1.7080487887071312,
          -0.43781305829364797,
          0.20921487935513305,
          -2.259297390099242,
          1.218643322819174,
          0.32418168737135344,
          0.6564577271674744,
          -1.0721690985177132,
          -0.6557675467597885,
          -0.12441768390177917,
          0.7006888292110914,
          1.7994324854881514,
          -1.1572248539641468,
          -0.20803654802745664,
          0.12223982689574536,
          0.9016669965242321,
          0.02851091151994256,
          -0.04349225640139199,
          -0.8098781338219512,
          -0.12311448162771756,
          0.9760908000146804,
          -1.0199094785959937,
          -0.4571566426231742,
          1.3938270495469804,
          -0.9199946915318254,
          0.8866663856815331,
          0.3058242139615769,
          -0.45665461339037566,
          -0.5152722731281091,
          0.5113151944185977,
          -1.2122833743218226,
          2.8912100887402654,
          -1.0200521532784588,
          0.29861556578277937,
          -1.82601771971382,
          0.2629590316929113,
          -0.24178830164881776,
          0.734374599908883,
          -0.771622179092258,
          -0.9050560338468139,
          -0.36113285074818186,
          0.6688510578903628,
          -1.4846396280995497,
          0.6829643443929462,
          1.3481232854267218,
          -0.3780301066171847,
          -0.21712034615308187,
          0.23588244120169044,
          0.6797192924255304,
          -0.9562785562071007,
          0.5230709190292472,
          0.8152487481197463,
          -0.2461668611776281,
          0.42057386032266425,
          -1.9427434567661108,
          -0.35009411437483956,
          -0.5247859106616706,
          0.9801017518398779,
          0.21683762267305612,
          0.10109849438698844,
          -0.010736076482799084,
          -0.3068822190517889,
          0.1657544349926027,
          -0.5373922231954307,
          1.9009029986905681,
          0.2860674527087954
         ]
        },
        {
         "boxpoints": false,
         "line": {
          "width": 1.3
         },
         "marker": {
          "color": "rgba(50, 171, 96, 1.0)"
         },
         "name": "C",
         "orientation": "v",
         "type": "box",
         "y": [
          0.9332866146772304,
          0.3049436880563497,
          0.44138861423703624,
          -0.20528713856566136,
          -0.7570614580837844,
          1.7845617333316954,
          0.2941229609186484,
          1.3690812570809878,
          -0.05079576879906741,
          1.0477237810425597,
          -1.339451693977425,
          1.0788780172679253,
          1.9385475323391281,
          -0.7121062713430775,
          1.642429503611656,
          0.6947864535012566,
          -0.5302665281980049,
          0.7575221774092812,
          -1.5314018780942285,
          0.9778155631043197,
          1.0158153413130238,
          1.4682205489568387,
          0.28226463927372575,
          0.697677826377623,
          0.5658161799325903,
          -0.5253519002897766,
          -0.5970290526545614,
          -0.7459136185729337,
          -0.11267071355998802,
          -0.47312923778026433,
          2.2359269385734133,
          0.22847947959073348,
          0.9388799026195135,
          -0.11903523962015843,
          -1.7486224017365364,
          0.33648849116092194,
          -0.4418884183227688,
          -1.0289694052668623,
          0.11685715081354897,
          -1.0853115995134064,
          -0.7737247922457348,
          -0.18719483243941543,
          1.8035625576305088,
          -0.4434056930273342,
          0.9130516530940805,
          -1.0462157322010581,
          -0.011023917936309642,
          0.2747394646216463,
          0.12432810131286895,
          1.5398474520713819,
          1.2664948567377068,
          1.069592857295506,
          -0.6106061720265551,
          1.4188978795330267,
          -0.08254929835706407,
          0.0848936794790966,
          1.1567468286988167,
          0.5128939311875526,
          0.2783955292540215,
          -1.8482262148260062,
          -0.3732685686845318,
          0.9450082135561825,
          1.5199188969908948,
          -1.7584730339833166,
          -0.975520542632561,
          -0.2679417652656878,
          0.25819195285435254,
          -0.6908430289541013,
          -1.0826307066480867,
          0.7184049548065112,
          1.1224951612897176,
          0.9230782244265155,
          1.449241212739982,
          -1.0251011192519417,
          1.143071988649807,
          -0.45802657720611467,
          -0.9601771135828424,
          -1.2319905415425854,
          1.3347431234247218,
          1.6522536688357146,
          -0.8512062789349891,
          0.7576839342501829,
          -1.2528006446028976,
          1.3542360949670942,
          0.3454602683138546,
          0.7545130229720501,
          0.2558963684137531,
          -2.0332833516080533,
          -0.44567402359846436,
          2.6228740067529825,
          2.8711381625116617,
          -0.005712413187787785,
          -0.4267549415352209,
          -0.9129338150576033,
          0.9880204669489722,
          0.20156350296632106,
          -0.23953414816758475,
          0.9697173046570664,
          -1.330784319642086,
          -0.5205197172475784
         ]
        },
        {
         "boxpoints": false,
         "line": {
          "width": 1.3
         },
         "marker": {
          "color": "rgba(128, 0, 128, 1.0)"
         },
         "name": "D",
         "orientation": "v",
         "type": "box",
         "y": [
          0.15819227098722033,
          -0.20838612550620814,
          -0.8226142957144436,
          0.9560447621677909,
          0.27052253045962205,
          0.8200525191384015,
          -0.5246990944281539,
          -1.2975274377223307,
          -0.7922911464415296,
          -0.3710687148635587,
          1.2155318104663961,
          -0.00946663181537825,
          -0.6252945968173849,
          -0.06671455685440172,
          1.1789732481171717,
          -1.5137939342754252,
          -0.3662175818542943,
          -0.6126577175429145,
          -0.10128941729010403,
          0.8718167545755164,
          1.1149996160957694,
          -0.8423701433651831,
          -0.6800790170902561,
          0.42639474601243627,
          0.251523764899969,
          -0.8659066777009436,
          0.4229581393137417,
          0.6526800404802042,
          -0.5545251497049041,
          0.9986058454032798,
          -0.3082976634730784,
          1.8532416207371785,
          -0.8839217600144291,
          -0.06556969999793383,
          -0.49851512053638725,
          -1.1602766032657377,
          0.8699746653506601,
          -0.7741938736269718,
          0.24543811171573388,
          0.9111001057521537,
          -0.21131714756348827,
          -0.49982184469096674,
          0.060897682863460215,
          0.48822674149408035,
          -0.020306533167304037,
          1.0767705148158597,
          0.1664801385084698,
          0.7150093977610442,
          -1.421034825740538,
          1.907153346356637,
          1.2447765217369882,
          2.111747443098467,
          2.4488733928892223,
          -3.2314456687886097,
          -0.5379476847464684,
          1.046133803256443,
          0.6373990785663881,
          1.4331475496012005,
          0.14920001336697875,
          0.6883720706856165,
          0.8336504444043047,
          -0.1967798210239832,
          0.3837696075283908,
          -0.1985591357871106,
          -1.1662344851690605,
          -0.9803354423467238,
          -0.7443830937865075,
          -1.8957978032294063,
          0.931495160078685,
          -0.2644743718545935,
          -0.22464338006883158,
          0.03752545714300439,
          -1.2391027208583643,
          -1.11592894637276,
          -0.06941410935670562,
          0.31871680448372824,
          0.5019666333781165,
          -0.15849234322605066,
          -0.4818060572577569,
          -1.880201256826168,
          0.1023978395750562,
          0.40156381324902174,
          1.5288944591079592,
          -0.38799929603879246,
          -0.01946874461156755,
          0.2196663607578247,
          -1.0251593532367242,
          -1.4626473425094721,
          -1.0030863879845482,
          0.4569701502836065,
          -0.08662094746684243,
          -1.0327558149805045,
          0.9842045640263896,
          -0.4348516430457228,
          -0.9497338011348774,
          -0.028470776481635846,
          -1.0339530205920409,
          1.0658006804824647,
          -0.24150122682259062,
          1.439589652810136
         ]
        }
       ],
       "layout": {
        "legend": {
         "bgcolor": "#F5F6F9",
         "font": {
          "color": "#4D5663"
         }
        },
        "paper_bgcolor": "#F5F6F9",
        "plot_bgcolor": "#F5F6F9",
        "template": {
         "data": {
          "bar": [
           {
            "error_x": {
             "color": "#2a3f5f"
            },
            "error_y": {
             "color": "#2a3f5f"
            },
            "marker": {
             "line": {
              "color": "#E5ECF6",
              "width": 0.5
             }
            },
            "type": "bar"
           }
          ],
          "barpolar": [
           {
            "marker": {
             "line": {
              "color": "#E5ECF6",
              "width": 0.5
             }
            },
            "type": "barpolar"
           }
          ],
          "carpet": [
           {
            "aaxis": {
             "endlinecolor": "#2a3f5f",
             "gridcolor": "white",
             "linecolor": "white",
             "minorgridcolor": "white",
             "startlinecolor": "#2a3f5f"
            },
            "baxis": {
             "endlinecolor": "#2a3f5f",
             "gridcolor": "white",
             "linecolor": "white",
             "minorgridcolor": "white",
             "startlinecolor": "#2a3f5f"
            },
            "type": "carpet"
           }
          ],
          "choropleth": [
           {
            "colorbar": {
             "outlinewidth": 0,
             "ticks": ""
            },
            "type": "choropleth"
           }
          ],
          "contour": [
           {
            "colorbar": {
             "outlinewidth": 0,
             "ticks": ""
            },
            "colorscale": [
             [
              0,
              "#0d0887"
             ],
             [
              0.1111111111111111,
              "#46039f"
             ],
             [
              0.2222222222222222,
              "#7201a8"
             ],
             [
              0.3333333333333333,
              "#9c179e"
             ],
             [
              0.4444444444444444,
              "#bd3786"
             ],
             [
              0.5555555555555556,
              "#d8576b"
             ],
             [
              0.6666666666666666,
              "#ed7953"
             ],
             [
              0.7777777777777778,
              "#fb9f3a"
             ],
             [
              0.8888888888888888,
              "#fdca26"
             ],
             [
              1,
              "#f0f921"
             ]
            ],
            "type": "contour"
           }
          ],
          "contourcarpet": [
           {
            "colorbar": {
             "outlinewidth": 0,
             "ticks": ""
            },
            "type": "contourcarpet"
           }
          ],
          "heatmap": [
           {
            "colorbar": {
             "outlinewidth": 0,
             "ticks": ""
            },
            "colorscale": [
             [
              0,
              "#0d0887"
             ],
             [
              0.1111111111111111,
              "#46039f"
             ],
             [
              0.2222222222222222,
              "#7201a8"
             ],
             [
              0.3333333333333333,
              "#9c179e"
             ],
             [
              0.4444444444444444,
              "#bd3786"
             ],
             [
              0.5555555555555556,
              "#d8576b"
             ],
             [
              0.6666666666666666,
              "#ed7953"
             ],
             [
              0.7777777777777778,
              "#fb9f3a"
             ],
             [
              0.8888888888888888,
              "#fdca26"
             ],
             [
              1,
              "#f0f921"
             ]
            ],
            "type": "heatmap"
           }
          ],
          "heatmapgl": [
           {
            "colorbar": {
             "outlinewidth": 0,
             "ticks": ""
            },
            "colorscale": [
             [
              0,
              "#0d0887"
             ],
             [
              0.1111111111111111,
              "#46039f"
             ],
             [
              0.2222222222222222,
              "#7201a8"
             ],
             [
              0.3333333333333333,
              "#9c179e"
             ],
             [
              0.4444444444444444,
              "#bd3786"
             ],
             [
              0.5555555555555556,
              "#d8576b"
             ],
             [
              0.6666666666666666,
              "#ed7953"
             ],
             [
              0.7777777777777778,
              "#fb9f3a"
             ],
             [
              0.8888888888888888,
              "#fdca26"
             ],
             [
              1,
              "#f0f921"
             ]
            ],
            "type": "heatmapgl"
           }
          ],
          "histogram": [
           {
            "marker": {
             "colorbar": {
              "outlinewidth": 0,
              "ticks": ""
             }
            },
            "type": "histogram"
           }
          ],
          "histogram2d": [
           {
            "colorbar": {
             "outlinewidth": 0,
             "ticks": ""
            },
            "colorscale": [
             [
              0,
              "#0d0887"
             ],
             [
              0.1111111111111111,
              "#46039f"
             ],
             [
              0.2222222222222222,
              "#7201a8"
             ],
             [
              0.3333333333333333,
              "#9c179e"
             ],
             [
              0.4444444444444444,
              "#bd3786"
             ],
             [
              0.5555555555555556,
              "#d8576b"
             ],
             [
              0.6666666666666666,
              "#ed7953"
             ],
             [
              0.7777777777777778,
              "#fb9f3a"
             ],
             [
              0.8888888888888888,
              "#fdca26"
             ],
             [
              1,
              "#f0f921"
             ]
            ],
            "type": "histogram2d"
           }
          ],
          "histogram2dcontour": [
           {
            "colorbar": {
             "outlinewidth": 0,
             "ticks": ""
            },
            "colorscale": [
             [
              0,
              "#0d0887"
             ],
             [
              0.1111111111111111,
              "#46039f"
             ],
             [
              0.2222222222222222,
              "#7201a8"
             ],
             [
              0.3333333333333333,
              "#9c179e"
             ],
             [
              0.4444444444444444,
              "#bd3786"
             ],
             [
              0.5555555555555556,
              "#d8576b"
             ],
             [
              0.6666666666666666,
              "#ed7953"
             ],
             [
              0.7777777777777778,
              "#fb9f3a"
             ],
             [
              0.8888888888888888,
              "#fdca26"
             ],
             [
              1,
              "#f0f921"
             ]
            ],
            "type": "histogram2dcontour"
           }
          ],
          "mesh3d": [
           {
            "colorbar": {
             "outlinewidth": 0,
             "ticks": ""
            },
            "type": "mesh3d"
           }
          ],
          "parcoords": [
           {
            "line": {
             "colorbar": {
              "outlinewidth": 0,
              "ticks": ""
             }
            },
            "type": "parcoords"
           }
          ],
          "pie": [
           {
            "automargin": true,
            "type": "pie"
           }
          ],
          "scatter": [
           {
            "marker": {
             "colorbar": {
              "outlinewidth": 0,
              "ticks": ""
             }
            },
            "type": "scatter"
           }
          ],
          "scatter3d": [
           {
            "line": {
             "colorbar": {
              "outlinewidth": 0,
              "ticks": ""
             }
            },
            "marker": {
             "colorbar": {
              "outlinewidth": 0,
              "ticks": ""
             }
            },
            "type": "scatter3d"
           }
          ],
          "scattercarpet": [
           {
            "marker": {
             "colorbar": {
              "outlinewidth": 0,
              "ticks": ""
             }
            },
            "type": "scattercarpet"
           }
          ],
          "scattergeo": [
           {
            "marker": {
             "colorbar": {
              "outlinewidth": 0,
              "ticks": ""
             }
            },
            "type": "scattergeo"
           }
          ],
          "scattergl": [
           {
            "marker": {
             "colorbar": {
              "outlinewidth": 0,
              "ticks": ""
             }
            },
            "type": "scattergl"
           }
          ],
          "scattermapbox": [
           {
            "marker": {
             "colorbar": {
              "outlinewidth": 0,
              "ticks": ""
             }
            },
            "type": "scattermapbox"
           }
          ],
          "scatterpolar": [
           {
            "marker": {
             "colorbar": {
              "outlinewidth": 0,
              "ticks": ""
             }
            },
            "type": "scatterpolar"
           }
          ],
          "scatterpolargl": [
           {
            "marker": {
             "colorbar": {
              "outlinewidth": 0,
              "ticks": ""
             }
            },
            "type": "scatterpolargl"
           }
          ],
          "scatterternary": [
           {
            "marker": {
             "colorbar": {
              "outlinewidth": 0,
              "ticks": ""
             }
            },
            "type": "scatterternary"
           }
          ],
          "surface": [
           {
            "colorbar": {
             "outlinewidth": 0,
             "ticks": ""
            },
            "colorscale": [
             [
              0,
              "#0d0887"
             ],
             [
              0.1111111111111111,
              "#46039f"
             ],
             [
              0.2222222222222222,
              "#7201a8"
             ],
             [
              0.3333333333333333,
              "#9c179e"
             ],
             [
              0.4444444444444444,
              "#bd3786"
             ],
             [
              0.5555555555555556,
              "#d8576b"
             ],
             [
              0.6666666666666666,
              "#ed7953"
             ],
             [
              0.7777777777777778,
              "#fb9f3a"
             ],
             [
              0.8888888888888888,
              "#fdca26"
             ],
             [
              1,
              "#f0f921"
             ]
            ],
            "type": "surface"
           }
          ],
          "table": [
           {
            "cells": {
             "fill": {
              "color": "#EBF0F8"
             },
             "line": {
              "color": "white"
             }
            },
            "header": {
             "fill": {
              "color": "#C8D4E3"
             },
             "line": {
              "color": "white"
             }
            },
            "type": "table"
           }
          ]
         },
         "layout": {
          "annotationdefaults": {
           "arrowcolor": "#2a3f5f",
           "arrowhead": 0,
           "arrowwidth": 1
          },
          "coloraxis": {
           "colorbar": {
            "outlinewidth": 0,
            "ticks": ""
           }
          },
          "colorscale": {
           "diverging": [
            [
             0,
             "#8e0152"
            ],
            [
             0.1,
             "#c51b7d"
            ],
            [
             0.2,
             "#de77ae"
            ],
            [
             0.3,
             "#f1b6da"
            ],
            [
             0.4,
             "#fde0ef"
            ],
            [
             0.5,
             "#f7f7f7"
            ],
            [
             0.6,
             "#e6f5d0"
            ],
            [
             0.7,
             "#b8e186"
            ],
            [
             0.8,
             "#7fbc41"
            ],
            [
             0.9,
             "#4d9221"
            ],
            [
             1,
             "#276419"
            ]
           ],
           "sequential": [
            [
             0,
             "#0d0887"
            ],
            [
             0.1111111111111111,
             "#46039f"
            ],
            [
             0.2222222222222222,
             "#7201a8"
            ],
            [
             0.3333333333333333,
             "#9c179e"
            ],
            [
             0.4444444444444444,
             "#bd3786"
            ],
            [
             0.5555555555555556,
             "#d8576b"
            ],
            [
             0.6666666666666666,
             "#ed7953"
            ],
            [
             0.7777777777777778,
             "#fb9f3a"
            ],
            [
             0.8888888888888888,
             "#fdca26"
            ],
            [
             1,
             "#f0f921"
            ]
           ],
           "sequentialminus": [
            [
             0,
             "#0d0887"
            ],
            [
             0.1111111111111111,
             "#46039f"
            ],
            [
             0.2222222222222222,
             "#7201a8"
            ],
            [
             0.3333333333333333,
             "#9c179e"
            ],
            [
             0.4444444444444444,
             "#bd3786"
            ],
            [
             0.5555555555555556,
             "#d8576b"
            ],
            [
             0.6666666666666666,
             "#ed7953"
            ],
            [
             0.7777777777777778,
             "#fb9f3a"
            ],
            [
             0.8888888888888888,
             "#fdca26"
            ],
            [
             1,
             "#f0f921"
            ]
           ]
          },
          "colorway": [
           "#636efa",
           "#EF553B",
           "#00cc96",
           "#ab63fa",
           "#FFA15A",
           "#19d3f3",
           "#FF6692",
           "#B6E880",
           "#FF97FF",
           "#FECB52"
          ],
          "font": {
           "color": "#2a3f5f"
          },
          "geo": {
           "bgcolor": "white",
           "lakecolor": "white",
           "landcolor": "#E5ECF6",
           "showlakes": true,
           "showland": true,
           "subunitcolor": "white"
          },
          "hoverlabel": {
           "align": "left"
          },
          "hovermode": "closest",
          "mapbox": {
           "style": "light"
          },
          "paper_bgcolor": "white",
          "plot_bgcolor": "#E5ECF6",
          "polar": {
           "angularaxis": {
            "gridcolor": "white",
            "linecolor": "white",
            "ticks": ""
           },
           "bgcolor": "#E5ECF6",
           "radialaxis": {
            "gridcolor": "white",
            "linecolor": "white",
            "ticks": ""
           }
          },
          "scene": {
           "xaxis": {
            "backgroundcolor": "#E5ECF6",
            "gridcolor": "white",
            "gridwidth": 2,
            "linecolor": "white",
            "showbackground": true,
            "ticks": "",
            "zerolinecolor": "white"
           },
           "yaxis": {
            "backgroundcolor": "#E5ECF6",
            "gridcolor": "white",
            "gridwidth": 2,
            "linecolor": "white",
            "showbackground": true,
            "ticks": "",
            "zerolinecolor": "white"
           },
           "zaxis": {
            "backgroundcolor": "#E5ECF6",
            "gridcolor": "white",
            "gridwidth": 2,
            "linecolor": "white",
            "showbackground": true,
            "ticks": "",
            "zerolinecolor": "white"
           }
          },
          "shapedefaults": {
           "line": {
            "color": "#2a3f5f"
           }
          },
          "ternary": {
           "aaxis": {
            "gridcolor": "white",
            "linecolor": "white",
            "ticks": ""
           },
           "baxis": {
            "gridcolor": "white",
            "linecolor": "white",
            "ticks": ""
           },
           "bgcolor": "#E5ECF6",
           "caxis": {
            "gridcolor": "white",
            "linecolor": "white",
            "ticks": ""
           }
          },
          "title": {
           "x": 0.05
          },
          "xaxis": {
           "automargin": true,
           "gridcolor": "white",
           "linecolor": "white",
           "ticks": "",
           "title": {
            "standoff": 15
           },
           "zerolinecolor": "white",
           "zerolinewidth": 2
          },
          "yaxis": {
           "automargin": true,
           "gridcolor": "white",
           "linecolor": "white",
           "ticks": "",
           "title": {
            "standoff": 15
           },
           "zerolinecolor": "white",
           "zerolinewidth": 2
          }
         }
        },
        "title": {
         "font": {
          "color": "#4D5663"
         }
        },
        "xaxis": {
         "gridcolor": "#E1E5ED",
         "showgrid": true,
         "tickfont": {
          "color": "#4D5663"
         },
         "title": {
          "font": {
           "color": "#4D5663"
          },
          "text": ""
         },
         "zerolinecolor": "#E1E5ED"
        },
        "yaxis": {
         "gridcolor": "#E1E5ED",
         "showgrid": true,
         "tickfont": {
          "color": "#4D5663"
         },
         "title": {
          "font": {
           "color": "#4D5663"
          },
          "text": ""
         },
         "zerolinecolor": "#E1E5ED"
        }
       }
      },
      "text/html": [
       "<div>                            <div id=\"1b5e4e12-0cc0-42f8-ae73-9cf2c70533fb\" class=\"plotly-graph-div\" style=\"height:525px; width:100%;\"></div>            <script type=\"text/javascript\">                require([\"plotly\"], function(Plotly) {                    window.PLOTLYENV=window.PLOTLYENV || {};\n",
       "                    window.PLOTLYENV.BASE_URL='https://plot.ly';                                    if (document.getElementById(\"1b5e4e12-0cc0-42f8-ae73-9cf2c70533fb\")) {                    Plotly.newPlot(                        \"1b5e4e12-0cc0-42f8-ae73-9cf2c70533fb\",                        [{\"boxpoints\": false, \"line\": {\"width\": 1.3}, \"marker\": {\"color\": \"rgba(255, 153, 51, 1.0)\"}, \"name\": \"A\", \"orientation\": \"v\", \"type\": \"box\", \"y\": [0.522556105813715, 0.8366465175888684, -0.664603970479962, -0.6611168116320768, -0.029293198680295153, 0.630440914253106, 0.24536832097911143, 0.5213441943977241, -0.6409830943135116, -1.2795322536768938, 1.5529623456032118, -2.303638277851841, -0.08246423455366149, -0.6603240942134286, -1.3320172245876538, 0.27054147790735356, -2.3102127601116957, -1.180959337349101, -1.6620377976952876, 1.5467169576834783, -0.4169363614353314, -0.9631554333059279, -1.4560511712205557, -2.0404767103485617, 1.9954182190915115, 0.5205977940769877, -0.6707041858894667, 1.190860114617754, 0.4236278788802016, 0.5951909517408043, 0.0722911467287905, -0.8749298041157985, 0.9194636594323516, 1.4883038699736955, -3.4230147844322922, 1.1924595949170957, 1.4008954471598927, -1.1151174087094455, -1.1995365117501031, 0.8110171223718338, -1.8292495637863746, 2.0529700474973525, -1.3165906845861155, 1.667125932294143, -1.3404983717729393, -0.6267318398612008, -1.733235590397368, -0.7963674104484132, -0.8623741759795556, -0.7773317335322487, -0.47181762470855554, 0.07716999711133517, 0.35817988537598444, -0.3295384933143855, 0.6653512574814932, -0.4486369697071627, 0.7099314026754735, -0.4542041749256783, -0.0746400765540713, 0.21189666518828398, 0.8737431149504534, 0.4858681671093836, 0.777834053956173, 1.2796759802166797, -0.019325062343936078, -0.7744760972835689, -0.6060372583098742, 1.0343304682727885, -1.5922954029379874, -0.6296209412783041, 0.5207527208513598, -0.8729548116088645, -1.2396683909340585, -0.5932494118087088, 0.0032824444979755235, 0.5378194907114049, 0.331241280973708, -1.278552728158368, -0.0995570035566114, -0.2453115203777214, 0.5485210558743719, 0.21445941172442826, -1.2505565269743624, -0.7799754350761642, 1.3686204262485862, 0.3353102228299381, -0.9002585779060629, 2.1043905766033024, -0.6498677108938995, 0.5634701912298704, -1.6338513008111868, -0.36347720593876093, 1.9520757630587742, -0.923410126462932, 1.203474471477271, 1.1792980741286028, 0.17293066836863386, -1.1796690199363606, -2.055002219050221, -1.3653009952725936]}, {\"boxpoints\": false, \"line\": {\"width\": 1.3}, \"marker\": {\"color\": \"rgba(55, 128, 191, 1.0)\"}, \"name\": \"B\", \"orientation\": \"v\", \"type\": \"box\", \"y\": [-1.0502366155422067, -0.021961193335135246, -0.5765927169777691, 2.248965683306026, -1.0018182265616553, -0.894238683015506, 0.6460866751885185, -1.3115427152492027, 1.3166852659343116, 1.926211376247639, -0.2922318185022914, 0.09152608733805903, -0.7430556408676412, -0.578476852932132, 0.6642732928180614, -1.0057961103352402, -0.056384208433620034, 1.0909053059116434, 0.4734520127620457, -0.02676628959820128, -0.22708984983508898, 0.9741417789799731, -1.5145327182874229, 1.2834117079537986, 0.6741070591221596, 0.24083067110312012, 0.8555734521733575, 0.6306027272359749, 1.5763162765394942, -0.5958029804768725, 1.568304227917459, 0.05975424687522171, -1.706261214114887, 1.7312151731908052, -1.7080487887071312, -0.43781305829364797, 0.20921487935513305, -2.259297390099242, 1.218643322819174, 0.32418168737135344, 0.6564577271674744, -1.0721690985177132, -0.6557675467597885, -0.12441768390177917, 0.7006888292110914, 1.7994324854881514, -1.1572248539641468, -0.20803654802745664, 0.12223982689574536, 0.9016669965242321, 0.02851091151994256, -0.04349225640139199, -0.8098781338219512, -0.12311448162771756, 0.9760908000146804, -1.0199094785959937, -0.4571566426231742, 1.3938270495469804, -0.9199946915318254, 0.8866663856815331, 0.3058242139615769, -0.45665461339037566, -0.5152722731281091, 0.5113151944185977, -1.2122833743218226, 2.8912100887402654, -1.0200521532784588, 0.29861556578277937, -1.82601771971382, 0.2629590316929113, -0.24178830164881776, 0.734374599908883, -0.771622179092258, -0.9050560338468139, -0.36113285074818186, 0.6688510578903628, -1.4846396280995497, 0.6829643443929462, 1.3481232854267218, -0.3780301066171847, -0.21712034615308187, 0.23588244120169044, 0.6797192924255304, -0.9562785562071007, 0.5230709190292472, 0.8152487481197463, -0.2461668611776281, 0.42057386032266425, -1.9427434567661108, -0.35009411437483956, -0.5247859106616706, 0.9801017518398779, 0.21683762267305612, 0.10109849438698844, -0.010736076482799084, -0.3068822190517889, 0.1657544349926027, -0.5373922231954307, 1.9009029986905681, 0.2860674527087954]}, {\"boxpoints\": false, \"line\": {\"width\": 1.3}, \"marker\": {\"color\": \"rgba(50, 171, 96, 1.0)\"}, \"name\": \"C\", \"orientation\": \"v\", \"type\": \"box\", \"y\": [0.9332866146772304, 0.3049436880563497, 0.44138861423703624, -0.20528713856566136, -0.7570614580837844, 1.7845617333316954, 0.2941229609186484, 1.3690812570809878, -0.05079576879906741, 1.0477237810425597, -1.339451693977425, 1.0788780172679253, 1.9385475323391281, -0.7121062713430775, 1.642429503611656, 0.6947864535012566, -0.5302665281980049, 0.7575221774092812, -1.5314018780942285, 0.9778155631043197, 1.0158153413130238, 1.4682205489568387, 0.28226463927372575, 0.697677826377623, 0.5658161799325903, -0.5253519002897766, -0.5970290526545614, -0.7459136185729337, -0.11267071355998802, -0.47312923778026433, 2.2359269385734133, 0.22847947959073348, 0.9388799026195135, -0.11903523962015843, -1.7486224017365364, 0.33648849116092194, -0.4418884183227688, -1.0289694052668623, 0.11685715081354897, -1.0853115995134064, -0.7737247922457348, -0.18719483243941543, 1.8035625576305088, -0.4434056930273342, 0.9130516530940805, -1.0462157322010581, -0.011023917936309642, 0.2747394646216463, 0.12432810131286895, 1.5398474520713819, 1.2664948567377068, 1.069592857295506, -0.6106061720265551, 1.4188978795330267, -0.08254929835706407, 0.0848936794790966, 1.1567468286988167, 0.5128939311875526, 0.2783955292540215, -1.8482262148260062, -0.3732685686845318, 0.9450082135561825, 1.5199188969908948, -1.7584730339833166, -0.975520542632561, -0.2679417652656878, 0.25819195285435254, -0.6908430289541013, -1.0826307066480867, 0.7184049548065112, 1.1224951612897176, 0.9230782244265155, 1.449241212739982, -1.0251011192519417, 1.143071988649807, -0.45802657720611467, -0.9601771135828424, -1.2319905415425854, 1.3347431234247218, 1.6522536688357146, -0.8512062789349891, 0.7576839342501829, -1.2528006446028976, 1.3542360949670942, 0.3454602683138546, 0.7545130229720501, 0.2558963684137531, -2.0332833516080533, -0.44567402359846436, 2.6228740067529825, 2.8711381625116617, -0.005712413187787785, -0.4267549415352209, -0.9129338150576033, 0.9880204669489722, 0.20156350296632106, -0.23953414816758475, 0.9697173046570664, -1.330784319642086, -0.5205197172475784]}, {\"boxpoints\": false, \"line\": {\"width\": 1.3}, \"marker\": {\"color\": \"rgba(128, 0, 128, 1.0)\"}, \"name\": \"D\", \"orientation\": \"v\", \"type\": \"box\", \"y\": [0.15819227098722033, -0.20838612550620814, -0.8226142957144436, 0.9560447621677909, 0.27052253045962205, 0.8200525191384015, -0.5246990944281539, -1.2975274377223307, -0.7922911464415296, -0.3710687148635587, 1.2155318104663961, -0.00946663181537825, -0.6252945968173849, -0.06671455685440172, 1.1789732481171717, -1.5137939342754252, -0.3662175818542943, -0.6126577175429145, -0.10128941729010403, 0.8718167545755164, 1.1149996160957694, -0.8423701433651831, -0.6800790170902561, 0.42639474601243627, 0.251523764899969, -0.8659066777009436, 0.4229581393137417, 0.6526800404802042, -0.5545251497049041, 0.9986058454032798, -0.3082976634730784, 1.8532416207371785, -0.8839217600144291, -0.06556969999793383, -0.49851512053638725, -1.1602766032657377, 0.8699746653506601, -0.7741938736269718, 0.24543811171573388, 0.9111001057521537, -0.21131714756348827, -0.49982184469096674, 0.060897682863460215, 0.48822674149408035, -0.020306533167304037, 1.0767705148158597, 0.1664801385084698, 0.7150093977610442, -1.421034825740538, 1.907153346356637, 1.2447765217369882, 2.111747443098467, 2.4488733928892223, -3.2314456687886097, -0.5379476847464684, 1.046133803256443, 0.6373990785663881, 1.4331475496012005, 0.14920001336697875, 0.6883720706856165, 0.8336504444043047, -0.1967798210239832, 0.3837696075283908, -0.1985591357871106, -1.1662344851690605, -0.9803354423467238, -0.7443830937865075, -1.8957978032294063, 0.931495160078685, -0.2644743718545935, -0.22464338006883158, 0.03752545714300439, -1.2391027208583643, -1.11592894637276, -0.06941410935670562, 0.31871680448372824, 0.5019666333781165, -0.15849234322605066, -0.4818060572577569, -1.880201256826168, 0.1023978395750562, 0.40156381324902174, 1.5288944591079592, -0.38799929603879246, -0.01946874461156755, 0.2196663607578247, -1.0251593532367242, -1.4626473425094721, -1.0030863879845482, 0.4569701502836065, -0.08662094746684243, -1.0327558149805045, 0.9842045640263896, -0.4348516430457228, -0.9497338011348774, -0.028470776481635846, -1.0339530205920409, 1.0658006804824647, -0.24150122682259062, 1.439589652810136]}],                        {\"legend\": {\"bgcolor\": \"#F5F6F9\", \"font\": {\"color\": \"#4D5663\"}}, \"paper_bgcolor\": \"#F5F6F9\", \"plot_bgcolor\": \"#F5F6F9\", \"template\": {\"data\": {\"bar\": [{\"error_x\": {\"color\": \"#2a3f5f\"}, \"error_y\": {\"color\": \"#2a3f5f\"}, \"marker\": {\"line\": {\"color\": \"#E5ECF6\", \"width\": 0.5}}, \"type\": \"bar\"}], \"barpolar\": [{\"marker\": {\"line\": {\"color\": \"#E5ECF6\", \"width\": 0.5}}, \"type\": \"barpolar\"}], \"carpet\": [{\"aaxis\": {\"endlinecolor\": \"#2a3f5f\", \"gridcolor\": \"white\", \"linecolor\": \"white\", \"minorgridcolor\": \"white\", \"startlinecolor\": \"#2a3f5f\"}, \"baxis\": {\"endlinecolor\": \"#2a3f5f\", \"gridcolor\": \"white\", \"linecolor\": \"white\", \"minorgridcolor\": \"white\", \"startlinecolor\": \"#2a3f5f\"}, \"type\": \"carpet\"}], \"choropleth\": [{\"colorbar\": {\"outlinewidth\": 0, \"ticks\": \"\"}, \"type\": \"choropleth\"}], \"contour\": [{\"colorbar\": {\"outlinewidth\": 0, \"ticks\": \"\"}, \"colorscale\": [[0.0, \"#0d0887\"], [0.1111111111111111, \"#46039f\"], [0.2222222222222222, \"#7201a8\"], [0.3333333333333333, \"#9c179e\"], [0.4444444444444444, \"#bd3786\"], [0.5555555555555556, \"#d8576b\"], [0.6666666666666666, \"#ed7953\"], [0.7777777777777778, \"#fb9f3a\"], [0.8888888888888888, \"#fdca26\"], [1.0, \"#f0f921\"]], \"type\": \"contour\"}], \"contourcarpet\": [{\"colorbar\": {\"outlinewidth\": 0, \"ticks\": \"\"}, \"type\": \"contourcarpet\"}], \"heatmap\": [{\"colorbar\": {\"outlinewidth\": 0, \"ticks\": \"\"}, \"colorscale\": [[0.0, \"#0d0887\"], [0.1111111111111111, \"#46039f\"], [0.2222222222222222, \"#7201a8\"], [0.3333333333333333, \"#9c179e\"], [0.4444444444444444, \"#bd3786\"], [0.5555555555555556, \"#d8576b\"], [0.6666666666666666, \"#ed7953\"], [0.7777777777777778, \"#fb9f3a\"], [0.8888888888888888, \"#fdca26\"], [1.0, \"#f0f921\"]], \"type\": \"heatmap\"}], \"heatmapgl\": [{\"colorbar\": {\"outlinewidth\": 0, \"ticks\": \"\"}, \"colorscale\": [[0.0, \"#0d0887\"], [0.1111111111111111, \"#46039f\"], [0.2222222222222222, \"#7201a8\"], [0.3333333333333333, \"#9c179e\"], [0.4444444444444444, \"#bd3786\"], [0.5555555555555556, \"#d8576b\"], [0.6666666666666666, \"#ed7953\"], [0.7777777777777778, \"#fb9f3a\"], [0.8888888888888888, \"#fdca26\"], [1.0, \"#f0f921\"]], \"type\": \"heatmapgl\"}], \"histogram\": [{\"marker\": {\"colorbar\": {\"outlinewidth\": 0, \"ticks\": \"\"}}, \"type\": \"histogram\"}], \"histogram2d\": [{\"colorbar\": {\"outlinewidth\": 0, \"ticks\": \"\"}, \"colorscale\": [[0.0, \"#0d0887\"], [0.1111111111111111, \"#46039f\"], [0.2222222222222222, \"#7201a8\"], [0.3333333333333333, \"#9c179e\"], [0.4444444444444444, \"#bd3786\"], [0.5555555555555556, \"#d8576b\"], [0.6666666666666666, \"#ed7953\"], [0.7777777777777778, \"#fb9f3a\"], [0.8888888888888888, \"#fdca26\"], [1.0, \"#f0f921\"]], \"type\": \"histogram2d\"}], \"histogram2dcontour\": [{\"colorbar\": {\"outlinewidth\": 0, \"ticks\": \"\"}, \"colorscale\": [[0.0, \"#0d0887\"], [0.1111111111111111, \"#46039f\"], [0.2222222222222222, \"#7201a8\"], [0.3333333333333333, \"#9c179e\"], [0.4444444444444444, \"#bd3786\"], [0.5555555555555556, \"#d8576b\"], [0.6666666666666666, \"#ed7953\"], [0.7777777777777778, \"#fb9f3a\"], [0.8888888888888888, \"#fdca26\"], [1.0, \"#f0f921\"]], \"type\": \"histogram2dcontour\"}], \"mesh3d\": [{\"colorbar\": {\"outlinewidth\": 0, \"ticks\": \"\"}, \"type\": \"mesh3d\"}], \"parcoords\": [{\"line\": {\"colorbar\": {\"outlinewidth\": 0, \"ticks\": \"\"}}, \"type\": \"parcoords\"}], \"pie\": [{\"automargin\": true, \"type\": \"pie\"}], \"scatter\": [{\"marker\": {\"colorbar\": {\"outlinewidth\": 0, \"ticks\": \"\"}}, \"type\": \"scatter\"}], \"scatter3d\": [{\"line\": {\"colorbar\": {\"outlinewidth\": 0, \"ticks\": \"\"}}, \"marker\": {\"colorbar\": {\"outlinewidth\": 0, \"ticks\": \"\"}}, \"type\": \"scatter3d\"}], \"scattercarpet\": [{\"marker\": {\"colorbar\": {\"outlinewidth\": 0, \"ticks\": \"\"}}, \"type\": \"scattercarpet\"}], \"scattergeo\": [{\"marker\": {\"colorbar\": {\"outlinewidth\": 0, \"ticks\": \"\"}}, \"type\": \"scattergeo\"}], \"scattergl\": [{\"marker\": {\"colorbar\": {\"outlinewidth\": 0, \"ticks\": \"\"}}, \"type\": \"scattergl\"}], \"scattermapbox\": [{\"marker\": {\"colorbar\": {\"outlinewidth\": 0, \"ticks\": \"\"}}, \"type\": \"scattermapbox\"}], \"scatterpolar\": [{\"marker\": {\"colorbar\": {\"outlinewidth\": 0, \"ticks\": \"\"}}, \"type\": \"scatterpolar\"}], \"scatterpolargl\": [{\"marker\": {\"colorbar\": {\"outlinewidth\": 0, \"ticks\": \"\"}}, \"type\": \"scatterpolargl\"}], \"scatterternary\": [{\"marker\": {\"colorbar\": {\"outlinewidth\": 0, \"ticks\": \"\"}}, \"type\": \"scatterternary\"}], \"surface\": [{\"colorbar\": {\"outlinewidth\": 0, \"ticks\": \"\"}, \"colorscale\": [[0.0, \"#0d0887\"], [0.1111111111111111, \"#46039f\"], [0.2222222222222222, \"#7201a8\"], [0.3333333333333333, \"#9c179e\"], [0.4444444444444444, \"#bd3786\"], [0.5555555555555556, \"#d8576b\"], [0.6666666666666666, \"#ed7953\"], [0.7777777777777778, \"#fb9f3a\"], [0.8888888888888888, \"#fdca26\"], [1.0, \"#f0f921\"]], \"type\": \"surface\"}], \"table\": [{\"cells\": {\"fill\": {\"color\": \"#EBF0F8\"}, \"line\": {\"color\": \"white\"}}, \"header\": {\"fill\": {\"color\": \"#C8D4E3\"}, \"line\": {\"color\": \"white\"}}, \"type\": \"table\"}]}, \"layout\": {\"annotationdefaults\": {\"arrowcolor\": \"#2a3f5f\", \"arrowhead\": 0, \"arrowwidth\": 1}, \"coloraxis\": {\"colorbar\": {\"outlinewidth\": 0, \"ticks\": \"\"}}, \"colorscale\": {\"diverging\": [[0, \"#8e0152\"], [0.1, \"#c51b7d\"], [0.2, \"#de77ae\"], [0.3, \"#f1b6da\"], [0.4, \"#fde0ef\"], [0.5, \"#f7f7f7\"], [0.6, \"#e6f5d0\"], [0.7, \"#b8e186\"], [0.8, \"#7fbc41\"], [0.9, \"#4d9221\"], [1, \"#276419\"]], \"sequential\": [[0.0, \"#0d0887\"], [0.1111111111111111, \"#46039f\"], [0.2222222222222222, \"#7201a8\"], [0.3333333333333333, \"#9c179e\"], [0.4444444444444444, \"#bd3786\"], [0.5555555555555556, \"#d8576b\"], [0.6666666666666666, \"#ed7953\"], [0.7777777777777778, \"#fb9f3a\"], [0.8888888888888888, \"#fdca26\"], [1.0, \"#f0f921\"]], \"sequentialminus\": [[0.0, \"#0d0887\"], [0.1111111111111111, \"#46039f\"], [0.2222222222222222, \"#7201a8\"], [0.3333333333333333, \"#9c179e\"], [0.4444444444444444, \"#bd3786\"], [0.5555555555555556, \"#d8576b\"], [0.6666666666666666, \"#ed7953\"], [0.7777777777777778, \"#fb9f3a\"], [0.8888888888888888, \"#fdca26\"], [1.0, \"#f0f921\"]]}, \"colorway\": [\"#636efa\", \"#EF553B\", \"#00cc96\", \"#ab63fa\", \"#FFA15A\", \"#19d3f3\", \"#FF6692\", \"#B6E880\", \"#FF97FF\", \"#FECB52\"], \"font\": {\"color\": \"#2a3f5f\"}, \"geo\": {\"bgcolor\": \"white\", \"lakecolor\": \"white\", \"landcolor\": \"#E5ECF6\", \"showlakes\": true, \"showland\": true, \"subunitcolor\": \"white\"}, \"hoverlabel\": {\"align\": \"left\"}, \"hovermode\": \"closest\", \"mapbox\": {\"style\": \"light\"}, \"paper_bgcolor\": \"white\", \"plot_bgcolor\": \"#E5ECF6\", \"polar\": {\"angularaxis\": {\"gridcolor\": \"white\", \"linecolor\": \"white\", \"ticks\": \"\"}, \"bgcolor\": \"#E5ECF6\", \"radialaxis\": {\"gridcolor\": \"white\", \"linecolor\": \"white\", \"ticks\": \"\"}}, \"scene\": {\"xaxis\": {\"backgroundcolor\": \"#E5ECF6\", \"gridcolor\": \"white\", \"gridwidth\": 2, \"linecolor\": \"white\", \"showbackground\": true, \"ticks\": \"\", \"zerolinecolor\": \"white\"}, \"yaxis\": {\"backgroundcolor\": \"#E5ECF6\", \"gridcolor\": \"white\", \"gridwidth\": 2, \"linecolor\": \"white\", \"showbackground\": true, \"ticks\": \"\", \"zerolinecolor\": \"white\"}, \"zaxis\": {\"backgroundcolor\": \"#E5ECF6\", \"gridcolor\": \"white\", \"gridwidth\": 2, \"linecolor\": \"white\", \"showbackground\": true, \"ticks\": \"\", \"zerolinecolor\": \"white\"}}, \"shapedefaults\": {\"line\": {\"color\": \"#2a3f5f\"}}, \"ternary\": {\"aaxis\": {\"gridcolor\": \"white\", \"linecolor\": \"white\", \"ticks\": \"\"}, \"baxis\": {\"gridcolor\": \"white\", \"linecolor\": \"white\", \"ticks\": \"\"}, \"bgcolor\": \"#E5ECF6\", \"caxis\": {\"gridcolor\": \"white\", \"linecolor\": \"white\", \"ticks\": \"\"}}, \"title\": {\"x\": 0.05}, \"xaxis\": {\"automargin\": true, \"gridcolor\": \"white\", \"linecolor\": \"white\", \"ticks\": \"\", \"title\": {\"standoff\": 15}, \"zerolinecolor\": \"white\", \"zerolinewidth\": 2}, \"yaxis\": {\"automargin\": true, \"gridcolor\": \"white\", \"linecolor\": \"white\", \"ticks\": \"\", \"title\": {\"standoff\": 15}, \"zerolinecolor\": \"white\", \"zerolinewidth\": 2}}}, \"title\": {\"font\": {\"color\": \"#4D5663\"}}, \"xaxis\": {\"gridcolor\": \"#E1E5ED\", \"showgrid\": true, \"tickfont\": {\"color\": \"#4D5663\"}, \"title\": {\"font\": {\"color\": \"#4D5663\"}, \"text\": \"\"}, \"zerolinecolor\": \"#E1E5ED\"}, \"yaxis\": {\"gridcolor\": \"#E1E5ED\", \"showgrid\": true, \"tickfont\": {\"color\": \"#4D5663\"}, \"title\": {\"font\": {\"color\": \"#4D5663\"}, \"text\": \"\"}, \"zerolinecolor\": \"#E1E5ED\"}},                        {\"showLink\": true, \"linkText\": \"Export to plot.ly\", \"plotlyServerURL\": \"https://plot.ly\", \"responsive\": true}                    ).then(function(){\n",
       "                            \n",
       "var gd = document.getElementById('1b5e4e12-0cc0-42f8-ae73-9cf2c70533fb');\n",
       "var x = new MutationObserver(function (mutations, observer) {{\n",
       "        var display = window.getComputedStyle(gd).display;\n",
       "        if (!display || display === 'none') {{\n",
       "            console.log([gd, 'removed!']);\n",
       "            Plotly.purge(gd);\n",
       "            observer.disconnect();\n",
       "        }}\n",
       "}});\n",
       "\n",
       "// Listen for the removal of the full notebook cells\n",
       "var notebookContainer = gd.closest('#notebook-container');\n",
       "if (notebookContainer) {{\n",
       "    x.observe(notebookContainer, {childList: true});\n",
       "}}\n",
       "\n",
       "// Listen for the clearing of the current output cell\n",
       "var outputEl = gd.closest('.output');\n",
       "if (outputEl) {{\n",
       "    x.observe(outputEl, {childList: true});\n",
       "}}\n",
       "\n",
       "                        })                };                });            </script>        </div>"
      ]
     },
     "metadata": {},
     "output_type": "display_data"
    }
   ],
   "source": [
    "df.iplot(kind='box')"
   ]
  },
  {
   "cell_type": "markdown",
   "metadata": {},
   "source": [
    "## 3d Surface"
   ]
  },
  {
   "cell_type": "code",
   "execution_count": 14,
   "metadata": {},
   "outputs": [
    {
     "data": {
      "application/vnd.plotly.v1+json": {
       "config": {
        "linkText": "Export to plot.ly",
        "plotlyServerURL": "https://plot.ly",
        "showLink": true
       },
       "data": [
        {
         "colorscale": [
          [
           0,
           "rgb(165,0,38)"
          ],
          [
           0.1,
           "rgb(215,48,39)"
          ],
          [
           0.2,
           "rgb(244,109,67)"
          ],
          [
           0.3,
           "rgb(253,174,97)"
          ],
          [
           0.4,
           "rgb(254,224,144)"
          ],
          [
           0.5,
           "rgb(255,255,191)"
          ],
          [
           0.6,
           "rgb(224,243,248)"
          ],
          [
           0.7,
           "rgb(171,217,233)"
          ],
          [
           0.8,
           "rgb(116,173,209)"
          ],
          [
           0.9,
           "rgb(69,117,180)"
          ],
          [
           1,
           "rgb(49,54,149)"
          ]
         ],
         "type": "surface",
         "x": [
          0,
          1,
          2,
          3,
          4
         ],
         "y": [
          "x",
          "y",
          "z"
         ],
         "z": [
          [
           1,
           2,
           3,
           4,
           5
          ],
          [
           10,
           20,
           30,
           20,
           10
          ],
          [
           5,
           4,
           3,
           2,
           1
          ]
         ]
        }
       ],
       "layout": {
        "legend": {
         "bgcolor": "#F5F6F9",
         "font": {
          "color": "#4D5663"
         }
        },
        "paper_bgcolor": "#F5F6F9",
        "plot_bgcolor": "#F5F6F9",
        "template": {
         "data": {
          "bar": [
           {
            "error_x": {
             "color": "#2a3f5f"
            },
            "error_y": {
             "color": "#2a3f5f"
            },
            "marker": {
             "line": {
              "color": "#E5ECF6",
              "width": 0.5
             }
            },
            "type": "bar"
           }
          ],
          "barpolar": [
           {
            "marker": {
             "line": {
              "color": "#E5ECF6",
              "width": 0.5
             }
            },
            "type": "barpolar"
           }
          ],
          "carpet": [
           {
            "aaxis": {
             "endlinecolor": "#2a3f5f",
             "gridcolor": "white",
             "linecolor": "white",
             "minorgridcolor": "white",
             "startlinecolor": "#2a3f5f"
            },
            "baxis": {
             "endlinecolor": "#2a3f5f",
             "gridcolor": "white",
             "linecolor": "white",
             "minorgridcolor": "white",
             "startlinecolor": "#2a3f5f"
            },
            "type": "carpet"
           }
          ],
          "choropleth": [
           {
            "colorbar": {
             "outlinewidth": 0,
             "ticks": ""
            },
            "type": "choropleth"
           }
          ],
          "contour": [
           {
            "colorbar": {
             "outlinewidth": 0,
             "ticks": ""
            },
            "colorscale": [
             [
              0,
              "#0d0887"
             ],
             [
              0.1111111111111111,
              "#46039f"
             ],
             [
              0.2222222222222222,
              "#7201a8"
             ],
             [
              0.3333333333333333,
              "#9c179e"
             ],
             [
              0.4444444444444444,
              "#bd3786"
             ],
             [
              0.5555555555555556,
              "#d8576b"
             ],
             [
              0.6666666666666666,
              "#ed7953"
             ],
             [
              0.7777777777777778,
              "#fb9f3a"
             ],
             [
              0.8888888888888888,
              "#fdca26"
             ],
             [
              1,
              "#f0f921"
             ]
            ],
            "type": "contour"
           }
          ],
          "contourcarpet": [
           {
            "colorbar": {
             "outlinewidth": 0,
             "ticks": ""
            },
            "type": "contourcarpet"
           }
          ],
          "heatmap": [
           {
            "colorbar": {
             "outlinewidth": 0,
             "ticks": ""
            },
            "colorscale": [
             [
              0,
              "#0d0887"
             ],
             [
              0.1111111111111111,
              "#46039f"
             ],
             [
              0.2222222222222222,
              "#7201a8"
             ],
             [
              0.3333333333333333,
              "#9c179e"
             ],
             [
              0.4444444444444444,
              "#bd3786"
             ],
             [
              0.5555555555555556,
              "#d8576b"
             ],
             [
              0.6666666666666666,
              "#ed7953"
             ],
             [
              0.7777777777777778,
              "#fb9f3a"
             ],
             [
              0.8888888888888888,
              "#fdca26"
             ],
             [
              1,
              "#f0f921"
             ]
            ],
            "type": "heatmap"
           }
          ],
          "heatmapgl": [
           {
            "colorbar": {
             "outlinewidth": 0,
             "ticks": ""
            },
            "colorscale": [
             [
              0,
              "#0d0887"
             ],
             [
              0.1111111111111111,
              "#46039f"
             ],
             [
              0.2222222222222222,
              "#7201a8"
             ],
             [
              0.3333333333333333,
              "#9c179e"
             ],
             [
              0.4444444444444444,
              "#bd3786"
             ],
             [
              0.5555555555555556,
              "#d8576b"
             ],
             [
              0.6666666666666666,
              "#ed7953"
             ],
             [
              0.7777777777777778,
              "#fb9f3a"
             ],
             [
              0.8888888888888888,
              "#fdca26"
             ],
             [
              1,
              "#f0f921"
             ]
            ],
            "type": "heatmapgl"
           }
          ],
          "histogram": [
           {
            "marker": {
             "colorbar": {
              "outlinewidth": 0,
              "ticks": ""
             }
            },
            "type": "histogram"
           }
          ],
          "histogram2d": [
           {
            "colorbar": {
             "outlinewidth": 0,
             "ticks": ""
            },
            "colorscale": [
             [
              0,
              "#0d0887"
             ],
             [
              0.1111111111111111,
              "#46039f"
             ],
             [
              0.2222222222222222,
              "#7201a8"
             ],
             [
              0.3333333333333333,
              "#9c179e"
             ],
             [
              0.4444444444444444,
              "#bd3786"
             ],
             [
              0.5555555555555556,
              "#d8576b"
             ],
             [
              0.6666666666666666,
              "#ed7953"
             ],
             [
              0.7777777777777778,
              "#fb9f3a"
             ],
             [
              0.8888888888888888,
              "#fdca26"
             ],
             [
              1,
              "#f0f921"
             ]
            ],
            "type": "histogram2d"
           }
          ],
          "histogram2dcontour": [
           {
            "colorbar": {
             "outlinewidth": 0,
             "ticks": ""
            },
            "colorscale": [
             [
              0,
              "#0d0887"
             ],
             [
              0.1111111111111111,
              "#46039f"
             ],
             [
              0.2222222222222222,
              "#7201a8"
             ],
             [
              0.3333333333333333,
              "#9c179e"
             ],
             [
              0.4444444444444444,
              "#bd3786"
             ],
             [
              0.5555555555555556,
              "#d8576b"
             ],
             [
              0.6666666666666666,
              "#ed7953"
             ],
             [
              0.7777777777777778,
              "#fb9f3a"
             ],
             [
              0.8888888888888888,
              "#fdca26"
             ],
             [
              1,
              "#f0f921"
             ]
            ],
            "type": "histogram2dcontour"
           }
          ],
          "mesh3d": [
           {
            "colorbar": {
             "outlinewidth": 0,
             "ticks": ""
            },
            "type": "mesh3d"
           }
          ],
          "parcoords": [
           {
            "line": {
             "colorbar": {
              "outlinewidth": 0,
              "ticks": ""
             }
            },
            "type": "parcoords"
           }
          ],
          "pie": [
           {
            "automargin": true,
            "type": "pie"
           }
          ],
          "scatter": [
           {
            "marker": {
             "colorbar": {
              "outlinewidth": 0,
              "ticks": ""
             }
            },
            "type": "scatter"
           }
          ],
          "scatter3d": [
           {
            "line": {
             "colorbar": {
              "outlinewidth": 0,
              "ticks": ""
             }
            },
            "marker": {
             "colorbar": {
              "outlinewidth": 0,
              "ticks": ""
             }
            },
            "type": "scatter3d"
           }
          ],
          "scattercarpet": [
           {
            "marker": {
             "colorbar": {
              "outlinewidth": 0,
              "ticks": ""
             }
            },
            "type": "scattercarpet"
           }
          ],
          "scattergeo": [
           {
            "marker": {
             "colorbar": {
              "outlinewidth": 0,
              "ticks": ""
             }
            },
            "type": "scattergeo"
           }
          ],
          "scattergl": [
           {
            "marker": {
             "colorbar": {
              "outlinewidth": 0,
              "ticks": ""
             }
            },
            "type": "scattergl"
           }
          ],
          "scattermapbox": [
           {
            "marker": {
             "colorbar": {
              "outlinewidth": 0,
              "ticks": ""
             }
            },
            "type": "scattermapbox"
           }
          ],
          "scatterpolar": [
           {
            "marker": {
             "colorbar": {
              "outlinewidth": 0,
              "ticks": ""
             }
            },
            "type": "scatterpolar"
           }
          ],
          "scatterpolargl": [
           {
            "marker": {
             "colorbar": {
              "outlinewidth": 0,
              "ticks": ""
             }
            },
            "type": "scatterpolargl"
           }
          ],
          "scatterternary": [
           {
            "marker": {
             "colorbar": {
              "outlinewidth": 0,
              "ticks": ""
             }
            },
            "type": "scatterternary"
           }
          ],
          "surface": [
           {
            "colorbar": {
             "outlinewidth": 0,
             "ticks": ""
            },
            "colorscale": [
             [
              0,
              "#0d0887"
             ],
             [
              0.1111111111111111,
              "#46039f"
             ],
             [
              0.2222222222222222,
              "#7201a8"
             ],
             [
              0.3333333333333333,
              "#9c179e"
             ],
             [
              0.4444444444444444,
              "#bd3786"
             ],
             [
              0.5555555555555556,
              "#d8576b"
             ],
             [
              0.6666666666666666,
              "#ed7953"
             ],
             [
              0.7777777777777778,
              "#fb9f3a"
             ],
             [
              0.8888888888888888,
              "#fdca26"
             ],
             [
              1,
              "#f0f921"
             ]
            ],
            "type": "surface"
           }
          ],
          "table": [
           {
            "cells": {
             "fill": {
              "color": "#EBF0F8"
             },
             "line": {
              "color": "white"
             }
            },
            "header": {
             "fill": {
              "color": "#C8D4E3"
             },
             "line": {
              "color": "white"
             }
            },
            "type": "table"
           }
          ]
         },
         "layout": {
          "annotationdefaults": {
           "arrowcolor": "#2a3f5f",
           "arrowhead": 0,
           "arrowwidth": 1
          },
          "coloraxis": {
           "colorbar": {
            "outlinewidth": 0,
            "ticks": ""
           }
          },
          "colorscale": {
           "diverging": [
            [
             0,
             "#8e0152"
            ],
            [
             0.1,
             "#c51b7d"
            ],
            [
             0.2,
             "#de77ae"
            ],
            [
             0.3,
             "#f1b6da"
            ],
            [
             0.4,
             "#fde0ef"
            ],
            [
             0.5,
             "#f7f7f7"
            ],
            [
             0.6,
             "#e6f5d0"
            ],
            [
             0.7,
             "#b8e186"
            ],
            [
             0.8,
             "#7fbc41"
            ],
            [
             0.9,
             "#4d9221"
            ],
            [
             1,
             "#276419"
            ]
           ],
           "sequential": [
            [
             0,
             "#0d0887"
            ],
            [
             0.1111111111111111,
             "#46039f"
            ],
            [
             0.2222222222222222,
             "#7201a8"
            ],
            [
             0.3333333333333333,
             "#9c179e"
            ],
            [
             0.4444444444444444,
             "#bd3786"
            ],
            [
             0.5555555555555556,
             "#d8576b"
            ],
            [
             0.6666666666666666,
             "#ed7953"
            ],
            [
             0.7777777777777778,
             "#fb9f3a"
            ],
            [
             0.8888888888888888,
             "#fdca26"
            ],
            [
             1,
             "#f0f921"
            ]
           ],
           "sequentialminus": [
            [
             0,
             "#0d0887"
            ],
            [
             0.1111111111111111,
             "#46039f"
            ],
            [
             0.2222222222222222,
             "#7201a8"
            ],
            [
             0.3333333333333333,
             "#9c179e"
            ],
            [
             0.4444444444444444,
             "#bd3786"
            ],
            [
             0.5555555555555556,
             "#d8576b"
            ],
            [
             0.6666666666666666,
             "#ed7953"
            ],
            [
             0.7777777777777778,
             "#fb9f3a"
            ],
            [
             0.8888888888888888,
             "#fdca26"
            ],
            [
             1,
             "#f0f921"
            ]
           ]
          },
          "colorway": [
           "#636efa",
           "#EF553B",
           "#00cc96",
           "#ab63fa",
           "#FFA15A",
           "#19d3f3",
           "#FF6692",
           "#B6E880",
           "#FF97FF",
           "#FECB52"
          ],
          "font": {
           "color": "#2a3f5f"
          },
          "geo": {
           "bgcolor": "white",
           "lakecolor": "white",
           "landcolor": "#E5ECF6",
           "showlakes": true,
           "showland": true,
           "subunitcolor": "white"
          },
          "hoverlabel": {
           "align": "left"
          },
          "hovermode": "closest",
          "mapbox": {
           "style": "light"
          },
          "paper_bgcolor": "white",
          "plot_bgcolor": "#E5ECF6",
          "polar": {
           "angularaxis": {
            "gridcolor": "white",
            "linecolor": "white",
            "ticks": ""
           },
           "bgcolor": "#E5ECF6",
           "radialaxis": {
            "gridcolor": "white",
            "linecolor": "white",
            "ticks": ""
           }
          },
          "scene": {
           "xaxis": {
            "backgroundcolor": "#E5ECF6",
            "gridcolor": "white",
            "gridwidth": 2,
            "linecolor": "white",
            "showbackground": true,
            "ticks": "",
            "zerolinecolor": "white"
           },
           "yaxis": {
            "backgroundcolor": "#E5ECF6",
            "gridcolor": "white",
            "gridwidth": 2,
            "linecolor": "white",
            "showbackground": true,
            "ticks": "",
            "zerolinecolor": "white"
           },
           "zaxis": {
            "backgroundcolor": "#E5ECF6",
            "gridcolor": "white",
            "gridwidth": 2,
            "linecolor": "white",
            "showbackground": true,
            "ticks": "",
            "zerolinecolor": "white"
           }
          },
          "shapedefaults": {
           "line": {
            "color": "#2a3f5f"
           }
          },
          "ternary": {
           "aaxis": {
            "gridcolor": "white",
            "linecolor": "white",
            "ticks": ""
           },
           "baxis": {
            "gridcolor": "white",
            "linecolor": "white",
            "ticks": ""
           },
           "bgcolor": "#E5ECF6",
           "caxis": {
            "gridcolor": "white",
            "linecolor": "white",
            "ticks": ""
           }
          },
          "title": {
           "x": 0.05
          },
          "xaxis": {
           "automargin": true,
           "gridcolor": "white",
           "linecolor": "white",
           "ticks": "",
           "title": {
            "standoff": 15
           },
           "zerolinecolor": "white",
           "zerolinewidth": 2
          },
          "yaxis": {
           "automargin": true,
           "gridcolor": "white",
           "linecolor": "white",
           "ticks": "",
           "title": {
            "standoff": 15
           },
           "zerolinecolor": "white",
           "zerolinewidth": 2
          }
         }
        },
        "title": {
         "font": {
          "color": "#4D5663"
         }
        },
        "xaxis": {
         "gridcolor": "#E1E5ED",
         "showgrid": true,
         "tickfont": {
          "color": "#4D5663"
         },
         "title": {
          "font": {
           "color": "#4D5663"
          },
          "text": ""
         },
         "zerolinecolor": "#E1E5ED"
        },
        "yaxis": {
         "gridcolor": "#E1E5ED",
         "showgrid": true,
         "tickfont": {
          "color": "#4D5663"
         },
         "title": {
          "font": {
           "color": "#4D5663"
          },
          "text": ""
         },
         "zerolinecolor": "#E1E5ED"
        }
       }
      },
      "text/html": [
       "<div>                            <div id=\"a0a3b057-c4f2-4708-a4c8-25749c767d06\" class=\"plotly-graph-div\" style=\"height:525px; width:100%;\"></div>            <script type=\"text/javascript\">                require([\"plotly\"], function(Plotly) {                    window.PLOTLYENV=window.PLOTLYENV || {};\n",
       "                    window.PLOTLYENV.BASE_URL='https://plot.ly';                                    if (document.getElementById(\"a0a3b057-c4f2-4708-a4c8-25749c767d06\")) {                    Plotly.newPlot(                        \"a0a3b057-c4f2-4708-a4c8-25749c767d06\",                        [{\"colorscale\": [[0.0, \"rgb(165,0,38)\"], [0.1, \"rgb(215,48,39)\"], [0.2, \"rgb(244,109,67)\"], [0.3, \"rgb(253,174,97)\"], [0.4, \"rgb(254,224,144)\"], [0.5, \"rgb(255,255,191)\"], [0.6, \"rgb(224,243,248)\"], [0.7, \"rgb(171,217,233)\"], [0.8, \"rgb(116,173,209)\"], [0.9, \"rgb(69,117,180)\"], [1.0, \"rgb(49,54,149)\"]], \"type\": \"surface\", \"x\": [0, 1, 2, 3, 4], \"y\": [\"x\", \"y\", \"z\"], \"z\": [[1, 2, 3, 4, 5], [10, 20, 30, 20, 10], [5, 4, 3, 2, 1]]}],                        {\"legend\": {\"bgcolor\": \"#F5F6F9\", \"font\": {\"color\": \"#4D5663\"}}, \"paper_bgcolor\": \"#F5F6F9\", \"plot_bgcolor\": \"#F5F6F9\", \"template\": {\"data\": {\"bar\": [{\"error_x\": {\"color\": \"#2a3f5f\"}, \"error_y\": {\"color\": \"#2a3f5f\"}, \"marker\": {\"line\": {\"color\": \"#E5ECF6\", \"width\": 0.5}}, \"type\": \"bar\"}], \"barpolar\": [{\"marker\": {\"line\": {\"color\": \"#E5ECF6\", \"width\": 0.5}}, \"type\": \"barpolar\"}], \"carpet\": [{\"aaxis\": {\"endlinecolor\": \"#2a3f5f\", \"gridcolor\": \"white\", \"linecolor\": \"white\", \"minorgridcolor\": \"white\", \"startlinecolor\": \"#2a3f5f\"}, \"baxis\": {\"endlinecolor\": \"#2a3f5f\", \"gridcolor\": \"white\", \"linecolor\": \"white\", \"minorgridcolor\": \"white\", \"startlinecolor\": \"#2a3f5f\"}, \"type\": \"carpet\"}], \"choropleth\": [{\"colorbar\": {\"outlinewidth\": 0, \"ticks\": \"\"}, \"type\": \"choropleth\"}], \"contour\": [{\"colorbar\": {\"outlinewidth\": 0, \"ticks\": \"\"}, \"colorscale\": [[0.0, \"#0d0887\"], [0.1111111111111111, \"#46039f\"], [0.2222222222222222, \"#7201a8\"], [0.3333333333333333, \"#9c179e\"], [0.4444444444444444, \"#bd3786\"], [0.5555555555555556, \"#d8576b\"], [0.6666666666666666, \"#ed7953\"], [0.7777777777777778, \"#fb9f3a\"], [0.8888888888888888, \"#fdca26\"], [1.0, \"#f0f921\"]], \"type\": \"contour\"}], \"contourcarpet\": [{\"colorbar\": {\"outlinewidth\": 0, \"ticks\": \"\"}, \"type\": \"contourcarpet\"}], \"heatmap\": [{\"colorbar\": {\"outlinewidth\": 0, \"ticks\": \"\"}, \"colorscale\": [[0.0, \"#0d0887\"], [0.1111111111111111, \"#46039f\"], [0.2222222222222222, \"#7201a8\"], [0.3333333333333333, \"#9c179e\"], [0.4444444444444444, \"#bd3786\"], [0.5555555555555556, \"#d8576b\"], [0.6666666666666666, \"#ed7953\"], [0.7777777777777778, \"#fb9f3a\"], [0.8888888888888888, \"#fdca26\"], [1.0, \"#f0f921\"]], \"type\": \"heatmap\"}], \"heatmapgl\": [{\"colorbar\": {\"outlinewidth\": 0, \"ticks\": \"\"}, \"colorscale\": [[0.0, \"#0d0887\"], [0.1111111111111111, \"#46039f\"], [0.2222222222222222, \"#7201a8\"], [0.3333333333333333, \"#9c179e\"], [0.4444444444444444, \"#bd3786\"], [0.5555555555555556, \"#d8576b\"], [0.6666666666666666, \"#ed7953\"], [0.7777777777777778, \"#fb9f3a\"], [0.8888888888888888, \"#fdca26\"], [1.0, \"#f0f921\"]], \"type\": \"heatmapgl\"}], \"histogram\": [{\"marker\": {\"colorbar\": {\"outlinewidth\": 0, \"ticks\": \"\"}}, \"type\": \"histogram\"}], \"histogram2d\": [{\"colorbar\": {\"outlinewidth\": 0, \"ticks\": \"\"}, \"colorscale\": [[0.0, \"#0d0887\"], [0.1111111111111111, \"#46039f\"], [0.2222222222222222, \"#7201a8\"], [0.3333333333333333, \"#9c179e\"], [0.4444444444444444, \"#bd3786\"], [0.5555555555555556, \"#d8576b\"], [0.6666666666666666, \"#ed7953\"], [0.7777777777777778, \"#fb9f3a\"], [0.8888888888888888, \"#fdca26\"], [1.0, \"#f0f921\"]], \"type\": \"histogram2d\"}], \"histogram2dcontour\": [{\"colorbar\": {\"outlinewidth\": 0, \"ticks\": \"\"}, \"colorscale\": [[0.0, \"#0d0887\"], [0.1111111111111111, \"#46039f\"], [0.2222222222222222, \"#7201a8\"], [0.3333333333333333, \"#9c179e\"], [0.4444444444444444, \"#bd3786\"], [0.5555555555555556, \"#d8576b\"], [0.6666666666666666, \"#ed7953\"], [0.7777777777777778, \"#fb9f3a\"], [0.8888888888888888, \"#fdca26\"], [1.0, \"#f0f921\"]], \"type\": \"histogram2dcontour\"}], \"mesh3d\": [{\"colorbar\": {\"outlinewidth\": 0, \"ticks\": \"\"}, \"type\": \"mesh3d\"}], \"parcoords\": [{\"line\": {\"colorbar\": {\"outlinewidth\": 0, \"ticks\": \"\"}}, \"type\": \"parcoords\"}], \"pie\": [{\"automargin\": true, \"type\": \"pie\"}], \"scatter\": [{\"marker\": {\"colorbar\": {\"outlinewidth\": 0, \"ticks\": \"\"}}, \"type\": \"scatter\"}], \"scatter3d\": [{\"line\": {\"colorbar\": {\"outlinewidth\": 0, \"ticks\": \"\"}}, \"marker\": {\"colorbar\": {\"outlinewidth\": 0, \"ticks\": \"\"}}, \"type\": \"scatter3d\"}], \"scattercarpet\": [{\"marker\": {\"colorbar\": {\"outlinewidth\": 0, \"ticks\": \"\"}}, \"type\": \"scattercarpet\"}], \"scattergeo\": [{\"marker\": {\"colorbar\": {\"outlinewidth\": 0, \"ticks\": \"\"}}, \"type\": \"scattergeo\"}], \"scattergl\": [{\"marker\": {\"colorbar\": {\"outlinewidth\": 0, \"ticks\": \"\"}}, \"type\": \"scattergl\"}], \"scattermapbox\": [{\"marker\": {\"colorbar\": {\"outlinewidth\": 0, \"ticks\": \"\"}}, \"type\": \"scattermapbox\"}], \"scatterpolar\": [{\"marker\": {\"colorbar\": {\"outlinewidth\": 0, \"ticks\": \"\"}}, \"type\": \"scatterpolar\"}], \"scatterpolargl\": [{\"marker\": {\"colorbar\": {\"outlinewidth\": 0, \"ticks\": \"\"}}, \"type\": \"scatterpolargl\"}], \"scatterternary\": [{\"marker\": {\"colorbar\": {\"outlinewidth\": 0, \"ticks\": \"\"}}, \"type\": \"scatterternary\"}], \"surface\": [{\"colorbar\": {\"outlinewidth\": 0, \"ticks\": \"\"}, \"colorscale\": [[0.0, \"#0d0887\"], [0.1111111111111111, \"#46039f\"], [0.2222222222222222, \"#7201a8\"], [0.3333333333333333, \"#9c179e\"], [0.4444444444444444, \"#bd3786\"], [0.5555555555555556, \"#d8576b\"], [0.6666666666666666, \"#ed7953\"], [0.7777777777777778, \"#fb9f3a\"], [0.8888888888888888, \"#fdca26\"], [1.0, \"#f0f921\"]], \"type\": \"surface\"}], \"table\": [{\"cells\": {\"fill\": {\"color\": \"#EBF0F8\"}, \"line\": {\"color\": \"white\"}}, \"header\": {\"fill\": {\"color\": \"#C8D4E3\"}, \"line\": {\"color\": \"white\"}}, \"type\": \"table\"}]}, \"layout\": {\"annotationdefaults\": {\"arrowcolor\": \"#2a3f5f\", \"arrowhead\": 0, \"arrowwidth\": 1}, \"coloraxis\": {\"colorbar\": {\"outlinewidth\": 0, \"ticks\": \"\"}}, \"colorscale\": {\"diverging\": [[0, \"#8e0152\"], [0.1, \"#c51b7d\"], [0.2, \"#de77ae\"], [0.3, \"#f1b6da\"], [0.4, \"#fde0ef\"], [0.5, \"#f7f7f7\"], [0.6, \"#e6f5d0\"], [0.7, \"#b8e186\"], [0.8, \"#7fbc41\"], [0.9, \"#4d9221\"], [1, \"#276419\"]], \"sequential\": [[0.0, \"#0d0887\"], [0.1111111111111111, \"#46039f\"], [0.2222222222222222, \"#7201a8\"], [0.3333333333333333, \"#9c179e\"], [0.4444444444444444, \"#bd3786\"], [0.5555555555555556, \"#d8576b\"], [0.6666666666666666, \"#ed7953\"], [0.7777777777777778, \"#fb9f3a\"], [0.8888888888888888, \"#fdca26\"], [1.0, \"#f0f921\"]], \"sequentialminus\": [[0.0, \"#0d0887\"], [0.1111111111111111, \"#46039f\"], [0.2222222222222222, \"#7201a8\"], [0.3333333333333333, \"#9c179e\"], [0.4444444444444444, \"#bd3786\"], [0.5555555555555556, \"#d8576b\"], [0.6666666666666666, \"#ed7953\"], [0.7777777777777778, \"#fb9f3a\"], [0.8888888888888888, \"#fdca26\"], [1.0, \"#f0f921\"]]}, \"colorway\": [\"#636efa\", \"#EF553B\", \"#00cc96\", \"#ab63fa\", \"#FFA15A\", \"#19d3f3\", \"#FF6692\", \"#B6E880\", \"#FF97FF\", \"#FECB52\"], \"font\": {\"color\": \"#2a3f5f\"}, \"geo\": {\"bgcolor\": \"white\", \"lakecolor\": \"white\", \"landcolor\": \"#E5ECF6\", \"showlakes\": true, \"showland\": true, \"subunitcolor\": \"white\"}, \"hoverlabel\": {\"align\": \"left\"}, \"hovermode\": \"closest\", \"mapbox\": {\"style\": \"light\"}, \"paper_bgcolor\": \"white\", \"plot_bgcolor\": \"#E5ECF6\", \"polar\": {\"angularaxis\": {\"gridcolor\": \"white\", \"linecolor\": \"white\", \"ticks\": \"\"}, \"bgcolor\": \"#E5ECF6\", \"radialaxis\": {\"gridcolor\": \"white\", \"linecolor\": \"white\", \"ticks\": \"\"}}, \"scene\": {\"xaxis\": {\"backgroundcolor\": \"#E5ECF6\", \"gridcolor\": \"white\", \"gridwidth\": 2, \"linecolor\": \"white\", \"showbackground\": true, \"ticks\": \"\", \"zerolinecolor\": \"white\"}, \"yaxis\": {\"backgroundcolor\": \"#E5ECF6\", \"gridcolor\": \"white\", \"gridwidth\": 2, \"linecolor\": \"white\", \"showbackground\": true, \"ticks\": \"\", \"zerolinecolor\": \"white\"}, \"zaxis\": {\"backgroundcolor\": \"#E5ECF6\", \"gridcolor\": \"white\", \"gridwidth\": 2, \"linecolor\": \"white\", \"showbackground\": true, \"ticks\": \"\", \"zerolinecolor\": \"white\"}}, \"shapedefaults\": {\"line\": {\"color\": \"#2a3f5f\"}}, \"ternary\": {\"aaxis\": {\"gridcolor\": \"white\", \"linecolor\": \"white\", \"ticks\": \"\"}, \"baxis\": {\"gridcolor\": \"white\", \"linecolor\": \"white\", \"ticks\": \"\"}, \"bgcolor\": \"#E5ECF6\", \"caxis\": {\"gridcolor\": \"white\", \"linecolor\": \"white\", \"ticks\": \"\"}}, \"title\": {\"x\": 0.05}, \"xaxis\": {\"automargin\": true, \"gridcolor\": \"white\", \"linecolor\": \"white\", \"ticks\": \"\", \"title\": {\"standoff\": 15}, \"zerolinecolor\": \"white\", \"zerolinewidth\": 2}, \"yaxis\": {\"automargin\": true, \"gridcolor\": \"white\", \"linecolor\": \"white\", \"ticks\": \"\", \"title\": {\"standoff\": 15}, \"zerolinecolor\": \"white\", \"zerolinewidth\": 2}}}, \"title\": {\"font\": {\"color\": \"#4D5663\"}}, \"xaxis\": {\"gridcolor\": \"#E1E5ED\", \"showgrid\": true, \"tickfont\": {\"color\": \"#4D5663\"}, \"title\": {\"font\": {\"color\": \"#4D5663\"}, \"text\": \"\"}, \"zerolinecolor\": \"#E1E5ED\"}, \"yaxis\": {\"gridcolor\": \"#E1E5ED\", \"showgrid\": true, \"tickfont\": {\"color\": \"#4D5663\"}, \"title\": {\"font\": {\"color\": \"#4D5663\"}, \"text\": \"\"}, \"zerolinecolor\": \"#E1E5ED\"}},                        {\"showLink\": true, \"linkText\": \"Export to plot.ly\", \"plotlyServerURL\": \"https://plot.ly\", \"responsive\": true}                    ).then(function(){\n",
       "                            \n",
       "var gd = document.getElementById('a0a3b057-c4f2-4708-a4c8-25749c767d06');\n",
       "var x = new MutationObserver(function (mutations, observer) {{\n",
       "        var display = window.getComputedStyle(gd).display;\n",
       "        if (!display || display === 'none') {{\n",
       "            console.log([gd, 'removed!']);\n",
       "            Plotly.purge(gd);\n",
       "            observer.disconnect();\n",
       "        }}\n",
       "}});\n",
       "\n",
       "// Listen for the removal of the full notebook cells\n",
       "var notebookContainer = gd.closest('#notebook-container');\n",
       "if (notebookContainer) {{\n",
       "    x.observe(notebookContainer, {childList: true});\n",
       "}}\n",
       "\n",
       "// Listen for the clearing of the current output cell\n",
       "var outputEl = gd.closest('.output');\n",
       "if (outputEl) {{\n",
       "    x.observe(outputEl, {childList: true});\n",
       "}}\n",
       "\n",
       "                        })                };                });            </script>        </div>"
      ]
     },
     "metadata": {},
     "output_type": "display_data"
    }
   ],
   "source": [
    "df3 = pd.DataFrame({'x':[1,2,3,4,5],'y':[10,20,30,20,10],'z':[5,4,3,2,1]})\n",
    "df3.iplot(kind='surface',colorscale='rdylbu')"
   ]
  },
  {
   "cell_type": "markdown",
   "metadata": {},
   "source": [
    "## Spread"
   ]
  },
  {
   "cell_type": "code",
   "execution_count": 15,
   "metadata": {},
   "outputs": [
    {
     "name": "stderr",
     "output_type": "stream",
     "text": [
      "/home/umesh/.local/lib/python3.8/site-packages/cufflinks/plotlytools.py:849: FutureWarning:\n",
      "\n",
      "The pandas.np module is deprecated and will be removed from pandas in a future version. Import numpy directly instead\n",
      "\n",
      "/home/umesh/.local/lib/python3.8/site-packages/cufflinks/plotlytools.py:850: FutureWarning:\n",
      "\n",
      "The pandas.np module is deprecated and will be removed from pandas in a future version. Import numpy directly instead\n",
      "\n"
     ]
    },
    {
     "data": {
      "application/vnd.plotly.v1+json": {
       "config": {
        "linkText": "Export to plot.ly",
        "plotlyServerURL": "https://plot.ly",
        "showLink": true
       },
       "data": [
        {
         "line": {
          "color": "rgba(255, 153, 51, 1.0)",
          "dash": "solid",
          "shape": "linear",
          "width": 1.3
         },
         "mode": "lines",
         "name": "A",
         "text": "",
         "type": "scatter",
         "x": [
          0,
          1,
          2,
          3,
          4,
          5,
          6,
          7,
          8,
          9,
          10,
          11,
          12,
          13,
          14,
          15,
          16,
          17,
          18,
          19,
          20,
          21,
          22,
          23,
          24,
          25,
          26,
          27,
          28,
          29,
          30,
          31,
          32,
          33,
          34,
          35,
          36,
          37,
          38,
          39,
          40,
          41,
          42,
          43,
          44,
          45,
          46,
          47,
          48,
          49,
          50,
          51,
          52,
          53,
          54,
          55,
          56,
          57,
          58,
          59,
          60,
          61,
          62,
          63,
          64,
          65,
          66,
          67,
          68,
          69,
          70,
          71,
          72,
          73,
          74,
          75,
          76,
          77,
          78,
          79,
          80,
          81,
          82,
          83,
          84,
          85,
          86,
          87,
          88,
          89,
          90,
          91,
          92,
          93,
          94,
          95,
          96,
          97,
          98,
          99
         ],
         "y": [
          0.522556105813715,
          0.8366465175888684,
          -0.664603970479962,
          -0.6611168116320768,
          -0.029293198680295153,
          0.630440914253106,
          0.24536832097911143,
          0.5213441943977241,
          -0.6409830943135116,
          -1.2795322536768938,
          1.5529623456032118,
          -2.303638277851841,
          -0.08246423455366149,
          -0.6603240942134286,
          -1.3320172245876538,
          0.27054147790735356,
          -2.3102127601116957,
          -1.180959337349101,
          -1.6620377976952876,
          1.5467169576834783,
          -0.4169363614353314,
          -0.9631554333059279,
          -1.4560511712205557,
          -2.0404767103485617,
          1.9954182190915115,
          0.5205977940769877,
          -0.6707041858894667,
          1.190860114617754,
          0.4236278788802016,
          0.5951909517408043,
          0.0722911467287905,
          -0.8749298041157985,
          0.9194636594323516,
          1.4883038699736955,
          -3.4230147844322922,
          1.1924595949170957,
          1.4008954471598927,
          -1.1151174087094455,
          -1.1995365117501031,
          0.8110171223718338,
          -1.8292495637863746,
          2.0529700474973525,
          -1.3165906845861155,
          1.667125932294143,
          -1.3404983717729393,
          -0.6267318398612008,
          -1.733235590397368,
          -0.7963674104484132,
          -0.8623741759795556,
          -0.7773317335322487,
          -0.47181762470855554,
          0.07716999711133517,
          0.35817988537598444,
          -0.3295384933143855,
          0.6653512574814932,
          -0.4486369697071627,
          0.7099314026754735,
          -0.4542041749256783,
          -0.0746400765540713,
          0.21189666518828398,
          0.8737431149504534,
          0.4858681671093836,
          0.777834053956173,
          1.2796759802166797,
          -0.019325062343936078,
          -0.7744760972835689,
          -0.6060372583098742,
          1.0343304682727885,
          -1.5922954029379874,
          -0.6296209412783041,
          0.5207527208513598,
          -0.8729548116088645,
          -1.2396683909340585,
          -0.5932494118087088,
          0.0032824444979755235,
          0.5378194907114049,
          0.331241280973708,
          -1.278552728158368,
          -0.0995570035566114,
          -0.2453115203777214,
          0.5485210558743719,
          0.21445941172442826,
          -1.2505565269743624,
          -0.7799754350761642,
          1.3686204262485862,
          0.3353102228299381,
          -0.9002585779060629,
          2.1043905766033024,
          -0.6498677108938995,
          0.5634701912298704,
          -1.6338513008111868,
          -0.36347720593876093,
          1.9520757630587742,
          -0.923410126462932,
          1.203474471477271,
          1.1792980741286028,
          0.17293066836863386,
          -1.1796690199363606,
          -2.055002219050221,
          -1.3653009952725936
         ]
        },
        {
         "line": {
          "color": "rgba(55, 128, 191, 1.0)",
          "dash": "solid",
          "shape": "linear",
          "width": 1.3
         },
         "mode": "lines",
         "name": "B",
         "text": "",
         "type": "scatter",
         "x": [
          0,
          1,
          2,
          3,
          4,
          5,
          6,
          7,
          8,
          9,
          10,
          11,
          12,
          13,
          14,
          15,
          16,
          17,
          18,
          19,
          20,
          21,
          22,
          23,
          24,
          25,
          26,
          27,
          28,
          29,
          30,
          31,
          32,
          33,
          34,
          35,
          36,
          37,
          38,
          39,
          40,
          41,
          42,
          43,
          44,
          45,
          46,
          47,
          48,
          49,
          50,
          51,
          52,
          53,
          54,
          55,
          56,
          57,
          58,
          59,
          60,
          61,
          62,
          63,
          64,
          65,
          66,
          67,
          68,
          69,
          70,
          71,
          72,
          73,
          74,
          75,
          76,
          77,
          78,
          79,
          80,
          81,
          82,
          83,
          84,
          85,
          86,
          87,
          88,
          89,
          90,
          91,
          92,
          93,
          94,
          95,
          96,
          97,
          98,
          99
         ],
         "y": [
          -1.0502366155422067,
          -0.021961193335135246,
          -0.5765927169777691,
          2.248965683306026,
          -1.0018182265616553,
          -0.894238683015506,
          0.6460866751885185,
          -1.3115427152492027,
          1.3166852659343116,
          1.926211376247639,
          -0.2922318185022914,
          0.09152608733805903,
          -0.7430556408676412,
          -0.578476852932132,
          0.6642732928180614,
          -1.0057961103352402,
          -0.056384208433620034,
          1.0909053059116434,
          0.4734520127620457,
          -0.02676628959820128,
          -0.22708984983508898,
          0.9741417789799731,
          -1.5145327182874229,
          1.2834117079537986,
          0.6741070591221596,
          0.24083067110312012,
          0.8555734521733575,
          0.6306027272359749,
          1.5763162765394942,
          -0.5958029804768725,
          1.568304227917459,
          0.05975424687522171,
          -1.706261214114887,
          1.7312151731908052,
          -1.7080487887071312,
          -0.43781305829364797,
          0.20921487935513305,
          -2.259297390099242,
          1.218643322819174,
          0.32418168737135344,
          0.6564577271674744,
          -1.0721690985177132,
          -0.6557675467597885,
          -0.12441768390177917,
          0.7006888292110914,
          1.7994324854881514,
          -1.1572248539641468,
          -0.20803654802745664,
          0.12223982689574536,
          0.9016669965242321,
          0.02851091151994256,
          -0.04349225640139199,
          -0.8098781338219512,
          -0.12311448162771756,
          0.9760908000146804,
          -1.0199094785959937,
          -0.4571566426231742,
          1.3938270495469804,
          -0.9199946915318254,
          0.8866663856815331,
          0.3058242139615769,
          -0.45665461339037566,
          -0.5152722731281091,
          0.5113151944185977,
          -1.2122833743218226,
          2.8912100887402654,
          -1.0200521532784588,
          0.29861556578277937,
          -1.82601771971382,
          0.2629590316929113,
          -0.24178830164881776,
          0.734374599908883,
          -0.771622179092258,
          -0.9050560338468139,
          -0.36113285074818186,
          0.6688510578903628,
          -1.4846396280995497,
          0.6829643443929462,
          1.3481232854267218,
          -0.3780301066171847,
          -0.21712034615308187,
          0.23588244120169044,
          0.6797192924255304,
          -0.9562785562071007,
          0.5230709190292472,
          0.8152487481197463,
          -0.2461668611776281,
          0.42057386032266425,
          -1.9427434567661108,
          -0.35009411437483956,
          -0.5247859106616706,
          0.9801017518398779,
          0.21683762267305612,
          0.10109849438698844,
          -0.010736076482799084,
          -0.3068822190517889,
          0.1657544349926027,
          -0.5373922231954307,
          1.9009029986905681,
          0.2860674527087954
         ]
        },
        {
         "connectgaps": false,
         "fill": "tozeroy",
         "line": {
          "color": "green",
          "dash": "solid",
          "shape": "linear",
          "width": 0.5
         },
         "mode": "lines",
         "name": "Spread",
         "showlegend": false,
         "type": "scatter",
         "x": [
          0,
          1,
          2,
          3,
          4,
          5,
          6,
          7,
          8,
          9,
          10,
          11,
          12,
          13,
          14,
          15,
          16,
          17,
          18,
          19,
          20,
          21,
          22,
          23,
          24,
          25,
          26,
          27,
          28,
          29,
          30,
          31,
          32,
          33,
          34,
          35,
          36,
          37,
          38,
          39,
          40,
          41,
          42,
          43,
          44,
          45,
          46,
          47,
          48,
          49,
          50,
          51,
          52,
          53,
          54,
          55,
          56,
          57,
          58,
          59,
          60,
          61,
          62,
          63,
          64,
          65,
          66,
          67,
          68,
          69,
          70,
          71,
          72,
          73,
          74,
          75,
          76,
          77,
          78,
          79,
          80,
          81,
          82,
          83,
          84,
          85,
          86,
          87,
          88,
          89,
          90,
          91,
          92,
          93,
          94,
          95,
          96,
          97,
          98,
          99
         ],
         "xaxis": "x2",
         "y": [
          1.5727927213559219,
          0.8586077109240037,
          "",
          "",
          0.9725250278813602,
          1.524679597268612,
          "",
          1.832886909646927,
          "",
          "",
          1.8451941641055032,
          "",
          0.6605914063139797,
          "",
          "",
          1.2763375882425938,
          "",
          "",
          "",
          1.5734832472816795,
          "",
          "",
          0.058481547066867146,
          "",
          1.321311159969352,
          0.2797671229738676,
          "",
          0.5602573873817791,
          "",
          1.1909939322176768,
          "",
          "",
          2.6257248735472385,
          "",
          "",
          1.6302726532107437,
          1.1916805678047595,
          1.1441799813897964,
          "",
          0.4868354350004803,
          "",
          3.1251391460150657,
          "",
          1.7915436161959222,
          "",
          "",
          "",
          "",
          "",
          "",
          "",
          0.12066225351272716,
          1.1680580191979355,
          "",
          "",
          0.571272508888831,
          1.1670880452986476,
          "",
          0.8453546149777541,
          "",
          0.5679189009888765,
          0.9425227804997592,
          1.2931063270842822,
          0.768360785798082,
          1.1929583119778866,
          "",
          0.41401489496858457,
          0.7357149024900091,
          0.23372231677583266,
          "",
          0.7625410225001776,
          "",
          "",
          0.31180662203810505,
          0.3644152952461574,
          "",
          1.8158809090732577,
          "",
          "",
          0.13271858623946334,
          0.7656414020274538,
          "",
          "",
          0.1763031211309365,
          0.845549507219339,
          "",
          "",
          1.6838167162806381,
          1.2928757458722113,
          0.91356430560471,
          "",
          "",
          1.735238140385718,
          "",
          1.21421054796007,
          1.4861802931803916,
          0.007176233376031155,
          "",
          "",
          ""
         ],
         "yaxis": "y2"
        },
        {
         "connectgaps": false,
         "fill": "tozeroy",
         "line": {
          "color": "red",
          "dash": "solid",
          "shape": "linear",
          "width": 0.5
         },
         "mode": "lines",
         "name": "Spread",
         "showlegend": false,
         "type": "scatter",
         "x": [
          0,
          1,
          2,
          3,
          4,
          5,
          6,
          7,
          8,
          9,
          10,
          11,
          12,
          13,
          14,
          15,
          16,
          17,
          18,
          19,
          20,
          21,
          22,
          23,
          24,
          25,
          26,
          27,
          28,
          29,
          30,
          31,
          32,
          33,
          34,
          35,
          36,
          37,
          38,
          39,
          40,
          41,
          42,
          43,
          44,
          45,
          46,
          47,
          48,
          49,
          50,
          51,
          52,
          53,
          54,
          55,
          56,
          57,
          58,
          59,
          60,
          61,
          62,
          63,
          64,
          65,
          66,
          67,
          68,
          69,
          70,
          71,
          72,
          73,
          74,
          75,
          76,
          77,
          78,
          79,
          80,
          81,
          82,
          83,
          84,
          85,
          86,
          87,
          88,
          89,
          90,
          91,
          92,
          93,
          94,
          95,
          96,
          97,
          98,
          99
         ],
         "xaxis": "x2",
         "y": [
          "",
          "",
          -0.08801125350219285,
          -2.910082494938103,
          "",
          "",
          -0.40071835420940705,
          "",
          -1.957668360247823,
          -3.205743629924533,
          "",
          -2.3951643651899,
          "",
          -0.08184724128129661,
          -1.9962905174057153,
          "",
          -2.2538285516780756,
          -2.271864643260744,
          -2.1354898104573334,
          "",
          -0.18984651160024243,
          -1.937297212285901,
          "",
          -3.32388841830236,
          "",
          "",
          -1.5262776380628242,
          "",
          -1.1526883976592925,
          "",
          -1.4960130811886685,
          -0.9346840509910201,
          "",
          -0.24291130321710974,
          -1.714965995725161,
          "",
          "",
          "",
          -2.418179834569277,
          "",
          -2.485707290953849,
          "",
          -0.660823137826327,
          "",
          -2.0411872009840306,
          -2.4261643253493523,
          -0.5760107364332212,
          -0.5883308624209566,
          -0.984614002875301,
          -1.6789987300564808,
          -0.5003285362284982,
          "",
          "",
          -0.20642401168666796,
          -0.31073954253318725,
          "",
          "",
          -1.8480312244726587,
          "",
          -0.6747697204932491,
          "",
          "",
          "",
          "",
          "",
          -3.6656861860238346,
          "",
          "",
          "",
          -0.8925799729712154,
          "",
          -1.6073294115177474,
          -0.4680462118418004,
          "",
          "",
          -0.13103156717895792,
          "",
          -1.961517072551314,
          -1.4476802889833331,
          "",
          "",
          -0.021423029477262184,
          -1.9302758193998928,
          "",
          "",
          -0.47993852528980824,
          -0.6540917167284348,
          "",
          "",
          "",
          -1.1090653901495162,
          -1.3435789577786388,
          "",
          -1.0245086208499203,
          "",
          "",
          "",
          -0.64227679674093,
          -3.9559052177407894,
          -1.651368447981389
         ],
         "yaxis": "y2"
        }
       ],
       "layout": {
        "hovermode": "x",
        "legend": {
         "bgcolor": "#F5F6F9",
         "font": {
          "color": "#4D5663"
         }
        },
        "paper_bgcolor": "#F5F6F9",
        "plot_bgcolor": "#F5F6F9",
        "template": {
         "data": {
          "bar": [
           {
            "error_x": {
             "color": "#2a3f5f"
            },
            "error_y": {
             "color": "#2a3f5f"
            },
            "marker": {
             "line": {
              "color": "#E5ECF6",
              "width": 0.5
             }
            },
            "type": "bar"
           }
          ],
          "barpolar": [
           {
            "marker": {
             "line": {
              "color": "#E5ECF6",
              "width": 0.5
             }
            },
            "type": "barpolar"
           }
          ],
          "carpet": [
           {
            "aaxis": {
             "endlinecolor": "#2a3f5f",
             "gridcolor": "white",
             "linecolor": "white",
             "minorgridcolor": "white",
             "startlinecolor": "#2a3f5f"
            },
            "baxis": {
             "endlinecolor": "#2a3f5f",
             "gridcolor": "white",
             "linecolor": "white",
             "minorgridcolor": "white",
             "startlinecolor": "#2a3f5f"
            },
            "type": "carpet"
           }
          ],
          "choropleth": [
           {
            "colorbar": {
             "outlinewidth": 0,
             "ticks": ""
            },
            "type": "choropleth"
           }
          ],
          "contour": [
           {
            "colorbar": {
             "outlinewidth": 0,
             "ticks": ""
            },
            "colorscale": [
             [
              0,
              "#0d0887"
             ],
             [
              0.1111111111111111,
              "#46039f"
             ],
             [
              0.2222222222222222,
              "#7201a8"
             ],
             [
              0.3333333333333333,
              "#9c179e"
             ],
             [
              0.4444444444444444,
              "#bd3786"
             ],
             [
              0.5555555555555556,
              "#d8576b"
             ],
             [
              0.6666666666666666,
              "#ed7953"
             ],
             [
              0.7777777777777778,
              "#fb9f3a"
             ],
             [
              0.8888888888888888,
              "#fdca26"
             ],
             [
              1,
              "#f0f921"
             ]
            ],
            "type": "contour"
           }
          ],
          "contourcarpet": [
           {
            "colorbar": {
             "outlinewidth": 0,
             "ticks": ""
            },
            "type": "contourcarpet"
           }
          ],
          "heatmap": [
           {
            "colorbar": {
             "outlinewidth": 0,
             "ticks": ""
            },
            "colorscale": [
             [
              0,
              "#0d0887"
             ],
             [
              0.1111111111111111,
              "#46039f"
             ],
             [
              0.2222222222222222,
              "#7201a8"
             ],
             [
              0.3333333333333333,
              "#9c179e"
             ],
             [
              0.4444444444444444,
              "#bd3786"
             ],
             [
              0.5555555555555556,
              "#d8576b"
             ],
             [
              0.6666666666666666,
              "#ed7953"
             ],
             [
              0.7777777777777778,
              "#fb9f3a"
             ],
             [
              0.8888888888888888,
              "#fdca26"
             ],
             [
              1,
              "#f0f921"
             ]
            ],
            "type": "heatmap"
           }
          ],
          "heatmapgl": [
           {
            "colorbar": {
             "outlinewidth": 0,
             "ticks": ""
            },
            "colorscale": [
             [
              0,
              "#0d0887"
             ],
             [
              0.1111111111111111,
              "#46039f"
             ],
             [
              0.2222222222222222,
              "#7201a8"
             ],
             [
              0.3333333333333333,
              "#9c179e"
             ],
             [
              0.4444444444444444,
              "#bd3786"
             ],
             [
              0.5555555555555556,
              "#d8576b"
             ],
             [
              0.6666666666666666,
              "#ed7953"
             ],
             [
              0.7777777777777778,
              "#fb9f3a"
             ],
             [
              0.8888888888888888,
              "#fdca26"
             ],
             [
              1,
              "#f0f921"
             ]
            ],
            "type": "heatmapgl"
           }
          ],
          "histogram": [
           {
            "marker": {
             "colorbar": {
              "outlinewidth": 0,
              "ticks": ""
             }
            },
            "type": "histogram"
           }
          ],
          "histogram2d": [
           {
            "colorbar": {
             "outlinewidth": 0,
             "ticks": ""
            },
            "colorscale": [
             [
              0,
              "#0d0887"
             ],
             [
              0.1111111111111111,
              "#46039f"
             ],
             [
              0.2222222222222222,
              "#7201a8"
             ],
             [
              0.3333333333333333,
              "#9c179e"
             ],
             [
              0.4444444444444444,
              "#bd3786"
             ],
             [
              0.5555555555555556,
              "#d8576b"
             ],
             [
              0.6666666666666666,
              "#ed7953"
             ],
             [
              0.7777777777777778,
              "#fb9f3a"
             ],
             [
              0.8888888888888888,
              "#fdca26"
             ],
             [
              1,
              "#f0f921"
             ]
            ],
            "type": "histogram2d"
           }
          ],
          "histogram2dcontour": [
           {
            "colorbar": {
             "outlinewidth": 0,
             "ticks": ""
            },
            "colorscale": [
             [
              0,
              "#0d0887"
             ],
             [
              0.1111111111111111,
              "#46039f"
             ],
             [
              0.2222222222222222,
              "#7201a8"
             ],
             [
              0.3333333333333333,
              "#9c179e"
             ],
             [
              0.4444444444444444,
              "#bd3786"
             ],
             [
              0.5555555555555556,
              "#d8576b"
             ],
             [
              0.6666666666666666,
              "#ed7953"
             ],
             [
              0.7777777777777778,
              "#fb9f3a"
             ],
             [
              0.8888888888888888,
              "#fdca26"
             ],
             [
              1,
              "#f0f921"
             ]
            ],
            "type": "histogram2dcontour"
           }
          ],
          "mesh3d": [
           {
            "colorbar": {
             "outlinewidth": 0,
             "ticks": ""
            },
            "type": "mesh3d"
           }
          ],
          "parcoords": [
           {
            "line": {
             "colorbar": {
              "outlinewidth": 0,
              "ticks": ""
             }
            },
            "type": "parcoords"
           }
          ],
          "pie": [
           {
            "automargin": true,
            "type": "pie"
           }
          ],
          "scatter": [
           {
            "marker": {
             "colorbar": {
              "outlinewidth": 0,
              "ticks": ""
             }
            },
            "type": "scatter"
           }
          ],
          "scatter3d": [
           {
            "line": {
             "colorbar": {
              "outlinewidth": 0,
              "ticks": ""
             }
            },
            "marker": {
             "colorbar": {
              "outlinewidth": 0,
              "ticks": ""
             }
            },
            "type": "scatter3d"
           }
          ],
          "scattercarpet": [
           {
            "marker": {
             "colorbar": {
              "outlinewidth": 0,
              "ticks": ""
             }
            },
            "type": "scattercarpet"
           }
          ],
          "scattergeo": [
           {
            "marker": {
             "colorbar": {
              "outlinewidth": 0,
              "ticks": ""
             }
            },
            "type": "scattergeo"
           }
          ],
          "scattergl": [
           {
            "marker": {
             "colorbar": {
              "outlinewidth": 0,
              "ticks": ""
             }
            },
            "type": "scattergl"
           }
          ],
          "scattermapbox": [
           {
            "marker": {
             "colorbar": {
              "outlinewidth": 0,
              "ticks": ""
             }
            },
            "type": "scattermapbox"
           }
          ],
          "scatterpolar": [
           {
            "marker": {
             "colorbar": {
              "outlinewidth": 0,
              "ticks": ""
             }
            },
            "type": "scatterpolar"
           }
          ],
          "scatterpolargl": [
           {
            "marker": {
             "colorbar": {
              "outlinewidth": 0,
              "ticks": ""
             }
            },
            "type": "scatterpolargl"
           }
          ],
          "scatterternary": [
           {
            "marker": {
             "colorbar": {
              "outlinewidth": 0,
              "ticks": ""
             }
            },
            "type": "scatterternary"
           }
          ],
          "surface": [
           {
            "colorbar": {
             "outlinewidth": 0,
             "ticks": ""
            },
            "colorscale": [
             [
              0,
              "#0d0887"
             ],
             [
              0.1111111111111111,
              "#46039f"
             ],
             [
              0.2222222222222222,
              "#7201a8"
             ],
             [
              0.3333333333333333,
              "#9c179e"
             ],
             [
              0.4444444444444444,
              "#bd3786"
             ],
             [
              0.5555555555555556,
              "#d8576b"
             ],
             [
              0.6666666666666666,
              "#ed7953"
             ],
             [
              0.7777777777777778,
              "#fb9f3a"
             ],
             [
              0.8888888888888888,
              "#fdca26"
             ],
             [
              1,
              "#f0f921"
             ]
            ],
            "type": "surface"
           }
          ],
          "table": [
           {
            "cells": {
             "fill": {
              "color": "#EBF0F8"
             },
             "line": {
              "color": "white"
             }
            },
            "header": {
             "fill": {
              "color": "#C8D4E3"
             },
             "line": {
              "color": "white"
             }
            },
            "type": "table"
           }
          ]
         },
         "layout": {
          "annotationdefaults": {
           "arrowcolor": "#2a3f5f",
           "arrowhead": 0,
           "arrowwidth": 1
          },
          "coloraxis": {
           "colorbar": {
            "outlinewidth": 0,
            "ticks": ""
           }
          },
          "colorscale": {
           "diverging": [
            [
             0,
             "#8e0152"
            ],
            [
             0.1,
             "#c51b7d"
            ],
            [
             0.2,
             "#de77ae"
            ],
            [
             0.3,
             "#f1b6da"
            ],
            [
             0.4,
             "#fde0ef"
            ],
            [
             0.5,
             "#f7f7f7"
            ],
            [
             0.6,
             "#e6f5d0"
            ],
            [
             0.7,
             "#b8e186"
            ],
            [
             0.8,
             "#7fbc41"
            ],
            [
             0.9,
             "#4d9221"
            ],
            [
             1,
             "#276419"
            ]
           ],
           "sequential": [
            [
             0,
             "#0d0887"
            ],
            [
             0.1111111111111111,
             "#46039f"
            ],
            [
             0.2222222222222222,
             "#7201a8"
            ],
            [
             0.3333333333333333,
             "#9c179e"
            ],
            [
             0.4444444444444444,
             "#bd3786"
            ],
            [
             0.5555555555555556,
             "#d8576b"
            ],
            [
             0.6666666666666666,
             "#ed7953"
            ],
            [
             0.7777777777777778,
             "#fb9f3a"
            ],
            [
             0.8888888888888888,
             "#fdca26"
            ],
            [
             1,
             "#f0f921"
            ]
           ],
           "sequentialminus": [
            [
             0,
             "#0d0887"
            ],
            [
             0.1111111111111111,
             "#46039f"
            ],
            [
             0.2222222222222222,
             "#7201a8"
            ],
            [
             0.3333333333333333,
             "#9c179e"
            ],
            [
             0.4444444444444444,
             "#bd3786"
            ],
            [
             0.5555555555555556,
             "#d8576b"
            ],
            [
             0.6666666666666666,
             "#ed7953"
            ],
            [
             0.7777777777777778,
             "#fb9f3a"
            ],
            [
             0.8888888888888888,
             "#fdca26"
            ],
            [
             1,
             "#f0f921"
            ]
           ]
          },
          "colorway": [
           "#636efa",
           "#EF553B",
           "#00cc96",
           "#ab63fa",
           "#FFA15A",
           "#19d3f3",
           "#FF6692",
           "#B6E880",
           "#FF97FF",
           "#FECB52"
          ],
          "font": {
           "color": "#2a3f5f"
          },
          "geo": {
           "bgcolor": "white",
           "lakecolor": "white",
           "landcolor": "#E5ECF6",
           "showlakes": true,
           "showland": true,
           "subunitcolor": "white"
          },
          "hoverlabel": {
           "align": "left"
          },
          "hovermode": "closest",
          "mapbox": {
           "style": "light"
          },
          "paper_bgcolor": "white",
          "plot_bgcolor": "#E5ECF6",
          "polar": {
           "angularaxis": {
            "gridcolor": "white",
            "linecolor": "white",
            "ticks": ""
           },
           "bgcolor": "#E5ECF6",
           "radialaxis": {
            "gridcolor": "white",
            "linecolor": "white",
            "ticks": ""
           }
          },
          "scene": {
           "xaxis": {
            "backgroundcolor": "#E5ECF6",
            "gridcolor": "white",
            "gridwidth": 2,
            "linecolor": "white",
            "showbackground": true,
            "ticks": "",
            "zerolinecolor": "white"
           },
           "yaxis": {
            "backgroundcolor": "#E5ECF6",
            "gridcolor": "white",
            "gridwidth": 2,
            "linecolor": "white",
            "showbackground": true,
            "ticks": "",
            "zerolinecolor": "white"
           },
           "zaxis": {
            "backgroundcolor": "#E5ECF6",
            "gridcolor": "white",
            "gridwidth": 2,
            "linecolor": "white",
            "showbackground": true,
            "ticks": "",
            "zerolinecolor": "white"
           }
          },
          "shapedefaults": {
           "line": {
            "color": "#2a3f5f"
           }
          },
          "ternary": {
           "aaxis": {
            "gridcolor": "white",
            "linecolor": "white",
            "ticks": ""
           },
           "baxis": {
            "gridcolor": "white",
            "linecolor": "white",
            "ticks": ""
           },
           "bgcolor": "#E5ECF6",
           "caxis": {
            "gridcolor": "white",
            "linecolor": "white",
            "ticks": ""
           }
          },
          "title": {
           "x": 0.05
          },
          "xaxis": {
           "automargin": true,
           "gridcolor": "white",
           "linecolor": "white",
           "ticks": "",
           "title": {
            "standoff": 15
           },
           "zerolinecolor": "white",
           "zerolinewidth": 2
          },
          "yaxis": {
           "automargin": true,
           "gridcolor": "white",
           "linecolor": "white",
           "ticks": "",
           "title": {
            "standoff": 15
           },
           "zerolinecolor": "white",
           "zerolinewidth": 2
          }
         }
        },
        "title": {
         "font": {
          "color": "#4D5663"
         }
        },
        "xaxis": {
         "gridcolor": "#E1E5ED",
         "showgrid": true,
         "tickfont": {
          "color": "#4D5663"
         },
         "title": {
          "font": {
           "color": "#4D5663"
          },
          "text": ""
         },
         "zerolinecolor": "#E1E5ED"
        },
        "xaxis2": {
         "anchor": "y2",
         "gridcolor": "#E1E5ED",
         "showgrid": true,
         "showticklabels": false,
         "tickfont": {
          "color": "#4D5663"
         },
         "title": {
          "font": {
           "color": "#4D5663"
          },
          "text": ""
         },
         "zerolinecolor": "#E1E5ED"
        },
        "yaxis": {
         "domain": [
          0.3,
          1
         ],
         "gridcolor": "#E1E5ED",
         "showgrid": true,
         "tickfont": {
          "color": "#4D5663"
         },
         "title": {
          "font": {
           "color": "#4D5663"
          },
          "text": ""
         },
         "zerolinecolor": "#E1E5ED"
        },
        "yaxis2": {
         "domain": [
          0,
          0.25
         ],
         "gridcolor": "#E1E5ED",
         "showgrid": true,
         "tickfont": {
          "color": "#4D5663"
         },
         "title": {
          "font": {
           "color": "#4D5663"
          },
          "text": "Spread"
         },
         "zerolinecolor": "#E1E5ED"
        }
       }
      },
      "text/html": [
       "<div>                            <div id=\"29b9ae75-6cee-4c98-bdae-c788708dde3f\" class=\"plotly-graph-div\" style=\"height:525px; width:100%;\"></div>            <script type=\"text/javascript\">                require([\"plotly\"], function(Plotly) {                    window.PLOTLYENV=window.PLOTLYENV || {};\n",
       "                    window.PLOTLYENV.BASE_URL='https://plot.ly';                                    if (document.getElementById(\"29b9ae75-6cee-4c98-bdae-c788708dde3f\")) {                    Plotly.newPlot(                        \"29b9ae75-6cee-4c98-bdae-c788708dde3f\",                        [{\"line\": {\"color\": \"rgba(255, 153, 51, 1.0)\", \"dash\": \"solid\", \"shape\": \"linear\", \"width\": 1.3}, \"mode\": \"lines\", \"name\": \"A\", \"text\": \"\", \"type\": \"scatter\", \"x\": [0, 1, 2, 3, 4, 5, 6, 7, 8, 9, 10, 11, 12, 13, 14, 15, 16, 17, 18, 19, 20, 21, 22, 23, 24, 25, 26, 27, 28, 29, 30, 31, 32, 33, 34, 35, 36, 37, 38, 39, 40, 41, 42, 43, 44, 45, 46, 47, 48, 49, 50, 51, 52, 53, 54, 55, 56, 57, 58, 59, 60, 61, 62, 63, 64, 65, 66, 67, 68, 69, 70, 71, 72, 73, 74, 75, 76, 77, 78, 79, 80, 81, 82, 83, 84, 85, 86, 87, 88, 89, 90, 91, 92, 93, 94, 95, 96, 97, 98, 99], \"y\": [0.522556105813715, 0.8366465175888684, -0.664603970479962, -0.6611168116320768, -0.029293198680295153, 0.630440914253106, 0.24536832097911143, 0.5213441943977241, -0.6409830943135116, -1.2795322536768938, 1.5529623456032118, -2.303638277851841, -0.08246423455366149, -0.6603240942134286, -1.3320172245876538, 0.27054147790735356, -2.3102127601116957, -1.180959337349101, -1.6620377976952876, 1.5467169576834783, -0.4169363614353314, -0.9631554333059279, -1.4560511712205557, -2.0404767103485617, 1.9954182190915115, 0.5205977940769877, -0.6707041858894667, 1.190860114617754, 0.4236278788802016, 0.5951909517408043, 0.0722911467287905, -0.8749298041157985, 0.9194636594323516, 1.4883038699736955, -3.4230147844322922, 1.1924595949170957, 1.4008954471598927, -1.1151174087094455, -1.1995365117501031, 0.8110171223718338, -1.8292495637863746, 2.0529700474973525, -1.3165906845861155, 1.667125932294143, -1.3404983717729393, -0.6267318398612008, -1.733235590397368, -0.7963674104484132, -0.8623741759795556, -0.7773317335322487, -0.47181762470855554, 0.07716999711133517, 0.35817988537598444, -0.3295384933143855, 0.6653512574814932, -0.4486369697071627, 0.7099314026754735, -0.4542041749256783, -0.0746400765540713, 0.21189666518828398, 0.8737431149504534, 0.4858681671093836, 0.777834053956173, 1.2796759802166797, -0.019325062343936078, -0.7744760972835689, -0.6060372583098742, 1.0343304682727885, -1.5922954029379874, -0.6296209412783041, 0.5207527208513598, -0.8729548116088645, -1.2396683909340585, -0.5932494118087088, 0.0032824444979755235, 0.5378194907114049, 0.331241280973708, -1.278552728158368, -0.0995570035566114, -0.2453115203777214, 0.5485210558743719, 0.21445941172442826, -1.2505565269743624, -0.7799754350761642, 1.3686204262485862, 0.3353102228299381, -0.9002585779060629, 2.1043905766033024, -0.6498677108938995, 0.5634701912298704, -1.6338513008111868, -0.36347720593876093, 1.9520757630587742, -0.923410126462932, 1.203474471477271, 1.1792980741286028, 0.17293066836863386, -1.1796690199363606, -2.055002219050221, -1.3653009952725936]}, {\"line\": {\"color\": \"rgba(55, 128, 191, 1.0)\", \"dash\": \"solid\", \"shape\": \"linear\", \"width\": 1.3}, \"mode\": \"lines\", \"name\": \"B\", \"text\": \"\", \"type\": \"scatter\", \"x\": [0, 1, 2, 3, 4, 5, 6, 7, 8, 9, 10, 11, 12, 13, 14, 15, 16, 17, 18, 19, 20, 21, 22, 23, 24, 25, 26, 27, 28, 29, 30, 31, 32, 33, 34, 35, 36, 37, 38, 39, 40, 41, 42, 43, 44, 45, 46, 47, 48, 49, 50, 51, 52, 53, 54, 55, 56, 57, 58, 59, 60, 61, 62, 63, 64, 65, 66, 67, 68, 69, 70, 71, 72, 73, 74, 75, 76, 77, 78, 79, 80, 81, 82, 83, 84, 85, 86, 87, 88, 89, 90, 91, 92, 93, 94, 95, 96, 97, 98, 99], \"y\": [-1.0502366155422067, -0.021961193335135246, -0.5765927169777691, 2.248965683306026, -1.0018182265616553, -0.894238683015506, 0.6460866751885185, -1.3115427152492027, 1.3166852659343116, 1.926211376247639, -0.2922318185022914, 0.09152608733805903, -0.7430556408676412, -0.578476852932132, 0.6642732928180614, -1.0057961103352402, -0.056384208433620034, 1.0909053059116434, 0.4734520127620457, -0.02676628959820128, -0.22708984983508898, 0.9741417789799731, -1.5145327182874229, 1.2834117079537986, 0.6741070591221596, 0.24083067110312012, 0.8555734521733575, 0.6306027272359749, 1.5763162765394942, -0.5958029804768725, 1.568304227917459, 0.05975424687522171, -1.706261214114887, 1.7312151731908052, -1.7080487887071312, -0.43781305829364797, 0.20921487935513305, -2.259297390099242, 1.218643322819174, 0.32418168737135344, 0.6564577271674744, -1.0721690985177132, -0.6557675467597885, -0.12441768390177917, 0.7006888292110914, 1.7994324854881514, -1.1572248539641468, -0.20803654802745664, 0.12223982689574536, 0.9016669965242321, 0.02851091151994256, -0.04349225640139199, -0.8098781338219512, -0.12311448162771756, 0.9760908000146804, -1.0199094785959937, -0.4571566426231742, 1.3938270495469804, -0.9199946915318254, 0.8866663856815331, 0.3058242139615769, -0.45665461339037566, -0.5152722731281091, 0.5113151944185977, -1.2122833743218226, 2.8912100887402654, -1.0200521532784588, 0.29861556578277937, -1.82601771971382, 0.2629590316929113, -0.24178830164881776, 0.734374599908883, -0.771622179092258, -0.9050560338468139, -0.36113285074818186, 0.6688510578903628, -1.4846396280995497, 0.6829643443929462, 1.3481232854267218, -0.3780301066171847, -0.21712034615308187, 0.23588244120169044, 0.6797192924255304, -0.9562785562071007, 0.5230709190292472, 0.8152487481197463, -0.2461668611776281, 0.42057386032266425, -1.9427434567661108, -0.35009411437483956, -0.5247859106616706, 0.9801017518398779, 0.21683762267305612, 0.10109849438698844, -0.010736076482799084, -0.3068822190517889, 0.1657544349926027, -0.5373922231954307, 1.9009029986905681, 0.2860674527087954]}, {\"connectgaps\": false, \"fill\": \"tozeroy\", \"line\": {\"color\": \"green\", \"dash\": \"solid\", \"shape\": \"linear\", \"width\": 0.5}, \"mode\": \"lines\", \"name\": \"Spread\", \"showlegend\": false, \"type\": \"scatter\", \"x\": [0, 1, 2, 3, 4, 5, 6, 7, 8, 9, 10, 11, 12, 13, 14, 15, 16, 17, 18, 19, 20, 21, 22, 23, 24, 25, 26, 27, 28, 29, 30, 31, 32, 33, 34, 35, 36, 37, 38, 39, 40, 41, 42, 43, 44, 45, 46, 47, 48, 49, 50, 51, 52, 53, 54, 55, 56, 57, 58, 59, 60, 61, 62, 63, 64, 65, 66, 67, 68, 69, 70, 71, 72, 73, 74, 75, 76, 77, 78, 79, 80, 81, 82, 83, 84, 85, 86, 87, 88, 89, 90, 91, 92, 93, 94, 95, 96, 97, 98, 99], \"xaxis\": \"x2\", \"y\": [1.5727927213559219, 0.8586077109240037, \"\", \"\", 0.9725250278813602, 1.524679597268612, \"\", 1.832886909646927, \"\", \"\", 1.8451941641055032, \"\", 0.6605914063139797, \"\", \"\", 1.2763375882425938, \"\", \"\", \"\", 1.5734832472816795, \"\", \"\", 0.058481547066867146, \"\", 1.321311159969352, 0.2797671229738676, \"\", 0.5602573873817791, \"\", 1.1909939322176768, \"\", \"\", 2.6257248735472385, \"\", \"\", 1.6302726532107437, 1.1916805678047595, 1.1441799813897964, \"\", 0.4868354350004803, \"\", 3.1251391460150657, \"\", 1.7915436161959222, \"\", \"\", \"\", \"\", \"\", \"\", \"\", 0.12066225351272716, 1.1680580191979355, \"\", \"\", 0.571272508888831, 1.1670880452986476, \"\", 0.8453546149777541, \"\", 0.5679189009888765, 0.9425227804997592, 1.2931063270842822, 0.768360785798082, 1.1929583119778866, \"\", 0.41401489496858457, 0.7357149024900091, 0.23372231677583266, \"\", 0.7625410225001776, \"\", \"\", 0.31180662203810505, 0.3644152952461574, \"\", 1.8158809090732577, \"\", \"\", 0.13271858623946334, 0.7656414020274538, \"\", \"\", 0.1763031211309365, 0.845549507219339, \"\", \"\", 1.6838167162806381, 1.2928757458722113, 0.91356430560471, \"\", \"\", 1.735238140385718, \"\", 1.21421054796007, 1.4861802931803916, 0.007176233376031155, \"\", \"\", \"\"], \"yaxis\": \"y2\"}, {\"connectgaps\": false, \"fill\": \"tozeroy\", \"line\": {\"color\": \"red\", \"dash\": \"solid\", \"shape\": \"linear\", \"width\": 0.5}, \"mode\": \"lines\", \"name\": \"Spread\", \"showlegend\": false, \"type\": \"scatter\", \"x\": [0, 1, 2, 3, 4, 5, 6, 7, 8, 9, 10, 11, 12, 13, 14, 15, 16, 17, 18, 19, 20, 21, 22, 23, 24, 25, 26, 27, 28, 29, 30, 31, 32, 33, 34, 35, 36, 37, 38, 39, 40, 41, 42, 43, 44, 45, 46, 47, 48, 49, 50, 51, 52, 53, 54, 55, 56, 57, 58, 59, 60, 61, 62, 63, 64, 65, 66, 67, 68, 69, 70, 71, 72, 73, 74, 75, 76, 77, 78, 79, 80, 81, 82, 83, 84, 85, 86, 87, 88, 89, 90, 91, 92, 93, 94, 95, 96, 97, 98, 99], \"xaxis\": \"x2\", \"y\": [\"\", \"\", -0.08801125350219285, -2.910082494938103, \"\", \"\", -0.40071835420940705, \"\", -1.957668360247823, -3.205743629924533, \"\", -2.3951643651899, \"\", -0.08184724128129661, -1.9962905174057153, \"\", -2.2538285516780756, -2.271864643260744, -2.1354898104573334, \"\", -0.18984651160024243, -1.937297212285901, \"\", -3.32388841830236, \"\", \"\", -1.5262776380628242, \"\", -1.1526883976592925, \"\", -1.4960130811886685, -0.9346840509910201, \"\", -0.24291130321710974, -1.714965995725161, \"\", \"\", \"\", -2.418179834569277, \"\", -2.485707290953849, \"\", -0.660823137826327, \"\", -2.0411872009840306, -2.4261643253493523, -0.5760107364332212, -0.5883308624209566, -0.984614002875301, -1.6789987300564808, -0.5003285362284982, \"\", \"\", -0.20642401168666796, -0.31073954253318725, \"\", \"\", -1.8480312244726587, \"\", -0.6747697204932491, \"\", \"\", \"\", \"\", \"\", -3.6656861860238346, \"\", \"\", \"\", -0.8925799729712154, \"\", -1.6073294115177474, -0.4680462118418004, \"\", \"\", -0.13103156717895792, \"\", -1.961517072551314, -1.4476802889833331, \"\", \"\", -0.021423029477262184, -1.9302758193998928, \"\", \"\", -0.47993852528980824, -0.6540917167284348, \"\", \"\", \"\", -1.1090653901495162, -1.3435789577786388, \"\", -1.0245086208499203, \"\", \"\", \"\", -0.64227679674093, -3.9559052177407894, -1.651368447981389], \"yaxis\": \"y2\"}],                        {\"hovermode\": \"x\", \"legend\": {\"bgcolor\": \"#F5F6F9\", \"font\": {\"color\": \"#4D5663\"}}, \"paper_bgcolor\": \"#F5F6F9\", \"plot_bgcolor\": \"#F5F6F9\", \"template\": {\"data\": {\"bar\": [{\"error_x\": {\"color\": \"#2a3f5f\"}, \"error_y\": {\"color\": \"#2a3f5f\"}, \"marker\": {\"line\": {\"color\": \"#E5ECF6\", \"width\": 0.5}}, \"type\": \"bar\"}], \"barpolar\": [{\"marker\": {\"line\": {\"color\": \"#E5ECF6\", \"width\": 0.5}}, \"type\": \"barpolar\"}], \"carpet\": [{\"aaxis\": {\"endlinecolor\": \"#2a3f5f\", \"gridcolor\": \"white\", \"linecolor\": \"white\", \"minorgridcolor\": \"white\", \"startlinecolor\": \"#2a3f5f\"}, \"baxis\": {\"endlinecolor\": \"#2a3f5f\", \"gridcolor\": \"white\", \"linecolor\": \"white\", \"minorgridcolor\": \"white\", \"startlinecolor\": \"#2a3f5f\"}, \"type\": \"carpet\"}], \"choropleth\": [{\"colorbar\": {\"outlinewidth\": 0, \"ticks\": \"\"}, \"type\": \"choropleth\"}], \"contour\": [{\"colorbar\": {\"outlinewidth\": 0, \"ticks\": \"\"}, \"colorscale\": [[0.0, \"#0d0887\"], [0.1111111111111111, \"#46039f\"], [0.2222222222222222, \"#7201a8\"], [0.3333333333333333, \"#9c179e\"], [0.4444444444444444, \"#bd3786\"], [0.5555555555555556, \"#d8576b\"], [0.6666666666666666, \"#ed7953\"], [0.7777777777777778, \"#fb9f3a\"], [0.8888888888888888, \"#fdca26\"], [1.0, \"#f0f921\"]], \"type\": \"contour\"}], \"contourcarpet\": [{\"colorbar\": {\"outlinewidth\": 0, \"ticks\": \"\"}, \"type\": \"contourcarpet\"}], \"heatmap\": [{\"colorbar\": {\"outlinewidth\": 0, \"ticks\": \"\"}, \"colorscale\": [[0.0, \"#0d0887\"], [0.1111111111111111, \"#46039f\"], [0.2222222222222222, \"#7201a8\"], [0.3333333333333333, \"#9c179e\"], [0.4444444444444444, \"#bd3786\"], [0.5555555555555556, \"#d8576b\"], [0.6666666666666666, \"#ed7953\"], [0.7777777777777778, \"#fb9f3a\"], [0.8888888888888888, \"#fdca26\"], [1.0, \"#f0f921\"]], \"type\": \"heatmap\"}], \"heatmapgl\": [{\"colorbar\": {\"outlinewidth\": 0, \"ticks\": \"\"}, \"colorscale\": [[0.0, \"#0d0887\"], [0.1111111111111111, \"#46039f\"], [0.2222222222222222, \"#7201a8\"], [0.3333333333333333, \"#9c179e\"], [0.4444444444444444, \"#bd3786\"], [0.5555555555555556, \"#d8576b\"], [0.6666666666666666, \"#ed7953\"], [0.7777777777777778, \"#fb9f3a\"], [0.8888888888888888, \"#fdca26\"], [1.0, \"#f0f921\"]], \"type\": \"heatmapgl\"}], \"histogram\": [{\"marker\": {\"colorbar\": {\"outlinewidth\": 0, \"ticks\": \"\"}}, \"type\": \"histogram\"}], \"histogram2d\": [{\"colorbar\": {\"outlinewidth\": 0, \"ticks\": \"\"}, \"colorscale\": [[0.0, \"#0d0887\"], [0.1111111111111111, \"#46039f\"], [0.2222222222222222, \"#7201a8\"], [0.3333333333333333, \"#9c179e\"], [0.4444444444444444, \"#bd3786\"], [0.5555555555555556, \"#d8576b\"], [0.6666666666666666, \"#ed7953\"], [0.7777777777777778, \"#fb9f3a\"], [0.8888888888888888, \"#fdca26\"], [1.0, \"#f0f921\"]], \"type\": \"histogram2d\"}], \"histogram2dcontour\": [{\"colorbar\": {\"outlinewidth\": 0, \"ticks\": \"\"}, \"colorscale\": [[0.0, \"#0d0887\"], [0.1111111111111111, \"#46039f\"], [0.2222222222222222, \"#7201a8\"], [0.3333333333333333, \"#9c179e\"], [0.4444444444444444, \"#bd3786\"], [0.5555555555555556, \"#d8576b\"], [0.6666666666666666, \"#ed7953\"], [0.7777777777777778, \"#fb9f3a\"], [0.8888888888888888, \"#fdca26\"], [1.0, \"#f0f921\"]], \"type\": \"histogram2dcontour\"}], \"mesh3d\": [{\"colorbar\": {\"outlinewidth\": 0, \"ticks\": \"\"}, \"type\": \"mesh3d\"}], \"parcoords\": [{\"line\": {\"colorbar\": {\"outlinewidth\": 0, \"ticks\": \"\"}}, \"type\": \"parcoords\"}], \"pie\": [{\"automargin\": true, \"type\": \"pie\"}], \"scatter\": [{\"marker\": {\"colorbar\": {\"outlinewidth\": 0, \"ticks\": \"\"}}, \"type\": \"scatter\"}], \"scatter3d\": [{\"line\": {\"colorbar\": {\"outlinewidth\": 0, \"ticks\": \"\"}}, \"marker\": {\"colorbar\": {\"outlinewidth\": 0, \"ticks\": \"\"}}, \"type\": \"scatter3d\"}], \"scattercarpet\": [{\"marker\": {\"colorbar\": {\"outlinewidth\": 0, \"ticks\": \"\"}}, \"type\": \"scattercarpet\"}], \"scattergeo\": [{\"marker\": {\"colorbar\": {\"outlinewidth\": 0, \"ticks\": \"\"}}, \"type\": \"scattergeo\"}], \"scattergl\": [{\"marker\": {\"colorbar\": {\"outlinewidth\": 0, \"ticks\": \"\"}}, \"type\": \"scattergl\"}], \"scattermapbox\": [{\"marker\": {\"colorbar\": {\"outlinewidth\": 0, \"ticks\": \"\"}}, \"type\": \"scattermapbox\"}], \"scatterpolar\": [{\"marker\": {\"colorbar\": {\"outlinewidth\": 0, \"ticks\": \"\"}}, \"type\": \"scatterpolar\"}], \"scatterpolargl\": [{\"marker\": {\"colorbar\": {\"outlinewidth\": 0, \"ticks\": \"\"}}, \"type\": \"scatterpolargl\"}], \"scatterternary\": [{\"marker\": {\"colorbar\": {\"outlinewidth\": 0, \"ticks\": \"\"}}, \"type\": \"scatterternary\"}], \"surface\": [{\"colorbar\": {\"outlinewidth\": 0, \"ticks\": \"\"}, \"colorscale\": [[0.0, \"#0d0887\"], [0.1111111111111111, \"#46039f\"], [0.2222222222222222, \"#7201a8\"], [0.3333333333333333, \"#9c179e\"], [0.4444444444444444, \"#bd3786\"], [0.5555555555555556, \"#d8576b\"], [0.6666666666666666, \"#ed7953\"], [0.7777777777777778, \"#fb9f3a\"], [0.8888888888888888, \"#fdca26\"], [1.0, \"#f0f921\"]], \"type\": \"surface\"}], \"table\": [{\"cells\": {\"fill\": {\"color\": \"#EBF0F8\"}, \"line\": {\"color\": \"white\"}}, \"header\": {\"fill\": {\"color\": \"#C8D4E3\"}, \"line\": {\"color\": \"white\"}}, \"type\": \"table\"}]}, \"layout\": {\"annotationdefaults\": {\"arrowcolor\": \"#2a3f5f\", \"arrowhead\": 0, \"arrowwidth\": 1}, \"coloraxis\": {\"colorbar\": {\"outlinewidth\": 0, \"ticks\": \"\"}}, \"colorscale\": {\"diverging\": [[0, \"#8e0152\"], [0.1, \"#c51b7d\"], [0.2, \"#de77ae\"], [0.3, \"#f1b6da\"], [0.4, \"#fde0ef\"], [0.5, \"#f7f7f7\"], [0.6, \"#e6f5d0\"], [0.7, \"#b8e186\"], [0.8, \"#7fbc41\"], [0.9, \"#4d9221\"], [1, \"#276419\"]], \"sequential\": [[0.0, \"#0d0887\"], [0.1111111111111111, \"#46039f\"], [0.2222222222222222, \"#7201a8\"], [0.3333333333333333, \"#9c179e\"], [0.4444444444444444, \"#bd3786\"], [0.5555555555555556, \"#d8576b\"], [0.6666666666666666, \"#ed7953\"], [0.7777777777777778, \"#fb9f3a\"], [0.8888888888888888, \"#fdca26\"], [1.0, \"#f0f921\"]], \"sequentialminus\": [[0.0, \"#0d0887\"], [0.1111111111111111, \"#46039f\"], [0.2222222222222222, \"#7201a8\"], [0.3333333333333333, \"#9c179e\"], [0.4444444444444444, \"#bd3786\"], [0.5555555555555556, \"#d8576b\"], [0.6666666666666666, \"#ed7953\"], [0.7777777777777778, \"#fb9f3a\"], [0.8888888888888888, \"#fdca26\"], [1.0, \"#f0f921\"]]}, \"colorway\": [\"#636efa\", \"#EF553B\", \"#00cc96\", \"#ab63fa\", \"#FFA15A\", \"#19d3f3\", \"#FF6692\", \"#B6E880\", \"#FF97FF\", \"#FECB52\"], \"font\": {\"color\": \"#2a3f5f\"}, \"geo\": {\"bgcolor\": \"white\", \"lakecolor\": \"white\", \"landcolor\": \"#E5ECF6\", \"showlakes\": true, \"showland\": true, \"subunitcolor\": \"white\"}, \"hoverlabel\": {\"align\": \"left\"}, \"hovermode\": \"closest\", \"mapbox\": {\"style\": \"light\"}, \"paper_bgcolor\": \"white\", \"plot_bgcolor\": \"#E5ECF6\", \"polar\": {\"angularaxis\": {\"gridcolor\": \"white\", \"linecolor\": \"white\", \"ticks\": \"\"}, \"bgcolor\": \"#E5ECF6\", \"radialaxis\": {\"gridcolor\": \"white\", \"linecolor\": \"white\", \"ticks\": \"\"}}, \"scene\": {\"xaxis\": {\"backgroundcolor\": \"#E5ECF6\", \"gridcolor\": \"white\", \"gridwidth\": 2, \"linecolor\": \"white\", \"showbackground\": true, \"ticks\": \"\", \"zerolinecolor\": \"white\"}, \"yaxis\": {\"backgroundcolor\": \"#E5ECF6\", \"gridcolor\": \"white\", \"gridwidth\": 2, \"linecolor\": \"white\", \"showbackground\": true, \"ticks\": \"\", \"zerolinecolor\": \"white\"}, \"zaxis\": {\"backgroundcolor\": \"#E5ECF6\", \"gridcolor\": \"white\", \"gridwidth\": 2, \"linecolor\": \"white\", \"showbackground\": true, \"ticks\": \"\", \"zerolinecolor\": \"white\"}}, \"shapedefaults\": {\"line\": {\"color\": \"#2a3f5f\"}}, \"ternary\": {\"aaxis\": {\"gridcolor\": \"white\", \"linecolor\": \"white\", \"ticks\": \"\"}, \"baxis\": {\"gridcolor\": \"white\", \"linecolor\": \"white\", \"ticks\": \"\"}, \"bgcolor\": \"#E5ECF6\", \"caxis\": {\"gridcolor\": \"white\", \"linecolor\": \"white\", \"ticks\": \"\"}}, \"title\": {\"x\": 0.05}, \"xaxis\": {\"automargin\": true, \"gridcolor\": \"white\", \"linecolor\": \"white\", \"ticks\": \"\", \"title\": {\"standoff\": 15}, \"zerolinecolor\": \"white\", \"zerolinewidth\": 2}, \"yaxis\": {\"automargin\": true, \"gridcolor\": \"white\", \"linecolor\": \"white\", \"ticks\": \"\", \"title\": {\"standoff\": 15}, \"zerolinecolor\": \"white\", \"zerolinewidth\": 2}}}, \"title\": {\"font\": {\"color\": \"#4D5663\"}}, \"xaxis\": {\"gridcolor\": \"#E1E5ED\", \"showgrid\": true, \"tickfont\": {\"color\": \"#4D5663\"}, \"title\": {\"font\": {\"color\": \"#4D5663\"}, \"text\": \"\"}, \"zerolinecolor\": \"#E1E5ED\"}, \"xaxis2\": {\"anchor\": \"y2\", \"gridcolor\": \"#E1E5ED\", \"showgrid\": true, \"showticklabels\": false, \"tickfont\": {\"color\": \"#4D5663\"}, \"title\": {\"font\": {\"color\": \"#4D5663\"}, \"text\": \"\"}, \"zerolinecolor\": \"#E1E5ED\"}, \"yaxis\": {\"domain\": [0.3, 1], \"gridcolor\": \"#E1E5ED\", \"showgrid\": true, \"tickfont\": {\"color\": \"#4D5663\"}, \"title\": {\"font\": {\"color\": \"#4D5663\"}, \"text\": \"\"}, \"zerolinecolor\": \"#E1E5ED\"}, \"yaxis2\": {\"domain\": [0, 0.25], \"gridcolor\": \"#E1E5ED\", \"showgrid\": true, \"tickfont\": {\"color\": \"#4D5663\"}, \"title\": {\"font\": {\"color\": \"#4D5663\"}, \"text\": \"Spread\"}, \"zerolinecolor\": \"#E1E5ED\"}},                        {\"showLink\": true, \"linkText\": \"Export to plot.ly\", \"plotlyServerURL\": \"https://plot.ly\", \"responsive\": true}                    ).then(function(){\n",
       "                            \n",
       "var gd = document.getElementById('29b9ae75-6cee-4c98-bdae-c788708dde3f');\n",
       "var x = new MutationObserver(function (mutations, observer) {{\n",
       "        var display = window.getComputedStyle(gd).display;\n",
       "        if (!display || display === 'none') {{\n",
       "            console.log([gd, 'removed!']);\n",
       "            Plotly.purge(gd);\n",
       "            observer.disconnect();\n",
       "        }}\n",
       "}});\n",
       "\n",
       "// Listen for the removal of the full notebook cells\n",
       "var notebookContainer = gd.closest('#notebook-container');\n",
       "if (notebookContainer) {{\n",
       "    x.observe(notebookContainer, {childList: true});\n",
       "}}\n",
       "\n",
       "// Listen for the clearing of the current output cell\n",
       "var outputEl = gd.closest('.output');\n",
       "if (outputEl) {{\n",
       "    x.observe(outputEl, {childList: true});\n",
       "}}\n",
       "\n",
       "                        })                };                });            </script>        </div>"
      ]
     },
     "metadata": {},
     "output_type": "display_data"
    }
   ],
   "source": [
    "df[['A','B']].iplot(kind='spread')"
   ]
  },
  {
   "cell_type": "markdown",
   "metadata": {},
   "source": [
    "## histogram"
   ]
  },
  {
   "cell_type": "code",
   "execution_count": 16,
   "metadata": {},
   "outputs": [
    {
     "data": {
      "application/vnd.plotly.v1+json": {
       "config": {
        "linkText": "Export to plot.ly",
        "plotlyServerURL": "https://plot.ly",
        "showLink": true
       },
       "data": [
        {
         "histfunc": "count",
         "histnorm": "",
         "marker": {
          "color": "rgba(255, 153, 51, 1.0)",
          "line": {
           "color": "#4D5663",
           "width": 1.3
          }
         },
         "name": "A",
         "nbinsx": 25,
         "opacity": 0.8,
         "orientation": "v",
         "type": "histogram",
         "x": [
          0.522556105813715,
          0.8366465175888684,
          -0.664603970479962,
          -0.6611168116320768,
          -0.029293198680295153,
          0.630440914253106,
          0.24536832097911143,
          0.5213441943977241,
          -0.6409830943135116,
          -1.2795322536768938,
          1.5529623456032118,
          -2.303638277851841,
          -0.08246423455366149,
          -0.6603240942134286,
          -1.3320172245876538,
          0.27054147790735356,
          -2.3102127601116957,
          -1.180959337349101,
          -1.6620377976952876,
          1.5467169576834783,
          -0.4169363614353314,
          -0.9631554333059279,
          -1.4560511712205557,
          -2.0404767103485617,
          1.9954182190915115,
          0.5205977940769877,
          -0.6707041858894667,
          1.190860114617754,
          0.4236278788802016,
          0.5951909517408043,
          0.0722911467287905,
          -0.8749298041157985,
          0.9194636594323516,
          1.4883038699736955,
          -3.4230147844322922,
          1.1924595949170957,
          1.4008954471598927,
          -1.1151174087094455,
          -1.1995365117501031,
          0.8110171223718338,
          -1.8292495637863746,
          2.0529700474973525,
          -1.3165906845861155,
          1.667125932294143,
          -1.3404983717729393,
          -0.6267318398612008,
          -1.733235590397368,
          -0.7963674104484132,
          -0.8623741759795556,
          -0.7773317335322487,
          -0.47181762470855554,
          0.07716999711133517,
          0.35817988537598444,
          -0.3295384933143855,
          0.6653512574814932,
          -0.4486369697071627,
          0.7099314026754735,
          -0.4542041749256783,
          -0.0746400765540713,
          0.21189666518828398,
          0.8737431149504534,
          0.4858681671093836,
          0.777834053956173,
          1.2796759802166797,
          -0.019325062343936078,
          -0.7744760972835689,
          -0.6060372583098742,
          1.0343304682727885,
          -1.5922954029379874,
          -0.6296209412783041,
          0.5207527208513598,
          -0.8729548116088645,
          -1.2396683909340585,
          -0.5932494118087088,
          0.0032824444979755235,
          0.5378194907114049,
          0.331241280973708,
          -1.278552728158368,
          -0.0995570035566114,
          -0.2453115203777214,
          0.5485210558743719,
          0.21445941172442826,
          -1.2505565269743624,
          -0.7799754350761642,
          1.3686204262485862,
          0.3353102228299381,
          -0.9002585779060629,
          2.1043905766033024,
          -0.6498677108938995,
          0.5634701912298704,
          -1.6338513008111868,
          -0.36347720593876093,
          1.9520757630587742,
          -0.923410126462932,
          1.203474471477271,
          1.1792980741286028,
          0.17293066836863386,
          -1.1796690199363606,
          -2.055002219050221,
          -1.3653009952725936
         ]
        }
       ],
       "layout": {
        "barmode": "overlay",
        "legend": {
         "bgcolor": "#F5F6F9",
         "font": {
          "color": "#4D5663"
         }
        },
        "paper_bgcolor": "#F5F6F9",
        "plot_bgcolor": "#F5F6F9",
        "template": {
         "data": {
          "bar": [
           {
            "error_x": {
             "color": "#2a3f5f"
            },
            "error_y": {
             "color": "#2a3f5f"
            },
            "marker": {
             "line": {
              "color": "#E5ECF6",
              "width": 0.5
             }
            },
            "type": "bar"
           }
          ],
          "barpolar": [
           {
            "marker": {
             "line": {
              "color": "#E5ECF6",
              "width": 0.5
             }
            },
            "type": "barpolar"
           }
          ],
          "carpet": [
           {
            "aaxis": {
             "endlinecolor": "#2a3f5f",
             "gridcolor": "white",
             "linecolor": "white",
             "minorgridcolor": "white",
             "startlinecolor": "#2a3f5f"
            },
            "baxis": {
             "endlinecolor": "#2a3f5f",
             "gridcolor": "white",
             "linecolor": "white",
             "minorgridcolor": "white",
             "startlinecolor": "#2a3f5f"
            },
            "type": "carpet"
           }
          ],
          "choropleth": [
           {
            "colorbar": {
             "outlinewidth": 0,
             "ticks": ""
            },
            "type": "choropleth"
           }
          ],
          "contour": [
           {
            "colorbar": {
             "outlinewidth": 0,
             "ticks": ""
            },
            "colorscale": [
             [
              0,
              "#0d0887"
             ],
             [
              0.1111111111111111,
              "#46039f"
             ],
             [
              0.2222222222222222,
              "#7201a8"
             ],
             [
              0.3333333333333333,
              "#9c179e"
             ],
             [
              0.4444444444444444,
              "#bd3786"
             ],
             [
              0.5555555555555556,
              "#d8576b"
             ],
             [
              0.6666666666666666,
              "#ed7953"
             ],
             [
              0.7777777777777778,
              "#fb9f3a"
             ],
             [
              0.8888888888888888,
              "#fdca26"
             ],
             [
              1,
              "#f0f921"
             ]
            ],
            "type": "contour"
           }
          ],
          "contourcarpet": [
           {
            "colorbar": {
             "outlinewidth": 0,
             "ticks": ""
            },
            "type": "contourcarpet"
           }
          ],
          "heatmap": [
           {
            "colorbar": {
             "outlinewidth": 0,
             "ticks": ""
            },
            "colorscale": [
             [
              0,
              "#0d0887"
             ],
             [
              0.1111111111111111,
              "#46039f"
             ],
             [
              0.2222222222222222,
              "#7201a8"
             ],
             [
              0.3333333333333333,
              "#9c179e"
             ],
             [
              0.4444444444444444,
              "#bd3786"
             ],
             [
              0.5555555555555556,
              "#d8576b"
             ],
             [
              0.6666666666666666,
              "#ed7953"
             ],
             [
              0.7777777777777778,
              "#fb9f3a"
             ],
             [
              0.8888888888888888,
              "#fdca26"
             ],
             [
              1,
              "#f0f921"
             ]
            ],
            "type": "heatmap"
           }
          ],
          "heatmapgl": [
           {
            "colorbar": {
             "outlinewidth": 0,
             "ticks": ""
            },
            "colorscale": [
             [
              0,
              "#0d0887"
             ],
             [
              0.1111111111111111,
              "#46039f"
             ],
             [
              0.2222222222222222,
              "#7201a8"
             ],
             [
              0.3333333333333333,
              "#9c179e"
             ],
             [
              0.4444444444444444,
              "#bd3786"
             ],
             [
              0.5555555555555556,
              "#d8576b"
             ],
             [
              0.6666666666666666,
              "#ed7953"
             ],
             [
              0.7777777777777778,
              "#fb9f3a"
             ],
             [
              0.8888888888888888,
              "#fdca26"
             ],
             [
              1,
              "#f0f921"
             ]
            ],
            "type": "heatmapgl"
           }
          ],
          "histogram": [
           {
            "marker": {
             "colorbar": {
              "outlinewidth": 0,
              "ticks": ""
             }
            },
            "type": "histogram"
           }
          ],
          "histogram2d": [
           {
            "colorbar": {
             "outlinewidth": 0,
             "ticks": ""
            },
            "colorscale": [
             [
              0,
              "#0d0887"
             ],
             [
              0.1111111111111111,
              "#46039f"
             ],
             [
              0.2222222222222222,
              "#7201a8"
             ],
             [
              0.3333333333333333,
              "#9c179e"
             ],
             [
              0.4444444444444444,
              "#bd3786"
             ],
             [
              0.5555555555555556,
              "#d8576b"
             ],
             [
              0.6666666666666666,
              "#ed7953"
             ],
             [
              0.7777777777777778,
              "#fb9f3a"
             ],
             [
              0.8888888888888888,
              "#fdca26"
             ],
             [
              1,
              "#f0f921"
             ]
            ],
            "type": "histogram2d"
           }
          ],
          "histogram2dcontour": [
           {
            "colorbar": {
             "outlinewidth": 0,
             "ticks": ""
            },
            "colorscale": [
             [
              0,
              "#0d0887"
             ],
             [
              0.1111111111111111,
              "#46039f"
             ],
             [
              0.2222222222222222,
              "#7201a8"
             ],
             [
              0.3333333333333333,
              "#9c179e"
             ],
             [
              0.4444444444444444,
              "#bd3786"
             ],
             [
              0.5555555555555556,
              "#d8576b"
             ],
             [
              0.6666666666666666,
              "#ed7953"
             ],
             [
              0.7777777777777778,
              "#fb9f3a"
             ],
             [
              0.8888888888888888,
              "#fdca26"
             ],
             [
              1,
              "#f0f921"
             ]
            ],
            "type": "histogram2dcontour"
           }
          ],
          "mesh3d": [
           {
            "colorbar": {
             "outlinewidth": 0,
             "ticks": ""
            },
            "type": "mesh3d"
           }
          ],
          "parcoords": [
           {
            "line": {
             "colorbar": {
              "outlinewidth": 0,
              "ticks": ""
             }
            },
            "type": "parcoords"
           }
          ],
          "pie": [
           {
            "automargin": true,
            "type": "pie"
           }
          ],
          "scatter": [
           {
            "marker": {
             "colorbar": {
              "outlinewidth": 0,
              "ticks": ""
             }
            },
            "type": "scatter"
           }
          ],
          "scatter3d": [
           {
            "line": {
             "colorbar": {
              "outlinewidth": 0,
              "ticks": ""
             }
            },
            "marker": {
             "colorbar": {
              "outlinewidth": 0,
              "ticks": ""
             }
            },
            "type": "scatter3d"
           }
          ],
          "scattercarpet": [
           {
            "marker": {
             "colorbar": {
              "outlinewidth": 0,
              "ticks": ""
             }
            },
            "type": "scattercarpet"
           }
          ],
          "scattergeo": [
           {
            "marker": {
             "colorbar": {
              "outlinewidth": 0,
              "ticks": ""
             }
            },
            "type": "scattergeo"
           }
          ],
          "scattergl": [
           {
            "marker": {
             "colorbar": {
              "outlinewidth": 0,
              "ticks": ""
             }
            },
            "type": "scattergl"
           }
          ],
          "scattermapbox": [
           {
            "marker": {
             "colorbar": {
              "outlinewidth": 0,
              "ticks": ""
             }
            },
            "type": "scattermapbox"
           }
          ],
          "scatterpolar": [
           {
            "marker": {
             "colorbar": {
              "outlinewidth": 0,
              "ticks": ""
             }
            },
            "type": "scatterpolar"
           }
          ],
          "scatterpolargl": [
           {
            "marker": {
             "colorbar": {
              "outlinewidth": 0,
              "ticks": ""
             }
            },
            "type": "scatterpolargl"
           }
          ],
          "scatterternary": [
           {
            "marker": {
             "colorbar": {
              "outlinewidth": 0,
              "ticks": ""
             }
            },
            "type": "scatterternary"
           }
          ],
          "surface": [
           {
            "colorbar": {
             "outlinewidth": 0,
             "ticks": ""
            },
            "colorscale": [
             [
              0,
              "#0d0887"
             ],
             [
              0.1111111111111111,
              "#46039f"
             ],
             [
              0.2222222222222222,
              "#7201a8"
             ],
             [
              0.3333333333333333,
              "#9c179e"
             ],
             [
              0.4444444444444444,
              "#bd3786"
             ],
             [
              0.5555555555555556,
              "#d8576b"
             ],
             [
              0.6666666666666666,
              "#ed7953"
             ],
             [
              0.7777777777777778,
              "#fb9f3a"
             ],
             [
              0.8888888888888888,
              "#fdca26"
             ],
             [
              1,
              "#f0f921"
             ]
            ],
            "type": "surface"
           }
          ],
          "table": [
           {
            "cells": {
             "fill": {
              "color": "#EBF0F8"
             },
             "line": {
              "color": "white"
             }
            },
            "header": {
             "fill": {
              "color": "#C8D4E3"
             },
             "line": {
              "color": "white"
             }
            },
            "type": "table"
           }
          ]
         },
         "layout": {
          "annotationdefaults": {
           "arrowcolor": "#2a3f5f",
           "arrowhead": 0,
           "arrowwidth": 1
          },
          "coloraxis": {
           "colorbar": {
            "outlinewidth": 0,
            "ticks": ""
           }
          },
          "colorscale": {
           "diverging": [
            [
             0,
             "#8e0152"
            ],
            [
             0.1,
             "#c51b7d"
            ],
            [
             0.2,
             "#de77ae"
            ],
            [
             0.3,
             "#f1b6da"
            ],
            [
             0.4,
             "#fde0ef"
            ],
            [
             0.5,
             "#f7f7f7"
            ],
            [
             0.6,
             "#e6f5d0"
            ],
            [
             0.7,
             "#b8e186"
            ],
            [
             0.8,
             "#7fbc41"
            ],
            [
             0.9,
             "#4d9221"
            ],
            [
             1,
             "#276419"
            ]
           ],
           "sequential": [
            [
             0,
             "#0d0887"
            ],
            [
             0.1111111111111111,
             "#46039f"
            ],
            [
             0.2222222222222222,
             "#7201a8"
            ],
            [
             0.3333333333333333,
             "#9c179e"
            ],
            [
             0.4444444444444444,
             "#bd3786"
            ],
            [
             0.5555555555555556,
             "#d8576b"
            ],
            [
             0.6666666666666666,
             "#ed7953"
            ],
            [
             0.7777777777777778,
             "#fb9f3a"
            ],
            [
             0.8888888888888888,
             "#fdca26"
            ],
            [
             1,
             "#f0f921"
            ]
           ],
           "sequentialminus": [
            [
             0,
             "#0d0887"
            ],
            [
             0.1111111111111111,
             "#46039f"
            ],
            [
             0.2222222222222222,
             "#7201a8"
            ],
            [
             0.3333333333333333,
             "#9c179e"
            ],
            [
             0.4444444444444444,
             "#bd3786"
            ],
            [
             0.5555555555555556,
             "#d8576b"
            ],
            [
             0.6666666666666666,
             "#ed7953"
            ],
            [
             0.7777777777777778,
             "#fb9f3a"
            ],
            [
             0.8888888888888888,
             "#fdca26"
            ],
            [
             1,
             "#f0f921"
            ]
           ]
          },
          "colorway": [
           "#636efa",
           "#EF553B",
           "#00cc96",
           "#ab63fa",
           "#FFA15A",
           "#19d3f3",
           "#FF6692",
           "#B6E880",
           "#FF97FF",
           "#FECB52"
          ],
          "font": {
           "color": "#2a3f5f"
          },
          "geo": {
           "bgcolor": "white",
           "lakecolor": "white",
           "landcolor": "#E5ECF6",
           "showlakes": true,
           "showland": true,
           "subunitcolor": "white"
          },
          "hoverlabel": {
           "align": "left"
          },
          "hovermode": "closest",
          "mapbox": {
           "style": "light"
          },
          "paper_bgcolor": "white",
          "plot_bgcolor": "#E5ECF6",
          "polar": {
           "angularaxis": {
            "gridcolor": "white",
            "linecolor": "white",
            "ticks": ""
           },
           "bgcolor": "#E5ECF6",
           "radialaxis": {
            "gridcolor": "white",
            "linecolor": "white",
            "ticks": ""
           }
          },
          "scene": {
           "xaxis": {
            "backgroundcolor": "#E5ECF6",
            "gridcolor": "white",
            "gridwidth": 2,
            "linecolor": "white",
            "showbackground": true,
            "ticks": "",
            "zerolinecolor": "white"
           },
           "yaxis": {
            "backgroundcolor": "#E5ECF6",
            "gridcolor": "white",
            "gridwidth": 2,
            "linecolor": "white",
            "showbackground": true,
            "ticks": "",
            "zerolinecolor": "white"
           },
           "zaxis": {
            "backgroundcolor": "#E5ECF6",
            "gridcolor": "white",
            "gridwidth": 2,
            "linecolor": "white",
            "showbackground": true,
            "ticks": "",
            "zerolinecolor": "white"
           }
          },
          "shapedefaults": {
           "line": {
            "color": "#2a3f5f"
           }
          },
          "ternary": {
           "aaxis": {
            "gridcolor": "white",
            "linecolor": "white",
            "ticks": ""
           },
           "baxis": {
            "gridcolor": "white",
            "linecolor": "white",
            "ticks": ""
           },
           "bgcolor": "#E5ECF6",
           "caxis": {
            "gridcolor": "white",
            "linecolor": "white",
            "ticks": ""
           }
          },
          "title": {
           "x": 0.05
          },
          "xaxis": {
           "automargin": true,
           "gridcolor": "white",
           "linecolor": "white",
           "ticks": "",
           "title": {
            "standoff": 15
           },
           "zerolinecolor": "white",
           "zerolinewidth": 2
          },
          "yaxis": {
           "automargin": true,
           "gridcolor": "white",
           "linecolor": "white",
           "ticks": "",
           "title": {
            "standoff": 15
           },
           "zerolinecolor": "white",
           "zerolinewidth": 2
          }
         }
        },
        "title": {
         "font": {
          "color": "#4D5663"
         }
        },
        "xaxis": {
         "gridcolor": "#E1E5ED",
         "showgrid": true,
         "tickfont": {
          "color": "#4D5663"
         },
         "title": {
          "font": {
           "color": "#4D5663"
          },
          "text": ""
         },
         "zerolinecolor": "#E1E5ED"
        },
        "yaxis": {
         "gridcolor": "#E1E5ED",
         "showgrid": true,
         "tickfont": {
          "color": "#4D5663"
         },
         "title": {
          "font": {
           "color": "#4D5663"
          },
          "text": ""
         },
         "zerolinecolor": "#E1E5ED"
        }
       }
      },
      "text/html": [
       "<div>                            <div id=\"28f9ef13-06f3-4f18-ad13-b691438da21d\" class=\"plotly-graph-div\" style=\"height:525px; width:100%;\"></div>            <script type=\"text/javascript\">                require([\"plotly\"], function(Plotly) {                    window.PLOTLYENV=window.PLOTLYENV || {};\n",
       "                    window.PLOTLYENV.BASE_URL='https://plot.ly';                                    if (document.getElementById(\"28f9ef13-06f3-4f18-ad13-b691438da21d\")) {                    Plotly.newPlot(                        \"28f9ef13-06f3-4f18-ad13-b691438da21d\",                        [{\"histfunc\": \"count\", \"histnorm\": \"\", \"marker\": {\"color\": \"rgba(255, 153, 51, 1.0)\", \"line\": {\"color\": \"#4D5663\", \"width\": 1.3}}, \"name\": \"A\", \"nbinsx\": 25, \"opacity\": 0.8, \"orientation\": \"v\", \"type\": \"histogram\", \"x\": [0.522556105813715, 0.8366465175888684, -0.664603970479962, -0.6611168116320768, -0.029293198680295153, 0.630440914253106, 0.24536832097911143, 0.5213441943977241, -0.6409830943135116, -1.2795322536768938, 1.5529623456032118, -2.303638277851841, -0.08246423455366149, -0.6603240942134286, -1.3320172245876538, 0.27054147790735356, -2.3102127601116957, -1.180959337349101, -1.6620377976952876, 1.5467169576834783, -0.4169363614353314, -0.9631554333059279, -1.4560511712205557, -2.0404767103485617, 1.9954182190915115, 0.5205977940769877, -0.6707041858894667, 1.190860114617754, 0.4236278788802016, 0.5951909517408043, 0.0722911467287905, -0.8749298041157985, 0.9194636594323516, 1.4883038699736955, -3.4230147844322922, 1.1924595949170957, 1.4008954471598927, -1.1151174087094455, -1.1995365117501031, 0.8110171223718338, -1.8292495637863746, 2.0529700474973525, -1.3165906845861155, 1.667125932294143, -1.3404983717729393, -0.6267318398612008, -1.733235590397368, -0.7963674104484132, -0.8623741759795556, -0.7773317335322487, -0.47181762470855554, 0.07716999711133517, 0.35817988537598444, -0.3295384933143855, 0.6653512574814932, -0.4486369697071627, 0.7099314026754735, -0.4542041749256783, -0.0746400765540713, 0.21189666518828398, 0.8737431149504534, 0.4858681671093836, 0.777834053956173, 1.2796759802166797, -0.019325062343936078, -0.7744760972835689, -0.6060372583098742, 1.0343304682727885, -1.5922954029379874, -0.6296209412783041, 0.5207527208513598, -0.8729548116088645, -1.2396683909340585, -0.5932494118087088, 0.0032824444979755235, 0.5378194907114049, 0.331241280973708, -1.278552728158368, -0.0995570035566114, -0.2453115203777214, 0.5485210558743719, 0.21445941172442826, -1.2505565269743624, -0.7799754350761642, 1.3686204262485862, 0.3353102228299381, -0.9002585779060629, 2.1043905766033024, -0.6498677108938995, 0.5634701912298704, -1.6338513008111868, -0.36347720593876093, 1.9520757630587742, -0.923410126462932, 1.203474471477271, 1.1792980741286028, 0.17293066836863386, -1.1796690199363606, -2.055002219050221, -1.3653009952725936]}],                        {\"barmode\": \"overlay\", \"legend\": {\"bgcolor\": \"#F5F6F9\", \"font\": {\"color\": \"#4D5663\"}}, \"paper_bgcolor\": \"#F5F6F9\", \"plot_bgcolor\": \"#F5F6F9\", \"template\": {\"data\": {\"bar\": [{\"error_x\": {\"color\": \"#2a3f5f\"}, \"error_y\": {\"color\": \"#2a3f5f\"}, \"marker\": {\"line\": {\"color\": \"#E5ECF6\", \"width\": 0.5}}, \"type\": \"bar\"}], \"barpolar\": [{\"marker\": {\"line\": {\"color\": \"#E5ECF6\", \"width\": 0.5}}, \"type\": \"barpolar\"}], \"carpet\": [{\"aaxis\": {\"endlinecolor\": \"#2a3f5f\", \"gridcolor\": \"white\", \"linecolor\": \"white\", \"minorgridcolor\": \"white\", \"startlinecolor\": \"#2a3f5f\"}, \"baxis\": {\"endlinecolor\": \"#2a3f5f\", \"gridcolor\": \"white\", \"linecolor\": \"white\", \"minorgridcolor\": \"white\", \"startlinecolor\": \"#2a3f5f\"}, \"type\": \"carpet\"}], \"choropleth\": [{\"colorbar\": {\"outlinewidth\": 0, \"ticks\": \"\"}, \"type\": \"choropleth\"}], \"contour\": [{\"colorbar\": {\"outlinewidth\": 0, \"ticks\": \"\"}, \"colorscale\": [[0.0, \"#0d0887\"], [0.1111111111111111, \"#46039f\"], [0.2222222222222222, \"#7201a8\"], [0.3333333333333333, \"#9c179e\"], [0.4444444444444444, \"#bd3786\"], [0.5555555555555556, \"#d8576b\"], [0.6666666666666666, \"#ed7953\"], [0.7777777777777778, \"#fb9f3a\"], [0.8888888888888888, \"#fdca26\"], [1.0, \"#f0f921\"]], \"type\": \"contour\"}], \"contourcarpet\": [{\"colorbar\": {\"outlinewidth\": 0, \"ticks\": \"\"}, \"type\": \"contourcarpet\"}], \"heatmap\": [{\"colorbar\": {\"outlinewidth\": 0, \"ticks\": \"\"}, \"colorscale\": [[0.0, \"#0d0887\"], [0.1111111111111111, \"#46039f\"], [0.2222222222222222, \"#7201a8\"], [0.3333333333333333, \"#9c179e\"], [0.4444444444444444, \"#bd3786\"], [0.5555555555555556, \"#d8576b\"], [0.6666666666666666, \"#ed7953\"], [0.7777777777777778, \"#fb9f3a\"], [0.8888888888888888, \"#fdca26\"], [1.0, \"#f0f921\"]], \"type\": \"heatmap\"}], \"heatmapgl\": [{\"colorbar\": {\"outlinewidth\": 0, \"ticks\": \"\"}, \"colorscale\": [[0.0, \"#0d0887\"], [0.1111111111111111, \"#46039f\"], [0.2222222222222222, \"#7201a8\"], [0.3333333333333333, \"#9c179e\"], [0.4444444444444444, \"#bd3786\"], [0.5555555555555556, \"#d8576b\"], [0.6666666666666666, \"#ed7953\"], [0.7777777777777778, \"#fb9f3a\"], [0.8888888888888888, \"#fdca26\"], [1.0, \"#f0f921\"]], \"type\": \"heatmapgl\"}], \"histogram\": [{\"marker\": {\"colorbar\": {\"outlinewidth\": 0, \"ticks\": \"\"}}, \"type\": \"histogram\"}], \"histogram2d\": [{\"colorbar\": {\"outlinewidth\": 0, \"ticks\": \"\"}, \"colorscale\": [[0.0, \"#0d0887\"], [0.1111111111111111, \"#46039f\"], [0.2222222222222222, \"#7201a8\"], [0.3333333333333333, \"#9c179e\"], [0.4444444444444444, \"#bd3786\"], [0.5555555555555556, \"#d8576b\"], [0.6666666666666666, \"#ed7953\"], [0.7777777777777778, \"#fb9f3a\"], [0.8888888888888888, \"#fdca26\"], [1.0, \"#f0f921\"]], \"type\": \"histogram2d\"}], \"histogram2dcontour\": [{\"colorbar\": {\"outlinewidth\": 0, \"ticks\": \"\"}, \"colorscale\": [[0.0, \"#0d0887\"], [0.1111111111111111, \"#46039f\"], [0.2222222222222222, \"#7201a8\"], [0.3333333333333333, \"#9c179e\"], [0.4444444444444444, \"#bd3786\"], [0.5555555555555556, \"#d8576b\"], [0.6666666666666666, \"#ed7953\"], [0.7777777777777778, \"#fb9f3a\"], [0.8888888888888888, \"#fdca26\"], [1.0, \"#f0f921\"]], \"type\": \"histogram2dcontour\"}], \"mesh3d\": [{\"colorbar\": {\"outlinewidth\": 0, \"ticks\": \"\"}, \"type\": \"mesh3d\"}], \"parcoords\": [{\"line\": {\"colorbar\": {\"outlinewidth\": 0, \"ticks\": \"\"}}, \"type\": \"parcoords\"}], \"pie\": [{\"automargin\": true, \"type\": \"pie\"}], \"scatter\": [{\"marker\": {\"colorbar\": {\"outlinewidth\": 0, \"ticks\": \"\"}}, \"type\": \"scatter\"}], \"scatter3d\": [{\"line\": {\"colorbar\": {\"outlinewidth\": 0, \"ticks\": \"\"}}, \"marker\": {\"colorbar\": {\"outlinewidth\": 0, \"ticks\": \"\"}}, \"type\": \"scatter3d\"}], \"scattercarpet\": [{\"marker\": {\"colorbar\": {\"outlinewidth\": 0, \"ticks\": \"\"}}, \"type\": \"scattercarpet\"}], \"scattergeo\": [{\"marker\": {\"colorbar\": {\"outlinewidth\": 0, \"ticks\": \"\"}}, \"type\": \"scattergeo\"}], \"scattergl\": [{\"marker\": {\"colorbar\": {\"outlinewidth\": 0, \"ticks\": \"\"}}, \"type\": \"scattergl\"}], \"scattermapbox\": [{\"marker\": {\"colorbar\": {\"outlinewidth\": 0, \"ticks\": \"\"}}, \"type\": \"scattermapbox\"}], \"scatterpolar\": [{\"marker\": {\"colorbar\": {\"outlinewidth\": 0, \"ticks\": \"\"}}, \"type\": \"scatterpolar\"}], \"scatterpolargl\": [{\"marker\": {\"colorbar\": {\"outlinewidth\": 0, \"ticks\": \"\"}}, \"type\": \"scatterpolargl\"}], \"scatterternary\": [{\"marker\": {\"colorbar\": {\"outlinewidth\": 0, \"ticks\": \"\"}}, \"type\": \"scatterternary\"}], \"surface\": [{\"colorbar\": {\"outlinewidth\": 0, \"ticks\": \"\"}, \"colorscale\": [[0.0, \"#0d0887\"], [0.1111111111111111, \"#46039f\"], [0.2222222222222222, \"#7201a8\"], [0.3333333333333333, \"#9c179e\"], [0.4444444444444444, \"#bd3786\"], [0.5555555555555556, \"#d8576b\"], [0.6666666666666666, \"#ed7953\"], [0.7777777777777778, \"#fb9f3a\"], [0.8888888888888888, \"#fdca26\"], [1.0, \"#f0f921\"]], \"type\": \"surface\"}], \"table\": [{\"cells\": {\"fill\": {\"color\": \"#EBF0F8\"}, \"line\": {\"color\": \"white\"}}, \"header\": {\"fill\": {\"color\": \"#C8D4E3\"}, \"line\": {\"color\": \"white\"}}, \"type\": \"table\"}]}, \"layout\": {\"annotationdefaults\": {\"arrowcolor\": \"#2a3f5f\", \"arrowhead\": 0, \"arrowwidth\": 1}, \"coloraxis\": {\"colorbar\": {\"outlinewidth\": 0, \"ticks\": \"\"}}, \"colorscale\": {\"diverging\": [[0, \"#8e0152\"], [0.1, \"#c51b7d\"], [0.2, \"#de77ae\"], [0.3, \"#f1b6da\"], [0.4, \"#fde0ef\"], [0.5, \"#f7f7f7\"], [0.6, \"#e6f5d0\"], [0.7, \"#b8e186\"], [0.8, \"#7fbc41\"], [0.9, \"#4d9221\"], [1, \"#276419\"]], \"sequential\": [[0.0, \"#0d0887\"], [0.1111111111111111, \"#46039f\"], [0.2222222222222222, \"#7201a8\"], [0.3333333333333333, \"#9c179e\"], [0.4444444444444444, \"#bd3786\"], [0.5555555555555556, \"#d8576b\"], [0.6666666666666666, \"#ed7953\"], [0.7777777777777778, \"#fb9f3a\"], [0.8888888888888888, \"#fdca26\"], [1.0, \"#f0f921\"]], \"sequentialminus\": [[0.0, \"#0d0887\"], [0.1111111111111111, \"#46039f\"], [0.2222222222222222, \"#7201a8\"], [0.3333333333333333, \"#9c179e\"], [0.4444444444444444, \"#bd3786\"], [0.5555555555555556, \"#d8576b\"], [0.6666666666666666, \"#ed7953\"], [0.7777777777777778, \"#fb9f3a\"], [0.8888888888888888, \"#fdca26\"], [1.0, \"#f0f921\"]]}, \"colorway\": [\"#636efa\", \"#EF553B\", \"#00cc96\", \"#ab63fa\", \"#FFA15A\", \"#19d3f3\", \"#FF6692\", \"#B6E880\", \"#FF97FF\", \"#FECB52\"], \"font\": {\"color\": \"#2a3f5f\"}, \"geo\": {\"bgcolor\": \"white\", \"lakecolor\": \"white\", \"landcolor\": \"#E5ECF6\", \"showlakes\": true, \"showland\": true, \"subunitcolor\": \"white\"}, \"hoverlabel\": {\"align\": \"left\"}, \"hovermode\": \"closest\", \"mapbox\": {\"style\": \"light\"}, \"paper_bgcolor\": \"white\", \"plot_bgcolor\": \"#E5ECF6\", \"polar\": {\"angularaxis\": {\"gridcolor\": \"white\", \"linecolor\": \"white\", \"ticks\": \"\"}, \"bgcolor\": \"#E5ECF6\", \"radialaxis\": {\"gridcolor\": \"white\", \"linecolor\": \"white\", \"ticks\": \"\"}}, \"scene\": {\"xaxis\": {\"backgroundcolor\": \"#E5ECF6\", \"gridcolor\": \"white\", \"gridwidth\": 2, \"linecolor\": \"white\", \"showbackground\": true, \"ticks\": \"\", \"zerolinecolor\": \"white\"}, \"yaxis\": {\"backgroundcolor\": \"#E5ECF6\", \"gridcolor\": \"white\", \"gridwidth\": 2, \"linecolor\": \"white\", \"showbackground\": true, \"ticks\": \"\", \"zerolinecolor\": \"white\"}, \"zaxis\": {\"backgroundcolor\": \"#E5ECF6\", \"gridcolor\": \"white\", \"gridwidth\": 2, \"linecolor\": \"white\", \"showbackground\": true, \"ticks\": \"\", \"zerolinecolor\": \"white\"}}, \"shapedefaults\": {\"line\": {\"color\": \"#2a3f5f\"}}, \"ternary\": {\"aaxis\": {\"gridcolor\": \"white\", \"linecolor\": \"white\", \"ticks\": \"\"}, \"baxis\": {\"gridcolor\": \"white\", \"linecolor\": \"white\", \"ticks\": \"\"}, \"bgcolor\": \"#E5ECF6\", \"caxis\": {\"gridcolor\": \"white\", \"linecolor\": \"white\", \"ticks\": \"\"}}, \"title\": {\"x\": 0.05}, \"xaxis\": {\"automargin\": true, \"gridcolor\": \"white\", \"linecolor\": \"white\", \"ticks\": \"\", \"title\": {\"standoff\": 15}, \"zerolinecolor\": \"white\", \"zerolinewidth\": 2}, \"yaxis\": {\"automargin\": true, \"gridcolor\": \"white\", \"linecolor\": \"white\", \"ticks\": \"\", \"title\": {\"standoff\": 15}, \"zerolinecolor\": \"white\", \"zerolinewidth\": 2}}}, \"title\": {\"font\": {\"color\": \"#4D5663\"}}, \"xaxis\": {\"gridcolor\": \"#E1E5ED\", \"showgrid\": true, \"tickfont\": {\"color\": \"#4D5663\"}, \"title\": {\"font\": {\"color\": \"#4D5663\"}, \"text\": \"\"}, \"zerolinecolor\": \"#E1E5ED\"}, \"yaxis\": {\"gridcolor\": \"#E1E5ED\", \"showgrid\": true, \"tickfont\": {\"color\": \"#4D5663\"}, \"title\": {\"font\": {\"color\": \"#4D5663\"}, \"text\": \"\"}, \"zerolinecolor\": \"#E1E5ED\"}},                        {\"showLink\": true, \"linkText\": \"Export to plot.ly\", \"plotlyServerURL\": \"https://plot.ly\", \"responsive\": true}                    ).then(function(){\n",
       "                            \n",
       "var gd = document.getElementById('28f9ef13-06f3-4f18-ad13-b691438da21d');\n",
       "var x = new MutationObserver(function (mutations, observer) {{\n",
       "        var display = window.getComputedStyle(gd).display;\n",
       "        if (!display || display === 'none') {{\n",
       "            console.log([gd, 'removed!']);\n",
       "            Plotly.purge(gd);\n",
       "            observer.disconnect();\n",
       "        }}\n",
       "}});\n",
       "\n",
       "// Listen for the removal of the full notebook cells\n",
       "var notebookContainer = gd.closest('#notebook-container');\n",
       "if (notebookContainer) {{\n",
       "    x.observe(notebookContainer, {childList: true});\n",
       "}}\n",
       "\n",
       "// Listen for the clearing of the current output cell\n",
       "var outputEl = gd.closest('.output');\n",
       "if (outputEl) {{\n",
       "    x.observe(outputEl, {childList: true});\n",
       "}}\n",
       "\n",
       "                        })                };                });            </script>        </div>"
      ]
     },
     "metadata": {},
     "output_type": "display_data"
    }
   ],
   "source": [
    "df['A'].iplot(kind='hist',bins=25)"
   ]
  },
  {
   "cell_type": "code",
   "execution_count": 17,
   "metadata": {},
   "outputs": [
    {
     "data": {
      "application/vnd.plotly.v1+json": {
       "config": {
        "linkText": "Export to plot.ly",
        "plotlyServerURL": "https://plot.ly",
        "showLink": true
       },
       "data": [
        {
         "marker": {
          "color": [
           "rgb(255, 153, 51)",
           "rgb(55, 128, 191)",
           "rgb(50, 171, 96)",
           "rgb(128, 0, 128)",
           "rgb(219, 64, 82)",
           "rgb(0, 128, 128)",
           "rgb(255, 255, 51)",
           "rgb(128, 128, 0)",
           "rgb(251, 128, 114)",
           "rgb(128, 177, 211)"
          ],
          "line": {
           "width": 1.3
          },
          "size": [
           72,
           59,
           62,
           49,
           38,
           89,
           59,
           81,
           52,
           74,
           26,
           75,
           92,
           38,
           86,
           67,
           42,
           68,
           22,
           73,
           74,
           83,
           59,
           67,
           64,
           42,
           41,
           38,
           51,
           43,
           99,
           58,
           72,
           51,
           17,
           60,
           44,
           32,
           55,
           31,
           37,
           49,
           90,
           44,
           72,
           32,
           53,
           59,
           55,
           84,
           79,
           75,
           41,
           82,
           51,
           55,
           77,
           63,
           59,
           15,
           45,
           72,
           84,
           17,
           33,
           47,
           58,
           39,
           31,
           68,
           76,
           72,
           83,
           32,
           76,
           44,
           33,
           28,
           80,
           87,
           36,
           68,
           27,
           81,
           60,
           68,
           58,
           12,
           44,
           106,
           112,
           53,
           44,
           34,
           73,
           57,
           48,
           73,
           26,
           42
          ],
          "symbol": "circle"
         },
         "mode": "markers",
         "text": "",
         "type": "scatter",
         "x": [
          0.522556105813715,
          0.8366465175888684,
          -0.664603970479962,
          -0.6611168116320768,
          -0.029293198680295153,
          0.630440914253106,
          0.24536832097911143,
          0.5213441943977241,
          -0.6409830943135116,
          -1.2795322536768938,
          1.5529623456032118,
          -2.303638277851841,
          -0.08246423455366149,
          -0.6603240942134286,
          -1.3320172245876538,
          0.27054147790735356,
          -2.3102127601116957,
          -1.180959337349101,
          -1.6620377976952876,
          1.5467169576834783,
          -0.4169363614353314,
          -0.9631554333059279,
          -1.4560511712205557,
          -2.0404767103485617,
          1.9954182190915115,
          0.5205977940769877,
          -0.6707041858894667,
          1.190860114617754,
          0.4236278788802016,
          0.5951909517408043,
          0.0722911467287905,
          -0.8749298041157985,
          0.9194636594323516,
          1.4883038699736955,
          -3.4230147844322922,
          1.1924595949170957,
          1.4008954471598927,
          -1.1151174087094455,
          -1.1995365117501031,
          0.8110171223718338,
          -1.8292495637863746,
          2.0529700474973525,
          -1.3165906845861155,
          1.667125932294143,
          -1.3404983717729393,
          -0.6267318398612008,
          -1.733235590397368,
          -0.7963674104484132,
          -0.8623741759795556,
          -0.7773317335322487,
          -0.47181762470855554,
          0.07716999711133517,
          0.35817988537598444,
          -0.3295384933143855,
          0.6653512574814932,
          -0.4486369697071627,
          0.7099314026754735,
          -0.4542041749256783,
          -0.0746400765540713,
          0.21189666518828398,
          0.8737431149504534,
          0.4858681671093836,
          0.777834053956173,
          1.2796759802166797,
          -0.019325062343936078,
          -0.7744760972835689,
          -0.6060372583098742,
          1.0343304682727885,
          -1.5922954029379874,
          -0.6296209412783041,
          0.5207527208513598,
          -0.8729548116088645,
          -1.2396683909340585,
          -0.5932494118087088,
          0.0032824444979755235,
          0.5378194907114049,
          0.331241280973708,
          -1.278552728158368,
          -0.0995570035566114,
          -0.2453115203777214,
          0.5485210558743719,
          0.21445941172442826,
          -1.2505565269743624,
          -0.7799754350761642,
          1.3686204262485862,
          0.3353102228299381,
          -0.9002585779060629,
          2.1043905766033024,
          -0.6498677108938995,
          0.5634701912298704,
          -1.6338513008111868,
          -0.36347720593876093,
          1.9520757630587742,
          -0.923410126462932,
          1.203474471477271,
          1.1792980741286028,
          0.17293066836863386,
          -1.1796690199363606,
          -2.055002219050221,
          -1.3653009952725936
         ],
         "y": [
          -1.0502366155422067,
          -0.021961193335135246,
          -0.5765927169777691,
          2.248965683306026,
          -1.0018182265616553,
          -0.894238683015506,
          0.6460866751885185,
          -1.3115427152492027,
          1.3166852659343116,
          1.926211376247639,
          -0.2922318185022914,
          0.09152608733805903,
          -0.7430556408676412,
          -0.578476852932132,
          0.6642732928180614,
          -1.0057961103352402,
          -0.056384208433620034,
          1.0909053059116434,
          0.4734520127620457,
          -0.02676628959820128,
          -0.22708984983508898,
          0.9741417789799731,
          -1.5145327182874229,
          1.2834117079537986,
          0.6741070591221596,
          0.24083067110312012,
          0.8555734521733575,
          0.6306027272359749,
          1.5763162765394942,
          -0.5958029804768725,
          1.568304227917459,
          0.05975424687522171,
          -1.706261214114887,
          1.7312151731908052,
          -1.7080487887071312,
          -0.43781305829364797,
          0.20921487935513305,
          -2.259297390099242,
          1.218643322819174,
          0.32418168737135344,
          0.6564577271674744,
          -1.0721690985177132,
          -0.6557675467597885,
          -0.12441768390177917,
          0.7006888292110914,
          1.7994324854881514,
          -1.1572248539641468,
          -0.20803654802745664,
          0.12223982689574536,
          0.9016669965242321,
          0.02851091151994256,
          -0.04349225640139199,
          -0.8098781338219512,
          -0.12311448162771756,
          0.9760908000146804,
          -1.0199094785959937,
          -0.4571566426231742,
          1.3938270495469804,
          -0.9199946915318254,
          0.8866663856815331,
          0.3058242139615769,
          -0.45665461339037566,
          -0.5152722731281091,
          0.5113151944185977,
          -1.2122833743218226,
          2.8912100887402654,
          -1.0200521532784588,
          0.29861556578277937,
          -1.82601771971382,
          0.2629590316929113,
          -0.24178830164881776,
          0.734374599908883,
          -0.771622179092258,
          -0.9050560338468139,
          -0.36113285074818186,
          0.6688510578903628,
          -1.4846396280995497,
          0.6829643443929462,
          1.3481232854267218,
          -0.3780301066171847,
          -0.21712034615308187,
          0.23588244120169044,
          0.6797192924255304,
          -0.9562785562071007,
          0.5230709190292472,
          0.8152487481197463,
          -0.2461668611776281,
          0.42057386032266425,
          -1.9427434567661108,
          -0.35009411437483956,
          -0.5247859106616706,
          0.9801017518398779,
          0.21683762267305612,
          0.10109849438698844,
          -0.010736076482799084,
          -0.3068822190517889,
          0.1657544349926027,
          -0.5373922231954307,
          1.9009029986905681,
          0.2860674527087954
         ]
        }
       ],
       "layout": {
        "legend": {
         "bgcolor": "#F5F6F9",
         "font": {
          "color": "#4D5663"
         }
        },
        "paper_bgcolor": "#F5F6F9",
        "plot_bgcolor": "#F5F6F9",
        "template": {
         "data": {
          "bar": [
           {
            "error_x": {
             "color": "#2a3f5f"
            },
            "error_y": {
             "color": "#2a3f5f"
            },
            "marker": {
             "line": {
              "color": "#E5ECF6",
              "width": 0.5
             }
            },
            "type": "bar"
           }
          ],
          "barpolar": [
           {
            "marker": {
             "line": {
              "color": "#E5ECF6",
              "width": 0.5
             }
            },
            "type": "barpolar"
           }
          ],
          "carpet": [
           {
            "aaxis": {
             "endlinecolor": "#2a3f5f",
             "gridcolor": "white",
             "linecolor": "white",
             "minorgridcolor": "white",
             "startlinecolor": "#2a3f5f"
            },
            "baxis": {
             "endlinecolor": "#2a3f5f",
             "gridcolor": "white",
             "linecolor": "white",
             "minorgridcolor": "white",
             "startlinecolor": "#2a3f5f"
            },
            "type": "carpet"
           }
          ],
          "choropleth": [
           {
            "colorbar": {
             "outlinewidth": 0,
             "ticks": ""
            },
            "type": "choropleth"
           }
          ],
          "contour": [
           {
            "colorbar": {
             "outlinewidth": 0,
             "ticks": ""
            },
            "colorscale": [
             [
              0,
              "#0d0887"
             ],
             [
              0.1111111111111111,
              "#46039f"
             ],
             [
              0.2222222222222222,
              "#7201a8"
             ],
             [
              0.3333333333333333,
              "#9c179e"
             ],
             [
              0.4444444444444444,
              "#bd3786"
             ],
             [
              0.5555555555555556,
              "#d8576b"
             ],
             [
              0.6666666666666666,
              "#ed7953"
             ],
             [
              0.7777777777777778,
              "#fb9f3a"
             ],
             [
              0.8888888888888888,
              "#fdca26"
             ],
             [
              1,
              "#f0f921"
             ]
            ],
            "type": "contour"
           }
          ],
          "contourcarpet": [
           {
            "colorbar": {
             "outlinewidth": 0,
             "ticks": ""
            },
            "type": "contourcarpet"
           }
          ],
          "heatmap": [
           {
            "colorbar": {
             "outlinewidth": 0,
             "ticks": ""
            },
            "colorscale": [
             [
              0,
              "#0d0887"
             ],
             [
              0.1111111111111111,
              "#46039f"
             ],
             [
              0.2222222222222222,
              "#7201a8"
             ],
             [
              0.3333333333333333,
              "#9c179e"
             ],
             [
              0.4444444444444444,
              "#bd3786"
             ],
             [
              0.5555555555555556,
              "#d8576b"
             ],
             [
              0.6666666666666666,
              "#ed7953"
             ],
             [
              0.7777777777777778,
              "#fb9f3a"
             ],
             [
              0.8888888888888888,
              "#fdca26"
             ],
             [
              1,
              "#f0f921"
             ]
            ],
            "type": "heatmap"
           }
          ],
          "heatmapgl": [
           {
            "colorbar": {
             "outlinewidth": 0,
             "ticks": ""
            },
            "colorscale": [
             [
              0,
              "#0d0887"
             ],
             [
              0.1111111111111111,
              "#46039f"
             ],
             [
              0.2222222222222222,
              "#7201a8"
             ],
             [
              0.3333333333333333,
              "#9c179e"
             ],
             [
              0.4444444444444444,
              "#bd3786"
             ],
             [
              0.5555555555555556,
              "#d8576b"
             ],
             [
              0.6666666666666666,
              "#ed7953"
             ],
             [
              0.7777777777777778,
              "#fb9f3a"
             ],
             [
              0.8888888888888888,
              "#fdca26"
             ],
             [
              1,
              "#f0f921"
             ]
            ],
            "type": "heatmapgl"
           }
          ],
          "histogram": [
           {
            "marker": {
             "colorbar": {
              "outlinewidth": 0,
              "ticks": ""
             }
            },
            "type": "histogram"
           }
          ],
          "histogram2d": [
           {
            "colorbar": {
             "outlinewidth": 0,
             "ticks": ""
            },
            "colorscale": [
             [
              0,
              "#0d0887"
             ],
             [
              0.1111111111111111,
              "#46039f"
             ],
             [
              0.2222222222222222,
              "#7201a8"
             ],
             [
              0.3333333333333333,
              "#9c179e"
             ],
             [
              0.4444444444444444,
              "#bd3786"
             ],
             [
              0.5555555555555556,
              "#d8576b"
             ],
             [
              0.6666666666666666,
              "#ed7953"
             ],
             [
              0.7777777777777778,
              "#fb9f3a"
             ],
             [
              0.8888888888888888,
              "#fdca26"
             ],
             [
              1,
              "#f0f921"
             ]
            ],
            "type": "histogram2d"
           }
          ],
          "histogram2dcontour": [
           {
            "colorbar": {
             "outlinewidth": 0,
             "ticks": ""
            },
            "colorscale": [
             [
              0,
              "#0d0887"
             ],
             [
              0.1111111111111111,
              "#46039f"
             ],
             [
              0.2222222222222222,
              "#7201a8"
             ],
             [
              0.3333333333333333,
              "#9c179e"
             ],
             [
              0.4444444444444444,
              "#bd3786"
             ],
             [
              0.5555555555555556,
              "#d8576b"
             ],
             [
              0.6666666666666666,
              "#ed7953"
             ],
             [
              0.7777777777777778,
              "#fb9f3a"
             ],
             [
              0.8888888888888888,
              "#fdca26"
             ],
             [
              1,
              "#f0f921"
             ]
            ],
            "type": "histogram2dcontour"
           }
          ],
          "mesh3d": [
           {
            "colorbar": {
             "outlinewidth": 0,
             "ticks": ""
            },
            "type": "mesh3d"
           }
          ],
          "parcoords": [
           {
            "line": {
             "colorbar": {
              "outlinewidth": 0,
              "ticks": ""
             }
            },
            "type": "parcoords"
           }
          ],
          "pie": [
           {
            "automargin": true,
            "type": "pie"
           }
          ],
          "scatter": [
           {
            "marker": {
             "colorbar": {
              "outlinewidth": 0,
              "ticks": ""
             }
            },
            "type": "scatter"
           }
          ],
          "scatter3d": [
           {
            "line": {
             "colorbar": {
              "outlinewidth": 0,
              "ticks": ""
             }
            },
            "marker": {
             "colorbar": {
              "outlinewidth": 0,
              "ticks": ""
             }
            },
            "type": "scatter3d"
           }
          ],
          "scattercarpet": [
           {
            "marker": {
             "colorbar": {
              "outlinewidth": 0,
              "ticks": ""
             }
            },
            "type": "scattercarpet"
           }
          ],
          "scattergeo": [
           {
            "marker": {
             "colorbar": {
              "outlinewidth": 0,
              "ticks": ""
             }
            },
            "type": "scattergeo"
           }
          ],
          "scattergl": [
           {
            "marker": {
             "colorbar": {
              "outlinewidth": 0,
              "ticks": ""
             }
            },
            "type": "scattergl"
           }
          ],
          "scattermapbox": [
           {
            "marker": {
             "colorbar": {
              "outlinewidth": 0,
              "ticks": ""
             }
            },
            "type": "scattermapbox"
           }
          ],
          "scatterpolar": [
           {
            "marker": {
             "colorbar": {
              "outlinewidth": 0,
              "ticks": ""
             }
            },
            "type": "scatterpolar"
           }
          ],
          "scatterpolargl": [
           {
            "marker": {
             "colorbar": {
              "outlinewidth": 0,
              "ticks": ""
             }
            },
            "type": "scatterpolargl"
           }
          ],
          "scatterternary": [
           {
            "marker": {
             "colorbar": {
              "outlinewidth": 0,
              "ticks": ""
             }
            },
            "type": "scatterternary"
           }
          ],
          "surface": [
           {
            "colorbar": {
             "outlinewidth": 0,
             "ticks": ""
            },
            "colorscale": [
             [
              0,
              "#0d0887"
             ],
             [
              0.1111111111111111,
              "#46039f"
             ],
             [
              0.2222222222222222,
              "#7201a8"
             ],
             [
              0.3333333333333333,
              "#9c179e"
             ],
             [
              0.4444444444444444,
              "#bd3786"
             ],
             [
              0.5555555555555556,
              "#d8576b"
             ],
             [
              0.6666666666666666,
              "#ed7953"
             ],
             [
              0.7777777777777778,
              "#fb9f3a"
             ],
             [
              0.8888888888888888,
              "#fdca26"
             ],
             [
              1,
              "#f0f921"
             ]
            ],
            "type": "surface"
           }
          ],
          "table": [
           {
            "cells": {
             "fill": {
              "color": "#EBF0F8"
             },
             "line": {
              "color": "white"
             }
            },
            "header": {
             "fill": {
              "color": "#C8D4E3"
             },
             "line": {
              "color": "white"
             }
            },
            "type": "table"
           }
          ]
         },
         "layout": {
          "annotationdefaults": {
           "arrowcolor": "#2a3f5f",
           "arrowhead": 0,
           "arrowwidth": 1
          },
          "coloraxis": {
           "colorbar": {
            "outlinewidth": 0,
            "ticks": ""
           }
          },
          "colorscale": {
           "diverging": [
            [
             0,
             "#8e0152"
            ],
            [
             0.1,
             "#c51b7d"
            ],
            [
             0.2,
             "#de77ae"
            ],
            [
             0.3,
             "#f1b6da"
            ],
            [
             0.4,
             "#fde0ef"
            ],
            [
             0.5,
             "#f7f7f7"
            ],
            [
             0.6,
             "#e6f5d0"
            ],
            [
             0.7,
             "#b8e186"
            ],
            [
             0.8,
             "#7fbc41"
            ],
            [
             0.9,
             "#4d9221"
            ],
            [
             1,
             "#276419"
            ]
           ],
           "sequential": [
            [
             0,
             "#0d0887"
            ],
            [
             0.1111111111111111,
             "#46039f"
            ],
            [
             0.2222222222222222,
             "#7201a8"
            ],
            [
             0.3333333333333333,
             "#9c179e"
            ],
            [
             0.4444444444444444,
             "#bd3786"
            ],
            [
             0.5555555555555556,
             "#d8576b"
            ],
            [
             0.6666666666666666,
             "#ed7953"
            ],
            [
             0.7777777777777778,
             "#fb9f3a"
            ],
            [
             0.8888888888888888,
             "#fdca26"
            ],
            [
             1,
             "#f0f921"
            ]
           ],
           "sequentialminus": [
            [
             0,
             "#0d0887"
            ],
            [
             0.1111111111111111,
             "#46039f"
            ],
            [
             0.2222222222222222,
             "#7201a8"
            ],
            [
             0.3333333333333333,
             "#9c179e"
            ],
            [
             0.4444444444444444,
             "#bd3786"
            ],
            [
             0.5555555555555556,
             "#d8576b"
            ],
            [
             0.6666666666666666,
             "#ed7953"
            ],
            [
             0.7777777777777778,
             "#fb9f3a"
            ],
            [
             0.8888888888888888,
             "#fdca26"
            ],
            [
             1,
             "#f0f921"
            ]
           ]
          },
          "colorway": [
           "#636efa",
           "#EF553B",
           "#00cc96",
           "#ab63fa",
           "#FFA15A",
           "#19d3f3",
           "#FF6692",
           "#B6E880",
           "#FF97FF",
           "#FECB52"
          ],
          "font": {
           "color": "#2a3f5f"
          },
          "geo": {
           "bgcolor": "white",
           "lakecolor": "white",
           "landcolor": "#E5ECF6",
           "showlakes": true,
           "showland": true,
           "subunitcolor": "white"
          },
          "hoverlabel": {
           "align": "left"
          },
          "hovermode": "closest",
          "mapbox": {
           "style": "light"
          },
          "paper_bgcolor": "white",
          "plot_bgcolor": "#E5ECF6",
          "polar": {
           "angularaxis": {
            "gridcolor": "white",
            "linecolor": "white",
            "ticks": ""
           },
           "bgcolor": "#E5ECF6",
           "radialaxis": {
            "gridcolor": "white",
            "linecolor": "white",
            "ticks": ""
           }
          },
          "scene": {
           "xaxis": {
            "backgroundcolor": "#E5ECF6",
            "gridcolor": "white",
            "gridwidth": 2,
            "linecolor": "white",
            "showbackground": true,
            "ticks": "",
            "zerolinecolor": "white"
           },
           "yaxis": {
            "backgroundcolor": "#E5ECF6",
            "gridcolor": "white",
            "gridwidth": 2,
            "linecolor": "white",
            "showbackground": true,
            "ticks": "",
            "zerolinecolor": "white"
           },
           "zaxis": {
            "backgroundcolor": "#E5ECF6",
            "gridcolor": "white",
            "gridwidth": 2,
            "linecolor": "white",
            "showbackground": true,
            "ticks": "",
            "zerolinecolor": "white"
           }
          },
          "shapedefaults": {
           "line": {
            "color": "#2a3f5f"
           }
          },
          "ternary": {
           "aaxis": {
            "gridcolor": "white",
            "linecolor": "white",
            "ticks": ""
           },
           "baxis": {
            "gridcolor": "white",
            "linecolor": "white",
            "ticks": ""
           },
           "bgcolor": "#E5ECF6",
           "caxis": {
            "gridcolor": "white",
            "linecolor": "white",
            "ticks": ""
           }
          },
          "title": {
           "x": 0.05
          },
          "xaxis": {
           "automargin": true,
           "gridcolor": "white",
           "linecolor": "white",
           "ticks": "",
           "title": {
            "standoff": 15
           },
           "zerolinecolor": "white",
           "zerolinewidth": 2
          },
          "yaxis": {
           "automargin": true,
           "gridcolor": "white",
           "linecolor": "white",
           "ticks": "",
           "title": {
            "standoff": 15
           },
           "zerolinecolor": "white",
           "zerolinewidth": 2
          }
         }
        },
        "title": {
         "font": {
          "color": "#4D5663"
         }
        },
        "xaxis": {
         "gridcolor": "#E1E5ED",
         "showgrid": true,
         "tickfont": {
          "color": "#4D5663"
         },
         "title": {
          "font": {
           "color": "#4D5663"
          },
          "text": ""
         },
         "zerolinecolor": "#E1E5ED"
        },
        "yaxis": {
         "gridcolor": "#E1E5ED",
         "showgrid": true,
         "tickfont": {
          "color": "#4D5663"
         },
         "title": {
          "font": {
           "color": "#4D5663"
          },
          "text": ""
         },
         "zerolinecolor": "#E1E5ED"
        }
       }
      },
      "text/html": [
       "<div>                            <div id=\"9ad93cba-bb00-42ae-ac4c-ca620f77b77a\" class=\"plotly-graph-div\" style=\"height:525px; width:100%;\"></div>            <script type=\"text/javascript\">                require([\"plotly\"], function(Plotly) {                    window.PLOTLYENV=window.PLOTLYENV || {};\n",
       "                    window.PLOTLYENV.BASE_URL='https://plot.ly';                                    if (document.getElementById(\"9ad93cba-bb00-42ae-ac4c-ca620f77b77a\")) {                    Plotly.newPlot(                        \"9ad93cba-bb00-42ae-ac4c-ca620f77b77a\",                        [{\"marker\": {\"color\": [\"rgb(255, 153, 51)\", \"rgb(55, 128, 191)\", \"rgb(50, 171, 96)\", \"rgb(128, 0, 128)\", \"rgb(219, 64, 82)\", \"rgb(0, 128, 128)\", \"rgb(255, 255, 51)\", \"rgb(128, 128, 0)\", \"rgb(251, 128, 114)\", \"rgb(128, 177, 211)\"], \"line\": {\"width\": 1.3}, \"size\": [72, 59, 62, 49, 38, 89, 59, 81, 52, 74, 26, 75, 92, 38, 86, 67, 42, 68, 22, 73, 74, 83, 59, 67, 64, 42, 41, 38, 51, 43, 99, 58, 72, 51, 17, 60, 44, 32, 55, 31, 37, 49, 90, 44, 72, 32, 53, 59, 55, 84, 79, 75, 41, 82, 51, 55, 77, 63, 59, 15, 45, 72, 84, 17, 33, 47, 58, 39, 31, 68, 76, 72, 83, 32, 76, 44, 33, 28, 80, 87, 36, 68, 27, 81, 60, 68, 58, 12, 44, 106, 112, 53, 44, 34, 73, 57, 48, 73, 26, 42], \"symbol\": \"circle\"}, \"mode\": \"markers\", \"text\": \"\", \"type\": \"scatter\", \"x\": [0.522556105813715, 0.8366465175888684, -0.664603970479962, -0.6611168116320768, -0.029293198680295153, 0.630440914253106, 0.24536832097911143, 0.5213441943977241, -0.6409830943135116, -1.2795322536768938, 1.5529623456032118, -2.303638277851841, -0.08246423455366149, -0.6603240942134286, -1.3320172245876538, 0.27054147790735356, -2.3102127601116957, -1.180959337349101, -1.6620377976952876, 1.5467169576834783, -0.4169363614353314, -0.9631554333059279, -1.4560511712205557, -2.0404767103485617, 1.9954182190915115, 0.5205977940769877, -0.6707041858894667, 1.190860114617754, 0.4236278788802016, 0.5951909517408043, 0.0722911467287905, -0.8749298041157985, 0.9194636594323516, 1.4883038699736955, -3.4230147844322922, 1.1924595949170957, 1.4008954471598927, -1.1151174087094455, -1.1995365117501031, 0.8110171223718338, -1.8292495637863746, 2.0529700474973525, -1.3165906845861155, 1.667125932294143, -1.3404983717729393, -0.6267318398612008, -1.733235590397368, -0.7963674104484132, -0.8623741759795556, -0.7773317335322487, -0.47181762470855554, 0.07716999711133517, 0.35817988537598444, -0.3295384933143855, 0.6653512574814932, -0.4486369697071627, 0.7099314026754735, -0.4542041749256783, -0.0746400765540713, 0.21189666518828398, 0.8737431149504534, 0.4858681671093836, 0.777834053956173, 1.2796759802166797, -0.019325062343936078, -0.7744760972835689, -0.6060372583098742, 1.0343304682727885, -1.5922954029379874, -0.6296209412783041, 0.5207527208513598, -0.8729548116088645, -1.2396683909340585, -0.5932494118087088, 0.0032824444979755235, 0.5378194907114049, 0.331241280973708, -1.278552728158368, -0.0995570035566114, -0.2453115203777214, 0.5485210558743719, 0.21445941172442826, -1.2505565269743624, -0.7799754350761642, 1.3686204262485862, 0.3353102228299381, -0.9002585779060629, 2.1043905766033024, -0.6498677108938995, 0.5634701912298704, -1.6338513008111868, -0.36347720593876093, 1.9520757630587742, -0.923410126462932, 1.203474471477271, 1.1792980741286028, 0.17293066836863386, -1.1796690199363606, -2.055002219050221, -1.3653009952725936], \"y\": [-1.0502366155422067, -0.021961193335135246, -0.5765927169777691, 2.248965683306026, -1.0018182265616553, -0.894238683015506, 0.6460866751885185, -1.3115427152492027, 1.3166852659343116, 1.926211376247639, -0.2922318185022914, 0.09152608733805903, -0.7430556408676412, -0.578476852932132, 0.6642732928180614, -1.0057961103352402, -0.056384208433620034, 1.0909053059116434, 0.4734520127620457, -0.02676628959820128, -0.22708984983508898, 0.9741417789799731, -1.5145327182874229, 1.2834117079537986, 0.6741070591221596, 0.24083067110312012, 0.8555734521733575, 0.6306027272359749, 1.5763162765394942, -0.5958029804768725, 1.568304227917459, 0.05975424687522171, -1.706261214114887, 1.7312151731908052, -1.7080487887071312, -0.43781305829364797, 0.20921487935513305, -2.259297390099242, 1.218643322819174, 0.32418168737135344, 0.6564577271674744, -1.0721690985177132, -0.6557675467597885, -0.12441768390177917, 0.7006888292110914, 1.7994324854881514, -1.1572248539641468, -0.20803654802745664, 0.12223982689574536, 0.9016669965242321, 0.02851091151994256, -0.04349225640139199, -0.8098781338219512, -0.12311448162771756, 0.9760908000146804, -1.0199094785959937, -0.4571566426231742, 1.3938270495469804, -0.9199946915318254, 0.8866663856815331, 0.3058242139615769, -0.45665461339037566, -0.5152722731281091, 0.5113151944185977, -1.2122833743218226, 2.8912100887402654, -1.0200521532784588, 0.29861556578277937, -1.82601771971382, 0.2629590316929113, -0.24178830164881776, 0.734374599908883, -0.771622179092258, -0.9050560338468139, -0.36113285074818186, 0.6688510578903628, -1.4846396280995497, 0.6829643443929462, 1.3481232854267218, -0.3780301066171847, -0.21712034615308187, 0.23588244120169044, 0.6797192924255304, -0.9562785562071007, 0.5230709190292472, 0.8152487481197463, -0.2461668611776281, 0.42057386032266425, -1.9427434567661108, -0.35009411437483956, -0.5247859106616706, 0.9801017518398779, 0.21683762267305612, 0.10109849438698844, -0.010736076482799084, -0.3068822190517889, 0.1657544349926027, -0.5373922231954307, 1.9009029986905681, 0.2860674527087954]}],                        {\"legend\": {\"bgcolor\": \"#F5F6F9\", \"font\": {\"color\": \"#4D5663\"}}, \"paper_bgcolor\": \"#F5F6F9\", \"plot_bgcolor\": \"#F5F6F9\", \"template\": {\"data\": {\"bar\": [{\"error_x\": {\"color\": \"#2a3f5f\"}, \"error_y\": {\"color\": \"#2a3f5f\"}, \"marker\": {\"line\": {\"color\": \"#E5ECF6\", \"width\": 0.5}}, \"type\": \"bar\"}], \"barpolar\": [{\"marker\": {\"line\": {\"color\": \"#E5ECF6\", \"width\": 0.5}}, \"type\": \"barpolar\"}], \"carpet\": [{\"aaxis\": {\"endlinecolor\": \"#2a3f5f\", \"gridcolor\": \"white\", \"linecolor\": \"white\", \"minorgridcolor\": \"white\", \"startlinecolor\": \"#2a3f5f\"}, \"baxis\": {\"endlinecolor\": \"#2a3f5f\", \"gridcolor\": \"white\", \"linecolor\": \"white\", \"minorgridcolor\": \"white\", \"startlinecolor\": \"#2a3f5f\"}, \"type\": \"carpet\"}], \"choropleth\": [{\"colorbar\": {\"outlinewidth\": 0, \"ticks\": \"\"}, \"type\": \"choropleth\"}], \"contour\": [{\"colorbar\": {\"outlinewidth\": 0, \"ticks\": \"\"}, \"colorscale\": [[0.0, \"#0d0887\"], [0.1111111111111111, \"#46039f\"], [0.2222222222222222, \"#7201a8\"], [0.3333333333333333, \"#9c179e\"], [0.4444444444444444, \"#bd3786\"], [0.5555555555555556, \"#d8576b\"], [0.6666666666666666, \"#ed7953\"], [0.7777777777777778, \"#fb9f3a\"], [0.8888888888888888, \"#fdca26\"], [1.0, \"#f0f921\"]], \"type\": \"contour\"}], \"contourcarpet\": [{\"colorbar\": {\"outlinewidth\": 0, \"ticks\": \"\"}, \"type\": \"contourcarpet\"}], \"heatmap\": [{\"colorbar\": {\"outlinewidth\": 0, \"ticks\": \"\"}, \"colorscale\": [[0.0, \"#0d0887\"], [0.1111111111111111, \"#46039f\"], [0.2222222222222222, \"#7201a8\"], [0.3333333333333333, \"#9c179e\"], [0.4444444444444444, \"#bd3786\"], [0.5555555555555556, \"#d8576b\"], [0.6666666666666666, \"#ed7953\"], [0.7777777777777778, \"#fb9f3a\"], [0.8888888888888888, \"#fdca26\"], [1.0, \"#f0f921\"]], \"type\": \"heatmap\"}], \"heatmapgl\": [{\"colorbar\": {\"outlinewidth\": 0, \"ticks\": \"\"}, \"colorscale\": [[0.0, \"#0d0887\"], [0.1111111111111111, \"#46039f\"], [0.2222222222222222, \"#7201a8\"], [0.3333333333333333, \"#9c179e\"], [0.4444444444444444, \"#bd3786\"], [0.5555555555555556, \"#d8576b\"], [0.6666666666666666, \"#ed7953\"], [0.7777777777777778, \"#fb9f3a\"], [0.8888888888888888, \"#fdca26\"], [1.0, \"#f0f921\"]], \"type\": \"heatmapgl\"}], \"histogram\": [{\"marker\": {\"colorbar\": {\"outlinewidth\": 0, \"ticks\": \"\"}}, \"type\": \"histogram\"}], \"histogram2d\": [{\"colorbar\": {\"outlinewidth\": 0, \"ticks\": \"\"}, \"colorscale\": [[0.0, \"#0d0887\"], [0.1111111111111111, \"#46039f\"], [0.2222222222222222, \"#7201a8\"], [0.3333333333333333, \"#9c179e\"], [0.4444444444444444, \"#bd3786\"], [0.5555555555555556, \"#d8576b\"], [0.6666666666666666, \"#ed7953\"], [0.7777777777777778, \"#fb9f3a\"], [0.8888888888888888, \"#fdca26\"], [1.0, \"#f0f921\"]], \"type\": \"histogram2d\"}], \"histogram2dcontour\": [{\"colorbar\": {\"outlinewidth\": 0, \"ticks\": \"\"}, \"colorscale\": [[0.0, \"#0d0887\"], [0.1111111111111111, \"#46039f\"], [0.2222222222222222, \"#7201a8\"], [0.3333333333333333, \"#9c179e\"], [0.4444444444444444, \"#bd3786\"], [0.5555555555555556, \"#d8576b\"], [0.6666666666666666, \"#ed7953\"], [0.7777777777777778, \"#fb9f3a\"], [0.8888888888888888, \"#fdca26\"], [1.0, \"#f0f921\"]], \"type\": \"histogram2dcontour\"}], \"mesh3d\": [{\"colorbar\": {\"outlinewidth\": 0, \"ticks\": \"\"}, \"type\": \"mesh3d\"}], \"parcoords\": [{\"line\": {\"colorbar\": {\"outlinewidth\": 0, \"ticks\": \"\"}}, \"type\": \"parcoords\"}], \"pie\": [{\"automargin\": true, \"type\": \"pie\"}], \"scatter\": [{\"marker\": {\"colorbar\": {\"outlinewidth\": 0, \"ticks\": \"\"}}, \"type\": \"scatter\"}], \"scatter3d\": [{\"line\": {\"colorbar\": {\"outlinewidth\": 0, \"ticks\": \"\"}}, \"marker\": {\"colorbar\": {\"outlinewidth\": 0, \"ticks\": \"\"}}, \"type\": \"scatter3d\"}], \"scattercarpet\": [{\"marker\": {\"colorbar\": {\"outlinewidth\": 0, \"ticks\": \"\"}}, \"type\": \"scattercarpet\"}], \"scattergeo\": [{\"marker\": {\"colorbar\": {\"outlinewidth\": 0, \"ticks\": \"\"}}, \"type\": \"scattergeo\"}], \"scattergl\": [{\"marker\": {\"colorbar\": {\"outlinewidth\": 0, \"ticks\": \"\"}}, \"type\": \"scattergl\"}], \"scattermapbox\": [{\"marker\": {\"colorbar\": {\"outlinewidth\": 0, \"ticks\": \"\"}}, \"type\": \"scattermapbox\"}], \"scatterpolar\": [{\"marker\": {\"colorbar\": {\"outlinewidth\": 0, \"ticks\": \"\"}}, \"type\": \"scatterpolar\"}], \"scatterpolargl\": [{\"marker\": {\"colorbar\": {\"outlinewidth\": 0, \"ticks\": \"\"}}, \"type\": \"scatterpolargl\"}], \"scatterternary\": [{\"marker\": {\"colorbar\": {\"outlinewidth\": 0, \"ticks\": \"\"}}, \"type\": \"scatterternary\"}], \"surface\": [{\"colorbar\": {\"outlinewidth\": 0, \"ticks\": \"\"}, \"colorscale\": [[0.0, \"#0d0887\"], [0.1111111111111111, \"#46039f\"], [0.2222222222222222, \"#7201a8\"], [0.3333333333333333, \"#9c179e\"], [0.4444444444444444, \"#bd3786\"], [0.5555555555555556, \"#d8576b\"], [0.6666666666666666, \"#ed7953\"], [0.7777777777777778, \"#fb9f3a\"], [0.8888888888888888, \"#fdca26\"], [1.0, \"#f0f921\"]], \"type\": \"surface\"}], \"table\": [{\"cells\": {\"fill\": {\"color\": \"#EBF0F8\"}, \"line\": {\"color\": \"white\"}}, \"header\": {\"fill\": {\"color\": \"#C8D4E3\"}, \"line\": {\"color\": \"white\"}}, \"type\": \"table\"}]}, \"layout\": {\"annotationdefaults\": {\"arrowcolor\": \"#2a3f5f\", \"arrowhead\": 0, \"arrowwidth\": 1}, \"coloraxis\": {\"colorbar\": {\"outlinewidth\": 0, \"ticks\": \"\"}}, \"colorscale\": {\"diverging\": [[0, \"#8e0152\"], [0.1, \"#c51b7d\"], [0.2, \"#de77ae\"], [0.3, \"#f1b6da\"], [0.4, \"#fde0ef\"], [0.5, \"#f7f7f7\"], [0.6, \"#e6f5d0\"], [0.7, \"#b8e186\"], [0.8, \"#7fbc41\"], [0.9, \"#4d9221\"], [1, \"#276419\"]], \"sequential\": [[0.0, \"#0d0887\"], [0.1111111111111111, \"#46039f\"], [0.2222222222222222, \"#7201a8\"], [0.3333333333333333, \"#9c179e\"], [0.4444444444444444, \"#bd3786\"], [0.5555555555555556, \"#d8576b\"], [0.6666666666666666, \"#ed7953\"], [0.7777777777777778, \"#fb9f3a\"], [0.8888888888888888, \"#fdca26\"], [1.0, \"#f0f921\"]], \"sequentialminus\": [[0.0, \"#0d0887\"], [0.1111111111111111, \"#46039f\"], [0.2222222222222222, \"#7201a8\"], [0.3333333333333333, \"#9c179e\"], [0.4444444444444444, \"#bd3786\"], [0.5555555555555556, \"#d8576b\"], [0.6666666666666666, \"#ed7953\"], [0.7777777777777778, \"#fb9f3a\"], [0.8888888888888888, \"#fdca26\"], [1.0, \"#f0f921\"]]}, \"colorway\": [\"#636efa\", \"#EF553B\", \"#00cc96\", \"#ab63fa\", \"#FFA15A\", \"#19d3f3\", \"#FF6692\", \"#B6E880\", \"#FF97FF\", \"#FECB52\"], \"font\": {\"color\": \"#2a3f5f\"}, \"geo\": {\"bgcolor\": \"white\", \"lakecolor\": \"white\", \"landcolor\": \"#E5ECF6\", \"showlakes\": true, \"showland\": true, \"subunitcolor\": \"white\"}, \"hoverlabel\": {\"align\": \"left\"}, \"hovermode\": \"closest\", \"mapbox\": {\"style\": \"light\"}, \"paper_bgcolor\": \"white\", \"plot_bgcolor\": \"#E5ECF6\", \"polar\": {\"angularaxis\": {\"gridcolor\": \"white\", \"linecolor\": \"white\", \"ticks\": \"\"}, \"bgcolor\": \"#E5ECF6\", \"radialaxis\": {\"gridcolor\": \"white\", \"linecolor\": \"white\", \"ticks\": \"\"}}, \"scene\": {\"xaxis\": {\"backgroundcolor\": \"#E5ECF6\", \"gridcolor\": \"white\", \"gridwidth\": 2, \"linecolor\": \"white\", \"showbackground\": true, \"ticks\": \"\", \"zerolinecolor\": \"white\"}, \"yaxis\": {\"backgroundcolor\": \"#E5ECF6\", \"gridcolor\": \"white\", \"gridwidth\": 2, \"linecolor\": \"white\", \"showbackground\": true, \"ticks\": \"\", \"zerolinecolor\": \"white\"}, \"zaxis\": {\"backgroundcolor\": \"#E5ECF6\", \"gridcolor\": \"white\", \"gridwidth\": 2, \"linecolor\": \"white\", \"showbackground\": true, \"ticks\": \"\", \"zerolinecolor\": \"white\"}}, \"shapedefaults\": {\"line\": {\"color\": \"#2a3f5f\"}}, \"ternary\": {\"aaxis\": {\"gridcolor\": \"white\", \"linecolor\": \"white\", \"ticks\": \"\"}, \"baxis\": {\"gridcolor\": \"white\", \"linecolor\": \"white\", \"ticks\": \"\"}, \"bgcolor\": \"#E5ECF6\", \"caxis\": {\"gridcolor\": \"white\", \"linecolor\": \"white\", \"ticks\": \"\"}}, \"title\": {\"x\": 0.05}, \"xaxis\": {\"automargin\": true, \"gridcolor\": \"white\", \"linecolor\": \"white\", \"ticks\": \"\", \"title\": {\"standoff\": 15}, \"zerolinecolor\": \"white\", \"zerolinewidth\": 2}, \"yaxis\": {\"automargin\": true, \"gridcolor\": \"white\", \"linecolor\": \"white\", \"ticks\": \"\", \"title\": {\"standoff\": 15}, \"zerolinecolor\": \"white\", \"zerolinewidth\": 2}}}, \"title\": {\"font\": {\"color\": \"#4D5663\"}}, \"xaxis\": {\"gridcolor\": \"#E1E5ED\", \"showgrid\": true, \"tickfont\": {\"color\": \"#4D5663\"}, \"title\": {\"font\": {\"color\": \"#4D5663\"}, \"text\": \"\"}, \"zerolinecolor\": \"#E1E5ED\"}, \"yaxis\": {\"gridcolor\": \"#E1E5ED\", \"showgrid\": true, \"tickfont\": {\"color\": \"#4D5663\"}, \"title\": {\"font\": {\"color\": \"#4D5663\"}, \"text\": \"\"}, \"zerolinecolor\": \"#E1E5ED\"}},                        {\"showLink\": true, \"linkText\": \"Export to plot.ly\", \"plotlyServerURL\": \"https://plot.ly\", \"responsive\": true}                    ).then(function(){\n",
       "                            \n",
       "var gd = document.getElementById('9ad93cba-bb00-42ae-ac4c-ca620f77b77a');\n",
       "var x = new MutationObserver(function (mutations, observer) {{\n",
       "        var display = window.getComputedStyle(gd).display;\n",
       "        if (!display || display === 'none') {{\n",
       "            console.log([gd, 'removed!']);\n",
       "            Plotly.purge(gd);\n",
       "            observer.disconnect();\n",
       "        }}\n",
       "}});\n",
       "\n",
       "// Listen for the removal of the full notebook cells\n",
       "var notebookContainer = gd.closest('#notebook-container');\n",
       "if (notebookContainer) {{\n",
       "    x.observe(notebookContainer, {childList: true});\n",
       "}}\n",
       "\n",
       "// Listen for the clearing of the current output cell\n",
       "var outputEl = gd.closest('.output');\n",
       "if (outputEl) {{\n",
       "    x.observe(outputEl, {childList: true});\n",
       "}}\n",
       "\n",
       "                        })                };                });            </script>        </div>"
      ]
     },
     "metadata": {},
     "output_type": "display_data"
    }
   ],
   "source": [
    "df.iplot(kind='bubble',x='A',y='B',size='C')"
   ]
  },
  {
   "cell_type": "markdown",
   "metadata": {},
   "source": [
    "## scatter_matrix()\n",
    "\n",
    "Similar to sns.pairplot()"
   ]
  },
  {
   "cell_type": "code",
   "execution_count": 18,
   "metadata": {},
   "outputs": [
    {
     "data": {
      "application/vnd.plotly.v1+json": {
       "config": {
        "linkText": "Export to plot.ly",
        "plotlyServerURL": "https://plot.ly",
        "showLink": true
       },
       "data": [
        {
         "histfunc": "count",
         "histnorm": "",
         "marker": {
          "color": "rgba(255, 153, 51, 1.0)",
          "line": {
           "color": "#4D5663",
           "width": 1.3
          }
         },
         "name": "A",
         "nbinsx": 10,
         "opacity": 0.8,
         "orientation": "v",
         "type": "histogram",
         "x": [
          0.522556105813715,
          0.8366465175888684,
          -0.664603970479962,
          -0.6611168116320768,
          -0.029293198680295153,
          0.630440914253106,
          0.24536832097911143,
          0.5213441943977241,
          -0.6409830943135116,
          -1.2795322536768938,
          1.5529623456032118,
          -2.303638277851841,
          -0.08246423455366149,
          -0.6603240942134286,
          -1.3320172245876538,
          0.27054147790735356,
          -2.3102127601116957,
          -1.180959337349101,
          -1.6620377976952876,
          1.5467169576834783,
          -0.4169363614353314,
          -0.9631554333059279,
          -1.4560511712205557,
          -2.0404767103485617,
          1.9954182190915115,
          0.5205977940769877,
          -0.6707041858894667,
          1.190860114617754,
          0.4236278788802016,
          0.5951909517408043,
          0.0722911467287905,
          -0.8749298041157985,
          0.9194636594323516,
          1.4883038699736955,
          -3.4230147844322922,
          1.1924595949170957,
          1.4008954471598927,
          -1.1151174087094455,
          -1.1995365117501031,
          0.8110171223718338,
          -1.8292495637863746,
          2.0529700474973525,
          -1.3165906845861155,
          1.667125932294143,
          -1.3404983717729393,
          -0.6267318398612008,
          -1.733235590397368,
          -0.7963674104484132,
          -0.8623741759795556,
          -0.7773317335322487,
          -0.47181762470855554,
          0.07716999711133517,
          0.35817988537598444,
          -0.3295384933143855,
          0.6653512574814932,
          -0.4486369697071627,
          0.7099314026754735,
          -0.4542041749256783,
          -0.0746400765540713,
          0.21189666518828398,
          0.8737431149504534,
          0.4858681671093836,
          0.777834053956173,
          1.2796759802166797,
          -0.019325062343936078,
          -0.7744760972835689,
          -0.6060372583098742,
          1.0343304682727885,
          -1.5922954029379874,
          -0.6296209412783041,
          0.5207527208513598,
          -0.8729548116088645,
          -1.2396683909340585,
          -0.5932494118087088,
          0.0032824444979755235,
          0.5378194907114049,
          0.331241280973708,
          -1.278552728158368,
          -0.0995570035566114,
          -0.2453115203777214,
          0.5485210558743719,
          0.21445941172442826,
          -1.2505565269743624,
          -0.7799754350761642,
          1.3686204262485862,
          0.3353102228299381,
          -0.9002585779060629,
          2.1043905766033024,
          -0.6498677108938995,
          0.5634701912298704,
          -1.6338513008111868,
          -0.36347720593876093,
          1.9520757630587742,
          -0.923410126462932,
          1.203474471477271,
          1.1792980741286028,
          0.17293066836863386,
          -1.1796690199363606,
          -2.055002219050221,
          -1.3653009952725936
         ],
         "xaxis": "x",
         "yaxis": "y"
        },
        {
         "line": {
          "color": "rgba(128, 128, 128, 1.0)",
          "dash": "solid",
          "shape": "linear",
          "width": 1.3
         },
         "marker": {
          "size": 2,
          "symbol": "circle"
         },
         "mode": "markers",
         "name": "A",
         "text": "",
         "type": "scatter",
         "x": [
          -1.0502366155422067,
          -0.021961193335135246,
          -0.5765927169777691,
          2.248965683306026,
          -1.0018182265616553,
          -0.894238683015506,
          0.6460866751885185,
          -1.3115427152492027,
          1.3166852659343116,
          1.926211376247639,
          -0.2922318185022914,
          0.09152608733805903,
          -0.7430556408676412,
          -0.578476852932132,
          0.6642732928180614,
          -1.0057961103352402,
          -0.056384208433620034,
          1.0909053059116434,
          0.4734520127620457,
          -0.02676628959820128,
          -0.22708984983508898,
          0.9741417789799731,
          -1.5145327182874229,
          1.2834117079537986,
          0.6741070591221596,
          0.24083067110312012,
          0.8555734521733575,
          0.6306027272359749,
          1.5763162765394942,
          -0.5958029804768725,
          1.568304227917459,
          0.05975424687522171,
          -1.706261214114887,
          1.7312151731908052,
          -1.7080487887071312,
          -0.43781305829364797,
          0.20921487935513305,
          -2.259297390099242,
          1.218643322819174,
          0.32418168737135344,
          0.6564577271674744,
          -1.0721690985177132,
          -0.6557675467597885,
          -0.12441768390177917,
          0.7006888292110914,
          1.7994324854881514,
          -1.1572248539641468,
          -0.20803654802745664,
          0.12223982689574536,
          0.9016669965242321,
          0.02851091151994256,
          -0.04349225640139199,
          -0.8098781338219512,
          -0.12311448162771756,
          0.9760908000146804,
          -1.0199094785959937,
          -0.4571566426231742,
          1.3938270495469804,
          -0.9199946915318254,
          0.8866663856815331,
          0.3058242139615769,
          -0.45665461339037566,
          -0.5152722731281091,
          0.5113151944185977,
          -1.2122833743218226,
          2.8912100887402654,
          -1.0200521532784588,
          0.29861556578277937,
          -1.82601771971382,
          0.2629590316929113,
          -0.24178830164881776,
          0.734374599908883,
          -0.771622179092258,
          -0.9050560338468139,
          -0.36113285074818186,
          0.6688510578903628,
          -1.4846396280995497,
          0.6829643443929462,
          1.3481232854267218,
          -0.3780301066171847,
          -0.21712034615308187,
          0.23588244120169044,
          0.6797192924255304,
          -0.9562785562071007,
          0.5230709190292472,
          0.8152487481197463,
          -0.2461668611776281,
          0.42057386032266425,
          -1.9427434567661108,
          -0.35009411437483956,
          -0.5247859106616706,
          0.9801017518398779,
          0.21683762267305612,
          0.10109849438698844,
          -0.010736076482799084,
          -0.3068822190517889,
          0.1657544349926027,
          -0.5373922231954307,
          1.9009029986905681,
          0.2860674527087954
         ],
         "xaxis": "x2",
         "y": [
          0.522556105813715,
          0.8366465175888684,
          -0.664603970479962,
          -0.6611168116320768,
          -0.029293198680295153,
          0.630440914253106,
          0.24536832097911143,
          0.5213441943977241,
          -0.6409830943135116,
          -1.2795322536768938,
          1.5529623456032118,
          -2.303638277851841,
          -0.08246423455366149,
          -0.6603240942134286,
          -1.3320172245876538,
          0.27054147790735356,
          -2.3102127601116957,
          -1.180959337349101,
          -1.6620377976952876,
          1.5467169576834783,
          -0.4169363614353314,
          -0.9631554333059279,
          -1.4560511712205557,
          -2.0404767103485617,
          1.9954182190915115,
          0.5205977940769877,
          -0.6707041858894667,
          1.190860114617754,
          0.4236278788802016,
          0.5951909517408043,
          0.0722911467287905,
          -0.8749298041157985,
          0.9194636594323516,
          1.4883038699736955,
          -3.4230147844322922,
          1.1924595949170957,
          1.4008954471598927,
          -1.1151174087094455,
          -1.1995365117501031,
          0.8110171223718338,
          -1.8292495637863746,
          2.0529700474973525,
          -1.3165906845861155,
          1.667125932294143,
          -1.3404983717729393,
          -0.6267318398612008,
          -1.733235590397368,
          -0.7963674104484132,
          -0.8623741759795556,
          -0.7773317335322487,
          -0.47181762470855554,
          0.07716999711133517,
          0.35817988537598444,
          -0.3295384933143855,
          0.6653512574814932,
          -0.4486369697071627,
          0.7099314026754735,
          -0.4542041749256783,
          -0.0746400765540713,
          0.21189666518828398,
          0.8737431149504534,
          0.4858681671093836,
          0.777834053956173,
          1.2796759802166797,
          -0.019325062343936078,
          -0.7744760972835689,
          -0.6060372583098742,
          1.0343304682727885,
          -1.5922954029379874,
          -0.6296209412783041,
          0.5207527208513598,
          -0.8729548116088645,
          -1.2396683909340585,
          -0.5932494118087088,
          0.0032824444979755235,
          0.5378194907114049,
          0.331241280973708,
          -1.278552728158368,
          -0.0995570035566114,
          -0.2453115203777214,
          0.5485210558743719,
          0.21445941172442826,
          -1.2505565269743624,
          -0.7799754350761642,
          1.3686204262485862,
          0.3353102228299381,
          -0.9002585779060629,
          2.1043905766033024,
          -0.6498677108938995,
          0.5634701912298704,
          -1.6338513008111868,
          -0.36347720593876093,
          1.9520757630587742,
          -0.923410126462932,
          1.203474471477271,
          1.1792980741286028,
          0.17293066836863386,
          -1.1796690199363606,
          -2.055002219050221,
          -1.3653009952725936
         ],
         "yaxis": "y2"
        },
        {
         "line": {
          "color": "rgba(128, 128, 128, 1.0)",
          "dash": "solid",
          "shape": "linear",
          "width": 1.3
         },
         "marker": {
          "size": 2,
          "symbol": "circle"
         },
         "mode": "markers",
         "name": "A",
         "text": "",
         "type": "scatter",
         "x": [
          0.9332866146772304,
          0.3049436880563497,
          0.44138861423703624,
          -0.20528713856566136,
          -0.7570614580837844,
          1.7845617333316954,
          0.2941229609186484,
          1.3690812570809878,
          -0.05079576879906741,
          1.0477237810425597,
          -1.339451693977425,
          1.0788780172679253,
          1.9385475323391281,
          -0.7121062713430775,
          1.642429503611656,
          0.6947864535012566,
          -0.5302665281980049,
          0.7575221774092812,
          -1.5314018780942285,
          0.9778155631043197,
          1.0158153413130238,
          1.4682205489568387,
          0.28226463927372575,
          0.697677826377623,
          0.5658161799325903,
          -0.5253519002897766,
          -0.5970290526545614,
          -0.7459136185729337,
          -0.11267071355998802,
          -0.47312923778026433,
          2.2359269385734133,
          0.22847947959073348,
          0.9388799026195135,
          -0.11903523962015843,
          -1.7486224017365364,
          0.33648849116092194,
          -0.4418884183227688,
          -1.0289694052668623,
          0.11685715081354897,
          -1.0853115995134064,
          -0.7737247922457348,
          -0.18719483243941543,
          1.8035625576305088,
          -0.4434056930273342,
          0.9130516530940805,
          -1.0462157322010581,
          -0.011023917936309642,
          0.2747394646216463,
          0.12432810131286895,
          1.5398474520713819,
          1.2664948567377068,
          1.069592857295506,
          -0.6106061720265551,
          1.4188978795330267,
          -0.08254929835706407,
          0.0848936794790966,
          1.1567468286988167,
          0.5128939311875526,
          0.2783955292540215,
          -1.8482262148260062,
          -0.3732685686845318,
          0.9450082135561825,
          1.5199188969908948,
          -1.7584730339833166,
          -0.975520542632561,
          -0.2679417652656878,
          0.25819195285435254,
          -0.6908430289541013,
          -1.0826307066480867,
          0.7184049548065112,
          1.1224951612897176,
          0.9230782244265155,
          1.449241212739982,
          -1.0251011192519417,
          1.143071988649807,
          -0.45802657720611467,
          -0.9601771135828424,
          -1.2319905415425854,
          1.3347431234247218,
          1.6522536688357146,
          -0.8512062789349891,
          0.7576839342501829,
          -1.2528006446028976,
          1.3542360949670942,
          0.3454602683138546,
          0.7545130229720501,
          0.2558963684137531,
          -2.0332833516080533,
          -0.44567402359846436,
          2.6228740067529825,
          2.8711381625116617,
          -0.005712413187787785,
          -0.4267549415352209,
          -0.9129338150576033,
          0.9880204669489722,
          0.20156350296632106,
          -0.23953414816758475,
          0.9697173046570664,
          -1.330784319642086,
          -0.5205197172475784
         ],
         "xaxis": "x3",
         "y": [
          0.522556105813715,
          0.8366465175888684,
          -0.664603970479962,
          -0.6611168116320768,
          -0.029293198680295153,
          0.630440914253106,
          0.24536832097911143,
          0.5213441943977241,
          -0.6409830943135116,
          -1.2795322536768938,
          1.5529623456032118,
          -2.303638277851841,
          -0.08246423455366149,
          -0.6603240942134286,
          -1.3320172245876538,
          0.27054147790735356,
          -2.3102127601116957,
          -1.180959337349101,
          -1.6620377976952876,
          1.5467169576834783,
          -0.4169363614353314,
          -0.9631554333059279,
          -1.4560511712205557,
          -2.0404767103485617,
          1.9954182190915115,
          0.5205977940769877,
          -0.6707041858894667,
          1.190860114617754,
          0.4236278788802016,
          0.5951909517408043,
          0.0722911467287905,
          -0.8749298041157985,
          0.9194636594323516,
          1.4883038699736955,
          -3.4230147844322922,
          1.1924595949170957,
          1.4008954471598927,
          -1.1151174087094455,
          -1.1995365117501031,
          0.8110171223718338,
          -1.8292495637863746,
          2.0529700474973525,
          -1.3165906845861155,
          1.667125932294143,
          -1.3404983717729393,
          -0.6267318398612008,
          -1.733235590397368,
          -0.7963674104484132,
          -0.8623741759795556,
          -0.7773317335322487,
          -0.47181762470855554,
          0.07716999711133517,
          0.35817988537598444,
          -0.3295384933143855,
          0.6653512574814932,
          -0.4486369697071627,
          0.7099314026754735,
          -0.4542041749256783,
          -0.0746400765540713,
          0.21189666518828398,
          0.8737431149504534,
          0.4858681671093836,
          0.777834053956173,
          1.2796759802166797,
          -0.019325062343936078,
          -0.7744760972835689,
          -0.6060372583098742,
          1.0343304682727885,
          -1.5922954029379874,
          -0.6296209412783041,
          0.5207527208513598,
          -0.8729548116088645,
          -1.2396683909340585,
          -0.5932494118087088,
          0.0032824444979755235,
          0.5378194907114049,
          0.331241280973708,
          -1.278552728158368,
          -0.0995570035566114,
          -0.2453115203777214,
          0.5485210558743719,
          0.21445941172442826,
          -1.2505565269743624,
          -0.7799754350761642,
          1.3686204262485862,
          0.3353102228299381,
          -0.9002585779060629,
          2.1043905766033024,
          -0.6498677108938995,
          0.5634701912298704,
          -1.6338513008111868,
          -0.36347720593876093,
          1.9520757630587742,
          -0.923410126462932,
          1.203474471477271,
          1.1792980741286028,
          0.17293066836863386,
          -1.1796690199363606,
          -2.055002219050221,
          -1.3653009952725936
         ],
         "yaxis": "y3"
        },
        {
         "line": {
          "color": "rgba(128, 128, 128, 1.0)",
          "dash": "solid",
          "shape": "linear",
          "width": 1.3
         },
         "marker": {
          "size": 2,
          "symbol": "circle"
         },
         "mode": "markers",
         "name": "A",
         "text": "",
         "type": "scatter",
         "x": [
          0.15819227098722033,
          -0.20838612550620814,
          -0.8226142957144436,
          0.9560447621677909,
          0.27052253045962205,
          0.8200525191384015,
          -0.5246990944281539,
          -1.2975274377223307,
          -0.7922911464415296,
          -0.3710687148635587,
          1.2155318104663961,
          -0.00946663181537825,
          -0.6252945968173849,
          -0.06671455685440172,
          1.1789732481171717,
          -1.5137939342754252,
          -0.3662175818542943,
          -0.6126577175429145,
          -0.10128941729010403,
          0.8718167545755164,
          1.1149996160957694,
          -0.8423701433651831,
          -0.6800790170902561,
          0.42639474601243627,
          0.251523764899969,
          -0.8659066777009436,
          0.4229581393137417,
          0.6526800404802042,
          -0.5545251497049041,
          0.9986058454032798,
          -0.3082976634730784,
          1.8532416207371785,
          -0.8839217600144291,
          -0.06556969999793383,
          -0.49851512053638725,
          -1.1602766032657377,
          0.8699746653506601,
          -0.7741938736269718,
          0.24543811171573388,
          0.9111001057521537,
          -0.21131714756348827,
          -0.49982184469096674,
          0.060897682863460215,
          0.48822674149408035,
          -0.020306533167304037,
          1.0767705148158597,
          0.1664801385084698,
          0.7150093977610442,
          -1.421034825740538,
          1.907153346356637,
          1.2447765217369882,
          2.111747443098467,
          2.4488733928892223,
          -3.2314456687886097,
          -0.5379476847464684,
          1.046133803256443,
          0.6373990785663881,
          1.4331475496012005,
          0.14920001336697875,
          0.6883720706856165,
          0.8336504444043047,
          -0.1967798210239832,
          0.3837696075283908,
          -0.1985591357871106,
          -1.1662344851690605,
          -0.9803354423467238,
          -0.7443830937865075,
          -1.8957978032294063,
          0.931495160078685,
          -0.2644743718545935,
          -0.22464338006883158,
          0.03752545714300439,
          -1.2391027208583643,
          -1.11592894637276,
          -0.06941410935670562,
          0.31871680448372824,
          0.5019666333781165,
          -0.15849234322605066,
          -0.4818060572577569,
          -1.880201256826168,
          0.1023978395750562,
          0.40156381324902174,
          1.5288944591079592,
          -0.38799929603879246,
          -0.01946874461156755,
          0.2196663607578247,
          -1.0251593532367242,
          -1.4626473425094721,
          -1.0030863879845482,
          0.4569701502836065,
          -0.08662094746684243,
          -1.0327558149805045,
          0.9842045640263896,
          -0.4348516430457228,
          -0.9497338011348774,
          -0.028470776481635846,
          -1.0339530205920409,
          1.0658006804824647,
          -0.24150122682259062,
          1.439589652810136
         ],
         "xaxis": "x4",
         "y": [
          0.522556105813715,
          0.8366465175888684,
          -0.664603970479962,
          -0.6611168116320768,
          -0.029293198680295153,
          0.630440914253106,
          0.24536832097911143,
          0.5213441943977241,
          -0.6409830943135116,
          -1.2795322536768938,
          1.5529623456032118,
          -2.303638277851841,
          -0.08246423455366149,
          -0.6603240942134286,
          -1.3320172245876538,
          0.27054147790735356,
          -2.3102127601116957,
          -1.180959337349101,
          -1.6620377976952876,
          1.5467169576834783,
          -0.4169363614353314,
          -0.9631554333059279,
          -1.4560511712205557,
          -2.0404767103485617,
          1.9954182190915115,
          0.5205977940769877,
          -0.6707041858894667,
          1.190860114617754,
          0.4236278788802016,
          0.5951909517408043,
          0.0722911467287905,
          -0.8749298041157985,
          0.9194636594323516,
          1.4883038699736955,
          -3.4230147844322922,
          1.1924595949170957,
          1.4008954471598927,
          -1.1151174087094455,
          -1.1995365117501031,
          0.8110171223718338,
          -1.8292495637863746,
          2.0529700474973525,
          -1.3165906845861155,
          1.667125932294143,
          -1.3404983717729393,
          -0.6267318398612008,
          -1.733235590397368,
          -0.7963674104484132,
          -0.8623741759795556,
          -0.7773317335322487,
          -0.47181762470855554,
          0.07716999711133517,
          0.35817988537598444,
          -0.3295384933143855,
          0.6653512574814932,
          -0.4486369697071627,
          0.7099314026754735,
          -0.4542041749256783,
          -0.0746400765540713,
          0.21189666518828398,
          0.8737431149504534,
          0.4858681671093836,
          0.777834053956173,
          1.2796759802166797,
          -0.019325062343936078,
          -0.7744760972835689,
          -0.6060372583098742,
          1.0343304682727885,
          -1.5922954029379874,
          -0.6296209412783041,
          0.5207527208513598,
          -0.8729548116088645,
          -1.2396683909340585,
          -0.5932494118087088,
          0.0032824444979755235,
          0.5378194907114049,
          0.331241280973708,
          -1.278552728158368,
          -0.0995570035566114,
          -0.2453115203777214,
          0.5485210558743719,
          0.21445941172442826,
          -1.2505565269743624,
          -0.7799754350761642,
          1.3686204262485862,
          0.3353102228299381,
          -0.9002585779060629,
          2.1043905766033024,
          -0.6498677108938995,
          0.5634701912298704,
          -1.6338513008111868,
          -0.36347720593876093,
          1.9520757630587742,
          -0.923410126462932,
          1.203474471477271,
          1.1792980741286028,
          0.17293066836863386,
          -1.1796690199363606,
          -2.055002219050221,
          -1.3653009952725936
         ],
         "yaxis": "y4"
        },
        {
         "line": {
          "color": "rgba(128, 128, 128, 1.0)",
          "dash": "solid",
          "shape": "linear",
          "width": 1.3
         },
         "marker": {
          "size": 2,
          "symbol": "circle"
         },
         "mode": "markers",
         "name": "B",
         "text": "",
         "type": "scatter",
         "x": [
          0.522556105813715,
          0.8366465175888684,
          -0.664603970479962,
          -0.6611168116320768,
          -0.029293198680295153,
          0.630440914253106,
          0.24536832097911143,
          0.5213441943977241,
          -0.6409830943135116,
          -1.2795322536768938,
          1.5529623456032118,
          -2.303638277851841,
          -0.08246423455366149,
          -0.6603240942134286,
          -1.3320172245876538,
          0.27054147790735356,
          -2.3102127601116957,
          -1.180959337349101,
          -1.6620377976952876,
          1.5467169576834783,
          -0.4169363614353314,
          -0.9631554333059279,
          -1.4560511712205557,
          -2.0404767103485617,
          1.9954182190915115,
          0.5205977940769877,
          -0.6707041858894667,
          1.190860114617754,
          0.4236278788802016,
          0.5951909517408043,
          0.0722911467287905,
          -0.8749298041157985,
          0.9194636594323516,
          1.4883038699736955,
          -3.4230147844322922,
          1.1924595949170957,
          1.4008954471598927,
          -1.1151174087094455,
          -1.1995365117501031,
          0.8110171223718338,
          -1.8292495637863746,
          2.0529700474973525,
          -1.3165906845861155,
          1.667125932294143,
          -1.3404983717729393,
          -0.6267318398612008,
          -1.733235590397368,
          -0.7963674104484132,
          -0.8623741759795556,
          -0.7773317335322487,
          -0.47181762470855554,
          0.07716999711133517,
          0.35817988537598444,
          -0.3295384933143855,
          0.6653512574814932,
          -0.4486369697071627,
          0.7099314026754735,
          -0.4542041749256783,
          -0.0746400765540713,
          0.21189666518828398,
          0.8737431149504534,
          0.4858681671093836,
          0.777834053956173,
          1.2796759802166797,
          -0.019325062343936078,
          -0.7744760972835689,
          -0.6060372583098742,
          1.0343304682727885,
          -1.5922954029379874,
          -0.6296209412783041,
          0.5207527208513598,
          -0.8729548116088645,
          -1.2396683909340585,
          -0.5932494118087088,
          0.0032824444979755235,
          0.5378194907114049,
          0.331241280973708,
          -1.278552728158368,
          -0.0995570035566114,
          -0.2453115203777214,
          0.5485210558743719,
          0.21445941172442826,
          -1.2505565269743624,
          -0.7799754350761642,
          1.3686204262485862,
          0.3353102228299381,
          -0.9002585779060629,
          2.1043905766033024,
          -0.6498677108938995,
          0.5634701912298704,
          -1.6338513008111868,
          -0.36347720593876093,
          1.9520757630587742,
          -0.923410126462932,
          1.203474471477271,
          1.1792980741286028,
          0.17293066836863386,
          -1.1796690199363606,
          -2.055002219050221,
          -1.3653009952725936
         ],
         "xaxis": "x5",
         "y": [
          -1.0502366155422067,
          -0.021961193335135246,
          -0.5765927169777691,
          2.248965683306026,
          -1.0018182265616553,
          -0.894238683015506,
          0.6460866751885185,
          -1.3115427152492027,
          1.3166852659343116,
          1.926211376247639,
          -0.2922318185022914,
          0.09152608733805903,
          -0.7430556408676412,
          -0.578476852932132,
          0.6642732928180614,
          -1.0057961103352402,
          -0.056384208433620034,
          1.0909053059116434,
          0.4734520127620457,
          -0.02676628959820128,
          -0.22708984983508898,
          0.9741417789799731,
          -1.5145327182874229,
          1.2834117079537986,
          0.6741070591221596,
          0.24083067110312012,
          0.8555734521733575,
          0.6306027272359749,
          1.5763162765394942,
          -0.5958029804768725,
          1.568304227917459,
          0.05975424687522171,
          -1.706261214114887,
          1.7312151731908052,
          -1.7080487887071312,
          -0.43781305829364797,
          0.20921487935513305,
          -2.259297390099242,
          1.218643322819174,
          0.32418168737135344,
          0.6564577271674744,
          -1.0721690985177132,
          -0.6557675467597885,
          -0.12441768390177917,
          0.7006888292110914,
          1.7994324854881514,
          -1.1572248539641468,
          -0.20803654802745664,
          0.12223982689574536,
          0.9016669965242321,
          0.02851091151994256,
          -0.04349225640139199,
          -0.8098781338219512,
          -0.12311448162771756,
          0.9760908000146804,
          -1.0199094785959937,
          -0.4571566426231742,
          1.3938270495469804,
          -0.9199946915318254,
          0.8866663856815331,
          0.3058242139615769,
          -0.45665461339037566,
          -0.5152722731281091,
          0.5113151944185977,
          -1.2122833743218226,
          2.8912100887402654,
          -1.0200521532784588,
          0.29861556578277937,
          -1.82601771971382,
          0.2629590316929113,
          -0.24178830164881776,
          0.734374599908883,
          -0.771622179092258,
          -0.9050560338468139,
          -0.36113285074818186,
          0.6688510578903628,
          -1.4846396280995497,
          0.6829643443929462,
          1.3481232854267218,
          -0.3780301066171847,
          -0.21712034615308187,
          0.23588244120169044,
          0.6797192924255304,
          -0.9562785562071007,
          0.5230709190292472,
          0.8152487481197463,
          -0.2461668611776281,
          0.42057386032266425,
          -1.9427434567661108,
          -0.35009411437483956,
          -0.5247859106616706,
          0.9801017518398779,
          0.21683762267305612,
          0.10109849438698844,
          -0.010736076482799084,
          -0.3068822190517889,
          0.1657544349926027,
          -0.5373922231954307,
          1.9009029986905681,
          0.2860674527087954
         ],
         "yaxis": "y5"
        },
        {
         "histfunc": "count",
         "histnorm": "",
         "marker": {
          "color": "rgba(55, 128, 191, 1.0)",
          "line": {
           "color": "#4D5663",
           "width": 1.3
          }
         },
         "name": "B",
         "nbinsx": 10,
         "opacity": 0.8,
         "orientation": "v",
         "type": "histogram",
         "x": [
          -1.0502366155422067,
          -0.021961193335135246,
          -0.5765927169777691,
          2.248965683306026,
          -1.0018182265616553,
          -0.894238683015506,
          0.6460866751885185,
          -1.3115427152492027,
          1.3166852659343116,
          1.926211376247639,
          -0.2922318185022914,
          0.09152608733805903,
          -0.7430556408676412,
          -0.578476852932132,
          0.6642732928180614,
          -1.0057961103352402,
          -0.056384208433620034,
          1.0909053059116434,
          0.4734520127620457,
          -0.02676628959820128,
          -0.22708984983508898,
          0.9741417789799731,
          -1.5145327182874229,
          1.2834117079537986,
          0.6741070591221596,
          0.24083067110312012,
          0.8555734521733575,
          0.6306027272359749,
          1.5763162765394942,
          -0.5958029804768725,
          1.568304227917459,
          0.05975424687522171,
          -1.706261214114887,
          1.7312151731908052,
          -1.7080487887071312,
          -0.43781305829364797,
          0.20921487935513305,
          -2.259297390099242,
          1.218643322819174,
          0.32418168737135344,
          0.6564577271674744,
          -1.0721690985177132,
          -0.6557675467597885,
          -0.12441768390177917,
          0.7006888292110914,
          1.7994324854881514,
          -1.1572248539641468,
          -0.20803654802745664,
          0.12223982689574536,
          0.9016669965242321,
          0.02851091151994256,
          -0.04349225640139199,
          -0.8098781338219512,
          -0.12311448162771756,
          0.9760908000146804,
          -1.0199094785959937,
          -0.4571566426231742,
          1.3938270495469804,
          -0.9199946915318254,
          0.8866663856815331,
          0.3058242139615769,
          -0.45665461339037566,
          -0.5152722731281091,
          0.5113151944185977,
          -1.2122833743218226,
          2.8912100887402654,
          -1.0200521532784588,
          0.29861556578277937,
          -1.82601771971382,
          0.2629590316929113,
          -0.24178830164881776,
          0.734374599908883,
          -0.771622179092258,
          -0.9050560338468139,
          -0.36113285074818186,
          0.6688510578903628,
          -1.4846396280995497,
          0.6829643443929462,
          1.3481232854267218,
          -0.3780301066171847,
          -0.21712034615308187,
          0.23588244120169044,
          0.6797192924255304,
          -0.9562785562071007,
          0.5230709190292472,
          0.8152487481197463,
          -0.2461668611776281,
          0.42057386032266425,
          -1.9427434567661108,
          -0.35009411437483956,
          -0.5247859106616706,
          0.9801017518398779,
          0.21683762267305612,
          0.10109849438698844,
          -0.010736076482799084,
          -0.3068822190517889,
          0.1657544349926027,
          -0.5373922231954307,
          1.9009029986905681,
          0.2860674527087954
         ],
         "xaxis": "x6",
         "yaxis": "y6"
        },
        {
         "line": {
          "color": "rgba(128, 128, 128, 1.0)",
          "dash": "solid",
          "shape": "linear",
          "width": 1.3
         },
         "marker": {
          "size": 2,
          "symbol": "circle"
         },
         "mode": "markers",
         "name": "B",
         "text": "",
         "type": "scatter",
         "x": [
          0.9332866146772304,
          0.3049436880563497,
          0.44138861423703624,
          -0.20528713856566136,
          -0.7570614580837844,
          1.7845617333316954,
          0.2941229609186484,
          1.3690812570809878,
          -0.05079576879906741,
          1.0477237810425597,
          -1.339451693977425,
          1.0788780172679253,
          1.9385475323391281,
          -0.7121062713430775,
          1.642429503611656,
          0.6947864535012566,
          -0.5302665281980049,
          0.7575221774092812,
          -1.5314018780942285,
          0.9778155631043197,
          1.0158153413130238,
          1.4682205489568387,
          0.28226463927372575,
          0.697677826377623,
          0.5658161799325903,
          -0.5253519002897766,
          -0.5970290526545614,
          -0.7459136185729337,
          -0.11267071355998802,
          -0.47312923778026433,
          2.2359269385734133,
          0.22847947959073348,
          0.9388799026195135,
          -0.11903523962015843,
          -1.7486224017365364,
          0.33648849116092194,
          -0.4418884183227688,
          -1.0289694052668623,
          0.11685715081354897,
          -1.0853115995134064,
          -0.7737247922457348,
          -0.18719483243941543,
          1.8035625576305088,
          -0.4434056930273342,
          0.9130516530940805,
          -1.0462157322010581,
          -0.011023917936309642,
          0.2747394646216463,
          0.12432810131286895,
          1.5398474520713819,
          1.2664948567377068,
          1.069592857295506,
          -0.6106061720265551,
          1.4188978795330267,
          -0.08254929835706407,
          0.0848936794790966,
          1.1567468286988167,
          0.5128939311875526,
          0.2783955292540215,
          -1.8482262148260062,
          -0.3732685686845318,
          0.9450082135561825,
          1.5199188969908948,
          -1.7584730339833166,
          -0.975520542632561,
          -0.2679417652656878,
          0.25819195285435254,
          -0.6908430289541013,
          -1.0826307066480867,
          0.7184049548065112,
          1.1224951612897176,
          0.9230782244265155,
          1.449241212739982,
          -1.0251011192519417,
          1.143071988649807,
          -0.45802657720611467,
          -0.9601771135828424,
          -1.2319905415425854,
          1.3347431234247218,
          1.6522536688357146,
          -0.8512062789349891,
          0.7576839342501829,
          -1.2528006446028976,
          1.3542360949670942,
          0.3454602683138546,
          0.7545130229720501,
          0.2558963684137531,
          -2.0332833516080533,
          -0.44567402359846436,
          2.6228740067529825,
          2.8711381625116617,
          -0.005712413187787785,
          -0.4267549415352209,
          -0.9129338150576033,
          0.9880204669489722,
          0.20156350296632106,
          -0.23953414816758475,
          0.9697173046570664,
          -1.330784319642086,
          -0.5205197172475784
         ],
         "xaxis": "x7",
         "y": [
          -1.0502366155422067,
          -0.021961193335135246,
          -0.5765927169777691,
          2.248965683306026,
          -1.0018182265616553,
          -0.894238683015506,
          0.6460866751885185,
          -1.3115427152492027,
          1.3166852659343116,
          1.926211376247639,
          -0.2922318185022914,
          0.09152608733805903,
          -0.7430556408676412,
          -0.578476852932132,
          0.6642732928180614,
          -1.0057961103352402,
          -0.056384208433620034,
          1.0909053059116434,
          0.4734520127620457,
          -0.02676628959820128,
          -0.22708984983508898,
          0.9741417789799731,
          -1.5145327182874229,
          1.2834117079537986,
          0.6741070591221596,
          0.24083067110312012,
          0.8555734521733575,
          0.6306027272359749,
          1.5763162765394942,
          -0.5958029804768725,
          1.568304227917459,
          0.05975424687522171,
          -1.706261214114887,
          1.7312151731908052,
          -1.7080487887071312,
          -0.43781305829364797,
          0.20921487935513305,
          -2.259297390099242,
          1.218643322819174,
          0.32418168737135344,
          0.6564577271674744,
          -1.0721690985177132,
          -0.6557675467597885,
          -0.12441768390177917,
          0.7006888292110914,
          1.7994324854881514,
          -1.1572248539641468,
          -0.20803654802745664,
          0.12223982689574536,
          0.9016669965242321,
          0.02851091151994256,
          -0.04349225640139199,
          -0.8098781338219512,
          -0.12311448162771756,
          0.9760908000146804,
          -1.0199094785959937,
          -0.4571566426231742,
          1.3938270495469804,
          -0.9199946915318254,
          0.8866663856815331,
          0.3058242139615769,
          -0.45665461339037566,
          -0.5152722731281091,
          0.5113151944185977,
          -1.2122833743218226,
          2.8912100887402654,
          -1.0200521532784588,
          0.29861556578277937,
          -1.82601771971382,
          0.2629590316929113,
          -0.24178830164881776,
          0.734374599908883,
          -0.771622179092258,
          -0.9050560338468139,
          -0.36113285074818186,
          0.6688510578903628,
          -1.4846396280995497,
          0.6829643443929462,
          1.3481232854267218,
          -0.3780301066171847,
          -0.21712034615308187,
          0.23588244120169044,
          0.6797192924255304,
          -0.9562785562071007,
          0.5230709190292472,
          0.8152487481197463,
          -0.2461668611776281,
          0.42057386032266425,
          -1.9427434567661108,
          -0.35009411437483956,
          -0.5247859106616706,
          0.9801017518398779,
          0.21683762267305612,
          0.10109849438698844,
          -0.010736076482799084,
          -0.3068822190517889,
          0.1657544349926027,
          -0.5373922231954307,
          1.9009029986905681,
          0.2860674527087954
         ],
         "yaxis": "y7"
        },
        {
         "line": {
          "color": "rgba(128, 128, 128, 1.0)",
          "dash": "solid",
          "shape": "linear",
          "width": 1.3
         },
         "marker": {
          "size": 2,
          "symbol": "circle"
         },
         "mode": "markers",
         "name": "B",
         "text": "",
         "type": "scatter",
         "x": [
          0.15819227098722033,
          -0.20838612550620814,
          -0.8226142957144436,
          0.9560447621677909,
          0.27052253045962205,
          0.8200525191384015,
          -0.5246990944281539,
          -1.2975274377223307,
          -0.7922911464415296,
          -0.3710687148635587,
          1.2155318104663961,
          -0.00946663181537825,
          -0.6252945968173849,
          -0.06671455685440172,
          1.1789732481171717,
          -1.5137939342754252,
          -0.3662175818542943,
          -0.6126577175429145,
          -0.10128941729010403,
          0.8718167545755164,
          1.1149996160957694,
          -0.8423701433651831,
          -0.6800790170902561,
          0.42639474601243627,
          0.251523764899969,
          -0.8659066777009436,
          0.4229581393137417,
          0.6526800404802042,
          -0.5545251497049041,
          0.9986058454032798,
          -0.3082976634730784,
          1.8532416207371785,
          -0.8839217600144291,
          -0.06556969999793383,
          -0.49851512053638725,
          -1.1602766032657377,
          0.8699746653506601,
          -0.7741938736269718,
          0.24543811171573388,
          0.9111001057521537,
          -0.21131714756348827,
          -0.49982184469096674,
          0.060897682863460215,
          0.48822674149408035,
          -0.020306533167304037,
          1.0767705148158597,
          0.1664801385084698,
          0.7150093977610442,
          -1.421034825740538,
          1.907153346356637,
          1.2447765217369882,
          2.111747443098467,
          2.4488733928892223,
          -3.2314456687886097,
          -0.5379476847464684,
          1.046133803256443,
          0.6373990785663881,
          1.4331475496012005,
          0.14920001336697875,
          0.6883720706856165,
          0.8336504444043047,
          -0.1967798210239832,
          0.3837696075283908,
          -0.1985591357871106,
          -1.1662344851690605,
          -0.9803354423467238,
          -0.7443830937865075,
          -1.8957978032294063,
          0.931495160078685,
          -0.2644743718545935,
          -0.22464338006883158,
          0.03752545714300439,
          -1.2391027208583643,
          -1.11592894637276,
          -0.06941410935670562,
          0.31871680448372824,
          0.5019666333781165,
          -0.15849234322605066,
          -0.4818060572577569,
          -1.880201256826168,
          0.1023978395750562,
          0.40156381324902174,
          1.5288944591079592,
          -0.38799929603879246,
          -0.01946874461156755,
          0.2196663607578247,
          -1.0251593532367242,
          -1.4626473425094721,
          -1.0030863879845482,
          0.4569701502836065,
          -0.08662094746684243,
          -1.0327558149805045,
          0.9842045640263896,
          -0.4348516430457228,
          -0.9497338011348774,
          -0.028470776481635846,
          -1.0339530205920409,
          1.0658006804824647,
          -0.24150122682259062,
          1.439589652810136
         ],
         "xaxis": "x8",
         "y": [
          -1.0502366155422067,
          -0.021961193335135246,
          -0.5765927169777691,
          2.248965683306026,
          -1.0018182265616553,
          -0.894238683015506,
          0.6460866751885185,
          -1.3115427152492027,
          1.3166852659343116,
          1.926211376247639,
          -0.2922318185022914,
          0.09152608733805903,
          -0.7430556408676412,
          -0.578476852932132,
          0.6642732928180614,
          -1.0057961103352402,
          -0.056384208433620034,
          1.0909053059116434,
          0.4734520127620457,
          -0.02676628959820128,
          -0.22708984983508898,
          0.9741417789799731,
          -1.5145327182874229,
          1.2834117079537986,
          0.6741070591221596,
          0.24083067110312012,
          0.8555734521733575,
          0.6306027272359749,
          1.5763162765394942,
          -0.5958029804768725,
          1.568304227917459,
          0.05975424687522171,
          -1.706261214114887,
          1.7312151731908052,
          -1.7080487887071312,
          -0.43781305829364797,
          0.20921487935513305,
          -2.259297390099242,
          1.218643322819174,
          0.32418168737135344,
          0.6564577271674744,
          -1.0721690985177132,
          -0.6557675467597885,
          -0.12441768390177917,
          0.7006888292110914,
          1.7994324854881514,
          -1.1572248539641468,
          -0.20803654802745664,
          0.12223982689574536,
          0.9016669965242321,
          0.02851091151994256,
          -0.04349225640139199,
          -0.8098781338219512,
          -0.12311448162771756,
          0.9760908000146804,
          -1.0199094785959937,
          -0.4571566426231742,
          1.3938270495469804,
          -0.9199946915318254,
          0.8866663856815331,
          0.3058242139615769,
          -0.45665461339037566,
          -0.5152722731281091,
          0.5113151944185977,
          -1.2122833743218226,
          2.8912100887402654,
          -1.0200521532784588,
          0.29861556578277937,
          -1.82601771971382,
          0.2629590316929113,
          -0.24178830164881776,
          0.734374599908883,
          -0.771622179092258,
          -0.9050560338468139,
          -0.36113285074818186,
          0.6688510578903628,
          -1.4846396280995497,
          0.6829643443929462,
          1.3481232854267218,
          -0.3780301066171847,
          -0.21712034615308187,
          0.23588244120169044,
          0.6797192924255304,
          -0.9562785562071007,
          0.5230709190292472,
          0.8152487481197463,
          -0.2461668611776281,
          0.42057386032266425,
          -1.9427434567661108,
          -0.35009411437483956,
          -0.5247859106616706,
          0.9801017518398779,
          0.21683762267305612,
          0.10109849438698844,
          -0.010736076482799084,
          -0.3068822190517889,
          0.1657544349926027,
          -0.5373922231954307,
          1.9009029986905681,
          0.2860674527087954
         ],
         "yaxis": "y8"
        },
        {
         "line": {
          "color": "rgba(128, 128, 128, 1.0)",
          "dash": "solid",
          "shape": "linear",
          "width": 1.3
         },
         "marker": {
          "size": 2,
          "symbol": "circle"
         },
         "mode": "markers",
         "name": "C",
         "text": "",
         "type": "scatter",
         "x": [
          0.522556105813715,
          0.8366465175888684,
          -0.664603970479962,
          -0.6611168116320768,
          -0.029293198680295153,
          0.630440914253106,
          0.24536832097911143,
          0.5213441943977241,
          -0.6409830943135116,
          -1.2795322536768938,
          1.5529623456032118,
          -2.303638277851841,
          -0.08246423455366149,
          -0.6603240942134286,
          -1.3320172245876538,
          0.27054147790735356,
          -2.3102127601116957,
          -1.180959337349101,
          -1.6620377976952876,
          1.5467169576834783,
          -0.4169363614353314,
          -0.9631554333059279,
          -1.4560511712205557,
          -2.0404767103485617,
          1.9954182190915115,
          0.5205977940769877,
          -0.6707041858894667,
          1.190860114617754,
          0.4236278788802016,
          0.5951909517408043,
          0.0722911467287905,
          -0.8749298041157985,
          0.9194636594323516,
          1.4883038699736955,
          -3.4230147844322922,
          1.1924595949170957,
          1.4008954471598927,
          -1.1151174087094455,
          -1.1995365117501031,
          0.8110171223718338,
          -1.8292495637863746,
          2.0529700474973525,
          -1.3165906845861155,
          1.667125932294143,
          -1.3404983717729393,
          -0.6267318398612008,
          -1.733235590397368,
          -0.7963674104484132,
          -0.8623741759795556,
          -0.7773317335322487,
          -0.47181762470855554,
          0.07716999711133517,
          0.35817988537598444,
          -0.3295384933143855,
          0.6653512574814932,
          -0.4486369697071627,
          0.7099314026754735,
          -0.4542041749256783,
          -0.0746400765540713,
          0.21189666518828398,
          0.8737431149504534,
          0.4858681671093836,
          0.777834053956173,
          1.2796759802166797,
          -0.019325062343936078,
          -0.7744760972835689,
          -0.6060372583098742,
          1.0343304682727885,
          -1.5922954029379874,
          -0.6296209412783041,
          0.5207527208513598,
          -0.8729548116088645,
          -1.2396683909340585,
          -0.5932494118087088,
          0.0032824444979755235,
          0.5378194907114049,
          0.331241280973708,
          -1.278552728158368,
          -0.0995570035566114,
          -0.2453115203777214,
          0.5485210558743719,
          0.21445941172442826,
          -1.2505565269743624,
          -0.7799754350761642,
          1.3686204262485862,
          0.3353102228299381,
          -0.9002585779060629,
          2.1043905766033024,
          -0.6498677108938995,
          0.5634701912298704,
          -1.6338513008111868,
          -0.36347720593876093,
          1.9520757630587742,
          -0.923410126462932,
          1.203474471477271,
          1.1792980741286028,
          0.17293066836863386,
          -1.1796690199363606,
          -2.055002219050221,
          -1.3653009952725936
         ],
         "xaxis": "x9",
         "y": [
          0.9332866146772304,
          0.3049436880563497,
          0.44138861423703624,
          -0.20528713856566136,
          -0.7570614580837844,
          1.7845617333316954,
          0.2941229609186484,
          1.3690812570809878,
          -0.05079576879906741,
          1.0477237810425597,
          -1.339451693977425,
          1.0788780172679253,
          1.9385475323391281,
          -0.7121062713430775,
          1.642429503611656,
          0.6947864535012566,
          -0.5302665281980049,
          0.7575221774092812,
          -1.5314018780942285,
          0.9778155631043197,
          1.0158153413130238,
          1.4682205489568387,
          0.28226463927372575,
          0.697677826377623,
          0.5658161799325903,
          -0.5253519002897766,
          -0.5970290526545614,
          -0.7459136185729337,
          -0.11267071355998802,
          -0.47312923778026433,
          2.2359269385734133,
          0.22847947959073348,
          0.9388799026195135,
          -0.11903523962015843,
          -1.7486224017365364,
          0.33648849116092194,
          -0.4418884183227688,
          -1.0289694052668623,
          0.11685715081354897,
          -1.0853115995134064,
          -0.7737247922457348,
          -0.18719483243941543,
          1.8035625576305088,
          -0.4434056930273342,
          0.9130516530940805,
          -1.0462157322010581,
          -0.011023917936309642,
          0.2747394646216463,
          0.12432810131286895,
          1.5398474520713819,
          1.2664948567377068,
          1.069592857295506,
          -0.6106061720265551,
          1.4188978795330267,
          -0.08254929835706407,
          0.0848936794790966,
          1.1567468286988167,
          0.5128939311875526,
          0.2783955292540215,
          -1.8482262148260062,
          -0.3732685686845318,
          0.9450082135561825,
          1.5199188969908948,
          -1.7584730339833166,
          -0.975520542632561,
          -0.2679417652656878,
          0.25819195285435254,
          -0.6908430289541013,
          -1.0826307066480867,
          0.7184049548065112,
          1.1224951612897176,
          0.9230782244265155,
          1.449241212739982,
          -1.0251011192519417,
          1.143071988649807,
          -0.45802657720611467,
          -0.9601771135828424,
          -1.2319905415425854,
          1.3347431234247218,
          1.6522536688357146,
          -0.8512062789349891,
          0.7576839342501829,
          -1.2528006446028976,
          1.3542360949670942,
          0.3454602683138546,
          0.7545130229720501,
          0.2558963684137531,
          -2.0332833516080533,
          -0.44567402359846436,
          2.6228740067529825,
          2.8711381625116617,
          -0.005712413187787785,
          -0.4267549415352209,
          -0.9129338150576033,
          0.9880204669489722,
          0.20156350296632106,
          -0.23953414816758475,
          0.9697173046570664,
          -1.330784319642086,
          -0.5205197172475784
         ],
         "yaxis": "y9"
        },
        {
         "line": {
          "color": "rgba(128, 128, 128, 1.0)",
          "dash": "solid",
          "shape": "linear",
          "width": 1.3
         },
         "marker": {
          "size": 2,
          "symbol": "circle"
         },
         "mode": "markers",
         "name": "C",
         "text": "",
         "type": "scatter",
         "x": [
          -1.0502366155422067,
          -0.021961193335135246,
          -0.5765927169777691,
          2.248965683306026,
          -1.0018182265616553,
          -0.894238683015506,
          0.6460866751885185,
          -1.3115427152492027,
          1.3166852659343116,
          1.926211376247639,
          -0.2922318185022914,
          0.09152608733805903,
          -0.7430556408676412,
          -0.578476852932132,
          0.6642732928180614,
          -1.0057961103352402,
          -0.056384208433620034,
          1.0909053059116434,
          0.4734520127620457,
          -0.02676628959820128,
          -0.22708984983508898,
          0.9741417789799731,
          -1.5145327182874229,
          1.2834117079537986,
          0.6741070591221596,
          0.24083067110312012,
          0.8555734521733575,
          0.6306027272359749,
          1.5763162765394942,
          -0.5958029804768725,
          1.568304227917459,
          0.05975424687522171,
          -1.706261214114887,
          1.7312151731908052,
          -1.7080487887071312,
          -0.43781305829364797,
          0.20921487935513305,
          -2.259297390099242,
          1.218643322819174,
          0.32418168737135344,
          0.6564577271674744,
          -1.0721690985177132,
          -0.6557675467597885,
          -0.12441768390177917,
          0.7006888292110914,
          1.7994324854881514,
          -1.1572248539641468,
          -0.20803654802745664,
          0.12223982689574536,
          0.9016669965242321,
          0.02851091151994256,
          -0.04349225640139199,
          -0.8098781338219512,
          -0.12311448162771756,
          0.9760908000146804,
          -1.0199094785959937,
          -0.4571566426231742,
          1.3938270495469804,
          -0.9199946915318254,
          0.8866663856815331,
          0.3058242139615769,
          -0.45665461339037566,
          -0.5152722731281091,
          0.5113151944185977,
          -1.2122833743218226,
          2.8912100887402654,
          -1.0200521532784588,
          0.29861556578277937,
          -1.82601771971382,
          0.2629590316929113,
          -0.24178830164881776,
          0.734374599908883,
          -0.771622179092258,
          -0.9050560338468139,
          -0.36113285074818186,
          0.6688510578903628,
          -1.4846396280995497,
          0.6829643443929462,
          1.3481232854267218,
          -0.3780301066171847,
          -0.21712034615308187,
          0.23588244120169044,
          0.6797192924255304,
          -0.9562785562071007,
          0.5230709190292472,
          0.8152487481197463,
          -0.2461668611776281,
          0.42057386032266425,
          -1.9427434567661108,
          -0.35009411437483956,
          -0.5247859106616706,
          0.9801017518398779,
          0.21683762267305612,
          0.10109849438698844,
          -0.010736076482799084,
          -0.3068822190517889,
          0.1657544349926027,
          -0.5373922231954307,
          1.9009029986905681,
          0.2860674527087954
         ],
         "xaxis": "x10",
         "y": [
          0.9332866146772304,
          0.3049436880563497,
          0.44138861423703624,
          -0.20528713856566136,
          -0.7570614580837844,
          1.7845617333316954,
          0.2941229609186484,
          1.3690812570809878,
          -0.05079576879906741,
          1.0477237810425597,
          -1.339451693977425,
          1.0788780172679253,
          1.9385475323391281,
          -0.7121062713430775,
          1.642429503611656,
          0.6947864535012566,
          -0.5302665281980049,
          0.7575221774092812,
          -1.5314018780942285,
          0.9778155631043197,
          1.0158153413130238,
          1.4682205489568387,
          0.28226463927372575,
          0.697677826377623,
          0.5658161799325903,
          -0.5253519002897766,
          -0.5970290526545614,
          -0.7459136185729337,
          -0.11267071355998802,
          -0.47312923778026433,
          2.2359269385734133,
          0.22847947959073348,
          0.9388799026195135,
          -0.11903523962015843,
          -1.7486224017365364,
          0.33648849116092194,
          -0.4418884183227688,
          -1.0289694052668623,
          0.11685715081354897,
          -1.0853115995134064,
          -0.7737247922457348,
          -0.18719483243941543,
          1.8035625576305088,
          -0.4434056930273342,
          0.9130516530940805,
          -1.0462157322010581,
          -0.011023917936309642,
          0.2747394646216463,
          0.12432810131286895,
          1.5398474520713819,
          1.2664948567377068,
          1.069592857295506,
          -0.6106061720265551,
          1.4188978795330267,
          -0.08254929835706407,
          0.0848936794790966,
          1.1567468286988167,
          0.5128939311875526,
          0.2783955292540215,
          -1.8482262148260062,
          -0.3732685686845318,
          0.9450082135561825,
          1.5199188969908948,
          -1.7584730339833166,
          -0.975520542632561,
          -0.2679417652656878,
          0.25819195285435254,
          -0.6908430289541013,
          -1.0826307066480867,
          0.7184049548065112,
          1.1224951612897176,
          0.9230782244265155,
          1.449241212739982,
          -1.0251011192519417,
          1.143071988649807,
          -0.45802657720611467,
          -0.9601771135828424,
          -1.2319905415425854,
          1.3347431234247218,
          1.6522536688357146,
          -0.8512062789349891,
          0.7576839342501829,
          -1.2528006446028976,
          1.3542360949670942,
          0.3454602683138546,
          0.7545130229720501,
          0.2558963684137531,
          -2.0332833516080533,
          -0.44567402359846436,
          2.6228740067529825,
          2.8711381625116617,
          -0.005712413187787785,
          -0.4267549415352209,
          -0.9129338150576033,
          0.9880204669489722,
          0.20156350296632106,
          -0.23953414816758475,
          0.9697173046570664,
          -1.330784319642086,
          -0.5205197172475784
         ],
         "yaxis": "y10"
        },
        {
         "histfunc": "count",
         "histnorm": "",
         "marker": {
          "color": "rgba(50, 171, 96, 1.0)",
          "line": {
           "color": "#4D5663",
           "width": 1.3
          }
         },
         "name": "C",
         "nbinsx": 10,
         "opacity": 0.8,
         "orientation": "v",
         "type": "histogram",
         "x": [
          0.9332866146772304,
          0.3049436880563497,
          0.44138861423703624,
          -0.20528713856566136,
          -0.7570614580837844,
          1.7845617333316954,
          0.2941229609186484,
          1.3690812570809878,
          -0.05079576879906741,
          1.0477237810425597,
          -1.339451693977425,
          1.0788780172679253,
          1.9385475323391281,
          -0.7121062713430775,
          1.642429503611656,
          0.6947864535012566,
          -0.5302665281980049,
          0.7575221774092812,
          -1.5314018780942285,
          0.9778155631043197,
          1.0158153413130238,
          1.4682205489568387,
          0.28226463927372575,
          0.697677826377623,
          0.5658161799325903,
          -0.5253519002897766,
          -0.5970290526545614,
          -0.7459136185729337,
          -0.11267071355998802,
          -0.47312923778026433,
          2.2359269385734133,
          0.22847947959073348,
          0.9388799026195135,
          -0.11903523962015843,
          -1.7486224017365364,
          0.33648849116092194,
          -0.4418884183227688,
          -1.0289694052668623,
          0.11685715081354897,
          -1.0853115995134064,
          -0.7737247922457348,
          -0.18719483243941543,
          1.8035625576305088,
          -0.4434056930273342,
          0.9130516530940805,
          -1.0462157322010581,
          -0.011023917936309642,
          0.2747394646216463,
          0.12432810131286895,
          1.5398474520713819,
          1.2664948567377068,
          1.069592857295506,
          -0.6106061720265551,
          1.4188978795330267,
          -0.08254929835706407,
          0.0848936794790966,
          1.1567468286988167,
          0.5128939311875526,
          0.2783955292540215,
          -1.8482262148260062,
          -0.3732685686845318,
          0.9450082135561825,
          1.5199188969908948,
          -1.7584730339833166,
          -0.975520542632561,
          -0.2679417652656878,
          0.25819195285435254,
          -0.6908430289541013,
          -1.0826307066480867,
          0.7184049548065112,
          1.1224951612897176,
          0.9230782244265155,
          1.449241212739982,
          -1.0251011192519417,
          1.143071988649807,
          -0.45802657720611467,
          -0.9601771135828424,
          -1.2319905415425854,
          1.3347431234247218,
          1.6522536688357146,
          -0.8512062789349891,
          0.7576839342501829,
          -1.2528006446028976,
          1.3542360949670942,
          0.3454602683138546,
          0.7545130229720501,
          0.2558963684137531,
          -2.0332833516080533,
          -0.44567402359846436,
          2.6228740067529825,
          2.8711381625116617,
          -0.005712413187787785,
          -0.4267549415352209,
          -0.9129338150576033,
          0.9880204669489722,
          0.20156350296632106,
          -0.23953414816758475,
          0.9697173046570664,
          -1.330784319642086,
          -0.5205197172475784
         ],
         "xaxis": "x11",
         "yaxis": "y11"
        },
        {
         "line": {
          "color": "rgba(128, 128, 128, 1.0)",
          "dash": "solid",
          "shape": "linear",
          "width": 1.3
         },
         "marker": {
          "size": 2,
          "symbol": "circle"
         },
         "mode": "markers",
         "name": "C",
         "text": "",
         "type": "scatter",
         "x": [
          0.15819227098722033,
          -0.20838612550620814,
          -0.8226142957144436,
          0.9560447621677909,
          0.27052253045962205,
          0.8200525191384015,
          -0.5246990944281539,
          -1.2975274377223307,
          -0.7922911464415296,
          -0.3710687148635587,
          1.2155318104663961,
          -0.00946663181537825,
          -0.6252945968173849,
          -0.06671455685440172,
          1.1789732481171717,
          -1.5137939342754252,
          -0.3662175818542943,
          -0.6126577175429145,
          -0.10128941729010403,
          0.8718167545755164,
          1.1149996160957694,
          -0.8423701433651831,
          -0.6800790170902561,
          0.42639474601243627,
          0.251523764899969,
          -0.8659066777009436,
          0.4229581393137417,
          0.6526800404802042,
          -0.5545251497049041,
          0.9986058454032798,
          -0.3082976634730784,
          1.8532416207371785,
          -0.8839217600144291,
          -0.06556969999793383,
          -0.49851512053638725,
          -1.1602766032657377,
          0.8699746653506601,
          -0.7741938736269718,
          0.24543811171573388,
          0.9111001057521537,
          -0.21131714756348827,
          -0.49982184469096674,
          0.060897682863460215,
          0.48822674149408035,
          -0.020306533167304037,
          1.0767705148158597,
          0.1664801385084698,
          0.7150093977610442,
          -1.421034825740538,
          1.907153346356637,
          1.2447765217369882,
          2.111747443098467,
          2.4488733928892223,
          -3.2314456687886097,
          -0.5379476847464684,
          1.046133803256443,
          0.6373990785663881,
          1.4331475496012005,
          0.14920001336697875,
          0.6883720706856165,
          0.8336504444043047,
          -0.1967798210239832,
          0.3837696075283908,
          -0.1985591357871106,
          -1.1662344851690605,
          -0.9803354423467238,
          -0.7443830937865075,
          -1.8957978032294063,
          0.931495160078685,
          -0.2644743718545935,
          -0.22464338006883158,
          0.03752545714300439,
          -1.2391027208583643,
          -1.11592894637276,
          -0.06941410935670562,
          0.31871680448372824,
          0.5019666333781165,
          -0.15849234322605066,
          -0.4818060572577569,
          -1.880201256826168,
          0.1023978395750562,
          0.40156381324902174,
          1.5288944591079592,
          -0.38799929603879246,
          -0.01946874461156755,
          0.2196663607578247,
          -1.0251593532367242,
          -1.4626473425094721,
          -1.0030863879845482,
          0.4569701502836065,
          -0.08662094746684243,
          -1.0327558149805045,
          0.9842045640263896,
          -0.4348516430457228,
          -0.9497338011348774,
          -0.028470776481635846,
          -1.0339530205920409,
          1.0658006804824647,
          -0.24150122682259062,
          1.439589652810136
         ],
         "xaxis": "x12",
         "y": [
          0.9332866146772304,
          0.3049436880563497,
          0.44138861423703624,
          -0.20528713856566136,
          -0.7570614580837844,
          1.7845617333316954,
          0.2941229609186484,
          1.3690812570809878,
          -0.05079576879906741,
          1.0477237810425597,
          -1.339451693977425,
          1.0788780172679253,
          1.9385475323391281,
          -0.7121062713430775,
          1.642429503611656,
          0.6947864535012566,
          -0.5302665281980049,
          0.7575221774092812,
          -1.5314018780942285,
          0.9778155631043197,
          1.0158153413130238,
          1.4682205489568387,
          0.28226463927372575,
          0.697677826377623,
          0.5658161799325903,
          -0.5253519002897766,
          -0.5970290526545614,
          -0.7459136185729337,
          -0.11267071355998802,
          -0.47312923778026433,
          2.2359269385734133,
          0.22847947959073348,
          0.9388799026195135,
          -0.11903523962015843,
          -1.7486224017365364,
          0.33648849116092194,
          -0.4418884183227688,
          -1.0289694052668623,
          0.11685715081354897,
          -1.0853115995134064,
          -0.7737247922457348,
          -0.18719483243941543,
          1.8035625576305088,
          -0.4434056930273342,
          0.9130516530940805,
          -1.0462157322010581,
          -0.011023917936309642,
          0.2747394646216463,
          0.12432810131286895,
          1.5398474520713819,
          1.2664948567377068,
          1.069592857295506,
          -0.6106061720265551,
          1.4188978795330267,
          -0.08254929835706407,
          0.0848936794790966,
          1.1567468286988167,
          0.5128939311875526,
          0.2783955292540215,
          -1.8482262148260062,
          -0.3732685686845318,
          0.9450082135561825,
          1.5199188969908948,
          -1.7584730339833166,
          -0.975520542632561,
          -0.2679417652656878,
          0.25819195285435254,
          -0.6908430289541013,
          -1.0826307066480867,
          0.7184049548065112,
          1.1224951612897176,
          0.9230782244265155,
          1.449241212739982,
          -1.0251011192519417,
          1.143071988649807,
          -0.45802657720611467,
          -0.9601771135828424,
          -1.2319905415425854,
          1.3347431234247218,
          1.6522536688357146,
          -0.8512062789349891,
          0.7576839342501829,
          -1.2528006446028976,
          1.3542360949670942,
          0.3454602683138546,
          0.7545130229720501,
          0.2558963684137531,
          -2.0332833516080533,
          -0.44567402359846436,
          2.6228740067529825,
          2.8711381625116617,
          -0.005712413187787785,
          -0.4267549415352209,
          -0.9129338150576033,
          0.9880204669489722,
          0.20156350296632106,
          -0.23953414816758475,
          0.9697173046570664,
          -1.330784319642086,
          -0.5205197172475784
         ],
         "yaxis": "y12"
        },
        {
         "line": {
          "color": "rgba(128, 128, 128, 1.0)",
          "dash": "solid",
          "shape": "linear",
          "width": 1.3
         },
         "marker": {
          "size": 2,
          "symbol": "circle"
         },
         "mode": "markers",
         "name": "D",
         "text": "",
         "type": "scatter",
         "x": [
          0.522556105813715,
          0.8366465175888684,
          -0.664603970479962,
          -0.6611168116320768,
          -0.029293198680295153,
          0.630440914253106,
          0.24536832097911143,
          0.5213441943977241,
          -0.6409830943135116,
          -1.2795322536768938,
          1.5529623456032118,
          -2.303638277851841,
          -0.08246423455366149,
          -0.6603240942134286,
          -1.3320172245876538,
          0.27054147790735356,
          -2.3102127601116957,
          -1.180959337349101,
          -1.6620377976952876,
          1.5467169576834783,
          -0.4169363614353314,
          -0.9631554333059279,
          -1.4560511712205557,
          -2.0404767103485617,
          1.9954182190915115,
          0.5205977940769877,
          -0.6707041858894667,
          1.190860114617754,
          0.4236278788802016,
          0.5951909517408043,
          0.0722911467287905,
          -0.8749298041157985,
          0.9194636594323516,
          1.4883038699736955,
          -3.4230147844322922,
          1.1924595949170957,
          1.4008954471598927,
          -1.1151174087094455,
          -1.1995365117501031,
          0.8110171223718338,
          -1.8292495637863746,
          2.0529700474973525,
          -1.3165906845861155,
          1.667125932294143,
          -1.3404983717729393,
          -0.6267318398612008,
          -1.733235590397368,
          -0.7963674104484132,
          -0.8623741759795556,
          -0.7773317335322487,
          -0.47181762470855554,
          0.07716999711133517,
          0.35817988537598444,
          -0.3295384933143855,
          0.6653512574814932,
          -0.4486369697071627,
          0.7099314026754735,
          -0.4542041749256783,
          -0.0746400765540713,
          0.21189666518828398,
          0.8737431149504534,
          0.4858681671093836,
          0.777834053956173,
          1.2796759802166797,
          -0.019325062343936078,
          -0.7744760972835689,
          -0.6060372583098742,
          1.0343304682727885,
          -1.5922954029379874,
          -0.6296209412783041,
          0.5207527208513598,
          -0.8729548116088645,
          -1.2396683909340585,
          -0.5932494118087088,
          0.0032824444979755235,
          0.5378194907114049,
          0.331241280973708,
          -1.278552728158368,
          -0.0995570035566114,
          -0.2453115203777214,
          0.5485210558743719,
          0.21445941172442826,
          -1.2505565269743624,
          -0.7799754350761642,
          1.3686204262485862,
          0.3353102228299381,
          -0.9002585779060629,
          2.1043905766033024,
          -0.6498677108938995,
          0.5634701912298704,
          -1.6338513008111868,
          -0.36347720593876093,
          1.9520757630587742,
          -0.923410126462932,
          1.203474471477271,
          1.1792980741286028,
          0.17293066836863386,
          -1.1796690199363606,
          -2.055002219050221,
          -1.3653009952725936
         ],
         "xaxis": "x13",
         "y": [
          0.15819227098722033,
          -0.20838612550620814,
          -0.8226142957144436,
          0.9560447621677909,
          0.27052253045962205,
          0.8200525191384015,
          -0.5246990944281539,
          -1.2975274377223307,
          -0.7922911464415296,
          -0.3710687148635587,
          1.2155318104663961,
          -0.00946663181537825,
          -0.6252945968173849,
          -0.06671455685440172,
          1.1789732481171717,
          -1.5137939342754252,
          -0.3662175818542943,
          -0.6126577175429145,
          -0.10128941729010403,
          0.8718167545755164,
          1.1149996160957694,
          -0.8423701433651831,
          -0.6800790170902561,
          0.42639474601243627,
          0.251523764899969,
          -0.8659066777009436,
          0.4229581393137417,
          0.6526800404802042,
          -0.5545251497049041,
          0.9986058454032798,
          -0.3082976634730784,
          1.8532416207371785,
          -0.8839217600144291,
          -0.06556969999793383,
          -0.49851512053638725,
          -1.1602766032657377,
          0.8699746653506601,
          -0.7741938736269718,
          0.24543811171573388,
          0.9111001057521537,
          -0.21131714756348827,
          -0.49982184469096674,
          0.060897682863460215,
          0.48822674149408035,
          -0.020306533167304037,
          1.0767705148158597,
          0.1664801385084698,
          0.7150093977610442,
          -1.421034825740538,
          1.907153346356637,
          1.2447765217369882,
          2.111747443098467,
          2.4488733928892223,
          -3.2314456687886097,
          -0.5379476847464684,
          1.046133803256443,
          0.6373990785663881,
          1.4331475496012005,
          0.14920001336697875,
          0.6883720706856165,
          0.8336504444043047,
          -0.1967798210239832,
          0.3837696075283908,
          -0.1985591357871106,
          -1.1662344851690605,
          -0.9803354423467238,
          -0.7443830937865075,
          -1.8957978032294063,
          0.931495160078685,
          -0.2644743718545935,
          -0.22464338006883158,
          0.03752545714300439,
          -1.2391027208583643,
          -1.11592894637276,
          -0.06941410935670562,
          0.31871680448372824,
          0.5019666333781165,
          -0.15849234322605066,
          -0.4818060572577569,
          -1.880201256826168,
          0.1023978395750562,
          0.40156381324902174,
          1.5288944591079592,
          -0.38799929603879246,
          -0.01946874461156755,
          0.2196663607578247,
          -1.0251593532367242,
          -1.4626473425094721,
          -1.0030863879845482,
          0.4569701502836065,
          -0.08662094746684243,
          -1.0327558149805045,
          0.9842045640263896,
          -0.4348516430457228,
          -0.9497338011348774,
          -0.028470776481635846,
          -1.0339530205920409,
          1.0658006804824647,
          -0.24150122682259062,
          1.439589652810136
         ],
         "yaxis": "y13"
        },
        {
         "line": {
          "color": "rgba(128, 128, 128, 1.0)",
          "dash": "solid",
          "shape": "linear",
          "width": 1.3
         },
         "marker": {
          "size": 2,
          "symbol": "circle"
         },
         "mode": "markers",
         "name": "D",
         "text": "",
         "type": "scatter",
         "x": [
          -1.0502366155422067,
          -0.021961193335135246,
          -0.5765927169777691,
          2.248965683306026,
          -1.0018182265616553,
          -0.894238683015506,
          0.6460866751885185,
          -1.3115427152492027,
          1.3166852659343116,
          1.926211376247639,
          -0.2922318185022914,
          0.09152608733805903,
          -0.7430556408676412,
          -0.578476852932132,
          0.6642732928180614,
          -1.0057961103352402,
          -0.056384208433620034,
          1.0909053059116434,
          0.4734520127620457,
          -0.02676628959820128,
          -0.22708984983508898,
          0.9741417789799731,
          -1.5145327182874229,
          1.2834117079537986,
          0.6741070591221596,
          0.24083067110312012,
          0.8555734521733575,
          0.6306027272359749,
          1.5763162765394942,
          -0.5958029804768725,
          1.568304227917459,
          0.05975424687522171,
          -1.706261214114887,
          1.7312151731908052,
          -1.7080487887071312,
          -0.43781305829364797,
          0.20921487935513305,
          -2.259297390099242,
          1.218643322819174,
          0.32418168737135344,
          0.6564577271674744,
          -1.0721690985177132,
          -0.6557675467597885,
          -0.12441768390177917,
          0.7006888292110914,
          1.7994324854881514,
          -1.1572248539641468,
          -0.20803654802745664,
          0.12223982689574536,
          0.9016669965242321,
          0.02851091151994256,
          -0.04349225640139199,
          -0.8098781338219512,
          -0.12311448162771756,
          0.9760908000146804,
          -1.0199094785959937,
          -0.4571566426231742,
          1.3938270495469804,
          -0.9199946915318254,
          0.8866663856815331,
          0.3058242139615769,
          -0.45665461339037566,
          -0.5152722731281091,
          0.5113151944185977,
          -1.2122833743218226,
          2.8912100887402654,
          -1.0200521532784588,
          0.29861556578277937,
          -1.82601771971382,
          0.2629590316929113,
          -0.24178830164881776,
          0.734374599908883,
          -0.771622179092258,
          -0.9050560338468139,
          -0.36113285074818186,
          0.6688510578903628,
          -1.4846396280995497,
          0.6829643443929462,
          1.3481232854267218,
          -0.3780301066171847,
          -0.21712034615308187,
          0.23588244120169044,
          0.6797192924255304,
          -0.9562785562071007,
          0.5230709190292472,
          0.8152487481197463,
          -0.2461668611776281,
          0.42057386032266425,
          -1.9427434567661108,
          -0.35009411437483956,
          -0.5247859106616706,
          0.9801017518398779,
          0.21683762267305612,
          0.10109849438698844,
          -0.010736076482799084,
          -0.3068822190517889,
          0.1657544349926027,
          -0.5373922231954307,
          1.9009029986905681,
          0.2860674527087954
         ],
         "xaxis": "x14",
         "y": [
          0.15819227098722033,
          -0.20838612550620814,
          -0.8226142957144436,
          0.9560447621677909,
          0.27052253045962205,
          0.8200525191384015,
          -0.5246990944281539,
          -1.2975274377223307,
          -0.7922911464415296,
          -0.3710687148635587,
          1.2155318104663961,
          -0.00946663181537825,
          -0.6252945968173849,
          -0.06671455685440172,
          1.1789732481171717,
          -1.5137939342754252,
          -0.3662175818542943,
          -0.6126577175429145,
          -0.10128941729010403,
          0.8718167545755164,
          1.1149996160957694,
          -0.8423701433651831,
          -0.6800790170902561,
          0.42639474601243627,
          0.251523764899969,
          -0.8659066777009436,
          0.4229581393137417,
          0.6526800404802042,
          -0.5545251497049041,
          0.9986058454032798,
          -0.3082976634730784,
          1.8532416207371785,
          -0.8839217600144291,
          -0.06556969999793383,
          -0.49851512053638725,
          -1.1602766032657377,
          0.8699746653506601,
          -0.7741938736269718,
          0.24543811171573388,
          0.9111001057521537,
          -0.21131714756348827,
          -0.49982184469096674,
          0.060897682863460215,
          0.48822674149408035,
          -0.020306533167304037,
          1.0767705148158597,
          0.1664801385084698,
          0.7150093977610442,
          -1.421034825740538,
          1.907153346356637,
          1.2447765217369882,
          2.111747443098467,
          2.4488733928892223,
          -3.2314456687886097,
          -0.5379476847464684,
          1.046133803256443,
          0.6373990785663881,
          1.4331475496012005,
          0.14920001336697875,
          0.6883720706856165,
          0.8336504444043047,
          -0.1967798210239832,
          0.3837696075283908,
          -0.1985591357871106,
          -1.1662344851690605,
          -0.9803354423467238,
          -0.7443830937865075,
          -1.8957978032294063,
          0.931495160078685,
          -0.2644743718545935,
          -0.22464338006883158,
          0.03752545714300439,
          -1.2391027208583643,
          -1.11592894637276,
          -0.06941410935670562,
          0.31871680448372824,
          0.5019666333781165,
          -0.15849234322605066,
          -0.4818060572577569,
          -1.880201256826168,
          0.1023978395750562,
          0.40156381324902174,
          1.5288944591079592,
          -0.38799929603879246,
          -0.01946874461156755,
          0.2196663607578247,
          -1.0251593532367242,
          -1.4626473425094721,
          -1.0030863879845482,
          0.4569701502836065,
          -0.08662094746684243,
          -1.0327558149805045,
          0.9842045640263896,
          -0.4348516430457228,
          -0.9497338011348774,
          -0.028470776481635846,
          -1.0339530205920409,
          1.0658006804824647,
          -0.24150122682259062,
          1.439589652810136
         ],
         "yaxis": "y14"
        },
        {
         "line": {
          "color": "rgba(128, 128, 128, 1.0)",
          "dash": "solid",
          "shape": "linear",
          "width": 1.3
         },
         "marker": {
          "size": 2,
          "symbol": "circle"
         },
         "mode": "markers",
         "name": "D",
         "text": "",
         "type": "scatter",
         "x": [
          0.9332866146772304,
          0.3049436880563497,
          0.44138861423703624,
          -0.20528713856566136,
          -0.7570614580837844,
          1.7845617333316954,
          0.2941229609186484,
          1.3690812570809878,
          -0.05079576879906741,
          1.0477237810425597,
          -1.339451693977425,
          1.0788780172679253,
          1.9385475323391281,
          -0.7121062713430775,
          1.642429503611656,
          0.6947864535012566,
          -0.5302665281980049,
          0.7575221774092812,
          -1.5314018780942285,
          0.9778155631043197,
          1.0158153413130238,
          1.4682205489568387,
          0.28226463927372575,
          0.697677826377623,
          0.5658161799325903,
          -0.5253519002897766,
          -0.5970290526545614,
          -0.7459136185729337,
          -0.11267071355998802,
          -0.47312923778026433,
          2.2359269385734133,
          0.22847947959073348,
          0.9388799026195135,
          -0.11903523962015843,
          -1.7486224017365364,
          0.33648849116092194,
          -0.4418884183227688,
          -1.0289694052668623,
          0.11685715081354897,
          -1.0853115995134064,
          -0.7737247922457348,
          -0.18719483243941543,
          1.8035625576305088,
          -0.4434056930273342,
          0.9130516530940805,
          -1.0462157322010581,
          -0.011023917936309642,
          0.2747394646216463,
          0.12432810131286895,
          1.5398474520713819,
          1.2664948567377068,
          1.069592857295506,
          -0.6106061720265551,
          1.4188978795330267,
          -0.08254929835706407,
          0.0848936794790966,
          1.1567468286988167,
          0.5128939311875526,
          0.2783955292540215,
          -1.8482262148260062,
          -0.3732685686845318,
          0.9450082135561825,
          1.5199188969908948,
          -1.7584730339833166,
          -0.975520542632561,
          -0.2679417652656878,
          0.25819195285435254,
          -0.6908430289541013,
          -1.0826307066480867,
          0.7184049548065112,
          1.1224951612897176,
          0.9230782244265155,
          1.449241212739982,
          -1.0251011192519417,
          1.143071988649807,
          -0.45802657720611467,
          -0.9601771135828424,
          -1.2319905415425854,
          1.3347431234247218,
          1.6522536688357146,
          -0.8512062789349891,
          0.7576839342501829,
          -1.2528006446028976,
          1.3542360949670942,
          0.3454602683138546,
          0.7545130229720501,
          0.2558963684137531,
          -2.0332833516080533,
          -0.44567402359846436,
          2.6228740067529825,
          2.8711381625116617,
          -0.005712413187787785,
          -0.4267549415352209,
          -0.9129338150576033,
          0.9880204669489722,
          0.20156350296632106,
          -0.23953414816758475,
          0.9697173046570664,
          -1.330784319642086,
          -0.5205197172475784
         ],
         "xaxis": "x15",
         "y": [
          0.15819227098722033,
          -0.20838612550620814,
          -0.8226142957144436,
          0.9560447621677909,
          0.27052253045962205,
          0.8200525191384015,
          -0.5246990944281539,
          -1.2975274377223307,
          -0.7922911464415296,
          -0.3710687148635587,
          1.2155318104663961,
          -0.00946663181537825,
          -0.6252945968173849,
          -0.06671455685440172,
          1.1789732481171717,
          -1.5137939342754252,
          -0.3662175818542943,
          -0.6126577175429145,
          -0.10128941729010403,
          0.8718167545755164,
          1.1149996160957694,
          -0.8423701433651831,
          -0.6800790170902561,
          0.42639474601243627,
          0.251523764899969,
          -0.8659066777009436,
          0.4229581393137417,
          0.6526800404802042,
          -0.5545251497049041,
          0.9986058454032798,
          -0.3082976634730784,
          1.8532416207371785,
          -0.8839217600144291,
          -0.06556969999793383,
          -0.49851512053638725,
          -1.1602766032657377,
          0.8699746653506601,
          -0.7741938736269718,
          0.24543811171573388,
          0.9111001057521537,
          -0.21131714756348827,
          -0.49982184469096674,
          0.060897682863460215,
          0.48822674149408035,
          -0.020306533167304037,
          1.0767705148158597,
          0.1664801385084698,
          0.7150093977610442,
          -1.421034825740538,
          1.907153346356637,
          1.2447765217369882,
          2.111747443098467,
          2.4488733928892223,
          -3.2314456687886097,
          -0.5379476847464684,
          1.046133803256443,
          0.6373990785663881,
          1.4331475496012005,
          0.14920001336697875,
          0.6883720706856165,
          0.8336504444043047,
          -0.1967798210239832,
          0.3837696075283908,
          -0.1985591357871106,
          -1.1662344851690605,
          -0.9803354423467238,
          -0.7443830937865075,
          -1.8957978032294063,
          0.931495160078685,
          -0.2644743718545935,
          -0.22464338006883158,
          0.03752545714300439,
          -1.2391027208583643,
          -1.11592894637276,
          -0.06941410935670562,
          0.31871680448372824,
          0.5019666333781165,
          -0.15849234322605066,
          -0.4818060572577569,
          -1.880201256826168,
          0.1023978395750562,
          0.40156381324902174,
          1.5288944591079592,
          -0.38799929603879246,
          -0.01946874461156755,
          0.2196663607578247,
          -1.0251593532367242,
          -1.4626473425094721,
          -1.0030863879845482,
          0.4569701502836065,
          -0.08662094746684243,
          -1.0327558149805045,
          0.9842045640263896,
          -0.4348516430457228,
          -0.9497338011348774,
          -0.028470776481635846,
          -1.0339530205920409,
          1.0658006804824647,
          -0.24150122682259062,
          1.439589652810136
         ],
         "yaxis": "y15"
        },
        {
         "histfunc": "count",
         "histnorm": "",
         "marker": {
          "color": "rgba(128, 0, 128, 1.0)",
          "line": {
           "color": "#4D5663",
           "width": 1.3
          }
         },
         "name": "D",
         "nbinsx": 10,
         "opacity": 0.8,
         "orientation": "v",
         "type": "histogram",
         "x": [
          0.15819227098722033,
          -0.20838612550620814,
          -0.8226142957144436,
          0.9560447621677909,
          0.27052253045962205,
          0.8200525191384015,
          -0.5246990944281539,
          -1.2975274377223307,
          -0.7922911464415296,
          -0.3710687148635587,
          1.2155318104663961,
          -0.00946663181537825,
          -0.6252945968173849,
          -0.06671455685440172,
          1.1789732481171717,
          -1.5137939342754252,
          -0.3662175818542943,
          -0.6126577175429145,
          -0.10128941729010403,
          0.8718167545755164,
          1.1149996160957694,
          -0.8423701433651831,
          -0.6800790170902561,
          0.42639474601243627,
          0.251523764899969,
          -0.8659066777009436,
          0.4229581393137417,
          0.6526800404802042,
          -0.5545251497049041,
          0.9986058454032798,
          -0.3082976634730784,
          1.8532416207371785,
          -0.8839217600144291,
          -0.06556969999793383,
          -0.49851512053638725,
          -1.1602766032657377,
          0.8699746653506601,
          -0.7741938736269718,
          0.24543811171573388,
          0.9111001057521537,
          -0.21131714756348827,
          -0.49982184469096674,
          0.060897682863460215,
          0.48822674149408035,
          -0.020306533167304037,
          1.0767705148158597,
          0.1664801385084698,
          0.7150093977610442,
          -1.421034825740538,
          1.907153346356637,
          1.2447765217369882,
          2.111747443098467,
          2.4488733928892223,
          -3.2314456687886097,
          -0.5379476847464684,
          1.046133803256443,
          0.6373990785663881,
          1.4331475496012005,
          0.14920001336697875,
          0.6883720706856165,
          0.8336504444043047,
          -0.1967798210239832,
          0.3837696075283908,
          -0.1985591357871106,
          -1.1662344851690605,
          -0.9803354423467238,
          -0.7443830937865075,
          -1.8957978032294063,
          0.931495160078685,
          -0.2644743718545935,
          -0.22464338006883158,
          0.03752545714300439,
          -1.2391027208583643,
          -1.11592894637276,
          -0.06941410935670562,
          0.31871680448372824,
          0.5019666333781165,
          -0.15849234322605066,
          -0.4818060572577569,
          -1.880201256826168,
          0.1023978395750562,
          0.40156381324902174,
          1.5288944591079592,
          -0.38799929603879246,
          -0.01946874461156755,
          0.2196663607578247,
          -1.0251593532367242,
          -1.4626473425094721,
          -1.0030863879845482,
          0.4569701502836065,
          -0.08662094746684243,
          -1.0327558149805045,
          0.9842045640263896,
          -0.4348516430457228,
          -0.9497338011348774,
          -0.028470776481635846,
          -1.0339530205920409,
          1.0658006804824647,
          -0.24150122682259062,
          1.439589652810136
         ],
         "xaxis": "x16",
         "yaxis": "y16"
        }
       ],
       "layout": {
        "bargap": 0.02,
        "legend": {
         "bgcolor": "#F5F6F9",
         "font": {
          "color": "#4D5663"
         }
        },
        "paper_bgcolor": "#F5F6F9",
        "plot_bgcolor": "#F5F6F9",
        "showlegend": false,
        "template": {
         "data": {
          "bar": [
           {
            "error_x": {
             "color": "#2a3f5f"
            },
            "error_y": {
             "color": "#2a3f5f"
            },
            "marker": {
             "line": {
              "color": "#E5ECF6",
              "width": 0.5
             }
            },
            "type": "bar"
           }
          ],
          "barpolar": [
           {
            "marker": {
             "line": {
              "color": "#E5ECF6",
              "width": 0.5
             }
            },
            "type": "barpolar"
           }
          ],
          "carpet": [
           {
            "aaxis": {
             "endlinecolor": "#2a3f5f",
             "gridcolor": "white",
             "linecolor": "white",
             "minorgridcolor": "white",
             "startlinecolor": "#2a3f5f"
            },
            "baxis": {
             "endlinecolor": "#2a3f5f",
             "gridcolor": "white",
             "linecolor": "white",
             "minorgridcolor": "white",
             "startlinecolor": "#2a3f5f"
            },
            "type": "carpet"
           }
          ],
          "choropleth": [
           {
            "colorbar": {
             "outlinewidth": 0,
             "ticks": ""
            },
            "type": "choropleth"
           }
          ],
          "contour": [
           {
            "colorbar": {
             "outlinewidth": 0,
             "ticks": ""
            },
            "colorscale": [
             [
              0,
              "#0d0887"
             ],
             [
              0.1111111111111111,
              "#46039f"
             ],
             [
              0.2222222222222222,
              "#7201a8"
             ],
             [
              0.3333333333333333,
              "#9c179e"
             ],
             [
              0.4444444444444444,
              "#bd3786"
             ],
             [
              0.5555555555555556,
              "#d8576b"
             ],
             [
              0.6666666666666666,
              "#ed7953"
             ],
             [
              0.7777777777777778,
              "#fb9f3a"
             ],
             [
              0.8888888888888888,
              "#fdca26"
             ],
             [
              1,
              "#f0f921"
             ]
            ],
            "type": "contour"
           }
          ],
          "contourcarpet": [
           {
            "colorbar": {
             "outlinewidth": 0,
             "ticks": ""
            },
            "type": "contourcarpet"
           }
          ],
          "heatmap": [
           {
            "colorbar": {
             "outlinewidth": 0,
             "ticks": ""
            },
            "colorscale": [
             [
              0,
              "#0d0887"
             ],
             [
              0.1111111111111111,
              "#46039f"
             ],
             [
              0.2222222222222222,
              "#7201a8"
             ],
             [
              0.3333333333333333,
              "#9c179e"
             ],
             [
              0.4444444444444444,
              "#bd3786"
             ],
             [
              0.5555555555555556,
              "#d8576b"
             ],
             [
              0.6666666666666666,
              "#ed7953"
             ],
             [
              0.7777777777777778,
              "#fb9f3a"
             ],
             [
              0.8888888888888888,
              "#fdca26"
             ],
             [
              1,
              "#f0f921"
             ]
            ],
            "type": "heatmap"
           }
          ],
          "heatmapgl": [
           {
            "colorbar": {
             "outlinewidth": 0,
             "ticks": ""
            },
            "colorscale": [
             [
              0,
              "#0d0887"
             ],
             [
              0.1111111111111111,
              "#46039f"
             ],
             [
              0.2222222222222222,
              "#7201a8"
             ],
             [
              0.3333333333333333,
              "#9c179e"
             ],
             [
              0.4444444444444444,
              "#bd3786"
             ],
             [
              0.5555555555555556,
              "#d8576b"
             ],
             [
              0.6666666666666666,
              "#ed7953"
             ],
             [
              0.7777777777777778,
              "#fb9f3a"
             ],
             [
              0.8888888888888888,
              "#fdca26"
             ],
             [
              1,
              "#f0f921"
             ]
            ],
            "type": "heatmapgl"
           }
          ],
          "histogram": [
           {
            "marker": {
             "colorbar": {
              "outlinewidth": 0,
              "ticks": ""
             }
            },
            "type": "histogram"
           }
          ],
          "histogram2d": [
           {
            "colorbar": {
             "outlinewidth": 0,
             "ticks": ""
            },
            "colorscale": [
             [
              0,
              "#0d0887"
             ],
             [
              0.1111111111111111,
              "#46039f"
             ],
             [
              0.2222222222222222,
              "#7201a8"
             ],
             [
              0.3333333333333333,
              "#9c179e"
             ],
             [
              0.4444444444444444,
              "#bd3786"
             ],
             [
              0.5555555555555556,
              "#d8576b"
             ],
             [
              0.6666666666666666,
              "#ed7953"
             ],
             [
              0.7777777777777778,
              "#fb9f3a"
             ],
             [
              0.8888888888888888,
              "#fdca26"
             ],
             [
              1,
              "#f0f921"
             ]
            ],
            "type": "histogram2d"
           }
          ],
          "histogram2dcontour": [
           {
            "colorbar": {
             "outlinewidth": 0,
             "ticks": ""
            },
            "colorscale": [
             [
              0,
              "#0d0887"
             ],
             [
              0.1111111111111111,
              "#46039f"
             ],
             [
              0.2222222222222222,
              "#7201a8"
             ],
             [
              0.3333333333333333,
              "#9c179e"
             ],
             [
              0.4444444444444444,
              "#bd3786"
             ],
             [
              0.5555555555555556,
              "#d8576b"
             ],
             [
              0.6666666666666666,
              "#ed7953"
             ],
             [
              0.7777777777777778,
              "#fb9f3a"
             ],
             [
              0.8888888888888888,
              "#fdca26"
             ],
             [
              1,
              "#f0f921"
             ]
            ],
            "type": "histogram2dcontour"
           }
          ],
          "mesh3d": [
           {
            "colorbar": {
             "outlinewidth": 0,
             "ticks": ""
            },
            "type": "mesh3d"
           }
          ],
          "parcoords": [
           {
            "line": {
             "colorbar": {
              "outlinewidth": 0,
              "ticks": ""
             }
            },
            "type": "parcoords"
           }
          ],
          "pie": [
           {
            "automargin": true,
            "type": "pie"
           }
          ],
          "scatter": [
           {
            "marker": {
             "colorbar": {
              "outlinewidth": 0,
              "ticks": ""
             }
            },
            "type": "scatter"
           }
          ],
          "scatter3d": [
           {
            "line": {
             "colorbar": {
              "outlinewidth": 0,
              "ticks": ""
             }
            },
            "marker": {
             "colorbar": {
              "outlinewidth": 0,
              "ticks": ""
             }
            },
            "type": "scatter3d"
           }
          ],
          "scattercarpet": [
           {
            "marker": {
             "colorbar": {
              "outlinewidth": 0,
              "ticks": ""
             }
            },
            "type": "scattercarpet"
           }
          ],
          "scattergeo": [
           {
            "marker": {
             "colorbar": {
              "outlinewidth": 0,
              "ticks": ""
             }
            },
            "type": "scattergeo"
           }
          ],
          "scattergl": [
           {
            "marker": {
             "colorbar": {
              "outlinewidth": 0,
              "ticks": ""
             }
            },
            "type": "scattergl"
           }
          ],
          "scattermapbox": [
           {
            "marker": {
             "colorbar": {
              "outlinewidth": 0,
              "ticks": ""
             }
            },
            "type": "scattermapbox"
           }
          ],
          "scatterpolar": [
           {
            "marker": {
             "colorbar": {
              "outlinewidth": 0,
              "ticks": ""
             }
            },
            "type": "scatterpolar"
           }
          ],
          "scatterpolargl": [
           {
            "marker": {
             "colorbar": {
              "outlinewidth": 0,
              "ticks": ""
             }
            },
            "type": "scatterpolargl"
           }
          ],
          "scatterternary": [
           {
            "marker": {
             "colorbar": {
              "outlinewidth": 0,
              "ticks": ""
             }
            },
            "type": "scatterternary"
           }
          ],
          "surface": [
           {
            "colorbar": {
             "outlinewidth": 0,
             "ticks": ""
            },
            "colorscale": [
             [
              0,
              "#0d0887"
             ],
             [
              0.1111111111111111,
              "#46039f"
             ],
             [
              0.2222222222222222,
              "#7201a8"
             ],
             [
              0.3333333333333333,
              "#9c179e"
             ],
             [
              0.4444444444444444,
              "#bd3786"
             ],
             [
              0.5555555555555556,
              "#d8576b"
             ],
             [
              0.6666666666666666,
              "#ed7953"
             ],
             [
              0.7777777777777778,
              "#fb9f3a"
             ],
             [
              0.8888888888888888,
              "#fdca26"
             ],
             [
              1,
              "#f0f921"
             ]
            ],
            "type": "surface"
           }
          ],
          "table": [
           {
            "cells": {
             "fill": {
              "color": "#EBF0F8"
             },
             "line": {
              "color": "white"
             }
            },
            "header": {
             "fill": {
              "color": "#C8D4E3"
             },
             "line": {
              "color": "white"
             }
            },
            "type": "table"
           }
          ]
         },
         "layout": {
          "annotationdefaults": {
           "arrowcolor": "#2a3f5f",
           "arrowhead": 0,
           "arrowwidth": 1
          },
          "coloraxis": {
           "colorbar": {
            "outlinewidth": 0,
            "ticks": ""
           }
          },
          "colorscale": {
           "diverging": [
            [
             0,
             "#8e0152"
            ],
            [
             0.1,
             "#c51b7d"
            ],
            [
             0.2,
             "#de77ae"
            ],
            [
             0.3,
             "#f1b6da"
            ],
            [
             0.4,
             "#fde0ef"
            ],
            [
             0.5,
             "#f7f7f7"
            ],
            [
             0.6,
             "#e6f5d0"
            ],
            [
             0.7,
             "#b8e186"
            ],
            [
             0.8,
             "#7fbc41"
            ],
            [
             0.9,
             "#4d9221"
            ],
            [
             1,
             "#276419"
            ]
           ],
           "sequential": [
            [
             0,
             "#0d0887"
            ],
            [
             0.1111111111111111,
             "#46039f"
            ],
            [
             0.2222222222222222,
             "#7201a8"
            ],
            [
             0.3333333333333333,
             "#9c179e"
            ],
            [
             0.4444444444444444,
             "#bd3786"
            ],
            [
             0.5555555555555556,
             "#d8576b"
            ],
            [
             0.6666666666666666,
             "#ed7953"
            ],
            [
             0.7777777777777778,
             "#fb9f3a"
            ],
            [
             0.8888888888888888,
             "#fdca26"
            ],
            [
             1,
             "#f0f921"
            ]
           ],
           "sequentialminus": [
            [
             0,
             "#0d0887"
            ],
            [
             0.1111111111111111,
             "#46039f"
            ],
            [
             0.2222222222222222,
             "#7201a8"
            ],
            [
             0.3333333333333333,
             "#9c179e"
            ],
            [
             0.4444444444444444,
             "#bd3786"
            ],
            [
             0.5555555555555556,
             "#d8576b"
            ],
            [
             0.6666666666666666,
             "#ed7953"
            ],
            [
             0.7777777777777778,
             "#fb9f3a"
            ],
            [
             0.8888888888888888,
             "#fdca26"
            ],
            [
             1,
             "#f0f921"
            ]
           ]
          },
          "colorway": [
           "#636efa",
           "#EF553B",
           "#00cc96",
           "#ab63fa",
           "#FFA15A",
           "#19d3f3",
           "#FF6692",
           "#B6E880",
           "#FF97FF",
           "#FECB52"
          ],
          "font": {
           "color": "#2a3f5f"
          },
          "geo": {
           "bgcolor": "white",
           "lakecolor": "white",
           "landcolor": "#E5ECF6",
           "showlakes": true,
           "showland": true,
           "subunitcolor": "white"
          },
          "hoverlabel": {
           "align": "left"
          },
          "hovermode": "closest",
          "mapbox": {
           "style": "light"
          },
          "paper_bgcolor": "white",
          "plot_bgcolor": "#E5ECF6",
          "polar": {
           "angularaxis": {
            "gridcolor": "white",
            "linecolor": "white",
            "ticks": ""
           },
           "bgcolor": "#E5ECF6",
           "radialaxis": {
            "gridcolor": "white",
            "linecolor": "white",
            "ticks": ""
           }
          },
          "scene": {
           "xaxis": {
            "backgroundcolor": "#E5ECF6",
            "gridcolor": "white",
            "gridwidth": 2,
            "linecolor": "white",
            "showbackground": true,
            "ticks": "",
            "zerolinecolor": "white"
           },
           "yaxis": {
            "backgroundcolor": "#E5ECF6",
            "gridcolor": "white",
            "gridwidth": 2,
            "linecolor": "white",
            "showbackground": true,
            "ticks": "",
            "zerolinecolor": "white"
           },
           "zaxis": {
            "backgroundcolor": "#E5ECF6",
            "gridcolor": "white",
            "gridwidth": 2,
            "linecolor": "white",
            "showbackground": true,
            "ticks": "",
            "zerolinecolor": "white"
           }
          },
          "shapedefaults": {
           "line": {
            "color": "#2a3f5f"
           }
          },
          "ternary": {
           "aaxis": {
            "gridcolor": "white",
            "linecolor": "white",
            "ticks": ""
           },
           "baxis": {
            "gridcolor": "white",
            "linecolor": "white",
            "ticks": ""
           },
           "bgcolor": "#E5ECF6",
           "caxis": {
            "gridcolor": "white",
            "linecolor": "white",
            "ticks": ""
           }
          },
          "title": {
           "x": 0.05
          },
          "xaxis": {
           "automargin": true,
           "gridcolor": "white",
           "linecolor": "white",
           "ticks": "",
           "title": {
            "standoff": 15
           },
           "zerolinecolor": "white",
           "zerolinewidth": 2
          },
          "yaxis": {
           "automargin": true,
           "gridcolor": "white",
           "linecolor": "white",
           "ticks": "",
           "title": {
            "standoff": 15
           },
           "zerolinecolor": "white",
           "zerolinewidth": 2
          }
         }
        },
        "title": {
         "font": {
          "color": "#4D5663"
         }
        },
        "xaxis": {
         "anchor": "y",
         "domain": [
          0,
          0.2125
         ],
         "gridcolor": "#E1E5ED",
         "showgrid": false,
         "tickfont": {
          "color": "#4D5663"
         },
         "title": {
          "font": {
           "color": "#4D5663"
          },
          "text": ""
         },
         "zerolinecolor": "#E1E5ED"
        },
        "xaxis10": {
         "anchor": "y10",
         "domain": [
          0.2625,
          0.475
         ],
         "gridcolor": "#E1E5ED",
         "showgrid": false,
         "tickfont": {
          "color": "#4D5663"
         },
         "title": {
          "font": {
           "color": "#4D5663"
          },
          "text": ""
         },
         "zerolinecolor": "#E1E5ED"
        },
        "xaxis11": {
         "anchor": "y11",
         "domain": [
          0.525,
          0.7375
         ],
         "gridcolor": "#E1E5ED",
         "showgrid": false,
         "tickfont": {
          "color": "#4D5663"
         },
         "title": {
          "font": {
           "color": "#4D5663"
          },
          "text": ""
         },
         "zerolinecolor": "#E1E5ED"
        },
        "xaxis12": {
         "anchor": "y12",
         "domain": [
          0.7875,
          1
         ],
         "gridcolor": "#E1E5ED",
         "showgrid": false,
         "tickfont": {
          "color": "#4D5663"
         },
         "title": {
          "font": {
           "color": "#4D5663"
          },
          "text": ""
         },
         "zerolinecolor": "#E1E5ED"
        },
        "xaxis13": {
         "anchor": "y13",
         "domain": [
          0,
          0.2125
         ],
         "gridcolor": "#E1E5ED",
         "showgrid": false,
         "tickfont": {
          "color": "#4D5663"
         },
         "title": {
          "font": {
           "color": "#4D5663"
          },
          "text": ""
         },
         "zerolinecolor": "#E1E5ED"
        },
        "xaxis14": {
         "anchor": "y14",
         "domain": [
          0.2625,
          0.475
         ],
         "gridcolor": "#E1E5ED",
         "showgrid": false,
         "tickfont": {
          "color": "#4D5663"
         },
         "title": {
          "font": {
           "color": "#4D5663"
          },
          "text": ""
         },
         "zerolinecolor": "#E1E5ED"
        },
        "xaxis15": {
         "anchor": "y15",
         "domain": [
          0.525,
          0.7375
         ],
         "gridcolor": "#E1E5ED",
         "showgrid": false,
         "tickfont": {
          "color": "#4D5663"
         },
         "title": {
          "font": {
           "color": "#4D5663"
          },
          "text": ""
         },
         "zerolinecolor": "#E1E5ED"
        },
        "xaxis16": {
         "anchor": "y16",
         "domain": [
          0.7875,
          1
         ],
         "gridcolor": "#E1E5ED",
         "showgrid": false,
         "tickfont": {
          "color": "#4D5663"
         },
         "title": {
          "font": {
           "color": "#4D5663"
          },
          "text": ""
         },
         "zerolinecolor": "#E1E5ED"
        },
        "xaxis2": {
         "anchor": "y2",
         "domain": [
          0.2625,
          0.475
         ],
         "gridcolor": "#E1E5ED",
         "showgrid": false,
         "tickfont": {
          "color": "#4D5663"
         },
         "title": {
          "font": {
           "color": "#4D5663"
          },
          "text": ""
         },
         "zerolinecolor": "#E1E5ED"
        },
        "xaxis3": {
         "anchor": "y3",
         "domain": [
          0.525,
          0.7375
         ],
         "gridcolor": "#E1E5ED",
         "showgrid": false,
         "tickfont": {
          "color": "#4D5663"
         },
         "title": {
          "font": {
           "color": "#4D5663"
          },
          "text": ""
         },
         "zerolinecolor": "#E1E5ED"
        },
        "xaxis4": {
         "anchor": "y4",
         "domain": [
          0.7875,
          1
         ],
         "gridcolor": "#E1E5ED",
         "showgrid": false,
         "tickfont": {
          "color": "#4D5663"
         },
         "title": {
          "font": {
           "color": "#4D5663"
          },
          "text": ""
         },
         "zerolinecolor": "#E1E5ED"
        },
        "xaxis5": {
         "anchor": "y5",
         "domain": [
          0,
          0.2125
         ],
         "gridcolor": "#E1E5ED",
         "showgrid": false,
         "tickfont": {
          "color": "#4D5663"
         },
         "title": {
          "font": {
           "color": "#4D5663"
          },
          "text": ""
         },
         "zerolinecolor": "#E1E5ED"
        },
        "xaxis6": {
         "anchor": "y6",
         "domain": [
          0.2625,
          0.475
         ],
         "gridcolor": "#E1E5ED",
         "showgrid": false,
         "tickfont": {
          "color": "#4D5663"
         },
         "title": {
          "font": {
           "color": "#4D5663"
          },
          "text": ""
         },
         "zerolinecolor": "#E1E5ED"
        },
        "xaxis7": {
         "anchor": "y7",
         "domain": [
          0.525,
          0.7375
         ],
         "gridcolor": "#E1E5ED",
         "showgrid": false,
         "tickfont": {
          "color": "#4D5663"
         },
         "title": {
          "font": {
           "color": "#4D5663"
          },
          "text": ""
         },
         "zerolinecolor": "#E1E5ED"
        },
        "xaxis8": {
         "anchor": "y8",
         "domain": [
          0.7875,
          1
         ],
         "gridcolor": "#E1E5ED",
         "showgrid": false,
         "tickfont": {
          "color": "#4D5663"
         },
         "title": {
          "font": {
           "color": "#4D5663"
          },
          "text": ""
         },
         "zerolinecolor": "#E1E5ED"
        },
        "xaxis9": {
         "anchor": "y9",
         "domain": [
          0,
          0.2125
         ],
         "gridcolor": "#E1E5ED",
         "showgrid": false,
         "tickfont": {
          "color": "#4D5663"
         },
         "title": {
          "font": {
           "color": "#4D5663"
          },
          "text": ""
         },
         "zerolinecolor": "#E1E5ED"
        },
        "yaxis": {
         "anchor": "x",
         "domain": [
          0.8025,
          1
         ],
         "gridcolor": "#E1E5ED",
         "showgrid": false,
         "tickfont": {
          "color": "#4D5663"
         },
         "title": {
          "font": {
           "color": "#4D5663"
          },
          "text": ""
         },
         "zerolinecolor": "#E1E5ED"
        },
        "yaxis10": {
         "anchor": "x10",
         "domain": [
          0.2675,
          0.465
         ],
         "gridcolor": "#E1E5ED",
         "showgrid": false,
         "tickfont": {
          "color": "#4D5663"
         },
         "title": {
          "font": {
           "color": "#4D5663"
          },
          "text": ""
         },
         "zerolinecolor": "#E1E5ED"
        },
        "yaxis11": {
         "anchor": "x11",
         "domain": [
          0.2675,
          0.465
         ],
         "gridcolor": "#E1E5ED",
         "showgrid": false,
         "tickfont": {
          "color": "#4D5663"
         },
         "title": {
          "font": {
           "color": "#4D5663"
          },
          "text": ""
         },
         "zerolinecolor": "#E1E5ED"
        },
        "yaxis12": {
         "anchor": "x12",
         "domain": [
          0.2675,
          0.465
         ],
         "gridcolor": "#E1E5ED",
         "showgrid": false,
         "tickfont": {
          "color": "#4D5663"
         },
         "title": {
          "font": {
           "color": "#4D5663"
          },
          "text": ""
         },
         "zerolinecolor": "#E1E5ED"
        },
        "yaxis13": {
         "anchor": "x13",
         "domain": [
          0,
          0.1975
         ],
         "gridcolor": "#E1E5ED",
         "showgrid": false,
         "tickfont": {
          "color": "#4D5663"
         },
         "title": {
          "font": {
           "color": "#4D5663"
          },
          "text": ""
         },
         "zerolinecolor": "#E1E5ED"
        },
        "yaxis14": {
         "anchor": "x14",
         "domain": [
          0,
          0.1975
         ],
         "gridcolor": "#E1E5ED",
         "showgrid": false,
         "tickfont": {
          "color": "#4D5663"
         },
         "title": {
          "font": {
           "color": "#4D5663"
          },
          "text": ""
         },
         "zerolinecolor": "#E1E5ED"
        },
        "yaxis15": {
         "anchor": "x15",
         "domain": [
          0,
          0.1975
         ],
         "gridcolor": "#E1E5ED",
         "showgrid": false,
         "tickfont": {
          "color": "#4D5663"
         },
         "title": {
          "font": {
           "color": "#4D5663"
          },
          "text": ""
         },
         "zerolinecolor": "#E1E5ED"
        },
        "yaxis16": {
         "anchor": "x16",
         "domain": [
          0,
          0.1975
         ],
         "gridcolor": "#E1E5ED",
         "showgrid": false,
         "tickfont": {
          "color": "#4D5663"
         },
         "title": {
          "font": {
           "color": "#4D5663"
          },
          "text": ""
         },
         "zerolinecolor": "#E1E5ED"
        },
        "yaxis2": {
         "anchor": "x2",
         "domain": [
          0.8025,
          1
         ],
         "gridcolor": "#E1E5ED",
         "showgrid": false,
         "tickfont": {
          "color": "#4D5663"
         },
         "title": {
          "font": {
           "color": "#4D5663"
          },
          "text": ""
         },
         "zerolinecolor": "#E1E5ED"
        },
        "yaxis3": {
         "anchor": "x3",
         "domain": [
          0.8025,
          1
         ],
         "gridcolor": "#E1E5ED",
         "showgrid": false,
         "tickfont": {
          "color": "#4D5663"
         },
         "title": {
          "font": {
           "color": "#4D5663"
          },
          "text": ""
         },
         "zerolinecolor": "#E1E5ED"
        },
        "yaxis4": {
         "anchor": "x4",
         "domain": [
          0.8025,
          1
         ],
         "gridcolor": "#E1E5ED",
         "showgrid": false,
         "tickfont": {
          "color": "#4D5663"
         },
         "title": {
          "font": {
           "color": "#4D5663"
          },
          "text": ""
         },
         "zerolinecolor": "#E1E5ED"
        },
        "yaxis5": {
         "anchor": "x5",
         "domain": [
          0.535,
          0.7325
         ],
         "gridcolor": "#E1E5ED",
         "showgrid": false,
         "tickfont": {
          "color": "#4D5663"
         },
         "title": {
          "font": {
           "color": "#4D5663"
          },
          "text": ""
         },
         "zerolinecolor": "#E1E5ED"
        },
        "yaxis6": {
         "anchor": "x6",
         "domain": [
          0.535,
          0.7325
         ],
         "gridcolor": "#E1E5ED",
         "showgrid": false,
         "tickfont": {
          "color": "#4D5663"
         },
         "title": {
          "font": {
           "color": "#4D5663"
          },
          "text": ""
         },
         "zerolinecolor": "#E1E5ED"
        },
        "yaxis7": {
         "anchor": "x7",
         "domain": [
          0.535,
          0.7325
         ],
         "gridcolor": "#E1E5ED",
         "showgrid": false,
         "tickfont": {
          "color": "#4D5663"
         },
         "title": {
          "font": {
           "color": "#4D5663"
          },
          "text": ""
         },
         "zerolinecolor": "#E1E5ED"
        },
        "yaxis8": {
         "anchor": "x8",
         "domain": [
          0.535,
          0.7325
         ],
         "gridcolor": "#E1E5ED",
         "showgrid": false,
         "tickfont": {
          "color": "#4D5663"
         },
         "title": {
          "font": {
           "color": "#4D5663"
          },
          "text": ""
         },
         "zerolinecolor": "#E1E5ED"
        },
        "yaxis9": {
         "anchor": "x9",
         "domain": [
          0.2675,
          0.465
         ],
         "gridcolor": "#E1E5ED",
         "showgrid": false,
         "tickfont": {
          "color": "#4D5663"
         },
         "title": {
          "font": {
           "color": "#4D5663"
          },
          "text": ""
         },
         "zerolinecolor": "#E1E5ED"
        }
       }
      },
      "text/html": [
       "<div>                            <div id=\"c4a0bb71-7015-4a26-b077-5491ce58b940\" class=\"plotly-graph-div\" style=\"height:525px; width:100%;\"></div>            <script type=\"text/javascript\">                require([\"plotly\"], function(Plotly) {                    window.PLOTLYENV=window.PLOTLYENV || {};\n",
       "                    window.PLOTLYENV.BASE_URL='https://plot.ly';                                    if (document.getElementById(\"c4a0bb71-7015-4a26-b077-5491ce58b940\")) {                    Plotly.newPlot(                        \"c4a0bb71-7015-4a26-b077-5491ce58b940\",                        [{\"histfunc\": \"count\", \"histnorm\": \"\", \"marker\": {\"color\": \"rgba(255, 153, 51, 1.0)\", \"line\": {\"color\": \"#4D5663\", \"width\": 1.3}}, \"name\": \"A\", \"nbinsx\": 10, \"opacity\": 0.8, \"orientation\": \"v\", \"type\": \"histogram\", \"x\": [0.522556105813715, 0.8366465175888684, -0.664603970479962, -0.6611168116320768, -0.029293198680295153, 0.630440914253106, 0.24536832097911143, 0.5213441943977241, -0.6409830943135116, -1.2795322536768938, 1.5529623456032118, -2.303638277851841, -0.08246423455366149, -0.6603240942134286, -1.3320172245876538, 0.27054147790735356, -2.3102127601116957, -1.180959337349101, -1.6620377976952876, 1.5467169576834783, -0.4169363614353314, -0.9631554333059279, -1.4560511712205557, -2.0404767103485617, 1.9954182190915115, 0.5205977940769877, -0.6707041858894667, 1.190860114617754, 0.4236278788802016, 0.5951909517408043, 0.0722911467287905, -0.8749298041157985, 0.9194636594323516, 1.4883038699736955, -3.4230147844322922, 1.1924595949170957, 1.4008954471598927, -1.1151174087094455, -1.1995365117501031, 0.8110171223718338, -1.8292495637863746, 2.0529700474973525, -1.3165906845861155, 1.667125932294143, -1.3404983717729393, -0.6267318398612008, -1.733235590397368, -0.7963674104484132, -0.8623741759795556, -0.7773317335322487, -0.47181762470855554, 0.07716999711133517, 0.35817988537598444, -0.3295384933143855, 0.6653512574814932, -0.4486369697071627, 0.7099314026754735, -0.4542041749256783, -0.0746400765540713, 0.21189666518828398, 0.8737431149504534, 0.4858681671093836, 0.777834053956173, 1.2796759802166797, -0.019325062343936078, -0.7744760972835689, -0.6060372583098742, 1.0343304682727885, -1.5922954029379874, -0.6296209412783041, 0.5207527208513598, -0.8729548116088645, -1.2396683909340585, -0.5932494118087088, 0.0032824444979755235, 0.5378194907114049, 0.331241280973708, -1.278552728158368, -0.0995570035566114, -0.2453115203777214, 0.5485210558743719, 0.21445941172442826, -1.2505565269743624, -0.7799754350761642, 1.3686204262485862, 0.3353102228299381, -0.9002585779060629, 2.1043905766033024, -0.6498677108938995, 0.5634701912298704, -1.6338513008111868, -0.36347720593876093, 1.9520757630587742, -0.923410126462932, 1.203474471477271, 1.1792980741286028, 0.17293066836863386, -1.1796690199363606, -2.055002219050221, -1.3653009952725936], \"xaxis\": \"x\", \"yaxis\": \"y\"}, {\"line\": {\"color\": \"rgba(128, 128, 128, 1.0)\", \"dash\": \"solid\", \"shape\": \"linear\", \"width\": 1.3}, \"marker\": {\"size\": 2, \"symbol\": \"circle\"}, \"mode\": \"markers\", \"name\": \"A\", \"text\": \"\", \"type\": \"scatter\", \"x\": [-1.0502366155422067, -0.021961193335135246, -0.5765927169777691, 2.248965683306026, -1.0018182265616553, -0.894238683015506, 0.6460866751885185, -1.3115427152492027, 1.3166852659343116, 1.926211376247639, -0.2922318185022914, 0.09152608733805903, -0.7430556408676412, -0.578476852932132, 0.6642732928180614, -1.0057961103352402, -0.056384208433620034, 1.0909053059116434, 0.4734520127620457, -0.02676628959820128, -0.22708984983508898, 0.9741417789799731, -1.5145327182874229, 1.2834117079537986, 0.6741070591221596, 0.24083067110312012, 0.8555734521733575, 0.6306027272359749, 1.5763162765394942, -0.5958029804768725, 1.568304227917459, 0.05975424687522171, -1.706261214114887, 1.7312151731908052, -1.7080487887071312, -0.43781305829364797, 0.20921487935513305, -2.259297390099242, 1.218643322819174, 0.32418168737135344, 0.6564577271674744, -1.0721690985177132, -0.6557675467597885, -0.12441768390177917, 0.7006888292110914, 1.7994324854881514, -1.1572248539641468, -0.20803654802745664, 0.12223982689574536, 0.9016669965242321, 0.02851091151994256, -0.04349225640139199, -0.8098781338219512, -0.12311448162771756, 0.9760908000146804, -1.0199094785959937, -0.4571566426231742, 1.3938270495469804, -0.9199946915318254, 0.8866663856815331, 0.3058242139615769, -0.45665461339037566, -0.5152722731281091, 0.5113151944185977, -1.2122833743218226, 2.8912100887402654, -1.0200521532784588, 0.29861556578277937, -1.82601771971382, 0.2629590316929113, -0.24178830164881776, 0.734374599908883, -0.771622179092258, -0.9050560338468139, -0.36113285074818186, 0.6688510578903628, -1.4846396280995497, 0.6829643443929462, 1.3481232854267218, -0.3780301066171847, -0.21712034615308187, 0.23588244120169044, 0.6797192924255304, -0.9562785562071007, 0.5230709190292472, 0.8152487481197463, -0.2461668611776281, 0.42057386032266425, -1.9427434567661108, -0.35009411437483956, -0.5247859106616706, 0.9801017518398779, 0.21683762267305612, 0.10109849438698844, -0.010736076482799084, -0.3068822190517889, 0.1657544349926027, -0.5373922231954307, 1.9009029986905681, 0.2860674527087954], \"xaxis\": \"x2\", \"y\": [0.522556105813715, 0.8366465175888684, -0.664603970479962, -0.6611168116320768, -0.029293198680295153, 0.630440914253106, 0.24536832097911143, 0.5213441943977241, -0.6409830943135116, -1.2795322536768938, 1.5529623456032118, -2.303638277851841, -0.08246423455366149, -0.6603240942134286, -1.3320172245876538, 0.27054147790735356, -2.3102127601116957, -1.180959337349101, -1.6620377976952876, 1.5467169576834783, -0.4169363614353314, -0.9631554333059279, -1.4560511712205557, -2.0404767103485617, 1.9954182190915115, 0.5205977940769877, -0.6707041858894667, 1.190860114617754, 0.4236278788802016, 0.5951909517408043, 0.0722911467287905, -0.8749298041157985, 0.9194636594323516, 1.4883038699736955, -3.4230147844322922, 1.1924595949170957, 1.4008954471598927, -1.1151174087094455, -1.1995365117501031, 0.8110171223718338, -1.8292495637863746, 2.0529700474973525, -1.3165906845861155, 1.667125932294143, -1.3404983717729393, -0.6267318398612008, -1.733235590397368, -0.7963674104484132, -0.8623741759795556, -0.7773317335322487, -0.47181762470855554, 0.07716999711133517, 0.35817988537598444, -0.3295384933143855, 0.6653512574814932, -0.4486369697071627, 0.7099314026754735, -0.4542041749256783, -0.0746400765540713, 0.21189666518828398, 0.8737431149504534, 0.4858681671093836, 0.777834053956173, 1.2796759802166797, -0.019325062343936078, -0.7744760972835689, -0.6060372583098742, 1.0343304682727885, -1.5922954029379874, -0.6296209412783041, 0.5207527208513598, -0.8729548116088645, -1.2396683909340585, -0.5932494118087088, 0.0032824444979755235, 0.5378194907114049, 0.331241280973708, -1.278552728158368, -0.0995570035566114, -0.2453115203777214, 0.5485210558743719, 0.21445941172442826, -1.2505565269743624, -0.7799754350761642, 1.3686204262485862, 0.3353102228299381, -0.9002585779060629, 2.1043905766033024, -0.6498677108938995, 0.5634701912298704, -1.6338513008111868, -0.36347720593876093, 1.9520757630587742, -0.923410126462932, 1.203474471477271, 1.1792980741286028, 0.17293066836863386, -1.1796690199363606, -2.055002219050221, -1.3653009952725936], \"yaxis\": \"y2\"}, {\"line\": {\"color\": \"rgba(128, 128, 128, 1.0)\", \"dash\": \"solid\", \"shape\": \"linear\", \"width\": 1.3}, \"marker\": {\"size\": 2, \"symbol\": \"circle\"}, \"mode\": \"markers\", \"name\": \"A\", \"text\": \"\", \"type\": \"scatter\", \"x\": [0.9332866146772304, 0.3049436880563497, 0.44138861423703624, -0.20528713856566136, -0.7570614580837844, 1.7845617333316954, 0.2941229609186484, 1.3690812570809878, -0.05079576879906741, 1.0477237810425597, -1.339451693977425, 1.0788780172679253, 1.9385475323391281, -0.7121062713430775, 1.642429503611656, 0.6947864535012566, -0.5302665281980049, 0.7575221774092812, -1.5314018780942285, 0.9778155631043197, 1.0158153413130238, 1.4682205489568387, 0.28226463927372575, 0.697677826377623, 0.5658161799325903, -0.5253519002897766, -0.5970290526545614, -0.7459136185729337, -0.11267071355998802, -0.47312923778026433, 2.2359269385734133, 0.22847947959073348, 0.9388799026195135, -0.11903523962015843, -1.7486224017365364, 0.33648849116092194, -0.4418884183227688, -1.0289694052668623, 0.11685715081354897, -1.0853115995134064, -0.7737247922457348, -0.18719483243941543, 1.8035625576305088, -0.4434056930273342, 0.9130516530940805, -1.0462157322010581, -0.011023917936309642, 0.2747394646216463, 0.12432810131286895, 1.5398474520713819, 1.2664948567377068, 1.069592857295506, -0.6106061720265551, 1.4188978795330267, -0.08254929835706407, 0.0848936794790966, 1.1567468286988167, 0.5128939311875526, 0.2783955292540215, -1.8482262148260062, -0.3732685686845318, 0.9450082135561825, 1.5199188969908948, -1.7584730339833166, -0.975520542632561, -0.2679417652656878, 0.25819195285435254, -0.6908430289541013, -1.0826307066480867, 0.7184049548065112, 1.1224951612897176, 0.9230782244265155, 1.449241212739982, -1.0251011192519417, 1.143071988649807, -0.45802657720611467, -0.9601771135828424, -1.2319905415425854, 1.3347431234247218, 1.6522536688357146, -0.8512062789349891, 0.7576839342501829, -1.2528006446028976, 1.3542360949670942, 0.3454602683138546, 0.7545130229720501, 0.2558963684137531, -2.0332833516080533, -0.44567402359846436, 2.6228740067529825, 2.8711381625116617, -0.005712413187787785, -0.4267549415352209, -0.9129338150576033, 0.9880204669489722, 0.20156350296632106, -0.23953414816758475, 0.9697173046570664, -1.330784319642086, -0.5205197172475784], \"xaxis\": \"x3\", \"y\": [0.522556105813715, 0.8366465175888684, -0.664603970479962, -0.6611168116320768, -0.029293198680295153, 0.630440914253106, 0.24536832097911143, 0.5213441943977241, -0.6409830943135116, -1.2795322536768938, 1.5529623456032118, -2.303638277851841, -0.08246423455366149, -0.6603240942134286, -1.3320172245876538, 0.27054147790735356, -2.3102127601116957, -1.180959337349101, -1.6620377976952876, 1.5467169576834783, -0.4169363614353314, -0.9631554333059279, -1.4560511712205557, -2.0404767103485617, 1.9954182190915115, 0.5205977940769877, -0.6707041858894667, 1.190860114617754, 0.4236278788802016, 0.5951909517408043, 0.0722911467287905, -0.8749298041157985, 0.9194636594323516, 1.4883038699736955, -3.4230147844322922, 1.1924595949170957, 1.4008954471598927, -1.1151174087094455, -1.1995365117501031, 0.8110171223718338, -1.8292495637863746, 2.0529700474973525, -1.3165906845861155, 1.667125932294143, -1.3404983717729393, -0.6267318398612008, -1.733235590397368, -0.7963674104484132, -0.8623741759795556, -0.7773317335322487, -0.47181762470855554, 0.07716999711133517, 0.35817988537598444, -0.3295384933143855, 0.6653512574814932, -0.4486369697071627, 0.7099314026754735, -0.4542041749256783, -0.0746400765540713, 0.21189666518828398, 0.8737431149504534, 0.4858681671093836, 0.777834053956173, 1.2796759802166797, -0.019325062343936078, -0.7744760972835689, -0.6060372583098742, 1.0343304682727885, -1.5922954029379874, -0.6296209412783041, 0.5207527208513598, -0.8729548116088645, -1.2396683909340585, -0.5932494118087088, 0.0032824444979755235, 0.5378194907114049, 0.331241280973708, -1.278552728158368, -0.0995570035566114, -0.2453115203777214, 0.5485210558743719, 0.21445941172442826, -1.2505565269743624, -0.7799754350761642, 1.3686204262485862, 0.3353102228299381, -0.9002585779060629, 2.1043905766033024, -0.6498677108938995, 0.5634701912298704, -1.6338513008111868, -0.36347720593876093, 1.9520757630587742, -0.923410126462932, 1.203474471477271, 1.1792980741286028, 0.17293066836863386, -1.1796690199363606, -2.055002219050221, -1.3653009952725936], \"yaxis\": \"y3\"}, {\"line\": {\"color\": \"rgba(128, 128, 128, 1.0)\", \"dash\": \"solid\", \"shape\": \"linear\", \"width\": 1.3}, \"marker\": {\"size\": 2, \"symbol\": \"circle\"}, \"mode\": \"markers\", \"name\": \"A\", \"text\": \"\", \"type\": \"scatter\", \"x\": [0.15819227098722033, -0.20838612550620814, -0.8226142957144436, 0.9560447621677909, 0.27052253045962205, 0.8200525191384015, -0.5246990944281539, -1.2975274377223307, -0.7922911464415296, -0.3710687148635587, 1.2155318104663961, -0.00946663181537825, -0.6252945968173849, -0.06671455685440172, 1.1789732481171717, -1.5137939342754252, -0.3662175818542943, -0.6126577175429145, -0.10128941729010403, 0.8718167545755164, 1.1149996160957694, -0.8423701433651831, -0.6800790170902561, 0.42639474601243627, 0.251523764899969, -0.8659066777009436, 0.4229581393137417, 0.6526800404802042, -0.5545251497049041, 0.9986058454032798, -0.3082976634730784, 1.8532416207371785, -0.8839217600144291, -0.06556969999793383, -0.49851512053638725, -1.1602766032657377, 0.8699746653506601, -0.7741938736269718, 0.24543811171573388, 0.9111001057521537, -0.21131714756348827, -0.49982184469096674, 0.060897682863460215, 0.48822674149408035, -0.020306533167304037, 1.0767705148158597, 0.1664801385084698, 0.7150093977610442, -1.421034825740538, 1.907153346356637, 1.2447765217369882, 2.111747443098467, 2.4488733928892223, -3.2314456687886097, -0.5379476847464684, 1.046133803256443, 0.6373990785663881, 1.4331475496012005, 0.14920001336697875, 0.6883720706856165, 0.8336504444043047, -0.1967798210239832, 0.3837696075283908, -0.1985591357871106, -1.1662344851690605, -0.9803354423467238, -0.7443830937865075, -1.8957978032294063, 0.931495160078685, -0.2644743718545935, -0.22464338006883158, 0.03752545714300439, -1.2391027208583643, -1.11592894637276, -0.06941410935670562, 0.31871680448372824, 0.5019666333781165, -0.15849234322605066, -0.4818060572577569, -1.880201256826168, 0.1023978395750562, 0.40156381324902174, 1.5288944591079592, -0.38799929603879246, -0.01946874461156755, 0.2196663607578247, -1.0251593532367242, -1.4626473425094721, -1.0030863879845482, 0.4569701502836065, -0.08662094746684243, -1.0327558149805045, 0.9842045640263896, -0.4348516430457228, -0.9497338011348774, -0.028470776481635846, -1.0339530205920409, 1.0658006804824647, -0.24150122682259062, 1.439589652810136], \"xaxis\": \"x4\", \"y\": [0.522556105813715, 0.8366465175888684, -0.664603970479962, -0.6611168116320768, -0.029293198680295153, 0.630440914253106, 0.24536832097911143, 0.5213441943977241, -0.6409830943135116, -1.2795322536768938, 1.5529623456032118, -2.303638277851841, -0.08246423455366149, -0.6603240942134286, -1.3320172245876538, 0.27054147790735356, -2.3102127601116957, -1.180959337349101, -1.6620377976952876, 1.5467169576834783, -0.4169363614353314, -0.9631554333059279, -1.4560511712205557, -2.0404767103485617, 1.9954182190915115, 0.5205977940769877, -0.6707041858894667, 1.190860114617754, 0.4236278788802016, 0.5951909517408043, 0.0722911467287905, -0.8749298041157985, 0.9194636594323516, 1.4883038699736955, -3.4230147844322922, 1.1924595949170957, 1.4008954471598927, -1.1151174087094455, -1.1995365117501031, 0.8110171223718338, -1.8292495637863746, 2.0529700474973525, -1.3165906845861155, 1.667125932294143, -1.3404983717729393, -0.6267318398612008, -1.733235590397368, -0.7963674104484132, -0.8623741759795556, -0.7773317335322487, -0.47181762470855554, 0.07716999711133517, 0.35817988537598444, -0.3295384933143855, 0.6653512574814932, -0.4486369697071627, 0.7099314026754735, -0.4542041749256783, -0.0746400765540713, 0.21189666518828398, 0.8737431149504534, 0.4858681671093836, 0.777834053956173, 1.2796759802166797, -0.019325062343936078, -0.7744760972835689, -0.6060372583098742, 1.0343304682727885, -1.5922954029379874, -0.6296209412783041, 0.5207527208513598, -0.8729548116088645, -1.2396683909340585, -0.5932494118087088, 0.0032824444979755235, 0.5378194907114049, 0.331241280973708, -1.278552728158368, -0.0995570035566114, -0.2453115203777214, 0.5485210558743719, 0.21445941172442826, -1.2505565269743624, -0.7799754350761642, 1.3686204262485862, 0.3353102228299381, -0.9002585779060629, 2.1043905766033024, -0.6498677108938995, 0.5634701912298704, -1.6338513008111868, -0.36347720593876093, 1.9520757630587742, -0.923410126462932, 1.203474471477271, 1.1792980741286028, 0.17293066836863386, -1.1796690199363606, -2.055002219050221, -1.3653009952725936], \"yaxis\": \"y4\"}, {\"line\": {\"color\": \"rgba(128, 128, 128, 1.0)\", \"dash\": \"solid\", \"shape\": \"linear\", \"width\": 1.3}, \"marker\": {\"size\": 2, \"symbol\": \"circle\"}, \"mode\": \"markers\", \"name\": \"B\", \"text\": \"\", \"type\": \"scatter\", \"x\": [0.522556105813715, 0.8366465175888684, -0.664603970479962, -0.6611168116320768, -0.029293198680295153, 0.630440914253106, 0.24536832097911143, 0.5213441943977241, -0.6409830943135116, -1.2795322536768938, 1.5529623456032118, -2.303638277851841, -0.08246423455366149, -0.6603240942134286, -1.3320172245876538, 0.27054147790735356, -2.3102127601116957, -1.180959337349101, -1.6620377976952876, 1.5467169576834783, -0.4169363614353314, -0.9631554333059279, -1.4560511712205557, -2.0404767103485617, 1.9954182190915115, 0.5205977940769877, -0.6707041858894667, 1.190860114617754, 0.4236278788802016, 0.5951909517408043, 0.0722911467287905, -0.8749298041157985, 0.9194636594323516, 1.4883038699736955, -3.4230147844322922, 1.1924595949170957, 1.4008954471598927, -1.1151174087094455, -1.1995365117501031, 0.8110171223718338, -1.8292495637863746, 2.0529700474973525, -1.3165906845861155, 1.667125932294143, -1.3404983717729393, -0.6267318398612008, -1.733235590397368, -0.7963674104484132, -0.8623741759795556, -0.7773317335322487, -0.47181762470855554, 0.07716999711133517, 0.35817988537598444, -0.3295384933143855, 0.6653512574814932, -0.4486369697071627, 0.7099314026754735, -0.4542041749256783, -0.0746400765540713, 0.21189666518828398, 0.8737431149504534, 0.4858681671093836, 0.777834053956173, 1.2796759802166797, -0.019325062343936078, -0.7744760972835689, -0.6060372583098742, 1.0343304682727885, -1.5922954029379874, -0.6296209412783041, 0.5207527208513598, -0.8729548116088645, -1.2396683909340585, -0.5932494118087088, 0.0032824444979755235, 0.5378194907114049, 0.331241280973708, -1.278552728158368, -0.0995570035566114, -0.2453115203777214, 0.5485210558743719, 0.21445941172442826, -1.2505565269743624, -0.7799754350761642, 1.3686204262485862, 0.3353102228299381, -0.9002585779060629, 2.1043905766033024, -0.6498677108938995, 0.5634701912298704, -1.6338513008111868, -0.36347720593876093, 1.9520757630587742, -0.923410126462932, 1.203474471477271, 1.1792980741286028, 0.17293066836863386, -1.1796690199363606, -2.055002219050221, -1.3653009952725936], \"xaxis\": \"x5\", \"y\": [-1.0502366155422067, -0.021961193335135246, -0.5765927169777691, 2.248965683306026, -1.0018182265616553, -0.894238683015506, 0.6460866751885185, -1.3115427152492027, 1.3166852659343116, 1.926211376247639, -0.2922318185022914, 0.09152608733805903, -0.7430556408676412, -0.578476852932132, 0.6642732928180614, -1.0057961103352402, -0.056384208433620034, 1.0909053059116434, 0.4734520127620457, -0.02676628959820128, -0.22708984983508898, 0.9741417789799731, -1.5145327182874229, 1.2834117079537986, 0.6741070591221596, 0.24083067110312012, 0.8555734521733575, 0.6306027272359749, 1.5763162765394942, -0.5958029804768725, 1.568304227917459, 0.05975424687522171, -1.706261214114887, 1.7312151731908052, -1.7080487887071312, -0.43781305829364797, 0.20921487935513305, -2.259297390099242, 1.218643322819174, 0.32418168737135344, 0.6564577271674744, -1.0721690985177132, -0.6557675467597885, -0.12441768390177917, 0.7006888292110914, 1.7994324854881514, -1.1572248539641468, -0.20803654802745664, 0.12223982689574536, 0.9016669965242321, 0.02851091151994256, -0.04349225640139199, -0.8098781338219512, -0.12311448162771756, 0.9760908000146804, -1.0199094785959937, -0.4571566426231742, 1.3938270495469804, -0.9199946915318254, 0.8866663856815331, 0.3058242139615769, -0.45665461339037566, -0.5152722731281091, 0.5113151944185977, -1.2122833743218226, 2.8912100887402654, -1.0200521532784588, 0.29861556578277937, -1.82601771971382, 0.2629590316929113, -0.24178830164881776, 0.734374599908883, -0.771622179092258, -0.9050560338468139, -0.36113285074818186, 0.6688510578903628, -1.4846396280995497, 0.6829643443929462, 1.3481232854267218, -0.3780301066171847, -0.21712034615308187, 0.23588244120169044, 0.6797192924255304, -0.9562785562071007, 0.5230709190292472, 0.8152487481197463, -0.2461668611776281, 0.42057386032266425, -1.9427434567661108, -0.35009411437483956, -0.5247859106616706, 0.9801017518398779, 0.21683762267305612, 0.10109849438698844, -0.010736076482799084, -0.3068822190517889, 0.1657544349926027, -0.5373922231954307, 1.9009029986905681, 0.2860674527087954], \"yaxis\": \"y5\"}, {\"histfunc\": \"count\", \"histnorm\": \"\", \"marker\": {\"color\": \"rgba(55, 128, 191, 1.0)\", \"line\": {\"color\": \"#4D5663\", \"width\": 1.3}}, \"name\": \"B\", \"nbinsx\": 10, \"opacity\": 0.8, \"orientation\": \"v\", \"type\": \"histogram\", \"x\": [-1.0502366155422067, -0.021961193335135246, -0.5765927169777691, 2.248965683306026, -1.0018182265616553, -0.894238683015506, 0.6460866751885185, -1.3115427152492027, 1.3166852659343116, 1.926211376247639, -0.2922318185022914, 0.09152608733805903, -0.7430556408676412, -0.578476852932132, 0.6642732928180614, -1.0057961103352402, -0.056384208433620034, 1.0909053059116434, 0.4734520127620457, -0.02676628959820128, -0.22708984983508898, 0.9741417789799731, -1.5145327182874229, 1.2834117079537986, 0.6741070591221596, 0.24083067110312012, 0.8555734521733575, 0.6306027272359749, 1.5763162765394942, -0.5958029804768725, 1.568304227917459, 0.05975424687522171, -1.706261214114887, 1.7312151731908052, -1.7080487887071312, -0.43781305829364797, 0.20921487935513305, -2.259297390099242, 1.218643322819174, 0.32418168737135344, 0.6564577271674744, -1.0721690985177132, -0.6557675467597885, -0.12441768390177917, 0.7006888292110914, 1.7994324854881514, -1.1572248539641468, -0.20803654802745664, 0.12223982689574536, 0.9016669965242321, 0.02851091151994256, -0.04349225640139199, -0.8098781338219512, -0.12311448162771756, 0.9760908000146804, -1.0199094785959937, -0.4571566426231742, 1.3938270495469804, -0.9199946915318254, 0.8866663856815331, 0.3058242139615769, -0.45665461339037566, -0.5152722731281091, 0.5113151944185977, -1.2122833743218226, 2.8912100887402654, -1.0200521532784588, 0.29861556578277937, -1.82601771971382, 0.2629590316929113, -0.24178830164881776, 0.734374599908883, -0.771622179092258, -0.9050560338468139, -0.36113285074818186, 0.6688510578903628, -1.4846396280995497, 0.6829643443929462, 1.3481232854267218, -0.3780301066171847, -0.21712034615308187, 0.23588244120169044, 0.6797192924255304, -0.9562785562071007, 0.5230709190292472, 0.8152487481197463, -0.2461668611776281, 0.42057386032266425, -1.9427434567661108, -0.35009411437483956, -0.5247859106616706, 0.9801017518398779, 0.21683762267305612, 0.10109849438698844, -0.010736076482799084, -0.3068822190517889, 0.1657544349926027, -0.5373922231954307, 1.9009029986905681, 0.2860674527087954], \"xaxis\": \"x6\", \"yaxis\": \"y6\"}, {\"line\": {\"color\": \"rgba(128, 128, 128, 1.0)\", \"dash\": \"solid\", \"shape\": \"linear\", \"width\": 1.3}, \"marker\": {\"size\": 2, \"symbol\": \"circle\"}, \"mode\": \"markers\", \"name\": \"B\", \"text\": \"\", \"type\": \"scatter\", \"x\": [0.9332866146772304, 0.3049436880563497, 0.44138861423703624, -0.20528713856566136, -0.7570614580837844, 1.7845617333316954, 0.2941229609186484, 1.3690812570809878, -0.05079576879906741, 1.0477237810425597, -1.339451693977425, 1.0788780172679253, 1.9385475323391281, -0.7121062713430775, 1.642429503611656, 0.6947864535012566, -0.5302665281980049, 0.7575221774092812, -1.5314018780942285, 0.9778155631043197, 1.0158153413130238, 1.4682205489568387, 0.28226463927372575, 0.697677826377623, 0.5658161799325903, -0.5253519002897766, -0.5970290526545614, -0.7459136185729337, -0.11267071355998802, -0.47312923778026433, 2.2359269385734133, 0.22847947959073348, 0.9388799026195135, -0.11903523962015843, -1.7486224017365364, 0.33648849116092194, -0.4418884183227688, -1.0289694052668623, 0.11685715081354897, -1.0853115995134064, -0.7737247922457348, -0.18719483243941543, 1.8035625576305088, -0.4434056930273342, 0.9130516530940805, -1.0462157322010581, -0.011023917936309642, 0.2747394646216463, 0.12432810131286895, 1.5398474520713819, 1.2664948567377068, 1.069592857295506, -0.6106061720265551, 1.4188978795330267, -0.08254929835706407, 0.0848936794790966, 1.1567468286988167, 0.5128939311875526, 0.2783955292540215, -1.8482262148260062, -0.3732685686845318, 0.9450082135561825, 1.5199188969908948, -1.7584730339833166, -0.975520542632561, -0.2679417652656878, 0.25819195285435254, -0.6908430289541013, -1.0826307066480867, 0.7184049548065112, 1.1224951612897176, 0.9230782244265155, 1.449241212739982, -1.0251011192519417, 1.143071988649807, -0.45802657720611467, -0.9601771135828424, -1.2319905415425854, 1.3347431234247218, 1.6522536688357146, -0.8512062789349891, 0.7576839342501829, -1.2528006446028976, 1.3542360949670942, 0.3454602683138546, 0.7545130229720501, 0.2558963684137531, -2.0332833516080533, -0.44567402359846436, 2.6228740067529825, 2.8711381625116617, -0.005712413187787785, -0.4267549415352209, -0.9129338150576033, 0.9880204669489722, 0.20156350296632106, -0.23953414816758475, 0.9697173046570664, -1.330784319642086, -0.5205197172475784], \"xaxis\": \"x7\", \"y\": [-1.0502366155422067, -0.021961193335135246, -0.5765927169777691, 2.248965683306026, -1.0018182265616553, -0.894238683015506, 0.6460866751885185, -1.3115427152492027, 1.3166852659343116, 1.926211376247639, -0.2922318185022914, 0.09152608733805903, -0.7430556408676412, -0.578476852932132, 0.6642732928180614, -1.0057961103352402, -0.056384208433620034, 1.0909053059116434, 0.4734520127620457, -0.02676628959820128, -0.22708984983508898, 0.9741417789799731, -1.5145327182874229, 1.2834117079537986, 0.6741070591221596, 0.24083067110312012, 0.8555734521733575, 0.6306027272359749, 1.5763162765394942, -0.5958029804768725, 1.568304227917459, 0.05975424687522171, -1.706261214114887, 1.7312151731908052, -1.7080487887071312, -0.43781305829364797, 0.20921487935513305, -2.259297390099242, 1.218643322819174, 0.32418168737135344, 0.6564577271674744, -1.0721690985177132, -0.6557675467597885, -0.12441768390177917, 0.7006888292110914, 1.7994324854881514, -1.1572248539641468, -0.20803654802745664, 0.12223982689574536, 0.9016669965242321, 0.02851091151994256, -0.04349225640139199, -0.8098781338219512, -0.12311448162771756, 0.9760908000146804, -1.0199094785959937, -0.4571566426231742, 1.3938270495469804, -0.9199946915318254, 0.8866663856815331, 0.3058242139615769, -0.45665461339037566, -0.5152722731281091, 0.5113151944185977, -1.2122833743218226, 2.8912100887402654, -1.0200521532784588, 0.29861556578277937, -1.82601771971382, 0.2629590316929113, -0.24178830164881776, 0.734374599908883, -0.771622179092258, -0.9050560338468139, -0.36113285074818186, 0.6688510578903628, -1.4846396280995497, 0.6829643443929462, 1.3481232854267218, -0.3780301066171847, -0.21712034615308187, 0.23588244120169044, 0.6797192924255304, -0.9562785562071007, 0.5230709190292472, 0.8152487481197463, -0.2461668611776281, 0.42057386032266425, -1.9427434567661108, -0.35009411437483956, -0.5247859106616706, 0.9801017518398779, 0.21683762267305612, 0.10109849438698844, -0.010736076482799084, -0.3068822190517889, 0.1657544349926027, -0.5373922231954307, 1.9009029986905681, 0.2860674527087954], \"yaxis\": \"y7\"}, {\"line\": {\"color\": \"rgba(128, 128, 128, 1.0)\", \"dash\": \"solid\", \"shape\": \"linear\", \"width\": 1.3}, \"marker\": {\"size\": 2, \"symbol\": \"circle\"}, \"mode\": \"markers\", \"name\": \"B\", \"text\": \"\", \"type\": \"scatter\", \"x\": [0.15819227098722033, -0.20838612550620814, -0.8226142957144436, 0.9560447621677909, 0.27052253045962205, 0.8200525191384015, -0.5246990944281539, -1.2975274377223307, -0.7922911464415296, -0.3710687148635587, 1.2155318104663961, -0.00946663181537825, -0.6252945968173849, -0.06671455685440172, 1.1789732481171717, -1.5137939342754252, -0.3662175818542943, -0.6126577175429145, -0.10128941729010403, 0.8718167545755164, 1.1149996160957694, -0.8423701433651831, -0.6800790170902561, 0.42639474601243627, 0.251523764899969, -0.8659066777009436, 0.4229581393137417, 0.6526800404802042, -0.5545251497049041, 0.9986058454032798, -0.3082976634730784, 1.8532416207371785, -0.8839217600144291, -0.06556969999793383, -0.49851512053638725, -1.1602766032657377, 0.8699746653506601, -0.7741938736269718, 0.24543811171573388, 0.9111001057521537, -0.21131714756348827, -0.49982184469096674, 0.060897682863460215, 0.48822674149408035, -0.020306533167304037, 1.0767705148158597, 0.1664801385084698, 0.7150093977610442, -1.421034825740538, 1.907153346356637, 1.2447765217369882, 2.111747443098467, 2.4488733928892223, -3.2314456687886097, -0.5379476847464684, 1.046133803256443, 0.6373990785663881, 1.4331475496012005, 0.14920001336697875, 0.6883720706856165, 0.8336504444043047, -0.1967798210239832, 0.3837696075283908, -0.1985591357871106, -1.1662344851690605, -0.9803354423467238, -0.7443830937865075, -1.8957978032294063, 0.931495160078685, -0.2644743718545935, -0.22464338006883158, 0.03752545714300439, -1.2391027208583643, -1.11592894637276, -0.06941410935670562, 0.31871680448372824, 0.5019666333781165, -0.15849234322605066, -0.4818060572577569, -1.880201256826168, 0.1023978395750562, 0.40156381324902174, 1.5288944591079592, -0.38799929603879246, -0.01946874461156755, 0.2196663607578247, -1.0251593532367242, -1.4626473425094721, -1.0030863879845482, 0.4569701502836065, -0.08662094746684243, -1.0327558149805045, 0.9842045640263896, -0.4348516430457228, -0.9497338011348774, -0.028470776481635846, -1.0339530205920409, 1.0658006804824647, -0.24150122682259062, 1.439589652810136], \"xaxis\": \"x8\", \"y\": [-1.0502366155422067, -0.021961193335135246, -0.5765927169777691, 2.248965683306026, -1.0018182265616553, -0.894238683015506, 0.6460866751885185, -1.3115427152492027, 1.3166852659343116, 1.926211376247639, -0.2922318185022914, 0.09152608733805903, -0.7430556408676412, -0.578476852932132, 0.6642732928180614, -1.0057961103352402, -0.056384208433620034, 1.0909053059116434, 0.4734520127620457, -0.02676628959820128, -0.22708984983508898, 0.9741417789799731, -1.5145327182874229, 1.2834117079537986, 0.6741070591221596, 0.24083067110312012, 0.8555734521733575, 0.6306027272359749, 1.5763162765394942, -0.5958029804768725, 1.568304227917459, 0.05975424687522171, -1.706261214114887, 1.7312151731908052, -1.7080487887071312, -0.43781305829364797, 0.20921487935513305, -2.259297390099242, 1.218643322819174, 0.32418168737135344, 0.6564577271674744, -1.0721690985177132, -0.6557675467597885, -0.12441768390177917, 0.7006888292110914, 1.7994324854881514, -1.1572248539641468, -0.20803654802745664, 0.12223982689574536, 0.9016669965242321, 0.02851091151994256, -0.04349225640139199, -0.8098781338219512, -0.12311448162771756, 0.9760908000146804, -1.0199094785959937, -0.4571566426231742, 1.3938270495469804, -0.9199946915318254, 0.8866663856815331, 0.3058242139615769, -0.45665461339037566, -0.5152722731281091, 0.5113151944185977, -1.2122833743218226, 2.8912100887402654, -1.0200521532784588, 0.29861556578277937, -1.82601771971382, 0.2629590316929113, -0.24178830164881776, 0.734374599908883, -0.771622179092258, -0.9050560338468139, -0.36113285074818186, 0.6688510578903628, -1.4846396280995497, 0.6829643443929462, 1.3481232854267218, -0.3780301066171847, -0.21712034615308187, 0.23588244120169044, 0.6797192924255304, -0.9562785562071007, 0.5230709190292472, 0.8152487481197463, -0.2461668611776281, 0.42057386032266425, -1.9427434567661108, -0.35009411437483956, -0.5247859106616706, 0.9801017518398779, 0.21683762267305612, 0.10109849438698844, -0.010736076482799084, -0.3068822190517889, 0.1657544349926027, -0.5373922231954307, 1.9009029986905681, 0.2860674527087954], \"yaxis\": \"y8\"}, {\"line\": {\"color\": \"rgba(128, 128, 128, 1.0)\", \"dash\": \"solid\", \"shape\": \"linear\", \"width\": 1.3}, \"marker\": {\"size\": 2, \"symbol\": \"circle\"}, \"mode\": \"markers\", \"name\": \"C\", \"text\": \"\", \"type\": \"scatter\", \"x\": [0.522556105813715, 0.8366465175888684, -0.664603970479962, -0.6611168116320768, -0.029293198680295153, 0.630440914253106, 0.24536832097911143, 0.5213441943977241, -0.6409830943135116, -1.2795322536768938, 1.5529623456032118, -2.303638277851841, -0.08246423455366149, -0.6603240942134286, -1.3320172245876538, 0.27054147790735356, -2.3102127601116957, -1.180959337349101, -1.6620377976952876, 1.5467169576834783, -0.4169363614353314, -0.9631554333059279, -1.4560511712205557, -2.0404767103485617, 1.9954182190915115, 0.5205977940769877, -0.6707041858894667, 1.190860114617754, 0.4236278788802016, 0.5951909517408043, 0.0722911467287905, -0.8749298041157985, 0.9194636594323516, 1.4883038699736955, -3.4230147844322922, 1.1924595949170957, 1.4008954471598927, -1.1151174087094455, -1.1995365117501031, 0.8110171223718338, -1.8292495637863746, 2.0529700474973525, -1.3165906845861155, 1.667125932294143, -1.3404983717729393, -0.6267318398612008, -1.733235590397368, -0.7963674104484132, -0.8623741759795556, -0.7773317335322487, -0.47181762470855554, 0.07716999711133517, 0.35817988537598444, -0.3295384933143855, 0.6653512574814932, -0.4486369697071627, 0.7099314026754735, -0.4542041749256783, -0.0746400765540713, 0.21189666518828398, 0.8737431149504534, 0.4858681671093836, 0.777834053956173, 1.2796759802166797, -0.019325062343936078, -0.7744760972835689, -0.6060372583098742, 1.0343304682727885, -1.5922954029379874, -0.6296209412783041, 0.5207527208513598, -0.8729548116088645, -1.2396683909340585, -0.5932494118087088, 0.0032824444979755235, 0.5378194907114049, 0.331241280973708, -1.278552728158368, -0.0995570035566114, -0.2453115203777214, 0.5485210558743719, 0.21445941172442826, -1.2505565269743624, -0.7799754350761642, 1.3686204262485862, 0.3353102228299381, -0.9002585779060629, 2.1043905766033024, -0.6498677108938995, 0.5634701912298704, -1.6338513008111868, -0.36347720593876093, 1.9520757630587742, -0.923410126462932, 1.203474471477271, 1.1792980741286028, 0.17293066836863386, -1.1796690199363606, -2.055002219050221, -1.3653009952725936], \"xaxis\": \"x9\", \"y\": [0.9332866146772304, 0.3049436880563497, 0.44138861423703624, -0.20528713856566136, -0.7570614580837844, 1.7845617333316954, 0.2941229609186484, 1.3690812570809878, -0.05079576879906741, 1.0477237810425597, -1.339451693977425, 1.0788780172679253, 1.9385475323391281, -0.7121062713430775, 1.642429503611656, 0.6947864535012566, -0.5302665281980049, 0.7575221774092812, -1.5314018780942285, 0.9778155631043197, 1.0158153413130238, 1.4682205489568387, 0.28226463927372575, 0.697677826377623, 0.5658161799325903, -0.5253519002897766, -0.5970290526545614, -0.7459136185729337, -0.11267071355998802, -0.47312923778026433, 2.2359269385734133, 0.22847947959073348, 0.9388799026195135, -0.11903523962015843, -1.7486224017365364, 0.33648849116092194, -0.4418884183227688, -1.0289694052668623, 0.11685715081354897, -1.0853115995134064, -0.7737247922457348, -0.18719483243941543, 1.8035625576305088, -0.4434056930273342, 0.9130516530940805, -1.0462157322010581, -0.011023917936309642, 0.2747394646216463, 0.12432810131286895, 1.5398474520713819, 1.2664948567377068, 1.069592857295506, -0.6106061720265551, 1.4188978795330267, -0.08254929835706407, 0.0848936794790966, 1.1567468286988167, 0.5128939311875526, 0.2783955292540215, -1.8482262148260062, -0.3732685686845318, 0.9450082135561825, 1.5199188969908948, -1.7584730339833166, -0.975520542632561, -0.2679417652656878, 0.25819195285435254, -0.6908430289541013, -1.0826307066480867, 0.7184049548065112, 1.1224951612897176, 0.9230782244265155, 1.449241212739982, -1.0251011192519417, 1.143071988649807, -0.45802657720611467, -0.9601771135828424, -1.2319905415425854, 1.3347431234247218, 1.6522536688357146, -0.8512062789349891, 0.7576839342501829, -1.2528006446028976, 1.3542360949670942, 0.3454602683138546, 0.7545130229720501, 0.2558963684137531, -2.0332833516080533, -0.44567402359846436, 2.6228740067529825, 2.8711381625116617, -0.005712413187787785, -0.4267549415352209, -0.9129338150576033, 0.9880204669489722, 0.20156350296632106, -0.23953414816758475, 0.9697173046570664, -1.330784319642086, -0.5205197172475784], \"yaxis\": \"y9\"}, {\"line\": {\"color\": \"rgba(128, 128, 128, 1.0)\", \"dash\": \"solid\", \"shape\": \"linear\", \"width\": 1.3}, \"marker\": {\"size\": 2, \"symbol\": \"circle\"}, \"mode\": \"markers\", \"name\": \"C\", \"text\": \"\", \"type\": \"scatter\", \"x\": [-1.0502366155422067, -0.021961193335135246, -0.5765927169777691, 2.248965683306026, -1.0018182265616553, -0.894238683015506, 0.6460866751885185, -1.3115427152492027, 1.3166852659343116, 1.926211376247639, -0.2922318185022914, 0.09152608733805903, -0.7430556408676412, -0.578476852932132, 0.6642732928180614, -1.0057961103352402, -0.056384208433620034, 1.0909053059116434, 0.4734520127620457, -0.02676628959820128, -0.22708984983508898, 0.9741417789799731, -1.5145327182874229, 1.2834117079537986, 0.6741070591221596, 0.24083067110312012, 0.8555734521733575, 0.6306027272359749, 1.5763162765394942, -0.5958029804768725, 1.568304227917459, 0.05975424687522171, -1.706261214114887, 1.7312151731908052, -1.7080487887071312, -0.43781305829364797, 0.20921487935513305, -2.259297390099242, 1.218643322819174, 0.32418168737135344, 0.6564577271674744, -1.0721690985177132, -0.6557675467597885, -0.12441768390177917, 0.7006888292110914, 1.7994324854881514, -1.1572248539641468, -0.20803654802745664, 0.12223982689574536, 0.9016669965242321, 0.02851091151994256, -0.04349225640139199, -0.8098781338219512, -0.12311448162771756, 0.9760908000146804, -1.0199094785959937, -0.4571566426231742, 1.3938270495469804, -0.9199946915318254, 0.8866663856815331, 0.3058242139615769, -0.45665461339037566, -0.5152722731281091, 0.5113151944185977, -1.2122833743218226, 2.8912100887402654, -1.0200521532784588, 0.29861556578277937, -1.82601771971382, 0.2629590316929113, -0.24178830164881776, 0.734374599908883, -0.771622179092258, -0.9050560338468139, -0.36113285074818186, 0.6688510578903628, -1.4846396280995497, 0.6829643443929462, 1.3481232854267218, -0.3780301066171847, -0.21712034615308187, 0.23588244120169044, 0.6797192924255304, -0.9562785562071007, 0.5230709190292472, 0.8152487481197463, -0.2461668611776281, 0.42057386032266425, -1.9427434567661108, -0.35009411437483956, -0.5247859106616706, 0.9801017518398779, 0.21683762267305612, 0.10109849438698844, -0.010736076482799084, -0.3068822190517889, 0.1657544349926027, -0.5373922231954307, 1.9009029986905681, 0.2860674527087954], \"xaxis\": \"x10\", \"y\": [0.9332866146772304, 0.3049436880563497, 0.44138861423703624, -0.20528713856566136, -0.7570614580837844, 1.7845617333316954, 0.2941229609186484, 1.3690812570809878, -0.05079576879906741, 1.0477237810425597, -1.339451693977425, 1.0788780172679253, 1.9385475323391281, -0.7121062713430775, 1.642429503611656, 0.6947864535012566, -0.5302665281980049, 0.7575221774092812, -1.5314018780942285, 0.9778155631043197, 1.0158153413130238, 1.4682205489568387, 0.28226463927372575, 0.697677826377623, 0.5658161799325903, -0.5253519002897766, -0.5970290526545614, -0.7459136185729337, -0.11267071355998802, -0.47312923778026433, 2.2359269385734133, 0.22847947959073348, 0.9388799026195135, -0.11903523962015843, -1.7486224017365364, 0.33648849116092194, -0.4418884183227688, -1.0289694052668623, 0.11685715081354897, -1.0853115995134064, -0.7737247922457348, -0.18719483243941543, 1.8035625576305088, -0.4434056930273342, 0.9130516530940805, -1.0462157322010581, -0.011023917936309642, 0.2747394646216463, 0.12432810131286895, 1.5398474520713819, 1.2664948567377068, 1.069592857295506, -0.6106061720265551, 1.4188978795330267, -0.08254929835706407, 0.0848936794790966, 1.1567468286988167, 0.5128939311875526, 0.2783955292540215, -1.8482262148260062, -0.3732685686845318, 0.9450082135561825, 1.5199188969908948, -1.7584730339833166, -0.975520542632561, -0.2679417652656878, 0.25819195285435254, -0.6908430289541013, -1.0826307066480867, 0.7184049548065112, 1.1224951612897176, 0.9230782244265155, 1.449241212739982, -1.0251011192519417, 1.143071988649807, -0.45802657720611467, -0.9601771135828424, -1.2319905415425854, 1.3347431234247218, 1.6522536688357146, -0.8512062789349891, 0.7576839342501829, -1.2528006446028976, 1.3542360949670942, 0.3454602683138546, 0.7545130229720501, 0.2558963684137531, -2.0332833516080533, -0.44567402359846436, 2.6228740067529825, 2.8711381625116617, -0.005712413187787785, -0.4267549415352209, -0.9129338150576033, 0.9880204669489722, 0.20156350296632106, -0.23953414816758475, 0.9697173046570664, -1.330784319642086, -0.5205197172475784], \"yaxis\": \"y10\"}, {\"histfunc\": \"count\", \"histnorm\": \"\", \"marker\": {\"color\": \"rgba(50, 171, 96, 1.0)\", \"line\": {\"color\": \"#4D5663\", \"width\": 1.3}}, \"name\": \"C\", \"nbinsx\": 10, \"opacity\": 0.8, \"orientation\": \"v\", \"type\": \"histogram\", \"x\": [0.9332866146772304, 0.3049436880563497, 0.44138861423703624, -0.20528713856566136, -0.7570614580837844, 1.7845617333316954, 0.2941229609186484, 1.3690812570809878, -0.05079576879906741, 1.0477237810425597, -1.339451693977425, 1.0788780172679253, 1.9385475323391281, -0.7121062713430775, 1.642429503611656, 0.6947864535012566, -0.5302665281980049, 0.7575221774092812, -1.5314018780942285, 0.9778155631043197, 1.0158153413130238, 1.4682205489568387, 0.28226463927372575, 0.697677826377623, 0.5658161799325903, -0.5253519002897766, -0.5970290526545614, -0.7459136185729337, -0.11267071355998802, -0.47312923778026433, 2.2359269385734133, 0.22847947959073348, 0.9388799026195135, -0.11903523962015843, -1.7486224017365364, 0.33648849116092194, -0.4418884183227688, -1.0289694052668623, 0.11685715081354897, -1.0853115995134064, -0.7737247922457348, -0.18719483243941543, 1.8035625576305088, -0.4434056930273342, 0.9130516530940805, -1.0462157322010581, -0.011023917936309642, 0.2747394646216463, 0.12432810131286895, 1.5398474520713819, 1.2664948567377068, 1.069592857295506, -0.6106061720265551, 1.4188978795330267, -0.08254929835706407, 0.0848936794790966, 1.1567468286988167, 0.5128939311875526, 0.2783955292540215, -1.8482262148260062, -0.3732685686845318, 0.9450082135561825, 1.5199188969908948, -1.7584730339833166, -0.975520542632561, -0.2679417652656878, 0.25819195285435254, -0.6908430289541013, -1.0826307066480867, 0.7184049548065112, 1.1224951612897176, 0.9230782244265155, 1.449241212739982, -1.0251011192519417, 1.143071988649807, -0.45802657720611467, -0.9601771135828424, -1.2319905415425854, 1.3347431234247218, 1.6522536688357146, -0.8512062789349891, 0.7576839342501829, -1.2528006446028976, 1.3542360949670942, 0.3454602683138546, 0.7545130229720501, 0.2558963684137531, -2.0332833516080533, -0.44567402359846436, 2.6228740067529825, 2.8711381625116617, -0.005712413187787785, -0.4267549415352209, -0.9129338150576033, 0.9880204669489722, 0.20156350296632106, -0.23953414816758475, 0.9697173046570664, -1.330784319642086, -0.5205197172475784], \"xaxis\": \"x11\", \"yaxis\": \"y11\"}, {\"line\": {\"color\": \"rgba(128, 128, 128, 1.0)\", \"dash\": \"solid\", \"shape\": \"linear\", \"width\": 1.3}, \"marker\": {\"size\": 2, \"symbol\": \"circle\"}, \"mode\": \"markers\", \"name\": \"C\", \"text\": \"\", \"type\": \"scatter\", \"x\": [0.15819227098722033, -0.20838612550620814, -0.8226142957144436, 0.9560447621677909, 0.27052253045962205, 0.8200525191384015, -0.5246990944281539, -1.2975274377223307, -0.7922911464415296, -0.3710687148635587, 1.2155318104663961, -0.00946663181537825, -0.6252945968173849, -0.06671455685440172, 1.1789732481171717, -1.5137939342754252, -0.3662175818542943, -0.6126577175429145, -0.10128941729010403, 0.8718167545755164, 1.1149996160957694, -0.8423701433651831, -0.6800790170902561, 0.42639474601243627, 0.251523764899969, -0.8659066777009436, 0.4229581393137417, 0.6526800404802042, -0.5545251497049041, 0.9986058454032798, -0.3082976634730784, 1.8532416207371785, -0.8839217600144291, -0.06556969999793383, -0.49851512053638725, -1.1602766032657377, 0.8699746653506601, -0.7741938736269718, 0.24543811171573388, 0.9111001057521537, -0.21131714756348827, -0.49982184469096674, 0.060897682863460215, 0.48822674149408035, -0.020306533167304037, 1.0767705148158597, 0.1664801385084698, 0.7150093977610442, -1.421034825740538, 1.907153346356637, 1.2447765217369882, 2.111747443098467, 2.4488733928892223, -3.2314456687886097, -0.5379476847464684, 1.046133803256443, 0.6373990785663881, 1.4331475496012005, 0.14920001336697875, 0.6883720706856165, 0.8336504444043047, -0.1967798210239832, 0.3837696075283908, -0.1985591357871106, -1.1662344851690605, -0.9803354423467238, -0.7443830937865075, -1.8957978032294063, 0.931495160078685, -0.2644743718545935, -0.22464338006883158, 0.03752545714300439, -1.2391027208583643, -1.11592894637276, -0.06941410935670562, 0.31871680448372824, 0.5019666333781165, -0.15849234322605066, -0.4818060572577569, -1.880201256826168, 0.1023978395750562, 0.40156381324902174, 1.5288944591079592, -0.38799929603879246, -0.01946874461156755, 0.2196663607578247, -1.0251593532367242, -1.4626473425094721, -1.0030863879845482, 0.4569701502836065, -0.08662094746684243, -1.0327558149805045, 0.9842045640263896, -0.4348516430457228, -0.9497338011348774, -0.028470776481635846, -1.0339530205920409, 1.0658006804824647, -0.24150122682259062, 1.439589652810136], \"xaxis\": \"x12\", \"y\": [0.9332866146772304, 0.3049436880563497, 0.44138861423703624, -0.20528713856566136, -0.7570614580837844, 1.7845617333316954, 0.2941229609186484, 1.3690812570809878, -0.05079576879906741, 1.0477237810425597, -1.339451693977425, 1.0788780172679253, 1.9385475323391281, -0.7121062713430775, 1.642429503611656, 0.6947864535012566, -0.5302665281980049, 0.7575221774092812, -1.5314018780942285, 0.9778155631043197, 1.0158153413130238, 1.4682205489568387, 0.28226463927372575, 0.697677826377623, 0.5658161799325903, -0.5253519002897766, -0.5970290526545614, -0.7459136185729337, -0.11267071355998802, -0.47312923778026433, 2.2359269385734133, 0.22847947959073348, 0.9388799026195135, -0.11903523962015843, -1.7486224017365364, 0.33648849116092194, -0.4418884183227688, -1.0289694052668623, 0.11685715081354897, -1.0853115995134064, -0.7737247922457348, -0.18719483243941543, 1.8035625576305088, -0.4434056930273342, 0.9130516530940805, -1.0462157322010581, -0.011023917936309642, 0.2747394646216463, 0.12432810131286895, 1.5398474520713819, 1.2664948567377068, 1.069592857295506, -0.6106061720265551, 1.4188978795330267, -0.08254929835706407, 0.0848936794790966, 1.1567468286988167, 0.5128939311875526, 0.2783955292540215, -1.8482262148260062, -0.3732685686845318, 0.9450082135561825, 1.5199188969908948, -1.7584730339833166, -0.975520542632561, -0.2679417652656878, 0.25819195285435254, -0.6908430289541013, -1.0826307066480867, 0.7184049548065112, 1.1224951612897176, 0.9230782244265155, 1.449241212739982, -1.0251011192519417, 1.143071988649807, -0.45802657720611467, -0.9601771135828424, -1.2319905415425854, 1.3347431234247218, 1.6522536688357146, -0.8512062789349891, 0.7576839342501829, -1.2528006446028976, 1.3542360949670942, 0.3454602683138546, 0.7545130229720501, 0.2558963684137531, -2.0332833516080533, -0.44567402359846436, 2.6228740067529825, 2.8711381625116617, -0.005712413187787785, -0.4267549415352209, -0.9129338150576033, 0.9880204669489722, 0.20156350296632106, -0.23953414816758475, 0.9697173046570664, -1.330784319642086, -0.5205197172475784], \"yaxis\": \"y12\"}, {\"line\": {\"color\": \"rgba(128, 128, 128, 1.0)\", \"dash\": \"solid\", \"shape\": \"linear\", \"width\": 1.3}, \"marker\": {\"size\": 2, \"symbol\": \"circle\"}, \"mode\": \"markers\", \"name\": \"D\", \"text\": \"\", \"type\": \"scatter\", \"x\": [0.522556105813715, 0.8366465175888684, -0.664603970479962, -0.6611168116320768, -0.029293198680295153, 0.630440914253106, 0.24536832097911143, 0.5213441943977241, -0.6409830943135116, -1.2795322536768938, 1.5529623456032118, -2.303638277851841, -0.08246423455366149, -0.6603240942134286, -1.3320172245876538, 0.27054147790735356, -2.3102127601116957, -1.180959337349101, -1.6620377976952876, 1.5467169576834783, -0.4169363614353314, -0.9631554333059279, -1.4560511712205557, -2.0404767103485617, 1.9954182190915115, 0.5205977940769877, -0.6707041858894667, 1.190860114617754, 0.4236278788802016, 0.5951909517408043, 0.0722911467287905, -0.8749298041157985, 0.9194636594323516, 1.4883038699736955, -3.4230147844322922, 1.1924595949170957, 1.4008954471598927, -1.1151174087094455, -1.1995365117501031, 0.8110171223718338, -1.8292495637863746, 2.0529700474973525, -1.3165906845861155, 1.667125932294143, -1.3404983717729393, -0.6267318398612008, -1.733235590397368, -0.7963674104484132, -0.8623741759795556, -0.7773317335322487, -0.47181762470855554, 0.07716999711133517, 0.35817988537598444, -0.3295384933143855, 0.6653512574814932, -0.4486369697071627, 0.7099314026754735, -0.4542041749256783, -0.0746400765540713, 0.21189666518828398, 0.8737431149504534, 0.4858681671093836, 0.777834053956173, 1.2796759802166797, -0.019325062343936078, -0.7744760972835689, -0.6060372583098742, 1.0343304682727885, -1.5922954029379874, -0.6296209412783041, 0.5207527208513598, -0.8729548116088645, -1.2396683909340585, -0.5932494118087088, 0.0032824444979755235, 0.5378194907114049, 0.331241280973708, -1.278552728158368, -0.0995570035566114, -0.2453115203777214, 0.5485210558743719, 0.21445941172442826, -1.2505565269743624, -0.7799754350761642, 1.3686204262485862, 0.3353102228299381, -0.9002585779060629, 2.1043905766033024, -0.6498677108938995, 0.5634701912298704, -1.6338513008111868, -0.36347720593876093, 1.9520757630587742, -0.923410126462932, 1.203474471477271, 1.1792980741286028, 0.17293066836863386, -1.1796690199363606, -2.055002219050221, -1.3653009952725936], \"xaxis\": \"x13\", \"y\": [0.15819227098722033, -0.20838612550620814, -0.8226142957144436, 0.9560447621677909, 0.27052253045962205, 0.8200525191384015, -0.5246990944281539, -1.2975274377223307, -0.7922911464415296, -0.3710687148635587, 1.2155318104663961, -0.00946663181537825, -0.6252945968173849, -0.06671455685440172, 1.1789732481171717, -1.5137939342754252, -0.3662175818542943, -0.6126577175429145, -0.10128941729010403, 0.8718167545755164, 1.1149996160957694, -0.8423701433651831, -0.6800790170902561, 0.42639474601243627, 0.251523764899969, -0.8659066777009436, 0.4229581393137417, 0.6526800404802042, -0.5545251497049041, 0.9986058454032798, -0.3082976634730784, 1.8532416207371785, -0.8839217600144291, -0.06556969999793383, -0.49851512053638725, -1.1602766032657377, 0.8699746653506601, -0.7741938736269718, 0.24543811171573388, 0.9111001057521537, -0.21131714756348827, -0.49982184469096674, 0.060897682863460215, 0.48822674149408035, -0.020306533167304037, 1.0767705148158597, 0.1664801385084698, 0.7150093977610442, -1.421034825740538, 1.907153346356637, 1.2447765217369882, 2.111747443098467, 2.4488733928892223, -3.2314456687886097, -0.5379476847464684, 1.046133803256443, 0.6373990785663881, 1.4331475496012005, 0.14920001336697875, 0.6883720706856165, 0.8336504444043047, -0.1967798210239832, 0.3837696075283908, -0.1985591357871106, -1.1662344851690605, -0.9803354423467238, -0.7443830937865075, -1.8957978032294063, 0.931495160078685, -0.2644743718545935, -0.22464338006883158, 0.03752545714300439, -1.2391027208583643, -1.11592894637276, -0.06941410935670562, 0.31871680448372824, 0.5019666333781165, -0.15849234322605066, -0.4818060572577569, -1.880201256826168, 0.1023978395750562, 0.40156381324902174, 1.5288944591079592, -0.38799929603879246, -0.01946874461156755, 0.2196663607578247, -1.0251593532367242, -1.4626473425094721, -1.0030863879845482, 0.4569701502836065, -0.08662094746684243, -1.0327558149805045, 0.9842045640263896, -0.4348516430457228, -0.9497338011348774, -0.028470776481635846, -1.0339530205920409, 1.0658006804824647, -0.24150122682259062, 1.439589652810136], \"yaxis\": \"y13\"}, {\"line\": {\"color\": \"rgba(128, 128, 128, 1.0)\", \"dash\": \"solid\", \"shape\": \"linear\", \"width\": 1.3}, \"marker\": {\"size\": 2, \"symbol\": \"circle\"}, \"mode\": \"markers\", \"name\": \"D\", \"text\": \"\", \"type\": \"scatter\", \"x\": [-1.0502366155422067, -0.021961193335135246, -0.5765927169777691, 2.248965683306026, -1.0018182265616553, -0.894238683015506, 0.6460866751885185, -1.3115427152492027, 1.3166852659343116, 1.926211376247639, -0.2922318185022914, 0.09152608733805903, -0.7430556408676412, -0.578476852932132, 0.6642732928180614, -1.0057961103352402, -0.056384208433620034, 1.0909053059116434, 0.4734520127620457, -0.02676628959820128, -0.22708984983508898, 0.9741417789799731, -1.5145327182874229, 1.2834117079537986, 0.6741070591221596, 0.24083067110312012, 0.8555734521733575, 0.6306027272359749, 1.5763162765394942, -0.5958029804768725, 1.568304227917459, 0.05975424687522171, -1.706261214114887, 1.7312151731908052, -1.7080487887071312, -0.43781305829364797, 0.20921487935513305, -2.259297390099242, 1.218643322819174, 0.32418168737135344, 0.6564577271674744, -1.0721690985177132, -0.6557675467597885, -0.12441768390177917, 0.7006888292110914, 1.7994324854881514, -1.1572248539641468, -0.20803654802745664, 0.12223982689574536, 0.9016669965242321, 0.02851091151994256, -0.04349225640139199, -0.8098781338219512, -0.12311448162771756, 0.9760908000146804, -1.0199094785959937, -0.4571566426231742, 1.3938270495469804, -0.9199946915318254, 0.8866663856815331, 0.3058242139615769, -0.45665461339037566, -0.5152722731281091, 0.5113151944185977, -1.2122833743218226, 2.8912100887402654, -1.0200521532784588, 0.29861556578277937, -1.82601771971382, 0.2629590316929113, -0.24178830164881776, 0.734374599908883, -0.771622179092258, -0.9050560338468139, -0.36113285074818186, 0.6688510578903628, -1.4846396280995497, 0.6829643443929462, 1.3481232854267218, -0.3780301066171847, -0.21712034615308187, 0.23588244120169044, 0.6797192924255304, -0.9562785562071007, 0.5230709190292472, 0.8152487481197463, -0.2461668611776281, 0.42057386032266425, -1.9427434567661108, -0.35009411437483956, -0.5247859106616706, 0.9801017518398779, 0.21683762267305612, 0.10109849438698844, -0.010736076482799084, -0.3068822190517889, 0.1657544349926027, -0.5373922231954307, 1.9009029986905681, 0.2860674527087954], \"xaxis\": \"x14\", \"y\": [0.15819227098722033, -0.20838612550620814, -0.8226142957144436, 0.9560447621677909, 0.27052253045962205, 0.8200525191384015, -0.5246990944281539, -1.2975274377223307, -0.7922911464415296, -0.3710687148635587, 1.2155318104663961, -0.00946663181537825, -0.6252945968173849, -0.06671455685440172, 1.1789732481171717, -1.5137939342754252, -0.3662175818542943, -0.6126577175429145, -0.10128941729010403, 0.8718167545755164, 1.1149996160957694, -0.8423701433651831, -0.6800790170902561, 0.42639474601243627, 0.251523764899969, -0.8659066777009436, 0.4229581393137417, 0.6526800404802042, -0.5545251497049041, 0.9986058454032798, -0.3082976634730784, 1.8532416207371785, -0.8839217600144291, -0.06556969999793383, -0.49851512053638725, -1.1602766032657377, 0.8699746653506601, -0.7741938736269718, 0.24543811171573388, 0.9111001057521537, -0.21131714756348827, -0.49982184469096674, 0.060897682863460215, 0.48822674149408035, -0.020306533167304037, 1.0767705148158597, 0.1664801385084698, 0.7150093977610442, -1.421034825740538, 1.907153346356637, 1.2447765217369882, 2.111747443098467, 2.4488733928892223, -3.2314456687886097, -0.5379476847464684, 1.046133803256443, 0.6373990785663881, 1.4331475496012005, 0.14920001336697875, 0.6883720706856165, 0.8336504444043047, -0.1967798210239832, 0.3837696075283908, -0.1985591357871106, -1.1662344851690605, -0.9803354423467238, -0.7443830937865075, -1.8957978032294063, 0.931495160078685, -0.2644743718545935, -0.22464338006883158, 0.03752545714300439, -1.2391027208583643, -1.11592894637276, -0.06941410935670562, 0.31871680448372824, 0.5019666333781165, -0.15849234322605066, -0.4818060572577569, -1.880201256826168, 0.1023978395750562, 0.40156381324902174, 1.5288944591079592, -0.38799929603879246, -0.01946874461156755, 0.2196663607578247, -1.0251593532367242, -1.4626473425094721, -1.0030863879845482, 0.4569701502836065, -0.08662094746684243, -1.0327558149805045, 0.9842045640263896, -0.4348516430457228, -0.9497338011348774, -0.028470776481635846, -1.0339530205920409, 1.0658006804824647, -0.24150122682259062, 1.439589652810136], \"yaxis\": \"y14\"}, {\"line\": {\"color\": \"rgba(128, 128, 128, 1.0)\", \"dash\": \"solid\", \"shape\": \"linear\", \"width\": 1.3}, \"marker\": {\"size\": 2, \"symbol\": \"circle\"}, \"mode\": \"markers\", \"name\": \"D\", \"text\": \"\", \"type\": \"scatter\", \"x\": [0.9332866146772304, 0.3049436880563497, 0.44138861423703624, -0.20528713856566136, -0.7570614580837844, 1.7845617333316954, 0.2941229609186484, 1.3690812570809878, -0.05079576879906741, 1.0477237810425597, -1.339451693977425, 1.0788780172679253, 1.9385475323391281, -0.7121062713430775, 1.642429503611656, 0.6947864535012566, -0.5302665281980049, 0.7575221774092812, -1.5314018780942285, 0.9778155631043197, 1.0158153413130238, 1.4682205489568387, 0.28226463927372575, 0.697677826377623, 0.5658161799325903, -0.5253519002897766, -0.5970290526545614, -0.7459136185729337, -0.11267071355998802, -0.47312923778026433, 2.2359269385734133, 0.22847947959073348, 0.9388799026195135, -0.11903523962015843, -1.7486224017365364, 0.33648849116092194, -0.4418884183227688, -1.0289694052668623, 0.11685715081354897, -1.0853115995134064, -0.7737247922457348, -0.18719483243941543, 1.8035625576305088, -0.4434056930273342, 0.9130516530940805, -1.0462157322010581, -0.011023917936309642, 0.2747394646216463, 0.12432810131286895, 1.5398474520713819, 1.2664948567377068, 1.069592857295506, -0.6106061720265551, 1.4188978795330267, -0.08254929835706407, 0.0848936794790966, 1.1567468286988167, 0.5128939311875526, 0.2783955292540215, -1.8482262148260062, -0.3732685686845318, 0.9450082135561825, 1.5199188969908948, -1.7584730339833166, -0.975520542632561, -0.2679417652656878, 0.25819195285435254, -0.6908430289541013, -1.0826307066480867, 0.7184049548065112, 1.1224951612897176, 0.9230782244265155, 1.449241212739982, -1.0251011192519417, 1.143071988649807, -0.45802657720611467, -0.9601771135828424, -1.2319905415425854, 1.3347431234247218, 1.6522536688357146, -0.8512062789349891, 0.7576839342501829, -1.2528006446028976, 1.3542360949670942, 0.3454602683138546, 0.7545130229720501, 0.2558963684137531, -2.0332833516080533, -0.44567402359846436, 2.6228740067529825, 2.8711381625116617, -0.005712413187787785, -0.4267549415352209, -0.9129338150576033, 0.9880204669489722, 0.20156350296632106, -0.23953414816758475, 0.9697173046570664, -1.330784319642086, -0.5205197172475784], \"xaxis\": \"x15\", \"y\": [0.15819227098722033, -0.20838612550620814, -0.8226142957144436, 0.9560447621677909, 0.27052253045962205, 0.8200525191384015, -0.5246990944281539, -1.2975274377223307, -0.7922911464415296, -0.3710687148635587, 1.2155318104663961, -0.00946663181537825, -0.6252945968173849, -0.06671455685440172, 1.1789732481171717, -1.5137939342754252, -0.3662175818542943, -0.6126577175429145, -0.10128941729010403, 0.8718167545755164, 1.1149996160957694, -0.8423701433651831, -0.6800790170902561, 0.42639474601243627, 0.251523764899969, -0.8659066777009436, 0.4229581393137417, 0.6526800404802042, -0.5545251497049041, 0.9986058454032798, -0.3082976634730784, 1.8532416207371785, -0.8839217600144291, -0.06556969999793383, -0.49851512053638725, -1.1602766032657377, 0.8699746653506601, -0.7741938736269718, 0.24543811171573388, 0.9111001057521537, -0.21131714756348827, -0.49982184469096674, 0.060897682863460215, 0.48822674149408035, -0.020306533167304037, 1.0767705148158597, 0.1664801385084698, 0.7150093977610442, -1.421034825740538, 1.907153346356637, 1.2447765217369882, 2.111747443098467, 2.4488733928892223, -3.2314456687886097, -0.5379476847464684, 1.046133803256443, 0.6373990785663881, 1.4331475496012005, 0.14920001336697875, 0.6883720706856165, 0.8336504444043047, -0.1967798210239832, 0.3837696075283908, -0.1985591357871106, -1.1662344851690605, -0.9803354423467238, -0.7443830937865075, -1.8957978032294063, 0.931495160078685, -0.2644743718545935, -0.22464338006883158, 0.03752545714300439, -1.2391027208583643, -1.11592894637276, -0.06941410935670562, 0.31871680448372824, 0.5019666333781165, -0.15849234322605066, -0.4818060572577569, -1.880201256826168, 0.1023978395750562, 0.40156381324902174, 1.5288944591079592, -0.38799929603879246, -0.01946874461156755, 0.2196663607578247, -1.0251593532367242, -1.4626473425094721, -1.0030863879845482, 0.4569701502836065, -0.08662094746684243, -1.0327558149805045, 0.9842045640263896, -0.4348516430457228, -0.9497338011348774, -0.028470776481635846, -1.0339530205920409, 1.0658006804824647, -0.24150122682259062, 1.439589652810136], \"yaxis\": \"y15\"}, {\"histfunc\": \"count\", \"histnorm\": \"\", \"marker\": {\"color\": \"rgba(128, 0, 128, 1.0)\", \"line\": {\"color\": \"#4D5663\", \"width\": 1.3}}, \"name\": \"D\", \"nbinsx\": 10, \"opacity\": 0.8, \"orientation\": \"v\", \"type\": \"histogram\", \"x\": [0.15819227098722033, -0.20838612550620814, -0.8226142957144436, 0.9560447621677909, 0.27052253045962205, 0.8200525191384015, -0.5246990944281539, -1.2975274377223307, -0.7922911464415296, -0.3710687148635587, 1.2155318104663961, -0.00946663181537825, -0.6252945968173849, -0.06671455685440172, 1.1789732481171717, -1.5137939342754252, -0.3662175818542943, -0.6126577175429145, -0.10128941729010403, 0.8718167545755164, 1.1149996160957694, -0.8423701433651831, -0.6800790170902561, 0.42639474601243627, 0.251523764899969, -0.8659066777009436, 0.4229581393137417, 0.6526800404802042, -0.5545251497049041, 0.9986058454032798, -0.3082976634730784, 1.8532416207371785, -0.8839217600144291, -0.06556969999793383, -0.49851512053638725, -1.1602766032657377, 0.8699746653506601, -0.7741938736269718, 0.24543811171573388, 0.9111001057521537, -0.21131714756348827, -0.49982184469096674, 0.060897682863460215, 0.48822674149408035, -0.020306533167304037, 1.0767705148158597, 0.1664801385084698, 0.7150093977610442, -1.421034825740538, 1.907153346356637, 1.2447765217369882, 2.111747443098467, 2.4488733928892223, -3.2314456687886097, -0.5379476847464684, 1.046133803256443, 0.6373990785663881, 1.4331475496012005, 0.14920001336697875, 0.6883720706856165, 0.8336504444043047, -0.1967798210239832, 0.3837696075283908, -0.1985591357871106, -1.1662344851690605, -0.9803354423467238, -0.7443830937865075, -1.8957978032294063, 0.931495160078685, -0.2644743718545935, -0.22464338006883158, 0.03752545714300439, -1.2391027208583643, -1.11592894637276, -0.06941410935670562, 0.31871680448372824, 0.5019666333781165, -0.15849234322605066, -0.4818060572577569, -1.880201256826168, 0.1023978395750562, 0.40156381324902174, 1.5288944591079592, -0.38799929603879246, -0.01946874461156755, 0.2196663607578247, -1.0251593532367242, -1.4626473425094721, -1.0030863879845482, 0.4569701502836065, -0.08662094746684243, -1.0327558149805045, 0.9842045640263896, -0.4348516430457228, -0.9497338011348774, -0.028470776481635846, -1.0339530205920409, 1.0658006804824647, -0.24150122682259062, 1.439589652810136], \"xaxis\": \"x16\", \"yaxis\": \"y16\"}],                        {\"bargap\": 0.02, \"legend\": {\"bgcolor\": \"#F5F6F9\", \"font\": {\"color\": \"#4D5663\"}}, \"paper_bgcolor\": \"#F5F6F9\", \"plot_bgcolor\": \"#F5F6F9\", \"showlegend\": false, \"template\": {\"data\": {\"bar\": [{\"error_x\": {\"color\": \"#2a3f5f\"}, \"error_y\": {\"color\": \"#2a3f5f\"}, \"marker\": {\"line\": {\"color\": \"#E5ECF6\", \"width\": 0.5}}, \"type\": \"bar\"}], \"barpolar\": [{\"marker\": {\"line\": {\"color\": \"#E5ECF6\", \"width\": 0.5}}, \"type\": \"barpolar\"}], \"carpet\": [{\"aaxis\": {\"endlinecolor\": \"#2a3f5f\", \"gridcolor\": \"white\", \"linecolor\": \"white\", \"minorgridcolor\": \"white\", \"startlinecolor\": \"#2a3f5f\"}, \"baxis\": {\"endlinecolor\": \"#2a3f5f\", \"gridcolor\": \"white\", \"linecolor\": \"white\", \"minorgridcolor\": \"white\", \"startlinecolor\": \"#2a3f5f\"}, \"type\": \"carpet\"}], \"choropleth\": [{\"colorbar\": {\"outlinewidth\": 0, \"ticks\": \"\"}, \"type\": \"choropleth\"}], \"contour\": [{\"colorbar\": {\"outlinewidth\": 0, \"ticks\": \"\"}, \"colorscale\": [[0.0, \"#0d0887\"], [0.1111111111111111, \"#46039f\"], [0.2222222222222222, \"#7201a8\"], [0.3333333333333333, \"#9c179e\"], [0.4444444444444444, \"#bd3786\"], [0.5555555555555556, \"#d8576b\"], [0.6666666666666666, \"#ed7953\"], [0.7777777777777778, \"#fb9f3a\"], [0.8888888888888888, \"#fdca26\"], [1.0, \"#f0f921\"]], \"type\": \"contour\"}], \"contourcarpet\": [{\"colorbar\": {\"outlinewidth\": 0, \"ticks\": \"\"}, \"type\": \"contourcarpet\"}], \"heatmap\": [{\"colorbar\": {\"outlinewidth\": 0, \"ticks\": \"\"}, \"colorscale\": [[0.0, \"#0d0887\"], [0.1111111111111111, \"#46039f\"], [0.2222222222222222, \"#7201a8\"], [0.3333333333333333, \"#9c179e\"], [0.4444444444444444, \"#bd3786\"], [0.5555555555555556, \"#d8576b\"], [0.6666666666666666, \"#ed7953\"], [0.7777777777777778, \"#fb9f3a\"], [0.8888888888888888, \"#fdca26\"], [1.0, \"#f0f921\"]], \"type\": \"heatmap\"}], \"heatmapgl\": [{\"colorbar\": {\"outlinewidth\": 0, \"ticks\": \"\"}, \"colorscale\": [[0.0, \"#0d0887\"], [0.1111111111111111, \"#46039f\"], [0.2222222222222222, \"#7201a8\"], [0.3333333333333333, \"#9c179e\"], [0.4444444444444444, \"#bd3786\"], [0.5555555555555556, \"#d8576b\"], [0.6666666666666666, \"#ed7953\"], [0.7777777777777778, \"#fb9f3a\"], [0.8888888888888888, \"#fdca26\"], [1.0, \"#f0f921\"]], \"type\": \"heatmapgl\"}], \"histogram\": [{\"marker\": {\"colorbar\": {\"outlinewidth\": 0, \"ticks\": \"\"}}, \"type\": \"histogram\"}], \"histogram2d\": [{\"colorbar\": {\"outlinewidth\": 0, \"ticks\": \"\"}, \"colorscale\": [[0.0, \"#0d0887\"], [0.1111111111111111, \"#46039f\"], [0.2222222222222222, \"#7201a8\"], [0.3333333333333333, \"#9c179e\"], [0.4444444444444444, \"#bd3786\"], [0.5555555555555556, \"#d8576b\"], [0.6666666666666666, \"#ed7953\"], [0.7777777777777778, \"#fb9f3a\"], [0.8888888888888888, \"#fdca26\"], [1.0, \"#f0f921\"]], \"type\": \"histogram2d\"}], \"histogram2dcontour\": [{\"colorbar\": {\"outlinewidth\": 0, \"ticks\": \"\"}, \"colorscale\": [[0.0, \"#0d0887\"], [0.1111111111111111, \"#46039f\"], [0.2222222222222222, \"#7201a8\"], [0.3333333333333333, \"#9c179e\"], [0.4444444444444444, \"#bd3786\"], [0.5555555555555556, \"#d8576b\"], [0.6666666666666666, \"#ed7953\"], [0.7777777777777778, \"#fb9f3a\"], [0.8888888888888888, \"#fdca26\"], [1.0, \"#f0f921\"]], \"type\": \"histogram2dcontour\"}], \"mesh3d\": [{\"colorbar\": {\"outlinewidth\": 0, \"ticks\": \"\"}, \"type\": \"mesh3d\"}], \"parcoords\": [{\"line\": {\"colorbar\": {\"outlinewidth\": 0, \"ticks\": \"\"}}, \"type\": \"parcoords\"}], \"pie\": [{\"automargin\": true, \"type\": \"pie\"}], \"scatter\": [{\"marker\": {\"colorbar\": {\"outlinewidth\": 0, \"ticks\": \"\"}}, \"type\": \"scatter\"}], \"scatter3d\": [{\"line\": {\"colorbar\": {\"outlinewidth\": 0, \"ticks\": \"\"}}, \"marker\": {\"colorbar\": {\"outlinewidth\": 0, \"ticks\": \"\"}}, \"type\": \"scatter3d\"}], \"scattercarpet\": [{\"marker\": {\"colorbar\": {\"outlinewidth\": 0, \"ticks\": \"\"}}, \"type\": \"scattercarpet\"}], \"scattergeo\": [{\"marker\": {\"colorbar\": {\"outlinewidth\": 0, \"ticks\": \"\"}}, \"type\": \"scattergeo\"}], \"scattergl\": [{\"marker\": {\"colorbar\": {\"outlinewidth\": 0, \"ticks\": \"\"}}, \"type\": \"scattergl\"}], \"scattermapbox\": [{\"marker\": {\"colorbar\": {\"outlinewidth\": 0, \"ticks\": \"\"}}, \"type\": \"scattermapbox\"}], \"scatterpolar\": [{\"marker\": {\"colorbar\": {\"outlinewidth\": 0, \"ticks\": \"\"}}, \"type\": \"scatterpolar\"}], \"scatterpolargl\": [{\"marker\": {\"colorbar\": {\"outlinewidth\": 0, \"ticks\": \"\"}}, \"type\": \"scatterpolargl\"}], \"scatterternary\": [{\"marker\": {\"colorbar\": {\"outlinewidth\": 0, \"ticks\": \"\"}}, \"type\": \"scatterternary\"}], \"surface\": [{\"colorbar\": {\"outlinewidth\": 0, \"ticks\": \"\"}, \"colorscale\": [[0.0, \"#0d0887\"], [0.1111111111111111, \"#46039f\"], [0.2222222222222222, \"#7201a8\"], [0.3333333333333333, \"#9c179e\"], [0.4444444444444444, \"#bd3786\"], [0.5555555555555556, \"#d8576b\"], [0.6666666666666666, \"#ed7953\"], [0.7777777777777778, \"#fb9f3a\"], [0.8888888888888888, \"#fdca26\"], [1.0, \"#f0f921\"]], \"type\": \"surface\"}], \"table\": [{\"cells\": {\"fill\": {\"color\": \"#EBF0F8\"}, \"line\": {\"color\": \"white\"}}, \"header\": {\"fill\": {\"color\": \"#C8D4E3\"}, \"line\": {\"color\": \"white\"}}, \"type\": \"table\"}]}, \"layout\": {\"annotationdefaults\": {\"arrowcolor\": \"#2a3f5f\", \"arrowhead\": 0, \"arrowwidth\": 1}, \"coloraxis\": {\"colorbar\": {\"outlinewidth\": 0, \"ticks\": \"\"}}, \"colorscale\": {\"diverging\": [[0, \"#8e0152\"], [0.1, \"#c51b7d\"], [0.2, \"#de77ae\"], [0.3, \"#f1b6da\"], [0.4, \"#fde0ef\"], [0.5, \"#f7f7f7\"], [0.6, \"#e6f5d0\"], [0.7, \"#b8e186\"], [0.8, \"#7fbc41\"], [0.9, \"#4d9221\"], [1, \"#276419\"]], \"sequential\": [[0.0, \"#0d0887\"], [0.1111111111111111, \"#46039f\"], [0.2222222222222222, \"#7201a8\"], [0.3333333333333333, \"#9c179e\"], [0.4444444444444444, \"#bd3786\"], [0.5555555555555556, \"#d8576b\"], [0.6666666666666666, \"#ed7953\"], [0.7777777777777778, \"#fb9f3a\"], [0.8888888888888888, \"#fdca26\"], [1.0, \"#f0f921\"]], \"sequentialminus\": [[0.0, \"#0d0887\"], [0.1111111111111111, \"#46039f\"], [0.2222222222222222, \"#7201a8\"], [0.3333333333333333, \"#9c179e\"], [0.4444444444444444, \"#bd3786\"], [0.5555555555555556, \"#d8576b\"], [0.6666666666666666, \"#ed7953\"], [0.7777777777777778, \"#fb9f3a\"], [0.8888888888888888, \"#fdca26\"], [1.0, \"#f0f921\"]]}, \"colorway\": [\"#636efa\", \"#EF553B\", \"#00cc96\", \"#ab63fa\", \"#FFA15A\", \"#19d3f3\", \"#FF6692\", \"#B6E880\", \"#FF97FF\", \"#FECB52\"], \"font\": {\"color\": \"#2a3f5f\"}, \"geo\": {\"bgcolor\": \"white\", \"lakecolor\": \"white\", \"landcolor\": \"#E5ECF6\", \"showlakes\": true, \"showland\": true, \"subunitcolor\": \"white\"}, \"hoverlabel\": {\"align\": \"left\"}, \"hovermode\": \"closest\", \"mapbox\": {\"style\": \"light\"}, \"paper_bgcolor\": \"white\", \"plot_bgcolor\": \"#E5ECF6\", \"polar\": {\"angularaxis\": {\"gridcolor\": \"white\", \"linecolor\": \"white\", \"ticks\": \"\"}, \"bgcolor\": \"#E5ECF6\", \"radialaxis\": {\"gridcolor\": \"white\", \"linecolor\": \"white\", \"ticks\": \"\"}}, \"scene\": {\"xaxis\": {\"backgroundcolor\": \"#E5ECF6\", \"gridcolor\": \"white\", \"gridwidth\": 2, \"linecolor\": \"white\", \"showbackground\": true, \"ticks\": \"\", \"zerolinecolor\": \"white\"}, \"yaxis\": {\"backgroundcolor\": \"#E5ECF6\", \"gridcolor\": \"white\", \"gridwidth\": 2, \"linecolor\": \"white\", \"showbackground\": true, \"ticks\": \"\", \"zerolinecolor\": \"white\"}, \"zaxis\": {\"backgroundcolor\": \"#E5ECF6\", \"gridcolor\": \"white\", \"gridwidth\": 2, \"linecolor\": \"white\", \"showbackground\": true, \"ticks\": \"\", \"zerolinecolor\": \"white\"}}, \"shapedefaults\": {\"line\": {\"color\": \"#2a3f5f\"}}, \"ternary\": {\"aaxis\": {\"gridcolor\": \"white\", \"linecolor\": \"white\", \"ticks\": \"\"}, \"baxis\": {\"gridcolor\": \"white\", \"linecolor\": \"white\", \"ticks\": \"\"}, \"bgcolor\": \"#E5ECF6\", \"caxis\": {\"gridcolor\": \"white\", \"linecolor\": \"white\", \"ticks\": \"\"}}, \"title\": {\"x\": 0.05}, \"xaxis\": {\"automargin\": true, \"gridcolor\": \"white\", \"linecolor\": \"white\", \"ticks\": \"\", \"title\": {\"standoff\": 15}, \"zerolinecolor\": \"white\", \"zerolinewidth\": 2}, \"yaxis\": {\"automargin\": true, \"gridcolor\": \"white\", \"linecolor\": \"white\", \"ticks\": \"\", \"title\": {\"standoff\": 15}, \"zerolinecolor\": \"white\", \"zerolinewidth\": 2}}}, \"title\": {\"font\": {\"color\": \"#4D5663\"}}, \"xaxis\": {\"anchor\": \"y\", \"domain\": [0.0, 0.2125], \"gridcolor\": \"#E1E5ED\", \"showgrid\": false, \"tickfont\": {\"color\": \"#4D5663\"}, \"title\": {\"font\": {\"color\": \"#4D5663\"}, \"text\": \"\"}, \"zerolinecolor\": \"#E1E5ED\"}, \"xaxis10\": {\"anchor\": \"y10\", \"domain\": [0.2625, 0.475], \"gridcolor\": \"#E1E5ED\", \"showgrid\": false, \"tickfont\": {\"color\": \"#4D5663\"}, \"title\": {\"font\": {\"color\": \"#4D5663\"}, \"text\": \"\"}, \"zerolinecolor\": \"#E1E5ED\"}, \"xaxis11\": {\"anchor\": \"y11\", \"domain\": [0.525, 0.7375], \"gridcolor\": \"#E1E5ED\", \"showgrid\": false, \"tickfont\": {\"color\": \"#4D5663\"}, \"title\": {\"font\": {\"color\": \"#4D5663\"}, \"text\": \"\"}, \"zerolinecolor\": \"#E1E5ED\"}, \"xaxis12\": {\"anchor\": \"y12\", \"domain\": [0.7875, 1.0], \"gridcolor\": \"#E1E5ED\", \"showgrid\": false, \"tickfont\": {\"color\": \"#4D5663\"}, \"title\": {\"font\": {\"color\": \"#4D5663\"}, \"text\": \"\"}, \"zerolinecolor\": \"#E1E5ED\"}, \"xaxis13\": {\"anchor\": \"y13\", \"domain\": [0.0, 0.2125], \"gridcolor\": \"#E1E5ED\", \"showgrid\": false, \"tickfont\": {\"color\": \"#4D5663\"}, \"title\": {\"font\": {\"color\": \"#4D5663\"}, \"text\": \"\"}, \"zerolinecolor\": \"#E1E5ED\"}, \"xaxis14\": {\"anchor\": \"y14\", \"domain\": [0.2625, 0.475], \"gridcolor\": \"#E1E5ED\", \"showgrid\": false, \"tickfont\": {\"color\": \"#4D5663\"}, \"title\": {\"font\": {\"color\": \"#4D5663\"}, \"text\": \"\"}, \"zerolinecolor\": \"#E1E5ED\"}, \"xaxis15\": {\"anchor\": \"y15\", \"domain\": [0.525, 0.7375], \"gridcolor\": \"#E1E5ED\", \"showgrid\": false, \"tickfont\": {\"color\": \"#4D5663\"}, \"title\": {\"font\": {\"color\": \"#4D5663\"}, \"text\": \"\"}, \"zerolinecolor\": \"#E1E5ED\"}, \"xaxis16\": {\"anchor\": \"y16\", \"domain\": [0.7875, 1.0], \"gridcolor\": \"#E1E5ED\", \"showgrid\": false, \"tickfont\": {\"color\": \"#4D5663\"}, \"title\": {\"font\": {\"color\": \"#4D5663\"}, \"text\": \"\"}, \"zerolinecolor\": \"#E1E5ED\"}, \"xaxis2\": {\"anchor\": \"y2\", \"domain\": [0.2625, 0.475], \"gridcolor\": \"#E1E5ED\", \"showgrid\": false, \"tickfont\": {\"color\": \"#4D5663\"}, \"title\": {\"font\": {\"color\": \"#4D5663\"}, \"text\": \"\"}, \"zerolinecolor\": \"#E1E5ED\"}, \"xaxis3\": {\"anchor\": \"y3\", \"domain\": [0.525, 0.7375], \"gridcolor\": \"#E1E5ED\", \"showgrid\": false, \"tickfont\": {\"color\": \"#4D5663\"}, \"title\": {\"font\": {\"color\": \"#4D5663\"}, \"text\": \"\"}, \"zerolinecolor\": \"#E1E5ED\"}, \"xaxis4\": {\"anchor\": \"y4\", \"domain\": [0.7875, 1.0], \"gridcolor\": \"#E1E5ED\", \"showgrid\": false, \"tickfont\": {\"color\": \"#4D5663\"}, \"title\": {\"font\": {\"color\": \"#4D5663\"}, \"text\": \"\"}, \"zerolinecolor\": \"#E1E5ED\"}, \"xaxis5\": {\"anchor\": \"y5\", \"domain\": [0.0, 0.2125], \"gridcolor\": \"#E1E5ED\", \"showgrid\": false, \"tickfont\": {\"color\": \"#4D5663\"}, \"title\": {\"font\": {\"color\": \"#4D5663\"}, \"text\": \"\"}, \"zerolinecolor\": \"#E1E5ED\"}, \"xaxis6\": {\"anchor\": \"y6\", \"domain\": [0.2625, 0.475], \"gridcolor\": \"#E1E5ED\", \"showgrid\": false, \"tickfont\": {\"color\": \"#4D5663\"}, \"title\": {\"font\": {\"color\": \"#4D5663\"}, \"text\": \"\"}, \"zerolinecolor\": \"#E1E5ED\"}, \"xaxis7\": {\"anchor\": \"y7\", \"domain\": [0.525, 0.7375], \"gridcolor\": \"#E1E5ED\", \"showgrid\": false, \"tickfont\": {\"color\": \"#4D5663\"}, \"title\": {\"font\": {\"color\": \"#4D5663\"}, \"text\": \"\"}, \"zerolinecolor\": \"#E1E5ED\"}, \"xaxis8\": {\"anchor\": \"y8\", \"domain\": [0.7875, 1.0], \"gridcolor\": \"#E1E5ED\", \"showgrid\": false, \"tickfont\": {\"color\": \"#4D5663\"}, \"title\": {\"font\": {\"color\": \"#4D5663\"}, \"text\": \"\"}, \"zerolinecolor\": \"#E1E5ED\"}, \"xaxis9\": {\"anchor\": \"y9\", \"domain\": [0.0, 0.2125], \"gridcolor\": \"#E1E5ED\", \"showgrid\": false, \"tickfont\": {\"color\": \"#4D5663\"}, \"title\": {\"font\": {\"color\": \"#4D5663\"}, \"text\": \"\"}, \"zerolinecolor\": \"#E1E5ED\"}, \"yaxis\": {\"anchor\": \"x\", \"domain\": [0.8025, 1.0], \"gridcolor\": \"#E1E5ED\", \"showgrid\": false, \"tickfont\": {\"color\": \"#4D5663\"}, \"title\": {\"font\": {\"color\": \"#4D5663\"}, \"text\": \"\"}, \"zerolinecolor\": \"#E1E5ED\"}, \"yaxis10\": {\"anchor\": \"x10\", \"domain\": [0.2675, 0.465], \"gridcolor\": \"#E1E5ED\", \"showgrid\": false, \"tickfont\": {\"color\": \"#4D5663\"}, \"title\": {\"font\": {\"color\": \"#4D5663\"}, \"text\": \"\"}, \"zerolinecolor\": \"#E1E5ED\"}, \"yaxis11\": {\"anchor\": \"x11\", \"domain\": [0.2675, 0.465], \"gridcolor\": \"#E1E5ED\", \"showgrid\": false, \"tickfont\": {\"color\": \"#4D5663\"}, \"title\": {\"font\": {\"color\": \"#4D5663\"}, \"text\": \"\"}, \"zerolinecolor\": \"#E1E5ED\"}, \"yaxis12\": {\"anchor\": \"x12\", \"domain\": [0.2675, 0.465], \"gridcolor\": \"#E1E5ED\", \"showgrid\": false, \"tickfont\": {\"color\": \"#4D5663\"}, \"title\": {\"font\": {\"color\": \"#4D5663\"}, \"text\": \"\"}, \"zerolinecolor\": \"#E1E5ED\"}, \"yaxis13\": {\"anchor\": \"x13\", \"domain\": [0.0, 0.1975], \"gridcolor\": \"#E1E5ED\", \"showgrid\": false, \"tickfont\": {\"color\": \"#4D5663\"}, \"title\": {\"font\": {\"color\": \"#4D5663\"}, \"text\": \"\"}, \"zerolinecolor\": \"#E1E5ED\"}, \"yaxis14\": {\"anchor\": \"x14\", \"domain\": [0.0, 0.1975], \"gridcolor\": \"#E1E5ED\", \"showgrid\": false, \"tickfont\": {\"color\": \"#4D5663\"}, \"title\": {\"font\": {\"color\": \"#4D5663\"}, \"text\": \"\"}, \"zerolinecolor\": \"#E1E5ED\"}, \"yaxis15\": {\"anchor\": \"x15\", \"domain\": [0.0, 0.1975], \"gridcolor\": \"#E1E5ED\", \"showgrid\": false, \"tickfont\": {\"color\": \"#4D5663\"}, \"title\": {\"font\": {\"color\": \"#4D5663\"}, \"text\": \"\"}, \"zerolinecolor\": \"#E1E5ED\"}, \"yaxis16\": {\"anchor\": \"x16\", \"domain\": [0.0, 0.1975], \"gridcolor\": \"#E1E5ED\", \"showgrid\": false, \"tickfont\": {\"color\": \"#4D5663\"}, \"title\": {\"font\": {\"color\": \"#4D5663\"}, \"text\": \"\"}, \"zerolinecolor\": \"#E1E5ED\"}, \"yaxis2\": {\"anchor\": \"x2\", \"domain\": [0.8025, 1.0], \"gridcolor\": \"#E1E5ED\", \"showgrid\": false, \"tickfont\": {\"color\": \"#4D5663\"}, \"title\": {\"font\": {\"color\": \"#4D5663\"}, \"text\": \"\"}, \"zerolinecolor\": \"#E1E5ED\"}, \"yaxis3\": {\"anchor\": \"x3\", \"domain\": [0.8025, 1.0], \"gridcolor\": \"#E1E5ED\", \"showgrid\": false, \"tickfont\": {\"color\": \"#4D5663\"}, \"title\": {\"font\": {\"color\": \"#4D5663\"}, \"text\": \"\"}, \"zerolinecolor\": \"#E1E5ED\"}, \"yaxis4\": {\"anchor\": \"x4\", \"domain\": [0.8025, 1.0], \"gridcolor\": \"#E1E5ED\", \"showgrid\": false, \"tickfont\": {\"color\": \"#4D5663\"}, \"title\": {\"font\": {\"color\": \"#4D5663\"}, \"text\": \"\"}, \"zerolinecolor\": \"#E1E5ED\"}, \"yaxis5\": {\"anchor\": \"x5\", \"domain\": [0.535, 0.7325], \"gridcolor\": \"#E1E5ED\", \"showgrid\": false, \"tickfont\": {\"color\": \"#4D5663\"}, \"title\": {\"font\": {\"color\": \"#4D5663\"}, \"text\": \"\"}, \"zerolinecolor\": \"#E1E5ED\"}, \"yaxis6\": {\"anchor\": \"x6\", \"domain\": [0.535, 0.7325], \"gridcolor\": \"#E1E5ED\", \"showgrid\": false, \"tickfont\": {\"color\": \"#4D5663\"}, \"title\": {\"font\": {\"color\": \"#4D5663\"}, \"text\": \"\"}, \"zerolinecolor\": \"#E1E5ED\"}, \"yaxis7\": {\"anchor\": \"x7\", \"domain\": [0.535, 0.7325], \"gridcolor\": \"#E1E5ED\", \"showgrid\": false, \"tickfont\": {\"color\": \"#4D5663\"}, \"title\": {\"font\": {\"color\": \"#4D5663\"}, \"text\": \"\"}, \"zerolinecolor\": \"#E1E5ED\"}, \"yaxis8\": {\"anchor\": \"x8\", \"domain\": [0.535, 0.7325], \"gridcolor\": \"#E1E5ED\", \"showgrid\": false, \"tickfont\": {\"color\": \"#4D5663\"}, \"title\": {\"font\": {\"color\": \"#4D5663\"}, \"text\": \"\"}, \"zerolinecolor\": \"#E1E5ED\"}, \"yaxis9\": {\"anchor\": \"x9\", \"domain\": [0.2675, 0.465], \"gridcolor\": \"#E1E5ED\", \"showgrid\": false, \"tickfont\": {\"color\": \"#4D5663\"}, \"title\": {\"font\": {\"color\": \"#4D5663\"}, \"text\": \"\"}, \"zerolinecolor\": \"#E1E5ED\"}},                        {\"showLink\": true, \"linkText\": \"Export to plot.ly\", \"plotlyServerURL\": \"https://plot.ly\", \"responsive\": true}                    ).then(function(){\n",
       "                            \n",
       "var gd = document.getElementById('c4a0bb71-7015-4a26-b077-5491ce58b940');\n",
       "var x = new MutationObserver(function (mutations, observer) {{\n",
       "        var display = window.getComputedStyle(gd).display;\n",
       "        if (!display || display === 'none') {{\n",
       "            console.log([gd, 'removed!']);\n",
       "            Plotly.purge(gd);\n",
       "            observer.disconnect();\n",
       "        }}\n",
       "}});\n",
       "\n",
       "// Listen for the removal of the full notebook cells\n",
       "var notebookContainer = gd.closest('#notebook-container');\n",
       "if (notebookContainer) {{\n",
       "    x.observe(notebookContainer, {childList: true});\n",
       "}}\n",
       "\n",
       "// Listen for the clearing of the current output cell\n",
       "var outputEl = gd.closest('.output');\n",
       "if (outputEl) {{\n",
       "    x.observe(outputEl, {childList: true});\n",
       "}}\n",
       "\n",
       "                        })                };                });            </script>        </div>"
      ]
     },
     "metadata": {},
     "output_type": "display_data"
    }
   ],
   "source": [
    "df.scatter_matrix()"
   ]
  },
  {
   "cell_type": "markdown",
   "metadata": {
    "collapsed": true
   },
   "source": [
    "# Great Job!"
   ]
  }
 ],
 "metadata": {
  "kernelspec": {
   "display_name": "Python 3",
   "language": "python",
   "name": "python3"
  },
  "language_info": {
   "codemirror_mode": {
    "name": "ipython",
    "version": 3
   },
   "file_extension": ".py",
   "mimetype": "text/x-python",
   "name": "python",
   "nbconvert_exporter": "python",
   "pygments_lexer": "ipython3",
   "version": "3.8.3"
  }
 },
 "nbformat": 4,
 "nbformat_minor": 1
}
