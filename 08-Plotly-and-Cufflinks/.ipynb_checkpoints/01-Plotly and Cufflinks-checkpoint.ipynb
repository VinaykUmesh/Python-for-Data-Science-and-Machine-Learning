{
 "cells": [
  {
   "cell_type": "markdown",
   "metadata": {},
   "source": [
    "# Plotly and Cufflinks"
   ]
  },
  {
   "cell_type": "markdown",
   "metadata": {},
   "source": [
    "Plotly is a library that allows you to create interactive plots that you can use in dashboards or websites (you can save them as html files or static images).\n",
    "\n",
    "## Installation\n",
    "\n",
    "In order for this all to work, you'll need to install plotly and cufflinks to call plots directly off of a pandas dataframe. These libraries are not currently available through **conda** but are available through **pip**. Install the libraries at your command line/terminal using:\n",
    "\n",
    "    pip install plotly\n",
    "    pip install cufflinks\n",
    "\n",
    "** NOTE: Make sure you only have one installation of Python on your computer when you do this, otherwise the installation may not work. **\n",
    "\n",
    "## Imports and Set-up"
   ]
  },
  {
   "cell_type": "code",
   "execution_count": 1,
   "metadata": {},
   "outputs": [],
   "source": [
    "import pandas as pd\n",
    "import numpy as np\n",
    "%matplotlib inline"
   ]
  },
  {
   "cell_type": "code",
   "execution_count": 2,
   "metadata": {},
   "outputs": [
    {
     "name": "stdout",
     "output_type": "stream",
     "text": [
      "4.13.0\n"
     ]
    }
   ],
   "source": [
    "from plotly import __version__\n",
    "from plotly.offline import download_plotlyjs, init_notebook_mode, plot, iplot\n",
    "\n",
    "print(__version__) # requires version >= 1.9.0"
   ]
  },
  {
   "cell_type": "code",
   "execution_count": 3,
   "metadata": {},
   "outputs": [],
   "source": [
    "import cufflinks as cf"
   ]
  },
  {
   "cell_type": "code",
   "execution_count": 4,
   "metadata": {},
   "outputs": [
    {
     "data": {
      "text/html": [
       "        <script type=\"text/javascript\">\n",
       "        window.PlotlyConfig = {MathJaxConfig: 'local'};\n",
       "        if (window.MathJax) {MathJax.Hub.Config({SVG: {font: \"STIX-Web\"}});}\n",
       "        if (typeof require !== 'undefined') {\n",
       "        require.undef(\"plotly\");\n",
       "        requirejs.config({\n",
       "            paths: {\n",
       "                'plotly': ['https://cdn.plot.ly/plotly-latest.min']\n",
       "            }\n",
       "        });\n",
       "        require(['plotly'], function(Plotly) {\n",
       "            window._Plotly = Plotly;\n",
       "        });\n",
       "        }\n",
       "        </script>\n",
       "        "
      ]
     },
     "metadata": {},
     "output_type": "display_data"
    }
   ],
   "source": [
    "# For Notebooks\n",
    "init_notebook_mode(connected=True)"
   ]
  },
  {
   "cell_type": "code",
   "execution_count": 5,
   "metadata": {},
   "outputs": [
    {
     "data": {
      "text/html": [
       "        <script type=\"text/javascript\">\n",
       "        window.PlotlyConfig = {MathJaxConfig: 'local'};\n",
       "        if (window.MathJax) {MathJax.Hub.Config({SVG: {font: \"STIX-Web\"}});}\n",
       "        if (typeof require !== 'undefined') {\n",
       "        require.undef(\"plotly\");\n",
       "        requirejs.config({\n",
       "            paths: {\n",
       "                'plotly': ['https://cdn.plot.ly/plotly-latest.min']\n",
       "            }\n",
       "        });\n",
       "        require(['plotly'], function(Plotly) {\n",
       "            window._Plotly = Plotly;\n",
       "        });\n",
       "        }\n",
       "        </script>\n",
       "        "
      ]
     },
     "metadata": {},
     "output_type": "display_data"
    }
   ],
   "source": [
    "# For offline use\n",
    "cf.go_offline()"
   ]
  },
  {
   "cell_type": "markdown",
   "metadata": {},
   "source": [
    "### Fake Data"
   ]
  },
  {
   "cell_type": "code",
   "execution_count": 6,
   "metadata": {},
   "outputs": [],
   "source": [
    "df = pd.DataFrame(np.random.randn(100,4),columns='A B C D'.split())"
   ]
  },
  {
   "cell_type": "code",
   "execution_count": 7,
   "metadata": {},
   "outputs": [
    {
     "data": {
      "text/html": [
       "<div>\n",
       "<style scoped>\n",
       "    .dataframe tbody tr th:only-of-type {\n",
       "        vertical-align: middle;\n",
       "    }\n",
       "\n",
       "    .dataframe tbody tr th {\n",
       "        vertical-align: top;\n",
       "    }\n",
       "\n",
       "    .dataframe thead th {\n",
       "        text-align: right;\n",
       "    }\n",
       "</style>\n",
       "<table border=\"1\" class=\"dataframe\">\n",
       "  <thead>\n",
       "    <tr style=\"text-align: right;\">\n",
       "      <th></th>\n",
       "      <th>A</th>\n",
       "      <th>B</th>\n",
       "      <th>C</th>\n",
       "      <th>D</th>\n",
       "    </tr>\n",
       "  </thead>\n",
       "  <tbody>\n",
       "    <tr>\n",
       "      <th>0</th>\n",
       "      <td>1.679827</td>\n",
       "      <td>-0.129447</td>\n",
       "      <td>-0.509973</td>\n",
       "      <td>0.931985</td>\n",
       "    </tr>\n",
       "    <tr>\n",
       "      <th>1</th>\n",
       "      <td>-0.219984</td>\n",
       "      <td>-1.096489</td>\n",
       "      <td>-0.436424</td>\n",
       "      <td>-1.224576</td>\n",
       "    </tr>\n",
       "    <tr>\n",
       "      <th>2</th>\n",
       "      <td>-2.450782</td>\n",
       "      <td>-0.568885</td>\n",
       "      <td>1.238313</td>\n",
       "      <td>0.683826</td>\n",
       "    </tr>\n",
       "    <tr>\n",
       "      <th>3</th>\n",
       "      <td>0.534562</td>\n",
       "      <td>2.429713</td>\n",
       "      <td>-0.418489</td>\n",
       "      <td>-2.210403</td>\n",
       "    </tr>\n",
       "    <tr>\n",
       "      <th>4</th>\n",
       "      <td>-0.398563</td>\n",
       "      <td>-0.638318</td>\n",
       "      <td>1.252199</td>\n",
       "      <td>-0.965818</td>\n",
       "    </tr>\n",
       "  </tbody>\n",
       "</table>\n",
       "</div>"
      ],
      "text/plain": [
       "          A         B         C         D\n",
       "0  1.679827 -0.129447 -0.509973  0.931985\n",
       "1 -0.219984 -1.096489 -0.436424 -1.224576\n",
       "2 -2.450782 -0.568885  1.238313  0.683826\n",
       "3  0.534562  2.429713 -0.418489 -2.210403\n",
       "4 -0.398563 -0.638318  1.252199 -0.965818"
      ]
     },
     "execution_count": 7,
     "metadata": {},
     "output_type": "execute_result"
    }
   ],
   "source": [
    "df.head()"
   ]
  },
  {
   "cell_type": "code",
   "execution_count": 8,
   "metadata": {},
   "outputs": [],
   "source": [
    "df2 = pd.DataFrame({'Category':['A','B','C'],'Values':[32,43,50]})"
   ]
  },
  {
   "cell_type": "code",
   "execution_count": 9,
   "metadata": {},
   "outputs": [
    {
     "data": {
      "text/html": [
       "<div>\n",
       "<style scoped>\n",
       "    .dataframe tbody tr th:only-of-type {\n",
       "        vertical-align: middle;\n",
       "    }\n",
       "\n",
       "    .dataframe tbody tr th {\n",
       "        vertical-align: top;\n",
       "    }\n",
       "\n",
       "    .dataframe thead th {\n",
       "        text-align: right;\n",
       "    }\n",
       "</style>\n",
       "<table border=\"1\" class=\"dataframe\">\n",
       "  <thead>\n",
       "    <tr style=\"text-align: right;\">\n",
       "      <th></th>\n",
       "      <th>Category</th>\n",
       "      <th>Values</th>\n",
       "    </tr>\n",
       "  </thead>\n",
       "  <tbody>\n",
       "    <tr>\n",
       "      <th>0</th>\n",
       "      <td>A</td>\n",
       "      <td>32</td>\n",
       "    </tr>\n",
       "    <tr>\n",
       "      <th>1</th>\n",
       "      <td>B</td>\n",
       "      <td>43</td>\n",
       "    </tr>\n",
       "    <tr>\n",
       "      <th>2</th>\n",
       "      <td>C</td>\n",
       "      <td>50</td>\n",
       "    </tr>\n",
       "  </tbody>\n",
       "</table>\n",
       "</div>"
      ],
      "text/plain": [
       "  Category  Values\n",
       "0        A      32\n",
       "1        B      43\n",
       "2        C      50"
      ]
     },
     "execution_count": 9,
     "metadata": {},
     "output_type": "execute_result"
    }
   ],
   "source": [
    "df2.head()"
   ]
  },
  {
   "cell_type": "markdown",
   "metadata": {},
   "source": [
    "## Using Cufflinks and iplot()\n",
    "\n",
    "* scatter\n",
    "* bar\n",
    "* box\n",
    "* spread\n",
    "* ratio\n",
    "* heatmap\n",
    "* surface\n",
    "* histogram\n",
    "* bubble"
   ]
  },
  {
   "cell_type": "markdown",
   "metadata": {},
   "source": [
    "## Scatter"
   ]
  },
  {
   "cell_type": "code",
   "execution_count": 10,
   "metadata": {},
   "outputs": [
    {
     "data": {
      "application/vnd.plotly.v1+json": {
       "config": {
        "linkText": "Export to plot.ly",
        "plotlyServerURL": "https://plot.ly",
        "showLink": true
       },
       "data": [
        {
         "line": {
          "color": "rgba(255, 153, 51, 1.0)",
          "dash": "solid",
          "shape": "linear",
          "width": 1.3
         },
         "marker": {
          "size": 10,
          "symbol": "circle"
         },
         "mode": "markers",
         "name": "B",
         "text": "",
         "type": "scatter",
         "x": [
          1.6798269758748492,
          -0.2199836590415361,
          -2.4507820246760064,
          0.5345621049020333,
          -0.39856302744576677,
          -0.11261594574231408,
          0.18365368973708873,
          0.898157970332645,
          0.5753381411578375,
          -2.5763720307296083,
          1.38619832554469,
          -0.962354296236438,
          -1.101467819394483,
          -0.7987809996163434,
          -0.6933812853507427,
          0.8419418051636006,
          -1.5221391970802596,
          -0.06385761933739592,
          0.30807683903399036,
          -0.7080227475637054,
          1.4257322784721362,
          -0.6664877158684318,
          -0.8257276357775953,
          1.379311012710703,
          0.12044978700400753,
          -0.08648401244585327,
          1.2432979360283543,
          2.508360802520673,
          0.4643248708834873,
          -0.955633157694708,
          -1.535509984047946,
          -1.374791885319085,
          0.28630164904878097,
          0.7342244324101905,
          -0.02823128516313799,
          -0.7341739046874015,
          0.39230715140972666,
          0.8062188113949558,
          0.30642943847769355,
          -1.5844204083389668,
          -2.2168568921759118,
          0.818329086945323,
          -0.5429278392392303,
          -0.7677746861982568,
          0.4741597360051739,
          -0.7475180141955834,
          0.0663887639237793,
          0.1104087523560313,
          -0.487974454740564,
          -0.6582049749501504,
          0.7694795936392425,
          0.44001560003027074,
          -0.17121162838917453,
          1.3832908461628157,
          -0.19406089191467876,
          2.168061754494002,
          0.3351737818497473,
          2.1010768804402264,
          -0.7756198079418396,
          1.0972186157731403,
          -0.04018321949200649,
          0.5420574778414596,
          0.2740649957684385,
          -1.5137635358552375,
          0.6650360912190366,
          0.4432625903392581,
          -1.6308736220096962,
          0.1301705393722849,
          0.6511756307706884,
          0.0016669869019767401,
          -0.9550881209517254,
          -1.0469423873967165,
          0.9994755176228046,
          -0.07805461310115813,
          -0.18178366842378185,
          -0.5228836054837369,
          -0.96767637213527,
          0.8164590720680147,
          0.5365041447608002,
          0.9790438576307355,
          0.3635173181176478,
          2.561887388439632,
          1.6256800837780936,
          0.6638107412352435,
          -0.0911766669481064,
          -0.32992322533456153,
          0.84982905999064,
          1.1478701245524643,
          -0.2916632912204899,
          1.394588035257012,
          -0.7133373113633735,
          -0.4431573586059646,
          -1.5292557482074411,
          -0.17871425985598202,
          0.23194177885240613,
          -1.2413517177464832,
          -1.6314464938492308,
          -1.4795279562965968,
          1.4040753247894164,
          2.501998029267809
         ],
         "y": [
          -0.12944734190583249,
          -1.0964889210243227,
          -0.5688852625502178,
          2.4297126243557483,
          -0.6383179022401426,
          1.3561041448228395,
          -1.6651231504114188,
          0.2265362648432785,
          -2.0850226632797053,
          -2.3545591407570408,
          -1.1544274265573464,
          -0.4020479105629905,
          0.7895905985975938,
          0.7635632808206712,
          1.0231198669273638,
          2.2341143641943866,
          -2.2238915188013473,
          1.5283196068066418,
          2.058348244085285,
          0.053217829034620585,
          0.22227011237441024,
          0.18489704765681375,
          0.12486905080928802,
          0.969842991236598,
          -1.0482429553408665,
          0.8698847804194278,
          0.44588677004507565,
          -0.48751361405153193,
          0.33871488249048853,
          0.08589547691066018,
          1.520945017949968,
          0.4569931771003894,
          1.2944302524269116,
          1.6595127234593101,
          0.2710476742444291,
          -1.0021626352598372,
          0.8333820174820911,
          2.0198279770917407,
          -0.5579077878955658,
          -1.3790125878837953,
          1.5504112462608328,
          0.7258539885499488,
          0.16185050291894446,
          0.2924235347750846,
          -0.11910266309169193,
          -0.615398941759039,
          -0.530541022662267,
          0.7296369995652676,
          -1.4240486031951645,
          0.11073633883215957,
          0.6660226906250679,
          1.906341998994936,
          -0.809995774784047,
          -0.30889295305373726,
          1.1285525514247758,
          0.34010724747164967,
          1.1523194218879722,
          1.1500189899063549,
          -0.5921815874122709,
          1.6377477244644454,
          -0.696212406644362,
          -0.9587823452227174,
          0.2234331442497379,
          1.2311048031470695,
          -1.3913622289532295,
          -1.2456227014348427,
          0.07377413858952699,
          0.028619694828842464,
          0.21859811019916658,
          0.30173022612751677,
          -0.33698284311818816,
          0.6826533256019267,
          0.42527896103784163,
          -0.197894256639745,
          -0.5478886833710794,
          0.6394656680012822,
          -0.6477899051158909,
          0.26517299635865355,
          -0.4756976453911347,
          0.043295979729102166,
          0.0551056386251421,
          -0.02355682898881277,
          -1.6708649508149047,
          -0.5283349647398393,
          1.253322423115921,
          0.5323566961329269,
          -0.09719960500654366,
          -1.4370784482181538,
          -0.4171279131882182,
          -0.004360096322667945,
          1.1708193047502593,
          0.565476788609084,
          -0.9097673723544455,
          0.730880385355846,
          -0.6277790455857233,
          -0.43289643685794166,
          -0.1717910597522223,
          -0.7009702749426628,
          -0.5187570470781957,
          -0.054924326521840865
         ]
        }
       ],
       "layout": {
        "autosize": true,
        "legend": {
         "bgcolor": "#F5F6F9",
         "font": {
          "color": "#4D5663"
         }
        },
        "paper_bgcolor": "#F5F6F9",
        "plot_bgcolor": "#F5F6F9",
        "template": {
         "data": {
          "bar": [
           {
            "error_x": {
             "color": "#2a3f5f"
            },
            "error_y": {
             "color": "#2a3f5f"
            },
            "marker": {
             "line": {
              "color": "#E5ECF6",
              "width": 0.5
             }
            },
            "type": "bar"
           }
          ],
          "barpolar": [
           {
            "marker": {
             "line": {
              "color": "#E5ECF6",
              "width": 0.5
             }
            },
            "type": "barpolar"
           }
          ],
          "carpet": [
           {
            "aaxis": {
             "endlinecolor": "#2a3f5f",
             "gridcolor": "white",
             "linecolor": "white",
             "minorgridcolor": "white",
             "startlinecolor": "#2a3f5f"
            },
            "baxis": {
             "endlinecolor": "#2a3f5f",
             "gridcolor": "white",
             "linecolor": "white",
             "minorgridcolor": "white",
             "startlinecolor": "#2a3f5f"
            },
            "type": "carpet"
           }
          ],
          "choropleth": [
           {
            "colorbar": {
             "outlinewidth": 0,
             "ticks": ""
            },
            "type": "choropleth"
           }
          ],
          "contour": [
           {
            "colorbar": {
             "outlinewidth": 0,
             "ticks": ""
            },
            "colorscale": [
             [
              0,
              "#0d0887"
             ],
             [
              0.1111111111111111,
              "#46039f"
             ],
             [
              0.2222222222222222,
              "#7201a8"
             ],
             [
              0.3333333333333333,
              "#9c179e"
             ],
             [
              0.4444444444444444,
              "#bd3786"
             ],
             [
              0.5555555555555556,
              "#d8576b"
             ],
             [
              0.6666666666666666,
              "#ed7953"
             ],
             [
              0.7777777777777778,
              "#fb9f3a"
             ],
             [
              0.8888888888888888,
              "#fdca26"
             ],
             [
              1,
              "#f0f921"
             ]
            ],
            "type": "contour"
           }
          ],
          "contourcarpet": [
           {
            "colorbar": {
             "outlinewidth": 0,
             "ticks": ""
            },
            "type": "contourcarpet"
           }
          ],
          "heatmap": [
           {
            "colorbar": {
             "outlinewidth": 0,
             "ticks": ""
            },
            "colorscale": [
             [
              0,
              "#0d0887"
             ],
             [
              0.1111111111111111,
              "#46039f"
             ],
             [
              0.2222222222222222,
              "#7201a8"
             ],
             [
              0.3333333333333333,
              "#9c179e"
             ],
             [
              0.4444444444444444,
              "#bd3786"
             ],
             [
              0.5555555555555556,
              "#d8576b"
             ],
             [
              0.6666666666666666,
              "#ed7953"
             ],
             [
              0.7777777777777778,
              "#fb9f3a"
             ],
             [
              0.8888888888888888,
              "#fdca26"
             ],
             [
              1,
              "#f0f921"
             ]
            ],
            "type": "heatmap"
           }
          ],
          "heatmapgl": [
           {
            "colorbar": {
             "outlinewidth": 0,
             "ticks": ""
            },
            "colorscale": [
             [
              0,
              "#0d0887"
             ],
             [
              0.1111111111111111,
              "#46039f"
             ],
             [
              0.2222222222222222,
              "#7201a8"
             ],
             [
              0.3333333333333333,
              "#9c179e"
             ],
             [
              0.4444444444444444,
              "#bd3786"
             ],
             [
              0.5555555555555556,
              "#d8576b"
             ],
             [
              0.6666666666666666,
              "#ed7953"
             ],
             [
              0.7777777777777778,
              "#fb9f3a"
             ],
             [
              0.8888888888888888,
              "#fdca26"
             ],
             [
              1,
              "#f0f921"
             ]
            ],
            "type": "heatmapgl"
           }
          ],
          "histogram": [
           {
            "marker": {
             "colorbar": {
              "outlinewidth": 0,
              "ticks": ""
             }
            },
            "type": "histogram"
           }
          ],
          "histogram2d": [
           {
            "colorbar": {
             "outlinewidth": 0,
             "ticks": ""
            },
            "colorscale": [
             [
              0,
              "#0d0887"
             ],
             [
              0.1111111111111111,
              "#46039f"
             ],
             [
              0.2222222222222222,
              "#7201a8"
             ],
             [
              0.3333333333333333,
              "#9c179e"
             ],
             [
              0.4444444444444444,
              "#bd3786"
             ],
             [
              0.5555555555555556,
              "#d8576b"
             ],
             [
              0.6666666666666666,
              "#ed7953"
             ],
             [
              0.7777777777777778,
              "#fb9f3a"
             ],
             [
              0.8888888888888888,
              "#fdca26"
             ],
             [
              1,
              "#f0f921"
             ]
            ],
            "type": "histogram2d"
           }
          ],
          "histogram2dcontour": [
           {
            "colorbar": {
             "outlinewidth": 0,
             "ticks": ""
            },
            "colorscale": [
             [
              0,
              "#0d0887"
             ],
             [
              0.1111111111111111,
              "#46039f"
             ],
             [
              0.2222222222222222,
              "#7201a8"
             ],
             [
              0.3333333333333333,
              "#9c179e"
             ],
             [
              0.4444444444444444,
              "#bd3786"
             ],
             [
              0.5555555555555556,
              "#d8576b"
             ],
             [
              0.6666666666666666,
              "#ed7953"
             ],
             [
              0.7777777777777778,
              "#fb9f3a"
             ],
             [
              0.8888888888888888,
              "#fdca26"
             ],
             [
              1,
              "#f0f921"
             ]
            ],
            "type": "histogram2dcontour"
           }
          ],
          "mesh3d": [
           {
            "colorbar": {
             "outlinewidth": 0,
             "ticks": ""
            },
            "type": "mesh3d"
           }
          ],
          "parcoords": [
           {
            "line": {
             "colorbar": {
              "outlinewidth": 0,
              "ticks": ""
             }
            },
            "type": "parcoords"
           }
          ],
          "pie": [
           {
            "automargin": true,
            "type": "pie"
           }
          ],
          "scatter": [
           {
            "marker": {
             "colorbar": {
              "outlinewidth": 0,
              "ticks": ""
             }
            },
            "type": "scatter"
           }
          ],
          "scatter3d": [
           {
            "line": {
             "colorbar": {
              "outlinewidth": 0,
              "ticks": ""
             }
            },
            "marker": {
             "colorbar": {
              "outlinewidth": 0,
              "ticks": ""
             }
            },
            "type": "scatter3d"
           }
          ],
          "scattercarpet": [
           {
            "marker": {
             "colorbar": {
              "outlinewidth": 0,
              "ticks": ""
             }
            },
            "type": "scattercarpet"
           }
          ],
          "scattergeo": [
           {
            "marker": {
             "colorbar": {
              "outlinewidth": 0,
              "ticks": ""
             }
            },
            "type": "scattergeo"
           }
          ],
          "scattergl": [
           {
            "marker": {
             "colorbar": {
              "outlinewidth": 0,
              "ticks": ""
             }
            },
            "type": "scattergl"
           }
          ],
          "scattermapbox": [
           {
            "marker": {
             "colorbar": {
              "outlinewidth": 0,
              "ticks": ""
             }
            },
            "type": "scattermapbox"
           }
          ],
          "scatterpolar": [
           {
            "marker": {
             "colorbar": {
              "outlinewidth": 0,
              "ticks": ""
             }
            },
            "type": "scatterpolar"
           }
          ],
          "scatterpolargl": [
           {
            "marker": {
             "colorbar": {
              "outlinewidth": 0,
              "ticks": ""
             }
            },
            "type": "scatterpolargl"
           }
          ],
          "scatterternary": [
           {
            "marker": {
             "colorbar": {
              "outlinewidth": 0,
              "ticks": ""
             }
            },
            "type": "scatterternary"
           }
          ],
          "surface": [
           {
            "colorbar": {
             "outlinewidth": 0,
             "ticks": ""
            },
            "colorscale": [
             [
              0,
              "#0d0887"
             ],
             [
              0.1111111111111111,
              "#46039f"
             ],
             [
              0.2222222222222222,
              "#7201a8"
             ],
             [
              0.3333333333333333,
              "#9c179e"
             ],
             [
              0.4444444444444444,
              "#bd3786"
             ],
             [
              0.5555555555555556,
              "#d8576b"
             ],
             [
              0.6666666666666666,
              "#ed7953"
             ],
             [
              0.7777777777777778,
              "#fb9f3a"
             ],
             [
              0.8888888888888888,
              "#fdca26"
             ],
             [
              1,
              "#f0f921"
             ]
            ],
            "type": "surface"
           }
          ],
          "table": [
           {
            "cells": {
             "fill": {
              "color": "#EBF0F8"
             },
             "line": {
              "color": "white"
             }
            },
            "header": {
             "fill": {
              "color": "#C8D4E3"
             },
             "line": {
              "color": "white"
             }
            },
            "type": "table"
           }
          ]
         },
         "layout": {
          "annotationdefaults": {
           "arrowcolor": "#2a3f5f",
           "arrowhead": 0,
           "arrowwidth": 1
          },
          "coloraxis": {
           "colorbar": {
            "outlinewidth": 0,
            "ticks": ""
           }
          },
          "colorscale": {
           "diverging": [
            [
             0,
             "#8e0152"
            ],
            [
             0.1,
             "#c51b7d"
            ],
            [
             0.2,
             "#de77ae"
            ],
            [
             0.3,
             "#f1b6da"
            ],
            [
             0.4,
             "#fde0ef"
            ],
            [
             0.5,
             "#f7f7f7"
            ],
            [
             0.6,
             "#e6f5d0"
            ],
            [
             0.7,
             "#b8e186"
            ],
            [
             0.8,
             "#7fbc41"
            ],
            [
             0.9,
             "#4d9221"
            ],
            [
             1,
             "#276419"
            ]
           ],
           "sequential": [
            [
             0,
             "#0d0887"
            ],
            [
             0.1111111111111111,
             "#46039f"
            ],
            [
             0.2222222222222222,
             "#7201a8"
            ],
            [
             0.3333333333333333,
             "#9c179e"
            ],
            [
             0.4444444444444444,
             "#bd3786"
            ],
            [
             0.5555555555555556,
             "#d8576b"
            ],
            [
             0.6666666666666666,
             "#ed7953"
            ],
            [
             0.7777777777777778,
             "#fb9f3a"
            ],
            [
             0.8888888888888888,
             "#fdca26"
            ],
            [
             1,
             "#f0f921"
            ]
           ],
           "sequentialminus": [
            [
             0,
             "#0d0887"
            ],
            [
             0.1111111111111111,
             "#46039f"
            ],
            [
             0.2222222222222222,
             "#7201a8"
            ],
            [
             0.3333333333333333,
             "#9c179e"
            ],
            [
             0.4444444444444444,
             "#bd3786"
            ],
            [
             0.5555555555555556,
             "#d8576b"
            ],
            [
             0.6666666666666666,
             "#ed7953"
            ],
            [
             0.7777777777777778,
             "#fb9f3a"
            ],
            [
             0.8888888888888888,
             "#fdca26"
            ],
            [
             1,
             "#f0f921"
            ]
           ]
          },
          "colorway": [
           "#636efa",
           "#EF553B",
           "#00cc96",
           "#ab63fa",
           "#FFA15A",
           "#19d3f3",
           "#FF6692",
           "#B6E880",
           "#FF97FF",
           "#FECB52"
          ],
          "font": {
           "color": "#2a3f5f"
          },
          "geo": {
           "bgcolor": "white",
           "lakecolor": "white",
           "landcolor": "#E5ECF6",
           "showlakes": true,
           "showland": true,
           "subunitcolor": "white"
          },
          "hoverlabel": {
           "align": "left"
          },
          "hovermode": "closest",
          "mapbox": {
           "style": "light"
          },
          "paper_bgcolor": "white",
          "plot_bgcolor": "#E5ECF6",
          "polar": {
           "angularaxis": {
            "gridcolor": "white",
            "linecolor": "white",
            "ticks": ""
           },
           "bgcolor": "#E5ECF6",
           "radialaxis": {
            "gridcolor": "white",
            "linecolor": "white",
            "ticks": ""
           }
          },
          "scene": {
           "xaxis": {
            "backgroundcolor": "#E5ECF6",
            "gridcolor": "white",
            "gridwidth": 2,
            "linecolor": "white",
            "showbackground": true,
            "ticks": "",
            "zerolinecolor": "white"
           },
           "yaxis": {
            "backgroundcolor": "#E5ECF6",
            "gridcolor": "white",
            "gridwidth": 2,
            "linecolor": "white",
            "showbackground": true,
            "ticks": "",
            "zerolinecolor": "white"
           },
           "zaxis": {
            "backgroundcolor": "#E5ECF6",
            "gridcolor": "white",
            "gridwidth": 2,
            "linecolor": "white",
            "showbackground": true,
            "ticks": "",
            "zerolinecolor": "white"
           }
          },
          "shapedefaults": {
           "line": {
            "color": "#2a3f5f"
           }
          },
          "ternary": {
           "aaxis": {
            "gridcolor": "white",
            "linecolor": "white",
            "ticks": ""
           },
           "baxis": {
            "gridcolor": "white",
            "linecolor": "white",
            "ticks": ""
           },
           "bgcolor": "#E5ECF6",
           "caxis": {
            "gridcolor": "white",
            "linecolor": "white",
            "ticks": ""
           }
          },
          "title": {
           "x": 0.05
          },
          "xaxis": {
           "automargin": true,
           "gridcolor": "white",
           "linecolor": "white",
           "ticks": "",
           "title": {
            "standoff": 15
           },
           "zerolinecolor": "white",
           "zerolinewidth": 2
          },
          "yaxis": {
           "automargin": true,
           "gridcolor": "white",
           "linecolor": "white",
           "ticks": "",
           "title": {
            "standoff": 15
           },
           "zerolinecolor": "white",
           "zerolinewidth": 2
          }
         }
        },
        "title": {
         "font": {
          "color": "#4D5663"
         }
        },
        "xaxis": {
         "autorange": true,
         "gridcolor": "#E1E5ED",
         "range": [
          -2.8961540472939116,
          2.8816694050039353
         ],
         "showgrid": true,
         "tickfont": {
          "color": "#4D5663"
         },
         "title": {
          "font": {
           "color": "#4D5663"
          },
          "text": ""
         },
         "type": "linear",
         "zerolinecolor": "#E1E5ED"
        },
        "yaxis": {
         "autorange": true,
         "gridcolor": "#E1E5ED",
         "range": [
          -2.7644913201972905,
          2.839644803795998
         ],
         "showgrid": true,
         "tickfont": {
          "color": "#4D5663"
         },
         "title": {
          "font": {
           "color": "#4D5663"
          },
          "text": ""
         },
         "type": "linear",
         "zerolinecolor": "#E1E5ED"
        }
       }
      },
      "image/png": "[encoded data removed]",
      "text/html": [
       "<div>                            <div id=\"006f6988-c018-4d6c-8810-fb57819b3e39\" class=\"plotly-graph-div\" style=\"height:525px; width:100%;\"></div>            <script type=\"text/javascript\">                require([\"plotly\"], function(Plotly) {                    window.PLOTLYENV=window.PLOTLYENV || {};\n",
       "                    window.PLOTLYENV.BASE_URL='https://plot.ly';                                    if (document.getElementById(\"006f6988-c018-4d6c-8810-fb57819b3e39\")) {                    Plotly.newPlot(                        \"006f6988-c018-4d6c-8810-fb57819b3e39\",                        [{\"line\": {\"color\": \"rgba(255, 153, 51, 1.0)\", \"dash\": \"solid\", \"shape\": \"linear\", \"width\": 1.3}, \"marker\": {\"size\": 10, \"symbol\": \"circle\"}, \"mode\": \"markers\", \"name\": \"B\", \"text\": \"\", \"type\": \"scatter\", \"x\": [1.6798269758748492, -0.2199836590415361, -2.4507820246760064, 0.5345621049020333, -0.39856302744576677, -0.11261594574231408, 0.18365368973708873, 0.898157970332645, 0.5753381411578375, -2.5763720307296083, 1.38619832554469, -0.962354296236438, -1.101467819394483, -0.7987809996163434, -0.6933812853507427, 0.8419418051636006, -1.5221391970802596, -0.06385761933739592, 0.30807683903399036, -0.7080227475637054, 1.4257322784721362, -0.6664877158684318, -0.8257276357775953, 1.379311012710703, 0.12044978700400753, -0.08648401244585327, 1.2432979360283543, 2.508360802520673, 0.4643248708834873, -0.955633157694708, -1.535509984047946, -1.374791885319085, 0.28630164904878097, 0.7342244324101905, -0.02823128516313799, -0.7341739046874015, 0.39230715140972666, 0.8062188113949558, 0.30642943847769355, -1.5844204083389668, -2.2168568921759118, 0.818329086945323, -0.5429278392392303, -0.7677746861982568, 0.4741597360051739, -0.7475180141955834, 0.0663887639237793, 0.1104087523560313, -0.487974454740564, -0.6582049749501504, 0.7694795936392425, 0.44001560003027074, -0.17121162838917453, 1.3832908461628157, -0.19406089191467876, 2.168061754494002, 0.3351737818497473, 2.1010768804402264, -0.7756198079418396, 1.0972186157731403, -0.04018321949200649, 0.5420574778414596, 0.2740649957684385, -1.5137635358552375, 0.6650360912190366, 0.4432625903392581, -1.6308736220096962, 0.1301705393722849, 0.6511756307706884, 0.0016669869019767401, -0.9550881209517254, -1.0469423873967165, 0.9994755176228046, -0.07805461310115813, -0.18178366842378185, -0.5228836054837369, -0.96767637213527, 0.8164590720680147, 0.5365041447608002, 0.9790438576307355, 0.3635173181176478, 2.561887388439632, 1.6256800837780936, 0.6638107412352435, -0.0911766669481064, -0.32992322533456153, 0.84982905999064, 1.1478701245524643, -0.2916632912204899, 1.394588035257012, -0.7133373113633735, -0.4431573586059646, -1.5292557482074411, -0.17871425985598202, 0.23194177885240613, -1.2413517177464832, -1.6314464938492308, -1.4795279562965968, 1.4040753247894164, 2.501998029267809], \"y\": [-0.12944734190583249, -1.0964889210243227, -0.5688852625502178, 2.4297126243557483, -0.6383179022401426, 1.3561041448228395, -1.6651231504114188, 0.2265362648432785, -2.0850226632797053, -2.3545591407570408, -1.1544274265573464, -0.4020479105629905, 0.7895905985975938, 0.7635632808206712, 1.0231198669273638, 2.2341143641943866, -2.2238915188013473, 1.5283196068066418, 2.058348244085285, 0.053217829034620585, 0.22227011237441024, 0.18489704765681375, 0.12486905080928802, 0.969842991236598, -1.0482429553408665, 0.8698847804194278, 0.44588677004507565, -0.48751361405153193, 0.33871488249048853, 0.08589547691066018, 1.520945017949968, 0.4569931771003894, 1.2944302524269116, 1.6595127234593101, 0.2710476742444291, -1.0021626352598372, 0.8333820174820911, 2.0198279770917407, -0.5579077878955658, -1.3790125878837953, 1.5504112462608328, 0.7258539885499488, 0.16185050291894446, 0.2924235347750846, -0.11910266309169193, -0.615398941759039, -0.530541022662267, 0.7296369995652676, -1.4240486031951645, 0.11073633883215957, 0.6660226906250679, 1.906341998994936, -0.809995774784047, -0.30889295305373726, 1.1285525514247758, 0.34010724747164967, 1.1523194218879722, 1.1500189899063549, -0.5921815874122709, 1.6377477244644454, -0.696212406644362, -0.9587823452227174, 0.2234331442497379, 1.2311048031470695, -1.3913622289532295, -1.2456227014348427, 0.07377413858952699, 0.028619694828842464, 0.21859811019916658, 0.30173022612751677, -0.33698284311818816, 0.6826533256019267, 0.42527896103784163, -0.197894256639745, -0.5478886833710794, 0.6394656680012822, -0.6477899051158909, 0.26517299635865355, -0.4756976453911347, 0.043295979729102166, 0.0551056386251421, -0.02355682898881277, -1.6708649508149047, -0.5283349647398393, 1.253322423115921, 0.5323566961329269, -0.09719960500654366, -1.4370784482181538, -0.4171279131882182, -0.004360096322667945, 1.1708193047502593, 0.565476788609084, -0.9097673723544455, 0.730880385355846, -0.6277790455857233, -0.43289643685794166, -0.1717910597522223, -0.7009702749426628, -0.5187570470781957, -0.054924326521840865]}],                        {\"legend\": {\"bgcolor\": \"#F5F6F9\", \"font\": {\"color\": \"#4D5663\"}}, \"paper_bgcolor\": \"#F5F6F9\", \"plot_bgcolor\": \"#F5F6F9\", \"template\": {\"data\": {\"bar\": [{\"error_x\": {\"color\": \"#2a3f5f\"}, \"error_y\": {\"color\": \"#2a3f5f\"}, \"marker\": {\"line\": {\"color\": \"#E5ECF6\", \"width\": 0.5}}, \"type\": \"bar\"}], \"barpolar\": [{\"marker\": {\"line\": {\"color\": \"#E5ECF6\", \"width\": 0.5}}, \"type\": \"barpolar\"}], \"carpet\": [{\"aaxis\": {\"endlinecolor\": \"#2a3f5f\", \"gridcolor\": \"white\", \"linecolor\": \"white\", \"minorgridcolor\": \"white\", \"startlinecolor\": \"#2a3f5f\"}, \"baxis\": {\"endlinecolor\": \"#2a3f5f\", \"gridcolor\": \"white\", \"linecolor\": \"white\", \"minorgridcolor\": \"white\", \"startlinecolor\": \"#2a3f5f\"}, \"type\": \"carpet\"}], \"choropleth\": [{\"colorbar\": {\"outlinewidth\": 0, \"ticks\": \"\"}, \"type\": \"choropleth\"}], \"contour\": [{\"colorbar\": {\"outlinewidth\": 0, \"ticks\": \"\"}, \"colorscale\": [[0.0, \"#0d0887\"], [0.1111111111111111, \"#46039f\"], [0.2222222222222222, \"#7201a8\"], [0.3333333333333333, \"#9c179e\"], [0.4444444444444444, \"#bd3786\"], [0.5555555555555556, \"#d8576b\"], [0.6666666666666666, \"#ed7953\"], [0.7777777777777778, \"#fb9f3a\"], [0.8888888888888888, \"#fdca26\"], [1.0, \"#f0f921\"]], \"type\": \"contour\"}], \"contourcarpet\": [{\"colorbar\": {\"outlinewidth\": 0, \"ticks\": \"\"}, \"type\": \"contourcarpet\"}], \"heatmap\": [{\"colorbar\": {\"outlinewidth\": 0, \"ticks\": \"\"}, \"colorscale\": [[0.0, \"#0d0887\"], [0.1111111111111111, \"#46039f\"], [0.2222222222222222, \"#7201a8\"], [0.3333333333333333, \"#9c179e\"], [0.4444444444444444, \"#bd3786\"], [0.5555555555555556, \"#d8576b\"], [0.6666666666666666, \"#ed7953\"], [0.7777777777777778, \"#fb9f3a\"], [0.8888888888888888, \"#fdca26\"], [1.0, \"#f0f921\"]], \"type\": \"heatmap\"}], \"heatmapgl\": [{\"colorbar\": {\"outlinewidth\": 0, \"ticks\": \"\"}, \"colorscale\": [[0.0, \"#0d0887\"], [0.1111111111111111, \"#46039f\"], [0.2222222222222222, \"#7201a8\"], [0.3333333333333333, \"#9c179e\"], [0.4444444444444444, \"#bd3786\"], [0.5555555555555556, \"#d8576b\"], [0.6666666666666666, \"#ed7953\"], [0.7777777777777778, \"#fb9f3a\"], [0.8888888888888888, \"#fdca26\"], [1.0, \"#f0f921\"]], \"type\": \"heatmapgl\"}], \"histogram\": [{\"marker\": {\"colorbar\": {\"outlinewidth\": 0, \"ticks\": \"\"}}, \"type\": \"histogram\"}], \"histogram2d\": [{\"colorbar\": {\"outlinewidth\": 0, \"ticks\": \"\"}, \"colorscale\": [[0.0, \"#0d0887\"], [0.1111111111111111, \"#46039f\"], [0.2222222222222222, \"#7201a8\"], [0.3333333333333333, \"#9c179e\"], [0.4444444444444444, \"#bd3786\"], [0.5555555555555556, \"#d8576b\"], [0.6666666666666666, \"#ed7953\"], [0.7777777777777778, \"#fb9f3a\"], [0.8888888888888888, \"#fdca26\"], [1.0, \"#f0f921\"]], \"type\": \"histogram2d\"}], \"histogram2dcontour\": [{\"colorbar\": {\"outlinewidth\": 0, \"ticks\": \"\"}, \"colorscale\": [[0.0, \"#0d0887\"], [0.1111111111111111, \"#46039f\"], [0.2222222222222222, \"#7201a8\"], [0.3333333333333333, \"#9c179e\"], [0.4444444444444444, \"#bd3786\"], [0.5555555555555556, \"#d8576b\"], [0.6666666666666666, \"#ed7953\"], [0.7777777777777778, \"#fb9f3a\"], [0.8888888888888888, \"#fdca26\"], [1.0, \"#f0f921\"]], \"type\": \"histogram2dcontour\"}], \"mesh3d\": [{\"colorbar\": {\"outlinewidth\": 0, \"ticks\": \"\"}, \"type\": \"mesh3d\"}], \"parcoords\": [{\"line\": {\"colorbar\": {\"outlinewidth\": 0, \"ticks\": \"\"}}, \"type\": \"parcoords\"}], \"pie\": [{\"automargin\": true, \"type\": \"pie\"}], \"scatter\": [{\"marker\": {\"colorbar\": {\"outlinewidth\": 0, \"ticks\": \"\"}}, \"type\": \"scatter\"}], \"scatter3d\": [{\"line\": {\"colorbar\": {\"outlinewidth\": 0, \"ticks\": \"\"}}, \"marker\": {\"colorbar\": {\"outlinewidth\": 0, \"ticks\": \"\"}}, \"type\": \"scatter3d\"}], \"scattercarpet\": [{\"marker\": {\"colorbar\": {\"outlinewidth\": 0, \"ticks\": \"\"}}, \"type\": \"scattercarpet\"}], \"scattergeo\": [{\"marker\": {\"colorbar\": {\"outlinewidth\": 0, \"ticks\": \"\"}}, \"type\": \"scattergeo\"}], \"scattergl\": [{\"marker\": {\"colorbar\": {\"outlinewidth\": 0, \"ticks\": \"\"}}, \"type\": \"scattergl\"}], \"scattermapbox\": [{\"marker\": {\"colorbar\": {\"outlinewidth\": 0, \"ticks\": \"\"}}, \"type\": \"scattermapbox\"}], \"scatterpolar\": [{\"marker\": {\"colorbar\": {\"outlinewidth\": 0, \"ticks\": \"\"}}, \"type\": \"scatterpolar\"}], \"scatterpolargl\": [{\"marker\": {\"colorbar\": {\"outlinewidth\": 0, \"ticks\": \"\"}}, \"type\": \"scatterpolargl\"}], \"scatterternary\": [{\"marker\": {\"colorbar\": {\"outlinewidth\": 0, \"ticks\": \"\"}}, \"type\": \"scatterternary\"}], \"surface\": [{\"colorbar\": {\"outlinewidth\": 0, \"ticks\": \"\"}, \"colorscale\": [[0.0, \"#0d0887\"], [0.1111111111111111, \"#46039f\"], [0.2222222222222222, \"#7201a8\"], [0.3333333333333333, \"#9c179e\"], [0.4444444444444444, \"#bd3786\"], [0.5555555555555556, \"#d8576b\"], [0.6666666666666666, \"#ed7953\"], [0.7777777777777778, \"#fb9f3a\"], [0.8888888888888888, \"#fdca26\"], [1.0, \"#f0f921\"]], \"type\": \"surface\"}], \"table\": [{\"cells\": {\"fill\": {\"color\": \"#EBF0F8\"}, \"line\": {\"color\": \"white\"}}, \"header\": {\"fill\": {\"color\": \"#C8D4E3\"}, \"line\": {\"color\": \"white\"}}, \"type\": \"table\"}]}, \"layout\": {\"annotationdefaults\": {\"arrowcolor\": \"#2a3f5f\", \"arrowhead\": 0, \"arrowwidth\": 1}, \"coloraxis\": {\"colorbar\": {\"outlinewidth\": 0, \"ticks\": \"\"}}, \"colorscale\": {\"diverging\": [[0, \"#8e0152\"], [0.1, \"#c51b7d\"], [0.2, \"#de77ae\"], [0.3, \"#f1b6da\"], [0.4, \"#fde0ef\"], [0.5, \"#f7f7f7\"], [0.6, \"#e6f5d0\"], [0.7, \"#b8e186\"], [0.8, \"#7fbc41\"], [0.9, \"#4d9221\"], [1, \"#276419\"]], \"sequential\": [[0.0, \"#0d0887\"], [0.1111111111111111, \"#46039f\"], [0.2222222222222222, \"#7201a8\"], [0.3333333333333333, \"#9c179e\"], [0.4444444444444444, \"#bd3786\"], [0.5555555555555556, \"#d8576b\"], [0.6666666666666666, \"#ed7953\"], [0.7777777777777778, \"#fb9f3a\"], [0.8888888888888888, \"#fdca26\"], [1.0, \"#f0f921\"]], \"sequentialminus\": [[0.0, \"#0d0887\"], [0.1111111111111111, \"#46039f\"], [0.2222222222222222, \"#7201a8\"], [0.3333333333333333, \"#9c179e\"], [0.4444444444444444, \"#bd3786\"], [0.5555555555555556, \"#d8576b\"], [0.6666666666666666, \"#ed7953\"], [0.7777777777777778, \"#fb9f3a\"], [0.8888888888888888, \"#fdca26\"], [1.0, \"#f0f921\"]]}, \"colorway\": [\"#636efa\", \"#EF553B\", \"#00cc96\", \"#ab63fa\", \"#FFA15A\", \"#19d3f3\", \"#FF6692\", \"#B6E880\", \"#FF97FF\", \"#FECB52\"], \"font\": {\"color\": \"#2a3f5f\"}, \"geo\": {\"bgcolor\": \"white\", \"lakecolor\": \"white\", \"landcolor\": \"#E5ECF6\", \"showlakes\": true, \"showland\": true, \"subunitcolor\": \"white\"}, \"hoverlabel\": {\"align\": \"left\"}, \"hovermode\": \"closest\", \"mapbox\": {\"style\": \"light\"}, \"paper_bgcolor\": \"white\", \"plot_bgcolor\": \"#E5ECF6\", \"polar\": {\"angularaxis\": {\"gridcolor\": \"white\", \"linecolor\": \"white\", \"ticks\": \"\"}, \"bgcolor\": \"#E5ECF6\", \"radialaxis\": {\"gridcolor\": \"white\", \"linecolor\": \"white\", \"ticks\": \"\"}}, \"scene\": {\"xaxis\": {\"backgroundcolor\": \"#E5ECF6\", \"gridcolor\": \"white\", \"gridwidth\": 2, \"linecolor\": \"white\", \"showbackground\": true, \"ticks\": \"\", \"zerolinecolor\": \"white\"}, \"yaxis\": {\"backgroundcolor\": \"#E5ECF6\", \"gridcolor\": \"white\", \"gridwidth\": 2, \"linecolor\": \"white\", \"showbackground\": true, \"ticks\": \"\", \"zerolinecolor\": \"white\"}, \"zaxis\": {\"backgroundcolor\": \"#E5ECF6\", \"gridcolor\": \"white\", \"gridwidth\": 2, \"linecolor\": \"white\", \"showbackground\": true, \"ticks\": \"\", \"zerolinecolor\": \"white\"}}, \"shapedefaults\": {\"line\": {\"color\": \"#2a3f5f\"}}, \"ternary\": {\"aaxis\": {\"gridcolor\": \"white\", \"linecolor\": \"white\", \"ticks\": \"\"}, \"baxis\": {\"gridcolor\": \"white\", \"linecolor\": \"white\", \"ticks\": \"\"}, \"bgcolor\": \"#E5ECF6\", \"caxis\": {\"gridcolor\": \"white\", \"linecolor\": \"white\", \"ticks\": \"\"}}, \"title\": {\"x\": 0.05}, \"xaxis\": {\"automargin\": true, \"gridcolor\": \"white\", \"linecolor\": \"white\", \"ticks\": \"\", \"title\": {\"standoff\": 15}, \"zerolinecolor\": \"white\", \"zerolinewidth\": 2}, \"yaxis\": {\"automargin\": true, \"gridcolor\": \"white\", \"linecolor\": \"white\", \"ticks\": \"\", \"title\": {\"standoff\": 15}, \"zerolinecolor\": \"white\", \"zerolinewidth\": 2}}}, \"title\": {\"font\": {\"color\": \"#4D5663\"}}, \"xaxis\": {\"gridcolor\": \"#E1E5ED\", \"showgrid\": true, \"tickfont\": {\"color\": \"#4D5663\"}, \"title\": {\"font\": {\"color\": \"#4D5663\"}, \"text\": \"\"}, \"zerolinecolor\": \"#E1E5ED\"}, \"yaxis\": {\"gridcolor\": \"#E1E5ED\", \"showgrid\": true, \"tickfont\": {\"color\": \"#4D5663\"}, \"title\": {\"font\": {\"color\": \"#4D5663\"}, \"text\": \"\"}, \"zerolinecolor\": \"#E1E5ED\"}},                        {\"showLink\": true, \"linkText\": \"Export to plot.ly\", \"plotlyServerURL\": \"https://plot.ly\", \"responsive\": true}                    ).then(function(){\n",
       "                            \n",
       "var gd = document.getElementById('006f6988-c018-4d6c-8810-fb57819b3e39');\n",
       "var x = new MutationObserver(function (mutations, observer) {{\n",
       "        var display = window.getComputedStyle(gd).display;\n",
       "        if (!display || display === 'none') {{\n",
       "            console.log([gd, 'removed!']);\n",
       "            Plotly.purge(gd);\n",
       "            observer.disconnect();\n",
       "        }}\n",
       "}});\n",
       "\n",
       "// Listen for the removal of the full notebook cells\n",
       "var notebookContainer = gd.closest('#notebook-container');\n",
       "if (notebookContainer) {{\n",
       "    x.observe(notebookContainer, {childList: true});\n",
       "}}\n",
       "\n",
       "// Listen for the clearing of the current output cell\n",
       "var outputEl = gd.closest('.output');\n",
       "if (outputEl) {{\n",
       "    x.observe(outputEl, {childList: true});\n",
       "}}\n",
       "\n",
       "                        })                };                });            </script>        </div>"
      ]
     },
     "metadata": {},
     "output_type": "display_data"
    }
   ],
   "source": [
    "df.iplot(kind='scatter',x='A',y='B',mode='markers',size=10)"
   ]
  },
  {
   "cell_type": "markdown",
   "metadata": {},
   "source": [
    "## Bar Plots"
   ]
  },
  {
   "cell_type": "code",
   "execution_count": 11,
   "metadata": {},
   "outputs": [
    {
     "data": {
      "application/vnd.plotly.v1+json": {
       "config": {
        "linkText": "Export to plot.ly",
        "plotlyServerURL": "https://plot.ly",
        "showLink": true
       },
       "data": [
        {
         "marker": {
          "color": "rgba(255, 153, 51, 0.6)",
          "line": {
           "color": "rgba(255, 153, 51, 1.0)",
           "width": 1
          }
         },
         "name": "Values",
         "orientation": "v",
         "text": "",
         "type": "bar",
         "x": [
          "A",
          "B",
          "C"
         ],
         "y": [
          32,
          43,
          50
         ]
        }
       ],
       "layout": {
        "autosize": true,
        "legend": {
         "bgcolor": "#F5F6F9",
         "font": {
          "color": "#4D5663"
         }
        },
        "paper_bgcolor": "#F5F6F9",
        "plot_bgcolor": "#F5F6F9",
        "template": {
         "data": {
          "bar": [
           {
            "error_x": {
             "color": "#2a3f5f"
            },
            "error_y": {
             "color": "#2a3f5f"
            },
            "marker": {
             "line": {
              "color": "#E5ECF6",
              "width": 0.5
             }
            },
            "type": "bar"
           }
          ],
          "barpolar": [
           {
            "marker": {
             "line": {
              "color": "#E5ECF6",
              "width": 0.5
             }
            },
            "type": "barpolar"
           }
          ],
          "carpet": [
           {
            "aaxis": {
             "endlinecolor": "#2a3f5f",
             "gridcolor": "white",
             "linecolor": "white",
             "minorgridcolor": "white",
             "startlinecolor": "#2a3f5f"
            },
            "baxis": {
             "endlinecolor": "#2a3f5f",
             "gridcolor": "white",
             "linecolor": "white",
             "minorgridcolor": "white",
             "startlinecolor": "#2a3f5f"
            },
            "type": "carpet"
           }
          ],
          "choropleth": [
           {
            "colorbar": {
             "outlinewidth": 0,
             "ticks": ""
            },
            "type": "choropleth"
           }
          ],
          "contour": [
           {
            "colorbar": {
             "outlinewidth": 0,
             "ticks": ""
            },
            "colorscale": [
             [
              0,
              "#0d0887"
             ],
             [
              0.1111111111111111,
              "#46039f"
             ],
             [
              0.2222222222222222,
              "#7201a8"
             ],
             [
              0.3333333333333333,
              "#9c179e"
             ],
             [
              0.4444444444444444,
              "#bd3786"
             ],
             [
              0.5555555555555556,
              "#d8576b"
             ],
             [
              0.6666666666666666,
              "#ed7953"
             ],
             [
              0.7777777777777778,
              "#fb9f3a"
             ],
             [
              0.8888888888888888,
              "#fdca26"
             ],
             [
              1,
              "#f0f921"
             ]
            ],
            "type": "contour"
           }
          ],
          "contourcarpet": [
           {
            "colorbar": {
             "outlinewidth": 0,
             "ticks": ""
            },
            "type": "contourcarpet"
           }
          ],
          "heatmap": [
           {
            "colorbar": {
             "outlinewidth": 0,
             "ticks": ""
            },
            "colorscale": [
             [
              0,
              "#0d0887"
             ],
             [
              0.1111111111111111,
              "#46039f"
             ],
             [
              0.2222222222222222,
              "#7201a8"
             ],
             [
              0.3333333333333333,
              "#9c179e"
             ],
             [
              0.4444444444444444,
              "#bd3786"
             ],
             [
              0.5555555555555556,
              "#d8576b"
             ],
             [
              0.6666666666666666,
              "#ed7953"
             ],
             [
              0.7777777777777778,
              "#fb9f3a"
             ],
             [
              0.8888888888888888,
              "#fdca26"
             ],
             [
              1,
              "#f0f921"
             ]
            ],
            "type": "heatmap"
           }
          ],
          "heatmapgl": [
           {
            "colorbar": {
             "outlinewidth": 0,
             "ticks": ""
            },
            "colorscale": [
             [
              0,
              "#0d0887"
             ],
             [
              0.1111111111111111,
              "#46039f"
             ],
             [
              0.2222222222222222,
              "#7201a8"
             ],
             [
              0.3333333333333333,
              "#9c179e"
             ],
             [
              0.4444444444444444,
              "#bd3786"
             ],
             [
              0.5555555555555556,
              "#d8576b"
             ],
             [
              0.6666666666666666,
              "#ed7953"
             ],
             [
              0.7777777777777778,
              "#fb9f3a"
             ],
             [
              0.8888888888888888,
              "#fdca26"
             ],
             [
              1,
              "#f0f921"
             ]
            ],
            "type": "heatmapgl"
           }
          ],
          "histogram": [
           {
            "marker": {
             "colorbar": {
              "outlinewidth": 0,
              "ticks": ""
             }
            },
            "type": "histogram"
           }
          ],
          "histogram2d": [
           {
            "colorbar": {
             "outlinewidth": 0,
             "ticks": ""
            },
            "colorscale": [
             [
              0,
              "#0d0887"
             ],
             [
              0.1111111111111111,
              "#46039f"
             ],
             [
              0.2222222222222222,
              "#7201a8"
             ],
             [
              0.3333333333333333,
              "#9c179e"
             ],
             [
              0.4444444444444444,
              "#bd3786"
             ],
             [
              0.5555555555555556,
              "#d8576b"
             ],
             [
              0.6666666666666666,
              "#ed7953"
             ],
             [
              0.7777777777777778,
              "#fb9f3a"
             ],
             [
              0.8888888888888888,
              "#fdca26"
             ],
             [
              1,
              "#f0f921"
             ]
            ],
            "type": "histogram2d"
           }
          ],
          "histogram2dcontour": [
           {
            "colorbar": {
             "outlinewidth": 0,
             "ticks": ""
            },
            "colorscale": [
             [
              0,
              "#0d0887"
             ],
             [
              0.1111111111111111,
              "#46039f"
             ],
             [
              0.2222222222222222,
              "#7201a8"
             ],
             [
              0.3333333333333333,
              "#9c179e"
             ],
             [
              0.4444444444444444,
              "#bd3786"
             ],
             [
              0.5555555555555556,
              "#d8576b"
             ],
             [
              0.6666666666666666,
              "#ed7953"
             ],
             [
              0.7777777777777778,
              "#fb9f3a"
             ],
             [
              0.8888888888888888,
              "#fdca26"
             ],
             [
              1,
              "#f0f921"
             ]
            ],
            "type": "histogram2dcontour"
           }
          ],
          "mesh3d": [
           {
            "colorbar": {
             "outlinewidth": 0,
             "ticks": ""
            },
            "type": "mesh3d"
           }
          ],
          "parcoords": [
           {
            "line": {
             "colorbar": {
              "outlinewidth": 0,
              "ticks": ""
             }
            },
            "type": "parcoords"
           }
          ],
          "pie": [
           {
            "automargin": true,
            "type": "pie"
           }
          ],
          "scatter": [
           {
            "marker": {
             "colorbar": {
              "outlinewidth": 0,
              "ticks": ""
             }
            },
            "type": "scatter"
           }
          ],
          "scatter3d": [
           {
            "line": {
             "colorbar": {
              "outlinewidth": 0,
              "ticks": ""
             }
            },
            "marker": {
             "colorbar": {
              "outlinewidth": 0,
              "ticks": ""
             }
            },
            "type": "scatter3d"
           }
          ],
          "scattercarpet": [
           {
            "marker": {
             "colorbar": {
              "outlinewidth": 0,
              "ticks": ""
             }
            },
            "type": "scattercarpet"
           }
          ],
          "scattergeo": [
           {
            "marker": {
             "colorbar": {
              "outlinewidth": 0,
              "ticks": ""
             }
            },
            "type": "scattergeo"
           }
          ],
          "scattergl": [
           {
            "marker": {
             "colorbar": {
              "outlinewidth": 0,
              "ticks": ""
             }
            },
            "type": "scattergl"
           }
          ],
          "scattermapbox": [
           {
            "marker": {
             "colorbar": {
              "outlinewidth": 0,
              "ticks": ""
             }
            },
            "type": "scattermapbox"
           }
          ],
          "scatterpolar": [
           {
            "marker": {
             "colorbar": {
              "outlinewidth": 0,
              "ticks": ""
             }
            },
            "type": "scatterpolar"
           }
          ],
          "scatterpolargl": [
           {
            "marker": {
             "colorbar": {
              "outlinewidth": 0,
              "ticks": ""
             }
            },
            "type": "scatterpolargl"
           }
          ],
          "scatterternary": [
           {
            "marker": {
             "colorbar": {
              "outlinewidth": 0,
              "ticks": ""
             }
            },
            "type": "scatterternary"
           }
          ],
          "surface": [
           {
            "colorbar": {
             "outlinewidth": 0,
             "ticks": ""
            },
            "colorscale": [
             [
              0,
              "#0d0887"
             ],
             [
              0.1111111111111111,
              "#46039f"
             ],
             [
              0.2222222222222222,
              "#7201a8"
             ],
             [
              0.3333333333333333,
              "#9c179e"
             ],
             [
              0.4444444444444444,
              "#bd3786"
             ],
             [
              0.5555555555555556,
              "#d8576b"
             ],
             [
              0.6666666666666666,
              "#ed7953"
             ],
             [
              0.7777777777777778,
              "#fb9f3a"
             ],
             [
              0.8888888888888888,
              "#fdca26"
             ],
             [
              1,
              "#f0f921"
             ]
            ],
            "type": "surface"
           }
          ],
          "table": [
           {
            "cells": {
             "fill": {
              "color": "#EBF0F8"
             },
             "line": {
              "color": "white"
             }
            },
            "header": {
             "fill": {
              "color": "#C8D4E3"
             },
             "line": {
              "color": "white"
             }
            },
            "type": "table"
           }
          ]
         },
         "layout": {
          "annotationdefaults": {
           "arrowcolor": "#2a3f5f",
           "arrowhead": 0,
           "arrowwidth": 1
          },
          "coloraxis": {
           "colorbar": {
            "outlinewidth": 0,
            "ticks": ""
           }
          },
          "colorscale": {
           "diverging": [
            [
             0,
             "#8e0152"
            ],
            [
             0.1,
             "#c51b7d"
            ],
            [
             0.2,
             "#de77ae"
            ],
            [
             0.3,
             "#f1b6da"
            ],
            [
             0.4,
             "#fde0ef"
            ],
            [
             0.5,
             "#f7f7f7"
            ],
            [
             0.6,
             "#e6f5d0"
            ],
            [
             0.7,
             "#b8e186"
            ],
            [
             0.8,
             "#7fbc41"
            ],
            [
             0.9,
             "#4d9221"
            ],
            [
             1,
             "#276419"
            ]
           ],
           "sequential": [
            [
             0,
             "#0d0887"
            ],
            [
             0.1111111111111111,
             "#46039f"
            ],
            [
             0.2222222222222222,
             "#7201a8"
            ],
            [
             0.3333333333333333,
             "#9c179e"
            ],
            [
             0.4444444444444444,
             "#bd3786"
            ],
            [
             0.5555555555555556,
             "#d8576b"
            ],
            [
             0.6666666666666666,
             "#ed7953"
            ],
            [
             0.7777777777777778,
             "#fb9f3a"
            ],
            [
             0.8888888888888888,
             "#fdca26"
            ],
            [
             1,
             "#f0f921"
            ]
           ],
           "sequentialminus": [
            [
             0,
             "#0d0887"
            ],
            [
             0.1111111111111111,
             "#46039f"
            ],
            [
             0.2222222222222222,
             "#7201a8"
            ],
            [
             0.3333333333333333,
             "#9c179e"
            ],
            [
             0.4444444444444444,
             "#bd3786"
            ],
            [
             0.5555555555555556,
             "#d8576b"
            ],
            [
             0.6666666666666666,
             "#ed7953"
            ],
            [
             0.7777777777777778,
             "#fb9f3a"
            ],
            [
             0.8888888888888888,
             "#fdca26"
            ],
            [
             1,
             "#f0f921"
            ]
           ]
          },
          "colorway": [
           "#636efa",
           "#EF553B",
           "#00cc96",
           "#ab63fa",
           "#FFA15A",
           "#19d3f3",
           "#FF6692",
           "#B6E880",
           "#FF97FF",
           "#FECB52"
          ],
          "font": {
           "color": "#2a3f5f"
          },
          "geo": {
           "bgcolor": "white",
           "lakecolor": "white",
           "landcolor": "#E5ECF6",
           "showlakes": true,
           "showland": true,
           "subunitcolor": "white"
          },
          "hoverlabel": {
           "align": "left"
          },
          "hovermode": "closest",
          "mapbox": {
           "style": "light"
          },
          "paper_bgcolor": "white",
          "plot_bgcolor": "#E5ECF6",
          "polar": {
           "angularaxis": {
            "gridcolor": "white",
            "linecolor": "white",
            "ticks": ""
           },
           "bgcolor": "#E5ECF6",
           "radialaxis": {
            "gridcolor": "white",
            "linecolor": "white",
            "ticks": ""
           }
          },
          "scene": {
           "xaxis": {
            "backgroundcolor": "#E5ECF6",
            "gridcolor": "white",
            "gridwidth": 2,
            "linecolor": "white",
            "showbackground": true,
            "ticks": "",
            "zerolinecolor": "white"
           },
           "yaxis": {
            "backgroundcolor": "#E5ECF6",
            "gridcolor": "white",
            "gridwidth": 2,
            "linecolor": "white",
            "showbackground": true,
            "ticks": "",
            "zerolinecolor": "white"
           },
           "zaxis": {
            "backgroundcolor": "#E5ECF6",
            "gridcolor": "white",
            "gridwidth": 2,
            "linecolor": "white",
            "showbackground": true,
            "ticks": "",
            "zerolinecolor": "white"
           }
          },
          "shapedefaults": {
           "line": {
            "color": "#2a3f5f"
           }
          },
          "ternary": {
           "aaxis": {
            "gridcolor": "white",
            "linecolor": "white",
            "ticks": ""
           },
           "baxis": {
            "gridcolor": "white",
            "linecolor": "white",
            "ticks": ""
           },
           "bgcolor": "#E5ECF6",
           "caxis": {
            "gridcolor": "white",
            "linecolor": "white",
            "ticks": ""
           }
          },
          "title": {
           "x": 0.05
          },
          "xaxis": {
           "automargin": true,
           "gridcolor": "white",
           "linecolor": "white",
           "ticks": "",
           "title": {
            "standoff": 15
           },
           "zerolinecolor": "white",
           "zerolinewidth": 2
          },
          "yaxis": {
           "automargin": true,
           "gridcolor": "white",
           "linecolor": "white",
           "ticks": "",
           "title": {
            "standoff": 15
           },
           "zerolinecolor": "white",
           "zerolinewidth": 2
          }
         }
        },
        "title": {
         "font": {
          "color": "#4D5663"
         }
        },
        "xaxis": {
         "autorange": true,
         "gridcolor": "#E1E5ED",
         "range": [
          -0.5,
          2.5
         ],
         "showgrid": true,
         "tickfont": {
          "color": "#4D5663"
         },
         "title": {
          "font": {
           "color": "#4D5663"
          },
          "text": ""
         },
         "type": "category",
         "zerolinecolor": "#E1E5ED"
        },
        "yaxis": {
         "autorange": true,
         "gridcolor": "#E1E5ED",
         "range": [
          0,
          52.63157894736842
         ],
         "showgrid": true,
         "tickfont": {
          "color": "#4D5663"
         },
         "title": {
          "font": {
           "color": "#4D5663"
          },
          "text": ""
         },
         "type": "linear",
         "zerolinecolor": "#E1E5ED"
        }
       }
      },
      "image/png": "[encoded data removed]",
      "text/html": [
       "<div>                            <div id=\"3ceb7f3e-563a-4fb2-af7e-d1fb3493e09e\" class=\"plotly-graph-div\" style=\"height:525px; width:100%;\"></div>            <script type=\"text/javascript\">                require([\"plotly\"], function(Plotly) {                    window.PLOTLYENV=window.PLOTLYENV || {};\n",
       "                    window.PLOTLYENV.BASE_URL='https://plot.ly';                                    if (document.getElementById(\"3ceb7f3e-563a-4fb2-af7e-d1fb3493e09e\")) {                    Plotly.newPlot(                        \"3ceb7f3e-563a-4fb2-af7e-d1fb3493e09e\",                        [{\"marker\": {\"color\": \"rgba(255, 153, 51, 0.6)\", \"line\": {\"color\": \"rgba(255, 153, 51, 1.0)\", \"width\": 1}}, \"name\": \"Values\", \"orientation\": \"v\", \"text\": \"\", \"type\": \"bar\", \"x\": [\"A\", \"B\", \"C\"], \"y\": [32, 43, 50]}],                        {\"legend\": {\"bgcolor\": \"#F5F6F9\", \"font\": {\"color\": \"#4D5663\"}}, \"paper_bgcolor\": \"#F5F6F9\", \"plot_bgcolor\": \"#F5F6F9\", \"template\": {\"data\": {\"bar\": [{\"error_x\": {\"color\": \"#2a3f5f\"}, \"error_y\": {\"color\": \"#2a3f5f\"}, \"marker\": {\"line\": {\"color\": \"#E5ECF6\", \"width\": 0.5}}, \"type\": \"bar\"}], \"barpolar\": [{\"marker\": {\"line\": {\"color\": \"#E5ECF6\", \"width\": 0.5}}, \"type\": \"barpolar\"}], \"carpet\": [{\"aaxis\": {\"endlinecolor\": \"#2a3f5f\", \"gridcolor\": \"white\", \"linecolor\": \"white\", \"minorgridcolor\": \"white\", \"startlinecolor\": \"#2a3f5f\"}, \"baxis\": {\"endlinecolor\": \"#2a3f5f\", \"gridcolor\": \"white\", \"linecolor\": \"white\", \"minorgridcolor\": \"white\", \"startlinecolor\": \"#2a3f5f\"}, \"type\": \"carpet\"}], \"choropleth\": [{\"colorbar\": {\"outlinewidth\": 0, \"ticks\": \"\"}, \"type\": \"choropleth\"}], \"contour\": [{\"colorbar\": {\"outlinewidth\": 0, \"ticks\": \"\"}, \"colorscale\": [[0.0, \"#0d0887\"], [0.1111111111111111, \"#46039f\"], [0.2222222222222222, \"#7201a8\"], [0.3333333333333333, \"#9c179e\"], [0.4444444444444444, \"#bd3786\"], [0.5555555555555556, \"#d8576b\"], [0.6666666666666666, \"#ed7953\"], [0.7777777777777778, \"#fb9f3a\"], [0.8888888888888888, \"#fdca26\"], [1.0, \"#f0f921\"]], \"type\": \"contour\"}], \"contourcarpet\": [{\"colorbar\": {\"outlinewidth\": 0, \"ticks\": \"\"}, \"type\": \"contourcarpet\"}], \"heatmap\": [{\"colorbar\": {\"outlinewidth\": 0, \"ticks\": \"\"}, \"colorscale\": [[0.0, \"#0d0887\"], [0.1111111111111111, \"#46039f\"], [0.2222222222222222, \"#7201a8\"], [0.3333333333333333, \"#9c179e\"], [0.4444444444444444, \"#bd3786\"], [0.5555555555555556, \"#d8576b\"], [0.6666666666666666, \"#ed7953\"], [0.7777777777777778, \"#fb9f3a\"], [0.8888888888888888, \"#fdca26\"], [1.0, \"#f0f921\"]], \"type\": \"heatmap\"}], \"heatmapgl\": [{\"colorbar\": {\"outlinewidth\": 0, \"ticks\": \"\"}, \"colorscale\": [[0.0, \"#0d0887\"], [0.1111111111111111, \"#46039f\"], [0.2222222222222222, \"#7201a8\"], [0.3333333333333333, \"#9c179e\"], [0.4444444444444444, \"#bd3786\"], [0.5555555555555556, \"#d8576b\"], [0.6666666666666666, \"#ed7953\"], [0.7777777777777778, \"#fb9f3a\"], [0.8888888888888888, \"#fdca26\"], [1.0, \"#f0f921\"]], \"type\": \"heatmapgl\"}], \"histogram\": [{\"marker\": {\"colorbar\": {\"outlinewidth\": 0, \"ticks\": \"\"}}, \"type\": \"histogram\"}], \"histogram2d\": [{\"colorbar\": {\"outlinewidth\": 0, \"ticks\": \"\"}, \"colorscale\": [[0.0, \"#0d0887\"], [0.1111111111111111, \"#46039f\"], [0.2222222222222222, \"#7201a8\"], [0.3333333333333333, \"#9c179e\"], [0.4444444444444444, \"#bd3786\"], [0.5555555555555556, \"#d8576b\"], [0.6666666666666666, \"#ed7953\"], [0.7777777777777778, \"#fb9f3a\"], [0.8888888888888888, \"#fdca26\"], [1.0, \"#f0f921\"]], \"type\": \"histogram2d\"}], \"histogram2dcontour\": [{\"colorbar\": {\"outlinewidth\": 0, \"ticks\": \"\"}, \"colorscale\": [[0.0, \"#0d0887\"], [0.1111111111111111, \"#46039f\"], [0.2222222222222222, \"#7201a8\"], [0.3333333333333333, \"#9c179e\"], [0.4444444444444444, \"#bd3786\"], [0.5555555555555556, \"#d8576b\"], [0.6666666666666666, \"#ed7953\"], [0.7777777777777778, \"#fb9f3a\"], [0.8888888888888888, \"#fdca26\"], [1.0, \"#f0f921\"]], \"type\": \"histogram2dcontour\"}], \"mesh3d\": [{\"colorbar\": {\"outlinewidth\": 0, \"ticks\": \"\"}, \"type\": \"mesh3d\"}], \"parcoords\": [{\"line\": {\"colorbar\": {\"outlinewidth\": 0, \"ticks\": \"\"}}, \"type\": \"parcoords\"}], \"pie\": [{\"automargin\": true, \"type\": \"pie\"}], \"scatter\": [{\"marker\": {\"colorbar\": {\"outlinewidth\": 0, \"ticks\": \"\"}}, \"type\": \"scatter\"}], \"scatter3d\": [{\"line\": {\"colorbar\": {\"outlinewidth\": 0, \"ticks\": \"\"}}, \"marker\": {\"colorbar\": {\"outlinewidth\": 0, \"ticks\": \"\"}}, \"type\": \"scatter3d\"}], \"scattercarpet\": [{\"marker\": {\"colorbar\": {\"outlinewidth\": 0, \"ticks\": \"\"}}, \"type\": \"scattercarpet\"}], \"scattergeo\": [{\"marker\": {\"colorbar\": {\"outlinewidth\": 0, \"ticks\": \"\"}}, \"type\": \"scattergeo\"}], \"scattergl\": [{\"marker\": {\"colorbar\": {\"outlinewidth\": 0, \"ticks\": \"\"}}, \"type\": \"scattergl\"}], \"scattermapbox\": [{\"marker\": {\"colorbar\": {\"outlinewidth\": 0, \"ticks\": \"\"}}, \"type\": \"scattermapbox\"}], \"scatterpolar\": [{\"marker\": {\"colorbar\": {\"outlinewidth\": 0, \"ticks\": \"\"}}, \"type\": \"scatterpolar\"}], \"scatterpolargl\": [{\"marker\": {\"colorbar\": {\"outlinewidth\": 0, \"ticks\": \"\"}}, \"type\": \"scatterpolargl\"}], \"scatterternary\": [{\"marker\": {\"colorbar\": {\"outlinewidth\": 0, \"ticks\": \"\"}}, \"type\": \"scatterternary\"}], \"surface\": [{\"colorbar\": {\"outlinewidth\": 0, \"ticks\": \"\"}, \"colorscale\": [[0.0, \"#0d0887\"], [0.1111111111111111, \"#46039f\"], [0.2222222222222222, \"#7201a8\"], [0.3333333333333333, \"#9c179e\"], [0.4444444444444444, \"#bd3786\"], [0.5555555555555556, \"#d8576b\"], [0.6666666666666666, \"#ed7953\"], [0.7777777777777778, \"#fb9f3a\"], [0.8888888888888888, \"#fdca26\"], [1.0, \"#f0f921\"]], \"type\": \"surface\"}], \"table\": [{\"cells\": {\"fill\": {\"color\": \"#EBF0F8\"}, \"line\": {\"color\": \"white\"}}, \"header\": {\"fill\": {\"color\": \"#C8D4E3\"}, \"line\": {\"color\": \"white\"}}, \"type\": \"table\"}]}, \"layout\": {\"annotationdefaults\": {\"arrowcolor\": \"#2a3f5f\", \"arrowhead\": 0, \"arrowwidth\": 1}, \"coloraxis\": {\"colorbar\": {\"outlinewidth\": 0, \"ticks\": \"\"}}, \"colorscale\": {\"diverging\": [[0, \"#8e0152\"], [0.1, \"#c51b7d\"], [0.2, \"#de77ae\"], [0.3, \"#f1b6da\"], [0.4, \"#fde0ef\"], [0.5, \"#f7f7f7\"], [0.6, \"#e6f5d0\"], [0.7, \"#b8e186\"], [0.8, \"#7fbc41\"], [0.9, \"#4d9221\"], [1, \"#276419\"]], \"sequential\": [[0.0, \"#0d0887\"], [0.1111111111111111, \"#46039f\"], [0.2222222222222222, \"#7201a8\"], [0.3333333333333333, \"#9c179e\"], [0.4444444444444444, \"#bd3786\"], [0.5555555555555556, \"#d8576b\"], [0.6666666666666666, \"#ed7953\"], [0.7777777777777778, \"#fb9f3a\"], [0.8888888888888888, \"#fdca26\"], [1.0, \"#f0f921\"]], \"sequentialminus\": [[0.0, \"#0d0887\"], [0.1111111111111111, \"#46039f\"], [0.2222222222222222, \"#7201a8\"], [0.3333333333333333, \"#9c179e\"], [0.4444444444444444, \"#bd3786\"], [0.5555555555555556, \"#d8576b\"], [0.6666666666666666, \"#ed7953\"], [0.7777777777777778, \"#fb9f3a\"], [0.8888888888888888, \"#fdca26\"], [1.0, \"#f0f921\"]]}, \"colorway\": [\"#636efa\", \"#EF553B\", \"#00cc96\", \"#ab63fa\", \"#FFA15A\", \"#19d3f3\", \"#FF6692\", \"#B6E880\", \"#FF97FF\", \"#FECB52\"], \"font\": {\"color\": \"#2a3f5f\"}, \"geo\": {\"bgcolor\": \"white\", \"lakecolor\": \"white\", \"landcolor\": \"#E5ECF6\", \"showlakes\": true, \"showland\": true, \"subunitcolor\": \"white\"}, \"hoverlabel\": {\"align\": \"left\"}, \"hovermode\": \"closest\", \"mapbox\": {\"style\": \"light\"}, \"paper_bgcolor\": \"white\", \"plot_bgcolor\": \"#E5ECF6\", \"polar\": {\"angularaxis\": {\"gridcolor\": \"white\", \"linecolor\": \"white\", \"ticks\": \"\"}, \"bgcolor\": \"#E5ECF6\", \"radialaxis\": {\"gridcolor\": \"white\", \"linecolor\": \"white\", \"ticks\": \"\"}}, \"scene\": {\"xaxis\": {\"backgroundcolor\": \"#E5ECF6\", \"gridcolor\": \"white\", \"gridwidth\": 2, \"linecolor\": \"white\", \"showbackground\": true, \"ticks\": \"\", \"zerolinecolor\": \"white\"}, \"yaxis\": {\"backgroundcolor\": \"#E5ECF6\", \"gridcolor\": \"white\", \"gridwidth\": 2, \"linecolor\": \"white\", \"showbackground\": true, \"ticks\": \"\", \"zerolinecolor\": \"white\"}, \"zaxis\": {\"backgroundcolor\": \"#E5ECF6\", \"gridcolor\": \"white\", \"gridwidth\": 2, \"linecolor\": \"white\", \"showbackground\": true, \"ticks\": \"\", \"zerolinecolor\": \"white\"}}, \"shapedefaults\": {\"line\": {\"color\": \"#2a3f5f\"}}, \"ternary\": {\"aaxis\": {\"gridcolor\": \"white\", \"linecolor\": \"white\", \"ticks\": \"\"}, \"baxis\": {\"gridcolor\": \"white\", \"linecolor\": \"white\", \"ticks\": \"\"}, \"bgcolor\": \"#E5ECF6\", \"caxis\": {\"gridcolor\": \"white\", \"linecolor\": \"white\", \"ticks\": \"\"}}, \"title\": {\"x\": 0.05}, \"xaxis\": {\"automargin\": true, \"gridcolor\": \"white\", \"linecolor\": \"white\", \"ticks\": \"\", \"title\": {\"standoff\": 15}, \"zerolinecolor\": \"white\", \"zerolinewidth\": 2}, \"yaxis\": {\"automargin\": true, \"gridcolor\": \"white\", \"linecolor\": \"white\", \"ticks\": \"\", \"title\": {\"standoff\": 15}, \"zerolinecolor\": \"white\", \"zerolinewidth\": 2}}}, \"title\": {\"font\": {\"color\": \"#4D5663\"}}, \"xaxis\": {\"gridcolor\": \"#E1E5ED\", \"showgrid\": true, \"tickfont\": {\"color\": \"#4D5663\"}, \"title\": {\"font\": {\"color\": \"#4D5663\"}, \"text\": \"\"}, \"zerolinecolor\": \"#E1E5ED\"}, \"yaxis\": {\"gridcolor\": \"#E1E5ED\", \"showgrid\": true, \"tickfont\": {\"color\": \"#4D5663\"}, \"title\": {\"font\": {\"color\": \"#4D5663\"}, \"text\": \"\"}, \"zerolinecolor\": \"#E1E5ED\"}},                        {\"showLink\": true, \"linkText\": \"Export to plot.ly\", \"plotlyServerURL\": \"https://plot.ly\", \"responsive\": true}                    ).then(function(){\n",
       "                            \n",
       "var gd = document.getElementById('3ceb7f3e-563a-4fb2-af7e-d1fb3493e09e');\n",
       "var x = new MutationObserver(function (mutations, observer) {{\n",
       "        var display = window.getComputedStyle(gd).display;\n",
       "        if (!display || display === 'none') {{\n",
       "            console.log([gd, 'removed!']);\n",
       "            Plotly.purge(gd);\n",
       "            observer.disconnect();\n",
       "        }}\n",
       "}});\n",
       "\n",
       "// Listen for the removal of the full notebook cells\n",
       "var notebookContainer = gd.closest('#notebook-container');\n",
       "if (notebookContainer) {{\n",
       "    x.observe(notebookContainer, {childList: true});\n",
       "}}\n",
       "\n",
       "// Listen for the clearing of the current output cell\n",
       "var outputEl = gd.closest('.output');\n",
       "if (outputEl) {{\n",
       "    x.observe(outputEl, {childList: true});\n",
       "}}\n",
       "\n",
       "                        })                };                });            </script>        </div>"
      ]
     },
     "metadata": {},
     "output_type": "display_data"
    }
   ],
   "source": [
    "df2.iplot(kind='bar',x='Category',y='Values')"
   ]
  },
  {
   "cell_type": "code",
   "execution_count": 12,
   "metadata": {},
   "outputs": [
    {
     "data": {
      "application/vnd.plotly.v1+json": {
       "config": {
        "linkText": "Export to plot.ly",
        "plotlyServerURL": "https://plot.ly",
        "showLink": true
       },
       "data": [
        {
         "marker": {
          "color": "rgba(255, 153, 51, 0.6)",
          "line": {
           "color": "rgba(255, 153, 51, 1.0)",
           "width": 1
          }
         },
         "name": "None",
         "orientation": "v",
         "text": "",
         "type": "bar",
         "x": [
          "A",
          "B",
          "C",
          "D"
         ],
         "y": [
          100,
          100,
          100,
          100
         ]
        }
       ],
       "layout": {
        "autosize": true,
        "legend": {
         "bgcolor": "#F5F6F9",
         "font": {
          "color": "#4D5663"
         }
        },
        "paper_bgcolor": "#F5F6F9",
        "plot_bgcolor": "#F5F6F9",
        "template": {
         "data": {
          "bar": [
           {
            "error_x": {
             "color": "#2a3f5f"
            },
            "error_y": {
             "color": "#2a3f5f"
            },
            "marker": {
             "line": {
              "color": "#E5ECF6",
              "width": 0.5
             }
            },
            "type": "bar"
           }
          ],
          "barpolar": [
           {
            "marker": {
             "line": {
              "color": "#E5ECF6",
              "width": 0.5
             }
            },
            "type": "barpolar"
           }
          ],
          "carpet": [
           {
            "aaxis": {
             "endlinecolor": "#2a3f5f",
             "gridcolor": "white",
             "linecolor": "white",
             "minorgridcolor": "white",
             "startlinecolor": "#2a3f5f"
            },
            "baxis": {
             "endlinecolor": "#2a3f5f",
             "gridcolor": "white",
             "linecolor": "white",
             "minorgridcolor": "white",
             "startlinecolor": "#2a3f5f"
            },
            "type": "carpet"
           }
          ],
          "choropleth": [
           {
            "colorbar": {
             "outlinewidth": 0,
             "ticks": ""
            },
            "type": "choropleth"
           }
          ],
          "contour": [
           {
            "colorbar": {
             "outlinewidth": 0,
             "ticks": ""
            },
            "colorscale": [
             [
              0,
              "#0d0887"
             ],
             [
              0.1111111111111111,
              "#46039f"
             ],
             [
              0.2222222222222222,
              "#7201a8"
             ],
             [
              0.3333333333333333,
              "#9c179e"
             ],
             [
              0.4444444444444444,
              "#bd3786"
             ],
             [
              0.5555555555555556,
              "#d8576b"
             ],
             [
              0.6666666666666666,
              "#ed7953"
             ],
             [
              0.7777777777777778,
              "#fb9f3a"
             ],
             [
              0.8888888888888888,
              "#fdca26"
             ],
             [
              1,
              "#f0f921"
             ]
            ],
            "type": "contour"
           }
          ],
          "contourcarpet": [
           {
            "colorbar": {
             "outlinewidth": 0,
             "ticks": ""
            },
            "type": "contourcarpet"
           }
          ],
          "heatmap": [
           {
            "colorbar": {
             "outlinewidth": 0,
             "ticks": ""
            },
            "colorscale": [
             [
              0,
              "#0d0887"
             ],
             [
              0.1111111111111111,
              "#46039f"
             ],
             [
              0.2222222222222222,
              "#7201a8"
             ],
             [
              0.3333333333333333,
              "#9c179e"
             ],
             [
              0.4444444444444444,
              "#bd3786"
             ],
             [
              0.5555555555555556,
              "#d8576b"
             ],
             [
              0.6666666666666666,
              "#ed7953"
             ],
             [
              0.7777777777777778,
              "#fb9f3a"
             ],
             [
              0.8888888888888888,
              "#fdca26"
             ],
             [
              1,
              "#f0f921"
             ]
            ],
            "type": "heatmap"
           }
          ],
          "heatmapgl": [
           {
            "colorbar": {
             "outlinewidth": 0,
             "ticks": ""
            },
            "colorscale": [
             [
              0,
              "#0d0887"
             ],
             [
              0.1111111111111111,
              "#46039f"
             ],
             [
              0.2222222222222222,
              "#7201a8"
             ],
             [
              0.3333333333333333,
              "#9c179e"
             ],
             [
              0.4444444444444444,
              "#bd3786"
             ],
             [
              0.5555555555555556,
              "#d8576b"
             ],
             [
              0.6666666666666666,
              "#ed7953"
             ],
             [
              0.7777777777777778,
              "#fb9f3a"
             ],
             [
              0.8888888888888888,
              "#fdca26"
             ],
             [
              1,
              "#f0f921"
             ]
            ],
            "type": "heatmapgl"
           }
          ],
          "histogram": [
           {
            "marker": {
             "colorbar": {
              "outlinewidth": 0,
              "ticks": ""
             }
            },
            "type": "histogram"
           }
          ],
          "histogram2d": [
           {
            "colorbar": {
             "outlinewidth": 0,
             "ticks": ""
            },
            "colorscale": [
             [
              0,
              "#0d0887"
             ],
             [
              0.1111111111111111,
              "#46039f"
             ],
             [
              0.2222222222222222,
              "#7201a8"
             ],
             [
              0.3333333333333333,
              "#9c179e"
             ],
             [
              0.4444444444444444,
              "#bd3786"
             ],
             [
              0.5555555555555556,
              "#d8576b"
             ],
             [
              0.6666666666666666,
              "#ed7953"
             ],
             [
              0.7777777777777778,
              "#fb9f3a"
             ],
             [
              0.8888888888888888,
              "#fdca26"
             ],
             [
              1,
              "#f0f921"
             ]
            ],
            "type": "histogram2d"
           }
          ],
          "histogram2dcontour": [
           {
            "colorbar": {
             "outlinewidth": 0,
             "ticks": ""
            },
            "colorscale": [
             [
              0,
              "#0d0887"
             ],
             [
              0.1111111111111111,
              "#46039f"
             ],
             [
              0.2222222222222222,
              "#7201a8"
             ],
             [
              0.3333333333333333,
              "#9c179e"
             ],
             [
              0.4444444444444444,
              "#bd3786"
             ],
             [
              0.5555555555555556,
              "#d8576b"
             ],
             [
              0.6666666666666666,
              "#ed7953"
             ],
             [
              0.7777777777777778,
              "#fb9f3a"
             ],
             [
              0.8888888888888888,
              "#fdca26"
             ],
             [
              1,
              "#f0f921"
             ]
            ],
            "type": "histogram2dcontour"
           }
          ],
          "mesh3d": [
           {
            "colorbar": {
             "outlinewidth": 0,
             "ticks": ""
            },
            "type": "mesh3d"
           }
          ],
          "parcoords": [
           {
            "line": {
             "colorbar": {
              "outlinewidth": 0,
              "ticks": ""
             }
            },
            "type": "parcoords"
           }
          ],
          "pie": [
           {
            "automargin": true,
            "type": "pie"
           }
          ],
          "scatter": [
           {
            "marker": {
             "colorbar": {
              "outlinewidth": 0,
              "ticks": ""
             }
            },
            "type": "scatter"
           }
          ],
          "scatter3d": [
           {
            "line": {
             "colorbar": {
              "outlinewidth": 0,
              "ticks": ""
             }
            },
            "marker": {
             "colorbar": {
              "outlinewidth": 0,
              "ticks": ""
             }
            },
            "type": "scatter3d"
           }
          ],
          "scattercarpet": [
           {
            "marker": {
             "colorbar": {
              "outlinewidth": 0,
              "ticks": ""
             }
            },
            "type": "scattercarpet"
           }
          ],
          "scattergeo": [
           {
            "marker": {
             "colorbar": {
              "outlinewidth": 0,
              "ticks": ""
             }
            },
            "type": "scattergeo"
           }
          ],
          "scattergl": [
           {
            "marker": {
             "colorbar": {
              "outlinewidth": 0,
              "ticks": ""
             }
            },
            "type": "scattergl"
           }
          ],
          "scattermapbox": [
           {
            "marker": {
             "colorbar": {
              "outlinewidth": 0,
              "ticks": ""
             }
            },
            "type": "scattermapbox"
           }
          ],
          "scatterpolar": [
           {
            "marker": {
             "colorbar": {
              "outlinewidth": 0,
              "ticks": ""
             }
            },
            "type": "scatterpolar"
           }
          ],
          "scatterpolargl": [
           {
            "marker": {
             "colorbar": {
              "outlinewidth": 0,
              "ticks": ""
             }
            },
            "type": "scatterpolargl"
           }
          ],
          "scatterternary": [
           {
            "marker": {
             "colorbar": {
              "outlinewidth": 0,
              "ticks": ""
             }
            },
            "type": "scatterternary"
           }
          ],
          "surface": [
           {
            "colorbar": {
             "outlinewidth": 0,
             "ticks": ""
            },
            "colorscale": [
             [
              0,
              "#0d0887"
             ],
             [
              0.1111111111111111,
              "#46039f"
             ],
             [
              0.2222222222222222,
              "#7201a8"
             ],
             [
              0.3333333333333333,
              "#9c179e"
             ],
             [
              0.4444444444444444,
              "#bd3786"
             ],
             [
              0.5555555555555556,
              "#d8576b"
             ],
             [
              0.6666666666666666,
              "#ed7953"
             ],
             [
              0.7777777777777778,
              "#fb9f3a"
             ],
             [
              0.8888888888888888,
              "#fdca26"
             ],
             [
              1,
              "#f0f921"
             ]
            ],
            "type": "surface"
           }
          ],
          "table": [
           {
            "cells": {
             "fill": {
              "color": "#EBF0F8"
             },
             "line": {
              "color": "white"
             }
            },
            "header": {
             "fill": {
              "color": "#C8D4E3"
             },
             "line": {
              "color": "white"
             }
            },
            "type": "table"
           }
          ]
         },
         "layout": {
          "annotationdefaults": {
           "arrowcolor": "#2a3f5f",
           "arrowhead": 0,
           "arrowwidth": 1
          },
          "coloraxis": {
           "colorbar": {
            "outlinewidth": 0,
            "ticks": ""
           }
          },
          "colorscale": {
           "diverging": [
            [
             0,
             "#8e0152"
            ],
            [
             0.1,
             "#c51b7d"
            ],
            [
             0.2,
             "#de77ae"
            ],
            [
             0.3,
             "#f1b6da"
            ],
            [
             0.4,
             "#fde0ef"
            ],
            [
             0.5,
             "#f7f7f7"
            ],
            [
             0.6,
             "#e6f5d0"
            ],
            [
             0.7,
             "#b8e186"
            ],
            [
             0.8,
             "#7fbc41"
            ],
            [
             0.9,
             "#4d9221"
            ],
            [
             1,
             "#276419"
            ]
           ],
           "sequential": [
            [
             0,
             "#0d0887"
            ],
            [
             0.1111111111111111,
             "#46039f"
            ],
            [
             0.2222222222222222,
             "#7201a8"
            ],
            [
             0.3333333333333333,
             "#9c179e"
            ],
            [
             0.4444444444444444,
             "#bd3786"
            ],
            [
             0.5555555555555556,
             "#d8576b"
            ],
            [
             0.6666666666666666,
             "#ed7953"
            ],
            [
             0.7777777777777778,
             "#fb9f3a"
            ],
            [
             0.8888888888888888,
             "#fdca26"
            ],
            [
             1,
             "#f0f921"
            ]
           ],
           "sequentialminus": [
            [
             0,
             "#0d0887"
            ],
            [
             0.1111111111111111,
             "#46039f"
            ],
            [
             0.2222222222222222,
             "#7201a8"
            ],
            [
             0.3333333333333333,
             "#9c179e"
            ],
            [
             0.4444444444444444,
             "#bd3786"
            ],
            [
             0.5555555555555556,
             "#d8576b"
            ],
            [
             0.6666666666666666,
             "#ed7953"
            ],
            [
             0.7777777777777778,
             "#fb9f3a"
            ],
            [
             0.8888888888888888,
             "#fdca26"
            ],
            [
             1,
             "#f0f921"
            ]
           ]
          },
          "colorway": [
           "#636efa",
           "#EF553B",
           "#00cc96",
           "#ab63fa",
           "#FFA15A",
           "#19d3f3",
           "#FF6692",
           "#B6E880",
           "#FF97FF",
           "#FECB52"
          ],
          "font": {
           "color": "#2a3f5f"
          },
          "geo": {
           "bgcolor": "white",
           "lakecolor": "white",
           "landcolor": "#E5ECF6",
           "showlakes": true,
           "showland": true,
           "subunitcolor": "white"
          },
          "hoverlabel": {
           "align": "left"
          },
          "hovermode": "closest",
          "mapbox": {
           "style": "light"
          },
          "paper_bgcolor": "white",
          "plot_bgcolor": "#E5ECF6",
          "polar": {
           "angularaxis": {
            "gridcolor": "white",
            "linecolor": "white",
            "ticks": ""
           },
           "bgcolor": "#E5ECF6",
           "radialaxis": {
            "gridcolor": "white",
            "linecolor": "white",
            "ticks": ""
           }
          },
          "scene": {
           "xaxis": {
            "backgroundcolor": "#E5ECF6",
            "gridcolor": "white",
            "gridwidth": 2,
            "linecolor": "white",
            "showbackground": true,
            "ticks": "",
            "zerolinecolor": "white"
           },
           "yaxis": {
            "backgroundcolor": "#E5ECF6",
            "gridcolor": "white",
            "gridwidth": 2,
            "linecolor": "white",
            "showbackground": true,
            "ticks": "",
            "zerolinecolor": "white"
           },
           "zaxis": {
            "backgroundcolor": "#E5ECF6",
            "gridcolor": "white",
            "gridwidth": 2,
            "linecolor": "white",
            "showbackground": true,
            "ticks": "",
            "zerolinecolor": "white"
           }
          },
          "shapedefaults": {
           "line": {
            "color": "#2a3f5f"
           }
          },
          "ternary": {
           "aaxis": {
            "gridcolor": "white",
            "linecolor": "white",
            "ticks": ""
           },
           "baxis": {
            "gridcolor": "white",
            "linecolor": "white",
            "ticks": ""
           },
           "bgcolor": "#E5ECF6",
           "caxis": {
            "gridcolor": "white",
            "linecolor": "white",
            "ticks": ""
           }
          },
          "title": {
           "x": 0.05
          },
          "xaxis": {
           "automargin": true,
           "gridcolor": "white",
           "linecolor": "white",
           "ticks": "",
           "title": {
            "standoff": 15
           },
           "zerolinecolor": "white",
           "zerolinewidth": 2
          },
          "yaxis": {
           "automargin": true,
           "gridcolor": "white",
           "linecolor": "white",
           "ticks": "",
           "title": {
            "standoff": 15
           },
           "zerolinecolor": "white",
           "zerolinewidth": 2
          }
         }
        },
        "title": {
         "font": {
          "color": "#4D5663"
         }
        },
        "xaxis": {
         "autorange": true,
         "gridcolor": "#E1E5ED",
         "range": [
          -0.5,
          3.5
         ],
         "showgrid": true,
         "tickfont": {
          "color": "#4D5663"
         },
         "title": {
          "font": {
           "color": "#4D5663"
          },
          "text": ""
         },
         "type": "category",
         "zerolinecolor": "#E1E5ED"
        },
        "yaxis": {
         "autorange": true,
         "gridcolor": "#E1E5ED",
         "range": [
          0,
          105.26315789473684
         ],
         "showgrid": true,
         "tickfont": {
          "color": "#4D5663"
         },
         "title": {
          "font": {
           "color": "#4D5663"
          },
          "text": ""
         },
         "type": "linear",
         "zerolinecolor": "#E1E5ED"
        }
       }
      },
      "image/png": "[encoded data removed]",
      "text/html": [
       "<div>                            <div id=\"3513bd20-c8f4-46ef-8711-5580162429b0\" class=\"plotly-graph-div\" style=\"height:525px; width:100%;\"></div>            <script type=\"text/javascript\">                require([\"plotly\"], function(Plotly) {                    window.PLOTLYENV=window.PLOTLYENV || {};\n",
       "                    window.PLOTLYENV.BASE_URL='https://plot.ly';                                    if (document.getElementById(\"3513bd20-c8f4-46ef-8711-5580162429b0\")) {                    Plotly.newPlot(                        \"3513bd20-c8f4-46ef-8711-5580162429b0\",                        [{\"marker\": {\"color\": \"rgba(255, 153, 51, 0.6)\", \"line\": {\"color\": \"rgba(255, 153, 51, 1.0)\", \"width\": 1}}, \"name\": \"None\", \"orientation\": \"v\", \"text\": \"\", \"type\": \"bar\", \"x\": [\"A\", \"B\", \"C\", \"D\"], \"y\": [100, 100, 100, 100]}],                        {\"legend\": {\"bgcolor\": \"#F5F6F9\", \"font\": {\"color\": \"#4D5663\"}}, \"paper_bgcolor\": \"#F5F6F9\", \"plot_bgcolor\": \"#F5F6F9\", \"template\": {\"data\": {\"bar\": [{\"error_x\": {\"color\": \"#2a3f5f\"}, \"error_y\": {\"color\": \"#2a3f5f\"}, \"marker\": {\"line\": {\"color\": \"#E5ECF6\", \"width\": 0.5}}, \"type\": \"bar\"}], \"barpolar\": [{\"marker\": {\"line\": {\"color\": \"#E5ECF6\", \"width\": 0.5}}, \"type\": \"barpolar\"}], \"carpet\": [{\"aaxis\": {\"endlinecolor\": \"#2a3f5f\", \"gridcolor\": \"white\", \"linecolor\": \"white\", \"minorgridcolor\": \"white\", \"startlinecolor\": \"#2a3f5f\"}, \"baxis\": {\"endlinecolor\": \"#2a3f5f\", \"gridcolor\": \"white\", \"linecolor\": \"white\", \"minorgridcolor\": \"white\", \"startlinecolor\": \"#2a3f5f\"}, \"type\": \"carpet\"}], \"choropleth\": [{\"colorbar\": {\"outlinewidth\": 0, \"ticks\": \"\"}, \"type\": \"choropleth\"}], \"contour\": [{\"colorbar\": {\"outlinewidth\": 0, \"ticks\": \"\"}, \"colorscale\": [[0.0, \"#0d0887\"], [0.1111111111111111, \"#46039f\"], [0.2222222222222222, \"#7201a8\"], [0.3333333333333333, \"#9c179e\"], [0.4444444444444444, \"#bd3786\"], [0.5555555555555556, \"#d8576b\"], [0.6666666666666666, \"#ed7953\"], [0.7777777777777778, \"#fb9f3a\"], [0.8888888888888888, \"#fdca26\"], [1.0, \"#f0f921\"]], \"type\": \"contour\"}], \"contourcarpet\": [{\"colorbar\": {\"outlinewidth\": 0, \"ticks\": \"\"}, \"type\": \"contourcarpet\"}], \"heatmap\": [{\"colorbar\": {\"outlinewidth\": 0, \"ticks\": \"\"}, \"colorscale\": [[0.0, \"#0d0887\"], [0.1111111111111111, \"#46039f\"], [0.2222222222222222, \"#7201a8\"], [0.3333333333333333, \"#9c179e\"], [0.4444444444444444, \"#bd3786\"], [0.5555555555555556, \"#d8576b\"], [0.6666666666666666, \"#ed7953\"], [0.7777777777777778, \"#fb9f3a\"], [0.8888888888888888, \"#fdca26\"], [1.0, \"#f0f921\"]], \"type\": \"heatmap\"}], \"heatmapgl\": [{\"colorbar\": {\"outlinewidth\": 0, \"ticks\": \"\"}, \"colorscale\": [[0.0, \"#0d0887\"], [0.1111111111111111, \"#46039f\"], [0.2222222222222222, \"#7201a8\"], [0.3333333333333333, \"#9c179e\"], [0.4444444444444444, \"#bd3786\"], [0.5555555555555556, \"#d8576b\"], [0.6666666666666666, \"#ed7953\"], [0.7777777777777778, \"#fb9f3a\"], [0.8888888888888888, \"#fdca26\"], [1.0, \"#f0f921\"]], \"type\": \"heatmapgl\"}], \"histogram\": [{\"marker\": {\"colorbar\": {\"outlinewidth\": 0, \"ticks\": \"\"}}, \"type\": \"histogram\"}], \"histogram2d\": [{\"colorbar\": {\"outlinewidth\": 0, \"ticks\": \"\"}, \"colorscale\": [[0.0, \"#0d0887\"], [0.1111111111111111, \"#46039f\"], [0.2222222222222222, \"#7201a8\"], [0.3333333333333333, \"#9c179e\"], [0.4444444444444444, \"#bd3786\"], [0.5555555555555556, \"#d8576b\"], [0.6666666666666666, \"#ed7953\"], [0.7777777777777778, \"#fb9f3a\"], [0.8888888888888888, \"#fdca26\"], [1.0, \"#f0f921\"]], \"type\": \"histogram2d\"}], \"histogram2dcontour\": [{\"colorbar\": {\"outlinewidth\": 0, \"ticks\": \"\"}, \"colorscale\": [[0.0, \"#0d0887\"], [0.1111111111111111, \"#46039f\"], [0.2222222222222222, \"#7201a8\"], [0.3333333333333333, \"#9c179e\"], [0.4444444444444444, \"#bd3786\"], [0.5555555555555556, \"#d8576b\"], [0.6666666666666666, \"#ed7953\"], [0.7777777777777778, \"#fb9f3a\"], [0.8888888888888888, \"#fdca26\"], [1.0, \"#f0f921\"]], \"type\": \"histogram2dcontour\"}], \"mesh3d\": [{\"colorbar\": {\"outlinewidth\": 0, \"ticks\": \"\"}, \"type\": \"mesh3d\"}], \"parcoords\": [{\"line\": {\"colorbar\": {\"outlinewidth\": 0, \"ticks\": \"\"}}, \"type\": \"parcoords\"}], \"pie\": [{\"automargin\": true, \"type\": \"pie\"}], \"scatter\": [{\"marker\": {\"colorbar\": {\"outlinewidth\": 0, \"ticks\": \"\"}}, \"type\": \"scatter\"}], \"scatter3d\": [{\"line\": {\"colorbar\": {\"outlinewidth\": 0, \"ticks\": \"\"}}, \"marker\": {\"colorbar\": {\"outlinewidth\": 0, \"ticks\": \"\"}}, \"type\": \"scatter3d\"}], \"scattercarpet\": [{\"marker\": {\"colorbar\": {\"outlinewidth\": 0, \"ticks\": \"\"}}, \"type\": \"scattercarpet\"}], \"scattergeo\": [{\"marker\": {\"colorbar\": {\"outlinewidth\": 0, \"ticks\": \"\"}}, \"type\": \"scattergeo\"}], \"scattergl\": [{\"marker\": {\"colorbar\": {\"outlinewidth\": 0, \"ticks\": \"\"}}, \"type\": \"scattergl\"}], \"scattermapbox\": [{\"marker\": {\"colorbar\": {\"outlinewidth\": 0, \"ticks\": \"\"}}, \"type\": \"scattermapbox\"}], \"scatterpolar\": [{\"marker\": {\"colorbar\": {\"outlinewidth\": 0, \"ticks\": \"\"}}, \"type\": \"scatterpolar\"}], \"scatterpolargl\": [{\"marker\": {\"colorbar\": {\"outlinewidth\": 0, \"ticks\": \"\"}}, \"type\": \"scatterpolargl\"}], \"scatterternary\": [{\"marker\": {\"colorbar\": {\"outlinewidth\": 0, \"ticks\": \"\"}}, \"type\": \"scatterternary\"}], \"surface\": [{\"colorbar\": {\"outlinewidth\": 0, \"ticks\": \"\"}, \"colorscale\": [[0.0, \"#0d0887\"], [0.1111111111111111, \"#46039f\"], [0.2222222222222222, \"#7201a8\"], [0.3333333333333333, \"#9c179e\"], [0.4444444444444444, \"#bd3786\"], [0.5555555555555556, \"#d8576b\"], [0.6666666666666666, \"#ed7953\"], [0.7777777777777778, \"#fb9f3a\"], [0.8888888888888888, \"#fdca26\"], [1.0, \"#f0f921\"]], \"type\": \"surface\"}], \"table\": [{\"cells\": {\"fill\": {\"color\": \"#EBF0F8\"}, \"line\": {\"color\": \"white\"}}, \"header\": {\"fill\": {\"color\": \"#C8D4E3\"}, \"line\": {\"color\": \"white\"}}, \"type\": \"table\"}]}, \"layout\": {\"annotationdefaults\": {\"arrowcolor\": \"#2a3f5f\", \"arrowhead\": 0, \"arrowwidth\": 1}, \"coloraxis\": {\"colorbar\": {\"outlinewidth\": 0, \"ticks\": \"\"}}, \"colorscale\": {\"diverging\": [[0, \"#8e0152\"], [0.1, \"#c51b7d\"], [0.2, \"#de77ae\"], [0.3, \"#f1b6da\"], [0.4, \"#fde0ef\"], [0.5, \"#f7f7f7\"], [0.6, \"#e6f5d0\"], [0.7, \"#b8e186\"], [0.8, \"#7fbc41\"], [0.9, \"#4d9221\"], [1, \"#276419\"]], \"sequential\": [[0.0, \"#0d0887\"], [0.1111111111111111, \"#46039f\"], [0.2222222222222222, \"#7201a8\"], [0.3333333333333333, \"#9c179e\"], [0.4444444444444444, \"#bd3786\"], [0.5555555555555556, \"#d8576b\"], [0.6666666666666666, \"#ed7953\"], [0.7777777777777778, \"#fb9f3a\"], [0.8888888888888888, \"#fdca26\"], [1.0, \"#f0f921\"]], \"sequentialminus\": [[0.0, \"#0d0887\"], [0.1111111111111111, \"#46039f\"], [0.2222222222222222, \"#7201a8\"], [0.3333333333333333, \"#9c179e\"], [0.4444444444444444, \"#bd3786\"], [0.5555555555555556, \"#d8576b\"], [0.6666666666666666, \"#ed7953\"], [0.7777777777777778, \"#fb9f3a\"], [0.8888888888888888, \"#fdca26\"], [1.0, \"#f0f921\"]]}, \"colorway\": [\"#636efa\", \"#EF553B\", \"#00cc96\", \"#ab63fa\", \"#FFA15A\", \"#19d3f3\", \"#FF6692\", \"#B6E880\", \"#FF97FF\", \"#FECB52\"], \"font\": {\"color\": \"#2a3f5f\"}, \"geo\": {\"bgcolor\": \"white\", \"lakecolor\": \"white\", \"landcolor\": \"#E5ECF6\", \"showlakes\": true, \"showland\": true, \"subunitcolor\": \"white\"}, \"hoverlabel\": {\"align\": \"left\"}, \"hovermode\": \"closest\", \"mapbox\": {\"style\": \"light\"}, \"paper_bgcolor\": \"white\", \"plot_bgcolor\": \"#E5ECF6\", \"polar\": {\"angularaxis\": {\"gridcolor\": \"white\", \"linecolor\": \"white\", \"ticks\": \"\"}, \"bgcolor\": \"#E5ECF6\", \"radialaxis\": {\"gridcolor\": \"white\", \"linecolor\": \"white\", \"ticks\": \"\"}}, \"scene\": {\"xaxis\": {\"backgroundcolor\": \"#E5ECF6\", \"gridcolor\": \"white\", \"gridwidth\": 2, \"linecolor\": \"white\", \"showbackground\": true, \"ticks\": \"\", \"zerolinecolor\": \"white\"}, \"yaxis\": {\"backgroundcolor\": \"#E5ECF6\", \"gridcolor\": \"white\", \"gridwidth\": 2, \"linecolor\": \"white\", \"showbackground\": true, \"ticks\": \"\", \"zerolinecolor\": \"white\"}, \"zaxis\": {\"backgroundcolor\": \"#E5ECF6\", \"gridcolor\": \"white\", \"gridwidth\": 2, \"linecolor\": \"white\", \"showbackground\": true, \"ticks\": \"\", \"zerolinecolor\": \"white\"}}, \"shapedefaults\": {\"line\": {\"color\": \"#2a3f5f\"}}, \"ternary\": {\"aaxis\": {\"gridcolor\": \"white\", \"linecolor\": \"white\", \"ticks\": \"\"}, \"baxis\": {\"gridcolor\": \"white\", \"linecolor\": \"white\", \"ticks\": \"\"}, \"bgcolor\": \"#E5ECF6\", \"caxis\": {\"gridcolor\": \"white\", \"linecolor\": \"white\", \"ticks\": \"\"}}, \"title\": {\"x\": 0.05}, \"xaxis\": {\"automargin\": true, \"gridcolor\": \"white\", \"linecolor\": \"white\", \"ticks\": \"\", \"title\": {\"standoff\": 15}, \"zerolinecolor\": \"white\", \"zerolinewidth\": 2}, \"yaxis\": {\"automargin\": true, \"gridcolor\": \"white\", \"linecolor\": \"white\", \"ticks\": \"\", \"title\": {\"standoff\": 15}, \"zerolinecolor\": \"white\", \"zerolinewidth\": 2}}}, \"title\": {\"font\": {\"color\": \"#4D5663\"}}, \"xaxis\": {\"gridcolor\": \"#E1E5ED\", \"showgrid\": true, \"tickfont\": {\"color\": \"#4D5663\"}, \"title\": {\"font\": {\"color\": \"#4D5663\"}, \"text\": \"\"}, \"zerolinecolor\": \"#E1E5ED\"}, \"yaxis\": {\"gridcolor\": \"#E1E5ED\", \"showgrid\": true, \"tickfont\": {\"color\": \"#4D5663\"}, \"title\": {\"font\": {\"color\": \"#4D5663\"}, \"text\": \"\"}, \"zerolinecolor\": \"#E1E5ED\"}},                        {\"showLink\": true, \"linkText\": \"Export to plot.ly\", \"plotlyServerURL\": \"https://plot.ly\", \"responsive\": true}                    ).then(function(){\n",
       "                            \n",
       "var gd = document.getElementById('3513bd20-c8f4-46ef-8711-5580162429b0');\n",
       "var x = new MutationObserver(function (mutations, observer) {{\n",
       "        var display = window.getComputedStyle(gd).display;\n",
       "        if (!display || display === 'none') {{\n",
       "            console.log([gd, 'removed!']);\n",
       "            Plotly.purge(gd);\n",
       "            observer.disconnect();\n",
       "        }}\n",
       "}});\n",
       "\n",
       "// Listen for the removal of the full notebook cells\n",
       "var notebookContainer = gd.closest('#notebook-container');\n",
       "if (notebookContainer) {{\n",
       "    x.observe(notebookContainer, {childList: true});\n",
       "}}\n",
       "\n",
       "// Listen for the clearing of the current output cell\n",
       "var outputEl = gd.closest('.output');\n",
       "if (outputEl) {{\n",
       "    x.observe(outputEl, {childList: true});\n",
       "}}\n",
       "\n",
       "                        })                };                });            </script>        </div>"
      ]
     },
     "metadata": {},
     "output_type": "display_data"
    }
   ],
   "source": [
    "df.count().iplot(kind='bar')"
   ]
  },
  {
   "cell_type": "markdown",
   "metadata": {},
   "source": [
    "## Boxplots"
   ]
  },
  {
   "cell_type": "code",
   "execution_count": 13,
   "metadata": {},
   "outputs": [
    {
     "data": {
      "application/vnd.plotly.v1+json": {
       "config": {
        "linkText": "Export to plot.ly",
        "plotlyServerURL": "https://plot.ly",
        "showLink": true
       },
       "data": [
        {
         "boxpoints": false,
         "line": {
          "width": 1.3
         },
         "marker": {
          "color": "rgba(255, 153, 51, 1.0)"
         },
         "name": "A",
         "orientation": "v",
         "type": "box",
         "y": [
          1.6798269758748492,
          -0.2199836590415361,
          -2.4507820246760064,
          0.5345621049020333,
          -0.39856302744576677,
          -0.11261594574231408,
          0.18365368973708873,
          0.898157970332645,
          0.5753381411578375,
          -2.5763720307296083,
          1.38619832554469,
          -0.962354296236438,
          -1.101467819394483,
          -0.7987809996163434,
          -0.6933812853507427,
          0.8419418051636006,
          -1.5221391970802596,
          -0.06385761933739592,
          0.30807683903399036,
          -0.7080227475637054,
          1.4257322784721362,
          -0.6664877158684318,
          -0.8257276357775953,
          1.379311012710703,
          0.12044978700400753,
          -0.08648401244585327,
          1.2432979360283543,
          2.508360802520673,
          0.4643248708834873,
          -0.955633157694708,
          -1.535509984047946,
          -1.374791885319085,
          0.28630164904878097,
          0.7342244324101905,
          -0.02823128516313799,
          -0.7341739046874015,
          0.39230715140972666,
          0.8062188113949558,
          0.30642943847769355,
          -1.5844204083389668,
          -2.2168568921759118,
          0.818329086945323,
          -0.5429278392392303,
          -0.7677746861982568,
          0.4741597360051739,
          -0.7475180141955834,
          0.0663887639237793,
          0.1104087523560313,
          -0.487974454740564,
          -0.6582049749501504,
          0.7694795936392425,
          0.44001560003027074,
          -0.17121162838917453,
          1.3832908461628157,
          -0.19406089191467876,
          2.168061754494002,
          0.3351737818497473,
          2.1010768804402264,
          -0.7756198079418396,
          1.0972186157731403,
          -0.04018321949200649,
          0.5420574778414596,
          0.2740649957684385,
          -1.5137635358552375,
          0.6650360912190366,
          0.4432625903392581,
          -1.6308736220096962,
          0.1301705393722849,
          0.6511756307706884,
          0.0016669869019767401,
          -0.9550881209517254,
          -1.0469423873967165,
          0.9994755176228046,
          -0.07805461310115813,
          -0.18178366842378185,
          -0.5228836054837369,
          -0.96767637213527,
          0.8164590720680147,
          0.5365041447608002,
          0.9790438576307355,
          0.3635173181176478,
          2.561887388439632,
          1.6256800837780936,
          0.6638107412352435,
          -0.0911766669481064,
          -0.32992322533456153,
          0.84982905999064,
          1.1478701245524643,
          -0.2916632912204899,
          1.394588035257012,
          -0.7133373113633735,
          -0.4431573586059646,
          -1.5292557482074411,
          -0.17871425985598202,
          0.23194177885240613,
          -1.2413517177464832,
          -1.6314464938492308,
          -1.4795279562965968,
          1.4040753247894164,
          2.501998029267809
         ]
        },
        {
         "boxpoints": false,
         "line": {
          "width": 1.3
         },
         "marker": {
          "color": "rgba(55, 128, 191, 1.0)"
         },
         "name": "B",
         "orientation": "v",
         "type": "box",
         "y": [
          -0.12944734190583249,
          -1.0964889210243227,
          -0.5688852625502178,
          2.4297126243557483,
          -0.6383179022401426,
          1.3561041448228395,
          -1.6651231504114188,
          0.2265362648432785,
          -2.0850226632797053,
          -2.3545591407570408,
          -1.1544274265573464,
          -0.4020479105629905,
          0.7895905985975938,
          0.7635632808206712,
          1.0231198669273638,
          2.2341143641943866,
          -2.2238915188013473,
          1.5283196068066418,
          2.058348244085285,
          0.053217829034620585,
          0.22227011237441024,
          0.18489704765681375,
          0.12486905080928802,
          0.969842991236598,
          -1.0482429553408665,
          0.8698847804194278,
          0.44588677004507565,
          -0.48751361405153193,
          0.33871488249048853,
          0.08589547691066018,
          1.520945017949968,
          0.4569931771003894,
          1.2944302524269116,
          1.6595127234593101,
          0.2710476742444291,
          -1.0021626352598372,
          0.8333820174820911,
          2.0198279770917407,
          -0.5579077878955658,
          -1.3790125878837953,
          1.5504112462608328,
          0.7258539885499488,
          0.16185050291894446,
          0.2924235347750846,
          -0.11910266309169193,
          -0.615398941759039,
          -0.530541022662267,
          0.7296369995652676,
          -1.4240486031951645,
          0.11073633883215957,
          0.6660226906250679,
          1.906341998994936,
          -0.809995774784047,
          -0.30889295305373726,
          1.1285525514247758,
          0.34010724747164967,
          1.1523194218879722,
          1.1500189899063549,
          -0.5921815874122709,
          1.6377477244644454,
          -0.696212406644362,
          -0.9587823452227174,
          0.2234331442497379,
          1.2311048031470695,
          -1.3913622289532295,
          -1.2456227014348427,
          0.07377413858952699,
          0.028619694828842464,
          0.21859811019916658,
          0.30173022612751677,
          -0.33698284311818816,
          0.6826533256019267,
          0.42527896103784163,
          -0.197894256639745,
          -0.5478886833710794,
          0.6394656680012822,
          -0.6477899051158909,
          0.26517299635865355,
          -0.4756976453911347,
          0.043295979729102166,
          0.0551056386251421,
          -0.02355682898881277,
          -1.6708649508149047,
          -0.5283349647398393,
          1.253322423115921,
          0.5323566961329269,
          -0.09719960500654366,
          -1.4370784482181538,
          -0.4171279131882182,
          -0.004360096322667945,
          1.1708193047502593,
          0.565476788609084,
          -0.9097673723544455,
          0.730880385355846,
          -0.6277790455857233,
          -0.43289643685794166,
          -0.1717910597522223,
          -0.7009702749426628,
          -0.5187570470781957,
          -0.054924326521840865
         ]
        },
        {
         "boxpoints": false,
         "line": {
          "width": 1.3
         },
         "marker": {
          "color": "rgba(50, 171, 96, 1.0)"
         },
         "name": "C",
         "orientation": "v",
         "type": "box",
         "y": [
          -0.5099731986355046,
          -0.43642427933751393,
          1.2383132127202314,
          -0.41848949218137804,
          1.25219856392755,
          -0.4105265001114346,
          -0.3358702557111699,
          0.25045080489994975,
          -1.9805823390414017,
          -1.1638285777871764,
          -0.5547122917159738,
          -0.8753737076367798,
          0.1472314355014791,
          0.026724542420609173,
          -0.7632235588281209,
          -1.550962904605722,
          0.7335639248806228,
          0.37242453111627105,
          -0.8320528866828826,
          0.2962438309703489,
          0.015835119112943885,
          1.6077687705489354,
          -0.24860020313929826,
          -1.5587580138856387,
          -1.6376456575107412,
          0.26321034825329354,
          -0.22659429831387562,
          0.7578110973526933,
          -1.126055685209363,
          0.4234618596074086,
          0.30162472963764675,
          1.423957195776836,
          0.6542936945496459,
          1.0278613602812927,
          -2.4187650411462758,
          -0.04563326891105432,
          -0.24865960476685411,
          -0.5059852308485329,
          0.3770980502414392,
          1.411751489602502,
          -0.42721242837591134,
          0.8475460954157629,
          0.07889715736941662,
          0.16293653224477636,
          1.061220942165275,
          -1.316259053389097,
          0.7771479271478352,
          0.30980088008053813,
          -0.9843325921373898,
          0.7311573016463724,
          0.2206222602475841,
          0.6592408622395388,
          -0.19368353883203046,
          -1.5366055614417367,
          -0.8012843086577625,
          -1.6619361448339127,
          1.2421119590705874,
          0.43798749732232295,
          -1.1262270096956037,
          -0.2489226967532583,
          0.46053416372271533,
          -0.4242671247081647,
          -1.756145329353808,
          0.3276742088092708,
          0.13556738078925068,
          -0.4117042350488072,
          -0.0047894507884336515,
          -0.9134118938984985,
          -1.137953602364018,
          0.35910597666633937,
          -0.8399314606644921,
          -1.950679242792207,
          1.3703446524530332,
          -0.0853265070919818,
          0.23555625638411057,
          0.4819264961259066,
          1.641550079158694,
          0.31742293888894324,
          -0.3667001657942677,
          -0.7399062408794307,
          0.5188221608748309,
          -0.1995758955690176,
          0.7739321711831522,
          1.0624678371971847,
          1.6557851820592229,
          -1.1758694638881777,
          0.6677518079918014,
          2.6794749174565906,
          1.5782879631440412,
          0.13755898962176302,
          -0.9489809817536655,
          -1.5500200570548794,
          0.6789681666056834,
          1.3379386757837315,
          0.7857031906296689,
          0.10092045865609581,
          1.344211784643464,
          -1.9474559246682606,
          -1.4396076115651124,
          0.08024690521150149
         ]
        },
        {
         "boxpoints": false,
         "line": {
          "width": 1.3
         },
         "marker": {
          "color": "rgba(128, 0, 128, 1.0)"
         },
         "name": "D",
         "orientation": "v",
         "type": "box",
         "y": [
          0.931984823135302,
          -1.2245757387681235,
          0.6838257554400858,
          -2.21040274577057,
          -0.9658177718986672,
          0.7648510621860802,
          -1.9318289453842272,
          0.43214846006956786,
          -0.2778734595859479,
          0.28204112949807175,
          -0.06613632513858599,
          -1.1545469137236308,
          0.30453532528965116,
          -1.5431772571078906,
          1.0705764297305391,
          -0.44809215570948163,
          0.24042544082215989,
          1.2457049889130014,
          0.7563089105970153,
          0.2636567564993423,
          0.7901852438947593,
          -0.39082447466783987,
          -1.4600733473052139,
          -1.0831460206260002,
          -0.03169434258199588,
          1.4341972115920654,
          -0.02651063330841973,
          -0.9480471562792716,
          0.031072569258799587,
          -1.2964583656331565,
          0.9423396567878187,
          -0.6148681920077593,
          1.0274078908637128,
          -1.722056772495833,
          -0.12927142246829035,
          -0.3893988022167786,
          -1.5451919590809442,
          -1.2177340745757055,
          1.87607060557863,
          0.09422254772693982,
          0.8752507247445381,
          -0.4648487863215274,
          0.4576450462957688,
          -0.09596880515818153,
          -0.8804178177374911,
          -0.03828247764281995,
          0.23547517617087876,
          -0.613712846285758,
          -0.9038458287430639,
          -1.6764620259002738,
          -0.2638757426237249,
          -0.32035531696585157,
          -1.11670290688409,
          1.0067394486393477,
          -0.9459322291048202,
          0.2833150611225091,
          1.0476466113089427,
          -0.24604721575843325,
          -0.8872398445929423,
          -0.4247841010304335,
          1.0187357476877301,
          -1.6390144011945684,
          -0.7269462742815427,
          -0.9289641405619283,
          -2.3688646750582403,
          1.23304416408373,
          -1.862896190739098,
          -1.0625575408697763,
          0.36748208727190057,
          -2.6094104075917293,
          0.39716002414019846,
          -0.886212218689742,
          0.802842674054774,
          -2.470270565490549,
          0.6948204936731898,
          -1.9828813424014085,
          0.6430149262654248,
          0.747416478284904,
          0.045459538193018977,
          -0.7707447484409992,
          -0.026572973946935915,
          -1.0656147940014389,
          -0.2084150744921162,
          0.2429968152215716,
          0.07157190583565437,
          -1.6567420369043255,
          1.6611619528344541,
          0.6848180354729289,
          1.1128036141517856,
          -0.8665138610694922,
          1.379223558159813,
          0.37079617948411525,
          0.770308888658991,
          0.052776928933610794,
          -0.3695704086373053,
          1.1502726935014809,
          0.35308807748366045,
          0.2943477837390178,
          -0.39037814278447036,
          -0.7249438020367157
         ]
        }
       ],
       "layout": {
        "autosize": true,
        "legend": {
         "bgcolor": "#F5F6F9",
         "font": {
          "color": "#4D5663"
         }
        },
        "paper_bgcolor": "#F5F6F9",
        "plot_bgcolor": "#F5F6F9",
        "template": {
         "data": {
          "bar": [
           {
            "error_x": {
             "color": "#2a3f5f"
            },
            "error_y": {
             "color": "#2a3f5f"
            },
            "marker": {
             "line": {
              "color": "#E5ECF6",
              "width": 0.5
             }
            },
            "type": "bar"
           }
          ],
          "barpolar": [
           {
            "marker": {
             "line": {
              "color": "#E5ECF6",
              "width": 0.5
             }
            },
            "type": "barpolar"
           }
          ],
          "carpet": [
           {
            "aaxis": {
             "endlinecolor": "#2a3f5f",
             "gridcolor": "white",
             "linecolor": "white",
             "minorgridcolor": "white",
             "startlinecolor": "#2a3f5f"
            },
            "baxis": {
             "endlinecolor": "#2a3f5f",
             "gridcolor": "white",
             "linecolor": "white",
             "minorgridcolor": "white",
             "startlinecolor": "#2a3f5f"
            },
            "type": "carpet"
           }
          ],
          "choropleth": [
           {
            "colorbar": {
             "outlinewidth": 0,
             "ticks": ""
            },
            "type": "choropleth"
           }
          ],
          "contour": [
           {
            "colorbar": {
             "outlinewidth": 0,
             "ticks": ""
            },
            "colorscale": [
             [
              0,
              "#0d0887"
             ],
             [
              0.1111111111111111,
              "#46039f"
             ],
             [
              0.2222222222222222,
              "#7201a8"
             ],
             [
              0.3333333333333333,
              "#9c179e"
             ],
             [
              0.4444444444444444,
              "#bd3786"
             ],
             [
              0.5555555555555556,
              "#d8576b"
             ],
             [
              0.6666666666666666,
              "#ed7953"
             ],
             [
              0.7777777777777778,
              "#fb9f3a"
             ],
             [
              0.8888888888888888,
              "#fdca26"
             ],
             [
              1,
              "#f0f921"
             ]
            ],
            "type": "contour"
           }
          ],
          "contourcarpet": [
           {
            "colorbar": {
             "outlinewidth": 0,
             "ticks": ""
            },
            "type": "contourcarpet"
           }
          ],
          "heatmap": [
           {
            "colorbar": {
             "outlinewidth": 0,
             "ticks": ""
            },
            "colorscale": [
             [
              0,
              "#0d0887"
             ],
             [
              0.1111111111111111,
              "#46039f"
             ],
             [
              0.2222222222222222,
              "#7201a8"
             ],
             [
              0.3333333333333333,
              "#9c179e"
             ],
             [
              0.4444444444444444,
              "#bd3786"
             ],
             [
              0.5555555555555556,
              "#d8576b"
             ],
             [
              0.6666666666666666,
              "#ed7953"
             ],
             [
              0.7777777777777778,
              "#fb9f3a"
             ],
             [
              0.8888888888888888,
              "#fdca26"
             ],
             [
              1,
              "#f0f921"
             ]
            ],
            "type": "heatmap"
           }
          ],
          "heatmapgl": [
           {
            "colorbar": {
             "outlinewidth": 0,
             "ticks": ""
            },
            "colorscale": [
             [
              0,
              "#0d0887"
             ],
             [
              0.1111111111111111,
              "#46039f"
             ],
             [
              0.2222222222222222,
              "#7201a8"
             ],
             [
              0.3333333333333333,
              "#9c179e"
             ],
             [
              0.4444444444444444,
              "#bd3786"
             ],
             [
              0.5555555555555556,
              "#d8576b"
             ],
             [
              0.6666666666666666,
              "#ed7953"
             ],
             [
              0.7777777777777778,
              "#fb9f3a"
             ],
             [
              0.8888888888888888,
              "#fdca26"
             ],
             [
              1,
              "#f0f921"
             ]
            ],
            "type": "heatmapgl"
           }
          ],
          "histogram": [
           {
            "marker": {
             "colorbar": {
              "outlinewidth": 0,
              "ticks": ""
             }
            },
            "type": "histogram"
           }
          ],
          "histogram2d": [
           {
            "colorbar": {
             "outlinewidth": 0,
             "ticks": ""
            },
            "colorscale": [
             [
              0,
              "#0d0887"
             ],
             [
              0.1111111111111111,
              "#46039f"
             ],
             [
              0.2222222222222222,
              "#7201a8"
             ],
             [
              0.3333333333333333,
              "#9c179e"
             ],
             [
              0.4444444444444444,
              "#bd3786"
             ],
             [
              0.5555555555555556,
              "#d8576b"
             ],
             [
              0.6666666666666666,
              "#ed7953"
             ],
             [
              0.7777777777777778,
              "#fb9f3a"
             ],
             [
              0.8888888888888888,
              "#fdca26"
             ],
             [
              1,
              "#f0f921"
             ]
            ],
            "type": "histogram2d"
           }
          ],
          "histogram2dcontour": [
           {
            "colorbar": {
             "outlinewidth": 0,
             "ticks": ""
            },
            "colorscale": [
             [
              0,
              "#0d0887"
             ],
             [
              0.1111111111111111,
              "#46039f"
             ],
             [
              0.2222222222222222,
              "#7201a8"
             ],
             [
              0.3333333333333333,
              "#9c179e"
             ],
             [
              0.4444444444444444,
              "#bd3786"
             ],
             [
              0.5555555555555556,
              "#d8576b"
             ],
             [
              0.6666666666666666,
              "#ed7953"
             ],
             [
              0.7777777777777778,
              "#fb9f3a"
             ],
             [
              0.8888888888888888,
              "#fdca26"
             ],
             [
              1,
              "#f0f921"
             ]
            ],
            "type": "histogram2dcontour"
           }
          ],
          "mesh3d": [
           {
            "colorbar": {
             "outlinewidth": 0,
             "ticks": ""
            },
            "type": "mesh3d"
           }
          ],
          "parcoords": [
           {
            "line": {
             "colorbar": {
              "outlinewidth": 0,
              "ticks": ""
             }
            },
            "type": "parcoords"
           }
          ],
          "pie": [
           {
            "automargin": true,
            "type": "pie"
           }
          ],
          "scatter": [
           {
            "marker": {
             "colorbar": {
              "outlinewidth": 0,
              "ticks": ""
             }
            },
            "type": "scatter"
           }
          ],
          "scatter3d": [
           {
            "line": {
             "colorbar": {
              "outlinewidth": 0,
              "ticks": ""
             }
            },
            "marker": {
             "colorbar": {
              "outlinewidth": 0,
              "ticks": ""
             }
            },
            "type": "scatter3d"
           }
          ],
          "scattercarpet": [
           {
            "marker": {
             "colorbar": {
              "outlinewidth": 0,
              "ticks": ""
             }
            },
            "type": "scattercarpet"
           }
          ],
          "scattergeo": [
           {
            "marker": {
             "colorbar": {
              "outlinewidth": 0,
              "ticks": ""
             }
            },
            "type": "scattergeo"
           }
          ],
          "scattergl": [
           {
            "marker": {
             "colorbar": {
              "outlinewidth": 0,
              "ticks": ""
             }
            },
            "type": "scattergl"
           }
          ],
          "scattermapbox": [
           {
            "marker": {
             "colorbar": {
              "outlinewidth": 0,
              "ticks": ""
             }
            },
            "type": "scattermapbox"
           }
          ],
          "scatterpolar": [
           {
            "marker": {
             "colorbar": {
              "outlinewidth": 0,
              "ticks": ""
             }
            },
            "type": "scatterpolar"
           }
          ],
          "scatterpolargl": [
           {
            "marker": {
             "colorbar": {
              "outlinewidth": 0,
              "ticks": ""
             }
            },
            "type": "scatterpolargl"
           }
          ],
          "scatterternary": [
           {
            "marker": {
             "colorbar": {
              "outlinewidth": 0,
              "ticks": ""
             }
            },
            "type": "scatterternary"
           }
          ],
          "surface": [
           {
            "colorbar": {
             "outlinewidth": 0,
             "ticks": ""
            },
            "colorscale": [
             [
              0,
              "#0d0887"
             ],
             [
              0.1111111111111111,
              "#46039f"
             ],
             [
              0.2222222222222222,
              "#7201a8"
             ],
             [
              0.3333333333333333,
              "#9c179e"
             ],
             [
              0.4444444444444444,
              "#bd3786"
             ],
             [
              0.5555555555555556,
              "#d8576b"
             ],
             [
              0.6666666666666666,
              "#ed7953"
             ],
             [
              0.7777777777777778,
              "#fb9f3a"
             ],
             [
              0.8888888888888888,
              "#fdca26"
             ],
             [
              1,
              "#f0f921"
             ]
            ],
            "type": "surface"
           }
          ],
          "table": [
           {
            "cells": {
             "fill": {
              "color": "#EBF0F8"
             },
             "line": {
              "color": "white"
             }
            },
            "header": {
             "fill": {
              "color": "#C8D4E3"
             },
             "line": {
              "color": "white"
             }
            },
            "type": "table"
           }
          ]
         },
         "layout": {
          "annotationdefaults": {
           "arrowcolor": "#2a3f5f",
           "arrowhead": 0,
           "arrowwidth": 1
          },
          "coloraxis": {
           "colorbar": {
            "outlinewidth": 0,
            "ticks": ""
           }
          },
          "colorscale": {
           "diverging": [
            [
             0,
             "#8e0152"
            ],
            [
             0.1,
             "#c51b7d"
            ],
            [
             0.2,
             "#de77ae"
            ],
            [
             0.3,
             "#f1b6da"
            ],
            [
             0.4,
             "#fde0ef"
            ],
            [
             0.5,
             "#f7f7f7"
            ],
            [
             0.6,
             "#e6f5d0"
            ],
            [
             0.7,
             "#b8e186"
            ],
            [
             0.8,
             "#7fbc41"
            ],
            [
             0.9,
             "#4d9221"
            ],
            [
             1,
             "#276419"
            ]
           ],
           "sequential": [
            [
             0,
             "#0d0887"
            ],
            [
             0.1111111111111111,
             "#46039f"
            ],
            [
             0.2222222222222222,
             "#7201a8"
            ],
            [
             0.3333333333333333,
             "#9c179e"
            ],
            [
             0.4444444444444444,
             "#bd3786"
            ],
            [
             0.5555555555555556,
             "#d8576b"
            ],
            [
             0.6666666666666666,
             "#ed7953"
            ],
            [
             0.7777777777777778,
             "#fb9f3a"
            ],
            [
             0.8888888888888888,
             "#fdca26"
            ],
            [
             1,
             "#f0f921"
            ]
           ],
           "sequentialminus": [
            [
             0,
             "#0d0887"
            ],
            [
             0.1111111111111111,
             "#46039f"
            ],
            [
             0.2222222222222222,
             "#7201a8"
            ],
            [
             0.3333333333333333,
             "#9c179e"
            ],
            [
             0.4444444444444444,
             "#bd3786"
            ],
            [
             0.5555555555555556,
             "#d8576b"
            ],
            [
             0.6666666666666666,
             "#ed7953"
            ],
            [
             0.7777777777777778,
             "#fb9f3a"
            ],
            [
             0.8888888888888888,
             "#fdca26"
            ],
            [
             1,
             "#f0f921"
            ]
           ]
          },
          "colorway": [
           "#636efa",
           "#EF553B",
           "#00cc96",
           "#ab63fa",
           "#FFA15A",
           "#19d3f3",
           "#FF6692",
           "#B6E880",
           "#FF97FF",
           "#FECB52"
          ],
          "font": {
           "color": "#2a3f5f"
          },
          "geo": {
           "bgcolor": "white",
           "lakecolor": "white",
           "landcolor": "#E5ECF6",
           "showlakes": true,
           "showland": true,
           "subunitcolor": "white"
          },
          "hoverlabel": {
           "align": "left"
          },
          "hovermode": "closest",
          "mapbox": {
           "style": "light"
          },
          "paper_bgcolor": "white",
          "plot_bgcolor": "#E5ECF6",
          "polar": {
           "angularaxis": {
            "gridcolor": "white",
            "linecolor": "white",
            "ticks": ""
           },
           "bgcolor": "#E5ECF6",
           "radialaxis": {
            "gridcolor": "white",
            "linecolor": "white",
            "ticks": ""
           }
          },
          "scene": {
           "xaxis": {
            "backgroundcolor": "#E5ECF6",
            "gridcolor": "white",
            "gridwidth": 2,
            "linecolor": "white",
            "showbackground": true,
            "ticks": "",
            "zerolinecolor": "white"
           },
           "yaxis": {
            "backgroundcolor": "#E5ECF6",
            "gridcolor": "white",
            "gridwidth": 2,
            "linecolor": "white",
            "showbackground": true,
            "ticks": "",
            "zerolinecolor": "white"
           },
           "zaxis": {
            "backgroundcolor": "#E5ECF6",
            "gridcolor": "white",
            "gridwidth": 2,
            "linecolor": "white",
            "showbackground": true,
            "ticks": "",
            "zerolinecolor": "white"
           }
          },
          "shapedefaults": {
           "line": {
            "color": "#2a3f5f"
           }
          },
          "ternary": {
           "aaxis": {
            "gridcolor": "white",
            "linecolor": "white",
            "ticks": ""
           },
           "baxis": {
            "gridcolor": "white",
            "linecolor": "white",
            "ticks": ""
           },
           "bgcolor": "#E5ECF6",
           "caxis": {
            "gridcolor": "white",
            "linecolor": "white",
            "ticks": ""
           }
          },
          "title": {
           "x": 0.05
          },
          "xaxis": {
           "automargin": true,
           "gridcolor": "white",
           "linecolor": "white",
           "ticks": "",
           "title": {
            "standoff": 15
           },
           "zerolinecolor": "white",
           "zerolinewidth": 2
          },
          "yaxis": {
           "automargin": true,
           "gridcolor": "white",
           "linecolor": "white",
           "ticks": "",
           "title": {
            "standoff": 15
           },
           "zerolinecolor": "white",
           "zerolinewidth": 2
          }
         }
        },
        "title": {
         "font": {
          "color": "#4D5663"
         }
        },
        "xaxis": {
         "autorange": true,
         "gridcolor": "#E1E5ED",
         "range": [
          -0.5,
          3.5
         ],
         "showgrid": true,
         "tickfont": {
          "color": "#4D5663"
         },
         "title": {
          "font": {
           "color": "#4D5663"
          },
          "text": ""
         },
         "type": "category",
         "zerolinecolor": "#E1E5ED"
        },
        "yaxis": {
         "autorange": true,
         "gridcolor": "#E1E5ED",
         "range": [
          -2.9032373700944136,
          2.973301879959275
         ],
         "showgrid": true,
         "tickfont": {
          "color": "#4D5663"
         },
         "title": {
          "font": {
           "color": "#4D5663"
          },
          "text": ""
         },
         "type": "linear",
         "zerolinecolor": "#E1E5ED"
        }
       }
      },
      "image/png": "[encoded data removed]",
      "text/html": [
       "<div>                            <div id=\"9cd7ad3c-e141-4896-827e-15b58809e3fb\" class=\"plotly-graph-div\" style=\"height:525px; width:100%;\"></div>            <script type=\"text/javascript\">                require([\"plotly\"], function(Plotly) {                    window.PLOTLYENV=window.PLOTLYENV || {};\n",
       "                    window.PLOTLYENV.BASE_URL='https://plot.ly';                                    if (document.getElementById(\"9cd7ad3c-e141-4896-827e-15b58809e3fb\")) {                    Plotly.newPlot(                        \"9cd7ad3c-e141-4896-827e-15b58809e3fb\",                        [{\"boxpoints\": false, \"line\": {\"width\": 1.3}, \"marker\": {\"color\": \"rgba(255, 153, 51, 1.0)\"}, \"name\": \"A\", \"orientation\": \"v\", \"type\": \"box\", \"y\": [1.6798269758748492, -0.2199836590415361, -2.4507820246760064, 0.5345621049020333, -0.39856302744576677, -0.11261594574231408, 0.18365368973708873, 0.898157970332645, 0.5753381411578375, -2.5763720307296083, 1.38619832554469, -0.962354296236438, -1.101467819394483, -0.7987809996163434, -0.6933812853507427, 0.8419418051636006, -1.5221391970802596, -0.06385761933739592, 0.30807683903399036, -0.7080227475637054, 1.4257322784721362, -0.6664877158684318, -0.8257276357775953, 1.379311012710703, 0.12044978700400753, -0.08648401244585327, 1.2432979360283543, 2.508360802520673, 0.4643248708834873, -0.955633157694708, -1.535509984047946, -1.374791885319085, 0.28630164904878097, 0.7342244324101905, -0.02823128516313799, -0.7341739046874015, 0.39230715140972666, 0.8062188113949558, 0.30642943847769355, -1.5844204083389668, -2.2168568921759118, 0.818329086945323, -0.5429278392392303, -0.7677746861982568, 0.4741597360051739, -0.7475180141955834, 0.0663887639237793, 0.1104087523560313, -0.487974454740564, -0.6582049749501504, 0.7694795936392425, 0.44001560003027074, -0.17121162838917453, 1.3832908461628157, -0.19406089191467876, 2.168061754494002, 0.3351737818497473, 2.1010768804402264, -0.7756198079418396, 1.0972186157731403, -0.04018321949200649, 0.5420574778414596, 0.2740649957684385, -1.5137635358552375, 0.6650360912190366, 0.4432625903392581, -1.6308736220096962, 0.1301705393722849, 0.6511756307706884, 0.0016669869019767401, -0.9550881209517254, -1.0469423873967165, 0.9994755176228046, -0.07805461310115813, -0.18178366842378185, -0.5228836054837369, -0.96767637213527, 0.8164590720680147, 0.5365041447608002, 0.9790438576307355, 0.3635173181176478, 2.561887388439632, 1.6256800837780936, 0.6638107412352435, -0.0911766669481064, -0.32992322533456153, 0.84982905999064, 1.1478701245524643, -0.2916632912204899, 1.394588035257012, -0.7133373113633735, -0.4431573586059646, -1.5292557482074411, -0.17871425985598202, 0.23194177885240613, -1.2413517177464832, -1.6314464938492308, -1.4795279562965968, 1.4040753247894164, 2.501998029267809]}, {\"boxpoints\": false, \"line\": {\"width\": 1.3}, \"marker\": {\"color\": \"rgba(55, 128, 191, 1.0)\"}, \"name\": \"B\", \"orientation\": \"v\", \"type\": \"box\", \"y\": [-0.12944734190583249, -1.0964889210243227, -0.5688852625502178, 2.4297126243557483, -0.6383179022401426, 1.3561041448228395, -1.6651231504114188, 0.2265362648432785, -2.0850226632797053, -2.3545591407570408, -1.1544274265573464, -0.4020479105629905, 0.7895905985975938, 0.7635632808206712, 1.0231198669273638, 2.2341143641943866, -2.2238915188013473, 1.5283196068066418, 2.058348244085285, 0.053217829034620585, 0.22227011237441024, 0.18489704765681375, 0.12486905080928802, 0.969842991236598, -1.0482429553408665, 0.8698847804194278, 0.44588677004507565, -0.48751361405153193, 0.33871488249048853, 0.08589547691066018, 1.520945017949968, 0.4569931771003894, 1.2944302524269116, 1.6595127234593101, 0.2710476742444291, -1.0021626352598372, 0.8333820174820911, 2.0198279770917407, -0.5579077878955658, -1.3790125878837953, 1.5504112462608328, 0.7258539885499488, 0.16185050291894446, 0.2924235347750846, -0.11910266309169193, -0.615398941759039, -0.530541022662267, 0.7296369995652676, -1.4240486031951645, 0.11073633883215957, 0.6660226906250679, 1.906341998994936, -0.809995774784047, -0.30889295305373726, 1.1285525514247758, 0.34010724747164967, 1.1523194218879722, 1.1500189899063549, -0.5921815874122709, 1.6377477244644454, -0.696212406644362, -0.9587823452227174, 0.2234331442497379, 1.2311048031470695, -1.3913622289532295, -1.2456227014348427, 0.07377413858952699, 0.028619694828842464, 0.21859811019916658, 0.30173022612751677, -0.33698284311818816, 0.6826533256019267, 0.42527896103784163, -0.197894256639745, -0.5478886833710794, 0.6394656680012822, -0.6477899051158909, 0.26517299635865355, -0.4756976453911347, 0.043295979729102166, 0.0551056386251421, -0.02355682898881277, -1.6708649508149047, -0.5283349647398393, 1.253322423115921, 0.5323566961329269, -0.09719960500654366, -1.4370784482181538, -0.4171279131882182, -0.004360096322667945, 1.1708193047502593, 0.565476788609084, -0.9097673723544455, 0.730880385355846, -0.6277790455857233, -0.43289643685794166, -0.1717910597522223, -0.7009702749426628, -0.5187570470781957, -0.054924326521840865]}, {\"boxpoints\": false, \"line\": {\"width\": 1.3}, \"marker\": {\"color\": \"rgba(50, 171, 96, 1.0)\"}, \"name\": \"C\", \"orientation\": \"v\", \"type\": \"box\", \"y\": [-0.5099731986355046, -0.43642427933751393, 1.2383132127202314, -0.41848949218137804, 1.25219856392755, -0.4105265001114346, -0.3358702557111699, 0.25045080489994975, -1.9805823390414017, -1.1638285777871764, -0.5547122917159738, -0.8753737076367798, 0.1472314355014791, 0.026724542420609173, -0.7632235588281209, -1.550962904605722, 0.7335639248806228, 0.37242453111627105, -0.8320528866828826, 0.2962438309703489, 0.015835119112943885, 1.6077687705489354, -0.24860020313929826, -1.5587580138856387, -1.6376456575107412, 0.26321034825329354, -0.22659429831387562, 0.7578110973526933, -1.126055685209363, 0.4234618596074086, 0.30162472963764675, 1.423957195776836, 0.6542936945496459, 1.0278613602812927, -2.4187650411462758, -0.04563326891105432, -0.24865960476685411, -0.5059852308485329, 0.3770980502414392, 1.411751489602502, -0.42721242837591134, 0.8475460954157629, 0.07889715736941662, 0.16293653224477636, 1.061220942165275, -1.316259053389097, 0.7771479271478352, 0.30980088008053813, -0.9843325921373898, 0.7311573016463724, 0.2206222602475841, 0.6592408622395388, -0.19368353883203046, -1.5366055614417367, -0.8012843086577625, -1.6619361448339127, 1.2421119590705874, 0.43798749732232295, -1.1262270096956037, -0.2489226967532583, 0.46053416372271533, -0.4242671247081647, -1.756145329353808, 0.3276742088092708, 0.13556738078925068, -0.4117042350488072, -0.0047894507884336515, -0.9134118938984985, -1.137953602364018, 0.35910597666633937, -0.8399314606644921, -1.950679242792207, 1.3703446524530332, -0.0853265070919818, 0.23555625638411057, 0.4819264961259066, 1.641550079158694, 0.31742293888894324, -0.3667001657942677, -0.7399062408794307, 0.5188221608748309, -0.1995758955690176, 0.7739321711831522, 1.0624678371971847, 1.6557851820592229, -1.1758694638881777, 0.6677518079918014, 2.6794749174565906, 1.5782879631440412, 0.13755898962176302, -0.9489809817536655, -1.5500200570548794, 0.6789681666056834, 1.3379386757837315, 0.7857031906296689, 0.10092045865609581, 1.344211784643464, -1.9474559246682606, -1.4396076115651124, 0.08024690521150149]}, {\"boxpoints\": false, \"line\": {\"width\": 1.3}, \"marker\": {\"color\": \"rgba(128, 0, 128, 1.0)\"}, \"name\": \"D\", \"orientation\": \"v\", \"type\": \"box\", \"y\": [0.931984823135302, -1.2245757387681235, 0.6838257554400858, -2.21040274577057, -0.9658177718986672, 0.7648510621860802, -1.9318289453842272, 0.43214846006956786, -0.2778734595859479, 0.28204112949807175, -0.06613632513858599, -1.1545469137236308, 0.30453532528965116, -1.5431772571078906, 1.0705764297305391, -0.44809215570948163, 0.24042544082215989, 1.2457049889130014, 0.7563089105970153, 0.2636567564993423, 0.7901852438947593, -0.39082447466783987, -1.4600733473052139, -1.0831460206260002, -0.03169434258199588, 1.4341972115920654, -0.02651063330841973, -0.9480471562792716, 0.031072569258799587, -1.2964583656331565, 0.9423396567878187, -0.6148681920077593, 1.0274078908637128, -1.722056772495833, -0.12927142246829035, -0.3893988022167786, -1.5451919590809442, -1.2177340745757055, 1.87607060557863, 0.09422254772693982, 0.8752507247445381, -0.4648487863215274, 0.4576450462957688, -0.09596880515818153, -0.8804178177374911, -0.03828247764281995, 0.23547517617087876, -0.613712846285758, -0.9038458287430639, -1.6764620259002738, -0.2638757426237249, -0.32035531696585157, -1.11670290688409, 1.0067394486393477, -0.9459322291048202, 0.2833150611225091, 1.0476466113089427, -0.24604721575843325, -0.8872398445929423, -0.4247841010304335, 1.0187357476877301, -1.6390144011945684, -0.7269462742815427, -0.9289641405619283, -2.3688646750582403, 1.23304416408373, -1.862896190739098, -1.0625575408697763, 0.36748208727190057, -2.6094104075917293, 0.39716002414019846, -0.886212218689742, 0.802842674054774, -2.470270565490549, 0.6948204936731898, -1.9828813424014085, 0.6430149262654248, 0.747416478284904, 0.045459538193018977, -0.7707447484409992, -0.026572973946935915, -1.0656147940014389, -0.2084150744921162, 0.2429968152215716, 0.07157190583565437, -1.6567420369043255, 1.6611619528344541, 0.6848180354729289, 1.1128036141517856, -0.8665138610694922, 1.379223558159813, 0.37079617948411525, 0.770308888658991, 0.052776928933610794, -0.3695704086373053, 1.1502726935014809, 0.35308807748366045, 0.2943477837390178, -0.39037814278447036, -0.7249438020367157]}],                        {\"legend\": {\"bgcolor\": \"#F5F6F9\", \"font\": {\"color\": \"#4D5663\"}}, \"paper_bgcolor\": \"#F5F6F9\", \"plot_bgcolor\": \"#F5F6F9\", \"template\": {\"data\": {\"bar\": [{\"error_x\": {\"color\": \"#2a3f5f\"}, \"error_y\": {\"color\": \"#2a3f5f\"}, \"marker\": {\"line\": {\"color\": \"#E5ECF6\", \"width\": 0.5}}, \"type\": \"bar\"}], \"barpolar\": [{\"marker\": {\"line\": {\"color\": \"#E5ECF6\", \"width\": 0.5}}, \"type\": \"barpolar\"}], \"carpet\": [{\"aaxis\": {\"endlinecolor\": \"#2a3f5f\", \"gridcolor\": \"white\", \"linecolor\": \"white\", \"minorgridcolor\": \"white\", \"startlinecolor\": \"#2a3f5f\"}, \"baxis\": {\"endlinecolor\": \"#2a3f5f\", \"gridcolor\": \"white\", \"linecolor\": \"white\", \"minorgridcolor\": \"white\", \"startlinecolor\": \"#2a3f5f\"}, \"type\": \"carpet\"}], \"choropleth\": [{\"colorbar\": {\"outlinewidth\": 0, \"ticks\": \"\"}, \"type\": \"choropleth\"}], \"contour\": [{\"colorbar\": {\"outlinewidth\": 0, \"ticks\": \"\"}, \"colorscale\": [[0.0, \"#0d0887\"], [0.1111111111111111, \"#46039f\"], [0.2222222222222222, \"#7201a8\"], [0.3333333333333333, \"#9c179e\"], [0.4444444444444444, \"#bd3786\"], [0.5555555555555556, \"#d8576b\"], [0.6666666666666666, \"#ed7953\"], [0.7777777777777778, \"#fb9f3a\"], [0.8888888888888888, \"#fdca26\"], [1.0, \"#f0f921\"]], \"type\": \"contour\"}], \"contourcarpet\": [{\"colorbar\": {\"outlinewidth\": 0, \"ticks\": \"\"}, \"type\": \"contourcarpet\"}], \"heatmap\": [{\"colorbar\": {\"outlinewidth\": 0, \"ticks\": \"\"}, \"colorscale\": [[0.0, \"#0d0887\"], [0.1111111111111111, \"#46039f\"], [0.2222222222222222, \"#7201a8\"], [0.3333333333333333, \"#9c179e\"], [0.4444444444444444, \"#bd3786\"], [0.5555555555555556, \"#d8576b\"], [0.6666666666666666, \"#ed7953\"], [0.7777777777777778, \"#fb9f3a\"], [0.8888888888888888, \"#fdca26\"], [1.0, \"#f0f921\"]], \"type\": \"heatmap\"}], \"heatmapgl\": [{\"colorbar\": {\"outlinewidth\": 0, \"ticks\": \"\"}, \"colorscale\": [[0.0, \"#0d0887\"], [0.1111111111111111, \"#46039f\"], [0.2222222222222222, \"#7201a8\"], [0.3333333333333333, \"#9c179e\"], [0.4444444444444444, \"#bd3786\"], [0.5555555555555556, \"#d8576b\"], [0.6666666666666666, \"#ed7953\"], [0.7777777777777778, \"#fb9f3a\"], [0.8888888888888888, \"#fdca26\"], [1.0, \"#f0f921\"]], \"type\": \"heatmapgl\"}], \"histogram\": [{\"marker\": {\"colorbar\": {\"outlinewidth\": 0, \"ticks\": \"\"}}, \"type\": \"histogram\"}], \"histogram2d\": [{\"colorbar\": {\"outlinewidth\": 0, \"ticks\": \"\"}, \"colorscale\": [[0.0, \"#0d0887\"], [0.1111111111111111, \"#46039f\"], [0.2222222222222222, \"#7201a8\"], [0.3333333333333333, \"#9c179e\"], [0.4444444444444444, \"#bd3786\"], [0.5555555555555556, \"#d8576b\"], [0.6666666666666666, \"#ed7953\"], [0.7777777777777778, \"#fb9f3a\"], [0.8888888888888888, \"#fdca26\"], [1.0, \"#f0f921\"]], \"type\": \"histogram2d\"}], \"histogram2dcontour\": [{\"colorbar\": {\"outlinewidth\": 0, \"ticks\": \"\"}, \"colorscale\": [[0.0, \"#0d0887\"], [0.1111111111111111, \"#46039f\"], [0.2222222222222222, \"#7201a8\"], [0.3333333333333333, \"#9c179e\"], [0.4444444444444444, \"#bd3786\"], [0.5555555555555556, \"#d8576b\"], [0.6666666666666666, \"#ed7953\"], [0.7777777777777778, \"#fb9f3a\"], [0.8888888888888888, \"#fdca26\"], [1.0, \"#f0f921\"]], \"type\": \"histogram2dcontour\"}], \"mesh3d\": [{\"colorbar\": {\"outlinewidth\": 0, \"ticks\": \"\"}, \"type\": \"mesh3d\"}], \"parcoords\": [{\"line\": {\"colorbar\": {\"outlinewidth\": 0, \"ticks\": \"\"}}, \"type\": \"parcoords\"}], \"pie\": [{\"automargin\": true, \"type\": \"pie\"}], \"scatter\": [{\"marker\": {\"colorbar\": {\"outlinewidth\": 0, \"ticks\": \"\"}}, \"type\": \"scatter\"}], \"scatter3d\": [{\"line\": {\"colorbar\": {\"outlinewidth\": 0, \"ticks\": \"\"}}, \"marker\": {\"colorbar\": {\"outlinewidth\": 0, \"ticks\": \"\"}}, \"type\": \"scatter3d\"}], \"scattercarpet\": [{\"marker\": {\"colorbar\": {\"outlinewidth\": 0, \"ticks\": \"\"}}, \"type\": \"scattercarpet\"}], \"scattergeo\": [{\"marker\": {\"colorbar\": {\"outlinewidth\": 0, \"ticks\": \"\"}}, \"type\": \"scattergeo\"}], \"scattergl\": [{\"marker\": {\"colorbar\": {\"outlinewidth\": 0, \"ticks\": \"\"}}, \"type\": \"scattergl\"}], \"scattermapbox\": [{\"marker\": {\"colorbar\": {\"outlinewidth\": 0, \"ticks\": \"\"}}, \"type\": \"scattermapbox\"}], \"scatterpolar\": [{\"marker\": {\"colorbar\": {\"outlinewidth\": 0, \"ticks\": \"\"}}, \"type\": \"scatterpolar\"}], \"scatterpolargl\": [{\"marker\": {\"colorbar\": {\"outlinewidth\": 0, \"ticks\": \"\"}}, \"type\": \"scatterpolargl\"}], \"scatterternary\": [{\"marker\": {\"colorbar\": {\"outlinewidth\": 0, \"ticks\": \"\"}}, \"type\": \"scatterternary\"}], \"surface\": [{\"colorbar\": {\"outlinewidth\": 0, \"ticks\": \"\"}, \"colorscale\": [[0.0, \"#0d0887\"], [0.1111111111111111, \"#46039f\"], [0.2222222222222222, \"#7201a8\"], [0.3333333333333333, \"#9c179e\"], [0.4444444444444444, \"#bd3786\"], [0.5555555555555556, \"#d8576b\"], [0.6666666666666666, \"#ed7953\"], [0.7777777777777778, \"#fb9f3a\"], [0.8888888888888888, \"#fdca26\"], [1.0, \"#f0f921\"]], \"type\": \"surface\"}], \"table\": [{\"cells\": {\"fill\": {\"color\": \"#EBF0F8\"}, \"line\": {\"color\": \"white\"}}, \"header\": {\"fill\": {\"color\": \"#C8D4E3\"}, \"line\": {\"color\": \"white\"}}, \"type\": \"table\"}]}, \"layout\": {\"annotationdefaults\": {\"arrowcolor\": \"#2a3f5f\", \"arrowhead\": 0, \"arrowwidth\": 1}, \"coloraxis\": {\"colorbar\": {\"outlinewidth\": 0, \"ticks\": \"\"}}, \"colorscale\": {\"diverging\": [[0, \"#8e0152\"], [0.1, \"#c51b7d\"], [0.2, \"#de77ae\"], [0.3, \"#f1b6da\"], [0.4, \"#fde0ef\"], [0.5, \"#f7f7f7\"], [0.6, \"#e6f5d0\"], [0.7, \"#b8e186\"], [0.8, \"#7fbc41\"], [0.9, \"#4d9221\"], [1, \"#276419\"]], \"sequential\": [[0.0, \"#0d0887\"], [0.1111111111111111, \"#46039f\"], [0.2222222222222222, \"#7201a8\"], [0.3333333333333333, \"#9c179e\"], [0.4444444444444444, \"#bd3786\"], [0.5555555555555556, \"#d8576b\"], [0.6666666666666666, \"#ed7953\"], [0.7777777777777778, \"#fb9f3a\"], [0.8888888888888888, \"#fdca26\"], [1.0, \"#f0f921\"]], \"sequentialminus\": [[0.0, \"#0d0887\"], [0.1111111111111111, \"#46039f\"], [0.2222222222222222, \"#7201a8\"], [0.3333333333333333, \"#9c179e\"], [0.4444444444444444, \"#bd3786\"], [0.5555555555555556, \"#d8576b\"], [0.6666666666666666, \"#ed7953\"], [0.7777777777777778, \"#fb9f3a\"], [0.8888888888888888, \"#fdca26\"], [1.0, \"#f0f921\"]]}, \"colorway\": [\"#636efa\", \"#EF553B\", \"#00cc96\", \"#ab63fa\", \"#FFA15A\", \"#19d3f3\", \"#FF6692\", \"#B6E880\", \"#FF97FF\", \"#FECB52\"], \"font\": {\"color\": \"#2a3f5f\"}, \"geo\": {\"bgcolor\": \"white\", \"lakecolor\": \"white\", \"landcolor\": \"#E5ECF6\", \"showlakes\": true, \"showland\": true, \"subunitcolor\": \"white\"}, \"hoverlabel\": {\"align\": \"left\"}, \"hovermode\": \"closest\", \"mapbox\": {\"style\": \"light\"}, \"paper_bgcolor\": \"white\", \"plot_bgcolor\": \"#E5ECF6\", \"polar\": {\"angularaxis\": {\"gridcolor\": \"white\", \"linecolor\": \"white\", \"ticks\": \"\"}, \"bgcolor\": \"#E5ECF6\", \"radialaxis\": {\"gridcolor\": \"white\", \"linecolor\": \"white\", \"ticks\": \"\"}}, \"scene\": {\"xaxis\": {\"backgroundcolor\": \"#E5ECF6\", \"gridcolor\": \"white\", \"gridwidth\": 2, \"linecolor\": \"white\", \"showbackground\": true, \"ticks\": \"\", \"zerolinecolor\": \"white\"}, \"yaxis\": {\"backgroundcolor\": \"#E5ECF6\", \"gridcolor\": \"white\", \"gridwidth\": 2, \"linecolor\": \"white\", \"showbackground\": true, \"ticks\": \"\", \"zerolinecolor\": \"white\"}, \"zaxis\": {\"backgroundcolor\": \"#E5ECF6\", \"gridcolor\": \"white\", \"gridwidth\": 2, \"linecolor\": \"white\", \"showbackground\": true, \"ticks\": \"\", \"zerolinecolor\": \"white\"}}, \"shapedefaults\": {\"line\": {\"color\": \"#2a3f5f\"}}, \"ternary\": {\"aaxis\": {\"gridcolor\": \"white\", \"linecolor\": \"white\", \"ticks\": \"\"}, \"baxis\": {\"gridcolor\": \"white\", \"linecolor\": \"white\", \"ticks\": \"\"}, \"bgcolor\": \"#E5ECF6\", \"caxis\": {\"gridcolor\": \"white\", \"linecolor\": \"white\", \"ticks\": \"\"}}, \"title\": {\"x\": 0.05}, \"xaxis\": {\"automargin\": true, \"gridcolor\": \"white\", \"linecolor\": \"white\", \"ticks\": \"\", \"title\": {\"standoff\": 15}, \"zerolinecolor\": \"white\", \"zerolinewidth\": 2}, \"yaxis\": {\"automargin\": true, \"gridcolor\": \"white\", \"linecolor\": \"white\", \"ticks\": \"\", \"title\": {\"standoff\": 15}, \"zerolinecolor\": \"white\", \"zerolinewidth\": 2}}}, \"title\": {\"font\": {\"color\": \"#4D5663\"}}, \"xaxis\": {\"gridcolor\": \"#E1E5ED\", \"showgrid\": true, \"tickfont\": {\"color\": \"#4D5663\"}, \"title\": {\"font\": {\"color\": \"#4D5663\"}, \"text\": \"\"}, \"zerolinecolor\": \"#E1E5ED\"}, \"yaxis\": {\"gridcolor\": \"#E1E5ED\", \"showgrid\": true, \"tickfont\": {\"color\": \"#4D5663\"}, \"title\": {\"font\": {\"color\": \"#4D5663\"}, \"text\": \"\"}, \"zerolinecolor\": \"#E1E5ED\"}},                        {\"showLink\": true, \"linkText\": \"Export to plot.ly\", \"plotlyServerURL\": \"https://plot.ly\", \"responsive\": true}                    ).then(function(){\n",
       "                            \n",
       "var gd = document.getElementById('9cd7ad3c-e141-4896-827e-15b58809e3fb');\n",
       "var x = new MutationObserver(function (mutations, observer) {{\n",
       "        var display = window.getComputedStyle(gd).display;\n",
       "        if (!display || display === 'none') {{\n",
       "            console.log([gd, 'removed!']);\n",
       "            Plotly.purge(gd);\n",
       "            observer.disconnect();\n",
       "        }}\n",
       "}});\n",
       "\n",
       "// Listen for the removal of the full notebook cells\n",
       "var notebookContainer = gd.closest('#notebook-container');\n",
       "if (notebookContainer) {{\n",
       "    x.observe(notebookContainer, {childList: true});\n",
       "}}\n",
       "\n",
       "// Listen for the clearing of the current output cell\n",
       "var outputEl = gd.closest('.output');\n",
       "if (outputEl) {{\n",
       "    x.observe(outputEl, {childList: true});\n",
       "}}\n",
       "\n",
       "                        })                };                });            </script>        </div>"
      ]
     },
     "metadata": {},
     "output_type": "display_data"
    }
   ],
   "source": [
    "df.iplot(kind='box')"
   ]
  },
  {
   "cell_type": "markdown",
   "metadata": {},
   "source": [
    "## 3d Surface"
   ]
  },
  {
   "cell_type": "code",
   "execution_count": 14,
   "metadata": {},
   "outputs": [
    {
     "data": {
      "application/vnd.plotly.v1+json": {
       "config": {
        "linkText": "Export to plot.ly",
        "plotlyServerURL": "https://plot.ly",
        "showLink": true
       },
       "data": [
        {
         "colorscale": [
          [
           0,
           "rgb(165,0,38)"
          ],
          [
           0.1,
           "rgb(215,48,39)"
          ],
          [
           0.2,
           "rgb(244,109,67)"
          ],
          [
           0.3,
           "rgb(253,174,97)"
          ],
          [
           0.4,
           "rgb(254,224,144)"
          ],
          [
           0.5,
           "rgb(255,255,191)"
          ],
          [
           0.6,
           "rgb(224,243,248)"
          ],
          [
           0.7,
           "rgb(171,217,233)"
          ],
          [
           0.8,
           "rgb(116,173,209)"
          ],
          [
           0.9,
           "rgb(69,117,180)"
          ],
          [
           1,
           "rgb(49,54,149)"
          ]
         ],
         "type": "surface",
         "x": [
          0,
          1,
          2,
          3,
          4
         ],
         "y": [
          "x",
          "y",
          "z"
         ],
         "z": [
          [
           1,
           2,
           3,
           4,
           5
          ],
          [
           10,
           20,
           30,
           20,
           10
          ],
          [
           5,
           4,
           3,
           2,
           1
          ]
         ]
        }
       ],
       "layout": {
        "autosize": true,
        "legend": {
         "bgcolor": "#F5F6F9",
         "font": {
          "color": "#4D5663"
         }
        },
        "paper_bgcolor": "#F5F6F9",
        "plot_bgcolor": "#F5F6F9",
        "scene": {
         "aspectmode": "auto",
         "aspectratio": {
          "x": 1,
          "y": 1,
          "z": 1
         }
        },
        "template": {
         "data": {
          "bar": [
           {
            "error_x": {
             "color": "#2a3f5f"
            },
            "error_y": {
             "color": "#2a3f5f"
            },
            "marker": {
             "line": {
              "color": "#E5ECF6",
              "width": 0.5
             }
            },
            "type": "bar"
           }
          ],
          "barpolar": [
           {
            "marker": {
             "line": {
              "color": "#E5ECF6",
              "width": 0.5
             }
            },
            "type": "barpolar"
           }
          ],
          "carpet": [
           {
            "aaxis": {
             "endlinecolor": "#2a3f5f",
             "gridcolor": "white",
             "linecolor": "white",
             "minorgridcolor": "white",
             "startlinecolor": "#2a3f5f"
            },
            "baxis": {
             "endlinecolor": "#2a3f5f",
             "gridcolor": "white",
             "linecolor": "white",
             "minorgridcolor": "white",
             "startlinecolor": "#2a3f5f"
            },
            "type": "carpet"
           }
          ],
          "choropleth": [
           {
            "colorbar": {
             "outlinewidth": 0,
             "ticks": ""
            },
            "type": "choropleth"
           }
          ],
          "contour": [
           {
            "colorbar": {
             "outlinewidth": 0,
             "ticks": ""
            },
            "colorscale": [
             [
              0,
              "#0d0887"
             ],
             [
              0.1111111111111111,
              "#46039f"
             ],
             [
              0.2222222222222222,
              "#7201a8"
             ],
             [
              0.3333333333333333,
              "#9c179e"
             ],
             [
              0.4444444444444444,
              "#bd3786"
             ],
             [
              0.5555555555555556,
              "#d8576b"
             ],
             [
              0.6666666666666666,
              "#ed7953"
             ],
             [
              0.7777777777777778,
              "#fb9f3a"
             ],
             [
              0.8888888888888888,
              "#fdca26"
             ],
             [
              1,
              "#f0f921"
             ]
            ],
            "type": "contour"
           }
          ],
          "contourcarpet": [
           {
            "colorbar": {
             "outlinewidth": 0,
             "ticks": ""
            },
            "type": "contourcarpet"
           }
          ],
          "heatmap": [
           {
            "colorbar": {
             "outlinewidth": 0,
             "ticks": ""
            },
            "colorscale": [
             [
              0,
              "#0d0887"
             ],
             [
              0.1111111111111111,
              "#46039f"
             ],
             [
              0.2222222222222222,
              "#7201a8"
             ],
             [
              0.3333333333333333,
              "#9c179e"
             ],
             [
              0.4444444444444444,
              "#bd3786"
             ],
             [
              0.5555555555555556,
              "#d8576b"
             ],
             [
              0.6666666666666666,
              "#ed7953"
             ],
             [
              0.7777777777777778,
              "#fb9f3a"
             ],
             [
              0.8888888888888888,
              "#fdca26"
             ],
             [
              1,
              "#f0f921"
             ]
            ],
            "type": "heatmap"
           }
          ],
          "heatmapgl": [
           {
            "colorbar": {
             "outlinewidth": 0,
             "ticks": ""
            },
            "colorscale": [
             [
              0,
              "#0d0887"
             ],
             [
              0.1111111111111111,
              "#46039f"
             ],
             [
              0.2222222222222222,
              "#7201a8"
             ],
             [
              0.3333333333333333,
              "#9c179e"
             ],
             [
              0.4444444444444444,
              "#bd3786"
             ],
             [
              0.5555555555555556,
              "#d8576b"
             ],
             [
              0.6666666666666666,
              "#ed7953"
             ],
             [
              0.7777777777777778,
              "#fb9f3a"
             ],
             [
              0.8888888888888888,
              "#fdca26"
             ],
             [
              1,
              "#f0f921"
             ]
            ],
            "type": "heatmapgl"
           }
          ],
          "histogram": [
           {
            "marker": {
             "colorbar": {
              "outlinewidth": 0,
              "ticks": ""
             }
            },
            "type": "histogram"
           }
          ],
          "histogram2d": [
           {
            "colorbar": {
             "outlinewidth": 0,
             "ticks": ""
            },
            "colorscale": [
             [
              0,
              "#0d0887"
             ],
             [
              0.1111111111111111,
              "#46039f"
             ],
             [
              0.2222222222222222,
              "#7201a8"
             ],
             [
              0.3333333333333333,
              "#9c179e"
             ],
             [
              0.4444444444444444,
              "#bd3786"
             ],
             [
              0.5555555555555556,
              "#d8576b"
             ],
             [
              0.6666666666666666,
              "#ed7953"
             ],
             [
              0.7777777777777778,
              "#fb9f3a"
             ],
             [
              0.8888888888888888,
              "#fdca26"
             ],
             [
              1,
              "#f0f921"
             ]
            ],
            "type": "histogram2d"
           }
          ],
          "histogram2dcontour": [
           {
            "colorbar": {
             "outlinewidth": 0,
             "ticks": ""
            },
            "colorscale": [
             [
              0,
              "#0d0887"
             ],
             [
              0.1111111111111111,
              "#46039f"
             ],
             [
              0.2222222222222222,
              "#7201a8"
             ],
             [
              0.3333333333333333,
              "#9c179e"
             ],
             [
              0.4444444444444444,
              "#bd3786"
             ],
             [
              0.5555555555555556,
              "#d8576b"
             ],
             [
              0.6666666666666666,
              "#ed7953"
             ],
             [
              0.7777777777777778,
              "#fb9f3a"
             ],
             [
              0.8888888888888888,
              "#fdca26"
             ],
             [
              1,
              "#f0f921"
             ]
            ],
            "type": "histogram2dcontour"
           }
          ],
          "mesh3d": [
           {
            "colorbar": {
             "outlinewidth": 0,
             "ticks": ""
            },
            "type": "mesh3d"
           }
          ],
          "parcoords": [
           {
            "line": {
             "colorbar": {
              "outlinewidth": 0,
              "ticks": ""
             }
            },
            "type": "parcoords"
           }
          ],
          "pie": [
           {
            "automargin": true,
            "type": "pie"
           }
          ],
          "scatter": [
           {
            "marker": {
             "colorbar": {
              "outlinewidth": 0,
              "ticks": ""
             }
            },
            "type": "scatter"
           }
          ],
          "scatter3d": [
           {
            "line": {
             "colorbar": {
              "outlinewidth": 0,
              "ticks": ""
             }
            },
            "marker": {
             "colorbar": {
              "outlinewidth": 0,
              "ticks": ""
             }
            },
            "type": "scatter3d"
           }
          ],
          "scattercarpet": [
           {
            "marker": {
             "colorbar": {
              "outlinewidth": 0,
              "ticks": ""
             }
            },
            "type": "scattercarpet"
           }
          ],
          "scattergeo": [
           {
            "marker": {
             "colorbar": {
              "outlinewidth": 0,
              "ticks": ""
             }
            },
            "type": "scattergeo"
           }
          ],
          "scattergl": [
           {
            "marker": {
             "colorbar": {
              "outlinewidth": 0,
              "ticks": ""
             }
            },
            "type": "scattergl"
           }
          ],
          "scattermapbox": [
           {
            "marker": {
             "colorbar": {
              "outlinewidth": 0,
              "ticks": ""
             }
            },
            "type": "scattermapbox"
           }
          ],
          "scatterpolar": [
           {
            "marker": {
             "colorbar": {
              "outlinewidth": 0,
              "ticks": ""
             }
            },
            "type": "scatterpolar"
           }
          ],
          "scatterpolargl": [
           {
            "marker": {
             "colorbar": {
              "outlinewidth": 0,
              "ticks": ""
             }
            },
            "type": "scatterpolargl"
           }
          ],
          "scatterternary": [
           {
            "marker": {
             "colorbar": {
              "outlinewidth": 0,
              "ticks": ""
             }
            },
            "type": "scatterternary"
           }
          ],
          "surface": [
           {
            "colorbar": {
             "outlinewidth": 0,
             "ticks": ""
            },
            "colorscale": [
             [
              0,
              "#0d0887"
             ],
             [
              0.1111111111111111,
              "#46039f"
             ],
             [
              0.2222222222222222,
              "#7201a8"
             ],
             [
              0.3333333333333333,
              "#9c179e"
             ],
             [
              0.4444444444444444,
              "#bd3786"
             ],
             [
              0.5555555555555556,
              "#d8576b"
             ],
             [
              0.6666666666666666,
              "#ed7953"
             ],
             [
              0.7777777777777778,
              "#fb9f3a"
             ],
             [
              0.8888888888888888,
              "#fdca26"
             ],
             [
              1,
              "#f0f921"
             ]
            ],
            "type": "surface"
           }
          ],
          "table": [
           {
            "cells": {
             "fill": {
              "color": "#EBF0F8"
             },
             "line": {
              "color": "white"
             }
            },
            "header": {
             "fill": {
              "color": "#C8D4E3"
             },
             "line": {
              "color": "white"
             }
            },
            "type": "table"
           }
          ]
         },
         "layout": {
          "annotationdefaults": {
           "arrowcolor": "#2a3f5f",
           "arrowhead": 0,
           "arrowwidth": 1
          },
          "coloraxis": {
           "colorbar": {
            "outlinewidth": 0,
            "ticks": ""
           }
          },
          "colorscale": {
           "diverging": [
            [
             0,
             "#8e0152"
            ],
            [
             0.1,
             "#c51b7d"
            ],
            [
             0.2,
             "#de77ae"
            ],
            [
             0.3,
             "#f1b6da"
            ],
            [
             0.4,
             "#fde0ef"
            ],
            [
             0.5,
             "#f7f7f7"
            ],
            [
             0.6,
             "#e6f5d0"
            ],
            [
             0.7,
             "#b8e186"
            ],
            [
             0.8,
             "#7fbc41"
            ],
            [
             0.9,
             "#4d9221"
            ],
            [
             1,
             "#276419"
            ]
           ],
           "sequential": [
            [
             0,
             "#0d0887"
            ],
            [
             0.1111111111111111,
             "#46039f"
            ],
            [
             0.2222222222222222,
             "#7201a8"
            ],
            [
             0.3333333333333333,
             "#9c179e"
            ],
            [
             0.4444444444444444,
             "#bd3786"
            ],
            [
             0.5555555555555556,
             "#d8576b"
            ],
            [
             0.6666666666666666,
             "#ed7953"
            ],
            [
             0.7777777777777778,
             "#fb9f3a"
            ],
            [
             0.8888888888888888,
             "#fdca26"
            ],
            [
             1,
             "#f0f921"
            ]
           ],
           "sequentialminus": [
            [
             0,
             "#0d0887"
            ],
            [
             0.1111111111111111,
             "#46039f"
            ],
            [
             0.2222222222222222,
             "#7201a8"
            ],
            [
             0.3333333333333333,
             "#9c179e"
            ],
            [
             0.4444444444444444,
             "#bd3786"
            ],
            [
             0.5555555555555556,
             "#d8576b"
            ],
            [
             0.6666666666666666,
             "#ed7953"
            ],
            [
             0.7777777777777778,
             "#fb9f3a"
            ],
            [
             0.8888888888888888,
             "#fdca26"
            ],
            [
             1,
             "#f0f921"
            ]
           ]
          },
          "colorway": [
           "#636efa",
           "#EF553B",
           "#00cc96",
           "#ab63fa",
           "#FFA15A",
           "#19d3f3",
           "#FF6692",
           "#B6E880",
           "#FF97FF",
           "#FECB52"
          ],
          "font": {
           "color": "#2a3f5f"
          },
          "geo": {
           "bgcolor": "white",
           "lakecolor": "white",
           "landcolor": "#E5ECF6",
           "showlakes": true,
           "showland": true,
           "subunitcolor": "white"
          },
          "hoverlabel": {
           "align": "left"
          },
          "hovermode": "closest",
          "mapbox": {
           "style": "light"
          },
          "paper_bgcolor": "white",
          "plot_bgcolor": "#E5ECF6",
          "polar": {
           "angularaxis": {
            "gridcolor": "white",
            "linecolor": "white",
            "ticks": ""
           },
           "bgcolor": "#E5ECF6",
           "radialaxis": {
            "gridcolor": "white",
            "linecolor": "white",
            "ticks": ""
           }
          },
          "scene": {
           "xaxis": {
            "backgroundcolor": "#E5ECF6",
            "gridcolor": "white",
            "gridwidth": 2,
            "linecolor": "white",
            "showbackground": true,
            "ticks": "",
            "zerolinecolor": "white"
           },
           "yaxis": {
            "backgroundcolor": "#E5ECF6",
            "gridcolor": "white",
            "gridwidth": 2,
            "linecolor": "white",
            "showbackground": true,
            "ticks": "",
            "zerolinecolor": "white"
           },
           "zaxis": {
            "backgroundcolor": "#E5ECF6",
            "gridcolor": "white",
            "gridwidth": 2,
            "linecolor": "white",
            "showbackground": true,
            "ticks": "",
            "zerolinecolor": "white"
           }
          },
          "shapedefaults": {
           "line": {
            "color": "#2a3f5f"
           }
          },
          "ternary": {
           "aaxis": {
            "gridcolor": "white",
            "linecolor": "white",
            "ticks": ""
           },
           "baxis": {
            "gridcolor": "white",
            "linecolor": "white",
            "ticks": ""
           },
           "bgcolor": "#E5ECF6",
           "caxis": {
            "gridcolor": "white",
            "linecolor": "white",
            "ticks": ""
           }
          },
          "title": {
           "x": 0.05
          },
          "xaxis": {
           "automargin": true,
           "gridcolor": "white",
           "linecolor": "white",
           "ticks": "",
           "title": {
            "standoff": 15
           },
           "zerolinecolor": "white",
           "zerolinewidth": 2
          },
          "yaxis": {
           "automargin": true,
           "gridcolor": "white",
           "linecolor": "white",
           "ticks": "",
           "title": {
            "standoff": 15
           },
           "zerolinecolor": "white",
           "zerolinewidth": 2
          }
         }
        },
        "title": {
         "font": {
          "color": "#4D5663"
         }
        },
        "xaxis": {
         "gridcolor": "#E1E5ED",
         "showgrid": true,
         "tickfont": {
          "color": "#4D5663"
         },
         "title": {
          "font": {
           "color": "#4D5663"
          },
          "text": ""
         },
         "zerolinecolor": "#E1E5ED"
        },
        "yaxis": {
         "gridcolor": "#E1E5ED",
         "showgrid": true,
         "tickfont": {
          "color": "#4D5663"
         },
         "title": {
          "font": {
           "color": "#4D5663"
          },
          "text": ""
         },
         "zerolinecolor": "#E1E5ED"
        }
       }
      },
      "image/png": "[encoded data removed]",
      "text/html": [
       "<div>                            <div id=\"c4b3f169-374c-4fdd-8324-1d4859410ebf\" class=\"plotly-graph-div\" style=\"height:525px; width:100%;\"></div>            <script type=\"text/javascript\">                require([\"plotly\"], function(Plotly) {                    window.PLOTLYENV=window.PLOTLYENV || {};\n",
       "                    window.PLOTLYENV.BASE_URL='https://plot.ly';                                    if (document.getElementById(\"c4b3f169-374c-4fdd-8324-1d4859410ebf\")) {                    Plotly.newPlot(                        \"c4b3f169-374c-4fdd-8324-1d4859410ebf\",                        [{\"colorscale\": [[0.0, \"rgb(165,0,38)\"], [0.1, \"rgb(215,48,39)\"], [0.2, \"rgb(244,109,67)\"], [0.3, \"rgb(253,174,97)\"], [0.4, \"rgb(254,224,144)\"], [0.5, \"rgb(255,255,191)\"], [0.6, \"rgb(224,243,248)\"], [0.7, \"rgb(171,217,233)\"], [0.8, \"rgb(116,173,209)\"], [0.9, \"rgb(69,117,180)\"], [1.0, \"rgb(49,54,149)\"]], \"type\": \"surface\", \"x\": [0, 1, 2, 3, 4], \"y\": [\"x\", \"y\", \"z\"], \"z\": [[1, 2, 3, 4, 5], [10, 20, 30, 20, 10], [5, 4, 3, 2, 1]]}],                        {\"legend\": {\"bgcolor\": \"#F5F6F9\", \"font\": {\"color\": \"#4D5663\"}}, \"paper_bgcolor\": \"#F5F6F9\", \"plot_bgcolor\": \"#F5F6F9\", \"template\": {\"data\": {\"bar\": [{\"error_x\": {\"color\": \"#2a3f5f\"}, \"error_y\": {\"color\": \"#2a3f5f\"}, \"marker\": {\"line\": {\"color\": \"#E5ECF6\", \"width\": 0.5}}, \"type\": \"bar\"}], \"barpolar\": [{\"marker\": {\"line\": {\"color\": \"#E5ECF6\", \"width\": 0.5}}, \"type\": \"barpolar\"}], \"carpet\": [{\"aaxis\": {\"endlinecolor\": \"#2a3f5f\", \"gridcolor\": \"white\", \"linecolor\": \"white\", \"minorgridcolor\": \"white\", \"startlinecolor\": \"#2a3f5f\"}, \"baxis\": {\"endlinecolor\": \"#2a3f5f\", \"gridcolor\": \"white\", \"linecolor\": \"white\", \"minorgridcolor\": \"white\", \"startlinecolor\": \"#2a3f5f\"}, \"type\": \"carpet\"}], \"choropleth\": [{\"colorbar\": {\"outlinewidth\": 0, \"ticks\": \"\"}, \"type\": \"choropleth\"}], \"contour\": [{\"colorbar\": {\"outlinewidth\": 0, \"ticks\": \"\"}, \"colorscale\": [[0.0, \"#0d0887\"], [0.1111111111111111, \"#46039f\"], [0.2222222222222222, \"#7201a8\"], [0.3333333333333333, \"#9c179e\"], [0.4444444444444444, \"#bd3786\"], [0.5555555555555556, \"#d8576b\"], [0.6666666666666666, \"#ed7953\"], [0.7777777777777778, \"#fb9f3a\"], [0.8888888888888888, \"#fdca26\"], [1.0, \"#f0f921\"]], \"type\": \"contour\"}], \"contourcarpet\": [{\"colorbar\": {\"outlinewidth\": 0, \"ticks\": \"\"}, \"type\": \"contourcarpet\"}], \"heatmap\": [{\"colorbar\": {\"outlinewidth\": 0, \"ticks\": \"\"}, \"colorscale\": [[0.0, \"#0d0887\"], [0.1111111111111111, \"#46039f\"], [0.2222222222222222, \"#7201a8\"], [0.3333333333333333, \"#9c179e\"], [0.4444444444444444, \"#bd3786\"], [0.5555555555555556, \"#d8576b\"], [0.6666666666666666, \"#ed7953\"], [0.7777777777777778, \"#fb9f3a\"], [0.8888888888888888, \"#fdca26\"], [1.0, \"#f0f921\"]], \"type\": \"heatmap\"}], \"heatmapgl\": [{\"colorbar\": {\"outlinewidth\": 0, \"ticks\": \"\"}, \"colorscale\": [[0.0, \"#0d0887\"], [0.1111111111111111, \"#46039f\"], [0.2222222222222222, \"#7201a8\"], [0.3333333333333333, \"#9c179e\"], [0.4444444444444444, \"#bd3786\"], [0.5555555555555556, \"#d8576b\"], [0.6666666666666666, \"#ed7953\"], [0.7777777777777778, \"#fb9f3a\"], [0.8888888888888888, \"#fdca26\"], [1.0, \"#f0f921\"]], \"type\": \"heatmapgl\"}], \"histogram\": [{\"marker\": {\"colorbar\": {\"outlinewidth\": 0, \"ticks\": \"\"}}, \"type\": \"histogram\"}], \"histogram2d\": [{\"colorbar\": {\"outlinewidth\": 0, \"ticks\": \"\"}, \"colorscale\": [[0.0, \"#0d0887\"], [0.1111111111111111, \"#46039f\"], [0.2222222222222222, \"#7201a8\"], [0.3333333333333333, \"#9c179e\"], [0.4444444444444444, \"#bd3786\"], [0.5555555555555556, \"#d8576b\"], [0.6666666666666666, \"#ed7953\"], [0.7777777777777778, \"#fb9f3a\"], [0.8888888888888888, \"#fdca26\"], [1.0, \"#f0f921\"]], \"type\": \"histogram2d\"}], \"histogram2dcontour\": [{\"colorbar\": {\"outlinewidth\": 0, \"ticks\": \"\"}, \"colorscale\": [[0.0, \"#0d0887\"], [0.1111111111111111, \"#46039f\"], [0.2222222222222222, \"#7201a8\"], [0.3333333333333333, \"#9c179e\"], [0.4444444444444444, \"#bd3786\"], [0.5555555555555556, \"#d8576b\"], [0.6666666666666666, \"#ed7953\"], [0.7777777777777778, \"#fb9f3a\"], [0.8888888888888888, \"#fdca26\"], [1.0, \"#f0f921\"]], \"type\": \"histogram2dcontour\"}], \"mesh3d\": [{\"colorbar\": {\"outlinewidth\": 0, \"ticks\": \"\"}, \"type\": \"mesh3d\"}], \"parcoords\": [{\"line\": {\"colorbar\": {\"outlinewidth\": 0, \"ticks\": \"\"}}, \"type\": \"parcoords\"}], \"pie\": [{\"automargin\": true, \"type\": \"pie\"}], \"scatter\": [{\"marker\": {\"colorbar\": {\"outlinewidth\": 0, \"ticks\": \"\"}}, \"type\": \"scatter\"}], \"scatter3d\": [{\"line\": {\"colorbar\": {\"outlinewidth\": 0, \"ticks\": \"\"}}, \"marker\": {\"colorbar\": {\"outlinewidth\": 0, \"ticks\": \"\"}}, \"type\": \"scatter3d\"}], \"scattercarpet\": [{\"marker\": {\"colorbar\": {\"outlinewidth\": 0, \"ticks\": \"\"}}, \"type\": \"scattercarpet\"}], \"scattergeo\": [{\"marker\": {\"colorbar\": {\"outlinewidth\": 0, \"ticks\": \"\"}}, \"type\": \"scattergeo\"}], \"scattergl\": [{\"marker\": {\"colorbar\": {\"outlinewidth\": 0, \"ticks\": \"\"}}, \"type\": \"scattergl\"}], \"scattermapbox\": [{\"marker\": {\"colorbar\": {\"outlinewidth\": 0, \"ticks\": \"\"}}, \"type\": \"scattermapbox\"}], \"scatterpolar\": [{\"marker\": {\"colorbar\": {\"outlinewidth\": 0, \"ticks\": \"\"}}, \"type\": \"scatterpolar\"}], \"scatterpolargl\": [{\"marker\": {\"colorbar\": {\"outlinewidth\": 0, \"ticks\": \"\"}}, \"type\": \"scatterpolargl\"}], \"scatterternary\": [{\"marker\": {\"colorbar\": {\"outlinewidth\": 0, \"ticks\": \"\"}}, \"type\": \"scatterternary\"}], \"surface\": [{\"colorbar\": {\"outlinewidth\": 0, \"ticks\": \"\"}, \"colorscale\": [[0.0, \"#0d0887\"], [0.1111111111111111, \"#46039f\"], [0.2222222222222222, \"#7201a8\"], [0.3333333333333333, \"#9c179e\"], [0.4444444444444444, \"#bd3786\"], [0.5555555555555556, \"#d8576b\"], [0.6666666666666666, \"#ed7953\"], [0.7777777777777778, \"#fb9f3a\"], [0.8888888888888888, \"#fdca26\"], [1.0, \"#f0f921\"]], \"type\": \"surface\"}], \"table\": [{\"cells\": {\"fill\": {\"color\": \"#EBF0F8\"}, \"line\": {\"color\": \"white\"}}, \"header\": {\"fill\": {\"color\": \"#C8D4E3\"}, \"line\": {\"color\": \"white\"}}, \"type\": \"table\"}]}, \"layout\": {\"annotationdefaults\": {\"arrowcolor\": \"#2a3f5f\", \"arrowhead\": 0, \"arrowwidth\": 1}, \"coloraxis\": {\"colorbar\": {\"outlinewidth\": 0, \"ticks\": \"\"}}, \"colorscale\": {\"diverging\": [[0, \"#8e0152\"], [0.1, \"#c51b7d\"], [0.2, \"#de77ae\"], [0.3, \"#f1b6da\"], [0.4, \"#fde0ef\"], [0.5, \"#f7f7f7\"], [0.6, \"#e6f5d0\"], [0.7, \"#b8e186\"], [0.8, \"#7fbc41\"], [0.9, \"#4d9221\"], [1, \"#276419\"]], \"sequential\": [[0.0, \"#0d0887\"], [0.1111111111111111, \"#46039f\"], [0.2222222222222222, \"#7201a8\"], [0.3333333333333333, \"#9c179e\"], [0.4444444444444444, \"#bd3786\"], [0.5555555555555556, \"#d8576b\"], [0.6666666666666666, \"#ed7953\"], [0.7777777777777778, \"#fb9f3a\"], [0.8888888888888888, \"#fdca26\"], [1.0, \"#f0f921\"]], \"sequentialminus\": [[0.0, \"#0d0887\"], [0.1111111111111111, \"#46039f\"], [0.2222222222222222, \"#7201a8\"], [0.3333333333333333, \"#9c179e\"], [0.4444444444444444, \"#bd3786\"], [0.5555555555555556, \"#d8576b\"], [0.6666666666666666, \"#ed7953\"], [0.7777777777777778, \"#fb9f3a\"], [0.8888888888888888, \"#fdca26\"], [1.0, \"#f0f921\"]]}, \"colorway\": [\"#636efa\", \"#EF553B\", \"#00cc96\", \"#ab63fa\", \"#FFA15A\", \"#19d3f3\", \"#FF6692\", \"#B6E880\", \"#FF97FF\", \"#FECB52\"], \"font\": {\"color\": \"#2a3f5f\"}, \"geo\": {\"bgcolor\": \"white\", \"lakecolor\": \"white\", \"landcolor\": \"#E5ECF6\", \"showlakes\": true, \"showland\": true, \"subunitcolor\": \"white\"}, \"hoverlabel\": {\"align\": \"left\"}, \"hovermode\": \"closest\", \"mapbox\": {\"style\": \"light\"}, \"paper_bgcolor\": \"white\", \"plot_bgcolor\": \"#E5ECF6\", \"polar\": {\"angularaxis\": {\"gridcolor\": \"white\", \"linecolor\": \"white\", \"ticks\": \"\"}, \"bgcolor\": \"#E5ECF6\", \"radialaxis\": {\"gridcolor\": \"white\", \"linecolor\": \"white\", \"ticks\": \"\"}}, \"scene\": {\"xaxis\": {\"backgroundcolor\": \"#E5ECF6\", \"gridcolor\": \"white\", \"gridwidth\": 2, \"linecolor\": \"white\", \"showbackground\": true, \"ticks\": \"\", \"zerolinecolor\": \"white\"}, \"yaxis\": {\"backgroundcolor\": \"#E5ECF6\", \"gridcolor\": \"white\", \"gridwidth\": 2, \"linecolor\": \"white\", \"showbackground\": true, \"ticks\": \"\", \"zerolinecolor\": \"white\"}, \"zaxis\": {\"backgroundcolor\": \"#E5ECF6\", \"gridcolor\": \"white\", \"gridwidth\": 2, \"linecolor\": \"white\", \"showbackground\": true, \"ticks\": \"\", \"zerolinecolor\": \"white\"}}, \"shapedefaults\": {\"line\": {\"color\": \"#2a3f5f\"}}, \"ternary\": {\"aaxis\": {\"gridcolor\": \"white\", \"linecolor\": \"white\", \"ticks\": \"\"}, \"baxis\": {\"gridcolor\": \"white\", \"linecolor\": \"white\", \"ticks\": \"\"}, \"bgcolor\": \"#E5ECF6\", \"caxis\": {\"gridcolor\": \"white\", \"linecolor\": \"white\", \"ticks\": \"\"}}, \"title\": {\"x\": 0.05}, \"xaxis\": {\"automargin\": true, \"gridcolor\": \"white\", \"linecolor\": \"white\", \"ticks\": \"\", \"title\": {\"standoff\": 15}, \"zerolinecolor\": \"white\", \"zerolinewidth\": 2}, \"yaxis\": {\"automargin\": true, \"gridcolor\": \"white\", \"linecolor\": \"white\", \"ticks\": \"\", \"title\": {\"standoff\": 15}, \"zerolinecolor\": \"white\", \"zerolinewidth\": 2}}}, \"title\": {\"font\": {\"color\": \"#4D5663\"}}, \"xaxis\": {\"gridcolor\": \"#E1E5ED\", \"showgrid\": true, \"tickfont\": {\"color\": \"#4D5663\"}, \"title\": {\"font\": {\"color\": \"#4D5663\"}, \"text\": \"\"}, \"zerolinecolor\": \"#E1E5ED\"}, \"yaxis\": {\"gridcolor\": \"#E1E5ED\", \"showgrid\": true, \"tickfont\": {\"color\": \"#4D5663\"}, \"title\": {\"font\": {\"color\": \"#4D5663\"}, \"text\": \"\"}, \"zerolinecolor\": \"#E1E5ED\"}},                        {\"showLink\": true, \"linkText\": \"Export to plot.ly\", \"plotlyServerURL\": \"https://plot.ly\", \"responsive\": true}                    ).then(function(){\n",
       "                            \n",
       "var gd = document.getElementById('c4b3f169-374c-4fdd-8324-1d4859410ebf');\n",
       "var x = new MutationObserver(function (mutations, observer) {{\n",
       "        var display = window.getComputedStyle(gd).display;\n",
       "        if (!display || display === 'none') {{\n",
       "            console.log([gd, 'removed!']);\n",
       "            Plotly.purge(gd);\n",
       "            observer.disconnect();\n",
       "        }}\n",
       "}});\n",
       "\n",
       "// Listen for the removal of the full notebook cells\n",
       "var notebookContainer = gd.closest('#notebook-container');\n",
       "if (notebookContainer) {{\n",
       "    x.observe(notebookContainer, {childList: true});\n",
       "}}\n",
       "\n",
       "// Listen for the clearing of the current output cell\n",
       "var outputEl = gd.closest('.output');\n",
       "if (outputEl) {{\n",
       "    x.observe(outputEl, {childList: true});\n",
       "}}\n",
       "\n",
       "                        })                };                });            </script>        </div>"
      ]
     },
     "metadata": {},
     "output_type": "display_data"
    }
   ],
   "source": [
    "df3 = pd.DataFrame({'x':[1,2,3,4,5],'y':[10,20,30,20,10],'z':[5,4,3,2,1]})\n",
    "df3.iplot(kind='surface',colorscale='rdylbu')"
   ]
  },
  {
   "cell_type": "markdown",
   "metadata": {},
   "source": [
    "## Spread"
   ]
  },
  {
   "cell_type": "code",
   "execution_count": 15,
   "metadata": {},
   "outputs": [
    {
     "name": "stderr",
     "output_type": "stream",
     "text": [
      "/home/umesh/.my_env/lib/python3.8/site-packages/cufflinks/plotlytools.py:849: FutureWarning:\n",
      "\n",
      "The pandas.np module is deprecated and will be removed from pandas in a future version. Import numpy directly instead\n",
      "\n",
      "/home/umesh/.my_env/lib/python3.8/site-packages/cufflinks/plotlytools.py:850: FutureWarning:\n",
      "\n",
      "The pandas.np module is deprecated and will be removed from pandas in a future version. Import numpy directly instead\n",
      "\n"
     ]
    },
    {
     "data": {
      "application/vnd.plotly.v1+json": {
       "config": {
        "linkText": "Export to plot.ly",
        "plotlyServerURL": "https://plot.ly",
        "showLink": true
       },
       "data": [
        {
         "line": {
          "color": "rgba(255, 153, 51, 1.0)",
          "dash": "solid",
          "shape": "linear",
          "width": 1.3
         },
         "mode": "lines",
         "name": "A",
         "text": "",
         "type": "scatter",
         "x": [
          0,
          1,
          2,
          3,
          4,
          5,
          6,
          7,
          8,
          9,
          10,
          11,
          12,
          13,
          14,
          15,
          16,
          17,
          18,
          19,
          20,
          21,
          22,
          23,
          24,
          25,
          26,
          27,
          28,
          29,
          30,
          31,
          32,
          33,
          34,
          35,
          36,
          37,
          38,
          39,
          40,
          41,
          42,
          43,
          44,
          45,
          46,
          47,
          48,
          49,
          50,
          51,
          52,
          53,
          54,
          55,
          56,
          57,
          58,
          59,
          60,
          61,
          62,
          63,
          64,
          65,
          66,
          67,
          68,
          69,
          70,
          71,
          72,
          73,
          74,
          75,
          76,
          77,
          78,
          79,
          80,
          81,
          82,
          83,
          84,
          85,
          86,
          87,
          88,
          89,
          90,
          91,
          92,
          93,
          94,
          95,
          96,
          97,
          98,
          99
         ],
         "y": [
          1.6798269758748492,
          -0.2199836590415361,
          -2.4507820246760064,
          0.5345621049020333,
          -0.39856302744576677,
          -0.11261594574231408,
          0.18365368973708873,
          0.898157970332645,
          0.5753381411578375,
          -2.5763720307296083,
          1.38619832554469,
          -0.962354296236438,
          -1.101467819394483,
          -0.7987809996163434,
          -0.6933812853507427,
          0.8419418051636006,
          -1.5221391970802596,
          -0.06385761933739592,
          0.30807683903399036,
          -0.7080227475637054,
          1.4257322784721362,
          -0.6664877158684318,
          -0.8257276357775953,
          1.379311012710703,
          0.12044978700400753,
          -0.08648401244585327,
          1.2432979360283543,
          2.508360802520673,
          0.4643248708834873,
          -0.955633157694708,
          -1.535509984047946,
          -1.374791885319085,
          0.28630164904878097,
          0.7342244324101905,
          -0.02823128516313799,
          -0.7341739046874015,
          0.39230715140972666,
          0.8062188113949558,
          0.30642943847769355,
          -1.5844204083389668,
          -2.2168568921759118,
          0.818329086945323,
          -0.5429278392392303,
          -0.7677746861982568,
          0.4741597360051739,
          -0.7475180141955834,
          0.0663887639237793,
          0.1104087523560313,
          -0.487974454740564,
          -0.6582049749501504,
          0.7694795936392425,
          0.44001560003027074,
          -0.17121162838917453,
          1.3832908461628157,
          -0.19406089191467876,
          2.168061754494002,
          0.3351737818497473,
          2.1010768804402264,
          -0.7756198079418396,
          1.0972186157731403,
          -0.04018321949200649,
          0.5420574778414596,
          0.2740649957684385,
          -1.5137635358552375,
          0.6650360912190366,
          0.4432625903392581,
          -1.6308736220096962,
          0.1301705393722849,
          0.6511756307706884,
          0.0016669869019767401,
          -0.9550881209517254,
          -1.0469423873967165,
          0.9994755176228046,
          -0.07805461310115813,
          -0.18178366842378185,
          -0.5228836054837369,
          -0.96767637213527,
          0.8164590720680147,
          0.5365041447608002,
          0.9790438576307355,
          0.3635173181176478,
          2.561887388439632,
          1.6256800837780936,
          0.6638107412352435,
          -0.0911766669481064,
          -0.32992322533456153,
          0.84982905999064,
          1.1478701245524643,
          -0.2916632912204899,
          1.394588035257012,
          -0.7133373113633735,
          -0.4431573586059646,
          -1.5292557482074411,
          -0.17871425985598202,
          0.23194177885240613,
          -1.2413517177464832,
          -1.6314464938492308,
          -1.4795279562965968,
          1.4040753247894164,
          2.501998029267809
         ]
        },
        {
         "line": {
          "color": "rgba(55, 128, 191, 1.0)",
          "dash": "solid",
          "shape": "linear",
          "width": 1.3
         },
         "mode": "lines",
         "name": "B",
         "text": "",
         "type": "scatter",
         "x": [
          0,
          1,
          2,
          3,
          4,
          5,
          6,
          7,
          8,
          9,
          10,
          11,
          12,
          13,
          14,
          15,
          16,
          17,
          18,
          19,
          20,
          21,
          22,
          23,
          24,
          25,
          26,
          27,
          28,
          29,
          30,
          31,
          32,
          33,
          34,
          35,
          36,
          37,
          38,
          39,
          40,
          41,
          42,
          43,
          44,
          45,
          46,
          47,
          48,
          49,
          50,
          51,
          52,
          53,
          54,
          55,
          56,
          57,
          58,
          59,
          60,
          61,
          62,
          63,
          64,
          65,
          66,
          67,
          68,
          69,
          70,
          71,
          72,
          73,
          74,
          75,
          76,
          77,
          78,
          79,
          80,
          81,
          82,
          83,
          84,
          85,
          86,
          87,
          88,
          89,
          90,
          91,
          92,
          93,
          94,
          95,
          96,
          97,
          98,
          99
         ],
         "y": [
          -0.12944734190583249,
          -1.0964889210243227,
          -0.5688852625502178,
          2.4297126243557483,
          -0.6383179022401426,
          1.3561041448228395,
          -1.6651231504114188,
          0.2265362648432785,
          -2.0850226632797053,
          -2.3545591407570408,
          -1.1544274265573464,
          -0.4020479105629905,
          0.7895905985975938,
          0.7635632808206712,
          1.0231198669273638,
          2.2341143641943866,
          -2.2238915188013473,
          1.5283196068066418,
          2.058348244085285,
          0.053217829034620585,
          0.22227011237441024,
          0.18489704765681375,
          0.12486905080928802,
          0.969842991236598,
          -1.0482429553408665,
          0.8698847804194278,
          0.44588677004507565,
          -0.48751361405153193,
          0.33871488249048853,
          0.08589547691066018,
          1.520945017949968,
          0.4569931771003894,
          1.2944302524269116,
          1.6595127234593101,
          0.2710476742444291,
          -1.0021626352598372,
          0.8333820174820911,
          2.0198279770917407,
          -0.5579077878955658,
          -1.3790125878837953,
          1.5504112462608328,
          0.7258539885499488,
          0.16185050291894446,
          0.2924235347750846,
          -0.11910266309169193,
          -0.615398941759039,
          -0.530541022662267,
          0.7296369995652676,
          -1.4240486031951645,
          0.11073633883215957,
          0.6660226906250679,
          1.906341998994936,
          -0.809995774784047,
          -0.30889295305373726,
          1.1285525514247758,
          0.34010724747164967,
          1.1523194218879722,
          1.1500189899063549,
          -0.5921815874122709,
          1.6377477244644454,
          -0.696212406644362,
          -0.9587823452227174,
          0.2234331442497379,
          1.2311048031470695,
          -1.3913622289532295,
          -1.2456227014348427,
          0.07377413858952699,
          0.028619694828842464,
          0.21859811019916658,
          0.30173022612751677,
          -0.33698284311818816,
          0.6826533256019267,
          0.42527896103784163,
          -0.197894256639745,
          -0.5478886833710794,
          0.6394656680012822,
          -0.6477899051158909,
          0.26517299635865355,
          -0.4756976453911347,
          0.043295979729102166,
          0.0551056386251421,
          -0.02355682898881277,
          -1.6708649508149047,
          -0.5283349647398393,
          1.253322423115921,
          0.5323566961329269,
          -0.09719960500654366,
          -1.4370784482181538,
          -0.4171279131882182,
          -0.004360096322667945,
          1.1708193047502593,
          0.565476788609084,
          -0.9097673723544455,
          0.730880385355846,
          -0.6277790455857233,
          -0.43289643685794166,
          -0.1717910597522223,
          -0.7009702749426628,
          -0.5187570470781957,
          -0.054924326521840865
         ]
        },
        {
         "connectgaps": false,
         "fill": "tozeroy",
         "line": {
          "color": "green",
          "dash": "solid",
          "shape": "linear",
          "width": 0.5
         },
         "mode": "lines",
         "name": "Spread",
         "showlegend": false,
         "type": "scatter",
         "x": [
          0,
          1,
          2,
          3,
          4,
          5,
          6,
          7,
          8,
          9,
          10,
          11,
          12,
          13,
          14,
          15,
          16,
          17,
          18,
          19,
          20,
          21,
          22,
          23,
          24,
          25,
          26,
          27,
          28,
          29,
          30,
          31,
          32,
          33,
          34,
          35,
          36,
          37,
          38,
          39,
          40,
          41,
          42,
          43,
          44,
          45,
          46,
          47,
          48,
          49,
          50,
          51,
          52,
          53,
          54,
          55,
          56,
          57,
          58,
          59,
          60,
          61,
          62,
          63,
          64,
          65,
          66,
          67,
          68,
          69,
          70,
          71,
          72,
          73,
          74,
          75,
          76,
          77,
          78,
          79,
          80,
          81,
          82,
          83,
          84,
          85,
          86,
          87,
          88,
          89,
          90,
          91,
          92,
          93,
          94,
          95,
          96,
          97,
          98,
          99
         ],
         "xaxis": "x2",
         "y": [
          1.8092743177806816,
          0.8765052619827867,
          "",
          "",
          0.23975487479437585,
          "",
          1.8487768401485076,
          0.6716217054893665,
          2.660360804437543,
          "",
          2.540625752102036,
          "",
          "",
          "",
          "",
          "",
          0.7017523217210877,
          "",
          "",
          "",
          1.203462166097726,
          "",
          "",
          0.4094680214741051,
          1.168692742344874,
          "",
          0.7974111659832785,
          2.995874416572205,
          0.12560998839299875,
          "",
          "",
          "",
          "",
          "",
          "",
          0.26798873057243566,
          "",
          "",
          0.8643372263732594,
          "",
          "",
          0.09247509839537427,
          "",
          "",
          0.5932623990968658,
          "",
          0.5969297865860463,
          "",
          0.9360741484546005,
          "",
          0.10345690301417454,
          "",
          0.6387841463948725,
          1.692183799216553,
          "",
          1.8279545070223526,
          "",
          0.9510578905338716,
          "",
          "",
          0.6560291871523555,
          1.500839823064177,
          0.050631851518700616,
          "",
          2.056398320172266,
          1.6888852917741008,
          "",
          0.10155084454344243,
          0.4325775205715218,
          "",
          "",
          "",
          0.5741965565849629,
          0.11983964353858687,
          0.3661050149472976,
          "",
          "",
          0.5512860757093612,
          1.012201790151935,
          0.9357478779016334,
          0.3084116794925057,
          2.585444217428445,
          3.2965450345929983,
          1.1921457059750828,
          "",
          "",
          0.9470286649971836,
          2.5849485727706183,
          0.12546462196772828,
          1.39894813157968,
          "",
          "",
          "",
          "",
          0.8597208244381294,
          "",
          "",
          "",
          1.9228323718676121,
          2.55692235578965
         ],
         "yaxis": "y2"
        },
        {
         "connectgaps": false,
         "fill": "tozeroy",
         "line": {
          "color": "red",
          "dash": "solid",
          "shape": "linear",
          "width": 0.5
         },
         "mode": "lines",
         "name": "Spread",
         "showlegend": false,
         "type": "scatter",
         "x": [
          0,
          1,
          2,
          3,
          4,
          5,
          6,
          7,
          8,
          9,
          10,
          11,
          12,
          13,
          14,
          15,
          16,
          17,
          18,
          19,
          20,
          21,
          22,
          23,
          24,
          25,
          26,
          27,
          28,
          29,
          30,
          31,
          32,
          33,
          34,
          35,
          36,
          37,
          38,
          39,
          40,
          41,
          42,
          43,
          44,
          45,
          46,
          47,
          48,
          49,
          50,
          51,
          52,
          53,
          54,
          55,
          56,
          57,
          58,
          59,
          60,
          61,
          62,
          63,
          64,
          65,
          66,
          67,
          68,
          69,
          70,
          71,
          72,
          73,
          74,
          75,
          76,
          77,
          78,
          79,
          80,
          81,
          82,
          83,
          84,
          85,
          86,
          87,
          88,
          89,
          90,
          91,
          92,
          93,
          94,
          95,
          96,
          97,
          98,
          99
         ],
         "xaxis": "x2",
         "y": [
          "",
          "",
          -1.8818967621257885,
          -1.895150519453715,
          "",
          -1.4687200905651536,
          "",
          "",
          "",
          -0.22181288997256754,
          "",
          -0.5603063856734475,
          -1.8910584179920766,
          -1.5623442804370145,
          -1.7165011522781066,
          -1.392172559030786,
          "",
          -1.5921772261440377,
          -1.7502714050512946,
          -0.761240576598326,
          "",
          -0.8513847635252456,
          -0.9505966865868833,
          "",
          "",
          -0.9563687928652811,
          "",
          "",
          "",
          -1.0415286346053683,
          -3.056455001997914,
          -1.8317850624194745,
          -1.0081286033781307,
          -0.9252882910491196,
          -0.2992789594075671,
          "",
          -0.4410748660723644,
          -1.213609165696785,
          "",
          -0.20540782045517147,
          -3.7672681384367444,
          "",
          -0.7047783421581747,
          -1.0601982209733414,
          "",
          -0.13211907243654442,
          "",
          -0.6192282472092363,
          "",
          -0.76894131378231,
          "",
          -1.4663263989646653,
          "",
          "",
          -1.3226134433394545,
          "",
          -0.8171456400382249,
          "",
          -0.1834382205295687,
          -0.5405291086913051,
          "",
          "",
          "",
          -2.744868339002307,
          "",
          "",
          -1.7046477605992232,
          "",
          "",
          -0.30006323922554,
          -0.6181052778335372,
          -1.7295957129986432,
          "",
          "",
          "",
          -1.1623492734850192,
          -0.3198864670193792,
          "",
          "",
          "",
          "",
          "",
          "",
          "",
          -1.3444990900640275,
          -0.8622799214674884,
          "",
          "",
          "",
          "",
          -1.884156616113633,
          -1.0086341472150486,
          -0.6194883758529957,
          -0.909594645211828,
          "",
          -0.8084552808885416,
          -1.4596554340970085,
          -0.778557681353934,
          "",
          ""
         ],
         "yaxis": "y2"
        }
       ],
       "layout": {
        "autosize": true,
        "hovermode": "x",
        "legend": {
         "bgcolor": "#F5F6F9",
         "font": {
          "color": "#4D5663"
         }
        },
        "paper_bgcolor": "#F5F6F9",
        "plot_bgcolor": "#F5F6F9",
        "template": {
         "data": {
          "bar": [
           {
            "error_x": {
             "color": "#2a3f5f"
            },
            "error_y": {
             "color": "#2a3f5f"
            },
            "marker": {
             "line": {
              "color": "#E5ECF6",
              "width": 0.5
             }
            },
            "type": "bar"
           }
          ],
          "barpolar": [
           {
            "marker": {
             "line": {
              "color": "#E5ECF6",
              "width": 0.5
             }
            },
            "type": "barpolar"
           }
          ],
          "carpet": [
           {
            "aaxis": {
             "endlinecolor": "#2a3f5f",
             "gridcolor": "white",
             "linecolor": "white",
             "minorgridcolor": "white",
             "startlinecolor": "#2a3f5f"
            },
            "baxis": {
             "endlinecolor": "#2a3f5f",
             "gridcolor": "white",
             "linecolor": "white",
             "minorgridcolor": "white",
             "startlinecolor": "#2a3f5f"
            },
            "type": "carpet"
           }
          ],
          "choropleth": [
           {
            "colorbar": {
             "outlinewidth": 0,
             "ticks": ""
            },
            "type": "choropleth"
           }
          ],
          "contour": [
           {
            "colorbar": {
             "outlinewidth": 0,
             "ticks": ""
            },
            "colorscale": [
             [
              0,
              "#0d0887"
             ],
             [
              0.1111111111111111,
              "#46039f"
             ],
             [
              0.2222222222222222,
              "#7201a8"
             ],
             [
              0.3333333333333333,
              "#9c179e"
             ],
             [
              0.4444444444444444,
              "#bd3786"
             ],
             [
              0.5555555555555556,
              "#d8576b"
             ],
             [
              0.6666666666666666,
              "#ed7953"
             ],
             [
              0.7777777777777778,
              "#fb9f3a"
             ],
             [
              0.8888888888888888,
              "#fdca26"
             ],
             [
              1,
              "#f0f921"
             ]
            ],
            "type": "contour"
           }
          ],
          "contourcarpet": [
           {
            "colorbar": {
             "outlinewidth": 0,
             "ticks": ""
            },
            "type": "contourcarpet"
           }
          ],
          "heatmap": [
           {
            "colorbar": {
             "outlinewidth": 0,
             "ticks": ""
            },
            "colorscale": [
             [
              0,
              "#0d0887"
             ],
             [
              0.1111111111111111,
              "#46039f"
             ],
             [
              0.2222222222222222,
              "#7201a8"
             ],
             [
              0.3333333333333333,
              "#9c179e"
             ],
             [
              0.4444444444444444,
              "#bd3786"
             ],
             [
              0.5555555555555556,
              "#d8576b"
             ],
             [
              0.6666666666666666,
              "#ed7953"
             ],
             [
              0.7777777777777778,
              "#fb9f3a"
             ],
             [
              0.8888888888888888,
              "#fdca26"
             ],
             [
              1,
              "#f0f921"
             ]
            ],
            "type": "heatmap"
           }
          ],
          "heatmapgl": [
           {
            "colorbar": {
             "outlinewidth": 0,
             "ticks": ""
            },
            "colorscale": [
             [
              0,
              "#0d0887"
             ],
             [
              0.1111111111111111,
              "#46039f"
             ],
             [
              0.2222222222222222,
              "#7201a8"
             ],
             [
              0.3333333333333333,
              "#9c179e"
             ],
             [
              0.4444444444444444,
              "#bd3786"
             ],
             [
              0.5555555555555556,
              "#d8576b"
             ],
             [
              0.6666666666666666,
              "#ed7953"
             ],
             [
              0.7777777777777778,
              "#fb9f3a"
             ],
             [
              0.8888888888888888,
              "#fdca26"
             ],
             [
              1,
              "#f0f921"
             ]
            ],
            "type": "heatmapgl"
           }
          ],
          "histogram": [
           {
            "marker": {
             "colorbar": {
              "outlinewidth": 0,
              "ticks": ""
             }
            },
            "type": "histogram"
           }
          ],
          "histogram2d": [
           {
            "colorbar": {
             "outlinewidth": 0,
             "ticks": ""
            },
            "colorscale": [
             [
              0,
              "#0d0887"
             ],
             [
              0.1111111111111111,
              "#46039f"
             ],
             [
              0.2222222222222222,
              "#7201a8"
             ],
             [
              0.3333333333333333,
              "#9c179e"
             ],
             [
              0.4444444444444444,
              "#bd3786"
             ],
             [
              0.5555555555555556,
              "#d8576b"
             ],
             [
              0.6666666666666666,
              "#ed7953"
             ],
             [
              0.7777777777777778,
              "#fb9f3a"
             ],
             [
              0.8888888888888888,
              "#fdca26"
             ],
             [
              1,
              "#f0f921"
             ]
            ],
            "type": "histogram2d"
           }
          ],
          "histogram2dcontour": [
           {
            "colorbar": {
             "outlinewidth": 0,
             "ticks": ""
            },
            "colorscale": [
             [
              0,
              "#0d0887"
             ],
             [
              0.1111111111111111,
              "#46039f"
             ],
             [
              0.2222222222222222,
              "#7201a8"
             ],
             [
              0.3333333333333333,
              "#9c179e"
             ],
             [
              0.4444444444444444,
              "#bd3786"
             ],
             [
              0.5555555555555556,
              "#d8576b"
             ],
             [
              0.6666666666666666,
              "#ed7953"
             ],
             [
              0.7777777777777778,
              "#fb9f3a"
             ],
             [
              0.8888888888888888,
              "#fdca26"
             ],
             [
              1,
              "#f0f921"
             ]
            ],
            "type": "histogram2dcontour"
           }
          ],
          "mesh3d": [
           {
            "colorbar": {
             "outlinewidth": 0,
             "ticks": ""
            },
            "type": "mesh3d"
           }
          ],
          "parcoords": [
           {
            "line": {
             "colorbar": {
              "outlinewidth": 0,
              "ticks": ""
             }
            },
            "type": "parcoords"
           }
          ],
          "pie": [
           {
            "automargin": true,
            "type": "pie"
           }
          ],
          "scatter": [
           {
            "marker": {
             "colorbar": {
              "outlinewidth": 0,
              "ticks": ""
             }
            },
            "type": "scatter"
           }
          ],
          "scatter3d": [
           {
            "line": {
             "colorbar": {
              "outlinewidth": 0,
              "ticks": ""
             }
            },
            "marker": {
             "colorbar": {
              "outlinewidth": 0,
              "ticks": ""
             }
            },
            "type": "scatter3d"
           }
          ],
          "scattercarpet": [
           {
            "marker": {
             "colorbar": {
              "outlinewidth": 0,
              "ticks": ""
             }
            },
            "type": "scattercarpet"
           }
          ],
          "scattergeo": [
           {
            "marker": {
             "colorbar": {
              "outlinewidth": 0,
              "ticks": ""
             }
            },
            "type": "scattergeo"
           }
          ],
          "scattergl": [
           {
            "marker": {
             "colorbar": {
              "outlinewidth": 0,
              "ticks": ""
             }
            },
            "type": "scattergl"
           }
          ],
          "scattermapbox": [
           {
            "marker": {
             "colorbar": {
              "outlinewidth": 0,
              "ticks": ""
             }
            },
            "type": "scattermapbox"
           }
          ],
          "scatterpolar": [
           {
            "marker": {
             "colorbar": {
              "outlinewidth": 0,
              "ticks": ""
             }
            },
            "type": "scatterpolar"
           }
          ],
          "scatterpolargl": [
           {
            "marker": {
             "colorbar": {
              "outlinewidth": 0,
              "ticks": ""
             }
            },
            "type": "scatterpolargl"
           }
          ],
          "scatterternary": [
           {
            "marker": {
             "colorbar": {
              "outlinewidth": 0,
              "ticks": ""
             }
            },
            "type": "scatterternary"
           }
          ],
          "surface": [
           {
            "colorbar": {
             "outlinewidth": 0,
             "ticks": ""
            },
            "colorscale": [
             [
              0,
              "#0d0887"
             ],
             [
              0.1111111111111111,
              "#46039f"
             ],
             [
              0.2222222222222222,
              "#7201a8"
             ],
             [
              0.3333333333333333,
              "#9c179e"
             ],
             [
              0.4444444444444444,
              "#bd3786"
             ],
             [
              0.5555555555555556,
              "#d8576b"
             ],
             [
              0.6666666666666666,
              "#ed7953"
             ],
             [
              0.7777777777777778,
              "#fb9f3a"
             ],
             [
              0.8888888888888888,
              "#fdca26"
             ],
             [
              1,
              "#f0f921"
             ]
            ],
            "type": "surface"
           }
          ],
          "table": [
           {
            "cells": {
             "fill": {
              "color": "#EBF0F8"
             },
             "line": {
              "color": "white"
             }
            },
            "header": {
             "fill": {
              "color": "#C8D4E3"
             },
             "line": {
              "color": "white"
             }
            },
            "type": "table"
           }
          ]
         },
         "layout": {
          "annotationdefaults": {
           "arrowcolor": "#2a3f5f",
           "arrowhead": 0,
           "arrowwidth": 1
          },
          "coloraxis": {
           "colorbar": {
            "outlinewidth": 0,
            "ticks": ""
           }
          },
          "colorscale": {
           "diverging": [
            [
             0,
             "#8e0152"
            ],
            [
             0.1,
             "#c51b7d"
            ],
            [
             0.2,
             "#de77ae"
            ],
            [
             0.3,
             "#f1b6da"
            ],
            [
             0.4,
             "#fde0ef"
            ],
            [
             0.5,
             "#f7f7f7"
            ],
            [
             0.6,
             "#e6f5d0"
            ],
            [
             0.7,
             "#b8e186"
            ],
            [
             0.8,
             "#7fbc41"
            ],
            [
             0.9,
             "#4d9221"
            ],
            [
             1,
             "#276419"
            ]
           ],
           "sequential": [
            [
             0,
             "#0d0887"
            ],
            [
             0.1111111111111111,
             "#46039f"
            ],
            [
             0.2222222222222222,
             "#7201a8"
            ],
            [
             0.3333333333333333,
             "#9c179e"
            ],
            [
             0.4444444444444444,
             "#bd3786"
            ],
            [
             0.5555555555555556,
             "#d8576b"
            ],
            [
             0.6666666666666666,
             "#ed7953"
            ],
            [
             0.7777777777777778,
             "#fb9f3a"
            ],
            [
             0.8888888888888888,
             "#fdca26"
            ],
            [
             1,
             "#f0f921"
            ]
           ],
           "sequentialminus": [
            [
             0,
             "#0d0887"
            ],
            [
             0.1111111111111111,
             "#46039f"
            ],
            [
             0.2222222222222222,
             "#7201a8"
            ],
            [
             0.3333333333333333,
             "#9c179e"
            ],
            [
             0.4444444444444444,
             "#bd3786"
            ],
            [
             0.5555555555555556,
             "#d8576b"
            ],
            [
             0.6666666666666666,
             "#ed7953"
            ],
            [
             0.7777777777777778,
             "#fb9f3a"
            ],
            [
             0.8888888888888888,
             "#fdca26"
            ],
            [
             1,
             "#f0f921"
            ]
           ]
          },
          "colorway": [
           "#636efa",
           "#EF553B",
           "#00cc96",
           "#ab63fa",
           "#FFA15A",
           "#19d3f3",
           "#FF6692",
           "#B6E880",
           "#FF97FF",
           "#FECB52"
          ],
          "font": {
           "color": "#2a3f5f"
          },
          "geo": {
           "bgcolor": "white",
           "lakecolor": "white",
           "landcolor": "#E5ECF6",
           "showlakes": true,
           "showland": true,
           "subunitcolor": "white"
          },
          "hoverlabel": {
           "align": "left"
          },
          "hovermode": "closest",
          "mapbox": {
           "style": "light"
          },
          "paper_bgcolor": "white",
          "plot_bgcolor": "#E5ECF6",
          "polar": {
           "angularaxis": {
            "gridcolor": "white",
            "linecolor": "white",
            "ticks": ""
           },
           "bgcolor": "#E5ECF6",
           "radialaxis": {
            "gridcolor": "white",
            "linecolor": "white",
            "ticks": ""
           }
          },
          "scene": {
           "xaxis": {
            "backgroundcolor": "#E5ECF6",
            "gridcolor": "white",
            "gridwidth": 2,
            "linecolor": "white",
            "showbackground": true,
            "ticks": "",
            "zerolinecolor": "white"
           },
           "yaxis": {
            "backgroundcolor": "#E5ECF6",
            "gridcolor": "white",
            "gridwidth": 2,
            "linecolor": "white",
            "showbackground": true,
            "ticks": "",
            "zerolinecolor": "white"
           },
           "zaxis": {
            "backgroundcolor": "#E5ECF6",
            "gridcolor": "white",
            "gridwidth": 2,
            "linecolor": "white",
            "showbackground": true,
            "ticks": "",
            "zerolinecolor": "white"
           }
          },
          "shapedefaults": {
           "line": {
            "color": "#2a3f5f"
           }
          },
          "ternary": {
           "aaxis": {
            "gridcolor": "white",
            "linecolor": "white",
            "ticks": ""
           },
           "baxis": {
            "gridcolor": "white",
            "linecolor": "white",
            "ticks": ""
           },
           "bgcolor": "#E5ECF6",
           "caxis": {
            "gridcolor": "white",
            "linecolor": "white",
            "ticks": ""
           }
          },
          "title": {
           "x": 0.05
          },
          "xaxis": {
           "automargin": true,
           "gridcolor": "white",
           "linecolor": "white",
           "ticks": "",
           "title": {
            "standoff": 15
           },
           "zerolinecolor": "white",
           "zerolinewidth": 2
          },
          "yaxis": {
           "automargin": true,
           "gridcolor": "white",
           "linecolor": "white",
           "ticks": "",
           "title": {
            "standoff": 15
           },
           "zerolinecolor": "white",
           "zerolinewidth": 2
          }
         }
        },
        "title": {
         "font": {
          "color": "#4D5663"
         }
        },
        "xaxis": {
         "autorange": true,
         "gridcolor": "#E1E5ED",
         "range": [
          0,
          99
         ],
         "showgrid": true,
         "tickfont": {
          "color": "#4D5663"
         },
         "title": {
          "font": {
           "color": "#4D5663"
          },
          "text": ""
         },
         "type": "linear",
         "zerolinecolor": "#E1E5ED"
        },
        "xaxis2": {
         "anchor": "y2",
         "autorange": true,
         "gridcolor": "#E1E5ED",
         "range": [
          0,
          99
         ],
         "showgrid": true,
         "showticklabels": false,
         "tickfont": {
          "color": "#4D5663"
         },
         "title": {
          "font": {
           "color": "#4D5663"
          },
          "text": ""
         },
         "type": "linear",
         "zerolinecolor": "#E1E5ED"
        },
        "yaxis": {
         "autorange": true,
         "domain": [
          0.3,
          1
         ],
         "gridcolor": "#E1E5ED",
         "range": [
          -2.8618308873501217,
          2.8473462450601454
         ],
         "showgrid": true,
         "tickfont": {
          "color": "#4D5663"
         },
         "title": {
          "font": {
           "color": "#4D5663"
          },
          "text": ""
         },
         "type": "linear",
         "zerolinecolor": "#E1E5ED"
        },
        "yaxis2": {
         "autorange": true,
         "domain": [
          0,
          0.25
         ],
         "gridcolor": "#E1E5ED",
         "range": [
          -4.159702203605064,
          3.688979099761317
         ],
         "showgrid": true,
         "tickfont": {
          "color": "#4D5663"
         },
         "title": {
          "font": {
           "color": "#4D5663"
          },
          "text": "Spread"
         },
         "type": "linear",
         "zerolinecolor": "#E1E5ED"
        }
       }
      },
      "image/png": "[encoded data removed]",
      "text/html": [
       "<div>                            <div id=\"31e86f62-2ef1-43d2-8e9d-3ce55c71eed9\" class=\"plotly-graph-div\" style=\"height:525px; width:100%;\"></div>            <script type=\"text/javascript\">                require([\"plotly\"], function(Plotly) {                    window.PLOTLYENV=window.PLOTLYENV || {};\n",
       "                    window.PLOTLYENV.BASE_URL='https://plot.ly';                                    if (document.getElementById(\"31e86f62-2ef1-43d2-8e9d-3ce55c71eed9\")) {                    Plotly.newPlot(                        \"31e86f62-2ef1-43d2-8e9d-3ce55c71eed9\",                        [{\"line\": {\"color\": \"rgba(255, 153, 51, 1.0)\", \"dash\": \"solid\", \"shape\": \"linear\", \"width\": 1.3}, \"mode\": \"lines\", \"name\": \"A\", \"text\": \"\", \"type\": \"scatter\", \"x\": [0, 1, 2, 3, 4, 5, 6, 7, 8, 9, 10, 11, 12, 13, 14, 15, 16, 17, 18, 19, 20, 21, 22, 23, 24, 25, 26, 27, 28, 29, 30, 31, 32, 33, 34, 35, 36, 37, 38, 39, 40, 41, 42, 43, 44, 45, 46, 47, 48, 49, 50, 51, 52, 53, 54, 55, 56, 57, 58, 59, 60, 61, 62, 63, 64, 65, 66, 67, 68, 69, 70, 71, 72, 73, 74, 75, 76, 77, 78, 79, 80, 81, 82, 83, 84, 85, 86, 87, 88, 89, 90, 91, 92, 93, 94, 95, 96, 97, 98, 99], \"y\": [1.6798269758748492, -0.2199836590415361, -2.4507820246760064, 0.5345621049020333, -0.39856302744576677, -0.11261594574231408, 0.18365368973708873, 0.898157970332645, 0.5753381411578375, -2.5763720307296083, 1.38619832554469, -0.962354296236438, -1.101467819394483, -0.7987809996163434, -0.6933812853507427, 0.8419418051636006, -1.5221391970802596, -0.06385761933739592, 0.30807683903399036, -0.7080227475637054, 1.4257322784721362, -0.6664877158684318, -0.8257276357775953, 1.379311012710703, 0.12044978700400753, -0.08648401244585327, 1.2432979360283543, 2.508360802520673, 0.4643248708834873, -0.955633157694708, -1.535509984047946, -1.374791885319085, 0.28630164904878097, 0.7342244324101905, -0.02823128516313799, -0.7341739046874015, 0.39230715140972666, 0.8062188113949558, 0.30642943847769355, -1.5844204083389668, -2.2168568921759118, 0.818329086945323, -0.5429278392392303, -0.7677746861982568, 0.4741597360051739, -0.7475180141955834, 0.0663887639237793, 0.1104087523560313, -0.487974454740564, -0.6582049749501504, 0.7694795936392425, 0.44001560003027074, -0.17121162838917453, 1.3832908461628157, -0.19406089191467876, 2.168061754494002, 0.3351737818497473, 2.1010768804402264, -0.7756198079418396, 1.0972186157731403, -0.04018321949200649, 0.5420574778414596, 0.2740649957684385, -1.5137635358552375, 0.6650360912190366, 0.4432625903392581, -1.6308736220096962, 0.1301705393722849, 0.6511756307706884, 0.0016669869019767401, -0.9550881209517254, -1.0469423873967165, 0.9994755176228046, -0.07805461310115813, -0.18178366842378185, -0.5228836054837369, -0.96767637213527, 0.8164590720680147, 0.5365041447608002, 0.9790438576307355, 0.3635173181176478, 2.561887388439632, 1.6256800837780936, 0.6638107412352435, -0.0911766669481064, -0.32992322533456153, 0.84982905999064, 1.1478701245524643, -0.2916632912204899, 1.394588035257012, -0.7133373113633735, -0.4431573586059646, -1.5292557482074411, -0.17871425985598202, 0.23194177885240613, -1.2413517177464832, -1.6314464938492308, -1.4795279562965968, 1.4040753247894164, 2.501998029267809]}, {\"line\": {\"color\": \"rgba(55, 128, 191, 1.0)\", \"dash\": \"solid\", \"shape\": \"linear\", \"width\": 1.3}, \"mode\": \"lines\", \"name\": \"B\", \"text\": \"\", \"type\": \"scatter\", \"x\": [0, 1, 2, 3, 4, 5, 6, 7, 8, 9, 10, 11, 12, 13, 14, 15, 16, 17, 18, 19, 20, 21, 22, 23, 24, 25, 26, 27, 28, 29, 30, 31, 32, 33, 34, 35, 36, 37, 38, 39, 40, 41, 42, 43, 44, 45, 46, 47, 48, 49, 50, 51, 52, 53, 54, 55, 56, 57, 58, 59, 60, 61, 62, 63, 64, 65, 66, 67, 68, 69, 70, 71, 72, 73, 74, 75, 76, 77, 78, 79, 80, 81, 82, 83, 84, 85, 86, 87, 88, 89, 90, 91, 92, 93, 94, 95, 96, 97, 98, 99], \"y\": [-0.12944734190583249, -1.0964889210243227, -0.5688852625502178, 2.4297126243557483, -0.6383179022401426, 1.3561041448228395, -1.6651231504114188, 0.2265362648432785, -2.0850226632797053, -2.3545591407570408, -1.1544274265573464, -0.4020479105629905, 0.7895905985975938, 0.7635632808206712, 1.0231198669273638, 2.2341143641943866, -2.2238915188013473, 1.5283196068066418, 2.058348244085285, 0.053217829034620585, 0.22227011237441024, 0.18489704765681375, 0.12486905080928802, 0.969842991236598, -1.0482429553408665, 0.8698847804194278, 0.44588677004507565, -0.48751361405153193, 0.33871488249048853, 0.08589547691066018, 1.520945017949968, 0.4569931771003894, 1.2944302524269116, 1.6595127234593101, 0.2710476742444291, -1.0021626352598372, 0.8333820174820911, 2.0198279770917407, -0.5579077878955658, -1.3790125878837953, 1.5504112462608328, 0.7258539885499488, 0.16185050291894446, 0.2924235347750846, -0.11910266309169193, -0.615398941759039, -0.530541022662267, 0.7296369995652676, -1.4240486031951645, 0.11073633883215957, 0.6660226906250679, 1.906341998994936, -0.809995774784047, -0.30889295305373726, 1.1285525514247758, 0.34010724747164967, 1.1523194218879722, 1.1500189899063549, -0.5921815874122709, 1.6377477244644454, -0.696212406644362, -0.9587823452227174, 0.2234331442497379, 1.2311048031470695, -1.3913622289532295, -1.2456227014348427, 0.07377413858952699, 0.028619694828842464, 0.21859811019916658, 0.30173022612751677, -0.33698284311818816, 0.6826533256019267, 0.42527896103784163, -0.197894256639745, -0.5478886833710794, 0.6394656680012822, -0.6477899051158909, 0.26517299635865355, -0.4756976453911347, 0.043295979729102166, 0.0551056386251421, -0.02355682898881277, -1.6708649508149047, -0.5283349647398393, 1.253322423115921, 0.5323566961329269, -0.09719960500654366, -1.4370784482181538, -0.4171279131882182, -0.004360096322667945, 1.1708193047502593, 0.565476788609084, -0.9097673723544455, 0.730880385355846, -0.6277790455857233, -0.43289643685794166, -0.1717910597522223, -0.7009702749426628, -0.5187570470781957, -0.054924326521840865]}, {\"connectgaps\": false, \"fill\": \"tozeroy\", \"line\": {\"color\": \"green\", \"dash\": \"solid\", \"shape\": \"linear\", \"width\": 0.5}, \"mode\": \"lines\", \"name\": \"Spread\", \"showlegend\": false, \"type\": \"scatter\", \"x\": [0, 1, 2, 3, 4, 5, 6, 7, 8, 9, 10, 11, 12, 13, 14, 15, 16, 17, 18, 19, 20, 21, 22, 23, 24, 25, 26, 27, 28, 29, 30, 31, 32, 33, 34, 35, 36, 37, 38, 39, 40, 41, 42, 43, 44, 45, 46, 47, 48, 49, 50, 51, 52, 53, 54, 55, 56, 57, 58, 59, 60, 61, 62, 63, 64, 65, 66, 67, 68, 69, 70, 71, 72, 73, 74, 75, 76, 77, 78, 79, 80, 81, 82, 83, 84, 85, 86, 87, 88, 89, 90, 91, 92, 93, 94, 95, 96, 97, 98, 99], \"xaxis\": \"x2\", \"y\": [1.8092743177806816, 0.8765052619827867, \"\", \"\", 0.23975487479437585, \"\", 1.8487768401485076, 0.6716217054893665, 2.660360804437543, \"\", 2.540625752102036, \"\", \"\", \"\", \"\", \"\", 0.7017523217210877, \"\", \"\", \"\", 1.203462166097726, \"\", \"\", 0.4094680214741051, 1.168692742344874, \"\", 0.7974111659832785, 2.995874416572205, 0.12560998839299875, \"\", \"\", \"\", \"\", \"\", \"\", 0.26798873057243566, \"\", \"\", 0.8643372263732594, \"\", \"\", 0.09247509839537427, \"\", \"\", 0.5932623990968658, \"\", 0.5969297865860463, \"\", 0.9360741484546005, \"\", 0.10345690301417454, \"\", 0.6387841463948725, 1.692183799216553, \"\", 1.8279545070223526, \"\", 0.9510578905338716, \"\", \"\", 0.6560291871523555, 1.500839823064177, 0.050631851518700616, \"\", 2.056398320172266, 1.6888852917741008, \"\", 0.10155084454344243, 0.4325775205715218, \"\", \"\", \"\", 0.5741965565849629, 0.11983964353858687, 0.3661050149472976, \"\", \"\", 0.5512860757093612, 1.012201790151935, 0.9357478779016334, 0.3084116794925057, 2.585444217428445, 3.2965450345929983, 1.1921457059750828, \"\", \"\", 0.9470286649971836, 2.5849485727706183, 0.12546462196772828, 1.39894813157968, \"\", \"\", \"\", \"\", 0.8597208244381294, \"\", \"\", \"\", 1.9228323718676121, 2.55692235578965], \"yaxis\": \"y2\"}, {\"connectgaps\": false, \"fill\": \"tozeroy\", \"line\": {\"color\": \"red\", \"dash\": \"solid\", \"shape\": \"linear\", \"width\": 0.5}, \"mode\": \"lines\", \"name\": \"Spread\", \"showlegend\": false, \"type\": \"scatter\", \"x\": [0, 1, 2, 3, 4, 5, 6, 7, 8, 9, 10, 11, 12, 13, 14, 15, 16, 17, 18, 19, 20, 21, 22, 23, 24, 25, 26, 27, 28, 29, 30, 31, 32, 33, 34, 35, 36, 37, 38, 39, 40, 41, 42, 43, 44, 45, 46, 47, 48, 49, 50, 51, 52, 53, 54, 55, 56, 57, 58, 59, 60, 61, 62, 63, 64, 65, 66, 67, 68, 69, 70, 71, 72, 73, 74, 75, 76, 77, 78, 79, 80, 81, 82, 83, 84, 85, 86, 87, 88, 89, 90, 91, 92, 93, 94, 95, 96, 97, 98, 99], \"xaxis\": \"x2\", \"y\": [\"\", \"\", -1.8818967621257885, -1.895150519453715, \"\", -1.4687200905651536, \"\", \"\", \"\", -0.22181288997256754, \"\", -0.5603063856734475, -1.8910584179920766, -1.5623442804370145, -1.7165011522781066, -1.392172559030786, \"\", -1.5921772261440377, -1.7502714050512946, -0.761240576598326, \"\", -0.8513847635252456, -0.9505966865868833, \"\", \"\", -0.9563687928652811, \"\", \"\", \"\", -1.0415286346053683, -3.056455001997914, -1.8317850624194745, -1.0081286033781307, -0.9252882910491196, -0.2992789594075671, \"\", -0.4410748660723644, -1.213609165696785, \"\", -0.20540782045517147, -3.7672681384367444, \"\", -0.7047783421581747, -1.0601982209733414, \"\", -0.13211907243654442, \"\", -0.6192282472092363, \"\", -0.76894131378231, \"\", -1.4663263989646653, \"\", \"\", -1.3226134433394545, \"\", -0.8171456400382249, \"\", -0.1834382205295687, -0.5405291086913051, \"\", \"\", \"\", -2.744868339002307, \"\", \"\", -1.7046477605992232, \"\", \"\", -0.30006323922554, -0.6181052778335372, -1.7295957129986432, \"\", \"\", \"\", -1.1623492734850192, -0.3198864670193792, \"\", \"\", \"\", \"\", \"\", \"\", \"\", -1.3444990900640275, -0.8622799214674884, \"\", \"\", \"\", \"\", -1.884156616113633, -1.0086341472150486, -0.6194883758529957, -0.909594645211828, \"\", -0.8084552808885416, -1.4596554340970085, -0.778557681353934, \"\", \"\"], \"yaxis\": \"y2\"}],                        {\"hovermode\": \"x\", \"legend\": {\"bgcolor\": \"#F5F6F9\", \"font\": {\"color\": \"#4D5663\"}}, \"paper_bgcolor\": \"#F5F6F9\", \"plot_bgcolor\": \"#F5F6F9\", \"template\": {\"data\": {\"bar\": [{\"error_x\": {\"color\": \"#2a3f5f\"}, \"error_y\": {\"color\": \"#2a3f5f\"}, \"marker\": {\"line\": {\"color\": \"#E5ECF6\", \"width\": 0.5}}, \"type\": \"bar\"}], \"barpolar\": [{\"marker\": {\"line\": {\"color\": \"#E5ECF6\", \"width\": 0.5}}, \"type\": \"barpolar\"}], \"carpet\": [{\"aaxis\": {\"endlinecolor\": \"#2a3f5f\", \"gridcolor\": \"white\", \"linecolor\": \"white\", \"minorgridcolor\": \"white\", \"startlinecolor\": \"#2a3f5f\"}, \"baxis\": {\"endlinecolor\": \"#2a3f5f\", \"gridcolor\": \"white\", \"linecolor\": \"white\", \"minorgridcolor\": \"white\", \"startlinecolor\": \"#2a3f5f\"}, \"type\": \"carpet\"}], \"choropleth\": [{\"colorbar\": {\"outlinewidth\": 0, \"ticks\": \"\"}, \"type\": \"choropleth\"}], \"contour\": [{\"colorbar\": {\"outlinewidth\": 0, \"ticks\": \"\"}, \"colorscale\": [[0.0, \"#0d0887\"], [0.1111111111111111, \"#46039f\"], [0.2222222222222222, \"#7201a8\"], [0.3333333333333333, \"#9c179e\"], [0.4444444444444444, \"#bd3786\"], [0.5555555555555556, \"#d8576b\"], [0.6666666666666666, \"#ed7953\"], [0.7777777777777778, \"#fb9f3a\"], [0.8888888888888888, \"#fdca26\"], [1.0, \"#f0f921\"]], \"type\": \"contour\"}], \"contourcarpet\": [{\"colorbar\": {\"outlinewidth\": 0, \"ticks\": \"\"}, \"type\": \"contourcarpet\"}], \"heatmap\": [{\"colorbar\": {\"outlinewidth\": 0, \"ticks\": \"\"}, \"colorscale\": [[0.0, \"#0d0887\"], [0.1111111111111111, \"#46039f\"], [0.2222222222222222, \"#7201a8\"], [0.3333333333333333, \"#9c179e\"], [0.4444444444444444, \"#bd3786\"], [0.5555555555555556, \"#d8576b\"], [0.6666666666666666, \"#ed7953\"], [0.7777777777777778, \"#fb9f3a\"], [0.8888888888888888, \"#fdca26\"], [1.0, \"#f0f921\"]], \"type\": \"heatmap\"}], \"heatmapgl\": [{\"colorbar\": {\"outlinewidth\": 0, \"ticks\": \"\"}, \"colorscale\": [[0.0, \"#0d0887\"], [0.1111111111111111, \"#46039f\"], [0.2222222222222222, \"#7201a8\"], [0.3333333333333333, \"#9c179e\"], [0.4444444444444444, \"#bd3786\"], [0.5555555555555556, \"#d8576b\"], [0.6666666666666666, \"#ed7953\"], [0.7777777777777778, \"#fb9f3a\"], [0.8888888888888888, \"#fdca26\"], [1.0, \"#f0f921\"]], \"type\": \"heatmapgl\"}], \"histogram\": [{\"marker\": {\"colorbar\": {\"outlinewidth\": 0, \"ticks\": \"\"}}, \"type\": \"histogram\"}], \"histogram2d\": [{\"colorbar\": {\"outlinewidth\": 0, \"ticks\": \"\"}, \"colorscale\": [[0.0, \"#0d0887\"], [0.1111111111111111, \"#46039f\"], [0.2222222222222222, \"#7201a8\"], [0.3333333333333333, \"#9c179e\"], [0.4444444444444444, \"#bd3786\"], [0.5555555555555556, \"#d8576b\"], [0.6666666666666666, \"#ed7953\"], [0.7777777777777778, \"#fb9f3a\"], [0.8888888888888888, \"#fdca26\"], [1.0, \"#f0f921\"]], \"type\": \"histogram2d\"}], \"histogram2dcontour\": [{\"colorbar\": {\"outlinewidth\": 0, \"ticks\": \"\"}, \"colorscale\": [[0.0, \"#0d0887\"], [0.1111111111111111, \"#46039f\"], [0.2222222222222222, \"#7201a8\"], [0.3333333333333333, \"#9c179e\"], [0.4444444444444444, \"#bd3786\"], [0.5555555555555556, \"#d8576b\"], [0.6666666666666666, \"#ed7953\"], [0.7777777777777778, \"#fb9f3a\"], [0.8888888888888888, \"#fdca26\"], [1.0, \"#f0f921\"]], \"type\": \"histogram2dcontour\"}], \"mesh3d\": [{\"colorbar\": {\"outlinewidth\": 0, \"ticks\": \"\"}, \"type\": \"mesh3d\"}], \"parcoords\": [{\"line\": {\"colorbar\": {\"outlinewidth\": 0, \"ticks\": \"\"}}, \"type\": \"parcoords\"}], \"pie\": [{\"automargin\": true, \"type\": \"pie\"}], \"scatter\": [{\"marker\": {\"colorbar\": {\"outlinewidth\": 0, \"ticks\": \"\"}}, \"type\": \"scatter\"}], \"scatter3d\": [{\"line\": {\"colorbar\": {\"outlinewidth\": 0, \"ticks\": \"\"}}, \"marker\": {\"colorbar\": {\"outlinewidth\": 0, \"ticks\": \"\"}}, \"type\": \"scatter3d\"}], \"scattercarpet\": [{\"marker\": {\"colorbar\": {\"outlinewidth\": 0, \"ticks\": \"\"}}, \"type\": \"scattercarpet\"}], \"scattergeo\": [{\"marker\": {\"colorbar\": {\"outlinewidth\": 0, \"ticks\": \"\"}}, \"type\": \"scattergeo\"}], \"scattergl\": [{\"marker\": {\"colorbar\": {\"outlinewidth\": 0, \"ticks\": \"\"}}, \"type\": \"scattergl\"}], \"scattermapbox\": [{\"marker\": {\"colorbar\": {\"outlinewidth\": 0, \"ticks\": \"\"}}, \"type\": \"scattermapbox\"}], \"scatterpolar\": [{\"marker\": {\"colorbar\": {\"outlinewidth\": 0, \"ticks\": \"\"}}, \"type\": \"scatterpolar\"}], \"scatterpolargl\": [{\"marker\": {\"colorbar\": {\"outlinewidth\": 0, \"ticks\": \"\"}}, \"type\": \"scatterpolargl\"}], \"scatterternary\": [{\"marker\": {\"colorbar\": {\"outlinewidth\": 0, \"ticks\": \"\"}}, \"type\": \"scatterternary\"}], \"surface\": [{\"colorbar\": {\"outlinewidth\": 0, \"ticks\": \"\"}, \"colorscale\": [[0.0, \"#0d0887\"], [0.1111111111111111, \"#46039f\"], [0.2222222222222222, \"#7201a8\"], [0.3333333333333333, \"#9c179e\"], [0.4444444444444444, \"#bd3786\"], [0.5555555555555556, \"#d8576b\"], [0.6666666666666666, \"#ed7953\"], [0.7777777777777778, \"#fb9f3a\"], [0.8888888888888888, \"#fdca26\"], [1.0, \"#f0f921\"]], \"type\": \"surface\"}], \"table\": [{\"cells\": {\"fill\": {\"color\": \"#EBF0F8\"}, \"line\": {\"color\": \"white\"}}, \"header\": {\"fill\": {\"color\": \"#C8D4E3\"}, \"line\": {\"color\": \"white\"}}, \"type\": \"table\"}]}, \"layout\": {\"annotationdefaults\": {\"arrowcolor\": \"#2a3f5f\", \"arrowhead\": 0, \"arrowwidth\": 1}, \"coloraxis\": {\"colorbar\": {\"outlinewidth\": 0, \"ticks\": \"\"}}, \"colorscale\": {\"diverging\": [[0, \"#8e0152\"], [0.1, \"#c51b7d\"], [0.2, \"#de77ae\"], [0.3, \"#f1b6da\"], [0.4, \"#fde0ef\"], [0.5, \"#f7f7f7\"], [0.6, \"#e6f5d0\"], [0.7, \"#b8e186\"], [0.8, \"#7fbc41\"], [0.9, \"#4d9221\"], [1, \"#276419\"]], \"sequential\": [[0.0, \"#0d0887\"], [0.1111111111111111, \"#46039f\"], [0.2222222222222222, \"#7201a8\"], [0.3333333333333333, \"#9c179e\"], [0.4444444444444444, \"#bd3786\"], [0.5555555555555556, \"#d8576b\"], [0.6666666666666666, \"#ed7953\"], [0.7777777777777778, \"#fb9f3a\"], [0.8888888888888888, \"#fdca26\"], [1.0, \"#f0f921\"]], \"sequentialminus\": [[0.0, \"#0d0887\"], [0.1111111111111111, \"#46039f\"], [0.2222222222222222, \"#7201a8\"], [0.3333333333333333, \"#9c179e\"], [0.4444444444444444, \"#bd3786\"], [0.5555555555555556, \"#d8576b\"], [0.6666666666666666, \"#ed7953\"], [0.7777777777777778, \"#fb9f3a\"], [0.8888888888888888, \"#fdca26\"], [1.0, \"#f0f921\"]]}, \"colorway\": [\"#636efa\", \"#EF553B\", \"#00cc96\", \"#ab63fa\", \"#FFA15A\", \"#19d3f3\", \"#FF6692\", \"#B6E880\", \"#FF97FF\", \"#FECB52\"], \"font\": {\"color\": \"#2a3f5f\"}, \"geo\": {\"bgcolor\": \"white\", \"lakecolor\": \"white\", \"landcolor\": \"#E5ECF6\", \"showlakes\": true, \"showland\": true, \"subunitcolor\": \"white\"}, \"hoverlabel\": {\"align\": \"left\"}, \"hovermode\": \"closest\", \"mapbox\": {\"style\": \"light\"}, \"paper_bgcolor\": \"white\", \"plot_bgcolor\": \"#E5ECF6\", \"polar\": {\"angularaxis\": {\"gridcolor\": \"white\", \"linecolor\": \"white\", \"ticks\": \"\"}, \"bgcolor\": \"#E5ECF6\", \"radialaxis\": {\"gridcolor\": \"white\", \"linecolor\": \"white\", \"ticks\": \"\"}}, \"scene\": {\"xaxis\": {\"backgroundcolor\": \"#E5ECF6\", \"gridcolor\": \"white\", \"gridwidth\": 2, \"linecolor\": \"white\", \"showbackground\": true, \"ticks\": \"\", \"zerolinecolor\": \"white\"}, \"yaxis\": {\"backgroundcolor\": \"#E5ECF6\", \"gridcolor\": \"white\", \"gridwidth\": 2, \"linecolor\": \"white\", \"showbackground\": true, \"ticks\": \"\", \"zerolinecolor\": \"white\"}, \"zaxis\": {\"backgroundcolor\": \"#E5ECF6\", \"gridcolor\": \"white\", \"gridwidth\": 2, \"linecolor\": \"white\", \"showbackground\": true, \"ticks\": \"\", \"zerolinecolor\": \"white\"}}, \"shapedefaults\": {\"line\": {\"color\": \"#2a3f5f\"}}, \"ternary\": {\"aaxis\": {\"gridcolor\": \"white\", \"linecolor\": \"white\", \"ticks\": \"\"}, \"baxis\": {\"gridcolor\": \"white\", \"linecolor\": \"white\", \"ticks\": \"\"}, \"bgcolor\": \"#E5ECF6\", \"caxis\": {\"gridcolor\": \"white\", \"linecolor\": \"white\", \"ticks\": \"\"}}, \"title\": {\"x\": 0.05}, \"xaxis\": {\"automargin\": true, \"gridcolor\": \"white\", \"linecolor\": \"white\", \"ticks\": \"\", \"title\": {\"standoff\": 15}, \"zerolinecolor\": \"white\", \"zerolinewidth\": 2}, \"yaxis\": {\"automargin\": true, \"gridcolor\": \"white\", \"linecolor\": \"white\", \"ticks\": \"\", \"title\": {\"standoff\": 15}, \"zerolinecolor\": \"white\", \"zerolinewidth\": 2}}}, \"title\": {\"font\": {\"color\": \"#4D5663\"}}, \"xaxis\": {\"gridcolor\": \"#E1E5ED\", \"showgrid\": true, \"tickfont\": {\"color\": \"#4D5663\"}, \"title\": {\"font\": {\"color\": \"#4D5663\"}, \"text\": \"\"}, \"zerolinecolor\": \"#E1E5ED\"}, \"xaxis2\": {\"anchor\": \"y2\", \"gridcolor\": \"#E1E5ED\", \"showgrid\": true, \"showticklabels\": false, \"tickfont\": {\"color\": \"#4D5663\"}, \"title\": {\"font\": {\"color\": \"#4D5663\"}, \"text\": \"\"}, \"zerolinecolor\": \"#E1E5ED\"}, \"yaxis\": {\"domain\": [0.3, 1], \"gridcolor\": \"#E1E5ED\", \"showgrid\": true, \"tickfont\": {\"color\": \"#4D5663\"}, \"title\": {\"font\": {\"color\": \"#4D5663\"}, \"text\": \"\"}, \"zerolinecolor\": \"#E1E5ED\"}, \"yaxis2\": {\"domain\": [0, 0.25], \"gridcolor\": \"#E1E5ED\", \"showgrid\": true, \"tickfont\": {\"color\": \"#4D5663\"}, \"title\": {\"font\": {\"color\": \"#4D5663\"}, \"text\": \"Spread\"}, \"zerolinecolor\": \"#E1E5ED\"}},                        {\"showLink\": true, \"linkText\": \"Export to plot.ly\", \"plotlyServerURL\": \"https://plot.ly\", \"responsive\": true}                    ).then(function(){\n",
       "                            \n",
       "var gd = document.getElementById('31e86f62-2ef1-43d2-8e9d-3ce55c71eed9');\n",
       "var x = new MutationObserver(function (mutations, observer) {{\n",
       "        var display = window.getComputedStyle(gd).display;\n",
       "        if (!display || display === 'none') {{\n",
       "            console.log([gd, 'removed!']);\n",
       "            Plotly.purge(gd);\n",
       "            observer.disconnect();\n",
       "        }}\n",
       "}});\n",
       "\n",
       "// Listen for the removal of the full notebook cells\n",
       "var notebookContainer = gd.closest('#notebook-container');\n",
       "if (notebookContainer) {{\n",
       "    x.observe(notebookContainer, {childList: true});\n",
       "}}\n",
       "\n",
       "// Listen for the clearing of the current output cell\n",
       "var outputEl = gd.closest('.output');\n",
       "if (outputEl) {{\n",
       "    x.observe(outputEl, {childList: true});\n",
       "}}\n",
       "\n",
       "                        })                };                });            </script>        </div>"
      ]
     },
     "metadata": {},
     "output_type": "display_data"
    }
   ],
   "source": [
    "df[['A','B']].iplot(kind='spread')"
   ]
  },
  {
   "cell_type": "markdown",
   "metadata": {},
   "source": [
    "## histogram"
   ]
  },
  {
   "cell_type": "code",
   "execution_count": 16,
   "metadata": {},
   "outputs": [
    {
     "data": {
      "application/vnd.plotly.v1+json": {
       "config": {
        "linkText": "Export to plot.ly",
        "plotlyServerURL": "https://plot.ly",
        "showLink": true
       },
       "data": [
        {
         "histfunc": "count",
         "histnorm": "",
         "marker": {
          "color": "rgba(255, 153, 51, 1.0)",
          "line": {
           "color": "#4D5663",
           "width": 1.3
          }
         },
         "name": "A",
         "nbinsx": 25,
         "opacity": 0.8,
         "orientation": "v",
         "type": "histogram",
         "x": [
          1.6798269758748492,
          -0.2199836590415361,
          -2.4507820246760064,
          0.5345621049020333,
          -0.39856302744576677,
          -0.11261594574231408,
          0.18365368973708873,
          0.898157970332645,
          0.5753381411578375,
          -2.5763720307296083,
          1.38619832554469,
          -0.962354296236438,
          -1.101467819394483,
          -0.7987809996163434,
          -0.6933812853507427,
          0.8419418051636006,
          -1.5221391970802596,
          -0.06385761933739592,
          0.30807683903399036,
          -0.7080227475637054,
          1.4257322784721362,
          -0.6664877158684318,
          -0.8257276357775953,
          1.379311012710703,
          0.12044978700400753,
          -0.08648401244585327,
          1.2432979360283543,
          2.508360802520673,
          0.4643248708834873,
          -0.955633157694708,
          -1.535509984047946,
          -1.374791885319085,
          0.28630164904878097,
          0.7342244324101905,
          -0.02823128516313799,
          -0.7341739046874015,
          0.39230715140972666,
          0.8062188113949558,
          0.30642943847769355,
          -1.5844204083389668,
          -2.2168568921759118,
          0.818329086945323,
          -0.5429278392392303,
          -0.7677746861982568,
          0.4741597360051739,
          -0.7475180141955834,
          0.0663887639237793,
          0.1104087523560313,
          -0.487974454740564,
          -0.6582049749501504,
          0.7694795936392425,
          0.44001560003027074,
          -0.17121162838917453,
          1.3832908461628157,
          -0.19406089191467876,
          2.168061754494002,
          0.3351737818497473,
          2.1010768804402264,
          -0.7756198079418396,
          1.0972186157731403,
          -0.04018321949200649,
          0.5420574778414596,
          0.2740649957684385,
          -1.5137635358552375,
          0.6650360912190366,
          0.4432625903392581,
          -1.6308736220096962,
          0.1301705393722849,
          0.6511756307706884,
          0.0016669869019767401,
          -0.9550881209517254,
          -1.0469423873967165,
          0.9994755176228046,
          -0.07805461310115813,
          -0.18178366842378185,
          -0.5228836054837369,
          -0.96767637213527,
          0.8164590720680147,
          0.5365041447608002,
          0.9790438576307355,
          0.3635173181176478,
          2.561887388439632,
          1.6256800837780936,
          0.6638107412352435,
          -0.0911766669481064,
          -0.32992322533456153,
          0.84982905999064,
          1.1478701245524643,
          -0.2916632912204899,
          1.394588035257012,
          -0.7133373113633735,
          -0.4431573586059646,
          -1.5292557482074411,
          -0.17871425985598202,
          0.23194177885240613,
          -1.2413517177464832,
          -1.6314464938492308,
          -1.4795279562965968,
          1.4040753247894164,
          2.501998029267809
         ]
        }
       ],
       "layout": {
        "autosize": true,
        "barmode": "overlay",
        "legend": {
         "bgcolor": "#F5F6F9",
         "font": {
          "color": "#4D5663"
         }
        },
        "paper_bgcolor": "#F5F6F9",
        "plot_bgcolor": "#F5F6F9",
        "template": {
         "data": {
          "bar": [
           {
            "error_x": {
             "color": "#2a3f5f"
            },
            "error_y": {
             "color": "#2a3f5f"
            },
            "marker": {
             "line": {
              "color": "#E5ECF6",
              "width": 0.5
             }
            },
            "type": "bar"
           }
          ],
          "barpolar": [
           {
            "marker": {
             "line": {
              "color": "#E5ECF6",
              "width": 0.5
             }
            },
            "type": "barpolar"
           }
          ],
          "carpet": [
           {
            "aaxis": {
             "endlinecolor": "#2a3f5f",
             "gridcolor": "white",
             "linecolor": "white",
             "minorgridcolor": "white",
             "startlinecolor": "#2a3f5f"
            },
            "baxis": {
             "endlinecolor": "#2a3f5f",
             "gridcolor": "white",
             "linecolor": "white",
             "minorgridcolor": "white",
             "startlinecolor": "#2a3f5f"
            },
            "type": "carpet"
           }
          ],
          "choropleth": [
           {
            "colorbar": {
             "outlinewidth": 0,
             "ticks": ""
            },
            "type": "choropleth"
           }
          ],
          "contour": [
           {
            "colorbar": {
             "outlinewidth": 0,
             "ticks": ""
            },
            "colorscale": [
             [
              0,
              "#0d0887"
             ],
             [
              0.1111111111111111,
              "#46039f"
             ],
             [
              0.2222222222222222,
              "#7201a8"
             ],
             [
              0.3333333333333333,
              "#9c179e"
             ],
             [
              0.4444444444444444,
              "#bd3786"
             ],
             [
              0.5555555555555556,
              "#d8576b"
             ],
             [
              0.6666666666666666,
              "#ed7953"
             ],
             [
              0.7777777777777778,
              "#fb9f3a"
             ],
             [
              0.8888888888888888,
              "#fdca26"
             ],
             [
              1,
              "#f0f921"
             ]
            ],
            "type": "contour"
           }
          ],
          "contourcarpet": [
           {
            "colorbar": {
             "outlinewidth": 0,
             "ticks": ""
            },
            "type": "contourcarpet"
           }
          ],
          "heatmap": [
           {
            "colorbar": {
             "outlinewidth": 0,
             "ticks": ""
            },
            "colorscale": [
             [
              0,
              "#0d0887"
             ],
             [
              0.1111111111111111,
              "#46039f"
             ],
             [
              0.2222222222222222,
              "#7201a8"
             ],
             [
              0.3333333333333333,
              "#9c179e"
             ],
             [
              0.4444444444444444,
              "#bd3786"
             ],
             [
              0.5555555555555556,
              "#d8576b"
             ],
             [
              0.6666666666666666,
              "#ed7953"
             ],
             [
              0.7777777777777778,
              "#fb9f3a"
             ],
             [
              0.8888888888888888,
              "#fdca26"
             ],
             [
              1,
              "#f0f921"
             ]
            ],
            "type": "heatmap"
           }
          ],
          "heatmapgl": [
           {
            "colorbar": {
             "outlinewidth": 0,
             "ticks": ""
            },
            "colorscale": [
             [
              0,
              "#0d0887"
             ],
             [
              0.1111111111111111,
              "#46039f"
             ],
             [
              0.2222222222222222,
              "#7201a8"
             ],
             [
              0.3333333333333333,
              "#9c179e"
             ],
             [
              0.4444444444444444,
              "#bd3786"
             ],
             [
              0.5555555555555556,
              "#d8576b"
             ],
             [
              0.6666666666666666,
              "#ed7953"
             ],
             [
              0.7777777777777778,
              "#fb9f3a"
             ],
             [
              0.8888888888888888,
              "#fdca26"
             ],
             [
              1,
              "#f0f921"
             ]
            ],
            "type": "heatmapgl"
           }
          ],
          "histogram": [
           {
            "marker": {
             "colorbar": {
              "outlinewidth": 0,
              "ticks": ""
             }
            },
            "type": "histogram"
           }
          ],
          "histogram2d": [
           {
            "colorbar": {
             "outlinewidth": 0,
             "ticks": ""
            },
            "colorscale": [
             [
              0,
              "#0d0887"
             ],
             [
              0.1111111111111111,
              "#46039f"
             ],
             [
              0.2222222222222222,
              "#7201a8"
             ],
             [
              0.3333333333333333,
              "#9c179e"
             ],
             [
              0.4444444444444444,
              "#bd3786"
             ],
             [
              0.5555555555555556,
              "#d8576b"
             ],
             [
              0.6666666666666666,
              "#ed7953"
             ],
             [
              0.7777777777777778,
              "#fb9f3a"
             ],
             [
              0.8888888888888888,
              "#fdca26"
             ],
             [
              1,
              "#f0f921"
             ]
            ],
            "type": "histogram2d"
           }
          ],
          "histogram2dcontour": [
           {
            "colorbar": {
             "outlinewidth": 0,
             "ticks": ""
            },
            "colorscale": [
             [
              0,
              "#0d0887"
             ],
             [
              0.1111111111111111,
              "#46039f"
             ],
             [
              0.2222222222222222,
              "#7201a8"
             ],
             [
              0.3333333333333333,
              "#9c179e"
             ],
             [
              0.4444444444444444,
              "#bd3786"
             ],
             [
              0.5555555555555556,
              "#d8576b"
             ],
             [
              0.6666666666666666,
              "#ed7953"
             ],
             [
              0.7777777777777778,
              "#fb9f3a"
             ],
             [
              0.8888888888888888,
              "#fdca26"
             ],
             [
              1,
              "#f0f921"
             ]
            ],
            "type": "histogram2dcontour"
           }
          ],
          "mesh3d": [
           {
            "colorbar": {
             "outlinewidth": 0,
             "ticks": ""
            },
            "type": "mesh3d"
           }
          ],
          "parcoords": [
           {
            "line": {
             "colorbar": {
              "outlinewidth": 0,
              "ticks": ""
             }
            },
            "type": "parcoords"
           }
          ],
          "pie": [
           {
            "automargin": true,
            "type": "pie"
           }
          ],
          "scatter": [
           {
            "marker": {
             "colorbar": {
              "outlinewidth": 0,
              "ticks": ""
             }
            },
            "type": "scatter"
           }
          ],
          "scatter3d": [
           {
            "line": {
             "colorbar": {
              "outlinewidth": 0,
              "ticks": ""
             }
            },
            "marker": {
             "colorbar": {
              "outlinewidth": 0,
              "ticks": ""
             }
            },
            "type": "scatter3d"
           }
          ],
          "scattercarpet": [
           {
            "marker": {
             "colorbar": {
              "outlinewidth": 0,
              "ticks": ""
             }
            },
            "type": "scattercarpet"
           }
          ],
          "scattergeo": [
           {
            "marker": {
             "colorbar": {
              "outlinewidth": 0,
              "ticks": ""
             }
            },
            "type": "scattergeo"
           }
          ],
          "scattergl": [
           {
            "marker": {
             "colorbar": {
              "outlinewidth": 0,
              "ticks": ""
             }
            },
            "type": "scattergl"
           }
          ],
          "scattermapbox": [
           {
            "marker": {
             "colorbar": {
              "outlinewidth": 0,
              "ticks": ""
             }
            },
            "type": "scattermapbox"
           }
          ],
          "scatterpolar": [
           {
            "marker": {
             "colorbar": {
              "outlinewidth": 0,
              "ticks": ""
             }
            },
            "type": "scatterpolar"
           }
          ],
          "scatterpolargl": [
           {
            "marker": {
             "colorbar": {
              "outlinewidth": 0,
              "ticks": ""
             }
            },
            "type": "scatterpolargl"
           }
          ],
          "scatterternary": [
           {
            "marker": {
             "colorbar": {
              "outlinewidth": 0,
              "ticks": ""
             }
            },
            "type": "scatterternary"
           }
          ],
          "surface": [
           {
            "colorbar": {
             "outlinewidth": 0,
             "ticks": ""
            },
            "colorscale": [
             [
              0,
              "#0d0887"
             ],
             [
              0.1111111111111111,
              "#46039f"
             ],
             [
              0.2222222222222222,
              "#7201a8"
             ],
             [
              0.3333333333333333,
              "#9c179e"
             ],
             [
              0.4444444444444444,
              "#bd3786"
             ],
             [
              0.5555555555555556,
              "#d8576b"
             ],
             [
              0.6666666666666666,
              "#ed7953"
             ],
             [
              0.7777777777777778,
              "#fb9f3a"
             ],
             [
              0.8888888888888888,
              "#fdca26"
             ],
             [
              1,
              "#f0f921"
             ]
            ],
            "type": "surface"
           }
          ],
          "table": [
           {
            "cells": {
             "fill": {
              "color": "#EBF0F8"
             },
             "line": {
              "color": "white"
             }
            },
            "header": {
             "fill": {
              "color": "#C8D4E3"
             },
             "line": {
              "color": "white"
             }
            },
            "type": "table"
           }
          ]
         },
         "layout": {
          "annotationdefaults": {
           "arrowcolor": "#2a3f5f",
           "arrowhead": 0,
           "arrowwidth": 1
          },
          "coloraxis": {
           "colorbar": {
            "outlinewidth": 0,
            "ticks": ""
           }
          },
          "colorscale": {
           "diverging": [
            [
             0,
             "#8e0152"
            ],
            [
             0.1,
             "#c51b7d"
            ],
            [
             0.2,
             "#de77ae"
            ],
            [
             0.3,
             "#f1b6da"
            ],
            [
             0.4,
             "#fde0ef"
            ],
            [
             0.5,
             "#f7f7f7"
            ],
            [
             0.6,
             "#e6f5d0"
            ],
            [
             0.7,
             "#b8e186"
            ],
            [
             0.8,
             "#7fbc41"
            ],
            [
             0.9,
             "#4d9221"
            ],
            [
             1,
             "#276419"
            ]
           ],
           "sequential": [
            [
             0,
             "#0d0887"
            ],
            [
             0.1111111111111111,
             "#46039f"
            ],
            [
             0.2222222222222222,
             "#7201a8"
            ],
            [
             0.3333333333333333,
             "#9c179e"
            ],
            [
             0.4444444444444444,
             "#bd3786"
            ],
            [
             0.5555555555555556,
             "#d8576b"
            ],
            [
             0.6666666666666666,
             "#ed7953"
            ],
            [
             0.7777777777777778,
             "#fb9f3a"
            ],
            [
             0.8888888888888888,
             "#fdca26"
            ],
            [
             1,
             "#f0f921"
            ]
           ],
           "sequentialminus": [
            [
             0,
             "#0d0887"
            ],
            [
             0.1111111111111111,
             "#46039f"
            ],
            [
             0.2222222222222222,
             "#7201a8"
            ],
            [
             0.3333333333333333,
             "#9c179e"
            ],
            [
             0.4444444444444444,
             "#bd3786"
            ],
            [
             0.5555555555555556,
             "#d8576b"
            ],
            [
             0.6666666666666666,
             "#ed7953"
            ],
            [
             0.7777777777777778,
             "#fb9f3a"
            ],
            [
             0.8888888888888888,
             "#fdca26"
            ],
            [
             1,
             "#f0f921"
            ]
           ]
          },
          "colorway": [
           "#636efa",
           "#EF553B",
           "#00cc96",
           "#ab63fa",
           "#FFA15A",
           "#19d3f3",
           "#FF6692",
           "#B6E880",
           "#FF97FF",
           "#FECB52"
          ],
          "font": {
           "color": "#2a3f5f"
          },
          "geo": {
           "bgcolor": "white",
           "lakecolor": "white",
           "landcolor": "#E5ECF6",
           "showlakes": true,
           "showland": true,
           "subunitcolor": "white"
          },
          "hoverlabel": {
           "align": "left"
          },
          "hovermode": "closest",
          "mapbox": {
           "style": "light"
          },
          "paper_bgcolor": "white",
          "plot_bgcolor": "#E5ECF6",
          "polar": {
           "angularaxis": {
            "gridcolor": "white",
            "linecolor": "white",
            "ticks": ""
           },
           "bgcolor": "#E5ECF6",
           "radialaxis": {
            "gridcolor": "white",
            "linecolor": "white",
            "ticks": ""
           }
          },
          "scene": {
           "xaxis": {
            "backgroundcolor": "#E5ECF6",
            "gridcolor": "white",
            "gridwidth": 2,
            "linecolor": "white",
            "showbackground": true,
            "ticks": "",
            "zerolinecolor": "white"
           },
           "yaxis": {
            "backgroundcolor": "#E5ECF6",
            "gridcolor": "white",
            "gridwidth": 2,
            "linecolor": "white",
            "showbackground": true,
            "ticks": "",
            "zerolinecolor": "white"
           },
           "zaxis": {
            "backgroundcolor": "#E5ECF6",
            "gridcolor": "white",
            "gridwidth": 2,
            "linecolor": "white",
            "showbackground": true,
            "ticks": "",
            "zerolinecolor": "white"
           }
          },
          "shapedefaults": {
           "line": {
            "color": "#2a3f5f"
           }
          },
          "ternary": {
           "aaxis": {
            "gridcolor": "white",
            "linecolor": "white",
            "ticks": ""
           },
           "baxis": {
            "gridcolor": "white",
            "linecolor": "white",
            "ticks": ""
           },
           "bgcolor": "#E5ECF6",
           "caxis": {
            "gridcolor": "white",
            "linecolor": "white",
            "ticks": ""
           }
          },
          "title": {
           "x": 0.05
          },
          "xaxis": {
           "automargin": true,
           "gridcolor": "white",
           "linecolor": "white",
           "ticks": "",
           "title": {
            "standoff": 15
           },
           "zerolinecolor": "white",
           "zerolinewidth": 2
          },
          "yaxis": {
           "automargin": true,
           "gridcolor": "white",
           "linecolor": "white",
           "ticks": "",
           "title": {
            "standoff": 15
           },
           "zerolinecolor": "white",
           "zerolinewidth": 2
          }
         }
        },
        "title": {
         "font": {
          "color": "#4D5663"
         }
        },
        "xaxis": {
         "autorange": true,
         "gridcolor": "#E1E5ED",
         "range": [
          -3,
          3
         ],
         "showgrid": true,
         "tickfont": {
          "color": "#4D5663"
         },
         "title": {
          "font": {
           "color": "#4D5663"
          },
          "text": ""
         },
         "type": "linear",
         "zerolinecolor": "#E1E5ED"
        },
        "yaxis": {
         "autorange": true,
         "gridcolor": "#E1E5ED",
         "range": [
          0,
          18.94736842105263
         ],
         "showgrid": true,
         "tickfont": {
          "color": "#4D5663"
         },
         "title": {
          "font": {
           "color": "#4D5663"
          },
          "text": ""
         },
         "zerolinecolor": "#E1E5ED"
        }
       }
      },
      "image/png": "[encoded data removed]",
      "text/html": [
       "<div>                            <div id=\"b2b02067-7567-4d2a-a767-56cfb2b3060b\" class=\"plotly-graph-div\" style=\"height:525px; width:100%;\"></div>            <script type=\"text/javascript\">                require([\"plotly\"], function(Plotly) {                    window.PLOTLYENV=window.PLOTLYENV || {};\n",
       "                    window.PLOTLYENV.BASE_URL='https://plot.ly';                                    if (document.getElementById(\"b2b02067-7567-4d2a-a767-56cfb2b3060b\")) {                    Plotly.newPlot(                        \"b2b02067-7567-4d2a-a767-56cfb2b3060b\",                        [{\"histfunc\": \"count\", \"histnorm\": \"\", \"marker\": {\"color\": \"rgba(255, 153, 51, 1.0)\", \"line\": {\"color\": \"#4D5663\", \"width\": 1.3}}, \"name\": \"A\", \"nbinsx\": 25, \"opacity\": 0.8, \"orientation\": \"v\", \"type\": \"histogram\", \"x\": [1.6798269758748492, -0.2199836590415361, -2.4507820246760064, 0.5345621049020333, -0.39856302744576677, -0.11261594574231408, 0.18365368973708873, 0.898157970332645, 0.5753381411578375, -2.5763720307296083, 1.38619832554469, -0.962354296236438, -1.101467819394483, -0.7987809996163434, -0.6933812853507427, 0.8419418051636006, -1.5221391970802596, -0.06385761933739592, 0.30807683903399036, -0.7080227475637054, 1.4257322784721362, -0.6664877158684318, -0.8257276357775953, 1.379311012710703, 0.12044978700400753, -0.08648401244585327, 1.2432979360283543, 2.508360802520673, 0.4643248708834873, -0.955633157694708, -1.535509984047946, -1.374791885319085, 0.28630164904878097, 0.7342244324101905, -0.02823128516313799, -0.7341739046874015, 0.39230715140972666, 0.8062188113949558, 0.30642943847769355, -1.5844204083389668, -2.2168568921759118, 0.818329086945323, -0.5429278392392303, -0.7677746861982568, 0.4741597360051739, -0.7475180141955834, 0.0663887639237793, 0.1104087523560313, -0.487974454740564, -0.6582049749501504, 0.7694795936392425, 0.44001560003027074, -0.17121162838917453, 1.3832908461628157, -0.19406089191467876, 2.168061754494002, 0.3351737818497473, 2.1010768804402264, -0.7756198079418396, 1.0972186157731403, -0.04018321949200649, 0.5420574778414596, 0.2740649957684385, -1.5137635358552375, 0.6650360912190366, 0.4432625903392581, -1.6308736220096962, 0.1301705393722849, 0.6511756307706884, 0.0016669869019767401, -0.9550881209517254, -1.0469423873967165, 0.9994755176228046, -0.07805461310115813, -0.18178366842378185, -0.5228836054837369, -0.96767637213527, 0.8164590720680147, 0.5365041447608002, 0.9790438576307355, 0.3635173181176478, 2.561887388439632, 1.6256800837780936, 0.6638107412352435, -0.0911766669481064, -0.32992322533456153, 0.84982905999064, 1.1478701245524643, -0.2916632912204899, 1.394588035257012, -0.7133373113633735, -0.4431573586059646, -1.5292557482074411, -0.17871425985598202, 0.23194177885240613, -1.2413517177464832, -1.6314464938492308, -1.4795279562965968, 1.4040753247894164, 2.501998029267809]}],                        {\"barmode\": \"overlay\", \"legend\": {\"bgcolor\": \"#F5F6F9\", \"font\": {\"color\": \"#4D5663\"}}, \"paper_bgcolor\": \"#F5F6F9\", \"plot_bgcolor\": \"#F5F6F9\", \"template\": {\"data\": {\"bar\": [{\"error_x\": {\"color\": \"#2a3f5f\"}, \"error_y\": {\"color\": \"#2a3f5f\"}, \"marker\": {\"line\": {\"color\": \"#E5ECF6\", \"width\": 0.5}}, \"type\": \"bar\"}], \"barpolar\": [{\"marker\": {\"line\": {\"color\": \"#E5ECF6\", \"width\": 0.5}}, \"type\": \"barpolar\"}], \"carpet\": [{\"aaxis\": {\"endlinecolor\": \"#2a3f5f\", \"gridcolor\": \"white\", \"linecolor\": \"white\", \"minorgridcolor\": \"white\", \"startlinecolor\": \"#2a3f5f\"}, \"baxis\": {\"endlinecolor\": \"#2a3f5f\", \"gridcolor\": \"white\", \"linecolor\": \"white\", \"minorgridcolor\": \"white\", \"startlinecolor\": \"#2a3f5f\"}, \"type\": \"carpet\"}], \"choropleth\": [{\"colorbar\": {\"outlinewidth\": 0, \"ticks\": \"\"}, \"type\": \"choropleth\"}], \"contour\": [{\"colorbar\": {\"outlinewidth\": 0, \"ticks\": \"\"}, \"colorscale\": [[0.0, \"#0d0887\"], [0.1111111111111111, \"#46039f\"], [0.2222222222222222, \"#7201a8\"], [0.3333333333333333, \"#9c179e\"], [0.4444444444444444, \"#bd3786\"], [0.5555555555555556, \"#d8576b\"], [0.6666666666666666, \"#ed7953\"], [0.7777777777777778, \"#fb9f3a\"], [0.8888888888888888, \"#fdca26\"], [1.0, \"#f0f921\"]], \"type\": \"contour\"}], \"contourcarpet\": [{\"colorbar\": {\"outlinewidth\": 0, \"ticks\": \"\"}, \"type\": \"contourcarpet\"}], \"heatmap\": [{\"colorbar\": {\"outlinewidth\": 0, \"ticks\": \"\"}, \"colorscale\": [[0.0, \"#0d0887\"], [0.1111111111111111, \"#46039f\"], [0.2222222222222222, \"#7201a8\"], [0.3333333333333333, \"#9c179e\"], [0.4444444444444444, \"#bd3786\"], [0.5555555555555556, \"#d8576b\"], [0.6666666666666666, \"#ed7953\"], [0.7777777777777778, \"#fb9f3a\"], [0.8888888888888888, \"#fdca26\"], [1.0, \"#f0f921\"]], \"type\": \"heatmap\"}], \"heatmapgl\": [{\"colorbar\": {\"outlinewidth\": 0, \"ticks\": \"\"}, \"colorscale\": [[0.0, \"#0d0887\"], [0.1111111111111111, \"#46039f\"], [0.2222222222222222, \"#7201a8\"], [0.3333333333333333, \"#9c179e\"], [0.4444444444444444, \"#bd3786\"], [0.5555555555555556, \"#d8576b\"], [0.6666666666666666, \"#ed7953\"], [0.7777777777777778, \"#fb9f3a\"], [0.8888888888888888, \"#fdca26\"], [1.0, \"#f0f921\"]], \"type\": \"heatmapgl\"}], \"histogram\": [{\"marker\": {\"colorbar\": {\"outlinewidth\": 0, \"ticks\": \"\"}}, \"type\": \"histogram\"}], \"histogram2d\": [{\"colorbar\": {\"outlinewidth\": 0, \"ticks\": \"\"}, \"colorscale\": [[0.0, \"#0d0887\"], [0.1111111111111111, \"#46039f\"], [0.2222222222222222, \"#7201a8\"], [0.3333333333333333, \"#9c179e\"], [0.4444444444444444, \"#bd3786\"], [0.5555555555555556, \"#d8576b\"], [0.6666666666666666, \"#ed7953\"], [0.7777777777777778, \"#fb9f3a\"], [0.8888888888888888, \"#fdca26\"], [1.0, \"#f0f921\"]], \"type\": \"histogram2d\"}], \"histogram2dcontour\": [{\"colorbar\": {\"outlinewidth\": 0, \"ticks\": \"\"}, \"colorscale\": [[0.0, \"#0d0887\"], [0.1111111111111111, \"#46039f\"], [0.2222222222222222, \"#7201a8\"], [0.3333333333333333, \"#9c179e\"], [0.4444444444444444, \"#bd3786\"], [0.5555555555555556, \"#d8576b\"], [0.6666666666666666, \"#ed7953\"], [0.7777777777777778, \"#fb9f3a\"], [0.8888888888888888, \"#fdca26\"], [1.0, \"#f0f921\"]], \"type\": \"histogram2dcontour\"}], \"mesh3d\": [{\"colorbar\": {\"outlinewidth\": 0, \"ticks\": \"\"}, \"type\": \"mesh3d\"}], \"parcoords\": [{\"line\": {\"colorbar\": {\"outlinewidth\": 0, \"ticks\": \"\"}}, \"type\": \"parcoords\"}], \"pie\": [{\"automargin\": true, \"type\": \"pie\"}], \"scatter\": [{\"marker\": {\"colorbar\": {\"outlinewidth\": 0, \"ticks\": \"\"}}, \"type\": \"scatter\"}], \"scatter3d\": [{\"line\": {\"colorbar\": {\"outlinewidth\": 0, \"ticks\": \"\"}}, \"marker\": {\"colorbar\": {\"outlinewidth\": 0, \"ticks\": \"\"}}, \"type\": \"scatter3d\"}], \"scattercarpet\": [{\"marker\": {\"colorbar\": {\"outlinewidth\": 0, \"ticks\": \"\"}}, \"type\": \"scattercarpet\"}], \"scattergeo\": [{\"marker\": {\"colorbar\": {\"outlinewidth\": 0, \"ticks\": \"\"}}, \"type\": \"scattergeo\"}], \"scattergl\": [{\"marker\": {\"colorbar\": {\"outlinewidth\": 0, \"ticks\": \"\"}}, \"type\": \"scattergl\"}], \"scattermapbox\": [{\"marker\": {\"colorbar\": {\"outlinewidth\": 0, \"ticks\": \"\"}}, \"type\": \"scattermapbox\"}], \"scatterpolar\": [{\"marker\": {\"colorbar\": {\"outlinewidth\": 0, \"ticks\": \"\"}}, \"type\": \"scatterpolar\"}], \"scatterpolargl\": [{\"marker\": {\"colorbar\": {\"outlinewidth\": 0, \"ticks\": \"\"}}, \"type\": \"scatterpolargl\"}], \"scatterternary\": [{\"marker\": {\"colorbar\": {\"outlinewidth\": 0, \"ticks\": \"\"}}, \"type\": \"scatterternary\"}], \"surface\": [{\"colorbar\": {\"outlinewidth\": 0, \"ticks\": \"\"}, \"colorscale\": [[0.0, \"#0d0887\"], [0.1111111111111111, \"#46039f\"], [0.2222222222222222, \"#7201a8\"], [0.3333333333333333, \"#9c179e\"], [0.4444444444444444, \"#bd3786\"], [0.5555555555555556, \"#d8576b\"], [0.6666666666666666, \"#ed7953\"], [0.7777777777777778, \"#fb9f3a\"], [0.8888888888888888, \"#fdca26\"], [1.0, \"#f0f921\"]], \"type\": \"surface\"}], \"table\": [{\"cells\": {\"fill\": {\"color\": \"#EBF0F8\"}, \"line\": {\"color\": \"white\"}}, \"header\": {\"fill\": {\"color\": \"#C8D4E3\"}, \"line\": {\"color\": \"white\"}}, \"type\": \"table\"}]}, \"layout\": {\"annotationdefaults\": {\"arrowcolor\": \"#2a3f5f\", \"arrowhead\": 0, \"arrowwidth\": 1}, \"coloraxis\": {\"colorbar\": {\"outlinewidth\": 0, \"ticks\": \"\"}}, \"colorscale\": {\"diverging\": [[0, \"#8e0152\"], [0.1, \"#c51b7d\"], [0.2, \"#de77ae\"], [0.3, \"#f1b6da\"], [0.4, \"#fde0ef\"], [0.5, \"#f7f7f7\"], [0.6, \"#e6f5d0\"], [0.7, \"#b8e186\"], [0.8, \"#7fbc41\"], [0.9, \"#4d9221\"], [1, \"#276419\"]], \"sequential\": [[0.0, \"#0d0887\"], [0.1111111111111111, \"#46039f\"], [0.2222222222222222, \"#7201a8\"], [0.3333333333333333, \"#9c179e\"], [0.4444444444444444, \"#bd3786\"], [0.5555555555555556, \"#d8576b\"], [0.6666666666666666, \"#ed7953\"], [0.7777777777777778, \"#fb9f3a\"], [0.8888888888888888, \"#fdca26\"], [1.0, \"#f0f921\"]], \"sequentialminus\": [[0.0, \"#0d0887\"], [0.1111111111111111, \"#46039f\"], [0.2222222222222222, \"#7201a8\"], [0.3333333333333333, \"#9c179e\"], [0.4444444444444444, \"#bd3786\"], [0.5555555555555556, \"#d8576b\"], [0.6666666666666666, \"#ed7953\"], [0.7777777777777778, \"#fb9f3a\"], [0.8888888888888888, \"#fdca26\"], [1.0, \"#f0f921\"]]}, \"colorway\": [\"#636efa\", \"#EF553B\", \"#00cc96\", \"#ab63fa\", \"#FFA15A\", \"#19d3f3\", \"#FF6692\", \"#B6E880\", \"#FF97FF\", \"#FECB52\"], \"font\": {\"color\": \"#2a3f5f\"}, \"geo\": {\"bgcolor\": \"white\", \"lakecolor\": \"white\", \"landcolor\": \"#E5ECF6\", \"showlakes\": true, \"showland\": true, \"subunitcolor\": \"white\"}, \"hoverlabel\": {\"align\": \"left\"}, \"hovermode\": \"closest\", \"mapbox\": {\"style\": \"light\"}, \"paper_bgcolor\": \"white\", \"plot_bgcolor\": \"#E5ECF6\", \"polar\": {\"angularaxis\": {\"gridcolor\": \"white\", \"linecolor\": \"white\", \"ticks\": \"\"}, \"bgcolor\": \"#E5ECF6\", \"radialaxis\": {\"gridcolor\": \"white\", \"linecolor\": \"white\", \"ticks\": \"\"}}, \"scene\": {\"xaxis\": {\"backgroundcolor\": \"#E5ECF6\", \"gridcolor\": \"white\", \"gridwidth\": 2, \"linecolor\": \"white\", \"showbackground\": true, \"ticks\": \"\", \"zerolinecolor\": \"white\"}, \"yaxis\": {\"backgroundcolor\": \"#E5ECF6\", \"gridcolor\": \"white\", \"gridwidth\": 2, \"linecolor\": \"white\", \"showbackground\": true, \"ticks\": \"\", \"zerolinecolor\": \"white\"}, \"zaxis\": {\"backgroundcolor\": \"#E5ECF6\", \"gridcolor\": \"white\", \"gridwidth\": 2, \"linecolor\": \"white\", \"showbackground\": true, \"ticks\": \"\", \"zerolinecolor\": \"white\"}}, \"shapedefaults\": {\"line\": {\"color\": \"#2a3f5f\"}}, \"ternary\": {\"aaxis\": {\"gridcolor\": \"white\", \"linecolor\": \"white\", \"ticks\": \"\"}, \"baxis\": {\"gridcolor\": \"white\", \"linecolor\": \"white\", \"ticks\": \"\"}, \"bgcolor\": \"#E5ECF6\", \"caxis\": {\"gridcolor\": \"white\", \"linecolor\": \"white\", \"ticks\": \"\"}}, \"title\": {\"x\": 0.05}, \"xaxis\": {\"automargin\": true, \"gridcolor\": \"white\", \"linecolor\": \"white\", \"ticks\": \"\", \"title\": {\"standoff\": 15}, \"zerolinecolor\": \"white\", \"zerolinewidth\": 2}, \"yaxis\": {\"automargin\": true, \"gridcolor\": \"white\", \"linecolor\": \"white\", \"ticks\": \"\", \"title\": {\"standoff\": 15}, \"zerolinecolor\": \"white\", \"zerolinewidth\": 2}}}, \"title\": {\"font\": {\"color\": \"#4D5663\"}}, \"xaxis\": {\"gridcolor\": \"#E1E5ED\", \"showgrid\": true, \"tickfont\": {\"color\": \"#4D5663\"}, \"title\": {\"font\": {\"color\": \"#4D5663\"}, \"text\": \"\"}, \"zerolinecolor\": \"#E1E5ED\"}, \"yaxis\": {\"gridcolor\": \"#E1E5ED\", \"showgrid\": true, \"tickfont\": {\"color\": \"#4D5663\"}, \"title\": {\"font\": {\"color\": \"#4D5663\"}, \"text\": \"\"}, \"zerolinecolor\": \"#E1E5ED\"}},                        {\"showLink\": true, \"linkText\": \"Export to plot.ly\", \"plotlyServerURL\": \"https://plot.ly\", \"responsive\": true}                    ).then(function(){\n",
       "                            \n",
       "var gd = document.getElementById('b2b02067-7567-4d2a-a767-56cfb2b3060b');\n",
       "var x = new MutationObserver(function (mutations, observer) {{\n",
       "        var display = window.getComputedStyle(gd).display;\n",
       "        if (!display || display === 'none') {{\n",
       "            console.log([gd, 'removed!']);\n",
       "            Plotly.purge(gd);\n",
       "            observer.disconnect();\n",
       "        }}\n",
       "}});\n",
       "\n",
       "// Listen for the removal of the full notebook cells\n",
       "var notebookContainer = gd.closest('#notebook-container');\n",
       "if (notebookContainer) {{\n",
       "    x.observe(notebookContainer, {childList: true});\n",
       "}}\n",
       "\n",
       "// Listen for the clearing of the current output cell\n",
       "var outputEl = gd.closest('.output');\n",
       "if (outputEl) {{\n",
       "    x.observe(outputEl, {childList: true});\n",
       "}}\n",
       "\n",
       "                        })                };                });            </script>        </div>"
      ]
     },
     "metadata": {},
     "output_type": "display_data"
    }
   ],
   "source": [
    "df['A'].iplot(kind='hist',bins=25)"
   ]
  },
  {
   "cell_type": "code",
   "execution_count": 17,
   "metadata": {},
   "outputs": [
    {
     "data": {
      "application/vnd.plotly.v1+json": {
       "config": {
        "linkText": "Export to plot.ly",
        "plotlyServerURL": "https://plot.ly",
        "showLink": true
       },
       "data": [
        {
         "marker": {
          "color": [
           "rgb(255, 153, 51)",
           "rgb(55, 128, 191)",
           "rgb(50, 171, 96)",
           "rgb(128, 0, 128)",
           "rgb(219, 64, 82)",
           "rgb(0, 128, 128)",
           "rgb(255, 255, 51)",
           "rgb(128, 128, 0)",
           "rgb(251, 128, 114)",
           "rgb(128, 177, 211)"
          ],
          "line": {
           "width": 1.3
          },
          "size": [
           49,
           50,
           83,
           51,
           84,
           51,
           52,
           64,
           20,
           36,
           48,
           42,
           62,
           59,
           44,
           29,
           73,
           66,
           43,
           65,
           59,
           90,
           54,
           28,
           27,
           64,
           54,
           74,
           37,
           67,
           65,
           87,
           72,
           79,
           12,
           58,
           54,
           49,
           66,
           87,
           51,
           76,
           60,
           62,
           80,
           33,
           74,
           65,
           40,
           73,
           63,
           72,
           55,
           29,
           43,
           26,
           83,
           68,
           37,
           54,
           68,
           51,
           24,
           65,
           62,
           51,
           59,
           41,
           37,
           66,
           42,
           21,
           86,
           57,
           64,
           68,
           91,
           65,
           52,
           44,
           69,
           55,
           74,
           80,
           91,
           36,
           72,
           112,
           90,
           62,
           40,
           29,
           72,
           85,
           74,
           61,
           85,
           21,
           31,
           61
          ],
          "symbol": "circle"
         },
         "mode": "markers",
         "text": "",
         "type": "scatter",
         "x": [
          1.6798269758748492,
          -0.2199836590415361,
          -2.4507820246760064,
          0.5345621049020333,
          -0.39856302744576677,
          -0.11261594574231408,
          0.18365368973708873,
          0.898157970332645,
          0.5753381411578375,
          -2.5763720307296083,
          1.38619832554469,
          -0.962354296236438,
          -1.101467819394483,
          -0.7987809996163434,
          -0.6933812853507427,
          0.8419418051636006,
          -1.5221391970802596,
          -0.06385761933739592,
          0.30807683903399036,
          -0.7080227475637054,
          1.4257322784721362,
          -0.6664877158684318,
          -0.8257276357775953,
          1.379311012710703,
          0.12044978700400753,
          -0.08648401244585327,
          1.2432979360283543,
          2.508360802520673,
          0.4643248708834873,
          -0.955633157694708,
          -1.535509984047946,
          -1.374791885319085,
          0.28630164904878097,
          0.7342244324101905,
          -0.02823128516313799,
          -0.7341739046874015,
          0.39230715140972666,
          0.8062188113949558,
          0.30642943847769355,
          -1.5844204083389668,
          -2.2168568921759118,
          0.818329086945323,
          -0.5429278392392303,
          -0.7677746861982568,
          0.4741597360051739,
          -0.7475180141955834,
          0.0663887639237793,
          0.1104087523560313,
          -0.487974454740564,
          -0.6582049749501504,
          0.7694795936392425,
          0.44001560003027074,
          -0.17121162838917453,
          1.3832908461628157,
          -0.19406089191467876,
          2.168061754494002,
          0.3351737818497473,
          2.1010768804402264,
          -0.7756198079418396,
          1.0972186157731403,
          -0.04018321949200649,
          0.5420574778414596,
          0.2740649957684385,
          -1.5137635358552375,
          0.6650360912190366,
          0.4432625903392581,
          -1.6308736220096962,
          0.1301705393722849,
          0.6511756307706884,
          0.0016669869019767401,
          -0.9550881209517254,
          -1.0469423873967165,
          0.9994755176228046,
          -0.07805461310115813,
          -0.18178366842378185,
          -0.5228836054837369,
          -0.96767637213527,
          0.8164590720680147,
          0.5365041447608002,
          0.9790438576307355,
          0.3635173181176478,
          2.561887388439632,
          1.6256800837780936,
          0.6638107412352435,
          -0.0911766669481064,
          -0.32992322533456153,
          0.84982905999064,
          1.1478701245524643,
          -0.2916632912204899,
          1.394588035257012,
          -0.7133373113633735,
          -0.4431573586059646,
          -1.5292557482074411,
          -0.17871425985598202,
          0.23194177885240613,
          -1.2413517177464832,
          -1.6314464938492308,
          -1.4795279562965968,
          1.4040753247894164,
          2.501998029267809
         ],
         "y": [
          -0.12944734190583249,
          -1.0964889210243227,
          -0.5688852625502178,
          2.4297126243557483,
          -0.6383179022401426,
          1.3561041448228395,
          -1.6651231504114188,
          0.2265362648432785,
          -2.0850226632797053,
          -2.3545591407570408,
          -1.1544274265573464,
          -0.4020479105629905,
          0.7895905985975938,
          0.7635632808206712,
          1.0231198669273638,
          2.2341143641943866,
          -2.2238915188013473,
          1.5283196068066418,
          2.058348244085285,
          0.053217829034620585,
          0.22227011237441024,
          0.18489704765681375,
          0.12486905080928802,
          0.969842991236598,
          -1.0482429553408665,
          0.8698847804194278,
          0.44588677004507565,
          -0.48751361405153193,
          0.33871488249048853,
          0.08589547691066018,
          1.520945017949968,
          0.4569931771003894,
          1.2944302524269116,
          1.6595127234593101,
          0.2710476742444291,
          -1.0021626352598372,
          0.8333820174820911,
          2.0198279770917407,
          -0.5579077878955658,
          -1.3790125878837953,
          1.5504112462608328,
          0.7258539885499488,
          0.16185050291894446,
          0.2924235347750846,
          -0.11910266309169193,
          -0.615398941759039,
          -0.530541022662267,
          0.7296369995652676,
          -1.4240486031951645,
          0.11073633883215957,
          0.6660226906250679,
          1.906341998994936,
          -0.809995774784047,
          -0.30889295305373726,
          1.1285525514247758,
          0.34010724747164967,
          1.1523194218879722,
          1.1500189899063549,
          -0.5921815874122709,
          1.6377477244644454,
          -0.696212406644362,
          -0.9587823452227174,
          0.2234331442497379,
          1.2311048031470695,
          -1.3913622289532295,
          -1.2456227014348427,
          0.07377413858952699,
          0.028619694828842464,
          0.21859811019916658,
          0.30173022612751677,
          -0.33698284311818816,
          0.6826533256019267,
          0.42527896103784163,
          -0.197894256639745,
          -0.5478886833710794,
          0.6394656680012822,
          -0.6477899051158909,
          0.26517299635865355,
          -0.4756976453911347,
          0.043295979729102166,
          0.0551056386251421,
          -0.02355682898881277,
          -1.6708649508149047,
          -0.5283349647398393,
          1.253322423115921,
          0.5323566961329269,
          -0.09719960500654366,
          -1.4370784482181538,
          -0.4171279131882182,
          -0.004360096322667945,
          1.1708193047502593,
          0.565476788609084,
          -0.9097673723544455,
          0.730880385355846,
          -0.6277790455857233,
          -0.43289643685794166,
          -0.1717910597522223,
          -0.7009702749426628,
          -0.5187570470781957,
          -0.054924326521840865
         ]
        }
       ],
       "layout": {
        "autosize": true,
        "legend": {
         "bgcolor": "#F5F6F9",
         "font": {
          "color": "#4D5663"
         }
        },
        "paper_bgcolor": "#F5F6F9",
        "plot_bgcolor": "#F5F6F9",
        "template": {
         "data": {
          "bar": [
           {
            "error_x": {
             "color": "#2a3f5f"
            },
            "error_y": {
             "color": "#2a3f5f"
            },
            "marker": {
             "line": {
              "color": "#E5ECF6",
              "width": 0.5
             }
            },
            "type": "bar"
           }
          ],
          "barpolar": [
           {
            "marker": {
             "line": {
              "color": "#E5ECF6",
              "width": 0.5
             }
            },
            "type": "barpolar"
           }
          ],
          "carpet": [
           {
            "aaxis": {
             "endlinecolor": "#2a3f5f",
             "gridcolor": "white",
             "linecolor": "white",
             "minorgridcolor": "white",
             "startlinecolor": "#2a3f5f"
            },
            "baxis": {
             "endlinecolor": "#2a3f5f",
             "gridcolor": "white",
             "linecolor": "white",
             "minorgridcolor": "white",
             "startlinecolor": "#2a3f5f"
            },
            "type": "carpet"
           }
          ],
          "choropleth": [
           {
            "colorbar": {
             "outlinewidth": 0,
             "ticks": ""
            },
            "type": "choropleth"
           }
          ],
          "contour": [
           {
            "colorbar": {
             "outlinewidth": 0,
             "ticks": ""
            },
            "colorscale": [
             [
              0,
              "#0d0887"
             ],
             [
              0.1111111111111111,
              "#46039f"
             ],
             [
              0.2222222222222222,
              "#7201a8"
             ],
             [
              0.3333333333333333,
              "#9c179e"
             ],
             [
              0.4444444444444444,
              "#bd3786"
             ],
             [
              0.5555555555555556,
              "#d8576b"
             ],
             [
              0.6666666666666666,
              "#ed7953"
             ],
             [
              0.7777777777777778,
              "#fb9f3a"
             ],
             [
              0.8888888888888888,
              "#fdca26"
             ],
             [
              1,
              "#f0f921"
             ]
            ],
            "type": "contour"
           }
          ],
          "contourcarpet": [
           {
            "colorbar": {
             "outlinewidth": 0,
             "ticks": ""
            },
            "type": "contourcarpet"
           }
          ],
          "heatmap": [
           {
            "colorbar": {
             "outlinewidth": 0,
             "ticks": ""
            },
            "colorscale": [
             [
              0,
              "#0d0887"
             ],
             [
              0.1111111111111111,
              "#46039f"
             ],
             [
              0.2222222222222222,
              "#7201a8"
             ],
             [
              0.3333333333333333,
              "#9c179e"
             ],
             [
              0.4444444444444444,
              "#bd3786"
             ],
             [
              0.5555555555555556,
              "#d8576b"
             ],
             [
              0.6666666666666666,
              "#ed7953"
             ],
             [
              0.7777777777777778,
              "#fb9f3a"
             ],
             [
              0.8888888888888888,
              "#fdca26"
             ],
             [
              1,
              "#f0f921"
             ]
            ],
            "type": "heatmap"
           }
          ],
          "heatmapgl": [
           {
            "colorbar": {
             "outlinewidth": 0,
             "ticks": ""
            },
            "colorscale": [
             [
              0,
              "#0d0887"
             ],
             [
              0.1111111111111111,
              "#46039f"
             ],
             [
              0.2222222222222222,
              "#7201a8"
             ],
             [
              0.3333333333333333,
              "#9c179e"
             ],
             [
              0.4444444444444444,
              "#bd3786"
             ],
             [
              0.5555555555555556,
              "#d8576b"
             ],
             [
              0.6666666666666666,
              "#ed7953"
             ],
             [
              0.7777777777777778,
              "#fb9f3a"
             ],
             [
              0.8888888888888888,
              "#fdca26"
             ],
             [
              1,
              "#f0f921"
             ]
            ],
            "type": "heatmapgl"
           }
          ],
          "histogram": [
           {
            "marker": {
             "colorbar": {
              "outlinewidth": 0,
              "ticks": ""
             }
            },
            "type": "histogram"
           }
          ],
          "histogram2d": [
           {
            "colorbar": {
             "outlinewidth": 0,
             "ticks": ""
            },
            "colorscale": [
             [
              0,
              "#0d0887"
             ],
             [
              0.1111111111111111,
              "#46039f"
             ],
             [
              0.2222222222222222,
              "#7201a8"
             ],
             [
              0.3333333333333333,
              "#9c179e"
             ],
             [
              0.4444444444444444,
              "#bd3786"
             ],
             [
              0.5555555555555556,
              "#d8576b"
             ],
             [
              0.6666666666666666,
              "#ed7953"
             ],
             [
              0.7777777777777778,
              "#fb9f3a"
             ],
             [
              0.8888888888888888,
              "#fdca26"
             ],
             [
              1,
              "#f0f921"
             ]
            ],
            "type": "histogram2d"
           }
          ],
          "histogram2dcontour": [
           {
            "colorbar": {
             "outlinewidth": 0,
             "ticks": ""
            },
            "colorscale": [
             [
              0,
              "#0d0887"
             ],
             [
              0.1111111111111111,
              "#46039f"
             ],
             [
              0.2222222222222222,
              "#7201a8"
             ],
             [
              0.3333333333333333,
              "#9c179e"
             ],
             [
              0.4444444444444444,
              "#bd3786"
             ],
             [
              0.5555555555555556,
              "#d8576b"
             ],
             [
              0.6666666666666666,
              "#ed7953"
             ],
             [
              0.7777777777777778,
              "#fb9f3a"
             ],
             [
              0.8888888888888888,
              "#fdca26"
             ],
             [
              1,
              "#f0f921"
             ]
            ],
            "type": "histogram2dcontour"
           }
          ],
          "mesh3d": [
           {
            "colorbar": {
             "outlinewidth": 0,
             "ticks": ""
            },
            "type": "mesh3d"
           }
          ],
          "parcoords": [
           {
            "line": {
             "colorbar": {
              "outlinewidth": 0,
              "ticks": ""
             }
            },
            "type": "parcoords"
           }
          ],
          "pie": [
           {
            "automargin": true,
            "type": "pie"
           }
          ],
          "scatter": [
           {
            "marker": {
             "colorbar": {
              "outlinewidth": 0,
              "ticks": ""
             }
            },
            "type": "scatter"
           }
          ],
          "scatter3d": [
           {
            "line": {
             "colorbar": {
              "outlinewidth": 0,
              "ticks": ""
             }
            },
            "marker": {
             "colorbar": {
              "outlinewidth": 0,
              "ticks": ""
             }
            },
            "type": "scatter3d"
           }
          ],
          "scattercarpet": [
           {
            "marker": {
             "colorbar": {
              "outlinewidth": 0,
              "ticks": ""
             }
            },
            "type": "scattercarpet"
           }
          ],
          "scattergeo": [
           {
            "marker": {
             "colorbar": {
              "outlinewidth": 0,
              "ticks": ""
             }
            },
            "type": "scattergeo"
           }
          ],
          "scattergl": [
           {
            "marker": {
             "colorbar": {
              "outlinewidth": 0,
              "ticks": ""
             }
            },
            "type": "scattergl"
           }
          ],
          "scattermapbox": [
           {
            "marker": {
             "colorbar": {
              "outlinewidth": 0,
              "ticks": ""
             }
            },
            "type": "scattermapbox"
           }
          ],
          "scatterpolar": [
           {
            "marker": {
             "colorbar": {
              "outlinewidth": 0,
              "ticks": ""
             }
            },
            "type": "scatterpolar"
           }
          ],
          "scatterpolargl": [
           {
            "marker": {
             "colorbar": {
              "outlinewidth": 0,
              "ticks": ""
             }
            },
            "type": "scatterpolargl"
           }
          ],
          "scatterternary": [
           {
            "marker": {
             "colorbar": {
              "outlinewidth": 0,
              "ticks": ""
             }
            },
            "type": "scatterternary"
           }
          ],
          "surface": [
           {
            "colorbar": {
             "outlinewidth": 0,
             "ticks": ""
            },
            "colorscale": [
             [
              0,
              "#0d0887"
             ],
             [
              0.1111111111111111,
              "#46039f"
             ],
             [
              0.2222222222222222,
              "#7201a8"
             ],
             [
              0.3333333333333333,
              "#9c179e"
             ],
             [
              0.4444444444444444,
              "#bd3786"
             ],
             [
              0.5555555555555556,
              "#d8576b"
             ],
             [
              0.6666666666666666,
              "#ed7953"
             ],
             [
              0.7777777777777778,
              "#fb9f3a"
             ],
             [
              0.8888888888888888,
              "#fdca26"
             ],
             [
              1,
              "#f0f921"
             ]
            ],
            "type": "surface"
           }
          ],
          "table": [
           {
            "cells": {
             "fill": {
              "color": "#EBF0F8"
             },
             "line": {
              "color": "white"
             }
            },
            "header": {
             "fill": {
              "color": "#C8D4E3"
             },
             "line": {
              "color": "white"
             }
            },
            "type": "table"
           }
          ]
         },
         "layout": {
          "annotationdefaults": {
           "arrowcolor": "#2a3f5f",
           "arrowhead": 0,
           "arrowwidth": 1
          },
          "coloraxis": {
           "colorbar": {
            "outlinewidth": 0,
            "ticks": ""
           }
          },
          "colorscale": {
           "diverging": [
            [
             0,
             "#8e0152"
            ],
            [
             0.1,
             "#c51b7d"
            ],
            [
             0.2,
             "#de77ae"
            ],
            [
             0.3,
             "#f1b6da"
            ],
            [
             0.4,
             "#fde0ef"
            ],
            [
             0.5,
             "#f7f7f7"
            ],
            [
             0.6,
             "#e6f5d0"
            ],
            [
             0.7,
             "#b8e186"
            ],
            [
             0.8,
             "#7fbc41"
            ],
            [
             0.9,
             "#4d9221"
            ],
            [
             1,
             "#276419"
            ]
           ],
           "sequential": [
            [
             0,
             "#0d0887"
            ],
            [
             0.1111111111111111,
             "#46039f"
            ],
            [
             0.2222222222222222,
             "#7201a8"
            ],
            [
             0.3333333333333333,
             "#9c179e"
            ],
            [
             0.4444444444444444,
             "#bd3786"
            ],
            [
             0.5555555555555556,
             "#d8576b"
            ],
            [
             0.6666666666666666,
             "#ed7953"
            ],
            [
             0.7777777777777778,
             "#fb9f3a"
            ],
            [
             0.8888888888888888,
             "#fdca26"
            ],
            [
             1,
             "#f0f921"
            ]
           ],
           "sequentialminus": [
            [
             0,
             "#0d0887"
            ],
            [
             0.1111111111111111,
             "#46039f"
            ],
            [
             0.2222222222222222,
             "#7201a8"
            ],
            [
             0.3333333333333333,
             "#9c179e"
            ],
            [
             0.4444444444444444,
             "#bd3786"
            ],
            [
             0.5555555555555556,
             "#d8576b"
            ],
            [
             0.6666666666666666,
             "#ed7953"
            ],
            [
             0.7777777777777778,
             "#fb9f3a"
            ],
            [
             0.8888888888888888,
             "#fdca26"
            ],
            [
             1,
             "#f0f921"
            ]
           ]
          },
          "colorway": [
           "#636efa",
           "#EF553B",
           "#00cc96",
           "#ab63fa",
           "#FFA15A",
           "#19d3f3",
           "#FF6692",
           "#B6E880",
           "#FF97FF",
           "#FECB52"
          ],
          "font": {
           "color": "#2a3f5f"
          },
          "geo": {
           "bgcolor": "white",
           "lakecolor": "white",
           "landcolor": "#E5ECF6",
           "showlakes": true,
           "showland": true,
           "subunitcolor": "white"
          },
          "hoverlabel": {
           "align": "left"
          },
          "hovermode": "closest",
          "mapbox": {
           "style": "light"
          },
          "paper_bgcolor": "white",
          "plot_bgcolor": "#E5ECF6",
          "polar": {
           "angularaxis": {
            "gridcolor": "white",
            "linecolor": "white",
            "ticks": ""
           },
           "bgcolor": "#E5ECF6",
           "radialaxis": {
            "gridcolor": "white",
            "linecolor": "white",
            "ticks": ""
           }
          },
          "scene": {
           "xaxis": {
            "backgroundcolor": "#E5ECF6",
            "gridcolor": "white",
            "gridwidth": 2,
            "linecolor": "white",
            "showbackground": true,
            "ticks": "",
            "zerolinecolor": "white"
           },
           "yaxis": {
            "backgroundcolor": "#E5ECF6",
            "gridcolor": "white",
            "gridwidth": 2,
            "linecolor": "white",
            "showbackground": true,
            "ticks": "",
            "zerolinecolor": "white"
           },
           "zaxis": {
            "backgroundcolor": "#E5ECF6",
            "gridcolor": "white",
            "gridwidth": 2,
            "linecolor": "white",
            "showbackground": true,
            "ticks": "",
            "zerolinecolor": "white"
           }
          },
          "shapedefaults": {
           "line": {
            "color": "#2a3f5f"
           }
          },
          "ternary": {
           "aaxis": {
            "gridcolor": "white",
            "linecolor": "white",
            "ticks": ""
           },
           "baxis": {
            "gridcolor": "white",
            "linecolor": "white",
            "ticks": ""
           },
           "bgcolor": "#E5ECF6",
           "caxis": {
            "gridcolor": "white",
            "linecolor": "white",
            "ticks": ""
           }
          },
          "title": {
           "x": 0.05
          },
          "xaxis": {
           "automargin": true,
           "gridcolor": "white",
           "linecolor": "white",
           "ticks": "",
           "title": {
            "standoff": 15
           },
           "zerolinecolor": "white",
           "zerolinewidth": 2
          },
          "yaxis": {
           "automargin": true,
           "gridcolor": "white",
           "linecolor": "white",
           "ticks": "",
           "title": {
            "standoff": 15
           },
           "zerolinecolor": "white",
           "zerolinewidth": 2
          }
         }
        },
        "title": {
         "font": {
          "color": "#4D5663"
         }
        },
        "xaxis": {
         "autorange": true,
         "gridcolor": "#E1E5ED",
         "range": [
          -3.024295410677184,
          3.052633193314449
         ],
         "showgrid": true,
         "tickfont": {
          "color": "#4D5663"
         },
         "title": {
          "font": {
           "color": "#4D5663"
          },
          "text": ""
         },
         "type": "linear",
         "zerolinecolor": "#E1E5ED"
        },
        "yaxis": {
         "autorange": true,
         "gridcolor": "#E1E5ED",
         "range": [
          -3.8863951137509742,
          3.705587476293834
         ],
         "showgrid": true,
         "tickfont": {
          "color": "#4D5663"
         },
         "title": {
          "font": {
           "color": "#4D5663"
          },
          "text": ""
         },
         "type": "linear",
         "zerolinecolor": "#E1E5ED"
        }
       }
      },
      "image/png": "[encoded data removed]",
      "text/html": [
       "<div>                            <div id=\"3c6ef5b7-1e05-45bb-a375-6983d9d28fa0\" class=\"plotly-graph-div\" style=\"height:525px; width:100%;\"></div>            <script type=\"text/javascript\">                require([\"plotly\"], function(Plotly) {                    window.PLOTLYENV=window.PLOTLYENV || {};\n",
       "                    window.PLOTLYENV.BASE_URL='https://plot.ly';                                    if (document.getElementById(\"3c6ef5b7-1e05-45bb-a375-6983d9d28fa0\")) {                    Plotly.newPlot(                        \"3c6ef5b7-1e05-45bb-a375-6983d9d28fa0\",                        [{\"marker\": {\"color\": [\"rgb(255, 153, 51)\", \"rgb(55, 128, 191)\", \"rgb(50, 171, 96)\", \"rgb(128, 0, 128)\", \"rgb(219, 64, 82)\", \"rgb(0, 128, 128)\", \"rgb(255, 255, 51)\", \"rgb(128, 128, 0)\", \"rgb(251, 128, 114)\", \"rgb(128, 177, 211)\"], \"line\": {\"width\": 1.3}, \"size\": [49, 50, 83, 51, 84, 51, 52, 64, 20, 36, 48, 42, 62, 59, 44, 29, 73, 66, 43, 65, 59, 90, 54, 28, 27, 64, 54, 74, 37, 67, 65, 87, 72, 79, 12, 58, 54, 49, 66, 87, 51, 76, 60, 62, 80, 33, 74, 65, 40, 73, 63, 72, 55, 29, 43, 26, 83, 68, 37, 54, 68, 51, 24, 65, 62, 51, 59, 41, 37, 66, 42, 21, 86, 57, 64, 68, 91, 65, 52, 44, 69, 55, 74, 80, 91, 36, 72, 112, 90, 62, 40, 29, 72, 85, 74, 61, 85, 21, 31, 61], \"symbol\": \"circle\"}, \"mode\": \"markers\", \"text\": \"\", \"type\": \"scatter\", \"x\": [1.6798269758748492, -0.2199836590415361, -2.4507820246760064, 0.5345621049020333, -0.39856302744576677, -0.11261594574231408, 0.18365368973708873, 0.898157970332645, 0.5753381411578375, -2.5763720307296083, 1.38619832554469, -0.962354296236438, -1.101467819394483, -0.7987809996163434, -0.6933812853507427, 0.8419418051636006, -1.5221391970802596, -0.06385761933739592, 0.30807683903399036, -0.7080227475637054, 1.4257322784721362, -0.6664877158684318, -0.8257276357775953, 1.379311012710703, 0.12044978700400753, -0.08648401244585327, 1.2432979360283543, 2.508360802520673, 0.4643248708834873, -0.955633157694708, -1.535509984047946, -1.374791885319085, 0.28630164904878097, 0.7342244324101905, -0.02823128516313799, -0.7341739046874015, 0.39230715140972666, 0.8062188113949558, 0.30642943847769355, -1.5844204083389668, -2.2168568921759118, 0.818329086945323, -0.5429278392392303, -0.7677746861982568, 0.4741597360051739, -0.7475180141955834, 0.0663887639237793, 0.1104087523560313, -0.487974454740564, -0.6582049749501504, 0.7694795936392425, 0.44001560003027074, -0.17121162838917453, 1.3832908461628157, -0.19406089191467876, 2.168061754494002, 0.3351737818497473, 2.1010768804402264, -0.7756198079418396, 1.0972186157731403, -0.04018321949200649, 0.5420574778414596, 0.2740649957684385, -1.5137635358552375, 0.6650360912190366, 0.4432625903392581, -1.6308736220096962, 0.1301705393722849, 0.6511756307706884, 0.0016669869019767401, -0.9550881209517254, -1.0469423873967165, 0.9994755176228046, -0.07805461310115813, -0.18178366842378185, -0.5228836054837369, -0.96767637213527, 0.8164590720680147, 0.5365041447608002, 0.9790438576307355, 0.3635173181176478, 2.561887388439632, 1.6256800837780936, 0.6638107412352435, -0.0911766669481064, -0.32992322533456153, 0.84982905999064, 1.1478701245524643, -0.2916632912204899, 1.394588035257012, -0.7133373113633735, -0.4431573586059646, -1.5292557482074411, -0.17871425985598202, 0.23194177885240613, -1.2413517177464832, -1.6314464938492308, -1.4795279562965968, 1.4040753247894164, 2.501998029267809], \"y\": [-0.12944734190583249, -1.0964889210243227, -0.5688852625502178, 2.4297126243557483, -0.6383179022401426, 1.3561041448228395, -1.6651231504114188, 0.2265362648432785, -2.0850226632797053, -2.3545591407570408, -1.1544274265573464, -0.4020479105629905, 0.7895905985975938, 0.7635632808206712, 1.0231198669273638, 2.2341143641943866, -2.2238915188013473, 1.5283196068066418, 2.058348244085285, 0.053217829034620585, 0.22227011237441024, 0.18489704765681375, 0.12486905080928802, 0.969842991236598, -1.0482429553408665, 0.8698847804194278, 0.44588677004507565, -0.48751361405153193, 0.33871488249048853, 0.08589547691066018, 1.520945017949968, 0.4569931771003894, 1.2944302524269116, 1.6595127234593101, 0.2710476742444291, -1.0021626352598372, 0.8333820174820911, 2.0198279770917407, -0.5579077878955658, -1.3790125878837953, 1.5504112462608328, 0.7258539885499488, 0.16185050291894446, 0.2924235347750846, -0.11910266309169193, -0.615398941759039, -0.530541022662267, 0.7296369995652676, -1.4240486031951645, 0.11073633883215957, 0.6660226906250679, 1.906341998994936, -0.809995774784047, -0.30889295305373726, 1.1285525514247758, 0.34010724747164967, 1.1523194218879722, 1.1500189899063549, -0.5921815874122709, 1.6377477244644454, -0.696212406644362, -0.9587823452227174, 0.2234331442497379, 1.2311048031470695, -1.3913622289532295, -1.2456227014348427, 0.07377413858952699, 0.028619694828842464, 0.21859811019916658, 0.30173022612751677, -0.33698284311818816, 0.6826533256019267, 0.42527896103784163, -0.197894256639745, -0.5478886833710794, 0.6394656680012822, -0.6477899051158909, 0.26517299635865355, -0.4756976453911347, 0.043295979729102166, 0.0551056386251421, -0.02355682898881277, -1.6708649508149047, -0.5283349647398393, 1.253322423115921, 0.5323566961329269, -0.09719960500654366, -1.4370784482181538, -0.4171279131882182, -0.004360096322667945, 1.1708193047502593, 0.565476788609084, -0.9097673723544455, 0.730880385355846, -0.6277790455857233, -0.43289643685794166, -0.1717910597522223, -0.7009702749426628, -0.5187570470781957, -0.054924326521840865]}],                        {\"legend\": {\"bgcolor\": \"#F5F6F9\", \"font\": {\"color\": \"#4D5663\"}}, \"paper_bgcolor\": \"#F5F6F9\", \"plot_bgcolor\": \"#F5F6F9\", \"template\": {\"data\": {\"bar\": [{\"error_x\": {\"color\": \"#2a3f5f\"}, \"error_y\": {\"color\": \"#2a3f5f\"}, \"marker\": {\"line\": {\"color\": \"#E5ECF6\", \"width\": 0.5}}, \"type\": \"bar\"}], \"barpolar\": [{\"marker\": {\"line\": {\"color\": \"#E5ECF6\", \"width\": 0.5}}, \"type\": \"barpolar\"}], \"carpet\": [{\"aaxis\": {\"endlinecolor\": \"#2a3f5f\", \"gridcolor\": \"white\", \"linecolor\": \"white\", \"minorgridcolor\": \"white\", \"startlinecolor\": \"#2a3f5f\"}, \"baxis\": {\"endlinecolor\": \"#2a3f5f\", \"gridcolor\": \"white\", \"linecolor\": \"white\", \"minorgridcolor\": \"white\", \"startlinecolor\": \"#2a3f5f\"}, \"type\": \"carpet\"}], \"choropleth\": [{\"colorbar\": {\"outlinewidth\": 0, \"ticks\": \"\"}, \"type\": \"choropleth\"}], \"contour\": [{\"colorbar\": {\"outlinewidth\": 0, \"ticks\": \"\"}, \"colorscale\": [[0.0, \"#0d0887\"], [0.1111111111111111, \"#46039f\"], [0.2222222222222222, \"#7201a8\"], [0.3333333333333333, \"#9c179e\"], [0.4444444444444444, \"#bd3786\"], [0.5555555555555556, \"#d8576b\"], [0.6666666666666666, \"#ed7953\"], [0.7777777777777778, \"#fb9f3a\"], [0.8888888888888888, \"#fdca26\"], [1.0, \"#f0f921\"]], \"type\": \"contour\"}], \"contourcarpet\": [{\"colorbar\": {\"outlinewidth\": 0, \"ticks\": \"\"}, \"type\": \"contourcarpet\"}], \"heatmap\": [{\"colorbar\": {\"outlinewidth\": 0, \"ticks\": \"\"}, \"colorscale\": [[0.0, \"#0d0887\"], [0.1111111111111111, \"#46039f\"], [0.2222222222222222, \"#7201a8\"], [0.3333333333333333, \"#9c179e\"], [0.4444444444444444, \"#bd3786\"], [0.5555555555555556, \"#d8576b\"], [0.6666666666666666, \"#ed7953\"], [0.7777777777777778, \"#fb9f3a\"], [0.8888888888888888, \"#fdca26\"], [1.0, \"#f0f921\"]], \"type\": \"heatmap\"}], \"heatmapgl\": [{\"colorbar\": {\"outlinewidth\": 0, \"ticks\": \"\"}, \"colorscale\": [[0.0, \"#0d0887\"], [0.1111111111111111, \"#46039f\"], [0.2222222222222222, \"#7201a8\"], [0.3333333333333333, \"#9c179e\"], [0.4444444444444444, \"#bd3786\"], [0.5555555555555556, \"#d8576b\"], [0.6666666666666666, \"#ed7953\"], [0.7777777777777778, \"#fb9f3a\"], [0.8888888888888888, \"#fdca26\"], [1.0, \"#f0f921\"]], \"type\": \"heatmapgl\"}], \"histogram\": [{\"marker\": {\"colorbar\": {\"outlinewidth\": 0, \"ticks\": \"\"}}, \"type\": \"histogram\"}], \"histogram2d\": [{\"colorbar\": {\"outlinewidth\": 0, \"ticks\": \"\"}, \"colorscale\": [[0.0, \"#0d0887\"], [0.1111111111111111, \"#46039f\"], [0.2222222222222222, \"#7201a8\"], [0.3333333333333333, \"#9c179e\"], [0.4444444444444444, \"#bd3786\"], [0.5555555555555556, \"#d8576b\"], [0.6666666666666666, \"#ed7953\"], [0.7777777777777778, \"#fb9f3a\"], [0.8888888888888888, \"#fdca26\"], [1.0, \"#f0f921\"]], \"type\": \"histogram2d\"}], \"histogram2dcontour\": [{\"colorbar\": {\"outlinewidth\": 0, \"ticks\": \"\"}, \"colorscale\": [[0.0, \"#0d0887\"], [0.1111111111111111, \"#46039f\"], [0.2222222222222222, \"#7201a8\"], [0.3333333333333333, \"#9c179e\"], [0.4444444444444444, \"#bd3786\"], [0.5555555555555556, \"#d8576b\"], [0.6666666666666666, \"#ed7953\"], [0.7777777777777778, \"#fb9f3a\"], [0.8888888888888888, \"#fdca26\"], [1.0, \"#f0f921\"]], \"type\": \"histogram2dcontour\"}], \"mesh3d\": [{\"colorbar\": {\"outlinewidth\": 0, \"ticks\": \"\"}, \"type\": \"mesh3d\"}], \"parcoords\": [{\"line\": {\"colorbar\": {\"outlinewidth\": 0, \"ticks\": \"\"}}, \"type\": \"parcoords\"}], \"pie\": [{\"automargin\": true, \"type\": \"pie\"}], \"scatter\": [{\"marker\": {\"colorbar\": {\"outlinewidth\": 0, \"ticks\": \"\"}}, \"type\": \"scatter\"}], \"scatter3d\": [{\"line\": {\"colorbar\": {\"outlinewidth\": 0, \"ticks\": \"\"}}, \"marker\": {\"colorbar\": {\"outlinewidth\": 0, \"ticks\": \"\"}}, \"type\": \"scatter3d\"}], \"scattercarpet\": [{\"marker\": {\"colorbar\": {\"outlinewidth\": 0, \"ticks\": \"\"}}, \"type\": \"scattercarpet\"}], \"scattergeo\": [{\"marker\": {\"colorbar\": {\"outlinewidth\": 0, \"ticks\": \"\"}}, \"type\": \"scattergeo\"}], \"scattergl\": [{\"marker\": {\"colorbar\": {\"outlinewidth\": 0, \"ticks\": \"\"}}, \"type\": \"scattergl\"}], \"scattermapbox\": [{\"marker\": {\"colorbar\": {\"outlinewidth\": 0, \"ticks\": \"\"}}, \"type\": \"scattermapbox\"}], \"scatterpolar\": [{\"marker\": {\"colorbar\": {\"outlinewidth\": 0, \"ticks\": \"\"}}, \"type\": \"scatterpolar\"}], \"scatterpolargl\": [{\"marker\": {\"colorbar\": {\"outlinewidth\": 0, \"ticks\": \"\"}}, \"type\": \"scatterpolargl\"}], \"scatterternary\": [{\"marker\": {\"colorbar\": {\"outlinewidth\": 0, \"ticks\": \"\"}}, \"type\": \"scatterternary\"}], \"surface\": [{\"colorbar\": {\"outlinewidth\": 0, \"ticks\": \"\"}, \"colorscale\": [[0.0, \"#0d0887\"], [0.1111111111111111, \"#46039f\"], [0.2222222222222222, \"#7201a8\"], [0.3333333333333333, \"#9c179e\"], [0.4444444444444444, \"#bd3786\"], [0.5555555555555556, \"#d8576b\"], [0.6666666666666666, \"#ed7953\"], [0.7777777777777778, \"#fb9f3a\"], [0.8888888888888888, \"#fdca26\"], [1.0, \"#f0f921\"]], \"type\": \"surface\"}], \"table\": [{\"cells\": {\"fill\": {\"color\": \"#EBF0F8\"}, \"line\": {\"color\": \"white\"}}, \"header\": {\"fill\": {\"color\": \"#C8D4E3\"}, \"line\": {\"color\": \"white\"}}, \"type\": \"table\"}]}, \"layout\": {\"annotationdefaults\": {\"arrowcolor\": \"#2a3f5f\", \"arrowhead\": 0, \"arrowwidth\": 1}, \"coloraxis\": {\"colorbar\": {\"outlinewidth\": 0, \"ticks\": \"\"}}, \"colorscale\": {\"diverging\": [[0, \"#8e0152\"], [0.1, \"#c51b7d\"], [0.2, \"#de77ae\"], [0.3, \"#f1b6da\"], [0.4, \"#fde0ef\"], [0.5, \"#f7f7f7\"], [0.6, \"#e6f5d0\"], [0.7, \"#b8e186\"], [0.8, \"#7fbc41\"], [0.9, \"#4d9221\"], [1, \"#276419\"]], \"sequential\": [[0.0, \"#0d0887\"], [0.1111111111111111, \"#46039f\"], [0.2222222222222222, \"#7201a8\"], [0.3333333333333333, \"#9c179e\"], [0.4444444444444444, \"#bd3786\"], [0.5555555555555556, \"#d8576b\"], [0.6666666666666666, \"#ed7953\"], [0.7777777777777778, \"#fb9f3a\"], [0.8888888888888888, \"#fdca26\"], [1.0, \"#f0f921\"]], \"sequentialminus\": [[0.0, \"#0d0887\"], [0.1111111111111111, \"#46039f\"], [0.2222222222222222, \"#7201a8\"], [0.3333333333333333, \"#9c179e\"], [0.4444444444444444, \"#bd3786\"], [0.5555555555555556, \"#d8576b\"], [0.6666666666666666, \"#ed7953\"], [0.7777777777777778, \"#fb9f3a\"], [0.8888888888888888, \"#fdca26\"], [1.0, \"#f0f921\"]]}, \"colorway\": [\"#636efa\", \"#EF553B\", \"#00cc96\", \"#ab63fa\", \"#FFA15A\", \"#19d3f3\", \"#FF6692\", \"#B6E880\", \"#FF97FF\", \"#FECB52\"], \"font\": {\"color\": \"#2a3f5f\"}, \"geo\": {\"bgcolor\": \"white\", \"lakecolor\": \"white\", \"landcolor\": \"#E5ECF6\", \"showlakes\": true, \"showland\": true, \"subunitcolor\": \"white\"}, \"hoverlabel\": {\"align\": \"left\"}, \"hovermode\": \"closest\", \"mapbox\": {\"style\": \"light\"}, \"paper_bgcolor\": \"white\", \"plot_bgcolor\": \"#E5ECF6\", \"polar\": {\"angularaxis\": {\"gridcolor\": \"white\", \"linecolor\": \"white\", \"ticks\": \"\"}, \"bgcolor\": \"#E5ECF6\", \"radialaxis\": {\"gridcolor\": \"white\", \"linecolor\": \"white\", \"ticks\": \"\"}}, \"scene\": {\"xaxis\": {\"backgroundcolor\": \"#E5ECF6\", \"gridcolor\": \"white\", \"gridwidth\": 2, \"linecolor\": \"white\", \"showbackground\": true, \"ticks\": \"\", \"zerolinecolor\": \"white\"}, \"yaxis\": {\"backgroundcolor\": \"#E5ECF6\", \"gridcolor\": \"white\", \"gridwidth\": 2, \"linecolor\": \"white\", \"showbackground\": true, \"ticks\": \"\", \"zerolinecolor\": \"white\"}, \"zaxis\": {\"backgroundcolor\": \"#E5ECF6\", \"gridcolor\": \"white\", \"gridwidth\": 2, \"linecolor\": \"white\", \"showbackground\": true, \"ticks\": \"\", \"zerolinecolor\": \"white\"}}, \"shapedefaults\": {\"line\": {\"color\": \"#2a3f5f\"}}, \"ternary\": {\"aaxis\": {\"gridcolor\": \"white\", \"linecolor\": \"white\", \"ticks\": \"\"}, \"baxis\": {\"gridcolor\": \"white\", \"linecolor\": \"white\", \"ticks\": \"\"}, \"bgcolor\": \"#E5ECF6\", \"caxis\": {\"gridcolor\": \"white\", \"linecolor\": \"white\", \"ticks\": \"\"}}, \"title\": {\"x\": 0.05}, \"xaxis\": {\"automargin\": true, \"gridcolor\": \"white\", \"linecolor\": \"white\", \"ticks\": \"\", \"title\": {\"standoff\": 15}, \"zerolinecolor\": \"white\", \"zerolinewidth\": 2}, \"yaxis\": {\"automargin\": true, \"gridcolor\": \"white\", \"linecolor\": \"white\", \"ticks\": \"\", \"title\": {\"standoff\": 15}, \"zerolinecolor\": \"white\", \"zerolinewidth\": 2}}}, \"title\": {\"font\": {\"color\": \"#4D5663\"}}, \"xaxis\": {\"gridcolor\": \"#E1E5ED\", \"showgrid\": true, \"tickfont\": {\"color\": \"#4D5663\"}, \"title\": {\"font\": {\"color\": \"#4D5663\"}, \"text\": \"\"}, \"zerolinecolor\": \"#E1E5ED\"}, \"yaxis\": {\"gridcolor\": \"#E1E5ED\", \"showgrid\": true, \"tickfont\": {\"color\": \"#4D5663\"}, \"title\": {\"font\": {\"color\": \"#4D5663\"}, \"text\": \"\"}, \"zerolinecolor\": \"#E1E5ED\"}},                        {\"showLink\": true, \"linkText\": \"Export to plot.ly\", \"plotlyServerURL\": \"https://plot.ly\", \"responsive\": true}                    ).then(function(){\n",
       "                            \n",
       "var gd = document.getElementById('3c6ef5b7-1e05-45bb-a375-6983d9d28fa0');\n",
       "var x = new MutationObserver(function (mutations, observer) {{\n",
       "        var display = window.getComputedStyle(gd).display;\n",
       "        if (!display || display === 'none') {{\n",
       "            console.log([gd, 'removed!']);\n",
       "            Plotly.purge(gd);\n",
       "            observer.disconnect();\n",
       "        }}\n",
       "}});\n",
       "\n",
       "// Listen for the removal of the full notebook cells\n",
       "var notebookContainer = gd.closest('#notebook-container');\n",
       "if (notebookContainer) {{\n",
       "    x.observe(notebookContainer, {childList: true});\n",
       "}}\n",
       "\n",
       "// Listen for the clearing of the current output cell\n",
       "var outputEl = gd.closest('.output');\n",
       "if (outputEl) {{\n",
       "    x.observe(outputEl, {childList: true});\n",
       "}}\n",
       "\n",
       "                        })                };                });            </script>        </div>"
      ]
     },
     "metadata": {},
     "output_type": "display_data"
    }
   ],
   "source": [
    "df.iplot(kind='bubble',x='A',y='B',size='C')"
   ]
  },
  {
   "cell_type": "markdown",
   "metadata": {},
   "source": [
    "## scatter_matrix()\n",
    "\n",
    "Similar to sns.pairplot()"
   ]
  },
  {
   "cell_type": "code",
   "execution_count": 18,
   "metadata": {},
   "outputs": [
    {
     "data": {
      "application/vnd.plotly.v1+json": {
       "config": {
        "linkText": "Export to plot.ly",
        "plotlyServerURL": "https://plot.ly",
        "showLink": true
       },
       "data": [
        {
         "histfunc": "count",
         "histnorm": "",
         "marker": {
          "color": "rgba(255, 153, 51, 1.0)",
          "line": {
           "color": "#4D5663",
           "width": 1.3
          }
         },
         "name": "A",
         "nbinsx": 10,
         "opacity": 0.8,
         "orientation": "v",
         "type": "histogram",
         "x": [
          1.6798269758748492,
          -0.2199836590415361,
          -2.4507820246760064,
          0.5345621049020333,
          -0.39856302744576677,
          -0.11261594574231408,
          0.18365368973708873,
          0.898157970332645,
          0.5753381411578375,
          -2.5763720307296083,
          1.38619832554469,
          -0.962354296236438,
          -1.101467819394483,
          -0.7987809996163434,
          -0.6933812853507427,
          0.8419418051636006,
          -1.5221391970802596,
          -0.06385761933739592,
          0.30807683903399036,
          -0.7080227475637054,
          1.4257322784721362,
          -0.6664877158684318,
          -0.8257276357775953,
          1.379311012710703,
          0.12044978700400753,
          -0.08648401244585327,
          1.2432979360283543,
          2.508360802520673,
          0.4643248708834873,
          -0.955633157694708,
          -1.535509984047946,
          -1.374791885319085,
          0.28630164904878097,
          0.7342244324101905,
          -0.02823128516313799,
          -0.7341739046874015,
          0.39230715140972666,
          0.8062188113949558,
          0.30642943847769355,
          -1.5844204083389668,
          -2.2168568921759118,
          0.818329086945323,
          -0.5429278392392303,
          -0.7677746861982568,
          0.4741597360051739,
          -0.7475180141955834,
          0.0663887639237793,
          0.1104087523560313,
          -0.487974454740564,
          -0.6582049749501504,
          0.7694795936392425,
          0.44001560003027074,
          -0.17121162838917453,
          1.3832908461628157,
          -0.19406089191467876,
          2.168061754494002,
          0.3351737818497473,
          2.1010768804402264,
          -0.7756198079418396,
          1.0972186157731403,
          -0.04018321949200649,
          0.5420574778414596,
          0.2740649957684385,
          -1.5137635358552375,
          0.6650360912190366,
          0.4432625903392581,
          -1.6308736220096962,
          0.1301705393722849,
          0.6511756307706884,
          0.0016669869019767401,
          -0.9550881209517254,
          -1.0469423873967165,
          0.9994755176228046,
          -0.07805461310115813,
          -0.18178366842378185,
          -0.5228836054837369,
          -0.96767637213527,
          0.8164590720680147,
          0.5365041447608002,
          0.9790438576307355,
          0.3635173181176478,
          2.561887388439632,
          1.6256800837780936,
          0.6638107412352435,
          -0.0911766669481064,
          -0.32992322533456153,
          0.84982905999064,
          1.1478701245524643,
          -0.2916632912204899,
          1.394588035257012,
          -0.7133373113633735,
          -0.4431573586059646,
          -1.5292557482074411,
          -0.17871425985598202,
          0.23194177885240613,
          -1.2413517177464832,
          -1.6314464938492308,
          -1.4795279562965968,
          1.4040753247894164,
          2.501998029267809
         ],
         "xaxis": "x",
         "yaxis": "y"
        },
        {
         "line": {
          "color": "rgba(128, 128, 128, 1.0)",
          "dash": "solid",
          "shape": "linear",
          "width": 1.3
         },
         "marker": {
          "size": 2,
          "symbol": "circle"
         },
         "mode": "markers",
         "name": "A",
         "text": "",
         "type": "scatter",
         "x": [
          -0.12944734190583249,
          -1.0964889210243227,
          -0.5688852625502178,
          2.4297126243557483,
          -0.6383179022401426,
          1.3561041448228395,
          -1.6651231504114188,
          0.2265362648432785,
          -2.0850226632797053,
          -2.3545591407570408,
          -1.1544274265573464,
          -0.4020479105629905,
          0.7895905985975938,
          0.7635632808206712,
          1.0231198669273638,
          2.2341143641943866,
          -2.2238915188013473,
          1.5283196068066418,
          2.058348244085285,
          0.053217829034620585,
          0.22227011237441024,
          0.18489704765681375,
          0.12486905080928802,
          0.969842991236598,
          -1.0482429553408665,
          0.8698847804194278,
          0.44588677004507565,
          -0.48751361405153193,
          0.33871488249048853,
          0.08589547691066018,
          1.520945017949968,
          0.4569931771003894,
          1.2944302524269116,
          1.6595127234593101,
          0.2710476742444291,
          -1.0021626352598372,
          0.8333820174820911,
          2.0198279770917407,
          -0.5579077878955658,
          -1.3790125878837953,
          1.5504112462608328,
          0.7258539885499488,
          0.16185050291894446,
          0.2924235347750846,
          -0.11910266309169193,
          -0.615398941759039,
          -0.530541022662267,
          0.7296369995652676,
          -1.4240486031951645,
          0.11073633883215957,
          0.6660226906250679,
          1.906341998994936,
          -0.809995774784047,
          -0.30889295305373726,
          1.1285525514247758,
          0.34010724747164967,
          1.1523194218879722,
          1.1500189899063549,
          -0.5921815874122709,
          1.6377477244644454,
          -0.696212406644362,
          -0.9587823452227174,
          0.2234331442497379,
          1.2311048031470695,
          -1.3913622289532295,
          -1.2456227014348427,
          0.07377413858952699,
          0.028619694828842464,
          0.21859811019916658,
          0.30173022612751677,
          -0.33698284311818816,
          0.6826533256019267,
          0.42527896103784163,
          -0.197894256639745,
          -0.5478886833710794,
          0.6394656680012822,
          -0.6477899051158909,
          0.26517299635865355,
          -0.4756976453911347,
          0.043295979729102166,
          0.0551056386251421,
          -0.02355682898881277,
          -1.6708649508149047,
          -0.5283349647398393,
          1.253322423115921,
          0.5323566961329269,
          -0.09719960500654366,
          -1.4370784482181538,
          -0.4171279131882182,
          -0.004360096322667945,
          1.1708193047502593,
          0.565476788609084,
          -0.9097673723544455,
          0.730880385355846,
          -0.6277790455857233,
          -0.43289643685794166,
          -0.1717910597522223,
          -0.7009702749426628,
          -0.5187570470781957,
          -0.054924326521840865
         ],
         "xaxis": "x2",
         "y": [
          1.6798269758748492,
          -0.2199836590415361,
          -2.4507820246760064,
          0.5345621049020333,
          -0.39856302744576677,
          -0.11261594574231408,
          0.18365368973708873,
          0.898157970332645,
          0.5753381411578375,
          -2.5763720307296083,
          1.38619832554469,
          -0.962354296236438,
          -1.101467819394483,
          -0.7987809996163434,
          -0.6933812853507427,
          0.8419418051636006,
          -1.5221391970802596,
          -0.06385761933739592,
          0.30807683903399036,
          -0.7080227475637054,
          1.4257322784721362,
          -0.6664877158684318,
          -0.8257276357775953,
          1.379311012710703,
          0.12044978700400753,
          -0.08648401244585327,
          1.2432979360283543,
          2.508360802520673,
          0.4643248708834873,
          -0.955633157694708,
          -1.535509984047946,
          -1.374791885319085,
          0.28630164904878097,
          0.7342244324101905,
          -0.02823128516313799,
          -0.7341739046874015,
          0.39230715140972666,
          0.8062188113949558,
          0.30642943847769355,
          -1.5844204083389668,
          -2.2168568921759118,
          0.818329086945323,
          -0.5429278392392303,
          -0.7677746861982568,
          0.4741597360051739,
          -0.7475180141955834,
          0.0663887639237793,
          0.1104087523560313,
          -0.487974454740564,
          -0.6582049749501504,
          0.7694795936392425,
          0.44001560003027074,
          -0.17121162838917453,
          1.3832908461628157,
          -0.19406089191467876,
          2.168061754494002,
          0.3351737818497473,
          2.1010768804402264,
          -0.7756198079418396,
          1.0972186157731403,
          -0.04018321949200649,
          0.5420574778414596,
          0.2740649957684385,
          -1.5137635358552375,
          0.6650360912190366,
          0.4432625903392581,
          -1.6308736220096962,
          0.1301705393722849,
          0.6511756307706884,
          0.0016669869019767401,
          -0.9550881209517254,
          -1.0469423873967165,
          0.9994755176228046,
          -0.07805461310115813,
          -0.18178366842378185,
          -0.5228836054837369,
          -0.96767637213527,
          0.8164590720680147,
          0.5365041447608002,
          0.9790438576307355,
          0.3635173181176478,
          2.561887388439632,
          1.6256800837780936,
          0.6638107412352435,
          -0.0911766669481064,
          -0.32992322533456153,
          0.84982905999064,
          1.1478701245524643,
          -0.2916632912204899,
          1.394588035257012,
          -0.7133373113633735,
          -0.4431573586059646,
          -1.5292557482074411,
          -0.17871425985598202,
          0.23194177885240613,
          -1.2413517177464832,
          -1.6314464938492308,
          -1.4795279562965968,
          1.4040753247894164,
          2.501998029267809
         ],
         "yaxis": "y2"
        },
        {
         "line": {
          "color": "rgba(128, 128, 128, 1.0)",
          "dash": "solid",
          "shape": "linear",
          "width": 1.3
         },
         "marker": {
          "size": 2,
          "symbol": "circle"
         },
         "mode": "markers",
         "name": "A",
         "text": "",
         "type": "scatter",
         "x": [
          -0.5099731986355046,
          -0.43642427933751393,
          1.2383132127202314,
          -0.41848949218137804,
          1.25219856392755,
          -0.4105265001114346,
          -0.3358702557111699,
          0.25045080489994975,
          -1.9805823390414017,
          -1.1638285777871764,
          -0.5547122917159738,
          -0.8753737076367798,
          0.1472314355014791,
          0.026724542420609173,
          -0.7632235588281209,
          -1.550962904605722,
          0.7335639248806228,
          0.37242453111627105,
          -0.8320528866828826,
          0.2962438309703489,
          0.015835119112943885,
          1.6077687705489354,
          -0.24860020313929826,
          -1.5587580138856387,
          -1.6376456575107412,
          0.26321034825329354,
          -0.22659429831387562,
          0.7578110973526933,
          -1.126055685209363,
          0.4234618596074086,
          0.30162472963764675,
          1.423957195776836,
          0.6542936945496459,
          1.0278613602812927,
          -2.4187650411462758,
          -0.04563326891105432,
          -0.24865960476685411,
          -0.5059852308485329,
          0.3770980502414392,
          1.411751489602502,
          -0.42721242837591134,
          0.8475460954157629,
          0.07889715736941662,
          0.16293653224477636,
          1.061220942165275,
          -1.316259053389097,
          0.7771479271478352,
          0.30980088008053813,
          -0.9843325921373898,
          0.7311573016463724,
          0.2206222602475841,
          0.6592408622395388,
          -0.19368353883203046,
          -1.5366055614417367,
          -0.8012843086577625,
          -1.6619361448339127,
          1.2421119590705874,
          0.43798749732232295,
          -1.1262270096956037,
          -0.2489226967532583,
          0.46053416372271533,
          -0.4242671247081647,
          -1.756145329353808,
          0.3276742088092708,
          0.13556738078925068,
          -0.4117042350488072,
          -0.0047894507884336515,
          -0.9134118938984985,
          -1.137953602364018,
          0.35910597666633937,
          -0.8399314606644921,
          -1.950679242792207,
          1.3703446524530332,
          -0.0853265070919818,
          0.23555625638411057,
          0.4819264961259066,
          1.641550079158694,
          0.31742293888894324,
          -0.3667001657942677,
          -0.7399062408794307,
          0.5188221608748309,
          -0.1995758955690176,
          0.7739321711831522,
          1.0624678371971847,
          1.6557851820592229,
          -1.1758694638881777,
          0.6677518079918014,
          2.6794749174565906,
          1.5782879631440412,
          0.13755898962176302,
          -0.9489809817536655,
          -1.5500200570548794,
          0.6789681666056834,
          1.3379386757837315,
          0.7857031906296689,
          0.10092045865609581,
          1.344211784643464,
          -1.9474559246682606,
          -1.4396076115651124,
          0.08024690521150149
         ],
         "xaxis": "x3",
         "y": [
          1.6798269758748492,
          -0.2199836590415361,
          -2.4507820246760064,
          0.5345621049020333,
          -0.39856302744576677,
          -0.11261594574231408,
          0.18365368973708873,
          0.898157970332645,
          0.5753381411578375,
          -2.5763720307296083,
          1.38619832554469,
          -0.962354296236438,
          -1.101467819394483,
          -0.7987809996163434,
          -0.6933812853507427,
          0.8419418051636006,
          -1.5221391970802596,
          -0.06385761933739592,
          0.30807683903399036,
          -0.7080227475637054,
          1.4257322784721362,
          -0.6664877158684318,
          -0.8257276357775953,
          1.379311012710703,
          0.12044978700400753,
          -0.08648401244585327,
          1.2432979360283543,
          2.508360802520673,
          0.4643248708834873,
          -0.955633157694708,
          -1.535509984047946,
          -1.374791885319085,
          0.28630164904878097,
          0.7342244324101905,
          -0.02823128516313799,
          -0.7341739046874015,
          0.39230715140972666,
          0.8062188113949558,
          0.30642943847769355,
          -1.5844204083389668,
          -2.2168568921759118,
          0.818329086945323,
          -0.5429278392392303,
          -0.7677746861982568,
          0.4741597360051739,
          -0.7475180141955834,
          0.0663887639237793,
          0.1104087523560313,
          -0.487974454740564,
          -0.6582049749501504,
          0.7694795936392425,
          0.44001560003027074,
          -0.17121162838917453,
          1.3832908461628157,
          -0.19406089191467876,
          2.168061754494002,
          0.3351737818497473,
          2.1010768804402264,
          -0.7756198079418396,
          1.0972186157731403,
          -0.04018321949200649,
          0.5420574778414596,
          0.2740649957684385,
          -1.5137635358552375,
          0.6650360912190366,
          0.4432625903392581,
          -1.6308736220096962,
          0.1301705393722849,
          0.6511756307706884,
          0.0016669869019767401,
          -0.9550881209517254,
          -1.0469423873967165,
          0.9994755176228046,
          -0.07805461310115813,
          -0.18178366842378185,
          -0.5228836054837369,
          -0.96767637213527,
          0.8164590720680147,
          0.5365041447608002,
          0.9790438576307355,
          0.3635173181176478,
          2.561887388439632,
          1.6256800837780936,
          0.6638107412352435,
          -0.0911766669481064,
          -0.32992322533456153,
          0.84982905999064,
          1.1478701245524643,
          -0.2916632912204899,
          1.394588035257012,
          -0.7133373113633735,
          -0.4431573586059646,
          -1.5292557482074411,
          -0.17871425985598202,
          0.23194177885240613,
          -1.2413517177464832,
          -1.6314464938492308,
          -1.4795279562965968,
          1.4040753247894164,
          2.501998029267809
         ],
         "yaxis": "y3"
        },
        {
         "line": {
          "color": "rgba(128, 128, 128, 1.0)",
          "dash": "solid",
          "shape": "linear",
          "width": 1.3
         },
         "marker": {
          "size": 2,
          "symbol": "circle"
         },
         "mode": "markers",
         "name": "A",
         "text": "",
         "type": "scatter",
         "x": [
          0.931984823135302,
          -1.2245757387681235,
          0.6838257554400858,
          -2.21040274577057,
          -0.9658177718986672,
          0.7648510621860802,
          -1.9318289453842272,
          0.43214846006956786,
          -0.2778734595859479,
          0.28204112949807175,
          -0.06613632513858599,
          -1.1545469137236308,
          0.30453532528965116,
          -1.5431772571078906,
          1.0705764297305391,
          -0.44809215570948163,
          0.24042544082215989,
          1.2457049889130014,
          0.7563089105970153,
          0.2636567564993423,
          0.7901852438947593,
          -0.39082447466783987,
          -1.4600733473052139,
          -1.0831460206260002,
          -0.03169434258199588,
          1.4341972115920654,
          -0.02651063330841973,
          -0.9480471562792716,
          0.031072569258799587,
          -1.2964583656331565,
          0.9423396567878187,
          -0.6148681920077593,
          1.0274078908637128,
          -1.722056772495833,
          -0.12927142246829035,
          -0.3893988022167786,
          -1.5451919590809442,
          -1.2177340745757055,
          1.87607060557863,
          0.09422254772693982,
          0.8752507247445381,
          -0.4648487863215274,
          0.4576450462957688,
          -0.09596880515818153,
          -0.8804178177374911,
          -0.03828247764281995,
          0.23547517617087876,
          -0.613712846285758,
          -0.9038458287430639,
          -1.6764620259002738,
          -0.2638757426237249,
          -0.32035531696585157,
          -1.11670290688409,
          1.0067394486393477,
          -0.9459322291048202,
          0.2833150611225091,
          1.0476466113089427,
          -0.24604721575843325,
          -0.8872398445929423,
          -0.4247841010304335,
          1.0187357476877301,
          -1.6390144011945684,
          -0.7269462742815427,
          -0.9289641405619283,
          -2.3688646750582403,
          1.23304416408373,
          -1.862896190739098,
          -1.0625575408697763,
          0.36748208727190057,
          -2.6094104075917293,
          0.39716002414019846,
          -0.886212218689742,
          0.802842674054774,
          -2.470270565490549,
          0.6948204936731898,
          -1.9828813424014085,
          0.6430149262654248,
          0.747416478284904,
          0.045459538193018977,
          -0.7707447484409992,
          -0.026572973946935915,
          -1.0656147940014389,
          -0.2084150744921162,
          0.2429968152215716,
          0.07157190583565437,
          -1.6567420369043255,
          1.6611619528344541,
          0.6848180354729289,
          1.1128036141517856,
          -0.8665138610694922,
          1.379223558159813,
          0.37079617948411525,
          0.770308888658991,
          0.052776928933610794,
          -0.3695704086373053,
          1.1502726935014809,
          0.35308807748366045,
          0.2943477837390178,
          -0.39037814278447036,
          -0.7249438020367157
         ],
         "xaxis": "x4",
         "y": [
          1.6798269758748492,
          -0.2199836590415361,
          -2.4507820246760064,
          0.5345621049020333,
          -0.39856302744576677,
          -0.11261594574231408,
          0.18365368973708873,
          0.898157970332645,
          0.5753381411578375,
          -2.5763720307296083,
          1.38619832554469,
          -0.962354296236438,
          -1.101467819394483,
          -0.7987809996163434,
          -0.6933812853507427,
          0.8419418051636006,
          -1.5221391970802596,
          -0.06385761933739592,
          0.30807683903399036,
          -0.7080227475637054,
          1.4257322784721362,
          -0.6664877158684318,
          -0.8257276357775953,
          1.379311012710703,
          0.12044978700400753,
          -0.08648401244585327,
          1.2432979360283543,
          2.508360802520673,
          0.4643248708834873,
          -0.955633157694708,
          -1.535509984047946,
          -1.374791885319085,
          0.28630164904878097,
          0.7342244324101905,
          -0.02823128516313799,
          -0.7341739046874015,
          0.39230715140972666,
          0.8062188113949558,
          0.30642943847769355,
          -1.5844204083389668,
          -2.2168568921759118,
          0.818329086945323,
          -0.5429278392392303,
          -0.7677746861982568,
          0.4741597360051739,
          -0.7475180141955834,
          0.0663887639237793,
          0.1104087523560313,
          -0.487974454740564,
          -0.6582049749501504,
          0.7694795936392425,
          0.44001560003027074,
          -0.17121162838917453,
          1.3832908461628157,
          -0.19406089191467876,
          2.168061754494002,
          0.3351737818497473,
          2.1010768804402264,
          -0.7756198079418396,
          1.0972186157731403,
          -0.04018321949200649,
          0.5420574778414596,
          0.2740649957684385,
          -1.5137635358552375,
          0.6650360912190366,
          0.4432625903392581,
          -1.6308736220096962,
          0.1301705393722849,
          0.6511756307706884,
          0.0016669869019767401,
          -0.9550881209517254,
          -1.0469423873967165,
          0.9994755176228046,
          -0.07805461310115813,
          -0.18178366842378185,
          -0.5228836054837369,
          -0.96767637213527,
          0.8164590720680147,
          0.5365041447608002,
          0.9790438576307355,
          0.3635173181176478,
          2.561887388439632,
          1.6256800837780936,
          0.6638107412352435,
          -0.0911766669481064,
          -0.32992322533456153,
          0.84982905999064,
          1.1478701245524643,
          -0.2916632912204899,
          1.394588035257012,
          -0.7133373113633735,
          -0.4431573586059646,
          -1.5292557482074411,
          -0.17871425985598202,
          0.23194177885240613,
          -1.2413517177464832,
          -1.6314464938492308,
          -1.4795279562965968,
          1.4040753247894164,
          2.501998029267809
         ],
         "yaxis": "y4"
        },
        {
         "line": {
          "color": "rgba(128, 128, 128, 1.0)",
          "dash": "solid",
          "shape": "linear",
          "width": 1.3
         },
         "marker": {
          "size": 2,
          "symbol": "circle"
         },
         "mode": "markers",
         "name": "B",
         "text": "",
         "type": "scatter",
         "x": [
          1.6798269758748492,
          -0.2199836590415361,
          -2.4507820246760064,
          0.5345621049020333,
          -0.39856302744576677,
          -0.11261594574231408,
          0.18365368973708873,
          0.898157970332645,
          0.5753381411578375,
          -2.5763720307296083,
          1.38619832554469,
          -0.962354296236438,
          -1.101467819394483,
          -0.7987809996163434,
          -0.6933812853507427,
          0.8419418051636006,
          -1.5221391970802596,
          -0.06385761933739592,
          0.30807683903399036,
          -0.7080227475637054,
          1.4257322784721362,
          -0.6664877158684318,
          -0.8257276357775953,
          1.379311012710703,
          0.12044978700400753,
          -0.08648401244585327,
          1.2432979360283543,
          2.508360802520673,
          0.4643248708834873,
          -0.955633157694708,
          -1.535509984047946,
          -1.374791885319085,
          0.28630164904878097,
          0.7342244324101905,
          -0.02823128516313799,
          -0.7341739046874015,
          0.39230715140972666,
          0.8062188113949558,
          0.30642943847769355,
          -1.5844204083389668,
          -2.2168568921759118,
          0.818329086945323,
          -0.5429278392392303,
          -0.7677746861982568,
          0.4741597360051739,
          -0.7475180141955834,
          0.0663887639237793,
          0.1104087523560313,
          -0.487974454740564,
          -0.6582049749501504,
          0.7694795936392425,
          0.44001560003027074,
          -0.17121162838917453,
          1.3832908461628157,
          -0.19406089191467876,
          2.168061754494002,
          0.3351737818497473,
          2.1010768804402264,
          -0.7756198079418396,
          1.0972186157731403,
          -0.04018321949200649,
          0.5420574778414596,
          0.2740649957684385,
          -1.5137635358552375,
          0.6650360912190366,
          0.4432625903392581,
          -1.6308736220096962,
          0.1301705393722849,
          0.6511756307706884,
          0.0016669869019767401,
          -0.9550881209517254,
          -1.0469423873967165,
          0.9994755176228046,
          -0.07805461310115813,
          -0.18178366842378185,
          -0.5228836054837369,
          -0.96767637213527,
          0.8164590720680147,
          0.5365041447608002,
          0.9790438576307355,
          0.3635173181176478,
          2.561887388439632,
          1.6256800837780936,
          0.6638107412352435,
          -0.0911766669481064,
          -0.32992322533456153,
          0.84982905999064,
          1.1478701245524643,
          -0.2916632912204899,
          1.394588035257012,
          -0.7133373113633735,
          -0.4431573586059646,
          -1.5292557482074411,
          -0.17871425985598202,
          0.23194177885240613,
          -1.2413517177464832,
          -1.6314464938492308,
          -1.4795279562965968,
          1.4040753247894164,
          2.501998029267809
         ],
         "xaxis": "x5",
         "y": [
          -0.12944734190583249,
          -1.0964889210243227,
          -0.5688852625502178,
          2.4297126243557483,
          -0.6383179022401426,
          1.3561041448228395,
          -1.6651231504114188,
          0.2265362648432785,
          -2.0850226632797053,
          -2.3545591407570408,
          -1.1544274265573464,
          -0.4020479105629905,
          0.7895905985975938,
          0.7635632808206712,
          1.0231198669273638,
          2.2341143641943866,
          -2.2238915188013473,
          1.5283196068066418,
          2.058348244085285,
          0.053217829034620585,
          0.22227011237441024,
          0.18489704765681375,
          0.12486905080928802,
          0.969842991236598,
          -1.0482429553408665,
          0.8698847804194278,
          0.44588677004507565,
          -0.48751361405153193,
          0.33871488249048853,
          0.08589547691066018,
          1.520945017949968,
          0.4569931771003894,
          1.2944302524269116,
          1.6595127234593101,
          0.2710476742444291,
          -1.0021626352598372,
          0.8333820174820911,
          2.0198279770917407,
          -0.5579077878955658,
          -1.3790125878837953,
          1.5504112462608328,
          0.7258539885499488,
          0.16185050291894446,
          0.2924235347750846,
          -0.11910266309169193,
          -0.615398941759039,
          -0.530541022662267,
          0.7296369995652676,
          -1.4240486031951645,
          0.11073633883215957,
          0.6660226906250679,
          1.906341998994936,
          -0.809995774784047,
          -0.30889295305373726,
          1.1285525514247758,
          0.34010724747164967,
          1.1523194218879722,
          1.1500189899063549,
          -0.5921815874122709,
          1.6377477244644454,
          -0.696212406644362,
          -0.9587823452227174,
          0.2234331442497379,
          1.2311048031470695,
          -1.3913622289532295,
          -1.2456227014348427,
          0.07377413858952699,
          0.028619694828842464,
          0.21859811019916658,
          0.30173022612751677,
          -0.33698284311818816,
          0.6826533256019267,
          0.42527896103784163,
          -0.197894256639745,
          -0.5478886833710794,
          0.6394656680012822,
          -0.6477899051158909,
          0.26517299635865355,
          -0.4756976453911347,
          0.043295979729102166,
          0.0551056386251421,
          -0.02355682898881277,
          -1.6708649508149047,
          -0.5283349647398393,
          1.253322423115921,
          0.5323566961329269,
          -0.09719960500654366,
          -1.4370784482181538,
          -0.4171279131882182,
          -0.004360096322667945,
          1.1708193047502593,
          0.565476788609084,
          -0.9097673723544455,
          0.730880385355846,
          -0.6277790455857233,
          -0.43289643685794166,
          -0.1717910597522223,
          -0.7009702749426628,
          -0.5187570470781957,
          -0.054924326521840865
         ],
         "yaxis": "y5"
        },
        {
         "histfunc": "count",
         "histnorm": "",
         "marker": {
          "color": "rgba(55, 128, 191, 1.0)",
          "line": {
           "color": "#4D5663",
           "width": 1.3
          }
         },
         "name": "B",
         "nbinsx": 10,
         "opacity": 0.8,
         "orientation": "v",
         "type": "histogram",
         "x": [
          -0.12944734190583249,
          -1.0964889210243227,
          -0.5688852625502178,
          2.4297126243557483,
          -0.6383179022401426,
          1.3561041448228395,
          -1.6651231504114188,
          0.2265362648432785,
          -2.0850226632797053,
          -2.3545591407570408,
          -1.1544274265573464,
          -0.4020479105629905,
          0.7895905985975938,
          0.7635632808206712,
          1.0231198669273638,
          2.2341143641943866,
          -2.2238915188013473,
          1.5283196068066418,
          2.058348244085285,
          0.053217829034620585,
          0.22227011237441024,
          0.18489704765681375,
          0.12486905080928802,
          0.969842991236598,
          -1.0482429553408665,
          0.8698847804194278,
          0.44588677004507565,
          -0.48751361405153193,
          0.33871488249048853,
          0.08589547691066018,
          1.520945017949968,
          0.4569931771003894,
          1.2944302524269116,
          1.6595127234593101,
          0.2710476742444291,
          -1.0021626352598372,
          0.8333820174820911,
          2.0198279770917407,
          -0.5579077878955658,
          -1.3790125878837953,
          1.5504112462608328,
          0.7258539885499488,
          0.16185050291894446,
          0.2924235347750846,
          -0.11910266309169193,
          -0.615398941759039,
          -0.530541022662267,
          0.7296369995652676,
          -1.4240486031951645,
          0.11073633883215957,
          0.6660226906250679,
          1.906341998994936,
          -0.809995774784047,
          -0.30889295305373726,
          1.1285525514247758,
          0.34010724747164967,
          1.1523194218879722,
          1.1500189899063549,
          -0.5921815874122709,
          1.6377477244644454,
          -0.696212406644362,
          -0.9587823452227174,
          0.2234331442497379,
          1.2311048031470695,
          -1.3913622289532295,
          -1.2456227014348427,
          0.07377413858952699,
          0.028619694828842464,
          0.21859811019916658,
          0.30173022612751677,
          -0.33698284311818816,
          0.6826533256019267,
          0.42527896103784163,
          -0.197894256639745,
          -0.5478886833710794,
          0.6394656680012822,
          -0.6477899051158909,
          0.26517299635865355,
          -0.4756976453911347,
          0.043295979729102166,
          0.0551056386251421,
          -0.02355682898881277,
          -1.6708649508149047,
          -0.5283349647398393,
          1.253322423115921,
          0.5323566961329269,
          -0.09719960500654366,
          -1.4370784482181538,
          -0.4171279131882182,
          -0.004360096322667945,
          1.1708193047502593,
          0.565476788609084,
          -0.9097673723544455,
          0.730880385355846,
          -0.6277790455857233,
          -0.43289643685794166,
          -0.1717910597522223,
          -0.7009702749426628,
          -0.5187570470781957,
          -0.054924326521840865
         ],
         "xaxis": "x6",
         "yaxis": "y6"
        },
        {
         "line": {
          "color": "rgba(128, 128, 128, 1.0)",
          "dash": "solid",
          "shape": "linear",
          "width": 1.3
         },
         "marker": {
          "size": 2,
          "symbol": "circle"
         },
         "mode": "markers",
         "name": "B",
         "text": "",
         "type": "scatter",
         "x": [
          -0.5099731986355046,
          -0.43642427933751393,
          1.2383132127202314,
          -0.41848949218137804,
          1.25219856392755,
          -0.4105265001114346,
          -0.3358702557111699,
          0.25045080489994975,
          -1.9805823390414017,
          -1.1638285777871764,
          -0.5547122917159738,
          -0.8753737076367798,
          0.1472314355014791,
          0.026724542420609173,
          -0.7632235588281209,
          -1.550962904605722,
          0.7335639248806228,
          0.37242453111627105,
          -0.8320528866828826,
          0.2962438309703489,
          0.015835119112943885,
          1.6077687705489354,
          -0.24860020313929826,
          -1.5587580138856387,
          -1.6376456575107412,
          0.26321034825329354,
          -0.22659429831387562,
          0.7578110973526933,
          -1.126055685209363,
          0.4234618596074086,
          0.30162472963764675,
          1.423957195776836,
          0.6542936945496459,
          1.0278613602812927,
          -2.4187650411462758,
          -0.04563326891105432,
          -0.24865960476685411,
          -0.5059852308485329,
          0.3770980502414392,
          1.411751489602502,
          -0.42721242837591134,
          0.8475460954157629,
          0.07889715736941662,
          0.16293653224477636,
          1.061220942165275,
          -1.316259053389097,
          0.7771479271478352,
          0.30980088008053813,
          -0.9843325921373898,
          0.7311573016463724,
          0.2206222602475841,
          0.6592408622395388,
          -0.19368353883203046,
          -1.5366055614417367,
          -0.8012843086577625,
          -1.6619361448339127,
          1.2421119590705874,
          0.43798749732232295,
          -1.1262270096956037,
          -0.2489226967532583,
          0.46053416372271533,
          -0.4242671247081647,
          -1.756145329353808,
          0.3276742088092708,
          0.13556738078925068,
          -0.4117042350488072,
          -0.0047894507884336515,
          -0.9134118938984985,
          -1.137953602364018,
          0.35910597666633937,
          -0.8399314606644921,
          -1.950679242792207,
          1.3703446524530332,
          -0.0853265070919818,
          0.23555625638411057,
          0.4819264961259066,
          1.641550079158694,
          0.31742293888894324,
          -0.3667001657942677,
          -0.7399062408794307,
          0.5188221608748309,
          -0.1995758955690176,
          0.7739321711831522,
          1.0624678371971847,
          1.6557851820592229,
          -1.1758694638881777,
          0.6677518079918014,
          2.6794749174565906,
          1.5782879631440412,
          0.13755898962176302,
          -0.9489809817536655,
          -1.5500200570548794,
          0.6789681666056834,
          1.3379386757837315,
          0.7857031906296689,
          0.10092045865609581,
          1.344211784643464,
          -1.9474559246682606,
          -1.4396076115651124,
          0.08024690521150149
         ],
         "xaxis": "x7",
         "y": [
          -0.12944734190583249,
          -1.0964889210243227,
          -0.5688852625502178,
          2.4297126243557483,
          -0.6383179022401426,
          1.3561041448228395,
          -1.6651231504114188,
          0.2265362648432785,
          -2.0850226632797053,
          -2.3545591407570408,
          -1.1544274265573464,
          -0.4020479105629905,
          0.7895905985975938,
          0.7635632808206712,
          1.0231198669273638,
          2.2341143641943866,
          -2.2238915188013473,
          1.5283196068066418,
          2.058348244085285,
          0.053217829034620585,
          0.22227011237441024,
          0.18489704765681375,
          0.12486905080928802,
          0.969842991236598,
          -1.0482429553408665,
          0.8698847804194278,
          0.44588677004507565,
          -0.48751361405153193,
          0.33871488249048853,
          0.08589547691066018,
          1.520945017949968,
          0.4569931771003894,
          1.2944302524269116,
          1.6595127234593101,
          0.2710476742444291,
          -1.0021626352598372,
          0.8333820174820911,
          2.0198279770917407,
          -0.5579077878955658,
          -1.3790125878837953,
          1.5504112462608328,
          0.7258539885499488,
          0.16185050291894446,
          0.2924235347750846,
          -0.11910266309169193,
          -0.615398941759039,
          -0.530541022662267,
          0.7296369995652676,
          -1.4240486031951645,
          0.11073633883215957,
          0.6660226906250679,
          1.906341998994936,
          -0.809995774784047,
          -0.30889295305373726,
          1.1285525514247758,
          0.34010724747164967,
          1.1523194218879722,
          1.1500189899063549,
          -0.5921815874122709,
          1.6377477244644454,
          -0.696212406644362,
          -0.9587823452227174,
          0.2234331442497379,
          1.2311048031470695,
          -1.3913622289532295,
          -1.2456227014348427,
          0.07377413858952699,
          0.028619694828842464,
          0.21859811019916658,
          0.30173022612751677,
          -0.33698284311818816,
          0.6826533256019267,
          0.42527896103784163,
          -0.197894256639745,
          -0.5478886833710794,
          0.6394656680012822,
          -0.6477899051158909,
          0.26517299635865355,
          -0.4756976453911347,
          0.043295979729102166,
          0.0551056386251421,
          -0.02355682898881277,
          -1.6708649508149047,
          -0.5283349647398393,
          1.253322423115921,
          0.5323566961329269,
          -0.09719960500654366,
          -1.4370784482181538,
          -0.4171279131882182,
          -0.004360096322667945,
          1.1708193047502593,
          0.565476788609084,
          -0.9097673723544455,
          0.730880385355846,
          -0.6277790455857233,
          -0.43289643685794166,
          -0.1717910597522223,
          -0.7009702749426628,
          -0.5187570470781957,
          -0.054924326521840865
         ],
         "yaxis": "y7"
        },
        {
         "line": {
          "color": "rgba(128, 128, 128, 1.0)",
          "dash": "solid",
          "shape": "linear",
          "width": 1.3
         },
         "marker": {
          "size": 2,
          "symbol": "circle"
         },
         "mode": "markers",
         "name": "B",
         "text": "",
         "type": "scatter",
         "x": [
          0.931984823135302,
          -1.2245757387681235,
          0.6838257554400858,
          -2.21040274577057,
          -0.9658177718986672,
          0.7648510621860802,
          -1.9318289453842272,
          0.43214846006956786,
          -0.2778734595859479,
          0.28204112949807175,
          -0.06613632513858599,
          -1.1545469137236308,
          0.30453532528965116,
          -1.5431772571078906,
          1.0705764297305391,
          -0.44809215570948163,
          0.24042544082215989,
          1.2457049889130014,
          0.7563089105970153,
          0.2636567564993423,
          0.7901852438947593,
          -0.39082447466783987,
          -1.4600733473052139,
          -1.0831460206260002,
          -0.03169434258199588,
          1.4341972115920654,
          -0.02651063330841973,
          -0.9480471562792716,
          0.031072569258799587,
          -1.2964583656331565,
          0.9423396567878187,
          -0.6148681920077593,
          1.0274078908637128,
          -1.722056772495833,
          -0.12927142246829035,
          -0.3893988022167786,
          -1.5451919590809442,
          -1.2177340745757055,
          1.87607060557863,
          0.09422254772693982,
          0.8752507247445381,
          -0.4648487863215274,
          0.4576450462957688,
          -0.09596880515818153,
          -0.8804178177374911,
          -0.03828247764281995,
          0.23547517617087876,
          -0.613712846285758,
          -0.9038458287430639,
          -1.6764620259002738,
          -0.2638757426237249,
          -0.32035531696585157,
          -1.11670290688409,
          1.0067394486393477,
          -0.9459322291048202,
          0.2833150611225091,
          1.0476466113089427,
          -0.24604721575843325,
          -0.8872398445929423,
          -0.4247841010304335,
          1.0187357476877301,
          -1.6390144011945684,
          -0.7269462742815427,
          -0.9289641405619283,
          -2.3688646750582403,
          1.23304416408373,
          -1.862896190739098,
          -1.0625575408697763,
          0.36748208727190057,
          -2.6094104075917293,
          0.39716002414019846,
          -0.886212218689742,
          0.802842674054774,
          -2.470270565490549,
          0.6948204936731898,
          -1.9828813424014085,
          0.6430149262654248,
          0.747416478284904,
          0.045459538193018977,
          -0.7707447484409992,
          -0.026572973946935915,
          -1.0656147940014389,
          -0.2084150744921162,
          0.2429968152215716,
          0.07157190583565437,
          -1.6567420369043255,
          1.6611619528344541,
          0.6848180354729289,
          1.1128036141517856,
          -0.8665138610694922,
          1.379223558159813,
          0.37079617948411525,
          0.770308888658991,
          0.052776928933610794,
          -0.3695704086373053,
          1.1502726935014809,
          0.35308807748366045,
          0.2943477837390178,
          -0.39037814278447036,
          -0.7249438020367157
         ],
         "xaxis": "x8",
         "y": [
          -0.12944734190583249,
          -1.0964889210243227,
          -0.5688852625502178,
          2.4297126243557483,
          -0.6383179022401426,
          1.3561041448228395,
          -1.6651231504114188,
          0.2265362648432785,
          -2.0850226632797053,
          -2.3545591407570408,
          -1.1544274265573464,
          -0.4020479105629905,
          0.7895905985975938,
          0.7635632808206712,
          1.0231198669273638,
          2.2341143641943866,
          -2.2238915188013473,
          1.5283196068066418,
          2.058348244085285,
          0.053217829034620585,
          0.22227011237441024,
          0.18489704765681375,
          0.12486905080928802,
          0.969842991236598,
          -1.0482429553408665,
          0.8698847804194278,
          0.44588677004507565,
          -0.48751361405153193,
          0.33871488249048853,
          0.08589547691066018,
          1.520945017949968,
          0.4569931771003894,
          1.2944302524269116,
          1.6595127234593101,
          0.2710476742444291,
          -1.0021626352598372,
          0.8333820174820911,
          2.0198279770917407,
          -0.5579077878955658,
          -1.3790125878837953,
          1.5504112462608328,
          0.7258539885499488,
          0.16185050291894446,
          0.2924235347750846,
          -0.11910266309169193,
          -0.615398941759039,
          -0.530541022662267,
          0.7296369995652676,
          -1.4240486031951645,
          0.11073633883215957,
          0.6660226906250679,
          1.906341998994936,
          -0.809995774784047,
          -0.30889295305373726,
          1.1285525514247758,
          0.34010724747164967,
          1.1523194218879722,
          1.1500189899063549,
          -0.5921815874122709,
          1.6377477244644454,
          -0.696212406644362,
          -0.9587823452227174,
          0.2234331442497379,
          1.2311048031470695,
          -1.3913622289532295,
          -1.2456227014348427,
          0.07377413858952699,
          0.028619694828842464,
          0.21859811019916658,
          0.30173022612751677,
          -0.33698284311818816,
          0.6826533256019267,
          0.42527896103784163,
          -0.197894256639745,
          -0.5478886833710794,
          0.6394656680012822,
          -0.6477899051158909,
          0.26517299635865355,
          -0.4756976453911347,
          0.043295979729102166,
          0.0551056386251421,
          -0.02355682898881277,
          -1.6708649508149047,
          -0.5283349647398393,
          1.253322423115921,
          0.5323566961329269,
          -0.09719960500654366,
          -1.4370784482181538,
          -0.4171279131882182,
          -0.004360096322667945,
          1.1708193047502593,
          0.565476788609084,
          -0.9097673723544455,
          0.730880385355846,
          -0.6277790455857233,
          -0.43289643685794166,
          -0.1717910597522223,
          -0.7009702749426628,
          -0.5187570470781957,
          -0.054924326521840865
         ],
         "yaxis": "y8"
        },
        {
         "line": {
          "color": "rgba(128, 128, 128, 1.0)",
          "dash": "solid",
          "shape": "linear",
          "width": 1.3
         },
         "marker": {
          "size": 2,
          "symbol": "circle"
         },
         "mode": "markers",
         "name": "C",
         "text": "",
         "type": "scatter",
         "x": [
          1.6798269758748492,
          -0.2199836590415361,
          -2.4507820246760064,
          0.5345621049020333,
          -0.39856302744576677,
          -0.11261594574231408,
          0.18365368973708873,
          0.898157970332645,
          0.5753381411578375,
          -2.5763720307296083,
          1.38619832554469,
          -0.962354296236438,
          -1.101467819394483,
          -0.7987809996163434,
          -0.6933812853507427,
          0.8419418051636006,
          -1.5221391970802596,
          -0.06385761933739592,
          0.30807683903399036,
          -0.7080227475637054,
          1.4257322784721362,
          -0.6664877158684318,
          -0.8257276357775953,
          1.379311012710703,
          0.12044978700400753,
          -0.08648401244585327,
          1.2432979360283543,
          2.508360802520673,
          0.4643248708834873,
          -0.955633157694708,
          -1.535509984047946,
          -1.374791885319085,
          0.28630164904878097,
          0.7342244324101905,
          -0.02823128516313799,
          -0.7341739046874015,
          0.39230715140972666,
          0.8062188113949558,
          0.30642943847769355,
          -1.5844204083389668,
          -2.2168568921759118,
          0.818329086945323,
          -0.5429278392392303,
          -0.7677746861982568,
          0.4741597360051739,
          -0.7475180141955834,
          0.0663887639237793,
          0.1104087523560313,
          -0.487974454740564,
          -0.6582049749501504,
          0.7694795936392425,
          0.44001560003027074,
          -0.17121162838917453,
          1.3832908461628157,
          -0.19406089191467876,
          2.168061754494002,
          0.3351737818497473,
          2.1010768804402264,
          -0.7756198079418396,
          1.0972186157731403,
          -0.04018321949200649,
          0.5420574778414596,
          0.2740649957684385,
          -1.5137635358552375,
          0.6650360912190366,
          0.4432625903392581,
          -1.6308736220096962,
          0.1301705393722849,
          0.6511756307706884,
          0.0016669869019767401,
          -0.9550881209517254,
          -1.0469423873967165,
          0.9994755176228046,
          -0.07805461310115813,
          -0.18178366842378185,
          -0.5228836054837369,
          -0.96767637213527,
          0.8164590720680147,
          0.5365041447608002,
          0.9790438576307355,
          0.3635173181176478,
          2.561887388439632,
          1.6256800837780936,
          0.6638107412352435,
          -0.0911766669481064,
          -0.32992322533456153,
          0.84982905999064,
          1.1478701245524643,
          -0.2916632912204899,
          1.394588035257012,
          -0.7133373113633735,
          -0.4431573586059646,
          -1.5292557482074411,
          -0.17871425985598202,
          0.23194177885240613,
          -1.2413517177464832,
          -1.6314464938492308,
          -1.4795279562965968,
          1.4040753247894164,
          2.501998029267809
         ],
         "xaxis": "x9",
         "y": [
          -0.5099731986355046,
          -0.43642427933751393,
          1.2383132127202314,
          -0.41848949218137804,
          1.25219856392755,
          -0.4105265001114346,
          -0.3358702557111699,
          0.25045080489994975,
          -1.9805823390414017,
          -1.1638285777871764,
          -0.5547122917159738,
          -0.8753737076367798,
          0.1472314355014791,
          0.026724542420609173,
          -0.7632235588281209,
          -1.550962904605722,
          0.7335639248806228,
          0.37242453111627105,
          -0.8320528866828826,
          0.2962438309703489,
          0.015835119112943885,
          1.6077687705489354,
          -0.24860020313929826,
          -1.5587580138856387,
          -1.6376456575107412,
          0.26321034825329354,
          -0.22659429831387562,
          0.7578110973526933,
          -1.126055685209363,
          0.4234618596074086,
          0.30162472963764675,
          1.423957195776836,
          0.6542936945496459,
          1.0278613602812927,
          -2.4187650411462758,
          -0.04563326891105432,
          -0.24865960476685411,
          -0.5059852308485329,
          0.3770980502414392,
          1.411751489602502,
          -0.42721242837591134,
          0.8475460954157629,
          0.07889715736941662,
          0.16293653224477636,
          1.061220942165275,
          -1.316259053389097,
          0.7771479271478352,
          0.30980088008053813,
          -0.9843325921373898,
          0.7311573016463724,
          0.2206222602475841,
          0.6592408622395388,
          -0.19368353883203046,
          -1.5366055614417367,
          -0.8012843086577625,
          -1.6619361448339127,
          1.2421119590705874,
          0.43798749732232295,
          -1.1262270096956037,
          -0.2489226967532583,
          0.46053416372271533,
          -0.4242671247081647,
          -1.756145329353808,
          0.3276742088092708,
          0.13556738078925068,
          -0.4117042350488072,
          -0.0047894507884336515,
          -0.9134118938984985,
          -1.137953602364018,
          0.35910597666633937,
          -0.8399314606644921,
          -1.950679242792207,
          1.3703446524530332,
          -0.0853265070919818,
          0.23555625638411057,
          0.4819264961259066,
          1.641550079158694,
          0.31742293888894324,
          -0.3667001657942677,
          -0.7399062408794307,
          0.5188221608748309,
          -0.1995758955690176,
          0.7739321711831522,
          1.0624678371971847,
          1.6557851820592229,
          -1.1758694638881777,
          0.6677518079918014,
          2.6794749174565906,
          1.5782879631440412,
          0.13755898962176302,
          -0.9489809817536655,
          -1.5500200570548794,
          0.6789681666056834,
          1.3379386757837315,
          0.7857031906296689,
          0.10092045865609581,
          1.344211784643464,
          -1.9474559246682606,
          -1.4396076115651124,
          0.08024690521150149
         ],
         "yaxis": "y9"
        },
        {
         "line": {
          "color": "rgba(128, 128, 128, 1.0)",
          "dash": "solid",
          "shape": "linear",
          "width": 1.3
         },
         "marker": {
          "size": 2,
          "symbol": "circle"
         },
         "mode": "markers",
         "name": "C",
         "text": "",
         "type": "scatter",
         "x": [
          -0.12944734190583249,
          -1.0964889210243227,
          -0.5688852625502178,
          2.4297126243557483,
          -0.6383179022401426,
          1.3561041448228395,
          -1.6651231504114188,
          0.2265362648432785,
          -2.0850226632797053,
          -2.3545591407570408,
          -1.1544274265573464,
          -0.4020479105629905,
          0.7895905985975938,
          0.7635632808206712,
          1.0231198669273638,
          2.2341143641943866,
          -2.2238915188013473,
          1.5283196068066418,
          2.058348244085285,
          0.053217829034620585,
          0.22227011237441024,
          0.18489704765681375,
          0.12486905080928802,
          0.969842991236598,
          -1.0482429553408665,
          0.8698847804194278,
          0.44588677004507565,
          -0.48751361405153193,
          0.33871488249048853,
          0.08589547691066018,
          1.520945017949968,
          0.4569931771003894,
          1.2944302524269116,
          1.6595127234593101,
          0.2710476742444291,
          -1.0021626352598372,
          0.8333820174820911,
          2.0198279770917407,
          -0.5579077878955658,
          -1.3790125878837953,
          1.5504112462608328,
          0.7258539885499488,
          0.16185050291894446,
          0.2924235347750846,
          -0.11910266309169193,
          -0.615398941759039,
          -0.530541022662267,
          0.7296369995652676,
          -1.4240486031951645,
          0.11073633883215957,
          0.6660226906250679,
          1.906341998994936,
          -0.809995774784047,
          -0.30889295305373726,
          1.1285525514247758,
          0.34010724747164967,
          1.1523194218879722,
          1.1500189899063549,
          -0.5921815874122709,
          1.6377477244644454,
          -0.696212406644362,
          -0.9587823452227174,
          0.2234331442497379,
          1.2311048031470695,
          -1.3913622289532295,
          -1.2456227014348427,
          0.07377413858952699,
          0.028619694828842464,
          0.21859811019916658,
          0.30173022612751677,
          -0.33698284311818816,
          0.6826533256019267,
          0.42527896103784163,
          -0.197894256639745,
          -0.5478886833710794,
          0.6394656680012822,
          -0.6477899051158909,
          0.26517299635865355,
          -0.4756976453911347,
          0.043295979729102166,
          0.0551056386251421,
          -0.02355682898881277,
          -1.6708649508149047,
          -0.5283349647398393,
          1.253322423115921,
          0.5323566961329269,
          -0.09719960500654366,
          -1.4370784482181538,
          -0.4171279131882182,
          -0.004360096322667945,
          1.1708193047502593,
          0.565476788609084,
          -0.9097673723544455,
          0.730880385355846,
          -0.6277790455857233,
          -0.43289643685794166,
          -0.1717910597522223,
          -0.7009702749426628,
          -0.5187570470781957,
          -0.054924326521840865
         ],
         "xaxis": "x10",
         "y": [
          -0.5099731986355046,
          -0.43642427933751393,
          1.2383132127202314,
          -0.41848949218137804,
          1.25219856392755,
          -0.4105265001114346,
          -0.3358702557111699,
          0.25045080489994975,
          -1.9805823390414017,
          -1.1638285777871764,
          -0.5547122917159738,
          -0.8753737076367798,
          0.1472314355014791,
          0.026724542420609173,
          -0.7632235588281209,
          -1.550962904605722,
          0.7335639248806228,
          0.37242453111627105,
          -0.8320528866828826,
          0.2962438309703489,
          0.015835119112943885,
          1.6077687705489354,
          -0.24860020313929826,
          -1.5587580138856387,
          -1.6376456575107412,
          0.26321034825329354,
          -0.22659429831387562,
          0.7578110973526933,
          -1.126055685209363,
          0.4234618596074086,
          0.30162472963764675,
          1.423957195776836,
          0.6542936945496459,
          1.0278613602812927,
          -2.4187650411462758,
          -0.04563326891105432,
          -0.24865960476685411,
          -0.5059852308485329,
          0.3770980502414392,
          1.411751489602502,
          -0.42721242837591134,
          0.8475460954157629,
          0.07889715736941662,
          0.16293653224477636,
          1.061220942165275,
          -1.316259053389097,
          0.7771479271478352,
          0.30980088008053813,
          -0.9843325921373898,
          0.7311573016463724,
          0.2206222602475841,
          0.6592408622395388,
          -0.19368353883203046,
          -1.5366055614417367,
          -0.8012843086577625,
          -1.6619361448339127,
          1.2421119590705874,
          0.43798749732232295,
          -1.1262270096956037,
          -0.2489226967532583,
          0.46053416372271533,
          -0.4242671247081647,
          -1.756145329353808,
          0.3276742088092708,
          0.13556738078925068,
          -0.4117042350488072,
          -0.0047894507884336515,
          -0.9134118938984985,
          -1.137953602364018,
          0.35910597666633937,
          -0.8399314606644921,
          -1.950679242792207,
          1.3703446524530332,
          -0.0853265070919818,
          0.23555625638411057,
          0.4819264961259066,
          1.641550079158694,
          0.31742293888894324,
          -0.3667001657942677,
          -0.7399062408794307,
          0.5188221608748309,
          -0.1995758955690176,
          0.7739321711831522,
          1.0624678371971847,
          1.6557851820592229,
          -1.1758694638881777,
          0.6677518079918014,
          2.6794749174565906,
          1.5782879631440412,
          0.13755898962176302,
          -0.9489809817536655,
          -1.5500200570548794,
          0.6789681666056834,
          1.3379386757837315,
          0.7857031906296689,
          0.10092045865609581,
          1.344211784643464,
          -1.9474559246682606,
          -1.4396076115651124,
          0.08024690521150149
         ],
         "yaxis": "y10"
        },
        {
         "histfunc": "count",
         "histnorm": "",
         "marker": {
          "color": "rgba(50, 171, 96, 1.0)",
          "line": {
           "color": "#4D5663",
           "width": 1.3
          }
         },
         "name": "C",
         "nbinsx": 10,
         "opacity": 0.8,
         "orientation": "v",
         "type": "histogram",
         "x": [
          -0.5099731986355046,
          -0.43642427933751393,
          1.2383132127202314,
          -0.41848949218137804,
          1.25219856392755,
          -0.4105265001114346,
          -0.3358702557111699,
          0.25045080489994975,
          -1.9805823390414017,
          -1.1638285777871764,
          -0.5547122917159738,
          -0.8753737076367798,
          0.1472314355014791,
          0.026724542420609173,
          -0.7632235588281209,
          -1.550962904605722,
          0.7335639248806228,
          0.37242453111627105,
          -0.8320528866828826,
          0.2962438309703489,
          0.015835119112943885,
          1.6077687705489354,
          -0.24860020313929826,
          -1.5587580138856387,
          -1.6376456575107412,
          0.26321034825329354,
          -0.22659429831387562,
          0.7578110973526933,
          -1.126055685209363,
          0.4234618596074086,
          0.30162472963764675,
          1.423957195776836,
          0.6542936945496459,
          1.0278613602812927,
          -2.4187650411462758,
          -0.04563326891105432,
          -0.24865960476685411,
          -0.5059852308485329,
          0.3770980502414392,
          1.411751489602502,
          -0.42721242837591134,
          0.8475460954157629,
          0.07889715736941662,
          0.16293653224477636,
          1.061220942165275,
          -1.316259053389097,
          0.7771479271478352,
          0.30980088008053813,
          -0.9843325921373898,
          0.7311573016463724,
          0.2206222602475841,
          0.6592408622395388,
          -0.19368353883203046,
          -1.5366055614417367,
          -0.8012843086577625,
          -1.6619361448339127,
          1.2421119590705874,
          0.43798749732232295,
          -1.1262270096956037,
          -0.2489226967532583,
          0.46053416372271533,
          -0.4242671247081647,
          -1.756145329353808,
          0.3276742088092708,
          0.13556738078925068,
          -0.4117042350488072,
          -0.0047894507884336515,
          -0.9134118938984985,
          -1.137953602364018,
          0.35910597666633937,
          -0.8399314606644921,
          -1.950679242792207,
          1.3703446524530332,
          -0.0853265070919818,
          0.23555625638411057,
          0.4819264961259066,
          1.641550079158694,
          0.31742293888894324,
          -0.3667001657942677,
          -0.7399062408794307,
          0.5188221608748309,
          -0.1995758955690176,
          0.7739321711831522,
          1.0624678371971847,
          1.6557851820592229,
          -1.1758694638881777,
          0.6677518079918014,
          2.6794749174565906,
          1.5782879631440412,
          0.13755898962176302,
          -0.9489809817536655,
          -1.5500200570548794,
          0.6789681666056834,
          1.3379386757837315,
          0.7857031906296689,
          0.10092045865609581,
          1.344211784643464,
          -1.9474559246682606,
          -1.4396076115651124,
          0.08024690521150149
         ],
         "xaxis": "x11",
         "yaxis": "y11"
        },
        {
         "line": {
          "color": "rgba(128, 128, 128, 1.0)",
          "dash": "solid",
          "shape": "linear",
          "width": 1.3
         },
         "marker": {
          "size": 2,
          "symbol": "circle"
         },
         "mode": "markers",
         "name": "C",
         "text": "",
         "type": "scatter",
         "x": [
          0.931984823135302,
          -1.2245757387681235,
          0.6838257554400858,
          -2.21040274577057,
          -0.9658177718986672,
          0.7648510621860802,
          -1.9318289453842272,
          0.43214846006956786,
          -0.2778734595859479,
          0.28204112949807175,
          -0.06613632513858599,
          -1.1545469137236308,
          0.30453532528965116,
          -1.5431772571078906,
          1.0705764297305391,
          -0.44809215570948163,
          0.24042544082215989,
          1.2457049889130014,
          0.7563089105970153,
          0.2636567564993423,
          0.7901852438947593,
          -0.39082447466783987,
          -1.4600733473052139,
          -1.0831460206260002,
          -0.03169434258199588,
          1.4341972115920654,
          -0.02651063330841973,
          -0.9480471562792716,
          0.031072569258799587,
          -1.2964583656331565,
          0.9423396567878187,
          -0.6148681920077593,
          1.0274078908637128,
          -1.722056772495833,
          -0.12927142246829035,
          -0.3893988022167786,
          -1.5451919590809442,
          -1.2177340745757055,
          1.87607060557863,
          0.09422254772693982,
          0.8752507247445381,
          -0.4648487863215274,
          0.4576450462957688,
          -0.09596880515818153,
          -0.8804178177374911,
          -0.03828247764281995,
          0.23547517617087876,
          -0.613712846285758,
          -0.9038458287430639,
          -1.6764620259002738,
          -0.2638757426237249,
          -0.32035531696585157,
          -1.11670290688409,
          1.0067394486393477,
          -0.9459322291048202,
          0.2833150611225091,
          1.0476466113089427,
          -0.24604721575843325,
          -0.8872398445929423,
          -0.4247841010304335,
          1.0187357476877301,
          -1.6390144011945684,
          -0.7269462742815427,
          -0.9289641405619283,
          -2.3688646750582403,
          1.23304416408373,
          -1.862896190739098,
          -1.0625575408697763,
          0.36748208727190057,
          -2.6094104075917293,
          0.39716002414019846,
          -0.886212218689742,
          0.802842674054774,
          -2.470270565490549,
          0.6948204936731898,
          -1.9828813424014085,
          0.6430149262654248,
          0.747416478284904,
          0.045459538193018977,
          -0.7707447484409992,
          -0.026572973946935915,
          -1.0656147940014389,
          -0.2084150744921162,
          0.2429968152215716,
          0.07157190583565437,
          -1.6567420369043255,
          1.6611619528344541,
          0.6848180354729289,
          1.1128036141517856,
          -0.8665138610694922,
          1.379223558159813,
          0.37079617948411525,
          0.770308888658991,
          0.052776928933610794,
          -0.3695704086373053,
          1.1502726935014809,
          0.35308807748366045,
          0.2943477837390178,
          -0.39037814278447036,
          -0.7249438020367157
         ],
         "xaxis": "x12",
         "y": [
          -0.5099731986355046,
          -0.43642427933751393,
          1.2383132127202314,
          -0.41848949218137804,
          1.25219856392755,
          -0.4105265001114346,
          -0.3358702557111699,
          0.25045080489994975,
          -1.9805823390414017,
          -1.1638285777871764,
          -0.5547122917159738,
          -0.8753737076367798,
          0.1472314355014791,
          0.026724542420609173,
          -0.7632235588281209,
          -1.550962904605722,
          0.7335639248806228,
          0.37242453111627105,
          -0.8320528866828826,
          0.2962438309703489,
          0.015835119112943885,
          1.6077687705489354,
          -0.24860020313929826,
          -1.5587580138856387,
          -1.6376456575107412,
          0.26321034825329354,
          -0.22659429831387562,
          0.7578110973526933,
          -1.126055685209363,
          0.4234618596074086,
          0.30162472963764675,
          1.423957195776836,
          0.6542936945496459,
          1.0278613602812927,
          -2.4187650411462758,
          -0.04563326891105432,
          -0.24865960476685411,
          -0.5059852308485329,
          0.3770980502414392,
          1.411751489602502,
          -0.42721242837591134,
          0.8475460954157629,
          0.07889715736941662,
          0.16293653224477636,
          1.061220942165275,
          -1.316259053389097,
          0.7771479271478352,
          0.30980088008053813,
          -0.9843325921373898,
          0.7311573016463724,
          0.2206222602475841,
          0.6592408622395388,
          -0.19368353883203046,
          -1.5366055614417367,
          -0.8012843086577625,
          -1.6619361448339127,
          1.2421119590705874,
          0.43798749732232295,
          -1.1262270096956037,
          -0.2489226967532583,
          0.46053416372271533,
          -0.4242671247081647,
          -1.756145329353808,
          0.3276742088092708,
          0.13556738078925068,
          -0.4117042350488072,
          -0.0047894507884336515,
          -0.9134118938984985,
          -1.137953602364018,
          0.35910597666633937,
          -0.8399314606644921,
          -1.950679242792207,
          1.3703446524530332,
          -0.0853265070919818,
          0.23555625638411057,
          0.4819264961259066,
          1.641550079158694,
          0.31742293888894324,
          -0.3667001657942677,
          -0.7399062408794307,
          0.5188221608748309,
          -0.1995758955690176,
          0.7739321711831522,
          1.0624678371971847,
          1.6557851820592229,
          -1.1758694638881777,
          0.6677518079918014,
          2.6794749174565906,
          1.5782879631440412,
          0.13755898962176302,
          -0.9489809817536655,
          -1.5500200570548794,
          0.6789681666056834,
          1.3379386757837315,
          0.7857031906296689,
          0.10092045865609581,
          1.344211784643464,
          -1.9474559246682606,
          -1.4396076115651124,
          0.08024690521150149
         ],
         "yaxis": "y12"
        },
        {
         "line": {
          "color": "rgba(128, 128, 128, 1.0)",
          "dash": "solid",
          "shape": "linear",
          "width": 1.3
         },
         "marker": {
          "size": 2,
          "symbol": "circle"
         },
         "mode": "markers",
         "name": "D",
         "text": "",
         "type": "scatter",
         "x": [
          1.6798269758748492,
          -0.2199836590415361,
          -2.4507820246760064,
          0.5345621049020333,
          -0.39856302744576677,
          -0.11261594574231408,
          0.18365368973708873,
          0.898157970332645,
          0.5753381411578375,
          -2.5763720307296083,
          1.38619832554469,
          -0.962354296236438,
          -1.101467819394483,
          -0.7987809996163434,
          -0.6933812853507427,
          0.8419418051636006,
          -1.5221391970802596,
          -0.06385761933739592,
          0.30807683903399036,
          -0.7080227475637054,
          1.4257322784721362,
          -0.6664877158684318,
          -0.8257276357775953,
          1.379311012710703,
          0.12044978700400753,
          -0.08648401244585327,
          1.2432979360283543,
          2.508360802520673,
          0.4643248708834873,
          -0.955633157694708,
          -1.535509984047946,
          -1.374791885319085,
          0.28630164904878097,
          0.7342244324101905,
          -0.02823128516313799,
          -0.7341739046874015,
          0.39230715140972666,
          0.8062188113949558,
          0.30642943847769355,
          -1.5844204083389668,
          -2.2168568921759118,
          0.818329086945323,
          -0.5429278392392303,
          -0.7677746861982568,
          0.4741597360051739,
          -0.7475180141955834,
          0.0663887639237793,
          0.1104087523560313,
          -0.487974454740564,
          -0.6582049749501504,
          0.7694795936392425,
          0.44001560003027074,
          -0.17121162838917453,
          1.3832908461628157,
          -0.19406089191467876,
          2.168061754494002,
          0.3351737818497473,
          2.1010768804402264,
          -0.7756198079418396,
          1.0972186157731403,
          -0.04018321949200649,
          0.5420574778414596,
          0.2740649957684385,
          -1.5137635358552375,
          0.6650360912190366,
          0.4432625903392581,
          -1.6308736220096962,
          0.1301705393722849,
          0.6511756307706884,
          0.0016669869019767401,
          -0.9550881209517254,
          -1.0469423873967165,
          0.9994755176228046,
          -0.07805461310115813,
          -0.18178366842378185,
          -0.5228836054837369,
          -0.96767637213527,
          0.8164590720680147,
          0.5365041447608002,
          0.9790438576307355,
          0.3635173181176478,
          2.561887388439632,
          1.6256800837780936,
          0.6638107412352435,
          -0.0911766669481064,
          -0.32992322533456153,
          0.84982905999064,
          1.1478701245524643,
          -0.2916632912204899,
          1.394588035257012,
          -0.7133373113633735,
          -0.4431573586059646,
          -1.5292557482074411,
          -0.17871425985598202,
          0.23194177885240613,
          -1.2413517177464832,
          -1.6314464938492308,
          -1.4795279562965968,
          1.4040753247894164,
          2.501998029267809
         ],
         "xaxis": "x13",
         "y": [
          0.931984823135302,
          -1.2245757387681235,
          0.6838257554400858,
          -2.21040274577057,
          -0.9658177718986672,
          0.7648510621860802,
          -1.9318289453842272,
          0.43214846006956786,
          -0.2778734595859479,
          0.28204112949807175,
          -0.06613632513858599,
          -1.1545469137236308,
          0.30453532528965116,
          -1.5431772571078906,
          1.0705764297305391,
          -0.44809215570948163,
          0.24042544082215989,
          1.2457049889130014,
          0.7563089105970153,
          0.2636567564993423,
          0.7901852438947593,
          -0.39082447466783987,
          -1.4600733473052139,
          -1.0831460206260002,
          -0.03169434258199588,
          1.4341972115920654,
          -0.02651063330841973,
          -0.9480471562792716,
          0.031072569258799587,
          -1.2964583656331565,
          0.9423396567878187,
          -0.6148681920077593,
          1.0274078908637128,
          -1.722056772495833,
          -0.12927142246829035,
          -0.3893988022167786,
          -1.5451919590809442,
          -1.2177340745757055,
          1.87607060557863,
          0.09422254772693982,
          0.8752507247445381,
          -0.4648487863215274,
          0.4576450462957688,
          -0.09596880515818153,
          -0.8804178177374911,
          -0.03828247764281995,
          0.23547517617087876,
          -0.613712846285758,
          -0.9038458287430639,
          -1.6764620259002738,
          -0.2638757426237249,
          -0.32035531696585157,
          -1.11670290688409,
          1.0067394486393477,
          -0.9459322291048202,
          0.2833150611225091,
          1.0476466113089427,
          -0.24604721575843325,
          -0.8872398445929423,
          -0.4247841010304335,
          1.0187357476877301,
          -1.6390144011945684,
          -0.7269462742815427,
          -0.9289641405619283,
          -2.3688646750582403,
          1.23304416408373,
          -1.862896190739098,
          -1.0625575408697763,
          0.36748208727190057,
          -2.6094104075917293,
          0.39716002414019846,
          -0.886212218689742,
          0.802842674054774,
          -2.470270565490549,
          0.6948204936731898,
          -1.9828813424014085,
          0.6430149262654248,
          0.747416478284904,
          0.045459538193018977,
          -0.7707447484409992,
          -0.026572973946935915,
          -1.0656147940014389,
          -0.2084150744921162,
          0.2429968152215716,
          0.07157190583565437,
          -1.6567420369043255,
          1.6611619528344541,
          0.6848180354729289,
          1.1128036141517856,
          -0.8665138610694922,
          1.379223558159813,
          0.37079617948411525,
          0.770308888658991,
          0.052776928933610794,
          -0.3695704086373053,
          1.1502726935014809,
          0.35308807748366045,
          0.2943477837390178,
          -0.39037814278447036,
          -0.7249438020367157
         ],
         "yaxis": "y13"
        },
        {
         "line": {
          "color": "rgba(128, 128, 128, 1.0)",
          "dash": "solid",
          "shape": "linear",
          "width": 1.3
         },
         "marker": {
          "size": 2,
          "symbol": "circle"
         },
         "mode": "markers",
         "name": "D",
         "text": "",
         "type": "scatter",
         "x": [
          -0.12944734190583249,
          -1.0964889210243227,
          -0.5688852625502178,
          2.4297126243557483,
          -0.6383179022401426,
          1.3561041448228395,
          -1.6651231504114188,
          0.2265362648432785,
          -2.0850226632797053,
          -2.3545591407570408,
          -1.1544274265573464,
          -0.4020479105629905,
          0.7895905985975938,
          0.7635632808206712,
          1.0231198669273638,
          2.2341143641943866,
          -2.2238915188013473,
          1.5283196068066418,
          2.058348244085285,
          0.053217829034620585,
          0.22227011237441024,
          0.18489704765681375,
          0.12486905080928802,
          0.969842991236598,
          -1.0482429553408665,
          0.8698847804194278,
          0.44588677004507565,
          -0.48751361405153193,
          0.33871488249048853,
          0.08589547691066018,
          1.520945017949968,
          0.4569931771003894,
          1.2944302524269116,
          1.6595127234593101,
          0.2710476742444291,
          -1.0021626352598372,
          0.8333820174820911,
          2.0198279770917407,
          -0.5579077878955658,
          -1.3790125878837953,
          1.5504112462608328,
          0.7258539885499488,
          0.16185050291894446,
          0.2924235347750846,
          -0.11910266309169193,
          -0.615398941759039,
          -0.530541022662267,
          0.7296369995652676,
          -1.4240486031951645,
          0.11073633883215957,
          0.6660226906250679,
          1.906341998994936,
          -0.809995774784047,
          -0.30889295305373726,
          1.1285525514247758,
          0.34010724747164967,
          1.1523194218879722,
          1.1500189899063549,
          -0.5921815874122709,
          1.6377477244644454,
          -0.696212406644362,
          -0.9587823452227174,
          0.2234331442497379,
          1.2311048031470695,
          -1.3913622289532295,
          -1.2456227014348427,
          0.07377413858952699,
          0.028619694828842464,
          0.21859811019916658,
          0.30173022612751677,
          -0.33698284311818816,
          0.6826533256019267,
          0.42527896103784163,
          -0.197894256639745,
          -0.5478886833710794,
          0.6394656680012822,
          -0.6477899051158909,
          0.26517299635865355,
          -0.4756976453911347,
          0.043295979729102166,
          0.0551056386251421,
          -0.02355682898881277,
          -1.6708649508149047,
          -0.5283349647398393,
          1.253322423115921,
          0.5323566961329269,
          -0.09719960500654366,
          -1.4370784482181538,
          -0.4171279131882182,
          -0.004360096322667945,
          1.1708193047502593,
          0.565476788609084,
          -0.9097673723544455,
          0.730880385355846,
          -0.6277790455857233,
          -0.43289643685794166,
          -0.1717910597522223,
          -0.7009702749426628,
          -0.5187570470781957,
          -0.054924326521840865
         ],
         "xaxis": "x14",
         "y": [
          0.931984823135302,
          -1.2245757387681235,
          0.6838257554400858,
          -2.21040274577057,
          -0.9658177718986672,
          0.7648510621860802,
          -1.9318289453842272,
          0.43214846006956786,
          -0.2778734595859479,
          0.28204112949807175,
          -0.06613632513858599,
          -1.1545469137236308,
          0.30453532528965116,
          -1.5431772571078906,
          1.0705764297305391,
          -0.44809215570948163,
          0.24042544082215989,
          1.2457049889130014,
          0.7563089105970153,
          0.2636567564993423,
          0.7901852438947593,
          -0.39082447466783987,
          -1.4600733473052139,
          -1.0831460206260002,
          -0.03169434258199588,
          1.4341972115920654,
          -0.02651063330841973,
          -0.9480471562792716,
          0.031072569258799587,
          -1.2964583656331565,
          0.9423396567878187,
          -0.6148681920077593,
          1.0274078908637128,
          -1.722056772495833,
          -0.12927142246829035,
          -0.3893988022167786,
          -1.5451919590809442,
          -1.2177340745757055,
          1.87607060557863,
          0.09422254772693982,
          0.8752507247445381,
          -0.4648487863215274,
          0.4576450462957688,
          -0.09596880515818153,
          -0.8804178177374911,
          -0.03828247764281995,
          0.23547517617087876,
          -0.613712846285758,
          -0.9038458287430639,
          -1.6764620259002738,
          -0.2638757426237249,
          -0.32035531696585157,
          -1.11670290688409,
          1.0067394486393477,
          -0.9459322291048202,
          0.2833150611225091,
          1.0476466113089427,
          -0.24604721575843325,
          -0.8872398445929423,
          -0.4247841010304335,
          1.0187357476877301,
          -1.6390144011945684,
          -0.7269462742815427,
          -0.9289641405619283,
          -2.3688646750582403,
          1.23304416408373,
          -1.862896190739098,
          -1.0625575408697763,
          0.36748208727190057,
          -2.6094104075917293,
          0.39716002414019846,
          -0.886212218689742,
          0.802842674054774,
          -2.470270565490549,
          0.6948204936731898,
          -1.9828813424014085,
          0.6430149262654248,
          0.747416478284904,
          0.045459538193018977,
          -0.7707447484409992,
          -0.026572973946935915,
          -1.0656147940014389,
          -0.2084150744921162,
          0.2429968152215716,
          0.07157190583565437,
          -1.6567420369043255,
          1.6611619528344541,
          0.6848180354729289,
          1.1128036141517856,
          -0.8665138610694922,
          1.379223558159813,
          0.37079617948411525,
          0.770308888658991,
          0.052776928933610794,
          -0.3695704086373053,
          1.1502726935014809,
          0.35308807748366045,
          0.2943477837390178,
          -0.39037814278447036,
          -0.7249438020367157
         ],
         "yaxis": "y14"
        },
        {
         "line": {
          "color": "rgba(128, 128, 128, 1.0)",
          "dash": "solid",
          "shape": "linear",
          "width": 1.3
         },
         "marker": {
          "size": 2,
          "symbol": "circle"
         },
         "mode": "markers",
         "name": "D",
         "text": "",
         "type": "scatter",
         "x": [
          -0.5099731986355046,
          -0.43642427933751393,
          1.2383132127202314,
          -0.41848949218137804,
          1.25219856392755,
          -0.4105265001114346,
          -0.3358702557111699,
          0.25045080489994975,
          -1.9805823390414017,
          -1.1638285777871764,
          -0.5547122917159738,
          -0.8753737076367798,
          0.1472314355014791,
          0.026724542420609173,
          -0.7632235588281209,
          -1.550962904605722,
          0.7335639248806228,
          0.37242453111627105,
          -0.8320528866828826,
          0.2962438309703489,
          0.015835119112943885,
          1.6077687705489354,
          -0.24860020313929826,
          -1.5587580138856387,
          -1.6376456575107412,
          0.26321034825329354,
          -0.22659429831387562,
          0.7578110973526933,
          -1.126055685209363,
          0.4234618596074086,
          0.30162472963764675,
          1.423957195776836,
          0.6542936945496459,
          1.0278613602812927,
          -2.4187650411462758,
          -0.04563326891105432,
          -0.24865960476685411,
          -0.5059852308485329,
          0.3770980502414392,
          1.411751489602502,
          -0.42721242837591134,
          0.8475460954157629,
          0.07889715736941662,
          0.16293653224477636,
          1.061220942165275,
          -1.316259053389097,
          0.7771479271478352,
          0.30980088008053813,
          -0.9843325921373898,
          0.7311573016463724,
          0.2206222602475841,
          0.6592408622395388,
          -0.19368353883203046,
          -1.5366055614417367,
          -0.8012843086577625,
          -1.6619361448339127,
          1.2421119590705874,
          0.43798749732232295,
          -1.1262270096956037,
          -0.2489226967532583,
          0.46053416372271533,
          -0.4242671247081647,
          -1.756145329353808,
          0.3276742088092708,
          0.13556738078925068,
          -0.4117042350488072,
          -0.0047894507884336515,
          -0.9134118938984985,
          -1.137953602364018,
          0.35910597666633937,
          -0.8399314606644921,
          -1.950679242792207,
          1.3703446524530332,
          -0.0853265070919818,
          0.23555625638411057,
          0.4819264961259066,
          1.641550079158694,
          0.31742293888894324,
          -0.3667001657942677,
          -0.7399062408794307,
          0.5188221608748309,
          -0.1995758955690176,
          0.7739321711831522,
          1.0624678371971847,
          1.6557851820592229,
          -1.1758694638881777,
          0.6677518079918014,
          2.6794749174565906,
          1.5782879631440412,
          0.13755898962176302,
          -0.9489809817536655,
          -1.5500200570548794,
          0.6789681666056834,
          1.3379386757837315,
          0.7857031906296689,
          0.10092045865609581,
          1.344211784643464,
          -1.9474559246682606,
          -1.4396076115651124,
          0.08024690521150149
         ],
         "xaxis": "x15",
         "y": [
          0.931984823135302,
          -1.2245757387681235,
          0.6838257554400858,
          -2.21040274577057,
          -0.9658177718986672,
          0.7648510621860802,
          -1.9318289453842272,
          0.43214846006956786,
          -0.2778734595859479,
          0.28204112949807175,
          -0.06613632513858599,
          -1.1545469137236308,
          0.30453532528965116,
          -1.5431772571078906,
          1.0705764297305391,
          -0.44809215570948163,
          0.24042544082215989,
          1.2457049889130014,
          0.7563089105970153,
          0.2636567564993423,
          0.7901852438947593,
          -0.39082447466783987,
          -1.4600733473052139,
          -1.0831460206260002,
          -0.03169434258199588,
          1.4341972115920654,
          -0.02651063330841973,
          -0.9480471562792716,
          0.031072569258799587,
          -1.2964583656331565,
          0.9423396567878187,
          -0.6148681920077593,
          1.0274078908637128,
          -1.722056772495833,
          -0.12927142246829035,
          -0.3893988022167786,
          -1.5451919590809442,
          -1.2177340745757055,
          1.87607060557863,
          0.09422254772693982,
          0.8752507247445381,
          -0.4648487863215274,
          0.4576450462957688,
          -0.09596880515818153,
          -0.8804178177374911,
          -0.03828247764281995,
          0.23547517617087876,
          -0.613712846285758,
          -0.9038458287430639,
          -1.6764620259002738,
          -0.2638757426237249,
          -0.32035531696585157,
          -1.11670290688409,
          1.0067394486393477,
          -0.9459322291048202,
          0.2833150611225091,
          1.0476466113089427,
          -0.24604721575843325,
          -0.8872398445929423,
          -0.4247841010304335,
          1.0187357476877301,
          -1.6390144011945684,
          -0.7269462742815427,
          -0.9289641405619283,
          -2.3688646750582403,
          1.23304416408373,
          -1.862896190739098,
          -1.0625575408697763,
          0.36748208727190057,
          -2.6094104075917293,
          0.39716002414019846,
          -0.886212218689742,
          0.802842674054774,
          -2.470270565490549,
          0.6948204936731898,
          -1.9828813424014085,
          0.6430149262654248,
          0.747416478284904,
          0.045459538193018977,
          -0.7707447484409992,
          -0.026572973946935915,
          -1.0656147940014389,
          -0.2084150744921162,
          0.2429968152215716,
          0.07157190583565437,
          -1.6567420369043255,
          1.6611619528344541,
          0.6848180354729289,
          1.1128036141517856,
          -0.8665138610694922,
          1.379223558159813,
          0.37079617948411525,
          0.770308888658991,
          0.052776928933610794,
          -0.3695704086373053,
          1.1502726935014809,
          0.35308807748366045,
          0.2943477837390178,
          -0.39037814278447036,
          -0.7249438020367157
         ],
         "yaxis": "y15"
        },
        {
         "histfunc": "count",
         "histnorm": "",
         "marker": {
          "color": "rgba(128, 0, 128, 1.0)",
          "line": {
           "color": "#4D5663",
           "width": 1.3
          }
         },
         "name": "D",
         "nbinsx": 10,
         "opacity": 0.8,
         "orientation": "v",
         "type": "histogram",
         "x": [
          0.931984823135302,
          -1.2245757387681235,
          0.6838257554400858,
          -2.21040274577057,
          -0.9658177718986672,
          0.7648510621860802,
          -1.9318289453842272,
          0.43214846006956786,
          -0.2778734595859479,
          0.28204112949807175,
          -0.06613632513858599,
          -1.1545469137236308,
          0.30453532528965116,
          -1.5431772571078906,
          1.0705764297305391,
          -0.44809215570948163,
          0.24042544082215989,
          1.2457049889130014,
          0.7563089105970153,
          0.2636567564993423,
          0.7901852438947593,
          -0.39082447466783987,
          -1.4600733473052139,
          -1.0831460206260002,
          -0.03169434258199588,
          1.4341972115920654,
          -0.02651063330841973,
          -0.9480471562792716,
          0.031072569258799587,
          -1.2964583656331565,
          0.9423396567878187,
          -0.6148681920077593,
          1.0274078908637128,
          -1.722056772495833,
          -0.12927142246829035,
          -0.3893988022167786,
          -1.5451919590809442,
          -1.2177340745757055,
          1.87607060557863,
          0.09422254772693982,
          0.8752507247445381,
          -0.4648487863215274,
          0.4576450462957688,
          -0.09596880515818153,
          -0.8804178177374911,
          -0.03828247764281995,
          0.23547517617087876,
          -0.613712846285758,
          -0.9038458287430639,
          -1.6764620259002738,
          -0.2638757426237249,
          -0.32035531696585157,
          -1.11670290688409,
          1.0067394486393477,
          -0.9459322291048202,
          0.2833150611225091,
          1.0476466113089427,
          -0.24604721575843325,
          -0.8872398445929423,
          -0.4247841010304335,
          1.0187357476877301,
          -1.6390144011945684,
          -0.7269462742815427,
          -0.9289641405619283,
          -2.3688646750582403,
          1.23304416408373,
          -1.862896190739098,
          -1.0625575408697763,
          0.36748208727190057,
          -2.6094104075917293,
          0.39716002414019846,
          -0.886212218689742,
          0.802842674054774,
          -2.470270565490549,
          0.6948204936731898,
          -1.9828813424014085,
          0.6430149262654248,
          0.747416478284904,
          0.045459538193018977,
          -0.7707447484409992,
          -0.026572973946935915,
          -1.0656147940014389,
          -0.2084150744921162,
          0.2429968152215716,
          0.07157190583565437,
          -1.6567420369043255,
          1.6611619528344541,
          0.6848180354729289,
          1.1128036141517856,
          -0.8665138610694922,
          1.379223558159813,
          0.37079617948411525,
          0.770308888658991,
          0.052776928933610794,
          -0.3695704086373053,
          1.1502726935014809,
          0.35308807748366045,
          0.2943477837390178,
          -0.39037814278447036,
          -0.7249438020367157
         ],
         "xaxis": "x16",
         "yaxis": "y16"
        }
       ],
       "layout": {
        "autosize": true,
        "bargap": 0.02,
        "legend": {
         "bgcolor": "#F5F6F9",
         "font": {
          "color": "#4D5663"
         }
        },
        "paper_bgcolor": "#F5F6F9",
        "plot_bgcolor": "#F5F6F9",
        "showlegend": false,
        "template": {
         "data": {
          "bar": [
           {
            "error_x": {
             "color": "#2a3f5f"
            },
            "error_y": {
             "color": "#2a3f5f"
            },
            "marker": {
             "line": {
              "color": "#E5ECF6",
              "width": 0.5
             }
            },
            "type": "bar"
           }
          ],
          "barpolar": [
           {
            "marker": {
             "line": {
              "color": "#E5ECF6",
              "width": 0.5
             }
            },
            "type": "barpolar"
           }
          ],
          "carpet": [
           {
            "aaxis": {
             "endlinecolor": "#2a3f5f",
             "gridcolor": "white",
             "linecolor": "white",
             "minorgridcolor": "white",
             "startlinecolor": "#2a3f5f"
            },
            "baxis": {
             "endlinecolor": "#2a3f5f",
             "gridcolor": "white",
             "linecolor": "white",
             "minorgridcolor": "white",
             "startlinecolor": "#2a3f5f"
            },
            "type": "carpet"
           }
          ],
          "choropleth": [
           {
            "colorbar": {
             "outlinewidth": 0,
             "ticks": ""
            },
            "type": "choropleth"
           }
          ],
          "contour": [
           {
            "colorbar": {
             "outlinewidth": 0,
             "ticks": ""
            },
            "colorscale": [
             [
              0,
              "#0d0887"
             ],
             [
              0.1111111111111111,
              "#46039f"
             ],
             [
              0.2222222222222222,
              "#7201a8"
             ],
             [
              0.3333333333333333,
              "#9c179e"
             ],
             [
              0.4444444444444444,
              "#bd3786"
             ],
             [
              0.5555555555555556,
              "#d8576b"
             ],
             [
              0.6666666666666666,
              "#ed7953"
             ],
             [
              0.7777777777777778,
              "#fb9f3a"
             ],
             [
              0.8888888888888888,
              "#fdca26"
             ],
             [
              1,
              "#f0f921"
             ]
            ],
            "type": "contour"
           }
          ],
          "contourcarpet": [
           {
            "colorbar": {
             "outlinewidth": 0,
             "ticks": ""
            },
            "type": "contourcarpet"
           }
          ],
          "heatmap": [
           {
            "colorbar": {
             "outlinewidth": 0,
             "ticks": ""
            },
            "colorscale": [
             [
              0,
              "#0d0887"
             ],
             [
              0.1111111111111111,
              "#46039f"
             ],
             [
              0.2222222222222222,
              "#7201a8"
             ],
             [
              0.3333333333333333,
              "#9c179e"
             ],
             [
              0.4444444444444444,
              "#bd3786"
             ],
             [
              0.5555555555555556,
              "#d8576b"
             ],
             [
              0.6666666666666666,
              "#ed7953"
             ],
             [
              0.7777777777777778,
              "#fb9f3a"
             ],
             [
              0.8888888888888888,
              "#fdca26"
             ],
             [
              1,
              "#f0f921"
             ]
            ],
            "type": "heatmap"
           }
          ],
          "heatmapgl": [
           {
            "colorbar": {
             "outlinewidth": 0,
             "ticks": ""
            },
            "colorscale": [
             [
              0,
              "#0d0887"
             ],
             [
              0.1111111111111111,
              "#46039f"
             ],
             [
              0.2222222222222222,
              "#7201a8"
             ],
             [
              0.3333333333333333,
              "#9c179e"
             ],
             [
              0.4444444444444444,
              "#bd3786"
             ],
             [
              0.5555555555555556,
              "#d8576b"
             ],
             [
              0.6666666666666666,
              "#ed7953"
             ],
             [
              0.7777777777777778,
              "#fb9f3a"
             ],
             [
              0.8888888888888888,
              "#fdca26"
             ],
             [
              1,
              "#f0f921"
             ]
            ],
            "type": "heatmapgl"
           }
          ],
          "histogram": [
           {
            "marker": {
             "colorbar": {
              "outlinewidth": 0,
              "ticks": ""
             }
            },
            "type": "histogram"
           }
          ],
          "histogram2d": [
           {
            "colorbar": {
             "outlinewidth": 0,
             "ticks": ""
            },
            "colorscale": [
             [
              0,
              "#0d0887"
             ],
             [
              0.1111111111111111,
              "#46039f"
             ],
             [
              0.2222222222222222,
              "#7201a8"
             ],
             [
              0.3333333333333333,
              "#9c179e"
             ],
             [
              0.4444444444444444,
              "#bd3786"
             ],
             [
              0.5555555555555556,
              "#d8576b"
             ],
             [
              0.6666666666666666,
              "#ed7953"
             ],
             [
              0.7777777777777778,
              "#fb9f3a"
             ],
             [
              0.8888888888888888,
              "#fdca26"
             ],
             [
              1,
              "#f0f921"
             ]
            ],
            "type": "histogram2d"
           }
          ],
          "histogram2dcontour": [
           {
            "colorbar": {
             "outlinewidth": 0,
             "ticks": ""
            },
            "colorscale": [
             [
              0,
              "#0d0887"
             ],
             [
              0.1111111111111111,
              "#46039f"
             ],
             [
              0.2222222222222222,
              "#7201a8"
             ],
             [
              0.3333333333333333,
              "#9c179e"
             ],
             [
              0.4444444444444444,
              "#bd3786"
             ],
             [
              0.5555555555555556,
              "#d8576b"
             ],
             [
              0.6666666666666666,
              "#ed7953"
             ],
             [
              0.7777777777777778,
              "#fb9f3a"
             ],
             [
              0.8888888888888888,
              "#fdca26"
             ],
             [
              1,
              "#f0f921"
             ]
            ],
            "type": "histogram2dcontour"
           }
          ],
          "mesh3d": [
           {
            "colorbar": {
             "outlinewidth": 0,
             "ticks": ""
            },
            "type": "mesh3d"
           }
          ],
          "parcoords": [
           {
            "line": {
             "colorbar": {
              "outlinewidth": 0,
              "ticks": ""
             }
            },
            "type": "parcoords"
           }
          ],
          "pie": [
           {
            "automargin": true,
            "type": "pie"
           }
          ],
          "scatter": [
           {
            "marker": {
             "colorbar": {
              "outlinewidth": 0,
              "ticks": ""
             }
            },
            "type": "scatter"
           }
          ],
          "scatter3d": [
           {
            "line": {
             "colorbar": {
              "outlinewidth": 0,
              "ticks": ""
             }
            },
            "marker": {
             "colorbar": {
              "outlinewidth": 0,
              "ticks": ""
             }
            },
            "type": "scatter3d"
           }
          ],
          "scattercarpet": [
           {
            "marker": {
             "colorbar": {
              "outlinewidth": 0,
              "ticks": ""
             }
            },
            "type": "scattercarpet"
           }
          ],
          "scattergeo": [
           {
            "marker": {
             "colorbar": {
              "outlinewidth": 0,
              "ticks": ""
             }
            },
            "type": "scattergeo"
           }
          ],
          "scattergl": [
           {
            "marker": {
             "colorbar": {
              "outlinewidth": 0,
              "ticks": ""
             }
            },
            "type": "scattergl"
           }
          ],
          "scattermapbox": [
           {
            "marker": {
             "colorbar": {
              "outlinewidth": 0,
              "ticks": ""
             }
            },
            "type": "scattermapbox"
           }
          ],
          "scatterpolar": [
           {
            "marker": {
             "colorbar": {
              "outlinewidth": 0,
              "ticks": ""
             }
            },
            "type": "scatterpolar"
           }
          ],
          "scatterpolargl": [
           {
            "marker": {
             "colorbar": {
              "outlinewidth": 0,
              "ticks": ""
             }
            },
            "type": "scatterpolargl"
           }
          ],
          "scatterternary": [
           {
            "marker": {
             "colorbar": {
              "outlinewidth": 0,
              "ticks": ""
             }
            },
            "type": "scatterternary"
           }
          ],
          "surface": [
           {
            "colorbar": {
             "outlinewidth": 0,
             "ticks": ""
            },
            "colorscale": [
             [
              0,
              "#0d0887"
             ],
             [
              0.1111111111111111,
              "#46039f"
             ],
             [
              0.2222222222222222,
              "#7201a8"
             ],
             [
              0.3333333333333333,
              "#9c179e"
             ],
             [
              0.4444444444444444,
              "#bd3786"
             ],
             [
              0.5555555555555556,
              "#d8576b"
             ],
             [
              0.6666666666666666,
              "#ed7953"
             ],
             [
              0.7777777777777778,
              "#fb9f3a"
             ],
             [
              0.8888888888888888,
              "#fdca26"
             ],
             [
              1,
              "#f0f921"
             ]
            ],
            "type": "surface"
           }
          ],
          "table": [
           {
            "cells": {
             "fill": {
              "color": "#EBF0F8"
             },
             "line": {
              "color": "white"
             }
            },
            "header": {
             "fill": {
              "color": "#C8D4E3"
             },
             "line": {
              "color": "white"
             }
            },
            "type": "table"
           }
          ]
         },
         "layout": {
          "annotationdefaults": {
           "arrowcolor": "#2a3f5f",
           "arrowhead": 0,
           "arrowwidth": 1
          },
          "coloraxis": {
           "colorbar": {
            "outlinewidth": 0,
            "ticks": ""
           }
          },
          "colorscale": {
           "diverging": [
            [
             0,
             "#8e0152"
            ],
            [
             0.1,
             "#c51b7d"
            ],
            [
             0.2,
             "#de77ae"
            ],
            [
             0.3,
             "#f1b6da"
            ],
            [
             0.4,
             "#fde0ef"
            ],
            [
             0.5,
             "#f7f7f7"
            ],
            [
             0.6,
             "#e6f5d0"
            ],
            [
             0.7,
             "#b8e186"
            ],
            [
             0.8,
             "#7fbc41"
            ],
            [
             0.9,
             "#4d9221"
            ],
            [
             1,
             "#276419"
            ]
           ],
           "sequential": [
            [
             0,
             "#0d0887"
            ],
            [
             0.1111111111111111,
             "#46039f"
            ],
            [
             0.2222222222222222,
             "#7201a8"
            ],
            [
             0.3333333333333333,
             "#9c179e"
            ],
            [
             0.4444444444444444,
             "#bd3786"
            ],
            [
             0.5555555555555556,
             "#d8576b"
            ],
            [
             0.6666666666666666,
             "#ed7953"
            ],
            [
             0.7777777777777778,
             "#fb9f3a"
            ],
            [
             0.8888888888888888,
             "#fdca26"
            ],
            [
             1,
             "#f0f921"
            ]
           ],
           "sequentialminus": [
            [
             0,
             "#0d0887"
            ],
            [
             0.1111111111111111,
             "#46039f"
            ],
            [
             0.2222222222222222,
             "#7201a8"
            ],
            [
             0.3333333333333333,
             "#9c179e"
            ],
            [
             0.4444444444444444,
             "#bd3786"
            ],
            [
             0.5555555555555556,
             "#d8576b"
            ],
            [
             0.6666666666666666,
             "#ed7953"
            ],
            [
             0.7777777777777778,
             "#fb9f3a"
            ],
            [
             0.8888888888888888,
             "#fdca26"
            ],
            [
             1,
             "#f0f921"
            ]
           ]
          },
          "colorway": [
           "#636efa",
           "#EF553B",
           "#00cc96",
           "#ab63fa",
           "#FFA15A",
           "#19d3f3",
           "#FF6692",
           "#B6E880",
           "#FF97FF",
           "#FECB52"
          ],
          "font": {
           "color": "#2a3f5f"
          },
          "geo": {
           "bgcolor": "white",
           "lakecolor": "white",
           "landcolor": "#E5ECF6",
           "showlakes": true,
           "showland": true,
           "subunitcolor": "white"
          },
          "hoverlabel": {
           "align": "left"
          },
          "hovermode": "closest",
          "mapbox": {
           "style": "light"
          },
          "paper_bgcolor": "white",
          "plot_bgcolor": "#E5ECF6",
          "polar": {
           "angularaxis": {
            "gridcolor": "white",
            "linecolor": "white",
            "ticks": ""
           },
           "bgcolor": "#E5ECF6",
           "radialaxis": {
            "gridcolor": "white",
            "linecolor": "white",
            "ticks": ""
           }
          },
          "scene": {
           "xaxis": {
            "backgroundcolor": "#E5ECF6",
            "gridcolor": "white",
            "gridwidth": 2,
            "linecolor": "white",
            "showbackground": true,
            "ticks": "",
            "zerolinecolor": "white"
           },
           "yaxis": {
            "backgroundcolor": "#E5ECF6",
            "gridcolor": "white",
            "gridwidth": 2,
            "linecolor": "white",
            "showbackground": true,
            "ticks": "",
            "zerolinecolor": "white"
           },
           "zaxis": {
            "backgroundcolor": "#E5ECF6",
            "gridcolor": "white",
            "gridwidth": 2,
            "linecolor": "white",
            "showbackground": true,
            "ticks": "",
            "zerolinecolor": "white"
           }
          },
          "shapedefaults": {
           "line": {
            "color": "#2a3f5f"
           }
          },
          "ternary": {
           "aaxis": {
            "gridcolor": "white",
            "linecolor": "white",
            "ticks": ""
           },
           "baxis": {
            "gridcolor": "white",
            "linecolor": "white",
            "ticks": ""
           },
           "bgcolor": "#E5ECF6",
           "caxis": {
            "gridcolor": "white",
            "linecolor": "white",
            "ticks": ""
           }
          },
          "title": {
           "x": 0.05
          },
          "xaxis": {
           "automargin": true,
           "gridcolor": "white",
           "linecolor": "white",
           "ticks": "",
           "title": {
            "standoff": 15
           },
           "zerolinecolor": "white",
           "zerolinewidth": 2
          },
          "yaxis": {
           "automargin": true,
           "gridcolor": "white",
           "linecolor": "white",
           "ticks": "",
           "title": {
            "standoff": 15
           },
           "zerolinecolor": "white",
           "zerolinewidth": 2
          }
         }
        },
        "title": {
         "font": {
          "color": "#4D5663"
         }
        },
        "xaxis": {
         "anchor": "y",
         "autorange": true,
         "domain": [
          0,
          0.2125
         ],
         "gridcolor": "#E1E5ED",
         "range": [
          -3,
          3
         ],
         "showgrid": false,
         "tickfont": {
          "color": "#4D5663"
         },
         "title": {
          "font": {
           "color": "#4D5663"
          },
          "text": ""
         },
         "type": "linear",
         "zerolinecolor": "#E1E5ED"
        },
        "xaxis10": {
         "anchor": "y10",
         "autorange": true,
         "domain": [
          0.2625,
          0.475
         ],
         "gridcolor": "#E1E5ED",
         "range": [
          -2.693650177775454,
          2.7688036613741613
         ],
         "showgrid": false,
         "tickfont": {
          "color": "#4D5663"
         },
         "title": {
          "font": {
           "color": "#4D5663"
          },
          "text": ""
         },
         "type": "linear",
         "zerolinecolor": "#E1E5ED"
        },
        "xaxis11": {
         "anchor": "y11",
         "autorange": true,
         "domain": [
          0.525,
          0.7375
         ],
         "gridcolor": "#E1E5ED",
         "range": [
          -3,
          3
         ],
         "showgrid": false,
         "tickfont": {
          "color": "#4D5663"
         },
         "title": {
          "font": {
           "color": "#4D5663"
          },
          "text": ""
         },
         "type": "linear",
         "zerolinecolor": "#E1E5ED"
        },
        "xaxis12": {
         "anchor": "y12",
         "autorange": true,
         "domain": [
          0.7875,
          1
         ],
         "gridcolor": "#E1E5ED",
         "range": [
          -2.9273242893602083,
          2.193984487347109
         ],
         "showgrid": false,
         "tickfont": {
          "color": "#4D5663"
         },
         "title": {
          "font": {
           "color": "#4D5663"
          },
          "text": ""
         },
         "type": "linear",
         "zerolinecolor": "#E1E5ED"
        },
        "xaxis13": {
         "anchor": "y13",
         "autorange": true,
         "domain": [
          0,
          0.2125
         ],
         "gridcolor": "#E1E5ED",
         "range": [
          -2.940552370070062,
          2.9260677277800857
         ],
         "showgrid": false,
         "tickfont": {
          "color": "#4D5663"
         },
         "title": {
          "font": {
           "color": "#4D5663"
          },
          "text": ""
         },
         "type": "linear",
         "zerolinecolor": "#E1E5ED"
        },
        "xaxis14": {
         "anchor": "y14",
         "autorange": true,
         "domain": [
          0.2625,
          0.475
         ],
         "gridcolor": "#E1E5ED",
         "range": [
          -2.693650177775454,
          2.7688036613741613
         ],
         "showgrid": false,
         "tickfont": {
          "color": "#4D5663"
         },
         "title": {
          "font": {
           "color": "#4D5663"
          },
          "text": ""
         },
         "type": "linear",
         "zerolinecolor": "#E1E5ED"
        },
        "xaxis15": {
         "anchor": "y15",
         "autorange": true,
         "domain": [
          0.525,
          0.7375
         ],
         "gridcolor": "#E1E5ED",
         "range": [
          -2.7801089529068155,
          3.0408188292171303
         ],
         "showgrid": false,
         "tickfont": {
          "color": "#4D5663"
         },
         "title": {
          "font": {
           "color": "#4D5663"
          },
          "text": ""
         },
         "type": "linear",
         "zerolinecolor": "#E1E5ED"
        },
        "xaxis16": {
         "anchor": "y16",
         "autorange": true,
         "domain": [
          0.7875,
          1
         ],
         "gridcolor": "#E1E5ED",
         "range": [
          -3,
          2
         ],
         "showgrid": false,
         "tickfont": {
          "color": "#4D5663"
         },
         "title": {
          "font": {
           "color": "#4D5663"
          },
          "text": ""
         },
         "type": "linear",
         "zerolinecolor": "#E1E5ED"
        },
        "xaxis2": {
         "anchor": "y2",
         "autorange": true,
         "domain": [
          0.2625,
          0.475
         ],
         "gridcolor": "#E1E5ED",
         "range": [
          -2.693650177775454,
          2.7688036613741613
         ],
         "showgrid": false,
         "tickfont": {
          "color": "#4D5663"
         },
         "title": {
          "font": {
           "color": "#4D5663"
          },
          "text": ""
         },
         "type": "linear",
         "zerolinecolor": "#E1E5ED"
        },
        "xaxis3": {
         "anchor": "y3",
         "autorange": true,
         "domain": [
          0.525,
          0.7375
         ],
         "gridcolor": "#E1E5ED",
         "range": [
          -2.7801089529068155,
          3.0408188292171303
         ],
         "showgrid": false,
         "tickfont": {
          "color": "#4D5663"
         },
         "title": {
          "font": {
           "color": "#4D5663"
          },
          "text": ""
         },
         "type": "linear",
         "zerolinecolor": "#E1E5ED"
        },
        "xaxis4": {
         "anchor": "y4",
         "autorange": true,
         "domain": [
          0.7875,
          1
         ],
         "gridcolor": "#E1E5ED",
         "range": [
          -2.9273242893602083,
          2.193984487347109
         ],
         "showgrid": false,
         "tickfont": {
          "color": "#4D5663"
         },
         "title": {
          "font": {
           "color": "#4D5663"
          },
          "text": ""
         },
         "type": "linear",
         "zerolinecolor": "#E1E5ED"
        },
        "xaxis5": {
         "anchor": "y5",
         "autorange": true,
         "domain": [
          0,
          0.2125
         ],
         "gridcolor": "#E1E5ED",
         "range": [
          -2.940552370070062,
          2.9260677277800857
         ],
         "showgrid": false,
         "tickfont": {
          "color": "#4D5663"
         },
         "title": {
          "font": {
           "color": "#4D5663"
          },
          "text": ""
         },
         "type": "linear",
         "zerolinecolor": "#E1E5ED"
        },
        "xaxis6": {
         "anchor": "y6",
         "autorange": true,
         "domain": [
          0.2625,
          0.475
         ],
         "gridcolor": "#E1E5ED",
         "range": [
          -2.5,
          2.5
         ],
         "showgrid": false,
         "tickfont": {
          "color": "#4D5663"
         },
         "title": {
          "font": {
           "color": "#4D5663"
          },
          "text": ""
         },
         "type": "linear",
         "zerolinecolor": "#E1E5ED"
        },
        "xaxis7": {
         "anchor": "y7",
         "autorange": true,
         "domain": [
          0.525,
          0.7375
         ],
         "gridcolor": "#E1E5ED",
         "range": [
          -2.7801089529068155,
          3.0408188292171303
         ],
         "showgrid": false,
         "tickfont": {
          "color": "#4D5663"
         },
         "title": {
          "font": {
           "color": "#4D5663"
          },
          "text": ""
         },
         "type": "linear",
         "zerolinecolor": "#E1E5ED"
        },
        "xaxis8": {
         "anchor": "y8",
         "autorange": true,
         "domain": [
          0.7875,
          1
         ],
         "gridcolor": "#E1E5ED",
         "range": [
          -2.9273242893602083,
          2.193984487347109
         ],
         "showgrid": false,
         "tickfont": {
          "color": "#4D5663"
         },
         "title": {
          "font": {
           "color": "#4D5663"
          },
          "text": ""
         },
         "type": "linear",
         "zerolinecolor": "#E1E5ED"
        },
        "xaxis9": {
         "anchor": "y9",
         "autorange": true,
         "domain": [
          0,
          0.2125
         ],
         "gridcolor": "#E1E5ED",
         "range": [
          -2.940552370070062,
          2.9260677277800857
         ],
         "showgrid": false,
         "tickfont": {
          "color": "#4D5663"
         },
         "title": {
          "font": {
           "color": "#4D5663"
          },
          "text": ""
         },
         "type": "linear",
         "zerolinecolor": "#E1E5ED"
        },
        "yaxis": {
         "anchor": "x",
         "autorange": true,
         "domain": [
          0.8025,
          1
         ],
         "gridcolor": "#E1E5ED",
         "range": [
          0,
          36.8421052631579
         ],
         "showgrid": false,
         "tickfont": {
          "color": "#4D5663"
         },
         "title": {
          "font": {
           "color": "#4D5663"
          },
          "text": ""
         },
         "zerolinecolor": "#E1E5ED"
        },
        "yaxis10": {
         "anchor": "x10",
         "autorange": true,
         "domain": [
          0.2675,
          0.465
         ],
         "gridcolor": "#E1E5ED",
         "range": [
          -3.1066950802111917,
          3.3674049565215065
         ],
         "showgrid": false,
         "tickfont": {
          "color": "#4D5663"
         },
         "title": {
          "font": {
           "color": "#4D5663"
          },
          "text": ""
         },
         "type": "linear",
         "zerolinecolor": "#E1E5ED"
        },
        "yaxis11": {
         "anchor": "x11",
         "autorange": true,
         "domain": [
          0.2675,
          0.465
         ],
         "gridcolor": "#E1E5ED",
         "range": [
          0,
          38.94736842105263
         ],
         "showgrid": false,
         "tickfont": {
          "color": "#4D5663"
         },
         "title": {
          "font": {
           "color": "#4D5663"
          },
          "text": ""
         },
         "zerolinecolor": "#E1E5ED"
        },
        "yaxis12": {
         "anchor": "x12",
         "autorange": true,
         "domain": [
          0.2675,
          0.465
         ],
         "gridcolor": "#E1E5ED",
         "range": [
          -3.1066950802111917,
          3.3674049565215065
         ],
         "showgrid": false,
         "tickfont": {
          "color": "#4D5663"
         },
         "title": {
          "font": {
           "color": "#4D5663"
          },
          "text": ""
         },
         "type": "linear",
         "zerolinecolor": "#E1E5ED"
        },
        "yaxis13": {
         "anchor": "x13",
         "autorange": true,
         "domain": [
          0,
          0.1975
         ],
         "gridcolor": "#E1E5ED",
         "range": [
          -3.214657934909144,
          2.4813181328960447
         ],
         "showgrid": false,
         "tickfont": {
          "color": "#4D5663"
         },
         "title": {
          "font": {
           "color": "#4D5663"
          },
          "text": ""
         },
         "type": "linear",
         "zerolinecolor": "#E1E5ED"
        },
        "yaxis14": {
         "anchor": "x14",
         "autorange": true,
         "domain": [
          0,
          0.1975
         ],
         "gridcolor": "#E1E5ED",
         "range": [
          -3.214657934909144,
          2.4813181328960447
         ],
         "showgrid": false,
         "tickfont": {
          "color": "#4D5663"
         },
         "title": {
          "font": {
           "color": "#4D5663"
          },
          "text": ""
         },
         "type": "linear",
         "zerolinecolor": "#E1E5ED"
        },
        "yaxis15": {
         "anchor": "x15",
         "autorange": true,
         "domain": [
          0,
          0.1975
         ],
         "gridcolor": "#E1E5ED",
         "range": [
          -3.214657934909144,
          2.4813181328960447
         ],
         "showgrid": false,
         "tickfont": {
          "color": "#4D5663"
         },
         "title": {
          "font": {
           "color": "#4D5663"
          },
          "text": ""
         },
         "type": "linear",
         "zerolinecolor": "#E1E5ED"
        },
        "yaxis16": {
         "anchor": "x16",
         "autorange": true,
         "domain": [
          0,
          0.1975
         ],
         "gridcolor": "#E1E5ED",
         "range": [
          0,
          20
         ],
         "showgrid": false,
         "tickfont": {
          "color": "#4D5663"
         },
         "title": {
          "font": {
           "color": "#4D5663"
          },
          "text": ""
         },
         "zerolinecolor": "#E1E5ED"
        },
        "yaxis2": {
         "anchor": "x2",
         "autorange": true,
         "domain": [
          0.8025,
          1
         ],
         "gridcolor": "#E1E5ED",
         "range": [
          -3.2697020880938448,
          3.2552174458038685
         ],
         "showgrid": false,
         "tickfont": {
          "color": "#4D5663"
         },
         "title": {
          "font": {
           "color": "#4D5663"
          },
          "text": ""
         },
         "type": "linear",
         "zerolinecolor": "#E1E5ED"
        },
        "yaxis3": {
         "anchor": "x3",
         "autorange": true,
         "domain": [
          0.8025,
          1
         ],
         "gridcolor": "#E1E5ED",
         "range": [
          -3.2697020880938448,
          3.2552174458038685
         ],
         "showgrid": false,
         "tickfont": {
          "color": "#4D5663"
         },
         "title": {
          "font": {
           "color": "#4D5663"
          },
          "text": ""
         },
         "type": "linear",
         "zerolinecolor": "#E1E5ED"
        },
        "yaxis4": {
         "anchor": "x4",
         "autorange": true,
         "domain": [
          0.8025,
          1
         ],
         "gridcolor": "#E1E5ED",
         "range": [
          -3.2697020880938448,
          3.2552174458038685
         ],
         "showgrid": false,
         "tickfont": {
          "color": "#4D5663"
         },
         "title": {
          "font": {
           "color": "#4D5663"
          },
          "text": ""
         },
         "type": "linear",
         "zerolinecolor": "#E1E5ED"
        },
        "yaxis5": {
         "anchor": "x5",
         "autorange": true,
         "domain": [
          0.535,
          0.7325
         ],
         "gridcolor": "#E1E5ED",
         "range": [
          -3.0001239413540604,
          3.075277424952768
         ],
         "showgrid": false,
         "tickfont": {
          "color": "#4D5663"
         },
         "title": {
          "font": {
           "color": "#4D5663"
          },
          "text": ""
         },
         "type": "linear",
         "zerolinecolor": "#E1E5ED"
        },
        "yaxis6": {
         "anchor": "x6",
         "autorange": true,
         "domain": [
          0.535,
          0.7325
         ],
         "gridcolor": "#E1E5ED",
         "range": [
          0,
          24.210526315789473
         ],
         "showgrid": false,
         "tickfont": {
          "color": "#4D5663"
         },
         "title": {
          "font": {
           "color": "#4D5663"
          },
          "text": ""
         },
         "zerolinecolor": "#E1E5ED"
        },
        "yaxis7": {
         "anchor": "x7",
         "autorange": true,
         "domain": [
          0.535,
          0.7325
         ],
         "gridcolor": "#E1E5ED",
         "range": [
          -3.0001239413540604,
          3.075277424952768
         ],
         "showgrid": false,
         "tickfont": {
          "color": "#4D5663"
         },
         "title": {
          "font": {
           "color": "#4D5663"
          },
          "text": ""
         },
         "type": "linear",
         "zerolinecolor": "#E1E5ED"
        },
        "yaxis8": {
         "anchor": "x8",
         "autorange": true,
         "domain": [
          0.535,
          0.7325
         ],
         "gridcolor": "#E1E5ED",
         "range": [
          -3.0001239413540604,
          3.075277424952768
         ],
         "showgrid": false,
         "tickfont": {
          "color": "#4D5663"
         },
         "title": {
          "font": {
           "color": "#4D5663"
          },
          "text": ""
         },
         "type": "linear",
         "zerolinecolor": "#E1E5ED"
        },
        "yaxis9": {
         "anchor": "x9",
         "autorange": true,
         "domain": [
          0.2675,
          0.465
         ],
         "gridcolor": "#E1E5ED",
         "range": [
          -3.1066950802111917,
          3.3674049565215065
         ],
         "showgrid": false,
         "tickfont": {
          "color": "#4D5663"
         },
         "title": {
          "font": {
           "color": "#4D5663"
          },
          "text": ""
         },
         "type": "linear",
         "zerolinecolor": "#E1E5ED"
        }
       }
      },
      "image/png": "[encoded data removed]",
      "text/html": [
       "<div>                            <div id=\"8bac8f16-5efe-4bb6-8c4d-5ff161a1d32a\" class=\"plotly-graph-div\" style=\"height:525px; width:100%;\"></div>            <script type=\"text/javascript\">                require([\"plotly\"], function(Plotly) {                    window.PLOTLYENV=window.PLOTLYENV || {};\n",
       "                    window.PLOTLYENV.BASE_URL='https://plot.ly';                                    if (document.getElementById(\"8bac8f16-5efe-4bb6-8c4d-5ff161a1d32a\")) {                    Plotly.newPlot(                        \"8bac8f16-5efe-4bb6-8c4d-5ff161a1d32a\",                        [{\"histfunc\": \"count\", \"histnorm\": \"\", \"marker\": {\"color\": \"rgba(255, 153, 51, 1.0)\", \"line\": {\"color\": \"#4D5663\", \"width\": 1.3}}, \"name\": \"A\", \"nbinsx\": 10, \"opacity\": 0.8, \"orientation\": \"v\", \"type\": \"histogram\", \"x\": [1.6798269758748492, -0.2199836590415361, -2.4507820246760064, 0.5345621049020333, -0.39856302744576677, -0.11261594574231408, 0.18365368973708873, 0.898157970332645, 0.5753381411578375, -2.5763720307296083, 1.38619832554469, -0.962354296236438, -1.101467819394483, -0.7987809996163434, -0.6933812853507427, 0.8419418051636006, -1.5221391970802596, -0.06385761933739592, 0.30807683903399036, -0.7080227475637054, 1.4257322784721362, -0.6664877158684318, -0.8257276357775953, 1.379311012710703, 0.12044978700400753, -0.08648401244585327, 1.2432979360283543, 2.508360802520673, 0.4643248708834873, -0.955633157694708, -1.535509984047946, -1.374791885319085, 0.28630164904878097, 0.7342244324101905, -0.02823128516313799, -0.7341739046874015, 0.39230715140972666, 0.8062188113949558, 0.30642943847769355, -1.5844204083389668, -2.2168568921759118, 0.818329086945323, -0.5429278392392303, -0.7677746861982568, 0.4741597360051739, -0.7475180141955834, 0.0663887639237793, 0.1104087523560313, -0.487974454740564, -0.6582049749501504, 0.7694795936392425, 0.44001560003027074, -0.17121162838917453, 1.3832908461628157, -0.19406089191467876, 2.168061754494002, 0.3351737818497473, 2.1010768804402264, -0.7756198079418396, 1.0972186157731403, -0.04018321949200649, 0.5420574778414596, 0.2740649957684385, -1.5137635358552375, 0.6650360912190366, 0.4432625903392581, -1.6308736220096962, 0.1301705393722849, 0.6511756307706884, 0.0016669869019767401, -0.9550881209517254, -1.0469423873967165, 0.9994755176228046, -0.07805461310115813, -0.18178366842378185, -0.5228836054837369, -0.96767637213527, 0.8164590720680147, 0.5365041447608002, 0.9790438576307355, 0.3635173181176478, 2.561887388439632, 1.6256800837780936, 0.6638107412352435, -0.0911766669481064, -0.32992322533456153, 0.84982905999064, 1.1478701245524643, -0.2916632912204899, 1.394588035257012, -0.7133373113633735, -0.4431573586059646, -1.5292557482074411, -0.17871425985598202, 0.23194177885240613, -1.2413517177464832, -1.6314464938492308, -1.4795279562965968, 1.4040753247894164, 2.501998029267809], \"xaxis\": \"x\", \"yaxis\": \"y\"}, {\"line\": {\"color\": \"rgba(128, 128, 128, 1.0)\", \"dash\": \"solid\", \"shape\": \"linear\", \"width\": 1.3}, \"marker\": {\"size\": 2, \"symbol\": \"circle\"}, \"mode\": \"markers\", \"name\": \"A\", \"text\": \"\", \"type\": \"scatter\", \"x\": [-0.12944734190583249, -1.0964889210243227, -0.5688852625502178, 2.4297126243557483, -0.6383179022401426, 1.3561041448228395, -1.6651231504114188, 0.2265362648432785, -2.0850226632797053, -2.3545591407570408, -1.1544274265573464, -0.4020479105629905, 0.7895905985975938, 0.7635632808206712, 1.0231198669273638, 2.2341143641943866, -2.2238915188013473, 1.5283196068066418, 2.058348244085285, 0.053217829034620585, 0.22227011237441024, 0.18489704765681375, 0.12486905080928802, 0.969842991236598, -1.0482429553408665, 0.8698847804194278, 0.44588677004507565, -0.48751361405153193, 0.33871488249048853, 0.08589547691066018, 1.520945017949968, 0.4569931771003894, 1.2944302524269116, 1.6595127234593101, 0.2710476742444291, -1.0021626352598372, 0.8333820174820911, 2.0198279770917407, -0.5579077878955658, -1.3790125878837953, 1.5504112462608328, 0.7258539885499488, 0.16185050291894446, 0.2924235347750846, -0.11910266309169193, -0.615398941759039, -0.530541022662267, 0.7296369995652676, -1.4240486031951645, 0.11073633883215957, 0.6660226906250679, 1.906341998994936, -0.809995774784047, -0.30889295305373726, 1.1285525514247758, 0.34010724747164967, 1.1523194218879722, 1.1500189899063549, -0.5921815874122709, 1.6377477244644454, -0.696212406644362, -0.9587823452227174, 0.2234331442497379, 1.2311048031470695, -1.3913622289532295, -1.2456227014348427, 0.07377413858952699, 0.028619694828842464, 0.21859811019916658, 0.30173022612751677, -0.33698284311818816, 0.6826533256019267, 0.42527896103784163, -0.197894256639745, -0.5478886833710794, 0.6394656680012822, -0.6477899051158909, 0.26517299635865355, -0.4756976453911347, 0.043295979729102166, 0.0551056386251421, -0.02355682898881277, -1.6708649508149047, -0.5283349647398393, 1.253322423115921, 0.5323566961329269, -0.09719960500654366, -1.4370784482181538, -0.4171279131882182, -0.004360096322667945, 1.1708193047502593, 0.565476788609084, -0.9097673723544455, 0.730880385355846, -0.6277790455857233, -0.43289643685794166, -0.1717910597522223, -0.7009702749426628, -0.5187570470781957, -0.054924326521840865], \"xaxis\": \"x2\", \"y\": [1.6798269758748492, -0.2199836590415361, -2.4507820246760064, 0.5345621049020333, -0.39856302744576677, -0.11261594574231408, 0.18365368973708873, 0.898157970332645, 0.5753381411578375, -2.5763720307296083, 1.38619832554469, -0.962354296236438, -1.101467819394483, -0.7987809996163434, -0.6933812853507427, 0.8419418051636006, -1.5221391970802596, -0.06385761933739592, 0.30807683903399036, -0.7080227475637054, 1.4257322784721362, -0.6664877158684318, -0.8257276357775953, 1.379311012710703, 0.12044978700400753, -0.08648401244585327, 1.2432979360283543, 2.508360802520673, 0.4643248708834873, -0.955633157694708, -1.535509984047946, -1.374791885319085, 0.28630164904878097, 0.7342244324101905, -0.02823128516313799, -0.7341739046874015, 0.39230715140972666, 0.8062188113949558, 0.30642943847769355, -1.5844204083389668, -2.2168568921759118, 0.818329086945323, -0.5429278392392303, -0.7677746861982568, 0.4741597360051739, -0.7475180141955834, 0.0663887639237793, 0.1104087523560313, -0.487974454740564, -0.6582049749501504, 0.7694795936392425, 0.44001560003027074, -0.17121162838917453, 1.3832908461628157, -0.19406089191467876, 2.168061754494002, 0.3351737818497473, 2.1010768804402264, -0.7756198079418396, 1.0972186157731403, -0.04018321949200649, 0.5420574778414596, 0.2740649957684385, -1.5137635358552375, 0.6650360912190366, 0.4432625903392581, -1.6308736220096962, 0.1301705393722849, 0.6511756307706884, 0.0016669869019767401, -0.9550881209517254, -1.0469423873967165, 0.9994755176228046, -0.07805461310115813, -0.18178366842378185, -0.5228836054837369, -0.96767637213527, 0.8164590720680147, 0.5365041447608002, 0.9790438576307355, 0.3635173181176478, 2.561887388439632, 1.6256800837780936, 0.6638107412352435, -0.0911766669481064, -0.32992322533456153, 0.84982905999064, 1.1478701245524643, -0.2916632912204899, 1.394588035257012, -0.7133373113633735, -0.4431573586059646, -1.5292557482074411, -0.17871425985598202, 0.23194177885240613, -1.2413517177464832, -1.6314464938492308, -1.4795279562965968, 1.4040753247894164, 2.501998029267809], \"yaxis\": \"y2\"}, {\"line\": {\"color\": \"rgba(128, 128, 128, 1.0)\", \"dash\": \"solid\", \"shape\": \"linear\", \"width\": 1.3}, \"marker\": {\"size\": 2, \"symbol\": \"circle\"}, \"mode\": \"markers\", \"name\": \"A\", \"text\": \"\", \"type\": \"scatter\", \"x\": [-0.5099731986355046, -0.43642427933751393, 1.2383132127202314, -0.41848949218137804, 1.25219856392755, -0.4105265001114346, -0.3358702557111699, 0.25045080489994975, -1.9805823390414017, -1.1638285777871764, -0.5547122917159738, -0.8753737076367798, 0.1472314355014791, 0.026724542420609173, -0.7632235588281209, -1.550962904605722, 0.7335639248806228, 0.37242453111627105, -0.8320528866828826, 0.2962438309703489, 0.015835119112943885, 1.6077687705489354, -0.24860020313929826, -1.5587580138856387, -1.6376456575107412, 0.26321034825329354, -0.22659429831387562, 0.7578110973526933, -1.126055685209363, 0.4234618596074086, 0.30162472963764675, 1.423957195776836, 0.6542936945496459, 1.0278613602812927, -2.4187650411462758, -0.04563326891105432, -0.24865960476685411, -0.5059852308485329, 0.3770980502414392, 1.411751489602502, -0.42721242837591134, 0.8475460954157629, 0.07889715736941662, 0.16293653224477636, 1.061220942165275, -1.316259053389097, 0.7771479271478352, 0.30980088008053813, -0.9843325921373898, 0.7311573016463724, 0.2206222602475841, 0.6592408622395388, -0.19368353883203046, -1.5366055614417367, -0.8012843086577625, -1.6619361448339127, 1.2421119590705874, 0.43798749732232295, -1.1262270096956037, -0.2489226967532583, 0.46053416372271533, -0.4242671247081647, -1.756145329353808, 0.3276742088092708, 0.13556738078925068, -0.4117042350488072, -0.0047894507884336515, -0.9134118938984985, -1.137953602364018, 0.35910597666633937, -0.8399314606644921, -1.950679242792207, 1.3703446524530332, -0.0853265070919818, 0.23555625638411057, 0.4819264961259066, 1.641550079158694, 0.31742293888894324, -0.3667001657942677, -0.7399062408794307, 0.5188221608748309, -0.1995758955690176, 0.7739321711831522, 1.0624678371971847, 1.6557851820592229, -1.1758694638881777, 0.6677518079918014, 2.6794749174565906, 1.5782879631440412, 0.13755898962176302, -0.9489809817536655, -1.5500200570548794, 0.6789681666056834, 1.3379386757837315, 0.7857031906296689, 0.10092045865609581, 1.344211784643464, -1.9474559246682606, -1.4396076115651124, 0.08024690521150149], \"xaxis\": \"x3\", \"y\": [1.6798269758748492, -0.2199836590415361, -2.4507820246760064, 0.5345621049020333, -0.39856302744576677, -0.11261594574231408, 0.18365368973708873, 0.898157970332645, 0.5753381411578375, -2.5763720307296083, 1.38619832554469, -0.962354296236438, -1.101467819394483, -0.7987809996163434, -0.6933812853507427, 0.8419418051636006, -1.5221391970802596, -0.06385761933739592, 0.30807683903399036, -0.7080227475637054, 1.4257322784721362, -0.6664877158684318, -0.8257276357775953, 1.379311012710703, 0.12044978700400753, -0.08648401244585327, 1.2432979360283543, 2.508360802520673, 0.4643248708834873, -0.955633157694708, -1.535509984047946, -1.374791885319085, 0.28630164904878097, 0.7342244324101905, -0.02823128516313799, -0.7341739046874015, 0.39230715140972666, 0.8062188113949558, 0.30642943847769355, -1.5844204083389668, -2.2168568921759118, 0.818329086945323, -0.5429278392392303, -0.7677746861982568, 0.4741597360051739, -0.7475180141955834, 0.0663887639237793, 0.1104087523560313, -0.487974454740564, -0.6582049749501504, 0.7694795936392425, 0.44001560003027074, -0.17121162838917453, 1.3832908461628157, -0.19406089191467876, 2.168061754494002, 0.3351737818497473, 2.1010768804402264, -0.7756198079418396, 1.0972186157731403, -0.04018321949200649, 0.5420574778414596, 0.2740649957684385, -1.5137635358552375, 0.6650360912190366, 0.4432625903392581, -1.6308736220096962, 0.1301705393722849, 0.6511756307706884, 0.0016669869019767401, -0.9550881209517254, -1.0469423873967165, 0.9994755176228046, -0.07805461310115813, -0.18178366842378185, -0.5228836054837369, -0.96767637213527, 0.8164590720680147, 0.5365041447608002, 0.9790438576307355, 0.3635173181176478, 2.561887388439632, 1.6256800837780936, 0.6638107412352435, -0.0911766669481064, -0.32992322533456153, 0.84982905999064, 1.1478701245524643, -0.2916632912204899, 1.394588035257012, -0.7133373113633735, -0.4431573586059646, -1.5292557482074411, -0.17871425985598202, 0.23194177885240613, -1.2413517177464832, -1.6314464938492308, -1.4795279562965968, 1.4040753247894164, 2.501998029267809], \"yaxis\": \"y3\"}, {\"line\": {\"color\": \"rgba(128, 128, 128, 1.0)\", \"dash\": \"solid\", \"shape\": \"linear\", \"width\": 1.3}, \"marker\": {\"size\": 2, \"symbol\": \"circle\"}, \"mode\": \"markers\", \"name\": \"A\", \"text\": \"\", \"type\": \"scatter\", \"x\": [0.931984823135302, -1.2245757387681235, 0.6838257554400858, -2.21040274577057, -0.9658177718986672, 0.7648510621860802, -1.9318289453842272, 0.43214846006956786, -0.2778734595859479, 0.28204112949807175, -0.06613632513858599, -1.1545469137236308, 0.30453532528965116, -1.5431772571078906, 1.0705764297305391, -0.44809215570948163, 0.24042544082215989, 1.2457049889130014, 0.7563089105970153, 0.2636567564993423, 0.7901852438947593, -0.39082447466783987, -1.4600733473052139, -1.0831460206260002, -0.03169434258199588, 1.4341972115920654, -0.02651063330841973, -0.9480471562792716, 0.031072569258799587, -1.2964583656331565, 0.9423396567878187, -0.6148681920077593, 1.0274078908637128, -1.722056772495833, -0.12927142246829035, -0.3893988022167786, -1.5451919590809442, -1.2177340745757055, 1.87607060557863, 0.09422254772693982, 0.8752507247445381, -0.4648487863215274, 0.4576450462957688, -0.09596880515818153, -0.8804178177374911, -0.03828247764281995, 0.23547517617087876, -0.613712846285758, -0.9038458287430639, -1.6764620259002738, -0.2638757426237249, -0.32035531696585157, -1.11670290688409, 1.0067394486393477, -0.9459322291048202, 0.2833150611225091, 1.0476466113089427, -0.24604721575843325, -0.8872398445929423, -0.4247841010304335, 1.0187357476877301, -1.6390144011945684, -0.7269462742815427, -0.9289641405619283, -2.3688646750582403, 1.23304416408373, -1.862896190739098, -1.0625575408697763, 0.36748208727190057, -2.6094104075917293, 0.39716002414019846, -0.886212218689742, 0.802842674054774, -2.470270565490549, 0.6948204936731898, -1.9828813424014085, 0.6430149262654248, 0.747416478284904, 0.045459538193018977, -0.7707447484409992, -0.026572973946935915, -1.0656147940014389, -0.2084150744921162, 0.2429968152215716, 0.07157190583565437, -1.6567420369043255, 1.6611619528344541, 0.6848180354729289, 1.1128036141517856, -0.8665138610694922, 1.379223558159813, 0.37079617948411525, 0.770308888658991, 0.052776928933610794, -0.3695704086373053, 1.1502726935014809, 0.35308807748366045, 0.2943477837390178, -0.39037814278447036, -0.7249438020367157], \"xaxis\": \"x4\", \"y\": [1.6798269758748492, -0.2199836590415361, -2.4507820246760064, 0.5345621049020333, -0.39856302744576677, -0.11261594574231408, 0.18365368973708873, 0.898157970332645, 0.5753381411578375, -2.5763720307296083, 1.38619832554469, -0.962354296236438, -1.101467819394483, -0.7987809996163434, -0.6933812853507427, 0.8419418051636006, -1.5221391970802596, -0.06385761933739592, 0.30807683903399036, -0.7080227475637054, 1.4257322784721362, -0.6664877158684318, -0.8257276357775953, 1.379311012710703, 0.12044978700400753, -0.08648401244585327, 1.2432979360283543, 2.508360802520673, 0.4643248708834873, -0.955633157694708, -1.535509984047946, -1.374791885319085, 0.28630164904878097, 0.7342244324101905, -0.02823128516313799, -0.7341739046874015, 0.39230715140972666, 0.8062188113949558, 0.30642943847769355, -1.5844204083389668, -2.2168568921759118, 0.818329086945323, -0.5429278392392303, -0.7677746861982568, 0.4741597360051739, -0.7475180141955834, 0.0663887639237793, 0.1104087523560313, -0.487974454740564, -0.6582049749501504, 0.7694795936392425, 0.44001560003027074, -0.17121162838917453, 1.3832908461628157, -0.19406089191467876, 2.168061754494002, 0.3351737818497473, 2.1010768804402264, -0.7756198079418396, 1.0972186157731403, -0.04018321949200649, 0.5420574778414596, 0.2740649957684385, -1.5137635358552375, 0.6650360912190366, 0.4432625903392581, -1.6308736220096962, 0.1301705393722849, 0.6511756307706884, 0.0016669869019767401, -0.9550881209517254, -1.0469423873967165, 0.9994755176228046, -0.07805461310115813, -0.18178366842378185, -0.5228836054837369, -0.96767637213527, 0.8164590720680147, 0.5365041447608002, 0.9790438576307355, 0.3635173181176478, 2.561887388439632, 1.6256800837780936, 0.6638107412352435, -0.0911766669481064, -0.32992322533456153, 0.84982905999064, 1.1478701245524643, -0.2916632912204899, 1.394588035257012, -0.7133373113633735, -0.4431573586059646, -1.5292557482074411, -0.17871425985598202, 0.23194177885240613, -1.2413517177464832, -1.6314464938492308, -1.4795279562965968, 1.4040753247894164, 2.501998029267809], \"yaxis\": \"y4\"}, {\"line\": {\"color\": \"rgba(128, 128, 128, 1.0)\", \"dash\": \"solid\", \"shape\": \"linear\", \"width\": 1.3}, \"marker\": {\"size\": 2, \"symbol\": \"circle\"}, \"mode\": \"markers\", \"name\": \"B\", \"text\": \"\", \"type\": \"scatter\", \"x\": [1.6798269758748492, -0.2199836590415361, -2.4507820246760064, 0.5345621049020333, -0.39856302744576677, -0.11261594574231408, 0.18365368973708873, 0.898157970332645, 0.5753381411578375, -2.5763720307296083, 1.38619832554469, -0.962354296236438, -1.101467819394483, -0.7987809996163434, -0.6933812853507427, 0.8419418051636006, -1.5221391970802596, -0.06385761933739592, 0.30807683903399036, -0.7080227475637054, 1.4257322784721362, -0.6664877158684318, -0.8257276357775953, 1.379311012710703, 0.12044978700400753, -0.08648401244585327, 1.2432979360283543, 2.508360802520673, 0.4643248708834873, -0.955633157694708, -1.535509984047946, -1.374791885319085, 0.28630164904878097, 0.7342244324101905, -0.02823128516313799, -0.7341739046874015, 0.39230715140972666, 0.8062188113949558, 0.30642943847769355, -1.5844204083389668, -2.2168568921759118, 0.818329086945323, -0.5429278392392303, -0.7677746861982568, 0.4741597360051739, -0.7475180141955834, 0.0663887639237793, 0.1104087523560313, -0.487974454740564, -0.6582049749501504, 0.7694795936392425, 0.44001560003027074, -0.17121162838917453, 1.3832908461628157, -0.19406089191467876, 2.168061754494002, 0.3351737818497473, 2.1010768804402264, -0.7756198079418396, 1.0972186157731403, -0.04018321949200649, 0.5420574778414596, 0.2740649957684385, -1.5137635358552375, 0.6650360912190366, 0.4432625903392581, -1.6308736220096962, 0.1301705393722849, 0.6511756307706884, 0.0016669869019767401, -0.9550881209517254, -1.0469423873967165, 0.9994755176228046, -0.07805461310115813, -0.18178366842378185, -0.5228836054837369, -0.96767637213527, 0.8164590720680147, 0.5365041447608002, 0.9790438576307355, 0.3635173181176478, 2.561887388439632, 1.6256800837780936, 0.6638107412352435, -0.0911766669481064, -0.32992322533456153, 0.84982905999064, 1.1478701245524643, -0.2916632912204899, 1.394588035257012, -0.7133373113633735, -0.4431573586059646, -1.5292557482074411, -0.17871425985598202, 0.23194177885240613, -1.2413517177464832, -1.6314464938492308, -1.4795279562965968, 1.4040753247894164, 2.501998029267809], \"xaxis\": \"x5\", \"y\": [-0.12944734190583249, -1.0964889210243227, -0.5688852625502178, 2.4297126243557483, -0.6383179022401426, 1.3561041448228395, -1.6651231504114188, 0.2265362648432785, -2.0850226632797053, -2.3545591407570408, -1.1544274265573464, -0.4020479105629905, 0.7895905985975938, 0.7635632808206712, 1.0231198669273638, 2.2341143641943866, -2.2238915188013473, 1.5283196068066418, 2.058348244085285, 0.053217829034620585, 0.22227011237441024, 0.18489704765681375, 0.12486905080928802, 0.969842991236598, -1.0482429553408665, 0.8698847804194278, 0.44588677004507565, -0.48751361405153193, 0.33871488249048853, 0.08589547691066018, 1.520945017949968, 0.4569931771003894, 1.2944302524269116, 1.6595127234593101, 0.2710476742444291, -1.0021626352598372, 0.8333820174820911, 2.0198279770917407, -0.5579077878955658, -1.3790125878837953, 1.5504112462608328, 0.7258539885499488, 0.16185050291894446, 0.2924235347750846, -0.11910266309169193, -0.615398941759039, -0.530541022662267, 0.7296369995652676, -1.4240486031951645, 0.11073633883215957, 0.6660226906250679, 1.906341998994936, -0.809995774784047, -0.30889295305373726, 1.1285525514247758, 0.34010724747164967, 1.1523194218879722, 1.1500189899063549, -0.5921815874122709, 1.6377477244644454, -0.696212406644362, -0.9587823452227174, 0.2234331442497379, 1.2311048031470695, -1.3913622289532295, -1.2456227014348427, 0.07377413858952699, 0.028619694828842464, 0.21859811019916658, 0.30173022612751677, -0.33698284311818816, 0.6826533256019267, 0.42527896103784163, -0.197894256639745, -0.5478886833710794, 0.6394656680012822, -0.6477899051158909, 0.26517299635865355, -0.4756976453911347, 0.043295979729102166, 0.0551056386251421, -0.02355682898881277, -1.6708649508149047, -0.5283349647398393, 1.253322423115921, 0.5323566961329269, -0.09719960500654366, -1.4370784482181538, -0.4171279131882182, -0.004360096322667945, 1.1708193047502593, 0.565476788609084, -0.9097673723544455, 0.730880385355846, -0.6277790455857233, -0.43289643685794166, -0.1717910597522223, -0.7009702749426628, -0.5187570470781957, -0.054924326521840865], \"yaxis\": \"y5\"}, {\"histfunc\": \"count\", \"histnorm\": \"\", \"marker\": {\"color\": \"rgba(55, 128, 191, 1.0)\", \"line\": {\"color\": \"#4D5663\", \"width\": 1.3}}, \"name\": \"B\", \"nbinsx\": 10, \"opacity\": 0.8, \"orientation\": \"v\", \"type\": \"histogram\", \"x\": [-0.12944734190583249, -1.0964889210243227, -0.5688852625502178, 2.4297126243557483, -0.6383179022401426, 1.3561041448228395, -1.6651231504114188, 0.2265362648432785, -2.0850226632797053, -2.3545591407570408, -1.1544274265573464, -0.4020479105629905, 0.7895905985975938, 0.7635632808206712, 1.0231198669273638, 2.2341143641943866, -2.2238915188013473, 1.5283196068066418, 2.058348244085285, 0.053217829034620585, 0.22227011237441024, 0.18489704765681375, 0.12486905080928802, 0.969842991236598, -1.0482429553408665, 0.8698847804194278, 0.44588677004507565, -0.48751361405153193, 0.33871488249048853, 0.08589547691066018, 1.520945017949968, 0.4569931771003894, 1.2944302524269116, 1.6595127234593101, 0.2710476742444291, -1.0021626352598372, 0.8333820174820911, 2.0198279770917407, -0.5579077878955658, -1.3790125878837953, 1.5504112462608328, 0.7258539885499488, 0.16185050291894446, 0.2924235347750846, -0.11910266309169193, -0.615398941759039, -0.530541022662267, 0.7296369995652676, -1.4240486031951645, 0.11073633883215957, 0.6660226906250679, 1.906341998994936, -0.809995774784047, -0.30889295305373726, 1.1285525514247758, 0.34010724747164967, 1.1523194218879722, 1.1500189899063549, -0.5921815874122709, 1.6377477244644454, -0.696212406644362, -0.9587823452227174, 0.2234331442497379, 1.2311048031470695, -1.3913622289532295, -1.2456227014348427, 0.07377413858952699, 0.028619694828842464, 0.21859811019916658, 0.30173022612751677, -0.33698284311818816, 0.6826533256019267, 0.42527896103784163, -0.197894256639745, -0.5478886833710794, 0.6394656680012822, -0.6477899051158909, 0.26517299635865355, -0.4756976453911347, 0.043295979729102166, 0.0551056386251421, -0.02355682898881277, -1.6708649508149047, -0.5283349647398393, 1.253322423115921, 0.5323566961329269, -0.09719960500654366, -1.4370784482181538, -0.4171279131882182, -0.004360096322667945, 1.1708193047502593, 0.565476788609084, -0.9097673723544455, 0.730880385355846, -0.6277790455857233, -0.43289643685794166, -0.1717910597522223, -0.7009702749426628, -0.5187570470781957, -0.054924326521840865], \"xaxis\": \"x6\", \"yaxis\": \"y6\"}, {\"line\": {\"color\": \"rgba(128, 128, 128, 1.0)\", \"dash\": \"solid\", \"shape\": \"linear\", \"width\": 1.3}, \"marker\": {\"size\": 2, \"symbol\": \"circle\"}, \"mode\": \"markers\", \"name\": \"B\", \"text\": \"\", \"type\": \"scatter\", \"x\": [-0.5099731986355046, -0.43642427933751393, 1.2383132127202314, -0.41848949218137804, 1.25219856392755, -0.4105265001114346, -0.3358702557111699, 0.25045080489994975, -1.9805823390414017, -1.1638285777871764, -0.5547122917159738, -0.8753737076367798, 0.1472314355014791, 0.026724542420609173, -0.7632235588281209, -1.550962904605722, 0.7335639248806228, 0.37242453111627105, -0.8320528866828826, 0.2962438309703489, 0.015835119112943885, 1.6077687705489354, -0.24860020313929826, -1.5587580138856387, -1.6376456575107412, 0.26321034825329354, -0.22659429831387562, 0.7578110973526933, -1.126055685209363, 0.4234618596074086, 0.30162472963764675, 1.423957195776836, 0.6542936945496459, 1.0278613602812927, -2.4187650411462758, -0.04563326891105432, -0.24865960476685411, -0.5059852308485329, 0.3770980502414392, 1.411751489602502, -0.42721242837591134, 0.8475460954157629, 0.07889715736941662, 0.16293653224477636, 1.061220942165275, -1.316259053389097, 0.7771479271478352, 0.30980088008053813, -0.9843325921373898, 0.7311573016463724, 0.2206222602475841, 0.6592408622395388, -0.19368353883203046, -1.5366055614417367, -0.8012843086577625, -1.6619361448339127, 1.2421119590705874, 0.43798749732232295, -1.1262270096956037, -0.2489226967532583, 0.46053416372271533, -0.4242671247081647, -1.756145329353808, 0.3276742088092708, 0.13556738078925068, -0.4117042350488072, -0.0047894507884336515, -0.9134118938984985, -1.137953602364018, 0.35910597666633937, -0.8399314606644921, -1.950679242792207, 1.3703446524530332, -0.0853265070919818, 0.23555625638411057, 0.4819264961259066, 1.641550079158694, 0.31742293888894324, -0.3667001657942677, -0.7399062408794307, 0.5188221608748309, -0.1995758955690176, 0.7739321711831522, 1.0624678371971847, 1.6557851820592229, -1.1758694638881777, 0.6677518079918014, 2.6794749174565906, 1.5782879631440412, 0.13755898962176302, -0.9489809817536655, -1.5500200570548794, 0.6789681666056834, 1.3379386757837315, 0.7857031906296689, 0.10092045865609581, 1.344211784643464, -1.9474559246682606, -1.4396076115651124, 0.08024690521150149], \"xaxis\": \"x7\", \"y\": [-0.12944734190583249, -1.0964889210243227, -0.5688852625502178, 2.4297126243557483, -0.6383179022401426, 1.3561041448228395, -1.6651231504114188, 0.2265362648432785, -2.0850226632797053, -2.3545591407570408, -1.1544274265573464, -0.4020479105629905, 0.7895905985975938, 0.7635632808206712, 1.0231198669273638, 2.2341143641943866, -2.2238915188013473, 1.5283196068066418, 2.058348244085285, 0.053217829034620585, 0.22227011237441024, 0.18489704765681375, 0.12486905080928802, 0.969842991236598, -1.0482429553408665, 0.8698847804194278, 0.44588677004507565, -0.48751361405153193, 0.33871488249048853, 0.08589547691066018, 1.520945017949968, 0.4569931771003894, 1.2944302524269116, 1.6595127234593101, 0.2710476742444291, -1.0021626352598372, 0.8333820174820911, 2.0198279770917407, -0.5579077878955658, -1.3790125878837953, 1.5504112462608328, 0.7258539885499488, 0.16185050291894446, 0.2924235347750846, -0.11910266309169193, -0.615398941759039, -0.530541022662267, 0.7296369995652676, -1.4240486031951645, 0.11073633883215957, 0.6660226906250679, 1.906341998994936, -0.809995774784047, -0.30889295305373726, 1.1285525514247758, 0.34010724747164967, 1.1523194218879722, 1.1500189899063549, -0.5921815874122709, 1.6377477244644454, -0.696212406644362, -0.9587823452227174, 0.2234331442497379, 1.2311048031470695, -1.3913622289532295, -1.2456227014348427, 0.07377413858952699, 0.028619694828842464, 0.21859811019916658, 0.30173022612751677, -0.33698284311818816, 0.6826533256019267, 0.42527896103784163, -0.197894256639745, -0.5478886833710794, 0.6394656680012822, -0.6477899051158909, 0.26517299635865355, -0.4756976453911347, 0.043295979729102166, 0.0551056386251421, -0.02355682898881277, -1.6708649508149047, -0.5283349647398393, 1.253322423115921, 0.5323566961329269, -0.09719960500654366, -1.4370784482181538, -0.4171279131882182, -0.004360096322667945, 1.1708193047502593, 0.565476788609084, -0.9097673723544455, 0.730880385355846, -0.6277790455857233, -0.43289643685794166, -0.1717910597522223, -0.7009702749426628, -0.5187570470781957, -0.054924326521840865], \"yaxis\": \"y7\"}, {\"line\": {\"color\": \"rgba(128, 128, 128, 1.0)\", \"dash\": \"solid\", \"shape\": \"linear\", \"width\": 1.3}, \"marker\": {\"size\": 2, \"symbol\": \"circle\"}, \"mode\": \"markers\", \"name\": \"B\", \"text\": \"\", \"type\": \"scatter\", \"x\": [0.931984823135302, -1.2245757387681235, 0.6838257554400858, -2.21040274577057, -0.9658177718986672, 0.7648510621860802, -1.9318289453842272, 0.43214846006956786, -0.2778734595859479, 0.28204112949807175, -0.06613632513858599, -1.1545469137236308, 0.30453532528965116, -1.5431772571078906, 1.0705764297305391, -0.44809215570948163, 0.24042544082215989, 1.2457049889130014, 0.7563089105970153, 0.2636567564993423, 0.7901852438947593, -0.39082447466783987, -1.4600733473052139, -1.0831460206260002, -0.03169434258199588, 1.4341972115920654, -0.02651063330841973, -0.9480471562792716, 0.031072569258799587, -1.2964583656331565, 0.9423396567878187, -0.6148681920077593, 1.0274078908637128, -1.722056772495833, -0.12927142246829035, -0.3893988022167786, -1.5451919590809442, -1.2177340745757055, 1.87607060557863, 0.09422254772693982, 0.8752507247445381, -0.4648487863215274, 0.4576450462957688, -0.09596880515818153, -0.8804178177374911, -0.03828247764281995, 0.23547517617087876, -0.613712846285758, -0.9038458287430639, -1.6764620259002738, -0.2638757426237249, -0.32035531696585157, -1.11670290688409, 1.0067394486393477, -0.9459322291048202, 0.2833150611225091, 1.0476466113089427, -0.24604721575843325, -0.8872398445929423, -0.4247841010304335, 1.0187357476877301, -1.6390144011945684, -0.7269462742815427, -0.9289641405619283, -2.3688646750582403, 1.23304416408373, -1.862896190739098, -1.0625575408697763, 0.36748208727190057, -2.6094104075917293, 0.39716002414019846, -0.886212218689742, 0.802842674054774, -2.470270565490549, 0.6948204936731898, -1.9828813424014085, 0.6430149262654248, 0.747416478284904, 0.045459538193018977, -0.7707447484409992, -0.026572973946935915, -1.0656147940014389, -0.2084150744921162, 0.2429968152215716, 0.07157190583565437, -1.6567420369043255, 1.6611619528344541, 0.6848180354729289, 1.1128036141517856, -0.8665138610694922, 1.379223558159813, 0.37079617948411525, 0.770308888658991, 0.052776928933610794, -0.3695704086373053, 1.1502726935014809, 0.35308807748366045, 0.2943477837390178, -0.39037814278447036, -0.7249438020367157], \"xaxis\": \"x8\", \"y\": [-0.12944734190583249, -1.0964889210243227, -0.5688852625502178, 2.4297126243557483, -0.6383179022401426, 1.3561041448228395, -1.6651231504114188, 0.2265362648432785, -2.0850226632797053, -2.3545591407570408, -1.1544274265573464, -0.4020479105629905, 0.7895905985975938, 0.7635632808206712, 1.0231198669273638, 2.2341143641943866, -2.2238915188013473, 1.5283196068066418, 2.058348244085285, 0.053217829034620585, 0.22227011237441024, 0.18489704765681375, 0.12486905080928802, 0.969842991236598, -1.0482429553408665, 0.8698847804194278, 0.44588677004507565, -0.48751361405153193, 0.33871488249048853, 0.08589547691066018, 1.520945017949968, 0.4569931771003894, 1.2944302524269116, 1.6595127234593101, 0.2710476742444291, -1.0021626352598372, 0.8333820174820911, 2.0198279770917407, -0.5579077878955658, -1.3790125878837953, 1.5504112462608328, 0.7258539885499488, 0.16185050291894446, 0.2924235347750846, -0.11910266309169193, -0.615398941759039, -0.530541022662267, 0.7296369995652676, -1.4240486031951645, 0.11073633883215957, 0.6660226906250679, 1.906341998994936, -0.809995774784047, -0.30889295305373726, 1.1285525514247758, 0.34010724747164967, 1.1523194218879722, 1.1500189899063549, -0.5921815874122709, 1.6377477244644454, -0.696212406644362, -0.9587823452227174, 0.2234331442497379, 1.2311048031470695, -1.3913622289532295, -1.2456227014348427, 0.07377413858952699, 0.028619694828842464, 0.21859811019916658, 0.30173022612751677, -0.33698284311818816, 0.6826533256019267, 0.42527896103784163, -0.197894256639745, -0.5478886833710794, 0.6394656680012822, -0.6477899051158909, 0.26517299635865355, -0.4756976453911347, 0.043295979729102166, 0.0551056386251421, -0.02355682898881277, -1.6708649508149047, -0.5283349647398393, 1.253322423115921, 0.5323566961329269, -0.09719960500654366, -1.4370784482181538, -0.4171279131882182, -0.004360096322667945, 1.1708193047502593, 0.565476788609084, -0.9097673723544455, 0.730880385355846, -0.6277790455857233, -0.43289643685794166, -0.1717910597522223, -0.7009702749426628, -0.5187570470781957, -0.054924326521840865], \"yaxis\": \"y8\"}, {\"line\": {\"color\": \"rgba(128, 128, 128, 1.0)\", \"dash\": \"solid\", \"shape\": \"linear\", \"width\": 1.3}, \"marker\": {\"size\": 2, \"symbol\": \"circle\"}, \"mode\": \"markers\", \"name\": \"C\", \"text\": \"\", \"type\": \"scatter\", \"x\": [1.6798269758748492, -0.2199836590415361, -2.4507820246760064, 0.5345621049020333, -0.39856302744576677, -0.11261594574231408, 0.18365368973708873, 0.898157970332645, 0.5753381411578375, -2.5763720307296083, 1.38619832554469, -0.962354296236438, -1.101467819394483, -0.7987809996163434, -0.6933812853507427, 0.8419418051636006, -1.5221391970802596, -0.06385761933739592, 0.30807683903399036, -0.7080227475637054, 1.4257322784721362, -0.6664877158684318, -0.8257276357775953, 1.379311012710703, 0.12044978700400753, -0.08648401244585327, 1.2432979360283543, 2.508360802520673, 0.4643248708834873, -0.955633157694708, -1.535509984047946, -1.374791885319085, 0.28630164904878097, 0.7342244324101905, -0.02823128516313799, -0.7341739046874015, 0.39230715140972666, 0.8062188113949558, 0.30642943847769355, -1.5844204083389668, -2.2168568921759118, 0.818329086945323, -0.5429278392392303, -0.7677746861982568, 0.4741597360051739, -0.7475180141955834, 0.0663887639237793, 0.1104087523560313, -0.487974454740564, -0.6582049749501504, 0.7694795936392425, 0.44001560003027074, -0.17121162838917453, 1.3832908461628157, -0.19406089191467876, 2.168061754494002, 0.3351737818497473, 2.1010768804402264, -0.7756198079418396, 1.0972186157731403, -0.04018321949200649, 0.5420574778414596, 0.2740649957684385, -1.5137635358552375, 0.6650360912190366, 0.4432625903392581, -1.6308736220096962, 0.1301705393722849, 0.6511756307706884, 0.0016669869019767401, -0.9550881209517254, -1.0469423873967165, 0.9994755176228046, -0.07805461310115813, -0.18178366842378185, -0.5228836054837369, -0.96767637213527, 0.8164590720680147, 0.5365041447608002, 0.9790438576307355, 0.3635173181176478, 2.561887388439632, 1.6256800837780936, 0.6638107412352435, -0.0911766669481064, -0.32992322533456153, 0.84982905999064, 1.1478701245524643, -0.2916632912204899, 1.394588035257012, -0.7133373113633735, -0.4431573586059646, -1.5292557482074411, -0.17871425985598202, 0.23194177885240613, -1.2413517177464832, -1.6314464938492308, -1.4795279562965968, 1.4040753247894164, 2.501998029267809], \"xaxis\": \"x9\", \"y\": [-0.5099731986355046, -0.43642427933751393, 1.2383132127202314, -0.41848949218137804, 1.25219856392755, -0.4105265001114346, -0.3358702557111699, 0.25045080489994975, -1.9805823390414017, -1.1638285777871764, -0.5547122917159738, -0.8753737076367798, 0.1472314355014791, 0.026724542420609173, -0.7632235588281209, -1.550962904605722, 0.7335639248806228, 0.37242453111627105, -0.8320528866828826, 0.2962438309703489, 0.015835119112943885, 1.6077687705489354, -0.24860020313929826, -1.5587580138856387, -1.6376456575107412, 0.26321034825329354, -0.22659429831387562, 0.7578110973526933, -1.126055685209363, 0.4234618596074086, 0.30162472963764675, 1.423957195776836, 0.6542936945496459, 1.0278613602812927, -2.4187650411462758, -0.04563326891105432, -0.24865960476685411, -0.5059852308485329, 0.3770980502414392, 1.411751489602502, -0.42721242837591134, 0.8475460954157629, 0.07889715736941662, 0.16293653224477636, 1.061220942165275, -1.316259053389097, 0.7771479271478352, 0.30980088008053813, -0.9843325921373898, 0.7311573016463724, 0.2206222602475841, 0.6592408622395388, -0.19368353883203046, -1.5366055614417367, -0.8012843086577625, -1.6619361448339127, 1.2421119590705874, 0.43798749732232295, -1.1262270096956037, -0.2489226967532583, 0.46053416372271533, -0.4242671247081647, -1.756145329353808, 0.3276742088092708, 0.13556738078925068, -0.4117042350488072, -0.0047894507884336515, -0.9134118938984985, -1.137953602364018, 0.35910597666633937, -0.8399314606644921, -1.950679242792207, 1.3703446524530332, -0.0853265070919818, 0.23555625638411057, 0.4819264961259066, 1.641550079158694, 0.31742293888894324, -0.3667001657942677, -0.7399062408794307, 0.5188221608748309, -0.1995758955690176, 0.7739321711831522, 1.0624678371971847, 1.6557851820592229, -1.1758694638881777, 0.6677518079918014, 2.6794749174565906, 1.5782879631440412, 0.13755898962176302, -0.9489809817536655, -1.5500200570548794, 0.6789681666056834, 1.3379386757837315, 0.7857031906296689, 0.10092045865609581, 1.344211784643464, -1.9474559246682606, -1.4396076115651124, 0.08024690521150149], \"yaxis\": \"y9\"}, {\"line\": {\"color\": \"rgba(128, 128, 128, 1.0)\", \"dash\": \"solid\", \"shape\": \"linear\", \"width\": 1.3}, \"marker\": {\"size\": 2, \"symbol\": \"circle\"}, \"mode\": \"markers\", \"name\": \"C\", \"text\": \"\", \"type\": \"scatter\", \"x\": [-0.12944734190583249, -1.0964889210243227, -0.5688852625502178, 2.4297126243557483, -0.6383179022401426, 1.3561041448228395, -1.6651231504114188, 0.2265362648432785, -2.0850226632797053, -2.3545591407570408, -1.1544274265573464, -0.4020479105629905, 0.7895905985975938, 0.7635632808206712, 1.0231198669273638, 2.2341143641943866, -2.2238915188013473, 1.5283196068066418, 2.058348244085285, 0.053217829034620585, 0.22227011237441024, 0.18489704765681375, 0.12486905080928802, 0.969842991236598, -1.0482429553408665, 0.8698847804194278, 0.44588677004507565, -0.48751361405153193, 0.33871488249048853, 0.08589547691066018, 1.520945017949968, 0.4569931771003894, 1.2944302524269116, 1.6595127234593101, 0.2710476742444291, -1.0021626352598372, 0.8333820174820911, 2.0198279770917407, -0.5579077878955658, -1.3790125878837953, 1.5504112462608328, 0.7258539885499488, 0.16185050291894446, 0.2924235347750846, -0.11910266309169193, -0.615398941759039, -0.530541022662267, 0.7296369995652676, -1.4240486031951645, 0.11073633883215957, 0.6660226906250679, 1.906341998994936, -0.809995774784047, -0.30889295305373726, 1.1285525514247758, 0.34010724747164967, 1.1523194218879722, 1.1500189899063549, -0.5921815874122709, 1.6377477244644454, -0.696212406644362, -0.9587823452227174, 0.2234331442497379, 1.2311048031470695, -1.3913622289532295, -1.2456227014348427, 0.07377413858952699, 0.028619694828842464, 0.21859811019916658, 0.30173022612751677, -0.33698284311818816, 0.6826533256019267, 0.42527896103784163, -0.197894256639745, -0.5478886833710794, 0.6394656680012822, -0.6477899051158909, 0.26517299635865355, -0.4756976453911347, 0.043295979729102166, 0.0551056386251421, -0.02355682898881277, -1.6708649508149047, -0.5283349647398393, 1.253322423115921, 0.5323566961329269, -0.09719960500654366, -1.4370784482181538, -0.4171279131882182, -0.004360096322667945, 1.1708193047502593, 0.565476788609084, -0.9097673723544455, 0.730880385355846, -0.6277790455857233, -0.43289643685794166, -0.1717910597522223, -0.7009702749426628, -0.5187570470781957, -0.054924326521840865], \"xaxis\": \"x10\", \"y\": [-0.5099731986355046, -0.43642427933751393, 1.2383132127202314, -0.41848949218137804, 1.25219856392755, -0.4105265001114346, -0.3358702557111699, 0.25045080489994975, -1.9805823390414017, -1.1638285777871764, -0.5547122917159738, -0.8753737076367798, 0.1472314355014791, 0.026724542420609173, -0.7632235588281209, -1.550962904605722, 0.7335639248806228, 0.37242453111627105, -0.8320528866828826, 0.2962438309703489, 0.015835119112943885, 1.6077687705489354, -0.24860020313929826, -1.5587580138856387, -1.6376456575107412, 0.26321034825329354, -0.22659429831387562, 0.7578110973526933, -1.126055685209363, 0.4234618596074086, 0.30162472963764675, 1.423957195776836, 0.6542936945496459, 1.0278613602812927, -2.4187650411462758, -0.04563326891105432, -0.24865960476685411, -0.5059852308485329, 0.3770980502414392, 1.411751489602502, -0.42721242837591134, 0.8475460954157629, 0.07889715736941662, 0.16293653224477636, 1.061220942165275, -1.316259053389097, 0.7771479271478352, 0.30980088008053813, -0.9843325921373898, 0.7311573016463724, 0.2206222602475841, 0.6592408622395388, -0.19368353883203046, -1.5366055614417367, -0.8012843086577625, -1.6619361448339127, 1.2421119590705874, 0.43798749732232295, -1.1262270096956037, -0.2489226967532583, 0.46053416372271533, -0.4242671247081647, -1.756145329353808, 0.3276742088092708, 0.13556738078925068, -0.4117042350488072, -0.0047894507884336515, -0.9134118938984985, -1.137953602364018, 0.35910597666633937, -0.8399314606644921, -1.950679242792207, 1.3703446524530332, -0.0853265070919818, 0.23555625638411057, 0.4819264961259066, 1.641550079158694, 0.31742293888894324, -0.3667001657942677, -0.7399062408794307, 0.5188221608748309, -0.1995758955690176, 0.7739321711831522, 1.0624678371971847, 1.6557851820592229, -1.1758694638881777, 0.6677518079918014, 2.6794749174565906, 1.5782879631440412, 0.13755898962176302, -0.9489809817536655, -1.5500200570548794, 0.6789681666056834, 1.3379386757837315, 0.7857031906296689, 0.10092045865609581, 1.344211784643464, -1.9474559246682606, -1.4396076115651124, 0.08024690521150149], \"yaxis\": \"y10\"}, {\"histfunc\": \"count\", \"histnorm\": \"\", \"marker\": {\"color\": \"rgba(50, 171, 96, 1.0)\", \"line\": {\"color\": \"#4D5663\", \"width\": 1.3}}, \"name\": \"C\", \"nbinsx\": 10, \"opacity\": 0.8, \"orientation\": \"v\", \"type\": \"histogram\", \"x\": [-0.5099731986355046, -0.43642427933751393, 1.2383132127202314, -0.41848949218137804, 1.25219856392755, -0.4105265001114346, -0.3358702557111699, 0.25045080489994975, -1.9805823390414017, -1.1638285777871764, -0.5547122917159738, -0.8753737076367798, 0.1472314355014791, 0.026724542420609173, -0.7632235588281209, -1.550962904605722, 0.7335639248806228, 0.37242453111627105, -0.8320528866828826, 0.2962438309703489, 0.015835119112943885, 1.6077687705489354, -0.24860020313929826, -1.5587580138856387, -1.6376456575107412, 0.26321034825329354, -0.22659429831387562, 0.7578110973526933, -1.126055685209363, 0.4234618596074086, 0.30162472963764675, 1.423957195776836, 0.6542936945496459, 1.0278613602812927, -2.4187650411462758, -0.04563326891105432, -0.24865960476685411, -0.5059852308485329, 0.3770980502414392, 1.411751489602502, -0.42721242837591134, 0.8475460954157629, 0.07889715736941662, 0.16293653224477636, 1.061220942165275, -1.316259053389097, 0.7771479271478352, 0.30980088008053813, -0.9843325921373898, 0.7311573016463724, 0.2206222602475841, 0.6592408622395388, -0.19368353883203046, -1.5366055614417367, -0.8012843086577625, -1.6619361448339127, 1.2421119590705874, 0.43798749732232295, -1.1262270096956037, -0.2489226967532583, 0.46053416372271533, -0.4242671247081647, -1.756145329353808, 0.3276742088092708, 0.13556738078925068, -0.4117042350488072, -0.0047894507884336515, -0.9134118938984985, -1.137953602364018, 0.35910597666633937, -0.8399314606644921, -1.950679242792207, 1.3703446524530332, -0.0853265070919818, 0.23555625638411057, 0.4819264961259066, 1.641550079158694, 0.31742293888894324, -0.3667001657942677, -0.7399062408794307, 0.5188221608748309, -0.1995758955690176, 0.7739321711831522, 1.0624678371971847, 1.6557851820592229, -1.1758694638881777, 0.6677518079918014, 2.6794749174565906, 1.5782879631440412, 0.13755898962176302, -0.9489809817536655, -1.5500200570548794, 0.6789681666056834, 1.3379386757837315, 0.7857031906296689, 0.10092045865609581, 1.344211784643464, -1.9474559246682606, -1.4396076115651124, 0.08024690521150149], \"xaxis\": \"x11\", \"yaxis\": \"y11\"}, {\"line\": {\"color\": \"rgba(128, 128, 128, 1.0)\", \"dash\": \"solid\", \"shape\": \"linear\", \"width\": 1.3}, \"marker\": {\"size\": 2, \"symbol\": \"circle\"}, \"mode\": \"markers\", \"name\": \"C\", \"text\": \"\", \"type\": \"scatter\", \"x\": [0.931984823135302, -1.2245757387681235, 0.6838257554400858, -2.21040274577057, -0.9658177718986672, 0.7648510621860802, -1.9318289453842272, 0.43214846006956786, -0.2778734595859479, 0.28204112949807175, -0.06613632513858599, -1.1545469137236308, 0.30453532528965116, -1.5431772571078906, 1.0705764297305391, -0.44809215570948163, 0.24042544082215989, 1.2457049889130014, 0.7563089105970153, 0.2636567564993423, 0.7901852438947593, -0.39082447466783987, -1.4600733473052139, -1.0831460206260002, -0.03169434258199588, 1.4341972115920654, -0.02651063330841973, -0.9480471562792716, 0.031072569258799587, -1.2964583656331565, 0.9423396567878187, -0.6148681920077593, 1.0274078908637128, -1.722056772495833, -0.12927142246829035, -0.3893988022167786, -1.5451919590809442, -1.2177340745757055, 1.87607060557863, 0.09422254772693982, 0.8752507247445381, -0.4648487863215274, 0.4576450462957688, -0.09596880515818153, -0.8804178177374911, -0.03828247764281995, 0.23547517617087876, -0.613712846285758, -0.9038458287430639, -1.6764620259002738, -0.2638757426237249, -0.32035531696585157, -1.11670290688409, 1.0067394486393477, -0.9459322291048202, 0.2833150611225091, 1.0476466113089427, -0.24604721575843325, -0.8872398445929423, -0.4247841010304335, 1.0187357476877301, -1.6390144011945684, -0.7269462742815427, -0.9289641405619283, -2.3688646750582403, 1.23304416408373, -1.862896190739098, -1.0625575408697763, 0.36748208727190057, -2.6094104075917293, 0.39716002414019846, -0.886212218689742, 0.802842674054774, -2.470270565490549, 0.6948204936731898, -1.9828813424014085, 0.6430149262654248, 0.747416478284904, 0.045459538193018977, -0.7707447484409992, -0.026572973946935915, -1.0656147940014389, -0.2084150744921162, 0.2429968152215716, 0.07157190583565437, -1.6567420369043255, 1.6611619528344541, 0.6848180354729289, 1.1128036141517856, -0.8665138610694922, 1.379223558159813, 0.37079617948411525, 0.770308888658991, 0.052776928933610794, -0.3695704086373053, 1.1502726935014809, 0.35308807748366045, 0.2943477837390178, -0.39037814278447036, -0.7249438020367157], \"xaxis\": \"x12\", \"y\": [-0.5099731986355046, -0.43642427933751393, 1.2383132127202314, -0.41848949218137804, 1.25219856392755, -0.4105265001114346, -0.3358702557111699, 0.25045080489994975, -1.9805823390414017, -1.1638285777871764, -0.5547122917159738, -0.8753737076367798, 0.1472314355014791, 0.026724542420609173, -0.7632235588281209, -1.550962904605722, 0.7335639248806228, 0.37242453111627105, -0.8320528866828826, 0.2962438309703489, 0.015835119112943885, 1.6077687705489354, -0.24860020313929826, -1.5587580138856387, -1.6376456575107412, 0.26321034825329354, -0.22659429831387562, 0.7578110973526933, -1.126055685209363, 0.4234618596074086, 0.30162472963764675, 1.423957195776836, 0.6542936945496459, 1.0278613602812927, -2.4187650411462758, -0.04563326891105432, -0.24865960476685411, -0.5059852308485329, 0.3770980502414392, 1.411751489602502, -0.42721242837591134, 0.8475460954157629, 0.07889715736941662, 0.16293653224477636, 1.061220942165275, -1.316259053389097, 0.7771479271478352, 0.30980088008053813, -0.9843325921373898, 0.7311573016463724, 0.2206222602475841, 0.6592408622395388, -0.19368353883203046, -1.5366055614417367, -0.8012843086577625, -1.6619361448339127, 1.2421119590705874, 0.43798749732232295, -1.1262270096956037, -0.2489226967532583, 0.46053416372271533, -0.4242671247081647, -1.756145329353808, 0.3276742088092708, 0.13556738078925068, -0.4117042350488072, -0.0047894507884336515, -0.9134118938984985, -1.137953602364018, 0.35910597666633937, -0.8399314606644921, -1.950679242792207, 1.3703446524530332, -0.0853265070919818, 0.23555625638411057, 0.4819264961259066, 1.641550079158694, 0.31742293888894324, -0.3667001657942677, -0.7399062408794307, 0.5188221608748309, -0.1995758955690176, 0.7739321711831522, 1.0624678371971847, 1.6557851820592229, -1.1758694638881777, 0.6677518079918014, 2.6794749174565906, 1.5782879631440412, 0.13755898962176302, -0.9489809817536655, -1.5500200570548794, 0.6789681666056834, 1.3379386757837315, 0.7857031906296689, 0.10092045865609581, 1.344211784643464, -1.9474559246682606, -1.4396076115651124, 0.08024690521150149], \"yaxis\": \"y12\"}, {\"line\": {\"color\": \"rgba(128, 128, 128, 1.0)\", \"dash\": \"solid\", \"shape\": \"linear\", \"width\": 1.3}, \"marker\": {\"size\": 2, \"symbol\": \"circle\"}, \"mode\": \"markers\", \"name\": \"D\", \"text\": \"\", \"type\": \"scatter\", \"x\": [1.6798269758748492, -0.2199836590415361, -2.4507820246760064, 0.5345621049020333, -0.39856302744576677, -0.11261594574231408, 0.18365368973708873, 0.898157970332645, 0.5753381411578375, -2.5763720307296083, 1.38619832554469, -0.962354296236438, -1.101467819394483, -0.7987809996163434, -0.6933812853507427, 0.8419418051636006, -1.5221391970802596, -0.06385761933739592, 0.30807683903399036, -0.7080227475637054, 1.4257322784721362, -0.6664877158684318, -0.8257276357775953, 1.379311012710703, 0.12044978700400753, -0.08648401244585327, 1.2432979360283543, 2.508360802520673, 0.4643248708834873, -0.955633157694708, -1.535509984047946, -1.374791885319085, 0.28630164904878097, 0.7342244324101905, -0.02823128516313799, -0.7341739046874015, 0.39230715140972666, 0.8062188113949558, 0.30642943847769355, -1.5844204083389668, -2.2168568921759118, 0.818329086945323, -0.5429278392392303, -0.7677746861982568, 0.4741597360051739, -0.7475180141955834, 0.0663887639237793, 0.1104087523560313, -0.487974454740564, -0.6582049749501504, 0.7694795936392425, 0.44001560003027074, -0.17121162838917453, 1.3832908461628157, -0.19406089191467876, 2.168061754494002, 0.3351737818497473, 2.1010768804402264, -0.7756198079418396, 1.0972186157731403, -0.04018321949200649, 0.5420574778414596, 0.2740649957684385, -1.5137635358552375, 0.6650360912190366, 0.4432625903392581, -1.6308736220096962, 0.1301705393722849, 0.6511756307706884, 0.0016669869019767401, -0.9550881209517254, -1.0469423873967165, 0.9994755176228046, -0.07805461310115813, -0.18178366842378185, -0.5228836054837369, -0.96767637213527, 0.8164590720680147, 0.5365041447608002, 0.9790438576307355, 0.3635173181176478, 2.561887388439632, 1.6256800837780936, 0.6638107412352435, -0.0911766669481064, -0.32992322533456153, 0.84982905999064, 1.1478701245524643, -0.2916632912204899, 1.394588035257012, -0.7133373113633735, -0.4431573586059646, -1.5292557482074411, -0.17871425985598202, 0.23194177885240613, -1.2413517177464832, -1.6314464938492308, -1.4795279562965968, 1.4040753247894164, 2.501998029267809], \"xaxis\": \"x13\", \"y\": [0.931984823135302, -1.2245757387681235, 0.6838257554400858, -2.21040274577057, -0.9658177718986672, 0.7648510621860802, -1.9318289453842272, 0.43214846006956786, -0.2778734595859479, 0.28204112949807175, -0.06613632513858599, -1.1545469137236308, 0.30453532528965116, -1.5431772571078906, 1.0705764297305391, -0.44809215570948163, 0.24042544082215989, 1.2457049889130014, 0.7563089105970153, 0.2636567564993423, 0.7901852438947593, -0.39082447466783987, -1.4600733473052139, -1.0831460206260002, -0.03169434258199588, 1.4341972115920654, -0.02651063330841973, -0.9480471562792716, 0.031072569258799587, -1.2964583656331565, 0.9423396567878187, -0.6148681920077593, 1.0274078908637128, -1.722056772495833, -0.12927142246829035, -0.3893988022167786, -1.5451919590809442, -1.2177340745757055, 1.87607060557863, 0.09422254772693982, 0.8752507247445381, -0.4648487863215274, 0.4576450462957688, -0.09596880515818153, -0.8804178177374911, -0.03828247764281995, 0.23547517617087876, -0.613712846285758, -0.9038458287430639, -1.6764620259002738, -0.2638757426237249, -0.32035531696585157, -1.11670290688409, 1.0067394486393477, -0.9459322291048202, 0.2833150611225091, 1.0476466113089427, -0.24604721575843325, -0.8872398445929423, -0.4247841010304335, 1.0187357476877301, -1.6390144011945684, -0.7269462742815427, -0.9289641405619283, -2.3688646750582403, 1.23304416408373, -1.862896190739098, -1.0625575408697763, 0.36748208727190057, -2.6094104075917293, 0.39716002414019846, -0.886212218689742, 0.802842674054774, -2.470270565490549, 0.6948204936731898, -1.9828813424014085, 0.6430149262654248, 0.747416478284904, 0.045459538193018977, -0.7707447484409992, -0.026572973946935915, -1.0656147940014389, -0.2084150744921162, 0.2429968152215716, 0.07157190583565437, -1.6567420369043255, 1.6611619528344541, 0.6848180354729289, 1.1128036141517856, -0.8665138610694922, 1.379223558159813, 0.37079617948411525, 0.770308888658991, 0.052776928933610794, -0.3695704086373053, 1.1502726935014809, 0.35308807748366045, 0.2943477837390178, -0.39037814278447036, -0.7249438020367157], \"yaxis\": \"y13\"}, {\"line\": {\"color\": \"rgba(128, 128, 128, 1.0)\", \"dash\": \"solid\", \"shape\": \"linear\", \"width\": 1.3}, \"marker\": {\"size\": 2, \"symbol\": \"circle\"}, \"mode\": \"markers\", \"name\": \"D\", \"text\": \"\", \"type\": \"scatter\", \"x\": [-0.12944734190583249, -1.0964889210243227, -0.5688852625502178, 2.4297126243557483, -0.6383179022401426, 1.3561041448228395, -1.6651231504114188, 0.2265362648432785, -2.0850226632797053, -2.3545591407570408, -1.1544274265573464, -0.4020479105629905, 0.7895905985975938, 0.7635632808206712, 1.0231198669273638, 2.2341143641943866, -2.2238915188013473, 1.5283196068066418, 2.058348244085285, 0.053217829034620585, 0.22227011237441024, 0.18489704765681375, 0.12486905080928802, 0.969842991236598, -1.0482429553408665, 0.8698847804194278, 0.44588677004507565, -0.48751361405153193, 0.33871488249048853, 0.08589547691066018, 1.520945017949968, 0.4569931771003894, 1.2944302524269116, 1.6595127234593101, 0.2710476742444291, -1.0021626352598372, 0.8333820174820911, 2.0198279770917407, -0.5579077878955658, -1.3790125878837953, 1.5504112462608328, 0.7258539885499488, 0.16185050291894446, 0.2924235347750846, -0.11910266309169193, -0.615398941759039, -0.530541022662267, 0.7296369995652676, -1.4240486031951645, 0.11073633883215957, 0.6660226906250679, 1.906341998994936, -0.809995774784047, -0.30889295305373726, 1.1285525514247758, 0.34010724747164967, 1.1523194218879722, 1.1500189899063549, -0.5921815874122709, 1.6377477244644454, -0.696212406644362, -0.9587823452227174, 0.2234331442497379, 1.2311048031470695, -1.3913622289532295, -1.2456227014348427, 0.07377413858952699, 0.028619694828842464, 0.21859811019916658, 0.30173022612751677, -0.33698284311818816, 0.6826533256019267, 0.42527896103784163, -0.197894256639745, -0.5478886833710794, 0.6394656680012822, -0.6477899051158909, 0.26517299635865355, -0.4756976453911347, 0.043295979729102166, 0.0551056386251421, -0.02355682898881277, -1.6708649508149047, -0.5283349647398393, 1.253322423115921, 0.5323566961329269, -0.09719960500654366, -1.4370784482181538, -0.4171279131882182, -0.004360096322667945, 1.1708193047502593, 0.565476788609084, -0.9097673723544455, 0.730880385355846, -0.6277790455857233, -0.43289643685794166, -0.1717910597522223, -0.7009702749426628, -0.5187570470781957, -0.054924326521840865], \"xaxis\": \"x14\", \"y\": [0.931984823135302, -1.2245757387681235, 0.6838257554400858, -2.21040274577057, -0.9658177718986672, 0.7648510621860802, -1.9318289453842272, 0.43214846006956786, -0.2778734595859479, 0.28204112949807175, -0.06613632513858599, -1.1545469137236308, 0.30453532528965116, -1.5431772571078906, 1.0705764297305391, -0.44809215570948163, 0.24042544082215989, 1.2457049889130014, 0.7563089105970153, 0.2636567564993423, 0.7901852438947593, -0.39082447466783987, -1.4600733473052139, -1.0831460206260002, -0.03169434258199588, 1.4341972115920654, -0.02651063330841973, -0.9480471562792716, 0.031072569258799587, -1.2964583656331565, 0.9423396567878187, -0.6148681920077593, 1.0274078908637128, -1.722056772495833, -0.12927142246829035, -0.3893988022167786, -1.5451919590809442, -1.2177340745757055, 1.87607060557863, 0.09422254772693982, 0.8752507247445381, -0.4648487863215274, 0.4576450462957688, -0.09596880515818153, -0.8804178177374911, -0.03828247764281995, 0.23547517617087876, -0.613712846285758, -0.9038458287430639, -1.6764620259002738, -0.2638757426237249, -0.32035531696585157, -1.11670290688409, 1.0067394486393477, -0.9459322291048202, 0.2833150611225091, 1.0476466113089427, -0.24604721575843325, -0.8872398445929423, -0.4247841010304335, 1.0187357476877301, -1.6390144011945684, -0.7269462742815427, -0.9289641405619283, -2.3688646750582403, 1.23304416408373, -1.862896190739098, -1.0625575408697763, 0.36748208727190057, -2.6094104075917293, 0.39716002414019846, -0.886212218689742, 0.802842674054774, -2.470270565490549, 0.6948204936731898, -1.9828813424014085, 0.6430149262654248, 0.747416478284904, 0.045459538193018977, -0.7707447484409992, -0.026572973946935915, -1.0656147940014389, -0.2084150744921162, 0.2429968152215716, 0.07157190583565437, -1.6567420369043255, 1.6611619528344541, 0.6848180354729289, 1.1128036141517856, -0.8665138610694922, 1.379223558159813, 0.37079617948411525, 0.770308888658991, 0.052776928933610794, -0.3695704086373053, 1.1502726935014809, 0.35308807748366045, 0.2943477837390178, -0.39037814278447036, -0.7249438020367157], \"yaxis\": \"y14\"}, {\"line\": {\"color\": \"rgba(128, 128, 128, 1.0)\", \"dash\": \"solid\", \"shape\": \"linear\", \"width\": 1.3}, \"marker\": {\"size\": 2, \"symbol\": \"circle\"}, \"mode\": \"markers\", \"name\": \"D\", \"text\": \"\", \"type\": \"scatter\", \"x\": [-0.5099731986355046, -0.43642427933751393, 1.2383132127202314, -0.41848949218137804, 1.25219856392755, -0.4105265001114346, -0.3358702557111699, 0.25045080489994975, -1.9805823390414017, -1.1638285777871764, -0.5547122917159738, -0.8753737076367798, 0.1472314355014791, 0.026724542420609173, -0.7632235588281209, -1.550962904605722, 0.7335639248806228, 0.37242453111627105, -0.8320528866828826, 0.2962438309703489, 0.015835119112943885, 1.6077687705489354, -0.24860020313929826, -1.5587580138856387, -1.6376456575107412, 0.26321034825329354, -0.22659429831387562, 0.7578110973526933, -1.126055685209363, 0.4234618596074086, 0.30162472963764675, 1.423957195776836, 0.6542936945496459, 1.0278613602812927, -2.4187650411462758, -0.04563326891105432, -0.24865960476685411, -0.5059852308485329, 0.3770980502414392, 1.411751489602502, -0.42721242837591134, 0.8475460954157629, 0.07889715736941662, 0.16293653224477636, 1.061220942165275, -1.316259053389097, 0.7771479271478352, 0.30980088008053813, -0.9843325921373898, 0.7311573016463724, 0.2206222602475841, 0.6592408622395388, -0.19368353883203046, -1.5366055614417367, -0.8012843086577625, -1.6619361448339127, 1.2421119590705874, 0.43798749732232295, -1.1262270096956037, -0.2489226967532583, 0.46053416372271533, -0.4242671247081647, -1.756145329353808, 0.3276742088092708, 0.13556738078925068, -0.4117042350488072, -0.0047894507884336515, -0.9134118938984985, -1.137953602364018, 0.35910597666633937, -0.8399314606644921, -1.950679242792207, 1.3703446524530332, -0.0853265070919818, 0.23555625638411057, 0.4819264961259066, 1.641550079158694, 0.31742293888894324, -0.3667001657942677, -0.7399062408794307, 0.5188221608748309, -0.1995758955690176, 0.7739321711831522, 1.0624678371971847, 1.6557851820592229, -1.1758694638881777, 0.6677518079918014, 2.6794749174565906, 1.5782879631440412, 0.13755898962176302, -0.9489809817536655, -1.5500200570548794, 0.6789681666056834, 1.3379386757837315, 0.7857031906296689, 0.10092045865609581, 1.344211784643464, -1.9474559246682606, -1.4396076115651124, 0.08024690521150149], \"xaxis\": \"x15\", \"y\": [0.931984823135302, -1.2245757387681235, 0.6838257554400858, -2.21040274577057, -0.9658177718986672, 0.7648510621860802, -1.9318289453842272, 0.43214846006956786, -0.2778734595859479, 0.28204112949807175, -0.06613632513858599, -1.1545469137236308, 0.30453532528965116, -1.5431772571078906, 1.0705764297305391, -0.44809215570948163, 0.24042544082215989, 1.2457049889130014, 0.7563089105970153, 0.2636567564993423, 0.7901852438947593, -0.39082447466783987, -1.4600733473052139, -1.0831460206260002, -0.03169434258199588, 1.4341972115920654, -0.02651063330841973, -0.9480471562792716, 0.031072569258799587, -1.2964583656331565, 0.9423396567878187, -0.6148681920077593, 1.0274078908637128, -1.722056772495833, -0.12927142246829035, -0.3893988022167786, -1.5451919590809442, -1.2177340745757055, 1.87607060557863, 0.09422254772693982, 0.8752507247445381, -0.4648487863215274, 0.4576450462957688, -0.09596880515818153, -0.8804178177374911, -0.03828247764281995, 0.23547517617087876, -0.613712846285758, -0.9038458287430639, -1.6764620259002738, -0.2638757426237249, -0.32035531696585157, -1.11670290688409, 1.0067394486393477, -0.9459322291048202, 0.2833150611225091, 1.0476466113089427, -0.24604721575843325, -0.8872398445929423, -0.4247841010304335, 1.0187357476877301, -1.6390144011945684, -0.7269462742815427, -0.9289641405619283, -2.3688646750582403, 1.23304416408373, -1.862896190739098, -1.0625575408697763, 0.36748208727190057, -2.6094104075917293, 0.39716002414019846, -0.886212218689742, 0.802842674054774, -2.470270565490549, 0.6948204936731898, -1.9828813424014085, 0.6430149262654248, 0.747416478284904, 0.045459538193018977, -0.7707447484409992, -0.026572973946935915, -1.0656147940014389, -0.2084150744921162, 0.2429968152215716, 0.07157190583565437, -1.6567420369043255, 1.6611619528344541, 0.6848180354729289, 1.1128036141517856, -0.8665138610694922, 1.379223558159813, 0.37079617948411525, 0.770308888658991, 0.052776928933610794, -0.3695704086373053, 1.1502726935014809, 0.35308807748366045, 0.2943477837390178, -0.39037814278447036, -0.7249438020367157], \"yaxis\": \"y15\"}, {\"histfunc\": \"count\", \"histnorm\": \"\", \"marker\": {\"color\": \"rgba(128, 0, 128, 1.0)\", \"line\": {\"color\": \"#4D5663\", \"width\": 1.3}}, \"name\": \"D\", \"nbinsx\": 10, \"opacity\": 0.8, \"orientation\": \"v\", \"type\": \"histogram\", \"x\": [0.931984823135302, -1.2245757387681235, 0.6838257554400858, -2.21040274577057, -0.9658177718986672, 0.7648510621860802, -1.9318289453842272, 0.43214846006956786, -0.2778734595859479, 0.28204112949807175, -0.06613632513858599, -1.1545469137236308, 0.30453532528965116, -1.5431772571078906, 1.0705764297305391, -0.44809215570948163, 0.24042544082215989, 1.2457049889130014, 0.7563089105970153, 0.2636567564993423, 0.7901852438947593, -0.39082447466783987, -1.4600733473052139, -1.0831460206260002, -0.03169434258199588, 1.4341972115920654, -0.02651063330841973, -0.9480471562792716, 0.031072569258799587, -1.2964583656331565, 0.9423396567878187, -0.6148681920077593, 1.0274078908637128, -1.722056772495833, -0.12927142246829035, -0.3893988022167786, -1.5451919590809442, -1.2177340745757055, 1.87607060557863, 0.09422254772693982, 0.8752507247445381, -0.4648487863215274, 0.4576450462957688, -0.09596880515818153, -0.8804178177374911, -0.03828247764281995, 0.23547517617087876, -0.613712846285758, -0.9038458287430639, -1.6764620259002738, -0.2638757426237249, -0.32035531696585157, -1.11670290688409, 1.0067394486393477, -0.9459322291048202, 0.2833150611225091, 1.0476466113089427, -0.24604721575843325, -0.8872398445929423, -0.4247841010304335, 1.0187357476877301, -1.6390144011945684, -0.7269462742815427, -0.9289641405619283, -2.3688646750582403, 1.23304416408373, -1.862896190739098, -1.0625575408697763, 0.36748208727190057, -2.6094104075917293, 0.39716002414019846, -0.886212218689742, 0.802842674054774, -2.470270565490549, 0.6948204936731898, -1.9828813424014085, 0.6430149262654248, 0.747416478284904, 0.045459538193018977, -0.7707447484409992, -0.026572973946935915, -1.0656147940014389, -0.2084150744921162, 0.2429968152215716, 0.07157190583565437, -1.6567420369043255, 1.6611619528344541, 0.6848180354729289, 1.1128036141517856, -0.8665138610694922, 1.379223558159813, 0.37079617948411525, 0.770308888658991, 0.052776928933610794, -0.3695704086373053, 1.1502726935014809, 0.35308807748366045, 0.2943477837390178, -0.39037814278447036, -0.7249438020367157], \"xaxis\": \"x16\", \"yaxis\": \"y16\"}],                        {\"bargap\": 0.02, \"legend\": {\"bgcolor\": \"#F5F6F9\", \"font\": {\"color\": \"#4D5663\"}}, \"paper_bgcolor\": \"#F5F6F9\", \"plot_bgcolor\": \"#F5F6F9\", \"showlegend\": false, \"template\": {\"data\": {\"bar\": [{\"error_x\": {\"color\": \"#2a3f5f\"}, \"error_y\": {\"color\": \"#2a3f5f\"}, \"marker\": {\"line\": {\"color\": \"#E5ECF6\", \"width\": 0.5}}, \"type\": \"bar\"}], \"barpolar\": [{\"marker\": {\"line\": {\"color\": \"#E5ECF6\", \"width\": 0.5}}, \"type\": \"barpolar\"}], \"carpet\": [{\"aaxis\": {\"endlinecolor\": \"#2a3f5f\", \"gridcolor\": \"white\", \"linecolor\": \"white\", \"minorgridcolor\": \"white\", \"startlinecolor\": \"#2a3f5f\"}, \"baxis\": {\"endlinecolor\": \"#2a3f5f\", \"gridcolor\": \"white\", \"linecolor\": \"white\", \"minorgridcolor\": \"white\", \"startlinecolor\": \"#2a3f5f\"}, \"type\": \"carpet\"}], \"choropleth\": [{\"colorbar\": {\"outlinewidth\": 0, \"ticks\": \"\"}, \"type\": \"choropleth\"}], \"contour\": [{\"colorbar\": {\"outlinewidth\": 0, \"ticks\": \"\"}, \"colorscale\": [[0.0, \"#0d0887\"], [0.1111111111111111, \"#46039f\"], [0.2222222222222222, \"#7201a8\"], [0.3333333333333333, \"#9c179e\"], [0.4444444444444444, \"#bd3786\"], [0.5555555555555556, \"#d8576b\"], [0.6666666666666666, \"#ed7953\"], [0.7777777777777778, \"#fb9f3a\"], [0.8888888888888888, \"#fdca26\"], [1.0, \"#f0f921\"]], \"type\": \"contour\"}], \"contourcarpet\": [{\"colorbar\": {\"outlinewidth\": 0, \"ticks\": \"\"}, \"type\": \"contourcarpet\"}], \"heatmap\": [{\"colorbar\": {\"outlinewidth\": 0, \"ticks\": \"\"}, \"colorscale\": [[0.0, \"#0d0887\"], [0.1111111111111111, \"#46039f\"], [0.2222222222222222, \"#7201a8\"], [0.3333333333333333, \"#9c179e\"], [0.4444444444444444, \"#bd3786\"], [0.5555555555555556, \"#d8576b\"], [0.6666666666666666, \"#ed7953\"], [0.7777777777777778, \"#fb9f3a\"], [0.8888888888888888, \"#fdca26\"], [1.0, \"#f0f921\"]], \"type\": \"heatmap\"}], \"heatmapgl\": [{\"colorbar\": {\"outlinewidth\": 0, \"ticks\": \"\"}, \"colorscale\": [[0.0, \"#0d0887\"], [0.1111111111111111, \"#46039f\"], [0.2222222222222222, \"#7201a8\"], [0.3333333333333333, \"#9c179e\"], [0.4444444444444444, \"#bd3786\"], [0.5555555555555556, \"#d8576b\"], [0.6666666666666666, \"#ed7953\"], [0.7777777777777778, \"#fb9f3a\"], [0.8888888888888888, \"#fdca26\"], [1.0, \"#f0f921\"]], \"type\": \"heatmapgl\"}], \"histogram\": [{\"marker\": {\"colorbar\": {\"outlinewidth\": 0, \"ticks\": \"\"}}, \"type\": \"histogram\"}], \"histogram2d\": [{\"colorbar\": {\"outlinewidth\": 0, \"ticks\": \"\"}, \"colorscale\": [[0.0, \"#0d0887\"], [0.1111111111111111, \"#46039f\"], [0.2222222222222222, \"#7201a8\"], [0.3333333333333333, \"#9c179e\"], [0.4444444444444444, \"#bd3786\"], [0.5555555555555556, \"#d8576b\"], [0.6666666666666666, \"#ed7953\"], [0.7777777777777778, \"#fb9f3a\"], [0.8888888888888888, \"#fdca26\"], [1.0, \"#f0f921\"]], \"type\": \"histogram2d\"}], \"histogram2dcontour\": [{\"colorbar\": {\"outlinewidth\": 0, \"ticks\": \"\"}, \"colorscale\": [[0.0, \"#0d0887\"], [0.1111111111111111, \"#46039f\"], [0.2222222222222222, \"#7201a8\"], [0.3333333333333333, \"#9c179e\"], [0.4444444444444444, \"#bd3786\"], [0.5555555555555556, \"#d8576b\"], [0.6666666666666666, \"#ed7953\"], [0.7777777777777778, \"#fb9f3a\"], [0.8888888888888888, \"#fdca26\"], [1.0, \"#f0f921\"]], \"type\": \"histogram2dcontour\"}], \"mesh3d\": [{\"colorbar\": {\"outlinewidth\": 0, \"ticks\": \"\"}, \"type\": \"mesh3d\"}], \"parcoords\": [{\"line\": {\"colorbar\": {\"outlinewidth\": 0, \"ticks\": \"\"}}, \"type\": \"parcoords\"}], \"pie\": [{\"automargin\": true, \"type\": \"pie\"}], \"scatter\": [{\"marker\": {\"colorbar\": {\"outlinewidth\": 0, \"ticks\": \"\"}}, \"type\": \"scatter\"}], \"scatter3d\": [{\"line\": {\"colorbar\": {\"outlinewidth\": 0, \"ticks\": \"\"}}, \"marker\": {\"colorbar\": {\"outlinewidth\": 0, \"ticks\": \"\"}}, \"type\": \"scatter3d\"}], \"scattercarpet\": [{\"marker\": {\"colorbar\": {\"outlinewidth\": 0, \"ticks\": \"\"}}, \"type\": \"scattercarpet\"}], \"scattergeo\": [{\"marker\": {\"colorbar\": {\"outlinewidth\": 0, \"ticks\": \"\"}}, \"type\": \"scattergeo\"}], \"scattergl\": [{\"marker\": {\"colorbar\": {\"outlinewidth\": 0, \"ticks\": \"\"}}, \"type\": \"scattergl\"}], \"scattermapbox\": [{\"marker\": {\"colorbar\": {\"outlinewidth\": 0, \"ticks\": \"\"}}, \"type\": \"scattermapbox\"}], \"scatterpolar\": [{\"marker\": {\"colorbar\": {\"outlinewidth\": 0, \"ticks\": \"\"}}, \"type\": \"scatterpolar\"}], \"scatterpolargl\": [{\"marker\": {\"colorbar\": {\"outlinewidth\": 0, \"ticks\": \"\"}}, \"type\": \"scatterpolargl\"}], \"scatterternary\": [{\"marker\": {\"colorbar\": {\"outlinewidth\": 0, \"ticks\": \"\"}}, \"type\": \"scatterternary\"}], \"surface\": [{\"colorbar\": {\"outlinewidth\": 0, \"ticks\": \"\"}, \"colorscale\": [[0.0, \"#0d0887\"], [0.1111111111111111, \"#46039f\"], [0.2222222222222222, \"#7201a8\"], [0.3333333333333333, \"#9c179e\"], [0.4444444444444444, \"#bd3786\"], [0.5555555555555556, \"#d8576b\"], [0.6666666666666666, \"#ed7953\"], [0.7777777777777778, \"#fb9f3a\"], [0.8888888888888888, \"#fdca26\"], [1.0, \"#f0f921\"]], \"type\": \"surface\"}], \"table\": [{\"cells\": {\"fill\": {\"color\": \"#EBF0F8\"}, \"line\": {\"color\": \"white\"}}, \"header\": {\"fill\": {\"color\": \"#C8D4E3\"}, \"line\": {\"color\": \"white\"}}, \"type\": \"table\"}]}, \"layout\": {\"annotationdefaults\": {\"arrowcolor\": \"#2a3f5f\", \"arrowhead\": 0, \"arrowwidth\": 1}, \"coloraxis\": {\"colorbar\": {\"outlinewidth\": 0, \"ticks\": \"\"}}, \"colorscale\": {\"diverging\": [[0, \"#8e0152\"], [0.1, \"#c51b7d\"], [0.2, \"#de77ae\"], [0.3, \"#f1b6da\"], [0.4, \"#fde0ef\"], [0.5, \"#f7f7f7\"], [0.6, \"#e6f5d0\"], [0.7, \"#b8e186\"], [0.8, \"#7fbc41\"], [0.9, \"#4d9221\"], [1, \"#276419\"]], \"sequential\": [[0.0, \"#0d0887\"], [0.1111111111111111, \"#46039f\"], [0.2222222222222222, \"#7201a8\"], [0.3333333333333333, \"#9c179e\"], [0.4444444444444444, \"#bd3786\"], [0.5555555555555556, \"#d8576b\"], [0.6666666666666666, \"#ed7953\"], [0.7777777777777778, \"#fb9f3a\"], [0.8888888888888888, \"#fdca26\"], [1.0, \"#f0f921\"]], \"sequentialminus\": [[0.0, \"#0d0887\"], [0.1111111111111111, \"#46039f\"], [0.2222222222222222, \"#7201a8\"], [0.3333333333333333, \"#9c179e\"], [0.4444444444444444, \"#bd3786\"], [0.5555555555555556, \"#d8576b\"], [0.6666666666666666, \"#ed7953\"], [0.7777777777777778, \"#fb9f3a\"], [0.8888888888888888, \"#fdca26\"], [1.0, \"#f0f921\"]]}, \"colorway\": [\"#636efa\", \"#EF553B\", \"#00cc96\", \"#ab63fa\", \"#FFA15A\", \"#19d3f3\", \"#FF6692\", \"#B6E880\", \"#FF97FF\", \"#FECB52\"], \"font\": {\"color\": \"#2a3f5f\"}, \"geo\": {\"bgcolor\": \"white\", \"lakecolor\": \"white\", \"landcolor\": \"#E5ECF6\", \"showlakes\": true, \"showland\": true, \"subunitcolor\": \"white\"}, \"hoverlabel\": {\"align\": \"left\"}, \"hovermode\": \"closest\", \"mapbox\": {\"style\": \"light\"}, \"paper_bgcolor\": \"white\", \"plot_bgcolor\": \"#E5ECF6\", \"polar\": {\"angularaxis\": {\"gridcolor\": \"white\", \"linecolor\": \"white\", \"ticks\": \"\"}, \"bgcolor\": \"#E5ECF6\", \"radialaxis\": {\"gridcolor\": \"white\", \"linecolor\": \"white\", \"ticks\": \"\"}}, \"scene\": {\"xaxis\": {\"backgroundcolor\": \"#E5ECF6\", \"gridcolor\": \"white\", \"gridwidth\": 2, \"linecolor\": \"white\", \"showbackground\": true, \"ticks\": \"\", \"zerolinecolor\": \"white\"}, \"yaxis\": {\"backgroundcolor\": \"#E5ECF6\", \"gridcolor\": \"white\", \"gridwidth\": 2, \"linecolor\": \"white\", \"showbackground\": true, \"ticks\": \"\", \"zerolinecolor\": \"white\"}, \"zaxis\": {\"backgroundcolor\": \"#E5ECF6\", \"gridcolor\": \"white\", \"gridwidth\": 2, \"linecolor\": \"white\", \"showbackground\": true, \"ticks\": \"\", \"zerolinecolor\": \"white\"}}, \"shapedefaults\": {\"line\": {\"color\": \"#2a3f5f\"}}, \"ternary\": {\"aaxis\": {\"gridcolor\": \"white\", \"linecolor\": \"white\", \"ticks\": \"\"}, \"baxis\": {\"gridcolor\": \"white\", \"linecolor\": \"white\", \"ticks\": \"\"}, \"bgcolor\": \"#E5ECF6\", \"caxis\": {\"gridcolor\": \"white\", \"linecolor\": \"white\", \"ticks\": \"\"}}, \"title\": {\"x\": 0.05}, \"xaxis\": {\"automargin\": true, \"gridcolor\": \"white\", \"linecolor\": \"white\", \"ticks\": \"\", \"title\": {\"standoff\": 15}, \"zerolinecolor\": \"white\", \"zerolinewidth\": 2}, \"yaxis\": {\"automargin\": true, \"gridcolor\": \"white\", \"linecolor\": \"white\", \"ticks\": \"\", \"title\": {\"standoff\": 15}, \"zerolinecolor\": \"white\", \"zerolinewidth\": 2}}}, \"title\": {\"font\": {\"color\": \"#4D5663\"}}, \"xaxis\": {\"anchor\": \"y\", \"domain\": [0.0, 0.2125], \"gridcolor\": \"#E1E5ED\", \"showgrid\": false, \"tickfont\": {\"color\": \"#4D5663\"}, \"title\": {\"font\": {\"color\": \"#4D5663\"}, \"text\": \"\"}, \"zerolinecolor\": \"#E1E5ED\"}, \"xaxis10\": {\"anchor\": \"y10\", \"domain\": [0.2625, 0.475], \"gridcolor\": \"#E1E5ED\", \"showgrid\": false, \"tickfont\": {\"color\": \"#4D5663\"}, \"title\": {\"font\": {\"color\": \"#4D5663\"}, \"text\": \"\"}, \"zerolinecolor\": \"#E1E5ED\"}, \"xaxis11\": {\"anchor\": \"y11\", \"domain\": [0.525, 0.7375], \"gridcolor\": \"#E1E5ED\", \"showgrid\": false, \"tickfont\": {\"color\": \"#4D5663\"}, \"title\": {\"font\": {\"color\": \"#4D5663\"}, \"text\": \"\"}, \"zerolinecolor\": \"#E1E5ED\"}, \"xaxis12\": {\"anchor\": \"y12\", \"domain\": [0.7875, 1.0], \"gridcolor\": \"#E1E5ED\", \"showgrid\": false, \"tickfont\": {\"color\": \"#4D5663\"}, \"title\": {\"font\": {\"color\": \"#4D5663\"}, \"text\": \"\"}, \"zerolinecolor\": \"#E1E5ED\"}, \"xaxis13\": {\"anchor\": \"y13\", \"domain\": [0.0, 0.2125], \"gridcolor\": \"#E1E5ED\", \"showgrid\": false, \"tickfont\": {\"color\": \"#4D5663\"}, \"title\": {\"font\": {\"color\": \"#4D5663\"}, \"text\": \"\"}, \"zerolinecolor\": \"#E1E5ED\"}, \"xaxis14\": {\"anchor\": \"y14\", \"domain\": [0.2625, 0.475], \"gridcolor\": \"#E1E5ED\", \"showgrid\": false, \"tickfont\": {\"color\": \"#4D5663\"}, \"title\": {\"font\": {\"color\": \"#4D5663\"}, \"text\": \"\"}, \"zerolinecolor\": \"#E1E5ED\"}, \"xaxis15\": {\"anchor\": \"y15\", \"domain\": [0.525, 0.7375], \"gridcolor\": \"#E1E5ED\", \"showgrid\": false, \"tickfont\": {\"color\": \"#4D5663\"}, \"title\": {\"font\": {\"color\": \"#4D5663\"}, \"text\": \"\"}, \"zerolinecolor\": \"#E1E5ED\"}, \"xaxis16\": {\"anchor\": \"y16\", \"domain\": [0.7875, 1.0], \"gridcolor\": \"#E1E5ED\", \"showgrid\": false, \"tickfont\": {\"color\": \"#4D5663\"}, \"title\": {\"font\": {\"color\": \"#4D5663\"}, \"text\": \"\"}, \"zerolinecolor\": \"#E1E5ED\"}, \"xaxis2\": {\"anchor\": \"y2\", \"domain\": [0.2625, 0.475], \"gridcolor\": \"#E1E5ED\", \"showgrid\": false, \"tickfont\": {\"color\": \"#4D5663\"}, \"title\": {\"font\": {\"color\": \"#4D5663\"}, \"text\": \"\"}, \"zerolinecolor\": \"#E1E5ED\"}, \"xaxis3\": {\"anchor\": \"y3\", \"domain\": [0.525, 0.7375], \"gridcolor\": \"#E1E5ED\", \"showgrid\": false, \"tickfont\": {\"color\": \"#4D5663\"}, \"title\": {\"font\": {\"color\": \"#4D5663\"}, \"text\": \"\"}, \"zerolinecolor\": \"#E1E5ED\"}, \"xaxis4\": {\"anchor\": \"y4\", \"domain\": [0.7875, 1.0], \"gridcolor\": \"#E1E5ED\", \"showgrid\": false, \"tickfont\": {\"color\": \"#4D5663\"}, \"title\": {\"font\": {\"color\": \"#4D5663\"}, \"text\": \"\"}, \"zerolinecolor\": \"#E1E5ED\"}, \"xaxis5\": {\"anchor\": \"y5\", \"domain\": [0.0, 0.2125], \"gridcolor\": \"#E1E5ED\", \"showgrid\": false, \"tickfont\": {\"color\": \"#4D5663\"}, \"title\": {\"font\": {\"color\": \"#4D5663\"}, \"text\": \"\"}, \"zerolinecolor\": \"#E1E5ED\"}, \"xaxis6\": {\"anchor\": \"y6\", \"domain\": [0.2625, 0.475], \"gridcolor\": \"#E1E5ED\", \"showgrid\": false, \"tickfont\": {\"color\": \"#4D5663\"}, \"title\": {\"font\": {\"color\": \"#4D5663\"}, \"text\": \"\"}, \"zerolinecolor\": \"#E1E5ED\"}, \"xaxis7\": {\"anchor\": \"y7\", \"domain\": [0.525, 0.7375], \"gridcolor\": \"#E1E5ED\", \"showgrid\": false, \"tickfont\": {\"color\": \"#4D5663\"}, \"title\": {\"font\": {\"color\": \"#4D5663\"}, \"text\": \"\"}, \"zerolinecolor\": \"#E1E5ED\"}, \"xaxis8\": {\"anchor\": \"y8\", \"domain\": [0.7875, 1.0], \"gridcolor\": \"#E1E5ED\", \"showgrid\": false, \"tickfont\": {\"color\": \"#4D5663\"}, \"title\": {\"font\": {\"color\": \"#4D5663\"}, \"text\": \"\"}, \"zerolinecolor\": \"#E1E5ED\"}, \"xaxis9\": {\"anchor\": \"y9\", \"domain\": [0.0, 0.2125], \"gridcolor\": \"#E1E5ED\", \"showgrid\": false, \"tickfont\": {\"color\": \"#4D5663\"}, \"title\": {\"font\": {\"color\": \"#4D5663\"}, \"text\": \"\"}, \"zerolinecolor\": \"#E1E5ED\"}, \"yaxis\": {\"anchor\": \"x\", \"domain\": [0.8025, 1.0], \"gridcolor\": \"#E1E5ED\", \"showgrid\": false, \"tickfont\": {\"color\": \"#4D5663\"}, \"title\": {\"font\": {\"color\": \"#4D5663\"}, \"text\": \"\"}, \"zerolinecolor\": \"#E1E5ED\"}, \"yaxis10\": {\"anchor\": \"x10\", \"domain\": [0.2675, 0.465], \"gridcolor\": \"#E1E5ED\", \"showgrid\": false, \"tickfont\": {\"color\": \"#4D5663\"}, \"title\": {\"font\": {\"color\": \"#4D5663\"}, \"text\": \"\"}, \"zerolinecolor\": \"#E1E5ED\"}, \"yaxis11\": {\"anchor\": \"x11\", \"domain\": [0.2675, 0.465], \"gridcolor\": \"#E1E5ED\", \"showgrid\": false, \"tickfont\": {\"color\": \"#4D5663\"}, \"title\": {\"font\": {\"color\": \"#4D5663\"}, \"text\": \"\"}, \"zerolinecolor\": \"#E1E5ED\"}, \"yaxis12\": {\"anchor\": \"x12\", \"domain\": [0.2675, 0.465], \"gridcolor\": \"#E1E5ED\", \"showgrid\": false, \"tickfont\": {\"color\": \"#4D5663\"}, \"title\": {\"font\": {\"color\": \"#4D5663\"}, \"text\": \"\"}, \"zerolinecolor\": \"#E1E5ED\"}, \"yaxis13\": {\"anchor\": \"x13\", \"domain\": [0.0, 0.1975], \"gridcolor\": \"#E1E5ED\", \"showgrid\": false, \"tickfont\": {\"color\": \"#4D5663\"}, \"title\": {\"font\": {\"color\": \"#4D5663\"}, \"text\": \"\"}, \"zerolinecolor\": \"#E1E5ED\"}, \"yaxis14\": {\"anchor\": \"x14\", \"domain\": [0.0, 0.1975], \"gridcolor\": \"#E1E5ED\", \"showgrid\": false, \"tickfont\": {\"color\": \"#4D5663\"}, \"title\": {\"font\": {\"color\": \"#4D5663\"}, \"text\": \"\"}, \"zerolinecolor\": \"#E1E5ED\"}, \"yaxis15\": {\"anchor\": \"x15\", \"domain\": [0.0, 0.1975], \"gridcolor\": \"#E1E5ED\", \"showgrid\": false, \"tickfont\": {\"color\": \"#4D5663\"}, \"title\": {\"font\": {\"color\": \"#4D5663\"}, \"text\": \"\"}, \"zerolinecolor\": \"#E1E5ED\"}, \"yaxis16\": {\"anchor\": \"x16\", \"domain\": [0.0, 0.1975], \"gridcolor\": \"#E1E5ED\", \"showgrid\": false, \"tickfont\": {\"color\": \"#4D5663\"}, \"title\": {\"font\": {\"color\": \"#4D5663\"}, \"text\": \"\"}, \"zerolinecolor\": \"#E1E5ED\"}, \"yaxis2\": {\"anchor\": \"x2\", \"domain\": [0.8025, 1.0], \"gridcolor\": \"#E1E5ED\", \"showgrid\": false, \"tickfont\": {\"color\": \"#4D5663\"}, \"title\": {\"font\": {\"color\": \"#4D5663\"}, \"text\": \"\"}, \"zerolinecolor\": \"#E1E5ED\"}, \"yaxis3\": {\"anchor\": \"x3\", \"domain\": [0.8025, 1.0], \"gridcolor\": \"#E1E5ED\", \"showgrid\": false, \"tickfont\": {\"color\": \"#4D5663\"}, \"title\": {\"font\": {\"color\": \"#4D5663\"}, \"text\": \"\"}, \"zerolinecolor\": \"#E1E5ED\"}, \"yaxis4\": {\"anchor\": \"x4\", \"domain\": [0.8025, 1.0], \"gridcolor\": \"#E1E5ED\", \"showgrid\": false, \"tickfont\": {\"color\": \"#4D5663\"}, \"title\": {\"font\": {\"color\": \"#4D5663\"}, \"text\": \"\"}, \"zerolinecolor\": \"#E1E5ED\"}, \"yaxis5\": {\"anchor\": \"x5\", \"domain\": [0.535, 0.7325], \"gridcolor\": \"#E1E5ED\", \"showgrid\": false, \"tickfont\": {\"color\": \"#4D5663\"}, \"title\": {\"font\": {\"color\": \"#4D5663\"}, \"text\": \"\"}, \"zerolinecolor\": \"#E1E5ED\"}, \"yaxis6\": {\"anchor\": \"x6\", \"domain\": [0.535, 0.7325], \"gridcolor\": \"#E1E5ED\", \"showgrid\": false, \"tickfont\": {\"color\": \"#4D5663\"}, \"title\": {\"font\": {\"color\": \"#4D5663\"}, \"text\": \"\"}, \"zerolinecolor\": \"#E1E5ED\"}, \"yaxis7\": {\"anchor\": \"x7\", \"domain\": [0.535, 0.7325], \"gridcolor\": \"#E1E5ED\", \"showgrid\": false, \"tickfont\": {\"color\": \"#4D5663\"}, \"title\": {\"font\": {\"color\": \"#4D5663\"}, \"text\": \"\"}, \"zerolinecolor\": \"#E1E5ED\"}, \"yaxis8\": {\"anchor\": \"x8\", \"domain\": [0.535, 0.7325], \"gridcolor\": \"#E1E5ED\", \"showgrid\": false, \"tickfont\": {\"color\": \"#4D5663\"}, \"title\": {\"font\": {\"color\": \"#4D5663\"}, \"text\": \"\"}, \"zerolinecolor\": \"#E1E5ED\"}, \"yaxis9\": {\"anchor\": \"x9\", \"domain\": [0.2675, 0.465], \"gridcolor\": \"#E1E5ED\", \"showgrid\": false, \"tickfont\": {\"color\": \"#4D5663\"}, \"title\": {\"font\": {\"color\": \"#4D5663\"}, \"text\": \"\"}, \"zerolinecolor\": \"#E1E5ED\"}},                        {\"showLink\": true, \"linkText\": \"Export to plot.ly\", \"plotlyServerURL\": \"https://plot.ly\", \"responsive\": true}                    ).then(function(){\n",
       "                            \n",
       "var gd = document.getElementById('8bac8f16-5efe-4bb6-8c4d-5ff161a1d32a');\n",
       "var x = new MutationObserver(function (mutations, observer) {{\n",
       "        var display = window.getComputedStyle(gd).display;\n",
       "        if (!display || display === 'none') {{\n",
       "            console.log([gd, 'removed!']);\n",
       "            Plotly.purge(gd);\n",
       "            observer.disconnect();\n",
       "        }}\n",
       "}});\n",
       "\n",
       "// Listen for the removal of the full notebook cells\n",
       "var notebookContainer = gd.closest('#notebook-container');\n",
       "if (notebookContainer) {{\n",
       "    x.observe(notebookContainer, {childList: true});\n",
       "}}\n",
       "\n",
       "// Listen for the clearing of the current output cell\n",
       "var outputEl = gd.closest('.output');\n",
       "if (outputEl) {{\n",
       "    x.observe(outputEl, {childList: true});\n",
       "}}\n",
       "\n",
       "                        })                };                });            </script>        </div>"
      ]
     },
     "metadata": {},
     "output_type": "display_data"
    }
   ],
   "source": [
    "df.scatter_matrix()"
   ]
  },
  {
   "cell_type": "markdown",
   "metadata": {},
   "source": [
    "# Great Job!"
   ]
  }
 ],
 "metadata": {
  "kernelspec": {
   "display_name": "Python 3",
   "language": "python",
   "name": "python3"
  },
  "language_info": {
   "codemirror_mode": {
    "name": "ipython",
    "version": 3
   },
   "file_extension": ".py",
   "mimetype": "text/x-python",
   "name": "python",
   "nbconvert_exporter": "python",
   "pygments_lexer": "ipython3",
   "version": "3.8.5"
  }
 },
 "nbformat": 4,
 "nbformat_minor": 4
}
