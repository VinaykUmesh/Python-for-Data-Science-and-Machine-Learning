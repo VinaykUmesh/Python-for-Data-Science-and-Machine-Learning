{
 "cells": [
  {
   "cell_type": "markdown",
   "metadata": {},
   "source": [
    "# Object Oriented Programing\n",
    "\n",
    "# Principles\n",
    "    1) Encapsulate the data (attributes) and code (methods) into object.\n",
    "    2) Class = template or blueprint that can be used to create object.\n",
    "    3) An object is specific instance of a class.\n",
    "    4) Inheritance : OOP allows classes to inherit commonly used and behaviour from other classes. Reduces code duplication.\n",
    "    5) Polymorphism: (usually obtained through polymorphism) calling code is agnostic as to whether an object belongs to a parent class or one of its descendants (abstraction,modularity). The same method called on 2 objects of 2 different classes will behave differently."
   ]
  },
  {
   "cell_type": "code",
   "execution_count": 2,
   "metadata": {},
   "outputs": [],
   "source": [
    "import math\n",
    "class Shape2D:\n",
    "    def area(self):\n",
    "        raise NotImplementedError()\n",
    "# __init__ is a special method called the constructor\n",
    "# Inheritance + Encapsulation\n",
    "class Square(Shape2D):\n",
    "    def __init__(self, width):\n",
    "        self.width = width\n",
    "    def area(self): return self.width **2\n",
    "class Disk(Shape2D):\n",
    "    def __init__(self, radius):\n",
    "        self.radius = radius\n",
    "    def area(self):\n",
    "        return math.pi * self.radius ** 2\n",
    "shapes = [Square(2), Disk(3)]"
   ]
  },
  {
   "cell_type": "code",
   "execution_count": 5,
   "metadata": {},
   "outputs": [
    {
     "name": "stdout",
     "output_type": "stream",
     "text": [
      "NotImplementedError\n",
      "NotImplementedError\n"
     ]
    }
   ],
   "source": [
    "# Polymorphism print([s.area()\n",
    "for s in shapes:\n",
    "    s = Shape2D() \n",
    "    try:\n",
    "        s.area()\n",
    "    except NotImplementedError as e: \n",
    "        print(\"NotImplementedError\")"
   ]
  }
 ],
 "metadata": {
  "kernelspec": {
   "display_name": "Python 3",
   "language": "python",
   "name": "python3"
  },
  "language_info": {
   "codemirror_mode": {
    "name": "ipython",
    "version": 3
   },
   "file_extension": ".py",
   "mimetype": "text/x-python",
   "name": "python",
   "nbconvert_exporter": "python",
   "pygments_lexer": "ipython3",
   "version": "3.8.2"
  }
 },
 "nbformat": 4,
 "nbformat_minor": 4
}
